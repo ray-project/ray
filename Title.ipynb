{
 "cells": [
  {
   "cell_type": "code",
   "execution_count": 1,
   "id": "7b9fcbdb",
   "metadata": {},
   "outputs": [
    {
     "name": "stdout",
     "output_type": "stream",
     "text": [
      "(interactive_shell) /Users/sangbincho/anaconda3/envs/core/bin/python -m ipykernel_launcher -f /Users/sangbincho/Library/Jupyter/runtime/kernel-fe89335e-a984-47ca-9038-ab4e66446ffe.json\n"
     ]
    }
   ],
   "source": [
    "from ray._private.utils import get_entrypoint_name\n",
    "print(get_entrypoint_name())"
   ]
  }
 ],
 "metadata": {
  "kernelspec": {
   "display_name": "Python 3 (ipykernel)",
   "language": "python",
   "name": "python3"
  },
  "language_info": {
   "codemirror_mode": {
    "name": "ipython",
    "version": 3
   },
   "file_extension": ".py",
   "mimetype": "text/x-python",
   "name": "python",
   "nbconvert_exporter": "python",
   "pygments_lexer": "ipython3",
   "version": "3.8.13"
  }
 },
 "nbformat": 4,
 "nbformat_minor": 5
}
