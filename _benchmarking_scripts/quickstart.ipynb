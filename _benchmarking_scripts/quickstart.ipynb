{
 "cells": [
  {
   "cell_type": "code",
   "execution_count": 1,
   "metadata": {},
   "outputs": [],
   "source": [
    "# To run on Anyscale Workspace:\n",
    "# Use nightly image (anyscale/ray:nightly-py311-cu124)\n",
    "# Don't use VLLM_USE_V1=1\n",
    "# python python/ray/setup-dev.py (only serve, llm, serve/llm)\n",
    "# ray start --head --system-config='{\"metrics_report_interval_ms\": 100}' --port 5000 --metrics-export-port 5001 --dashboard-port 5002\n",
    "\n",
    "# Set up benchmarking environment\n",
    "# pip install vllm==0.8.5 (0.9.0 doesn't work with VLLM_USE_V1)\n",
    "\n",
    "# # Hacky fix to regenerate serve_pb2 (since nightly didn't generate):\n",
    "# ci/env/install-bazel.sh\n",
    "# cd ~/bin/\n",
    "# export PATH=\"$HOME/bin:$PATH\"\n",
    "# bazel --version\n",
    "# cd ~/default/work/ray\n",
    "# bazel build //:install_py_proto\n",
    "\n",
    "# Unit tests\n",
    "# pip install -c python/requirements_compiled.txt -r python/requirements/test-requirements.txt\n",
    "# pip install -r python/requirements/llm/llm-requirements.txt -r python/requirements/llm/llm-test-requirements.txt\n",
    "\n",
    "# Linting\n",
    "# pip install black==22.10.0\n",
    "# pip install -c python/requirements_compiled.txt -r python/requirements/lint-requirements.txt\n",
    "# scripts/format.sh\n",
    "# ./ci/lint/lint.sh pre_commit\n",
    "\n",
    "# Single query\n",
    "# serve run ../_testing/config.yaml\n",
    "# Query the OpenAI App using the client below\n",
    "# curl http://0.0.0.0:8000/metrics\n",
    "\n",
    "# Benchmark\n",
    "# python sweep_strategies.py\n",
    "# Analyze results in ../shared/visualize_results.ipynb"
   ]
  },
  {
   "cell_type": "code",
   "execution_count": null,
   "metadata": {},
   "outputs": [],
   "source": [
    "# curl -X POST http://localhost:8000/v1/completions \\\n",
    "#     -H \"Content-Type: application/json\" \\\n",
    "#     -d '{\"model\":\"qwen-0.5b\",\"prompt\":\"Why is the sky blue?\",\"max_tokens\":50, \"stream\": false}'"
   ]
  },
  {
   "cell_type": "code",
   "execution_count": null,
   "metadata": {},
   "outputs": [],
   "source": []
  }
 ],
 "metadata": {
  "kernelspec": {
   "display_name": "base",
   "language": "python",
   "name": "python3"
  },
  "language_info": {
   "codemirror_mode": {
    "name": "ipython",
    "version": 3
   },
   "file_extension": ".py",
   "mimetype": "text/x-python",
   "name": "python",
   "nbconvert_exporter": "python",
   "pygments_lexer": "ipython3",
   "version": "3.11.11"
  }
 },
 "nbformat": 4,
 "nbformat_minor": 2
}
