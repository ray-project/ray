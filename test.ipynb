{
 "cells": [
  {
   "cell_type": "code",
   "execution_count": 9,
   "metadata": {},
   "outputs": [
    {
     "name": "stdout",
     "output_type": "stream",
     "text": [
      "Traceback (most recent call last):\n",
      "  File \"/tmp/ipykernel_986862/917103420.py\", line 10, in <module>\n",
      "    train()\n",
      "  File \"/tmp/ipykernel_986862/917103420.py\", line 5, in train\n",
      "    func()\n",
      "  File \"/tmp/ipykernel_986862/917103420.py\", line 2, in func\n",
      "    raise RuntimeError(\"AIUWHF\")\n",
      "RuntimeError: AIUWHF\n",
      "\n"
     ]
    }
   ],
   "source": [
    "def func():\n",
    "    raise RuntimeError(\"AIUWHF\")\n",
    "\n",
    "def train():\n",
    "    func()\n",
    "\n",
    "import traceback\n",
    "\n",
    "try:\n",
    "    train()\n",
    "except Exception as e:\n",
    "    s = traceback.format_exc()    \n",
    "\n",
    "print(s[-100000:])\n"
   ]
  },
  {
   "cell_type": "code",
   "execution_count": null,
   "metadata": {},
   "outputs": [],
   "source": []
  }
 ],
 "metadata": {
  "kernelspec": {
   "display_name": "build",
   "language": "python",
   "name": "python3"
  },
  "language_info": {
   "codemirror_mode": {
    "name": "ipython",
    "version": 3
   },
   "file_extension": ".py",
   "mimetype": "text/x-python",
   "name": "python",
   "nbconvert_exporter": "python",
   "pygments_lexer": "ipython3",
   "version": "3.9.18"
  }
 },
 "nbformat": 4,
 "nbformat_minor": 2
}
