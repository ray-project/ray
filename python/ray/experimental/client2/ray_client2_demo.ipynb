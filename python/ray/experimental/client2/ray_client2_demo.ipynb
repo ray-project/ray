{
 "cells": [
  {
   "cell_type": "markdown",
   "id": "c2d65cf4",
   "metadata": {},
   "source": [
    "# Ray Client2 demo\n",
    "\n",
    "This is the experimental Ray Client2. It's HTTP-based, meaning a client only talks to the ray cluster (ray dashboard head) via HTTP, and does not have a local raylet, or core worker, or grpc client connected.\n",
    "\n",
    "This new client aim to solve these pain points on the existing Ray Client:\n",
    "\n",
    "- It's huge: `ray/util/client` has more than 20,000 lines of code, with more lines scattered elsewhere\n",
    "- It's intrusive: all supported Ray APIs has a `@client_mode_hook` and presents in stacktrace\n",
    "- (By default) it breaks when the connection breaks, bringing down all running tasks\n",
    "- Version skew: things silently go down when you use a library with different version on client/server.\n",
    "\n",
    "while still keep these merits of the old Client:\n",
    "\n",
    "- Familiar API: Same `@ray.remote` as in job code\n"
   ]
  },
  {
   "cell_type": "markdown",
   "id": "667544a0",
   "metadata": {},
   "source": [
    "## Create a client\n",
    "\n",
    "Just create a `Client`. It creates a Ray Job, runs an Actor named `ClientSupervisor` that manages objects, tasks and actors for you.\n",
    "\n",
    "Parameters:\n",
    "- `server_addr`: dashboard address.\n",
    "- `runtime_env`: string or dict. Default = None.\n",
    "- `ttl_secs`: int. Default = 1hr. If the client breaks after this long, the server kills the job."
   ]
  },
  {
   "cell_type": "code",
   "execution_count": 1,
   "id": "56625c16",
   "metadata": {},
   "outputs": [
    {
     "name": "stderr",
     "output_type": "stream",
     "text": [
      "2024-01-04 23:25:48,164\tINFO client.py:459 -- client2 actor rayclient2_RMje3D5sACzuWHbH not connected, maybe the ClientSupervisor is still starting...\n",
      "2024-01-04 23:25:49,197\tINFO client.py:259 -- client2 actor rayclient2_RMje3D5sACzuWHbH connected!\n"
     ]
    }
   ],
   "source": [
    "import ray\n",
    "from ray.experimental.client2.client import Client\n",
    "\n",
    "c = Client(\"http://localhost:8265\")"
   ]
  },
  {
   "cell_type": "markdown",
   "id": "8928a5d7",
   "metadata": {},
   "source": [
    "## The active client\n",
    "\n",
    "On connection, 1 thread is created to keep pinging the actor to keep it alive; 1 thread is created to poll the logs and forward to `stdout`/`stderr`.\n",
    "\n",
    "Only one client can be active at a time. A second client would fail to create. You can disconnect the current client, after which you can create a new client. All existing object refs and actor handles are invalidated though.\n",
    "\n",
    "The active client can be retrieved via `Client.active_client`."
   ]
  },
  {
   "cell_type": "code",
   "execution_count": 2,
   "id": "748746a8",
   "metadata": {},
   "outputs": [
    {
     "ename": "ValueError",
     "evalue": "Already have active client rayclient2_RMje3D5sACzuWHbH, consider `Client.active_client.disconnect()`.",
     "output_type": "error",
     "traceback": [
      "\u001b[0;31m---------------------------------------------------------------------------\u001b[0m",
      "\u001b[0;31mValueError\u001b[0m                                Traceback (most recent call last)",
      "Cell \u001b[0;32mIn[2], line 2\u001b[0m\n\u001b[1;32m      1\u001b[0m \u001b[38;5;66;03m# raises\u001b[39;00m\n\u001b[0;32m----> 2\u001b[0m another \u001b[38;5;241m=\u001b[39m \u001b[43mClient\u001b[49m\u001b[43m(\u001b[49m\u001b[38;5;124;43m\"\u001b[39;49m\u001b[38;5;124;43mhttp://localhost:8265\u001b[39;49m\u001b[38;5;124;43m\"\u001b[39;49m\u001b[43m)\u001b[49m\n",
      "File \u001b[0;32m~/gits/ray/python/ray/experimental/client2/client.py:243\u001b[0m, in \u001b[0;36mClient.__init__\u001b[0;34m(self, server_addr, runtime_env, ttl_secs)\u001b[0m\n\u001b[1;32m    240\u001b[0m \u001b[38;5;28mself\u001b[39m\u001b[38;5;241m.\u001b[39mruntime_env \u001b[38;5;241m=\u001b[39m runtime_env\n\u001b[1;32m    241\u001b[0m \u001b[38;5;28mself\u001b[39m\u001b[38;5;241m.\u001b[39mttl_secs \u001b[38;5;241m=\u001b[39m ttl_secs\n\u001b[0;32m--> 243\u001b[0m \u001b[38;5;28;43mself\u001b[39;49m\u001b[38;5;241;43m.\u001b[39;49m\u001b[43mcheck_no_active_client_or_ray\u001b[49m\u001b[43m(\u001b[49m\u001b[43m)\u001b[49m\n\u001b[1;32m    244\u001b[0m \u001b[38;5;28mself\u001b[39m\u001b[38;5;241m.\u001b[39mcreate_and_connect()\n",
      "File \u001b[0;32m~/gits/ray/python/ray/experimental/client2/client.py:468\u001b[0m, in \u001b[0;36mClient.check_no_active_client_or_ray\u001b[0;34m(self)\u001b[0m\n\u001b[1;32m    466\u001b[0m \u001b[38;5;28;01mdef\u001b[39;00m \u001b[38;5;21mcheck_no_active_client_or_ray\u001b[39m(\u001b[38;5;28mself\u001b[39m):\n\u001b[1;32m    467\u001b[0m     \u001b[38;5;28;01mif\u001b[39;00m Client\u001b[38;5;241m.\u001b[39mactive_client \u001b[38;5;129;01mis\u001b[39;00m \u001b[38;5;129;01mnot\u001b[39;00m \u001b[38;5;28;01mNone\u001b[39;00m:\n\u001b[0;32m--> 468\u001b[0m         \u001b[38;5;28;01mraise\u001b[39;00m \u001b[38;5;167;01mValueError\u001b[39;00m(\n\u001b[1;32m    469\u001b[0m             \u001b[38;5;124mf\u001b[39m\u001b[38;5;124m\"\u001b[39m\u001b[38;5;124mAlready have active client \u001b[39m\u001b[38;5;132;01m{\u001b[39;00mClient\u001b[38;5;241m.\u001b[39mactive_client\u001b[38;5;241m.\u001b[39mactor_name\u001b[38;5;132;01m}\u001b[39;00m\u001b[38;5;124m, \u001b[39m\u001b[38;5;124m\"\u001b[39m\n\u001b[1;32m    470\u001b[0m             \u001b[38;5;124m\"\u001b[39m\u001b[38;5;124mconsider `Client.active_client.disconnect()`.\u001b[39m\u001b[38;5;124m\"\u001b[39m\n\u001b[1;32m    471\u001b[0m         )\n\u001b[1;32m    472\u001b[0m     \u001b[38;5;28;01mif\u001b[39;00m ray\u001b[38;5;241m.\u001b[39mis_initialized():\n\u001b[1;32m    473\u001b[0m         \u001b[38;5;28;01mraise\u001b[39;00m \u001b[38;5;167;01mValueError\u001b[39;00m(\u001b[38;5;124m\"\u001b[39m\u001b[38;5;124mAlready connected to Ray, consider ray.shutdown().\u001b[39m\u001b[38;5;124m\"\u001b[39m)\n",
      "\u001b[0;31mValueError\u001b[0m: Already have active client rayclient2_RMje3D5sACzuWHbH, consider `Client.active_client.disconnect()`."
     ]
    }
   ],
   "source": [
    "# raises\n",
    "another = Client(\"http://localhost:8265\")"
   ]
  },
  {
   "cell_type": "code",
   "execution_count": 3,
   "id": "93a5a79f",
   "metadata": {},
   "outputs": [
    {
     "name": "stderr",
     "output_type": "stream",
     "text": [
      "2024-01-04 23:25:54,338\tINFO client.py:459 -- client2 actor rayclient2_zaciVxtWKJwMD3Bq not connected, maybe the ClientSupervisor is still starting...\n",
      "2024-01-04 23:25:55,358\tINFO client.py:259 -- client2 actor rayclient2_zaciVxtWKJwMD3Bq connected!\n"
     ]
    }
   ],
   "source": [
    "c.disconnect()\n",
    "c = Client(\"http://localhost:8265\")"
   ]
  },
  {
   "cell_type": "markdown",
   "id": "572613b1",
   "metadata": {},
   "source": [
    "## `get` and `put`\n",
    "\n",
    "These APIs are identical to the existing Ray APIs. Under the hood they are serialized and passed to the Dashboard head agent. The agent passes the serialized bytes to the actor `ClientSupervisor` verbatim; the actor deserializes it and works accordingly.\n",
    "\n",
    "`ObjectRef` and `ActorHandle` are treated specially; `ClientSupervisor` keeps a reference to each of them to avoid them being GC'd."
   ]
  },
  {
   "cell_type": "code",
   "execution_count": 4,
   "id": "dee045a8",
   "metadata": {},
   "outputs": [
    {
     "name": "stdout",
     "output_type": "stream",
     "text": [
      "ObjectRef(003155e5bdce4dc4d4c3af42d506433c3e97350f0400000001e1f505)\n"
     ]
    },
    {
     "data": {
      "text/plain": [
       "8"
      ]
     },
     "execution_count": 4,
     "metadata": {},
     "output_type": "execute_result"
    }
   ],
   "source": [
    "eight = ray.put(8)\n",
    "print(eight)\n",
    "ray.get(eight)"
   ]
  },
  {
   "cell_type": "code",
   "execution_count": 5,
   "id": "d5eaf7af",
   "metadata": {},
   "outputs": [
    {
     "data": {
      "text/plain": [
       "ObjectRef(003155e5bdce4dc4d4c3af42d506433c3e97350f0400000002e1f505)"
      ]
     },
     "execution_count": 5,
     "metadata": {},
     "output_type": "execute_result"
    }
   ],
   "source": [
    "# Classes are OK, embedded ObjectRef are OK\n",
    "class Data:\n",
    "    def __init__(self, o, i):\n",
    "        self.o = o\n",
    "        self.i = i\n",
    "\n",
    "d = Data(eight, 8)\n",
    "dr = ray.put(d)\n",
    "dr"
   ]
  },
  {
   "cell_type": "code",
   "execution_count": 6,
   "id": "4eda47f4",
   "metadata": {},
   "outputs": [
    {
     "name": "stdout",
     "output_type": "stream",
     "text": [
      "ObjectRef(003155e5bdce4dc4d4c3af42d506433c3e97350f0400000001e1f505)\n",
      "8\n"
     ]
    }
   ],
   "source": [
    "d2 = ray.get(dr)\n",
    "print(d2.o)\n",
    "print(d2.i)"
   ]
  },
  {
   "cell_type": "markdown",
   "id": "3a7253eb",
   "metadata": {},
   "source": [
    "## Tasks and Actors\n",
    "\n",
    "Still we use good old `ray.remote` APIs. The whole function / class body are serialzied, passed via the agent head to the actor `ClientSupervisor`. The actor invokes the function / class creation / method invocation, and returns the object ref(s).\n",
    "\n",
    "All print logs from any tasks or methods are forwarded to the client."
   ]
  },
  {
   "cell_type": "code",
   "execution_count": 7,
   "id": "0ab19ce3",
   "metadata": {},
   "outputs": [
    {
     "name": "stdout",
     "output_type": "stream",
     "text": [
      "\u001b[36m(fib pid=95297, ip=127.0.0.1)\u001b[0m fib(5)\n",
      "8\n",
      "\u001b[36m(fib pid=95524, ip=127.0.0.1)\u001b[0m fib(0)\n"
     ]
    }
   ],
   "source": [
    "@ray.remote\n",
    "def fib(i):\n",
    "    # FIXME: for some reason, not all logs are reported back, if the\n",
    "    # task ran too shortly their logs vanish. Do ray jobs also have this?\n",
    "    print(f'fib({i})')\n",
    "    if i < 2:\n",
    "        return 1\n",
    "    ret = sum(ray.get([fib.remote(i-1), fib.remote(i-2)]))\n",
    "    return ret\n",
    "\n",
    "print(ray.get(fib.remote(5)))"
   ]
  },
  {
   "cell_type": "code",
   "execution_count": 8,
   "id": "63f6fc01",
   "metadata": {},
   "outputs": [
    {
     "name": "stdout",
     "output_type": "stream",
     "text": [
      "2\n",
      "7\n",
      "\u001b[36m(Counter pid=95546, ip=127.0.0.1)\u001b[0m initing actor with 2\n",
      "\u001b[36m(Counter pid=95546, ip=127.0.0.1)\u001b[0m incrementing 2 + 5 == 7\n",
      "\u001b[36m(Counter pid=95546, ip=127.0.0.1)\u001b[0m incrementing 7 + 10 == 17\n"
     ]
    }
   ],
   "source": [
    "@ray.remote\n",
    "class Counter:\n",
    "    def __init__(self, i):\n",
    "        print(f\"initing actor with {i}\")\n",
    "        self.i = i\n",
    "    def increment(self, j):\n",
    "        i = self.i\n",
    "        self.i += j\n",
    "        print(f\"incrementing {i} + {j} == {self.i}\")\n",
    "        return i\n",
    "        \n",
    "a = Counter.remote(2)\n",
    "two = a.increment.remote(5)\n",
    "print(ray.get(two))\n",
    "seven = a.increment.remote(10)\n",
    "print(ray.get(seven))"
   ]
  },
  {
   "cell_type": "markdown",
   "id": "0d522f11",
   "metadata": {},
   "source": [
    "## Other Ray APIs\n",
    "\n",
    "We want to explicitly support/unsupport all Ray (core) public APIs. For now we have the following list."
   ]
  },
  {
   "cell_type": "code",
   "execution_count": null,
   "id": "dffe7b6e",
   "metadata": {},
   "outputs": [],
   "source": [
    "# Redirected to the HTTP APIs\n",
    "SUPPORTED_APIS = [\n",
    "    \"ray_get\",\n",
    "    \"ray_put\",\n",
    "    \"ray_remotefunction_remote\",\n",
    "    \"ray_actorclass_remote\",\n",
    "    \"ray_actormethod_remote\",\n",
    "]\n",
    "\n",
    "# Raises exception when calling, with a help message\n",
    "UNSUPPORTED_APIS = [\n",
    "    (\"_config\", \"a wrapper ray task to run in remote\"),\n",
    "    (\"get_runtime_context\", \"a wrapper ray task to run in remote\"),\n",
    "    (\"client\", \"this new and shiny client2!\"),\n",
    "    (\"ClientBuilder\", \"this new and shiny client2!\"),\n",
    "    (\"get_gpu_ids\", \"a wrapper ray task to run in remote\"),\n",
    "    (\"init\", \"client = Client(addr)\"),\n",
    "    (\"shutdown\", \"Client.active_client.disconnect()\"),\n",
    "]\n",
    "\n",
    "\n",
    "# These APIs are useful in client2. They don't need server side change;\n",
    "# On client side make a simple task to wrap them.\n",
    "TODO_APIS = [\n",
    "    \"available_resources\",\n",
    "    \"cancel\",\n",
    "    \"cluster_resources\",\n",
    "    \"get_actor\",\n",
    "    \"kill\",\n",
    "    \"nodes\",\n",
    "    # For this one; if filename is set, we need to save the file to the client\n",
    "    # local disk. This involves some code more than a wrapper.\n",
    "    \"timeline\",\n",
    "    # For wait we need server side support to avoid useleses large data passing.\n",
    "    \"wait\",\n",
    "]\n",
    "\n",
    "# No change, becuase they don't interact with Ray cluster.\n",
    "VERBATIM_APIS = [\n",
    "    \"__version__\",\n",
    "    \"autoscaler\",  # What do we do with the packages?\n",
    "    \"is_initialized\",\n",
    "    \"java_actor_class\",  # TODO: understand if this can run\n",
    "    \"java_function\",  # TODO: understand if this can run\n",
    "    \"cpp_function\",  # TODO: understand if this can run\n",
    "    \"Language\",\n",
    "    \"method\",\n",
    "    \"remote\",  # Note: the decorator is not changed, the methods are changed.\n",
    "    \"show_in_dashboard\",  # This one is actually not in `ray` package...?\n",
    "    \"LOCAL_MODE\",\n",
    "    \"SCRIPT_MODE\",\n",
    "    \"WORKER_MODE\",\n",
    "]\n"
   ]
  },
  {
   "cell_type": "code",
   "execution_count": 9,
   "id": "4e88fc73",
   "metadata": {},
   "outputs": [
    {
     "ename": "ValueError",
     "evalue": "WARNING: You are using ray API: `ray.get_runtime_context` which can only be accessed within a Ray Cluster. You are in a Client context, consider using: `a wrapper ray task to run in remote`",
     "output_type": "error",
     "traceback": [
      "\u001b[0;31m---------------------------------------------------------------------------\u001b[0m",
      "\u001b[0;31mValueError\u001b[0m                                Traceback (most recent call last)",
      "Cell \u001b[0;32mIn[9], line 2\u001b[0m\n\u001b[1;32m      1\u001b[0m \u001b[38;5;66;03m# Raises\u001b[39;00m\n\u001b[0;32m----> 2\u001b[0m \u001b[43mray\u001b[49m\u001b[38;5;241;43m.\u001b[39;49m\u001b[43mget_runtime_context\u001b[49m\u001b[43m(\u001b[49m\u001b[43m)\u001b[49m\n",
      "File \u001b[0;32m~/gits/ray/python/ray/experimental/client2/client.py:557\u001b[0m, in \u001b[0;36mClient.warning_dont_use.<locals>.wrapped\u001b[0;34m(*args, **kwargs)\u001b[0m\n\u001b[1;32m    556\u001b[0m \u001b[38;5;28;01mdef\u001b[39;00m \u001b[38;5;21mwrapped\u001b[39m(\u001b[38;5;241m*\u001b[39margs, \u001b[38;5;241m*\u001b[39m\u001b[38;5;241m*\u001b[39mkwargs):\n\u001b[0;32m--> 557\u001b[0m     \u001b[38;5;28;01mraise\u001b[39;00m \u001b[38;5;167;01mValueError\u001b[39;00m(\n\u001b[1;32m    558\u001b[0m         \u001b[38;5;124mf\u001b[39m\u001b[38;5;124m\"\u001b[39m\u001b[38;5;124mWARNING: You are using ray API: `\u001b[39m\u001b[38;5;132;01m{\u001b[39;00mapi_name\u001b[38;5;132;01m}\u001b[39;00m\u001b[38;5;124m` which can \u001b[39m\u001b[38;5;124m\"\u001b[39m\n\u001b[1;32m    559\u001b[0m         \u001b[38;5;124m\"\u001b[39m\u001b[38;5;124monly be accessed within a Ray Cluster. You are in a \u001b[39m\u001b[38;5;124m\"\u001b[39m\n\u001b[1;32m    560\u001b[0m         \u001b[38;5;124mf\u001b[39m\u001b[38;5;124m\"\u001b[39m\u001b[38;5;132;01m{\u001b[39;00mmy_context_name\u001b[38;5;132;01m}\u001b[39;00m\u001b[38;5;124m context, consider using: `\u001b[39m\u001b[38;5;132;01m{\u001b[39;00msuggest_name\u001b[38;5;132;01m}\u001b[39;00m\u001b[38;5;124m`\u001b[39m\u001b[38;5;124m\"\u001b[39m\n\u001b[1;32m    561\u001b[0m     )\n",
      "\u001b[0;31mValueError\u001b[0m: WARNING: You are using ray API: `ray.get_runtime_context` which can only be accessed within a Ray Cluster. You are in a Client context, consider using: `a wrapper ray task to run in remote`"
     ]
    },
    {
     "name": "stderr",
     "output_type": "stream",
     "text": [
      "2024-01-04 23:26:49,218\tINFO client.py:608 -- Client rayclient2_RMje3D5sACzuWHbH is no longer active, stop pinging...\n"
     ]
    }
   ],
   "source": [
    "# Raises\n",
    "ray.get_runtime_context()"
   ]
  },
  {
   "cell_type": "markdown",
   "id": "ecca22ce",
   "metadata": {},
   "source": [
    "## Limitations\n",
    "\n",
    "Not working well with Ray Data, and persumably other Ray Libraries. This is because they are not merely calling the public Ray core APIs.\n",
    "\n",
    "For example, even \"printing\" a Dataset (which shows a Jupyter widget) calls these APIs:\n",
    "    \n",
    "- `ray.cluster_resources()`\n",
    "- `ray.available_resources()`\n",
    "- `ray.util.get_current_placement_group()`\n",
    "- `_get_or_create_stats_actor` which inspects the current node ID and starts an actor that affines to this node.\n",
    "\n",
    "And we can't mock out all these APIs, since after all we don't want to pretend the code is in a proper in-cluster environment.\n",
    "\n",
    "For now, we can ask users to put all code in a `@ray.remote` task, and pass the datasets by object ref. But this can get clumsy since even a `ds.schema()` needs to be\n",
    "\n",
    "```\n",
    "@ray.remote\n",
    "def call_schema(ds):\n",
    "    return ds.schema()\n",
    "ray.get(call_schema.remote(ds_ref))\n",
    "```\n",
    "\n",
    "So I provided an experimental helper method: `Client.run` (the name is subject to change). It wraps an ObjectRef and remotely invokes the method. So one can write\n",
    "\n",
    "```\n",
    "ray.get(c.run(ds_ref).schema())\n",
    "```\n",
    "\n",
    "Still this is far from fluency and we may want a better solution. But the old client does not support Data either. So maybe it's it."
   ]
  },
  {
   "cell_type": "code",
   "execution_count": 10,
   "id": "ea2d5bbf",
   "metadata": {},
   "outputs": [
    {
     "name": "stderr",
     "output_type": "stream",
     "text": [
      "\u001b[36m(ClientSupervisor pid=95363, ip=127.0.0.1)\u001b[0m INFO:numexpr.utils:Note: NumExpr detected 10 cores but \"NUMEXPR_MAX_THREADS\" not set, so enforcing safe limit of 8.\n"
     ]
    },
    {
     "data": {
      "text/plain": [
       "Column  Type\n",
       "------  ----\n",
       "image   numpy.ndarray(ndim=3, dtype=uint8)"
      ]
     },
     "execution_count": 10,
     "metadata": {},
     "output_type": "execute_result"
    }
   ],
   "source": [
    "@ray.remote\n",
    "def read_images():\n",
    "    s3_uri = \"s3://anonymous@air-example-data-2/imagenette2/val/\"\n",
    "\n",
    "    return ray.data.read_images(\n",
    "        s3_uri, mode=\"RGB\"\n",
    "    )\n",
    "\n",
    "ds = read_images.remote()\n",
    "\n",
    "# write more @ray.remote tasks and run them with `ds`.\n",
    "\n",
    "ray.get(c.run(ds).schema())"
   ]
  },
  {
   "cell_type": "markdown",
   "id": "01071150",
   "metadata": {},
   "source": [
    "## TODOs\n",
    "\n",
    "- implement more APIs, e.g. `ray.available_resources()` (See TODO_APIS above)\n",
    "- on version skew, or at least on Ray version skew, check __version__ and issue warnings (or exceptions)\n",
    "- Support large puts and args (Now it is 100MB in dashboard default config)\n",
    "- On large args, print helper message `you are in client! consider put and use object ref`\n"
   ]
  },
  {
   "cell_type": "code",
   "execution_count": null,
   "id": "9000fc3d",
   "metadata": {},
   "outputs": [],
   "source": []
  }
 ],
 "metadata": {
  "kernelspec": {
   "display_name": "Python 3 (ipykernel)",
   "language": "python",
   "name": "python3"
  },
  "language_info": {
   "codemirror_mode": {
    "name": "ipython",
    "version": 3
   },
   "file_extension": ".py",
   "mimetype": "text/x-python",
   "name": "python",
   "nbconvert_exporter": "python",
   "pygments_lexer": "ipython3",
   "version": "3.10.9"
  }
 },
 "nbformat": 4,
 "nbformat_minor": 5
}
