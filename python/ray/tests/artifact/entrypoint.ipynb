{
 "cells": [
  {
   "cell_type": "code",
   "execution_count": 1,
   "id": "6eaba3b3",
   "metadata": {},
   "outputs": [
    {
     "name": "stdout",
     "output_type": "stream",
     "text": [
      "result: (interactive_shell) /Users/sangbincho/anaconda3/envs/core/bin/python -m ipykernel_launcher -f /Users/sangbincho/Library/Jupyter/runtime/kernel-1e59bb5d-01f5-46c5-8509-97603c210dbb.json\n"
     ]
    }
   ],
   "source": [
    "from ray._private.utils import get_entrypoint_name\n",
    "print(\"result:\", get_entrypoint_name())\n",
    "print(\"abc\")"
   ]
  }
 ],
 "metadata": {
  "kernelspec": {
   "display_name": "Python 3 (ipykernel)",
   "language": "python",
   "name": "python3"
  },
  "language_info": {
   "codemirror_mode": {
    "name": "ipython",
    "version": 3
   },
   "file_extension": ".py",
   "mimetype": "text/x-python",
   "name": "python",
   "nbconvert_exporter": "python",
   "pygments_lexer": "ipython3",
   "version": "3.8.13"
  }
 },
 "nbformat": 4,
 "nbformat_minor": 5
}
