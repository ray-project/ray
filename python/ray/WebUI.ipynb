{
 "cells": [
  {
   "cell_type": "markdown",
   "metadata": {
    "hideCode": true,
    "hidePrompt": false
   },
   "source": [
    "### Ray UI."
   ]
  },
  {
   "cell_type": "markdown",
   "metadata": {
    "hideCode": false,
    "hidePrompt": false
   },
   "source": [
    "#### To run the UI: \n",
    "1. Kernel -> Restart and Run All \n",
    "\n",
    "\n",
    "#### To hide the code:\n",
    "\n",
    "1. Install the hide_code extension.\n",
    "```\n",
    "pip install hide_code\n",
    "jupyter nbextension install --py hide_code\n",
    "jupyter nbextension enable --py hide_code\n",
    "jupyter serverextension enable --py hide_code\n",
    "```\n",
    "2. Go to View -> Cell Toolbar -> Hide Code. \n",
    "3. Press ESC then T"
   ]
  },
  {
   "cell_type": "code",
   "execution_count": null,
   "metadata": {
    "collapsed": true,
    "hideCode": false,
    "hidePrompt": false
   },
   "outputs": [],
   "source": [
    "import ipywidgets as widgets\n",
    "import os\n",
    "import ray\n",
    "import subprocess\n",
    "import tempfile\n",
    "\n",
    "from IPython.display import display\n",
    "\n",
    "ray.init(redis_address=os.environ['REDIS_ADDRESS'])"
   ]
  },
  {
   "cell_type": "markdown",
   "metadata": {
    "collapsed": true,
    "hideCode": true,
    "hidePrompt": false
   },
   "source": [
    "#### Evaluate the box below to search for objects."
   ]
  },
  {
   "cell_type": "code",
   "execution_count": null,
   "metadata": {
    "collapsed": true,
    "hideCode": false,
    "hidePrompt": false
   },
   "outputs": [],
   "source": [
    "object_search = widgets.Text(\n",
    "    value='',\n",
    "    placeholder='Object ID',\n",
    "    description='Search for an object:',\n",
    "    disabled=False\n",
    ")\n",
    "display(object_search)\n",
    "\n",
    "def handle_submit(sender):\n",
    "    pp = pprint.PrettyPrinter()\n",
    "    pp.pprint(ray.global_state.object_table(object_search.value))\n",
    "\n",
    "object_search.on_submit(handle_submit)"
   ]
  },
  {
   "cell_type": "markdown",
   "metadata": {
    "hideCode": true,
    "hidePrompt": false
   },
   "source": [
    "#### Evaluate the box below to search for tasks."
   ]
  },
  {
   "cell_type": "code",
   "execution_count": null,
   "metadata": {
    "collapsed": true,
    "hideCode": false,
    "hidePrompt": false
   },
   "outputs": [],
   "source": [
    "task_search = widgets.Text(\n",
    "    value='',\n",
    "    placeholder='Task ID',\n",
    "    description='Search for a task:',\n",
    "    disabled=False\n",
    ")\n",
    "display(task_search)\n",
    "\n",
    "def handle_submit(sender):\n",
    "    pp = pprint.PrettyPrinter()\n",
    "    pp.pprint(ray.global_state.task_table(task_search.value))\n",
    "\n",
    "task_search.on_submit(handle_submit)"
   ]
  },
  {
   "cell_type": "code",
   "execution_count": null,
   "metadata": {
    "collapsed": true,
    "hideCode": true,
    "hidePrompt": true
   },
   "outputs": [],
   "source": [
    "def task_timeline():\n",
    "    path_input = widgets.Button(description='View task timeline')\n",
    "\n",
    "    breakdown_basic = 'Basic'\n",
    "    breakdown_task = 'Task Breakdowns'\n",
    "    \n",
    "    breakdown_opt = widgets.Dropdown(\n",
    "        options=['Basic', 'Task Breakdowns'],\n",
    "        value='Basic',\n",
    "        description='View options:',\n",
    "        disabled=False,\n",
    "    )\n",
    "    \n",
    "    start_box, end_box, range_slider, time_opt = get_sliders(False)\n",
    "    display(breakdown_opt)\n",
    "    display(path_input)\n",
    "\n",
    "    def find_trace2html():\n",
    "        trace2html = '/tmp/ray/catapult/tracing/bin/trace2html'\n",
    "        # Clone the catapult repository if it doesn't exist. TODO(rkn): We\n",
    "        # could do this in the build.sh script later on.\n",
    "        if not os.path.exists(trace2html): \n",
    "            cmd = ['git', 'clone', 'https://github.com/catapult-project/catapult.git', '/tmp/ray/catapult']\n",
    "            subprocess.check_output(cmd) \n",
    "            print('Cloning catapult to /tmp/ray/catapult.')\n",
    "        assert os.path.exists(trace2html)\n",
    "        return trace2html\n",
    "\n",
    "    def handle_submit(sender):\n",
    "        tmp = tempfile.mktemp() + '.json'\n",
    "        tmp2 = tempfile.mktemp() + '.html'\n",
    "        \n",
    "        if breakdown_opt.value == breakdown_basic:\n",
    "            breakdown = False\n",
    "        elif breakdown_opt.value == breakdown_task:\n",
    "            breakdown = True\n",
    "        else:\n",
    "            raise ValueError('Unexpected breakdown value \"{}\"'.format(breakdown_opt.value))\n",
    "            \n",
    "        low, high = map(lambda x: x / 100., range_slider.value)\n",
    "        \n",
    "        smallest, largest, num_tasks = ray.global_state._job_length()\n",
    "        diff = largest - smallest\n",
    "\n",
    "        if time_opt.value == total_time_value:\n",
    "            tasks = ray.global_state.task_profiles(start=smallest + diff * low, end=smallest + diff * high)\n",
    "        elif time_opt.value == total_tasks_value:\n",
    "            if range_slider.value[0] == 0:\n",
    "                tasks = ray.global_state.task_profiles(num_tasks=int(num_tasks * high), fwd=True)\n",
    "            else:\n",
    "                tasks = ray.global_state.task_profiles(num_tasks=int(num_tasks * (high - low)), fwd=False)\n",
    "        else:\n",
    "            raise ValueError('Unexpected time value \"{}\"'.format(time_opt.value))\n",
    "        \n",
    "        print('{} tasks to trace'.format(len(tasks)))\n",
    "        print('Dumping task profiling data to ' + tmp)\n",
    "        ray.global_state.dump_catapult_trace(tmp, tasks, breakdowns=breakdown)\n",
    "        print('Converting chrome trace to ' + tmp2)\n",
    "        trace2html = find_trace2html()\n",
    "        # TODO(rkn): The trace2html script currently requires Python 2.\n",
    "        # Remove this dependency.\n",
    "        subprocess.check_output(['python2', trace2html, tmp, '--output', tmp2])\n",
    "        # Open the timeline in Chrome. TODO(rkn): We should remove the\n",
    "        # dependency on Chrome and use whatever browser is currently being\n",
    "        # used. Note that this currently does not work when Ray is being\n",
    "        # used on a cluster and the browser is running locally.\n",
    "        print('Opening html file in browser...')\n",
    "        subprocess.Popen(['open', '-a', 'Google Chrome', tmp2])\n",
    "\n",
    "    path_input.on_click(handle_submit)\n",
    "\n",
    "task_timeline()"
   ]
  }
 ],
 "metadata": {
  "hide_code_all_hidden": true,
  "kernelspec": {
   "display_name": "Python 3",
   "language": "python",
   "name": "python3"
  },
  "language_info": {
   "codemirror_mode": {
    "name": "ipython",
    "version": 3
   },
   "file_extension": ".py",
   "mimetype": "text/x-python",
   "name": "python",
   "nbconvert_exporter": "python",
   "pygments_lexer": "ipython3",
   "version": "3.6.1"
  }
 },
 "nbformat": 4,
 "nbformat_minor": 2
}
