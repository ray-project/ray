{
 "cells": [
  {
   "cell_type": "markdown",
   "metadata": {},
   "source": [
    "# Evaluate the box below to initialize the web UI."
   ]
  },
  {
   "cell_type": "code",
   "execution_count": null,
   "metadata": {
    "collapsed": true
   },
   "outputs": [],
   "source": [
    "%%html\n",
    "<script>\n",
    "  function code_toggle() {\n",
    "    if (code_shown){\n",
    "      $('div.input').hide('500');\n",
    "      $('#toggleButton').val('Show Code')\n",
    "    } else {\n",
    "      $('div.input').show('500');\n",
    "      $('#toggleButton').val('Hide Code')\n",
    "    }\n",
    "    code_shown = !code_shown\n",
    "  }\n",
    "\n",
    "  $( document ).ready(function(){\n",
    "    code_shown=false;\n",
    "    $('div.input').hide()\n",
    "  });\n",
    "</script>\n",
    "<form action=\"javascript:code_toggle()\"><input type=\"submit\" id=\"toggleButton\" value=\"Show Code\"></form>\n",
    "\n",
    "<button id=\"do_run_all\">Click to run all</button>\n",
    "<script>\n",
    "$(\"#do_run_all\").click(\n",
    "    function () {\n",
    "        $(\"#run_all_cells\").click();\n",
    "    }\n",
    ");\n",
    "</script>"
   ]
  },
  {
   "cell_type": "code",
   "execution_count": null,
   "metadata": {
    "collapsed": true
   },
   "outputs": [],
   "source": [
    "import ipywidgets as widgets\n",
    "import os\n",
    "import pandas as pd\n",
    "import pprint\n",
    "import qgrid\n",
    "import ray\n",
    "import subprocess\n",
    "import sys\n",
    "import tempfile\n",
    "import time\n",
    "import math\n",
    "\n",
    "from IPython.display import display\n",
    "\n",
    "ray.init(redis_address=os.environ[\"REDIS_ADDRESS\"])"
   ]
  },
  {
   "cell_type": "markdown",
   "metadata": {},
   "source": [
    "**Object search.**"
   ]
  },
  {
   "cell_type": "code",
   "execution_count": null,
   "metadata": {
    "collapsed": true
   },
   "outputs": [],
   "source": [
    "object_search = widgets.Text(\n",
    "    value=\"\",\n",
    "    placeholder=\"Object ID\",\n",
    "    description=\"Search for an object:\",\n",
    "    disabled=False\n",
    ")\n",
    "display(object_search)\n",
    "\n",
    "def handle_submit(sender):\n",
    "    pp = pprint.PrettyPrinter()\n",
    "    pp.pprint(ray.global_state.object_table(object_search.value))\n",
    "\n",
    "object_search.on_submit(handle_submit)"
   ]
  },
  {
   "cell_type": "markdown",
   "metadata": {},
   "source": [
    "**Task search.**"
   ]
  },
  {
   "cell_type": "code",
   "execution_count": null,
   "metadata": {
    "collapsed": true
   },
   "outputs": [],
   "source": [
    "task_search = widgets.Text(\n",
    "    value=\"\",\n",
    "    placeholder=\"Task ID\",\n",
    "    description=\"Search for a task:\",\n",
    "    disabled=False\n",
    ")\n",
    "display(task_search)\n",
    "\n",
    "def handle_submit(sender):\n",
    "    pp = pprint.PrettyPrinter()\n",
    "    pp.pprint(ray.global_state.task_table(task_search.value))\n",
    "\n",
    "task_search.on_submit(handle_submit)"
   ]
  },
  {
   "cell_type": "markdown",
   "metadata": {},
   "source": [
    "#### Task Time Series."
   ]
  },
  {
   "cell_type": "code",
   "execution_count": null,
   "metadata": {
    "collapsed": true
   },
   "outputs": [],
   "source": [
    "def time_series():\n",
    "    start = 0\n",
    "    end = time.time()\n",
    "    \n",
    "    granularity = 1\n",
    "    earliest = end\n",
    "    latest = 0\n",
    "    tasks = ray.global_state.task_profiles(start=start, end=end)\n",
    "    for task_id, data in tasks.items():\n",
    "        if data[\"score\"] > latest:\n",
    "            latest = data[\"score\"]\n",
    "        if data[\"score\"] < earliest:\n",
    "            earliest = data[\"score\"]\n",
    "    num_buckets = math.ceil((latest - earliest) / granularity)\n",
    "    \n",
    "    buckets = []\n",
    "    \n",
    "    for i in range(0, num_buckets, granularity):\n",
    "        start = i * granularity + earliest\n",
    "        end = ((i + 1) * granularity) + earliest\n",
    "        t = ray.global_state.task_profiles(start=math.floor(start), end=math.ceil(end))\n",
    "        buckets.append(len(t))\n",
    "        \n",
    "    start_point = earliest\n",
    "    end_point = start_point + granularity * num_buckets\n",
    "    \n",
    "    return buckets, start_point, end_point, granularity\n",
    "\n",
    "import numpy as np\n",
    "import scipy.special\n",
    "from bokeh.layouts import gridplot\n",
    "from bokeh.plotting import figure, show\n",
    "from bokeh.resources import CDN\n",
    "from bokeh.io import output_notebook\n",
    "output_notebook(resources=CDN)\n",
    "from bokeh.models import Range1d\n",
    "import math\n",
    "\n",
    "\n",
    "buckets, earliest, latest, gran = time_series()\n",
    "if len(buckets) is not 0: \n",
    "    desired_range = (0, max(buckets)+10)\n",
    "    distr = []\n",
    "    for x in range(len(buckets)):\n",
    "        for y in range(buckets[x]):\n",
    "            distr.append(x)\n",
    "\n",
    "    p = figure(title=\"Task Time Series\",tools=[\"save\", \"hover\", \"wheel_zoom\", \"box_zoom\", \"pan\"],\n",
    "                background_fill_color=\"#FFFFFF\", y_range = desired_range, x_range = (0, latest - earliest))\n",
    "    bins = [(i - 1) * gran for i in range(len(buckets) + 2)]\n",
    "    hist, bin_edges = np.histogram(distr, bins=bins)\n",
    "\n",
    "    p.quad(top=hist, bottom=0, left=bin_edges[:-1], right=bin_edges[1:],\n",
    "            fill_color=\"#B3B3B3\", line_color=\"#033649\")\n",
    "\n",
    "    p.xaxis.axis_label = 'Time in seconds'\n",
    "    p.yaxis.axis_label = 'Number of concurrent tasks'\n",
    "\n",
    "    show(gridplot(p, ncols=1, plot_width=500, plot_height=500, toolbar_location=\"below\"))"
   ]
  },
  {
   "cell_type": "markdown",
   "metadata": {},
   "source": [
    "#### Cluster Usage. "
   ]
  },
  {
   "cell_type": "code",
   "execution_count": null,
   "metadata": {
    "collapsed": true
   },
   "outputs": [],
   "source": [
    "import time\n",
    "import math\n",
    "def heat_map():\n",
    "    start = 0\n",
    "    end = time.time()\n",
    "   \n",
    "    granularity = 1\n",
    "    earliest = end\n",
    "    latest = 0\n",
    "    tasks = ray.global_state.task_profiles(start=start, end=end)\n",
    "    for task_id, data in tasks.items():\n",
    "        if data[\"score\"] > latest:\n",
    "            latest = data[\"score\"]\n",
    "        if data[\"score\"] < earliest:\n",
    "            earliest = data[\"score\"]\n",
    "    num_buckets = math.ceil((latest - earliest) / granularity)\n",
    "    buckets = [0] * num_buckets\n",
    "    \n",
    "    worker_info = ray.global_state.workers()\n",
    "    num_tasks = []\n",
    "    nodes = []\n",
    "    times = []\n",
    "    start_point = earliest\n",
    "    end_point = len(buckets) * granularity + earliest\n",
    "    \n",
    "    for i in range(0, len(buckets), granularity):\n",
    "        start = i * granularity + earliest\n",
    "        end = (i + 1) * granularity + earliest\n",
    "        t = ray.global_state.task_profiles(start=math.floor(start), end=math.ceil(end))\n",
    "        \n",
    "        node_to_num = dict()\n",
    "        for task_id, data in t.items():\n",
    "            worker = data[\"worker_id\"]\n",
    "            node = worker_info[worker][\"node_ip_address\"]\n",
    "            if node not in node_to_num:\n",
    "                node_to_num[node] = 0\n",
    "            node_to_num[node] += 1\n",
    "            \n",
    "        for node_ip, counter in node_to_num.items():\n",
    "            num_tasks.append(node_to_num[node_ip])\n",
    "            nodes.append(node_ip)\n",
    "            times.append(i)\n",
    "            \n",
    "    return nodes, times, num_tasks\n",
    " \n",
    "from math import pi\n",
    "import pandas as pd\n",
    "import random\n",
    "import numpy as np\n",
    "from bokeh.io import show, output_notebook\n",
    "from bokeh.models import (\n",
    "    ColumnDataSource,\n",
    "    HoverTool,\n",
    "    LinearColorMapper,\n",
    "    BasicTicker,\n",
    "    PrintfTickFormatter,\n",
    "    ColorBar,\n",
    ")\n",
    "from bokeh.plotting import figure\n",
    "\n",
    "output_notebook()\n",
    " \n",
    "node_ip_address, times, num_tasks = heat_map()\n",
    "\n",
    "if len(node_ip_address) is not 0: \n",
    " \n",
    "    df = pd.DataFrame({\"node_ip_address\":node_ip_address, \"time\":times, \"num_tasks\":num_tasks})\n",
    "\n",
    "    colors = [\"#FFFFFF\", \"#E8E8E8\", \"#DCDCDC\", \"#D3D3D3\", \"#B8B8B8\", \"#A8A8A8\", \"#696969\", \"#383838\", \"#000000\"]\n",
    "    mapper = LinearColorMapper(palette=colors, low=df.num_tasks.min() - 1, high=df.num_tasks.max() + 1)\n",
    "    source = ColumnDataSource(df)\n",
    "\n",
    "    TOOLS = \"hover,save,xpan,box_zoom,reset,xwheel_zoom\"\n",
    "\n",
    "    p = figure(title=\"Cluster Usage\", y_range=list(set(node_ip_address)),\n",
    "               x_axis_location=\"above\", plot_width=900, plot_height=500,\n",
    "               tools=TOOLS, toolbar_location='below')\n",
    "\n",
    "    p.grid.grid_line_color = None\n",
    "    p.axis.axis_line_color = None\n",
    "    p.axis.major_tick_line_color = None\n",
    "    p.axis.major_label_text_font_size = \"10pt\"\n",
    "    p.axis.major_label_standoff = 0\n",
    "    p.xaxis.major_label_orientation = pi / 3\n",
    "\n",
    "    p.rect(x=\"time\", y=\"node_ip_address\", width=1, height=1,\n",
    "           source=source,\n",
    "           fill_color={'field': 'num_tasks', 'transform': mapper},\n",
    "           line_color=None)\n",
    "\n",
    "    color_bar = ColorBar(color_mapper=mapper, major_label_text_font_size=\"8pt\",\n",
    "                         ticker=BasicTicker(desired_num_ticks=len(colors)),\n",
    "                         label_standoff=6, border_line_color=None, location=(0, 0))\n",
    "    p.add_layout(color_bar, 'right')\n",
    "\n",
    "    p.select_one(HoverTool).tooltips = [\n",
    "         ('Node IP Address', '@node_ip_address'),\n",
    "         ('Number of tasks running', '@num_tasks'),\n",
    "         ('Time', '@time')\n",
    "    ]\n",
    "\n",
    "\n",
    "    p.xaxis.axis_label = \"Time in seconds\"\n",
    "    p.yaxis.axis_label = \"Node IP Address\"\n",
    "\n",
    "    show(p)"
   ]
  },
  {
   "cell_type": "markdown",
   "metadata": {},
   "source": [
    "#### Task Completion Time Distribution."
   ]
  },
  {
   "cell_type": "code",
   "execution_count": null,
   "metadata": {
    "collapsed": true
   },
   "outputs": [],
   "source": [
    "import time\n",
    "from bokeh.models import Range1d\n",
    "tasks = ray.global_state.task_profiles(start=0, end=time.time())\n",
    "if len(tasks) is not 0: \n",
    "    unique = set()\n",
    "    distr = []\n",
    "    mu, sigma = 0, 0.5\n",
    "\n",
    "    for task_id, data in tasks.items():\n",
    "        unique.add(data[\"store_outputs_end\"] - data[\"get_task_start\"])\n",
    "        distr.append(data[\"store_outputs_end\"] - data[\"get_task_start\"])\n",
    "\n",
    "    hist, bin_edges = np.histogram(distr, bins = range(len(unique)))\n",
    "    p = figure(title=\"Task Completion Time Distribution\",tools=[\"save\", \"hover\", \"wheel_zoom\", \"box_zoom\", \"pan\"],\n",
    "                background_fill_color=\"#FFFFFF\", x_range = (0,max(distr) +2), y_range = (0, max(hist)+2))\n",
    "    p.quad(top=hist, bottom=0, left=bin_edges[:-1], right=bin_edges[1:],\n",
    "            fill_color=\"#B3B3B3\", line_color=\"#033649\")\n",
    "    x = np.linspace(-2, 2, 1000)\n",
    "\n",
    "    p.xaxis.axis_label = 'Time in seconds'\n",
    "    p.yaxis.axis_label = 'Number of concurrent tasks'\n",
    "\n",
    "    show(gridplot(p, ncols=1, plot_width=500, plot_height=500, toolbar_location=\"below\"))"
   ]
  }
 ],
 "metadata": {
  "kernelspec": {
   "display_name": "Python 3",
   "language": "python",
   "name": "python3"
  },
  "language_info": {
   "codemirror_mode": {
    "name": "ipython",
    "version": 3
   },
   "file_extension": ".py",
   "mimetype": "text/x-python",
   "name": "python",
   "nbconvert_exporter": "python",
   "pygments_lexer": "ipython3",
   "version": "3.6.1"
  }
 },
 "nbformat": 4,
 "nbformat_minor": 2
}