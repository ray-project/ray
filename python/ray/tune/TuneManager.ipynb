{
 "cells": [
  {
   "cell_type": "code",
   "execution_count": 1,
   "metadata": {},
   "outputs": [],
   "source": [
    "from ray.tune.manager import ExpManager\n",
    "import ray"
   ]
  },
  {
   "cell_type": "code",
   "execution_count": 2,
   "metadata": {},
   "outputs": [],
   "source": [
    "manager = ExpManager(tune_address=\"localhost:4321\")"
   ]
  },
  {
   "cell_type": "code",
   "execution_count": 21,
   "metadata": {
    "scrolled": false
   },
   "outputs": [
    {
     "name": "stdout",
     "output_type": "stream",
     "text": [
      "Status: <Response [200]>\n"
     ]
    }
   ],
   "source": [
    "x = manager.get_all_trials()"
   ]
  },
  {
   "cell_type": "code",
   "execution_count": 22,
   "metadata": {
    "scrolled": false
   },
   "outputs": [
    {
     "data": {
      "text/plain": [
       "[('98ad7870', 'TERMINATED'),\n",
       " ('c0e3b220', 'TERMINATED'),\n",
       " ('97efd911', 'TERMINATED'),\n",
       " ('a8eef5a2', 'TERMINATED'),\n",
       " ('c22c23b2', 'TERMINATED'),\n",
       " ('d6e4aef8', 'TERMINATED'),\n",
       " ('712cb25d', 'TERMINATED'),\n",
       " ('f5cce42e', 'TERMINATED'),\n",
       " ('045b5d48', 'TERMINATED'),\n",
       " ('c1a98128', 'TERMINATED'),\n",
       " ('430330cc', 'RUNNING'),\n",
       " ('a8724be0', 'RUNNING'),\n",
       " ('16c5809a', 'PENDING'),\n",
       " ('b65ec40f', 'PENDING'),\n",
       " ('7d23497a', 'PENDING'),\n",
       " ('12281752', 'PENDING'),\n",
       " ('51190477', 'PENDING'),\n",
       " ('da09e13c', 'PENDING'),\n",
       " ('ef152984', 'PENDING'),\n",
       " ('fc016f05', 'PENDING'),\n",
       " ('9efee807', 'PENDING'),\n",
       " ('23704254', 'PENDING'),\n",
       " ('29a032f2', 'PENDING'),\n",
       " ('b5b544fc', 'PENDING'),\n",
       " ('bfee3c7a', 'PENDING'),\n",
       " ('4d1e1729', 'PENDING'),\n",
       " ('1ad64575', 'PENDING'),\n",
       " ('cb2acc78', 'PENDING'),\n",
       " ('6accd370', 'PENDING'),\n",
       " ('c2722b1d', 'PENDING'),\n",
       " ('07f80c69', 'PENDING'),\n",
       " ('01ab999c', 'PENDING'),\n",
       " ('4adea3a8', 'PENDING'),\n",
       " ('855ef91e', 'PENDING'),\n",
       " ('9befee82', 'PENDING'),\n",
       " ('81555aee', 'PENDING')]"
      ]
     },
     "execution_count": 22,
     "metadata": {},
     "output_type": "execute_result"
    }
   ],
   "source": [
    "[(y[\"id\"], y[\"status\"]) for y in x[\"trials\"]]"
   ]
  },
  {
   "cell_type": "code",
   "execution_count": 24,
   "metadata": {
    "scrolled": false
   },
   "outputs": [
    {
     "name": "stdout",
     "output_type": "stream",
     "text": [
      "Status: <Response [200]>\n"
     ]
    },
    {
     "data": {
      "text/plain": [
       "{'trial_info': {'config': {'env': 'CartPole-v0',\n",
       "   'num_sgd_iter': 1,\n",
       "   'num_workers': 1,\n",
       "   'sgd_batchsize': 512},\n",
       "  'id': '9befee82',\n",
       "  'result': None,\n",
       "  'status': 'TERMINATED',\n",
       "  'trainable_name': 'PPO'}}"
      ]
     },
     "execution_count": 24,
     "metadata": {},
     "output_type": "execute_result"
    }
   ],
   "source": [
    "manager.get_trial_result('9befee82')"
   ]
  },
  {
   "cell_type": "code",
   "execution_count": 18,
   "metadata": {
    "collapsed": true
   },
   "outputs": [],
   "source": [
    "from ray.tune.variant_generator import generate_trials\n",
    "import yaml\n",
    "\n",
    "with open(\"../rllib/tuned_examples/hyperband-cartpole.yaml\") as f:\n",
    "    d = yaml.load(f)"
   ]
  },
  {
   "cell_type": "code",
   "execution_count": 19,
   "metadata": {},
   "outputs": [],
   "source": [
    "name, spec = [x for x in d.items()][0]"
   ]
  },
  {
   "cell_type": "code",
   "execution_count": 20,
   "metadata": {},
   "outputs": [
    {
     "name": "stdout",
     "output_type": "stream",
     "text": [
      "Status: <Response [200]>\n"
     ]
    },
    {
     "data": {
      "text/plain": [
       "{}"
      ]
     },
     "execution_count": 20,
     "metadata": {},
     "output_type": "execute_result"
    }
   ],
   "source": [
    "manager.add_trial(name, spec)"
   ]
  },
  {
   "cell_type": "code",
   "execution_count": null,
   "metadata": {
    "collapsed": true
   },
   "outputs": [],
   "source": []
  }
 ],
 "metadata": {
  "kernelspec": {
   "display_name": "Python 3",
   "language": "python",
   "name": "python3"
  },
  "language_info": {
   "codemirror_mode": {
    "name": "ipython",
    "version": 3
   },
   "file_extension": ".py",
   "mimetype": "text/x-python",
   "name": "python",
   "nbconvert_exporter": "python",
   "pygments_lexer": "ipython3",
   "version": "3.6.2"
  }
 },
 "nbformat": 4,
 "nbformat_minor": 2
}
