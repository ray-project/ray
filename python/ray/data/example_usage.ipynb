{
 "cells": [
  {
   "cell_type": "code",
   "execution_count": 1,
   "id": "a395537c",
   "metadata": {},
   "outputs": [],
   "source": [
    "%load_ext autoreload\n",
    "%autoreload 2\n",
    "\n",
    "from datetime import datetime\n",
    "\n",
    "import numpy as np\n",
    "\n",
    "import ray\n",
    "\n",
    "# Create sample data with various types\n",
    "data = [\n",
    "    {\n",
    "        \"id\": 1,\n",
    "        \"age\": 25,\n",
    "        \"salary\": 50000.0,\n",
    "        \"name\": \"Alice\",\n",
    "        \"scores\": [85, 90, 88],  # List type\n",
    "        \"embeddings\": np.array([0.1, 0.2, 0.3, 0.4]),  # Tensor/array type\n",
    "        \"address\": {\"street\": \"123 Main St\", \"city\": \"NYC\", \"zip\": 10001},  # Struct type\n",
    "        \"hire_date\": datetime(2020, 1, 15),  # Timestamp type\n",
    "        \"metadata\": b\"binary_data_1\",  # Binary type\n",
    "    },\n",
    "    {\n",
    "        \"id\": 2,\n",
    "        \"age\": 30,\n",
    "        \"salary\": 60000.0,\n",
    "        \"name\": \"Bob\",\n",
    "        \"scores\": [92, 88, 95],\n",
    "        \"embeddings\": np.array([0.5, 0.6, 0.7, 0.8]),\n",
    "        \"address\": {\"street\": \"456 Oak Ave\", \"city\": \"LA\", \"zip\": 90001},\n",
    "        \"hire_date\": datetime(2019, 3, 20),\n",
    "        \"metadata\": b\"binary_data_2\",\n",
    "    },\n",
    "    {\n",
    "        \"id\": 3,\n",
    "        \"age\": None,  # Missing value\n",
    "        \"salary\": None,\n",
    "        \"name\": None,\n",
    "        \"scores\": [78, 82, 80],\n",
    "        \"embeddings\": np.array([0.9, 1.0, 1.1, 1.2]),\n",
    "        \"address\": {\"street\": \"789 Pine Rd\", \"city\": None, \"zip\": None},\n",
    "        \"hire_date\": None,\n",
    "        \"metadata\": None,\n",
    "    },\n",
    "]\n",
    "\n",
    "\n"
   ]
  },
  {
   "cell_type": "code",
   "execution_count": 2,
   "id": "5ab118c9",
   "metadata": {},
   "outputs": [
    {
     "name": "stdout",
     "output_type": "stream",
     "text": [
      "Usage stats collection is enabled by default for nightly wheels. To disable this, run the following command: `ray disable-usage-stats` before starting Ray. See https://docs.ray.io/en/master/cluster/usage-stats.html for more details.\n"
     ]
    },
    {
     "name": "stderr",
     "output_type": "stream",
     "text": [
      "2025-10-06 23:51:46,668\tINFO worker.py:2004 -- Started a local Ray instance. View the dashboard at \u001b[1m\u001b[32mhttp://127.0.0.1:8266 \u001b[39m\u001b[22m\n",
      "/Users/goutam/Documents/ray/.venv/lib/python3.11/site-packages/ray/_private/worker.py:2052: FutureWarning: Tip: In future versions of Ray, Ray will no longer override accelerator visible devices env var if num_gpus=0 or num_gpus=None (default). To enable this behavior and turn off this error message, set RAY_ACCEL_ENV_VAR_OVERRIDE_ON_ZERO=0\n",
      "  warnings.warn(\n",
      "2025-10-06 23:51:47,101\tWARNING arrow.py:294 -- Converting a 'D' precision datetime NumPy array to 's' precision Arrow timestamp. This conversion occurs because Arrow supports fewer precisions than Arrow and might result in a loss of precision or unrepresentable values.\n",
      "2025-10-06 23:51:47,354\tINFO dataset.py:3363 -- Tip: Use `take_batch()` instead of `take() / show()` to return records in pandas or numpy batch format.\n",
      "2025-10-06 23:51:47,359\tINFO logging.py:293 -- Registered dataset logger for dataset dataset_2_0\n",
      "2025-10-06 23:51:47,370\tINFO hash_aggregate.py:180 -- Estimated memory requirement for aggregating aggregator (partitions=1, aggregators=1, dataset (estimate)=0.0GiB): shuffle=0.0MiB, output=0.0MiB, total=0.0MiB, \n",
      "2025-10-06 23:51:47,372\tINFO streaming_executor.py:159 -- Starting execution of Dataset dataset_2_0. Full logs are in /tmp/ray/session_2025-10-06_23-51-45_590193_51173/logs/ray-data\n",
      "2025-10-06 23:51:47,372\tINFO streaming_executor.py:160 -- Execution plan of Dataset dataset_2_0: InputDataBuffer[Input] -> HashAggregateOperator[HashAggregate(key_columns=(), num_partitions=1)] -> LimitOperator[limit=1]\n"
     ]
    },
    {
     "data": {
      "application/vnd.jupyter.widget-view+json": {
       "model_id": "4c3a5b49cabb41e9986945f32b620ff7",
       "version_major": 2,
       "version_minor": 0
      },
      "text/plain": [
       "Running 0: 0.00 row [00:00, ? row/s]"
      ]
     },
     "metadata": {},
     "output_type": "display_data"
    },
    {
     "data": {
      "application/vnd.jupyter.widget-view+json": {
       "model_id": "734f932ceb684f68b97125b684ccc4a5",
       "version_major": 2,
       "version_minor": 0
      },
      "text/plain": [
       "- HashAggregate(key_columns=(), num_partitions=1) 1: 0.00 row [00:00, ? row/s]"
      ]
     },
     "metadata": {},
     "output_type": "display_data"
    },
    {
     "data": {
      "application/vnd.jupyter.widget-view+json": {
       "model_id": "00a7ec2a71fe47c1a62f08812432e15b",
       "version_major": 2,
       "version_minor": 0
      },
      "text/plain": [
       "Shuffle 2:   0%|          | 0.00/1.00 [00:00<?, ? row/s]"
      ]
     },
     "metadata": {},
     "output_type": "display_data"
    },
    {
     "data": {
      "application/vnd.jupyter.widget-view+json": {
       "model_id": "eb9c8ab7f0e84ae0b8c8d15804edc627",
       "version_major": 2,
       "version_minor": 0
      },
      "text/plain": [
       "Aggregation 3:   0%|          | 0.00/1.00 [00:00<?, ? row/s]"
      ]
     },
     "metadata": {},
     "output_type": "display_data"
    },
    {
     "data": {
      "application/vnd.jupyter.widget-view+json": {
       "model_id": "e9b8cc4a3184474681376777c9c81b19",
       "version_major": 2,
       "version_minor": 0
      },
      "text/plain": [
       "- limit=1 4: 0.00 row [00:00, ? row/s]"
      ]
     },
     "metadata": {},
     "output_type": "display_data"
    },
    {
     "name": "stderr",
     "output_type": "stream",
     "text": [
      "2025-10-06 23:51:47,398\tWARNING resource_manager.py:134 -- ⚠️  Ray's object store is configured to use only 16.6% of available memory (2.0GiB out of 12.1GiB total). For optimal Ray Data performance, we recommend setting the object store to at least 50% of available memory. You can do this by setting the 'object_store_memory' parameter when calling ray.init() or by setting the RAY_DEFAULT_OBJECT_STORE_MEMORY_PROPORTION environment variable.\n",
      "2025-10-06 23:51:47,723\tINFO streaming_executor.py:279 -- ✔️  Dataset dataset_2_0 execution finished in 0.35 seconds\n",
      "2025-10-06 23:51:47,738\tWARNING arrow.py:294 -- Converting a 'D' precision datetime NumPy array to 's' precision Arrow timestamp. This conversion occurs because Arrow supports fewer precisions than Arrow and might result in a loss of precision or unrepresentable values.\n",
      "2025-10-06 23:51:47,739\tWARNING arrow.py:294 -- Converting a 'D' precision datetime NumPy array to 's' precision Arrow timestamp. This conversion occurs because Arrow supports fewer precisions than Arrow and might result in a loss of precision or unrepresentable values.\n",
      "2025-10-06 23:51:47,742\tINFO logging.py:293 -- Registered dataset logger for dataset dataset_3_0\n",
      "\u001b[36m(HashShuffleAggregator pid=51249)\u001b[0m Converting a 'D' precision datetime NumPy array to 's' precision Arrow timestamp. This conversion occurs because Arrow supports fewer precisions than Arrow and might result in a loss of precision or unrepresentable values.\n",
      "\u001b[36m(HashShuffleAggregator pid=51249)\u001b[0m Converting a 'D' precision datetime NumPy array to 's' precision Arrow timestamp. This conversion occurs because Arrow supports fewer precisions than Arrow and might result in a loss of precision or unrepresentable values.\n"
     ]
    },
    {
     "data": {
      "text/html": [
       "<div>\n",
       "<style scoped>\n",
       "    .dataframe tbody tr th:only-of-type {\n",
       "        vertical-align: middle;\n",
       "    }\n",
       "\n",
       "    .dataframe tbody tr th {\n",
       "        vertical-align: top;\n",
       "    }\n",
       "\n",
       "    .dataframe thead th {\n",
       "        text-align: right;\n",
       "    }\n",
       "</style>\n",
       "<table border=\"1\" class=\"dataframe\">\n",
       "  <thead>\n",
       "    <tr style=\"text-align: right;\">\n",
       "      <th></th>\n",
       "      <th>column</th>\n",
       "      <th>count</th>\n",
       "      <th>mean</th>\n",
       "      <th>min</th>\n",
       "      <th>max</th>\n",
       "      <th>std</th>\n",
       "      <th>missing_pct</th>\n",
       "      <th>zero_pct</th>\n",
       "    </tr>\n",
       "  </thead>\n",
       "  <tbody>\n",
       "    <tr>\n",
       "      <th>0</th>\n",
       "      <td>id</td>\n",
       "      <td>3</td>\n",
       "      <td>2.0</td>\n",
       "      <td>1</td>\n",
       "      <td>3</td>\n",
       "      <td>0.816497</td>\n",
       "      <td>0.000000</td>\n",
       "      <td>0.0</td>\n",
       "    </tr>\n",
       "    <tr>\n",
       "      <th>1</th>\n",
       "      <td>age</td>\n",
       "      <td>3</td>\n",
       "      <td>27.5</td>\n",
       "      <td>25</td>\n",
       "      <td>30</td>\n",
       "      <td>2.500000</td>\n",
       "      <td>33.333333</td>\n",
       "      <td>0.0</td>\n",
       "    </tr>\n",
       "    <tr>\n",
       "      <th>2</th>\n",
       "      <td>salary</td>\n",
       "      <td>3</td>\n",
       "      <td>55000.0</td>\n",
       "      <td>50000.0</td>\n",
       "      <td>60000.0</td>\n",
       "      <td>5000.000000</td>\n",
       "      <td>33.333333</td>\n",
       "      <td>0.0</td>\n",
       "    </tr>\n",
       "    <tr>\n",
       "      <th>3</th>\n",
       "      <td>name</td>\n",
       "      <td>3</td>\n",
       "      <td>NaN</td>\n",
       "      <td>NaN</td>\n",
       "      <td>NaN</td>\n",
       "      <td>NaN</td>\n",
       "      <td>33.333333</td>\n",
       "      <td>NaN</td>\n",
       "    </tr>\n",
       "    <tr>\n",
       "      <th>4</th>\n",
       "      <td>scores</td>\n",
       "      <td>3</td>\n",
       "      <td>NaN</td>\n",
       "      <td>NaN</td>\n",
       "      <td>NaN</td>\n",
       "      <td>NaN</td>\n",
       "      <td>0.000000</td>\n",
       "      <td>NaN</td>\n",
       "    </tr>\n",
       "    <tr>\n",
       "      <th>5</th>\n",
       "      <td>embeddings</td>\n",
       "      <td>3</td>\n",
       "      <td>NaN</td>\n",
       "      <td>NaN</td>\n",
       "      <td>NaN</td>\n",
       "      <td>NaN</td>\n",
       "      <td>0.000000</td>\n",
       "      <td>NaN</td>\n",
       "    </tr>\n",
       "    <tr>\n",
       "      <th>6</th>\n",
       "      <td>address</td>\n",
       "      <td>3</td>\n",
       "      <td>NaN</td>\n",
       "      <td>NaN</td>\n",
       "      <td>NaN</td>\n",
       "      <td>NaN</td>\n",
       "      <td>0.000000</td>\n",
       "      <td>NaN</td>\n",
       "    </tr>\n",
       "    <tr>\n",
       "      <th>7</th>\n",
       "      <td>hire_date</td>\n",
       "      <td>3</td>\n",
       "      <td>NaN</td>\n",
       "      <td>2019-03-20 00:00:00</td>\n",
       "      <td>2020-01-15 00:00:00</td>\n",
       "      <td>NaN</td>\n",
       "      <td>33.333333</td>\n",
       "      <td>NaN</td>\n",
       "    </tr>\n",
       "    <tr>\n",
       "      <th>8</th>\n",
       "      <td>metadata</td>\n",
       "      <td>3</td>\n",
       "      <td>NaN</td>\n",
       "      <td>NaN</td>\n",
       "      <td>NaN</td>\n",
       "      <td>NaN</td>\n",
       "      <td>33.333333</td>\n",
       "      <td>NaN</td>\n",
       "    </tr>\n",
       "  </tbody>\n",
       "</table>\n",
       "</div>"
      ],
      "text/plain": [
       "       column  count     mean                  min                  max  \\\n",
       "0          id      3      2.0                    1                    3   \n",
       "1         age      3     27.5                   25                   30   \n",
       "2      salary      3  55000.0              50000.0              60000.0   \n",
       "3        name      3      NaN                  NaN                  NaN   \n",
       "4      scores      3      NaN                  NaN                  NaN   \n",
       "5  embeddings      3      NaN                  NaN                  NaN   \n",
       "6     address      3      NaN                  NaN                  NaN   \n",
       "7   hire_date      3      NaN  2019-03-20 00:00:00  2020-01-15 00:00:00   \n",
       "8    metadata      3      NaN                  NaN                  NaN   \n",
       "\n",
       "           std  missing_pct  zero_pct  \n",
       "0     0.816497     0.000000       0.0  \n",
       "1     2.500000    33.333333       0.0  \n",
       "2  5000.000000    33.333333       0.0  \n",
       "3          NaN    33.333333       NaN  \n",
       "4          NaN     0.000000       NaN  \n",
       "5          NaN     0.000000       NaN  \n",
       "6          NaN     0.000000       NaN  \n",
       "7          NaN    33.333333       NaN  \n",
       "8          NaN    33.333333       NaN  "
      ]
     },
     "execution_count": 2,
     "metadata": {},
     "output_type": "execute_result"
    },
    {
     "name": "stderr",
     "output_type": "stream",
     "text": [
      "\u001b[36m(HashShuffleAggregator pid=51246)\u001b[0m Converting a 'D' precision datetime NumPy array to 's' precision Arrow timestamp. This conversion occurs because Arrow supports fewer precisions than Arrow and might result in a loss of precision or unrepresentable values.\n",
      "\u001b[36m(HashShuffleAggregator pid=51246)\u001b[0m Converting a 'D' precision datetime NumPy array to 's' precision Arrow timestamp. This conversion occurs because Arrow supports fewer precisions than Arrow and might result in a loss of precision or unrepresentable values.\n"
     ]
    }
   ],
   "source": [
    "ds = ray.data.from_items(data)\n",
    "ds.summary().to_pandas()"
   ]
  },
  {
   "cell_type": "markdown",
   "id": "ff248314",
   "metadata": {},
   "source": [
    "# HELPER FUNCTIONS"
   ]
  },
  {
   "cell_type": "code",
   "execution_count": null,
   "id": "36817c3e",
   "metadata": {},
   "outputs": [],
   "source": [
    "from enum import Enum\n",
    "\n",
    "import pandas as pd\n",
    "\n",
    "from ray.data import Dataset, Schema\n",
    "\n",
    "# from ray.data.extensions import (\n",
    "#     ArrowTensorType,\n",
    "#     ArrowTensorTypeV2,\n",
    "#     ArrowVariableShapedTensorType,\n",
    "# )\n",
    "from ray.data.stats import _is_list_dtype, _is_numerical_dtype, _is_string_dtype\n",
    "\n",
    "\n",
    "class FeatureType(str, Enum):\n",
    "    NUMERICAL = \"numerical\"\n",
    "    VECTOR = \"vector\"\n",
    "    CATEGORICAL = \"categorical\"\n",
    "\n",
    "\n",
    "def to_feature_type_dataset(summary_ds: \"Dataset\", dataset_schema: \"Schema\") -> dict[FeatureType, \"pd.DataFrame\"]:\n",
    "    \"\"\"Convert the dataset summary to a dictionary of feature type datasets.\n",
    "\n",
    "    Args:\n",
    "        summary_ds: The summary dataset (Ray Dataset or pandas DataFrame)\n",
    "        dataset_schema: The original dataset schema (from ds.schema())\n",
    "\n",
    "    Returns:\n",
    "        Dictionary mapping FeatureType to DataFrame, where each DataFrame contains\n",
    "        only the columns and statistics for that feature type.\n",
    "    \"\"\"\n",
    "\n",
    "    def classify_dtype(column_name: str) -> FeatureType:\n",
    "        \"\"\"Classify column by feature type using PyArrow type checking.\"\"\"\n",
    "        dtype = dataset_schema.base_schema.field(column_name).type\n",
    "        if dtype is None:\n",
    "            return None\n",
    "\n",
    "        # Check for tensor types or list types (vectors)\n",
    "        if _is_list_dtype(dtype):\n",
    "            return FeatureType.VECTOR\n",
    "        elif _is_string_dtype(dtype):\n",
    "            return FeatureType.CATEGORICAL\n",
    "        elif _is_numerical_dtype(dtype):\n",
    "            return FeatureType.NUMERICAL\n",
    "        else:\n",
    "            return None\n",
    "\n",
    "    # Add feature_type column\n",
    "    df = summary_ds.to_pandas() if not isinstance(summary_ds, pd.DataFrame) else summary_ds\n",
    "    df[\"feature_type\"] = df[\"column\"].apply(classify_dtype)\n",
    "\n",
    "    # Filter by feature type\n",
    "    return {\n",
    "        ft: df[df[\"feature_type\"] == ft.value]\n",
    "        for ft in FeatureType\n",
    "        if ft.value in df[\"feature_type\"].values\n",
    "    }"
   ]
  },
  {
   "cell_type": "code",
   "execution_count": 4,
   "id": "8ae28481",
   "metadata": {},
   "outputs": [
    {
     "data": {
      "text/plain": [
       "Column      Type\n",
       "------      ----\n",
       "id          int64\n",
       "age         int64\n",
       "salary      double\n",
       "name        string\n",
       "scores      list<item: int64>\n",
       "embeddings  ArrowTensorTypeV2(shape=(4,), dtype=double)\n",
       "address     struct<city: string, street: string, zip: int64>\n",
       "hire_date   timestamp[s]\n",
       "metadata    binary"
      ]
     },
     "execution_count": 4,
     "metadata": {},
     "output_type": "execute_result"
    }
   ],
   "source": [
    "ds.schema()"
   ]
  },
  {
   "cell_type": "markdown",
   "id": "c9753348",
   "metadata": {},
   "source": [
    "# CATEGORICAL FEATURES"
   ]
  },
  {
   "cell_type": "code",
   "execution_count": 5,
   "id": "fbc476b5",
   "metadata": {},
   "outputs": [
    {
     "name": "stderr",
     "output_type": "stream",
     "text": [
      "2025-10-06 23:51:47,859\tINFO logging.py:293 -- Registered dataset logger for dataset dataset_5_0\n",
      "2025-10-06 23:51:47,862\tINFO hash_aggregate.py:180 -- Estimated memory requirement for aggregating aggregator (partitions=1, aggregators=1, dataset (estimate)=0.0GiB): shuffle=0.0MiB, output=0.0MiB, total=0.0MiB, \n",
      "2025-10-06 23:51:47,866\tINFO streaming_executor.py:159 -- Starting execution of Dataset dataset_5_0. Full logs are in /tmp/ray/session_2025-10-06_23-51-45_590193_51173/logs/ray-data\n",
      "2025-10-06 23:51:47,867\tINFO streaming_executor.py:160 -- Execution plan of Dataset dataset_5_0: InputDataBuffer[Input] -> HashAggregateOperator[HashAggregate(key_columns=(), num_partitions=1)] -> LimitOperator[limit=1]\n"
     ]
    },
    {
     "data": {
      "application/vnd.jupyter.widget-view+json": {
       "model_id": "08d34f664d4640cd9daa883ae8ce3f55",
       "version_major": 2,
       "version_minor": 0
      },
      "text/plain": [
       "Running 0: 0.00 row [00:00, ? row/s]"
      ]
     },
     "metadata": {},
     "output_type": "display_data"
    },
    {
     "data": {
      "application/vnd.jupyter.widget-view+json": {
       "model_id": "50dd6d63fa4d416fa45c78c243797104",
       "version_major": 2,
       "version_minor": 0
      },
      "text/plain": [
       "- HashAggregate(key_columns=(), num_partitions=1) 1: 0.00 row [00:00, ? row/s]"
      ]
     },
     "metadata": {},
     "output_type": "display_data"
    },
    {
     "data": {
      "application/vnd.jupyter.widget-view+json": {
       "model_id": "a1ef34e5e71043748d902b7bb73187ff",
       "version_major": 2,
       "version_minor": 0
      },
      "text/plain": [
       "Shuffle 2:   0%|          | 0.00/1.00 [00:00<?, ? row/s]"
      ]
     },
     "metadata": {},
     "output_type": "display_data"
    },
    {
     "data": {
      "application/vnd.jupyter.widget-view+json": {
       "model_id": "fbf6ed069a5648d194b8a04be44313ac",
       "version_major": 2,
       "version_minor": 0
      },
      "text/plain": [
       "Aggregation 3:   0%|          | 0.00/1.00 [00:00<?, ? row/s]"
      ]
     },
     "metadata": {},
     "output_type": "display_data"
    },
    {
     "data": {
      "application/vnd.jupyter.widget-view+json": {
       "model_id": "21c731f89ce14172a1312253913449ca",
       "version_major": 2,
       "version_minor": 0
      },
      "text/plain": [
       "- limit=1 4: 0.00 row [00:00, ? row/s]"
      ]
     },
     "metadata": {},
     "output_type": "display_data"
    },
    {
     "name": "stderr",
     "output_type": "stream",
     "text": [
      "2025-10-06 23:51:48,158\tINFO streaming_executor.py:279 -- ✔️  Dataset dataset_5_0 execution finished in 0.29 seconds\n",
      "2025-10-06 23:51:48,189\tINFO logging.py:293 -- Registered dataset logger for dataset dataset_6_0\n"
     ]
    },
    {
     "data": {
      "text/html": [
       "<div>\n",
       "<style scoped>\n",
       "    .dataframe tbody tr th:only-of-type {\n",
       "        vertical-align: middle;\n",
       "    }\n",
       "\n",
       "    .dataframe tbody tr th {\n",
       "        vertical-align: top;\n",
       "    }\n",
       "\n",
       "    .dataframe thead th {\n",
       "        text-align: right;\n",
       "    }\n",
       "</style>\n",
       "<table border=\"1\" class=\"dataframe\">\n",
       "  <thead>\n",
       "    <tr style=\"text-align: right;\">\n",
       "      <th></th>\n",
       "      <th>column</th>\n",
       "      <th>count</th>\n",
       "      <th>mean</th>\n",
       "      <th>min</th>\n",
       "      <th>max</th>\n",
       "      <th>std</th>\n",
       "      <th>missing_pct</th>\n",
       "      <th>zero_pct</th>\n",
       "      <th>feature_type</th>\n",
       "    </tr>\n",
       "  </thead>\n",
       "  <tbody>\n",
       "    <tr>\n",
       "      <th>3</th>\n",
       "      <td>name</td>\n",
       "      <td>3</td>\n",
       "      <td>NaN</td>\n",
       "      <td>NaN</td>\n",
       "      <td>NaN</td>\n",
       "      <td>NaN</td>\n",
       "      <td>33.333333</td>\n",
       "      <td>NaN</td>\n",
       "      <td>FeatureType.CATEGORICAL</td>\n",
       "    </tr>\n",
       "  </tbody>\n",
       "</table>\n",
       "</div>"
      ],
      "text/plain": [
       "  column  count  mean  min  max  std  missing_pct  zero_pct  \\\n",
       "3   name      3   NaN  NaN  NaN  NaN    33.333333       NaN   \n",
       "\n",
       "              feature_type  \n",
       "3  FeatureType.CATEGORICAL  "
      ]
     },
     "execution_count": 5,
     "metadata": {},
     "output_type": "execute_result"
    }
   ],
   "source": [
    "summary_ds = ds.summary()\n",
    "feature_types = to_feature_type_dataset(summary_ds, ds.schema())\n",
    "feature_types[FeatureType.CATEGORICAL]"
   ]
  },
  {
   "cell_type": "markdown",
   "id": "3e69a22b",
   "metadata": {},
   "source": [
    "# VECTOR FEATURES"
   ]
  },
  {
   "cell_type": "code",
   "execution_count": 6,
   "id": "93acadfb",
   "metadata": {},
   "outputs": [
    {
     "data": {
      "text/html": [
       "<div>\n",
       "<style scoped>\n",
       "    .dataframe tbody tr th:only-of-type {\n",
       "        vertical-align: middle;\n",
       "    }\n",
       "\n",
       "    .dataframe tbody tr th {\n",
       "        vertical-align: top;\n",
       "    }\n",
       "\n",
       "    .dataframe thead th {\n",
       "        text-align: right;\n",
       "    }\n",
       "</style>\n",
       "<table border=\"1\" class=\"dataframe\">\n",
       "  <thead>\n",
       "    <tr style=\"text-align: right;\">\n",
       "      <th></th>\n",
       "      <th>column</th>\n",
       "      <th>count</th>\n",
       "      <th>mean</th>\n",
       "      <th>min</th>\n",
       "      <th>max</th>\n",
       "      <th>std</th>\n",
       "      <th>missing_pct</th>\n",
       "      <th>zero_pct</th>\n",
       "      <th>feature_type</th>\n",
       "    </tr>\n",
       "  </thead>\n",
       "  <tbody>\n",
       "    <tr>\n",
       "      <th>4</th>\n",
       "      <td>scores</td>\n",
       "      <td>3</td>\n",
       "      <td>NaN</td>\n",
       "      <td>NaN</td>\n",
       "      <td>NaN</td>\n",
       "      <td>NaN</td>\n",
       "      <td>0.0</td>\n",
       "      <td>NaN</td>\n",
       "      <td>FeatureType.VECTOR</td>\n",
       "    </tr>\n",
       "    <tr>\n",
       "      <th>5</th>\n",
       "      <td>embeddings</td>\n",
       "      <td>3</td>\n",
       "      <td>NaN</td>\n",
       "      <td>NaN</td>\n",
       "      <td>NaN</td>\n",
       "      <td>NaN</td>\n",
       "      <td>0.0</td>\n",
       "      <td>NaN</td>\n",
       "      <td>FeatureType.VECTOR</td>\n",
       "    </tr>\n",
       "  </tbody>\n",
       "</table>\n",
       "</div>"
      ],
      "text/plain": [
       "       column  count  mean  min  max  std  missing_pct  zero_pct  \\\n",
       "4      scores      3   NaN  NaN  NaN  NaN          0.0       NaN   \n",
       "5  embeddings      3   NaN  NaN  NaN  NaN          0.0       NaN   \n",
       "\n",
       "         feature_type  \n",
       "4  FeatureType.VECTOR  \n",
       "5  FeatureType.VECTOR  "
      ]
     },
     "execution_count": 6,
     "metadata": {},
     "output_type": "execute_result"
    }
   ],
   "source": [
    "feature_types[FeatureType.VECTOR]"
   ]
  },
  {
   "cell_type": "markdown",
   "id": "0ebc5e5f",
   "metadata": {},
   "source": [
    "# NUMERICAL FEATURES"
   ]
  },
  {
   "cell_type": "code",
   "execution_count": 7,
   "id": "b1990b54",
   "metadata": {},
   "outputs": [
    {
     "data": {
      "text/html": [
       "<div>\n",
       "<style scoped>\n",
       "    .dataframe tbody tr th:only-of-type {\n",
       "        vertical-align: middle;\n",
       "    }\n",
       "\n",
       "    .dataframe tbody tr th {\n",
       "        vertical-align: top;\n",
       "    }\n",
       "\n",
       "    .dataframe thead th {\n",
       "        text-align: right;\n",
       "    }\n",
       "</style>\n",
       "<table border=\"1\" class=\"dataframe\">\n",
       "  <thead>\n",
       "    <tr style=\"text-align: right;\">\n",
       "      <th></th>\n",
       "      <th>column</th>\n",
       "      <th>count</th>\n",
       "      <th>mean</th>\n",
       "      <th>min</th>\n",
       "      <th>max</th>\n",
       "      <th>std</th>\n",
       "      <th>missing_pct</th>\n",
       "      <th>zero_pct</th>\n",
       "      <th>feature_type</th>\n",
       "    </tr>\n",
       "  </thead>\n",
       "  <tbody>\n",
       "    <tr>\n",
       "      <th>0</th>\n",
       "      <td>id</td>\n",
       "      <td>3</td>\n",
       "      <td>2.0</td>\n",
       "      <td>1</td>\n",
       "      <td>3</td>\n",
       "      <td>0.816497</td>\n",
       "      <td>0.000000</td>\n",
       "      <td>0.0</td>\n",
       "      <td>FeatureType.NUMERICAL</td>\n",
       "    </tr>\n",
       "    <tr>\n",
       "      <th>1</th>\n",
       "      <td>age</td>\n",
       "      <td>3</td>\n",
       "      <td>27.5</td>\n",
       "      <td>25</td>\n",
       "      <td>30</td>\n",
       "      <td>2.500000</td>\n",
       "      <td>33.333333</td>\n",
       "      <td>0.0</td>\n",
       "      <td>FeatureType.NUMERICAL</td>\n",
       "    </tr>\n",
       "    <tr>\n",
       "      <th>2</th>\n",
       "      <td>salary</td>\n",
       "      <td>3</td>\n",
       "      <td>55000.0</td>\n",
       "      <td>50000.0</td>\n",
       "      <td>60000.0</td>\n",
       "      <td>5000.000000</td>\n",
       "      <td>33.333333</td>\n",
       "      <td>0.0</td>\n",
       "      <td>FeatureType.NUMERICAL</td>\n",
       "    </tr>\n",
       "  </tbody>\n",
       "</table>\n",
       "</div>"
      ],
      "text/plain": [
       "   column  count     mean      min      max          std  missing_pct  \\\n",
       "0      id      3      2.0        1        3     0.816497     0.000000   \n",
       "1     age      3     27.5       25       30     2.500000    33.333333   \n",
       "2  salary      3  55000.0  50000.0  60000.0  5000.000000    33.333333   \n",
       "\n",
       "   zero_pct           feature_type  \n",
       "0       0.0  FeatureType.NUMERICAL  \n",
       "1       0.0  FeatureType.NUMERICAL  \n",
       "2       0.0  FeatureType.NUMERICAL  "
      ]
     },
     "execution_count": 7,
     "metadata": {},
     "output_type": "execute_result"
    }
   ],
   "source": [
    "# NUMERICAL FEATURES\n",
    "feature_types[FeatureType.NUMERICAL]"
   ]
  },
  {
   "cell_type": "code",
   "execution_count": null,
   "id": "f3fa4d85",
   "metadata": {},
   "outputs": [],
   "source": []
  }
 ],
 "metadata": {
  "kernelspec": {
   "display_name": ".venv",
   "language": "python",
   "name": "python3"
  },
  "language_info": {
   "codemirror_mode": {
    "name": "ipython",
    "version": 3
   },
   "file_extension": ".py",
   "mimetype": "text/x-python",
   "name": "python",
   "nbconvert_exporter": "python",
   "pygments_lexer": "ipython3",
   "version": "3.11.12"
  }
 },
 "nbformat": 4,
 "nbformat_minor": 5
}
