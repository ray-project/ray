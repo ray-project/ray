{
 "cells": [
  {
   "cell_type": "markdown",
   "metadata": {},
   "source": [
    "This notebook is based on [an official 🤗 notebook - \"How to fine-tune a model on text classification\"](https://github.com/huggingface/notebooks/blob/6ca682955173cc9d36ffa431ddda505a048cbe80/examples/text_classification.ipynb). The main aim of this notebook is to show the process of conversion from vanilla 🤗 to [Ray AIR](https://docs.ray.io/en/latest/ray-air/getting-started.html) 🤗 without changing the training logic unless necessary."
   ]
  },
  {
   "cell_type": "markdown",
   "metadata": {},
   "source": [
    "If you do not have 🤗 Datasets and 🤗 Transformers installed locally, uncomment and run the following line:"
   ]
  },
  {
   "cell_type": "code",
   "execution_count": 1,
   "metadata": {},
   "outputs": [],
   "source": [
    "#! pip install datasets transformers"
   ]
  },
  {
   "cell_type": "markdown",
   "metadata": {},
   "source": [
    "We will use a [runtime enviroment](https://docs.ray.io/en/latest/ray-core/handling-dependencies.html#runtime-environments) to ensure that we have 🤗 Datasets and 🤗 Transformers installed on the Ray cluster."
   ]
  },
  {
   "cell_type": "code",
   "execution_count": 2,
   "metadata": {
    "colab": {
     "base_uri": "https://localhost:8080/",
     "height": 1000
    },
    "id": "MOsHUjgdIrIW",
    "outputId": "f84a093e-147f-470e-aad9-80fb51193c8e"
   },
   "outputs": [
    {
     "name": "stderr",
     "output_type": "stream",
     "text": [
      "2022-05-04 14:35:23,123\tINFO services.py:1470 -- View the Ray dashboard at \u001b[1m\u001b[32mhttp://127.0.0.1:8265\u001b[39m\u001b[22m\n"
     ]
    },
    {
     "data": {
      "text/plain": [
       "RayContext(dashboard_url='127.0.0.1:8265', python_version='3.8.10', ray_version='2.0.0.dev0', ray_commit='{{RAY_COMMIT_SHA}}', address_info={'node_ip_address': '172.31.43.110', 'raylet_ip_address': '172.31.43.110', 'redis_address': None, 'object_store_address': '/tmp/ray/session_2022-05-04_14-35-20_580244_3647021/sockets/plasma_store', 'raylet_socket_name': '/tmp/ray/session_2022-05-04_14-35-20_580244_3647021/sockets/raylet', 'webui_url': '127.0.0.1:8265', 'session_dir': '/tmp/ray/session_2022-05-04_14-35-20_580244_3647021', 'metrics_export_port': 58493, 'gcs_address': '172.31.43.110:52471', 'address': '172.31.43.110:52471', 'node_id': 'bc8fa7f9d25a7c9c1f4b2ff5d81d85907f427c6c7e8d7e25904dd0ab'})"
      ]
     },
     "execution_count": 2,
     "metadata": {},
     "output_type": "execute_result"
    }
   ],
   "source": [
    "import ray\n",
    "\n",
    "runtime_env = {\n",
    "    \"pip\": [\n",
    "        \"torch==1.10.0\",  # required to pass\n",
    "        \"datasets\",\n",
    "        \"git+https://github.com/huggingface/transformers\"  # use master version due to a bug in 4.18 causing an exception during training\n",
    "    ],\n",
    "}\n",
    "ray.init(runtime_env=runtime_env)"
   ]
  },
  {
   "cell_type": "markdown",
   "metadata": {},
   "source": [
    "Make sure your version of Transformers on the cluster is at least 4.19.0:"
   ]
  },
  {
   "cell_type": "code",
   "execution_count": 3,
   "metadata": {},
   "outputs": [],
   "source": [
    "@ray.remote\n",
    "def print_transformers_version():\n",
    "    import transformers\n",
    "    print(transformers.__version__)\n",
    "\n",
    "ray.get(print_transformers_version.remote())"
   ]
  },
  {
   "cell_type": "markdown",
   "metadata": {
    "id": "rEJBSTyZIrIb"
   },
   "source": [
    "# Fine-tuning a model on a text classification task"
   ]
  },
  {
   "cell_type": "markdown",
   "metadata": {
    "id": "kTCFado4IrIc"
   },
   "source": [
    "In this notebook, we will see how to fine-tune one of the [🤗 Transformers](https://github.com/huggingface/transformers) model to a text classification task of the [GLUE Benchmark](https://gluebenchmark.com/). We will be running the training on a Ray Cluster using Ray AIR.\n",
    "\n",
    "The GLUE Benchmark is a group of nine classification tasks on sentences or pairs of sentences which are:\n",
    "\n",
    "- [CoLA](https://nyu-mll.github.io/CoLA/) (Corpus of Linguistic Acceptability) Determine if a sentence is grammatically correct or not.is a  dataset containing sentences labeled grammatically correct or not.\n",
    "- [MNLI](https://arxiv.org/abs/1704.05426) (Multi-Genre Natural Language Inference) Determine if a sentence entails, contradicts or is unrelated to a given hypothesis. (This dataset has two versions, one with the validation and test set coming from the same distribution, another called mismatched where the validation and test use out-of-domain data.)\n",
    "- [MRPC](https://www.microsoft.com/en-us/download/details.aspx?id=52398) (Microsoft Research Paraphrase Corpus) Determine if two sentences are paraphrases from one another or not.\n",
    "- [QNLI](https://rajpurkar.github.io/SQuAD-explorer/) (Question-answering Natural Language Inference) Determine if the answer to a question is in the second sentence or not. (This dataset is built from the SQuAD dataset.)\n",
    "- [QQP](https://data.quora.com/First-Quora-Dataset-Release-Question-Pairs) (Quora Question Pairs2) Determine if two questions are semantically equivalent or not.\n",
    "- [RTE](https://aclweb.org/aclwiki/Recognizing_Textual_Entailment) (Recognizing Textual Entailment) Determine if a sentence entails a given hypothesis or not.\n",
    "- [SST-2](https://nlp.stanford.edu/sentiment/index.html) (Stanford Sentiment Treebank) Determine if the sentence has a positive or negative sentiment.\n",
    "- [STS-B](http://ixa2.si.ehu.es/stswiki/index.php/STSbenchmark) (Semantic Textual Similarity Benchmark) Determine the similarity of two sentences with a score from 1 to 5.\n",
    "- [WNLI](https://cs.nyu.edu/faculty/davise/papers/WinogradSchemas/WS.html) (Winograd Natural Language Inference) Determine if a sentence with an anonymous pronoun and a sentence with this pronoun replaced are entailed or not. (This dataset is built from the Winograd Schema Challenge dataset.)\n",
    "\n",
    "Each task is named by its acronym, with `mnli-mm` standing for the mismatched version of MNLI (so same training set as `mnli` but different validation and test sets):"
   ]
  },
  {
   "cell_type": "code",
   "execution_count": 4,
   "metadata": {
    "id": "YZbiBDuGIrId"
   },
   "outputs": [
    {
     "name": "stdout",
     "output_type": "stream",
     "text": [
      "\u001b[2m\u001b[36m(print_transformers_version pid=3647269)\u001b[0m 4.19.0.dev0\n"
     ]
    }
   ],
   "source": [
    "GLUE_TASKS = [\"cola\", \"mnli\", \"mnli-mm\", \"mrpc\", \"qnli\", \"qqp\", \"rte\", \"sst2\", \"stsb\", \"wnli\"]"
   ]
  },
  {
   "cell_type": "markdown",
   "metadata": {
    "id": "4RRkXuteIrIh"
   },
   "source": [
    "This notebook is built to run on any of the tasks in the list above, with any model checkpoint from the [Model Hub](https://huggingface.co/models) as long as that model has a version with a classification head. Depending on you model and the GPU you are using, you might need to adjust the batch size to avoid out-of-memory errors. Set those three parameters, then the rest of the notebook should run smoothly:"
   ]
  },
  {
   "cell_type": "code",
   "execution_count": 5,
   "metadata": {
    "id": "zVvslsfMIrIh"
   },
   "outputs": [],
   "source": [
    "task = \"cola\"\n",
    "model_checkpoint = \"distilbert-base-uncased\"\n",
    "batch_size = 16"
   ]
  },
  {
   "cell_type": "markdown",
   "metadata": {
    "id": "whPRbBNbIrIl"
   },
   "source": [
    "## Loading the dataset"
   ]
  },
  {
   "cell_type": "markdown",
   "metadata": {
    "id": "W7QYTpxXIrIl"
   },
   "source": [
    "We will use the [🤗 Datasets](https://github.com/huggingface/datasets) library to download the data and get the metric we need to use for evaluation (to compare our model to the benchmark). This can be easily done with the functions `load_dataset` and `load_metric`.\n",
    "\n",
    "Apart from `mnli-mm` being a special code, we can directly pass our task name to those functions.\n",
    "\n",
    "As Ray AIR doesn't provide integrations for 🤗 Datasets yet, we will simply run the normal 🤗 Datasets code in a [Ray Task](https://docs.ray.io/en/latest/ray-core/key-concepts.html#tasks), so that execution happens on the Ray cluster. `load_metric_fn` will be used inside the `HuggingFaceTrainer` later. Note that we are only defining the functions here, and not running them. We will use them later."
   ]
  },
  {
   "cell_type": "code",
   "execution_count": 6,
   "metadata": {},
   "outputs": [],
   "source": [
    "from datasets import load_dataset, load_metric\n",
    "actual_task = \"mnli\" if task == \"mnli-mm\" else task\n",
    "\n",
    "def load_dataset_fn():\n",
    "    return load_dataset(\"glue\", actual_task)\n",
    "\n",
    "def load_metric_fn():\n",
    "    return load_metric('glue', actual_task)"
   ]
  },
  {
   "cell_type": "markdown",
   "metadata": {
    "id": "RzfPtOMoIrIu"
   },
   "source": [
    "The `dataset` object itself is [`DatasetDict`](https://huggingface.co/docs/datasets/package_reference/main_classes.html#datasetdict), which contains one key for the training, validation and test set (with more keys for the mismatched validation and test set in the special case of `mnli`)."
   ]
  },
  {
   "cell_type": "markdown",
   "metadata": {
    "id": "lnjDIuQ3IrI-"
   },
   "source": [
    "The metric is an instance of [`datasets.Metric`](https://huggingface.co/docs/datasets/package_reference/main_classes.html#datasets.Metric)."
   ]
  },
  {
   "cell_type": "markdown",
   "metadata": {
    "id": "YOCrQwPoIrJG"
   },
   "source": [
    "Note that `load_metric` has loaded the proper metric associated to your task, which is:\n",
    "\n",
    "- for CoLA: [Matthews Correlation Coefficient](https://en.wikipedia.org/wiki/Matthews_correlation_coefficient)\n",
    "- for MNLI (matched or mismatched): Accuracy\n",
    "- for MRPC: Accuracy and [F1 score](https://en.wikipedia.org/wiki/F1_score)\n",
    "- for QNLI: Accuracy\n",
    "- for QQP: Accuracy and [F1 score](https://en.wikipedia.org/wiki/F1_score)\n",
    "- for RTE: Accuracy\n",
    "- for SST-2: Accuracy\n",
    "- for STS-B: [Pearson Correlation Coefficient](https://en.wikipedia.org/wiki/Pearson_correlation_coefficient) and [Spearman's_Rank_Correlation_Coefficient](https://en.wikipedia.org/wiki/Spearman%27s_rank_correlation_coefficient)\n",
    "- for WNLI: Accuracy\n",
    "\n",
    "so the metric object only computes the one(s) needed for your task."
   ]
  },
  {
   "cell_type": "markdown",
   "metadata": {
    "id": "n9qywopnIrJH"
   },
   "source": [
    "## Preprocessing the data"
   ]
  },
  {
   "cell_type": "markdown",
   "metadata": {
    "id": "YVx71GdAIrJH"
   },
   "source": [
    "Before we can feed those texts to our model, we need to preprocess them. This is done by a 🤗 Transformers `Tokenizer` which will (as the name indicates) tokenize the inputs (including converting the tokens to their corresponding IDs in the pretrained vocabulary) and put it in a format the model expects, as well as generate the other inputs that model requires.\n",
    "\n",
    "To do all of this, we instantiate our tokenizer with the `AutoTokenizer.from_pretrained` method, which will ensure:\n",
    "\n",
    "- we get a tokenizer that corresponds to the model architecture we want to use,\n",
    "- we download the vocabulary used when pretraining this specific checkpoint.\n",
    "\n",
    "We continiue with our pattern of defining functions and variables which we will use in the final Ray Task."
   ]
  },
  {
   "cell_type": "code",
   "execution_count": 7,
   "metadata": {
    "id": "eXNLu_-nIrJI"
   },
   "outputs": [],
   "source": [
    "from transformers import AutoTokenizer\n",
    "\n",
    "def load_tokenizer_fn() -> AutoTokenizer:\n",
    "    tokenizer = AutoTokenizer.from_pretrained(model_checkpoint, use_fast=True)\n",
    "    return tokenizer"
   ]
  },
  {
   "cell_type": "markdown",
   "metadata": {
    "id": "Vl6IidfdIrJK"
   },
   "source": [
    "We pass along `use_fast=True` to the call above to use one of the fast tokenizers (backed by Rust) from the 🤗 Tokenizers library. Those fast tokenizers are available for almost all models, but if you got an error with the previous call, remove that argument."
   ]
  },
  {
   "cell_type": "markdown",
   "metadata": {
    "id": "qo_0B1M2IrJM"
   },
   "source": [
    "To preprocess our dataset, we will thus need the names of the columns containing the sentence(s). The following dictionary keeps track of the correspondence task to column names:"
   ]
  },
  {
   "cell_type": "code",
   "execution_count": 8,
   "metadata": {
    "id": "fyGdtK9oIrJM"
   },
   "outputs": [],
   "source": [
    "task_to_keys = {\n",
    "    \"cola\": (\"sentence\", None),\n",
    "    \"mnli\": (\"premise\", \"hypothesis\"),\n",
    "    \"mnli-mm\": (\"premise\", \"hypothesis\"),\n",
    "    \"mrpc\": (\"sentence1\", \"sentence2\"),\n",
    "    \"qnli\": (\"question\", \"sentence\"),\n",
    "    \"qqp\": (\"question1\", \"question2\"),\n",
    "    \"rte\": (\"sentence1\", \"sentence2\"),\n",
    "    \"sst2\": (\"sentence\", None),\n",
    "    \"stsb\": (\"sentence1\", \"sentence2\"),\n",
    "    \"wnli\": (\"sentence1\", \"sentence2\"),\n",
    "}"
   ]
  },
  {
   "cell_type": "markdown",
   "metadata": {
    "id": "2C0hcmp9IrJQ"
   },
   "source": [
    "We can them write the function that will preprocess our samples. We just feed them to the `tokenizer` with the argument `truncation=True`. This will ensure that an input longer that what the model selected can handle will be truncated to the maximum length accepted by the model."
   ]
  },
  {
   "cell_type": "code",
   "execution_count": 9,
   "metadata": {
    "id": "vc0BSBLIIrJQ"
   },
   "outputs": [],
   "source": [
    "def preprocess_function(examples, *, tokenizer):\n",
    "    sentence1_key, sentence2_key = task_to_keys[task]\n",
    "    if sentence2_key is None:\n",
    "        return tokenizer(examples[sentence1_key], truncation=True)\n",
    "    return tokenizer(examples[sentence1_key], examples[sentence2_key], truncation=True)"
   ]
  },
  {
   "cell_type": "markdown",
   "metadata": {
    "id": "zS-6iXTkIrJT"
   },
   "source": [
    "To apply this function on all the sentences (or pairs of sentences) in our dataset, we just use the `map` method of our `dataset` object we created earlier. This will apply the function on all the elements of all the splits in `dataset`, so our training, validation and testing data will be preprocessed in one single command."
   ]
  },
  {
   "cell_type": "code",
   "execution_count": 10,
   "metadata": {
    "id": "DDtsaJeVIrJT",
    "outputId": "aa4734bf-4ef5-4437-9948-2c16363da719"
   },
   "outputs": [],
   "source": [
    "def encode_dataset(dataset, tokenizer):\n",
    "    return dataset.map(preprocess_function, batched=True, fn_kwargs=dict(tokenizer=tokenizer))"
   ]
  },
  {
   "cell_type": "markdown",
   "metadata": {},
   "source": [
    "For Ray AIR, instead of using 🤗 Dataset objects directly, we will convert them to [Ray Datasets](https://docs.ray.io/en/latest/data/dataset.html). As both are backed by Arrow tables, the conversion is quite simple."
   ]
  },
  {
   "cell_type": "code",
   "execution_count": 11,
   "metadata": {},
   "outputs": [],
   "source": [
    "import ray.data\n",
    "from datasets import DatasetDict\n",
    "\n",
    "def convert_hf_dataset_to_ray_dataset(hf_dataset):\n",
    "    if isinstance(hf_dataset, DatasetDict):\n",
    "        return {k: ray.data.from_arrow(v.data.table) for k, v in hf_dataset.items()}\n",
    "    return ray.data.from_arrow(hf_dataset.data.table)"
   ]
  },
  {
   "cell_type": "markdown",
   "metadata": {},
   "source": [
    "Finally, we will tie it all up in one Ray Task. It will return a dictionary of Ray Datasets:\n",
    "\n",
    "(Note - you are of course not required to encapsulate everything in functions as we have done.)"
   ]
  },
  {
   "cell_type": "code",
   "execution_count": 12,
   "metadata": {},
   "outputs": [
    {
     "name": "stderr",
     "output_type": "stream",
     "text": [
      "\u001b[2m\u001b[36m(load_and_preprocess_dataset pid=3647269)\u001b[0m Reusing dataset glue (/home/ubuntu/.cache/huggingface/datasets/glue/cola/1.0.0/dacbe3125aa31d7f70367a07a8a9e72a5a0bfeb5fc42e75c9db75b96da6053ad)\n",
      "100%|██████████| 3/3 [00:00<00:00, 289.71it/s]269)\u001b[0m \n",
      "\u001b[2m\u001b[36m(load_and_preprocess_dataset pid=3647269)\u001b[0m Loading cached processed dataset at /home/ubuntu/.cache/huggingface/datasets/glue/cola/1.0.0/dacbe3125aa31d7f70367a07a8a9e72a5a0bfeb5fc42e75c9db75b96da6053ad/cache-f6befc129b891f86.arrow\n",
      "  0%|          | 0/2 [00:00<?, ?ba/s] pid=3647269)\u001b[0m \n",
      "100%|██████████| 2/2 [00:00<00:00, 10.14ba/s]7269)\u001b[0m \n",
      "\u001b[2m\u001b[36m(load_and_preprocess_dataset pid=3647269)\u001b[0m Loading cached processed dataset at /home/ubuntu/.cache/huggingface/datasets/glue/cola/1.0.0/dacbe3125aa31d7f70367a07a8a9e72a5a0bfeb5fc42e75c9db75b96da6053ad/cache-621ab3b8c607195a.arrow\n"
     ]
    }
   ],
   "source": [
    "@ray.remote\n",
    "def load_and_preprocess_dataset():\n",
    "    dataset = load_dataset_fn()\n",
    "    tokenizer = load_tokenizer_fn()\n",
    "    encoded_dataset = encode_dataset(dataset, tokenizer)\n",
    "    return convert_hf_dataset_to_ray_dataset(encoded_dataset)\n",
    "\n",
    "ray_datasets = ray.get(load_and_preprocess_dataset.remote())"
   ]
  },
  {
   "cell_type": "markdown",
   "metadata": {
    "id": "545PP3o8IrJV"
   },
   "source": [
    "## Fine-tuning the model"
   ]
  },
  {
   "cell_type": "markdown",
   "metadata": {
    "id": "FBiW8UpKIrJW"
   },
   "source": [
    "Now that our data is ready, we can download the pretrained model and fine-tune it.\n",
    "\n",
    "Since all our tasks are about sentence classification, we use the `AutoModelForSequenceClassification` class.\n",
    "\n",
    "We will not go into details about each specific component of the training (see the [original notebook](https://github.com/huggingface/notebooks/blob/6ca682955173cc9d36ffa431ddda505a048cbe80/examples/text_classification.ipynb) for that).\n",
    "\n",
    "The main difference when using the Ray AIR  is that we need to create our 🤗 Transformers `Trainer` inside a function (`trainer_init_per_worker`) and return it. That function will be passed to the `HuggingFaceTrainer` and ran on every Ray worker. The training will then proceed by the means of PyTorch DDP.\n",
    "\n",
    "Make sure that you initialize the model, metric and tokenizer inside that function. Otherwise, you may run into serialization errors.\n",
    "\n",
    "Please note that if you don't want to use CUDA, you need to explicitly set `no_cuda=True` inside the `TrainingArguments`. Furthermore, `push_to_hub=True` is not yet supported. Ray will however checkpoint the model at every epoch, allowing you to push it to hub manually. We will do that after the training.\n",
    "\n",
    "If you wish to use thrid party logging libraries, such as MLFlow or Weights&Biases, do not set them in `TrainingArguments` (they will be automatically disabled) - instead, you should be passing Ray AIR callbacks to `HuggingFaceTrainer`'s `run_config`. In this example, we will use MLFlow.\n",
    "\n",
    "We also set `disable_tqdm=True` to declutter the output a little."
   ]
  },
  {
   "cell_type": "code",
   "execution_count": 13,
   "metadata": {
    "id": "TlqNaB8jIrJW",
    "outputId": "84916cf3-6e6c-47f3-d081-032ec30a4132"
   },
   "outputs": [],
   "source": [
    "from transformers import AutoModelForSequenceClassification, TrainingArguments, Trainer\n",
    "import numpy as np\n",
    "import torch\n",
    "\n",
    "num_labels = 3 if task.startswith(\"mnli\") else 1 if task==\"stsb\" else 2\n",
    "metric_name = \"pearson\" if task == \"stsb\" else \"matthews_correlation\" if task == \"cola\" else \"accuracy\"\n",
    "model_name = model_checkpoint.split(\"/\")[-1]\n",
    "validation_key = \"validation_mismatched\" if task == \"mnli-mm\" else \"validation_matched\" if task == \"mnli\" else \"validation\"\n",
    "name = f\"{model_name}-finetuned-{task}\"\n",
    "\n",
    "def trainer_init_per_worker(train_dataset, eval_dataset = None, **config):\n",
    "    print(f\"Is CUDA available: {torch.cuda.is_available()}\")\n",
    "    metric = load_metric_fn()\n",
    "    tokenizer = load_tokenizer_fn()\n",
    "    model = AutoModelForSequenceClassification.from_pretrained(model_checkpoint, num_labels=num_labels)\n",
    "    args = TrainingArguments(\n",
    "        name,\n",
    "        evaluation_strategy=\"epoch\",\n",
    "        save_strategy=\"epoch\",\n",
    "        learning_rate=2e-5,\n",
    "        per_device_train_batch_size=batch_size,\n",
    "        per_device_eval_batch_size=batch_size,\n",
    "        num_train_epochs=2,\n",
    "        weight_decay=0.01,\n",
    "        push_to_hub=False,\n",
    "        disable_tqdm=True,\n",
    "        no_cuda=not torch.cuda.is_available(),\n",
    "    )\n",
    "\n",
    "    def compute_metrics(eval_pred):\n",
    "        predictions, labels = eval_pred\n",
    "        if task != \"stsb\":\n",
    "            predictions = np.argmax(predictions, axis=1)\n",
    "        else:\n",
    "            predictions = predictions[:, 0]\n",
    "        return metric.compute(predictions=predictions, references=labels)\n",
    "\n",
    "    trainer = Trainer(\n",
    "        model,\n",
    "        args,\n",
    "        train_dataset=train_dataset,\n",
    "        eval_dataset=eval_dataset,\n",
    "        tokenizer=tokenizer,\n",
    "        compute_metrics=compute_metrics\n",
    "    )\n",
    "\n",
    "    print(\"Starting training\")\n",
    "    return trainer"
   ]
  },
  {
   "cell_type": "markdown",
   "metadata": {
    "id": "CdzABDVcIrJg"
   },
   "source": [
    "With our `trainer_init_per_worker` complete, we can now instantiate the `HuggingFaceTrainer`. Aside from the function, we set the `scaling_config`, controlling the amount of workers and resources used, and the `datasets` we will use for training and evaluation.\n",
    "\n",
    "We will use 2 workers, each with a single GPU assigned, and we specify the `MlflowLoggerCallback` inside the `run_config`."
   ]
  },
  {
   "cell_type": "code",
   "execution_count": 14,
   "metadata": {},
   "outputs": [],
   "source": [
    "from ray.ml.train.integrations.huggingface import HuggingFaceTrainer\n",
    "from ray.ml import RunConfig\n",
    "from ray.tune.integration.mlflow import MLflowLoggerCallback\n",
    "\n",
    "trainer = HuggingFaceTrainer(\n",
    "    trainer_init_per_worker=trainer_init_per_worker,\n",
    "    scaling_config={\"num_workers\": 4, \"use_gpu\": False},\n",
    "    datasets={\"train\": ray_datasets[\"train\"], \"evaluation\": ray_datasets[validation_key]},\n",
    "    run_config=RunConfig(callbacks=[MLflowLoggerCallback(experiment_name=name)])\n",
    ")"
   ]
  },
  {
   "cell_type": "markdown",
   "metadata": {},
   "source": [
    "Finally, we call the `fit` method to being training with Ray AIR. We will save the `Result` object to a variable so we can access metrics and checkpoints."
   ]
  },
  {
   "cell_type": "code",
   "execution_count": 15,
   "metadata": {
    "id": "uNx5pyRlIrJh",
    "outputId": "077e661e-d36c-469b-89b8-7ff7f73541ec"
   },
   "outputs": [
    {
     "name": "stderr",
     "output_type": "stream",
     "text": [
      "\u001b[2m\u001b[36m(pid=3647387)\u001b[0m 2022-05-04 14:36:55.778885: W tensorflow/stream_executor/platform/default/dso_loader.cc:64] Could not load dynamic library 'libcudart.so.11.0'; dlerror: libcudart.so.11.0: cannot open shared object file: No such file or directory\n",
      "\u001b[2m\u001b[36m(pid=3647387)\u001b[0m 2022-05-04 14:36:55.778931: I tensorflow/stream_executor/cuda/cudart_stub.cc:29] Ignore above cudart dlerror if you do not have a GPU set up on your machine.\n"
     ]
    },
    {
     "data": {
      "text/html": [
       "== Status ==<br>Current time: 2022-05-04 14:37:03 (running for 00:00:11.64)<br>Memory usage on this node: 7.4/31.0 GiB<br>Using FIFO scheduling algorithm.<br>Resources requested: 5.0/8 CPUs, 0/0 GPUs, 0.0/15.04 GiB heap, 0.0/7.52 GiB objects<br>Result logdir: /home/ubuntu/ray_results/HuggingFaceTrainer_2022-05-04_14-36-52<br>Number of trials: 1/1 (1 RUNNING)<br><table>\n",
       "<thead>\n",
       "<tr><th>Trial name                    </th><th>status  </th><th>loc                  </th></tr>\n",
       "</thead>\n",
       "<tbody>\n",
       "<tr><td>HuggingFaceTrainer_a34c8_00000</td><td>RUNNING </td><td>172.31.43.110:3647387</td></tr>\n",
       "</tbody>\n",
       "</table><br><br>"
      ],
      "text/plain": [
       "<IPython.core.display.HTML object>"
      ]
     },
     "metadata": {},
     "output_type": "display_data"
    },
    {
     "name": "stderr",
     "output_type": "stream",
     "text": [
      "\u001b[2m\u001b[36m(BaseWorkerMixin pid=3647462)\u001b[0m 2022-05-04 14:37:07,156\tINFO torch.py:346 -- Setting up process group for: env:// [rank=3, world_size=4]\n",
      "\u001b[2m\u001b[36m(BaseWorkerMixin pid=3647461)\u001b[0m 2022-05-04 14:37:07,192\tINFO torch.py:346 -- Setting up process group for: env:// [rank=2, world_size=4]\n",
      "\u001b[2m\u001b[36m(BaseWorkerMixin pid=3647460)\u001b[0m 2022-05-04 14:37:07,197\tINFO torch.py:346 -- Setting up process group for: env:// [rank=1, world_size=4]\n",
      "\u001b[2m\u001b[36m(BaseWorkerMixin pid=3647459)\u001b[0m 2022-05-04 14:37:07,207\tINFO torch.py:346 -- Setting up process group for: env:// [rank=0, world_size=4]\n"
     ]
    },
    {
     "data": {
      "text/html": [
       "== Status ==<br>Current time: 2022-05-04 14:37:08 (running for 00:00:16.65)<br>Memory usage on this node: 8.2/31.0 GiB<br>Using FIFO scheduling algorithm.<br>Resources requested: 5.0/8 CPUs, 0/0 GPUs, 0.0/15.04 GiB heap, 0.0/7.52 GiB objects<br>Result logdir: /home/ubuntu/ray_results/HuggingFaceTrainer_2022-05-04_14-36-52<br>Number of trials: 1/1 (1 RUNNING)<br><table>\n",
       "<thead>\n",
       "<tr><th>Trial name                    </th><th>status  </th><th>loc                  </th></tr>\n",
       "</thead>\n",
       "<tbody>\n",
       "<tr><td>HuggingFaceTrainer_a34c8_00000</td><td>RUNNING </td><td>172.31.43.110:3647387</td></tr>\n",
       "</tbody>\n",
       "</table><br><br>"
      ],
      "text/plain": [
       "<IPython.core.display.HTML object>"
      ]
     },
     "metadata": {},
     "output_type": "display_data"
    },
    {
     "name": "stderr",
     "output_type": "stream",
     "text": [
      "\u001b[2m\u001b[36m(BaseWorkerMixin pid=3647461)\u001b[0m 2022-05-04 14:37:10.845960: W tensorflow/stream_executor/platform/default/dso_loader.cc:64] Could not load dynamic library 'libcudart.so.11.0'; dlerror: libcudart.so.11.0: cannot open shared object file: No such file or directory\n",
      "\u001b[2m\u001b[36m(BaseWorkerMixin pid=3647461)\u001b[0m 2022-05-04 14:37:10.845993: I tensorflow/stream_executor/cuda/cudart_stub.cc:29] Ignore above cudart dlerror if you do not have a GPU set up on your machine.\n",
      "\u001b[2m\u001b[36m(BaseWorkerMixin pid=3647462)\u001b[0m 2022-05-04 14:37:10.980593: W tensorflow/stream_executor/platform/default/dso_loader.cc:64] Could not load dynamic library 'libcudart.so.11.0'; dlerror: libcudart.so.11.0: cannot open shared object file: No such file or directory\n",
      "\u001b[2m\u001b[36m(BaseWorkerMixin pid=3647462)\u001b[0m 2022-05-04 14:37:10.980627: I tensorflow/stream_executor/cuda/cudart_stub.cc:29] Ignore above cudart dlerror if you do not have a GPU set up on your machine.\n",
      "\u001b[2m\u001b[36m(BaseWorkerMixin pid=3647460)\u001b[0m 2022-05-04 14:37:11.071504: W tensorflow/stream_executor/platform/default/dso_loader.cc:64] Could not load dynamic library 'libcudart.so.11.0'; dlerror: libcudart.so.11.0: cannot open shared object file: No such file or directory\n",
      "\u001b[2m\u001b[36m(BaseWorkerMixin pid=3647460)\u001b[0m 2022-05-04 14:37:11.071533: I tensorflow/stream_executor/cuda/cudart_stub.cc:29] Ignore above cudart dlerror if you do not have a GPU set up on your machine.\n",
      "\u001b[2m\u001b[36m(BaseWorkerMixin pid=3647459)\u001b[0m 2022-05-04 14:37:11.148659: W tensorflow/stream_executor/platform/default/dso_loader.cc:64] Could not load dynamic library 'libcudart.so.11.0'; dlerror: libcudart.so.11.0: cannot open shared object file: No such file or directory\n",
      "\u001b[2m\u001b[36m(BaseWorkerMixin pid=3647459)\u001b[0m 2022-05-04 14:37:11.148696: I tensorflow/stream_executor/cuda/cudart_stub.cc:29] Ignore above cudart dlerror if you do not have a GPU set up on your machine.\n"
     ]
    },
    {
     "name": "stdout",
     "output_type": "stream",
     "text": [
      "\u001b[2m\u001b[36m(BaseWorkerMixin pid=3647461)\u001b[0m Is CUDA available: False\n",
      "\u001b[2m\u001b[36m(BaseWorkerMixin pid=3647460)\u001b[0m Is CUDA available: False\n",
      "\u001b[2m\u001b[36m(BaseWorkerMixin pid=3647459)\u001b[0m Is CUDA available: False\n",
      "\u001b[2m\u001b[36m(BaseWorkerMixin pid=3647462)\u001b[0m Is CUDA available: False\n"
     ]
    },
    {
     "data": {
      "text/html": [
       "== Status ==<br>Current time: 2022-05-04 14:37:13 (running for 00:00:21.65)<br>Memory usage on this node: 9.0/31.0 GiB<br>Using FIFO scheduling algorithm.<br>Resources requested: 5.0/8 CPUs, 0/0 GPUs, 0.0/15.04 GiB heap, 0.0/7.52 GiB objects<br>Result logdir: /home/ubuntu/ray_results/HuggingFaceTrainer_2022-05-04_14-36-52<br>Number of trials: 1/1 (1 RUNNING)<br><table>\n",
       "<thead>\n",
       "<tr><th>Trial name                    </th><th>status  </th><th>loc                  </th></tr>\n",
       "</thead>\n",
       "<tbody>\n",
       "<tr><td>HuggingFaceTrainer_a34c8_00000</td><td>RUNNING </td><td>172.31.43.110:3647387</td></tr>\n",
       "</tbody>\n",
       "</table><br><br>"
      ],
      "text/plain": [
       "<IPython.core.display.HTML object>"
      ]
     },
     "metadata": {},
     "output_type": "display_data"
    },
    {
     "name": "stderr",
     "output_type": "stream",
     "text": [
      "\u001b[2m\u001b[36m(BaseWorkerMixin pid=3647461)\u001b[0m Some weights of the model checkpoint at distilbert-base-uncased were not used when initializing DistilBertForSequenceClassification: ['vocab_layer_norm.weight', 'vocab_layer_norm.bias', 'vocab_projector.weight', 'vocab_projector.bias', 'vocab_transform.bias', 'vocab_transform.weight']\n",
      "\u001b[2m\u001b[36m(BaseWorkerMixin pid=3647461)\u001b[0m - This IS expected if you are initializing DistilBertForSequenceClassification from the checkpoint of a model trained on another task or with another architecture (e.g. initializing a BertForSequenceClassification model from a BertForPreTraining model).\n",
      "\u001b[2m\u001b[36m(BaseWorkerMixin pid=3647461)\u001b[0m - This IS NOT expected if you are initializing DistilBertForSequenceClassification from the checkpoint of a model that you expect to be exactly identical (initializing a BertForSequenceClassification model from a BertForSequenceClassification model).\n",
      "\u001b[2m\u001b[36m(BaseWorkerMixin pid=3647461)\u001b[0m Some weights of DistilBertForSequenceClassification were not initialized from the model checkpoint at distilbert-base-uncased and are newly initialized: ['pre_classifier.weight', 'classifier.bias', 'pre_classifier.bias', 'classifier.weight']\n",
      "\u001b[2m\u001b[36m(BaseWorkerMixin pid=3647461)\u001b[0m You should probably TRAIN this model on a down-stream task to be able to use it for predictions and inference.\n",
      "\u001b[2m\u001b[36m(BaseWorkerMixin pid=3647460)\u001b[0m Some weights of the model checkpoint at distilbert-base-uncased were not used when initializing DistilBertForSequenceClassification: ['vocab_layer_norm.weight', 'vocab_layer_norm.bias', 'vocab_transform.weight', 'vocab_transform.bias', 'vocab_projector.bias', 'vocab_projector.weight']\n",
      "\u001b[2m\u001b[36m(BaseWorkerMixin pid=3647460)\u001b[0m - This IS expected if you are initializing DistilBertForSequenceClassification from the checkpoint of a model trained on another task or with another architecture (e.g. initializing a BertForSequenceClassification model from a BertForPreTraining model).\n",
      "\u001b[2m\u001b[36m(BaseWorkerMixin pid=3647460)\u001b[0m - This IS NOT expected if you are initializing DistilBertForSequenceClassification from the checkpoint of a model that you expect to be exactly identical (initializing a BertForSequenceClassification model from a BertForSequenceClassification model).\n",
      "\u001b[2m\u001b[36m(BaseWorkerMixin pid=3647460)\u001b[0m Some weights of DistilBertForSequenceClassification were not initialized from the model checkpoint at distilbert-base-uncased and are newly initialized: ['classifier.weight', 'pre_classifier.weight', 'classifier.bias', 'pre_classifier.bias']\n",
      "\u001b[2m\u001b[36m(BaseWorkerMixin pid=3647460)\u001b[0m You should probably TRAIN this model on a down-stream task to be able to use it for predictions and inference.\n",
      "\u001b[2m\u001b[36m(BaseWorkerMixin pid=3647462)\u001b[0m Some weights of the model checkpoint at distilbert-base-uncased were not used when initializing DistilBertForSequenceClassification: ['vocab_transform.bias', 'vocab_projector.weight', 'vocab_transform.weight', 'vocab_layer_norm.weight', 'vocab_projector.bias', 'vocab_layer_norm.bias']\n",
      "\u001b[2m\u001b[36m(BaseWorkerMixin pid=3647462)\u001b[0m - This IS expected if you are initializing DistilBertForSequenceClassification from the checkpoint of a model trained on another task or with another architecture (e.g. initializing a BertForSequenceClassification model from a BertForPreTraining model).\n",
      "\u001b[2m\u001b[36m(BaseWorkerMixin pid=3647462)\u001b[0m - This IS NOT expected if you are initializing DistilBertForSequenceClassification from the checkpoint of a model that you expect to be exactly identical (initializing a BertForSequenceClassification model from a BertForSequenceClassification model).\n",
      "\u001b[2m\u001b[36m(BaseWorkerMixin pid=3647462)\u001b[0m Some weights of DistilBertForSequenceClassification were not initialized from the model checkpoint at distilbert-base-uncased and are newly initialized: ['classifier.weight', 'pre_classifier.bias', 'pre_classifier.weight', 'classifier.bias']\n",
      "\u001b[2m\u001b[36m(BaseWorkerMixin pid=3647462)\u001b[0m You should probably TRAIN this model on a down-stream task to be able to use it for predictions and inference.\n",
      "\u001b[2m\u001b[36m(BaseWorkerMixin pid=3647459)\u001b[0m Some weights of the model checkpoint at distilbert-base-uncased were not used when initializing DistilBertForSequenceClassification: ['vocab_layer_norm.bias', 'vocab_projector.weight', 'vocab_transform.bias', 'vocab_layer_norm.weight', 'vocab_transform.weight', 'vocab_projector.bias']\n",
      "\u001b[2m\u001b[36m(BaseWorkerMixin pid=3647459)\u001b[0m - This IS expected if you are initializing DistilBertForSequenceClassification from the checkpoint of a model trained on another task or with another architecture (e.g. initializing a BertForSequenceClassification model from a BertForPreTraining model).\n",
      "\u001b[2m\u001b[36m(BaseWorkerMixin pid=3647459)\u001b[0m - This IS NOT expected if you are initializing DistilBertForSequenceClassification from the checkpoint of a model that you expect to be exactly identical (initializing a BertForSequenceClassification model from a BertForSequenceClassification model).\n",
      "\u001b[2m\u001b[36m(BaseWorkerMixin pid=3647459)\u001b[0m Some weights of DistilBertForSequenceClassification were not initialized from the model checkpoint at distilbert-base-uncased and are newly initialized: ['classifier.weight', 'pre_classifier.weight', 'pre_classifier.bias', 'classifier.bias']\n",
      "\u001b[2m\u001b[36m(BaseWorkerMixin pid=3647459)\u001b[0m You should probably TRAIN this model on a down-stream task to be able to use it for predictions and inference.\n"
     ]
    },
    {
     "name": "stdout",
     "output_type": "stream",
     "text": [
      "\u001b[2m\u001b[36m(BaseWorkerMixin pid=3647461)\u001b[0m Starting training\n",
      "\u001b[2m\u001b[36m(BaseWorkerMixin pid=3647460)\u001b[0m Starting training\n",
      "\u001b[2m\u001b[36m(BaseWorkerMixin pid=3647459)\u001b[0m Starting training\n",
      "\u001b[2m\u001b[36m(BaseWorkerMixin pid=3647462)\u001b[0m Starting training\n"
     ]
    },
    {
     "name": "stderr",
     "output_type": "stream",
     "text": [
      "\u001b[2m\u001b[36m(BaseWorkerMixin pid=3647461)\u001b[0m /tmp/ray/session_2022-05-04_14-35-20_580244_3647021/runtime_resources/pip/705671bf80604185113a03bbdf58e522426256b9/virtualenv/lib/python3.8/site-packages/transformers/optimization.py:306: FutureWarning: This implementation of AdamW is deprecated and will be removed in a future version. Use the PyTorch implementation torch.optim.AdamW instead, or set `no_deprecation_warning=True` to disable this warning\n",
      "\u001b[2m\u001b[36m(BaseWorkerMixin pid=3647461)\u001b[0m   warnings.warn(\n",
      "\u001b[2m\u001b[36m(BaseWorkerMixin pid=3647460)\u001b[0m /tmp/ray/session_2022-05-04_14-35-20_580244_3647021/runtime_resources/pip/705671bf80604185113a03bbdf58e522426256b9/virtualenv/lib/python3.8/site-packages/transformers/optimization.py:306: FutureWarning: This implementation of AdamW is deprecated and will be removed in a future version. Use the PyTorch implementation torch.optim.AdamW instead, or set `no_deprecation_warning=True` to disable this warning\n",
      "\u001b[2m\u001b[36m(BaseWorkerMixin pid=3647460)\u001b[0m   warnings.warn(\n",
      "\u001b[2m\u001b[36m(BaseWorkerMixin pid=3647459)\u001b[0m /tmp/ray/session_2022-05-04_14-35-20_580244_3647021/runtime_resources/pip/705671bf80604185113a03bbdf58e522426256b9/virtualenv/lib/python3.8/site-packages/transformers/optimization.py:306: FutureWarning: This implementation of AdamW is deprecated and will be removed in a future version. Use the PyTorch implementation torch.optim.AdamW instead, or set `no_deprecation_warning=True` to disable this warning\n",
      "\u001b[2m\u001b[36m(BaseWorkerMixin pid=3647459)\u001b[0m   warnings.warn(\n",
      "\u001b[2m\u001b[36m(BaseWorkerMixin pid=3647462)\u001b[0m /tmp/ray/session_2022-05-04_14-35-20_580244_3647021/runtime_resources/pip/705671bf80604185113a03bbdf58e522426256b9/virtualenv/lib/python3.8/site-packages/transformers/optimization.py:306: FutureWarning: This implementation of AdamW is deprecated and will be removed in a future version. Use the PyTorch implementation torch.optim.AdamW instead, or set `no_deprecation_warning=True` to disable this warning\n",
      "\u001b[2m\u001b[36m(BaseWorkerMixin pid=3647462)\u001b[0m   warnings.warn(\n",
      "\u001b[2m\u001b[36m(BaseWorkerMixin pid=3647459)\u001b[0m ***** Running training *****\n",
      "\u001b[2m\u001b[36m(BaseWorkerMixin pid=3647459)\u001b[0m   Num examples = 2144\n",
      "\u001b[2m\u001b[36m(BaseWorkerMixin pid=3647459)\u001b[0m   Num Epochs = 2\n",
      "\u001b[2m\u001b[36m(BaseWorkerMixin pid=3647459)\u001b[0m   Instantaneous batch size per device = 16\n",
      "\u001b[2m\u001b[36m(BaseWorkerMixin pid=3647459)\u001b[0m   Total train batch size (w. parallel, distributed & accumulation) = 64\n",
      "\u001b[2m\u001b[36m(BaseWorkerMixin pid=3647459)\u001b[0m   Gradient Accumulation steps = 1\n",
      "\u001b[2m\u001b[36m(BaseWorkerMixin pid=3647459)\u001b[0m   Total optimization steps = 268\n",
      "\u001b[2m\u001b[36m(BaseWorkerMixin pid=3647461)\u001b[0m [W reducer.cpp:1303] Warning: find_unused_parameters=True was specified in DDP constructor, but did not find any unused parameters in the forward pass. This flag results in an extra traversal of the autograd graph every iteration,  which can adversely affect performance. If your model indeed never has any unused parameters in the forward pass, consider turning this flag off. Note that this warning may be a false positive if your model has flow control causing later iterations to have unused parameters. (function operator())\n",
      "\u001b[2m\u001b[36m(BaseWorkerMixin pid=3647460)\u001b[0m [W reducer.cpp:1303] Warning: find_unused_parameters=True was specified in DDP constructor, but did not find any unused parameters in the forward pass. This flag results in an extra traversal of the autograd graph every iteration,  which can adversely affect performance. If your model indeed never has any unused parameters in the forward pass, consider turning this flag off. Note that this warning may be a false positive if your model has flow control causing later iterations to have unused parameters. (function operator())\n",
      "\u001b[2m\u001b[36m(BaseWorkerMixin pid=3647459)\u001b[0m [W reducer.cpp:1303] Warning: find_unused_parameters=True was specified in DDP constructor, but did not find any unused parameters in the forward pass. This flag results in an extra traversal of the autograd graph every iteration,  which can adversely affect performance. If your model indeed never has any unused parameters in the forward pass, consider turning this flag off. Note that this warning may be a false positive if your model has flow control causing later iterations to have unused parameters. (function operator())\n",
      "\u001b[2m\u001b[36m(BaseWorkerMixin pid=3647462)\u001b[0m [W reducer.cpp:1303] Warning: find_unused_parameters=True was specified in DDP constructor, but did not find any unused parameters in the forward pass. This flag results in an extra traversal of the autograd graph every iteration,  which can adversely affect performance. If your model indeed never has any unused parameters in the forward pass, consider turning this flag off. Note that this warning may be a false positive if your model has flow control causing later iterations to have unused parameters. (function operator())\n"
     ]
    },
    {
     "data": {
      "text/html": [
       "== Status ==<br>Current time: 2022-05-04 14:37:18 (running for 00:00:26.66)<br>Memory usage on this node: 12.9/31.0 GiB<br>Using FIFO scheduling algorithm.<br>Resources requested: 5.0/8 CPUs, 0/0 GPUs, 0.0/15.04 GiB heap, 0.0/7.52 GiB objects<br>Result logdir: /home/ubuntu/ray_results/HuggingFaceTrainer_2022-05-04_14-36-52<br>Number of trials: 1/1 (1 RUNNING)<br><table>\n",
       "<thead>\n",
       "<tr><th>Trial name                    </th><th>status  </th><th>loc                  </th></tr>\n",
       "</thead>\n",
       "<tbody>\n",
       "<tr><td>HuggingFaceTrainer_a34c8_00000</td><td>RUNNING </td><td>172.31.43.110:3647387</td></tr>\n",
       "</tbody>\n",
       "</table><br><br>"
      ],
      "text/plain": [
       "<IPython.core.display.HTML object>"
      ]
     },
     "metadata": {},
     "output_type": "display_data"
    },
    {
     "data": {
      "text/html": [
       "== Status ==<br>Current time: 2022-05-04 14:37:23 (running for 00:00:31.67)<br>Memory usage on this node: 14.6/31.0 GiB<br>Using FIFO scheduling algorithm.<br>Resources requested: 5.0/8 CPUs, 0/0 GPUs, 0.0/15.04 GiB heap, 0.0/7.52 GiB objects<br>Result logdir: /home/ubuntu/ray_results/HuggingFaceTrainer_2022-05-04_14-36-52<br>Number of trials: 1/1 (1 RUNNING)<br><table>\n",
       "<thead>\n",
       "<tr><th>Trial name                    </th><th>status  </th><th>loc                  </th></tr>\n",
       "</thead>\n",
       "<tbody>\n",
       "<tr><td>HuggingFaceTrainer_a34c8_00000</td><td>RUNNING </td><td>172.31.43.110:3647387</td></tr>\n",
       "</tbody>\n",
       "</table><br><br>"
      ],
      "text/plain": [
       "<IPython.core.display.HTML object>"
      ]
     },
     "metadata": {},
     "output_type": "display_data"
    },
    {
     "data": {
      "text/html": [
       "== Status ==<br>Current time: 2022-05-04 14:37:28 (running for 00:00:36.68)<br>Memory usage on this node: 14.7/31.0 GiB<br>Using FIFO scheduling algorithm.<br>Resources requested: 5.0/8 CPUs, 0/0 GPUs, 0.0/15.04 GiB heap, 0.0/7.52 GiB objects<br>Result logdir: /home/ubuntu/ray_results/HuggingFaceTrainer_2022-05-04_14-36-52<br>Number of trials: 1/1 (1 RUNNING)<br><table>\n",
       "<thead>\n",
       "<tr><th>Trial name                    </th><th>status  </th><th>loc                  </th></tr>\n",
       "</thead>\n",
       "<tbody>\n",
       "<tr><td>HuggingFaceTrainer_a34c8_00000</td><td>RUNNING </td><td>172.31.43.110:3647387</td></tr>\n",
       "</tbody>\n",
       "</table><br><br>"
      ],
      "text/plain": [
       "<IPython.core.display.HTML object>"
      ]
     },
     "metadata": {},
     "output_type": "display_data"
    },
    {
     "data": {
      "text/html": [
       "== Status ==<br>Current time: 2022-05-04 14:37:33 (running for 00:00:41.68)<br>Memory usage on this node: 14.6/31.0 GiB<br>Using FIFO scheduling algorithm.<br>Resources requested: 5.0/8 CPUs, 0/0 GPUs, 0.0/15.04 GiB heap, 0.0/7.52 GiB objects<br>Result logdir: /home/ubuntu/ray_results/HuggingFaceTrainer_2022-05-04_14-36-52<br>Number of trials: 1/1 (1 RUNNING)<br><table>\n",
       "<thead>\n",
       "<tr><th>Trial name                    </th><th>status  </th><th>loc                  </th></tr>\n",
       "</thead>\n",
       "<tbody>\n",
       "<tr><td>HuggingFaceTrainer_a34c8_00000</td><td>RUNNING </td><td>172.31.43.110:3647387</td></tr>\n",
       "</tbody>\n",
       "</table><br><br>"
      ],
      "text/plain": [
       "<IPython.core.display.HTML object>"
      ]
     },
     "metadata": {},
     "output_type": "display_data"
    },
    {
     "data": {
      "text/html": [
       "== Status ==<br>Current time: 2022-05-04 14:37:38 (running for 00:00:46.69)<br>Memory usage on this node: 14.7/31.0 GiB<br>Using FIFO scheduling algorithm.<br>Resources requested: 5.0/8 CPUs, 0/0 GPUs, 0.0/15.04 GiB heap, 0.0/7.52 GiB objects<br>Result logdir: /home/ubuntu/ray_results/HuggingFaceTrainer_2022-05-04_14-36-52<br>Number of trials: 1/1 (1 RUNNING)<br><table>\n",
       "<thead>\n",
       "<tr><th>Trial name                    </th><th>status  </th><th>loc                  </th></tr>\n",
       "</thead>\n",
       "<tbody>\n",
       "<tr><td>HuggingFaceTrainer_a34c8_00000</td><td>RUNNING </td><td>172.31.43.110:3647387</td></tr>\n",
       "</tbody>\n",
       "</table><br><br>"
      ],
      "text/plain": [
       "<IPython.core.display.HTML object>"
      ]
     },
     "metadata": {},
     "output_type": "display_data"
    },
    {
     "data": {
      "text/html": [
       "== Status ==<br>Current time: 2022-05-04 14:37:43 (running for 00:00:51.69)<br>Memory usage on this node: 14.7/31.0 GiB<br>Using FIFO scheduling algorithm.<br>Resources requested: 5.0/8 CPUs, 0/0 GPUs, 0.0/15.04 GiB heap, 0.0/7.52 GiB objects<br>Result logdir: /home/ubuntu/ray_results/HuggingFaceTrainer_2022-05-04_14-36-52<br>Number of trials: 1/1 (1 RUNNING)<br><table>\n",
       "<thead>\n",
       "<tr><th>Trial name                    </th><th>status  </th><th>loc                  </th></tr>\n",
       "</thead>\n",
       "<tbody>\n",
       "<tr><td>HuggingFaceTrainer_a34c8_00000</td><td>RUNNING </td><td>172.31.43.110:3647387</td></tr>\n",
       "</tbody>\n",
       "</table><br><br>"
      ],
      "text/plain": [
       "<IPython.core.display.HTML object>"
      ]
     },
     "metadata": {},
     "output_type": "display_data"
    },
    {
     "data": {
      "text/html": [
       "== Status ==<br>Current time: 2022-05-04 14:37:48 (running for 00:00:56.70)<br>Memory usage on this node: 14.7/31.0 GiB<br>Using FIFO scheduling algorithm.<br>Resources requested: 5.0/8 CPUs, 0/0 GPUs, 0.0/15.04 GiB heap, 0.0/7.52 GiB objects<br>Result logdir: /home/ubuntu/ray_results/HuggingFaceTrainer_2022-05-04_14-36-52<br>Number of trials: 1/1 (1 RUNNING)<br><table>\n",
       "<thead>\n",
       "<tr><th>Trial name                    </th><th>status  </th><th>loc                  </th></tr>\n",
       "</thead>\n",
       "<tbody>\n",
       "<tr><td>HuggingFaceTrainer_a34c8_00000</td><td>RUNNING </td><td>172.31.43.110:3647387</td></tr>\n",
       "</tbody>\n",
       "</table><br><br>"
      ],
      "text/plain": [
       "<IPython.core.display.HTML object>"
      ]
     },
     "metadata": {},
     "output_type": "display_data"
    },
    {
     "data": {
      "text/html": [
       "== Status ==<br>Current time: 2022-05-04 14:37:53 (running for 00:01:01.70)<br>Memory usage on this node: 14.9/31.0 GiB<br>Using FIFO scheduling algorithm.<br>Resources requested: 5.0/8 CPUs, 0/0 GPUs, 0.0/15.04 GiB heap, 0.0/7.52 GiB objects<br>Result logdir: /home/ubuntu/ray_results/HuggingFaceTrainer_2022-05-04_14-36-52<br>Number of trials: 1/1 (1 RUNNING)<br><table>\n",
       "<thead>\n",
       "<tr><th>Trial name                    </th><th>status  </th><th>loc                  </th></tr>\n",
       "</thead>\n",
       "<tbody>\n",
       "<tr><td>HuggingFaceTrainer_a34c8_00000</td><td>RUNNING </td><td>172.31.43.110:3647387</td></tr>\n",
       "</tbody>\n",
       "</table><br><br>"
      ],
      "text/plain": [
       "<IPython.core.display.HTML object>"
      ]
     },
     "metadata": {},
     "output_type": "display_data"
    },
    {
     "data": {
      "text/html": [
       "== Status ==<br>Current time: 2022-05-04 14:37:58 (running for 00:01:06.71)<br>Memory usage on this node: 15.0/31.0 GiB<br>Using FIFO scheduling algorithm.<br>Resources requested: 5.0/8 CPUs, 0/0 GPUs, 0.0/15.04 GiB heap, 0.0/7.52 GiB objects<br>Result logdir: /home/ubuntu/ray_results/HuggingFaceTrainer_2022-05-04_14-36-52<br>Number of trials: 1/1 (1 RUNNING)<br><table>\n",
       "<thead>\n",
       "<tr><th>Trial name                    </th><th>status  </th><th>loc                  </th></tr>\n",
       "</thead>\n",
       "<tbody>\n",
       "<tr><td>HuggingFaceTrainer_a34c8_00000</td><td>RUNNING </td><td>172.31.43.110:3647387</td></tr>\n",
       "</tbody>\n",
       "</table><br><br>"
      ],
      "text/plain": [
       "<IPython.core.display.HTML object>"
      ]
     },
     "metadata": {},
     "output_type": "display_data"
    },
    {
     "data": {
      "text/html": [
       "== Status ==<br>Current time: 2022-05-04 14:38:03 (running for 00:01:11.72)<br>Memory usage on this node: 15.0/31.0 GiB<br>Using FIFO scheduling algorithm.<br>Resources requested: 5.0/8 CPUs, 0/0 GPUs, 0.0/15.04 GiB heap, 0.0/7.52 GiB objects<br>Result logdir: /home/ubuntu/ray_results/HuggingFaceTrainer_2022-05-04_14-36-52<br>Number of trials: 1/1 (1 RUNNING)<br><table>\n",
       "<thead>\n",
       "<tr><th>Trial name                    </th><th>status  </th><th>loc                  </th></tr>\n",
       "</thead>\n",
       "<tbody>\n",
       "<tr><td>HuggingFaceTrainer_a34c8_00000</td><td>RUNNING </td><td>172.31.43.110:3647387</td></tr>\n",
       "</tbody>\n",
       "</table><br><br>"
      ],
      "text/plain": [
       "<IPython.core.display.HTML object>"
      ]
     },
     "metadata": {},
     "output_type": "display_data"
    },
    {
     "data": {
      "text/html": [
       "== Status ==<br>Current time: 2022-05-04 14:38:08 (running for 00:01:16.73)<br>Memory usage on this node: 15.0/31.0 GiB<br>Using FIFO scheduling algorithm.<br>Resources requested: 5.0/8 CPUs, 0/0 GPUs, 0.0/15.04 GiB heap, 0.0/7.52 GiB objects<br>Result logdir: /home/ubuntu/ray_results/HuggingFaceTrainer_2022-05-04_14-36-52<br>Number of trials: 1/1 (1 RUNNING)<br><table>\n",
       "<thead>\n",
       "<tr><th>Trial name                    </th><th>status  </th><th>loc                  </th></tr>\n",
       "</thead>\n",
       "<tbody>\n",
       "<tr><td>HuggingFaceTrainer_a34c8_00000</td><td>RUNNING </td><td>172.31.43.110:3647387</td></tr>\n",
       "</tbody>\n",
       "</table><br><br>"
      ],
      "text/plain": [
       "<IPython.core.display.HTML object>"
      ]
     },
     "metadata": {},
     "output_type": "display_data"
    },
    {
     "data": {
      "text/html": [
       "== Status ==<br>Current time: 2022-05-04 14:38:13 (running for 00:01:21.73)<br>Memory usage on this node: 14.9/31.0 GiB<br>Using FIFO scheduling algorithm.<br>Resources requested: 5.0/8 CPUs, 0/0 GPUs, 0.0/15.04 GiB heap, 0.0/7.52 GiB objects<br>Result logdir: /home/ubuntu/ray_results/HuggingFaceTrainer_2022-05-04_14-36-52<br>Number of trials: 1/1 (1 RUNNING)<br><table>\n",
       "<thead>\n",
       "<tr><th>Trial name                    </th><th>status  </th><th>loc                  </th></tr>\n",
       "</thead>\n",
       "<tbody>\n",
       "<tr><td>HuggingFaceTrainer_a34c8_00000</td><td>RUNNING </td><td>172.31.43.110:3647387</td></tr>\n",
       "</tbody>\n",
       "</table><br><br>"
      ],
      "text/plain": [
       "<IPython.core.display.HTML object>"
      ]
     },
     "metadata": {},
     "output_type": "display_data"
    },
    {
     "data": {
      "text/html": [
       "== Status ==<br>Current time: 2022-05-04 14:38:18 (running for 00:01:26.74)<br>Memory usage on this node: 15.2/31.0 GiB<br>Using FIFO scheduling algorithm.<br>Resources requested: 5.0/8 CPUs, 0/0 GPUs, 0.0/15.04 GiB heap, 0.0/7.52 GiB objects<br>Result logdir: /home/ubuntu/ray_results/HuggingFaceTrainer_2022-05-04_14-36-52<br>Number of trials: 1/1 (1 RUNNING)<br><table>\n",
       "<thead>\n",
       "<tr><th>Trial name                    </th><th>status  </th><th>loc                  </th></tr>\n",
       "</thead>\n",
       "<tbody>\n",
       "<tr><td>HuggingFaceTrainer_a34c8_00000</td><td>RUNNING </td><td>172.31.43.110:3647387</td></tr>\n",
       "</tbody>\n",
       "</table><br><br>"
      ],
      "text/plain": [
       "<IPython.core.display.HTML object>"
      ]
     },
     "metadata": {},
     "output_type": "display_data"
    },
    {
     "data": {
      "text/html": [
       "== Status ==<br>Current time: 2022-05-04 14:38:23 (running for 00:01:31.74)<br>Memory usage on this node: 15.0/31.0 GiB<br>Using FIFO scheduling algorithm.<br>Resources requested: 5.0/8 CPUs, 0/0 GPUs, 0.0/15.04 GiB heap, 0.0/7.52 GiB objects<br>Result logdir: /home/ubuntu/ray_results/HuggingFaceTrainer_2022-05-04_14-36-52<br>Number of trials: 1/1 (1 RUNNING)<br><table>\n",
       "<thead>\n",
       "<tr><th>Trial name                    </th><th>status  </th><th>loc                  </th></tr>\n",
       "</thead>\n",
       "<tbody>\n",
       "<tr><td>HuggingFaceTrainer_a34c8_00000</td><td>RUNNING </td><td>172.31.43.110:3647387</td></tr>\n",
       "</tbody>\n",
       "</table><br><br>"
      ],
      "text/plain": [
       "<IPython.core.display.HTML object>"
      ]
     },
     "metadata": {},
     "output_type": "display_data"
    },
    {
     "data": {
      "text/html": [
       "== Status ==<br>Current time: 2022-05-04 14:38:28 (running for 00:01:36.75)<br>Memory usage on this node: 14.9/31.0 GiB<br>Using FIFO scheduling algorithm.<br>Resources requested: 5.0/8 CPUs, 0/0 GPUs, 0.0/15.04 GiB heap, 0.0/7.52 GiB objects<br>Result logdir: /home/ubuntu/ray_results/HuggingFaceTrainer_2022-05-04_14-36-52<br>Number of trials: 1/1 (1 RUNNING)<br><table>\n",
       "<thead>\n",
       "<tr><th>Trial name                    </th><th>status  </th><th>loc                  </th></tr>\n",
       "</thead>\n",
       "<tbody>\n",
       "<tr><td>HuggingFaceTrainer_a34c8_00000</td><td>RUNNING </td><td>172.31.43.110:3647387</td></tr>\n",
       "</tbody>\n",
       "</table><br><br>"
      ],
      "text/plain": [
       "<IPython.core.display.HTML object>"
      ]
     },
     "metadata": {},
     "output_type": "display_data"
    },
    {
     "data": {
      "text/html": [
       "== Status ==<br>Current time: 2022-05-04 14:38:33 (running for 00:01:41.76)<br>Memory usage on this node: 15.1/31.0 GiB<br>Using FIFO scheduling algorithm.<br>Resources requested: 5.0/8 CPUs, 0/0 GPUs, 0.0/15.04 GiB heap, 0.0/7.52 GiB objects<br>Result logdir: /home/ubuntu/ray_results/HuggingFaceTrainer_2022-05-04_14-36-52<br>Number of trials: 1/1 (1 RUNNING)<br><table>\n",
       "<thead>\n",
       "<tr><th>Trial name                    </th><th>status  </th><th>loc                  </th></tr>\n",
       "</thead>\n",
       "<tbody>\n",
       "<tr><td>HuggingFaceTrainer_a34c8_00000</td><td>RUNNING </td><td>172.31.43.110:3647387</td></tr>\n",
       "</tbody>\n",
       "</table><br><br>"
      ],
      "text/plain": [
       "<IPython.core.display.HTML object>"
      ]
     },
     "metadata": {},
     "output_type": "display_data"
    },
    {
     "data": {
      "text/html": [
       "== Status ==<br>Current time: 2022-05-04 14:38:38 (running for 00:01:46.77)<br>Memory usage on this node: 15.0/31.0 GiB<br>Using FIFO scheduling algorithm.<br>Resources requested: 5.0/8 CPUs, 0/0 GPUs, 0.0/15.04 GiB heap, 0.0/7.52 GiB objects<br>Result logdir: /home/ubuntu/ray_results/HuggingFaceTrainer_2022-05-04_14-36-52<br>Number of trials: 1/1 (1 RUNNING)<br><table>\n",
       "<thead>\n",
       "<tr><th>Trial name                    </th><th>status  </th><th>loc                  </th></tr>\n",
       "</thead>\n",
       "<tbody>\n",
       "<tr><td>HuggingFaceTrainer_a34c8_00000</td><td>RUNNING </td><td>172.31.43.110:3647387</td></tr>\n",
       "</tbody>\n",
       "</table><br><br>"
      ],
      "text/plain": [
       "<IPython.core.display.HTML object>"
      ]
     },
     "metadata": {},
     "output_type": "display_data"
    },
    {
     "data": {
      "text/html": [
       "== Status ==<br>Current time: 2022-05-04 14:38:43 (running for 00:01:51.77)<br>Memory usage on this node: 15.1/31.0 GiB<br>Using FIFO scheduling algorithm.<br>Resources requested: 5.0/8 CPUs, 0/0 GPUs, 0.0/15.04 GiB heap, 0.0/7.52 GiB objects<br>Result logdir: /home/ubuntu/ray_results/HuggingFaceTrainer_2022-05-04_14-36-52<br>Number of trials: 1/1 (1 RUNNING)<br><table>\n",
       "<thead>\n",
       "<tr><th>Trial name                    </th><th>status  </th><th>loc                  </th></tr>\n",
       "</thead>\n",
       "<tbody>\n",
       "<tr><td>HuggingFaceTrainer_a34c8_00000</td><td>RUNNING </td><td>172.31.43.110:3647387</td></tr>\n",
       "</tbody>\n",
       "</table><br><br>"
      ],
      "text/plain": [
       "<IPython.core.display.HTML object>"
      ]
     },
     "metadata": {},
     "output_type": "display_data"
    },
    {
     "data": {
      "text/html": [
       "== Status ==<br>Current time: 2022-05-04 14:38:48 (running for 00:01:56.78)<br>Memory usage on this node: 14.9/31.0 GiB<br>Using FIFO scheduling algorithm.<br>Resources requested: 5.0/8 CPUs, 0/0 GPUs, 0.0/15.04 GiB heap, 0.0/7.52 GiB objects<br>Result logdir: /home/ubuntu/ray_results/HuggingFaceTrainer_2022-05-04_14-36-52<br>Number of trials: 1/1 (1 RUNNING)<br><table>\n",
       "<thead>\n",
       "<tr><th>Trial name                    </th><th>status  </th><th>loc                  </th></tr>\n",
       "</thead>\n",
       "<tbody>\n",
       "<tr><td>HuggingFaceTrainer_a34c8_00000</td><td>RUNNING </td><td>172.31.43.110:3647387</td></tr>\n",
       "</tbody>\n",
       "</table><br><br>"
      ],
      "text/plain": [
       "<IPython.core.display.HTML object>"
      ]
     },
     "metadata": {},
     "output_type": "display_data"
    },
    {
     "data": {
      "text/html": [
       "== Status ==<br>Current time: 2022-05-04 14:38:53 (running for 00:02:01.79)<br>Memory usage on this node: 14.9/31.0 GiB<br>Using FIFO scheduling algorithm.<br>Resources requested: 5.0/8 CPUs, 0/0 GPUs, 0.0/15.04 GiB heap, 0.0/7.52 GiB objects<br>Result logdir: /home/ubuntu/ray_results/HuggingFaceTrainer_2022-05-04_14-36-52<br>Number of trials: 1/1 (1 RUNNING)<br><table>\n",
       "<thead>\n",
       "<tr><th>Trial name                    </th><th>status  </th><th>loc                  </th></tr>\n",
       "</thead>\n",
       "<tbody>\n",
       "<tr><td>HuggingFaceTrainer_a34c8_00000</td><td>RUNNING </td><td>172.31.43.110:3647387</td></tr>\n",
       "</tbody>\n",
       "</table><br><br>"
      ],
      "text/plain": [
       "<IPython.core.display.HTML object>"
      ]
     },
     "metadata": {},
     "output_type": "display_data"
    },
    {
     "data": {
      "text/html": [
       "== Status ==<br>Current time: 2022-05-04 14:38:58 (running for 00:02:06.79)<br>Memory usage on this node: 14.9/31.0 GiB<br>Using FIFO scheduling algorithm.<br>Resources requested: 5.0/8 CPUs, 0/0 GPUs, 0.0/15.04 GiB heap, 0.0/7.52 GiB objects<br>Result logdir: /home/ubuntu/ray_results/HuggingFaceTrainer_2022-05-04_14-36-52<br>Number of trials: 1/1 (1 RUNNING)<br><table>\n",
       "<thead>\n",
       "<tr><th>Trial name                    </th><th>status  </th><th>loc                  </th></tr>\n",
       "</thead>\n",
       "<tbody>\n",
       "<tr><td>HuggingFaceTrainer_a34c8_00000</td><td>RUNNING </td><td>172.31.43.110:3647387</td></tr>\n",
       "</tbody>\n",
       "</table><br><br>"
      ],
      "text/plain": [
       "<IPython.core.display.HTML object>"
      ]
     },
     "metadata": {},
     "output_type": "display_data"
    },
    {
     "data": {
      "text/html": [
       "== Status ==<br>Current time: 2022-05-04 14:39:03 (running for 00:02:11.80)<br>Memory usage on this node: 14.9/31.0 GiB<br>Using FIFO scheduling algorithm.<br>Resources requested: 5.0/8 CPUs, 0/0 GPUs, 0.0/15.04 GiB heap, 0.0/7.52 GiB objects<br>Result logdir: /home/ubuntu/ray_results/HuggingFaceTrainer_2022-05-04_14-36-52<br>Number of trials: 1/1 (1 RUNNING)<br><table>\n",
       "<thead>\n",
       "<tr><th>Trial name                    </th><th>status  </th><th>loc                  </th></tr>\n",
       "</thead>\n",
       "<tbody>\n",
       "<tr><td>HuggingFaceTrainer_a34c8_00000</td><td>RUNNING </td><td>172.31.43.110:3647387</td></tr>\n",
       "</tbody>\n",
       "</table><br><br>"
      ],
      "text/plain": [
       "<IPython.core.display.HTML object>"
      ]
     },
     "metadata": {},
     "output_type": "display_data"
    },
    {
     "data": {
      "text/html": [
       "== Status ==<br>Current time: 2022-05-04 14:39:08 (running for 00:02:16.81)<br>Memory usage on this node: 14.9/31.0 GiB<br>Using FIFO scheduling algorithm.<br>Resources requested: 5.0/8 CPUs, 0/0 GPUs, 0.0/15.04 GiB heap, 0.0/7.52 GiB objects<br>Result logdir: /home/ubuntu/ray_results/HuggingFaceTrainer_2022-05-04_14-36-52<br>Number of trials: 1/1 (1 RUNNING)<br><table>\n",
       "<thead>\n",
       "<tr><th>Trial name                    </th><th>status  </th><th>loc                  </th></tr>\n",
       "</thead>\n",
       "<tbody>\n",
       "<tr><td>HuggingFaceTrainer_a34c8_00000</td><td>RUNNING </td><td>172.31.43.110:3647387</td></tr>\n",
       "</tbody>\n",
       "</table><br><br>"
      ],
      "text/plain": [
       "<IPython.core.display.HTML object>"
      ]
     },
     "metadata": {},
     "output_type": "display_data"
    },
    {
     "data": {
      "text/html": [
       "== Status ==<br>Current time: 2022-05-04 14:39:13 (running for 00:02:21.82)<br>Memory usage on this node: 14.9/31.0 GiB<br>Using FIFO scheduling algorithm.<br>Resources requested: 5.0/8 CPUs, 0/0 GPUs, 0.0/15.04 GiB heap, 0.0/7.52 GiB objects<br>Result logdir: /home/ubuntu/ray_results/HuggingFaceTrainer_2022-05-04_14-36-52<br>Number of trials: 1/1 (1 RUNNING)<br><table>\n",
       "<thead>\n",
       "<tr><th>Trial name                    </th><th>status  </th><th>loc                  </th></tr>\n",
       "</thead>\n",
       "<tbody>\n",
       "<tr><td>HuggingFaceTrainer_a34c8_00000</td><td>RUNNING </td><td>172.31.43.110:3647387</td></tr>\n",
       "</tbody>\n",
       "</table><br><br>"
      ],
      "text/plain": [
       "<IPython.core.display.HTML object>"
      ]
     },
     "metadata": {},
     "output_type": "display_data"
    },
    {
     "data": {
      "text/html": [
       "== Status ==<br>Current time: 2022-05-04 14:39:18 (running for 00:02:26.83)<br>Memory usage on this node: 14.9/31.0 GiB<br>Using FIFO scheduling algorithm.<br>Resources requested: 5.0/8 CPUs, 0/0 GPUs, 0.0/15.04 GiB heap, 0.0/7.52 GiB objects<br>Result logdir: /home/ubuntu/ray_results/HuggingFaceTrainer_2022-05-04_14-36-52<br>Number of trials: 1/1 (1 RUNNING)<br><table>\n",
       "<thead>\n",
       "<tr><th>Trial name                    </th><th>status  </th><th>loc                  </th></tr>\n",
       "</thead>\n",
       "<tbody>\n",
       "<tr><td>HuggingFaceTrainer_a34c8_00000</td><td>RUNNING </td><td>172.31.43.110:3647387</td></tr>\n",
       "</tbody>\n",
       "</table><br><br>"
      ],
      "text/plain": [
       "<IPython.core.display.HTML object>"
      ]
     },
     "metadata": {},
     "output_type": "display_data"
    },
    {
     "data": {
      "text/html": [
       "== Status ==<br>Current time: 2022-05-04 14:39:23 (running for 00:02:31.83)<br>Memory usage on this node: 15.0/31.0 GiB<br>Using FIFO scheduling algorithm.<br>Resources requested: 5.0/8 CPUs, 0/0 GPUs, 0.0/15.04 GiB heap, 0.0/7.52 GiB objects<br>Result logdir: /home/ubuntu/ray_results/HuggingFaceTrainer_2022-05-04_14-36-52<br>Number of trials: 1/1 (1 RUNNING)<br><table>\n",
       "<thead>\n",
       "<tr><th>Trial name                    </th><th>status  </th><th>loc                  </th></tr>\n",
       "</thead>\n",
       "<tbody>\n",
       "<tr><td>HuggingFaceTrainer_a34c8_00000</td><td>RUNNING </td><td>172.31.43.110:3647387</td></tr>\n",
       "</tbody>\n",
       "</table><br><br>"
      ],
      "text/plain": [
       "<IPython.core.display.HTML object>"
      ]
     },
     "metadata": {},
     "output_type": "display_data"
    },
    {
     "data": {
      "text/html": [
       "== Status ==<br>Current time: 2022-05-04 14:39:28 (running for 00:02:36.84)<br>Memory usage on this node: 15.0/31.0 GiB<br>Using FIFO scheduling algorithm.<br>Resources requested: 5.0/8 CPUs, 0/0 GPUs, 0.0/15.04 GiB heap, 0.0/7.52 GiB objects<br>Result logdir: /home/ubuntu/ray_results/HuggingFaceTrainer_2022-05-04_14-36-52<br>Number of trials: 1/1 (1 RUNNING)<br><table>\n",
       "<thead>\n",
       "<tr><th>Trial name                    </th><th>status  </th><th>loc                  </th></tr>\n",
       "</thead>\n",
       "<tbody>\n",
       "<tr><td>HuggingFaceTrainer_a34c8_00000</td><td>RUNNING </td><td>172.31.43.110:3647387</td></tr>\n",
       "</tbody>\n",
       "</table><br><br>"
      ],
      "text/plain": [
       "<IPython.core.display.HTML object>"
      ]
     },
     "metadata": {},
     "output_type": "display_data"
    },
    {
     "data": {
      "text/html": [
       "== Status ==<br>Current time: 2022-05-04 14:39:33 (running for 00:02:41.84)<br>Memory usage on this node: 15.0/31.0 GiB<br>Using FIFO scheduling algorithm.<br>Resources requested: 5.0/8 CPUs, 0/0 GPUs, 0.0/15.04 GiB heap, 0.0/7.52 GiB objects<br>Result logdir: /home/ubuntu/ray_results/HuggingFaceTrainer_2022-05-04_14-36-52<br>Number of trials: 1/1 (1 RUNNING)<br><table>\n",
       "<thead>\n",
       "<tr><th>Trial name                    </th><th>status  </th><th>loc                  </th></tr>\n",
       "</thead>\n",
       "<tbody>\n",
       "<tr><td>HuggingFaceTrainer_a34c8_00000</td><td>RUNNING </td><td>172.31.43.110:3647387</td></tr>\n",
       "</tbody>\n",
       "</table><br><br>"
      ],
      "text/plain": [
       "<IPython.core.display.HTML object>"
      ]
     },
     "metadata": {},
     "output_type": "display_data"
    },
    {
     "data": {
      "text/html": [
       "== Status ==<br>Current time: 2022-05-04 14:39:38 (running for 00:02:46.85)<br>Memory usage on this node: 15.0/31.0 GiB<br>Using FIFO scheduling algorithm.<br>Resources requested: 5.0/8 CPUs, 0/0 GPUs, 0.0/15.04 GiB heap, 0.0/7.52 GiB objects<br>Result logdir: /home/ubuntu/ray_results/HuggingFaceTrainer_2022-05-04_14-36-52<br>Number of trials: 1/1 (1 RUNNING)<br><table>\n",
       "<thead>\n",
       "<tr><th>Trial name                    </th><th>status  </th><th>loc                  </th></tr>\n",
       "</thead>\n",
       "<tbody>\n",
       "<tr><td>HuggingFaceTrainer_a34c8_00000</td><td>RUNNING </td><td>172.31.43.110:3647387</td></tr>\n",
       "</tbody>\n",
       "</table><br><br>"
      ],
      "text/plain": [
       "<IPython.core.display.HTML object>"
      ]
     },
     "metadata": {},
     "output_type": "display_data"
    },
    {
     "data": {
      "text/html": [
       "== Status ==<br>Current time: 2022-05-04 14:39:43 (running for 00:02:51.86)<br>Memory usage on this node: 15.0/31.0 GiB<br>Using FIFO scheduling algorithm.<br>Resources requested: 5.0/8 CPUs, 0/0 GPUs, 0.0/15.04 GiB heap, 0.0/7.52 GiB objects<br>Result logdir: /home/ubuntu/ray_results/HuggingFaceTrainer_2022-05-04_14-36-52<br>Number of trials: 1/1 (1 RUNNING)<br><table>\n",
       "<thead>\n",
       "<tr><th>Trial name                    </th><th>status  </th><th>loc                  </th></tr>\n",
       "</thead>\n",
       "<tbody>\n",
       "<tr><td>HuggingFaceTrainer_a34c8_00000</td><td>RUNNING </td><td>172.31.43.110:3647387</td></tr>\n",
       "</tbody>\n",
       "</table><br><br>"
      ],
      "text/plain": [
       "<IPython.core.display.HTML object>"
      ]
     },
     "metadata": {},
     "output_type": "display_data"
    },
    {
     "data": {
      "text/html": [
       "== Status ==<br>Current time: 2022-05-04 14:39:48 (running for 00:02:56.87)<br>Memory usage on this node: 15.0/31.0 GiB<br>Using FIFO scheduling algorithm.<br>Resources requested: 5.0/8 CPUs, 0/0 GPUs, 0.0/15.04 GiB heap, 0.0/7.52 GiB objects<br>Result logdir: /home/ubuntu/ray_results/HuggingFaceTrainer_2022-05-04_14-36-52<br>Number of trials: 1/1 (1 RUNNING)<br><table>\n",
       "<thead>\n",
       "<tr><th>Trial name                    </th><th>status  </th><th>loc                  </th></tr>\n",
       "</thead>\n",
       "<tbody>\n",
       "<tr><td>HuggingFaceTrainer_a34c8_00000</td><td>RUNNING </td><td>172.31.43.110:3647387</td></tr>\n",
       "</tbody>\n",
       "</table><br><br>"
      ],
      "text/plain": [
       "<IPython.core.display.HTML object>"
      ]
     },
     "metadata": {},
     "output_type": "display_data"
    },
    {
     "data": {
      "text/html": [
       "== Status ==<br>Current time: 2022-05-04 14:39:53 (running for 00:03:01.87)<br>Memory usage on this node: 15.1/31.0 GiB<br>Using FIFO scheduling algorithm.<br>Resources requested: 5.0/8 CPUs, 0/0 GPUs, 0.0/15.04 GiB heap, 0.0/7.52 GiB objects<br>Result logdir: /home/ubuntu/ray_results/HuggingFaceTrainer_2022-05-04_14-36-52<br>Number of trials: 1/1 (1 RUNNING)<br><table>\n",
       "<thead>\n",
       "<tr><th>Trial name                    </th><th>status  </th><th>loc                  </th></tr>\n",
       "</thead>\n",
       "<tbody>\n",
       "<tr><td>HuggingFaceTrainer_a34c8_00000</td><td>RUNNING </td><td>172.31.43.110:3647387</td></tr>\n",
       "</tbody>\n",
       "</table><br><br>"
      ],
      "text/plain": [
       "<IPython.core.display.HTML object>"
      ]
     },
     "metadata": {},
     "output_type": "display_data"
    },
    {
     "data": {
      "text/html": [
       "== Status ==<br>Current time: 2022-05-04 14:39:58 (running for 00:03:06.88)<br>Memory usage on this node: 15.0/31.0 GiB<br>Using FIFO scheduling algorithm.<br>Resources requested: 5.0/8 CPUs, 0/0 GPUs, 0.0/15.04 GiB heap, 0.0/7.52 GiB objects<br>Result logdir: /home/ubuntu/ray_results/HuggingFaceTrainer_2022-05-04_14-36-52<br>Number of trials: 1/1 (1 RUNNING)<br><table>\n",
       "<thead>\n",
       "<tr><th>Trial name                    </th><th>status  </th><th>loc                  </th></tr>\n",
       "</thead>\n",
       "<tbody>\n",
       "<tr><td>HuggingFaceTrainer_a34c8_00000</td><td>RUNNING </td><td>172.31.43.110:3647387</td></tr>\n",
       "</tbody>\n",
       "</table><br><br>"
      ],
      "text/plain": [
       "<IPython.core.display.HTML object>"
      ]
     },
     "metadata": {},
     "output_type": "display_data"
    },
    {
     "data": {
      "text/html": [
       "== Status ==<br>Current time: 2022-05-04 14:40:03 (running for 00:03:11.89)<br>Memory usage on this node: 15.1/31.0 GiB<br>Using FIFO scheduling algorithm.<br>Resources requested: 5.0/8 CPUs, 0/0 GPUs, 0.0/15.04 GiB heap, 0.0/7.52 GiB objects<br>Result logdir: /home/ubuntu/ray_results/HuggingFaceTrainer_2022-05-04_14-36-52<br>Number of trials: 1/1 (1 RUNNING)<br><table>\n",
       "<thead>\n",
       "<tr><th>Trial name                    </th><th>status  </th><th>loc                  </th></tr>\n",
       "</thead>\n",
       "<tbody>\n",
       "<tr><td>HuggingFaceTrainer_a34c8_00000</td><td>RUNNING </td><td>172.31.43.110:3647387</td></tr>\n",
       "</tbody>\n",
       "</table><br><br>"
      ],
      "text/plain": [
       "<IPython.core.display.HTML object>"
      ]
     },
     "metadata": {},
     "output_type": "display_data"
    },
    {
     "data": {
      "text/html": [
       "== Status ==<br>Current time: 2022-05-04 14:40:09 (running for 00:03:16.90)<br>Memory usage on this node: 15.1/31.0 GiB<br>Using FIFO scheduling algorithm.<br>Resources requested: 5.0/8 CPUs, 0/0 GPUs, 0.0/15.04 GiB heap, 0.0/7.52 GiB objects<br>Result logdir: /home/ubuntu/ray_results/HuggingFaceTrainer_2022-05-04_14-36-52<br>Number of trials: 1/1 (1 RUNNING)<br><table>\n",
       "<thead>\n",
       "<tr><th>Trial name                    </th><th>status  </th><th>loc                  </th></tr>\n",
       "</thead>\n",
       "<tbody>\n",
       "<tr><td>HuggingFaceTrainer_a34c8_00000</td><td>RUNNING </td><td>172.31.43.110:3647387</td></tr>\n",
       "</tbody>\n",
       "</table><br><br>"
      ],
      "text/plain": [
       "<IPython.core.display.HTML object>"
      ]
     },
     "metadata": {},
     "output_type": "display_data"
    },
    {
     "data": {
      "text/html": [
       "== Status ==<br>Current time: 2022-05-04 14:40:14 (running for 00:03:21.90)<br>Memory usage on this node: 15.2/31.0 GiB<br>Using FIFO scheduling algorithm.<br>Resources requested: 5.0/8 CPUs, 0/0 GPUs, 0.0/15.04 GiB heap, 0.0/7.52 GiB objects<br>Result logdir: /home/ubuntu/ray_results/HuggingFaceTrainer_2022-05-04_14-36-52<br>Number of trials: 1/1 (1 RUNNING)<br><table>\n",
       "<thead>\n",
       "<tr><th>Trial name                    </th><th>status  </th><th>loc                  </th></tr>\n",
       "</thead>\n",
       "<tbody>\n",
       "<tr><td>HuggingFaceTrainer_a34c8_00000</td><td>RUNNING </td><td>172.31.43.110:3647387</td></tr>\n",
       "</tbody>\n",
       "</table><br><br>"
      ],
      "text/plain": [
       "<IPython.core.display.HTML object>"
      ]
     },
     "metadata": {},
     "output_type": "display_data"
    },
    {
     "data": {
      "text/html": [
       "== Status ==<br>Current time: 2022-05-04 14:40:19 (running for 00:03:26.91)<br>Memory usage on this node: 15.2/31.0 GiB<br>Using FIFO scheduling algorithm.<br>Resources requested: 5.0/8 CPUs, 0/0 GPUs, 0.0/15.04 GiB heap, 0.0/7.52 GiB objects<br>Result logdir: /home/ubuntu/ray_results/HuggingFaceTrainer_2022-05-04_14-36-52<br>Number of trials: 1/1 (1 RUNNING)<br><table>\n",
       "<thead>\n",
       "<tr><th>Trial name                    </th><th>status  </th><th>loc                  </th></tr>\n",
       "</thead>\n",
       "<tbody>\n",
       "<tr><td>HuggingFaceTrainer_a34c8_00000</td><td>RUNNING </td><td>172.31.43.110:3647387</td></tr>\n",
       "</tbody>\n",
       "</table><br><br>"
      ],
      "text/plain": [
       "<IPython.core.display.HTML object>"
      ]
     },
     "metadata": {},
     "output_type": "display_data"
    },
    {
     "data": {
      "text/html": [
       "== Status ==<br>Current time: 2022-05-04 14:40:24 (running for 00:03:31.92)<br>Memory usage on this node: 15.2/31.0 GiB<br>Using FIFO scheduling algorithm.<br>Resources requested: 5.0/8 CPUs, 0/0 GPUs, 0.0/15.04 GiB heap, 0.0/7.52 GiB objects<br>Result logdir: /home/ubuntu/ray_results/HuggingFaceTrainer_2022-05-04_14-36-52<br>Number of trials: 1/1 (1 RUNNING)<br><table>\n",
       "<thead>\n",
       "<tr><th>Trial name                    </th><th>status  </th><th>loc                  </th></tr>\n",
       "</thead>\n",
       "<tbody>\n",
       "<tr><td>HuggingFaceTrainer_a34c8_00000</td><td>RUNNING </td><td>172.31.43.110:3647387</td></tr>\n",
       "</tbody>\n",
       "</table><br><br>"
      ],
      "text/plain": [
       "<IPython.core.display.HTML object>"
      ]
     },
     "metadata": {},
     "output_type": "display_data"
    },
    {
     "data": {
      "text/html": [
       "== Status ==<br>Current time: 2022-05-04 14:40:29 (running for 00:03:36.93)<br>Memory usage on this node: 15.2/31.0 GiB<br>Using FIFO scheduling algorithm.<br>Resources requested: 5.0/8 CPUs, 0/0 GPUs, 0.0/15.04 GiB heap, 0.0/7.52 GiB objects<br>Result logdir: /home/ubuntu/ray_results/HuggingFaceTrainer_2022-05-04_14-36-52<br>Number of trials: 1/1 (1 RUNNING)<br><table>\n",
       "<thead>\n",
       "<tr><th>Trial name                    </th><th>status  </th><th>loc                  </th></tr>\n",
       "</thead>\n",
       "<tbody>\n",
       "<tr><td>HuggingFaceTrainer_a34c8_00000</td><td>RUNNING </td><td>172.31.43.110:3647387</td></tr>\n",
       "</tbody>\n",
       "</table><br><br>"
      ],
      "text/plain": [
       "<IPython.core.display.HTML object>"
      ]
     },
     "metadata": {},
     "output_type": "display_data"
    },
    {
     "data": {
      "text/html": [
       "== Status ==<br>Current time: 2022-05-04 14:40:34 (running for 00:03:41.93)<br>Memory usage on this node: 15.2/31.0 GiB<br>Using FIFO scheduling algorithm.<br>Resources requested: 5.0/8 CPUs, 0/0 GPUs, 0.0/15.04 GiB heap, 0.0/7.52 GiB objects<br>Result logdir: /home/ubuntu/ray_results/HuggingFaceTrainer_2022-05-04_14-36-52<br>Number of trials: 1/1 (1 RUNNING)<br><table>\n",
       "<thead>\n",
       "<tr><th>Trial name                    </th><th>status  </th><th>loc                  </th></tr>\n",
       "</thead>\n",
       "<tbody>\n",
       "<tr><td>HuggingFaceTrainer_a34c8_00000</td><td>RUNNING </td><td>172.31.43.110:3647387</td></tr>\n",
       "</tbody>\n",
       "</table><br><br>"
      ],
      "text/plain": [
       "<IPython.core.display.HTML object>"
      ]
     },
     "metadata": {},
     "output_type": "display_data"
    },
    {
     "data": {
      "text/html": [
       "== Status ==<br>Current time: 2022-05-04 14:40:39 (running for 00:03:46.94)<br>Memory usage on this node: 15.2/31.0 GiB<br>Using FIFO scheduling algorithm.<br>Resources requested: 5.0/8 CPUs, 0/0 GPUs, 0.0/15.04 GiB heap, 0.0/7.52 GiB objects<br>Result logdir: /home/ubuntu/ray_results/HuggingFaceTrainer_2022-05-04_14-36-52<br>Number of trials: 1/1 (1 RUNNING)<br><table>\n",
       "<thead>\n",
       "<tr><th>Trial name                    </th><th>status  </th><th>loc                  </th></tr>\n",
       "</thead>\n",
       "<tbody>\n",
       "<tr><td>HuggingFaceTrainer_a34c8_00000</td><td>RUNNING </td><td>172.31.43.110:3647387</td></tr>\n",
       "</tbody>\n",
       "</table><br><br>"
      ],
      "text/plain": [
       "<IPython.core.display.HTML object>"
      ]
     },
     "metadata": {},
     "output_type": "display_data"
    },
    {
     "data": {
      "text/html": [
       "== Status ==<br>Current time: 2022-05-04 14:40:44 (running for 00:03:51.94)<br>Memory usage on this node: 15.2/31.0 GiB<br>Using FIFO scheduling algorithm.<br>Resources requested: 5.0/8 CPUs, 0/0 GPUs, 0.0/15.04 GiB heap, 0.0/7.52 GiB objects<br>Result logdir: /home/ubuntu/ray_results/HuggingFaceTrainer_2022-05-04_14-36-52<br>Number of trials: 1/1 (1 RUNNING)<br><table>\n",
       "<thead>\n",
       "<tr><th>Trial name                    </th><th>status  </th><th>loc                  </th></tr>\n",
       "</thead>\n",
       "<tbody>\n",
       "<tr><td>HuggingFaceTrainer_a34c8_00000</td><td>RUNNING </td><td>172.31.43.110:3647387</td></tr>\n",
       "</tbody>\n",
       "</table><br><br>"
      ],
      "text/plain": [
       "<IPython.core.display.HTML object>"
      ]
     },
     "metadata": {},
     "output_type": "display_data"
    },
    {
     "data": {
      "text/html": [
       "== Status ==<br>Current time: 2022-05-04 14:40:49 (running for 00:03:56.95)<br>Memory usage on this node: 15.6/31.0 GiB<br>Using FIFO scheduling algorithm.<br>Resources requested: 5.0/8 CPUs, 0/0 GPUs, 0.0/15.04 GiB heap, 0.0/7.52 GiB objects<br>Result logdir: /home/ubuntu/ray_results/HuggingFaceTrainer_2022-05-04_14-36-52<br>Number of trials: 1/1 (1 RUNNING)<br><table>\n",
       "<thead>\n",
       "<tr><th>Trial name                    </th><th>status  </th><th>loc                  </th></tr>\n",
       "</thead>\n",
       "<tbody>\n",
       "<tr><td>HuggingFaceTrainer_a34c8_00000</td><td>RUNNING </td><td>172.31.43.110:3647387</td></tr>\n",
       "</tbody>\n",
       "</table><br><br>"
      ],
      "text/plain": [
       "<IPython.core.display.HTML object>"
      ]
     },
     "metadata": {},
     "output_type": "display_data"
    },
    {
     "data": {
      "text/html": [
       "== Status ==<br>Current time: 2022-05-04 14:40:54 (running for 00:04:01.96)<br>Memory usage on this node: 15.2/31.0 GiB<br>Using FIFO scheduling algorithm.<br>Resources requested: 5.0/8 CPUs, 0/0 GPUs, 0.0/15.04 GiB heap, 0.0/7.52 GiB objects<br>Result logdir: /home/ubuntu/ray_results/HuggingFaceTrainer_2022-05-04_14-36-52<br>Number of trials: 1/1 (1 RUNNING)<br><table>\n",
       "<thead>\n",
       "<tr><th>Trial name                    </th><th>status  </th><th>loc                  </th></tr>\n",
       "</thead>\n",
       "<tbody>\n",
       "<tr><td>HuggingFaceTrainer_a34c8_00000</td><td>RUNNING </td><td>172.31.43.110:3647387</td></tr>\n",
       "</tbody>\n",
       "</table><br><br>"
      ],
      "text/plain": [
       "<IPython.core.display.HTML object>"
      ]
     },
     "metadata": {},
     "output_type": "display_data"
    },
    {
     "data": {
      "text/html": [
       "== Status ==<br>Current time: 2022-05-04 14:40:59 (running for 00:04:06.97)<br>Memory usage on this node: 15.2/31.0 GiB<br>Using FIFO scheduling algorithm.<br>Resources requested: 5.0/8 CPUs, 0/0 GPUs, 0.0/15.04 GiB heap, 0.0/7.52 GiB objects<br>Result logdir: /home/ubuntu/ray_results/HuggingFaceTrainer_2022-05-04_14-36-52<br>Number of trials: 1/1 (1 RUNNING)<br><table>\n",
       "<thead>\n",
       "<tr><th>Trial name                    </th><th>status  </th><th>loc                  </th></tr>\n",
       "</thead>\n",
       "<tbody>\n",
       "<tr><td>HuggingFaceTrainer_a34c8_00000</td><td>RUNNING </td><td>172.31.43.110:3647387</td></tr>\n",
       "</tbody>\n",
       "</table><br><br>"
      ],
      "text/plain": [
       "<IPython.core.display.HTML object>"
      ]
     },
     "metadata": {},
     "output_type": "display_data"
    },
    {
     "data": {
      "text/html": [
       "== Status ==<br>Current time: 2022-05-04 14:41:04 (running for 00:04:11.98)<br>Memory usage on this node: 15.2/31.0 GiB<br>Using FIFO scheduling algorithm.<br>Resources requested: 5.0/8 CPUs, 0/0 GPUs, 0.0/15.04 GiB heap, 0.0/7.52 GiB objects<br>Result logdir: /home/ubuntu/ray_results/HuggingFaceTrainer_2022-05-04_14-36-52<br>Number of trials: 1/1 (1 RUNNING)<br><table>\n",
       "<thead>\n",
       "<tr><th>Trial name                    </th><th>status  </th><th>loc                  </th></tr>\n",
       "</thead>\n",
       "<tbody>\n",
       "<tr><td>HuggingFaceTrainer_a34c8_00000</td><td>RUNNING </td><td>172.31.43.110:3647387</td></tr>\n",
       "</tbody>\n",
       "</table><br><br>"
      ],
      "text/plain": [
       "<IPython.core.display.HTML object>"
      ]
     },
     "metadata": {},
     "output_type": "display_data"
    },
    {
     "data": {
      "text/html": [
       "== Status ==<br>Current time: 2022-05-04 14:41:09 (running for 00:04:16.98)<br>Memory usage on this node: 15.3/31.0 GiB<br>Using FIFO scheduling algorithm.<br>Resources requested: 5.0/8 CPUs, 0/0 GPUs, 0.0/15.04 GiB heap, 0.0/7.52 GiB objects<br>Result logdir: /home/ubuntu/ray_results/HuggingFaceTrainer_2022-05-04_14-36-52<br>Number of trials: 1/1 (1 RUNNING)<br><table>\n",
       "<thead>\n",
       "<tr><th>Trial name                    </th><th>status  </th><th>loc                  </th></tr>\n",
       "</thead>\n",
       "<tbody>\n",
       "<tr><td>HuggingFaceTrainer_a34c8_00000</td><td>RUNNING </td><td>172.31.43.110:3647387</td></tr>\n",
       "</tbody>\n",
       "</table><br><br>"
      ],
      "text/plain": [
       "<IPython.core.display.HTML object>"
      ]
     },
     "metadata": {},
     "output_type": "display_data"
    },
    {
     "data": {
      "text/html": [
       "== Status ==<br>Current time: 2022-05-04 14:41:14 (running for 00:04:21.99)<br>Memory usage on this node: 15.2/31.0 GiB<br>Using FIFO scheduling algorithm.<br>Resources requested: 5.0/8 CPUs, 0/0 GPUs, 0.0/15.04 GiB heap, 0.0/7.52 GiB objects<br>Result logdir: /home/ubuntu/ray_results/HuggingFaceTrainer_2022-05-04_14-36-52<br>Number of trials: 1/1 (1 RUNNING)<br><table>\n",
       "<thead>\n",
       "<tr><th>Trial name                    </th><th>status  </th><th>loc                  </th></tr>\n",
       "</thead>\n",
       "<tbody>\n",
       "<tr><td>HuggingFaceTrainer_a34c8_00000</td><td>RUNNING </td><td>172.31.43.110:3647387</td></tr>\n",
       "</tbody>\n",
       "</table><br><br>"
      ],
      "text/plain": [
       "<IPython.core.display.HTML object>"
      ]
     },
     "metadata": {},
     "output_type": "display_data"
    },
    {
     "data": {
      "text/html": [
       "== Status ==<br>Current time: 2022-05-04 14:41:19 (running for 00:04:27.00)<br>Memory usage on this node: 15.2/31.0 GiB<br>Using FIFO scheduling algorithm.<br>Resources requested: 5.0/8 CPUs, 0/0 GPUs, 0.0/15.04 GiB heap, 0.0/7.52 GiB objects<br>Result logdir: /home/ubuntu/ray_results/HuggingFaceTrainer_2022-05-04_14-36-52<br>Number of trials: 1/1 (1 RUNNING)<br><table>\n",
       "<thead>\n",
       "<tr><th>Trial name                    </th><th>status  </th><th>loc                  </th></tr>\n",
       "</thead>\n",
       "<tbody>\n",
       "<tr><td>HuggingFaceTrainer_a34c8_00000</td><td>RUNNING </td><td>172.31.43.110:3647387</td></tr>\n",
       "</tbody>\n",
       "</table><br><br>"
      ],
      "text/plain": [
       "<IPython.core.display.HTML object>"
      ]
     },
     "metadata": {},
     "output_type": "display_data"
    },
    {
     "data": {
      "text/html": [
       "== Status ==<br>Current time: 2022-05-04 14:41:24 (running for 00:04:32.00)<br>Memory usage on this node: 15.2/31.0 GiB<br>Using FIFO scheduling algorithm.<br>Resources requested: 5.0/8 CPUs, 0/0 GPUs, 0.0/15.04 GiB heap, 0.0/7.52 GiB objects<br>Result logdir: /home/ubuntu/ray_results/HuggingFaceTrainer_2022-05-04_14-36-52<br>Number of trials: 1/1 (1 RUNNING)<br><table>\n",
       "<thead>\n",
       "<tr><th>Trial name                    </th><th>status  </th><th>loc                  </th></tr>\n",
       "</thead>\n",
       "<tbody>\n",
       "<tr><td>HuggingFaceTrainer_a34c8_00000</td><td>RUNNING </td><td>172.31.43.110:3647387</td></tr>\n",
       "</tbody>\n",
       "</table><br><br>"
      ],
      "text/plain": [
       "<IPython.core.display.HTML object>"
      ]
     },
     "metadata": {},
     "output_type": "display_data"
    },
    {
     "data": {
      "text/html": [
       "== Status ==<br>Current time: 2022-05-04 14:41:29 (running for 00:04:37.01)<br>Memory usage on this node: 15.2/31.0 GiB<br>Using FIFO scheduling algorithm.<br>Resources requested: 5.0/8 CPUs, 0/0 GPUs, 0.0/15.04 GiB heap, 0.0/7.52 GiB objects<br>Result logdir: /home/ubuntu/ray_results/HuggingFaceTrainer_2022-05-04_14-36-52<br>Number of trials: 1/1 (1 RUNNING)<br><table>\n",
       "<thead>\n",
       "<tr><th>Trial name                    </th><th>status  </th><th>loc                  </th></tr>\n",
       "</thead>\n",
       "<tbody>\n",
       "<tr><td>HuggingFaceTrainer_a34c8_00000</td><td>RUNNING </td><td>172.31.43.110:3647387</td></tr>\n",
       "</tbody>\n",
       "</table><br><br>"
      ],
      "text/plain": [
       "<IPython.core.display.HTML object>"
      ]
     },
     "metadata": {},
     "output_type": "display_data"
    },
    {
     "data": {
      "text/html": [
       "== Status ==<br>Current time: 2022-05-04 14:41:34 (running for 00:04:42.02)<br>Memory usage on this node: 15.5/31.0 GiB<br>Using FIFO scheduling algorithm.<br>Resources requested: 5.0/8 CPUs, 0/0 GPUs, 0.0/15.04 GiB heap, 0.0/7.52 GiB objects<br>Result logdir: /home/ubuntu/ray_results/HuggingFaceTrainer_2022-05-04_14-36-52<br>Number of trials: 1/1 (1 RUNNING)<br><table>\n",
       "<thead>\n",
       "<tr><th>Trial name                    </th><th>status  </th><th>loc                  </th></tr>\n",
       "</thead>\n",
       "<tbody>\n",
       "<tr><td>HuggingFaceTrainer_a34c8_00000</td><td>RUNNING </td><td>172.31.43.110:3647387</td></tr>\n",
       "</tbody>\n",
       "</table><br><br>"
      ],
      "text/plain": [
       "<IPython.core.display.HTML object>"
      ]
     },
     "metadata": {},
     "output_type": "display_data"
    },
    {
     "data": {
      "text/html": [
       "== Status ==<br>Current time: 2022-05-04 14:41:39 (running for 00:04:47.03)<br>Memory usage on this node: 15.3/31.0 GiB<br>Using FIFO scheduling algorithm.<br>Resources requested: 5.0/8 CPUs, 0/0 GPUs, 0.0/15.04 GiB heap, 0.0/7.52 GiB objects<br>Result logdir: /home/ubuntu/ray_results/HuggingFaceTrainer_2022-05-04_14-36-52<br>Number of trials: 1/1 (1 RUNNING)<br><table>\n",
       "<thead>\n",
       "<tr><th>Trial name                    </th><th>status  </th><th>loc                  </th></tr>\n",
       "</thead>\n",
       "<tbody>\n",
       "<tr><td>HuggingFaceTrainer_a34c8_00000</td><td>RUNNING </td><td>172.31.43.110:3647387</td></tr>\n",
       "</tbody>\n",
       "</table><br><br>"
      ],
      "text/plain": [
       "<IPython.core.display.HTML object>"
      ]
     },
     "metadata": {},
     "output_type": "display_data"
    },
    {
     "data": {
      "text/html": [
       "== Status ==<br>Current time: 2022-05-04 14:41:44 (running for 00:04:52.03)<br>Memory usage on this node: 15.4/31.0 GiB<br>Using FIFO scheduling algorithm.<br>Resources requested: 5.0/8 CPUs, 0/0 GPUs, 0.0/15.04 GiB heap, 0.0/7.52 GiB objects<br>Result logdir: /home/ubuntu/ray_results/HuggingFaceTrainer_2022-05-04_14-36-52<br>Number of trials: 1/1 (1 RUNNING)<br><table>\n",
       "<thead>\n",
       "<tr><th>Trial name                    </th><th>status  </th><th>loc                  </th></tr>\n",
       "</thead>\n",
       "<tbody>\n",
       "<tr><td>HuggingFaceTrainer_a34c8_00000</td><td>RUNNING </td><td>172.31.43.110:3647387</td></tr>\n",
       "</tbody>\n",
       "</table><br><br>"
      ],
      "text/plain": [
       "<IPython.core.display.HTML object>"
      ]
     },
     "metadata": {},
     "output_type": "display_data"
    },
    {
     "data": {
      "text/html": [
       "== Status ==<br>Current time: 2022-05-04 14:41:49 (running for 00:04:57.04)<br>Memory usage on this node: 15.3/31.0 GiB<br>Using FIFO scheduling algorithm.<br>Resources requested: 5.0/8 CPUs, 0/0 GPUs, 0.0/15.04 GiB heap, 0.0/7.52 GiB objects<br>Result logdir: /home/ubuntu/ray_results/HuggingFaceTrainer_2022-05-04_14-36-52<br>Number of trials: 1/1 (1 RUNNING)<br><table>\n",
       "<thead>\n",
       "<tr><th>Trial name                    </th><th>status  </th><th>loc                  </th></tr>\n",
       "</thead>\n",
       "<tbody>\n",
       "<tr><td>HuggingFaceTrainer_a34c8_00000</td><td>RUNNING </td><td>172.31.43.110:3647387</td></tr>\n",
       "</tbody>\n",
       "</table><br><br>"
      ],
      "text/plain": [
       "<IPython.core.display.HTML object>"
      ]
     },
     "metadata": {},
     "output_type": "display_data"
    },
    {
     "data": {
      "text/html": [
       "== Status ==<br>Current time: 2022-05-04 14:41:54 (running for 00:05:02.04)<br>Memory usage on this node: 15.5/31.0 GiB<br>Using FIFO scheduling algorithm.<br>Resources requested: 5.0/8 CPUs, 0/0 GPUs, 0.0/15.04 GiB heap, 0.0/7.52 GiB objects<br>Result logdir: /home/ubuntu/ray_results/HuggingFaceTrainer_2022-05-04_14-36-52<br>Number of trials: 1/1 (1 RUNNING)<br><table>\n",
       "<thead>\n",
       "<tr><th>Trial name                    </th><th>status  </th><th>loc                  </th></tr>\n",
       "</thead>\n",
       "<tbody>\n",
       "<tr><td>HuggingFaceTrainer_a34c8_00000</td><td>RUNNING </td><td>172.31.43.110:3647387</td></tr>\n",
       "</tbody>\n",
       "</table><br><br>"
      ],
      "text/plain": [
       "<IPython.core.display.HTML object>"
      ]
     },
     "metadata": {},
     "output_type": "display_data"
    },
    {
     "data": {
      "text/html": [
       "== Status ==<br>Current time: 2022-05-04 14:41:59 (running for 00:05:07.05)<br>Memory usage on this node: 15.7/31.0 GiB<br>Using FIFO scheduling algorithm.<br>Resources requested: 5.0/8 CPUs, 0/0 GPUs, 0.0/15.04 GiB heap, 0.0/7.52 GiB objects<br>Result logdir: /home/ubuntu/ray_results/HuggingFaceTrainer_2022-05-04_14-36-52<br>Number of trials: 1/1 (1 RUNNING)<br><table>\n",
       "<thead>\n",
       "<tr><th>Trial name                    </th><th>status  </th><th>loc                  </th></tr>\n",
       "</thead>\n",
       "<tbody>\n",
       "<tr><td>HuggingFaceTrainer_a34c8_00000</td><td>RUNNING </td><td>172.31.43.110:3647387</td></tr>\n",
       "</tbody>\n",
       "</table><br><br>"
      ],
      "text/plain": [
       "<IPython.core.display.HTML object>"
      ]
     },
     "metadata": {},
     "output_type": "display_data"
    },
    {
     "name": "stderr",
     "output_type": "stream",
     "text": [
      "\u001b[2m\u001b[36m(BaseWorkerMixin pid=3647459)\u001b[0m ***** Running Evaluation *****\n",
      "\u001b[2m\u001b[36m(BaseWorkerMixin pid=3647459)\u001b[0m   Num examples = 272\n",
      "\u001b[2m\u001b[36m(BaseWorkerMixin pid=3647459)\u001b[0m   Batch size = 16\n"
     ]
    },
    {
     "data": {
      "text/html": [
       "== Status ==<br>Current time: 2022-05-04 14:42:04 (running for 00:05:12.06)<br>Memory usage on this node: 15.3/31.0 GiB<br>Using FIFO scheduling algorithm.<br>Resources requested: 5.0/8 CPUs, 0/0 GPUs, 0.0/15.04 GiB heap, 0.0/7.52 GiB objects<br>Result logdir: /home/ubuntu/ray_results/HuggingFaceTrainer_2022-05-04_14-36-52<br>Number of trials: 1/1 (1 RUNNING)<br><table>\n",
       "<thead>\n",
       "<tr><th>Trial name                    </th><th>status  </th><th>loc                  </th></tr>\n",
       "</thead>\n",
       "<tbody>\n",
       "<tr><td>HuggingFaceTrainer_a34c8_00000</td><td>RUNNING </td><td>172.31.43.110:3647387</td></tr>\n",
       "</tbody>\n",
       "</table><br><br>"
      ],
      "text/plain": [
       "<IPython.core.display.HTML object>"
      ]
     },
     "metadata": {},
     "output_type": "display_data"
    },
    {
     "name": "stderr",
     "output_type": "stream",
     "text": [
      "\u001b[2m\u001b[36m(BaseWorkerMixin pid=3647459)\u001b[0m Saving model checkpoint to distilbert-base-uncased-finetuned-cola/checkpoint-134\n",
      "\u001b[2m\u001b[36m(BaseWorkerMixin pid=3647459)\u001b[0m Configuration saved in distilbert-base-uncased-finetuned-cola/checkpoint-134/config.json\n"
     ]
    },
    {
     "name": "stdout",
     "output_type": "stream",
     "text": [
      "\u001b[2m\u001b[36m(BaseWorkerMixin pid=3647459)\u001b[0m {'eval_loss': 0.5443748831748962, 'eval_matthews_correlation': 0.40441237536094715, 'eval_runtime': 6.007, 'eval_samples_per_second': 45.281, 'eval_steps_per_second': 0.832, 'epoch': 1.0}\n"
     ]
    },
    {
     "name": "stderr",
     "output_type": "stream",
     "text": [
      "\u001b[2m\u001b[36m(BaseWorkerMixin pid=3647459)\u001b[0m Model weights saved in distilbert-base-uncased-finetuned-cola/checkpoint-134/pytorch_model.bin\n",
      "\u001b[2m\u001b[36m(BaseWorkerMixin pid=3647459)\u001b[0m tokenizer config file saved in distilbert-base-uncased-finetuned-cola/checkpoint-134/tokenizer_config.json\n",
      "\u001b[2m\u001b[36m(BaseWorkerMixin pid=3647459)\u001b[0m Special tokens file saved in distilbert-base-uncased-finetuned-cola/checkpoint-134/special_tokens_map.json\n"
     ]
    },
    {
     "data": {
      "text/html": [
       "== Status ==<br>Current time: 2022-05-04 14:42:09 (running for 00:05:17.06)<br>Memory usage on this node: 15.3/31.0 GiB<br>Using FIFO scheduling algorithm.<br>Resources requested: 5.0/8 CPUs, 0/0 GPUs, 0.0/15.04 GiB heap, 0.0/7.52 GiB objects<br>Result logdir: /home/ubuntu/ray_results/HuggingFaceTrainer_2022-05-04_14-36-52<br>Number of trials: 1/1 (1 RUNNING)<br><table>\n",
       "<thead>\n",
       "<tr><th>Trial name                    </th><th>status  </th><th>loc                  </th></tr>\n",
       "</thead>\n",
       "<tbody>\n",
       "<tr><td>HuggingFaceTrainer_a34c8_00000</td><td>RUNNING </td><td>172.31.43.110:3647387</td></tr>\n",
       "</tbody>\n",
       "</table><br><br>"
      ],
      "text/plain": [
       "<IPython.core.display.HTML object>"
      ]
     },
     "metadata": {},
     "output_type": "display_data"
    },
    {
     "name": "stdout",
     "output_type": "stream",
     "text": [
      "Result for HuggingFaceTrainer_a34c8_00000:\n",
      "  _time_this_iter_s: 296.5610888004303\n",
      "  _timestamp: 1651675329\n",
      "  _training_iteration: 1\n",
      "  date: 2022-05-04_14-42-09\n",
      "  done: false\n",
      "  epoch: 1.0\n",
      "  eval_loss: 0.5443748831748962\n",
      "  eval_matthews_correlation: 0.40441237536094715\n",
      "  eval_runtime: 6.007\n",
      "  eval_samples_per_second: 45.281\n",
      "  eval_steps_per_second: 0.832\n",
      "  experiment_id: 10ee119f04ba48f6a55ae94919ab8619\n",
      "  hostname: ip-172-31-43-110\n",
      "  iterations_since_restore: 1\n",
      "  node_ip: 172.31.43.110\n",
      "  pid: 3647387\n",
      "  should_checkpoint: true\n",
      "  step: 134\n",
      "  time_since_restore: 305.5104389190674\n",
      "  time_this_iter_s: 305.5104389190674\n",
      "  time_total_s: 305.5104389190674\n",
      "  timestamp: 1651675329\n",
      "  timesteps_since_restore: 0\n",
      "  training_iteration: 1\n",
      "  trial_id: a34c8_00000\n",
      "  warmup_time: 0.005402565002441406\n",
      "  \n"
     ]
    },
    {
     "data": {
      "text/html": [
       "== Status ==<br>Current time: 2022-05-04 14:42:14 (running for 00:05:22.19)<br>Memory usage on this node: 15.4/31.0 GiB<br>Using FIFO scheduling algorithm.<br>Resources requested: 5.0/8 CPUs, 0/0 GPUs, 0.0/15.04 GiB heap, 0.0/7.52 GiB objects<br>Result logdir: /home/ubuntu/ray_results/HuggingFaceTrainer_2022-05-04_14-36-52<br>Number of trials: 1/1 (1 RUNNING)<br><table>\n",
       "<thead>\n",
       "<tr><th>Trial name                    </th><th>status  </th><th>loc                  </th><th style=\"text-align: right;\">  iter</th><th style=\"text-align: right;\">  total time (s)</th><th style=\"text-align: right;\">  eval_loss</th><th style=\"text-align: right;\">  eval_matthews_correlation</th><th style=\"text-align: right;\">  eval_runtime</th></tr>\n",
       "</thead>\n",
       "<tbody>\n",
       "<tr><td>HuggingFaceTrainer_a34c8_00000</td><td>RUNNING </td><td>172.31.43.110:3647387</td><td style=\"text-align: right;\">     1</td><td style=\"text-align: right;\">          305.51</td><td style=\"text-align: right;\">   0.544375</td><td style=\"text-align: right;\">                   0.404412</td><td style=\"text-align: right;\">         6.007</td></tr>\n",
       "</tbody>\n",
       "</table><br><br>"
      ],
      "text/plain": [
       "<IPython.core.display.HTML object>"
      ]
     },
     "metadata": {},
     "output_type": "display_data"
    },
    {
     "data": {
      "text/html": [
       "== Status ==<br>Current time: 2022-05-04 14:42:19 (running for 00:05:27.21)<br>Memory usage on this node: 15.6/31.0 GiB<br>Using FIFO scheduling algorithm.<br>Resources requested: 5.0/8 CPUs, 0/0 GPUs, 0.0/15.04 GiB heap, 0.0/7.52 GiB objects<br>Result logdir: /home/ubuntu/ray_results/HuggingFaceTrainer_2022-05-04_14-36-52<br>Number of trials: 1/1 (1 RUNNING)<br><table>\n",
       "<thead>\n",
       "<tr><th>Trial name                    </th><th>status  </th><th>loc                  </th><th style=\"text-align: right;\">  iter</th><th style=\"text-align: right;\">  total time (s)</th><th style=\"text-align: right;\">  eval_loss</th><th style=\"text-align: right;\">  eval_matthews_correlation</th><th style=\"text-align: right;\">  eval_runtime</th></tr>\n",
       "</thead>\n",
       "<tbody>\n",
       "<tr><td>HuggingFaceTrainer_a34c8_00000</td><td>RUNNING </td><td>172.31.43.110:3647387</td><td style=\"text-align: right;\">     1</td><td style=\"text-align: right;\">          305.51</td><td style=\"text-align: right;\">   0.544375</td><td style=\"text-align: right;\">                   0.404412</td><td style=\"text-align: right;\">         6.007</td></tr>\n",
       "</tbody>\n",
       "</table><br><br>"
      ],
      "text/plain": [
       "<IPython.core.display.HTML object>"
      ]
     },
     "metadata": {},
     "output_type": "display_data"
    },
    {
     "data": {
      "text/html": [
       "== Status ==<br>Current time: 2022-05-04 14:42:24 (running for 00:05:32.21)<br>Memory usage on this node: 15.9/31.0 GiB<br>Using FIFO scheduling algorithm.<br>Resources requested: 5.0/8 CPUs, 0/0 GPUs, 0.0/15.04 GiB heap, 0.0/7.52 GiB objects<br>Result logdir: /home/ubuntu/ray_results/HuggingFaceTrainer_2022-05-04_14-36-52<br>Number of trials: 1/1 (1 RUNNING)<br><table>\n",
       "<thead>\n",
       "<tr><th>Trial name                    </th><th>status  </th><th>loc                  </th><th style=\"text-align: right;\">  iter</th><th style=\"text-align: right;\">  total time (s)</th><th style=\"text-align: right;\">  eval_loss</th><th style=\"text-align: right;\">  eval_matthews_correlation</th><th style=\"text-align: right;\">  eval_runtime</th></tr>\n",
       "</thead>\n",
       "<tbody>\n",
       "<tr><td>HuggingFaceTrainer_a34c8_00000</td><td>RUNNING </td><td>172.31.43.110:3647387</td><td style=\"text-align: right;\">     1</td><td style=\"text-align: right;\">          305.51</td><td style=\"text-align: right;\">   0.544375</td><td style=\"text-align: right;\">                   0.404412</td><td style=\"text-align: right;\">         6.007</td></tr>\n",
       "</tbody>\n",
       "</table><br><br>"
      ],
      "text/plain": [
       "<IPython.core.display.HTML object>"
      ]
     },
     "metadata": {},
     "output_type": "display_data"
    },
    {
     "name": "stderr",
     "output_type": "stream",
     "text": [
      "2022-05-04 14:42:28,324\tWARNING tune.py:682 -- Stop signal received (e.g. via SIGINT/Ctrl+C), ending Ray Tune run. This will try to checkpoint the experiment state one last time. Press CTRL+C (or send SIGINT/SIGKILL/SIGTERM) to skip. \n"
     ]
    },
    {
     "data": {
      "text/html": [
       "== Status ==<br>Current time: 2022-05-04 14:42:29 (running for 00:05:37.22)<br>Memory usage on this node: 15.6/31.0 GiB<br>Using FIFO scheduling algorithm.<br>Resources requested: 5.0/8 CPUs, 0/0 GPUs, 0.0/15.04 GiB heap, 0.0/7.52 GiB objects<br>Result logdir: /home/ubuntu/ray_results/HuggingFaceTrainer_2022-05-04_14-36-52<br>Number of trials: 1/1 (1 RUNNING)<br><table>\n",
       "<thead>\n",
       "<tr><th>Trial name                    </th><th>status  </th><th>loc                  </th><th style=\"text-align: right;\">  iter</th><th style=\"text-align: right;\">  total time (s)</th><th style=\"text-align: right;\">  eval_loss</th><th style=\"text-align: right;\">  eval_matthews_correlation</th><th style=\"text-align: right;\">  eval_runtime</th></tr>\n",
       "</thead>\n",
       "<tbody>\n",
       "<tr><td>HuggingFaceTrainer_a34c8_00000</td><td>RUNNING </td><td>172.31.43.110:3647387</td><td style=\"text-align: right;\">     1</td><td style=\"text-align: right;\">          305.51</td><td style=\"text-align: right;\">   0.544375</td><td style=\"text-align: right;\">                   0.404412</td><td style=\"text-align: right;\">         6.007</td></tr>\n",
       "</tbody>\n",
       "</table><br><br>"
      ],
      "text/plain": [
       "<IPython.core.display.HTML object>"
      ]
     },
     "metadata": {},
     "output_type": "display_data"
    },
    {
     "data": {
      "text/html": [
       "== Status ==<br>Current time: 2022-05-04 14:42:29 (running for 00:05:37.23)<br>Memory usage on this node: 15.6/31.0 GiB<br>Using FIFO scheduling algorithm.<br>Resources requested: 5.0/8 CPUs, 0/0 GPUs, 0.0/15.04 GiB heap, 0.0/7.52 GiB objects<br>Result logdir: /home/ubuntu/ray_results/HuggingFaceTrainer_2022-05-04_14-36-52<br>Number of trials: 1/1 (1 RUNNING)<br><table>\n",
       "<thead>\n",
       "<tr><th>Trial name                    </th><th>status  </th><th>loc                  </th><th style=\"text-align: right;\">  iter</th><th style=\"text-align: right;\">  total time (s)</th><th style=\"text-align: right;\">  eval_loss</th><th style=\"text-align: right;\">  eval_matthews_correlation</th><th style=\"text-align: right;\">  eval_runtime</th></tr>\n",
       "</thead>\n",
       "<tbody>\n",
       "<tr><td>HuggingFaceTrainer_a34c8_00000</td><td>RUNNING </td><td>172.31.43.110:3647387</td><td style=\"text-align: right;\">     1</td><td style=\"text-align: right;\">          305.51</td><td style=\"text-align: right;\">   0.544375</td><td style=\"text-align: right;\">                   0.404412</td><td style=\"text-align: right;\">         6.007</td></tr>\n",
       "</tbody>\n",
       "</table><br><br>"
      ],
      "text/plain": [
       "<IPython.core.display.HTML object>"
      ]
     },
     "metadata": {},
     "output_type": "display_data"
    }
   ],
   "source": [
    "result = trainer.fit()"
   ]
  },
  {
   "cell_type": "markdown",
   "metadata": {},
   "source": [
    "You can use the returned `Result` object to access metrics and the Ray AIR `Checkpoint` associated with the last iteration."
   ]
  },
  {
   "cell_type": "code",
   "execution_count": null,
   "metadata": {},
   "outputs": [],
   "source": [
    "result"
   ]
  },
  {
   "cell_type": "markdown",
   "metadata": {},
   "source": [
    "You can now use the checkpoint to run prediction with `HuggingFacePredictor`, which wraps around [🤗 Pipelines](https://huggingface.co/docs/transformers/main_classes/pipelines). In order to distribute prediction, we use `BatchPredictor`. While this is not necessary for the very small example we are using (you could use `HuggingFacePredictor` directly), it will scale well to a large dataset."
   ]
  },
  {
   "cell_type": "code",
   "execution_count": null,
   "metadata": {
    "id": "UOUcBkX8IrJi",
    "outputId": "de5b9dd6-9dc0-4702-cb43-55e9829fde25"
   },
   "outputs": [],
   "source": [
    "from ray.ml.predictors.integrations.huggingface import HuggingFacePredictor\n",
    "from ray.ml.batch_predictor import BatchPredictor\n",
    "import pandas as pd\n",
    "\n",
    "sentences = ['Bill whistled past the house.',\n",
    "  'The car honked its way down the road.',\n",
    "  'Bill pushed Harry off the sofa.',\n",
    "  'the kittens yawned awake and played.',\n",
    "  'I demand that the more John eats, the more he pay.']\n",
    "predictor = BatchPredictor.from_checkpoint(\n",
    "    result.checkpoint,\n",
    "    HuggingFacePredictor,\n",
    "    task=\"text-classification\",\n",
    ")\n",
    "data = ray.data.from_pandas(pd.DataFrame(sentences, columns=[\"sentence\"]))\n",
    "prediction = predictor.predict(data)\n",
    "prediction = prediction.to_pandas()\n",
    "prediction"
   ]
  },
  {
   "cell_type": "markdown",
   "metadata": {},
   "source": [
    "To be able to share your model with the community, there are a few more steps to follow.\n",
    "\n",
    "We have conducted the training on the Ray cluster, but share the model from the local enviroment - this will allow us to easily authenticate.\n",
    "\n",
    "First you have to store your authentication token from the Hugging Face website (sign up [here](https://huggingface.co/join) if you haven't already!) then execute the following cell and input your username and password:"
   ]
  },
  {
   "cell_type": "code",
   "execution_count": null,
   "metadata": {},
   "outputs": [],
   "source": [
    "from huggingface_hub import notebook_login\n",
    "\n",
    "notebook_login()"
   ]
  },
  {
   "cell_type": "markdown",
   "metadata": {},
   "source": [
    "Then you need to install Git-LFS. Uncomment the following instructions:"
   ]
  },
  {
   "cell_type": "code",
   "execution_count": null,
   "metadata": {},
   "outputs": [],
   "source": [
    "# !apt install git-lfs"
   ]
  },
  {
   "cell_type": "markdown",
   "metadata": {},
   "source": [
    "Now, load the model and tokenizer locally, and recreate the `Trainer`:"
   ]
  },
  {
   "cell_type": "code",
   "execution_count": null,
   "metadata": {},
   "outputs": [],
   "source": [
    "hf_trainer = HuggingFaceTrainer.load_huggingface_checkpoint(result.checkpoint, AutoModelForSequenceClassification, AutoTokenizer)"
   ]
  },
  {
   "cell_type": "markdown",
   "metadata": {},
   "source": [
    "You can now upload the result of the training to the Hub, just execute this instruction:"
   ]
  },
  {
   "cell_type": "code",
   "execution_count": null,
   "metadata": {},
   "outputs": [],
   "source": [
    "hf_trainer.push_to_hub()"
   ]
  },
  {
   "cell_type": "markdown",
   "metadata": {},
   "source": [
    "You can now share this model with all your friends, family, favorite pets: they can all load it with the identifier `\"your-username/the-name-you-picked\"` so for instance:\n",
    "\n",
    "```python\n",
    "from transformers import AutoModelForSequenceClassification\n",
    "\n",
    "model = AutoModelForSequenceClassification.from_pretrained(\"sgugger/my-awesome-model\")\n",
    "```"
   ]
  },
  {
   "cell_type": "code",
   "execution_count": null,
   "metadata": {},
   "outputs": [],
   "source": []
  }
 ],
 "metadata": {
  "colab": {
   "name": "Text Classification on GLUE",
   "provenance": []
  },
  "interpreter": {
   "hash": "3c0d54d489a08ae47a06eae2fd00ff032d6cddb527c382959b7b2575f6a8167f"
  },
  "kernelspec": {
   "display_name": "Python 3 (ipykernel)",
   "language": "python",
   "name": "python3"
  },
  "language_info": {
   "codemirror_mode": {
    "name": "ipython",
    "version": 3
   },
   "file_extension": ".py",
   "mimetype": "text/x-python",
   "name": "python",
   "nbconvert_exporter": "python",
   "pygments_lexer": "ipython3",
   "version": "3.8.10"
  }
 },
 "nbformat": 4,
 "nbformat_minor": 4
}
