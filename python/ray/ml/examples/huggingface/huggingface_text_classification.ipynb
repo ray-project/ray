{
 "cells": [
  {
   "cell_type": "markdown",
   "metadata": {},
   "source": [
    "This notebook is based on [an official 🤗 notebook - \"How to fine-tune a model on text classification\"](https://github.com/huggingface/notebooks/blob/6ca682955173cc9d36ffa431ddda505a048cbe80/examples/text_classification.ipynb). The main aim of this notebook is to show the process of conversion from vanilla 🤗 to [Ray AIR](https://docs.ray.io/en/latest/ray-air/getting-started.html) 🤗 without changing the training logic unless necessary."
   ]
  },
  {
   "cell_type": "markdown",
   "metadata": {},
   "source": [
    "If you do not have 🤗 Datasets and 🤗 Transformers installed locally, uncomment and run the following line:"
   ]
  },
  {
   "cell_type": "code",
   "execution_count": 1,
   "metadata": {},
   "outputs": [],
   "source": [
    "#! pip install datasets transformers"
   ]
  },
  {
   "cell_type": "markdown",
   "metadata": {},
   "source": [
    "We will use a [runtime enviroment](https://docs.ray.io/en/latest/ray-core/handling-dependencies.html#runtime-environments) to ensure that we have 🤗 Datasets and 🤗 Transformers installed on the Ray cluster."
   ]
  },
  {
   "cell_type": "code",
   "execution_count": 1,
   "metadata": {
    "colab": {
     "base_uri": "https://localhost:8080/",
     "height": 1000
    },
    "id": "MOsHUjgdIrIW",
    "outputId": "f84a093e-147f-470e-aad9-80fb51193c8e"
   },
   "outputs": [
    {
     "data": {
      "text/plain": [
       "RayContext(dashboard_url='127.0.0.1:8265', python_version='3.8.5', ray_version='2.0.0.dev0', ray_commit='76da2255d9c59d485e8cd5e942de49eb93e03011', address_info={'node_ip_address': '172.31.89.174', 'raylet_ip_address': '172.31.89.174', 'redis_address': None, 'object_store_address': '/tmp/ray/session_2022-05-09_09-41-21_041206_180/sockets/plasma_store', 'raylet_socket_name': '/tmp/ray/session_2022-05-09_09-41-21_041206_180/sockets/raylet', 'webui_url': '127.0.0.1:8265', 'session_dir': '/tmp/ray/session_2022-05-09_09-41-21_041206_180', 'metrics_export_port': 47540, 'gcs_address': '172.31.89.174:9031', 'address': '172.31.89.174:9031', 'node_id': '9f713045af314727156b3998750ce8ac3eb7fce81de6a68e66a3ca5a'})"
      ]
     },
     "execution_count": 1,
     "metadata": {},
     "output_type": "execute_result"
    }
   ],
   "source": [
    "import ray\n",
    "\n",
    "runtime_env = {\n",
    "    \"pip\": [\n",
    "        \"torch==1.10.0\",  # required to pass\n",
    "        \"datasets\",\n",
    "        \"git+https://github.com/huggingface/transformers\"  # use master version due to a bug in 4.18 causing an exception during training\n",
    "    ],\n",
    "}\n",
    "ray.init(runtime_env=runtime_env)"
   ]
  },
  {
   "cell_type": "markdown",
   "metadata": {},
   "source": [
    "Make sure your version of Transformers on the cluster is at least 4.19.0:"
   ]
  },
  {
   "cell_type": "code",
   "execution_count": 2,
   "metadata": {},
   "outputs": [
    {
     "name": "stdout",
     "output_type": "stream",
     "text": [
      "\u001b[2m\u001b[36m(print_transformers_version pid=3515)\u001b[0m 4.19.0.dev0\n"
     ]
    }
   ],
   "source": [
    "@ray.remote\n",
    "def print_transformers_version():\n",
    "    import transformers\n",
    "    print(transformers.__version__)\n",
    "\n",
    "ray.get(print_transformers_version.remote())"
   ]
  },
  {
   "cell_type": "markdown",
   "metadata": {
    "id": "rEJBSTyZIrIb"
   },
   "source": [
    "# Fine-tuning a model on a text classification task"
   ]
  },
  {
   "cell_type": "markdown",
   "metadata": {
    "id": "kTCFado4IrIc"
   },
   "source": [
    "In this notebook, we will see how to fine-tune one of the [🤗 Transformers](https://github.com/huggingface/transformers) model to a text classification task of the [GLUE Benchmark](https://gluebenchmark.com/). We will be running the training on a Ray Cluster using Ray AIR.\n",
    "\n",
    "The GLUE Benchmark is a group of nine classification tasks on sentences or pairs of sentences which are:\n",
    "\n",
    "- [CoLA](https://nyu-mll.github.io/CoLA/) (Corpus of Linguistic Acceptability) Determine if a sentence is grammatically correct or not.is a  dataset containing sentences labeled grammatically correct or not.\n",
    "- [MNLI](https://arxiv.org/abs/1704.05426) (Multi-Genre Natural Language Inference) Determine if a sentence entails, contradicts or is unrelated to a given hypothesis. (This dataset has two versions, one with the validation and test set coming from the same distribution, another called mismatched where the validation and test use out-of-domain data.)\n",
    "- [MRPC](https://www.microsoft.com/en-us/download/details.aspx?id=52398) (Microsoft Research Paraphrase Corpus) Determine if two sentences are paraphrases from one another or not.\n",
    "- [QNLI](https://rajpurkar.github.io/SQuAD-explorer/) (Question-answering Natural Language Inference) Determine if the answer to a question is in the second sentence or not. (This dataset is built from the SQuAD dataset.)\n",
    "- [QQP](https://data.quora.com/First-Quora-Dataset-Release-Question-Pairs) (Quora Question Pairs2) Determine if two questions are semantically equivalent or not.\n",
    "- [RTE](https://aclweb.org/aclwiki/Recognizing_Textual_Entailment) (Recognizing Textual Entailment) Determine if a sentence entails a given hypothesis or not.\n",
    "- [SST-2](https://nlp.stanford.edu/sentiment/index.html) (Stanford Sentiment Treebank) Determine if the sentence has a positive or negative sentiment.\n",
    "- [STS-B](http://ixa2.si.ehu.es/stswiki/index.php/STSbenchmark) (Semantic Textual Similarity Benchmark) Determine the similarity of two sentences with a score from 1 to 5.\n",
    "- [WNLI](https://cs.nyu.edu/faculty/davise/papers/WinogradSchemas/WS.html) (Winograd Natural Language Inference) Determine if a sentence with an anonymous pronoun and a sentence with this pronoun replaced are entailed or not. (This dataset is built from the Winograd Schema Challenge dataset.)\n",
    "\n",
    "Each task is named by its acronym, with `mnli-mm` standing for the mismatched version of MNLI (so same training set as `mnli` but different validation and test sets):"
   ]
  },
  {
   "cell_type": "code",
   "execution_count": 3,
   "metadata": {
    "id": "YZbiBDuGIrId"
   },
   "outputs": [],
   "source": [
    "GLUE_TASKS = [\"cola\", \"mnli\", \"mnli-mm\", \"mrpc\", \"qnli\", \"qqp\", \"rte\", \"sst2\", \"stsb\", \"wnli\"]"
   ]
  },
  {
   "cell_type": "markdown",
   "metadata": {
    "id": "4RRkXuteIrIh"
   },
   "source": [
    "This notebook is built to run on any of the tasks in the list above, with any model checkpoint from the [Model Hub](https://huggingface.co/models) as long as that model has a version with a classification head. Depending on you model and the GPU you are using, you might need to adjust the batch size to avoid out-of-memory errors. Set those three parameters, then the rest of the notebook should run smoothly:"
   ]
  },
  {
   "cell_type": "code",
   "execution_count": 4,
   "metadata": {
    "id": "zVvslsfMIrIh"
   },
   "outputs": [],
   "source": [
    "task = \"cola\"\n",
    "model_checkpoint = \"distilbert-base-uncased\"\n",
    "batch_size = 16"
   ]
  },
  {
   "cell_type": "markdown",
   "metadata": {
    "id": "whPRbBNbIrIl"
   },
   "source": [
    "## Loading the dataset"
   ]
  },
  {
   "cell_type": "markdown",
   "metadata": {
    "id": "W7QYTpxXIrIl"
   },
   "source": [
    "We will use the [🤗 Datasets](https://github.com/huggingface/datasets) library to download the data and get the metric we need to use for evaluation (to compare our model to the benchmark). This can be easily done with the functions `load_dataset` and `load_metric`.\n",
    "\n",
    "Apart from `mnli-mm` being a special code, we can directly pass our task name to those functions.\n",
    "\n",
    "As Ray AIR doesn't provide integrations for 🤗 Datasets yet, we will simply run the normal 🤗 Datasets code in a [Ray Task](https://docs.ray.io/en/latest/ray-core/key-concepts.html#tasks), so that execution happens on the Ray cluster. `load_metric_fn` will be used inside the `HuggingFaceTrainer` later. Note that we are only defining the functions here, and not running them. We will use them later."
   ]
  },
  {
   "cell_type": "code",
   "execution_count": 5,
   "metadata": {},
   "outputs": [],
   "source": [
    "from datasets import load_dataset, load_metric\n",
    "actual_task = \"mnli\" if task == \"mnli-mm\" else task\n",
    "\n",
    "def load_dataset_fn():\n",
    "    return load_dataset(\"glue\", actual_task)\n",
    "\n",
    "def load_metric_fn():\n",
    "    return load_metric('glue', actual_task)"
   ]
  },
  {
   "cell_type": "markdown",
   "metadata": {
    "id": "RzfPtOMoIrIu"
   },
   "source": [
    "The `dataset` object itself is [`DatasetDict`](https://huggingface.co/docs/datasets/package_reference/main_classes.html#datasetdict), which contains one key for the training, validation and test set (with more keys for the mismatched validation and test set in the special case of `mnli`)."
   ]
  },
  {
   "cell_type": "markdown",
   "metadata": {
    "id": "lnjDIuQ3IrI-"
   },
   "source": [
    "The metric is an instance of [`datasets.Metric`](https://huggingface.co/docs/datasets/package_reference/main_classes.html#datasets.Metric)."
   ]
  },
  {
   "cell_type": "markdown",
   "metadata": {
    "id": "YOCrQwPoIrJG"
   },
   "source": [
    "Note that `load_metric` has loaded the proper metric associated to your task, which is:\n",
    "\n",
    "- for CoLA: [Matthews Correlation Coefficient](https://en.wikipedia.org/wiki/Matthews_correlation_coefficient)\n",
    "- for MNLI (matched or mismatched): Accuracy\n",
    "- for MRPC: Accuracy and [F1 score](https://en.wikipedia.org/wiki/F1_score)\n",
    "- for QNLI: Accuracy\n",
    "- for QQP: Accuracy and [F1 score](https://en.wikipedia.org/wiki/F1_score)\n",
    "- for RTE: Accuracy\n",
    "- for SST-2: Accuracy\n",
    "- for STS-B: [Pearson Correlation Coefficient](https://en.wikipedia.org/wiki/Pearson_correlation_coefficient) and [Spearman's_Rank_Correlation_Coefficient](https://en.wikipedia.org/wiki/Spearman%27s_rank_correlation_coefficient)\n",
    "- for WNLI: Accuracy\n",
    "\n",
    "so the metric object only computes the one(s) needed for your task."
   ]
  },
  {
   "cell_type": "markdown",
   "metadata": {
    "id": "n9qywopnIrJH"
   },
   "source": [
    "## Preprocessing the data"
   ]
  },
  {
   "cell_type": "markdown",
   "metadata": {
    "id": "YVx71GdAIrJH"
   },
   "source": [
    "Before we can feed those texts to our model, we need to preprocess them. This is done by a 🤗 Transformers `Tokenizer` which will (as the name indicates) tokenize the inputs (including converting the tokens to their corresponding IDs in the pretrained vocabulary) and put it in a format the model expects, as well as generate the other inputs that model requires.\n",
    "\n",
    "To do all of this, we instantiate our tokenizer with the `AutoTokenizer.from_pretrained` method, which will ensure:\n",
    "\n",
    "- we get a tokenizer that corresponds to the model architecture we want to use,\n",
    "- we download the vocabulary used when pretraining this specific checkpoint.\n",
    "\n",
    "We continiue with our pattern of defining functions and variables which we will use in the final Ray Task."
   ]
  },
  {
   "cell_type": "code",
   "execution_count": 6,
   "metadata": {
    "id": "eXNLu_-nIrJI"
   },
   "outputs": [],
   "source": [
    "from transformers import AutoTokenizer\n",
    "\n",
    "def load_tokenizer_fn() -> AutoTokenizer:\n",
    "    tokenizer = AutoTokenizer.from_pretrained(model_checkpoint, use_fast=True)\n",
    "    return tokenizer"
   ]
  },
  {
   "cell_type": "markdown",
   "metadata": {
    "id": "Vl6IidfdIrJK"
   },
   "source": [
    "We pass along `use_fast=True` to the call above to use one of the fast tokenizers (backed by Rust) from the 🤗 Tokenizers library. Those fast tokenizers are available for almost all models, but if you got an error with the previous call, remove that argument."
   ]
  },
  {
   "cell_type": "markdown",
   "metadata": {
    "id": "qo_0B1M2IrJM"
   },
   "source": [
    "To preprocess our dataset, we will thus need the names of the columns containing the sentence(s). The following dictionary keeps track of the correspondence task to column names:"
   ]
  },
  {
   "cell_type": "code",
   "execution_count": 7,
   "metadata": {
    "id": "fyGdtK9oIrJM"
   },
   "outputs": [],
   "source": [
    "task_to_keys = {\n",
    "    \"cola\": (\"sentence\", None),\n",
    "    \"mnli\": (\"premise\", \"hypothesis\"),\n",
    "    \"mnli-mm\": (\"premise\", \"hypothesis\"),\n",
    "    \"mrpc\": (\"sentence1\", \"sentence2\"),\n",
    "    \"qnli\": (\"question\", \"sentence\"),\n",
    "    \"qqp\": (\"question1\", \"question2\"),\n",
    "    \"rte\": (\"sentence1\", \"sentence2\"),\n",
    "    \"sst2\": (\"sentence\", None),\n",
    "    \"stsb\": (\"sentence1\", \"sentence2\"),\n",
    "    \"wnli\": (\"sentence1\", \"sentence2\"),\n",
    "}"
   ]
  },
  {
   "cell_type": "markdown",
   "metadata": {
    "id": "2C0hcmp9IrJQ"
   },
   "source": [
    "We can them write the function that will preprocess our samples. We just feed them to the `tokenizer` with the argument `truncation=True`. This will ensure that an input longer that what the model selected can handle will be truncated to the maximum length accepted by the model."
   ]
  },
  {
   "cell_type": "code",
   "execution_count": 8,
   "metadata": {
    "id": "vc0BSBLIIrJQ"
   },
   "outputs": [],
   "source": [
    "def preprocess_function(examples, *, tokenizer):\n",
    "    sentence1_key, sentence2_key = task_to_keys[task]\n",
    "    if sentence2_key is None:\n",
    "        return tokenizer(examples[sentence1_key], truncation=True)\n",
    "    return tokenizer(examples[sentence1_key], examples[sentence2_key], truncation=True)"
   ]
  },
  {
   "cell_type": "markdown",
   "metadata": {
    "id": "zS-6iXTkIrJT"
   },
   "source": [
    "To apply this function on all the sentences (or pairs of sentences) in our dataset, we just use the `map` method of our `dataset` object we created earlier. This will apply the function on all the elements of all the splits in `dataset`, so our training, validation and testing data will be preprocessed in one single command."
   ]
  },
  {
   "cell_type": "code",
   "execution_count": 9,
   "metadata": {
    "id": "DDtsaJeVIrJT",
    "outputId": "aa4734bf-4ef5-4437-9948-2c16363da719"
   },
   "outputs": [],
   "source": [
    "def encode_dataset(dataset, tokenizer):\n",
    "    return dataset.map(preprocess_function, batched=True, fn_kwargs=dict(tokenizer=tokenizer))"
   ]
  },
  {
   "cell_type": "markdown",
   "metadata": {},
   "source": [
    "For Ray AIR, instead of using 🤗 Dataset objects directly, we will convert them to [Ray Datasets](https://docs.ray.io/en/latest/data/dataset.html). Both are backed by Arrow tables, so the conversion is straightforward. As we will use the built-in `ray.data.from_huggingface` function, we import `ray.data`."
   ]
  },
  {
   "cell_type": "code",
   "execution_count": 10,
   "metadata": {},
   "outputs": [],
   "source": [
    "import ray.data"
   ]
  },
  {
   "cell_type": "markdown",
   "metadata": {},
   "source": [
    "Finally, we will tie it all up in one Ray Task. It will return a dictionary of Ray Datasets:\n",
    "\n",
    "(Note - you are of course not required to encapsulate everything in functions as we have done.)"
   ]
  },
  {
   "cell_type": "code",
   "execution_count": 11,
   "metadata": {},
   "outputs": [
    {
     "name": "stderr",
     "output_type": "stream",
     "text": [
      "\u001b[2m\u001b[36m(load_and_preprocess_dataset pid=3515)\u001b[0m Reusing dataset glue (/home/ray/.cache/huggingface/datasets/glue/cola/1.0.0/dacbe3125aa31d7f70367a07a8a9e72a5a0bfeb5fc42e75c9db75b96da6053ad)\n",
      "100%|██████████| 3/3 [00:00<00:00, 938.88it/s])\u001b[0m \n",
      "\u001b[2m\u001b[36m(load_and_preprocess_dataset pid=3515)\u001b[0m Loading cached processed dataset at /home/ray/.cache/huggingface/datasets/glue/cola/1.0.0/dacbe3125aa31d7f70367a07a8a9e72a5a0bfeb5fc42e75c9db75b96da6053ad/cache-603e0f947e52440b.arrow\n",
      "100%|██████████| 2/2 [00:00<00:00, 71.12ba/s]5)\u001b[0m \n",
      "\u001b[2m\u001b[36m(load_and_preprocess_dataset pid=3515)\u001b[0m Loading cached processed dataset at /home/ray/.cache/huggingface/datasets/glue/cola/1.0.0/dacbe3125aa31d7f70367a07a8a9e72a5a0bfeb5fc42e75c9db75b96da6053ad/cache-f11347f29fdfa227.arrow\n"
     ]
    }
   ],
   "source": [
    "@ray.remote\n",
    "def load_and_preprocess_dataset():\n",
    "    dataset = load_dataset_fn()\n",
    "    tokenizer = load_tokenizer_fn()\n",
    "    encoded_dataset = encode_dataset(dataset, tokenizer)\n",
    "    return ray.data.from_huggingface(encoded_dataset)\n",
    "\n",
    "ray_datasets = ray.get(load_and_preprocess_dataset.remote())"
   ]
  },
  {
   "cell_type": "markdown",
   "metadata": {
    "id": "545PP3o8IrJV"
   },
   "source": [
    "## Fine-tuning the model"
   ]
  },
  {
   "cell_type": "markdown",
   "metadata": {
    "id": "FBiW8UpKIrJW"
   },
   "source": [
    "Now that our data is ready, we can download the pretrained model and fine-tune it.\n",
    "\n",
    "Since all our tasks are about sentence classification, we use the `AutoModelForSequenceClassification` class.\n",
    "\n",
    "We will not go into details about each specific component of the training (see the [original notebook](https://github.com/huggingface/notebooks/blob/6ca682955173cc9d36ffa431ddda505a048cbe80/examples/text_classification.ipynb) for that).\n",
    "\n",
    "The main difference when using the Ray AIR  is that we need to create our 🤗 Transformers `Trainer` inside a function (`trainer_init_per_worker`) and return it. That function will be passed to the `HuggingFaceTrainer` and ran on every Ray worker. The training will then proceed by the means of PyTorch DDP.\n",
    "\n",
    "Make sure that you initialize the model, metric and tokenizer inside that function. Otherwise, you may run into serialization errors.\n",
    "\n",
    "Please note that if you don't want to use CUDA, you need to explicitly set `no_cuda=True` inside the `TrainingArguments`. Furthermore, `push_to_hub=True` is not yet supported. Ray will however checkpoint the model at every epoch, allowing you to push it to hub manually. We will do that after the training.\n",
    "\n",
    "If you wish to use thrid party logging libraries, such as MLFlow or Weights&Biases, do not set them in `TrainingArguments` (they will be automatically disabled) - instead, you should be passing Ray AIR callbacks to `HuggingFaceTrainer`'s `run_config`. In this example, we will use MLFlow.\n",
    "\n",
    "We also set `disable_tqdm=True` to declutter the output a little."
   ]
  },
  {
   "cell_type": "code",
   "execution_count": 12,
   "metadata": {
    "id": "TlqNaB8jIrJW",
    "outputId": "84916cf3-6e6c-47f3-d081-032ec30a4132"
   },
   "outputs": [
    {
     "name": "stderr",
     "output_type": "stream",
     "text": [
      "comet_ml is installed but `COMET_API_KEY` is not set.\n"
     ]
    }
   ],
   "source": [
    "from transformers import AutoModelForSequenceClassification, TrainingArguments, Trainer\n",
    "import numpy as np\n",
    "import torch\n",
    "\n",
    "num_labels = 3 if task.startswith(\"mnli\") else 1 if task==\"stsb\" else 2\n",
    "metric_name = \"pearson\" if task == \"stsb\" else \"matthews_correlation\" if task == \"cola\" else \"accuracy\"\n",
    "model_name = model_checkpoint.split(\"/\")[-1]\n",
    "validation_key = \"validation_mismatched\" if task == \"mnli-mm\" else \"validation_matched\" if task == \"mnli\" else \"validation\"\n",
    "name = f\"{model_name}-finetuned-{task}\"\n",
    "\n",
    "def trainer_init_per_worker(train_dataset, eval_dataset = None, **config):\n",
    "    print(f\"Is CUDA available: {torch.cuda.is_available()}\")\n",
    "    metric = load_metric_fn()\n",
    "    tokenizer = load_tokenizer_fn()\n",
    "    model = AutoModelForSequenceClassification.from_pretrained(model_checkpoint, num_labels=num_labels)\n",
    "    args = TrainingArguments(\n",
    "        name,\n",
    "        evaluation_strategy=\"epoch\",\n",
    "        save_strategy=\"epoch\",\n",
    "        learning_rate=2e-5,\n",
    "        per_device_train_batch_size=batch_size,\n",
    "        per_device_eval_batch_size=batch_size,\n",
    "        num_train_epochs=5,\n",
    "        weight_decay=0.01,\n",
    "        push_to_hub=False,\n",
    "        disable_tqdm=True,\n",
    "        no_cuda=not torch.cuda.is_available(),\n",
    "    )\n",
    "\n",
    "    def compute_metrics(eval_pred):\n",
    "        predictions, labels = eval_pred\n",
    "        if task != \"stsb\":\n",
    "            predictions = np.argmax(predictions, axis=1)\n",
    "        else:\n",
    "            predictions = predictions[:, 0]\n",
    "        return metric.compute(predictions=predictions, references=labels)\n",
    "\n",
    "    trainer = Trainer(\n",
    "        model,\n",
    "        args,\n",
    "        train_dataset=train_dataset,\n",
    "        eval_dataset=eval_dataset,\n",
    "        tokenizer=tokenizer,\n",
    "        compute_metrics=compute_metrics\n",
    "    )\n",
    "\n",
    "    print(\"Starting training\")\n",
    "    return trainer"
   ]
  },
  {
   "cell_type": "markdown",
   "metadata": {
    "id": "CdzABDVcIrJg"
   },
   "source": [
    "With our `trainer_init_per_worker` complete, we can now instantiate the `HuggingFaceTrainer`. Aside from the function, we set the `scaling_config`, controlling the amount of workers and resources used, and the `datasets` we will use for training and evaluation.\n",
    "\n",
    "We will use 2 workers, each with a single GPU assigned, and we specify the `MlflowLoggerCallback` inside the `run_config`."
   ]
  },
  {
   "cell_type": "code",
   "execution_count": 13,
   "metadata": {},
   "outputs": [],
   "source": [
    "from ray.ml.train.integrations.huggingface import HuggingFaceTrainer\n",
    "from ray.ml import RunConfig\n",
    "from ray.tune.integration.mlflow import MLflowLoggerCallback\n",
    "\n",
    "trainer = HuggingFaceTrainer(\n",
    "    trainer_init_per_worker=trainer_init_per_worker,\n",
    "    scaling_config={\"num_workers\": 2, \"use_gpu\": True},\n",
    "    datasets={\"train\": ray_datasets[\"train\"], \"evaluation\": ray_datasets[validation_key]},\n",
    "    run_config=RunConfig(callbacks=[MLflowLoggerCallback(experiment_name=name)])\n",
    ")"
   ]
  },
  {
   "cell_type": "markdown",
   "metadata": {},
   "source": [
    "Finally, we call the `fit` method to being training with Ray AIR. We will save the `Result` object to a variable so we can access metrics and checkpoints."
   ]
  },
  {
   "cell_type": "code",
   "execution_count": 14,
   "metadata": {
    "id": "uNx5pyRlIrJh",
    "outputId": "077e661e-d36c-469b-89b8-7ff7f73541ec"
   },
   "outputs": [
    {
     "data": {
      "text/html": [
       "== Status ==<br>Current time: 2022-05-09 10:07:50 (running for 00:11:54.84)<br>Memory usage on this node: 3.1/30.6 GiB<br>Using FIFO scheduling algorithm.<br>Resources requested: 0/24 CPUs, 0/2 GPUs, 0.0/103.47 GiB heap, 0.0/44.7 GiB objects (0.0/2.0 accelerator_type:V100)<br>Result logdir: /home/ray/ray_results/HuggingFaceTrainer_2022-05-09_09-55-55<br>Number of trials: 1/1 (1 TERMINATED)<br><table>\n",
       "<thead>\n",
       "<tr><th>Trial name                    </th><th>status    </th><th>loc              </th><th style=\"text-align: right;\">  iter</th><th style=\"text-align: right;\">  total time (s)</th><th style=\"text-align: right;\">  eval_loss</th><th style=\"text-align: right;\">  eval_matthews_correlation</th><th style=\"text-align: right;\">  eval_runtime</th></tr>\n",
       "</thead>\n",
       "<tbody>\n",
       "<tr><td>HuggingFaceTrainer_e45d0_00000</td><td>TERMINATED</td><td>172.31.64.103:643</td><td style=\"text-align: right;\">     5</td><td style=\"text-align: right;\">         556.845</td><td style=\"text-align: right;\">   0.580439</td><td style=\"text-align: right;\">                   0.555437</td><td style=\"text-align: right;\">        1.1602</td></tr>\n",
       "</tbody>\n",
       "</table><br><br>"
      ],
      "text/plain": [
       "<IPython.core.display.HTML object>"
      ]
     },
     "metadata": {},
     "output_type": "display_data"
    },
    {
     "name": "stderr",
     "output_type": "stream",
     "text": [
      "\u001b[2m\u001b[36m(pid=643, ip=172.31.64.103)\u001b[0m comet_ml is installed but `COMET_API_KEY` is not set.\n",
      "\u001b[2m\u001b[36m(BaseWorkerMixin pid=680, ip=172.31.64.103)\u001b[0m 2022-05-09 09:56:07,035\tINFO torch.py:346 -- Setting up process group for: env:// [rank=0, world_size=2]\n",
      "\u001b[2m\u001b[36m(BaseWorkerMixin pid=437, ip=172.31.85.117)\u001b[0m 2022-05-09 09:56:07,083\tINFO torch.py:346 -- Setting up process group for: env:// [rank=1, world_size=2]\n",
      "\u001b[2m\u001b[36m(BaseWorkerMixin pid=437, ip=172.31.85.117)\u001b[0m comet_ml is installed but `COMET_API_KEY` is not set.\n",
      "\u001b[2m\u001b[36m(BaseWorkerMixin pid=680, ip=172.31.64.103)\u001b[0m comet_ml is installed but `COMET_API_KEY` is not set.\n"
     ]
    },
    {
     "name": "stdout",
     "output_type": "stream",
     "text": [
      "\u001b[2m\u001b[36m(BaseWorkerMixin pid=680, ip=172.31.64.103)\u001b[0m Is CUDA available: True\n",
      "\u001b[2m\u001b[36m(BaseWorkerMixin pid=437, ip=172.31.85.117)\u001b[0m Is CUDA available: True\n"
     ]
    },
    {
     "name": "stderr",
     "output_type": "stream",
     "text": [
      "\u001b[2m\u001b[36m(BaseWorkerMixin pid=680, ip=172.31.64.103)\u001b[0m Some weights of the model checkpoint at distilbert-base-uncased were not used when initializing DistilBertForSequenceClassification: ['vocab_projector.weight', 'vocab_layer_norm.weight', 'vocab_layer_norm.bias', 'vocab_projector.bias', 'vocab_transform.weight', 'vocab_transform.bias']\n",
      "\u001b[2m\u001b[36m(BaseWorkerMixin pid=680, ip=172.31.64.103)\u001b[0m - This IS expected if you are initializing DistilBertForSequenceClassification from the checkpoint of a model trained on another task or with another architecture (e.g. initializing a BertForSequenceClassification model from a BertForPreTraining model).\n",
      "\u001b[2m\u001b[36m(BaseWorkerMixin pid=680, ip=172.31.64.103)\u001b[0m - This IS NOT expected if you are initializing DistilBertForSequenceClassification from the checkpoint of a model that you expect to be exactly identical (initializing a BertForSequenceClassification model from a BertForSequenceClassification model).\n",
      "\u001b[2m\u001b[36m(BaseWorkerMixin pid=680, ip=172.31.64.103)\u001b[0m Some weights of DistilBertForSequenceClassification were not initialized from the model checkpoint at distilbert-base-uncased and are newly initialized: ['pre_classifier.bias', 'pre_classifier.weight', 'classifier.weight', 'classifier.bias']\n",
      "\u001b[2m\u001b[36m(BaseWorkerMixin pid=680, ip=172.31.64.103)\u001b[0m You should probably TRAIN this model on a down-stream task to be able to use it for predictions and inference.\n",
      "\u001b[2m\u001b[36m(BaseWorkerMixin pid=437, ip=172.31.85.117)\u001b[0m Some weights of the model checkpoint at distilbert-base-uncased were not used when initializing DistilBertForSequenceClassification: ['vocab_transform.weight', 'vocab_transform.bias', 'vocab_projector.weight', 'vocab_layer_norm.weight', 'vocab_layer_norm.bias', 'vocab_projector.bias']\n",
      "\u001b[2m\u001b[36m(BaseWorkerMixin pid=437, ip=172.31.85.117)\u001b[0m - This IS expected if you are initializing DistilBertForSequenceClassification from the checkpoint of a model trained on another task or with another architecture (e.g. initializing a BertForSequenceClassification model from a BertForPreTraining model).\n",
      "\u001b[2m\u001b[36m(BaseWorkerMixin pid=437, ip=172.31.85.117)\u001b[0m - This IS NOT expected if you are initializing DistilBertForSequenceClassification from the checkpoint of a model that you expect to be exactly identical (initializing a BertForSequenceClassification model from a BertForSequenceClassification model).\n",
      "\u001b[2m\u001b[36m(BaseWorkerMixin pid=437, ip=172.31.85.117)\u001b[0m Some weights of DistilBertForSequenceClassification were not initialized from the model checkpoint at distilbert-base-uncased and are newly initialized: ['pre_classifier.weight', 'pre_classifier.bias', 'classifier.bias', 'classifier.weight']\n",
      "\u001b[2m\u001b[36m(BaseWorkerMixin pid=437, ip=172.31.85.117)\u001b[0m You should probably TRAIN this model on a down-stream task to be able to use it for predictions and inference.\n"
     ]
    },
    {
     "name": "stdout",
     "output_type": "stream",
     "text": [
      "\u001b[2m\u001b[36m(BaseWorkerMixin pid=680, ip=172.31.64.103)\u001b[0m Starting training\n",
      "\u001b[2m\u001b[36m(BaseWorkerMixin pid=437, ip=172.31.85.117)\u001b[0m Starting training\n"
     ]
    },
    {
     "name": "stderr",
     "output_type": "stream",
     "text": [
      "\u001b[2m\u001b[36m(BaseWorkerMixin pid=680, ip=172.31.64.103)\u001b[0m ***** Running training *****\n",
      "\u001b[2m\u001b[36m(BaseWorkerMixin pid=680, ip=172.31.64.103)\u001b[0m   Num examples = 4288\n",
      "\u001b[2m\u001b[36m(BaseWorkerMixin pid=680, ip=172.31.64.103)\u001b[0m   Num Epochs = 5\n",
      "\u001b[2m\u001b[36m(BaseWorkerMixin pid=680, ip=172.31.64.103)\u001b[0m   Instantaneous batch size per device = 16\n",
      "\u001b[2m\u001b[36m(BaseWorkerMixin pid=680, ip=172.31.64.103)\u001b[0m   Total train batch size (w. parallel, distributed & accumulation) = 32\n",
      "\u001b[2m\u001b[36m(BaseWorkerMixin pid=680, ip=172.31.64.103)\u001b[0m   Gradient Accumulation steps = 1\n",
      "\u001b[2m\u001b[36m(BaseWorkerMixin pid=680, ip=172.31.64.103)\u001b[0m   Total optimization steps = 1340\n",
      "\u001b[2m\u001b[36m(BaseWorkerMixin pid=437, ip=172.31.85.117)\u001b[0m ***** Running training *****\n",
      "\u001b[2m\u001b[36m(BaseWorkerMixin pid=437, ip=172.31.85.117)\u001b[0m   Num examples = 4288\n",
      "\u001b[2m\u001b[36m(BaseWorkerMixin pid=437, ip=172.31.85.117)\u001b[0m   Num Epochs = 5\n",
      "\u001b[2m\u001b[36m(BaseWorkerMixin pid=437, ip=172.31.85.117)\u001b[0m   Instantaneous batch size per device = 16\n",
      "\u001b[2m\u001b[36m(BaseWorkerMixin pid=437, ip=172.31.85.117)\u001b[0m   Total train batch size (w. parallel, distributed & accumulation) = 32\n",
      "\u001b[2m\u001b[36m(BaseWorkerMixin pid=437, ip=172.31.85.117)\u001b[0m   Gradient Accumulation steps = 1\n",
      "\u001b[2m\u001b[36m(BaseWorkerMixin pid=437, ip=172.31.85.117)\u001b[0m   Total optimization steps = 1340\n",
      "\u001b[2m\u001b[36m(BaseWorkerMixin pid=437, ip=172.31.85.117)\u001b[0m [W reducer.cpp:1303] Warning: find_unused_parameters=True was specified in DDP constructor, but did not find any unused parameters in the forward pass. This flag results in an extra traversal of the autograd graph every iteration,  which can adversely affect performance. If your model indeed never has any unused parameters in the forward pass, consider turning this flag off. Note that this warning may be a false positive if your model has flow control causing later iterations to have unused parameters. (function operator())\n",
      "\u001b[2m\u001b[36m(BaseWorkerMixin pid=680, ip=172.31.64.103)\u001b[0m [W reducer.cpp:1303] Warning: find_unused_parameters=True was specified in DDP constructor, but did not find any unused parameters in the forward pass. This flag results in an extra traversal of the autograd graph every iteration,  which can adversely affect performance. If your model indeed never has any unused parameters in the forward pass, consider turning this flag off. Note that this warning may be a false positive if your model has flow control causing later iterations to have unused parameters. (function operator())\n",
      "\u001b[2m\u001b[36m(BaseWorkerMixin pid=437, ip=172.31.85.117)\u001b[0m ***** Running Evaluation *****\n",
      "\u001b[2m\u001b[36m(BaseWorkerMixin pid=437, ip=172.31.85.117)\u001b[0m   Num examples = 528\n",
      "\u001b[2m\u001b[36m(BaseWorkerMixin pid=437, ip=172.31.85.117)\u001b[0m   Batch size = 16\n",
      "\u001b[2m\u001b[36m(BaseWorkerMixin pid=680, ip=172.31.64.103)\u001b[0m ***** Running Evaluation *****\n",
      "\u001b[2m\u001b[36m(BaseWorkerMixin pid=680, ip=172.31.64.103)\u001b[0m   Num examples = 528\n",
      "\u001b[2m\u001b[36m(BaseWorkerMixin pid=680, ip=172.31.64.103)\u001b[0m   Batch size = 16\n",
      "\u001b[2m\u001b[36m(BaseWorkerMixin pid=680, ip=172.31.64.103)\u001b[0m Saving model checkpoint to distilbert-base-uncased-finetuned-cola/checkpoint-268\n",
      "\u001b[2m\u001b[36m(BaseWorkerMixin pid=680, ip=172.31.64.103)\u001b[0m Configuration saved in distilbert-base-uncased-finetuned-cola/checkpoint-268/config.json\n"
     ]
    },
    {
     "name": "stdout",
     "output_type": "stream",
     "text": [
      "\u001b[2m\u001b[36m(BaseWorkerMixin pid=680, ip=172.31.64.103)\u001b[0m {'eval_loss': 0.47288978099823, 'eval_matthews_correlation': 0.46254091643754286, 'eval_runtime': 1.1797, 'eval_samples_per_second': 447.555, 'eval_steps_per_second': 14.41, 'epoch': 1.0}\n",
      "\u001b[2m\u001b[36m(BaseWorkerMixin pid=437, ip=172.31.85.117)\u001b[0m {'eval_loss': 0.47288978099823, 'eval_matthews_correlation': 0.46254091643754286, 'eval_runtime': 1.182, 'eval_samples_per_second': 446.683, 'eval_steps_per_second': 14.382, 'epoch': 1.0}\n"
     ]
    },
    {
     "name": "stderr",
     "output_type": "stream",
     "text": [
      "\u001b[2m\u001b[36m(BaseWorkerMixin pid=680, ip=172.31.64.103)\u001b[0m Model weights saved in distilbert-base-uncased-finetuned-cola/checkpoint-268/pytorch_model.bin\n",
      "\u001b[2m\u001b[36m(BaseWorkerMixin pid=680, ip=172.31.64.103)\u001b[0m tokenizer config file saved in distilbert-base-uncased-finetuned-cola/checkpoint-268/tokenizer_config.json\n",
      "\u001b[2m\u001b[36m(BaseWorkerMixin pid=680, ip=172.31.64.103)\u001b[0m Special tokens file saved in distilbert-base-uncased-finetuned-cola/checkpoint-268/special_tokens_map.json\n"
     ]
    },
    {
     "name": "stdout",
     "output_type": "stream",
     "text": [
      "Trial HuggingFaceTrainer_e45d0_00000 reported eval_loss=0.47288978099823,eval_matthews_correlation=0.46254091643754286,eval_runtime=1.1797,eval_samples_per_second=447.555,eval_steps_per_second=14.41,epoch=1.0,step=268,_timestamp=1652115460,_time_this_iter_s=88.92099499702454,_training_iteration=1,should_checkpoint=True with parameters={}.\n",
      "2022-05-09 09:57:41,494\tINFO commands.py:348 -- Checking External environment settings\n",
      "2022-05-09 09:57:42,668\tWARN util.py:185 -- The `head_node` field is deprecated and will be ignored. Use `head_node_type` and `available_node_types` instead.\n",
      "2022-05-09 09:57:42,668\tWARN util.py:191 -- The `worker_nodes` field is deprecated and will be ignored. Use `available_node_types` instead.\n",
      "\u001b[1m\u001b[36mAuthenticating\u001b[0m\n",
      "\n"
     ]
    },
    {
     "name": "stderr",
     "output_type": "stream",
     "text": [
      "Loaded Anyscale authentication token from variable.\n"
     ]
    },
    {
     "name": "stdout",
     "output_type": "stream",
     "text": [
      "2022-05-09 09:57:44,717\tINFO command_runner.py:394 -- Fetched IP: 172.31.64.103\n",
      "2022-05-09 09:57:44,717\tINFO log_timer.py:25 -- NodeUpdater: ins_yR62wGa2sJffk1QehaKjfwgf: Got IP  [LogTimer=46ms]\n"
     ]
    },
    {
     "name": "stdout",
     "output_type": "stream",
     "text": [
      "\u001b[2m\u001b[36m(BaseWorkerMixin pid=437, ip=172.31.85.117)\u001b[0m {'loss': 0.4841, 'learning_rate': 1.2537313432835823e-05, 'epoch': 1.87}\n",
      "\u001b[2m\u001b[36m(BaseWorkerMixin pid=680, ip=172.31.64.103)\u001b[0m {'loss': 0.4841, 'learning_rate': 1.2537313432835823e-05, 'epoch': 1.87}\n"
     ]
    },
    {
     "name": "stderr",
     "output_type": "stream",
     "text": [
      "\u001b[2m\u001b[36m(BaseWorkerMixin pid=680, ip=172.31.64.103)\u001b[0m ***** Running Evaluation *****\n",
      "\u001b[2m\u001b[36m(BaseWorkerMixin pid=680, ip=172.31.64.103)\u001b[0m   Num examples = 528\n",
      "\u001b[2m\u001b[36m(BaseWorkerMixin pid=680, ip=172.31.64.103)\u001b[0m   Batch size = 16\n",
      "\u001b[2m\u001b[36m(BaseWorkerMixin pid=437, ip=172.31.85.117)\u001b[0m ***** Running Evaluation *****\n",
      "\u001b[2m\u001b[36m(BaseWorkerMixin pid=437, ip=172.31.85.117)\u001b[0m   Num examples = 528\n",
      "\u001b[2m\u001b[36m(BaseWorkerMixin pid=437, ip=172.31.85.117)\u001b[0m   Batch size = 16\n"
     ]
    },
    {
     "name": "stdout",
     "output_type": "stream",
     "text": [
      "\u001b[2m\u001b[36m(BaseWorkerMixin pid=680, ip=172.31.64.103)\u001b[0m {'eval_loss': 0.4400040805339813, 'eval_matthews_correlation': 0.5537833663358755, 'eval_runtime': 1.123, 'eval_samples_per_second': 470.18, 'eval_steps_per_second': 15.138, 'epoch': 2.0}\n",
      "\u001b[2m\u001b[36m(BaseWorkerMixin pid=437, ip=172.31.85.117)\u001b[0m {'eval_loss': 0.4400040805339813, 'eval_matthews_correlation': 0.5537833663358755, 'eval_runtime': 1.133, 'eval_samples_per_second': 466.021, 'eval_steps_per_second': 15.004, 'epoch': 2.0}\n"
     ]
    },
    {
     "name": "stderr",
     "output_type": "stream",
     "text": [
      "\u001b[2m\u001b[36m(BaseWorkerMixin pid=680, ip=172.31.64.103)\u001b[0m Saving model checkpoint to distilbert-base-uncased-finetuned-cola/checkpoint-536\n",
      "\u001b[2m\u001b[36m(BaseWorkerMixin pid=680, ip=172.31.64.103)\u001b[0m Configuration saved in distilbert-base-uncased-finetuned-cola/checkpoint-536/config.json\n",
      "\u001b[2m\u001b[36m(BaseWorkerMixin pid=680, ip=172.31.64.103)\u001b[0m Model weights saved in distilbert-base-uncased-finetuned-cola/checkpoint-536/pytorch_model.bin\n",
      "\u001b[2m\u001b[36m(BaseWorkerMixin pid=680, ip=172.31.64.103)\u001b[0m tokenizer config file saved in distilbert-base-uncased-finetuned-cola/checkpoint-536/tokenizer_config.json\n",
      "\u001b[2m\u001b[36m(BaseWorkerMixin pid=680, ip=172.31.64.103)\u001b[0m Special tokens file saved in distilbert-base-uncased-finetuned-cola/checkpoint-536/special_tokens_map.json\n",
      "2022-05-09 09:59:33,619\tWARNING util.py:214 -- The `callbacks.on_trial_result` operation took 112.328 s, which may be a performance bottleneck.\n",
      "2022-05-09 09:59:33,621\tWARNING util.py:214 -- The `process_trial_result` operation took 112.330 s, which may be a performance bottleneck.\n",
      "2022-05-09 09:59:33,622\tWARNING util.py:214 -- Processing trial results took 112.331 s, which may be a performance bottleneck. Please consider reporting results less frequently to Ray Tune.\n",
      "2022-05-09 09:59:33,622\tWARNING util.py:214 -- The `process_trial_result` operation took 112.331 s, which may be a performance bottleneck.\n"
     ]
    },
    {
     "name": "stdout",
     "output_type": "stream",
     "text": [
      "2022-05-09 09:59:33,675\tWARN commands.py:322 -- Loaded cached provider configuration\n",
      "2022-05-09 09:59:33,675\tWARN commands.py:323 -- If you experience issues with the cloud provider, try re-running the command with --no-config-cache.\n",
      "2022-05-09 09:59:34,654\tINFO command_runner.py:394 -- Fetched IP: 172.31.64.103\n",
      "2022-05-09 09:59:34,654\tINFO log_timer.py:25 -- NodeUpdater: ins_yR62wGa2sJffk1QehaKjfwgf: Got IP  [LogTimer=36ms]\n"
     ]
    },
    {
     "name": "stderr",
     "output_type": "stream",
     "text": [
      "2022-05-09 09:59:35,050\tWARNING util.py:214 -- The `process_trial_save` operation took 1.414 s, which may be a performance bottleneck.\n",
      "2022-05-09 09:59:35,051\tWARNING trial_runner.py:856 -- Consider turning off forced head-worker trial checkpoint syncs by setting sync_on_checkpoint=False. Note that this may result in faulty trial restoration if a failure occurs while the checkpoint is being synced from the worker to the head node.\n"
     ]
    },
    {
     "name": "stdout",
     "output_type": "stream",
     "text": [
      "Trial HuggingFaceTrainer_e45d0_00000 reported loss=0.4841,learning_rate=1.2537313432835823e-05,epoch=2.0,step=536,eval_loss=0.4400040805339813,eval_matthews_correlation=0.5537833663358755,eval_runtime=1.123,eval_samples_per_second=470.18,eval_steps_per_second=15.138,_timestamp=1652115575,_time_this_iter_s=114.75805258750916,_training_iteration=2,should_checkpoint=True with parameters={}.\n",
      "2022-05-09 09:59:37,037\tINFO command_runner.py:394 -- Fetched IP: 172.31.64.103\n",
      "2022-05-09 09:59:37,038\tINFO log_timer.py:25 -- NodeUpdater: ins_yR62wGa2sJffk1QehaKjfwgf: Got IP  [LogTimer=38ms]\n"
     ]
    },
    {
     "name": "stderr",
     "output_type": "stream",
     "text": [
      "\u001b[2m\u001b[36m(BaseWorkerMixin pid=680, ip=172.31.64.103)\u001b[0m ***** Running Evaluation *****\n",
      "\u001b[2m\u001b[36m(BaseWorkerMixin pid=680, ip=172.31.64.103)\u001b[0m   Num examples = 528\n",
      "\u001b[2m\u001b[36m(BaseWorkerMixin pid=680, ip=172.31.64.103)\u001b[0m   Batch size = 16\n",
      "\u001b[2m\u001b[36m(BaseWorkerMixin pid=437, ip=172.31.85.117)\u001b[0m ***** Running Evaluation *****\n",
      "\u001b[2m\u001b[36m(BaseWorkerMixin pid=437, ip=172.31.85.117)\u001b[0m   Num examples = 528\n",
      "\u001b[2m\u001b[36m(BaseWorkerMixin pid=437, ip=172.31.85.117)\u001b[0m   Batch size = 16\n",
      "\u001b[2m\u001b[36m(BaseWorkerMixin pid=680, ip=172.31.64.103)\u001b[0m Saving model checkpoint to distilbert-base-uncased-finetuned-cola/checkpoint-804\n",
      "\u001b[2m\u001b[36m(BaseWorkerMixin pid=680, ip=172.31.64.103)\u001b[0m Configuration saved in distilbert-base-uncased-finetuned-cola/checkpoint-804/config.json\n"
     ]
    },
    {
     "name": "stdout",
     "output_type": "stream",
     "text": [
      "\u001b[2m\u001b[36m(BaseWorkerMixin pid=680, ip=172.31.64.103)\u001b[0m {'eval_loss': 0.47401636838912964, 'eval_matthews_correlation': 0.546874981133197, 'eval_runtime': 1.163, 'eval_samples_per_second': 453.986, 'eval_steps_per_second': 14.617, 'epoch': 3.0}\n",
      "\u001b[2m\u001b[36m(BaseWorkerMixin pid=437, ip=172.31.85.117)\u001b[0m {'eval_loss': 0.47401636838912964, 'eval_matthews_correlation': 0.546874981133197, 'eval_runtime': 1.1726, 'eval_samples_per_second': 450.279, 'eval_steps_per_second': 14.498, 'epoch': 3.0}\n"
     ]
    },
    {
     "name": "stderr",
     "output_type": "stream",
     "text": [
      "\u001b[2m\u001b[36m(BaseWorkerMixin pid=680, ip=172.31.64.103)\u001b[0m Model weights saved in distilbert-base-uncased-finetuned-cola/checkpoint-804/pytorch_model.bin\n",
      "\u001b[2m\u001b[36m(BaseWorkerMixin pid=680, ip=172.31.64.103)\u001b[0m tokenizer config file saved in distilbert-base-uncased-finetuned-cola/checkpoint-804/tokenizer_config.json\n",
      "\u001b[2m\u001b[36m(BaseWorkerMixin pid=680, ip=172.31.64.103)\u001b[0m Special tokens file saved in distilbert-base-uncased-finetuned-cola/checkpoint-804/special_tokens_map.json\n",
      "2022-05-09 10:01:28,154\tWARNING util.py:214 -- The `process_trial_save` operation took 112.160 s, which may be a performance bottleneck.\n"
     ]
    },
    {
     "name": "stdout",
     "output_type": "stream",
     "text": [
      "Trial HuggingFaceTrainer_e45d0_00000 reported eval_loss=0.47401636838912964,eval_matthews_correlation=0.546874981133197,eval_runtime=1.163,eval_samples_per_second=453.986,eval_steps_per_second=14.617,epoch=3.0,step=804,_timestamp=1652115688,_time_this_iter_s=113.10392379760742,_training_iteration=3,should_checkpoint=True with parameters={}.\n",
      "2022-05-09 10:01:30,318\tINFO command_runner.py:394 -- Fetched IP: 172.31.64.103\n",
      "2022-05-09 10:01:30,318\tINFO log_timer.py:25 -- NodeUpdater: ins_yR62wGa2sJffk1QehaKjfwgf: Got IP  [LogTimer=41ms]\n"
     ]
    },
    {
     "name": "stdout",
     "output_type": "stream",
     "text": [
      "\u001b[2m\u001b[36m(BaseWorkerMixin pid=680, ip=172.31.64.103)\u001b[0m {'loss': 0.2599, 'learning_rate': 5.074626865671642e-06, 'epoch': 3.73}\n",
      "\u001b[2m\u001b[36m(BaseWorkerMixin pid=437, ip=172.31.85.117)\u001b[0m {'loss': 0.2599, 'learning_rate': 5.074626865671642e-06, 'epoch': 3.73}\n"
     ]
    },
    {
     "name": "stderr",
     "output_type": "stream",
     "text": [
      "\u001b[2m\u001b[36m(BaseWorkerMixin pid=437, ip=172.31.85.117)\u001b[0m ***** Running Evaluation *****\n",
      "\u001b[2m\u001b[36m(BaseWorkerMixin pid=437, ip=172.31.85.117)\u001b[0m   Num examples = 528\n",
      "\u001b[2m\u001b[36m(BaseWorkerMixin pid=437, ip=172.31.85.117)\u001b[0m   Batch size = 16\n",
      "\u001b[2m\u001b[36m(BaseWorkerMixin pid=680, ip=172.31.64.103)\u001b[0m ***** Running Evaluation *****\n",
      "\u001b[2m\u001b[36m(BaseWorkerMixin pid=680, ip=172.31.64.103)\u001b[0m   Num examples = 528\n",
      "\u001b[2m\u001b[36m(BaseWorkerMixin pid=680, ip=172.31.64.103)\u001b[0m   Batch size = 16\n",
      "\u001b[2m\u001b[36m(BaseWorkerMixin pid=680, ip=172.31.64.103)\u001b[0m Saving model checkpoint to distilbert-base-uncased-finetuned-cola/checkpoint-1072\n",
      "\u001b[2m\u001b[36m(BaseWorkerMixin pid=680, ip=172.31.64.103)\u001b[0m Configuration saved in distilbert-base-uncased-finetuned-cola/checkpoint-1072/config.json\n"
     ]
    },
    {
     "name": "stdout",
     "output_type": "stream",
     "text": [
      "\u001b[2m\u001b[36m(BaseWorkerMixin pid=680, ip=172.31.64.103)\u001b[0m {'eval_loss': 0.506990373134613, 'eval_matthews_correlation': 0.5780880973107337, 'eval_runtime': 1.1841, 'eval_samples_per_second': 445.902, 'eval_steps_per_second': 14.357, 'epoch': 4.0}\n",
      "\u001b[2m\u001b[36m(BaseWorkerMixin pid=437, ip=172.31.85.117)\u001b[0m {'eval_loss': 0.506990373134613, 'eval_matthews_correlation': 0.5780880973107337, 'eval_runtime': 1.1757, 'eval_samples_per_second': 449.078, 'eval_steps_per_second': 14.459, 'epoch': 4.0}\n"
     ]
    },
    {
     "name": "stderr",
     "output_type": "stream",
     "text": [
      "\u001b[2m\u001b[36m(BaseWorkerMixin pid=680, ip=172.31.64.103)\u001b[0m Model weights saved in distilbert-base-uncased-finetuned-cola/checkpoint-1072/pytorch_model.bin\n",
      "\u001b[2m\u001b[36m(BaseWorkerMixin pid=680, ip=172.31.64.103)\u001b[0m tokenizer config file saved in distilbert-base-uncased-finetuned-cola/checkpoint-1072/tokenizer_config.json\n",
      "\u001b[2m\u001b[36m(BaseWorkerMixin pid=680, ip=172.31.64.103)\u001b[0m Special tokens file saved in distilbert-base-uncased-finetuned-cola/checkpoint-1072/special_tokens_map.json\n",
      "2022-05-09 10:03:24,376\tWARNING util.py:214 -- The `process_trial_save` operation took 115.247 s, which may be a performance bottleneck.\n"
     ]
    },
    {
     "name": "stdout",
     "output_type": "stream",
     "text": [
      "Trial HuggingFaceTrainer_e45d0_00000 reported loss=0.2599,learning_rate=5.074626865671642e-06,epoch=4.0,step=1072,eval_loss=0.506990373134613,eval_matthews_correlation=0.5780880973107337,eval_runtime=1.1841,eval_samples_per_second=445.902,eval_steps_per_second=14.357,_timestamp=1652115804,_time_this_iter_s=116.2225067615509,_training_iteration=4,should_checkpoint=True with parameters={}.\n",
      "2022-05-09 10:03:26,482\tINFO command_runner.py:394 -- Fetched IP: 172.31.64.103\n",
      "2022-05-09 10:03:26,482\tINFO log_timer.py:25 -- NodeUpdater: ins_yR62wGa2sJffk1QehaKjfwgf: Got IP  [LogTimer=40ms]\n"
     ]
    },
    {
     "name": "stderr",
     "output_type": "stream",
     "text": [
      "\u001b[2m\u001b[36m(BaseWorkerMixin pid=680, ip=172.31.64.103)\u001b[0m Saving model checkpoint to distilbert-base-uncased-finetuned-cola/checkpoint-1340\n",
      "\u001b[2m\u001b[36m(BaseWorkerMixin pid=680, ip=172.31.64.103)\u001b[0m Configuration saved in distilbert-base-uncased-finetuned-cola/checkpoint-1340/config.json\n",
      "\u001b[2m\u001b[36m(BaseWorkerMixin pid=680, ip=172.31.64.103)\u001b[0m Model weights saved in distilbert-base-uncased-finetuned-cola/checkpoint-1340/pytorch_model.bin\n",
      "\u001b[2m\u001b[36m(BaseWorkerMixin pid=680, ip=172.31.64.103)\u001b[0m tokenizer config file saved in distilbert-base-uncased-finetuned-cola/checkpoint-1340/tokenizer_config.json\n",
      "\u001b[2m\u001b[36m(BaseWorkerMixin pid=680, ip=172.31.64.103)\u001b[0m Special tokens file saved in distilbert-base-uncased-finetuned-cola/checkpoint-1340/special_tokens_map.json\n",
      "2022-05-09 10:05:16,196\tWARNING util.py:214 -- The `process_trial_save` operation took 110.751 s, which may be a performance bottleneck.\n",
      "\u001b[2m\u001b[36m(BaseWorkerMixin pid=437, ip=172.31.85.117)\u001b[0m ***** Running Evaluation *****\n",
      "\u001b[2m\u001b[36m(BaseWorkerMixin pid=437, ip=172.31.85.117)\u001b[0m   Num examples = 528\n",
      "\u001b[2m\u001b[36m(BaseWorkerMixin pid=437, ip=172.31.85.117)\u001b[0m   Batch size = 16\n",
      "\u001b[2m\u001b[36m(BaseWorkerMixin pid=680, ip=172.31.64.103)\u001b[0m ***** Running Evaluation *****\n",
      "\u001b[2m\u001b[36m(BaseWorkerMixin pid=680, ip=172.31.64.103)\u001b[0m   Num examples = 528\n",
      "\u001b[2m\u001b[36m(BaseWorkerMixin pid=680, ip=172.31.64.103)\u001b[0m   Batch size = 16\n",
      "\u001b[2m\u001b[36m(BaseWorkerMixin pid=437, ip=172.31.85.117)\u001b[0m \n",
      "\u001b[2m\u001b[36m(BaseWorkerMixin pid=437, ip=172.31.85.117)\u001b[0m \n",
      "\u001b[2m\u001b[36m(BaseWorkerMixin pid=437, ip=172.31.85.117)\u001b[0m Training completed. Do not forget to share your model on huggingface.co/models =)\n",
      "\u001b[2m\u001b[36m(BaseWorkerMixin pid=437, ip=172.31.85.117)\u001b[0m \n",
      "\u001b[2m\u001b[36m(BaseWorkerMixin pid=437, ip=172.31.85.117)\u001b[0m \n",
      "\u001b[2m\u001b[36m(BaseWorkerMixin pid=680, ip=172.31.64.103)\u001b[0m Saving model checkpoint to distilbert-base-uncased-finetuned-cola/checkpoint-1340\n",
      "\u001b[2m\u001b[36m(BaseWorkerMixin pid=680, ip=172.31.64.103)\u001b[0m Configuration saved in distilbert-base-uncased-finetuned-cola/checkpoint-1340/config.json\n"
     ]
    },
    {
     "name": "stdout",
     "output_type": "stream",
     "text": [
      "\u001b[2m\u001b[36m(BaseWorkerMixin pid=437, ip=172.31.85.117)\u001b[0m {'eval_loss': 0.5804393887519836, 'eval_matthews_correlation': 0.5554367044737701, 'eval_runtime': 1.1563, 'eval_samples_per_second': 456.631, 'eval_steps_per_second': 14.702, 'epoch': 5.0}\n",
      "\u001b[2m\u001b[36m(BaseWorkerMixin pid=680, ip=172.31.64.103)\u001b[0m {'eval_loss': 0.5804393887519836, 'eval_matthews_correlation': 0.5554367044737701, 'eval_runtime': 1.1602, 'eval_samples_per_second': 455.104, 'eval_steps_per_second': 14.653, 'epoch': 5.0}\n"
     ]
    },
    {
     "name": "stderr",
     "output_type": "stream",
     "text": [
      "\u001b[2m\u001b[36m(BaseWorkerMixin pid=680, ip=172.31.64.103)\u001b[0m Model weights saved in distilbert-base-uncased-finetuned-cola/checkpoint-1340/pytorch_model.bin\n",
      "\u001b[2m\u001b[36m(BaseWorkerMixin pid=680, ip=172.31.64.103)\u001b[0m tokenizer config file saved in distilbert-base-uncased-finetuned-cola/checkpoint-1340/tokenizer_config.json\n",
      "\u001b[2m\u001b[36m(BaseWorkerMixin pid=680, ip=172.31.64.103)\u001b[0m Special tokens file saved in distilbert-base-uncased-finetuned-cola/checkpoint-1340/special_tokens_map.json\n"
     ]
    },
    {
     "name": "stdout",
     "output_type": "stream",
     "text": [
      "\u001b[2m\u001b[36m(BaseWorkerMixin pid=437, ip=172.31.85.117)\u001b[0m {'train_runtime': 536.0575, 'train_samples_per_second': 39.996, 'train_steps_per_second': 2.5, 'train_loss': 0.3176275509506909, 'epoch': 5.0}\n",
      "\u001b[2m\u001b[36m(BaseWorkerMixin pid=680, ip=172.31.64.103)\u001b[0m {'train_runtime': 537.6169, 'train_samples_per_second': 39.88, 'train_steps_per_second': 2.492, 'train_loss': 0.32409847601136166, 'epoch': 5.0}\n"
     ]
    },
    {
     "name": "stderr",
     "output_type": "stream",
     "text": [
      "\u001b[2m\u001b[36m(BaseWorkerMixin pid=680, ip=172.31.64.103)\u001b[0m \n",
      "\u001b[2m\u001b[36m(BaseWorkerMixin pid=680, ip=172.31.64.103)\u001b[0m \n",
      "\u001b[2m\u001b[36m(BaseWorkerMixin pid=680, ip=172.31.64.103)\u001b[0m Training completed. Do not forget to share your model on huggingface.co/models =)\n",
      "\u001b[2m\u001b[36m(BaseWorkerMixin pid=680, ip=172.31.64.103)\u001b[0m \n",
      "\u001b[2m\u001b[36m(BaseWorkerMixin pid=680, ip=172.31.64.103)\u001b[0m \n"
     ]
    },
    {
     "name": "stdout",
     "output_type": "stream",
     "text": [
      "Trial HuggingFaceTrainer_e45d0_00000 reported eval_loss=0.5804393887519836,eval_matthews_correlation=0.5554367044737701,eval_runtime=1.1602,eval_samples_per_second=455.104,eval_steps_per_second=14.653,epoch=5.0,step=1340,train_runtime=537.6169,train_samples_per_second=39.88,train_steps_per_second=2.492,train_loss=0.32409847601136166,_timestamp=1652115918,_time_this_iter_s=114.53249931335449,_training_iteration=5,should_checkpoint=True with parameters={}.\n",
      "2022-05-09 10:05:21,220\tINFO command_runner.py:394 -- Fetched IP: 172.31.64.103\n",
      "2022-05-09 10:05:21,221\tINFO log_timer.py:25 -- NodeUpdater: ins_yR62wGa2sJffk1QehaKjfwgf: Got IP  [LogTimer=38ms]\n"
     ]
    },
    {
     "name": "stderr",
     "output_type": "stream",
     "text": [
      "2022-05-09 10:07:46,623\tWARNING util.py:214 -- The `process_trial_save` operation took 146.717 s, which may be a performance bottleneck.\n"
     ]
    },
    {
     "name": "stdout",
     "output_type": "stream",
     "text": [
      "2022-05-09 10:07:48,270\tINFO command_runner.py:394 -- Fetched IP: 172.31.64.103\n",
      "2022-05-09 10:07:48,270\tINFO log_timer.py:25 -- NodeUpdater: ins_yR62wGa2sJffk1QehaKjfwgf: Got IP  [LogTimer=122ms]\n"
     ]
    },
    {
     "name": "stderr",
     "output_type": "stream",
     "text": [
      "2022-05-09 10:07:48,697\tWARNING util.py:214 -- The `process_trial_save` operation took 1.561 s, which may be a performance bottleneck.\n"
     ]
    },
    {
     "name": "stdout",
     "output_type": "stream",
     "text": [
      "Trial HuggingFaceTrainer_e45d0_00000 completed. Last result: eval_loss=0.5804393887519836,eval_matthews_correlation=0.5554367044737701,eval_runtime=1.1602,eval_samples_per_second=455.104,eval_steps_per_second=14.653,epoch=5.0,step=1340,train_runtime=537.6169,train_samples_per_second=39.88,train_steps_per_second=2.492,train_loss=0.32409847601136166,_timestamp=1652115918,_time_this_iter_s=114.53249931335449,_training_iteration=5,should_checkpoint=True\n",
      "2022-05-09 10:07:49,922\tINFO command_runner.py:394 -- Fetched IP: 172.31.64.103\n",
      "2022-05-09 10:07:49,922\tINFO log_timer.py:25 -- NodeUpdater: ins_yR62wGa2sJffk1QehaKjfwgf: Got IP  [LogTimer=40ms]\n"
     ]
    },
    {
     "name": "stderr",
     "output_type": "stream",
     "text": [
      "2022-05-09 10:07:50,433\tINFO tune.py:752 -- Total run time: 715.07 seconds (714.83 seconds for the tuning loop).\n"
     ]
    }
   ],
   "source": [
    "result = trainer.fit()"
   ]
  },
  {
   "cell_type": "markdown",
   "metadata": {},
   "source": [
    "You can use the returned `Result` object to access metrics and the Ray AIR `Checkpoint` associated with the last iteration."
   ]
  },
  {
   "cell_type": "code",
   "execution_count": 15,
   "metadata": {},
   "outputs": [
    {
     "data": {
      "text/plain": [
       "Result(metrics={'eval_loss': 0.5804393887519836, 'eval_matthews_correlation': 0.5554367044737701, 'eval_runtime': 1.1602, 'eval_samples_per_second': 455.104, 'eval_steps_per_second': 14.653, 'epoch': 5.0, 'step': 1340, 'train_runtime': 537.6169, 'train_samples_per_second': 39.88, 'train_steps_per_second': 2.492, 'train_loss': 0.32409847601136166, '_timestamp': 1652115918, '_time_this_iter_s': 114.53249931335449, '_training_iteration': 5, 'time_this_iter_s': 114.45997858047485, 'should_checkpoint': True, 'done': True, 'timesteps_total': None, 'episodes_total': None, 'training_iteration': 5, 'trial_id': 'e45d0_00000', 'experiment_id': '8462fb3754544340ad2ac78ee68afab4', 'date': '2022-05-09_10-05-19', 'timestamp': 1652115919, 'time_total_s': 556.8452582359314, 'pid': 643, 'hostname': 'ip-172-31-64-103', 'node_ip': '172.31.64.103', 'config': {}, 'time_since_restore': 556.8452582359314, 'timesteps_since_restore': 0, 'iterations_since_restore': 5, 'warmup_time': 0.0049593448638916016, 'experiment_tag': '0'}, checkpoint=<ray.ml.checkpoint.Checkpoint object at 0x7fed0f8cb610>, error=None)"
      ]
     },
     "execution_count": 15,
     "metadata": {},
     "output_type": "execute_result"
    }
   ],
   "source": [
    "result"
   ]
  },
  {
   "cell_type": "markdown",
   "metadata": {},
   "source": [
    "You can now use the checkpoint to run prediction with `HuggingFacePredictor`, which wraps around [🤗 Pipelines](https://huggingface.co/docs/transformers/main_classes/pipelines). In order to distribute prediction, we use `BatchPredictor`. While this is not necessary for the very small example we are using (you could use `HuggingFacePredictor` directly), it will scale well to a large dataset."
   ]
  },
  {
   "cell_type": "code",
   "execution_count": 16,
   "metadata": {
    "id": "UOUcBkX8IrJi",
    "outputId": "de5b9dd6-9dc0-4702-cb43-55e9829fde25"
   },
   "outputs": [
    {
     "name": "stderr",
     "output_type": "stream",
     "text": [
      "Map Progress (2 actors 1 pending):   0%|          | 0/1 [00:09<?, ?it/s]\u001b[2m\u001b[36m(BlockWorker pid=6078)\u001b[0m 2022-05-09 10:09:20.067318: W tensorflow/stream_executor/platform/default/dso_loader.cc:64] Could not load dynamic library 'libcuda.so.1'; dlerror: libcuda.so.1: cannot open shared object file: No such file or directory; LD_LIBRARY_PATH: /usr/local/nvidia/lib:/usr/local/nvidia/lib64\n",
      "\u001b[2m\u001b[36m(BlockWorker pid=6078)\u001b[0m 2022-05-09 10:09:20.067358: W tensorflow/stream_executor/cuda/cuda_driver.cc:269] failed call to cuInit: UNKNOWN ERROR (303)\n",
      "\u001b[2m\u001b[36m(BlockWorker pid=6078)\u001b[0m 2022-05-09 10:09:20.067379: I tensorflow/stream_executor/cuda/cuda_diagnostics.cc:156] kernel driver does not appear to be running on this host (ip-172-31-89-174): /proc/driver/nvidia/version does not exist\n",
      "\u001b[2m\u001b[36m(BlockWorker pid=6078)\u001b[0m 2022-05-09 10:09:20.067664: I tensorflow/core/platform/cpu_feature_guard.cc:142] This TensorFlow binary is optimized with oneAPI Deep Neural Network Library (oneDNN) to use the following CPU instructions in performance-critical operations:  AVX2 AVX512F FMA\n",
      "\u001b[2m\u001b[36m(BlockWorker pid=6078)\u001b[0m To enable them in other operations, rebuild TensorFlow with the appropriate compiler flags.\n",
      "\u001b[2m\u001b[36m(BlockWorker pid=6078)\u001b[0m TAPAS models are not usable since `torch_scatter` can't be loaded. It seems you have `torch_scatter` installed with the wrong CUDA version. Please try to reinstall it following the instructions here: https://github.com/rusty1s/pytorch_scatter.\n",
      "Map Progress (2 actors 1 pending): 100%|██████████| 1/1 [00:13<00:00, 13.78s/it]\n"
     ]
    },
    {
     "data": {
      "text/html": [
       "<div>\n",
       "<style scoped>\n",
       "    .dataframe tbody tr th:only-of-type {\n",
       "        vertical-align: middle;\n",
       "    }\n",
       "\n",
       "    .dataframe tbody tr th {\n",
       "        vertical-align: top;\n",
       "    }\n",
       "\n",
       "    .dataframe thead th {\n",
       "        text-align: right;\n",
       "    }\n",
       "</style>\n",
       "<table border=\"1\" class=\"dataframe\">\n",
       "  <thead>\n",
       "    <tr style=\"text-align: right;\">\n",
       "      <th></th>\n",
       "      <th>label</th>\n",
       "      <th>score</th>\n",
       "    </tr>\n",
       "  </thead>\n",
       "  <tbody>\n",
       "    <tr>\n",
       "      <th>0</th>\n",
       "      <td>LABEL_1</td>\n",
       "      <td>0.991532</td>\n",
       "    </tr>\n",
       "    <tr>\n",
       "      <th>1</th>\n",
       "      <td>LABEL_1</td>\n",
       "      <td>0.988261</td>\n",
       "    </tr>\n",
       "    <tr>\n",
       "      <th>2</th>\n",
       "      <td>LABEL_1</td>\n",
       "      <td>0.991550</td>\n",
       "    </tr>\n",
       "    <tr>\n",
       "      <th>3</th>\n",
       "      <td>LABEL_1</td>\n",
       "      <td>0.987374</td>\n",
       "    </tr>\n",
       "    <tr>\n",
       "      <th>4</th>\n",
       "      <td>LABEL_1</td>\n",
       "      <td>0.504248</td>\n",
       "    </tr>\n",
       "  </tbody>\n",
       "</table>\n",
       "</div>"
      ],
      "text/plain": [
       "     label     score\n",
       "0  LABEL_1  0.991532\n",
       "1  LABEL_1  0.988261\n",
       "2  LABEL_1  0.991550\n",
       "3  LABEL_1  0.987374\n",
       "4  LABEL_1  0.504248"
      ]
     },
     "execution_count": 16,
     "metadata": {},
     "output_type": "execute_result"
    }
   ],
   "source": [
    "from ray.ml.predictors.integrations.huggingface import HuggingFacePredictor\n",
    "from ray.ml.batch_predictor import BatchPredictor\n",
    "import pandas as pd\n",
    "\n",
    "sentences = ['Bill whistled past the house.',\n",
    "  'The car honked its way down the road.',\n",
    "  'Bill pushed Harry off the sofa.',\n",
    "  'the kittens yawned awake and played.',\n",
    "  'I demand that the more John eats, the more he pay.']\n",
    "predictor = BatchPredictor.from_checkpoint(\n",
    "    result.checkpoint,\n",
    "    HuggingFacePredictor,\n",
    "    task=\"text-classification\",\n",
    ")\n",
    "data = ray.data.from_pandas(pd.DataFrame(sentences, columns=[\"sentence\"]))\n",
    "prediction = predictor.predict(data)\n",
    "prediction = prediction.to_pandas()\n",
    "prediction"
   ]
  },
  {
   "cell_type": "markdown",
   "metadata": {},
   "source": [
    "To be able to share your model with the community, there are a few more steps to follow.\n",
    "\n",
    "We have conducted the training on the Ray cluster, but share the model from the local enviroment - this will allow us to easily authenticate.\n",
    "\n",
    "First you have to store your authentication token from the Hugging Face website (sign up [here](https://huggingface.co/join) if you haven't already!) then execute the following cell and input your username and password:"
   ]
  },
  {
   "cell_type": "code",
   "execution_count": null,
   "metadata": {},
   "outputs": [],
   "source": [
    "from huggingface_hub import notebook_login\n",
    "\n",
    "notebook_login()"
   ]
  },
  {
   "cell_type": "markdown",
   "metadata": {},
   "source": [
    "Then you need to install Git-LFS. Uncomment the following instructions:"
   ]
  },
  {
   "cell_type": "code",
   "execution_count": null,
   "metadata": {},
   "outputs": [],
   "source": [
    "# !apt install git-lfs"
   ]
  },
  {
   "cell_type": "markdown",
   "metadata": {},
   "source": [
    "Now, load the model and tokenizer locally, and recreate the `Trainer`:"
   ]
  },
  {
   "cell_type": "code",
   "execution_count": null,
   "metadata": {},
   "outputs": [],
   "source": [
    "hf_trainer = HuggingFaceTrainer.load_huggingface_checkpoint(result.checkpoint, AutoModelForSequenceClassification, AutoTokenizer)"
   ]
  },
  {
   "cell_type": "markdown",
   "metadata": {},
   "source": [
    "You can now upload the result of the training to the Hub, just execute this instruction:"
   ]
  },
  {
   "cell_type": "code",
   "execution_count": null,
   "metadata": {},
   "outputs": [],
   "source": [
    "hf_trainer.push_to_hub()"
   ]
  },
  {
   "cell_type": "markdown",
   "metadata": {},
   "source": [
    "You can now share this model with all your friends, family, favorite pets: they can all load it with the identifier `\"your-username/the-name-you-picked\"` so for instance:\n",
    "\n",
    "```python\n",
    "from transformers import AutoModelForSequenceClassification\n",
    "\n",
    "model = AutoModelForSequenceClassification.from_pretrained(\"sgugger/my-awesome-model\")\n",
    "```"
   ]
  },
  {
   "cell_type": "code",
   "execution_count": null,
   "metadata": {},
   "outputs": [],
   "source": []
  }
 ],
 "metadata": {
  "colab": {
   "name": "Text Classification on GLUE",
   "provenance": []
  },
  "interpreter": {
   "hash": "3c0d54d489a08ae47a06eae2fd00ff032d6cddb527c382959b7b2575f6a8167f"
  },
  "kernelspec": {
   "display_name": "Python 3 (ipykernel)",
   "language": "python",
   "name": "python3"
  },
  "language_info": {
   "codemirror_mode": {
    "name": "ipython",
    "version": 3
   },
   "file_extension": ".py",
   "mimetype": "text/x-python",
   "name": "python",
   "nbconvert_exporter": "python",
   "pygments_lexer": "ipython3",
   "version": "3.8.5"
  }
 },
 "nbformat": 4,
 "nbformat_minor": 4
}
