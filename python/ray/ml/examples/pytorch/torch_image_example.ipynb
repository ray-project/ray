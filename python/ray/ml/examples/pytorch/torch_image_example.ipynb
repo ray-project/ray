{
 "cells": [
  {
   "cell_type": "markdown",
   "id": "38bbd981",
   "metadata": {},
   "source": [
    "# Hello Image Data"
   ]
  },
  {
   "cell_type": "markdown",
   "id": "ad65d385",
   "metadata": {},
   "source": [
    "This tutorial illustrates how to train an image classifier using the [Ray AI Runtime](https://docs.ray.io/en/latest/ray-air/getting-started.html).\n",
    "\n",
    "You should be familiar with [PyTorch](https://pytorch.org/) before starting the tutorial. If you need a refresher, read PyTorch's [training a classifier](https://pytorch.org/tutorials/beginner/blitz/cifar10_tutorial.html) tutorial."
   ]
  },
  {
   "cell_type": "markdown",
   "id": "6b36fbc6",
   "metadata": {},
   "source": [
    "## Before you begin"
   ]
  },
  {
   "cell_type": "markdown",
   "id": "2afbd6e7",
   "metadata": {},
   "source": [
    "* Install the [Ray AI Runtime](https://docs.ray.io/en/latest/ray-air/getting-started.html). You'll need Ray 1.13 later to run this example.\n",
    "\n",
    "```\n",
    "pip instsall 'ray[data,tune]'\n",
    "```\n",
    "\n",
    "* Install `torch` and `torchvision`\n",
    "\n",
    "```\n",
    "pip install torch torchvision\n",
    "```\n"
   ]
  },
  {
   "cell_type": "markdown",
   "id": "af1bfc48",
   "metadata": {},
   "source": [
    "## Load and normalize CIFAR-10"
   ]
  },
  {
   "cell_type": "code",
   "execution_count": 2,
   "id": "bcc2bbfe",
   "metadata": {},
   "outputs": [
    {
     "name": "stderr",
     "output_type": "stream",
     "text": [
      "2022-05-09 14:02:17,195\tINFO services.py:1478 -- View the Ray dashboard at \u001b[1m\u001b[32mhttp://127.0.0.1:8265\u001b[39m\u001b[22m\n",
      "2022-05-09 14:02:21,404\tWARNING read_api.py:248 -- The number of blocks in this dataset (1) limits its parallelism to 1 concurrent tasks. This is much less than the number of available CPU slots in the cluster. Use `.repartition(n)` to increase the number of dataset blocks.\n",
      "\u001b[2m\u001b[36m(_prepare_read pid=14274)\u001b[0m 2022-05-09 14:02:21,401\tWARNING torch_datasource.py:53 -- `SimpleTorchDatasource` doesn't support parallel reads. The `parallelism` argument will be ignored.\n"
     ]
    },
    {
     "name": "stdout",
     "output_type": "stream",
     "text": [
      "\u001b[2m\u001b[36m(_execute_read_task pid=14274)\u001b[0m Downloading https://www.cs.toronto.edu/~kriz/cifar-10-python.tar.gz to ./data/cifar-10-python.tar.gz\n"
     ]
    },
    {
     "name": "stderr",
     "output_type": "stream",
     "text": [
      "0.0%\u001b[36m(_execute_read_task pid=14274)\u001b[0m \n",
      "0.0%\u001b[36m(_execute_read_task pid=14274)\u001b[0m \n",
      "0.3%\u001b[36m(_execute_read_task pid=14274)\u001b[0m \n",
      "0.5%\u001b[36m(_execute_read_task pid=14274)\u001b[0m \n",
      "1.2%\u001b[36m(_execute_read_task pid=14274)\u001b[0m \n",
      "2.5%\u001b[36m(_execute_read_task pid=14274)\u001b[0m \n",
      "2.5%\u001b[36m(_execute_read_task pid=14274)\u001b[0m \n",
      "2.5%\u001b[36m(_execute_read_task pid=14274)\u001b[0m \n",
      "2.6%\u001b[36m(_execute_read_task pid=14274)\u001b[0m \n",
      "4.3%\u001b[36m(_execute_read_task pid=14274)\u001b[0m \n",
      "6.2%\u001b[36m(_execute_read_task pid=14274)\u001b[0m \n",
      "7.3%\u001b[36m(_execute_read_task pid=14274)\u001b[0m \n",
      "7.3%\u001b[36m(_execute_read_task pid=14274)\u001b[0m \n",
      "7.4%\u001b[36m(_execute_read_task pid=14274)\u001b[0m \n",
      "7.4%\u001b[36m(_execute_read_task pid=14274)\u001b[0m \n",
      "9.4%\u001b[36m(_execute_read_task pid=14274)\u001b[0m \n",
      "9.4%\u001b[36m(_execute_read_task pid=14274)\u001b[0m \n",
      "10.9%[36m(_execute_read_task pid=14274)\u001b[0m \n",
      "10.9%[36m(_execute_read_task pid=14274)\u001b[0m \n",
      "10.9%[36m(_execute_read_task pid=14274)\u001b[0m \n",
      "11.0%[36m(_execute_read_task pid=14274)\u001b[0m \n",
      "11.0%[36m(_execute_read_task pid=14274)\u001b[0m \n",
      "11.1%[36m(_execute_read_task pid=14274)\u001b[0m \n",
      "11.1%[36m(_execute_read_task pid=14274)\u001b[0m \n",
      "12.3%[36m(_execute_read_task pid=14274)\u001b[0m \n",
      "14.0%[36m(_execute_read_task pid=14274)\u001b[0m \n",
      "14.1%[36m(_execute_read_task pid=14274)\u001b[0m \n",
      "14.1%[36m(_execute_read_task pid=14274)\u001b[0m \n",
      "14.1%[36m(_execute_read_task pid=14274)\u001b[0m \n",
      "14.2%[36m(_execute_read_task pid=14274)\u001b[0m \n",
      "14.2%[36m(_execute_read_task pid=14274)\u001b[0m \n",
      "14.3%[36m(_execute_read_task pid=14274)\u001b[0m \n",
      "14.4%[36m(_execute_read_task pid=14274)\u001b[0m \n",
      "14.4%[36m(_execute_read_task pid=14274)\u001b[0m \n",
      "14.4%[36m(_execute_read_task pid=14274)\u001b[0m \n",
      "16.1%[36m(_execute_read_task pid=14274)\u001b[0m \n",
      "16.1%[36m(_execute_read_task pid=14274)\u001b[0m \n",
      "16.2%[36m(_execute_read_task pid=14274)\u001b[0m \n",
      "16.2%[36m(_execute_read_task pid=14274)\u001b[0m \n",
      "16.3%[36m(_execute_read_task pid=14274)\u001b[0m \n",
      "16.3%[36m(_execute_read_task pid=14274)\u001b[0m \n",
      "16.3%[36m(_execute_read_task pid=14274)\u001b[0m \n",
      "16.4%[36m(_execute_read_task pid=14274)\u001b[0m \n",
      "16.5%[36m(_execute_read_task pid=14274)\u001b[0m \n",
      "16.5%[36m(_execute_read_task pid=14274)\u001b[0m \n",
      "16.5%[36m(_execute_read_task pid=14274)\u001b[0m \n",
      "16.6%[36m(_execute_read_task pid=14274)\u001b[0m \n",
      "16.6%[36m(_execute_read_task pid=14274)\u001b[0m \n",
      "16.6%[36m(_execute_read_task pid=14274)\u001b[0m \n",
      "16.7%[36m(_execute_read_task pid=14274)\u001b[0m \n",
      "16.7%[36m(_execute_read_task pid=14274)\u001b[0m \n",
      "17.9%[36m(_execute_read_task pid=14274)\u001b[0m \n",
      "19.8%[36m(_execute_read_task pid=14274)\u001b[0m \n",
      "19.9%[36m(_execute_read_task pid=14274)\u001b[0m \n",
      "19.9%[36m(_execute_read_task pid=14274)\u001b[0m \n",
      "20.0%[36m(_execute_read_task pid=14274)\u001b[0m \n",
      "20.0%[36m(_execute_read_task pid=14274)\u001b[0m \n",
      "20.0%[36m(_execute_read_task pid=14274)\u001b[0m \n",
      "20.1%[36m(_execute_read_task pid=14274)\u001b[0m \n",
      "20.1%[36m(_execute_read_task pid=14274)\u001b[0m \n",
      "20.2%[36m(_execute_read_task pid=14274)\u001b[0m \n",
      "21.6%[36m(_execute_read_task pid=14274)\u001b[0m \n",
      "21.6%[36m(_execute_read_task pid=14274)\u001b[0m \n",
      "21.7%[36m(_execute_read_task pid=14274)\u001b[0m \n",
      "21.7%[36m(_execute_read_task pid=14274)\u001b[0m \n",
      "21.8%[36m(_execute_read_task pid=14274)\u001b[0m \n",
      "23.6%[36m(_execute_read_task pid=14274)\u001b[0m \n",
      "23.6%[36m(_execute_read_task pid=14274)\u001b[0m \n",
      "23.6%[36m(_execute_read_task pid=14274)\u001b[0m \n",
      "23.7%[36m(_execute_read_task pid=14274)\u001b[0m \n",
      "23.7%[36m(_execute_read_task pid=14274)\u001b[0m \n",
      "23.8%[36m(_execute_read_task pid=14274)\u001b[0m \n",
      "23.8%[36m(_execute_read_task pid=14274)\u001b[0m \n",
      "23.9%[36m(_execute_read_task pid=14274)\u001b[0m \n",
      "23.9%[36m(_execute_read_task pid=14274)\u001b[0m \n",
      "24.0%[36m(_execute_read_task pid=14274)\u001b[0m \n",
      "26.2%[36m(_execute_read_task pid=14274)\u001b[0m \n",
      "26.2%[36m(_execute_read_task pid=14274)\u001b[0m \n",
      "26.2%[36m(_execute_read_task pid=14274)\u001b[0m \n",
      "26.3%[36m(_execute_read_task pid=14274)\u001b[0m \n",
      "26.3%[36m(_execute_read_task pid=14274)\u001b[0m \n",
      "26.3%[36m(_execute_read_task pid=14274)\u001b[0m \n",
      "26.4%[36m(_execute_read_task pid=14274)\u001b[0m \n",
      "26.4%[36m(_execute_read_task pid=14274)\u001b[0m \n",
      "26.4%[36m(_execute_read_task pid=14274)\u001b[0m \n",
      "26.5%[36m(_execute_read_task pid=14274)\u001b[0m \n",
      "26.5%[36m(_execute_read_task pid=14274)\u001b[0m \n",
      "26.6%[36m(_execute_read_task pid=14274)\u001b[0m \n",
      "26.6%[36m(_execute_read_task pid=14274)\u001b[0m \n",
      "26.6%[36m(_execute_read_task pid=14274)\u001b[0m \n",
      "26.6%[36m(_execute_read_task pid=14274)\u001b[0m \n",
      "26.6%[36m(_execute_read_task pid=14274)\u001b[0m \n",
      "28.4%[36m(_execute_read_task pid=14274)\u001b[0m \n",
      "28.4%[36m(_execute_read_task pid=14274)\u001b[0m \n",
      "28.4%[36m(_execute_read_task pid=14274)\u001b[0m \n",
      "28.5%[36m(_execute_read_task pid=14274)\u001b[0m \n",
      "28.5%[36m(_execute_read_task pid=14274)\u001b[0m \n",
      "28.6%[36m(_execute_read_task pid=14274)\u001b[0m \n",
      "28.6%[36m(_execute_read_task pid=14274)\u001b[0m \n",
      "28.6%[36m(_execute_read_task pid=14274)\u001b[0m \n",
      "28.6%[36m(_execute_read_task pid=14274)\u001b[0m \n",
      "28.6%[36m(_execute_read_task pid=14274)\u001b[0m \n",
      "28.7%[36m(_execute_read_task pid=14274)\u001b[0m \n",
      "28.8%[36m(_execute_read_task pid=14274)\u001b[0m \n",
      "28.8%[36m(_execute_read_task pid=14274)\u001b[0m \n",
      "29.8%[36m(_execute_read_task pid=14274)\u001b[0m \n",
      "30.3%[36m(_execute_read_task pid=14274)\u001b[0m \n",
      "30.4%[36m(_execute_read_task pid=14274)\u001b[0m \n",
      "30.4%[36m(_execute_read_task pid=14274)\u001b[0m \n",
      "30.4%[36m(_execute_read_task pid=14274)\u001b[0m \n",
      "30.5%[36m(_execute_read_task pid=14274)\u001b[0m \n",
      "30.5%[36m(_execute_read_task pid=14274)\u001b[0m \n",
      "30.6%[36m(_execute_read_task pid=14274)\u001b[0m \n",
      "30.6%[36m(_execute_read_task pid=14274)\u001b[0m \n",
      "30.6%[36m(_execute_read_task pid=14274)\u001b[0m \n",
      "30.7%[36m(_execute_read_task pid=14274)\u001b[0m \n",
      "30.7%[36m(_execute_read_task pid=14274)\u001b[0m \n",
      "30.8%[36m(_execute_read_task pid=14274)\u001b[0m \n",
      "30.8%[36m(_execute_read_task pid=14274)\u001b[0m \n",
      "30.9%[36m(_execute_read_task pid=14274)\u001b[0m \n",
      "30.9%[36m(_execute_read_task pid=14274)\u001b[0m \n",
      "30.9%[36m(_execute_read_task pid=14274)\u001b[0m \n",
      "31.0%[36m(_execute_read_task pid=14274)\u001b[0m \n",
      "31.0%[36m(_execute_read_task pid=14274)\u001b[0m \n",
      "31.0%[36m(_execute_read_task pid=14274)\u001b[0m \n",
      "31.1%[36m(_execute_read_task pid=14274)\u001b[0m \n",
      "31.2%[36m(_execute_read_task pid=14274)\u001b[0m \n",
      "31.2%[36m(_execute_read_task pid=14274)\u001b[0m \n",
      "31.2%[36m(_execute_read_task pid=14274)\u001b[0m \n",
      "31.3%[36m(_execute_read_task pid=14274)\u001b[0m \n",
      "31.3%[36m(_execute_read_task pid=14274)\u001b[0m \n",
      "31.3%[36m(_execute_read_task pid=14274)\u001b[0m \n",
      "31.3%[36m(_execute_read_task pid=14274)\u001b[0m \n",
      "31.4%[36m(_execute_read_task pid=14274)\u001b[0m \n",
      "31.5%[36m(_execute_read_task pid=14274)\u001b[0m \n",
      "31.5%[36m(_execute_read_task pid=14274)\u001b[0m \n",
      "31.5%[36m(_execute_read_task pid=14274)\u001b[0m \n",
      "31.6%[36m(_execute_read_task pid=14274)\u001b[0m \n",
      "31.6%[36m(_execute_read_task pid=14274)\u001b[0m \n",
      "31.6%[36m(_execute_read_task pid=14274)\u001b[0m \n",
      "33.1%[36m(_execute_read_task pid=14274)\u001b[0m \n",
      "33.1%[36m(_execute_read_task pid=14274)\u001b[0m \n",
      "33.1%[36m(_execute_read_task pid=14274)\u001b[0m \n",
      "33.1%[36m(_execute_read_task pid=14274)\u001b[0m \n",
      "34.8%[36m(_execute_read_task pid=14274)\u001b[0m \n",
      "35.8%[36m(_execute_read_task pid=14274)\u001b[0m \n",
      "35.8%[36m(_execute_read_task pid=14274)\u001b[0m \n",
      "35.9%[36m(_execute_read_task pid=14274)\u001b[0m \n",
      "35.9%[36m(_execute_read_task pid=14274)\u001b[0m \n",
      "36.0%[36m(_execute_read_task pid=14274)\u001b[0m \n",
      "36.0%[36m(_execute_read_task pid=14274)\u001b[0m \n",
      "36.1%[36m(_execute_read_task pid=14274)\u001b[0m \n",
      "36.1%[36m(_execute_read_task pid=14274)\u001b[0m \n",
      "36.2%[36m(_execute_read_task pid=14274)\u001b[0m \n",
      "36.3%[36m(_execute_read_task pid=14274)\u001b[0m \n",
      "36.3%[36m(_execute_read_task pid=14274)\u001b[0m \n",
      "36.3%[36m(_execute_read_task pid=14274)\u001b[0m \n",
      "36.4%[36m(_execute_read_task pid=14274)\u001b[0m \n",
      "37.7%[36m(_execute_read_task pid=14274)\u001b[0m \n",
      "37.7%[36m(_execute_read_task pid=14274)\u001b[0m \n",
      "37.8%[36m(_execute_read_task pid=14274)\u001b[0m \n",
      "37.9%[36m(_execute_read_task pid=14274)\u001b[0m \n",
      "37.9%[36m(_execute_read_task pid=14274)\u001b[0m \n",
      "40.3%[36m(_execute_read_task pid=14274)\u001b[0m \n",
      "40.3%[36m(_execute_read_task pid=14274)\u001b[0m \n",
      "40.4%[36m(_execute_read_task pid=14274)\u001b[0m \n",
      "40.4%[36m(_execute_read_task pid=14274)\u001b[0m \n",
      "40.4%[36m(_execute_read_task pid=14274)\u001b[0m \n",
      "40.5%[36m(_execute_read_task pid=14274)\u001b[0m \n",
      "40.5%[36m(_execute_read_task pid=14274)\u001b[0m \n",
      "40.5%[36m(_execute_read_task pid=14274)\u001b[0m \n",
      "40.6%[36m(_execute_read_task pid=14274)\u001b[0m \n",
      "40.6%[36m(_execute_read_task pid=14274)\u001b[0m \n",
      "40.7%[36m(_execute_read_task pid=14274)\u001b[0m \n",
      "40.7%[36m(_execute_read_task pid=14274)\u001b[0m \n",
      "40.8%[36m(_execute_read_task pid=14274)\u001b[0m \n",
      "40.8%[36m(_execute_read_task pid=14274)\u001b[0m \n",
      "40.8%[36m(_execute_read_task pid=14274)\u001b[0m \n",
      "40.8%[36m(_execute_read_task pid=14274)\u001b[0m \n",
      "40.8%[36m(_execute_read_task pid=14274)\u001b[0m \n",
      "40.9%[36m(_execute_read_task pid=14274)\u001b[0m \n",
      "40.9%[36m(_execute_read_task pid=14274)\u001b[0m \n",
      "40.9%[36m(_execute_read_task pid=14274)\u001b[0m \n",
      "40.9%[36m(_execute_read_task pid=14274)\u001b[0m \n",
      "41.0%[36m(_execute_read_task pid=14274)\u001b[0m \n",
      "41.0%[36m(_execute_read_task pid=14274)\u001b[0m \n",
      "41.1%[36m(_execute_read_task pid=14274)\u001b[0m \n",
      "42.6%[36m(_execute_read_task pid=14274)\u001b[0m \n",
      "44.8%[36m(_execute_read_task pid=14274)\u001b[0m \n",
      "44.8%[36m(_execute_read_task pid=14274)\u001b[0m \n",
      "44.8%[36m(_execute_read_task pid=14274)\u001b[0m \n",
      "44.8%[36m(_execute_read_task pid=14274)\u001b[0m \n",
      "44.9%[36m(_execute_read_task pid=14274)\u001b[0m \n",
      "45.0%[36m(_execute_read_task pid=14274)\u001b[0m \n",
      "45.0%[36m(_execute_read_task pid=14274)\u001b[0m \n",
      "45.0%[36m(_execute_read_task pid=14274)\u001b[0m \n",
      "45.0%[36m(_execute_read_task pid=14274)\u001b[0m \n",
      "47.0%[36m(_execute_read_task pid=14274)\u001b[0m \n",
      "47.0%[36m(_execute_read_task pid=14274)\u001b[0m \n",
      "49.1%[36m(_execute_read_task pid=14274)\u001b[0m \n",
      "49.2%[36m(_execute_read_task pid=14274)\u001b[0m \n",
      "49.2%[36m(_execute_read_task pid=14274)\u001b[0m \n",
      "49.2%[36m(_execute_read_task pid=14274)\u001b[0m \n",
      "49.3%[36m(_execute_read_task pid=14274)\u001b[0m \n",
      "51.4%[36m(_execute_read_task pid=14274)\u001b[0m \n",
      "51.4%[36m(_execute_read_task pid=14274)\u001b[0m \n",
      "51.5%[36m(_execute_read_task pid=14274)\u001b[0m \n",
      "51.5%[36m(_execute_read_task pid=14274)\u001b[0m \n",
      "51.6%[36m(_execute_read_task pid=14274)\u001b[0m \n",
      "51.6%[36m(_execute_read_task pid=14274)\u001b[0m \n",
      "51.7%[36m(_execute_read_task pid=14274)\u001b[0m \n",
      "51.7%[36m(_execute_read_task pid=14274)\u001b[0m \n",
      "51.7%[36m(_execute_read_task pid=14274)\u001b[0m \n",
      "51.8%[36m(_execute_read_task pid=14274)\u001b[0m \n",
      "51.8%[36m(_execute_read_task pid=14274)\u001b[0m \n",
      "51.9%[36m(_execute_read_task pid=14274)\u001b[0m \n",
      "51.9%[36m(_execute_read_task pid=14274)\u001b[0m \n",
      "52.0%[36m(_execute_read_task pid=14274)\u001b[0m \n",
      "52.1%[36m(_execute_read_task pid=14274)\u001b[0m \n",
      "52.1%[36m(_execute_read_task pid=14274)\u001b[0m \n",
      "52.2%[36m(_execute_read_task pid=14274)\u001b[0m \n",
      "52.3%[36m(_execute_read_task pid=14274)\u001b[0m \n",
      "52.3%[36m(_execute_read_task pid=14274)\u001b[0m \n",
      "52.3%[36m(_execute_read_task pid=14274)\u001b[0m \n",
      "52.4%[36m(_execute_read_task pid=14274)\u001b[0m \n",
      "52.4%[36m(_execute_read_task pid=14274)\u001b[0m \n",
      "52.4%[36m(_execute_read_task pid=14274)\u001b[0m \n",
      "52.5%[36m(_execute_read_task pid=14274)\u001b[0m \n",
      "52.5%[36m(_execute_read_task pid=14274)\u001b[0m \n",
      "52.5%[36m(_execute_read_task pid=14274)\u001b[0m \n",
      "52.6%[36m(_execute_read_task pid=14274)\u001b[0m \n",
      "52.6%[36m(_execute_read_task pid=14274)\u001b[0m \n",
      "52.7%[36m(_execute_read_task pid=14274)\u001b[0m \n",
      "52.7%[36m(_execute_read_task pid=14274)\u001b[0m \n",
      "52.8%[36m(_execute_read_task pid=14274)\u001b[0m \n",
      "52.8%[36m(_execute_read_task pid=14274)\u001b[0m \n",
      "52.9%[36m(_execute_read_task pid=14274)\u001b[0m \n",
      "54.8%[36m(_execute_read_task pid=14274)\u001b[0m \n",
      "54.8%[36m(_execute_read_task pid=14274)\u001b[0m \n",
      "54.9%[36m(_execute_read_task pid=14274)\u001b[0m \n",
      "56.4%[36m(_execute_read_task pid=14274)\u001b[0m \n",
      "56.4%[36m(_execute_read_task pid=14274)\u001b[0m \n",
      "56.4%[36m(_execute_read_task pid=14274)\u001b[0m \n",
      "56.5%[36m(_execute_read_task pid=14274)\u001b[0m \n",
      "56.5%[36m(_execute_read_task pid=14274)\u001b[0m \n",
      "56.5%[36m(_execute_read_task pid=14274)\u001b[0m \n",
      "56.6%[36m(_execute_read_task pid=14274)\u001b[0m \n",
      "56.6%[36m(_execute_read_task pid=14274)\u001b[0m \n",
      "57.3%[36m(_execute_read_task pid=14274)\u001b[0m \n",
      "57.4%[36m(_execute_read_task pid=14274)\u001b[0m \n",
      "57.4%[36m(_execute_read_task pid=14274)\u001b[0m \n",
      "57.5%[36m(_execute_read_task pid=14274)\u001b[0m \n",
      "57.5%[36m(_execute_read_task pid=14274)\u001b[0m \n",
      "57.5%[36m(_execute_read_task pid=14274)\u001b[0m \n",
      "57.6%[36m(_execute_read_task pid=14274)\u001b[0m \n",
      "57.6%[36m(_execute_read_task pid=14274)\u001b[0m \n",
      "57.7%[36m(_execute_read_task pid=14274)\u001b[0m \n",
      "57.7%[36m(_execute_read_task pid=14274)\u001b[0m \n",
      "57.8%[36m(_execute_read_task pid=14274)\u001b[0m \n",
      "57.9%[36m(_execute_read_task pid=14274)\u001b[0m \n",
      "57.9%[36m(_execute_read_task pid=14274)\u001b[0m \n",
      "57.9%[36m(_execute_read_task pid=14274)\u001b[0m \n",
      "58.0%[36m(_execute_read_task pid=14274)\u001b[0m \n",
      "58.0%[36m(_execute_read_task pid=14274)\u001b[0m \n",
      "58.1%[36m(_execute_read_task pid=14274)\u001b[0m \n",
      "59.9%[36m(_execute_read_task pid=14274)\u001b[0m \n",
      "61.2%[36m(_execute_read_task pid=14274)\u001b[0m \n",
      "62.9%[36m(_execute_read_task pid=14274)\u001b[0m \n",
      "64.4%[36m(_execute_read_task pid=14274)\u001b[0m \n",
      "66.4%[36m(_execute_read_task pid=14274)\u001b[0m \n",
      "66.4%[36m(_execute_read_task pid=14274)\u001b[0m \n",
      "66.4%[36m(_execute_read_task pid=14274)\u001b[0m \n",
      "68.0%[36m(_execute_read_task pid=14274)\u001b[0m \n",
      "68.0%[36m(_execute_read_task pid=14274)\u001b[0m \n",
      "68.1%[36m(_execute_read_task pid=14274)\u001b[0m \n",
      "68.1%[36m(_execute_read_task pid=14274)\u001b[0m \n",
      "68.1%[36m(_execute_read_task pid=14274)\u001b[0m \n",
      "68.2%[36m(_execute_read_task pid=14274)\u001b[0m \n",
      "68.2%[36m(_execute_read_task pid=14274)\u001b[0m \n",
      "68.2%[36m(_execute_read_task pid=14274)\u001b[0m \n",
      "68.3%[36m(_execute_read_task pid=14274)\u001b[0m \n",
      "68.3%[36m(_execute_read_task pid=14274)\u001b[0m \n",
      "70.1%[36m(_execute_read_task pid=14274)\u001b[0m \n",
      "70.1%[36m(_execute_read_task pid=14274)\u001b[0m \n",
      "70.2%[36m(_execute_read_task pid=14274)\u001b[0m \n",
      "70.2%[36m(_execute_read_task pid=14274)\u001b[0m \n",
      "70.3%[36m(_execute_read_task pid=14274)\u001b[0m \n",
      "70.3%[36m(_execute_read_task pid=14274)\u001b[0m \n",
      "70.4%[36m(_execute_read_task pid=14274)\u001b[0m \n",
      "70.4%[36m(_execute_read_task pid=14274)\u001b[0m \n",
      "70.4%[36m(_execute_read_task pid=14274)\u001b[0m \n",
      "70.5%[36m(_execute_read_task pid=14274)\u001b[0m \n",
      "70.5%[36m(_execute_read_task pid=14274)\u001b[0m \n",
      "70.6%[36m(_execute_read_task pid=14274)\u001b[0m \n",
      "70.6%[36m(_execute_read_task pid=14274)\u001b[0m \n",
      "70.6%[36m(_execute_read_task pid=14274)\u001b[0m \n",
      "70.7%[36m(_execute_read_task pid=14274)\u001b[0m \n",
      "70.7%[36m(_execute_read_task pid=14274)\u001b[0m \n",
      "70.7%[36m(_execute_read_task pid=14274)\u001b[0m \n",
      "70.8%[36m(_execute_read_task pid=14274)\u001b[0m \n",
      "70.8%[36m(_execute_read_task pid=14274)\u001b[0m \n",
      "70.8%[36m(_execute_read_task pid=14274)\u001b[0m \n",
      "70.9%[36m(_execute_read_task pid=14274)\u001b[0m \n",
      "70.9%[36m(_execute_read_task pid=14274)\u001b[0m \n",
      "72.0%[36m(_execute_read_task pid=14274)\u001b[0m \n",
      "73.6%[36m(_execute_read_task pid=14274)\u001b[0m \n",
      "74.9%[36m(_execute_read_task pid=14274)\u001b[0m \n",
      "75.0%[36m(_execute_read_task pid=14274)\u001b[0m \n",
      "75.0%[36m(_execute_read_task pid=14274)\u001b[0m \n",
      "76.5%[36m(_execute_read_task pid=14274)\u001b[0m \n",
      "76.5%[36m(_execute_read_task pid=14274)\u001b[0m \n",
      "76.5%[36m(_execute_read_task pid=14274)\u001b[0m \n",
      "76.5%[36m(_execute_read_task pid=14274)\u001b[0m \n",
      "76.5%[36m(_execute_read_task pid=14274)\u001b[0m \n",
      "76.5%[36m(_execute_read_task pid=14274)\u001b[0m \n",
      "76.6%[36m(_execute_read_task pid=14274)\u001b[0m \n",
      "76.6%[36m(_execute_read_task pid=14274)\u001b[0m \n",
      "76.6%[36m(_execute_read_task pid=14274)\u001b[0m \n",
      "76.6%[36m(_execute_read_task pid=14274)\u001b[0m \n",
      "76.7%[36m(_execute_read_task pid=14274)\u001b[0m \n",
      "76.7%[36m(_execute_read_task pid=14274)\u001b[0m \n",
      "76.7%[36m(_execute_read_task pid=14274)\u001b[0m \n",
      "76.8%[36m(_execute_read_task pid=14274)\u001b[0m \n",
      "78.0%[36m(_execute_read_task pid=14274)\u001b[0m \n",
      "79.4%[36m(_execute_read_task pid=14274)\u001b[0m \n",
      "79.5%[36m(_execute_read_task pid=14274)\u001b[0m \n",
      "79.5%[36m(_execute_read_task pid=14274)\u001b[0m \n",
      "79.6%[36m(_execute_read_task pid=14274)\u001b[0m \n",
      "80.8%[36m(_execute_read_task pid=14274)\u001b[0m \n",
      "80.8%[36m(_execute_read_task pid=14274)\u001b[0m \n",
      "80.8%[36m(_execute_read_task pid=14274)\u001b[0m \n",
      "80.9%[36m(_execute_read_task pid=14274)\u001b[0m \n",
      "81.0%[36m(_execute_read_task pid=14274)\u001b[0m \n",
      "81.0%[36m(_execute_read_task pid=14274)\u001b[0m \n",
      "81.1%[36m(_execute_read_task pid=14274)\u001b[0m \n",
      "81.1%[36m(_execute_read_task pid=14274)\u001b[0m \n",
      "81.2%[36m(_execute_read_task pid=14274)\u001b[0m \n",
      "81.2%[36m(_execute_read_task pid=14274)\u001b[0m \n",
      "81.3%[36m(_execute_read_task pid=14274)\u001b[0m \n",
      "81.4%[36m(_execute_read_task pid=14274)\u001b[0m \n",
      "81.4%[36m(_execute_read_task pid=14274)\u001b[0m \n",
      "81.5%[36m(_execute_read_task pid=14274)\u001b[0m \n",
      "81.5%[36m(_execute_read_task pid=14274)\u001b[0m \n",
      "81.6%[36m(_execute_read_task pid=14274)\u001b[0m \n",
      "81.6%[36m(_execute_read_task pid=14274)\u001b[0m \n",
      "81.6%[36m(_execute_read_task pid=14274)\u001b[0m \n",
      "81.7%[36m(_execute_read_task pid=14274)\u001b[0m \n",
      "81.7%[36m(_execute_read_task pid=14274)\u001b[0m \n",
      "81.7%[36m(_execute_read_task pid=14274)\u001b[0m \n",
      "81.7%[36m(_execute_read_task pid=14274)\u001b[0m \n",
      "83.1%[36m(_execute_read_task pid=14274)\u001b[0m \n",
      "83.2%[36m(_execute_read_task pid=14274)\u001b[0m \n",
      "83.2%[36m(_execute_read_task pid=14274)\u001b[0m \n",
      "83.2%[36m(_execute_read_task pid=14274)\u001b[0m \n",
      "83.3%[36m(_execute_read_task pid=14274)\u001b[0m \n",
      "84.7%[36m(_execute_read_task pid=14274)\u001b[0m \n",
      "84.7%[36m(_execute_read_task pid=14274)\u001b[0m \n",
      "84.8%[36m(_execute_read_task pid=14274)\u001b[0m \n",
      "84.8%[36m(_execute_read_task pid=14274)\u001b[0m \n",
      "86.5%[36m(_execute_read_task pid=14274)\u001b[0m \n",
      "86.5%[36m(_execute_read_task pid=14274)\u001b[0m \n",
      "88.1%[36m(_execute_read_task pid=14274)\u001b[0m \n",
      "88.1%[36m(_execute_read_task pid=14274)\u001b[0m \n",
      "88.2%[36m(_execute_read_task pid=14274)\u001b[0m \n",
      "88.2%[36m(_execute_read_task pid=14274)\u001b[0m \n",
      "88.2%[36m(_execute_read_task pid=14274)\u001b[0m \n",
      "88.3%[36m(_execute_read_task pid=14274)\u001b[0m \n",
      "89.8%[36m(_execute_read_task pid=14274)\u001b[0m \n",
      "89.9%[36m(_execute_read_task pid=14274)\u001b[0m \n",
      "89.9%[36m(_execute_read_task pid=14274)\u001b[0m \n",
      "89.9%[36m(_execute_read_task pid=14274)\u001b[0m \n",
      "90.0%[36m(_execute_read_task pid=14274)\u001b[0m \n",
      "90.0%[36m(_execute_read_task pid=14274)\u001b[0m \n",
      "91.5%[36m(_execute_read_task pid=14274)\u001b[0m \n",
      "91.5%[36m(_execute_read_task pid=14274)\u001b[0m \n",
      "91.6%[36m(_execute_read_task pid=14274)\u001b[0m \n",
      "91.6%[36m(_execute_read_task pid=14274)\u001b[0m \n",
      "93.1%[36m(_execute_read_task pid=14274)\u001b[0m \n",
      "93.1%[36m(_execute_read_task pid=14274)\u001b[0m \n",
      "93.1%[36m(_execute_read_task pid=14274)\u001b[0m \n",
      "93.1%[36m(_execute_read_task pid=14274)\u001b[0m \n",
      "93.2%[36m(_execute_read_task pid=14274)\u001b[0m \n",
      "94.5%[36m(_execute_read_task pid=14274)\u001b[0m \n",
      "94.5%[36m(_execute_read_task pid=14274)\u001b[0m \n",
      "94.5%[36m(_execute_read_task pid=14274)\u001b[0m \n",
      "94.6%[36m(_execute_read_task pid=14274)\u001b[0m \n",
      "94.6%[36m(_execute_read_task pid=14274)\u001b[0m \n",
      "96.0%[36m(_execute_read_task pid=14274)\u001b[0m \n",
      "97.6%[36m(_execute_read_task pid=14274)\u001b[0m \n",
      "99.0%[36m(_execute_read_task pid=14274)\u001b[0m \n",
      "99.1%[36m(_execute_read_task pid=14274)\u001b[0m \n",
      "99.1%[36m(_execute_read_task pid=14274)\u001b[0m \n",
      "99.1%[36m(_execute_read_task pid=14274)\u001b[0m \n",
      "99.2%[36m(_execute_read_task pid=14274)\u001b[0m \n",
      "99.2%[36m(_execute_read_task pid=14274)\u001b[0m \n",
      "99.2%[36m(_execute_read_task pid=14274)\u001b[0m \n",
      "100.0%36m(_execute_read_task pid=14274)\u001b[0m \n"
     ]
    },
    {
     "name": "stdout",
     "output_type": "stream",
     "text": [
      "\u001b[2m\u001b[36m(_execute_read_task pid=14274)\u001b[0m Extracting ./data/cifar-10-python.tar.gz to ./data\n"
     ]
    },
    {
     "name": "stderr",
     "output_type": "stream",
     "text": [
      "2022-05-09 14:02:49,574\tWARNING read_api.py:248 -- The number of blocks in this dataset (1) limits its parallelism to 1 concurrent tasks. This is much less than the number of available CPU slots in the cluster. Use `.repartition(n)` to increase the number of dataset blocks.\n",
      "\u001b[2m\u001b[36m(_prepare_read pid=14274)\u001b[0m 2022-05-09 14:02:49,571\tWARNING torch_datasource.py:53 -- `SimpleTorchDatasource` doesn't support parallel reads. The `parallelism` argument will be ignored.\n"
     ]
    },
    {
     "name": "stdout",
     "output_type": "stream",
     "text": [
      "\u001b[2m\u001b[36m(_execute_read_task pid=14274)\u001b[0m Files already downloaded and verified\n"
     ]
    },
    {
     "data": {
      "text/plain": [
       "Dataset(num_blocks=1, num_rows=50000, schema=<class 'tuple'>)"
      ]
     },
     "execution_count": 2,
     "metadata": {},
     "output_type": "execute_result"
    }
   ],
   "source": [
    "\n",
    "import ray\n",
    "from ray.data.datasource import SimpleTorchDatasource\n",
    "import torchvision\n",
    "import torchvision.transforms as transforms\n",
    "\n",
    "transform = transforms.Compose(\n",
    "    [transforms.ToTensor(), transforms.Normalize((0.5, 0.5, 0.5), (0.5, 0.5, 0.5))]\n",
    ")\n",
    "\n",
    "def train_dataset_factory():\n",
    "    return torchvision.datasets.CIFAR10(root=\"./data\", download=True, train=True, transform=transform)\n",
    "\n",
    "def test_dataset_factory():\n",
    "    return torchvision.datasets.CIFAR10(root=\"./data\", download=True, train=False, transform=transform)\n",
    "\n",
    "train_dataset = ray.data.read_datasource(SimpleTorchDatasource(), dataset_factory=train_dataset_factory)\n",
    "test_dataset = ray.data.read_datasource(SimpleTorchDatasource(), dataset_factory=test_dataset_factory)\n",
    "\n",
    "train_dataset"
   ]
  },
  {
   "cell_type": "code",
   "execution_count": 11,
   "id": "caade78b",
   "metadata": {},
   "outputs": [
    {
     "name": "stdout",
     "output_type": "stream",
     "text": [
      "Files already downloaded and verified\n"
     ]
    },
    {
     "name": "stderr",
     "output_type": "stream",
     "text": [
      "\u001b[2m\u001b[36m(raylet)\u001b[0m Spilled 2237 MiB, 75 objects, write throughput 651 MiB/s. Set RAY_verbose_spill_logs=0 to disable this message.\n",
      "\u001b[2m\u001b[36m(_split_block pid=14559)\u001b[0m E0509 14:10:32.872928000 123145488416768 chttp2_transport.cc:1132]     Received a GOAWAY with error code ENHANCE_YOUR_CALM and debug data equal to \"too_many_pings\"\n"
     ]
    },
    {
     "name": "stdout",
     "output_type": "stream",
     "text": [
      "Files already downloaded and verified\n"
     ]
    },
    {
     "data": {
      "text/plain": [
       "Dataset(num_blocks=200, num_rows=50000, schema={image: object, label: int64})"
      ]
     },
     "execution_count": 11,
     "metadata": {},
     "output_type": "execute_result"
    }
   ],
   "source": [
    "import pandas as pd\n",
    "\n",
    "\n",
    "def convert_batch_to_pandas(batch):\n",
    "    images = [image for image, _ in batch]\n",
    "    labels = [label for _, label in batch]\n",
    "\n",
    "    df = pd.DataFrame({\"image\": images, \"label\": labels})\n",
    "\n",
    "    return df\n",
    "    \n",
    "\n",
    "train_dataset = train_dataset.map_batches(convert_batch_to_pandas)\n",
    "test_dataset = test_dataset.map_batches(convert_batch_to_pandas)\n",
    "\n",
    "train_dataset"
   ]
  },
  {
   "cell_type": "markdown",
   "id": "85717653",
   "metadata": {},
   "source": [
    "## Train a convolutional neural network"
   ]
  },
  {
   "cell_type": "code",
   "execution_count": 4,
   "id": "9964b8b4",
   "metadata": {},
   "outputs": [],
   "source": [
    "import torch\n",
    "import torch.nn as nn\n",
    "import torch.nn.functional as F\n",
    "\n",
    "\n",
    "class Net(nn.Module):\n",
    "    def __init__(self):\n",
    "        super().__init__()\n",
    "        self.conv1 = nn.Conv2d(3, 6, 5)\n",
    "        self.pool = nn.MaxPool2d(2, 2)\n",
    "        self.conv2 = nn.Conv2d(6, 16, 5)\n",
    "        self.fc1 = nn.Linear(16 * 5 * 5, 120)\n",
    "        self.fc2 = nn.Linear(120, 84)\n",
    "        self.fc3 = nn.Linear(84, 10)\n",
    "\n",
    "    def forward(self, x):\n",
    "        x = self.pool(F.relu(self.conv1(x)))\n",
    "        x = self.pool(F.relu(self.conv2(x)))\n",
    "        x = torch.flatten(x, 1)  # flatten all dimensions except batch\n",
    "        x = F.relu(self.fc1(x))\n",
    "        x = F.relu(self.fc2(x))\n",
    "        x = self.fc3(x)\n",
    "        return x"
   ]
  },
  {
   "cell_type": "code",
   "execution_count": 5,
   "id": "6dedaaed",
   "metadata": {},
   "outputs": [],
   "source": [
    "from ray import train\n",
    "import torch.optim as optim\n",
    "\n",
    "\n",
    "def train_loop_per_worker(config):\n",
    "    model = train.torch.prepare_model(Net())\n",
    "    \n",
    "    criterion = nn.CrossEntropyLoss()\n",
    "    optimizer = optim.SGD(model.parameters(), lr=0.001, momentum=0.9)\n",
    "\n",
    "    train_dataset_shard = train.get_dataset_shard(\"train\").to_torch(\n",
    "        feature_columns=[\"image\"],\n",
    "        label_column=\"label\",\n",
    "        batch_size=config[\"batch_size\"],\n",
    "        unsqueeze_feature_tensors=False,\n",
    "        unsqueeze_label_tensor=False\n",
    "    )\n",
    "\n",
    "    for epoch in range(2):\n",
    "        running_loss = 0.0\n",
    "        for i, data in enumerate(train_dataset_shard):\n",
    "            # get the inputs; data is a list of [inputs, labels]\n",
    "            inputs, labels = data\n",
    "\n",
    "            # zero the parameter gradients\n",
    "            optimizer.zero_grad()\n",
    "\n",
    "            # forward + backward + optimize\n",
    "            outputs = model(inputs)\n",
    "            loss = criterion(outputs, labels)\n",
    "            loss.backward()\n",
    "            optimizer.step()\n",
    "\n",
    "            # print statistics\n",
    "            running_loss += loss.item()\n",
    "            if i % 2000 == 1999:  # print every 2000 mini-batches\n",
    "                print(f\"[{epoch + 1}, {i + 1:5d}] loss: {running_loss / 2000:.3f}\")\n",
    "                running_loss = 0.0\n",
    "\n",
    "        train.save_checkpoint(model=model.module.state_dict())"
   ]
  },
  {
   "cell_type": "code",
   "execution_count": 6,
   "id": "8b161bc3",
   "metadata": {},
   "outputs": [
    {
     "data": {
      "text/html": [
       "== Status ==<br>Current time: 2022-05-09 14:06:04 (running for 00:02:25.73)<br>Memory usage on this node: 21.0/64.0 GiB<br>Using FIFO scheduling algorithm.<br>Resources requested: 0/16 CPUs, 0/0 GPUs, 0.0/40.87 GiB heap, 0.0/2.0 GiB objects<br>Result logdir: /Users/balaji/ray_results/TorchTrainer_2022-05-09_14-03-38<br>Number of trials: 1/1 (1 TERMINATED)<br><table>\n",
       "<thead>\n",
       "<tr><th>Trial name              </th><th>status    </th><th>loc            </th></tr>\n",
       "</thead>\n",
       "<tbody>\n",
       "<tr><td>TorchTrainer_7fa02_00000</td><td>TERMINATED</td><td>127.0.0.1:14492</td></tr>\n",
       "</tbody>\n",
       "</table><br><br>"
      ],
      "text/plain": [
       "<IPython.core.display.HTML object>"
      ]
     },
     "metadata": {},
     "output_type": "display_data"
    },
    {
     "name": "stderr",
     "output_type": "stream",
     "text": [
      "\u001b[2m\u001b[36m(BaseWorkerMixin pid=14521)\u001b[0m 2022-05-09 14:03:43,510\tINFO torch.py:346 -- Setting up process group for: env:// [rank=0, world_size=2]\n",
      "\u001b[2m\u001b[36m(BaseWorkerMixin pid=14522)\u001b[0m 2022-05-09 14:03:43,510\tINFO torch.py:346 -- Setting up process group for: env:// [rank=1, world_size=2]\n",
      "\u001b[2m\u001b[36m(BaseWorkerMixin pid=14521)\u001b[0m [W ProcessGroupGloo.cpp:715] Warning: Unable to resolve hostname to a (local) address. Using the loopback address as fallback. Manually set the network interface to bind to with GLOO_SOCKET_IFNAME. (function operator())\n",
      "\u001b[2m\u001b[36m(BaseWorkerMixin pid=14522)\u001b[0m [W ProcessGroupGloo.cpp:715] Warning: Unable to resolve hostname to a (local) address. Using the loopback address as fallback. Manually set the network interface to bind to with GLOO_SOCKET_IFNAME. (function operator())\n",
      "\u001b[2m\u001b[36m(BaseWorkerMixin pid=14521)\u001b[0m 2022-05-09 14:03:57,559\tINFO torch.py:98 -- Moving model to device: cpu\n",
      "\u001b[2m\u001b[36m(BaseWorkerMixin pid=14521)\u001b[0m 2022-05-09 14:03:57,559\tINFO torch.py:132 -- Wrapping provided model in DDP.\n",
      "\u001b[2m\u001b[36m(BaseWorkerMixin pid=14522)\u001b[0m 2022-05-09 14:03:57,559\tINFO torch.py:98 -- Moving model to device: cpu\n",
      "\u001b[2m\u001b[36m(BaseWorkerMixin pid=14522)\u001b[0m 2022-05-09 14:03:57,559\tINFO torch.py:132 -- Wrapping provided model in DDP.\n"
     ]
    },
    {
     "name": "stdout",
     "output_type": "stream",
     "text": [
      "\u001b[2m\u001b[36m(BaseWorkerMixin pid=14521)\u001b[0m [1,  2000] loss: 2.259\n",
      "\u001b[2m\u001b[36m(BaseWorkerMixin pid=14522)\u001b[0m [1,  2000] loss: 2.261\n",
      "\u001b[2m\u001b[36m(BaseWorkerMixin pid=14521)\u001b[0m [1,  4000] loss: 1.870\n",
      "\u001b[2m\u001b[36m(BaseWorkerMixin pid=14522)\u001b[0m [1,  4000] loss: 1.898\n",
      "\u001b[2m\u001b[36m(BaseWorkerMixin pid=14521)\u001b[0m [1,  6000] loss: 1.706\n",
      "\u001b[2m\u001b[36m(BaseWorkerMixin pid=14522)\u001b[0m [1,  6000] loss: 1.712\n",
      "\u001b[2m\u001b[36m(BaseWorkerMixin pid=14521)\u001b[0m [1,  8000] loss: 1.626\n",
      "\u001b[2m\u001b[36m(BaseWorkerMixin pid=14522)\u001b[0m [1,  8000] loss: 1.614\n",
      "\u001b[2m\u001b[36m(BaseWorkerMixin pid=14521)\u001b[0m [1, 10000] loss: 1.527\n",
      "\u001b[2m\u001b[36m(BaseWorkerMixin pid=14522)\u001b[0m [1, 10000] loss: 1.570\n",
      "\u001b[2m\u001b[36m(BaseWorkerMixin pid=14521)\u001b[0m [1, 12000] loss: 1.470\n",
      "\u001b[2m\u001b[36m(BaseWorkerMixin pid=14522)\u001b[0m [1, 12000] loss: 1.476\n",
      "\u001b[2m\u001b[36m(BaseWorkerMixin pid=14521)\u001b[0m [2,  2000] loss: 1.437\n",
      "\u001b[2m\u001b[36m(BaseWorkerMixin pid=14522)\u001b[0m [2,  2000] loss: 1.411\n",
      "\u001b[2m\u001b[36m(BaseWorkerMixin pid=14521)\u001b[0m [2,  4000] loss: 1.408\n",
      "\u001b[2m\u001b[36m(BaseWorkerMixin pid=14522)\u001b[0m [2,  4000] loss: 1.407\n",
      "\u001b[2m\u001b[36m(BaseWorkerMixin pid=14521)\u001b[0m [2,  6000] loss: 1.358\n",
      "\u001b[2m\u001b[36m(BaseWorkerMixin pid=14522)\u001b[0m [2,  6000] loss: 1.391\n",
      "\u001b[2m\u001b[36m(BaseWorkerMixin pid=14521)\u001b[0m [2,  8000] loss: 1.354\n",
      "\u001b[2m\u001b[36m(BaseWorkerMixin pid=14522)\u001b[0m [2,  8000] loss: 1.336\n",
      "\u001b[2m\u001b[36m(BaseWorkerMixin pid=14521)\u001b[0m [2, 10000] loss: 1.291\n",
      "\u001b[2m\u001b[36m(BaseWorkerMixin pid=14522)\u001b[0m [2, 10000] loss: 1.341\n",
      "\u001b[2m\u001b[36m(BaseWorkerMixin pid=14521)\u001b[0m [2, 12000] loss: 1.262\n",
      "\u001b[2m\u001b[36m(BaseWorkerMixin pid=14522)\u001b[0m [2, 12000] loss: 1.265\n"
     ]
    },
    {
     "name": "stderr",
     "output_type": "stream",
     "text": [
      "2022-05-09 14:06:04,518\tERROR checkpoint_manager.py:189 -- Result dict has no key: training_iteration. checkpoint_score_attr must be set to a key of the result dict. Valid keys are ['trial_id', 'experiment_id', 'date', 'timestamp', 'pid', 'hostname', 'node_ip', 'config', 'done']\n"
     ]
    },
    {
     "name": "stdout",
     "output_type": "stream",
     "text": [
      "Trial TorchTrainer_7fa02_00000 completed. Last result: \n"
     ]
    },
    {
     "name": "stderr",
     "output_type": "stream",
     "text": [
      "2022-05-09 14:06:04,632\tINFO tune.py:752 -- Total run time: 145.88 seconds (145.73 seconds for the tuning loop).\n"
     ]
    }
   ],
   "source": [
    "from ray.ml.train.integrations.torch import TorchTrainer\n",
    "\n",
    "trainer = TorchTrainer(\n",
    "    train_loop_per_worker=train_loop_per_worker,\n",
    "    train_loop_config={\"batch_size\": 2},\n",
    "    datasets={\"train\": train_dataset},\n",
    "    scaling_config={\"num_workers\": 2}\n",
    ")\n",
    "result = trainer.fit()\n",
    "latest_checkpoint = result.checkpoint"
   ]
  },
  {
   "cell_type": "markdown",
   "id": "6709a7c2",
   "metadata": {},
   "source": [
    "## Test the network on the test data"
   ]
  },
  {
   "cell_type": "code",
   "execution_count": 12,
   "id": "a3702e5e",
   "metadata": {},
   "outputs": [
    {
     "name": "stdout",
     "output_type": "stream",
     "text": [
      "{'predictions': [-0.751593291759491, -2.1459906101226807, 0.5943943858146667, 1.7881542444229126, 0.2634425461292267, 0.37997013330459595, 1.4923861026763916, -1.0648168325424194, 0.024911552667617798, -1.5318701267242432]}\n"
     ]
    }
   ],
   "source": [
    "from ray.ml.predictors.integrations.torch import TorchPredictor\n",
    "from ray.ml.batch_predictor import BatchPredictor\n",
    "\n",
    "batch_predictor = BatchPredictor.from_checkpoint(\n",
    "    checkpoint=latest_checkpoint,\n",
    "    predictor_cls=TorchPredictor,\n",
    "    model=Net(),\n",
    ")\n",
    "    \n",
    "outputs = batch_predictor.predict(\n",
    "    data=test_dataset, feature_columns=[\"image\"], unsqueeze=False\n",
    ")\n",
    "\n",
    "outputs.show(1)\n"
   ]
  },
  {
   "cell_type": "code",
   "execution_count": 13,
   "id": "3bb0ef90",
   "metadata": {},
   "outputs": [
    {
     "name": "stdout",
     "output_type": "stream",
     "text": [
      "{'prediction': 3}\n"
     ]
    }
   ],
   "source": [
    "import numpy as np\n",
    "\n",
    "def convert_logits_to_classes(df):\n",
    "    best_class = df[\"predictions\"].map(lambda x: np.array(x).argmax())\n",
    "    df[\"prediction\"] = best_class\n",
    "    return df[[\"prediction\"]]\n",
    "\n",
    "predictions = outputs.map_batches(\n",
    "    convert_logits_to_classes, batch_format=\"pandas\"\n",
    ")\n",
    "\n",
    "predictions.show(1)"
   ]
  },
  {
   "cell_type": "code",
   "execution_count": 14,
   "id": "bf7d7249",
   "metadata": {},
   "outputs": [
    {
     "name": "stdout",
     "output_type": "stream",
     "text": [
      "{'prediction': 3, 'label': 3, 'correct': True}\n"
     ]
    }
   ],
   "source": [
    "def calculate_prediction_scores(df):\n",
    "    df[\"correct\"] = df[\"prediction\"] == df[\"label\"]\n",
    "    return df[[\"prediction\", \"label\", \"correct\"]]\n",
    "\n",
    "scores = test_dataset.zip(predictions).map_batches(calculate_prediction_scores)\n",
    "\n",
    "scores.show(1)"
   ]
  },
  {
   "cell_type": "code",
   "execution_count": 15,
   "id": "6ffa8356",
   "metadata": {},
   "outputs": [
    {
     "data": {
      "text/plain": [
       "0.5606"
      ]
     },
     "execution_count": 15,
     "metadata": {},
     "output_type": "execute_result"
    }
   ],
   "source": [
    "scores.sum(on=\"correct\") / scores.count()"
   ]
  },
  {
   "cell_type": "markdown",
   "id": "59445b8a",
   "metadata": {},
   "source": [
    "## What's next"
   ]
  },
  {
   "cell_type": "markdown",
   "id": "f85cd6d9",
   "metadata": {},
   "source": [
    "TODO"
   ]
  }
 ],
 "metadata": {
  "interpreter": {
   "hash": "63e5f6eec01b85d783aa3a898bfbc5e143aba32dbede6a46dbb3b17d5dbd2e6a"
  },
  "kernelspec": {
   "display_name": "Python 3.8.12 ('.venv': venv)",
   "language": "python",
   "name": "python3"
  },
  "language_info": {
   "codemirror_mode": {
    "name": "ipython",
    "version": 3
   },
   "file_extension": ".py",
   "mimetype": "text/x-python",
   "name": "python",
   "nbconvert_exporter": "python",
   "pygments_lexer": "ipython3",
   "version": "3.8.12"
  }
 },
 "nbformat": 4,
 "nbformat_minor": 5
}
