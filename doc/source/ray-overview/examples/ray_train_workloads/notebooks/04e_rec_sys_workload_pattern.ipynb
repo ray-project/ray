{
 "cells": [
  {
   "cell_type": "markdown",
   "metadata": {},
   "source": [
    "## 🧠 04e · Recommendation System Pattern with Ray Train \n",
    "In this notebook you build a **scalable matrix factorization recommendation system** using the **MovieLens 100K** dataset, fully distributed on an Anyscale cluster with **Ray Train V2** and **Ray Data**.\n",
    "\n",
    "### What you’ll learn & take away  \n",
    "* How to use **Ray Data** to load, encode, and shard tabular datasets across many workers  \n",
    "* How to **stream training data** directly into PyTorch using `iter_torch_batches()`  \n",
    "* How to build a **custom training loop with validation and checkpointing** using `ray.train.report()`  \n",
    "* How to use **Ray Train V2's fault-tolerant trainer** to resume training from the latest checkpoint with no extra logic  \n",
    "* How to separate **training, evaluation, and inference** while keeping all code modular and distributed-ready  \n",
    "* How to run real-world recommendation workloads with **no changes to your model code**, thanks to Ray’s orchestration  \n"
   ]
  },
  {
   "cell_type": "markdown",
   "metadata": {},
   "source": [
    "### 🔢 What problem are you solving? (Matrix factorization for recommendations)\n",
    "\n",
    "You’re building a **collaborative filtering recommendation system** that predicts how much a user likes an item  \n",
    "based on **historical interaction data** — in this case, user ratings from the MovieLens 100K dataset.\n",
    "\n",
    "Use **matrix factorization**, a classic yet scalable approach where you embed each user and item in a latent space.  \n",
    "The model learns to represent users and items as vectors and predicts ratings by computing their dot product.\n",
    "\n",
    "---\n",
    "\n",
    "### Input: User–Item–Rating triples\n",
    "\n",
    "Each row in the dataset represents a user’s explicit rating of a movie:\n",
    "\n",
    "$$\n",
    "(u, {i}, r) \\in \\{\\text{users}\\} \\times \\{\\text{items}\\} \\times \\{1, 2, 3, 4, 5\\}\n",
    "$$\n",
    "\n",
    "Encode these using contiguous integer indices (`user_idx`, `item_idx`)  \n",
    "and normalize them for efficient embedding lookup and training.\n",
    "\n",
    "---\n",
    "\n",
    "### Model: Embedding-based matrix factorization\n",
    "\n",
    "Learn an embedding vector for each user and each item:\n",
    "\n",
    "$$\n",
    "U_{u} \\in \\mathbb{R}^d, \\quad V_{i} \\in \\mathbb{R}^d\n",
    "$$\n",
    "\n",
    "The predicted rating is the dot product of these vectors:\n",
    "\n",
    "$$\n",
    "\\hat{r}_{u,{i}} = U_{u}^\\top V_{i}\n",
    "$$\n",
    "\n",
    "The embedding dimension $d$ controls model capacity.\n",
    "\n",
    "---\n",
    "\n",
    "### Training objective\n",
    "\n",
    "Minimize **Mean Squared Error (MSE)** between predicted and actual ratings:\n",
    "\n",
    "$$\n",
    "\\mathcal{L} = \\mathbb{E}_{(u, {i}, r)}\\ \\big(\\hat{r}_{u,{i}} - r\\big)^2\n",
    "$$\n",
    "\n",
    "This encourages the model to assign higher scores to user–item pairs that historically received high ratings.\n",
    "\n",
    "---\n",
    "\n",
    "### Inference: ranking items per user\n",
    "\n",
    "Once trained, you can recommend items by computing predicted scores for a target user  \n",
    "against **all items in the catalog**:\n",
    "\n",
    "$$\n",
    "\\hat{r}_{u, *} = U_{u}^\\top V^\\top\n",
    "$$\n",
    "\n",
    "Sort these scores and return the top-N items as personalized recommendations.\n",
    "\n",
    "---"
   ]
  },
  {
   "cell_type": "markdown",
   "metadata": {},
   "source": [
    "### 🧭 How you’ll migrate this recommendation system workload to a distributed setup using Ray on Anyscale\n",
    "\n",
    "This tutorial walks through how to **migrate a local matrix factorization pipeline for recommendation into a distributed, fault-tolerant training loop using Ray Train and Ray Data on Anyscale**.\n",
    "\n",
    "Here’s how you approach the transition:\n",
    "\n",
    "1. **Pandas DataFrame → Sharded Ray Dataset**  \n",
    "   Load MovieLens 100K as a pandas DataFrame, encode the IDs, and use `ray.data.from_pandas_refs()` to create a **multi-block Ray Dataset**. Each block is a training shard that Ray can distribute across workers.\n",
    "\n",
    "2. **Manual Batching → Streaming Torch Data loaders**  \n",
    "   Instead of manually writing PyTorch `Dataset` logic, use `iter_torch_batches()` from **Ray Data** to stream batches directly into each worker. Ray handles all the parallelism and sharding behind the scenes.\n",
    "\n",
    "3. **Single-node PyTorch → Multi-GPU Distributed Training**  \n",
    "   Write a minimal `train_loop_per_worker` that runs on each Ray worker. Using `TorchTrainer` and `prepare_model()`, scale this loop across 8 GPU workers automatically, where each working on its own data shard.\n",
    "\n",
    "4. **Ad-hoc Logging → Structured Epoch Logging and Checkpoints**  \n",
    "   Each epoch logs `train_loss` and `val_loss` to a shared JSON file, and report checkpoints with `ray.train.report(checkpoint=...)`. This enables **automatic recovery and metric tracking** without any additional code.\n",
    "\n",
    "5. **Resume and Scaling → Declarative Configuration**  \n",
    "   Configure fault tolerance, checkpointing, and scaling using `ScalingConfig`, `CheckpointConfig`, and `FailureConfig`. This lets Ray + Anyscale handle retries, recovery, and GPU orchestration.\n",
    "\n",
    "6. **Post-training Inference → Lightweight Python Function**  \n",
    "   After training, load the latest checkpoint and generate top-N recommendations for any user with a simple forward pass. No retraining, no re-initialization, just pure PyTorch inference.\n",
    "\n",
    "With just a few changes to your core code, scale a traditional recommendation pipeline across a Ray cluster with **distributed data loading, checkpointing, fault tolerance, and parallel training**, all fully managed by Anyscale."
   ]
  },
  {
   "cell_type": "markdown",
   "metadata": {},
   "source": [
    "### 01 · Imports  \n",
    "Start by importing all the libraries you need for the rest of the notebook. These include standard utilities like `os`, `json`, and `pandas`, as well as deep learning libraries like PyTorch and visualization tools like `matplotlib`.\n",
    "\n",
    "Also, import everything needed for **distributed training and data processing with Ray**:\n",
    "- `ray` and `ray.data` provide the high-level distributed data API.\n",
    "- `ray.train` gives you `TorchTrainer`, `ScalingConfig`, checkpointing, and metrics reporting.\n",
    "- `prepare_model` wraps your PyTorch model for multi-worker training with Distributed Data Parallel (DDP).\n",
    "\n",
    "A few extra helpers like `tqdm` and `train_test_split` round out the list for progress bars and quick offline preprocessing.\n",
    "\n",
    "This notebook assumes Ray is already running (For example, with Anyscale), so you don’t call `ray.init()` manually."
   ]
  },
  {
   "cell_type": "code",
   "execution_count": 1,
   "metadata": {},
   "outputs": [
    {
     "name": "stdout",
     "output_type": "stream",
     "text": [
      "Requirement already satisfied: torch==2.8.0 in /home/ray/anaconda3/lib/python3.12/site-packages (2.8.0)\n",
      "Requirement already satisfied: matplotlib==3.10.6 in /home/ray/anaconda3/lib/python3.12/site-packages (3.10.6)\n",
      "Requirement already satisfied: pyarrow==14.0.2 in /home/ray/anaconda3/lib/python3.12/site-packages (14.0.2)\n",
      "Requirement already satisfied: filelock in /home/ray/anaconda3/lib/python3.12/site-packages (from torch==2.8.0) (3.17.0)\n",
      "Requirement already satisfied: typing-extensions>=4.10.0 in /home/ray/anaconda3/lib/python3.12/site-packages (from torch==2.8.0) (4.12.2)\n",
      "Requirement already satisfied: setuptools in /home/ray/anaconda3/lib/python3.12/site-packages (from torch==2.8.0) (71.1.0)\n",
      "Requirement already satisfied: sympy>=1.13.3 in /home/ray/anaconda3/lib/python3.12/site-packages (from torch==2.8.0) (1.14.0)\n",
      "Requirement already satisfied: networkx in /home/ray/anaconda3/lib/python3.12/site-packages (from torch==2.8.0) (3.5)\n",
      "Requirement already satisfied: jinja2 in /home/ray/anaconda3/lib/python3.12/site-packages (from torch==2.8.0) (3.1.6)\n",
      "Requirement already satisfied: fsspec in /home/ray/anaconda3/lib/python3.12/site-packages (from torch==2.8.0) (2023.5.0)\n",
      "Requirement already satisfied: nvidia-cuda-nvrtc-cu12==12.8.93 in /home/ray/anaconda3/lib/python3.12/site-packages (from torch==2.8.0) (12.8.93)\n",
      "Requirement already satisfied: nvidia-cuda-runtime-cu12==12.8.90 in /home/ray/anaconda3/lib/python3.12/site-packages (from torch==2.8.0) (12.8.90)\n",
      "Requirement already satisfied: nvidia-cuda-cupti-cu12==12.8.90 in /home/ray/anaconda3/lib/python3.12/site-packages (from torch==2.8.0) (12.8.90)\n",
      "Requirement already satisfied: nvidia-cudnn-cu12==9.10.2.21 in /home/ray/anaconda3/lib/python3.12/site-packages (from torch==2.8.0) (9.10.2.21)\n",
      "Requirement already satisfied: nvidia-cublas-cu12==12.8.4.1 in /home/ray/anaconda3/lib/python3.12/site-packages (from torch==2.8.0) (12.8.4.1)\n",
      "Requirement already satisfied: nvidia-cufft-cu12==11.3.3.83 in /home/ray/anaconda3/lib/python3.12/site-packages (from torch==2.8.0) (11.3.3.83)\n",
      "Requirement already satisfied: nvidia-curand-cu12==10.3.9.90 in /home/ray/anaconda3/lib/python3.12/site-packages (from torch==2.8.0) (10.3.9.90)\n",
      "Requirement already satisfied: nvidia-cusolver-cu12==11.7.3.90 in /home/ray/anaconda3/lib/python3.12/site-packages (from torch==2.8.0) (11.7.3.90)\n",
      "Requirement already satisfied: nvidia-cusparse-cu12==12.5.8.93 in /home/ray/anaconda3/lib/python3.12/site-packages (from torch==2.8.0) (12.5.8.93)\n",
      "Requirement already satisfied: nvidia-cusparselt-cu12==0.7.1 in /home/ray/anaconda3/lib/python3.12/site-packages (from torch==2.8.0) (0.7.1)\n",
      "Requirement already satisfied: nvidia-nccl-cu12==2.27.3 in /home/ray/anaconda3/lib/python3.12/site-packages (from torch==2.8.0) (2.27.3)\n",
      "Requirement already satisfied: nvidia-nvtx-cu12==12.8.90 in /home/ray/anaconda3/lib/python3.12/site-packages (from torch==2.8.0) (12.8.90)\n",
      "Requirement already satisfied: nvidia-nvjitlink-cu12==12.8.93 in /home/ray/anaconda3/lib/python3.12/site-packages (from torch==2.8.0) (12.8.93)\n",
      "Requirement already satisfied: nvidia-cufile-cu12==1.13.1.3 in /home/ray/anaconda3/lib/python3.12/site-packages (from torch==2.8.0) (1.13.1.3)\n",
      "Requirement already satisfied: triton==3.4.0 in /home/ray/anaconda3/lib/python3.12/site-packages (from torch==2.8.0) (3.4.0)\n",
      "Requirement already satisfied: contourpy>=1.0.1 in /home/ray/anaconda3/lib/python3.12/site-packages (from matplotlib==3.10.6) (1.3.3)\n",
      "Requirement already satisfied: cycler>=0.10 in /home/ray/anaconda3/lib/python3.12/site-packages (from matplotlib==3.10.6) (0.12.1)\n",
      "Requirement already satisfied: fonttools>=4.22.0 in /home/ray/anaconda3/lib/python3.12/site-packages (from matplotlib==3.10.6) (4.60.0)\n",
      "Requirement already satisfied: kiwisolver>=1.3.1 in /home/ray/anaconda3/lib/python3.12/site-packages (from matplotlib==3.10.6) (1.4.9)\n",
      "Requirement already satisfied: numpy>=1.23 in /home/ray/anaconda3/lib/python3.12/site-packages (from matplotlib==3.10.6) (1.26.4)\n",
      "Requirement already satisfied: packaging>=20.0 in /home/ray/anaconda3/lib/python3.12/site-packages (from matplotlib==3.10.6) (23.0)\n",
      "Requirement already satisfied: pillow>=8 in /home/ray/anaconda3/lib/python3.12/site-packages (from matplotlib==3.10.6) (11.3.0)\n",
      "Requirement already satisfied: pyparsing>=2.3.1 in /home/ray/anaconda3/lib/python3.12/site-packages (from matplotlib==3.10.6) (3.1.1)\n",
      "Requirement already satisfied: python-dateutil>=2.7 in /home/ray/anaconda3/lib/python3.12/site-packages (from matplotlib==3.10.6) (2.8.2)\n",
      "Requirement already satisfied: six>=1.5 in /home/ray/anaconda3/lib/python3.12/site-packages (from python-dateutil>=2.7->matplotlib==3.10.6) (1.16.0)\n",
      "Requirement already satisfied: mpmath<1.4,>=1.1.0 in /home/ray/anaconda3/lib/python3.12/site-packages (from sympy>=1.13.3->torch==2.8.0) (1.3.0)\n",
      "Requirement already satisfied: MarkupSafe>=2.0 in /home/ray/anaconda3/lib/python3.12/site-packages (from jinja2->torch==2.8.0) (2.1.3)\n"
     ]
    },
    {
     "data": {
      "text/plain": [
       "0"
      ]
     },
     "execution_count": 1,
     "metadata": {},
     "output_type": "execute_result"
    }
   ],
   "source": [
    "# 00. Runtime setup — install same deps as build.sh and set env vars\n",
    "import os, sys, subprocess\n",
    "\n",
    "# Non-secret env var \n",
    "os.environ[\"RAY_TRAIN_V2_ENABLED\"] = \"1\"\n",
    "\n",
    "# Install Python dependencies \n",
    "subprocess.check_call([\n",
    "    sys.executable, \"-m\", \"pip\", \"install\", \"--no-cache-dir\",\n",
    "    \"torch==2.8.0\",\n",
    "    \"matplotlib==3.10.6\",\n",
    "    \"pyarrow==14.0.2\",\n",
    "])"
   ]
  },
  {
   "cell_type": "code",
   "execution_count": 2,
   "metadata": {},
   "outputs": [],
   "source": [
    "# 01. Imports\n",
    "\n",
    "# Standard libraries\n",
    "import os\n",
    "import uuid\n",
    "import json\n",
    "import pandas as pd\n",
    "import numpy as np\n",
    "import matplotlib.pyplot as plt\n",
    "import zipfile\n",
    "import shutil\n",
    "\n",
    "# PyTorch\n",
    "import torch\n",
    "from torch import nn\n",
    "import torch.nn.functional as F\n",
    "\n",
    "# Ray\n",
    "import ray\n",
    "import ray.data\n",
    "from ray.train import ScalingConfig, RunConfig, CheckpointConfig, FailureConfig, Checkpoint, get_checkpoint, get_context,  get_dataset_shard, report\n",
    "from ray.train.torch import TorchTrainer, prepare_model\n",
    "\n",
    "# Other\n",
    "from tqdm import tqdm"
   ]
  },
  {
   "cell_type": "markdown",
   "metadata": {},
   "source": [
    "### 02 · Load MovieLens 100K Dataset  \n",
    "Download and extract the [MovieLens 100K](https://grouplens.org/datasets/movielens/100k/) dataset and persist a cleaned version to cluster storage under `/mnt/cluster_storage/rec_sys_tutorial/raw/ratings.csv`.\n",
    "\n",
    "The MovieLens 100K dataset contains 100,000 ratings across 943 users and 1,682 movies. It’s small enough to train quickly, but realistic enough to demonstrate scaling and checkpointing with Ray Train.\n",
    "\n",
    "If you already downloaded and extracted the dataset, skip both steps to save time. The output is a CSV with four columns: `user_id`, `item_id`, `rating`, and `timestamp`."
   ]
  },
  {
   "cell_type": "code",
   "execution_count": 3,
   "metadata": {},
   "outputs": [
    {
     "name": "stdout",
     "output_type": "stream",
     "text": [
      "✅ Loaded 100,000 ratings → /mnt/cluster_storage/rec_sys_tutorial/raw/ratings.csv\n"
     ]
    },
    {
     "data": {
      "text/html": [
       "<div>\n",
       "<style scoped>\n",
       "    .dataframe tbody tr th:only-of-type {\n",
       "        vertical-align: middle;\n",
       "    }\n",
       "\n",
       "    .dataframe tbody tr th {\n",
       "        vertical-align: top;\n",
       "    }\n",
       "\n",
       "    .dataframe thead th {\n",
       "        text-align: right;\n",
       "    }\n",
       "</style>\n",
       "<table border=\"1\" class=\"dataframe\">\n",
       "  <thead>\n",
       "    <tr style=\"text-align: right;\">\n",
       "      <th></th>\n",
       "      <th>user_id</th>\n",
       "      <th>item_id</th>\n",
       "      <th>rating</th>\n",
       "      <th>timestamp</th>\n",
       "    </tr>\n",
       "  </thead>\n",
       "  <tbody>\n",
       "    <tr>\n",
       "      <th>0</th>\n",
       "      <td>196</td>\n",
       "      <td>242</td>\n",
       "      <td>3</td>\n",
       "      <td>881250949</td>\n",
       "    </tr>\n",
       "    <tr>\n",
       "      <th>1</th>\n",
       "      <td>186</td>\n",
       "      <td>302</td>\n",
       "      <td>3</td>\n",
       "      <td>891717742</td>\n",
       "    </tr>\n",
       "    <tr>\n",
       "      <th>2</th>\n",
       "      <td>22</td>\n",
       "      <td>377</td>\n",
       "      <td>1</td>\n",
       "      <td>878887116</td>\n",
       "    </tr>\n",
       "    <tr>\n",
       "      <th>3</th>\n",
       "      <td>244</td>\n",
       "      <td>51</td>\n",
       "      <td>2</td>\n",
       "      <td>880606923</td>\n",
       "    </tr>\n",
       "    <tr>\n",
       "      <th>4</th>\n",
       "      <td>166</td>\n",
       "      <td>346</td>\n",
       "      <td>1</td>\n",
       "      <td>886397596</td>\n",
       "    </tr>\n",
       "  </tbody>\n",
       "</table>\n",
       "</div>"
      ],
      "text/plain": [
       "   user_id  item_id  rating  timestamp\n",
       "0      196      242       3  881250949\n",
       "1      186      302       3  891717742\n",
       "2       22      377       1  878887116\n",
       "3      244       51       2  880606923\n",
       "4      166      346       1  886397596"
      ]
     },
     "execution_count": 3,
     "metadata": {},
     "output_type": "execute_result"
    }
   ],
   "source": [
    "# 02. Load MovieLens 100K Dataset and store in /mnt/cluster_storage/\n",
    "\n",
    "# Define clean working paths\n",
    "DATA_URL = \"http://files.grouplens.org/datasets/movielens/ml-100k.zip\"\n",
    "LOCAL_ZIP = \"/mnt/cluster_storage/rec_sys_tutorial/ml-100k.zip\"\n",
    "EXTRACT_DIR = \"/mnt/cluster_storage/rec_sys_tutorial/ml-100k\"\n",
    "OUTPUT_CSV = \"/mnt/cluster_storage/rec_sys_tutorial/raw/ratings.csv\"\n",
    "\n",
    "# Ensure target directories exist\n",
    "os.makedirs(\"/mnt/cluster_storage/rec_sys_tutorial/raw\", exist_ok=True)\n",
    "\n",
    "# Download only if not already done\n",
    "if not os.path.exists(LOCAL_ZIP):\n",
    "    !wget -q $DATA_URL -O $LOCAL_ZIP\n",
    "\n",
    "# Extract cleanly\n",
    "if not os.path.exists(EXTRACT_DIR):\n",
    "    with zipfile.ZipFile(LOCAL_ZIP, 'r') as zip_ref:\n",
    "        zip_ref.extractall(\"/mnt/cluster_storage/rec_sys_tutorial\")\n",
    "\n",
    "# Load raw file\n",
    "raw_path = os.path.join(EXTRACT_DIR, \"u.data\")\n",
    "df = pd.read_csv(raw_path, sep=\"\\t\", names=[\"user_id\", \"item_id\", \"rating\", \"timestamp\"])\n",
    "\n",
    "# Save cleaned version\n",
    "df.to_csv(OUTPUT_CSV, index=False)\n",
    "\n",
    "print(f\"✅ Loaded {len(df):,} ratings → {OUTPUT_CSV}\")\n",
    "df.head()"
   ]
  },
  {
   "cell_type": "markdown",
   "metadata": {},
   "source": [
    "### 03 · Preprocess IDs and Create Ray Dataset  \n",
    "Begin preprocessing by encoding `user_id` and `item_id` into contiguous integer indices required for embedding layers. These encoded columns—`user_idx` and `item_idx`—are what your model uses during training.\n",
    "\n",
    "After encoding, drop the original IDs and split the dataset into 64 chunks. Serialize each chunk and push to Ray’s object store using `ray.put(...)`. This allows Ray Data to construct a distributed dataset in the next step without creating a bottleneck on a single worker or process."
   ]
  },
  {
   "cell_type": "code",
   "execution_count": 4,
   "metadata": {},
   "outputs": [
    {
     "name": "stderr",
     "output_type": "stream",
     "text": [
      "/home/ray/anaconda3/lib/python3.12/site-packages/numpy/core/fromnumeric.py:59: FutureWarning: 'DataFrame.swapaxes' is deprecated and will be removed in a future version. Please use 'DataFrame.transpose' instead.\n",
      "  return bound(*args, **kwds)\n",
      "2025-09-29 09:19:00,222\tINFO worker.py:1747 -- Connecting to existing Ray cluster at address: 10.0.82.26:6379...\n",
      "2025-09-29 09:19:00,234\tINFO worker.py:1918 -- Connected to Ray cluster. View the dashboard at \u001b[1m\u001b[32mhttps://session-qeldn6zjudjryzt3wypjak8arr.i.anyscaleuserdata.com \u001b[39m\u001b[22m\n",
      "2025-09-29 09:19:00,236\tINFO packaging.py:380 -- Pushing file package 'gcs://_ray_pkg_9805caaa8621aee12da64046057b6e8898f77509.zip' (0.06MiB) to Ray cluster...\n",
      "2025-09-29 09:19:00,237\tINFO packaging.py:393 -- Successfully pushed file package 'gcs://_ray_pkg_9805caaa8621aee12da64046057b6e8898f77509.zip'.\n"
     ]
    }
   ],
   "source": [
    "# 03. Preprocess IDs and create Ray Dataset in parallel\n",
    "\n",
    "# Load CSV\n",
    "df = pd.read_csv(\"/mnt/cluster_storage/rec_sys_tutorial/raw/ratings.csv\")\n",
    "\n",
    "# Encode user_id and item_id\n",
    "user2idx = {uid: j for j, uid in enumerate(sorted(df[\"user_id\"].unique()))}\n",
    "item2idx = {iid: j for j, iid in enumerate(sorted(df[\"item_id\"].unique()))}\n",
    "\n",
    "df[\"user_idx\"] = df[\"user_id\"].map(user2idx)\n",
    "df[\"item_idx\"] = df[\"item_id\"].map(item2idx)\n",
    "df = df[[\"user_idx\", \"item_idx\", \"rating\", \"timestamp\"]]\n",
    "\n",
    "# Split into multiple chunks for parallel ingestion\n",
    "NUM_SPLITS = 64  # adjust based on cluster size\n",
    "dfs = np.array_split(df, NUM_SPLITS)\n",
    "object_refs = [ray.put(split) for split in dfs]"
   ]
  },
  {
   "cell_type": "markdown",
   "metadata": {},
   "source": [
    "### 04 · Visualize Dataset: Ratings, Users, and Items  \n",
    "Before training, visualize the distribution of ratings, user activity, and item popularity. These quick checks help you verify that the dataset parses correctly and reveal useful patterns:\n",
    "\n",
    "- The first plot shows the overall rating distribution (1–5 stars). As expected, you see a skew toward 4 and 5.\n",
    "- The second plot shows how many ratings each user has submitted. There’s a long tail: a few power users, but many light users.\n",
    "- The third plot shows how often users rated each item. Again, you see a long-tail distribution common in recommendation settings.\n",
    "\n",
    "These histograms give you a sense of sparsity and coverage, both of which influence model performance."
   ]
  },
  {
   "cell_type": "code",
   "execution_count": 5,
   "metadata": {},
   "outputs": [
    {
     "data": {
      "image/png": "[encoded data removed]",
      "text/plain": [
       "<Figure size 1200x400 with 3 Axes>"
      ]
     },
     "metadata": {},
     "output_type": "display_data"
    }
   ],
   "source": [
    "# 04. Visualize Dataset: Ratings, User & Item Activity\n",
    "\n",
    "# Plot rating distribution\n",
    "plt.figure(figsize=(12, 4))\n",
    "\n",
    "plt.subplot(1, 3, 1)\n",
    "df[\"rating\"].hist(bins=[0.5,1.5,2.5,3.5,4.5,5.5], edgecolor='black')\n",
    "plt.title(\"Rating Distribution\")\n",
    "plt.xlabel(\"Rating\"); plt.ylabel(\"Frequency\")\n",
    "\n",
    "# Plot number of ratings per user\n",
    "plt.subplot(1, 3, 2)\n",
    "df[\"user_idx\"].value_counts().hist(bins=30, edgecolor='black')\n",
    "plt.title(\"Ratings per User\")\n",
    "plt.xlabel(\"# Ratings\"); plt.ylabel(\"Users\")\n",
    "\n",
    "# Plot number of ratings per item\n",
    "plt.subplot(1, 3, 3)\n",
    "df[\"item_idx\"].value_counts().hist(bins=30, edgecolor='black')\n",
    "plt.title(\"Ratings per Item\")\n",
    "plt.xlabel(\"# Ratings\"); plt.ylabel(\"Items\")\n",
    "\n",
    "plt.tight_layout()\n",
    "plt.show()"
   ]
  },
  {
   "cell_type": "markdown",
   "metadata": {},
   "source": [
    "### 05 · Create Ray Dataset from Encoded Chunks  \n",
    "Now, convert your list of encoded pandas chunks into a Ray Dataset using `from_pandas_refs(...)`. This method ensures that each chunk becomes its own block, enabling parallel data processing across the cluster.\n",
    "\n",
    "The result is a distributed Ray Dataset with one block per chunk, which is ideal for streaming batches during training. Confirm the number of blocks and show a few rows to verify the format."
   ]
  },
  {
   "cell_type": "code",
   "execution_count": 6,
   "metadata": {},
   "outputs": [
    {
     "name": "stderr",
     "output_type": "stream",
     "text": [
      "2025-09-29 09:19:07,754\tINFO dataset.py:3057 -- Tip: Use `take_batch()` instead of `take() / show()` to return records in pandas or numpy batch format.\n",
      "2025-09-29 09:19:07,756\tINFO logging.py:295 -- Registered dataset logger for dataset dataset_253_0\n",
      "2025-09-29 09:19:07,770\tINFO streaming_executor.py:117 -- Starting execution of Dataset dataset_253_0. Full logs are in /tmp/ray/session_2025-09-29_06-54-43_873333_2383/logs/ray-data\n",
      "2025-09-29 09:19:07,771\tINFO streaming_executor.py:118 -- Execution plan of Dataset dataset_253_0: InputDataBuffer[Input] -> LimitOperator[limit=3]\n"
     ]
    },
    {
     "name": "stdout",
     "output_type": "stream",
     "text": [
      "✅ Ray Dataset created with 64 blocks\n"
     ]
    },
    {
     "data": {
      "application/vnd.jupyter.widget-view+json": {
       "model_id": "fabac057462847f59d5b4b7cac91c026",
       "version_major": 2,
       "version_minor": 0
      },
      "text/plain": [
       "Running 0: 0.00 row [00:00, ? row/s]"
      ]
     },
     "metadata": {},
     "output_type": "display_data"
    },
    {
     "data": {
      "application/vnd.jupyter.widget-view+json": {
       "model_id": "03c32dd09b384e58bd7bc2caf8adf43a",
       "version_major": 2,
       "version_minor": 0
      },
      "text/plain": [
       "- limit=3 1: 0.00 row [00:00, ? row/s]"
      ]
     },
     "metadata": {},
     "output_type": "display_data"
    },
    {
     "name": "stderr",
     "output_type": "stream",
     "text": [
      "2025-09-29 09:19:07,790\tWARNING resource_manager.py:130 -- ⚠️  Ray's object store is configured to use only 28.0% of available memory (163.6GB out of 584.1GB total). For optimal Ray Data performance, we recommend setting the object store to at least 50% of available memory. You can do this by setting the 'object_store_memory' parameter when calling ray.init() or by setting the RAY_DEFAULT_OBJECT_STORE_MEMORY_PROPORTION environment variable.\n",
      "2025-09-29 09:19:09,304\tINFO streaming_executor.py:231 -- ✔️  Dataset dataset_253_0 execution finished in 1.53 seconds\n"
     ]
    },
    {
     "name": "stdout",
     "output_type": "stream",
     "text": [
      "{'user_idx': 195, 'item_idx': 241, 'rating': 3, 'timestamp': 881250949}\n",
      "{'user_idx': 185, 'item_idx': 301, 'rating': 3, 'timestamp': 891717742}\n",
      "{'user_idx': 21, 'item_idx': 376, 'rating': 1, 'timestamp': 878887116}\n"
     ]
    }
   ],
   "source": [
    "# 05. Create Ray Dataset from refs (uses multiple blocks/workers)\n",
    "\n",
    "ratings_ds = ray.data.from_pandas_refs(object_refs)\n",
    "print(\"✅ Ray Dataset created with\", ratings_ds.num_blocks(), \"blocks\")\n",
    "ratings_ds.show(3)"
   ]
  },
  {
   "cell_type": "markdown",
   "metadata": {},
   "source": [
    "### 06 · Train/Validation Split using Ray Data  \n",
    "Next, split the dataset into training and validation sets. First, shuffle the entire Ray Dataset to ensure randomization, then split by row index, using 80% for training and 20% for validation.\n",
    "\n",
    "This approach is simple and scalable: Ray handles the shuffling and slicing in parallel across blocks. Also, set a fixed seed to ensure the split is reproducible. After you split it, each dataset remains a fully distributed Ray Dataset, ready to stream into workers."
   ]
  },
  {
   "cell_type": "code",
   "execution_count": 7,
   "metadata": {},
   "outputs": [
    {
     "name": "stderr",
     "output_type": "stream",
     "text": [
      "2025-09-29 09:19:13,491\tINFO logging.py:295 -- Registered dataset logger for dataset dataset_254_0\n",
      "2025-09-29 09:19:13,493\tINFO streaming_executor.py:117 -- Starting execution of Dataset dataset_254_0. Full logs are in /tmp/ray/session_2025-09-29_06-54-43_873333_2383/logs/ray-data\n",
      "2025-09-29 09:19:13,494\tINFO streaming_executor.py:118 -- Execution plan of Dataset dataset_254_0: InputDataBuffer[Input] -> AllToAllOperator[RandomShuffle]\n"
     ]
    },
    {
     "data": {
      "application/vnd.jupyter.widget-view+json": {
       "model_id": "a8c9d43638e7498d87c95f08eb058af5",
       "version_major": 2,
       "version_minor": 0
      },
      "text/plain": [
       "Running 0: 0.00 row [00:00, ? row/s]"
      ]
     },
     "metadata": {},
     "output_type": "display_data"
    },
    {
     "data": {
      "application/vnd.jupyter.widget-view+json": {
       "model_id": "6a663192c2a84a9d9f9d9cfad451adc1",
       "version_major": 2,
       "version_minor": 0
      },
      "text/plain": [
       "- RandomShuffle 1: 0.00 row [00:00, ? row/s]"
      ]
     },
     "metadata": {},
     "output_type": "display_data"
    },
    {
     "data": {
      "application/vnd.jupyter.widget-view+json": {
       "model_id": "28b234cb11aa415aa88130b533690666",
       "version_major": 2,
       "version_minor": 0
      },
      "text/plain": [
       "Shuffle Map 2:   0%|          | 0.00/1.00 [00:00<?, ? row/s]"
      ]
     },
     "metadata": {},
     "output_type": "display_data"
    },
    {
     "data": {
      "application/vnd.jupyter.widget-view+json": {
       "model_id": "72fbc36e10e44ba1889c23069ab73871",
       "version_major": 2,
       "version_minor": 0
      },
      "text/plain": [
       "Shuffle Reduce 3:   0%|          | 0.00/1.00 [00:00<?, ? row/s]"
      ]
     },
     "metadata": {},
     "output_type": "display_data"
    },
    {
     "name": "stderr",
     "output_type": "stream",
     "text": [
      "2025-09-29 09:19:14,370\tINFO streaming_executor.py:231 -- ✔️  Dataset dataset_254_0 execution finished in 0.88 seconds\n"
     ]
    },
    {
     "name": "stdout",
     "output_type": "stream",
     "text": [
      "✅ Train/Val Split:\n",
      "  Train → 80,000 rows\n",
      "  Val   → 20,000 rows\n"
     ]
    }
   ],
   "source": [
    "# 06. Train/Val Split using Ray Data\n",
    "\n",
    "# Parameters\n",
    "TRAIN_FRAC = 0.8\n",
    "SEED = 42  # for reproducibility\n",
    "\n",
    "# Shuffle + split by index\n",
    "total_rows = ratings_ds.count()\n",
    "train_size = int(total_rows * TRAIN_FRAC)\n",
    "\n",
    "ratings_ds = ratings_ds.random_shuffle(seed=SEED)\n",
    "train_ds, val_ds = ratings_ds.split_at_indices([train_size])\n",
    "\n",
    "print(f\"✅ Train/Val Split:\")\n",
    "print(f\"  Train → {train_ds.count():,} rows\")\n",
    "print(f\"  Val   → {val_ds.count():,} rows\")"
   ]
  },
  {
   "cell_type": "markdown",
   "metadata": {},
   "source": [
    "### 07 · Define Matrix Factorization Model  \n",
    "Define a simple but effective matrix factorization model using PyTorch. A learned embedding vector represents each user and item. The model predicts a rating by taking the dot product of the corresponding user and item embeddings.\n",
    "\n",
    "This architecture is commonly used in collaborative filtering and serves as a strong baseline for recommendation tasks. It's also well-suited for scaling with Ray Train and DistributedDataParallel (DDP)."
   ]
  },
  {
   "cell_type": "code",
   "execution_count": 8,
   "metadata": {},
   "outputs": [],
   "source": [
    "# 07. Define Matrix Factorization Model\n",
    "\n",
    "class MatrixFactorizationModel(nn.Module):\n",
    "    def __init__(self, num_users: int, num_items: int, embedding_dim: int = 64):\n",
    "        super().__init__()\n",
    "        self.user_embedding = nn.Embedding(num_users, embedding_dim)\n",
    "        self.item_embedding = nn.Embedding(num_items, embedding_dim)\n",
    "\n",
    "    def forward(self, user_idx, item_idx):\n",
    "        user_vecs = self.user_embedding(user_idx)\n",
    "        item_vecs = self.item_embedding(item_idx)\n",
    "        dot_product = (user_vecs * item_vecs).sum(dim=1)\n",
    "        return dot_product"
   ]
  },
  {
   "cell_type": "markdown",
   "metadata": {},
   "source": [
    "### 08 · Define Ray Train Loop (with Validation, Logging, and Checkpointing)  \n",
    "Define the `train_loop_per_worker`, the core function Ray executes on each worker. This loop handles everything from dataset loading and model training to validation, logging, and checkpointing.\n",
    "\n",
    "Each worker receives its own shard of the training and validation sets with `get_dataset_shard`. Use `iter_torch_batches` to stream batches directly into PyTorch.\n",
    "\n",
    "For each epoch:\n",
    "- Compute the average training loss across all batches.\n",
    "- Evaluate the model on the validation set and compute the average validation loss.\n",
    "- On rank 0 only, save a checkpoint (model weights + epoch metadata) and append the losses to a shared JSON log.\n",
    "\n",
    "Finally, call `ray.train.report` to expose metrics and checkpoints to the Ray controller. This enables fault tolerance, auto-resume, and metrics tracking with zero additional setup."
   ]
  },
  {
   "cell_type": "code",
   "execution_count": 9,
   "metadata": {},
   "outputs": [],
   "source": [
    "# 08. Define Ray Train Loop (with Val Loss + Checkpointing + Logging)\n",
    "\n",
    "def train_loop_per_worker(config):\n",
    "\n",
    "    # Get dataset shards for this worker\n",
    "    train_ds = get_dataset_shard(\"train\")\n",
    "    val_ds   = get_dataset_shard(\"val\")\n",
    "    train_loader = train_ds.iter_torch_batches(batch_size=512, dtypes=torch.float32)\n",
    "    val_loader   = val_ds.iter_torch_batches(batch_size=512, dtypes=torch.float32)\n",
    "\n",
    "    # Create model and optimizer\n",
    "    model = MatrixFactorizationModel(\n",
    "        num_users=config[\"num_users\"],\n",
    "        num_items=config[\"num_items\"],\n",
    "        embedding_dim=config.get(\"embedding_dim\", 64)\n",
    "    )\n",
    "    model = prepare_model(model)\n",
    "    optimizer = torch.optim.Adam(model.parameters(), lr=config.get(\"lr\", 1e-3))\n",
    "\n",
    "    # Paths for checkpointing and logging\n",
    "    CKPT_DIR = \"/mnt/cluster_storage/rec_sys_tutorial/checkpoints\"\n",
    "    LOG_PATH = \"/mnt/cluster_storage/rec_sys_tutorial/epoch_metrics.json\"\n",
    "    os.makedirs(CKPT_DIR, exist_ok=True)\n",
    "    rank = int(os.environ.get(\"RANK\", \"0\"))  # Worker rank\n",
    "    start_epoch = 0\n",
    "\n",
    "    # Resume from checkpoint if available\n",
    "    ckpt = get_checkpoint()\n",
    "    if ckpt:\n",
    "        with ckpt.as_directory() as ckpt_dir:\n",
    "            model.load_state_dict(torch.load(os.path.join(ckpt_dir, \"model.pt\"), map_location=\"cpu\"))\n",
    "            start_epoch = torch.load(os.path.join(ckpt_dir, \"meta.pt\")).get(\"epoch\", 0) + 1\n",
    "        if rank == 0:\n",
    "            print(f\"[Rank {rank}] ✅ Resumed from checkpoint at epoch {start_epoch}\")\n",
    "\n",
    "    # Clean up log file on first run (only if not resuming)\n",
    "    if rank == 0 and start_epoch == 0 and os.path.exists(LOG_PATH):\n",
    "        os.remove(LOG_PATH)\n",
    "\n",
    "    # ----------------- Training Loop ----------------- #\n",
    "    for epoch in range(start_epoch, config.get(\"epochs\", 5)):\n",
    "        model.train()\n",
    "        train_losses = []\n",
    "\n",
    "        # Train over each batch\n",
    "        for batch in train_loader:\n",
    "            user = batch[\"user_idx\"].long()\n",
    "            item = batch[\"item_idx\"].long()\n",
    "            rating = batch[\"rating\"].float()\n",
    "\n",
    "            pred = model(user, item)\n",
    "            loss = F.mse_loss(pred, rating)\n",
    "\n",
    "            optimizer.zero_grad()\n",
    "            loss.backward()\n",
    "            optimizer.step()\n",
    "\n",
    "            train_losses.append(loss.item())\n",
    "\n",
    "        avg_train_loss = sum(train_losses) / len(train_losses)\n",
    "\n",
    "        # ---------- Validation Pass ----------\n",
    "        model.eval()\n",
    "        val_losses = []\n",
    "        with torch.no_grad():\n",
    "            for batch in val_loader:\n",
    "                user = batch[\"user_idx\"].long()\n",
    "                item = batch[\"item_idx\"].long()\n",
    "                rating = batch[\"rating\"].float()\n",
    "\n",
    "                pred = model(user, item)\n",
    "                loss = F.mse_loss(pred, rating)\n",
    "                val_losses.append(loss.item())\n",
    "\n",
    "        avg_val_loss = sum(val_losses) / len(val_losses)\n",
    "\n",
    "        # Log to stdout\n",
    "        print(f\"[Epoch {epoch}] Train MSE: {avg_train_loss:.4f} | Val MSE: {avg_val_loss:.4f}\")\n",
    "\n",
    "        # ---------- Save Checkpoint (Rank 0 Only) ----------\n",
    "        if rank == 0:\n",
    "            out_dir = os.path.join(CKPT_DIR, f\"epoch_{epoch}_{uuid.uuid4().hex}\")\n",
    "            os.makedirs(out_dir, exist_ok=True)\n",
    "            torch.save(model.state_dict(), os.path.join(out_dir, \"model.pt\"))\n",
    "            torch.save({\"epoch\": epoch}, os.path.join(out_dir, \"meta.pt\"))\n",
    "            ckpt_out = Checkpoint.from_directory(out_dir)\n",
    "        else:\n",
    "            ckpt_out = None\n",
    "\n",
    "        # ---------- Append Metrics to JSON Log (Rank 0) ----------\n",
    "        if rank == 0:\n",
    "            logs = []\n",
    "            if os.path.exists(LOG_PATH):\n",
    "                try:\n",
    "                    with open(LOG_PATH, \"r\") as f:\n",
    "                        logs = json.load(f)\n",
    "                except json.JSONDecodeError:\n",
    "                    print(\"⚠️  JSON log unreadable. Starting fresh.\")\n",
    "                    logs = []\n",
    "\n",
    "            logs.append({\n",
    "                \"epoch\": epoch,\n",
    "                \"train_loss\": avg_train_loss,\n",
    "                \"val_loss\": avg_val_loss\n",
    "            })\n",
    "            with open(LOG_PATH, \"w\") as f:\n",
    "                json.dump(logs, f)\n",
    "\n",
    "        # ---------- Report to Ray Train ----------\n",
    "        report({\n",
    "            \"epoch\": epoch,\n",
    "            \"train_loss\": avg_train_loss,\n",
    "            \"val_loss\": avg_val_loss\n",
    "        }, checkpoint=ckpt_out)"
   ]
  },
  {
   "cell_type": "markdown",
   "metadata": {},
   "source": [
    "### 09 · Launch Distributed Training with Ray Train  \n",
    "Now, launch distributed training using `TorchTrainer`, Ray Train’s high-level orchestration interface. Provide it with:\n",
    "\n",
    "- Your custom `train_loop_per_worker` function\n",
    "- A `train_config` dictionary that specifies model dimensions, learning rate, and number of epochs\n",
    "- The sharded `train` and `val` Ray Datasets\n",
    "- A `ScalingConfig` that sets the number of workers and GPU usage\n",
    "\n",
    "Also, configure checkpointing and fault tolerance:\n",
    "- Ray keeps the 3 most recent checkpoints\n",
    "- Failed workers retry up to two times\n",
    "\n",
    "Calling `trainer.fit()` kicks off training across the cluster. If any workers fail or disconnect, Ray restarts them and resume from the latest checkpoint."
   ]
  },
  {
   "cell_type": "code",
   "execution_count": 10,
   "metadata": {},
   "outputs": [
    {
     "name": "stderr",
     "output_type": "stream",
     "text": [
      "\u001b[36m(TrainController pid=66493)\u001b[0m A run snapshot was found in storage folder at: '/mnt/cluster_storage/rec_sys_tutorial/results/mf_ray_train'\n",
      "\u001b[36m(TrainController pid=66493)\u001b[0m This snapshot contains a list of checkpoints reported via `ray.train.report` and will be loaded. This allows the latest checkpoint found in the snapshot to be accessible within your training function via `ray.train.get_checkpoint`.\n",
      "\u001b[36m(TrainController pid=66493)\u001b[0m If you meant to start a brand new training job without any information about previous checkpoints found in this directory, please configure a new, unique `RunConfig(name)` or delete the existing folder at '/mnt/cluster_storage/rec_sys_tutorial/results/mf_ray_train'.\n",
      "\u001b[36m(TrainController pid=66493)\u001b[0m [State Transition] INITIALIZING -> SCHEDULING.\n",
      "\u001b[36m(TrainController pid=66493)\u001b[0m Attempting to start training worker group of size 8 with the following resources: [{'GPU': 1}] * 8\n",
      "\u001b[36m(TrainController pid=66493)\u001b[0m Using blocking ray.get inside async actor. This blocks the event loop. Please use `await` on object ref with asyncio.gather if you want to yield execution to the event loop instead.\n",
      "\u001b[36m(RayTrainWorker pid=21643, ip=10.0.83.100)\u001b[0m Setting up process group for: env:// [rank=0, world_size=8]\n",
      "\u001b[36m(TrainController pid=66493)\u001b[0m Started training worker group of size 8: \n",
      "\u001b[36m(TrainController pid=66493)\u001b[0m - (ip=10.0.83.100, pid=21643) world_rank=0, local_rank=0, node_rank=0\n",
      "\u001b[36m(TrainController pid=66493)\u001b[0m - (ip=10.0.111.100, pid=30040) world_rank=1, local_rank=0, node_rank=1\n",
      "\u001b[36m(TrainController pid=66493)\u001b[0m - (ip=10.0.98.167, pid=25818) world_rank=2, local_rank=0, node_rank=2\n",
      "\u001b[36m(TrainController pid=66493)\u001b[0m - (ip=10.0.92.205, pid=29141) world_rank=3, local_rank=0, node_rank=3\n",
      "\u001b[36m(TrainController pid=66493)\u001b[0m - (ip=10.0.85.190, pid=24916) world_rank=4, local_rank=0, node_rank=4\n",
      "\u001b[36m(TrainController pid=66493)\u001b[0m - (ip=10.0.103.82, pid=32828) world_rank=5, local_rank=0, node_rank=5\n",
      "\u001b[36m(TrainController pid=66493)\u001b[0m - (ip=10.0.78.81, pid=23267) world_rank=6, local_rank=0, node_rank=6\n",
      "\u001b[36m(TrainController pid=66493)\u001b[0m - (ip=10.0.120.126, pid=21231) world_rank=7, local_rank=0, node_rank=7\n",
      "\u001b[36m(TrainController pid=66493)\u001b[0m [State Transition] SCHEDULING -> RUNNING.\n",
      "\u001b[36m(RayTrainWorker pid=21643, ip=10.0.83.100)\u001b[0m Moving model to device: cuda:0\n",
      "\u001b[36m(RayTrainWorker pid=21643, ip=10.0.83.100)\u001b[0m Wrapping provided model in DistributedDataParallel.\n",
      "\u001b[36m(RayTrainWorker pid=21643, ip=10.0.83.100)\u001b[0m [Rank 0] ✅ Resumed from checkpoint at epoch 20\n",
      "\u001b[36m(TrainController pid=66493)\u001b[0m [State Transition] RUNNING -> FINISHED.\n"
     ]
    }
   ],
   "source": [
    "# 09. Launch Distributed Training with Ray TorchTrainer\n",
    "\n",
    "# Define config params\n",
    "train_config = {\n",
    "    \"num_users\": df[\"user_idx\"].nunique(),\n",
    "    \"num_items\": df[\"item_idx\"].nunique(),\n",
    "    \"embedding_dim\": 64,\n",
    "    \"lr\": 1e-3,\n",
    "    \"epochs\": 20,\n",
    "}\n",
    "\n",
    "trainer = TorchTrainer(\n",
    "    train_loop_per_worker=train_loop_per_worker,\n",
    "    train_loop_config=train_config,\n",
    "    scaling_config=ScalingConfig(\n",
    "        num_workers=8,       # Increase as needed\n",
    "        use_gpu=True         # Set to True if training on GPUs\n",
    "    ),\n",
    "    datasets={\"train\": train_ds, \"val\": val_ds},\n",
    "    run_config=RunConfig(\n",
    "        name=\"mf_ray_train\",\n",
    "        storage_path=\"/mnt/cluster_storage/rec_sys_tutorial/results\",\n",
    "        checkpoint_config=CheckpointConfig(num_to_keep=3),\n",
    "        failure_config=FailureConfig(max_failures=2)\n",
    "    )\n",
    ")\n",
    "\n",
    "# Run distributed training\n",
    "result = trainer.fit()"
   ]
  },
  {
   "cell_type": "markdown",
   "metadata": {},
   "source": [
    "### 10 · Plot Train and Validation Loss Curves  \n",
    "After training, load the logged epoch metrics from the shared JSON file and plot the train and validation loss curves.\n",
    "\n",
    "This visualization helps you evaluate model behavior across epochs, whether it’s under-fitting, over-fitting, or converging steadily. You compute both curves using MSE (Mean Squared Error), which is the same loss function used during training.\n",
    "\n",
    "Plotting these curves also serves as a sanity check to ensure that checkpointing, logging, and training progressed as expected."
   ]
  },
  {
   "cell_type": "code",
   "execution_count": 11,
   "metadata": {},
   "outputs": [
    {
     "data": {
      "image/png": "[encoded data removed]",
      "text/plain": [
       "<Figure size 700x400 with 1 Axes>"
      ]
     },
     "metadata": {},
     "output_type": "display_data"
    }
   ],
   "source": [
    "# 10. Plot Train/Val Loss Curves\n",
    "\n",
    "# Path to training metrics log\n",
    "LOG_PATH = \"/mnt/cluster_storage/rec_sys_tutorial/epoch_metrics.json\"\n",
    "\n",
    "# Load and convert to DataFrame\n",
    "with open(LOG_PATH, \"r\") as f:\n",
    "    logs = json.load(f)\n",
    "\n",
    "df = pd.DataFrame(logs)\n",
    "df[\"train_loss\"] = pd.to_numeric(df[\"train_loss\"], errors=\"coerce\")\n",
    "df[\"val_loss\"] = pd.to_numeric(df[\"val_loss\"], errors=\"coerce\")\n",
    "\n",
    "# Plot\n",
    "plt.figure(figsize=(7, 4))\n",
    "plt.plot(df[\"epoch\"], df[\"train_loss\"], marker=\"o\", label=\"Train\")\n",
    "plt.plot(df[\"epoch\"], df[\"val_loss\"], marker=\"o\", label=\"Val\")\n",
    "plt.xlabel(\"Epoch\")\n",
    "plt.ylabel(\"MSE Loss\")\n",
    "plt.title(\"Matrix Factorization - Loss per Epoch\")\n",
    "plt.grid(True)\n",
    "plt.legend()\n",
    "plt.tight_layout()\n",
    "plt.show()"
   ]
  },
  {
   "cell_type": "markdown",
   "metadata": {},
   "source": [
    "### 11 · Resume Training from Checkpoint  \n",
    "Run `trainer.fit()` again to resume training from the most recent checkpoint. Since `TorchTrainer` was originally configured with `resume_from_checkpoint=True` and a persistent `storage_path`, Ray automatically restores the latest saved model state and continues training from the correct epoch.\n",
    "\n",
    "This demonstrates Ray Train’s built-in support for fault tolerance and iterative experimentation, allowing training to pick up exactly where it left off without manual intervention."
   ]
  },
  {
   "cell_type": "code",
   "execution_count": 12,
   "metadata": {},
   "outputs": [
    {
     "name": "stderr",
     "output_type": "stream",
     "text": [
      "\u001b[36m(TrainController pid=66838)\u001b[0m A run snapshot was found in storage folder at: '/mnt/cluster_storage/rec_sys_tutorial/results/mf_ray_train'\n",
      "\u001b[36m(TrainController pid=66838)\u001b[0m This snapshot contains a list of checkpoints reported via `ray.train.report` and will be loaded. This allows the latest checkpoint found in the snapshot to be accessible within your training function via `ray.train.get_checkpoint`.\n",
      "\u001b[36m(TrainController pid=66838)\u001b[0m If you meant to start a brand new training job without any information about previous checkpoints found in this directory, please configure a new, unique `RunConfig(name)` or delete the existing folder at '/mnt/cluster_storage/rec_sys_tutorial/results/mf_ray_train'.\n",
      "\u001b[36m(TrainController pid=66838)\u001b[0m [State Transition] INITIALIZING -> SCHEDULING.\n",
      "\u001b[36m(TrainController pid=66838)\u001b[0m Attempting to start training worker group of size 8 with the following resources: [{'GPU': 1}] * 8\n",
      "\u001b[36m(TrainController pid=66838)\u001b[0m Using blocking ray.get inside async actor. This blocks the event loop. Please use `await` on object ref with asyncio.gather if you want to yield execution to the event loop instead.\n",
      "\u001b[36m(RayTrainWorker pid=25027, ip=10.0.85.190)\u001b[0m Setting up process group for: env:// [rank=0, world_size=8]\n",
      "\u001b[36m(TrainController pid=66838)\u001b[0m Started training worker group of size 8: \n",
      "\u001b[36m(TrainController pid=66838)\u001b[0m - (ip=10.0.85.190, pid=25027) world_rank=0, local_rank=0, node_rank=0\n",
      "\u001b[36m(TrainController pid=66838)\u001b[0m - (ip=10.0.103.82, pid=32941) world_rank=1, local_rank=0, node_rank=1\n",
      "\u001b[36m(TrainController pid=66838)\u001b[0m - (ip=10.0.98.167, pid=25926) world_rank=2, local_rank=0, node_rank=2\n",
      "\u001b[36m(TrainController pid=66838)\u001b[0m - (ip=10.0.111.100, pid=30213) world_rank=3, local_rank=0, node_rank=3\n",
      "\u001b[36m(TrainController pid=66838)\u001b[0m - (ip=10.0.92.205, pid=29255) world_rank=4, local_rank=0, node_rank=4\n",
      "\u001b[36m(TrainController pid=66838)\u001b[0m - (ip=10.0.83.100, pid=21750) world_rank=5, local_rank=0, node_rank=5\n",
      "\u001b[36m(TrainController pid=66838)\u001b[0m - (ip=10.0.120.126, pid=21338) world_rank=6, local_rank=0, node_rank=6\n",
      "\u001b[36m(TrainController pid=66838)\u001b[0m - (ip=10.0.78.81, pid=23378) world_rank=7, local_rank=0, node_rank=7\n",
      "\u001b[36m(TrainController pid=66838)\u001b[0m [State Transition] SCHEDULING -> RUNNING.\n",
      "\u001b[36m(RayTrainWorker pid=23378, ip=10.0.78.81)\u001b[0m Moving model to device: cuda:0\n",
      "\u001b[36m(RayTrainWorker pid=23378, ip=10.0.78.81)\u001b[0m Wrapping provided model in DistributedDataParallel.\n",
      "\u001b[36m(RayTrainWorker pid=25027, ip=10.0.85.190)\u001b[0m [Rank 0] ✅ Resumed from checkpoint at epoch 20\n",
      "\u001b[36m(TrainController pid=66838)\u001b[0m [State Transition] RUNNING -> FINISHED.\n"
     ]
    }
   ],
   "source": [
    "# 11. Run trainer.fit() again to resume from last checkpoint\n",
    "\n",
    "result = trainer.fit()"
   ]
  },
  {
   "cell_type": "markdown",
   "metadata": {},
   "source": [
    "### 12 · Inference: Recommend Top-N Items for a User  \n",
    "To demonstrate inference, generate top-10 item recommendations for a randomly selected user.\n",
    "\n",
    "First, reload the original `ratings.csv` and rebuild the user/item ID mappings used during training. Then, load the latest model checkpoint and restore the trained embedding weights. If you trained the model with DDP, strip the `'module.'` prefix from checkpoint keys.\n",
    "\n",
    "Next, select a user, compute their embedding, and take the dot product against all item embeddings to produce predicted scores. Finally, extract the top-N items with the highest scores and print their IDs and associated scores."
   ]
  },
  {
   "cell_type": "code",
   "execution_count": 14,
   "metadata": {},
   "outputs": [
    {
     "name": "stdout",
     "output_type": "stream",
     "text": [
      "Generating recommendations for user_id=332 (internal idx=331)\n",
      "\n",
      "Top 10 Recommended Item IDs:\n",
      " 1. Item ID: 1267 | Score: 19.36\n",
      " 2. Item ID: 954 | Score: 17.42\n",
      " 3. Item ID: 947 | Score: 17.13\n",
      " 4. Item ID: 1625 | Score: 15.80\n",
      " 5. Item ID: 1229 | Score: 15.33\n",
      " 6. Item ID: 1373 | Score: 15.16\n",
      " 7. Item ID: 338 | Score: 14.81\n",
      " 8. Item ID: 729 | Score: 14.53\n",
      " 9. Item ID: 1117 | Score: 14.26\n",
      "10. Item ID: 1458 | Score: 14.20\n"
     ]
    }
   ],
   "source": [
    "# 12. Inference: Recommend Top-N Items for a User\n",
    "\n",
    "# ---------------------------------------------\n",
    "# Step 1: Reload original ratings CSV + mappings\n",
    "# ---------------------------------------------\n",
    "df = pd.read_csv(\"/mnt/cluster_storage/rec_sys_tutorial/raw/ratings.csv\")\n",
    "\n",
    "# Recompute ID mappings (same as during preprocessing)\n",
    "unique_users = sorted(df[\"user_id\"].unique())\n",
    "unique_items = sorted(df[\"item_id\"].unique())\n",
    "\n",
    "user2idx = {uid: j for j, uid in enumerate(unique_users)}\n",
    "item2idx = {iid: j for j, iid in enumerate(unique_items)}\n",
    "idx2item = {v: k for k, v in item2idx.items()}\n",
    "\n",
    "# ---------------------------------------------\n",
    "# Step 2: Load model from checkpoint\n",
    "# ---------------------------------------------\n",
    "model = MatrixFactorizationModel(\n",
    "    num_users=len(user2idx),\n",
    "    num_items=len(item2idx),\n",
    "    embedding_dim=train_config[\"embedding_dim\"]\n",
    ")\n",
    "\n",
    "with result.checkpoint.as_directory() as ckpt_dir:\n",
    "    state_dict = torch.load(os.path.join(ckpt_dir, \"model.pt\"), map_location=\"cpu\")\n",
    "\n",
    "    # Remove 'module.' prefix if using DDP-trained model\n",
    "    if any(k.startswith(\"module.\") for k in state_dict):\n",
    "        state_dict = {k.replace(\"module.\", \"\"): v for k, v in state_dict.items()}\n",
    "\n",
    "    model.load_state_dict(state_dict)\n",
    "\n",
    "model.eval()\n",
    "\n",
    "# ---------------------------------------------\n",
    "# Step 3: Select a user and generate recommendations\n",
    "# ---------------------------------------------\n",
    "# Choose a random user from the original dataset\n",
    "original_user_id = df[\"user_id\"].sample(1).iloc[0]\n",
    "user_idx = user2idx[original_user_id]\n",
    "\n",
    "print(f\"Generating recommendations for user_id={original_user_id} (internal idx={user_idx})\")\n",
    "\n",
    "# Compute scores for all items for this user\n",
    "with torch.no_grad():\n",
    "    user_vector = model.user_embedding(torch.tensor([user_idx]))           # [1, D]\n",
    "    item_vectors = model.item_embedding.weight                             # [num_items, D]\n",
    "    scores = torch.matmul(user_vector, item_vectors.T).squeeze(0)          # [num_items]\n",
    "\n",
    "    topk = torch.topk(scores, k=10)\n",
    "    top_item_ids = [idx2item[j.item()] for j in topk.indices]\n",
    "    top_scores = topk.values.tolist()\n",
    "\n",
    "# ---------------------------------------------\n",
    "# Step 4: Print Top-N Recommendations\n",
    "# ---------------------------------------------\n",
    "print(\"\\nTop 10 Recommended Item IDs:\")\n",
    "for i, (item_id, score) in enumerate(zip(top_item_ids, top_scores), 1):\n",
    "    print(f\"{i:2d}. Item ID: {item_id} | Score: {score:.2f}\")"
   ]
  },
  {
   "cell_type": "markdown",
   "metadata": {},
   "source": [
    "### 13 · Join Top-N Item IDs with Movie Titles  \n",
    "To make your recommendations more interpretable, join the top-10 recommended `item_id`s with movie titles from the original `u.item` metadata file.\n",
    "\n",
    "Load only the relevant columns—`item_id` and `title`—from `u.item`, then merge them with the top-N predictions you computed in the previous step. The result is a user-friendly list of movie titles with associated predicted scores, rather than raw item IDs.\n",
    "\n",
    "This small addition makes the model outputs easier to understand and more useful for downstream applications."
   ]
  },
  {
   "cell_type": "code",
   "execution_count": 15,
   "metadata": {},
   "outputs": [
    {
     "name": "stdout",
     "output_type": "stream",
     "text": [
      "\n",
      "Top 10 Recommended Movies:\n",
      " 1. Clockers (1995) | Score: 19.36\n",
      " 2. Unzipped (1995) | Score: 17.42\n",
      " 3. Big Blue, The (Grand bleu, Le) (1988) | Score: 17.13\n",
      " 4. Nightwatch (1997) | Score: 15.80\n",
      " 5. Poison Ivy II (1995) | Score: 15.33\n",
      " 6. Good Morning (1971) | Score: 15.16\n",
      " 7. Bean (1997) | Score: 14.81\n",
      " 8. Nell (1994) | Score: 14.53\n",
      " 9. Surviving Picasso (1996) | Score: 14.26\n",
      "10. Damsel in Distress, A (1937) | Score: 14.20\n"
     ]
    }
   ],
   "source": [
    "# 13. Join Top-N Item IDs with Movie Titles from u.item\n",
    "\n",
    "item_metadata = pd.read_csv(\n",
    "    \"/mnt/cluster_storage/rec_sys_tutorial/ml-100k/u.item\",\n",
    "    sep=\"|\",\n",
    "    encoding=\"latin-1\",\n",
    "    header=None,\n",
    "    usecols=[0, 1],  # Only item_id and title\n",
    "    names=[\"item_id\", \"title\"]\n",
    ")\n",
    "\n",
    "# Join with top-N items\n",
    "top_items_df = pd.DataFrame({\n",
    "    \"item_id\": top_item_ids,\n",
    "    \"score\": top_scores\n",
    "})\n",
    "\n",
    "merged = top_items_df.merge(item_metadata, on=\"item_id\", how=\"left\")\n",
    "\n",
    "print(\"\\nTop 10 Recommended Movies:\")\n",
    "for j, row in merged.iterrows():\n",
    "    print(f\"{j+1:2d}. {row['title']} | Score: {row['score']:.2f}\")"
   ]
  },
  {
   "cell_type": "markdown",
   "metadata": {},
   "source": [
    "### 14 · Cleanup Shared Storage  \n",
    "Reclaim cluster disk space by deleting the entire tutorial output directory.  \n",
    "Run this only when you’re **sure** you don’t need the checkpoints or metrics anymore."
   ]
  },
  {
   "cell_type": "code",
   "execution_count": 16,
   "metadata": {},
   "outputs": [
    {
     "name": "stdout",
     "output_type": "stream",
     "text": [
      "✅ Deleted everything under /mnt/cluster_storage/rec_sys_tutorial\n"
     ]
    },
    {
     "name": "stdout",
     "output_type": "stream",
     "text": [
      "\u001b[36m(autoscaler +51m41s)\u001b[0m Tip: use `ray status` to view detailed cluster status. To disable these messages, set RAY_SCHEDULER_EVENTS=0.\n"
     ]
    }
   ],
   "source": [
    "# 14. Cleanup -- delete checkpoints and metrics from model training\n",
    "\n",
    "TARGET_PATH = \"/mnt/cluster_storage/rec_sys_tutorial\"\n",
    "\n",
    "if os.path.exists(TARGET_PATH):\n",
    "    shutil.rmtree(TARGET_PATH)\n",
    "    print(f\"✅ Deleted everything under {TARGET_PATH}\")\n",
    "else:\n",
    "    print(f\"⚠️ Path does not exist: {TARGET_PATH}\")"
   ]
  },
  {
   "cell_type": "markdown",
   "metadata": {},
   "source": [
    "## 🎉 Wrapping Up & Next Steps\n",
    "\n",
    "Awesome work making it to the end. In this tutorial, you used **Ray Train and Ray Data on Anyscale** to scale a full matrix factorization recommendation system, end-to-end, from a raw CSV to multi-GPU distributed training and personalized top-N item recommendations.\n",
    "\n",
    "You should now feel confident:\n",
    "\n",
    "* Using **Ray Data** to preprocess, encode, and shard large tabular datasets  \n",
    "* Streaming data into PyTorch with `iter_torch_batches()` for efficient training  \n",
    "* Scaling matrix factorization across multiple GPUs with **Ray Train’s `TorchTrainer`**  \n",
    "* Saving and resuming training with distributed **Ray Checkpoints**  \n",
    "* Running multi-node, fault-tolerant jobs without touching orchestration code  \n",
    "* Performing post-training inference using Ray-restored model checkpoints and learned user/item embeddings\n",
    "\n",
    "---\n",
    "\n",
    "### 🚀 Where can you take this next?\n",
    "\n",
    "Here are a few directions you can explore to extend or adapt this workload:\n",
    "\n",
    "1. **Ranking Metrics & Evaluation**  \n",
    "   * Add metrics like **Root Mean Squared Error (RMSE)**, **Normalized Discounted Cumulative Gain (NDCG)**, or **Hit@K** to evaluate recommendation quality.  \n",
    "   * Filter out already-rated items during inference to measure novelty.\n",
    "\n",
    "2. **Two-Tower and Deep Models**  \n",
    "   * Replace dot product with a **two-tower neural model** or a **deep MLP**.  \n",
    "   * Add side features (For example, timestamp, genre) into each tower for better personalization.\n",
    "\n",
    "3. **Recommendation Personalization**  \n",
    "   * Store and cache user embeddings after training.  \n",
    "   * Run lightweight inference tasks to generate recommendations in real-time.\n",
    "\n",
    "4. **Content-Based or Hybrid Models**  \n",
    "   * Join movie metadata (genres, tags) and build a hybrid collaborative–content model.  \n",
    "   * Embed titles or genres using pre-trained language models.\n",
    "\n",
    "5. **Hyperparameter Optimization**  \n",
    "   * Use **Ray Tune** to sweep embedding sizes, learning rates, or regularization.  \n",
    "   * Track performance over epochs and checkpoint the best models automatically.\n",
    "\n",
    "6. **Data Scaling**  \n",
    "   * Switch from MovieLens 100K to 1M or 10M as Ray Data handles it seamlessly.  \n",
    "   * Save and load from cloud object storage (S3, GCS) for real-world deployments.\n",
    "\n",
    "7. **Production Inference**  \n",
    "   * Wrap the recommendation system into a **Ray Serve** endpoint for serving top-N results.  \n",
    "   * Build a simple demo that recommends movies to live users.\n",
    "\n",
    "8. **End-to-End MLOps**  \n",
    "   * Register the best model with MLflow or Weights & Biases.  \n",
    "   * Package the training job as a Ray Job and schedule it with Anyscale.\n",
    "\n",
    "9. **Multi-tenant recommendation systems**  \n",
    "   * Extend this to support **multiple audiences** or contexts (For example, multi-country, A/B groups).  \n",
    "   * Train and serve context-aware models in parallel using Ray.\n",
    "\n",
    "This pattern gives you a solid foundation for scaling recommendation workloads across real datasets and real infrastructure—without rewriting your model or managing your cluster. Let Ray + Anyscale do the heavy lifting."
   ]
  },
  {
   "cell_type": "markdown",
   "metadata": {},
   "source": []
  }
 ],
 "metadata": {
  "kernelspec": {
   "display_name": "base",
   "language": "python",
   "name": "python3"
  },
  "language_info": {
   "codemirror_mode": {
    "name": "ipython",
    "version": 3
   },
   "file_extension": ".py",
   "mimetype": "text/x-python",
   "name": "python",
   "nbconvert_exporter": "python",
   "pygments_lexer": "ipython3",
   "version": "3.12.9"
  }
 },
 "nbformat": 4,
 "nbformat_minor": 2
}
