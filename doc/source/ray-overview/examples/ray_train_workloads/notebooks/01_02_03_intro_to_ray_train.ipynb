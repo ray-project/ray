{
 "cells": [
  {
   "cell_type": "markdown",
   "metadata": {},
   "source": [
    "## 📚 01 · Introduction to Ray Train  \n",
    "In this notebook you’ll learn how to run **distributed data-parallel training with PyTorch** on an Anyscale cluster using **Ray Train**. You’ll train a **ResNet-18 model on MNIST** across multiple GPUs, with built-in support for **checkpointing, metrics reporting, and distributed orchestration**.  \n",
    "\n",
    "### What you’ll learn & take away\n",
    "* Why and when to use **Ray Train** for distributed training instead of managing PyTorch DDP manually  \n",
    "* How to wrap your PyTorch code with **`prepare_model()`** and **`prepare_data_loader()`** for multi-GPU execution  \n",
    "* How to configure scale with **`ScalingConfig(num_workers=..., use_gpu=True)`** and track outputs with **`RunConfig(storage_path=...)`**  \n",
    "* How to **report metrics and save checkpoints** using `ray.train.report(...)`, with best practices for rank-0 checkpointing  \n",
    "* How to use **Anyscale storage**: fast local NVMe vs. persistent cluster/cloud storage  \n",
    "* How to **inspect training results** (metrics DataFrame, checkpoints) and load a checkpointed model for inference with Ray  \n",
    "\n",
    "> The entire workflow runs **fully distributed from the start**: you define your training loop once, and Ray handles orchestration, sharding, and checkpointing across the cluster.\n"
   ]
  },
  {
   "cell_type": "markdown",
   "metadata": {},
   "source": [
    "###  🔎 When to use Ray Train  \n",
    "\n",
    "Use Ray Train when you face one of the following challenges:\n",
    "\n",
    "|Challenge|Detail|Solution|\n",
    "|---|---|---|\n",
    "|Need to speed up or scale up training| Training jobs might take a long time to complete, or require a lot of compute | Ray Train provides a distributed training framework that allows engineers to scale training jobs to multiple GPUs |\n",
    "|Minimize overhead of setting up distributed training| Engineers need to manage the underlying infrastructure | Ray Train handles the underlying infrastructure via Ray's autoscaling |\n",
    "|Achieve observability| Engineers need to connect to different nodes and GPUs to find the root cause of failures, fetch logs, traces, etc | Ray Train provides observability via Ray's dashboard, metrics, and traces that allow engineers to monitor the training job |\n",
    "|Ensure reliable training| Training jobs can fail due to hardware failures, network issues, or other unexpected events | Ray Train provides fault tolerance via checkpointing, automatic retries, and the ability to resume training from the last checkpoint |\n",
    "|Avoid significant code rewrite| Engineers might need to fully rewrite their training loop to support distributed training | Ray Train provides a suite of integrations with the PyTorch ecosystem, Tree-based methods (XGB, LGBM), and more to minimize the amount of code changes needed |"
   ]
  },
  {
   "cell_type": "markdown",
   "metadata": {},
   "source": [
    "### 🖥️ How Distributed Data Parallel (DDP) Works  \n",
    "\n",
    "The diagram above shows the **lifecycle of a single training step** in PyTorch DistributedDataParallel (DDP) when orchestrated by Ray Train:\n",
    "\n",
    "1. **Model Replication**  \n",
    "   The model is initialized on GPU rank 0 and broadcast to all other workers so that each has an identical copy.  \n",
    "\n",
    "2. **Sharded Data Loading**  \n",
    "   The dataset is automatically split into **non-overlapping shards**. Each worker processes only its shard, ensuring efficient parallelism without duplicate samples.  \n",
    "\n",
    "3. **Forward & Backward Passes**  \n",
    "   Each worker runs a forward pass and computes gradients locally during the backward pass.  \n",
    "\n",
    "4. **Gradient Synchronization**  \n",
    "   Gradients are aggregated across workers via an **AllReduce** step, ensuring that model updates stay consistent across all GPUs.  \n",
    "\n",
    "5. **Weight Updates**  \n",
    "   Once gradients are synchronized, each worker applies the update, keeping model replicas in sync.  \n",
    "\n",
    "6. **Checkpointing & Metrics**  \n",
    "   By convention, only the **rank 0 worker** saves checkpoints and logs metrics to persistent storage. This avoids duplication while preserving progress and results.  \n",
    "\n",
    "With Ray Train, you don’t need to manage process groups or samplers manually—utilities like `prepare_model()` and `prepare_data_loader()` wrap these details so your code works out of the box in a distributed setting."
   ]
  },
  {
   "cell_type": "markdown",
   "metadata": {
    "tags": []
   },
   "source": [
    "|<img src=\"https://anyscale-public-materials.s3.us-west-2.amazonaws.com/ray-ai-libraries/diagrams/multi_gpu_pytorch_v4.png\" width=\"70%\" loading=\"lazy\">|\n",
    "|:--|\n",
    "|Schematic overview of DistributedDataParallel (DDP) training: (1) the model is replicated from the <code>GPU rank 0</code> to all other workers; (2) each worker receives a shard of the dataset and processes a mini-batch; (3) during the backward pass, gradients are averaged across GPUs; (4) checkpoint and metrics from rank 0 GPU are saved to the persistent storage.|"
   ]
  },
  {
   "cell_type": "markdown",
   "metadata": {},
   "source": [
    "### 01 · Imports  \n",
    "\n",
    "Start by importing all the libraries you’ll need for this tutorial.  \n",
    "\n",
    "- **Standard utilities**: `os`, `datetime`, `tempfile`, `csv`, `shutil`, and `gc` help with file paths, checkpointing, cleanup, and general housekeeping.  \n",
    "- **Data and visualization**: `pandas`, `numpy`, `matplotlib`, and `PIL` are used for inspecting the dataset and plotting sample images.  \n",
    "- **PyTorch**: core deep learning components (`torch`, `CrossEntropyLoss`, `Adam`) plus `torchvision` for loading MNIST and building a ResNet-18 model.  \n",
    "- **Ray Train**: the key imports for distributed training—`ScalingConfig`, `RunConfig`, and `TorchTrainer`. These handle cluster scaling, experiment output storage, and execution of your training loop across GPUs.  \n",
    "\n",
    "This notebook assumes Ray is already running (for example, inside an Anyscale cluster), so you don’t need to call `ray.init()` manually."
   ]
  },
  {
   "cell_type": "code",
   "execution_count": 1,
   "metadata": {},
   "outputs": [
    {
     "name": "stdout",
     "output_type": "stream",
     "text": [
      "Requirement already satisfied: torch==2.8.0 in /home/ray/anaconda3/lib/python3.12/site-packages (2.8.0)\n",
      "Requirement already satisfied: torchvision==0.23.0 in /home/ray/anaconda3/lib/python3.12/site-packages (0.23.0)\n",
      "Requirement already satisfied: matplotlib==3.10.6 in /home/ray/anaconda3/lib/python3.12/site-packages (3.10.6)\n",
      "Requirement already satisfied: pyarrow==14.0.2 in /home/ray/anaconda3/lib/python3.12/site-packages (14.0.2)\n",
      "Requirement already satisfied: filelock in /home/ray/anaconda3/lib/python3.12/site-packages (from torch==2.8.0) (3.17.0)\n",
      "Requirement already satisfied: typing-extensions>=4.10.0 in /home/ray/anaconda3/lib/python3.12/site-packages (from torch==2.8.0) (4.12.2)\n",
      "Requirement already satisfied: setuptools in /home/ray/anaconda3/lib/python3.12/site-packages (from torch==2.8.0) (71.1.0)\n",
      "Requirement already satisfied: sympy>=1.13.3 in /home/ray/anaconda3/lib/python3.12/site-packages (from torch==2.8.0) (1.14.0)\n",
      "Requirement already satisfied: networkx in /home/ray/anaconda3/lib/python3.12/site-packages (from torch==2.8.0) (3.5)\n",
      "Requirement already satisfied: jinja2 in /home/ray/anaconda3/lib/python3.12/site-packages (from torch==2.8.0) (3.1.6)\n",
      "Requirement already satisfied: fsspec in /home/ray/anaconda3/lib/python3.12/site-packages (from torch==2.8.0) (2023.5.0)\n",
      "Requirement already satisfied: nvidia-cuda-nvrtc-cu12==12.8.93 in /home/ray/anaconda3/lib/python3.12/site-packages (from torch==2.8.0) (12.8.93)\n",
      "Requirement already satisfied: nvidia-cuda-runtime-cu12==12.8.90 in /home/ray/anaconda3/lib/python3.12/site-packages (from torch==2.8.0) (12.8.90)\n",
      "Requirement already satisfied: nvidia-cuda-cupti-cu12==12.8.90 in /home/ray/anaconda3/lib/python3.12/site-packages (from torch==2.8.0) (12.8.90)\n",
      "Requirement already satisfied: nvidia-cudnn-cu12==9.10.2.21 in /home/ray/anaconda3/lib/python3.12/site-packages (from torch==2.8.0) (9.10.2.21)\n",
      "Requirement already satisfied: nvidia-cublas-cu12==12.8.4.1 in /home/ray/anaconda3/lib/python3.12/site-packages (from torch==2.8.0) (12.8.4.1)\n",
      "Requirement already satisfied: nvidia-cufft-cu12==11.3.3.83 in /home/ray/anaconda3/lib/python3.12/site-packages (from torch==2.8.0) (11.3.3.83)\n",
      "Requirement already satisfied: nvidia-curand-cu12==10.3.9.90 in /home/ray/anaconda3/lib/python3.12/site-packages (from torch==2.8.0) (10.3.9.90)\n",
      "Requirement already satisfied: nvidia-cusolver-cu12==11.7.3.90 in /home/ray/anaconda3/lib/python3.12/site-packages (from torch==2.8.0) (11.7.3.90)\n",
      "Requirement already satisfied: nvidia-cusparse-cu12==12.5.8.93 in /home/ray/anaconda3/lib/python3.12/site-packages (from torch==2.8.0) (12.5.8.93)\n",
      "Requirement already satisfied: nvidia-cusparselt-cu12==0.7.1 in /home/ray/anaconda3/lib/python3.12/site-packages (from torch==2.8.0) (0.7.1)\n",
      "Requirement already satisfied: nvidia-nccl-cu12==2.27.3 in /home/ray/anaconda3/lib/python3.12/site-packages (from torch==2.8.0) (2.27.3)\n",
      "Requirement already satisfied: nvidia-nvtx-cu12==12.8.90 in /home/ray/anaconda3/lib/python3.12/site-packages (from torch==2.8.0) (12.8.90)\n",
      "Requirement already satisfied: nvidia-nvjitlink-cu12==12.8.93 in /home/ray/anaconda3/lib/python3.12/site-packages (from torch==2.8.0) (12.8.93)\n",
      "Requirement already satisfied: nvidia-cufile-cu12==1.13.1.3 in /home/ray/anaconda3/lib/python3.12/site-packages (from torch==2.8.0) (1.13.1.3)\n",
      "Requirement already satisfied: triton==3.4.0 in /home/ray/anaconda3/lib/python3.12/site-packages (from torch==2.8.0) (3.4.0)\n",
      "Requirement already satisfied: numpy in /home/ray/anaconda3/lib/python3.12/site-packages (from torchvision==0.23.0) (1.26.4)\n",
      "Requirement already satisfied: pillow!=8.3.*,>=5.3.0 in /home/ray/anaconda3/lib/python3.12/site-packages (from torchvision==0.23.0) (11.3.0)\n",
      "Requirement already satisfied: contourpy>=1.0.1 in /home/ray/anaconda3/lib/python3.12/site-packages (from matplotlib==3.10.6) (1.3.3)\n",
      "Requirement already satisfied: cycler>=0.10 in /home/ray/anaconda3/lib/python3.12/site-packages (from matplotlib==3.10.6) (0.12.1)\n",
      "Requirement already satisfied: fonttools>=4.22.0 in /home/ray/anaconda3/lib/python3.12/site-packages (from matplotlib==3.10.6) (4.60.0)\n",
      "Requirement already satisfied: kiwisolver>=1.3.1 in /home/ray/anaconda3/lib/python3.12/site-packages (from matplotlib==3.10.6) (1.4.9)\n",
      "Requirement already satisfied: packaging>=20.0 in /home/ray/anaconda3/lib/python3.12/site-packages (from matplotlib==3.10.6) (23.0)\n",
      "Requirement already satisfied: pyparsing>=2.3.1 in /home/ray/anaconda3/lib/python3.12/site-packages (from matplotlib==3.10.6) (3.1.1)\n",
      "Requirement already satisfied: python-dateutil>=2.7 in /home/ray/anaconda3/lib/python3.12/site-packages (from matplotlib==3.10.6) (2.8.2)\n",
      "Requirement already satisfied: six>=1.5 in /home/ray/anaconda3/lib/python3.12/site-packages (from python-dateutil>=2.7->matplotlib==3.10.6) (1.16.0)\n",
      "Requirement already satisfied: mpmath<1.4,>=1.1.0 in /home/ray/anaconda3/lib/python3.12/site-packages (from sympy>=1.13.3->torch==2.8.0) (1.3.0)\n",
      "Requirement already satisfied: MarkupSafe>=2.0 in /home/ray/anaconda3/lib/python3.12/site-packages (from jinja2->torch==2.8.0) (2.1.3)\n"
     ]
    },
    {
     "data": {
      "text/plain": [
       "0"
      ]
     },
     "execution_count": 1,
     "metadata": {},
     "output_type": "execute_result"
    }
   ],
   "source": [
    "# 00. Runtime setup — install same deps as build.sh and set env vars\n",
    "import os, sys, subprocess\n",
    "\n",
    "# Non-secret env var\n",
    "os.environ[\"RAY_TRAIN_V2_ENABLED\"] = \"1\"\n",
    "\n",
    "# Install Python dependencies (\n",
    "subprocess.check_call([\n",
    "    sys.executable, \"-m\", \"pip\", \"install\", \"--no-cache-dir\",\n",
    "    \"torch==2.8.0\",\n",
    "    \"torchvision==0.23.0\",\n",
    "    \"matplotlib==3.10.6\",\n",
    "    \"pyarrow==14.0.2\",\n",
    "])"
   ]
  },
  {
   "cell_type": "code",
   "execution_count": null,
   "metadata": {
    "tags": []
   },
   "outputs": [],
   "source": [
    "# 01. Imports\n",
    "\n",
    "# --- Standard library: file IO, paths, timestamps, temp dirs, cleanup ---\n",
    "import csv            # Simple CSV logging for metrics in single-GPU section\n",
    "import datetime       # Timestamps for run directories / filenames\n",
    "import os             # Filesystem utilities (paths, env vars)\n",
    "import tempfile       # Ephemeral dirs for checkpoint staging with ray.train.report()\n",
    "import shutil         # Cleanup of artifacts (later cells)\n",
    "import gc             # Manual garbage collection to cleanup after inference\n",
    "\n",
    "from pathlib import Path  # Convenient, cross-platform path handling\n",
    "\n",
    "# --- Visualization & data wrangling ---\n",
    "import matplotlib.pyplot as plt  # Plot sample digits and metrics curves\n",
    "from PIL import Image            # Image utilities for inspection/debug\n",
    "import numpy as np               # Numeric helpers (random sampling, arrays)\n",
    "import pandas as pd              # Read metrics.csv into a DataFrame\n",
    "\n",
    "# --- PyTorch & TorchVision (model + dataset) ---\n",
    "import torch\n",
    "from torch.nn import CrossEntropyLoss      # Classification loss for MNIST\n",
    "from torch.optim import Adam               # Optimizer\n",
    "from torchvision.models import resnet18    # Baseline CNN (we’ll adapt for 1-channel input)\n",
    "from torchvision.datasets import MNIST     # Dataset\n",
    "from torchvision.transforms import ToTensor, Normalize, Compose  # Preprocessing pipeline\n",
    "\n",
    "# --- Ray Train (distributed orchestration) ---\n",
    "import ray\n",
    "from ray.train import ScalingConfig, RunConfig      # Configure scale and storage\n",
    "from ray.train.torch import TorchTrainer            # Multi-GPU PyTorch trainer (DDP/FSDP)\n"
   ]
  },
  {
   "cell_type": "markdown",
   "metadata": {},
   "source": [
    "### 02 · Download MNIST Dataset  \n",
    "\n",
    "Next, download the **MNIST dataset** using `torchvision.datasets.MNIST`.  \n",
    "- This will automatically fetch the dataset (if not already present) into a local `./data` directory.  \n",
    "- MNIST consists of **60,000 grayscale images of handwritten digits (0–9)**, each sized **28×28 pixels**.  \n",
    "- By setting `train=True`, we load the training split of the dataset.  \n",
    "\n",
    "Once downloaded, we’ll later wrap this dataset in a `DataLoader` and apply normalization so it can be used for model training."
   ]
  },
  {
   "cell_type": "code",
   "execution_count": null,
   "metadata": {
    "tags": []
   },
   "outputs": [],
   "source": [
    "# 02. Download MNIST Dataset  \n",
    "\n",
    "dataset = MNIST(root=\"/mnt/cluster_storage/data\", train=True, download=True)"
   ]
  },
  {
   "cell_type": "markdown",
   "metadata": {},
   "source": [
    "<div class=\"alert alert-info\">\n",
    "\n",
    "<b>Note about Anyscale storage options</b>\n",
    "\n",
    "In this example, the MNIST dataset is stored under <code>/mnt/cluster_storage/</code>, which is Anyscale’s **persistent cluster storage**.  \n",
    "\n",
    "* Unlike node-local NVMe volumes, cluster storage is **shared across nodes** in your cluster.  \n",
    "* Data written here will **persist across cluster restarts**, making it a safe place for datasets, checkpoints, and results.  \n",
    "* This is the recommended location for training data and artifacts you want to reuse.  \n",
    "\n",
    "* Anyscale also provides each node with its own volume and disk and doesn’t share them with other nodes.\n",
    "* Local storage is very fast - Anyscale supports the Non-Volatile Memory Express (NVMe) interface.\n",
    "* Local storage is not a persisent storage, Anyscale deletes data in the local storage after instances are terminated. \n",
    "\n",
    "Read more about available <a href=\"https://docs.anyscale.com/configuration/storage\" target=\"_blank\">storage</a> options.\n",
    "</div>"
   ]
  },
  {
   "cell_type": "markdown",
   "metadata": {},
   "source": [
    "### 03 · Visualize Sample Digits  \n",
    "\n",
    "Before training, let’s take a quick look at the dataset.  \n",
    "- We’ll randomly sample **9 images** from the MNIST training set.  \n",
    "- Each image is a **28×28 grayscale digit**, with its ground-truth label shown above the plot.  \n",
    "- This simple visualization is a good sanity check to confirm that the dataset downloaded correctly and that labels align with the images.  "
   ]
  },
  {
   "cell_type": "code",
   "execution_count": null,
   "metadata": {
    "tags": []
   },
   "outputs": [],
   "source": [
    "# 03. Visualize Sample Digits\n",
    "\n",
    "# Create a square figure for plotting 9 samples (3x3 grid)\n",
    "figure = plt.figure(figsize=(8, 8))\n",
    "cols, rows = 3, 3\n",
    "\n",
    "# Loop through grid slots and plot a random digit each time\n",
    "for i in range(1, cols * rows + 1):\n",
    "    # Randomly select an index from the dataset\n",
    "    sample_idx = np.random.randint(0, len(dataset.data))\n",
    "    img, label = dataset[sample_idx]  # image (PIL) and its digit label\n",
    "    \n",
    "    # Add subplot to the figure\n",
    "    figure.add_subplot(rows, cols, i)\n",
    "    plt.title(label)         # show the digit label above each subplot\n",
    "    plt.axis(\"off\")          # remove axes for cleaner visualization\n",
    "    plt.imshow(img, cmap=\"gray\")  # display as grayscale image"
   ]
  },
  {
   "cell_type": "markdown",
   "metadata": {},
   "source": [
    "### 04 · Define ResNet-18 Model for MNIST  \n",
    "\n",
    "Now let’s define the **ResNet-18** architecture we’ll use for classification.  \n",
    "\n",
    "- `torchvision.models.resnet18` is preconfigured for **3-channel RGB input** and **ImageNet classes**.  \n",
    "- Since MNIST digits are **1-channel grayscale** images with **10 output classes**, we need two adjustments:  \n",
    "  1. Override the first convolution layer (`conv1`) to accept **`in_channels=1`**.  \n",
    "  2. Set the final layer to output **10 logits**, one per digit class (handled by `num_classes=10`).  \n",
    "\n",
    "This gives us a ResNet-18 tailored for MNIST while preserving the rest of the architecture."
   ]
  },
  {
   "cell_type": "code",
   "execution_count": null,
   "metadata": {},
   "outputs": [],
   "source": [
    "# 04. Define ResNet-18 Model for MNIST\n",
    "\n",
    "def build_resnet18():\n",
    "    # Start with a torchvision ResNet-18 backbone\n",
    "    # Set num_classes=10 since MNIST has digits 0–9\n",
    "    model = resnet18(num_classes=10)\n",
    "\n",
    "    # Override the first convolution layer:\n",
    "    # - Default expects 3 channels (RGB images)\n",
    "    # - MNIST is grayscale → only 1 channel\n",
    "    # - Keep kernel size/stride/padding consistent with original ResNet\n",
    "    model.conv1 = torch.nn.Conv2d(\n",
    "        in_channels=1,   # input = grayscale\n",
    "        out_channels=64, # number of filters remains the same as original ResNet\n",
    "        kernel_size=(7, 7),\n",
    "        stride=(2, 2),\n",
    "        padding=(3, 3),\n",
    "        bias=False,\n",
    "    )\n",
    "\n",
    "    # Return the customized ResNet-18\n",
    "    return model"
   ]
  },
  {
   "cell_type": "markdown",
   "metadata": {},
   "source": [
    "<div class=\"alert alert-block alert-info\">\n",
    "\n",
    "<b>Migration roadmap: from standalone PyTorch to PyTorch with Ray Train</b>  \n",
    "\n",
    "The following are the steps to take a **regular PyTorch training loop** and run it in a **fully distributed setup with Ray Train**.  \n",
    "\n",
    "<ol>\n",
    "    <li><b>Configure scale and GPUs</b> — decide how many workers and whether each should use a GPU.</li>\n",
    "    <li><b>Wrap the model with Ray Train</b> — use <code>prepare_model()</code> to move the ResNet to the right device and wrap it in DDP automatically.</li>\n",
    "    <li><b>Wrap the dataset with Ray Train</b> — use <code>prepare_data_loader()</code> so each worker gets a distinct shard of MNIST, moved to the correct device.</li>\n",
    "    <li><b>Add metrics & checkpointing</b> — report training loss and save checkpoints with <code>ray.train.report()</code> from rank-0.</li>\n",
    "    <li><b>Configure persistent storage</b> — store outputs under <code>/mnt/cluster_storage/</code> so that results and checkpoints are available across the cluster.</li>\n",
    "</ol>\n",
    "\n",
    "</div>\n"
   ]
  },
  {
   "cell_type": "markdown",
   "metadata": {},
   "source": [
    "Ray Train is built around [four key concepts](https://docs.ray.io/en/latest/train/overview.html):\n",
    "1. **Training function**: (implemented above `train_loop_ray_train`): A Python function that contains your model training logic.\n",
    "1. **Worker**: A process that runs the training function.\n",
    "1. **Scaling config**: specifices number of workers and compute resources (CPUs or GPUs, TPUs).\n",
    "1. **Trainer**: A Python class (Ray Actor) that ties together the training function, workers, and scaling configuration to execute a distributed training job."
   ]
  },
  {
   "cell_type": "markdown",
   "metadata": {},
   "source": [
    "|<img src=\"https://docs.ray.io/en/latest/_images/overview.png\" width=\"60%\" loading=\"lazy\">|\n",
    "|:--|\n",
    "|High-level architecture of how Ray Train|"
   ]
  },
  {
   "cell_type": "markdown",
   "metadata": {},
   "source": [
    "### 05 · Define the Ray Train Loop (DDP per-worker)\n",
    "\n",
    "This is the **per-worker training function** that Ray executes on each process/GPU. It keeps your PyTorch code intact while Ray handles **process launch, device placement, and data sharding**.\n",
    "\n",
    "Key points:\n",
    "- **Inputs via `config`**: we pass hyperparameters like `num_epochs` and a **`global_batch_size`**.\n",
    "- **Model & optimizer**: `load_model_ray_train()` returns a model already wrapped by Ray Train (DDP + correct device). We use `Adam` and `CrossEntropyLoss` for MNIST.\n",
    "- **Batch sizing**: we split the global batch across workers:  \n",
    "  `per_worker_batch = global_batch_size // world_size`.\n",
    "- **Data sharding**: `build_data_loader_ray_train(...)` returns a DataLoader wrapped with a **DistributedSampler**; each worker sees a disjoint shard.\n",
    "- **Epoch control**: `data_loader.sampler.set_epoch(epoch)` ensures proper shuffling across epochs in distributed mode.\n",
    "- **Training step**: standard PyTorch loop—forward → loss → zero_grad → backward → step.\n",
    "- **Metrics & checkpointing**: `print_metrics_ray_train(...)` logs loss; `save_checkpoint_and_metrics_ray_train(...)` calls `ray.train.report(...)` (rank-0 saves the checkpoint).\n",
    "\n",
    "This function is passed to `TorchTrainer`, which runs it **concurrently on all workers**."
   ]
  },
  {
   "cell_type": "markdown",
   "metadata": {},
   "source": [
    "Let's see how this data-parallel training loop will look like with Ray Train and PyTorch."
   ]
  },
  {
   "cell_type": "code",
   "execution_count": null,
   "metadata": {},
   "outputs": [],
   "source": [
    "# 05. Define the Ray Train per-worker training loop\n",
    "\n",
    "def train_loop_ray_train(config: dict):  # pass in hyperparameters in config\n",
    "    # config holds hyperparameters passed from TorchTrainer (e.g. num_epochs, global_batch_size)\n",
    "\n",
    "    # Define loss function for MNIST classification\n",
    "    criterion = CrossEntropyLoss()\n",
    "\n",
    "    # Build and prepare the model for distributed training.\n",
    "    # load_model_ray_train() calls ray.train.torch.prepare_model()\n",
    "    # → moves model to GPU and wraps it in DistributedDataParallel (DDP).\n",
    "    model = load_model_ray_train()\n",
    "\n",
    "    # Standard optimizer (learning rate fixed for demo)\n",
    "    optimizer = Adam(model.parameters(), lr=1e-5)\n",
    "\n",
    "    # Calculate the batch size for each worker\n",
    "    global_batch_size = config[\"global_batch_size\"]\n",
    "    world_size = ray.train.get_context().get_world_size()  # total # of workers in the job\n",
    "    batch_size = global_batch_size // world_size  # split global batch evenly\n",
    "    print(f\"{world_size=}\\n{batch_size=}\")\n",
    "\n",
    "    # Wrap DataLoader with prepare_data_loader()\n",
    "    # → applies DistributedSampler (shards data across workers)\n",
    "    # → ensures batches are automatically moved to correct device\n",
    "    data_loader = build_data_loader_ray_train(batch_size=batch_size)\n",
    "\n",
    "    # ----------------------- Training loop ----------------------- #\n",
    "    for epoch in range(config[\"num_epochs\"]):\n",
    "\n",
    "        # Ensure each worker shuffles its shard differently every epoch\n",
    "        data_loader.sampler.set_epoch(epoch)\n",
    "\n",
    "        # Iterate over batches (sharded across workers)\n",
    "        for images, labels in data_loader:\n",
    "            outputs = model(images)            # forward pass\n",
    "            loss = criterion(outputs, labels)  # compute loss\n",
    "            optimizer.zero_grad()              # reset gradients\n",
    "\n",
    "            loss.backward()   # backward pass (grads averaged across workers via DDP)\n",
    "            optimizer.step()  # update model weights\n",
    "\n",
    "        # After each epoch: report loss and log metrics\n",
    "        metrics = print_metrics_ray_train(loss, epoch)\n",
    "\n",
    "        # Save checkpoint (only rank-0 worker persists the model)\n",
    "        save_checkpoint_and_metrics_ray_train(model, metrics)"
   ]
  },
  {
   "cell_type": "markdown",
   "metadata": {},
   "source": [
    "<div class=\"alert alert-block alert-info\">\n",
    "\n",
    "<b>Main training loop</b>\n",
    "<ul>\n",
    "  <li><strong>global_batch_size</strong>: the total number of samples processed in a single training step of the entire training job.\n",
    "    <ul>\n",
    "      <li>It's estimated like this: <code>batch size * DDP workers * gradient accumulation steps</code>.</li>\n",
    "    </ul>\n",
    "  </li>\n",
    "  <li>Notice that images and labels are no longer manually moved to device (<code>images.to(\"cuda\")</code>). This is done by \n",
    "    <a href=\"https://docs.ray.io/en/latest/train/api/doc/ray.train.torch.prepare_data_loader.html#ray-train-torch-prepare-data-loader\" target=\"_blank\">\n",
    "      prepare_data_loader()\n",
    "    </a>.\n",
    "  </li>\n",
    "  <li>Config that will be passed here, is defined below. It will be passed to the Ray Train's <a href=\"https://docs.ray.io/en/latest/train/api/doc/ray.train.torch.TorchTrainer.html#ray-train-torch-torchtrainer\" target=\"_blank\">TorchTrainer</a>.</li>\n",
    "  <li>\n",
    "    <a href=\"https://docs.ray.io/en/latest/train/api/doc/ray.train.v2.api.context.TrainContext.html#ray-train-v2-api-context-traincontext\" target=\"_blank\">\n",
    "      TrainContext\n",
    "    </a> lets users get useful information about the training i.e. node rank, world size, world rank, experiment name.\n",
    "  </li>\n",
    "\n",
    "  <li><code>load_model_ray_train</code> and <code>build_data_loader_ray_train</code> are implemented below.</li>\n",
    "</ul>\n",
    "</div>"
   ]
  },
  {
   "cell_type": "markdown",
   "metadata": {},
   "source": [
    "### 06 · Define `train_loop_config`  \n",
    "\n",
    "The `train_loop_config` is a simple **dictionary of hyperparameters** that Ray passes into your training loop (`train_loop_ray_train`).  \n",
    "\n",
    "- It acts as the **bridge between the `TorchTrainer` and your per-worker training code**.  \n",
    "- Anything defined here becomes available inside the `config` argument of `train_loop_ray_train`.  \n",
    "\n",
    "In this example we define:  \n",
    "- **`num_epochs`** → how many full passes through the dataset to run.  \n",
    "- **`global_batch_size`** → the total batch size across all workers (Ray will split this evenly across GPUs).  \n",
    "\n",
    "You can add other parameters here (like `learning_rate`, `embedding_dim`, etc.) and they’ll automatically be accessible in your training loop via `config[\"param_name\"]`.  \n"
   ]
  },
  {
   "cell_type": "code",
   "execution_count": null,
   "metadata": {},
   "outputs": [],
   "source": [
    "# 06. Define the configuration dictionary passed into the training loop\n",
    "\n",
    "# train_loop_config is provided to TorchTrainer and injected into\n",
    "# train_loop_ray_train(config) as the \"config\" argument.\n",
    "# → Any values defined here are accessible inside the training loop.\n",
    "\n",
    "train_loop_config = {\n",
    "    \"num_epochs\": 2,           # Number of full passes through the dataset\n",
    "    \"global_batch_size\": 128   # Effective batch size across ALL workers\n",
    "                               # (Ray will split this evenly per worker, e.g.\n",
    "                               # with 8 workers → 16 samples/worker/step)\n",
    "}\n"
   ]
  },
  {
   "cell_type": "markdown",
   "metadata": {},
   "source": [
    "### 07 · Configure Scaling with `ScalingConfig`  \n",
    "\n",
    "The `ScalingConfig` tells Ray Train **how many workers to launch** and **what resources each worker should use**.  \n",
    "\n",
    "- **`num_workers=8`** → Run the training loop on 8 parallel workers. Each worker runs the same code on a different shard of the data.  \n",
    "- **`use_gpu=True`** → Assign one GPU per worker. If you set this to `False`, each worker would train on CPU instead.  \n",
    "\n",
    "This declarative config is what allows Ray to handle cluster orchestration for you — you don’t need to manually start processes or set CUDA devices.  \n",
    "\n",
    "Later, we’ll pass this `scaling_config` into the `TorchTrainer` to launch distributed training.  "
   ]
  },
  {
   "cell_type": "code",
   "execution_count": null,
   "metadata": {},
   "outputs": [],
   "source": [
    "# 07. Configure the scaling of the training job\n",
    "\n",
    "# ScalingConfig defines how many parallel training workers Ray should launch\n",
    "# and whether each worker should be assigned a GPU or CPU.Z\n",
    "# → Each worker runs train_loop_ray_train(config) independently,\n",
    "#    with Ray handling synchronization via DDP under the hood.\n",
    "\n",
    "scaling_config = ScalingConfig(\n",
    "    num_workers=8,   # Launch 8 training workers (1 process per worker)\n",
    "    use_gpu=True     # Allocate 1 GPU to each worker\n",
    ")"
   ]
  },
  {
   "cell_type": "markdown",
   "metadata": {},
   "source": [
    "<div class=\"alert alert-block alert-info\">\n",
    "\n",
    "Docs on <a href=\"https://docs.ray.io/en/latest/train/api/doc/ray.train.ScalingConfig.html#ray-train-scalingconfig\" target=\"_blank\">ScalingConfig</a> can be found with the link in this sentence.\n",
    "\n",
    "See docs on configuring <a href=\"https://docs.ray.io/en/latest/train/user-guides/using-gpus.html\" target=\"_blank\">scale and GPUs</a> for more details.\n",
    "</div>"
   ]
  },
  {
   "cell_type": "markdown",
   "metadata": {},
   "source": [
    "### 08 · Wrap the Model with `prepare_model()`  \n",
    "\n",
    "Next, we define a helper function to build and prepare the model for Ray Train.  \n",
    "\n",
    "- Start by constructing the **ResNet-18** model adapted for MNIST using `build_resnet18()`.  \n",
    "- Instead of manually calling `model.to(\"cuda\")` and wrapping it in **DistributedDataParallel (DDP)**, we use **`ray.train.torch.prepare_model()`**.  \n",
    "  * This automatically:  \n",
    "    - Moves the model to the correct device (GPU or CPU).  \n",
    "    - Wraps it in DDP or FSDP.  \n",
    "    - Ensures gradients are synchronized across workers.  \n",
    "\n",
    "This means the same code works whether you’re training on **1 GPU or 100 GPUs** — no manual device placement or DDP boilerplate required.  \n"
   ]
  },
  {
   "cell_type": "code",
   "execution_count": null,
   "metadata": {},
   "outputs": [],
   "source": [
    "# 08. Build and prepare the model for Ray Train\n",
    "\n",
    "def load_model_ray_train() -> torch.nn.Module:\n",
    "    model = build_resnet18()\n",
    "    # prepare_model() → move to correct device + wrap in DDP automatically\n",
    "    model = ray.train.torch.prepare_model(model)\n",
    "    return model\n"
   ]
  },
  {
   "cell_type": "markdown",
   "metadata": {},
   "source": [
    "<div class=\"alert alert-block alert-info\">\n",
    "  <a href=\"https://docs.ray.io/en/latest/train/api/doc/ray.train.torch.prepare_model.html#ray-train-torch-prepare-model\" target=\"_blank\">\n",
    "    prepare_model()\n",
    "  </a> allows users to specify additional parameters:\n",
    "  <ul>\n",
    "    <li><code>parallel_strategy</code>: \"ddp\", \"fsdp\" – wrap models in <code>DistributedDataParallel</code> or <code>FullyShardedDataParallel</code></li>\n",
    "    <li><code>parallel_strategy_kwargs</code>: pass additional arguments to \"ddp\" or \"fsdp\"</li>\n",
    "  </ul>\n",
    "  \n",
    "</div>"
   ]
  },
  {
   "cell_type": "markdown",
   "metadata": {},
   "source": [
    "### 09 · Build the DataLoader with `prepare_data_loader()`  \n",
    "\n",
    "Now let’s define a helper that builds the **MNIST DataLoader** and makes it Ray Train–ready.  \n",
    "\n",
    "- Apply standard preprocessing:  \n",
    "  * `ToTensor()` → convert PIL images to PyTorch tensors  \n",
    "  * `Normalize((0.5,), (0.5,))` → center and scale pixel values  \n",
    "\n",
    "- Construct a PyTorch `DataLoader` with batching and shuffling.  \n",
    "\n",
    "- Finally, wrap it with [`prepare_data_loader()`](https://docs.ray.io/en/latest/train/api/doc/ray.train.torch.prepare_data_loader.html#ray-train-torch-prepare-data-loader), which automatically:  \n",
    "  * Moves each batch to the correct device (GPU or CPU).  \n",
    "  * Copies data from host memory to device memory as needed.  \n",
    "  * Injects a PyTorch [`DistributedSampler`](https://pytorch.org/docs/stable/data.html#torch.utils.data.distributed.DistributedSampler) when running with multiple workers, so that each worker processes a unique shard of the dataset.  \n",
    "\n",
    "This utility lets you use the **same DataLoader code** whether you’re training on one GPU or many — Ray handles the distributed sharding and device placement for you.  "
   ]
  },
  {
   "cell_type": "code",
   "execution_count": null,
   "metadata": {},
   "outputs": [],
   "source": [
    "# 09. Build a Ray Train–ready DataLoader for MNIST\n",
    "\n",
    "def build_data_loader_ray_train(batch_size: int) -> torch.utils.data.DataLoader:\n",
    "    # Define preprocessing: convert to tensor + normalize pixel values\n",
    "    transform = Compose([ToTensor(), Normalize((0.5,), (0.5,))])\n",
    "    # Load the MNIST training set from persistent cluster storage\n",
    "    train_data = MNIST(\n",
    "        root=\"/mnt/cluster_storage/data\",\n",
    "        train=True,\n",
    "        download=True,\n",
    "        transform=transform,\n",
    "    )\n",
    "\n",
    "    # Standard PyTorch DataLoader (batching, shuffling, drop last incomplete batch)\n",
    "    train_loader = torch.utils.data.DataLoader(train_data, batch_size=batch_size, shuffle=True, drop_last=True)\n",
    "\n",
    "    # prepare_data_loader():\n",
    "    # - Adds a DistributedSampler when using multiple workers\n",
    "    # - Moves batches to the correct device automatically\n",
    "    train_loader = ray.train.torch.prepare_data_loader(train_loader)\n",
    "    \n",
    "    return train_loader"
   ]
  },
  {
   "cell_type": "markdown",
   "metadata": {},
   "source": [
    "<div class=\"alert alert-block alert-warning\">\n",
    "\n",
    "<b>Ray Data integration</b>\n",
    "\n",
    "This step isn't necessary if you are integrating your Ray Train workload with Ray Data. It's especially useful if preprocessing is CPU-heavly and user wants to run preprocessing and training of separate instances.\n",
    "</div>"
   ]
  },
  {
   "cell_type": "markdown",
   "metadata": {
    "tags": []
   },
   "source": [
    "### 10 · Report Training Metrics  \n",
    "\n",
    "During training, it’s important to log metrics like loss values so you can monitor progress.  \n",
    "\n",
    "This helper function prints metrics from **every worker**:  \n",
    "- Collects the current **loss** and **epoch** into a dictionary.  \n",
    "- Uses `ray.train.get_context().get_world_rank()` to identify which worker is reporting.  \n",
    "- Prints the metrics along with the worker’s rank for debugging and visibility.   "
   ]
  },
  {
   "cell_type": "code",
   "execution_count": null,
   "metadata": {},
   "outputs": [],
   "source": [
    "# 10. Report training metrics from each worker\n",
    "\n",
    "def print_metrics_ray_train(loss: torch.Tensor, epoch: int) -> None:\n",
    "    metrics = {\"loss\": loss.item(), \"epoch\": epoch}  \n",
    "    world_rank = ray.train.get_context().get_world_rank() # report from all workers\n",
    "    print(f\"{metrics=} {world_rank=}\")\n",
    "    return metrics"
   ]
  },
  {
   "cell_type": "markdown",
   "metadata": {},
   "source": [
    "<div class=\"alert alert-block alert-info\">\n",
    "\n",
    "If you want to log only from the rank 0 worker, use this code:\n",
    "\n",
    "```python\n",
    "def print_metrics_ray_train(loss: torch.Tensor, epoch: int) -> None:\n",
    "    metrics = {\"loss\": loss.item(), \"epoch\": epoch}\n",
    "    if ray.train.get_context().get_world_rank() == 0:  # report only from the rank 0 worker\n",
    "        print(f\"{metrics=} {world_rank=}\")\n",
    "    return metrics\n",
    "```\n",
    "\n",
    "</div>"
   ]
  },
  {
   "cell_type": "markdown",
   "metadata": {},
   "source": [
    "### 11 · Save Checkpoints and Report Metrics  \n",
    "\n",
    "We will report intermediate metrics and checkpoints using the [`ray.train.report`](https://docs.ray.io/en/latest/train/api/doc/ray.train.report.html#ray-train-report) utility function.  \n",
    "\n",
    "This helper function:  \n",
    "- Creates a temporary directory to stage the checkpoint.  \n",
    "- Saves the model weights with `torch.save()`.  \n",
    "  * Since the model is wrapped in **DistributedDataParallel (DDP)**, we call `model.module.state_dict()` to unwrap it.  \n",
    "- Calls `ray.train.report()` to:  \n",
    "  * Log the current metrics (e.g., loss, epoch).  \n",
    "  * Attach a `Checkpoint` object created from the staged directory.  \n",
    "\n",
    "This way, each epoch produces both **metrics for monitoring** and a **checkpoint for recovery or inference**.  "
   ]
  },
  {
   "cell_type": "code",
   "execution_count": null,
   "metadata": {},
   "outputs": [],
   "source": [
    "# 11. Save checkpoint and report metrics with Ray Train\n",
    "\n",
    "def save_checkpoint_and_metrics_ray_train(model: torch.nn.Module, metrics: dict[str, float]) -> None:\n",
    "    # Create a temporary directory to stage checkpoint files\n",
    "    with tempfile.TemporaryDirectory() as temp_checkpoint_dir:\n",
    "        # Save the model weights.\n",
    "        # Note: under DDP the model is wrapped in DistributedDataParallel,\n",
    "        # so we unwrap it with `.module` before calling state_dict().        \n",
    "        torch.save(\n",
    "            model.module.state_dict(),  # note the `.module` to unwrap the DistributedDataParallel\n",
    "            os.path.join(temp_checkpoint_dir, \"model.pt\"),\n",
    "        )\n",
    "        \n",
    "        # Report metrics and attach a checkpoint to Ray Train.\n",
    "        # → metrics are logged centrally\n",
    "        # → checkpoint allows resuming training or running inference later\n",
    "        ray.train.report(\n",
    "            metrics,\n",
    "            checkpoint=ray.train.Checkpoint.from_directory(temp_checkpoint_dir),\n",
    "        )"
   ]
  },
  {
   "cell_type": "markdown",
   "metadata": {},
   "source": [
    "<div class=\"alert alert-block alert-info\">\n",
    "  <p><strong>Quick notes:</strong></p>\n",
    "  <ul>\n",
    "    <li>\n",
    "      Use \n",
    "      <a href=\"https://docs.ray.io/en/latest/train/api/doc/ray.train.report.html#ray.train.report\" target=\"_blank\">\n",
    "        ray.train.report\n",
    "      </a> to save the metrics and checkpoint.\n",
    "    </li>\n",
    "    <li>Only metrics from the rank 0 worker are reported.</li>\n",
    "  </ul>\n",
    "</div>"
   ]
  },
  {
   "cell_type": "markdown",
   "metadata": {},
   "source": [
    "### Note on the Checkpoint Lifecycle  \n",
    "\n",
    "The diagram above shows how a checkpoint moves from **local storage** (temporary directory on a worker) to **persistent cluster or cloud storage**.  \n",
    "\n",
    "Key points to remember:  \n",
    "- Since the model is identical across all workers, it’s enough to **write the checkpoint only on the rank-0 worker**.  \n",
    "  * However, you still need to call [`ray.train.report`](https://docs.ray.io/en/latest/train/api/doc/ray.train.report.html#ray-train-report) on **all workers** to keep the training loop synchronized.  \n",
    "- Ray Train expects every worker to have access to the **same persistent storage location** for writing files.  \n",
    "- For production jobs, **cloud storage** (e.g., S3, GCS, Azure Blob) is the recommended target for checkpoints.  \n",
    "\n",
    "\n",
    "<img src=\"https://docs.ray.io/en/latest/_images/checkpoint_lifecycle.png\" width=800>\n"
   ]
  },
  {
   "cell_type": "markdown",
   "metadata": {},
   "source": [
    "### 12 · Save Checkpoints on Rank-0 Only  \n",
    "\n",
    "To avoid redundant writes, we update the checkpointing function so that **only the rank-0 worker** saves the model weights.  \n",
    "\n",
    "- **Temporary directory** → Each worker still creates a temp directory, but only rank-0 writes the model file.  \n",
    "- **Rank check** → `ray.train.get_context().get_world_rank()` ensures that only worker 0 performs the checkpointing.  \n",
    "- **All workers report** → Every worker still calls [`ray.train.report`](https://docs.ray.io/en/latest/train/api/doc/ray.train.report.html#ray-train-report), but only rank-0 attaches the actual checkpoint. This keeps the training loop synchronized.  \n",
    "\n",
    "This pattern is the recommended best practice:  \n",
    "- Avoids unnecessary duplicate checkpoints from multiple workers.  \n",
    "- Still guarantees that metrics are reported from every worker.  \n",
    "- Ensures checkpoints are cleanly written once per epoch to persistent storage.  "
   ]
  },
  {
   "cell_type": "code",
   "execution_count": null,
   "metadata": {},
   "outputs": [],
   "source": [
    "# 12. Save checkpoint only from the rank-0 worker\n",
    "\n",
    "def save_checkpoint_and_metrics_ray_train(model: torch.nn.Module, metrics: dict[str, float]) -> None:\n",
    "    with tempfile.TemporaryDirectory() as temp_checkpoint_dir:\n",
    "        checkpoint = None\n",
    "\n",
    "        # Only the rank-0 worker writes the checkpoint file\n",
    "        if ray.train.get_context().get_world_rank() == 0:\n",
    "            torch.save(\n",
    "                model.module.state_dict(),  # unwrap DDP before saving\n",
    "                os.path.join(temp_checkpoint_dir, \"model.pt\"),\n",
    "            )\n",
    "            checkpoint = ray.train.Checkpoint.from_directory(temp_checkpoint_dir)\n",
    "\n",
    "        # All workers still call ray.train.report()\n",
    "        # → keeps training loop synchronized\n",
    "        # → metrics are logged from each worker\n",
    "        # → only rank-0 attaches a checkpoint\n",
    "        ray.train.report(\n",
    "            metrics,\n",
    "            checkpoint=checkpoint,\n",
    "        )\n"
   ]
  },
  {
   "cell_type": "markdown",
   "metadata": {},
   "source": [
    "Check our guide on [saving and loading checkpoints](https://docs.ray.io/en/latest/train/user-guides/checkpoints.html) for more details and best practices."
   ]
  },
  {
   "cell_type": "markdown",
   "metadata": {},
   "source": [
    "### 13 · Configure Persistent Storage with `RunConfig`  \n",
    "\n",
    "To tell Ray Train **where to store results, checkpoints, and logs**, we use a [`RunConfig`](https://docs.ray.io/en/latest/train/api/doc/ray.train.RunConfig.html).  \n",
    "\n",
    "- **`storage_path`** → Base directory for all outputs of this training run.  \n",
    "  * In this example we use `/mnt/cluster_storage/training/`, which is **persistent shared storage** across all nodes.  \n",
    "  * This ensures checkpoints and metrics remain available even after the cluster shuts down.  \n",
    "- **`name`** → A human-readable name for the run (e.g., `\"distributed-mnist-resnet18\"`). This is used to namespace output files.  \n",
    "\n",
    "Together, the `RunConfig` defines how Ray organizes and persists all artifacts from your training job.  "
   ]
  },
  {
   "cell_type": "code",
   "execution_count": null,
   "metadata": {},
   "outputs": [],
   "source": [
    "# 13. Configure persistent storage and run name\n",
    "\n",
    "storage_path = \"/mnt/cluster_storage/training/\"\n",
    "run_config = RunConfig(\n",
    "    storage_path=storage_path,         # where to store checkpoints/logs\n",
    "    name=\"distributed-mnist-resnet18\"  # identifier for this run\n",
    ")"
   ]
  },
  {
   "cell_type": "markdown",
   "metadata": {},
   "source": [
    "### Distributed Data-Parallel Training with Ray Train  \n",
    "\n",
    "This diagram shows the same DDP workflow as before, but now with **Ray Train utilities** highlighted:  \n",
    "\n",
    "1. **`ray.train.torch.prepare_data_loader()`**  \n",
    "   - Automatically wraps your PyTorch DataLoader with a `DistributedSampler`.  \n",
    "   - Ensures each worker processes a unique shard of the dataset.  \n",
    "   - Moves batches to the correct device (GPU or CPU).  \n",
    "\n",
    "2. **`ray.train.torch.prepare_model()`**  \n",
    "   - Moves your model to the right device.  \n",
    "   - Wraps it in `DistributedDataParallel (DDP)` so gradients are synchronized across workers.  \n",
    "   - Removes the need for manual `.to(\"cuda\")` calls or DDP boilerplate.  \n",
    "\n",
    "3. **`ray.train.report()`**  \n",
    "   - Centralized way to report metrics and attach checkpoints.  \n",
    "   - Keeps the training loop synchronized across all workers, even if only rank-0 saves the actual checkpoint.  \n",
    "\n",
    "By combining these helpers, Ray Train takes care of the **data sharding, model replication, gradient synchronization, and checkpoint lifecycle** — letting you keep your training loop clean and close to standard PyTorch.  \n"
   ]
  },
  {
   "cell_type": "markdown",
   "metadata": {},
   "source": [
    "|<img src=\"https://anyscale-public-materials.s3.us-west-2.amazonaws.com/ray-ai-libraries/diagrams/multi_gpu_pytorch_annotated_v5.png\" width=\"70%\" loading=\"lazy\">|\n",
    "|:--|\n",
    "||"
   ]
  },
  {
   "cell_type": "markdown",
   "metadata": {},
   "source": [
    "### 14 · Create the `TorchTrainer`  \n",
    "\n",
    "Now we bring everything together with a [`TorchTrainer`](https://docs.ray.io/en/latest/train/api/doc/ray.train.torch.TorchTrainer.html).  \n",
    "\n",
    "The `TorchTrainer` is the high-level Ray Train class that:  \n",
    "- Launches the per-worker training loop (`train_loop_ray_train`) across the cluster.  \n",
    "- Applies the scaling setup from `scaling_config` (number of workers, GPUs/CPUs).  \n",
    "- Uses `run_config` to decide where results and checkpoints are stored.  \n",
    "- Passes `train_loop_config` (hyperparameters like `num_epochs` and `global_batch_size`) into the training loop.  \n",
    "\n",
    "This object encapsulates the **distributed orchestration**, so you can start training with a simple call to `trainer.fit()`.  "
   ]
  },
  {
   "cell_type": "code",
   "execution_count": null,
   "metadata": {},
   "outputs": [],
   "source": [
    "# 14. Set up the TorchTrainer\n",
    "\n",
    "trainer = TorchTrainer(\n",
    "    train_loop_ray_train,          # training loop to run on each worker\n",
    "    scaling_config=scaling_config, # number of workers and resource config\n",
    "    run_config=run_config,         # storage path + run name for artifacts\n",
    "    train_loop_config=train_loop_config,  # hyperparameters passed to the loop\n",
    ")"
   ]
  },
  {
   "cell_type": "markdown",
   "metadata": {},
   "source": [
    "### 15 · Launch Training with `trainer.fit()`  \n",
    "\n",
    "Calling `trainer.fit()` starts the distributed training job and blocks until it completes.  \n",
    "\n",
    "When the job launches, you’ll see logs that confirm:  \n",
    "- **Process group setup** → Ray initializes a distributed worker group and assigns ranks (e.g., `world_rank=0` and `world_rank=1`).  \n",
    "- **Worker placement** → Each worker is launched on a specific node and device. The logs show IP addresses, process IDs, and rank assignments.  \n",
    "- **Model preparation** → Each worker moves the model to its GPU (`cuda:0`) and wraps it in **DistributedDataParallel (DDP)**.  \n",
    "\n",
    "These logs are a quick sanity check that Ray Train is correctly orchestrating multi-GPU training across your cluster.  "
   ]
  },
  {
   "cell_type": "markdown",
   "metadata": {},
   "source": [
    "|<img src=\"https://assets-training.s3.us-west-2.amazonaws.com/ray-intro/ray-train-intro-logs.png\" width=\"80%\" loading=\"lazy\">|\n",
    "|:--|\n",
    "||"
   ]
  },
  {
   "cell_type": "code",
   "execution_count": null,
   "metadata": {},
   "outputs": [],
   "source": [
    "# 15. Launch distributed training\n",
    "\n",
    "# trainer.fit() starts the training job:\n",
    "# - Spawns workers according to scaling_config\n",
    "# - Runs train_loop_ray_train() on each worker\n",
    "# - Collects metrics and checkpoints into result\n",
    "result = trainer.fit()"
   ]
  },
  {
   "cell_type": "markdown",
   "metadata": {},
   "source": [
    "### 16 · Inspect the Training Results  \n",
    "\n",
    "When `trainer.fit()` finishes, it returns a [`Result`](https://docs.ray.io/en/latest/train/api/doc/ray.train.Result.html) object.  \n",
    "\n",
    "This object contains:  \n",
    "- **Final metrics** → the most recent values reported from the training loop (e.g., loss at the last epoch).  \n",
    "- **Checkpoint** → a reference to the latest saved checkpoint, including its path in cluster storage.  \n",
    "- **Metrics dataframe** → a history of all reported metrics across epochs (accessible with `result.metrics_dataframe`).  \n",
    "- **Best checkpoints** → Ray automatically tracks checkpoints associated with their reported metrics.  \n",
    "\n",
    "In the output above, you can see:  \n",
    "- The final reported loss at epoch 1.  \n",
    "- The location where checkpoints are stored (`/mnt/cluster_storage/training/distributed-mnist-resnet18/...`).  \n",
    "- A list of best checkpoints with their corresponding metrics.  \n",
    "\n",
    "This makes it easy to both **analyze training performance** and **restore the trained model** later for inference.  "
   ]
  },
  {
   "cell_type": "code",
   "execution_count": null,
   "metadata": {},
   "outputs": [],
   "source": [
    "# 16. Show the training results  \n",
    "\n",
    "result  # contains metrics, checkpoints, and run history"
   ]
  },
  {
   "cell_type": "markdown",
   "metadata": {},
   "source": [
    "### 17 · View Metrics as a DataFrame  \n",
    "\n",
    "The `Result` object also includes a `metrics_dataframe`, which stores the full history of metrics reported during training.  \n",
    "\n",
    "- Each row corresponds to one reporting step (here, each epoch).  \n",
    "- The columns show the metrics you logged in the training loop (e.g., `loss`, `epoch`).  \n",
    "- This makes it easy to plot learning curves or further analyze training progress.  \n",
    "\n",
    "In the example below, you can see the training loss steadily decreasing across two epochs.  "
   ]
  },
  {
   "cell_type": "code",
   "execution_count": null,
   "metadata": {},
   "outputs": [],
   "source": [
    "# 17. Display the full metrics history as a pandas DataFrame\n",
    "\n",
    "result.metrics_dataframe"
   ]
  },
  {
   "cell_type": "markdown",
   "metadata": {},
   "source": [
    "<div class=\"alert alert-block alert-info\">\n",
    "  <p>\n",
    "    To learn more about the training results, see this \n",
    "    <a href=\"https://docs.ray.io/en/latest/train/user-guides/results.html\" target=\"_blank\">\n",
    "      docs\n",
    "    </a> on inspecting the training results.\n",
    "  </p>\n",
    "</div>"
   ]
  },
  {
   "cell_type": "markdown",
   "metadata": {},
   "source": [
    "### 18 · Load a Checkpoint for Inference  \n",
    "\n",
    "After training, we often want to reload the model and use it for predictions.  \n",
    "Here we define a **Ray actor** (`ModelWorker`) that loads the checkpointed ResNet-18 onto a GPU and serves inference requests.  \n",
    "\n",
    "- **Initialization (`__init__`)**:  \n",
    "  * Reads the checkpoint directory using `checkpoint.as_directory()`.  \n",
    "  * Loads the model weights into a fresh ResNet-18.  \n",
    "  * Moves the model to GPU and sets it to evaluation mode.  \n",
    "\n",
    "- **Prediction (`predict`)**:  \n",
    "  * Accepts either a single image (`[C,H,W]`) or a batch (`[B,C,H,W]`).  \n",
    "  * Ensures the tensor is correctly shaped and moved to GPU.  \n",
    "  * Runs inference in `torch.inference_mode()` for efficiency.  \n",
    "  * Returns the predicted class indices as a Python list.  \n",
    "\n",
    "Finally, we launch the actor with `ModelWorker.remote(result.checkpoint)`.  \n",
    "This spawns a dedicated process with **1 GPU** attached that can serve predictions using the trained model.  "
   ]
  },
  {
   "cell_type": "code",
   "execution_count": null,
   "metadata": {},
   "outputs": [],
   "source": [
    "# 18. Define a Ray actor to load the trained model and run inference\n",
    "\n",
    "@ray.remote(num_gpus=1)  # allocate 1 GPU to this actor\n",
    "class ModelWorker:\n",
    "    def __init__(self, checkpoint):\n",
    "        # Load model weights from the Ray checkpoint (on CPU first)\n",
    "        with checkpoint.as_directory() as ckpt_dir:\n",
    "            model_path = os.path.join(ckpt_dir, \"model.pt\")\n",
    "            state_dict = torch.load(\n",
    "                model_path,\n",
    "                map_location=torch.device(\"cpu\"),\n",
    "                weights_only=True,\n",
    "            )\n",
    "        # Rebuild the model, load weights, move to GPU, and set to eval mode\n",
    "        self.model = build_resnet18()\n",
    "        self.model.load_state_dict(state_dict)\n",
    "        self.model.to(\"cuda\")\n",
    "        self.model.eval()\n",
    "\n",
    "    @torch.inference_mode()  # disable autograd for faster inference\n",
    "    def predict(self, batch):\n",
    "        \"\"\"\n",
    "        batch: torch.Tensor or numpy array with shape [B,C,H,W] or [C,H,W]\n",
    "        returns: list[int] predicted class indices\n",
    "        \"\"\"\n",
    "        x = torch.as_tensor(batch)\n",
    "        if x.ndim == 3:          # single image → add batch dimension\n",
    "            x = x.unsqueeze(0)   # shape becomes [1,C,H,W]\n",
    "        x = x.to(\"cuda\", non_blocking=True)\n",
    "\n",
    "        logits = self.model(x)\n",
    "        preds = torch.argmax(logits, dim=1)\n",
    "        return preds.detach().cpu().tolist()\n",
    "\n",
    "# Create a fresh actor instance (avoid naming conflicts)\n",
    "worker = ModelWorker.remote(result.checkpoint)"
   ]
  },
  {
   "cell_type": "markdown",
   "metadata": {},
   "source": [
    "### 19 · Run Inference and Visualize Predictions  \n",
    "\n",
    "With the `ModelWorker` actor running on GPU, we can now generate predictions on random samples from the MNIST dataset and plot them.  \n",
    "\n",
    "Steps in this cell:  \n",
    "1. **Normalization on CPU**  \n",
    "   - Convert each image to a tensor with `ToTensor()`.  \n",
    "   - Apply channel-specific normalization (`0.5` mean / std).  \n",
    "   - Keep this preprocessing on CPU for efficiency.  \n",
    "\n",
    "2. **Prediction on GPU via Actor**  \n",
    "   - Each normalized image is expanded to shape `[1, C, H, W]`.  \n",
    "   - The tensor is sent to the remote `ModelWorker` for inference.  \n",
    "   - `ray.get(worker.predict.remote(x))` retrieves the predicted class index.  \n",
    "\n",
    "3. **Plot Results**  \n",
    "   - Display a 3×3 grid of random MNIST samples.  \n",
    "   - Each subplot shows the **true label** and the **predicted label** from the trained ResNet-18.  \n",
    "\n",
    "This demonstrates a simple but practical workflow: **CPU-based preprocessing + GPU-based inference in a Ray actor**.  "
   ]
  },
  {
   "cell_type": "code",
   "execution_count": null,
   "metadata": {
    "tags": []
   },
   "outputs": [],
   "source": [
    "# 19. CPU preprocessing + GPU inference via Ray actor\n",
    "\n",
    "to_tensor = ToTensor()\n",
    "\n",
    "def normalize_cpu(img):\n",
    "    # Convert image (PIL) to tensor on CPU → shape [C,H,W]\n",
    "    t = to_tensor(img)                # [C,H,W] on CPU\n",
    "    C = t.shape[0]\n",
    "    # Apply channel-wise normalization (grayscale vs RGB)\n",
    "    if C == 3:\n",
    "        norm = Normalize((0.5, 0.5, 0.5), (0.5, 0.5, 0.5))\n",
    "    else:\n",
    "        norm = Normalize((0.5,), (0.5,))\n",
    "    return norm(t)\n",
    "\n",
    "figure = plt.figure(figsize=(8, 8))\n",
    "cols, rows = 3, 3\n",
    "\n",
    "# Plot a 3x3 grid of random MNIST samples with predictions\n",
    "for i in range(1, cols * rows + 1):\n",
    "    idx = np.random.randint(0, len(dataset))\n",
    "    img, label = dataset[idx]\n",
    "\n",
    "    # Preprocess on CPU, add batch dim → [1,C,H,W]\n",
    "    x = normalize_cpu(img).unsqueeze(0)    \n",
    "\n",
    "    # Run inference on GPU via Ray actor, fetch result   \n",
    "    pred = ray.get(worker.predict.remote(x))[0]  # int\n",
    "    \n",
    "    # Plot image with true label and predicted label\n",
    "    figure.add_subplot(rows, cols, i)\n",
    "    plt.title(f\"label: {label}; pred: {int(pred)}\")\n",
    "    plt.axis(\"off\")\n",
    "    arr = np.array(img)\n",
    "    plt.imshow(arr, cmap=\"gray\" if arr.ndim == 2 else None)\n",
    "\n",
    "plt.tight_layout()\n",
    "plt.show()"
   ]
  },
  {
   "cell_type": "markdown",
   "metadata": {},
   "source": [
    "### 20 · Clean Up the Ray Actor  \n",
    "\n",
    "Once you’re done running inference, it’s a good practice to free up resources:  \n",
    "\n",
    "- **`ray.kill(worker, no_restart=True)`** → stops the `ModelWorker` actor and releases its GPU.  \n",
    "- **`del worker` + `gc.collect()`** → drop local references so Python’s garbage collector can clean up.  \n",
    "\n",
    "This ensures the GPU is no longer pinned by the actor and can be reused for other jobs.  "
   ]
  },
  {
   "cell_type": "code",
   "execution_count": null,
   "metadata": {},
   "outputs": [],
   "source": [
    "# 20.\n",
    "\n",
    "# stop the actor process and free its GPU\n",
    "ray.kill(worker, no_restart=True)     \n",
    "\n",
    "# drop local references so nothing pins it\n",
    "del worker\n",
    "\n",
    "# Forcing garbage collection is optional:\n",
    "# - Cluster resources are already freed by ray.kill()\n",
    "# - Python will clean up the local handle eventually\n",
    "# - gc.collect() is usually unnecessary unless debugging memory issues\n",
    "gc.collect()"
   ]
  },
  {
   "cell_type": "markdown",
   "metadata": {},
   "source": [
    "### End of Module 01 · Introduction to Ray Train\n"
   ]
  },
  {
   "cell_type": "markdown",
   "metadata": {},
   "source": [
    "## 🔄 02 · Integrating Ray Train with Ray Data  \n",
    "In this module you’ll extend distributed training with **Ray Train** by adding **Ray Data** to the pipeline. Instead of relying on a local PyTorch DataLoader, you’ll stream batches directly from a distributed **Ray Dataset**, enabling scalable preprocessing and just-in-time data loading across the cluster.  \n",
    "\n",
    "### What you’ll learn & take away  \n",
    "* When to integrate **Ray Data** with Ray Train — e.g., for CPU-heavy preprocessing, online augmentations, or multi-format data ingestion  \n",
    "* How to replace `DataLoader` with **`iter_torch_batches()`** to stream batches into your training loop  \n",
    "* How to shard, shuffle, and preprocess data in parallel across the cluster before feeding it into GPUs  \n",
    "* How to define a **training loop** that consumes Ray Dataset shards instead of DataLoader tuples  \n",
    "* How to prepare datasets (For example, Parquet format) so they can be efficiently read and transformed with Ray Data  \n",
    "* How to pass Ray Datasets into the `TorchTrainer` with the `datasets` parameter  \n",
    "\n",
    "> With Ray Data, you can scale preprocessing and training independently — CPUs handle input pipelines, GPUs focus on training — ensuring **higher utilization and throughput** in your distributed workloads.  \n",
    "\n",
    "Note that the code blocks for this module will depend on the previous module, **Introduction to Ray Train**."
   ]
  },
  {
   "cell_type": "markdown",
   "metadata": {},
   "source": [
    "### 🔎 Integrating Ray Train with Ray Data  \n",
    "\n",
    "Use both Ray Train and Ray Data when you face one of the following challenges:  \n",
    "| Challenge | Detail | Solution |\n",
    "| --- | --- | --- |\n",
    "| Need to perform online or just-in-time data processing | The training pipeline requires processing data on the fly, such as data augmentation, normalization, or other transformations that may differ for each training epoch. | Ray Train's integration with Ray Data makes it easy to implement just-in-time data processing. |\n",
    "| Need to improve hardware utilization | Training and data processing need to be scaled independently to keep GPUs fully utilized, especially when preprocessing is CPU-intensive. | Ray Data can distribute data processing across multiple CPU nodes, while Ray Train runs the training loop on GPUs. |\n",
    "| Need a consistent interface for loading data | The training process may need to load data from various sources, such as Parquet, CSV, or lakehouses. | Ray Data provides a consistent interface for loading, shuffling, sharding, and batching data for training loops. |"
   ]
  },
  {
   "cell_type": "markdown",
   "metadata": {},
   "source": [
    "### 01 · Define Training Loop with Ray Data  \n",
    "\n",
    "Here we reimplement the training loop, but this time using **Ray Data** instead of a PyTorch `DataLoader`.  \n",
    "\n",
    "Key differences from the previous version:  \n",
    "- **Data loader** → Built with `build_data_loader_ray_train_ray_data()`, which streams batches from a Ray Dataset shard (details in the following block).  \n",
    "- **Batching** → Still split by `global_batch_size // world_size`, but batches are now **dictionaries** with keys `\"image\"` and `\"label\"`.  \n",
    "- **No device management needed** → Ray Data automatically moves batches to the correct device, so we no longer call `sampler.set_epoch()` or `to(\"cuda\")`.  \n",
    "\n",
    "The rest of the loop (forward pass, loss computation, backward pass, optimizer step, metric logging, and checkpointing) stays the same.  \n",
    "\n",
    "This pattern shows how seamlessly **Ray Data integrates with Ray Train**, replacing `DataLoader` while keeping the training logic identical.  "
   ]
  },
  {
   "cell_type": "code",
   "execution_count": null,
   "metadata": {},
   "outputs": [],
   "source": [
    "# 01. Training loop using Ray Data\n",
    "\n",
    "def train_loop_ray_train_ray_data(config: dict):\n",
    "    # Same as before: define loss, model, optimizer\n",
    "    criterion = CrossEntropyLoss()\n",
    "    model = load_model_ray_train()\n",
    "    optimizer = Adam(model.parameters(), lr=1e-3)\n",
    "    \n",
    "    # Different: build data loader from Ray Data instead of PyTorch DataLoader\n",
    "    global_batch_size = config[\"global_batch_size\"]\n",
    "    batch_size = global_batch_size // ray.train.get_context().get_world_size()\n",
    "    data_loader = build_data_loader_ray_train_ray_data(batch_size=batch_size) \n",
    "    \n",
    "    # Same: loop over epochs\n",
    "    for epoch in range(config[\"num_epochs\"]):\n",
    "        # Different: no sampler.set_epoch(), Ray Data handles shuffling internally\n",
    "\n",
    "        # Different: batches are dicts {\"image\": ..., \"label\": ...} not tuples\n",
    "        for batch in data_loader: \n",
    "            outputs = model(batch[\"image\"])\n",
    "            loss = criterion(outputs, batch[\"label\"])\n",
    "            optimizer.zero_grad()\n",
    "            loss.backward() \n",
    "            optimizer.step()\n",
    "\n",
    "        # Same: report metrics and save checkpoint each epoch\n",
    "        metrics = print_metrics_ray_train(loss, epoch)\n",
    "        save_checkpoint_and_metrics_ray_train(model, metrics)"
   ]
  },
  {
   "cell_type": "markdown",
   "metadata": {},
   "source": [
    "### 02 · Build DataLoader from Ray Data  \n",
    "\n",
    "Instead of using PyTorch’s `DataLoader`, we now build a loader from a **Ray Dataset shard**.  \n",
    "\n",
    "- `ray.train.get_dataset_shard(\"train\")` → retrieves the shard of the training dataset assigned to the current worker.  \n",
    "- `.iter_torch_batches()` → streams the shard as PyTorch-compatible batches.  \n",
    "  * Each batch is a **dictionary** (e.g., `{\"image\": tensor, \"label\": tensor}`).  \n",
    "  * Supports options like `batch_size` and `prefetch_batches` for performance tuning.  \n",
    "\n",
    "This integration ensures that data is **sharded, shuffled, and moved to the right device automatically**, while still looking and feeling like a familiar PyTorch data loader.  \n",
    "\n",
    "**Note:** Use [`iter_torch_batches`](https://docs.ray.io/en/latest/data/api/doc/ray.data.Dataset.iter_torch_batches.html) to build a PyTorch-compatible data loader from a Ray Dataset. "
   ]
  },
  {
   "cell_type": "code",
   "execution_count": null,
   "metadata": {},
   "outputs": [],
   "source": [
    "# 02. Build a Ray Data–backed data loader\n",
    "\n",
    "def build_data_loader_ray_train_ray_data(batch_size: int, prefetch_batches: int = 2):\n",
    "\n",
    "    # Different: instead of creating a PyTorch DataLoader,\n",
    "    # fetch the training dataset shard for this worker\n",
    "    dataset_iterator = ray.train.get_dataset_shard(\"train\")\n",
    "\n",
    "    # Convert the shard into a PyTorch-style iterator\n",
    "    # - Returns dict batches: {\"image\": ..., \"label\": ...}\n",
    "    # - prefetch_batches controls pipeline buffering\n",
    "    data_loader = dataset_iterator.iter_torch_batches(\n",
    "        batch_size=batch_size, prefetch_batches=prefetch_batches\n",
    "    )\n",
    "    \n",
    "    return data_loader"
   ]
  },
  {
   "cell_type": "markdown",
   "metadata": {},
   "source": [
    "### 03 · Prepare Dataset for Ray Data  \n",
    "\n",
    "Ray Data works best with data in **tabular formats** such as Parquet.  \n",
    "In this step we:  \n",
    "\n",
    "- Convert the MNIST dataset into a **pandas DataFrame** with two columns:  \n",
    "  * `\"image\"` → raw image arrays  \n",
    "  * `\"label\"` → digit class (0–9)  \n",
    "- Write the DataFrame to disk in **Parquet format** under `/mnt/cluster_storage/`.  \n",
    "\n",
    "Parquet is efficient for both reading and distributed processing, making it a good fit for Ray Data pipelines.  "
   ]
  },
  {
   "cell_type": "code",
   "execution_count": null,
   "metadata": {},
   "outputs": [],
   "source": [
    "# 03. Convert MNIST dataset into Parquet for Ray Data\n",
    "\n",
    "# Build a DataFrame with image arrays and labels\n",
    "df = pd.DataFrame({\n",
    "    \"image\": dataset.data.tolist(),   # raw image pixels (as lists)\n",
    "    \"label\": dataset.targets          # digit labels 0–9\n",
    "})\n",
    "\n",
    "# Persist the dataset in Parquet format (columnar, efficient for Ray Data)\n",
    "df.to_parquet(\"/mnt/cluster_storage/cifar10.parquet\")"
   ]
  },
  {
   "cell_type": "markdown",
   "metadata": {},
   "source": [
    "### 04 · Load Dataset into Ray Data  \n",
    "\n",
    "Now that the training data is stored as Parquet, we can load it back into a **Ray Dataset**:  \n",
    "\n",
    "- Use `ray.data.read_parquet()` to create a distributed Ray Dataset from the Parquet file.  \n",
    "- Each row has two columns: `\"image\"` (raw pixel array) and `\"label\"` (digit class).  \n",
    "- The dataset is automatically **sharded across the Ray cluster**, so multiple workers can read and process it in parallel.  \n",
    "\n",
    "This Ray Dataset will later be passed to the `TorchTrainer` for distributed training.  \n"
   ]
  },
  {
   "cell_type": "code",
   "execution_count": null,
   "metadata": {},
   "outputs": [],
   "source": [
    "# 04. Load the Parquet dataset into a Ray Dataset\n",
    "\n",
    "# Read the Parquet file → creates a distributed Ray Dataset\n",
    "train_ds = ray.data.read_parquet(\"/mnt/cluster_storage/cifar10.parquet\")\n"
   ]
  },
  {
   "cell_type": "markdown",
   "metadata": {},
   "source": [
    "### 05 · Define Image Transformation  \n",
    "\n",
    "To make the dataset usable by PyTorch, we need to preprocess the raw image arrays with the same steps that pytorch data loader does.  \n",
    "\n",
    "- Define a function `transform_images(row)` that:  \n",
    "  * Converts the `\"image\"` array from `numpy` into a PIL image.  \n",
    "  * Applies the standard PyTorch transforms:  \n",
    "    - `ToTensor()` → converts the image to a tensor.  \n",
    "    - `Normalize((0.5,), (0.5,))` → scales pixel values to the range [-1, 1].  \n",
    "  * Replaces the `\"image\"` entry in the row with the transformed tensor.  \n",
    "\n",
    "This function will later be applied in parallel across the Ray Dataset.  \n"
   ]
  },
  {
   "cell_type": "code",
   "execution_count": null,
   "metadata": {},
   "outputs": [],
   "source": [
    "# 05. Define preprocessing transform for Ray Data\n",
    "\n",
    "def transform_images(row: dict):\n",
    "    # Convert numpy array to a PIL image, then apply TorchVision transforms\n",
    "    transform = Compose([\n",
    "        ToTensor(),              # convert to tensor\n",
    "        Normalize((0.5,), (0.5,)) # normalize to [-1, 1]\n",
    "    ])\n",
    "\n",
    "    # Ensure image is in uint8 before conversion\n",
    "    image_arr = np.array(row[\"image\"], dtype=np.uint8)\n",
    "\n",
    "    # Apply transforms and replace the \"image\" field with tensor\n",
    "    row[\"image\"] = transform(Image.fromarray(image_arr))\n",
    "    return row"
   ]
  },
  {
   "cell_type": "markdown",
   "metadata": {},
   "source": [
    "<div class=\"alert alert-block alert-info\">\n",
    "\n",
    "**Note**: Unlike the PyTorch DataLoader, the preprocessing can now occur on any node in the cluster.\n",
    "\n",
    "The data will be passed to training workers via the ray object store (a distributed in-memory object store).\n",
    "\n",
    "<div>"
   ]
  },
  {
   "cell_type": "markdown",
   "metadata": {},
   "source": [
    "### 06 · Apply Transformations with Ray Data  \n",
    "\n",
    "Now we apply the preprocessing function to the dataset using `map()`:  \n",
    "\n",
    "- `train_ds.map(transform_images)` → runs the `transform_images` function on every row of the dataset.  \n",
    "- Transformations are executed **in parallel across the cluster**, so preprocessing can scale independently of training.  \n",
    "- The transformed dataset now has:  \n",
    "  * `\"image\"` → normalized PyTorch tensors  \n",
    "  * `\"label\"` → unchanged integer labels  \n",
    "\n",
    "This makes the dataset ready to be streamed into the training loop.  "
   ]
  },
  {
   "cell_type": "code",
   "execution_count": null,
   "metadata": {},
   "outputs": [],
   "source": [
    "# 06. Apply the preprocessing transform across the Ray Dataset\n",
    "\n",
    "# Run transform_images() on each row (parallelized across cluster workers)\n",
    "train_ds = train_ds.map(transform_images)"
   ]
  },
  {
   "cell_type": "markdown",
   "metadata": {},
   "source": [
    "### 07 · Configure `TorchTrainer` with Ray Data  \n",
    "\n",
    "Now we connect the Ray Dataset to the training loop using the `datasets` parameter in `TorchTrainer`:  \n",
    "\n",
    "- **`datasets={\"train\": train_ds}`** → makes the transformed dataset available to the training loop as the `\"train\"` shard.  \n",
    "- **`train_loop_ray_train_ray_data`** → the per-worker training loop that consumes Ray Data batches.  \n",
    "- **`train_loop_config`** → passes hyperparameters (`num_epochs`, `global_batch_size`).  \n",
    "- **`scaling_config`** → specifies the number of workers and GPUs to use (same as before).  \n",
    "- **`run_config`** → defines storage for checkpoints and metrics.  \n",
    "\n",
    "This setup allows Ray Train to automatically shard and stream the Ray Dataset into each worker during training.  "
   ]
  },
  {
   "cell_type": "code",
   "execution_count": null,
   "metadata": {},
   "outputs": [],
   "source": [
    "# 07. Configure TorchTrainer with Ray Data integration\n",
    "\n",
    "# Wrap Ray Dataset in a dict → accessible as \"train\" inside the training loop\n",
    "datasets = {\"train\": train_ds}\n",
    "\n",
    "trainer = TorchTrainer(\n",
    "    train_loop_ray_train_ray_data,  # training loop consuming Ray Data\n",
    "    train_loop_config={             # hyperparameters\n",
    "        \"num_epochs\": 1,\n",
    "        \"global_batch_size\": 512,\n",
    "    },\n",
    "    scaling_config=scaling_config,  # number of workers + GPU/CPU resources\n",
    "    run_config=RunConfig(\n",
    "        storage_path=storage_path, \n",
    "        name=\"dist-cifar-res18-ray-data\"\n",
    "    ),                              # where to store checkpoints/logs\n",
    "    datasets=datasets,              # provide Ray Dataset shards to workers\n",
    ")"
   ]
  },
  {
   "cell_type": "markdown",
   "metadata": {},
   "source": [
    "### 08 · Launch Training with Ray Data  \n",
    "\n",
    "Finally, call `trainer.fit()` to start the distributed training job.  \n",
    "\n",
    "- Ray will automatically:  \n",
    "  * Launch workers according to the `scaling_config`.  \n",
    "  * Stream sharded, preprocessed batches from the Ray Dataset into each worker.  \n",
    "  * Run the training loop (`train_loop_ray_train_ray_data`) on every worker in parallel.  \n",
    "  * Report metrics and save checkpoints to the configured storage path.  \n",
    "\n",
    "With this call, you now have a fully **end-to-end distributed pipeline** where **Ray Data handles ingestion + preprocessing** and **Ray Train handles multi-GPU training**.  "
   ]
  },
  {
   "cell_type": "code",
   "execution_count": null,
   "metadata": {},
   "outputs": [],
   "source": [
    "# 08. Start the distributed training job with Ray Data integration\n",
    "\n",
    "# Launches the training loop across all workers\n",
    "# - Streams preprocessed Ray Dataset batches into each worker\n",
    "# - Reports metrics and checkpoints to cluster storage\n",
    "trainer.fit()"
   ]
  },
  {
   "cell_type": "markdown",
   "metadata": {},
   "source": [
    "### End of Module 02 · Integrating Ray Train with Ray Data  \n"
   ]
  },
  {
   "cell_type": "markdown",
   "metadata": {},
   "source": [
    "## 🛡️ 03 · Fault Tolerance in Ray Train  \n",
    "In this module you’ll learn how **Ray Train** handles failures and how to make your training jobs **resilient** with checkpointing and recovery. You’ll see both **automatic retries** and **manual restoration**, and how to modify the training loop so it can safely resume from the latest checkpoint.  \n",
    "\n",
    "### What you’ll learn & take away  \n",
    "* How Ray Train uses **automatic retries** to restart failed workers without losing progress  \n",
    "* How to modify the training loop with **`get_checkpoint()`** to enable checkpoint loading  \n",
    "* How to save additional state (e.g., optimizer and epoch) alongside the model for full recovery  \n",
    "* How to configure **`FailureConfig`** to set retry behavior  \n",
    "* How to perform a **manual restoration** if retries are exhausted, resuming training from the last checkpoint  \n",
    "* Why checkpointing to **persistent storage** is essential for reliable recovery  \n",
    "\n",
    "> With fault tolerance enabled, you can run long, large-scale training jobs confidently — knowing they can recover from failures without starting over.  \n",
    "\n",
    "<img src=\"https://anyscale-public-materials.s3.us-west-2.amazonaws.com/ray-summit/stable-diffusion/diagrams/fault_tolerant_cropped_v2.png\" width=800>\n"
   ]
  },
  {
   "cell_type": "markdown",
   "metadata": {},
   "source": [
    "### 01 · Modify Training Loop to Enable Checkpoint Loading  \n",
    "\n",
    "To support fault tolerance, we extend the training loop so it can **resume from a previously saved checkpoint**.  \n",
    "\n",
    "Key additions:  \n",
    "- Call `ray.train.get_checkpoint()` to check if a checkpoint is available.  \n",
    "- If found, restore:  \n",
    "  * The **model state** (`model.pt`)  \n",
    "  * The **optimizer state** (`optimizer.pt`)  \n",
    "  * The **last completed epoch** (`extra_state.pt`)  \n",
    "- Update `start_epoch` so training resumes from the correct place.  \n",
    "\n",
    "The rest of the loop (forward pass, backward pass, optimizer step, and metrics reporting) is the same, except it now starts from `start_epoch` instead of 0.  "
   ]
  },
  {
   "cell_type": "code",
   "execution_count": null,
   "metadata": {},
   "outputs": [],
   "source": [
    "# 01. Training loop with checkpoint loading for fault tolerance\n",
    "\n",
    "def train_loop_ray_train_with_checkpoint_loading(config: dict):\n",
    "    # Same setup as before: loss, model, optimizer\n",
    "    criterion = CrossEntropyLoss()\n",
    "    model = load_model_ray_train()\n",
    "    optimizer = Adam(model.parameters(), lr=1e-3)\n",
    "\n",
    "    # Same data loader logic as before\n",
    "    global_batch_size = config[\"global_batch_size\"]\n",
    "    batch_size = global_batch_size // ray.train.get_context().get_world_size()\n",
    "    data_loader = build_data_loader_ray_train_ray_data(batch_size=batch_size)\n",
    "\n",
    "    # Default: start at epoch 0 unless a checkpoint is available\n",
    "    start_epoch = 0\n",
    "\n",
    "    # Attempt to load from latest checkpoint\n",
    "    checkpoint = ray.train.get_checkpoint()\n",
    "    if checkpoint:\n",
    "        # Continue training from a previous checkpoint\n",
    "        with checkpoint.as_directory() as ckpt_dir:\n",
    "            # Restore model + optimizer state\n",
    "            model_state_dict = torch.load(\n",
    "                os.path.join(ckpt_dir, \"model.pt\"),\n",
    "            )\n",
    "            # Load the model and optimizer state\n",
    "            model.module.load_state_dict(model_state_dict)\n",
    "            optimizer.load_state_dict(\n",
    "                torch.load(os.path.join(ckpt_dir, \"optimizer.pt\"))\n",
    "            )\n",
    "\n",
    "            # Resume from last epoch + 1\n",
    "            start_epoch = (\n",
    "                torch.load(os.path.join(ckpt_dir, \"extra_state.pt\"))[\"epoch\"] + 1\n",
    "            )\n",
    "\n",
    "    # Same training loop as before except it starts at a parameterized start_epoch\n",
    "    for epoch in range(start_epoch, config[\"num_epochs\"]):\n",
    "        for batch in data_loader:\n",
    "            outputs = model(batch[\"image\"])\n",
    "            loss = criterion(outputs, batch[\"label\"])\n",
    "            optimizer.zero_grad()\n",
    "            loss.backward()\n",
    "            optimizer.step()\n",
    "\n",
    "        # Report metrics and save model + optimizer + epoch state\n",
    "        metrics = print_metrics_ray_train(loss,  epoch)\n",
    "\n",
    "        # We now save the optimizer and epoch state in addition to the model\n",
    "        save_checkpoint_and_metrics_ray_train_with_extra_state(\n",
    "            model, metrics, optimizer, epoch\n",
    "        )"
   ]
  },
  {
   "cell_type": "markdown",
   "metadata": {},
   "source": [
    "### 02 · Save Full Checkpoint with Extra State  \n",
    "\n",
    "To support fault-tolerant recovery, we extend checkpoint saving to include not just the model, but also the **optimizer state** and the **current epoch**.  \n",
    "\n",
    "- **`model.pt`** → model weights (unwrap DDP with `.module`).  \n",
    "- **`optimizer.pt`** → optimizer state for resuming training seamlessly.  \n",
    "- **`extra_state.pt`** → stores metadata (here, the current epoch).  \n",
    "\n",
    "Only the **rank-0 worker** writes the checkpoint to avoid duplication, but all workers still call `ray.train.report()` to keep the loop synchronized.  \n",
    "\n",
    "This ensures that if training is interrupted, Ray Train can restore **model weights, optimizer progress, and the correct epoch** before continuing.  "
   ]
  },
  {
   "cell_type": "code",
   "execution_count": null,
   "metadata": {},
   "outputs": [],
   "source": [
    "# 02. Save checkpoint with model, optimizer, and epoch state\n",
    "\n",
    "def save_checkpoint_and_metrics_ray_train_with_extra_state(\n",
    "    model: torch.nn.Module,\n",
    "    metrics: dict[str, float],\n",
    "    optimizer: torch.optim.Optimizer,\n",
    "    epoch: int,\n",
    ") -> None:\n",
    "\n",
    "    with tempfile.TemporaryDirectory() as temp_checkpoint_dir:\n",
    "        checkpoint = None\n",
    "        # Only rank-0 worker saves files to disk\n",
    "        if ray.train.get_context().get_world_rank() == 0:\n",
    "                # Save all state required for full recovery\n",
    "                torch.save(\n",
    "                    model.module.state_dict(),  # unwrap DDP before saving\n",
    "                    os.path.join(temp_checkpoint_dir, \"model.pt\"),\n",
    "                )\n",
    "                torch.save(\n",
    "                    optimizer.state_dict(),     # include optimizer state\n",
    "                    os.path.join(temp_checkpoint_dir, \"optimizer.pt\"),\n",
    "                )\n",
    "                torch.save(\n",
    "                    {\"epoch\": epoch},           # store last completed epoch\n",
    "                    os.path.join(temp_checkpoint_dir, \"extra_state.pt\"),\n",
    "                )\n",
    "                # Package into a Ray checkpoint\n",
    "                checkpoint = ray.train.Checkpoint.from_directory(temp_checkpoint_dir)\n",
    "        \n",
    "        # Report metrics and attach checkpoint (only rank-0 attaches checkpoint)\n",
    "        ray.train.report(  \n",
    "            metrics,  \n",
    "            checkpoint=checkpoint,\n",
    "            )    "
   ]
  },
  {
   "cell_type": "markdown",
   "metadata": {},
   "source": [
    "### 03 · Configure Automatic Retries with `FailureConfig`  \n",
    "\n",
    "Now that the training loop can load from checkpoints, we can enable **automatic retries** in case of worker or node failures.  \n",
    "\n",
    "- **`FailureConfig(max_failures=3)`** → allows the job to retry up to 3 times before giving up.  \n",
    "- Pass this `failure_config` into `RunConfig` so Ray Train knows how to handle failures.  \n",
    "- When a failure happens, Ray will:  \n",
    "  1. Restart the failed workers.  \n",
    "  2. Reload the latest checkpoint.  \n",
    "  3. Resume training from the last saved epoch.  \n",
    "\n",
    "This setup makes training jobs resilient to transient hardware or cluster issues without requiring manual intervention.  "
   ]
  },
  {
   "cell_type": "code",
   "execution_count": null,
   "metadata": {},
   "outputs": [],
   "source": [
    "# 03. Configure TorchTrainer with fault-tolerance enabled\n",
    "\n",
    "# Allow up to 3 automatic retries if workers fail\n",
    "failure_config = ray.train.FailureConfig(max_failures=3)\n",
    "\n",
    "experiment_name = \"fault-tolerant-cifar-vit\"\n",
    "\n",
    "trainer = TorchTrainer(\n",
    "    train_loop_per_worker=train_loop_ray_train_with_checkpoint_loading,  # fault-tolerant loop\n",
    "    train_loop_config={   # hyperparameters\n",
    "        \"num_epochs\": 1,\n",
    "        \"global_batch_size\": 512,\n",
    "    },\n",
    "    scaling_config=scaling_config,  # resource scaling as before\n",
    "    run_config=ray.train.RunConfig(\n",
    "        name=\"fault-tolerant-cifar-vit\",\n",
    "        storage_path=storage_path,      # persistent checkpoint storage\n",
    "        failure_config=failure_config,  # enable automatic retries\n",
    "    ),\n",
    "    datasets=datasets,  # Ray Dataset shard for each worker\n",
    ")"
   ]
  },
  {
   "cell_type": "markdown",
   "metadata": {},
   "source": [
    "### 04 · Launch Fault-Tolerant Training  \n",
    "\n",
    "Finally, call `trainer.fit()` to start the training job.  \n",
    "\n",
    "With the **fault-tolerant loop** and **`FailureConfig`** in place, Ray Train will:  \n",
    "- Run the training loop on all workers.  \n",
    "- If a failure occurs (e.g., worker crash, node preemption), automatically restart workers.  \n",
    "- Reload the latest checkpoint and continue training without losing progress.  \n",
    "\n",
    "This makes your training job robust against transient infrastructure failures.  "
   ]
  },
  {
   "cell_type": "code",
   "execution_count": null,
   "metadata": {},
   "outputs": [],
   "source": [
    "# 04. Start the fault-tolerant training job\n",
    "\n",
    "# Launches training with checkpointing + automatic retries enabled\n",
    "# If workers fail, Ray will reload the latest checkpoint and resume\n",
    "trainer.fit()"
   ]
  },
  {
   "cell_type": "markdown",
   "metadata": {},
   "source": [
    "### 05 · Manual Restoration from Checkpoints  \n",
    "\n",
    "If the maximum number of retries is reached, you can still **manually restore training** by creating a new `TorchTrainer` with the same configuration:  \n",
    "\n",
    "- Use the same `train_loop_ray_train_with_checkpoint_loading` so the loop can resume from a checkpoint.  \n",
    "- Provide the same `run_config` (name, storage path, and failure config).  \n",
    "- Pass in the same dataset and scaling configuration.  \n",
    "\n",
    "Ray Train will detect the latest checkpoint in the specified `storage_path` and resume training from that point.  "
   ]
  },
  {
   "cell_type": "code",
   "execution_count": null,
   "metadata": {},
   "outputs": [],
   "source": [
    "# 05. Manually restore a trainer from the last checkpoint\n",
    "\n",
    "restored_trainer = TorchTrainer(\n",
    "    train_loop_per_worker=train_loop_ray_train_with_checkpoint_loading,  # loop supports checkpoint loading\n",
    "        train_loop_config={   # hyperparameters must match\n",
    "        \"num_epochs\": 1,\n",
    "        \"global_batch_size\": 512,\n",
    "    },\n",
    "    scaling_config=scaling_config,  # same resource setup as before\n",
    "    run_config=ray.train.RunConfig(\n",
    "        name=\"fault-tolerant-cifar-vit\",  # must match previous run name\n",
    "        storage_path=storage_path,       # path where checkpoints are saved\n",
    "        failure_config=failure_config,   # still allow retries\n",
    "    ),\n",
    "    datasets=datasets,  # same dataset as before\n",
    ")"
   ]
  },
  {
   "cell_type": "markdown",
   "metadata": {},
   "source": [
    "### 06 · Resume Training from the Last Checkpoint  \n",
    "\n",
    "Calling `restored_trainer.fit()` will continue training from the most recent checkpoint found in the specified storage path.  \n",
    "\n",
    "- If all epochs were already completed in the previous run, the trainer will terminate immediately.  \n",
    "- If training was interrupted mid-run, it will resume from the saved epoch, restoring both the **model** and **optimizer** state.  \n",
    "- The returned `Result` object confirms that training picked up correctly and contains metrics, checkpoints, and logs.  "
   ]
  },
  {
   "cell_type": "code",
   "execution_count": null,
   "metadata": {},
   "outputs": [],
   "source": [
    "# 06. Resume training from the last checkpoint\n",
    "\n",
    "# Fit the restored trainer → continues from last saved epoch\n",
    "# If all epochs are already complete, training ends immediately\n",
    "result = restored_trainer.fit()\n",
    "\n",
    "# Display final training results (metrics, checkpoints, etc.)\n",
    "result"
   ]
  },
  {
   "cell_type": "markdown",
   "metadata": {},
   "source": [
    "### 07 · Clean Up Cluster Storage  \n",
    "\n",
    "Finally, remove any tutorial artifacts from **persistent cluster storage**:  \n",
    "\n",
    "- Deletes the **downloaded MNIST dataset** (`/mnt/cluster_storage/MNIST`).  \n",
    "- Deletes the **training outputs** (`/mnt/cluster_storage/training`).  \n",
    "- Deletes the **Parquet dataset** used for Ray Data (`/mnt/cluster_storage/cifar10.parquet`).  \n",
    "\n",
    "This keeps your shared storage clean and avoids leftover data or files from occupying space.  \n",
    "Run this only when you’re sure you no longer need the data, checkpoints, or Parquet files.  "
   ]
  },
  {
   "cell_type": "code",
   "execution_count": null,
   "metadata": {},
   "outputs": [],
   "source": [
    "# 07. Cleanup Cluster Storage\n",
    "\n",
    "# Paths to remove → include MNIST data, training outputs, and cifar10.parquet\n",
    "paths_to_delete = [\n",
    "    \"/mnt/cluster_storage/MNIST\",\n",
    "    \"/mnt/cluster_storage/training\",\n",
    "    \"/mnt/cluster_storage/cifar10.parquet\",\n",
    "]\n",
    "\n",
    "for path in paths_to_delete:\n",
    "    if os.path.exists(path):\n",
    "        # Handle directories vs. files\n",
    "        if os.path.isdir(path):\n",
    "            shutil.rmtree(path)       # recursively delete directory\n",
    "        else:\n",
    "            os.remove(path)           # delete single file\n",
    "        print(f\"Deleted: {path}\")\n",
    "    else:\n",
    "        print(f\"Not found: {path}\")"
   ]
  },
  {
   "cell_type": "markdown",
   "metadata": {},
   "source": [
    "## 🎉 Wrapping Up & Next Steps  \n",
    "\n",
    "Nice work -- you completed a full, production-style workflow with **Ray Train on Anyscale**, then extended it with **Ray Data**, and finally added **fault tolerance**. Here’s what you accomplished across the three modules:\n",
    "\n",
    "---\n",
    "\n",
    "### ✅ Module 01 · Introduction to Ray Train  \n",
    "- Scaled PyTorch DDP with **`TorchTrainer`** using **`ScalingConfig`** and **`RunConfig`**  \n",
    "- Wrapped code for multi-GPU with **`prepare_model()`** and **`prepare_data_loader()`**  \n",
    "- Reported **metrics** and saved **checkpoints** via `ray.train.report(...)` (rank-0 checkpointing best practice)  \n",
    "- Inspected results from the **`Result`** object and served **GPU inference** with a Ray actor  \n",
    "\n",
    "---\n",
    "\n",
    "### ✅ Module 02 · Integrating Ray Train with Ray Data  \n",
    "- Prepared MNIST as **Parquet** and loaded it as a **Ray Dataset**  \n",
    "- Streamed batches with **`iter_torch_batches()`** and consumed dict batches in the training loop  \n",
    "- Passed datasets to the trainer via **`datasets={\"train\": ...}`**  \n",
    "- Decoupled CPU preprocessing from GPU training for **better utilization and throughput**  \n",
    "\n",
    "---\n",
    "\n",
    "### ✅ Module 03 · Fault Tolerance in Ray Train  \n",
    "- Enabled resume-from-checkpoint using **`ray.train.get_checkpoint()`**  \n",
    "- Saved full state (model, **optimizer**, **epoch**) for robust restoration  \n",
    "- Configured **`FailureConfig(max_failures=...)`** for automatic retries  \n",
    "- Performed **manual restoration** by re-creating a trainer with the same `RunConfig`  \n",
    "\n",
    "---\n",
    "\n",
    "### 🚀 Where to go next  \n",
    "- **Scale up**: Increase `num_workers`, try multi-node clusters, or switch to **FSDP** via `prepare_model(parallel_strategy=\"fsdp\")`.  \n",
    "- **Input pipelines**: Add augmentations, caching, and windowed shuffles in **Ray Data**; try multi-file Parquet or lakehouse sources.  \n",
    "- **Experiment tracking**: Log metrics to external systems (Weights & Biases, MLflow) alongside `ray.train.report()`.  \n",
    "- **Larger models**: Integrate **DeepSpeed** or parameter-efficient fine-tuning templates.  \n",
    "- **Productionization**: Store checkpoints in cloud storage (S3/GCS/Azure), wire up alerts/dashboards, and add CI for smoke tests.  \n",
    "\n",
    "---\n",
    "\n",
    "### 📚 Next Tutorials in the Course  \n",
    "In the next tutorials, you’ll find **end-to-end workload examples** for using Ray Train on Anyscale (e.g., recommendation systems, vision, NLP, generative models).  \n",
    "\n",
    "👉 You only need to pick **one** of these workloads to work through in the course — but you can explore more if you’re curious!  \n",
    "\n",
    "---\n",
    "\n",
    "> With these patterns—**distributed training**, **scalable data ingestion**, and **resilient recovery**—you’re ready to run larger, longer, and more reliable training jobs on Anyscale.  "
   ]
  }
 ],
 "metadata": {
  "kernelspec": {
   "display_name": "base",
   "language": "python",
   "name": "python3"
  },
  "language_info": {
   "codemirror_mode": {
    "name": "ipython",
    "version": 3
   },
   "file_extension": ".py",
   "mimetype": "text/x-python",
   "name": "python",
   "nbconvert_exporter": "python",
   "pygments_lexer": "ipython3",
   "version": "3.12.9"
  },
  "orphan": true,
  "toc-autonumbering": false
 },
 "nbformat": 4,
 "nbformat_minor": 4
}
