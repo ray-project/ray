{
 "cells": [
  {
   "cell_type": "markdown",
   "metadata": {},
   "source": [
    "# Time-series forecasting with DLinear\n",
    "\n",
    "<div align=\"left\">\n",
    "<a target=\"_blank\" href=\"https://console.anyscale.com/\"><img src=\"https://img.shields.io/badge/🚀%20Run%20on-Anyscale-9hf\"></a>&nbsp;\n",
    "<a href=\"https://github.com/anyscale/e2e-timeseries\" role=\"button\"><img src=\"https://img.shields.io/static/v1?label=&message=View%20On%20GitHub&color=586069&logo=github&labelColor=2f363d\"></a>\n",
    "</div>\n",
    "\n",
    "\n",
    "These tutorials implement an end-to-end time-series application including:\n",
    "\n",
    "- **Distributed data preprocessing and model training**: Ingest and preprocess data at scale using [Ray Data](https://docs.ray.io/en/latest/data/data.html). Then, train a distributed [DLinear model](https://github.com/cure-lab/LTSF-Linear) using [Ray Train](https://docs.ray.io/en/latest/train/train.html).\n",
    "\n",
    "- **Model validation using offline inference**: Evaluate the model using Ray Data offline batch inference.\n",
    "\n",
    "- **Online model serving**: Deploy the model as a scalable online service using [Ray Serve](https://docs.ray.io/en/latest/serve/index.html).\n",
    "\n",
    "- **Production deployment**: Create production batch Jobs for offline workloads including data prep, training, batch prediction, and potentially online Services.\n",
    "\n",
    "## Setup\n",
    "\n",
    "Run the following:\n",
    "\n",
    "```bash\n",
    "pip install -r requirements.txt && pip install -e .\n",
    "```\n",
    "\n",
    "## Acknowledgements\n",
    "\n",
    "This repository is based on the official `DLinear` implementations:\n",
    "- [`DLinear`](https://github.com/vivva/DLinear)\n",
    "- [`LTSF-Linear`](https://github.com/cure-lab/LTSF-Linear)\n",
    "\n",
    "And the original publication:\n",
    "- [\"Are Transformers Effective for Time Series Forecasting?\"](https://arxiv.org/abs/2205.13504)\n"
   ]
  }
 ],
 "metadata": {
  "language_info": {
   "name": "python"
  }
 },
 "nbformat": 4,
 "nbformat_minor": 2
}
