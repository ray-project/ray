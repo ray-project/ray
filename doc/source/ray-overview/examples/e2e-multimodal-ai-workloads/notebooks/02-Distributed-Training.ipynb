{
 "cells": [
  {
   "cell_type": "markdown",
   "metadata": {},
   "source": [
    "# Distributed training\n",
    "\n",
    "<div align=\"left\">\n",
    "<a target=\"_blank\" href=\"https://console.anyscale.com/\"><img src=\"https://raw.githubusercontent.com/ray-project/ray/c34b74c22a9390aa89baf80815ede59397786d2e/doc/source/_static/img/run-on-anyscale.svg\"></a>&nbsp;\n",
    "\n",
    "<a href=\"https://github.com/anyscale/multimodal-ai\" role=\"button\"><img src=\"https://img.shields.io/static/v1?label=&amp;message=View%20On%20GitHub&amp;color=586069&amp;logo=github&amp;labelColor=2f363d\"></a>&nbsp;\n",
    "</div>\n",
    "\n",
    "This tutorial executes a distributed training workload that connects the following heterogeneous workloads:\n",
    "- preprocess the dataset prior to training\n",
    "- distributed training with Ray Train and PyTorch with observability\n",
    "- evaluation (batch inference and eval logic)\n",
    "- save model artifacts to a model registry (MLOps)\n",
    "\n",
    "**Note**: this tutorial doesn't tune the model but see [Ray Tune](https://docs.ray.io/en/latest/tune/index.html) for experiment execution and hyperparameter tuning at any scale.\n",
    "\n",
    "<img src=\"https://raw.githubusercontent.com/anyscale/multimodal-ai/refs/heads/main/images/distributed_training.png\" width=1000>"
   ]
  },
  {
   "cell_type": "code",
   "execution_count": null,
   "metadata": {},
   "outputs": [
    {
     "name": "stdout",
     "output_type": "stream",
     "text": [
      "\u001b[92mSuccessfully registered `ipywidgets, matplotlib` and 4 other packages to be installed on all cluster nodes.\u001b[0m\n",
      "\u001b[92mView and update dependencies here: https://console.anyscale.com/cld_kvedZWag2qA8i5BjxUevf5i7/prj_cz951f43jjdybtzkx1s5sjgz99/workspaces/expwrk_1dp3fa7w5hu3i83ldsi7lqvp9t?workspace-tab=dependencies\u001b[0m\n",
      "\u001b[92mSuccessfully registered `doggos` package to be installed on all cluster nodes.\u001b[0m\n",
      "\u001b[92mView and update dependencies here: https://console.anyscale.com/cld_kvedZWag2qA8i5BjxUevf5i7/prj_cz951f43jjdybtzkx1s5sjgz99/workspaces/expwrk_1dp3fa7w5hu3i83ldsi7lqvp9t?workspace-tab=dependencies\u001b[0m\n"
     ]
    }
   ],
   "source": [
    "%%bash\n",
    "pip install -q -r /home/ray/default/requirements.txt\n",
    "pip install -q -e /home/ray/default/doggos\n"
   ]
  },
  {
   "cell_type": "markdown",
   "metadata": {},
   "source": [
    "**Note**: A kernel restart may be required for all dependencies to become available. \n",
    "\n",
    "If using **uv**, then:\n",
    "1. Turn off the runtime dependencies (`Dependencies` tab up top > Toggle off `Pip packages`). And no need to run the `pip install` commands above.\n",
    "2. Change the python kernel of this notebook to use the `venv` (Click on `base (Python x.yy.zz)` on top right cordern of notebook > `Select another Kernel` > `Python Environments...` > `Create Python Environment` > `Venv` > `Use Existing`) and done! Now all the notebook's cells will use the virtual env.\n",
    "3. Change the py executable to use `uv run` instead of `python` by adding this line after importing ray.\n",
    "```python\n",
    "import os\n",
    "os.environ.pop(\"RAY_RUNTIME_ENV_HOOK\", None)\n",
    "import ray\n",
    "ray.init(runtime_env={\"py_executable\": \"uv run\", \"working_dir\": \"/home/ray/default\"})\n",
    "```"
   ]
  },
  {
   "cell_type": "code",
   "execution_count": null,
   "metadata": {},
   "outputs": [],
   "source": [
    "%load_ext autoreload\n",
    "%autoreload all\n"
   ]
  },
  {
   "cell_type": "code",
   "execution_count": null,
   "metadata": {},
   "outputs": [],
   "source": [
    "import os\n",
    "import ray\n",
    "import sys\n",
    "sys.path.append(os.path.abspath(\"../doggos/\"))\n"
   ]
  },
  {
   "cell_type": "code",
   "execution_count": null,
   "metadata": {},
   "outputs": [],
   "source": [
    "# If using UV\n",
    "# os.environ.pop(\"RAY_RUNTIME_ENV_HOOK\", None)\n"
   ]
  },
  {
   "cell_type": "code",
   "execution_count": null,
   "metadata": {},
   "outputs": [
    {
     "name": "stderr",
     "output_type": "stream",
     "text": [
      "2025-08-22 00:26:10,081\tINFO worker.py:1747 -- Connecting to existing Ray cluster at address: 10.0.52.10:6379...\n",
      "2025-08-22 00:26:10,093\tINFO worker.py:1918 -- Connected to Ray cluster. View the dashboard at \u001b[1m\u001b[32mhttps://session-466hy7cqu1gzrp8zk8l4byz7l7.i.anyscaleuserdata.com \u001b[39m\u001b[22m\n",
      "2025-08-22 00:26:10,108\tINFO packaging.py:588 -- Creating a file package for local module '/home/ray/default/doggos/doggos'.\n",
      "2025-08-22 00:26:10,114\tINFO packaging.py:380 -- Pushing file package 'gcs://_ray_pkg_86fb5903fc73ddf5.zip' (0.03MiB) to Ray cluster...\n",
      "2025-08-22 00:26:10,115\tINFO packaging.py:393 -- Successfully pushed file package 'gcs://_ray_pkg_86fb5903fc73ddf5.zip'.\n",
      "2025-08-22 00:26:10,118\tINFO packaging.py:380 -- Pushing file package 'gcs://_ray_pkg_e23a31aacd3983306ac777f59fba2eff0e5e9963.zip' (1.16MiB) to Ray cluster...\n",
      "2025-08-22 00:26:10,124\tINFO packaging.py:393 -- Successfully pushed file package 'gcs://_ray_pkg_e23a31aacd3983306ac777f59fba2eff0e5e9963.zip'.\n"
     ]
    },
    {
     "data": {
      "application/vnd.jupyter.widget-view+json": {
       "model_id": "143376de26ec4095b9e1f3956e0a86f5",
       "version_major": 2,
       "version_minor": 0
      },
      "text/html": [
       "<div class=\"lm-Widget p-Widget lm-Panel p-Panel jp-Cell-outputWrapper\">\n",
       "    <div style=\"margin-left: 50px;display: flex;flex-direction: row;align-items: center\">\n",
       "        <div class=\"jp-RenderedHTMLCommon\" style=\"display: flex; flex-direction: row;\">\n",
       "  <svg viewBox=\"0 0 567 224\" fill=\"none\" xmlns=\"http://www.w3.org/2000/svg\" style=\"height: 3em;\">\n",
       "    <g clip-path=\"url(#clip0_4338_178347)\">\n",
       "        <path d=\"M341.29 165.561H355.29L330.13 129.051C345.63 123.991 354.21 112.051 354.21 94.2307C354.21 71.3707 338.72 58.1807 311.88 58.1807H271V165.561H283.27V131.661H311.8C314.25 131.661 316.71 131.501 319.01 131.351L341.25 165.561H341.29ZM283.29 119.851V70.0007H311.82C331.3 70.0007 342.34 78.2907 342.34 94.5507C342.34 111.271 331.34 119.861 311.82 119.861L283.29 119.851ZM451.4 138.411L463.4 165.561H476.74L428.74 58.1807H416L367.83 165.561H380.83L392.83 138.411H451.4ZM446.19 126.601H398L422 72.1407L446.24 126.601H446.19ZM526.11 128.741L566.91 58.1807H554.35L519.99 114.181L485.17 58.1807H472.44L514.01 129.181V165.541H526.13V128.741H526.11Z\" fill=\"var(--jp-ui-font-color0)\"/>\n",
       "        <path d=\"M82.35 104.44C84.0187 97.8827 87.8248 92.0678 93.1671 87.9146C98.5094 83.7614 105.083 81.5067 111.85 81.5067C118.617 81.5067 125.191 83.7614 130.533 87.9146C135.875 92.0678 139.681 97.8827 141.35 104.44H163.75C164.476 101.562 165.622 98.8057 167.15 96.2605L127.45 56.5605C121.071 60.3522 113.526 61.6823 106.235 60.3005C98.9443 58.9187 92.4094 54.9203 87.8602 49.0574C83.3109 43.1946 81.0609 35.8714 81.5332 28.4656C82.0056 21.0599 85.1679 14.0819 90.4252 8.8446C95.6824 3.60726 102.672 0.471508 110.08 0.0272655C117.487 -0.416977 124.802 1.86091 130.647 6.4324C136.493 11.0039 140.467 17.5539 141.821 24.8501C143.175 32.1463 141.816 39.6859 138 46.0505L177.69 85.7505C182.31 82.9877 187.58 81.4995 192.962 81.4375C198.345 81.3755 203.648 82.742 208.33 85.3976C213.012 88.0532 216.907 91.9029 219.616 96.5544C222.326 101.206 223.753 106.492 223.753 111.875C223.753 117.258 222.326 122.545 219.616 127.197C216.907 131.848 213.012 135.698 208.33 138.353C203.648 141.009 198.345 142.375 192.962 142.313C187.58 142.251 182.31 140.763 177.69 138L138 177.7C141.808 184.071 143.155 191.614 141.79 198.91C140.424 206.205 136.44 212.75 130.585 217.313C124.731 221.875 117.412 224.141 110.004 223.683C102.596 223.226 95.6103 220.077 90.3621 214.828C85.1139 209.58 81.9647 202.595 81.5072 195.187C81.0497 187.779 83.3154 180.459 87.878 174.605C92.4405 168.751 98.9853 164.766 106.281 163.401C113.576 162.035 121.119 163.383 127.49 167.19L167.19 127.49C165.664 124.941 164.518 122.182 163.79 119.3H141.39C139.721 125.858 135.915 131.673 130.573 135.826C125.231 139.98 118.657 142.234 111.89 142.234C105.123 142.234 98.5494 139.98 93.2071 135.826C87.8648 131.673 84.0587 125.858 82.39 119.3H60C58.1878 126.495 53.8086 132.78 47.6863 136.971C41.5641 141.163 34.1211 142.972 26.7579 142.059C19.3947 141.146 12.6191 137.574 7.70605 132.014C2.79302 126.454 0.0813599 119.29 0.0813599 111.87C0.0813599 104.451 2.79302 97.2871 7.70605 91.7272C12.6191 86.1673 19.3947 82.5947 26.7579 81.6817C34.1211 80.7686 41.5641 82.5781 47.6863 86.7696C53.8086 90.9611 58.1878 97.2456 60 104.44H82.35ZM100.86 204.32C103.407 206.868 106.759 208.453 110.345 208.806C113.93 209.159 117.527 208.258 120.522 206.256C123.517 204.254 125.725 201.276 126.771 197.828C127.816 194.38 127.633 190.677 126.253 187.349C124.874 184.021 122.383 181.274 119.205 179.577C116.027 177.88 112.359 177.337 108.826 178.042C105.293 178.746 102.113 180.654 99.8291 183.44C97.5451 186.226 96.2979 189.718 96.3 193.32C96.2985 195.364 96.7006 197.388 97.4831 199.275C98.2656 201.163 99.4132 202.877 100.86 204.32ZM204.32 122.88C206.868 120.333 208.453 116.981 208.806 113.396C209.159 109.811 208.258 106.214 206.256 103.219C204.254 100.223 201.275 98.0151 197.827 96.97C194.38 95.9249 190.676 96.1077 187.348 97.4873C184.02 98.8669 181.274 101.358 179.577 104.536C177.879 107.714 177.337 111.382 178.041 114.915C178.746 118.448 180.653 121.627 183.439 123.911C186.226 126.195 189.717 127.443 193.32 127.44C195.364 127.443 197.388 127.042 199.275 126.259C201.163 125.476 202.878 124.328 204.32 122.88ZM122.88 19.4205C120.333 16.8729 116.981 15.2876 113.395 14.9347C109.81 14.5817 106.213 15.483 103.218 17.4849C100.223 19.4868 98.0146 22.4654 96.9696 25.9131C95.9245 29.3608 96.1073 33.0642 97.4869 36.3922C98.8665 39.7202 101.358 42.4668 104.535 44.1639C107.713 45.861 111.381 46.4036 114.914 45.6992C118.447 44.9949 121.627 43.0871 123.911 40.301C126.195 37.515 127.442 34.0231 127.44 30.4205C127.44 28.3772 127.038 26.3539 126.255 24.4664C125.473 22.5788 124.326 20.8642 122.88 19.4205ZM19.42 100.86C16.8725 103.408 15.2872 106.76 14.9342 110.345C14.5813 113.93 15.4826 117.527 17.4844 120.522C19.4863 123.518 22.4649 125.726 25.9127 126.771C29.3604 127.816 33.0638 127.633 36.3918 126.254C39.7198 124.874 42.4664 122.383 44.1635 119.205C45.8606 116.027 46.4032 112.359 45.6988 108.826C44.9944 105.293 43.0866 102.114 40.3006 99.8296C37.5145 97.5455 34.0227 96.2983 30.42 96.3005C26.2938 96.3018 22.337 97.9421 19.42 100.86ZM100.86 100.86C98.3125 103.408 96.7272 106.76 96.3742 110.345C96.0213 113.93 96.9226 117.527 98.9244 120.522C100.926 123.518 103.905 125.726 107.353 126.771C110.8 127.816 114.504 127.633 117.832 126.254C121.16 124.874 123.906 122.383 125.604 119.205C127.301 116.027 127.843 112.359 127.139 108.826C126.434 105.293 124.527 102.114 121.741 99.8296C118.955 97.5455 115.463 96.2983 111.86 96.3005C109.817 96.299 107.793 96.701 105.905 97.4835C104.018 98.2661 102.303 99.4136 100.86 100.86Z\" fill=\"#00AEEF\"/>\n",
       "    </g>\n",
       "    <defs>\n",
       "        <clipPath id=\"clip0_4338_178347\">\n",
       "            <rect width=\"566.93\" height=\"223.75\" fill=\"white\"/>\n",
       "        </clipPath>\n",
       "    </defs>\n",
       "  </svg>\n",
       "</div>\n",
       "\n",
       "        <table class=\"jp-RenderedHTMLCommon\" style=\"border-collapse: collapse;color: var(--jp-ui-font-color1);font-size: var(--jp-ui-font-size1);\">\n",
       "    <tr>\n",
       "        <td style=\"text-align: left\"><b>Python version:</b></td>\n",
       "        <td style=\"text-align: left\"><b>3.12.11</b></td>\n",
       "    </tr>\n",
       "    <tr>\n",
       "        <td style=\"text-align: left\"><b>Ray version:</b></td>\n",
       "        <td style=\"text-align: left\"><b>2.48.0</b></td>\n",
       "    </tr>\n",
       "    <tr>\n",
       "    <td style=\"text-align: left\"><b>Dashboard:</b></td>\n",
       "    <td style=\"text-align: left\"><b><a href=\"http://session-466hy7cqu1gzrp8zk8l4byz7l7.i.anyscaleuserdata.com\" target=\"_blank\">http://session-466hy7cqu1gzrp8zk8l4byz7l7.i.anyscaleuserdata.com</a></b></td>\n",
       "</tr>\n",
       "\n",
       "</table>\n",
       "\n",
       "    </div>\n",
       "</div>\n"
      ],
      "text/plain": [
       "RayContext(dashboard_url='session-466hy7cqu1gzrp8zk8l4byz7l7.i.anyscaleuserdata.com', python_version='3.12.11', ray_version='2.48.0', ray_commit='61d1966b0b02ce07f95d8f046ea7f6f92f7be190')"
      ]
     },
     "execution_count": null,
     "metadata": {},
     "output_type": "execute_result"
    }
   ],
   "source": [
    "# Enable Ray Train v2. It's too good to wait for public release!\n",
    "os.environ[\"RAY_TRAIN_V2_ENABLED\"] = \"1\"\n",
    "ray.init(\n",
    "    # connect to existing ray runtime (from previous notebook if still running)\n",
    "    address=os.environ.get(\"RAY_ADDRESS\", \"auto\"),\n",
    "    runtime_env={\n",
    "        \"env_vars\": {\"RAY_TRAIN_V2_ENABLED\": \"1\"},\n",
    "        # \"py_executable\": \"uv run\", # if using uv \n",
    "        # \"working_dir\": \"/home/ray/default\",  # if using uv \n",
    "    },\n",
    ")\n"
   ]
  },
  {
   "cell_type": "code",
   "execution_count": null,
   "metadata": {},
   "outputs": [],
   "source": [
    "%%bash\n",
    "# This will be removed once Ray Train v2 is enabled by default.\n",
    "echo \"RAY_TRAIN_V2_ENABLED=1\" > /home/ray/default/.env\n"
   ]
  },
  {
   "cell_type": "code",
   "execution_count": null,
   "metadata": {},
   "outputs": [
    {
     "data": {
      "text/plain": [
       "True"
      ]
     },
     "execution_count": null,
     "metadata": {},
     "output_type": "execute_result"
    }
   ],
   "source": [
    "# Load env vars in notebooks.\n",
    "from dotenv import load_dotenv\n",
    "load_dotenv()\n"
   ]
  },
  {
   "cell_type": "markdown",
   "metadata": {},
   "source": [
    "## Preprocess"
   ]
  },
  {
   "cell_type": "markdown",
   "metadata": {},
   "source": [
    "You need to convert the classes to labels (unique integers) so that you can train a classifier that can correctly predict the class given an input image. But before you do this, apply the same data ingestion and preprocessing as the previous notebook."
   ]
  },
  {
   "cell_type": "code",
   "execution_count": null,
   "metadata": {},
   "outputs": [],
   "source": [
    "def add_class(row):\n",
    "    row[\"class\"] = row[\"path\"].rsplit(\"/\", 3)[-2]\n",
    "    return row\n"
   ]
  },
  {
   "cell_type": "code",
   "execution_count": null,
   "metadata": {},
   "outputs": [],
   "source": [
    "# Preprocess data splits.\n",
    "train_ds = ray.data.read_images(\"s3://doggos-dataset/train\", include_paths=True, shuffle=\"files\")\n",
    "train_ds = train_ds.map(add_class)\n",
    "val_ds = ray.data.read_images(\"s3://doggos-dataset/val\", include_paths=True)\n",
    "val_ds = val_ds.map(add_class)\n"
   ]
  },
  {
   "cell_type": "markdown",
   "metadata": {},
   "source": [
    "Define a `Preprocessor` class that:\n",
    "- creates an embedding. A later step moves the embedding layer outside of the model since you freeze the embedding layer's weights and so you don't have to do it repeatedly as part of the model's forward pass, saving on unnecessary compute.\n",
    "- convert the classes into labels for the classifier. \n",
    "\n",
    "While you could've just done this step as a simple operation, you're taking the time to organize it as a class so that you can save and load for inference later."
   ]
  },
  {
   "cell_type": "code",
   "execution_count": null,
   "metadata": {},
   "outputs": [],
   "source": [
    "def convert_to_label(row, class_to_label):\n",
    "    if \"class\" in row:\n",
    "        row[\"label\"] = class_to_label[row[\"class\"]]\n",
    "    return row\n"
   ]
  },
  {
   "cell_type": "code",
   "execution_count": null,
   "metadata": {},
   "outputs": [],
   "source": [
    "import numpy as np\n",
    "from PIL import Image\n",
    "import torch\n",
    "from transformers import CLIPModel, CLIPProcessor\n",
    "from doggos.embed import EmbedImages\n"
   ]
  },
  {
   "cell_type": "code",
   "execution_count": null,
   "metadata": {},
   "outputs": [],
   "source": [
    "class Preprocessor:\n",
    "    \"\"\"Preprocessor class.\"\"\"\n",
    "    def __init__(self, class_to_label=None):\n",
    "        self.class_to_label = class_to_label or {}  # mutable defaults\n",
    "        self.label_to_class = {v: k for k, v in self.class_to_label.items()}\n",
    "        \n",
    "    def fit(self, ds, column):\n",
    "        self.classes = ds.unique(column=column)\n",
    "        self.class_to_label = {tag: i for i, tag in enumerate(self.classes)}\n",
    "        self.label_to_class = {v: k for k, v in self.class_to_label.items()}\n",
    "        return self\n",
    "    \n",
    "    def transform(self, ds, concurrency=4, batch_size=64, num_gpus=1):\n",
    "        ds = ds.map(\n",
    "            convert_to_label, \n",
    "            fn_kwargs={\"class_to_label\": self.class_to_label},\n",
    "        )\n",
    "        ds = ds.map_batches(\n",
    "            EmbedImages,\n",
    "            fn_constructor_kwargs={\n",
    "                \"model_id\": \"openai/clip-vit-base-patch32\", \n",
    "                \"device\": \"cuda\",\n",
    "            },\n",
    "            concurrency=4,\n",
    "            batch_size=64,\n",
    "            num_gpus=1,\n",
    "            accelerator_type=\"T4\",\n",
    "        )\n",
    "        ds = ds.drop_columns([\"image\"])\n",
    "        return ds\n",
    "\n",
    "    def save(self, fp):\n",
    "        with open(fp, \"w\") as f:\n",
    "            json.dump(self.class_to_label, f)\n"
   ]
  },
  {
   "cell_type": "code",
   "execution_count": null,
   "metadata": {},
   "outputs": [
    {
     "name": "stderr",
     "output_type": "stream",
     "text": [
      "2025-08-22 00:26:17,487\tINFO dataset.py:3057 -- Tip: Use `take_batch()` instead of `take() / show()` to return records in pandas or numpy batch format.\n",
      "2025-08-22 00:26:17,490\tINFO logging.py:295 -- Registered dataset logger for dataset dataset_72_0\n",
      "2025-08-22 00:26:17,522\tINFO streaming_executor.py:117 -- Starting execution of Dataset dataset_72_0. Full logs are in /tmp/ray/session_2025-08-21_18-48-13_464408_2298/logs/ray-data\n",
      "2025-08-22 00:26:17,523\tINFO streaming_executor.py:118 -- Execution plan of Dataset dataset_72_0: InputDataBuffer[Input] -> TaskPoolMapOperator[ListFiles] -> TaskPoolMapOperator[ReadFiles] -> TaskPoolMapOperator[Map(add_class)] -> AllToAllOperator[Aggregate] -> LimitOperator[limit=1]\n"
     ]
    },
    {
     "data": {
      "application/vnd.jupyter.widget-view+json": {
       "model_id": "aa17a81a379547a6b397907ffafec33b",
       "version_major": 2,
       "version_minor": 0
      },
      "text/plain": [
       "Running 0: 0.00 row [00:00, ? row/s]"
      ]
     },
     "metadata": {},
     "output_type": "display_data"
    },
    {
     "data": {
      "application/vnd.jupyter.widget-view+json": {
       "model_id": "08f021fb0f014335ab09e4baf362d6c3",
       "version_major": 2,
       "version_minor": 0
      },
      "text/plain": [
       "- ListFiles 1: 0.00 row [00:00, ? row/s]"
      ]
     },
     "metadata": {},
     "output_type": "display_data"
    },
    {
     "data": {
      "application/vnd.jupyter.widget-view+json": {
       "model_id": "bb9749220ab644db83ab9ac57348c6df",
       "version_major": 2,
       "version_minor": 0
      },
      "text/plain": [
       "- ReadFiles 2: 0.00 row [00:00, ? row/s]"
      ]
     },
     "metadata": {},
     "output_type": "display_data"
    },
    {
     "data": {
      "application/vnd.jupyter.widget-view+json": {
       "model_id": "7cd4f59d163149d8b1200348eaabebab",
       "version_major": 2,
       "version_minor": 0
      },
      "text/plain": [
       "- Map(add_class) 3: 0.00 row [00:00, ? row/s]"
      ]
     },
     "metadata": {},
     "output_type": "display_data"
    },
    {
     "data": {
      "application/vnd.jupyter.widget-view+json": {
       "model_id": "9a7fe9e6350a4ce88f4c4a12c3e83fc1",
       "version_major": 2,
       "version_minor": 0
      },
      "text/plain": [
       "- Aggregate 4: 0.00 row [00:00, ? row/s]"
      ]
     },
     "metadata": {},
     "output_type": "display_data"
    },
    {
     "data": {
      "application/vnd.jupyter.widget-view+json": {
       "model_id": "38470d9ffbeb4f4ca11c2c7d4e70886b",
       "version_major": 2,
       "version_minor": 0
      },
      "text/plain": [
       "Sort Sample 5:   0%|          | 0.00/1.00 [00:00<?, ? row/s]"
      ]
     },
     "metadata": {},
     "output_type": "display_data"
    },
    {
     "data": {
      "application/vnd.jupyter.widget-view+json": {
       "model_id": "ea5ecfb1d6fb4eadb1d55130cdf0ec04",
       "version_major": 2,
       "version_minor": 0
      },
      "text/plain": [
       "Shuffle Map 6:   0%|          | 0.00/1.00 [00:00<?, ? row/s]"
      ]
     },
     "metadata": {},
     "output_type": "display_data"
    },
    {
     "data": {
      "application/vnd.jupyter.widget-view+json": {
       "model_id": "e75cd967f3494a7cad6204c9f523ccad",
       "version_major": 2,
       "version_minor": 0
      },
      "text/plain": [
       "Shuffle Reduce 7:   0%|          | 0.00/1.00 [00:00<?, ? row/s]"
      ]
     },
     "metadata": {},
     "output_type": "display_data"
    },
    {
     "data": {
      "application/vnd.jupyter.widget-view+json": {
       "model_id": "37294f34620d4ed99e4c6db7f489e870",
       "version_major": 2,
       "version_minor": 0
      },
      "text/plain": [
       "- limit=1 8: 0.00 row [00:00, ? row/s]"
      ]
     },
     "metadata": {},
     "output_type": "display_data"
    },
    {
     "name": "stderr",
     "output_type": "stream",
     "text": [
      "2025-08-22 00:26:17,662\tWARNING resource_manager.py:130 -- ⚠️  Ray's object store is configured to use only 28.2% of available memory (67.8GB out of 240.5GB total). For optimal Ray Data performance, we recommend setting the object store to at least 50% of available memory. You can do this by setting the 'object_store_memory' parameter when calling ray.init() or by setting the RAY_DEFAULT_OBJECT_STORE_MEMORY_PROPORTION environment variable.\n",
      "2025-08-22 00:26:29,748\tINFO streaming_executor.py:231 -- ✔️  Dataset dataset_72_0 execution finished in 12.22 seconds\n"
     ]
    }
   ],
   "source": [
    "# Preprocess.\n",
    "preprocessor = Preprocessor()\n",
    "preprocessor = preprocessor.fit(train_ds, column=\"class\")\n",
    "train_ds = preprocessor.transform(ds=train_ds)\n",
    "val_ds = preprocessor.transform(ds=val_ds)\n"
   ]
  },
  {
   "cell_type": "markdown",
   "metadata": {},
   "source": [
    "<div class=\"alert alert-block alert\"> <b> Data processing</b> \n",
    "\n",
    "See this extensive guide on [data loading and preprocessing](https://docs.ray.io/en/latest/train/user-guides/data-loading-preprocessing.html) for the last-mile preprocessing you need to do prior to training your models. However, Ray Data does support performant joins, filters, aggregations, etc., for the more structure data processing your workloads may need."
   ]
  },
  {
   "cell_type": "code",
   "execution_count": null,
   "metadata": {},
   "outputs": [],
   "source": [
    "import shutil\n"
   ]
  },
  {
   "cell_type": "code",
   "execution_count": null,
   "metadata": {},
   "outputs": [
    {
     "name": "stderr",
     "output_type": "stream",
     "text": [
      "2025-08-22 00:26:30,402\tINFO logging.py:295 -- Registered dataset logger for dataset dataset_80_0\n",
      "2025-08-22 00:26:30,433\tINFO streaming_executor.py:117 -- Starting execution of Dataset dataset_80_0. Full logs are in /tmp/ray/session_2025-08-21_18-48-13_464408_2298/logs/ray-data\n",
      "2025-08-22 00:26:30,435\tINFO streaming_executor.py:118 -- Execution plan of Dataset dataset_80_0: InputDataBuffer[Input] -> TaskPoolMapOperator[ListFiles] -> TaskPoolMapOperator[ReadFiles] -> TaskPoolMapOperator[Map(add_class)->Map(convert_to_label)] -> ActorPoolMapOperator[MapBatches(EmbedImages)] -> TaskPoolMapOperator[MapBatches(drop_columns)->Write]\n"
     ]
    },
    {
     "data": {
      "application/vnd.jupyter.widget-view+json": {
       "model_id": "9a4fc2809c524fdea65f33187089279c",
       "version_major": 2,
       "version_minor": 0
      },
      "text/plain": [
       "Running 0: 0.00 row [00:00, ? row/s]"
      ]
     },
     "metadata": {},
     "output_type": "display_data"
    },
    {
     "data": {
      "application/vnd.jupyter.widget-view+json": {
       "model_id": "7ed00402d404430596be9d367c53de16",
       "version_major": 2,
       "version_minor": 0
      },
      "text/plain": [
       "- ListFiles 1: 0.00 row [00:00, ? row/s]"
      ]
     },
     "metadata": {},
     "output_type": "display_data"
    },
    {
     "data": {
      "application/vnd.jupyter.widget-view+json": {
       "model_id": "cb833a76da3245a0bfcf5d7d7959e847",
       "version_major": 2,
       "version_minor": 0
      },
      "text/plain": [
       "- ReadFiles 2: 0.00 row [00:00, ? row/s]"
      ]
     },
     "metadata": {},
     "output_type": "display_data"
    },
    {
     "data": {
      "application/vnd.jupyter.widget-view+json": {
       "model_id": "c2223e2ee8e046079a76f8cdcef8abf5",
       "version_major": 2,
       "version_minor": 0
      },
      "text/plain": [
       "- Map(add_class)->Map(convert_to_label) 3: 0.00 row [00:00, ? row/s]"
      ]
     },
     "metadata": {},
     "output_type": "display_data"
    },
    {
     "data": {
      "application/vnd.jupyter.widget-view+json": {
       "model_id": "14d3a76ba8f84b3ba6729d43dcd221d8",
       "version_major": 2,
       "version_minor": 0
      },
      "text/plain": [
       "- MapBatches(EmbedImages) 4: 0.00 row [00:00, ? row/s]"
      ]
     },
     "metadata": {},
     "output_type": "display_data"
    },
    {
     "data": {
      "application/vnd.jupyter.widget-view+json": {
       "model_id": "5b5ea2e535b04e95b3bb8739e478a678",
       "version_major": 2,
       "version_minor": 0
      },
      "text/plain": [
       "- MapBatches(drop_columns)->Write 5: 0.00 row [00:00, ? row/s]"
      ]
     },
     "metadata": {},
     "output_type": "display_data"
    },
    {
     "name": "stdout",
     "output_type": "stream",
     "text": [
      "\u001b[36m(autoscaler +25s)\u001b[0m Tip: use `ray status` to view detailed cluster status. To disable these messages, set RAY_SCHEDULER_EVENTS=0.\n",
      "\u001b[36m(autoscaler +25s)\u001b[0m [autoscaler] [4xT4:48CPU-192GB] Attempting to add 1 node to the cluster (increasing from 0 to 1).\n",
      "\u001b[36m(autoscaler +30s)\u001b[0m [autoscaler] [4xT4:48CPU-192GB|g4dn.12xlarge] [us-west-2a] [on-demand] Launched 1 instance.\n",
      "\u001b[36m(autoscaler +1m15s)\u001b[0m [autoscaler] Cluster upscaled to {104 CPU, 8 GPU}.\n"
     ]
    },
    {
     "name": "stderr",
     "output_type": "stream",
     "text": [
      "\u001b[36m(_MapWorker pid=3320, ip=10.0.4.102)\u001b[0m Using a slow image processor as `use_fast` is unset and a slow processor was saved with this model. `use_fast=True` will be the default behavior in v4.52, even if the model was saved with a slow processor. This will result in minor differences in outputs. You'll still be able to use a slow processor with `use_fast=False`.\n",
      "\u001b[36m(MapBatches(drop_columns)->Write pid=44781, ip=10.0.171.239)\u001b[0m FilenameProvider have to provide proper filename template including '{{i}}' macro to ensure unique filenames when writing multiple files. Appending '{{i}}' macro to the end of the file. For more details on the expected filename template checkout PyArrow's `write_to_dataset` API\n",
      "\u001b[36m(_MapWorker pid=3323, ip=10.0.4.102)\u001b[0m Using a slow image processor as `use_fast` is unset and a slow processor was saved with this model. `use_fast=True` will be the default behavior in v4.52, even if the model was saved with a slow processor. This will result in minor differences in outputs. You'll still be able to use a slow processor with `use_fast=False`.\u001b[32m [repeated 3x across cluster] (Ray deduplicates logs by default. Set RAY_DEDUP_LOGS=0 to disable log deduplication, or see https://docs.ray.io/en/master/ray-observability/user-guides/configure-logging.html#log-deduplication for more options.)\u001b[0m\n",
      "\u001b[36m(MapBatches(drop_columns)->Write pid=44781, ip=10.0.171.239)\u001b[0m FilenameProvider have to provide proper filename template including '{{i}}' macro to ensure unique filenames when writing multiple files. Appending '{{i}}' macro to the end of the file. For more details on the expected filename template checkout PyArrow's `write_to_dataset` API\u001b[32m [repeated 32x across cluster]\u001b[0m\n",
      "2025-08-22 00:29:10,480\tINFO streaming_executor.py:231 -- ✔️  Dataset dataset_80_0 execution finished in 160.04 seconds\n",
      "2025-08-22 00:29:10,570\tINFO dataset.py:4621 -- Data sink Parquet finished. 2880 rows and 5.9MB data written.\n",
      "2025-08-22 00:29:10,582\tINFO logging.py:295 -- Registered dataset logger for dataset dataset_83_0\n",
      "2025-08-22 00:29:10,601\tINFO streaming_executor.py:117 -- Starting execution of Dataset dataset_83_0. Full logs are in /tmp/ray/session_2025-08-21_18-48-13_464408_2298/logs/ray-data\n",
      "2025-08-22 00:29:10,603\tINFO streaming_executor.py:118 -- Execution plan of Dataset dataset_83_0: InputDataBuffer[Input] -> TaskPoolMapOperator[ListFiles] -> TaskPoolMapOperator[ReadFiles] -> TaskPoolMapOperator[Map(add_class)->Map(convert_to_label)] -> ActorPoolMapOperator[MapBatches(EmbedImages)] -> TaskPoolMapOperator[MapBatches(drop_columns)->Write]\n"
     ]
    },
    {
     "data": {
      "application/vnd.jupyter.widget-view+json": {
       "model_id": "0abbbeeb2a35431a95d00c4c921ee61b",
       "version_major": 2,
       "version_minor": 0
      },
      "text/plain": [
       "Running 0: 0.00 row [00:00, ? row/s]"
      ]
     },
     "metadata": {},
     "output_type": "display_data"
    },
    {
     "data": {
      "application/vnd.jupyter.widget-view+json": {
       "model_id": "bf9288444a51499a8b1083a1b784b210",
       "version_major": 2,
       "version_minor": 0
      },
      "text/plain": [
       "- ListFiles 1: 0.00 row [00:00, ? row/s]"
      ]
     },
     "metadata": {},
     "output_type": "display_data"
    },
    {
     "data": {
      "application/vnd.jupyter.widget-view+json": {
       "model_id": "8ec81536f155464c9a2ecf135cf83d80",
       "version_major": 2,
       "version_minor": 0
      },
      "text/plain": [
       "- ReadFiles 2: 0.00 row [00:00, ? row/s]"
      ]
     },
     "metadata": {},
     "output_type": "display_data"
    },
    {
     "data": {
      "application/vnd.jupyter.widget-view+json": {
       "model_id": "512fded93ca04523b3ed812aec1ada77",
       "version_major": 2,
       "version_minor": 0
      },
      "text/plain": [
       "- Map(add_class)->Map(convert_to_label) 3: 0.00 row [00:00, ? row/s]"
      ]
     },
     "metadata": {},
     "output_type": "display_data"
    },
    {
     "data": {
      "application/vnd.jupyter.widget-view+json": {
       "model_id": "b3b9c393001d49f4b0535b625a132edb",
       "version_major": 2,
       "version_minor": 0
      },
      "text/plain": [
       "- MapBatches(EmbedImages) 4: 0.00 row [00:00, ? row/s]"
      ]
     },
     "metadata": {},
     "output_type": "display_data"
    },
    {
     "data": {
      "application/vnd.jupyter.widget-view+json": {
       "model_id": "5f38287bfd4b4795a3839f44b0d2b1a8",
       "version_major": 2,
       "version_minor": 0
      },
      "text/plain": [
       "- MapBatches(drop_columns)->Write 5: 0.00 row [00:00, ? row/s]"
      ]
     },
     "metadata": {},
     "output_type": "display_data"
    },
    {
     "name": "stderr",
     "output_type": "stream",
     "text": [
      "2025-08-22 00:29:12,374\tWARNING streaming_executor_state.py:764 -- Operator produced a RefBundle with a different schema than the previous one. Previous schema: image: extension<ray.data.arrow_variable_shaped_tensor<ArrowVariableShapedTensorType>>\n",
      "path: string, new schema: image: extension<ray.data.arrow_tensor_v2<ArrowTensorTypeV2>>\n",
      "path: string. This may lead to unexpected behavior.\n",
      "2025-08-22 00:29:13,110\tWARNING streaming_executor_state.py:764 -- Operator produced a RefBundle with a different schema than the previous one. Previous schema: image: extension<ray.data.arrow_variable_shaped_tensor<ArrowVariableShapedTensorType>>\n",
      "path: string\n",
      "class: string\n",
      "label: int64, new schema: image: extension<ray.data.arrow_tensor_v2<ArrowTensorTypeV2>>\n",
      "path: string\n",
      "class: string\n",
      "label: int64. This may lead to unexpected behavior.\n",
      "\u001b[36m(_MapWorker pid=3910, ip=10.0.4.102)\u001b[0m Using a slow image processor as `use_fast` is unset and a slow processor was saved with this model. `use_fast=True` will be the default behavior in v4.52, even if the model was saved with a slow processor. This will result in minor differences in outputs. You'll still be able to use a slow processor with `use_fast=False`.\n",
      "\u001b[36m(MapBatches(drop_columns)->Write pid=121066)\u001b[0m FilenameProvider have to provide proper filename template including '{{i}}' macro to ensure unique filenames when writing multiple files. Appending '{{i}}' macro to the end of the file. For more details on the expected filename template checkout PyArrow's `write_to_dataset` API\u001b[32m [repeated 7x across cluster]\u001b[0m\n"
     ]
    },
    {
     "name": "stdout",
     "output_type": "stream",
     "text": [
      "\u001b[36m(autoscaler +3m10s)\u001b[0m [autoscaler] [8CPU-32GB] Attempting to add 1 node to the cluster (increasing from 0 to 1).\n",
      "\u001b[36m(autoscaler +3m10s)\u001b[0m [autoscaler] [8CPU-32GB|m5.2xlarge] [us-west-2a] [on-demand] Launched 1 instance.\n"
     ]
    },
    {
     "name": "stderr",
     "output_type": "stream",
     "text": [
      "\u001b[36m(_MapWorker pid=4731, ip=10.0.4.102)\u001b[0m Using a slow image processor as `use_fast` is unset and a slow processor was saved with this model. `use_fast=True` will be the default behavior in v4.52, even if the model was saved with a slow processor. This will result in minor differences in outputs. You'll still be able to use a slow processor with `use_fast=False`.\u001b[32m [repeated 3x across cluster]\u001b[0m\n",
      "\u001b[36m(MapBatches(drop_columns)->Write pid=45557, ip=10.0.171.239)\u001b[0m FilenameProvider have to provide proper filename template including '{{i}}' macro to ensure unique filenames when writing multiple files. Appending '{{i}}' macro to the end of the file. For more details on the expected filename template checkout PyArrow's `write_to_dataset` API\u001b[32m [repeated 6x across cluster]\u001b[0m\n",
      "2025-08-22 00:29:24,485\tINFO streaming_executor.py:231 -- ✔️  Dataset dataset_83_0 execution finished in 13.88 seconds\n",
      "2025-08-22 00:29:24,531\tINFO dataset.py:4621 -- Data sink Parquet finished. 720 rows and 1.5MB data written.\n"
     ]
    }
   ],
   "source": [
    "# Write processed data to cloud storage.\n",
    "preprocessed_data_path = os.path.join(\"/mnt/cluster_storage\", \"doggos/preprocessed_data\")\n",
    "if os.path.exists(preprocessed_data_path):  # Clean up.\n",
    "    shutil.rmtree(preprocessed_data_path)\n",
    "preprocessed_train_path = os.path.join(preprocessed_data_path, \"preprocessed_train\")\n",
    "preprocessed_val_path = os.path.join(preprocessed_data_path, \"preprocessed_val\")\n",
    "train_ds.write_parquet(preprocessed_train_path)\n",
    "val_ds.write_parquet(preprocessed_val_path)\n"
   ]
  },
  {
   "cell_type": "markdown",
   "metadata": {},
   "source": [
    "<div class=\"alert alert-block alert\"> <b> Store often, save compute</b> \n",
    "\n",
    "Store the preprocessed data into shared cloud storage to:\n",
    "- save a record of what this preprocessed data looks like\n",
    "- avoid triggering the entire preprocessing for each batch the model processes\n",
    "- avoid [`materialize`](https://docs.ray.io/en/latest/data/api/doc/ray.data.Dataset.materialize.html) of the preprocessed data because you shouldn't force large data to fit in memory"
   ]
  },
  {
   "cell_type": "markdown",
   "metadata": {},
   "source": [
    "## Model"
   ]
  },
  {
   "cell_type": "markdown",
   "metadata": {},
   "source": [
    "Define the model -- a simple two layer neural net with Softmax layer to predict class probabilities. Notice that it's all just base PyTorch and nothing else."
   ]
  },
  {
   "cell_type": "code",
   "execution_count": null,
   "metadata": {},
   "outputs": [],
   "source": [
    "import json\n",
    "from pathlib import Path\n",
    "import torch\n",
    "import torch.nn as nn\n",
    "import torch.nn.functional as F\n"
   ]
  },
  {
   "cell_type": "code",
   "execution_count": null,
   "metadata": {},
   "outputs": [],
   "source": [
    "class ClassificationModel(torch.nn.Module):\n",
    "    def __init__(self, embedding_dim, hidden_dim, dropout_p, num_classes):\n",
    "        super().__init__()\n",
    "        # Hyperparameters\n",
    "        self.embedding_dim = embedding_dim\n",
    "        self.hidden_dim = hidden_dim\n",
    "        self.dropout_p = dropout_p\n",
    "        self.num_classes = num_classes\n",
    "\n",
    "        # Define layers\n",
    "        self.fc1 = nn.Linear(embedding_dim, hidden_dim)\n",
    "        self.batch_norm = nn.BatchNorm1d(hidden_dim)\n",
    "        self.relu = nn.ReLU()\n",
    "        self.dropout = nn.Dropout(dropout_p)\n",
    "        self.fc2 = nn.Linear(hidden_dim, num_classes)\n",
    "\n",
    "    def forward(self, batch):\n",
    "        z = self.fc1(batch[\"embedding\"])\n",
    "        z = self.batch_norm(z)\n",
    "        z = self.relu(z)\n",
    "        z = self.dropout(z)\n",
    "        z = self.fc2(z)\n",
    "        return z\n",
    "\n",
    "    @torch.inference_mode()\n",
    "    def predict(self, batch):\n",
    "        z = self(batch)\n",
    "        y_pred = torch.argmax(z, dim=1).cpu().numpy()\n",
    "        return y_pred\n",
    "\n",
    "    @torch.inference_mode()\n",
    "    def predict_probabilities(self, batch):\n",
    "        z = self(batch)\n",
    "        y_probs = F.softmax(z, dim=1).cpu().numpy()\n",
    "        return y_probs\n",
    "\n",
    "    def save(self, dp):\n",
    "        Path(dp).mkdir(parents=True, exist_ok=True)\n",
    "        with open(Path(dp, \"args.json\"), \"w\") as fp:\n",
    "            json.dump({\n",
    "                \"embedding_dim\": self.embedding_dim,\n",
    "                \"hidden_dim\": self.hidden_dim,\n",
    "                \"dropout_p\": self.dropout_p,\n",
    "                \"num_classes\": self.num_classes,\n",
    "            }, fp, indent=4)\n",
    "        torch.save(self.state_dict(), Path(dp, \"model.pt\"))\n",
    "\n",
    "    @classmethod\n",
    "    def load(cls, args_fp, state_dict_fp, device=\"cpu\"):\n",
    "        with open(args_fp, \"r\") as fp:\n",
    "            model = cls(**json.load(fp))\n",
    "        model.load_state_dict(torch.load(state_dict_fp, map_location=device))\n",
    "        return model\n"
   ]
  },
  {
   "cell_type": "code",
   "execution_count": null,
   "metadata": {},
   "outputs": [
    {
     "name": "stdout",
     "output_type": "stream",
     "text": [
      "ClassificationModel(\n",
      "  (fc1): Linear(in_features=512, out_features=256, bias=True)\n",
      "  (batch_norm): BatchNorm1d(256, eps=1e-05, momentum=0.1, affine=True, track_running_stats=True)\n",
      "  (relu): ReLU()\n",
      "  (dropout): Dropout(p=0.3, inplace=False)\n",
      "  (fc2): Linear(in_features=256, out_features=36, bias=True)\n",
      ")\n"
     ]
    }
   ],
   "source": [
    "# Initialize model.\n",
    "num_classes = len(preprocessor.classes)\n",
    "model = ClassificationModel(\n",
    "    embedding_dim=512, \n",
    "    hidden_dim=256, \n",
    "    dropout_p=0.3, \n",
    "    num_classes=num_classes,\n",
    ")\n",
    "print (model)\n"
   ]
  },
  {
   "cell_type": "markdown",
   "metadata": {},
   "source": [
    "## Batching"
   ]
  },
  {
   "cell_type": "markdown",
   "metadata": {},
   "source": [
    "Take a look at a sample batch of data and ensure that tensors have the proper data type."
   ]
  },
  {
   "cell_type": "code",
   "execution_count": null,
   "metadata": {},
   "outputs": [],
   "source": [
    "from ray.train.torch import get_device\n"
   ]
  },
  {
   "cell_type": "code",
   "execution_count": null,
   "metadata": {},
   "outputs": [],
   "source": [
    "def collate_fn(batch):\n",
    "    dtypes = {\"embedding\": torch.float32, \"label\": torch.int64}\n",
    "    tensor_batch = {}\n",
    "    for key in dtypes.keys():\n",
    "        if key in batch:\n",
    "            tensor_batch[key] = torch.as_tensor(\n",
    "                batch[key],\n",
    "                dtype=dtypes[key],\n",
    "                device=get_device(),\n",
    "            )\n",
    "    return tensor_batch\n"
   ]
  },
  {
   "cell_type": "code",
   "execution_count": null,
   "metadata": {},
   "outputs": [
    {
     "name": "stderr",
     "output_type": "stream",
     "text": [
      "2025-08-22 00:29:25,511\tINFO logging.py:295 -- Registered dataset logger for dataset dataset_85_0\n",
      "2025-08-22 00:29:25,523\tINFO streaming_executor.py:117 -- Starting execution of Dataset dataset_85_0. Full logs are in /tmp/ray/session_2025-08-21_18-48-13_464408_2298/logs/ray-data\n"
     ]
    },
    {
     "name": "stderr",
     "output_type": "stream",
     "text": [
      "2025-08-22 00:29:25,524\tINFO streaming_executor.py:118 -- Execution plan of Dataset dataset_85_0: InputDataBuffer[Input] -> TaskPoolMapOperator[ListFiles] -> TaskPoolMapOperator[ReadFiles] -> TaskPoolMapOperator[Map(add_class)->Map(convert_to_label)] -> ActorPoolMapOperator[MapBatches(EmbedImages)] -> TaskPoolMapOperator[MapBatches(drop_columns)] -> LimitOperator[limit=3]\n"
     ]
    },
    {
     "data": {
      "application/vnd.jupyter.widget-view+json": {
       "model_id": "c596b6e4878f41a9ac527bfb3925c95e",
       "version_major": 2,
       "version_minor": 0
      },
      "text/plain": [
       "Running 0: 0.00 row [00:00, ? row/s]"
      ]
     },
     "metadata": {},
     "output_type": "display_data"
    },
    {
     "data": {
      "application/vnd.jupyter.widget-view+json": {
       "model_id": "124f996b75cd452d89bb404100035d45",
       "version_major": 2,
       "version_minor": 0
      },
      "text/plain": [
       "- ListFiles 1: 0.00 row [00:00, ? row/s]"
      ]
     },
     "metadata": {},
     "output_type": "display_data"
    },
    {
     "data": {
      "application/vnd.jupyter.widget-view+json": {
       "model_id": "f76037bae4334040bf81176c7ddab96d",
       "version_major": 2,
       "version_minor": 0
      },
      "text/plain": [
       "- ReadFiles 2: 0.00 row [00:00, ? row/s]"
      ]
     },
     "metadata": {},
     "output_type": "display_data"
    },
    {
     "data": {
      "application/vnd.jupyter.widget-view+json": {
       "model_id": "323cdef1b95f405da16d7478a2295072",
       "version_major": 2,
       "version_minor": 0
      },
      "text/plain": [
       "- Map(add_class)->Map(convert_to_label) 3: 0.00 row [00:00, ? row/s]"
      ]
     },
     "metadata": {},
     "output_type": "display_data"
    },
    {
     "data": {
      "application/vnd.jupyter.widget-view+json": {
       "model_id": "2f9da19c9b7046b68d748780426d7886",
       "version_major": 2,
       "version_minor": 0
      },
      "text/plain": [
       "- MapBatches(EmbedImages) 4: 0.00 row [00:00, ? row/s]"
      ]
     },
     "metadata": {},
     "output_type": "display_data"
    },
    {
     "data": {
      "application/vnd.jupyter.widget-view+json": {
       "model_id": "3ff417b842ae472f8ef0e640443d3897",
       "version_major": 2,
       "version_minor": 0
      },
      "text/plain": [
       "- MapBatches(drop_columns) 5: 0.00 row [00:00, ? row/s]"
      ]
     },
     "metadata": {},
     "output_type": "display_data"
    },
    {
     "data": {
      "application/vnd.jupyter.widget-view+json": {
       "model_id": "b3b34ef888164ae8a618828d9832fd8f",
       "version_major": 2,
       "version_minor": 0
      },
      "text/plain": [
       "- limit=3 6: 0.00 row [00:00, ? row/s]"
      ]
     },
     "metadata": {},
     "output_type": "display_data"
    },
    {
     "name": "stderr",
     "output_type": "stream",
     "text": [
      "\u001b[36m(_MapWorker pid=4911, ip=10.0.4.102)\u001b[0m Using a slow image processor as `use_fast` is unset and a slow processor was saved with this model. `use_fast=True` will be the default behavior in v4.52, even if the model was saved with a slow processor. This will result in minor differences in outputs. You'll still be able to use a slow processor with `use_fast=False`.\n",
      "2025-08-22 00:29:36,437\tINFO streaming_executor.py:231 -- ✔️  Dataset dataset_85_0 execution finished in 10.91 seconds\n",
      "/tmp/ipykernel_120810/417303983.py:6: UserWarning: The given NumPy array is not writable, and PyTorch does not support non-writable tensors. This means writing to this tensor will result in undefined behavior. You may want to copy the array to protect its data or make it writable before converting it to a tensor. This type of warning will be suppressed for the rest of this program. (Triggered internally at /pytorch/torch/csrc/utils/tensor_numpy.cpp:203.)\n",
      "  tensor_batch[key] = torch.as_tensor(\n"
     ]
    },
    {
     "data": {
      "text/plain": [
       "{'embedding': tensor([[ 0.4219,  0.3688, -0.1833,  ...,  0.6288,  0.2298, -0.3989],\n",
       "         [ 0.0385,  0.3297,  0.2076,  ...,  0.3434, -0.5492,  0.0362],\n",
       "         [ 0.1881,  0.1737, -0.3069,  ...,  0.3336,  0.1783, -0.0299]]),\n",
       " 'label': tensor([11, 34,  7])}"
      ]
     },
     "execution_count": null,
     "metadata": {},
     "output_type": "execute_result"
    }
   ],
   "source": [
    "# Sample batch\n",
    "sample_batch = train_ds.take_batch(batch_size=3)\n",
    "collate_fn(batch=sample_batch)\n"
   ]
  },
  {
   "cell_type": "markdown",
   "metadata": {},
   "source": [
    "## Model registry"
   ]
  },
  {
   "cell_type": "markdown",
   "metadata": {},
   "source": [
    "Create a model registry in [Anyscale user storage](https://docs.anyscale.com/configuration/storage/#user-storage) to save the model checkpoints to. Use OSS MLflow but you can easily [set up other experiment trackers](https://docs.ray.io/en/latest/train/user-guides/experiment-tracking.html) with Ray."
   ]
  },
  {
   "cell_type": "code",
   "execution_count": null,
   "metadata": {},
   "outputs": [],
   "source": [
    "import shutil\n"
   ]
  },
  {
   "cell_type": "code",
   "execution_count": null,
   "metadata": {},
   "outputs": [],
   "source": [
    "model_registry = \"/mnt/cluster_storage/mlflow/doggos\"\n",
    "if os.path.isdir(model_registry):\n",
    "    shutil.rmtree(model_registry)  # clean up\n",
    "os.makedirs(model_registry, exist_ok=True)\n"
   ]
  },
  {
   "cell_type": "markdown",
   "metadata": {},
   "source": [
    "## Training"
   ]
  },
  {
   "cell_type": "markdown",
   "metadata": {},
   "source": [
    "Define the training workload by specifying the:\n",
    "- experiment and model parameters\n",
    "- compute scaling configuration\n",
    "- forward pass for batches of training and validation data\n",
    "- train loop for each epoch of data and checkpointing"
   ]
  },
  {
   "cell_type": "markdown",
   "metadata": {},
   "source": [
    "<img src=\"https://raw.githubusercontent.com/anyscale/multimodal-ai/refs/heads/main/images/trainer.png\" width=700>"
   ]
  },
  {
   "cell_type": "code",
   "execution_count": null,
   "metadata": {},
   "outputs": [],
   "source": [
    "# Train loop config.\n",
    "experiment_name = \"doggos\"\n",
    "train_loop_config = {\n",
    "    \"model_registry\": model_registry,\n",
    "    \"experiment_name\": experiment_name,\n",
    "    \"embedding_dim\": 512,\n",
    "    \"hidden_dim\": 256,\n",
    "    \"dropout_p\": 0.3,\n",
    "    \"lr\": 1e-3,\n",
    "    \"lr_factor\": 0.8,\n",
    "    \"lr_patience\": 3,\n",
    "    \"num_epochs\": 20,\n",
    "    \"batch_size\": 256,\n",
    "}\n"
   ]
  },
  {
   "cell_type": "code",
   "execution_count": null,
   "metadata": {},
   "outputs": [],
   "source": [
    "# Scaling config\n",
    "num_workers = 4\n",
    "scaling_config = ray.train.ScalingConfig(\n",
    "    num_workers=num_workers,\n",
    "    use_gpu=True,\n",
    "    resources_per_worker={\"CPU\": 8, \"GPU\": 2},\n",
    "    accelerator_type=\"T4\",\n",
    ")\n"
   ]
  },
  {
   "cell_type": "code",
   "execution_count": null,
   "metadata": {},
   "outputs": [],
   "source": [
    "import tempfile\n",
    "import mlflow\n",
    "import numpy as np\n",
    "from ray.train.torch import TorchTrainer\n"
   ]
  },
  {
   "cell_type": "code",
   "execution_count": null,
   "metadata": {},
   "outputs": [],
   "source": [
    "def train_epoch(ds, batch_size, model, num_classes, loss_fn, optimizer):\n",
    "    model.train()\n",
    "    loss = 0.0\n",
    "    ds_generator = ds.iter_torch_batches(batch_size=batch_size, collate_fn=collate_fn)\n",
    "    for i, batch in enumerate(ds_generator):\n",
    "        optimizer.zero_grad()  # Reset gradients.\n",
    "        z = model(batch)  # Forward pass.\n",
    "        targets = F.one_hot(batch[\"label\"], num_classes=num_classes).float()\n",
    "        J = loss_fn(z, targets)  # Define loss.\n",
    "        J.backward()  # Backward pass.\n",
    "        optimizer.step()  # Update weights.\n",
    "        loss += (J.detach().item() - loss) / (i + 1)  # Cumulative loss\n",
    "    return loss\n"
   ]
  },
  {
   "cell_type": "code",
   "execution_count": null,
   "metadata": {},
   "outputs": [],
   "source": [
    "def eval_epoch(ds, batch_size, model, num_classes, loss_fn):\n",
    "    model.eval()\n",
    "    loss = 0.0\n",
    "    y_trues, y_preds = [], []\n",
    "    ds_generator = ds.iter_torch_batches(batch_size=batch_size, collate_fn=collate_fn)\n",
    "    with torch.inference_mode():\n",
    "        for i, batch in enumerate(ds_generator):\n",
    "            z = model(batch)\n",
    "            targets = F.one_hot(batch[\"label\"], num_classes=num_classes).float()  # one-hot (for loss_fn)\n",
    "            J = loss_fn(z, targets).item()\n",
    "            loss += (J - loss) / (i + 1)\n",
    "            y_trues.extend(batch[\"label\"].cpu().numpy())\n",
    "            y_preds.extend(torch.argmax(z, dim=1).cpu().numpy())\n",
    "    return loss, np.vstack(y_trues), np.vstack(y_preds)\n"
   ]
  },
  {
   "cell_type": "code",
   "execution_count": null,
   "metadata": {},
   "outputs": [],
   "source": [
    "def train_loop_per_worker(config):\n",
    "    # Hyperparameters.\n",
    "    model_registry = config[\"model_registry\"]\n",
    "    experiment_name = config[\"experiment_name\"]\n",
    "    embedding_dim = config[\"embedding_dim\"]\n",
    "    hidden_dim = config[\"hidden_dim\"]\n",
    "    dropout_p = config[\"dropout_p\"]\n",
    "    lr = config[\"lr\"]\n",
    "    lr_factor = config[\"lr_factor\"]\n",
    "    lr_patience = config[\"lr_patience\"]\n",
    "    num_epochs = config[\"num_epochs\"]\n",
    "    batch_size = config[\"batch_size\"]\n",
    "    num_classes = config[\"num_classes\"]\n",
    "\n",
    "    # Experiment tracking.\n",
    "    if ray.train.get_context().get_world_rank() == 0:\n",
    "        mlflow.set_tracking_uri(f\"file:{model_registry}\")\n",
    "        mlflow.set_experiment(experiment_name)\n",
    "        mlflow.start_run()\n",
    "        mlflow.log_params(config)\n",
    "\n",
    "    # Datasets.\n",
    "    train_ds = ray.train.get_dataset_shard(\"train\")\n",
    "    val_ds = ray.train.get_dataset_shard(\"val\")\n",
    "\n",
    "    # Model.\n",
    "    model = ClassificationModel(\n",
    "        embedding_dim=embedding_dim, \n",
    "        hidden_dim=hidden_dim, \n",
    "        dropout_p=dropout_p, \n",
    "        num_classes=num_classes,\n",
    "    )\n",
    "    model = ray.train.torch.prepare_model(model)\n",
    "\n",
    "    # Training components.\n",
    "    loss_fn = torch.nn.CrossEntropyLoss()\n",
    "    optimizer = torch.optim.Adam(model.parameters(), lr=lr)\n",
    "    scheduler = torch.optim.lr_scheduler.ReduceLROnPlateau(\n",
    "        optimizer, \n",
    "        mode=\"min\", \n",
    "        factor=lr_factor, \n",
    "        patience=lr_patience,\n",
    "    )\n",
    "\n",
    "    # Training.\n",
    "    best_val_loss = float(\"inf\")\n",
    "    for epoch in range(num_epochs):\n",
    "        # Steps\n",
    "        train_loss = train_epoch(train_ds, batch_size, model, num_classes, loss_fn, optimizer)\n",
    "        val_loss, _, _ = eval_epoch(val_ds, batch_size, model, num_classes, loss_fn)\n",
    "        scheduler.step(val_loss)\n",
    "\n",
    "        # Checkpoint (metrics, preprocessor and model artifacts).\n",
    "        with tempfile.TemporaryDirectory() as dp:\n",
    "            model.module.save(dp=dp)\n",
    "            metrics = dict(lr=optimizer.param_groups[0][\"lr\"], train_loss=train_loss, val_loss=val_loss)\n",
    "            with open(os.path.join(dp, \"class_to_label.json\"), \"w\") as fp:\n",
    "                json.dump(config[\"class_to_label\"], fp, indent=4)\n",
    "            if ray.train.get_context().get_world_rank() == 0:  # only on main worker 0\n",
    "                mlflow.log_metrics(metrics, step=epoch)\n",
    "                if val_loss < best_val_loss:\n",
    "                    best_val_loss = val_loss\n",
    "                    mlflow.log_artifacts(dp)\n",
    "\n",
    "    # End experiment tracking.\n",
    "    if ray.train.get_context().get_world_rank() == 0:\n",
    "        mlflow.end_run()\n"
   ]
  },
  {
   "cell_type": "markdown",
   "metadata": {},
   "source": [
    "<div class=\"alert alert-block alert\"> <b> Minimal change to your training code</b> \n",
    "\n",
    "Notice that there isn't much new Ray Train code on top of the base PyTorch code. You specified how you want to scale out the training workload, load the Ray datasets, and then checkpoint on the main worker node and that's it. See these guides ([PyTorch](https://docs.ray.io/en/latest/train/getting-started-pytorch.html), [PyTorch Lightning](https://docs.ray.io/en/latest/train/getting-started-pytorch-lightning.html), [Hugging Face Transformers](https://docs.ray.io/en/latest/train/getting-started-transformers.html)) to see the minimal change in code needed to distribute your training workloads. See this extensive list of [Ray Train user guides](https://docs.ray.io/en/latest/train/user-guides.html)."
   ]
  },
  {
   "cell_type": "code",
   "execution_count": null,
   "metadata": {},
   "outputs": [],
   "source": [
    "# Load preprocessed datasets.\n",
    "preprocessed_train_ds = ray.data.read_parquet(preprocessed_train_path)\n",
    "preprocessed_val_ds = ray.data.read_parquet(preprocessed_val_path)\n"
   ]
  },
  {
   "cell_type": "code",
   "execution_count": null,
   "metadata": {},
   "outputs": [],
   "source": [
    "# Trainer.\n",
    "train_loop_config[\"class_to_label\"] = preprocessor.class_to_label\n",
    "train_loop_config[\"num_classes\"] = len(preprocessor.class_to_label)\n",
    "trainer = TorchTrainer(\n",
    "    train_loop_per_worker=train_loop_per_worker,\n",
    "    train_loop_config=train_loop_config,\n",
    "    scaling_config=scaling_config,\n",
    "    datasets={\"train\": preprocessed_train_ds, \"val\": preprocessed_val_ds},\n",
    ")\n"
   ]
  },
  {
   "cell_type": "code",
   "execution_count": null,
   "metadata": {},
   "outputs": [
    {
     "name": "stderr",
     "output_type": "stream",
     "text": [
      "\u001b[36m(TrainController pid=125066)\u001b[0m [State Transition] INITIALIZING -> SCHEDULING.\n",
      "\u001b[36m(TrainController pid=125066)\u001b[0m Attempting to start training worker group of size 4 with the following resources: [{'CPU': 8, 'GPU': 2, 'accelerator_type:T4': 0.001}] * 4\n",
      "\u001b[36m(TrainController pid=125066)\u001b[0m Using blocking ray.get inside async actor. This blocks the event loop. Please use `await` on object ref with asyncio.gather if you want to yield execution to the event loop instead.\n"
     ]
    },
    {
     "name": "stdout",
     "output_type": "stream",
     "text": [
      "\u001b[36m(autoscaler +3m40s)\u001b[0m [autoscaler] [4xT4:48CPU-192GB] Attempting to add 1 node to the cluster (increasing from 1 to 2).\n",
      "\u001b[36m(autoscaler +3m40s)\u001b[0m [autoscaler] [4xT4:48CPU-192GB|g4dn.12xlarge] [us-west-2a] [on-demand] Launched 1 instance.\n",
      "\u001b[36m(autoscaler +3m45s)\u001b[0m [autoscaler] Cluster upscaled to {112 CPU, 8 GPU}.\n"
     ]
    },
    {
     "name": "stderr",
     "output_type": "stream",
     "text": [
      "\u001b[36m(TrainController pid=125066)\u001b[0m Retrying the launch of the training worker group. The previous launch attempt encountered the following failure:\n",
      "\u001b[36m(TrainController pid=125066)\u001b[0m The worker group startup timed out after 30.0 seconds waiting for 4 workers. Potential causes include: (1) temporary insufficient cluster resources while waiting for autoscaling (ignore this warning in this case), (2) infeasible resource request where the provided `ScalingConfig` cannot be satisfied), and (3) transient network issues. Set the RAY_TRAIN_WORKER_GROUP_START_TIMEOUT_S environment variable to increase the timeout.\n",
      "\u001b[36m(TrainController pid=125066)\u001b[0m [State Transition] SCHEDULING -> RESCHEDULING.\n",
      "\u001b[36m(TrainController pid=125066)\u001b[0m [State Transition] RESCHEDULING -> SCHEDULING.\n",
      "\u001b[36m(TrainController pid=125066)\u001b[0m Attempting to start training worker group of size 4 with the following resources: [{'CPU': 8, 'GPU': 2, 'accelerator_type:T4': 0.001}] * 4\n"
     ]
    },
    {
     "name": "stdout",
     "output_type": "stream",
     "text": [
      "\u001b[36m(autoscaler +4m30s)\u001b[0m [autoscaler] Cluster upscaled to {160 CPU, 12 GPU}.\n"
     ]
    },
    {
     "name": "stderr",
     "output_type": "stream",
     "text": [
      "\u001b[36m(RayTrainWorker pid=3319, ip=10.0.34.27)\u001b[0m Setting up process group for: env:// [rank=0, world_size=4]\n",
      "\u001b[36m(RayTrainWorker pid=16056, ip=10.0.4.102)\u001b[0m Moving model to device: cuda:0\n",
      "\u001b[36m(TrainController pid=125066)\u001b[0m Started training worker group of size 4: \n",
      "\u001b[36m(TrainController pid=125066)\u001b[0m - (ip=10.0.34.27, pid=3319) world_rank=0, local_rank=0, node_rank=0\n",
      "\u001b[36m(TrainController pid=125066)\u001b[0m - (ip=10.0.34.27, pid=3320) world_rank=1, local_rank=1, node_rank=0\n",
      "\u001b[36m(TrainController pid=125066)\u001b[0m - (ip=10.0.4.102, pid=16056) world_rank=2, local_rank=0, node_rank=1\n",
      "\u001b[36m(TrainController pid=125066)\u001b[0m - (ip=10.0.4.102, pid=16055) world_rank=3, local_rank=1, node_rank=1\n",
      "\u001b[36m(TrainController pid=125066)\u001b[0m [State Transition] SCHEDULING -> RUNNING.\n",
      "\u001b[36m(RayTrainWorker pid=3319, ip=10.0.34.27)\u001b[0m 2025/08/22 00:32:11 INFO mlflow.tracking.fluent: Experiment with name 'doggos' does not exist. Creating a new experiment.\n",
      "\u001b[36m(RayTrainWorker pid=16056, ip=10.0.4.102)\u001b[0m Wrapping provided model in DistributedDataParallel.\n",
      "\u001b[36m(RayTrainWorker pid=3319, ip=10.0.34.27)\u001b[0m /home/ray/anaconda3/lib/python3.12/site-packages/ray/data/iterator.py:445: RayDeprecationWarning: Passing a function to `iter_torch_batches(collate_fn)` is deprecated in Ray 2.47. Please switch to using a callable class that inherits from `ArrowBatchCollateFn`, `NumpyBatchCollateFn`, or `PandasBatchCollateFn`.\n",
      "\u001b[36m(RayTrainWorker pid=3319, ip=10.0.34.27)\u001b[0m   warnings.warn(\n"
     ]
    },
    {
     "data": {
      "application/vnd.jupyter.widget-view+json": {
       "model_id": "2f9b807b07e24754b872e832186a7ecc",
       "version_major": 2,
       "version_minor": 0
      },
      "text/plain": [
       "(pid=125821) Running 0: 0.00 row [00:00, ? row/s]"
      ]
     },
     "metadata": {},
     "output_type": "display_data"
    },
    {
     "data": {
      "application/vnd.jupyter.widget-view+json": {
       "model_id": "477c2f56fd9e4c31974d33eec3c722a0",
       "version_major": 2,
       "version_minor": 0
      },
      "text/plain": [
       "(pid=125821) - ListFiles 1: 0.00 row [00:00, ? row/s]"
      ]
     },
     "metadata": {},
     "output_type": "display_data"
    },
    {
     "data": {
      "application/vnd.jupyter.widget-view+json": {
       "model_id": "3b3d7e99c85a496ebad1cba791a6bcd1",
       "version_major": 2,
       "version_minor": 0
      },
      "text/plain": [
       "(pid=125821) - ReadFiles 2: 0.00 row [00:00, ? row/s]"
      ]
     },
     "metadata": {},
     "output_type": "display_data"
    },
    {
     "data": {
      "application/vnd.jupyter.widget-view+json": {
       "model_id": "2263907df3504600a2281cb5bb1feb81",
       "version_major": 2,
       "version_minor": 0
      },
      "text/plain": [
       "(pid=125821) - split(4, equal=True) 3: 0.00 row [00:00, ? row/s]"
      ]
     },
     "metadata": {},
     "output_type": "display_data"
    },
    {
     "name": "stderr",
     "output_type": "stream",
     "text": [
      "\u001b[36m(SplitCoordinator pid=125821)\u001b[0m Registered dataset logger for dataset train_88_0\n",
      "\u001b[36m(SplitCoordinator pid=125821)\u001b[0m Starting execution of Dataset train_88_0. Full logs are in /tmp/ray/session_2025-08-21_18-48-13_464408_2298/logs/ray-data\n",
      "\u001b[36m(SplitCoordinator pid=125821)\u001b[0m Execution plan of Dataset train_88_0: InputDataBuffer[Input] -> TaskPoolMapOperator[ListFiles] -> TaskPoolMapOperator[ReadFiles] -> OutputSplitter[split(4, equal=True)]\n",
      "\u001b[36m(SplitCoordinator pid=125821)\u001b[0m ⚠️  Ray's object store is configured to use only 28.5% of available memory (195.9GB out of 687.2GB total). For optimal Ray Data performance, we recommend setting the object store to at least 50% of available memory. You can do this by setting the 'object_store_memory' parameter when calling ray.init() or by setting the RAY_DEFAULT_OBJECT_STORE_MEMORY_PROPORTION environment variable.\n",
      "\u001b[36m(RayTrainWorker pid=16056, ip=10.0.4.102)\u001b[0m /tmp/ipykernel_120810/417303983.py:6: UserWarning: The given NumPy array is not writable, and PyTorch does not support non-writable tensors. This means writing to this tensor will result in undefined behavior. You may want to copy the array to protect its data or make it writable before converting it to a tensor. This type of warning will be suppressed for the rest of this program. (Triggered internally at /pytorch/torch/csrc/utils/tensor_numpy.cpp:203.)\n",
      "\u001b[36m(RayTrainWorker pid=3319, ip=10.0.34.27)\u001b[0m Moving model to device: cuda:0\n",
      "\u001b[36m(RayTrainWorker pid=3319, ip=10.0.34.27)\u001b[0m Wrapping provided model in DistributedDataParallel.\n",
      "\u001b[36m(SplitCoordinator pid=125821)\u001b[0m ✔️  Dataset train_88_0 execution finished in 2.84 seconds\n"
     ]
    },
    {
     "data": {
      "application/vnd.jupyter.widget-view+json": {
       "model_id": "dbfdddd23f0a43658486e78ef5db13ec",
       "version_major": 2,
       "version_minor": 0
      },
      "text/plain": [
       "(pid=125822) Running 0: 0.00 row [00:00, ? row/s]"
      ]
     },
     "metadata": {},
     "output_type": "display_data"
    },
    {
     "data": {
      "application/vnd.jupyter.widget-view+json": {
       "model_id": "4a0cd95efca346bcbd9c962648fb8d18",
       "version_major": 2,
       "version_minor": 0
      },
      "text/plain": [
       "(pid=125822) - ListFiles 1: 0.00 row [00:00, ? row/s]"
      ]
     },
     "metadata": {},
     "output_type": "display_data"
    },
    {
     "data": {
      "application/vnd.jupyter.widget-view+json": {
       "model_id": "9d0c2a55758742729e3e4c41aff6daf7",
       "version_major": 2,
       "version_minor": 0
      },
      "text/plain": [
       "(pid=125822) - ReadFiles 2: 0.00 row [00:00, ? row/s]"
      ]
     },
     "metadata": {},
     "output_type": "display_data"
    },
    {
     "data": {
      "application/vnd.jupyter.widget-view+json": {
       "model_id": "fbab3701238a4fc3a295d6116e1908f4",
       "version_major": 2,
       "version_minor": 0
      },
      "text/plain": [
       "(pid=125822) - split(4, equal=True) 3: 0.00 row [00:00, ? row/s]"
      ]
     },
     "metadata": {},
     "output_type": "display_data"
    },
    {
     "data": {
      "application/vnd.jupyter.widget-view+json": {
       "model_id": "8cca0efc0fdf42309956588e2ebad8d9",
       "version_major": 2,
       "version_minor": 0
      },
      "text/plain": [
       "(pid=125821) Running 0: 0.00 row [00:00, ? row/s]"
      ]
     },
     "metadata": {},
     "output_type": "display_data"
    },
    {
     "data": {
      "application/vnd.jupyter.widget-view+json": {
       "model_id": "c4a5eedd70c540c68156ae60bd821773",
       "version_major": 2,
       "version_minor": 0
      },
      "text/plain": [
       "(pid=125821) - ListFiles 1: 0.00 row [00:00, ? row/s]"
      ]
     },
     "metadata": {},
     "output_type": "display_data"
    },
    {
     "data": {
      "application/vnd.jupyter.widget-view+json": {
       "model_id": "692887626f444deaa309ee332a270796",
       "version_major": 2,
       "version_minor": 0
      },
      "text/plain": [
       "(pid=125821) - ReadFiles 2: 0.00 row [00:00, ? row/s]"
      ]
     },
     "metadata": {},
     "output_type": "display_data"
    },
    {
     "data": {
      "application/vnd.jupyter.widget-view+json": {
       "model_id": "364d9c81b14d44b18703999214217018",
       "version_major": 2,
       "version_minor": 0
      },
      "text/plain": [
       "(pid=125821) - split(4, equal=True) 3: 0.00 row [00:00, ? row/s]"
      ]
     },
     "metadata": {},
     "output_type": "display_data"
    },
    {
     "name": "stderr",
     "output_type": "stream",
     "text": [
      "\u001b[36m(RayTrainWorker pid=16055, ip=10.0.4.102)\u001b[0m /home/ray/anaconda3/lib/python3.12/site-packages/ray/data/iterator.py:445: RayDeprecationWarning: Passing a function to `iter_torch_batches(collate_fn)` is deprecated in Ray 2.47. Please switch to using a callable class that inherits from `ArrowBatchCollateFn`, `NumpyBatchCollateFn`, or `PandasBatchCollateFn`.\u001b[32m [repeated 3x across cluster]\u001b[0m\n",
      "\u001b[36m(RayTrainWorker pid=16055, ip=10.0.4.102)\u001b[0m   warnings.warn(\u001b[32m [repeated 3x across cluster]\u001b[0m\n",
      "\u001b[36m(SplitCoordinator pid=125821)\u001b[0m Registered dataset logger for dataset train_88_1\u001b[32m [repeated 2x across cluster]\u001b[0m\n",
      "\u001b[36m(SplitCoordinator pid=125821)\u001b[0m Starting execution of Dataset train_88_1. Full logs are in /tmp/ray/session_2025-08-21_18-48-13_464408_2298/logs/ray-data\u001b[32m [repeated 2x across cluster]\u001b[0m\n",
      "\u001b[36m(SplitCoordinator pid=125821)\u001b[0m Execution plan of Dataset train_88_1: InputDataBuffer[Input] -> TaskPoolMapOperator[ListFiles] -> TaskPoolMapOperator[ReadFiles] -> OutputSplitter[split(4, equal=True)]\u001b[32m [repeated 2x across cluster]\u001b[0m\n",
      "\u001b[36m(SplitCoordinator pid=125822)\u001b[0m ⚠️  Ray's object store is configured to use only 28.5% of available memory (195.9GB out of 687.2GB total). For optimal Ray Data performance, we recommend setting the object store to at least 50% of available memory. You can do this by setting the 'object_store_memory' parameter when calling ray.init() or by setting the RAY_DEFAULT_OBJECT_STORE_MEMORY_PROPORTION environment variable.\n"
     ]
    },
    {
     "data": {
      "application/vnd.jupyter.widget-view+json": {
       "model_id": "c94637fd36f7408887c53978632c81d6",
       "version_major": 2,
       "version_minor": 0
      },
      "text/plain": [
       "(pid=125822) Running 0: 0.00 row [00:00, ? row/s]"
      ]
     },
     "metadata": {},
     "output_type": "display_data"
    },
    {
     "data": {
      "application/vnd.jupyter.widget-view+json": {
       "model_id": "d9c770c92271481e824deabb97479d02",
       "version_major": 2,
       "version_minor": 0
      },
      "text/plain": [
       "(pid=125822) - ListFiles 1: 0.00 row [00:00, ? row/s]"
      ]
     },
     "metadata": {},
     "output_type": "display_data"
    },
    {
     "data": {
      "application/vnd.jupyter.widget-view+json": {
       "model_id": "e9394ea598c44b8eaed72c3a567e8f80",
       "version_major": 2,
       "version_minor": 0
      },
      "text/plain": [
       "(pid=125822) - ReadFiles 2: 0.00 row [00:00, ? row/s]"
      ]
     },
     "metadata": {},
     "output_type": "display_data"
    },
    {
     "data": {
      "application/vnd.jupyter.widget-view+json": {
       "model_id": "78f5d148c07843d6ba79aa4443fac4c2",
       "version_major": 2,
       "version_minor": 0
      },
      "text/plain": [
       "(pid=125822) - split(4, equal=True) 3: 0.00 row [00:00, ? row/s]"
      ]
     },
     "metadata": {},
     "output_type": "display_data"
    },
    {
     "data": {
      "application/vnd.jupyter.widget-view+json": {
       "model_id": "f3c0cca34393418db7a85bf3b5da8de0",
       "version_major": 2,
       "version_minor": 0
      },
      "text/plain": [
       "(pid=125821) Running 0: 0.00 row [00:00, ? row/s]"
      ]
     },
     "metadata": {},
     "output_type": "display_data"
    },
    {
     "data": {
      "application/vnd.jupyter.widget-view+json": {
       "model_id": "1cf9d449bed34bd58633604913c4b6da",
       "version_major": 2,
       "version_minor": 0
      },
      "text/plain": [
       "(pid=125821) - ListFiles 1: 0.00 row [00:00, ? row/s]"
      ]
     },
     "metadata": {},
     "output_type": "display_data"
    },
    {
     "data": {
      "application/vnd.jupyter.widget-view+json": {
       "model_id": "0f9207fa9fe74fb480d20ab6792412e8",
       "version_major": 2,
       "version_minor": 0
      },
      "text/plain": [
       "(pid=125821) - ReadFiles 2: 0.00 row [00:00, ? row/s]"
      ]
     },
     "metadata": {},
     "output_type": "display_data"
    },
    {
     "data": {
      "application/vnd.jupyter.widget-view+json": {
       "model_id": "d2d38403e0ea479c8745ba86e479e5b6",
       "version_major": 2,
       "version_minor": 0
      },
      "text/plain": [
       "(pid=125821) - split(4, equal=True) 3: 0.00 row [00:00, ? row/s]"
      ]
     },
     "metadata": {},
     "output_type": "display_data"
    },
    {
     "data": {
      "application/vnd.jupyter.widget-view+json": {
       "model_id": "9245ec966b7142a39ccc3fb881ea1895",
       "version_major": 2,
       "version_minor": 0
      },
      "text/plain": [
       "(pid=125822) Running 0: 0.00 row [00:00, ? row/s]"
      ]
     },
     "metadata": {},
     "output_type": "display_data"
    },
    {
     "data": {
      "application/vnd.jupyter.widget-view+json": {
       "model_id": "547f6b9e985a4fbf942e01dd9687245d",
       "version_major": 2,
       "version_minor": 0
      },
      "text/plain": [
       "(pid=125822) - ListFiles 1: 0.00 row [00:00, ? row/s]"
      ]
     },
     "metadata": {},
     "output_type": "display_data"
    },
    {
     "data": {
      "application/vnd.jupyter.widget-view+json": {
       "model_id": "03a5c5eeddbc4c0dbc4b2ae694a2cf23",
       "version_major": 2,
       "version_minor": 0
      },
      "text/plain": [
       "(pid=125822) - ReadFiles 2: 0.00 row [00:00, ? row/s]"
      ]
     },
     "metadata": {},
     "output_type": "display_data"
    },
    {
     "data": {
      "application/vnd.jupyter.widget-view+json": {
       "model_id": "a12199d167f24ecab2b9dfe37adafee1",
       "version_major": 2,
       "version_minor": 0
      },
      "text/plain": [
       "(pid=125822) - split(4, equal=True) 3: 0.00 row [00:00, ? row/s]"
      ]
     },
     "metadata": {},
     "output_type": "display_data"
    },
    {
     "data": {
      "application/vnd.jupyter.widget-view+json": {
       "model_id": "f4a3036c6d42495db3704671a5913e97",
       "version_major": 2,
       "version_minor": 0
      },
      "text/plain": [
       "(pid=125821) Running 0: 0.00 row [00:00, ? row/s]"
      ]
     },
     "metadata": {},
     "output_type": "display_data"
    },
    {
     "name": "stderr",
     "output_type": "stream",
     "text": [
      "\u001b[36m(RayTrainWorker pid=3320, ip=10.0.34.27)\u001b[0m /tmp/ipykernel_120810/417303983.py:6: UserWarning: The given NumPy array is not writable, and PyTorch does not support non-writable tensors. This means writing to this tensor will result in undefined behavior. You may want to copy the array to protect its data or make it writable before converting it to a tensor. This type of warning will be suppressed for the rest of this program. (Triggered internally at /pytorch/torch/csrc/utils/tensor_numpy.cpp:203.)\u001b[32m [repeated 3x across cluster]\u001b[0m\n",
      "\u001b[36m(SplitCoordinator pid=125822)\u001b[0m ✔️  Dataset val_89_2 execution finished in 0.14 seconds\u001b[32m [repeated 5x across cluster]\u001b[0m\n"
     ]
    },
    {
     "data": {
      "application/vnd.jupyter.widget-view+json": {
       "model_id": "8daad09e465a4c95b282f6bff58488c4",
       "version_major": 2,
       "version_minor": 0
      },
      "text/plain": [
       "(pid=125821) - ListFiles 1: 0.00 row [00:00, ? row/s]"
      ]
     },
     "metadata": {},
     "output_type": "display_data"
    },
    {
     "data": {
      "application/vnd.jupyter.widget-view+json": {
       "model_id": "1c61f75ca7ca467c8995ea64d5fbe622",
       "version_major": 2,
       "version_minor": 0
      },
      "text/plain": [
       "(pid=125821) - ReadFiles 2: 0.00 row [00:00, ? row/s]"
      ]
     },
     "metadata": {},
     "output_type": "display_data"
    },
    {
     "data": {
      "application/vnd.jupyter.widget-view+json": {
       "model_id": "9686329d65264f15b583f6a26966ca46",
       "version_major": 2,
       "version_minor": 0
      },
      "text/plain": [
       "(pid=125821) - split(4, equal=True) 3: 0.00 row [00:00, ? row/s]"
      ]
     },
     "metadata": {},
     "output_type": "display_data"
    },
    {
     "data": {
      "application/vnd.jupyter.widget-view+json": {
       "model_id": "f06b9dd78b594b3e8abbede8e584d6f6",
       "version_major": 2,
       "version_minor": 0
      },
      "text/plain": [
       "(pid=125822) Running 0: 0.00 row [00:00, ? row/s]"
      ]
     },
     "metadata": {},
     "output_type": "display_data"
    },
    {
     "data": {
      "application/vnd.jupyter.widget-view+json": {
       "model_id": "2dac4a6c6b69497cbfb1c2730ae4c84b",
       "version_major": 2,
       "version_minor": 0
      },
      "text/plain": [
       "(pid=125822) - ListFiles 1: 0.00 row [00:00, ? row/s]"
      ]
     },
     "metadata": {},
     "output_type": "display_data"
    },
    {
     "data": {
      "application/vnd.jupyter.widget-view+json": {
       "model_id": "310c75a42eef4481bf92376c8225732a",
       "version_major": 2,
       "version_minor": 0
      },
      "text/plain": [
       "(pid=125822) - ReadFiles 2: 0.00 row [00:00, ? row/s]"
      ]
     },
     "metadata": {},
     "output_type": "display_data"
    },
    {
     "data": {
      "application/vnd.jupyter.widget-view+json": {
       "model_id": "19eca161119f4c38839e2b2ff2a4bb36",
       "version_major": 2,
       "version_minor": 0
      },
      "text/plain": [
       "(pid=125822) - split(4, equal=True) 3: 0.00 row [00:00, ? row/s]"
      ]
     },
     "metadata": {},
     "output_type": "display_data"
    },
    {
     "data": {
      "application/vnd.jupyter.widget-view+json": {
       "model_id": "59f241a3d0364ebbbae4e7a5a94037a5",
       "version_major": 2,
       "version_minor": 0
      },
      "text/plain": [
       "(pid=125821) Running 0: 0.00 row [00:00, ? row/s]"
      ]
     },
     "metadata": {},
     "output_type": "display_data"
    },
    {
     "data": {
      "application/vnd.jupyter.widget-view+json": {
       "model_id": "7c6147789fbc4007bbc309f7537782fa",
       "version_major": 2,
       "version_minor": 0
      },
      "text/plain": [
       "(pid=125821) - ListFiles 1: 0.00 row [00:00, ? row/s]"
      ]
     },
     "metadata": {},
     "output_type": "display_data"
    },
    {
     "data": {
      "application/vnd.jupyter.widget-view+json": {
       "model_id": "ae5a1436d1e148cdb8a4aac594e2ee5a",
       "version_major": 2,
       "version_minor": 0
      },
      "text/plain": [
       "(pid=125821) - ReadFiles 2: 0.00 row [00:00, ? row/s]"
      ]
     },
     "metadata": {},
     "output_type": "display_data"
    },
    {
     "data": {
      "application/vnd.jupyter.widget-view+json": {
       "model_id": "0e6c03e36b9b4373b9e61c5e73e3943a",
       "version_major": 2,
       "version_minor": 0
      },
      "text/plain": [
       "(pid=125821) - split(4, equal=True) 3: 0.00 row [00:00, ? row/s]"
      ]
     },
     "metadata": {},
     "output_type": "display_data"
    },
    {
     "data": {
      "application/vnd.jupyter.widget-view+json": {
       "model_id": "5d154effa9e84089b1fac7bc66574802",
       "version_major": 2,
       "version_minor": 0
      },
      "text/plain": [
       "(pid=125822) Running 0: 0.00 row [00:00, ? row/s]"
      ]
     },
     "metadata": {},
     "output_type": "display_data"
    },
    {
     "data": {
      "application/vnd.jupyter.widget-view+json": {
       "model_id": "e8ce7b2eef094a078cb3b516e6d381d2",
       "version_major": 2,
       "version_minor": 0
      },
      "text/plain": [
       "(pid=125822) - ListFiles 1: 0.00 row [00:00, ? row/s]"
      ]
     },
     "metadata": {},
     "output_type": "display_data"
    },
    {
     "data": {
      "application/vnd.jupyter.widget-view+json": {
       "model_id": "fc4f18d5ca0747f49cb7d070fa984f13",
       "version_major": 2,
       "version_minor": 0
      },
      "text/plain": [
       "(pid=125822) - ReadFiles 2: 0.00 row [00:00, ? row/s]"
      ]
     },
     "metadata": {},
     "output_type": "display_data"
    },
    {
     "data": {
      "application/vnd.jupyter.widget-view+json": {
       "model_id": "8a02cba1818049cabd118a8cb4ad16fd",
       "version_major": 2,
       "version_minor": 0
      },
      "text/plain": [
       "(pid=125822) - split(4, equal=True) 3: 0.00 row [00:00, ? row/s]"
      ]
     },
     "metadata": {},
     "output_type": "display_data"
    },
    {
     "data": {
      "application/vnd.jupyter.widget-view+json": {
       "model_id": "2faf9980bf2f44d98a4ba61cd943ca2e",
       "version_major": 2,
       "version_minor": 0
      },
      "text/plain": [
       "(pid=125821) Running 0: 0.00 row [00:00, ? row/s]"
      ]
     },
     "metadata": {},
     "output_type": "display_data"
    },
    {
     "data": {
      "application/vnd.jupyter.widget-view+json": {
       "model_id": "17eb0e1b001444d5b9b089e3540143ed",
       "version_major": 2,
       "version_minor": 0
      },
      "text/plain": [
       "(pid=125821) - ListFiles 1: 0.00 row [00:00, ? row/s]"
      ]
     },
     "metadata": {},
     "output_type": "display_data"
    },
    {
     "data": {
      "application/vnd.jupyter.widget-view+json": {
       "model_id": "c614080c873a4658b47a79ea793ec211",
       "version_major": 2,
       "version_minor": 0
      },
      "text/plain": [
       "(pid=125821) - ReadFiles 2: 0.00 row [00:00, ? row/s]"
      ]
     },
     "metadata": {},
     "output_type": "display_data"
    },
    {
     "data": {
      "application/vnd.jupyter.widget-view+json": {
       "model_id": "59bed3f576ba412091b1431810674dc1",
       "version_major": 2,
       "version_minor": 0
      },
      "text/plain": [
       "(pid=125821) - split(4, equal=True) 3: 0.00 row [00:00, ? row/s]"
      ]
     },
     "metadata": {},
     "output_type": "display_data"
    },
    {
     "data": {
      "application/vnd.jupyter.widget-view+json": {
       "model_id": "6c28eaa475dd461c9a4c3524ab635758",
       "version_major": 2,
       "version_minor": 0
      },
      "text/plain": [
       "(pid=125822) Running 0: 0.00 row [00:00, ? row/s]"
      ]
     },
     "metadata": {},
     "output_type": "display_data"
    },
    {
     "data": {
      "application/vnd.jupyter.widget-view+json": {
       "model_id": "4a396b6c1f8243b289ac96f5b8c5e354",
       "version_major": 2,
       "version_minor": 0
      },
      "text/plain": [
       "(pid=125822) - ListFiles 1: 0.00 row [00:00, ? row/s]"
      ]
     },
     "metadata": {},
     "output_type": "display_data"
    },
    {
     "data": {
      "application/vnd.jupyter.widget-view+json": {
       "model_id": "b7a446b66d4447c68b6cd69ae370aec9",
       "version_major": 2,
       "version_minor": 0
      },
      "text/plain": [
       "(pid=125822) - ReadFiles 2: 0.00 row [00:00, ? row/s]"
      ]
     },
     "metadata": {},
     "output_type": "display_data"
    },
    {
     "data": {
      "application/vnd.jupyter.widget-view+json": {
       "model_id": "fff93ed630644210b0e7fdb218c0fba4",
       "version_major": 2,
       "version_minor": 0
      },
      "text/plain": [
       "(pid=125822) - split(4, equal=True) 3: 0.00 row [00:00, ? row/s]"
      ]
     },
     "metadata": {},
     "output_type": "display_data"
    },
    {
     "data": {
      "application/vnd.jupyter.widget-view+json": {
       "model_id": "df70761adc79445ea206305bdbef50fa",
       "version_major": 2,
       "version_minor": 0
      },
      "text/plain": [
       "(pid=125821) Running 0: 0.00 row [00:00, ? row/s]"
      ]
     },
     "metadata": {},
     "output_type": "display_data"
    },
    {
     "data": {
      "application/vnd.jupyter.widget-view+json": {
       "model_id": "e9917e5b9629429eb6423cb23d1ac8ca",
       "version_major": 2,
       "version_minor": 0
      },
      "text/plain": [
       "(pid=125821) - ListFiles 1: 0.00 row [00:00, ? row/s]"
      ]
     },
     "metadata": {},
     "output_type": "display_data"
    },
    {
     "data": {
      "application/vnd.jupyter.widget-view+json": {
       "model_id": "02466fb2e05e40f781ba101d2e1c5394",
       "version_major": 2,
       "version_minor": 0
      },
      "text/plain": [
       "(pid=125821) - ReadFiles 2: 0.00 row [00:00, ? row/s]"
      ]
     },
     "metadata": {},
     "output_type": "display_data"
    },
    {
     "data": {
      "application/vnd.jupyter.widget-view+json": {
       "model_id": "cba46412a0e1470093b37dd44571c867",
       "version_major": 2,
       "version_minor": 0
      },
      "text/plain": [
       "(pid=125821) - split(4, equal=True) 3: 0.00 row [00:00, ? row/s]"
      ]
     },
     "metadata": {},
     "output_type": "display_data"
    },
    {
     "data": {
      "application/vnd.jupyter.widget-view+json": {
       "model_id": "d5c3e448d3254eb2bd6ac87c2ee60ff7",
       "version_major": 2,
       "version_minor": 0
      },
      "text/plain": [
       "(pid=125822) Running 0: 0.00 row [00:00, ? row/s]"
      ]
     },
     "metadata": {},
     "output_type": "display_data"
    },
    {
     "data": {
      "application/vnd.jupyter.widget-view+json": {
       "model_id": "4a46866464514d189d040bff9c170371",
       "version_major": 2,
       "version_minor": 0
      },
      "text/plain": [
       "(pid=125822) - ListFiles 1: 0.00 row [00:00, ? row/s]"
      ]
     },
     "metadata": {},
     "output_type": "display_data"
    },
    {
     "data": {
      "application/vnd.jupyter.widget-view+json": {
       "model_id": "f77002b71fd641f79a0b1320045ce8bf",
       "version_major": 2,
       "version_minor": 0
      },
      "text/plain": [
       "(pid=125822) - ReadFiles 2: 0.00 row [00:00, ? row/s]"
      ]
     },
     "metadata": {},
     "output_type": "display_data"
    },
    {
     "data": {
      "application/vnd.jupyter.widget-view+json": {
       "model_id": "1b58d2b8f06c4d688d1062b11ab9ad1c",
       "version_major": 2,
       "version_minor": 0
      },
      "text/plain": [
       "(pid=125822) - split(4, equal=True) 3: 0.00 row [00:00, ? row/s]"
      ]
     },
     "metadata": {},
     "output_type": "display_data"
    },
    {
     "name": "stderr",
     "output_type": "stream",
     "text": [
      "\u001b[36m(SplitCoordinator pid=125822)\u001b[0m Registered dataset logger for dataset val_89_6\u001b[32m [repeated 11x across cluster]\u001b[0m\n",
      "\u001b[36m(SplitCoordinator pid=125822)\u001b[0m Starting execution of Dataset val_89_6. Full logs are in /tmp/ray/session_2025-08-21_18-48-13_464408_2298/logs/ray-data\u001b[32m [repeated 11x across cluster]\u001b[0m\n",
      "\u001b[36m(SplitCoordinator pid=125822)\u001b[0m Execution plan of Dataset val_89_6: InputDataBuffer[Input] -> TaskPoolMapOperator[ListFiles] -> TaskPoolMapOperator[ReadFiles] -> OutputSplitter[split(4, equal=True)]\u001b[32m [repeated 11x across cluster]\u001b[0m\n"
     ]
    },
    {
     "data": {
      "application/vnd.jupyter.widget-view+json": {
       "model_id": "072e8ee325c546f1ae10cb085631db3e",
       "version_major": 2,
       "version_minor": 0
      },
      "text/plain": [
       "(pid=125821) Running 0: 0.00 row [00:00, ? row/s]"
      ]
     },
     "metadata": {},
     "output_type": "display_data"
    },
    {
     "data": {
      "application/vnd.jupyter.widget-view+json": {
       "model_id": "a0ed51b8f63d43c3a75bd861e63d4e23",
       "version_major": 2,
       "version_minor": 0
      },
      "text/plain": [
       "(pid=125821) - ListFiles 1: 0.00 row [00:00, ? row/s]"
      ]
     },
     "metadata": {},
     "output_type": "display_data"
    },
    {
     "data": {
      "application/vnd.jupyter.widget-view+json": {
       "model_id": "a0f4b65c405644829fd3e560487979ba",
       "version_major": 2,
       "version_minor": 0
      },
      "text/plain": [
       "(pid=125821) - ReadFiles 2: 0.00 row [00:00, ? row/s]"
      ]
     },
     "metadata": {},
     "output_type": "display_data"
    },
    {
     "data": {
      "application/vnd.jupyter.widget-view+json": {
       "model_id": "1743714b36eb4c3a9e066854bc55e9a0",
       "version_major": 2,
       "version_minor": 0
      },
      "text/plain": [
       "(pid=125821) - split(4, equal=True) 3: 0.00 row [00:00, ? row/s]"
      ]
     },
     "metadata": {},
     "output_type": "display_data"
    },
    {
     "data": {
      "application/vnd.jupyter.widget-view+json": {
       "model_id": "9c91384d8ab642eda0883c097edeea4f",
       "version_major": 2,
       "version_minor": 0
      },
      "text/plain": [
       "(pid=125822) Running 0: 0.00 row [00:00, ? row/s]"
      ]
     },
     "metadata": {},
     "output_type": "display_data"
    },
    {
     "data": {
      "application/vnd.jupyter.widget-view+json": {
       "model_id": "abfa908329d34ee192c35a5aec2b38b0",
       "version_major": 2,
       "version_minor": 0
      },
      "text/plain": [
       "(pid=125822) - ListFiles 1: 0.00 row [00:00, ? row/s]"
      ]
     },
     "metadata": {},
     "output_type": "display_data"
    },
    {
     "data": {
      "application/vnd.jupyter.widget-view+json": {
       "model_id": "8c1c6421140e4ea99f06bd917697fadf",
       "version_major": 2,
       "version_minor": 0
      },
      "text/plain": [
       "(pid=125822) - ReadFiles 2: 0.00 row [00:00, ? row/s]"
      ]
     },
     "metadata": {},
     "output_type": "display_data"
    },
    {
     "data": {
      "application/vnd.jupyter.widget-view+json": {
       "model_id": "6ce5252ebcb244fa9493dde86699516f",
       "version_major": 2,
       "version_minor": 0
      },
      "text/plain": [
       "(pid=125822) - split(4, equal=True) 3: 0.00 row [00:00, ? row/s]"
      ]
     },
     "metadata": {},
     "output_type": "display_data"
    },
    {
     "data": {
      "application/vnd.jupyter.widget-view+json": {
       "model_id": "f8a34c741f594ef89fd99172e59a34c5",
       "version_major": 2,
       "version_minor": 0
      },
      "text/plain": [
       "(pid=125821) Running 0: 0.00 row [00:00, ? row/s]"
      ]
     },
     "metadata": {},
     "output_type": "display_data"
    },
    {
     "data": {
      "application/vnd.jupyter.widget-view+json": {
       "model_id": "9cb4841bc8fa49448e31612719799b03",
       "version_major": 2,
       "version_minor": 0
      },
      "text/plain": [
       "(pid=125821) - ListFiles 1: 0.00 row [00:00, ? row/s]"
      ]
     },
     "metadata": {},
     "output_type": "display_data"
    },
    {
     "data": {
      "application/vnd.jupyter.widget-view+json": {
       "model_id": "50f1a2962113459884deef4975308b07",
       "version_major": 2,
       "version_minor": 0
      },
      "text/plain": [
       "(pid=125821) - ReadFiles 2: 0.00 row [00:00, ? row/s]"
      ]
     },
     "metadata": {},
     "output_type": "display_data"
    },
    {
     "data": {
      "application/vnd.jupyter.widget-view+json": {
       "model_id": "59ec7aee99934c6bbc3c73a093e3b4fe",
       "version_major": 2,
       "version_minor": 0
      },
      "text/plain": [
       "(pid=125821) - split(4, equal=True) 3: 0.00 row [00:00, ? row/s]"
      ]
     },
     "metadata": {},
     "output_type": "display_data"
    },
    {
     "data": {
      "application/vnd.jupyter.widget-view+json": {
       "model_id": "a1bc4dd100464a549bc322eedf97512f",
       "version_major": 2,
       "version_minor": 0
      },
      "text/plain": [
       "(pid=125822) Running 0: 0.00 row [00:00, ? row/s]"
      ]
     },
     "metadata": {},
     "output_type": "display_data"
    },
    {
     "data": {
      "application/vnd.jupyter.widget-view+json": {
       "model_id": "f9be5454b006445d8a75769c7264d770",
       "version_major": 2,
       "version_minor": 0
      },
      "text/plain": [
       "(pid=125822) - ListFiles 1: 0.00 row [00:00, ? row/s]"
      ]
     },
     "metadata": {},
     "output_type": "display_data"
    },
    {
     "data": {
      "application/vnd.jupyter.widget-view+json": {
       "model_id": "82326f0ca01b4f5c92731f21a14e7bbb",
       "version_major": 2,
       "version_minor": 0
      },
      "text/plain": [
       "(pid=125822) - ReadFiles 2: 0.00 row [00:00, ? row/s]"
      ]
     },
     "metadata": {},
     "output_type": "display_data"
    },
    {
     "data": {
      "application/vnd.jupyter.widget-view+json": {
       "model_id": "2ce3abb1f2ac4320a05ab07b9e530679",
       "version_major": 2,
       "version_minor": 0
      },
      "text/plain": [
       "(pid=125822) - split(4, equal=True) 3: 0.00 row [00:00, ? row/s]"
      ]
     },
     "metadata": {},
     "output_type": "display_data"
    },
    {
     "data": {
      "application/vnd.jupyter.widget-view+json": {
       "model_id": "774c642be6a143e482201d2a60b4f725",
       "version_major": 2,
       "version_minor": 0
      },
      "text/plain": [
       "(pid=125821) Running 0: 0.00 row [00:00, ? row/s]"
      ]
     },
     "metadata": {},
     "output_type": "display_data"
    },
    {
     "data": {
      "application/vnd.jupyter.widget-view+json": {
       "model_id": "ea41e9ce5d4749269ab068ee3fc4c3f1",
       "version_major": 2,
       "version_minor": 0
      },
      "text/plain": [
       "(pid=125821) - ListFiles 1: 0.00 row [00:00, ? row/s]"
      ]
     },
     "metadata": {},
     "output_type": "display_data"
    },
    {
     "data": {
      "application/vnd.jupyter.widget-view+json": {
       "model_id": "fdeb575b9f12491d85437877bf16b0f0",
       "version_major": 2,
       "version_minor": 0
      },
      "text/plain": [
       "(pid=125821) - ReadFiles 2: 0.00 row [00:00, ? row/s]"
      ]
     },
     "metadata": {},
     "output_type": "display_data"
    },
    {
     "data": {
      "application/vnd.jupyter.widget-view+json": {
       "model_id": "05fdb6464b7542bd894d27043329da01",
       "version_major": 2,
       "version_minor": 0
      },
      "text/plain": [
       "(pid=125821) - split(4, equal=True) 3: 0.00 row [00:00, ? row/s]"
      ]
     },
     "metadata": {},
     "output_type": "display_data"
    },
    {
     "data": {
      "application/vnd.jupyter.widget-view+json": {
       "model_id": "6cbeb9d41ce746e6af9f74ea3db2dd58",
       "version_major": 2,
       "version_minor": 0
      },
      "text/plain": [
       "(pid=125822) Running 0: 0.00 row [00:00, ? row/s]"
      ]
     },
     "metadata": {},
     "output_type": "display_data"
    },
    {
     "data": {
      "application/vnd.jupyter.widget-view+json": {
       "model_id": "fe06543c2f074c4a8778f11d493b40f6",
       "version_major": 2,
       "version_minor": 0
      },
      "text/plain": [
       "(pid=125822) - ListFiles 1: 0.00 row [00:00, ? row/s]"
      ]
     },
     "metadata": {},
     "output_type": "display_data"
    },
    {
     "data": {
      "application/vnd.jupyter.widget-view+json": {
       "model_id": "c35a3a74fb4a42eaba77b7c9bf57835f",
       "version_major": 2,
       "version_minor": 0
      },
      "text/plain": [
       "(pid=125822) - ReadFiles 2: 0.00 row [00:00, ? row/s]"
      ]
     },
     "metadata": {},
     "output_type": "display_data"
    },
    {
     "data": {
      "application/vnd.jupyter.widget-view+json": {
       "model_id": "aec3501a42bf4e7488ef6d6fdf931b7c",
       "version_major": 2,
       "version_minor": 0
      },
      "text/plain": [
       "(pid=125822) - split(4, equal=True) 3: 0.00 row [00:00, ? row/s]"
      ]
     },
     "metadata": {},
     "output_type": "display_data"
    },
    {
     "data": {
      "application/vnd.jupyter.widget-view+json": {
       "model_id": "838a6b8cb0f8462bafd777ba17ca0145",
       "version_major": 2,
       "version_minor": 0
      },
      "text/plain": [
       "(pid=125821) Running 0: 0.00 row [00:00, ? row/s]"
      ]
     },
     "metadata": {},
     "output_type": "display_data"
    },
    {
     "data": {
      "application/vnd.jupyter.widget-view+json": {
       "model_id": "2735cdc36bb34dd68340fbbe8e4a007d",
       "version_major": 2,
       "version_minor": 0
      },
      "text/plain": [
       "(pid=125821) - ListFiles 1: 0.00 row [00:00, ? row/s]"
      ]
     },
     "metadata": {},
     "output_type": "display_data"
    },
    {
     "data": {
      "application/vnd.jupyter.widget-view+json": {
       "model_id": "bb69d8033e3e44fcba6bd2c12b076344",
       "version_major": 2,
       "version_minor": 0
      },
      "text/plain": [
       "(pid=125821) - ReadFiles 2: 0.00 row [00:00, ? row/s]"
      ]
     },
     "metadata": {},
     "output_type": "display_data"
    },
    {
     "data": {
      "application/vnd.jupyter.widget-view+json": {
       "model_id": "c8de0eb20bc34c7799e701bd8dfdf093",
       "version_major": 2,
       "version_minor": 0
      },
      "text/plain": [
       "(pid=125821) - split(4, equal=True) 3: 0.00 row [00:00, ? row/s]"
      ]
     },
     "metadata": {},
     "output_type": "display_data"
    },
    {
     "name": "stderr",
     "output_type": "stream",
     "text": [
      "\u001b[36m(SplitCoordinator pid=125822)\u001b[0m ✔️  Dataset val_89_9 execution finished in 0.12 seconds\u001b[32m [repeated 14x across cluster]\u001b[0m\n"
     ]
    },
    {
     "data": {
      "application/vnd.jupyter.widget-view+json": {
       "model_id": "94b5b81bb4d549ff852bb292d5eabe0a",
       "version_major": 2,
       "version_minor": 0
      },
      "text/plain": [
       "(pid=125822) Running 0: 0.00 row [00:00, ? row/s]"
      ]
     },
     "metadata": {},
     "output_type": "display_data"
    },
    {
     "data": {
      "application/vnd.jupyter.widget-view+json": {
       "model_id": "1f2a660cfbe5483683fdaa6de6e83731",
       "version_major": 2,
       "version_minor": 0
      },
      "text/plain": [
       "(pid=125822) - ListFiles 1: 0.00 row [00:00, ? row/s]"
      ]
     },
     "metadata": {},
     "output_type": "display_data"
    },
    {
     "data": {
      "application/vnd.jupyter.widget-view+json": {
       "model_id": "ed36ce7aeeba40bea644c1ec216917cb",
       "version_major": 2,
       "version_minor": 0
      },
      "text/plain": [
       "(pid=125822) - ReadFiles 2: 0.00 row [00:00, ? row/s]"
      ]
     },
     "metadata": {},
     "output_type": "display_data"
    },
    {
     "data": {
      "application/vnd.jupyter.widget-view+json": {
       "model_id": "7f549b806ec443fab242e9734063166f",
       "version_major": 2,
       "version_minor": 0
      },
      "text/plain": [
       "(pid=125822) - split(4, equal=True) 3: 0.00 row [00:00, ? row/s]"
      ]
     },
     "metadata": {},
     "output_type": "display_data"
    },
    {
     "data": {
      "application/vnd.jupyter.widget-view+json": {
       "model_id": "5ca785575831425182c8606cef4c22ed",
       "version_major": 2,
       "version_minor": 0
      },
      "text/plain": [
       "(pid=125821) Running 0: 0.00 row [00:00, ? row/s]"
      ]
     },
     "metadata": {},
     "output_type": "display_data"
    },
    {
     "data": {
      "application/vnd.jupyter.widget-view+json": {
       "model_id": "44e5707abbc545e3b52a327e338d42c8",
       "version_major": 2,
       "version_minor": 0
      },
      "text/plain": [
       "(pid=125821) - ListFiles 1: 0.00 row [00:00, ? row/s]"
      ]
     },
     "metadata": {},
     "output_type": "display_data"
    },
    {
     "data": {
      "application/vnd.jupyter.widget-view+json": {
       "model_id": "8f2719cac015410883ffbb3e5bf95f35",
       "version_major": 2,
       "version_minor": 0
      },
      "text/plain": [
       "(pid=125821) - ReadFiles 2: 0.00 row [00:00, ? row/s]"
      ]
     },
     "metadata": {},
     "output_type": "display_data"
    },
    {
     "data": {
      "application/vnd.jupyter.widget-view+json": {
       "model_id": "a19c11e6356345c2b1e255492d1c1077",
       "version_major": 2,
       "version_minor": 0
      },
      "text/plain": [
       "(pid=125821) - split(4, equal=True) 3: 0.00 row [00:00, ? row/s]"
      ]
     },
     "metadata": {},
     "output_type": "display_data"
    },
    {
     "data": {
      "application/vnd.jupyter.widget-view+json": {
       "model_id": "21ba9584d021403dacca550bb11ee8a2",
       "version_major": 2,
       "version_minor": 0
      },
      "text/plain": [
       "(pid=125822) Running 0: 0.00 row [00:00, ? row/s]"
      ]
     },
     "metadata": {},
     "output_type": "display_data"
    },
    {
     "data": {
      "application/vnd.jupyter.widget-view+json": {
       "model_id": "63be175948ae4d41b17c7a4c2c3de9d9",
       "version_major": 2,
       "version_minor": 0
      },
      "text/plain": [
       "(pid=125822) - ListFiles 1: 0.00 row [00:00, ? row/s]"
      ]
     },
     "metadata": {},
     "output_type": "display_data"
    },
    {
     "data": {
      "application/vnd.jupyter.widget-view+json": {
       "model_id": "3cb193c2285649bd8f987b98ae9b4705",
       "version_major": 2,
       "version_minor": 0
      },
      "text/plain": [
       "(pid=125822) - ReadFiles 2: 0.00 row [00:00, ? row/s]"
      ]
     },
     "metadata": {},
     "output_type": "display_data"
    },
    {
     "data": {
      "application/vnd.jupyter.widget-view+json": {
       "model_id": "1d227a26a0514824a0ea7c2964688e6b",
       "version_major": 2,
       "version_minor": 0
      },
      "text/plain": [
       "(pid=125822) - split(4, equal=True) 3: 0.00 row [00:00, ? row/s]"
      ]
     },
     "metadata": {},
     "output_type": "display_data"
    },
    {
     "data": {
      "application/vnd.jupyter.widget-view+json": {
       "model_id": "543c26f1127447cf90765a009caf2b67",
       "version_major": 2,
       "version_minor": 0
      },
      "text/plain": [
       "(pid=125821) Running 0: 0.00 row [00:00, ? row/s]"
      ]
     },
     "metadata": {},
     "output_type": "display_data"
    },
    {
     "data": {
      "application/vnd.jupyter.widget-view+json": {
       "model_id": "2bc02cb3fe2846f983128f974a822fba",
       "version_major": 2,
       "version_minor": 0
      },
      "text/plain": [
       "(pid=125821) - ListFiles 1: 0.00 row [00:00, ? row/s]"
      ]
     },
     "metadata": {},
     "output_type": "display_data"
    },
    {
     "data": {
      "application/vnd.jupyter.widget-view+json": {
       "model_id": "f71f650ff2884e8fa4538cd059a7408f",
       "version_major": 2,
       "version_minor": 0
      },
      "text/plain": [
       "(pid=125821) - ReadFiles 2: 0.00 row [00:00, ? row/s]"
      ]
     },
     "metadata": {},
     "output_type": "display_data"
    },
    {
     "data": {
      "application/vnd.jupyter.widget-view+json": {
       "model_id": "6fa5b191ae2c45d2a0dac2f718cbed08",
       "version_major": 2,
       "version_minor": 0
      },
      "text/plain": [
       "(pid=125821) - split(4, equal=True) 3: 0.00 row [00:00, ? row/s]"
      ]
     },
     "metadata": {},
     "output_type": "display_data"
    },
    {
     "data": {
      "application/vnd.jupyter.widget-view+json": {
       "model_id": "1bc7f991b39444bcaed694e25020c82e",
       "version_major": 2,
       "version_minor": 0
      },
      "text/plain": [
       "(pid=125822) Running 0: 0.00 row [00:00, ? row/s]"
      ]
     },
     "metadata": {},
     "output_type": "display_data"
    },
    {
     "data": {
      "application/vnd.jupyter.widget-view+json": {
       "model_id": "0c7df79581f94f4eb66f0fcb95260e1e",
       "version_major": 2,
       "version_minor": 0
      },
      "text/plain": [
       "(pid=125822) - ListFiles 1: 0.00 row [00:00, ? row/s]"
      ]
     },
     "metadata": {},
     "output_type": "display_data"
    },
    {
     "data": {
      "application/vnd.jupyter.widget-view+json": {
       "model_id": "adab6b6ea3ca44f6be524a1deb1ef639",
       "version_major": 2,
       "version_minor": 0
      },
      "text/plain": [
       "(pid=125822) - ReadFiles 2: 0.00 row [00:00, ? row/s]"
      ]
     },
     "metadata": {},
     "output_type": "display_data"
    },
    {
     "data": {
      "application/vnd.jupyter.widget-view+json": {
       "model_id": "e757b1e650e04c6abf451db64a698bb5",
       "version_major": 2,
       "version_minor": 0
      },
      "text/plain": [
       "(pid=125822) - split(4, equal=True) 3: 0.00 row [00:00, ? row/s]"
      ]
     },
     "metadata": {},
     "output_type": "display_data"
    },
    {
     "data": {
      "application/vnd.jupyter.widget-view+json": {
       "model_id": "c042c13431d34e08bfbd78e31d3d5de6",
       "version_major": 2,
       "version_minor": 0
      },
      "text/plain": [
       "(pid=125821) Running 0: 0.00 row [00:00, ? row/s]"
      ]
     },
     "metadata": {},
     "output_type": "display_data"
    },
    {
     "data": {
      "application/vnd.jupyter.widget-view+json": {
       "model_id": "d09c9c885b60411fa6331b4cbb0725dc",
       "version_major": 2,
       "version_minor": 0
      },
      "text/plain": [
       "(pid=125821) - ListFiles 1: 0.00 row [00:00, ? row/s]"
      ]
     },
     "metadata": {},
     "output_type": "display_data"
    },
    {
     "data": {
      "application/vnd.jupyter.widget-view+json": {
       "model_id": "ce85530f583f4b40a46ac81f83abeb36",
       "version_major": 2,
       "version_minor": 0
      },
      "text/plain": [
       "(pid=125821) - ReadFiles 2: 0.00 row [00:00, ? row/s]"
      ]
     },
     "metadata": {},
     "output_type": "display_data"
    },
    {
     "data": {
      "application/vnd.jupyter.widget-view+json": {
       "model_id": "236a34616ba048bbb2695c5aaf9416f5",
       "version_major": 2,
       "version_minor": 0
      },
      "text/plain": [
       "(pid=125821) - split(4, equal=True) 3: 0.00 row [00:00, ? row/s]"
      ]
     },
     "metadata": {},
     "output_type": "display_data"
    },
    {
     "data": {
      "application/vnd.jupyter.widget-view+json": {
       "model_id": "24fca83b96a842318cf502782e1ed1b6",
       "version_major": 2,
       "version_minor": 0
      },
      "text/plain": [
       "(pid=125822) Running 0: 0.00 row [00:00, ? row/s]"
      ]
     },
     "metadata": {},
     "output_type": "display_data"
    },
    {
     "data": {
      "application/vnd.jupyter.widget-view+json": {
       "model_id": "057b1ec3b01a478f80a58686bd171735",
       "version_major": 2,
       "version_minor": 0
      },
      "text/plain": [
       "(pid=125822) - ListFiles 1: 0.00 row [00:00, ? row/s]"
      ]
     },
     "metadata": {},
     "output_type": "display_data"
    },
    {
     "data": {
      "application/vnd.jupyter.widget-view+json": {
       "model_id": "4f862da0dfbb45e5a60f80b9636e071b",
       "version_major": 2,
       "version_minor": 0
      },
      "text/plain": [
       "(pid=125822) - ReadFiles 2: 0.00 row [00:00, ? row/s]"
      ]
     },
     "metadata": {},
     "output_type": "display_data"
    },
    {
     "data": {
      "application/vnd.jupyter.widget-view+json": {
       "model_id": "58a97c021f5a49e69202f99f38bad1c0",
       "version_major": 2,
       "version_minor": 0
      },
      "text/plain": [
       "(pid=125822) - split(4, equal=True) 3: 0.00 row [00:00, ? row/s]"
      ]
     },
     "metadata": {},
     "output_type": "display_data"
    },
    {
     "data": {
      "application/vnd.jupyter.widget-view+json": {
       "model_id": "d7eb25150fb74086a63d7fe5ac160cb1",
       "version_major": 2,
       "version_minor": 0
      },
      "text/plain": [
       "(pid=125821) Running 0: 0.00 row [00:00, ? row/s]"
      ]
     },
     "metadata": {},
     "output_type": "display_data"
    },
    {
     "data": {
      "application/vnd.jupyter.widget-view+json": {
       "model_id": "f17b808f250d41929e4870bb83fc477c",
       "version_major": 2,
       "version_minor": 0
      },
      "text/plain": [
       "(pid=125821) - ListFiles 1: 0.00 row [00:00, ? row/s]"
      ]
     },
     "metadata": {},
     "output_type": "display_data"
    },
    {
     "data": {
      "application/vnd.jupyter.widget-view+json": {
       "model_id": "feb8925122f74f11a0b4d406549a8998",
       "version_major": 2,
       "version_minor": 0
      },
      "text/plain": [
       "(pid=125821) - ReadFiles 2: 0.00 row [00:00, ? row/s]"
      ]
     },
     "metadata": {},
     "output_type": "display_data"
    },
    {
     "data": {
      "application/vnd.jupyter.widget-view+json": {
       "model_id": "9cb0e78fa32d417bbd237ea1b790ad86",
       "version_major": 2,
       "version_minor": 0
      },
      "text/plain": [
       "(pid=125821) - split(4, equal=True) 3: 0.00 row [00:00, ? row/s]"
      ]
     },
     "metadata": {},
     "output_type": "display_data"
    },
    {
     "data": {
      "application/vnd.jupyter.widget-view+json": {
       "model_id": "aae13b8832ff40c4a768e08fc1489292",
       "version_major": 2,
       "version_minor": 0
      },
      "text/plain": [
       "(pid=125822) Running 0: 0.00 row [00:00, ? row/s]"
      ]
     },
     "metadata": {},
     "output_type": "display_data"
    },
    {
     "data": {
      "application/vnd.jupyter.widget-view+json": {
       "model_id": "8663407dc9a745408be1707fdcb3de64",
       "version_major": 2,
       "version_minor": 0
      },
      "text/plain": [
       "(pid=125822) - ListFiles 1: 0.00 row [00:00, ? row/s]"
      ]
     },
     "metadata": {},
     "output_type": "display_data"
    },
    {
     "data": {
      "application/vnd.jupyter.widget-view+json": {
       "model_id": "1f3fe18d3a114499bb0e8aedc9087516",
       "version_major": 2,
       "version_minor": 0
      },
      "text/plain": [
       "(pid=125822) - ReadFiles 2: 0.00 row [00:00, ? row/s]"
      ]
     },
     "metadata": {},
     "output_type": "display_data"
    },
    {
     "data": {
      "application/vnd.jupyter.widget-view+json": {
       "model_id": "dde2396c4c4743828a5b45b5ae8dd077",
       "version_major": 2,
       "version_minor": 0
      },
      "text/plain": [
       "(pid=125822) - split(4, equal=True) 3: 0.00 row [00:00, ? row/s]"
      ]
     },
     "metadata": {},
     "output_type": "display_data"
    },
    {
     "data": {
      "application/vnd.jupyter.widget-view+json": {
       "model_id": "9c28151437dc45b19eea8a774a565d54",
       "version_major": 2,
       "version_minor": 0
      },
      "text/plain": [
       "(pid=125821) Running 0: 0.00 row [00:00, ? row/s]"
      ]
     },
     "metadata": {},
     "output_type": "display_data"
    },
    {
     "data": {
      "application/vnd.jupyter.widget-view+json": {
       "model_id": "d4da9d395b3b40b7beaf40f96b020e4d",
       "version_major": 2,
       "version_minor": 0
      },
      "text/plain": [
       "(pid=125821) - ListFiles 1: 0.00 row [00:00, ? row/s]"
      ]
     },
     "metadata": {},
     "output_type": "display_data"
    },
    {
     "data": {
      "application/vnd.jupyter.widget-view+json": {
       "model_id": "72f25e200d844c3c8fb2e46bceba5e0e",
       "version_major": 2,
       "version_minor": 0
      },
      "text/plain": [
       "(pid=125821) - ReadFiles 2: 0.00 row [00:00, ? row/s]"
      ]
     },
     "metadata": {},
     "output_type": "display_data"
    },
    {
     "data": {
      "application/vnd.jupyter.widget-view+json": {
       "model_id": "745b8abd99a148cfb35a207634053f68",
       "version_major": 2,
       "version_minor": 0
      },
      "text/plain": [
       "(pid=125821) - split(4, equal=True) 3: 0.00 row [00:00, ? row/s]"
      ]
     },
     "metadata": {},
     "output_type": "display_data"
    },
    {
     "name": "stderr",
     "output_type": "stream",
     "text": [
      "\u001b[36m(SplitCoordinator pid=125821)\u001b[0m Registered dataset logger for dataset train_88_15\u001b[32m [repeated 17x across cluster]\u001b[0m\n",
      "\u001b[36m(SplitCoordinator pid=125821)\u001b[0m Starting execution of Dataset train_88_15. Full logs are in /tmp/ray/session_2025-08-21_18-48-13_464408_2298/logs/ray-data\u001b[32m [repeated 17x across cluster]\u001b[0m\n",
      "\u001b[36m(SplitCoordinator pid=125821)\u001b[0m Execution plan of Dataset train_88_15: InputDataBuffer[Input] -> TaskPoolMapOperator[ListFiles] -> TaskPoolMapOperator[ReadFiles] -> OutputSplitter[split(4, equal=True)]\u001b[32m [repeated 17x across cluster]\u001b[0m\n"
     ]
    },
    {
     "data": {
      "application/vnd.jupyter.widget-view+json": {
       "model_id": "ea923fad3a6b427e95fc73aca1de7d0b",
       "version_major": 2,
       "version_minor": 0
      },
      "text/plain": [
       "(pid=125822) Running 0: 0.00 row [00:00, ? row/s]"
      ]
     },
     "metadata": {},
     "output_type": "display_data"
    },
    {
     "data": {
      "application/vnd.jupyter.widget-view+json": {
       "model_id": "ee86e41631394e14a447e76d51b0b55b",
       "version_major": 2,
       "version_minor": 0
      },
      "text/plain": [
       "(pid=125822) - ListFiles 1: 0.00 row [00:00, ? row/s]"
      ]
     },
     "metadata": {},
     "output_type": "display_data"
    },
    {
     "data": {
      "application/vnd.jupyter.widget-view+json": {
       "model_id": "b1b038c8a53f437b962ea4b2728f7ee2",
       "version_major": 2,
       "version_minor": 0
      },
      "text/plain": [
       "(pid=125822) - ReadFiles 2: 0.00 row [00:00, ? row/s]"
      ]
     },
     "metadata": {},
     "output_type": "display_data"
    },
    {
     "data": {
      "application/vnd.jupyter.widget-view+json": {
       "model_id": "ab1e205e2d2a4e40b0399497be2d3eaf",
       "version_major": 2,
       "version_minor": 0
      },
      "text/plain": [
       "(pid=125822) - split(4, equal=True) 3: 0.00 row [00:00, ? row/s]"
      ]
     },
     "metadata": {},
     "output_type": "display_data"
    },
    {
     "data": {
      "application/vnd.jupyter.widget-view+json": {
       "model_id": "9b0bc3fcded44cbcada0d64d6c03dd9c",
       "version_major": 2,
       "version_minor": 0
      },
      "text/plain": [
       "(pid=125821) Running 0: 0.00 row [00:00, ? row/s]"
      ]
     },
     "metadata": {},
     "output_type": "display_data"
    },
    {
     "data": {
      "application/vnd.jupyter.widget-view+json": {
       "model_id": "c90593c23a5342cb9fb45b59a6d23954",
       "version_major": 2,
       "version_minor": 0
      },
      "text/plain": [
       "(pid=125821) - ListFiles 1: 0.00 row [00:00, ? row/s]"
      ]
     },
     "metadata": {},
     "output_type": "display_data"
    },
    {
     "data": {
      "application/vnd.jupyter.widget-view+json": {
       "model_id": "9c01556845fd474abd85d9bf39424908",
       "version_major": 2,
       "version_minor": 0
      },
      "text/plain": [
       "(pid=125821) - ReadFiles 2: 0.00 row [00:00, ? row/s]"
      ]
     },
     "metadata": {},
     "output_type": "display_data"
    },
    {
     "data": {
      "application/vnd.jupyter.widget-view+json": {
       "model_id": "c35afae5f34c43b88d1461be949ab7e2",
       "version_major": 2,
       "version_minor": 0
      },
      "text/plain": [
       "(pid=125821) - split(4, equal=True) 3: 0.00 row [00:00, ? row/s]"
      ]
     },
     "metadata": {},
     "output_type": "display_data"
    },
    {
     "data": {
      "application/vnd.jupyter.widget-view+json": {
       "model_id": "63741d7ac05b462893c79533aab90adb",
       "version_major": 2,
       "version_minor": 0
      },
      "text/plain": [
       "(pid=125822) Running 0: 0.00 row [00:00, ? row/s]"
      ]
     },
     "metadata": {},
     "output_type": "display_data"
    },
    {
     "data": {
      "application/vnd.jupyter.widget-view+json": {
       "model_id": "e9a9894f3518447c8d977460cde7fd2b",
       "version_major": 2,
       "version_minor": 0
      },
      "text/plain": [
       "(pid=125822) - ListFiles 1: 0.00 row [00:00, ? row/s]"
      ]
     },
     "metadata": {},
     "output_type": "display_data"
    },
    {
     "data": {
      "application/vnd.jupyter.widget-view+json": {
       "model_id": "a198c557b1e84c15975bafcc67ca2501",
       "version_major": 2,
       "version_minor": 0
      },
      "text/plain": [
       "(pid=125822) - ReadFiles 2: 0.00 row [00:00, ? row/s]"
      ]
     },
     "metadata": {},
     "output_type": "display_data"
    },
    {
     "data": {
      "application/vnd.jupyter.widget-view+json": {
       "model_id": "6cfd359d3fc24709933a740eb38fe408",
       "version_major": 2,
       "version_minor": 0
      },
      "text/plain": [
       "(pid=125822) - split(4, equal=True) 3: 0.00 row [00:00, ? row/s]"
      ]
     },
     "metadata": {},
     "output_type": "display_data"
    },
    {
     "data": {
      "application/vnd.jupyter.widget-view+json": {
       "model_id": "2dd17bebcef148bfb4267274ea6538bf",
       "version_major": 2,
       "version_minor": 0
      },
      "text/plain": [
       "(pid=125821) Running 0: 0.00 row [00:00, ? row/s]"
      ]
     },
     "metadata": {},
     "output_type": "display_data"
    },
    {
     "data": {
      "application/vnd.jupyter.widget-view+json": {
       "model_id": "6381b5c191cd4a608067dad981936f29",
       "version_major": 2,
       "version_minor": 0
      },
      "text/plain": [
       "(pid=125821) - ListFiles 1: 0.00 row [00:00, ? row/s]"
      ]
     },
     "metadata": {},
     "output_type": "display_data"
    },
    {
     "data": {
      "application/vnd.jupyter.widget-view+json": {
       "model_id": "e54bd73a22084efaa21246f9ab88be18",
       "version_major": 2,
       "version_minor": 0
      },
      "text/plain": [
       "(pid=125821) - ReadFiles 2: 0.00 row [00:00, ? row/s]"
      ]
     },
     "metadata": {},
     "output_type": "display_data"
    },
    {
     "data": {
      "application/vnd.jupyter.widget-view+json": {
       "model_id": "efe59371cb0b40489158ba929bfcadd9",
       "version_major": 2,
       "version_minor": 0
      },
      "text/plain": [
       "(pid=125821) - split(4, equal=True) 3: 0.00 row [00:00, ? row/s]"
      ]
     },
     "metadata": {},
     "output_type": "display_data"
    },
    {
     "data": {
      "application/vnd.jupyter.widget-view+json": {
       "model_id": "9d0fb221f5fb4f1c865fb2d383f3f66f",
       "version_major": 2,
       "version_minor": 0
      },
      "text/plain": [
       "(pid=125822) Running 0: 0.00 row [00:00, ? row/s]"
      ]
     },
     "metadata": {},
     "output_type": "display_data"
    },
    {
     "data": {
      "application/vnd.jupyter.widget-view+json": {
       "model_id": "ee62c3c15ec5423baf0613424d66b960",
       "version_major": 2,
       "version_minor": 0
      },
      "text/plain": [
       "(pid=125822) - ListFiles 1: 0.00 row [00:00, ? row/s]"
      ]
     },
     "metadata": {},
     "output_type": "display_data"
    },
    {
     "data": {
      "application/vnd.jupyter.widget-view+json": {
       "model_id": "3d1adb75395c4367ac14d510c6f9e891",
       "version_major": 2,
       "version_minor": 0
      },
      "text/plain": [
       "(pid=125822) - ReadFiles 2: 0.00 row [00:00, ? row/s]"
      ]
     },
     "metadata": {},
     "output_type": "display_data"
    },
    {
     "data": {
      "application/vnd.jupyter.widget-view+json": {
       "model_id": "4cd34884675440ffafd0334783920856",
       "version_major": 2,
       "version_minor": 0
      },
      "text/plain": [
       "(pid=125822) - split(4, equal=True) 3: 0.00 row [00:00, ? row/s]"
      ]
     },
     "metadata": {},
     "output_type": "display_data"
    },
    {
     "data": {
      "application/vnd.jupyter.widget-view+json": {
       "model_id": "472913bf0ccb485b90de55a05501629f",
       "version_major": 2,
       "version_minor": 0
      },
      "text/plain": [
       "(pid=125821) Running 0: 0.00 row [00:00, ? row/s]"
      ]
     },
     "metadata": {},
     "output_type": "display_data"
    },
    {
     "data": {
      "application/vnd.jupyter.widget-view+json": {
       "model_id": "81d1e24ae643455d92707226660390fe",
       "version_major": 2,
       "version_minor": 0
      },
      "text/plain": [
       "(pid=125821) - ListFiles 1: 0.00 row [00:00, ? row/s]"
      ]
     },
     "metadata": {},
     "output_type": "display_data"
    },
    {
     "data": {
      "application/vnd.jupyter.widget-view+json": {
       "model_id": "a7f776485f714d66922fffe6f75d4aeb",
       "version_major": 2,
       "version_minor": 0
      },
      "text/plain": [
       "(pid=125821) - ReadFiles 2: 0.00 row [00:00, ? row/s]"
      ]
     },
     "metadata": {},
     "output_type": "display_data"
    },
    {
     "data": {
      "application/vnd.jupyter.widget-view+json": {
       "model_id": "c753d595da314ff687d8357a56484ac2",
       "version_major": 2,
       "version_minor": 0
      },
      "text/plain": [
       "(pid=125821) - split(4, equal=True) 3: 0.00 row [00:00, ? row/s]"
      ]
     },
     "metadata": {},
     "output_type": "display_data"
    },
    {
     "data": {
      "application/vnd.jupyter.widget-view+json": {
       "model_id": "ffd47b8311b44a6d9ef72e99ebda6b3e",
       "version_major": 2,
       "version_minor": 0
      },
      "text/plain": [
       "(pid=125822) Running 0: 0.00 row [00:00, ? row/s]"
      ]
     },
     "metadata": {},
     "output_type": "display_data"
    },
    {
     "data": {
      "application/vnd.jupyter.widget-view+json": {
       "model_id": "99cf3b9ba6c042a39dafe5cef3e49349",
       "version_major": 2,
       "version_minor": 0
      },
      "text/plain": [
       "(pid=125822) - ListFiles 1: 0.00 row [00:00, ? row/s]"
      ]
     },
     "metadata": {},
     "output_type": "display_data"
    },
    {
     "data": {
      "application/vnd.jupyter.widget-view+json": {
       "model_id": "644e2243a1724d40bc6ad9ac5cd349b0",
       "version_major": 2,
       "version_minor": 0
      },
      "text/plain": [
       "(pid=125822) - ReadFiles 2: 0.00 row [00:00, ? row/s]"
      ]
     },
     "metadata": {},
     "output_type": "display_data"
    },
    {
     "data": {
      "application/vnd.jupyter.widget-view+json": {
       "model_id": "933dc5a56bd64ee69ba1bd23c806c434",
       "version_major": 2,
       "version_minor": 0
      },
      "text/plain": [
       "(pid=125822) - split(4, equal=True) 3: 0.00 row [00:00, ? row/s]"
      ]
     },
     "metadata": {},
     "output_type": "display_data"
    },
    {
     "data": {
      "application/vnd.jupyter.widget-view+json": {
       "model_id": "59a2b83763e04146aeec9edacaf72ed8",
       "version_major": 2,
       "version_minor": 0
      },
      "text/plain": [
       "(pid=125821) Running 0: 0.00 row [00:00, ? row/s]"
      ]
     },
     "metadata": {},
     "output_type": "display_data"
    },
    {
     "data": {
      "application/vnd.jupyter.widget-view+json": {
       "model_id": "801a70882a9546b1b9c2e7998178d6cf",
       "version_major": 2,
       "version_minor": 0
      },
      "text/plain": [
       "(pid=125821) - ListFiles 1: 0.00 row [00:00, ? row/s]"
      ]
     },
     "metadata": {},
     "output_type": "display_data"
    },
    {
     "data": {
      "application/vnd.jupyter.widget-view+json": {
       "model_id": "526adc86f7674fae8b0e44cde52fd920",
       "version_major": 2,
       "version_minor": 0
      },
      "text/plain": [
       "(pid=125821) - ReadFiles 2: 0.00 row [00:00, ? row/s]"
      ]
     },
     "metadata": {},
     "output_type": "display_data"
    },
    {
     "data": {
      "application/vnd.jupyter.widget-view+json": {
       "model_id": "18414e84c96048a196a579fe5e5cdf79",
       "version_major": 2,
       "version_minor": 0
      },
      "text/plain": [
       "(pid=125821) - split(4, equal=True) 3: 0.00 row [00:00, ? row/s]"
      ]
     },
     "metadata": {},
     "output_type": "display_data"
    },
    {
     "name": "stderr",
     "output_type": "stream",
     "text": [
      "\u001b[36m(SplitCoordinator pid=125822)\u001b[0m ✔️  Dataset val_89_18 execution finished in 0.12 seconds\u001b[32m [repeated 18x across cluster]\u001b[0m\n"
     ]
    },
    {
     "data": {
      "application/vnd.jupyter.widget-view+json": {
       "model_id": "1e1a34e9e96c4109b1ff5b38e23eef3d",
       "version_major": 2,
       "version_minor": 0
      },
      "text/plain": [
       "(pid=125822) Running 0: 0.00 row [00:00, ? row/s]"
      ]
     },
     "metadata": {},
     "output_type": "display_data"
    },
    {
     "data": {
      "application/vnd.jupyter.widget-view+json": {
       "model_id": "c377ec61738f42dfa1ee8638ce0fb4ed",
       "version_major": 2,
       "version_minor": 0
      },
      "text/plain": [
       "(pid=125822) - ListFiles 1: 0.00 row [00:00, ? row/s]"
      ]
     },
     "metadata": {},
     "output_type": "display_data"
    },
    {
     "data": {
      "application/vnd.jupyter.widget-view+json": {
       "model_id": "086c0e1c3c8443659adcdb4d5ec55d85",
       "version_major": 2,
       "version_minor": 0
      },
      "text/plain": [
       "(pid=125822) - ReadFiles 2: 0.00 row [00:00, ? row/s]"
      ]
     },
     "metadata": {},
     "output_type": "display_data"
    },
    {
     "data": {
      "application/vnd.jupyter.widget-view+json": {
       "model_id": "f7fe6c34adb44a4780cb4c7f320ab3f4",
       "version_major": 2,
       "version_minor": 0
      },
      "text/plain": [
       "(pid=125822) - split(4, equal=True) 3: 0.00 row [00:00, ? row/s]"
      ]
     },
     "metadata": {},
     "output_type": "display_data"
    },
    {
     "name": "stderr",
     "output_type": "stream",
     "text": [
      "\u001b[36m(TrainController pid=125066)\u001b[0m [State Transition] RUNNING -> FINISHED.\n"
     ]
    }
   ],
   "source": [
    "# Train.\n",
    "results = trainer.fit()\n"
   ]
  },
  {
   "cell_type": "markdown",
   "metadata": {},
   "source": [
    "## Ray Train"
   ]
  },
  {
   "cell_type": "markdown",
   "metadata": {},
   "source": [
    "- automatically handles **multi-node, multi-GPU** setup with no manual SSH setup or hostfile configs. \n",
    "- define **per-worker fractional resource requirements**, for example, 2 CPUs and 0.5 GPU per worker.\n",
    "- run on **heterogeneous machines** and scale flexibly, for example, CPU for preprocessing and GPU for training. \n",
    "- built-in **fault tolerance** with retry of failed workers and continue from last checkpoint.\n",
    "- supports Data Parallel, Model Parallel, Parameter Server, and even custom strategies.\n",
    "- [Ray Compiled graphs](https://docs.ray.io/en/latest/ray-core/compiled-graph/ray-compiled-graph.html) allow you to even define different parallelism for jointly optimizing multiple models like Megatron, DeepSpeed, etc., or only allow for one global setting.\n",
    "- You can also use Torch DDP, FSPD, DeepSpeed, etc., under the hood."
   ]
  },
  {
   "cell_type": "markdown",
   "metadata": {},
   "source": [
    "🔥 [RayTurbo Train](https://docs.anyscale.com/rayturbo/rayturbo-train) offers even more improvement to the price-performance ratio, performance monitoring and more:\n",
    "- **elastic training** to scale to a dynamic number of workers, continue training on fewer resources, even on spot instances.\n",
    "- **purpose-built dashboard** designed to streamline the debugging of Ray Train workloads:\n",
    "    - Monitoring: View the status of training runs and train workers.\n",
    "    - Metrics: See insights on training throughput and training system operation time.\n",
    "    - Profiling: Investigate bottlenecks, hangs, or errors from individual training worker processes.\n",
    "\n",
    "<img src=\"https://raw.githubusercontent.com/anyscale/multimodal-ai/refs/heads/main/images/train_dashboard.png\" width=700>"
   ]
  },
  {
   "cell_type": "markdown",
   "metadata": {},
   "source": [
    "You can view experiment metrics and model artifacts in the model registry. You're using OSS MLflow so you can run the server by pointing to the model registry location:\n",
    "\n",
    "```bash\n",
    "mlflow server -h 0.0.0.0 -p 8080 --backend-store-uri /mnt/cluster_storage/mlflow/doggos\n",
    "```\n",
    "\n",
    "You can view the dashboard by going to the **Overview tab** > **Open Ports**. \n",
    "\n",
    "<img src=\"https://raw.githubusercontent.com/anyscale/multimodal-ai/refs/heads/main/images/mlflow.png\" width=1000>\n",
    "\n",
    "You also have the preceding Ray Dashboard and Train workload specific dashboards.\n",
    "\n",
    "<img src=\"https://raw.githubusercontent.com/anyscale/multimodal-ai/refs/heads/main/images/train_metrics.png\" width=1000>\n"
   ]
  },
  {
   "cell_type": "code",
   "execution_count": null,
   "metadata": {},
   "outputs": [
    {
     "data": {
      "text/plain": [
       "run_id                                      fcb9ef8c96f844f08bcd0185601f3dbd\n",
       "experiment_id                                             858816514880031760\n",
       "status                                                              FINISHED\n",
       "artifact_uri               file:///mnt/cluster_storage/mlflow/doggos/8588...\n",
       "start_time                                  2025-08-22 00:32:11.522000+00:00\n",
       "end_time                                    2025-08-22 00:32:32.895000+00:00\n",
       "metrics.train_loss                                                   0.35504\n",
       "metrics.val_loss                                                    0.593301\n",
       "metrics.lr                                                             0.001\n",
       "params.lr_patience                                                         3\n",
       "params.dropout_p                                                         0.3\n",
       "params.num_epochs                                                         20\n",
       "params.lr                                                              0.001\n",
       "params.num_classes                                                        36\n",
       "params.hidden_dim                                                        256\n",
       "params.experiment_name                                                doggos\n",
       "params.batch_size                                                        256\n",
       "params.model_registry                     /mnt/cluster_storage/mlflow/doggos\n",
       "params.class_to_label      {'border_collie': 0, 'pomeranian': 1, 'basset'...\n",
       "params.lr_factor                                                         0.8\n",
       "params.embedding_dim                                                     512\n",
       "tags.mlflow.user                                                         ray\n",
       "tags.mlflow.source.type                                                LOCAL\n",
       "tags.mlflow.runName                                      enthused-donkey-931\n",
       "tags.mlflow.source.name    /home/ray/anaconda3/lib/python3.12/site-packag...\n",
       "Name: 0, dtype: object"
      ]
     },
     "execution_count": null,
     "metadata": {},
     "output_type": "execute_result"
    }
   ],
   "source": [
    "# Sorted runs\n",
    "mlflow.set_tracking_uri(f\"file:{model_registry}\")\n",
    "sorted_runs = mlflow.search_runs(\n",
    "    experiment_names=[experiment_name], \n",
    "    order_by=[\"metrics.val_loss ASC\"])\n",
    "best_run = sorted_runs.iloc[0]\n",
    "best_run\n"
   ]
  },
  {
   "cell_type": "markdown",
   "metadata": {},
   "source": [
    "## Production Job"
   ]
  },
  {
   "cell_type": "markdown",
   "metadata": {},
   "source": [
    "You can easily wrap the training workload as a production grade [Anyscale Job](https://docs.anyscale.com/platform/jobs/) ([API ref](https://docs.anyscale.com/reference/job-api/)).\n",
    "\n",
    "**Note**: \n",
    "- This Job uses a `containerfile` to define dependencies, but you could easily use a pre-built image as well.\n",
    "- You can specify the compute as a [compute config](https://docs.anyscale.com/configuration/compute-configuration/) or inline in a [job config](https://docs.anyscale.com/reference/job-api#job-cli) file.\n",
    "- When you don't specify compute while launching from a workspace, this configuration defaults to the compute configuration of the workspace."
   ]
  },
  {
   "cell_type": "code",
   "execution_count": null,
   "metadata": {},
   "outputs": [
    {
     "name": "stderr",
     "output_type": "stream",
     "text": [
      "Output\n",
      "(anyscale +0.9s) Submitting job with config JobConfig(name='train-image-model', image_uri='anyscale/ray:2.48.0-slim-py312-cu128', compute_config=None, env_vars=None, py_modules=['/home/ray/default/doggos'], py_executable=None, cloud=None, project=None, ray_version=None, job_queue_config=None).\n",
      "(anyscale +2.8s) Uploading local dir '/home/ray/default' to cloud storage.\n",
      "(anyscale +4.3s) Uploading local dir '/home/ray/default/doggos' to cloud storage.\n",
      "(anyscale +5.4s) Job 'train-image-model' submitted, ID: 'prodjob_ac1sxbql2i2vah66k2462bhxie'.\n",
      "(anyscale +5.4s) View the job in the UI: https://console.anyscale.com/jobs/prodjob_ac1sxbql2i2vah66k2462bhxie\n",
      "(anyscale +5.4s) Use `--wait` to wait for the job to run and stream logs.\n"
     ]
    }
   ],
   "source": [
    "%%bash\n",
    "# Production model training job\n",
    "anyscale job submit -f /home/ray/default/configs/train_model.yaml\n"
   ]
  },
  {
   "cell_type": "markdown",
   "metadata": {},
   "source": [
    "<img src=\"https://raw.githubusercontent.com/anyscale/multimodal-ai/refs/heads/main/images/train_job.png\" width=1000>"
   ]
  },
  {
   "cell_type": "markdown",
   "metadata": {},
   "source": [
    "## Evaluation"
   ]
  },
  {
   "cell_type": "markdown",
   "metadata": {},
   "source": [
    "This tutorial concludes by evaluating the trained model on the test dataset. Evaluation is essentially the same as the batch inference workload where you apply the model on batches of data and then calculate metrics using the predictions versus true labels. Ray Data is hyper optimized for throughput so preserving order isn't a priority. But for evaluation, this approach is crucial. Achieve this approach by preserving the entire row and adding the predicted label as another column to each row."
   ]
  },
  {
   "cell_type": "code",
   "execution_count": null,
   "metadata": {},
   "outputs": [],
   "source": [
    "from urllib.parse import urlparse\n",
    "from sklearn.metrics import multilabel_confusion_matrix\n"
   ]
  },
  {
   "cell_type": "code",
   "execution_count": null,
   "metadata": {},
   "outputs": [],
   "source": [
    "class TorchPredictor:\n",
    "    def __init__(self, preprocessor, model):\n",
    "        self.preprocessor = preprocessor\n",
    "        self.model = model\n",
    "        self.model.eval()\n",
    "\n",
    "    def __call__(self, batch, device=\"cuda\"):\n",
    "        self.model.to(device)\n",
    "        batch[\"prediction\"] = self.model.predict(collate_fn(batch))\n",
    "        return batch\n",
    "\n",
    "    def predict_probabilities(self, batch, device=\"cuda\"):\n",
    "        self.model.to(device)\n",
    "        predicted_probabilities = self.model.predict_probabilities(collate_fn(batch))\n",
    "        batch[\"probabilities\"] = [\n",
    "            {\n",
    "                self.preprocessor.label_to_class[i]: float(prob)\n",
    "                for i, prob in enumerate(probabilities)\n",
    "            }\n",
    "            for probabilities in predicted_probabilities\n",
    "        ]\n",
    "        return batch\n",
    "    \n",
    "    @classmethod\n",
    "    def from_artifacts_dir(cls, artifacts_dir):\n",
    "        with open(os.path.join(artifacts_dir, \"class_to_label.json\"), \"r\") as fp:\n",
    "            class_to_label = json.load(fp)\n",
    "        preprocessor = Preprocessor(class_to_label=class_to_label)\n",
    "        model = ClassificationModel.load(\n",
    "            args_fp=os.path.join(artifacts_dir, \"args.json\"), \n",
    "            state_dict_fp=os.path.join(artifacts_dir, \"model.pt\"),\n",
    "        )\n",
    "        return cls(preprocessor=preprocessor, model=model)\n"
   ]
  },
  {
   "cell_type": "code",
   "execution_count": null,
   "metadata": {},
   "outputs": [],
   "source": [
    "# Load and preproces eval dataset.\n",
    "artifacts_dir = urlparse(best_run.artifact_uri).path\n",
    "predictor = TorchPredictor.from_artifacts_dir(artifacts_dir=artifacts_dir)\n",
    "test_ds = ray.data.read_images(\"s3://doggos-dataset/test\", include_paths=True)\n",
    "test_ds = test_ds.map(add_class)\n",
    "test_ds = predictor.preprocessor.transform(ds=test_ds)\n"
   ]
  },
  {
   "cell_type": "code",
   "execution_count": null,
   "metadata": {},
   "outputs": [
    {
     "name": "stderr",
     "output_type": "stream",
     "text": [
      "2025-08-22 00:34:12,802\tINFO logging.py:295 -- Registered dataset logger for dataset dataset_96_0\n",
      "2025-08-22 00:34:12,814\tINFO streaming_executor.py:117 -- Starting execution of Dataset dataset_96_0. Full logs are in /tmp/ray/session_2025-08-21_18-48-13_464408_2298/logs/ray-data\n",
      "2025-08-22 00:34:12,815\tINFO streaming_executor.py:118 -- Execution plan of Dataset dataset_96_0: InputDataBuffer[Input] -> TaskPoolMapOperator[ListFiles] -> TaskPoolMapOperator[ReadFiles] -> TaskPoolMapOperator[Map(add_class)->Map(convert_to_label)] -> ActorPoolMapOperator[MapBatches(EmbedImages)] -> TaskPoolMapOperator[MapBatches(drop_columns)] -> TaskPoolMapOperator[MapBatches(TorchPredictor)] -> LimitOperator[limit=1]\n"
     ]
    },
    {
     "data": {
      "application/vnd.jupyter.widget-view+json": {
       "model_id": "50d1c62a744146a398da57614e787e8c",
       "version_major": 2,
       "version_minor": 0
      },
      "text/plain": [
       "Running 0: 0.00 row [00:00, ? row/s]"
      ]
     },
     "metadata": {},
     "output_type": "display_data"
    },
    {
     "data": {
      "application/vnd.jupyter.widget-view+json": {
       "model_id": "b2d9b9453d0f40928a76a188f7a30eb4",
       "version_major": 2,
       "version_minor": 0
      },
      "text/plain": [
       "- ListFiles 1: 0.00 row [00:00, ? row/s]"
      ]
     },
     "metadata": {},
     "output_type": "display_data"
    },
    {
     "data": {
      "application/vnd.jupyter.widget-view+json": {
       "model_id": "85b1f60100d8451995792b7da3f8ac83",
       "version_major": 2,
       "version_minor": 0
      },
      "text/plain": [
       "- ReadFiles 2: 0.00 row [00:00, ? row/s]"
      ]
     },
     "metadata": {},
     "output_type": "display_data"
    },
    {
     "data": {
      "application/vnd.jupyter.widget-view+json": {
       "model_id": "d6f46bc81e674ba38e39f807dae62551",
       "version_major": 2,
       "version_minor": 0
      },
      "text/plain": [
       "- Map(add_class)->Map(convert_to_label) 3: 0.00 row [00:00, ? row/s]"
      ]
     },
     "metadata": {},
     "output_type": "display_data"
    },
    {
     "data": {
      "application/vnd.jupyter.widget-view+json": {
       "model_id": "9133c6ae847f4d52955482803d33c67f",
       "version_major": 2,
       "version_minor": 0
      },
      "text/plain": [
       "- MapBatches(EmbedImages) 4: 0.00 row [00:00, ? row/s]"
      ]
     },
     "metadata": {},
     "output_type": "display_data"
    },
    {
     "data": {
      "application/vnd.jupyter.widget-view+json": {
       "model_id": "9ecc392709b442f4b123fcad7fc7e60b",
       "version_major": 2,
       "version_minor": 0
      },
      "text/plain": [
       "- MapBatches(drop_columns) 5: 0.00 row [00:00, ? row/s]"
      ]
     },
     "metadata": {},
     "output_type": "display_data"
    },
    {
     "data": {
      "application/vnd.jupyter.widget-view+json": {
       "model_id": "5df8844d4afa424f8e750c4b362e3667",
       "version_major": 2,
       "version_minor": 0
      },
      "text/plain": [
       "- MapBatches(TorchPredictor) 6: 0.00 row [00:00, ? row/s]"
      ]
     },
     "metadata": {},
     "output_type": "display_data"
    },
    {
     "data": {
      "application/vnd.jupyter.widget-view+json": {
       "model_id": "d2838a72543d43f4a41520dc98f9dd57",
       "version_major": 2,
       "version_minor": 0
      },
      "text/plain": [
       "- limit=1 7: 0.00 row [00:00, ? row/s]"
      ]
     },
     "metadata": {},
     "output_type": "display_data"
    },
    {
     "name": "stderr",
     "output_type": "stream",
     "text": [
      "\u001b[36m(_MapWorker pid=18066, ip=10.0.4.102)\u001b[0m Using a slow image processor as `use_fast` is unset and a slow processor was saved with this model. `use_fast=True` will be the default behavior in v4.52, even if the model was saved with a slow processor. This will result in minor differences in outputs. You'll still be able to use a slow processor with `use_fast=False`.\n"
     ]
    },
    {
     "name": "stdout",
     "output_type": "stream",
     "text": [
      "\u001b[36m(autoscaler +8m20s)\u001b[0m [autoscaler] [1xT4:8CPU-32GB] Attempting to add 1 node to the cluster (increasing from 0 to 1).\n",
      "\u001b[36m(autoscaler +8m25s)\u001b[0m [autoscaler] [1xT4:8CPU-32GB|g4dn.2xlarge] [us-west-2a] [on-demand] Launched 1 instance.\n",
      "\u001b[36m(autoscaler +8m25s)\u001b[0m [autoscaler] [4xT4:48CPU-192GB] Attempting to add 1 node to the cluster (increasing from 1 to 2).\n",
      "\u001b[36m(autoscaler +8m30s)\u001b[0m [autoscaler] [4xT4:48CPU-192GB|g4dn.12xlarge] [us-west-2a] [on-demand] Launched 1 instance.\n"
     ]
    },
    {
     "name": "stderr",
     "output_type": "stream",
     "text": [
      "\u001b[36m(MapBatches(TorchPredictor) pid=19185, ip=10.0.4.102)\u001b[0m /tmp/ipykernel_120810/417303983.py:6: UserWarning: The given NumPy array is not writable, and PyTorch does not support non-writable tensors. This means writing to this tensor will result in undefined behavior. You may want to copy the array to protect its data or make it writable before converting it to a tensor. This type of warning will be suppressed for the rest of this program. (Triggered internally at /pytorch/torch/csrc/utils/tensor_numpy.cpp:203.)\n",
      "\u001b[36m(_MapWorker pid=18062, ip=10.0.4.102)\u001b[0m Using a slow image processor as `use_fast` is unset and a slow processor was saved with this model. `use_fast=True` will be the default behavior in v4.52, even if the model was saved with a slow processor. This will result in minor differences in outputs. You'll still be able to use a slow processor with `use_fast=False`.\u001b[32m [repeated 3x across cluster]\u001b[0m\n",
      "2025-08-22 00:34:50,050\tINFO streaming_executor.py:231 -- ✔️  Dataset dataset_96_0 execution finished in 37.23 seconds\n"
     ]
    },
    {
     "data": {
      "text/plain": [
       "[{'path': 'doggos-dataset/test/basset/basset_10005.jpg',\n",
       "  'class': 'basset',\n",
       "  'label': 2,\n",
       "  'embedding': array([ 8.86104554e-02, -5.89382686e-02,  1.15464866e-01,  2.15815112e-01,\n",
       "         -3.43266308e-01, -3.35150540e-01,  1.48883224e-01, -1.02369718e-01,\n",
       "         -1.69915810e-01,  4.34856862e-03,  2.41593361e-01,  1.79200619e-01,\n",
       "          4.34402555e-01,  4.59785998e-01,  1.59284808e-02,  4.16959971e-01,\n",
       "          5.20779848e-01,  1.86366066e-01, -3.43496174e-01, -4.00813907e-01,\n",
       "         -1.15213782e-01, -3.04853529e-01,  1.77998394e-01,  1.82090014e-01,\n",
       "         -3.56360346e-01, -2.30711952e-01,  1.69025257e-01,  3.78455579e-01,\n",
       "          8.37044120e-02, -4.81875241e-02,  3.17967087e-01, -1.40099749e-01,\n",
       "         -2.15949178e-01, -4.72761095e-01, -3.01893711e-01,  7.59940967e-02,\n",
       "         -2.64865339e-01,  5.89084566e-01, -3.75831634e-01,  3.11807573e-01,\n",
       "         -3.82964134e-01, -1.86417520e-01,  1.07007243e-01,  4.81416702e-01,\n",
       "         -3.70819569e-01,  9.12090182e-01,  3.13470632e-01, -3.69494259e-02,\n",
       "         -2.21142501e-01,  3.32214013e-02,  8.51379186e-02,  3.64337176e-01,\n",
       "         -3.90754700e-01,  4.39904258e-02,  5.39945886e-02, -5.02359867e-01,\n",
       "         -4.76054996e-02,  3.87604594e-01, -3.71239424e-01, -8.79095644e-02,\n",
       "          5.62141061e-01,  1.96927994e-01,  3.54419112e-01, -6.80974126e-03,\n",
       "          2.86425143e-01, -3.24660867e-01, -4.56204057e-01,  6.41017914e-01,\n",
       "         -1.67037442e-01, -2.29641497e-01,  4.71122622e-01,  5.03865302e-01,\n",
       "         -9.06585157e-03, -1.23926058e-01, -3.32888782e-01,  1.59683321e-02,\n",
       "         -5.00816345e-01, -3.53796408e-02, -1.60535276e-01, -2.88702995e-01,\n",
       "          5.51706925e-02, -3.47863048e-01, -3.01085338e-02, -6.00592375e-01,\n",
       "          2.04530790e-01, -1.17298350e-01,  8.88321698e-01, -3.18641007e-01,\n",
       "          2.02193573e-01, -1.50856599e-01, -2.96603352e-01, -5.45758486e-01,\n",
       "         -7.55531311e+00, -3.07271361e-01, -7.33374238e-01,  2.76708573e-01,\n",
       "         -3.76666151e-02, -4.25825119e-01, -5.56892097e-01,  7.15545475e-01,\n",
       "          1.02834240e-01, -1.19939610e-01,  1.94998607e-01, -2.46950224e-01,\n",
       "          2.61530429e-01, -4.19263542e-01,  1.31001920e-01, -2.49398082e-01,\n",
       "         -3.26750994e-01, -3.92482489e-01,  3.30219358e-01, -5.78646958e-01,\n",
       "          1.53134540e-01, -3.10127169e-01, -3.67199332e-01, -7.94161111e-02,\n",
       "         -2.93402106e-01,  2.62198240e-01,  2.91103810e-01,  1.32868871e-01,\n",
       "         -5.78317158e-02, -4.26885992e-01,  2.99195677e-01,  4.23972368e-01,\n",
       "          2.30407149e-01, -2.98300147e-01, -1.55886114e-01, -1.24661736e-01,\n",
       "         -1.17139973e-01, -4.21351314e-01, -1.45010501e-02, -3.06388348e-01,\n",
       "          2.89572328e-01,  9.73405361e-01, -5.52814901e-01,  2.36222595e-01,\n",
       "         -2.13898420e-01, -1.00043082e+00, -3.57041806e-01, -1.50843680e-01,\n",
       "          4.69288528e-02,  2.08646134e-01, -2.70194232e-01,  2.63797104e-01,\n",
       "          1.31332219e-01,  2.82329589e-01,  2.69341841e-02, -1.21627375e-01,\n",
       "          3.80910456e-01,  2.65330970e-01, -3.01948935e-01, -6.39178753e-02,\n",
       "         -3.13922286e-01, -4.14075851e-01, -2.19056532e-01,  2.22424790e-01,\n",
       "          8.13730657e-02, -3.03519934e-01,  9.32400897e-02, -3.76873404e-01,\n",
       "          8.34950879e-02,  1.01878762e-01,  2.87054926e-01,  2.09415853e-02,\n",
       "         -1.22204229e-01,  1.64302550e-02, -2.41174936e-01,  1.78844824e-01,\n",
       "          9.15416703e-03,  1.66462481e-01, -1.45732313e-01, -5.85511327e-04,\n",
       "          2.25536823e-01,  3.30472469e-01, -1.25101686e-01,  1.13093004e-01,\n",
       "          1.52094781e-01,  4.37459409e-01,  3.22061956e-01,  1.37893021e-01,\n",
       "         -2.53650725e-01, -1.94988877e-01, -2.72130489e-01, -2.57504702e-01,\n",
       "          1.92389667e-01, -2.07393348e-01,  1.73574477e-01,  2.59756446e-02,\n",
       "          2.20320046e-01,  6.48344308e-02,  3.96853566e-01,  1.11773282e-01,\n",
       "         -4.38930988e-01, -5.10937572e-02,  5.92644155e-01,  6.10140711e-03,\n",
       "         -3.97206768e-02,  7.65584633e-02, -7.68468618e-01,  1.23042464e-01,\n",
       "          3.48037392e-01,  1.49242997e-01,  2.86662281e-02,  2.79642552e-01,\n",
       "         -2.26151049e-01, -6.73239648e-01, -8.07924390e-01,  8.62701386e-02,\n",
       "          4.94999364e-02,  1.61207989e-02, -1.30242959e-01,  1.77768275e-01,\n",
       "          3.62961054e-01, -3.20745975e-01,  3.67820978e-01, -9.77848917e-02,\n",
       "         -2.64019221e-01,  6.74475431e-01,  9.26629007e-01, -4.54470068e-02,\n",
       "          9.59405363e-01,  3.02993000e-01, -5.81385851e-01,  3.98850322e-01,\n",
       "          7.40434751e-02,  1.79926023e-01,  9.12196040e-02,  2.77938917e-02,\n",
       "         -2.20950916e-02, -1.98561847e-01, -4.33019698e-01,  1.35872006e-01,\n",
       "         -3.84440348e-02,  1.63487554e-01,  5.38927615e-02,  8.52212310e-01,\n",
       "         -8.64772916e-01, -3.00439209e-01,  1.66039094e-02, -4.84181255e-01,\n",
       "         -2.57156193e-01,  4.46582437e-01,  3.71635705e-02, -7.58354291e-02,\n",
       "         -1.38248950e-02,  1.01295078e+00,  2.14489758e-01, -1.17217854e-01,\n",
       "         -2.82662451e-01,  7.08411038e-01,  2.08262652e-01, -1.69240460e-02,\n",
       "          1.02334268e-01,  4.20059741e-01,  1.07706316e-01, -3.89203757e-01,\n",
       "         -5.91410846e-02, -1.77690476e-01, -1.26772380e+00,  1.75859511e-01,\n",
       "         -2.49499828e-01,  1.60166726e-01,  8.72884393e-02, -4.53421593e-01,\n",
       "          1.96858853e-01, -2.25365251e-01, -1.31235719e-02, -4.58204031e-01,\n",
       "         -1.54087022e-01, -1.87472761e-01,  2.73187131e-01,  4.14693624e-01,\n",
       "          6.00348413e-01,  5.16499318e-02, -2.52319247e-01, -2.08351701e-01,\n",
       "         -3.85643661e-01, -6.44139796e-02, -2.70672083e-01, -5.09124994e-02,\n",
       "         -1.17392734e-01, -1.16136428e-02, -1.69710606e-01,  2.30101690e-01,\n",
       "         -6.31506741e-02,  2.20495850e-01,  4.81231391e-01,  3.76428038e-01,\n",
       "         -2.14597031e-01, -4.70009223e-02,  4.38644290e-01,  2.72557199e-01,\n",
       "         -1.89499091e-02,  6.36664629e-02, -4.86765429e-02, -6.02428794e-01,\n",
       "          5.40002957e-02, -9.60005671e-02,  4.63560931e-02, -3.55034113e-01,\n",
       "          2.27724269e-01, -1.30642965e-01, -5.17771959e-01,  7.08835796e-02,\n",
       "         -2.57462114e-01, -4.82860744e-01,  1.13421358e-01,  9.88648832e-02,\n",
       "          6.21988237e-01,  2.64641732e-01, -9.67874378e-03,  1.94528699e-01,\n",
       "          9.72453296e-01, -4.36969042e-01, -5.50681949e-02,  1.42934144e-01,\n",
       "          1.37221038e-01,  5.63952804e-01, -3.20022464e-01, -5.56031644e-01,\n",
       "          9.09894407e-01,  1.02216589e+00, -2.79887915e-01,  1.69066399e-01,\n",
       "          6.48921371e-01,  1.68456510e-02, -2.58911937e-01,  4.62736428e-01,\n",
       "          8.00172612e-03,  1.66315883e-01, -5.30062854e-01, -3.96020412e-01,\n",
       "          4.43380117e-01, -4.35658276e-01, -1.11912012e-01, -5.91614306e-01,\n",
       "         -7.02220649e-02,  1.41544282e-01, -5.65246567e-02, -1.19229007e+00,\n",
       "         -1.00026041e-01,  1.35173336e-01, -1.37986809e-01,  4.58395988e-01,\n",
       "          2.99769610e-01,  1.13845997e-01, -3.23149785e-02,  4.82394725e-01,\n",
       "         -6.13934547e-03,  3.68614852e-01, -4.91497517e-01, -4.97332066e-01,\n",
       "          8.73729736e-02,  3.60586494e-01, -2.91166097e-01,  1.89481646e-01,\n",
       "          2.87948608e-01,  1.90306157e-01,  4.15048778e-01,  3.93784940e-01,\n",
       "          6.75817132e-02,  1.18251920e-01,  2.03508779e-01,  3.09830695e-01,\n",
       "         -1.03927016e+00,  1.00612268e-01, -3.46988708e-01, -7.09752440e-01,\n",
       "          2.20241398e-01, -3.74946982e-01, -1.48783788e-01, -1.31232068e-01,\n",
       "          3.87498319e-01,  1.67044029e-01, -2.79640555e-01,  3.40543866e-01,\n",
       "          1.28378880e+00,  4.47215438e-01, -5.00054121e-01,  6.85076341e-02,\n",
       "          1.93691164e-01, -4.66935217e-01, -3.24348718e-01,  4.53348368e-01,\n",
       "          6.36629641e-01, -5.52294970e-01, -3.59640062e-01,  2.45728597e-01,\n",
       "          4.48195577e-01, -1.36022663e+00, -6.26060665e-01, -4.96963590e-01,\n",
       "         -2.55071461e-01, -2.31453001e-01, -4.22013104e-01,  5.81141561e-02,\n",
       "          1.66424632e-01, -1.81557357e-01, -2.85358205e-02, -1.10628068e+00,\n",
       "         -2.42026821e-01, -4.49676067e-03,  5.53836450e-02,  4.92810488e-01,\n",
       "          5.83105981e-01,  6.97781667e-02, -1.33217961e-01, -1.25093237e-01,\n",
       "          1.17499933e-01, -5.19634366e-01,  1.42042309e-01,  2.34404474e-01,\n",
       "         -2.55929470e-01,  3.23758684e-02, -2.34450802e-01, -7.54091814e-02,\n",
       "          1.83672294e-01, -2.25883007e-01, -4.76478487e-02, -4.84889567e-01,\n",
       "          1.12959743e-03,  1.80705532e-01, -5.87785244e-02,  4.82457250e-01,\n",
       "         -1.88920692e-01,  1.47517592e-01,  1.10182568e-01, -2.28278339e-02,\n",
       "          8.62778306e-01,  4.46689427e-02,  4.16403189e-02, -1.07179873e-01,\n",
       "         -1.42522454e+00, -2.31161788e-02,  3.05959303e-02, -6.58722073e-02,\n",
       "         -3.69132429e-01,  3.49290550e-01, -1.39178723e-01, -3.51127565e-01,\n",
       "          5.00785351e-01,  2.31236637e-01,  6.77590072e-02, -3.59323025e-02,\n",
       "          2.69076526e-01, -3.60533416e-01,  1.48107335e-01, -1.11518174e-01,\n",
       "          1.65307403e-01, -1.74086124e-01,  6.01880312e-01, -5.95235109e-01,\n",
       "          5.29538319e-02,  3.12422097e-01, -1.14403330e-01,  2.30422497e-01,\n",
       "         -9.48345065e-02,  3.76421027e-02,  4.77573276e-02,  3.89954895e-01,\n",
       "         -1.91829026e-01, -6.26232028e-01,  1.29549801e-01, -2.84714490e-01,\n",
       "          2.88834363e-01,  6.25569642e-01, -2.44193405e-01,  3.08956832e-01,\n",
       "         -4.79587227e-01,  1.59115836e-01, -1.07442781e-01,  1.57203451e-01,\n",
       "         -8.51369202e-02, -1.20136715e-01, -2.91232206e-02,  1.08408488e-01,\n",
       "         -5.97195402e-02, -1.21715315e-01, -5.79822421e-01,  3.90639007e-01,\n",
       "         -2.83878148e-01, -2.72939146e-01,  3.87672335e-04, -2.62640566e-01,\n",
       "         -1.67415068e-01,  1.97720259e-01,  3.60535234e-01, -1.85247302e-01,\n",
       "         -2.80813038e-01,  3.32875013e-01, -3.98125350e-01, -3.53022516e-02,\n",
       "          5.48863769e-01, -1.35882646e-01,  2.50048220e-01, -1.27448589e-01,\n",
       "         -3.03174406e-01,  3.85489166e-02, -7.27320850e-01,  5.22592783e-01,\n",
       "         -1.97360516e-01, -1.98229402e-01, -1.42074719e-01,  4.11824808e-02,\n",
       "         -2.92105675e-01,  2.07964912e-01,  4.97746691e-02,  1.48062438e-01,\n",
       "         -2.94304550e-01,  7.31720269e-01,  1.14105418e-02,  5.50758056e-02],\n",
       "        dtype=float32),\n",
       "  'prediction': 8}]"
      ]
     },
     "execution_count": null,
     "metadata": {},
     "output_type": "execute_result"
    }
   ],
   "source": [
    "# y_pred (batch inference).\n",
    "pred_ds = test_ds.map_batches(\n",
    "    predictor,\n",
    "    concurrency=4,\n",
    "    batch_size=64,\n",
    "    num_gpus=1,\n",
    "    accelerator_type=\"T4\",\n",
    ")\n",
    "pred_ds.take(1)\n"
   ]
  },
  {
   "cell_type": "code",
   "execution_count": null,
   "metadata": {},
   "outputs": [],
   "source": [
    "def batch_metric(batch):\n",
    "    labels = batch[\"label\"]\n",
    "    preds = batch[\"prediction\"]\n",
    "    mcm = multilabel_confusion_matrix(labels, preds)\n",
    "    tn, fp, fn, tp = [], [], [], []\n",
    "    for i in range(mcm.shape[0]):\n",
    "        tn.append(mcm[i, 0, 0])  # True negatives\n",
    "        fp.append(mcm[i, 0, 1])  # False positives\n",
    "        fn.append(mcm[i, 1, 0])  # False negatives\n",
    "        tp.append(mcm[i, 1, 1])  # True positives\n",
    "    return {\"TN\": tn, \"FP\": fp, \"FN\": fn, \"TP\": tp}\n"
   ]
  },
  {
   "cell_type": "code",
   "execution_count": null,
   "metadata": {},
   "outputs": [
    {
     "name": "stderr",
     "output_type": "stream",
     "text": [
      "2025-08-22 00:34:50,290\tINFO logging.py:295 -- Registered dataset logger for dataset dataset_99_0\n"
     ]
    },
    {
     "name": "stderr",
     "output_type": "stream",
     "text": [
      "2025-08-22 00:34:50,303\tINFO streaming_executor.py:117 -- Starting execution of Dataset dataset_99_0. Full logs are in /tmp/ray/session_2025-08-21_18-48-13_464408_2298/logs/ray-data\n",
      "2025-08-22 00:34:50,304\tINFO streaming_executor.py:118 -- Execution plan of Dataset dataset_99_0: InputDataBuffer[Input] -> TaskPoolMapOperator[ListFiles] -> TaskPoolMapOperator[ReadFiles] -> TaskPoolMapOperator[Map(add_class)->Map(convert_to_label)] -> ActorPoolMapOperator[MapBatches(EmbedImages)] -> TaskPoolMapOperator[MapBatches(drop_columns)] -> TaskPoolMapOperator[MapBatches(TorchPredictor)] -> TaskPoolMapOperator[MapBatches(batch_metric)] -> AllToAllOperator[Aggregate] -> LimitOperator[limit=1]\n"
     ]
    },
    {
     "data": {
      "application/vnd.jupyter.widget-view+json": {
       "model_id": "1bf87bfd70924161a7f4f956a92eb23f",
       "version_major": 2,
       "version_minor": 0
      },
      "text/plain": [
       "Running 0: 0.00 row [00:00, ? row/s]"
      ]
     },
     "metadata": {},
     "output_type": "display_data"
    },
    {
     "data": {
      "application/vnd.jupyter.widget-view+json": {
       "model_id": "2114df52a7ac4646aabfda7f7802a648",
       "version_major": 2,
       "version_minor": 0
      },
      "text/plain": [
       "- ListFiles 1: 0.00 row [00:00, ? row/s]"
      ]
     },
     "metadata": {},
     "output_type": "display_data"
    },
    {
     "data": {
      "application/vnd.jupyter.widget-view+json": {
       "model_id": "d889fe01be0545939617a037455180df",
       "version_major": 2,
       "version_minor": 0
      },
      "text/plain": [
       "- ReadFiles 2: 0.00 row [00:00, ? row/s]"
      ]
     },
     "metadata": {},
     "output_type": "display_data"
    },
    {
     "data": {
      "application/vnd.jupyter.widget-view+json": {
       "model_id": "e8b23a2321514f21a50825b660f670bf",
       "version_major": 2,
       "version_minor": 0
      },
      "text/plain": [
       "- Map(add_class)->Map(convert_to_label) 3: 0.00 row [00:00, ? row/s]"
      ]
     },
     "metadata": {},
     "output_type": "display_data"
    },
    {
     "data": {
      "application/vnd.jupyter.widget-view+json": {
       "model_id": "627c443e2450449c8683775fc89d7a8f",
       "version_major": 2,
       "version_minor": 0
      },
      "text/plain": [
       "- MapBatches(EmbedImages) 4: 0.00 row [00:00, ? row/s]"
      ]
     },
     "metadata": {},
     "output_type": "display_data"
    },
    {
     "data": {
      "application/vnd.jupyter.widget-view+json": {
       "model_id": "2d41291adfbf4c86817b203dc9e6f181",
       "version_major": 2,
       "version_minor": 0
      },
      "text/plain": [
       "- MapBatches(drop_columns) 5: 0.00 row [00:00, ? row/s]"
      ]
     },
     "metadata": {},
     "output_type": "display_data"
    },
    {
     "data": {
      "application/vnd.jupyter.widget-view+json": {
       "model_id": "a2831719e1324270a3662420aff4c1e0",
       "version_major": 2,
       "version_minor": 0
      },
      "text/plain": [
       "- MapBatches(TorchPredictor) 6: 0.00 row [00:00, ? row/s]"
      ]
     },
     "metadata": {},
     "output_type": "display_data"
    },
    {
     "data": {
      "application/vnd.jupyter.widget-view+json": {
       "model_id": "120a18eec3a64dfda631fa6dbff06232",
       "version_major": 2,
       "version_minor": 0
      },
      "text/plain": [
       "- MapBatches(batch_metric) 7: 0.00 row [00:00, ? row/s]"
      ]
     },
     "metadata": {},
     "output_type": "display_data"
    },
    {
     "data": {
      "application/vnd.jupyter.widget-view+json": {
       "model_id": "18834b310df94e338ad7ad76aaf77ec5",
       "version_major": 2,
       "version_minor": 0
      },
      "text/plain": [
       "- Aggregate 8: 0.00 row [00:00, ? row/s]"
      ]
     },
     "metadata": {},
     "output_type": "display_data"
    },
    {
     "data": {
      "application/vnd.jupyter.widget-view+json": {
       "model_id": "898fc65b6d6e491f9bd6dd33572f0d6d",
       "version_major": 2,
       "version_minor": 0
      },
      "text/plain": [
       "Sort Sample 9:   0%|          | 0.00/1.00 [00:00<?, ? row/s]"
      ]
     },
     "metadata": {},
     "output_type": "display_data"
    },
    {
     "data": {
      "application/vnd.jupyter.widget-view+json": {
       "model_id": "7c7712b3872448c49f04dd6ed1af48f6",
       "version_major": 2,
       "version_minor": 0
      },
      "text/plain": [
       "Shuffle Map 10:   0%|          | 0.00/1.00 [00:00<?, ? row/s]"
      ]
     },
     "metadata": {},
     "output_type": "display_data"
    },
    {
     "data": {
      "application/vnd.jupyter.widget-view+json": {
       "model_id": "970b96aca5db4f1aab1e487105e61cae",
       "version_major": 2,
       "version_minor": 0
      },
      "text/plain": [
       "Shuffle Reduce 11:   0%|          | 0.00/1.00 [00:00<?, ? row/s]"
      ]
     },
     "metadata": {},
     "output_type": "display_data"
    },
    {
     "data": {
      "application/vnd.jupyter.widget-view+json": {
       "model_id": "aecfe233dbf249b7ab34fc9d26184bc5",
       "version_major": 2,
       "version_minor": 0
      },
      "text/plain": [
       "- limit=1 12: 0.00 row [00:00, ? row/s]"
      ]
     },
     "metadata": {},
     "output_type": "display_data"
    },
    {
     "name": "stderr",
     "output_type": "stream",
     "text": [
      "\u001b[36m(_MapWorker pid=19193, ip=10.0.4.102)\u001b[0m Using a slow image processor as `use_fast` is unset and a slow processor was saved with this model. `use_fast=True` will be the default behavior in v4.52, even if the model was saved with a slow processor. This will result in minor differences in outputs. You'll still be able to use a slow processor with `use_fast=False`.\n",
      "\u001b[36m(_MapWorker pid=25926, ip=10.0.4.102)\u001b[0m Using a slow image processor as `use_fast` is unset and a slow processor was saved with this model. `use_fast=True` will be the default behavior in v4.52, even if the model was saved with a slow processor. This will result in minor differences in outputs. You'll still be able to use a slow processor with `use_fast=False`.\u001b[32m [repeated 2x across cluster]\u001b[0m\n"
     ]
    },
    {
     "name": "stdout",
     "output_type": "stream",
     "text": [
      "\u001b[36m(autoscaler +9m10s)\u001b[0m [autoscaler] Cluster upscaled to {120 CPU, 9 GPU}.\n",
      "\u001b[36m(autoscaler +9m15s)\u001b[0m [autoscaler] Cluster upscaled to {168 CPU, 13 GPU}.\n"
     ]
    },
    {
     "name": "stderr",
     "output_type": "stream",
     "text": [
      "\u001b[36m(MapBatches(TorchPredictor) pid=2582, ip=10.0.31.199)\u001b[0m /tmp/ipykernel_120810/417303983.py:6: UserWarning: The given NumPy array is not writable, and PyTorch does not support non-writable tensors. This means writing to this tensor will result in undefined behavior. You may want to copy the array to protect its data or make it writable before converting it to a tensor. This type of warning will be suppressed for the rest of this program. (Triggered internally at /pytorch/torch/csrc/utils/tensor_numpy.cpp:203.)\n",
      "\u001b[36m(_MapWorker pid=27577, ip=10.0.4.102)\u001b[0m Using a slow image processor as `use_fast` is unset and a slow processor was saved with this model. `use_fast=True` will be the default behavior in v4.52, even if the model was saved with a slow processor. This will result in minor differences in outputs. You'll still be able to use a slow processor with `use_fast=False`.\n",
      "\u001b[36m(MapBatches(TorchPredictor) pid=2578, ip=10.0.31.199)\u001b[0m /tmp/ipykernel_120810/417303983.py:6: UserWarning: The given NumPy array is not writable, and PyTorch does not support non-writable tensors. This means writing to this tensor will result in undefined behavior. You may want to copy the array to protect its data or make it writable before converting it to a tensor. This type of warning will be suppressed for the rest of this program. (Triggered internally at /pytorch/torch/csrc/utils/tensor_numpy.cpp:203.)\u001b[32m [repeated 4x across cluster]\u001b[0m\n",
      "\u001b[36m(MapBatches(TorchPredictor) pid=2576, ip=10.0.31.199)\u001b[0m /tmp/ipykernel_120810/417303983.py:6: UserWarning: The given NumPy array is not writable, and PyTorch does not support non-writable tensors. This means writing to this tensor will result in undefined behavior. You may want to copy the array to protect its data or make it writable before converting it to a tensor. This type of warning will be suppressed for the rest of this program. (Triggered internally at /pytorch/torch/csrc/utils/tensor_numpy.cpp:203.)\u001b[32m [repeated 4x across cluster]\u001b[0m\n",
      "\u001b[36m(MapBatches(TorchPredictor) pid=3977, ip=10.0.60.138)\u001b[0m /tmp/ipykernel_120810/417303983.py:6: UserWarning: The given NumPy array is not writable, and PyTorch does not support non-writable tensors. This means writing to this tensor will result in undefined behavior. You may want to copy the array to protect its data or make it writable before converting it to a tensor. This type of warning will be suppressed for the rest of this program. (Triggered internally at /pytorch/torch/csrc/utils/tensor_numpy.cpp:203.)\u001b[32m [repeated 3x across cluster]\u001b[0m\n",
      "\u001b[36m(MapBatches(TorchPredictor) pid=4229, ip=10.0.60.138)\u001b[0m /tmp/ipykernel_120810/417303983.py:6: UserWarning: The given NumPy array is not writable, and PyTorch does not support non-writable tensors. This means writing to this tensor will result in undefined behavior. You may want to copy the array to protect its data or make it writable before converting it to a tensor. This type of warning will be suppressed for the rest of this program. (Triggered internally at /pytorch/torch/csrc/utils/tensor_numpy.cpp:203.)\u001b[32m [repeated 2x across cluster]\u001b[0m\n",
      "\u001b[36m(MapBatches(TorchPredictor) pid=2579, ip=10.0.31.199)\u001b[0m /tmp/ipykernel_120810/417303983.py:6: UserWarning: The given NumPy array is not writable, and PyTorch does not support non-writable tensors. This means writing to this tensor will result in undefined behavior. You may want to copy the array to protect its data or make it writable before converting it to a tensor. This type of warning will be suppressed for the rest of this program. (Triggered internally at /pytorch/torch/csrc/utils/tensor_numpy.cpp:203.)\u001b[32m [repeated 4x across cluster]\u001b[0m\n",
      "\u001b[36m(MapBatches(TorchPredictor) pid=2581, ip=10.0.31.199)\u001b[0m /tmp/ipykernel_120810/417303983.py:6: UserWarning: The given NumPy array is not writable, and PyTorch does not support non-writable tensors. This means writing to this tensor will result in undefined behavior. You may want to copy the array to protect its data or make it writable before converting it to a tensor. This type of warning will be suppressed for the rest of this program. (Triggered internally at /pytorch/torch/csrc/utils/tensor_numpy.cpp:203.)\u001b[32m [repeated 4x across cluster]\u001b[0m\n",
      "\u001b[36m(MapBatches(TorchPredictor) pid=5094, ip=10.0.60.138)\u001b[0m /tmp/ipykernel_120810/417303983.py:6: UserWarning: The given NumPy array is not writable, and PyTorch does not support non-writable tensors. This means writing to this tensor will result in undefined behavior. You may want to copy the array to protect its data or make it writable before converting it to a tensor. This type of warning will be suppressed for the rest of this program. (Triggered internally at /pytorch/torch/csrc/utils/tensor_numpy.cpp:203.)\u001b[32m [repeated 4x across cluster]\u001b[0m\n",
      "\u001b[36m(MapBatches(TorchPredictor) pid=5289, ip=10.0.60.138)\u001b[0m /tmp/ipykernel_120810/417303983.py:6: UserWarning: The given NumPy array is not writable, and PyTorch does not support non-writable tensors. This means writing to this tensor will result in undefined behavior. You may want to copy the array to protect its data or make it writable before converting it to a tensor. This type of warning will be suppressed for the rest of this program. (Triggered internally at /pytorch/torch/csrc/utils/tensor_numpy.cpp:203.)\u001b[32m [repeated 4x across cluster]\u001b[0m\n",
      "\u001b[36m(MapBatches(TorchPredictor) pid=5548, ip=10.0.60.138)\u001b[0m /tmp/ipykernel_120810/417303983.py:6: UserWarning: The given NumPy array is not writable, and PyTorch does not support non-writable tensors. This means writing to this tensor will result in undefined behavior. You may want to copy the array to protect its data or make it writable before converting it to a tensor. This type of warning will be suppressed for the rest of this program. (Triggered internally at /pytorch/torch/csrc/utils/tensor_numpy.cpp:203.)\u001b[32m [repeated 4x across cluster]\u001b[0m\n",
      "\u001b[36m(MapBatches(TorchPredictor) pid=5816, ip=10.0.60.138)\u001b[0m /tmp/ipykernel_120810/417303983.py:6: UserWarning: The given NumPy array is not writable, and PyTorch does not support non-writable tensors. This means writing to this tensor will result in undefined behavior. You may want to copy the array to protect its data or make it writable before converting it to a tensor. This type of warning will be suppressed for the rest of this program. (Triggered internally at /pytorch/torch/csrc/utils/tensor_numpy.cpp:203.)\u001b[32m [repeated 4x across cluster]\u001b[0m\n",
      "2025-08-22 00:38:03,968\tINFO streaming_executor.py:231 -- ✔️  Dataset dataset_99_0 execution finished in 193.66 seconds\n"
     ]
    }
   ],
   "source": [
    "# Aggregated metrics after processing all batches.\n",
    "metrics_ds = pred_ds.map_batches(batch_metric)\n",
    "aggregate_metrics = metrics_ds.sum([\"TN\", \"FP\", \"FN\", \"TP\"])\n",
    "\n",
    "# Aggregate the confusion matrix components across all batches.\n",
    "tn = aggregate_metrics[\"sum(TN)\"]\n",
    "fp = aggregate_metrics[\"sum(FP)\"]\n",
    "fn = aggregate_metrics[\"sum(FN)\"]\n",
    "tp = aggregate_metrics[\"sum(TP)\"]\n",
    "\n",
    "# Calculate metrics.\n",
    "precision = tp / (tp + fp) if (tp + fp) > 0 else 0\n",
    "recall = tp / (tp + fn) if (tp + fn) > 0 else 0\n",
    "f1 = 2 * precision * recall / (precision + recall) if (precision + recall) > 0 else 0\n",
    "accuracy = (tp + tn) / (tp + tn + fp + fn)\n"
   ]
  },
  {
   "cell_type": "code",
   "execution_count": null,
   "metadata": {},
   "outputs": [
    {
     "name": "stdout",
     "output_type": "stream",
     "text": [
      "Precision: 0.84\n",
      "Recall: 0.84\n",
      "F1: 0.84\n",
      "Accuracy: 0.98\n"
     ]
    },
    {
     "name": "stdout",
     "output_type": "stream",
     "text": [
      "\u001b[36m(autoscaler +13m0s)\u001b[0m [autoscaler] Downscaling node i-0ffe5abae6e899f5a (node IP: 10.0.60.138) due to node idle termination.\n",
      "\u001b[36m(autoscaler +13m5s)\u001b[0m [autoscaler] Cluster resized to {120 CPU, 9 GPU}.\n",
      "\u001b[36m(autoscaler +16m0s)\u001b[0m [autoscaler] Downscaling node i-0aa72cef9b8921af5 (node IP: 10.0.31.199) due to node idle termination.\n",
      "\u001b[36m(autoscaler +16m5s)\u001b[0m [autoscaler] Cluster resized to {112 CPU, 8 GPU}.\n"
     ]
    },
    {
     "name": "stderr",
     "output_type": "stream",
     "text": [
      "\u001b[33m(raylet, ip=10.0.4.102)\u001b[0m Using CPython 3.12.11 interpreter at: /home/ray/anaconda3/bin/python3.12\n",
      "\u001b[33m(raylet, ip=10.0.4.102)\u001b[0m Creating virtual environment at: .venv\n",
      "\u001b[33m(raylet, ip=10.0.4.102)\u001b[0m    Building doggos @ file:///tmp/ray/session_2025-08-21_18-48-13_464408_2298/runtime_resources/working_dir_files/_ray_pkg_f79228c33bd2a431/doggos\n",
      "\u001b[33m(raylet, ip=10.0.4.102)\u001b[0m Downloading pillow (6.3MiB)\n",
      "\u001b[33m(raylet, ip=10.0.4.102)\u001b[0m Downloading grpcio (5.9MiB)\n",
      "\u001b[33m(raylet, ip=10.0.4.102)\u001b[0m Downloading sqlalchemy (3.2MiB)\n",
      "\u001b[33m(raylet, ip=10.0.4.102)\u001b[0m Downloading pydantic-core (1.9MiB)\n",
      "\u001b[33m(raylet, ip=10.0.4.102)\u001b[0m Downloading jedi (1.5MiB)\n",
      "\u001b[33m(raylet, ip=10.0.4.102)\u001b[0m Downloading virtualenv (5.7MiB)\n",
      "\u001b[33m(raylet, ip=10.0.4.102)\u001b[0m Downloading pandas (11.4MiB)\n",
      "\u001b[33m(raylet, ip=10.0.4.102)\u001b[0m Downloading setuptools (1.1MiB)\n",
      "\u001b[33m(raylet, ip=10.0.4.102)\u001b[0m Downloading uvloop (4.5MiB)\n",
      "\u001b[33m(raylet, ip=10.0.4.102)\u001b[0m Downloading nvidia-cuda-nvrtc-cu12 (22.6MiB)\n",
      "\u001b[33m(raylet, ip=10.0.4.102)\u001b[0m Downloading sympy (6.0MiB)\n",
      "\u001b[33m(raylet, ip=10.0.4.102)\u001b[0m Downloading numpy (15.9MiB)\n",
      "\u001b[33m(raylet, ip=10.0.4.102)\u001b[0m Downloading kiwisolver (1.4MiB)\n",
      "\u001b[33m(raylet, ip=10.0.4.102)\u001b[0m Downloading tokenizers (3.0MiB)\n",
      "\u001b[33m(raylet, ip=10.0.4.102)\u001b[0m Downloading pyarrow (38.2MiB)\n",
      "\u001b[33m(raylet, ip=10.0.4.102)\u001b[0m Downloading botocore (13.3MiB)\n",
      "\u001b[33m(raylet, ip=10.0.4.102)\u001b[0m Downloading fonttools (4.7MiB)\n",
      "\u001b[33m(raylet, ip=10.0.4.102)\u001b[0m Downloading widgetsnbextension (2.1MiB)\n",
      "\u001b[33m(raylet, ip=10.0.4.102)\u001b[0m Downloading mlflow-skinny (5.6MiB)\n",
      "\u001b[33m(raylet, ip=10.0.4.102)\u001b[0m Downloading aiohttp (1.6MiB)\n",
      "\u001b[33m(raylet, ip=10.0.4.102)\u001b[0m Downloading networkx (1.9MiB)\n",
      "\u001b[33m(raylet, ip=10.0.4.102)\u001b[0m Downloading pygments (1.2MiB)\n",
      "\u001b[33m(raylet, ip=10.0.4.102)\u001b[0m Downloading debugpy (4.0MiB)\n",
      "\u001b[33m(raylet, ip=10.0.4.102)\u001b[0m Downloading py-spy (2.6MiB)\n",
      "\u001b[33m(raylet, ip=10.0.4.102)\u001b[0m Downloading scikit-learn (12.5MiB)\n",
      "\u001b[33m(raylet, ip=10.0.4.102)\u001b[0m Downloading hf-xet (3.0MiB)\n",
      "\u001b[33m(raylet, ip=10.0.4.102)\u001b[0m Downloading matplotlib (8.2MiB)\n",
      "\u001b[33m(raylet, ip=10.0.4.102)\u001b[0m Downloading torch (783.0MiB)\n",
      "\u001b[33m(raylet, ip=10.0.4.102)\u001b[0m Downloading transformers (10.0MiB)\n",
      "\u001b[33m(raylet, ip=10.0.4.102)\u001b[0m Downloading scipy (33.5MiB)\n",
      "\u001b[33m(raylet, ip=10.0.4.102)\u001b[0m Downloading polars (36.7MiB)\n",
      "\u001b[33m(raylet, ip=10.0.4.102)\u001b[0m Downloading mlflow (26.1MiB)\n",
      "\u001b[33m(raylet, ip=10.0.4.102)\u001b[0m Downloading triton (148.5MiB)\n",
      "\u001b[33m(raylet, ip=10.0.4.102)\u001b[0m       Built doggos @ file:///tmp/ray/session_2025-08-21_18-48-13_464408_2298/runtime_resources/working_dir_files/_ray_pkg_f79228c33bd2a431/doggos\n",
      "\u001b[33m(raylet, ip=10.0.4.102)\u001b[0m  Downloading pillow\n",
      "\u001b[33m(raylet, ip=10.0.4.102)\u001b[0m  Downloading grpcio\n",
      "\u001b[33m(raylet, ip=10.0.4.102)\u001b[0m  Downloading sqlalchemy\n",
      "\u001b[33m(raylet, ip=10.0.4.102)\u001b[0m  Downloading pydantic-core\n",
      "\u001b[33m(raylet, ip=10.0.4.102)\u001b[0m  Downloading jedi\n",
      "\u001b[33m(raylet, ip=10.0.4.102)\u001b[0m  Downloading virtualenv\n",
      "\u001b[33m(raylet, ip=10.0.4.102)\u001b[0m  Downloading setuptools\n",
      "\u001b[33m(raylet, ip=10.0.4.102)\u001b[0m  Downloading uvloop\n",
      "\u001b[33m(raylet, ip=10.0.4.102)\u001b[0m  Downloading nvidia-cuda-cupti-cu12\u001b[32m [repeated 13x across cluster]\u001b[0m\n",
      "\u001b[33m(raylet, ip=10.0.4.102)\u001b[0m  Downloading sympy\n",
      "\u001b[33m(raylet, ip=10.0.4.102)\u001b[0m  Downloading kiwisolver\n",
      "\u001b[33m(raylet, ip=10.0.4.102)\u001b[0m  Downloading tokenizers\n",
      "\u001b[33m(raylet, ip=10.0.4.102)\u001b[0m  Downloading fonttools\n",
      "\u001b[33m(raylet, ip=10.0.4.102)\u001b[0m  Downloading widgetsnbextension\n",
      "\u001b[33m(raylet, ip=10.0.4.102)\u001b[0m  Downloading mlflow-skinny\n",
      "\u001b[33m(raylet, ip=10.0.4.102)\u001b[0m  Downloading aiohttp\n",
      "\u001b[33m(raylet, ip=10.0.4.102)\u001b[0m  Downloading networkx\n",
      "\u001b[33m(raylet, ip=10.0.4.102)\u001b[0m  Downloading pygments\n",
      "\u001b[33m(raylet, ip=10.0.4.102)\u001b[0m  Downloading debugpy\n",
      "\u001b[33m(raylet, ip=10.0.4.102)\u001b[0m  Downloading py-spy\n",
      "\u001b[33m(raylet, ip=10.0.4.102)\u001b[0m  Downloading hf-xet\n",
      "\u001b[33m(raylet, ip=10.0.4.102)\u001b[0m  Downloading matplotlib\n",
      "\u001b[33m(raylet, ip=10.0.4.102)\u001b[0m  Downloading transformers\n",
      "\u001b[33m(raylet, ip=10.0.4.102)\u001b[0m  Downloading scikit-learn\n",
      "\u001b[33m(raylet, ip=10.0.4.102)\u001b[0m  Downloading numpy\n",
      "\u001b[33m(raylet, ip=10.0.4.102)\u001b[0m  Downloading botocore\n",
      "\u001b[33m(raylet, ip=10.0.4.102)\u001b[0m  Downloading pandas\n",
      "\u001b[33m(raylet, ip=10.0.4.102)\u001b[0m  Downloading polars\n",
      "\u001b[33m(raylet, ip=10.0.4.102)\u001b[0m  Downloading nvidia-cuda-nvrtc-cu12\u001b[32m [repeated 2x across cluster]\u001b[0m\n",
      "\u001b[33m(raylet, ip=10.0.4.102)\u001b[0m  Downloading scipy\n",
      "\u001b[33m(raylet, ip=10.0.4.102)\u001b[0m  Downloading mlflow\n",
      "\u001b[33m(raylet, ip=10.0.4.102)\u001b[0m  Downloading pyarrow\n",
      "\u001b[33m(raylet, ip=10.0.4.102)\u001b[0m  Downloading nvidia-curand-cu12\n",
      "\u001b[33m(raylet, ip=10.0.4.102)\u001b[0m  Downloading nvidia-cusparselt-cu12\n",
      "\u001b[33m(raylet, ip=10.0.4.102)\u001b[0m  Downloading triton\n",
      "\u001b[33m(raylet, ip=10.0.4.102)\u001b[0m  Downloading nvidia-cublas-cu12\u001b[32m [repeated 5x across cluster]\u001b[0m\n",
      "\u001b[33m(raylet, ip=10.0.4.102)\u001b[0m  Downloading torch\n",
      "\u001b[33m(raylet, ip=10.0.4.102)\u001b[0m warning: Failed to hardlink files; falling back to full copy. This may lead to degraded performance.\n",
      "\u001b[33m(raylet, ip=10.0.4.102)\u001b[0m          If the cache and target directories are on different filesystems, hardlinking may not be supported.\n",
      "\u001b[33m(raylet, ip=10.0.4.102)\u001b[0m          If this is intentional, set `export UV_LINK_MODE=copy` or use `--link-mode=copy` to suppress this warning.\n",
      "\u001b[33m(raylet, ip=10.0.4.102)\u001b[0m  Downloading nvidia-cudnn-cu12\n",
      "\u001b[33m(raylet, ip=10.0.4.102)\u001b[0m Installed 172 packages in 1.96s\n"
     ]
    }
   ],
   "source": [
    "print(f\"Precision: {precision:.2f}\")\n",
    "print(f\"Recall: {recall:.2f}\")\n",
    "print(f\"F1: {f1:.2f}\")\n",
    "print(f\"Accuracy: {accuracy:.2f}\")\n"
   ]
  },
  {
   "cell_type": "markdown",
   "metadata": {},
   "source": [
    "**🚨 Note**: Reset this notebook using the **\"🔄 Restart\"** button location at the notebook's menu bar. This way we can free up all the variables, utils, etc. used in this notebook."
   ]
  }
 ],
 "metadata": {
  "kernelspec": {
   "display_name": "base",
   "language": "python",
   "name": "python3"
  },
  "language_info": {
   "codemirror_mode": {
    "name": "ipython",
    "version": 3
   },
   "file_extension": ".py",
   "mimetype": "text/x-python",
   "name": "python",
   "nbconvert_exporter": "python",
   "pygments_lexer": "ipython3",
   "version": "3.12.11"
  }
 },
 "nbformat": 4,
 "nbformat_minor": 2
}
