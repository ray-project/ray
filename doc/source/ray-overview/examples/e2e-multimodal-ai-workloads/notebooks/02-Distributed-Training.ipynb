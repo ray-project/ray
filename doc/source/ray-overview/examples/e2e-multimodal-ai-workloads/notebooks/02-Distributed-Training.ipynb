{
 "cells": [
  {
   "cell_type": "markdown",
   "metadata": {},
   "source": [
    "# Distributed training\n",
    "\n",
    "<div align=\"left\">\n",
    "<a target=\"_blank\" href=\"https://console.anyscale.com/\"><img src=\"https://raw.githubusercontent.com/ray-project/ray/c34b74c22a9390aa89baf80815ede59397786d2e/doc/source/_static/img/run-on-anyscale.svg\"></a>&nbsp;\n",
    "\n",
    "<a href=\"https://github.com/anyscale/multimodal-ai\" role=\"button\"><img src=\"https://img.shields.io/static/v1?label=&amp;message=View%20On%20GitHub&amp;color=586069&amp;logo=github&amp;labelColor=2f363d\"></a>&nbsp;\n",
    "</div>\n",
    "\n",
    "This tutorial executes a distributed training workload that connects the following heterogeneous workloads:\n",
    "- preprocess the dataset prior to training\n",
    "- distributed training with Ray Train and PyTorch with observability\n",
    "- evaluation (batch inference and eval logic)\n",
    "- save model artifacts to a model registry (MLOps)\n",
    "\n",
    "**Note**: this tutorial doesn't tune the model but see [Ray Tune](https://docs.ray.io/en/latest/tune/index.html) for experiment execution and hyperparameter tuning at any scale.\n",
    "\n",
    "<img src=\"https://raw.githubusercontent.com/anyscale/multimodal-ai/refs/heads/main/images/distributed_training.png\" width=1000>"
   ]
  },
  {
   "cell_type": "code",
   "execution_count": null,
   "metadata": {},
   "outputs": [],
   "source": [
    "%%bash\n",
    "pip install -q -r /home/ray/default/requirements.txt\n",
    "pip install -q -e /home/ray/default/doggos\n"
   ]
  },
  {
   "cell_type": "markdown",
   "metadata": {},
   "source": [
    "**Note**: A kernel restart may be required for all dependencies to become available."
   ]
  },
  {
   "cell_type": "code",
   "execution_count": null,
   "metadata": {},
   "outputs": [],
   "source": [
    "%load_ext autoreload\n",
    "%autoreload all\n"
   ]
  },
  {
   "cell_type": "code",
   "execution_count": null,
   "metadata": {},
   "outputs": [],
   "source": [
    "import os\n",
    "import ray\n",
    "import sys\n",
    "sys.path.append(os.path.abspath(\"../doggos/\"))\n"
   ]
  },
  {
   "cell_type": "code",
   "execution_count": null,
   "metadata": {},
   "outputs": [
    {
     "data": {
      "text/plain": [
       "'cgroup_runtime_plugin._hook'"
      ]
     },
     "execution_count": null,
     "metadata": {},
     "output_type": "execute_result"
    }
   ],
   "source": [
    "# If using UV\n",
    "# os.environ.pop(\"RAY_RUNTIME_ENV_HOOK\", None)\n"
   ]
  },
  {
   "cell_type": "code",
   "execution_count": null,
   "metadata": {},
   "outputs": [
    {
     "name": "stderr",
     "output_type": "stream",
     "text": [
      "2025-08-21 20:05:05,476\tINFO worker.py:1747 -- Connecting to existing Ray cluster at address: 10.0.52.10:6379...\n",
      "2025-08-21 20:05:05,487\tINFO worker.py:1918 -- Connected to Ray cluster. View the dashboard at \u001b[1m\u001b[32mhttps://session-466hy7cqu1gzrp8zk8l4byz7l7.i.anyscaleuserdata.com \u001b[39m\u001b[22m\n",
      "2025-08-21 20:05:05,534\tINFO packaging.py:588 -- Creating a file package for local module '/home/ray/default'.\n"
     ]
    },
    {
     "name": "stderr",
     "output_type": "stream",
     "text": [
      "2025-08-21 20:05:05,599\tINFO packaging.py:380 -- Pushing file package 'gcs://_ray_pkg_f5e3d74a1b6904d1.zip' (13.52MiB) to Ray cluster...\n",
      "2025-08-21 20:05:05,657\tINFO packaging.py:393 -- Successfully pushed file package 'gcs://_ray_pkg_f5e3d74a1b6904d1.zip'.\n"
     ]
    },
    {
     "data": {
      "application/vnd.jupyter.widget-view+json": {
       "model_id": "a8ac23afd0234f92963a8d699b9bdf7b",
       "version_major": 2,
       "version_minor": 0
      },
      "text/html": [
       "<div class=\"lm-Widget p-Widget lm-Panel p-Panel jp-Cell-outputWrapper\">\n",
       "    <div style=\"margin-left: 50px;display: flex;flex-direction: row;align-items: center\">\n",
       "        <div class=\"jp-RenderedHTMLCommon\" style=\"display: flex; flex-direction: row;\">\n",
       "  <svg viewBox=\"0 0 567 224\" fill=\"none\" xmlns=\"http://www.w3.org/2000/svg\" style=\"height: 3em;\">\n",
       "    <g clip-path=\"url(#clip0_4338_178347)\">\n",
       "        <path d=\"M341.29 165.561H355.29L330.13 129.051C345.63 123.991 354.21 112.051 354.21 94.2307C354.21 71.3707 338.72 58.1807 311.88 58.1807H271V165.561H283.27V131.661H311.8C314.25 131.661 316.71 131.501 319.01 131.351L341.25 165.561H341.29ZM283.29 119.851V70.0007H311.82C331.3 70.0007 342.34 78.2907 342.34 94.5507C342.34 111.271 331.34 119.861 311.82 119.861L283.29 119.851ZM451.4 138.411L463.4 165.561H476.74L428.74 58.1807H416L367.83 165.561H380.83L392.83 138.411H451.4ZM446.19 126.601H398L422 72.1407L446.24 126.601H446.19ZM526.11 128.741L566.91 58.1807H554.35L519.99 114.181L485.17 58.1807H472.44L514.01 129.181V165.541H526.13V128.741H526.11Z\" fill=\"var(--jp-ui-font-color0)\"/>\n",
       "        <path d=\"M82.35 104.44C84.0187 97.8827 87.8248 92.0678 93.1671 87.9146C98.5094 83.7614 105.083 81.5067 111.85 81.5067C118.617 81.5067 125.191 83.7614 130.533 87.9146C135.875 92.0678 139.681 97.8827 141.35 104.44H163.75C164.476 101.562 165.622 98.8057 167.15 96.2605L127.45 56.5605C121.071 60.3522 113.526 61.6823 106.235 60.3005C98.9443 58.9187 92.4094 54.9203 87.8602 49.0574C83.3109 43.1946 81.0609 35.8714 81.5332 28.4656C82.0056 21.0599 85.1679 14.0819 90.4252 8.8446C95.6824 3.60726 102.672 0.471508 110.08 0.0272655C117.487 -0.416977 124.802 1.86091 130.647 6.4324C136.493 11.0039 140.467 17.5539 141.821 24.8501C143.175 32.1463 141.816 39.6859 138 46.0505L177.69 85.7505C182.31 82.9877 187.58 81.4995 192.962 81.4375C198.345 81.3755 203.648 82.742 208.33 85.3976C213.012 88.0532 216.907 91.9029 219.616 96.5544C222.326 101.206 223.753 106.492 223.753 111.875C223.753 117.258 222.326 122.545 219.616 127.197C216.907 131.848 213.012 135.698 208.33 138.353C203.648 141.009 198.345 142.375 192.962 142.313C187.58 142.251 182.31 140.763 177.69 138L138 177.7C141.808 184.071 143.155 191.614 141.79 198.91C140.424 206.205 136.44 212.75 130.585 217.313C124.731 221.875 117.412 224.141 110.004 223.683C102.596 223.226 95.6103 220.077 90.3621 214.828C85.1139 209.58 81.9647 202.595 81.5072 195.187C81.0497 187.779 83.3154 180.459 87.878 174.605C92.4405 168.751 98.9853 164.766 106.281 163.401C113.576 162.035 121.119 163.383 127.49 167.19L167.19 127.49C165.664 124.941 164.518 122.182 163.79 119.3H141.39C139.721 125.858 135.915 131.673 130.573 135.826C125.231 139.98 118.657 142.234 111.89 142.234C105.123 142.234 98.5494 139.98 93.2071 135.826C87.8648 131.673 84.0587 125.858 82.39 119.3H60C58.1878 126.495 53.8086 132.78 47.6863 136.971C41.5641 141.163 34.1211 142.972 26.7579 142.059C19.3947 141.146 12.6191 137.574 7.70605 132.014C2.79302 126.454 0.0813599 119.29 0.0813599 111.87C0.0813599 104.451 2.79302 97.2871 7.70605 91.7272C12.6191 86.1673 19.3947 82.5947 26.7579 81.6817C34.1211 80.7686 41.5641 82.5781 47.6863 86.7696C53.8086 90.9611 58.1878 97.2456 60 104.44H82.35ZM100.86 204.32C103.407 206.868 106.759 208.453 110.345 208.806C113.93 209.159 117.527 208.258 120.522 206.256C123.517 204.254 125.725 201.276 126.771 197.828C127.816 194.38 127.633 190.677 126.253 187.349C124.874 184.021 122.383 181.274 119.205 179.577C116.027 177.88 112.359 177.337 108.826 178.042C105.293 178.746 102.113 180.654 99.8291 183.44C97.5451 186.226 96.2979 189.718 96.3 193.32C96.2985 195.364 96.7006 197.388 97.4831 199.275C98.2656 201.163 99.4132 202.877 100.86 204.32ZM204.32 122.88C206.868 120.333 208.453 116.981 208.806 113.396C209.159 109.811 208.258 106.214 206.256 103.219C204.254 100.223 201.275 98.0151 197.827 96.97C194.38 95.9249 190.676 96.1077 187.348 97.4873C184.02 98.8669 181.274 101.358 179.577 104.536C177.879 107.714 177.337 111.382 178.041 114.915C178.746 118.448 180.653 121.627 183.439 123.911C186.226 126.195 189.717 127.443 193.32 127.44C195.364 127.443 197.388 127.042 199.275 126.259C201.163 125.476 202.878 124.328 204.32 122.88ZM122.88 19.4205C120.333 16.8729 116.981 15.2876 113.395 14.9347C109.81 14.5817 106.213 15.483 103.218 17.4849C100.223 19.4868 98.0146 22.4654 96.9696 25.9131C95.9245 29.3608 96.1073 33.0642 97.4869 36.3922C98.8665 39.7202 101.358 42.4668 104.535 44.1639C107.713 45.861 111.381 46.4036 114.914 45.6992C118.447 44.9949 121.627 43.0871 123.911 40.301C126.195 37.515 127.442 34.0231 127.44 30.4205C127.44 28.3772 127.038 26.3539 126.255 24.4664C125.473 22.5788 124.326 20.8642 122.88 19.4205ZM19.42 100.86C16.8725 103.408 15.2872 106.76 14.9342 110.345C14.5813 113.93 15.4826 117.527 17.4844 120.522C19.4863 123.518 22.4649 125.726 25.9127 126.771C29.3604 127.816 33.0638 127.633 36.3918 126.254C39.7198 124.874 42.4664 122.383 44.1635 119.205C45.8606 116.027 46.4032 112.359 45.6988 108.826C44.9944 105.293 43.0866 102.114 40.3006 99.8296C37.5145 97.5455 34.0227 96.2983 30.42 96.3005C26.2938 96.3018 22.337 97.9421 19.42 100.86ZM100.86 100.86C98.3125 103.408 96.7272 106.76 96.3742 110.345C96.0213 113.93 96.9226 117.527 98.9244 120.522C100.926 123.518 103.905 125.726 107.353 126.771C110.8 127.816 114.504 127.633 117.832 126.254C121.16 124.874 123.906 122.383 125.604 119.205C127.301 116.027 127.843 112.359 127.139 108.826C126.434 105.293 124.527 102.114 121.741 99.8296C118.955 97.5455 115.463 96.2983 111.86 96.3005C109.817 96.299 107.793 96.701 105.905 97.4835C104.018 98.2661 102.303 99.4136 100.86 100.86Z\" fill=\"#00AEEF\"/>\n",
       "    </g>\n",
       "    <defs>\n",
       "        <clipPath id=\"clip0_4338_178347\">\n",
       "            <rect width=\"566.93\" height=\"223.75\" fill=\"white\"/>\n",
       "        </clipPath>\n",
       "    </defs>\n",
       "  </svg>\n",
       "</div>\n",
       "\n",
       "        <table class=\"jp-RenderedHTMLCommon\" style=\"border-collapse: collapse;color: var(--jp-ui-font-color1);font-size: var(--jp-ui-font-size1);\">\n",
       "    <tr>\n",
       "        <td style=\"text-align: left\"><b>Python version:</b></td>\n",
       "        <td style=\"text-align: left\"><b>3.12.11</b></td>\n",
       "    </tr>\n",
       "    <tr>\n",
       "        <td style=\"text-align: left\"><b>Ray version:</b></td>\n",
       "        <td style=\"text-align: left\"><b>2.48.0</b></td>\n",
       "    </tr>\n",
       "    <tr>\n",
       "    <td style=\"text-align: left\"><b>Dashboard:</b></td>\n",
       "    <td style=\"text-align: left\"><b><a href=\"http://session-466hy7cqu1gzrp8zk8l4byz7l7.i.anyscaleuserdata.com\" target=\"_blank\">http://session-466hy7cqu1gzrp8zk8l4byz7l7.i.anyscaleuserdata.com</a></b></td>\n",
       "</tr>\n",
       "\n",
       "</table>\n",
       "\n",
       "    </div>\n",
       "</div>\n"
      ],
      "text/plain": [
       "RayContext(dashboard_url='session-466hy7cqu1gzrp8zk8l4byz7l7.i.anyscaleuserdata.com', python_version='3.12.11', ray_version='2.48.0', ray_commit='61d1966b0b02ce07f95d8f046ea7f6f92f7be190')"
      ]
     },
     "execution_count": null,
     "metadata": {},
     "output_type": "execute_result"
    },
    {
     "name": "stdout",
     "output_type": "stream",
     "text": [
      "\u001b[36m(autoscaler +1m25s)\u001b[0m Tip: use `ray status` to view detailed cluster status. To disable these messages, set RAY_SCHEDULER_EVENTS=0.\n",
      "\u001b[36m(autoscaler +1m25s)\u001b[0m [autoscaler] [48CPU-192GB] Attempting to add 3 nodes to the cluster (increasing from 0 to 3).\n",
      "\u001b[36m(autoscaler +1m25s)\u001b[0m [autoscaler] [48CPU-192GB|m5.12xlarge] [us-west-2a] [on-demand] Launched 3 instances.\n",
      "\u001b[36m(autoscaler +2m2s)\u001b[0m [autoscaler] Cluster upscaled to {56 CPU, 0 GPU}.\n",
      "\u001b[36m(autoscaler +2m5s)\u001b[0m [autoscaler] Cluster upscaled to {104 CPU, 0 GPU}.\n",
      "\u001b[36m(autoscaler +2m25s)\u001b[0m [autoscaler] Cluster upscaled to {152 CPU, 0 GPU}.\n"
     ]
    }
   ],
   "source": [
    "# Enable Ray Train v2. It's too good to wait for public release!\n",
    "os.environ[\"RAY_TRAIN_V2_ENABLED\"] = \"1\"\n",
    "ray.init(\n",
    "    # connect to existing ray runtime (from previous notebook if still running)\n",
    "    address=os.environ.get(\"RAY_ADDRESS\", \"auto\"),\n",
    "    runtime_env={\n",
    "        \"env_vars\": {\"RAY_TRAIN_V2_ENABLED\": \"1\"},\n",
    "        # \"py_executable\": \"uv run\", # if using uv \n",
    "        # \"working_dir\": \"/home/ray/default\",  # if using uv \n",
    "    },\n",
    ")\n"
   ]
  },
  {
   "cell_type": "code",
   "execution_count": null,
   "metadata": {},
   "outputs": [],
   "source": [
    "%%bash\n",
    "# This will be removed once Ray Train v2 is enabled by default.\n",
    "echo \"RAY_TRAIN_V2_ENABLED=1\" > /home/ray/default/.env\n"
   ]
  },
  {
   "cell_type": "code",
   "execution_count": null,
   "metadata": {},
   "outputs": [
    {
     "data": {
      "text/plain": [
       "True"
      ]
     },
     "execution_count": null,
     "metadata": {},
     "output_type": "execute_result"
    }
   ],
   "source": [
    "# Load env vars in notebooks.\n",
    "from dotenv import load_dotenv\n",
    "load_dotenv()\n"
   ]
  },
  {
   "cell_type": "markdown",
   "metadata": {},
   "source": [
    "## Preprocess"
   ]
  },
  {
   "cell_type": "markdown",
   "metadata": {},
   "source": [
    "You need to convert the classes to labels (unique integers) so that you can train a classifier that can correctly predict the class given an input image. But before you do this, apply the same data ingestion and preprocessing as the previous notebook."
   ]
  },
  {
   "cell_type": "code",
   "execution_count": null,
   "metadata": {},
   "outputs": [],
   "source": [
    "def add_class(row):\n",
    "    row[\"class\"] = row[\"path\"].rsplit(\"/\", 3)[-2]\n",
    "    return row\n"
   ]
  },
  {
   "cell_type": "code",
   "execution_count": null,
   "metadata": {},
   "outputs": [],
   "source": [
    "# Preprocess data splits.\n",
    "train_ds = ray.data.read_images(\"s3://doggos-dataset/train\", include_paths=True, shuffle=\"files\")\n",
    "train_ds = train_ds.map(add_class)\n",
    "val_ds = ray.data.read_images(\"s3://doggos-dataset/val\", include_paths=True)\n",
    "val_ds = val_ds.map(add_class)\n"
   ]
  },
  {
   "cell_type": "markdown",
   "metadata": {},
   "source": [
    "Define a `Preprocessor` class that:\n",
    "- creates an embedding. A later step moves the embedding layer outside of the model since you freeze the embedding layer's weights and so you don't have to do it repeatedly as part of the model's forward pass, saving on unnecessary compute.\n",
    "- convert the classes into labels for the classifier. \n",
    "\n",
    "While you could've just done this step as a simple operation, you're taking the time to organize it as a class so that you can save and load for inference later."
   ]
  },
  {
   "cell_type": "code",
   "execution_count": null,
   "metadata": {},
   "outputs": [],
   "source": [
    "def convert_to_label(row, class_to_label):\n",
    "    if \"class\" in row:\n",
    "        row[\"label\"] = class_to_label[row[\"class\"]]\n",
    "    return row\n"
   ]
  },
  {
   "cell_type": "code",
   "execution_count": null,
   "metadata": {},
   "outputs": [],
   "source": [
    "import numpy as np\n",
    "from PIL import Image\n",
    "import torch\n",
    "from transformers import CLIPModel, CLIPProcessor\n",
    "from doggos.embed import EmbedImages\n"
   ]
  },
  {
   "cell_type": "code",
   "execution_count": null,
   "metadata": {},
   "outputs": [],
   "source": [
    "class Preprocessor:\n",
    "    \"\"\"Preprocessor class.\"\"\"\n",
    "    def __init__(self, class_to_label=None):\n",
    "        self.class_to_label = class_to_label or {}  # mutable defaults\n",
    "        self.label_to_class = {v: k for k, v in self.class_to_label.items()}\n",
    "        \n",
    "    def fit(self, ds, column):\n",
    "        self.classes = ds.unique(column=column)\n",
    "        self.class_to_label = {tag: i for i, tag in enumerate(self.classes)}\n",
    "        self.label_to_class = {v: k for k, v in self.class_to_label.items()}\n",
    "        return self\n",
    "    \n",
    "    def transform(self, ds, concurrency=4, batch_size=64, num_gpus=1):\n",
    "        ds = ds.map(\n",
    "            convert_to_label, \n",
    "            fn_kwargs={\"class_to_label\": self.class_to_label},\n",
    "        )\n",
    "        ds = ds.map_batches(\n",
    "            EmbedImages,\n",
    "            fn_constructor_kwargs={\n",
    "                \"model_id\": \"openai/clip-vit-base-patch32\", \n",
    "                \"device\": \"cuda\",\n",
    "            },\n",
    "            concurrency=4,\n",
    "            batch_size=64,\n",
    "            num_gpus=1,\n",
    "            accelerator_type=\"L4\",\n",
    "        )\n",
    "        ds = ds.drop_columns([\"image\"])\n",
    "        return ds\n",
    "\n",
    "    def save(self, fp):\n",
    "        with open(fp, \"w\") as f:\n",
    "            json.dump(self.class_to_label, f)\n"
   ]
  },
  {
   "cell_type": "code",
   "execution_count": null,
   "metadata": {},
   "outputs": [
    {
     "name": "stderr",
     "output_type": "stream",
     "text": [
      "2025-08-21 20:05:22,045\tINFO dataset.py:3057 -- Tip: Use `take_batch()` instead of `take() / show()` to return records in pandas or numpy batch format.\n",
      "2025-08-21 20:05:22,047\tINFO logging.py:295 -- Registered dataset logger for dataset dataset_30_0\n",
      "2025-08-21 20:05:22,069\tINFO streaming_executor.py:117 -- Starting execution of Dataset dataset_30_0. Full logs are in /tmp/ray/session_2025-08-21_18-48-13_464408_2298/logs/ray-data\n",
      "2025-08-21 20:05:22,070\tINFO streaming_executor.py:118 -- Execution plan of Dataset dataset_30_0: InputDataBuffer[Input] -> TaskPoolMapOperator[ListFiles] -> TaskPoolMapOperator[ReadFiles] -> TaskPoolMapOperator[Map(add_class)] -> AllToAllOperator[Aggregate] -> LimitOperator[limit=1]\n"
     ]
    },
    {
     "data": {
      "application/vnd.jupyter.widget-view+json": {
       "model_id": "7e94a82a0f8a4e0e98e8605bd7e985f4",
       "version_major": 2,
       "version_minor": 0
      },
      "text/plain": [
       "Running 0: 0.00 row [00:00, ? row/s]"
      ]
     },
     "metadata": {},
     "output_type": "display_data"
    },
    {
     "data": {
      "application/vnd.jupyter.widget-view+json": {
       "model_id": "8b16f4d743c64d53bea2a5e9c8221065",
       "version_major": 2,
       "version_minor": 0
      },
      "text/plain": [
       "- ListFiles 1: 0.00 row [00:00, ? row/s]"
      ]
     },
     "metadata": {},
     "output_type": "display_data"
    },
    {
     "data": {
      "application/vnd.jupyter.widget-view+json": {
       "model_id": "a9a81758b232491495a0cd311acf33e5",
       "version_major": 2,
       "version_minor": 0
      },
      "text/plain": [
       "- ReadFiles 2: 0.00 row [00:00, ? row/s]"
      ]
     },
     "metadata": {},
     "output_type": "display_data"
    },
    {
     "data": {
      "application/vnd.jupyter.widget-view+json": {
       "model_id": "8bf27e2a204d44f58b5bed3adab40e5d",
       "version_major": 2,
       "version_minor": 0
      },
      "text/plain": [
       "- Map(add_class) 3: 0.00 row [00:00, ? row/s]"
      ]
     },
     "metadata": {},
     "output_type": "display_data"
    },
    {
     "data": {
      "application/vnd.jupyter.widget-view+json": {
       "model_id": "f73005be0e1e4d479bbb9b7fa0ab4dff",
       "version_major": 2,
       "version_minor": 0
      },
      "text/plain": [
       "- Aggregate 4: 0.00 row [00:00, ? row/s]"
      ]
     },
     "metadata": {},
     "output_type": "display_data"
    },
    {
     "data": {
      "application/vnd.jupyter.widget-view+json": {
       "model_id": "f579af1b1cad4e2585ecee6032689372",
       "version_major": 2,
       "version_minor": 0
      },
      "text/plain": [
       "Sort Sample 5:   0%|          | 0.00/1.00 [00:00<?, ? row/s]"
      ]
     },
     "metadata": {},
     "output_type": "display_data"
    },
    {
     "data": {
      "application/vnd.jupyter.widget-view+json": {
       "model_id": "6e42099128e9460f83c36a96b3678ce6",
       "version_major": 2,
       "version_minor": 0
      },
      "text/plain": [
       "Shuffle Map 6:   0%|          | 0.00/1.00 [00:00<?, ? row/s]"
      ]
     },
     "metadata": {},
     "output_type": "display_data"
    },
    {
     "data": {
      "application/vnd.jupyter.widget-view+json": {
       "model_id": "83a08774d75c4573b1f1fe4d9e34c24e",
       "version_major": 2,
       "version_minor": 0
      },
      "text/plain": [
       "Shuffle Reduce 7:   0%|          | 0.00/1.00 [00:00<?, ? row/s]"
      ]
     },
     "metadata": {},
     "output_type": "display_data"
    },
    {
     "data": {
      "application/vnd.jupyter.widget-view+json": {
       "model_id": "c0d172b9d4d8462683d667b5f397041e",
       "version_major": 2,
       "version_minor": 0
      },
      "text/plain": [
       "- limit=1 8: 0.00 row [00:00, ? row/s]"
      ]
     },
     "metadata": {},
     "output_type": "display_data"
    },
    {
     "name": "stderr",
     "output_type": "stream",
     "text": [
      "2025-08-21 20:05:22,149\tWARNING resource_manager.py:130 -- ⚠️  Ray's object store is configured to use only 27.2% of available memory (9.4GB out of 34.4GB total). For optimal Ray Data performance, we recommend setting the object store to at least 50% of available memory. You can do this by setting the 'object_store_memory' parameter when calling ray.init() or by setting the RAY_DEFAULT_OBJECT_STORE_MEMORY_PROPORTION environment variable.\n",
      "2025-08-21 20:06:26,797\tINFO streaming_executor.py:231 -- ✔️  Dataset dataset_30_0 execution finished in 64.72 seconds\n"
     ]
    },
    {
     "name": "stderr",
     "output_type": "stream",
     "text": [
      "\u001b[33m(raylet)\u001b[0m Using CPython 3.12.11 interpreter at: /home/ray/anaconda3/bin/python3.12\n",
      "\u001b[33m(raylet)\u001b[0m Creating virtual environment at: .venv\n",
      "\u001b[33m(raylet)\u001b[0m    Building doggos @ file:///tmp/ray/session_2025-08-21_18-48-13_464408_2298/runtime_resources/working_dir_files/_ray_pkg_f5e3d74a1b6904d1/doggos\n",
      "\u001b[33m(raylet)\u001b[0m       Built doggos @ file:///tmp/ray/session_2025-08-21_18-48-13_464408_2298/runtime_resources/working_dir_files/_ray_pkg_f5e3d74a1b6904d1/doggos\n",
      "\u001b[33m(raylet)\u001b[0m warning: Failed to hardlink files; falling back to full copy. This may lead to degraded performance.\n",
      "\u001b[33m(raylet)\u001b[0m          If the cache and target directories are on different filesystems, hardlinking may not be supported.\n",
      "\u001b[33m(raylet)\u001b[0m          If this is intentional, set `export UV_LINK_MODE=copy` or use `--link-mode=copy` to suppress this warning.\n",
      "\u001b[33m(raylet)\u001b[0m Installed 172 packages in 29.25s\n"
     ]
    }
   ],
   "source": [
    "# Preprocess.\n",
    "preprocessor = Preprocessor()\n",
    "preprocessor = preprocessor.fit(train_ds, column=\"class\")\n",
    "train_ds = preprocessor.transform(ds=train_ds)\n",
    "val_ds = preprocessor.transform(ds=val_ds)\n"
   ]
  },
  {
   "cell_type": "markdown",
   "metadata": {},
   "source": [
    "<div class=\"alert alert-block alert\"> <b> Data processing</b> \n",
    "\n",
    "See this extensive guide on [data loading and preprocessing](https://docs.ray.io/en/latest/train/user-guides/data-loading-preprocessing.html) for the last-mile preprocessing you need to do prior to training your models. However, Ray Data does support performant joins, filters, aggregations, etc., for the more structure data processing your workloads may need."
   ]
  },
  {
   "cell_type": "code",
   "execution_count": null,
   "metadata": {},
   "outputs": [],
   "source": [
    "import shutil\n"
   ]
  },
  {
   "cell_type": "code",
   "execution_count": null,
   "metadata": {},
   "outputs": [
    {
     "name": "stderr",
     "output_type": "stream",
     "text": [
      "2025-08-21 20:08:26,684\tINFO logging.py:295 -- Registered dataset logger for dataset dataset_38_0\n",
      "2025-08-21 20:08:26,700\tINFO streaming_executor.py:117 -- Starting execution of Dataset dataset_38_0. Full logs are in /tmp/ray/session_2025-08-21_18-48-13_464408_2298/logs/ray-data\n",
      "2025-08-21 20:08:26,701\tINFO streaming_executor.py:118 -- Execution plan of Dataset dataset_38_0: InputDataBuffer[Input] -> TaskPoolMapOperator[ListFiles] -> TaskPoolMapOperator[ReadFiles] -> TaskPoolMapOperator[Map(add_class)->Map(convert_to_label)] -> ActorPoolMapOperator[MapBatches(EmbedImages)] -> TaskPoolMapOperator[MapBatches(drop_columns)->Write]\n"
     ]
    },
    {
     "data": {
      "application/vnd.jupyter.widget-view+json": {
       "model_id": "57aa121a526649b4b37a25223c6f263e",
       "version_major": 2,
       "version_minor": 0
      },
      "text/plain": [
       "Running 0: 0.00 row [00:00, ? row/s]"
      ]
     },
     "metadata": {},
     "output_type": "display_data"
    },
    {
     "data": {
      "application/vnd.jupyter.widget-view+json": {
       "model_id": "67e8c7e3f53e47c8b19f733bc90e0bb8",
       "version_major": 2,
       "version_minor": 0
      },
      "text/plain": [
       "- ListFiles 1: 0.00 row [00:00, ? row/s]"
      ]
     },
     "metadata": {},
     "output_type": "display_data"
    },
    {
     "data": {
      "application/vnd.jupyter.widget-view+json": {
       "model_id": "569c85700e7a4087889a74ac91c14364",
       "version_major": 2,
       "version_minor": 0
      },
      "text/plain": [
       "- ReadFiles 2: 0.00 row [00:00, ? row/s]"
      ]
     },
     "metadata": {},
     "output_type": "display_data"
    },
    {
     "data": {
      "application/vnd.jupyter.widget-view+json": {
       "model_id": "cd1135d13fab4c21b4d1d713a5fd2468",
       "version_major": 2,
       "version_minor": 0
      },
      "text/plain": [
       "- Map(add_class)->Map(convert_to_label) 3: 0.00 row [00:00, ? row/s]"
      ]
     },
     "metadata": {},
     "output_type": "display_data"
    },
    {
     "data": {
      "application/vnd.jupyter.widget-view+json": {
       "model_id": "57d4797ef68d4816840db01ba6435653",
       "version_major": 2,
       "version_minor": 0
      },
      "text/plain": [
       "- MapBatches(EmbedImages) 4: 0.00 row [00:00, ? row/s]"
      ]
     },
     "metadata": {},
     "output_type": "display_data"
    },
    {
     "data": {
      "application/vnd.jupyter.widget-view+json": {
       "model_id": "0b8c5f58ef1e48c79d6a11ea3259bbf2",
       "version_major": 2,
       "version_minor": 0
      },
      "text/plain": [
       "- MapBatches(drop_columns)->Write 5: 0.00 row [00:00, ? row/s]"
      ]
     },
     "metadata": {},
     "output_type": "display_data"
    },
    {
     "name": "stderr",
     "output_type": "stream",
     "text": [
      "\u001b[33m(raylet, ip=10.0.36.139)\u001b[0m Using CPython 3.12.11 interpreter at: /home/ray/anaconda3/bin/python3.12\n",
      "\u001b[33m(raylet, ip=10.0.36.139)\u001b[0m Creating virtual environment at: .venv\n"
     ]
    },
    {
     "name": "stdout",
     "output_type": "stream",
     "text": [
      "\u001b[36m(autoscaler +3m25s)\u001b[0m [autoscaler] [1xL4:4CPU-16GB] Attempting to add 4 nodes to the cluster (increasing from 0 to 4).\n"
     ]
    },
    {
     "name": "stderr",
     "output_type": "stream",
     "text": [
      "\u001b[33m(raylet, ip=10.0.36.139)\u001b[0m    Building doggos @ file:///tmp/ray/session_2025-08-21_18-48-13_464408_2298/runtime_resources/working_dir_files/_ray_pkg_f5e3d74a1b6904d1/doggos\n",
      "\u001b[33m(raylet, ip=10.0.9.86)\u001b[0m Downloading scipy (33.5MiB)\n",
      "\u001b[33m(raylet, ip=10.0.9.86)\u001b[0m Downloading sympy (6.0MiB)\n",
      "\u001b[33m(raylet, ip=10.0.9.86)\u001b[0m Downloading grpcio (5.9MiB)\n",
      "\u001b[33m(raylet, ip=10.0.9.86)\u001b[0m Downloading fonttools (4.7MiB)\n",
      "\u001b[33m(raylet, ip=10.0.9.86)\u001b[0m Downloading uvloop (4.5MiB)\n",
      "\u001b[33m(raylet, ip=10.0.9.86)\u001b[0m Downloading sqlalchemy (3.2MiB)\n",
      "\u001b[33m(raylet, ip=10.0.9.86)\u001b[0m Downloading widgetsnbextension (2.1MiB)\n",
      "\u001b[33m(raylet, ip=10.0.9.86)\u001b[0m Downloading networkx (1.9MiB)\n",
      "\u001b[33m(raylet, ip=10.0.9.86)\u001b[0m Downloading pydantic-core (1.9MiB)\n",
      "\u001b[33m(raylet, ip=10.0.9.86)\u001b[0m Downloading jedi (1.5MiB)\n",
      "\u001b[33m(raylet, ip=10.0.9.86)\u001b[0m Downloading pygments (1.2MiB)\n",
      "\u001b[33m(raylet, ip=10.0.9.86)\u001b[0m Downloading transformers (10.0MiB)\n",
      "\u001b[33m(raylet, ip=10.0.9.86)\u001b[0m Downloading numpy (15.9MiB)\n",
      "\u001b[33m(raylet, ip=10.0.9.86)\u001b[0m Downloading nvidia-cublas-cu12 (374.9MiB)\n",
      "\u001b[33m(raylet, ip=10.0.9.86)\u001b[0m Downloading setuptools (1.1MiB)\n",
      "\u001b[33m(raylet, ip=10.0.9.86)\u001b[0m Downloading py-spy (2.6MiB)\n",
      "\u001b[33m(raylet, ip=10.0.9.86)\u001b[0m Downloading tokenizers (3.0MiB)\n",
      "\u001b[33m(raylet, ip=10.0.9.86)\u001b[0m Downloading kiwisolver (1.4MiB)\n",
      "\u001b[33m(raylet, ip=10.0.9.86)\u001b[0m Downloading virtualenv (5.7MiB)\n",
      "\u001b[33m(raylet, ip=10.0.9.86)\u001b[0m Downloading pandas (11.4MiB)\n",
      "\u001b[33m(raylet, ip=10.0.9.86)\u001b[0m Downloading pillow (6.3MiB)\n",
      "\u001b[33m(raylet, ip=10.0.9.86)\u001b[0m Downloading scikit-learn (12.5MiB)\n",
      "\u001b[33m(raylet, ip=10.0.9.86)\u001b[0m Downloading pyarrow (38.2MiB)\n",
      "\u001b[33m(raylet, ip=10.0.9.86)\u001b[0m Downloading aiohttp (1.6MiB)\n",
      "\u001b[33m(raylet, ip=10.0.9.86)\u001b[0m Downloading triton (148.5MiB)\n",
      "\u001b[33m(raylet, ip=10.0.9.86)\u001b[0m Downloading hf-xet (3.0MiB)\n",
      "\u001b[33m(raylet, ip=10.0.9.86)\u001b[0m Downloading polars (36.7MiB)\n",
      "\u001b[33m(raylet, ip=10.0.9.86)\u001b[0m Downloading debugpy (4.0MiB)\n",
      "\u001b[33m(raylet, ip=10.0.9.86)\u001b[0m Downloading torch (783.0MiB)\n",
      "\u001b[33m(raylet, ip=10.0.9.86)\u001b[0m Downloading mlflow (26.1MiB)\n",
      "\u001b[33m(raylet, ip=10.0.9.86)\u001b[0m Downloading mlflow-skinny (5.6MiB)\n",
      "\u001b[33m(raylet, ip=10.0.9.86)\u001b[0m Downloading matplotlib (8.2MiB)\n",
      "\u001b[33m(raylet, ip=10.0.9.86)\u001b[0m Downloading botocore (13.3MiB)\n",
      "\u001b[33m(raylet, ip=10.0.59.202)\u001b[0m       Built doggos @ file:///tmp/ray/session_2025-08-21_18-48-13_464408_2298/runtime_resources/working_dir_files/_ray_pkg_f5e3d74a1b6904d1/doggos\n",
      "\u001b[33m(raylet, ip=10.0.9.86)\u001b[0m Using CPython 3.12.11 interpreter at: /home/ray/anaconda3/bin/python3.12\u001b[32m [repeated 2x across cluster] (Ray deduplicates logs by default. Set RAY_DEDUP_LOGS=0 to disable log deduplication, or see https://docs.ray.io/en/master/ray-observability/user-guides/configure-logging.html#log-deduplication for more options.)\u001b[0m\n",
      "\u001b[33m(raylet, ip=10.0.9.86)\u001b[0m Creating virtual environment at: .venv\u001b[32m [repeated 2x across cluster]\u001b[0m\n"
     ]
    },
    {
     "name": "stdout",
     "output_type": "stream",
     "text": [
      "\u001b[36m(autoscaler +3m30s)\u001b[0m [autoscaler] [1xL4:4CPU-16GB|g6.xlarge] [us-west-2b] [on-demand] Launched 4 instances.\n"
     ]
    },
    {
     "name": "stderr",
     "output_type": "stream",
     "text": [
      "\u001b[33m(raylet, ip=10.0.9.86)\u001b[0m    Building doggos @ file:///tmp/ray/session_2025-08-21_18-48-13_464408_2298/runtime_resources/working_dir_files/_ray_pkg_f5e3d74a1b6904d1/doggos\u001b[32m [repeated 2x across cluster]\u001b[0m\n",
      "\u001b[33m(raylet, ip=10.0.59.202)\u001b[0m Downloading scipy (33.5MiB)\u001b[32m [repeated 2x across cluster]\u001b[0m\n",
      "\u001b[33m(raylet, ip=10.0.36.139)\u001b[0m  Downloading sympy\u001b[32m [repeated 5x across cluster]\u001b[0m\n",
      "\u001b[33m(raylet, ip=10.0.36.139)\u001b[0m  Downloading grpcio\u001b[32m [repeated 5x across cluster]\u001b[0m\n",
      "\u001b[33m(raylet, ip=10.0.36.139)\u001b[0m  Downloading fonttools\u001b[32m [repeated 5x across cluster]\u001b[0m\n",
      "\u001b[33m(raylet, ip=10.0.36.139)\u001b[0m  Downloading uvloop\u001b[32m [repeated 5x across cluster]\u001b[0m\n",
      "\u001b[33m(raylet, ip=10.0.36.139)\u001b[0m  Downloading sqlalchemy\u001b[32m [repeated 5x across cluster]\u001b[0m\n",
      "\u001b[33m(raylet, ip=10.0.36.139)\u001b[0m  Downloading widgetsnbextension\u001b[32m [repeated 5x across cluster]\u001b[0m\n",
      "\u001b[33m(raylet, ip=10.0.36.139)\u001b[0m  Downloading networkx\u001b[32m [repeated 5x across cluster]\u001b[0m\n",
      "\u001b[33m(raylet, ip=10.0.36.139)\u001b[0m  Downloading pydantic-core\u001b[32m [repeated 5x across cluster]\u001b[0m\n",
      "\u001b[33m(raylet, ip=10.0.59.202)\u001b[0m  Downloading jedi\u001b[32m [repeated 3x across cluster]\u001b[0m\n",
      "\u001b[33m(raylet, ip=10.0.36.139)\u001b[0m  Downloading pygments\u001b[32m [repeated 5x across cluster]\u001b[0m\n",
      "\u001b[33m(raylet, ip=10.0.59.202)\u001b[0m Downloading transformers (10.0MiB)\u001b[32m [repeated 2x across cluster]\u001b[0m\n",
      "\u001b[33m(raylet, ip=10.0.59.202)\u001b[0m Downloading numpy (15.9MiB)\u001b[32m [repeated 2x across cluster]\u001b[0m\n",
      "\u001b[33m(raylet, ip=10.0.36.139)\u001b[0m  Downloading nvidia-cuda-cupti-cu12\u001b[32m [repeated 41x across cluster]\u001b[0m\n",
      "\u001b[33m(raylet, ip=10.0.9.86)\u001b[0m  Downloading setuptools\u001b[32m [repeated 5x across cluster]\u001b[0m\n",
      "\u001b[33m(raylet, ip=10.0.36.139)\u001b[0m  Downloading py-spy\u001b[32m [repeated 5x across cluster]\u001b[0m\n",
      "\u001b[33m(raylet, ip=10.0.36.139)\u001b[0m  Downloading tokenizers\u001b[32m [repeated 5x across cluster]\u001b[0m\n",
      "\u001b[33m(raylet, ip=10.0.36.139)\u001b[0m  Downloading kiwisolver\u001b[32m [repeated 5x across cluster]\u001b[0m\n",
      "\u001b[33m(raylet, ip=10.0.36.139)\u001b[0m  Downloading virtualenv\u001b[32m [repeated 5x across cluster]\u001b[0m\n",
      "\u001b[33m(raylet, ip=10.0.59.202)\u001b[0m Downloading pandas (11.4MiB)\u001b[32m [repeated 2x across cluster]\u001b[0m\n",
      "\u001b[33m(raylet, ip=10.0.36.139)\u001b[0m  Downloading pillow\u001b[32m [repeated 5x across cluster]\u001b[0m\n",
      "\u001b[33m(raylet, ip=10.0.59.202)\u001b[0m Downloading scikit-learn (12.5MiB)\u001b[32m [repeated 2x across cluster]\u001b[0m\n",
      "\u001b[33m(raylet, ip=10.0.59.202)\u001b[0m Downloading pyarrow (38.2MiB)\u001b[32m [repeated 2x across cluster]\u001b[0m\n",
      "\u001b[33m(raylet, ip=10.0.9.86)\u001b[0m  Downloading aiohttp\u001b[32m [repeated 5x across cluster]\u001b[0m\n",
      "\u001b[33m(raylet, ip=10.0.59.202)\u001b[0m Downloading triton (148.5MiB)\u001b[32m [repeated 2x across cluster]\u001b[0m\n",
      "\u001b[33m(raylet, ip=10.0.36.139)\u001b[0m  Downloading hf-xet\u001b[32m [repeated 5x across cluster]\u001b[0m\n",
      "\u001b[33m(raylet, ip=10.0.59.202)\u001b[0m Downloading polars (36.7MiB)\u001b[32m [repeated 2x across cluster]\u001b[0m\n",
      "\u001b[33m(raylet, ip=10.0.36.139)\u001b[0m  Downloading debugpy\u001b[32m [repeated 5x across cluster]\u001b[0m\n",
      "\u001b[33m(raylet, ip=10.0.59.202)\u001b[0m Downloading torch (783.0MiB)\u001b[32m [repeated 2x across cluster]\u001b[0m\n",
      "\u001b[33m(raylet, ip=10.0.59.202)\u001b[0m Downloading mlflow (26.1MiB)\u001b[32m [repeated 2x across cluster]\u001b[0m\n",
      "\u001b[33m(raylet, ip=10.0.36.139)\u001b[0m  Downloading mlflow-skinny\u001b[32m [repeated 5x across cluster]\u001b[0m\n",
      "\u001b[33m(raylet, ip=10.0.36.139)\u001b[0m  Downloading matplotlib\u001b[32m [repeated 5x across cluster]\u001b[0m\n",
      "\u001b[33m(raylet, ip=10.0.59.202)\u001b[0m Downloading botocore (13.3MiB)\u001b[32m [repeated 2x across cluster]\u001b[0m\n",
      "\u001b[33m(raylet, ip=10.0.36.139)\u001b[0m       Built doggos @ file:///tmp/ray/session_2025-08-21_18-48-13_464408_2298/runtime_resources/working_dir_files/_ray_pkg_f5e3d74a1b6904d1/doggos\u001b[32m [repeated 2x across cluster]\u001b[0m\n",
      "\u001b[33m(raylet, ip=10.0.36.139)\u001b[0m  Downloading jedi\u001b[32m [repeated 2x across cluster]\u001b[0m\n",
      "\u001b[33m(raylet, ip=10.0.36.139)\u001b[0m  Downloading transformers\u001b[32m [repeated 3x across cluster]\u001b[0m\n",
      "\u001b[33m(raylet, ip=10.0.36.139)\u001b[0m  Downloading numpy\u001b[32m [repeated 3x across cluster]\u001b[0m\n",
      "\u001b[33m(raylet, ip=10.0.36.139)\u001b[0m  Downloading nvidia-cuda-nvrtc-cu12\u001b[32m [repeated 6x across cluster]\u001b[0m\n",
      "\u001b[33m(raylet, ip=10.0.59.202)\u001b[0m  Downloading pandas\u001b[32m [repeated 3x across cluster]\u001b[0m\n",
      "\u001b[33m(raylet, ip=10.0.36.139)\u001b[0m  Downloading scikit-learn\u001b[32m [repeated 3x across cluster]\u001b[0m\n",
      "\u001b[33m(raylet, ip=10.0.59.202)\u001b[0m  Downloading polars\n",
      "\u001b[33m(raylet, ip=10.0.36.139)\u001b[0m  Downloading botocore\u001b[32m [repeated 3x across cluster]\u001b[0m\n",
      "\u001b[33m(raylet, ip=10.0.59.202)\u001b[0m  Downloading scipy\n",
      "\u001b[33m(raylet, ip=10.0.9.86)\u001b[0m  Downloading polars\n",
      "\u001b[33m(raylet, ip=10.0.59.202)\u001b[0m  Downloading mlflow\n",
      "\u001b[33m(raylet, ip=10.0.9.86)\u001b[0m  Downloading pyarrow\n",
      "\u001b[33m(raylet, ip=10.0.36.139)\u001b[0m  Downloading nvidia-curand-cu12\u001b[32m [repeated 3x across cluster]\u001b[0m\n",
      "\u001b[33m(raylet, ip=10.0.36.139)\u001b[0m  Downloading scipy\u001b[32m [repeated 2x across cluster]\u001b[0m\n",
      "\u001b[33m(raylet, ip=10.0.36.139)\u001b[0m  Downloading polars\n",
      "\u001b[33m(raylet, ip=10.0.36.139)\u001b[0m  Downloading mlflow\u001b[32m [repeated 2x across cluster]\u001b[0m\n"
     ]
    },
    {
     "name": "stdout",
     "output_type": "stream",
     "text": [
      "\u001b[36m(autoscaler +3m45s)\u001b[0m [autoscaler] [48CPU-192GB] Attempting to add 3 nodes to the cluster (increasing from 3 to 6).\n",
      "\u001b[36m(autoscaler +3m45s)\u001b[0m [autoscaler] [48CPU-192GB|m5.12xlarge] [us-west-2a] [on-demand] Launched 3 instances.\n"
     ]
    },
    {
     "name": "stderr",
     "output_type": "stream",
     "text": [
      "\u001b[33m(raylet, ip=10.0.59.202)\u001b[0m  Downloading pyarrow\u001b[32m [repeated 2x across cluster]\u001b[0m\n",
      "\u001b[33m(raylet, ip=10.0.59.202)\u001b[0m  Downloading nvidia-cusolver-cu12\u001b[32m [repeated 2x across cluster]\u001b[0m\n",
      "\u001b[33m(raylet, ip=10.0.59.202)\u001b[0m  Downloading triton\n",
      "\u001b[33m(raylet, ip=10.0.59.202)\u001b[0m  Downloading nvidia-cublas-cu12\u001b[32m [repeated 14x across cluster]\u001b[0m\n",
      "\u001b[33m(raylet, ip=10.0.36.139)\u001b[0m  Downloading triton\u001b[32m [repeated 2x across cluster]\u001b[0m\n",
      "\u001b[33m(raylet, ip=10.0.80.63)\u001b[0m Using CPython 3.12.11 interpreter at: /home/ray/anaconda3/bin/python3.12\n",
      "\u001b[33m(raylet, ip=10.0.80.63)\u001b[0m Creating virtual environment at: .venv\n",
      "\u001b[33m(raylet, ip=10.0.36.139)\u001b[0m  Downloading nvidia-cudnn-cu12\u001b[32m [repeated 5x across cluster]\u001b[0m\n",
      "\u001b[33m(raylet, ip=10.0.80.63)\u001b[0m    Building doggos @ file:///tmp/ray/session_2025-08-21_18-48-13_464408_2298/runtime_resources/working_dir_files/_ray_pkg_f5e3d74a1b6904d1/doggos\n",
      "\u001b[33m(raylet, ip=10.0.80.63)\u001b[0m Downloading pillow (6.3MiB)\n",
      "\u001b[33m(raylet, ip=10.0.80.63)\u001b[0m Downloading hf-xet (3.0MiB)\n",
      "\u001b[33m(raylet, ip=10.0.80.63)\u001b[0m Downloading networkx (1.9MiB)\n",
      "\u001b[33m(raylet, ip=10.0.80.63)\u001b[0m Downloading pydantic-core (1.9MiB)\n",
      "\u001b[33m(raylet, ip=10.0.80.63)\u001b[0m Downloading sqlalchemy (3.2MiB)\n",
      "\u001b[33m(raylet, ip=10.0.80.63)\u001b[0m Downloading pygments (1.2MiB)\n",
      "\u001b[33m(raylet, ip=10.0.80.63)\u001b[0m Downloading setuptools (1.1MiB)\n",
      "\u001b[33m(raylet, ip=10.0.80.63)\u001b[0m Downloading jedi (1.5MiB)\n",
      "\u001b[33m(raylet, ip=10.0.80.63)\u001b[0m Downloading numpy (15.9MiB)\n",
      "\u001b[33m(raylet, ip=10.0.80.63)\u001b[0m Downloading kiwisolver (1.4MiB)\n",
      "\u001b[33m(raylet, ip=10.0.80.63)\u001b[0m Downloading mlflow (26.1MiB)\n",
      "\u001b[33m(raylet, ip=10.0.80.63)\u001b[0m Downloading scipy (33.5MiB)\n",
      "\u001b[33m(raylet, ip=10.0.80.63)\u001b[0m Downloading debugpy (4.0MiB)\n",
      "\u001b[33m(raylet, ip=10.0.80.63)\u001b[0m Downloading tokenizers (3.0MiB)\n",
      "\u001b[33m(raylet, ip=10.0.80.63)\u001b[0m Downloading sympy (6.0MiB)\n",
      "\u001b[33m(raylet, ip=10.0.80.63)\u001b[0m Downloading widgetsnbextension (2.1MiB)\n",
      "\u001b[33m(raylet, ip=10.0.80.63)\u001b[0m Downloading fonttools (4.7MiB)\n",
      "\u001b[33m(raylet, ip=10.0.80.63)\u001b[0m Downloading grpcio (5.9MiB)\n",
      "\u001b[33m(raylet, ip=10.0.80.63)\u001b[0m Downloading pyarrow (38.2MiB)\n",
      "\u001b[33m(raylet, ip=10.0.80.63)\u001b[0m Downloading virtualenv (5.7MiB)\n",
      "\u001b[33m(raylet, ip=10.0.80.63)\u001b[0m Downloading uvloop (4.5MiB)\n",
      "\u001b[33m(raylet, ip=10.0.80.63)\u001b[0m Downloading pandas (11.4MiB)\n",
      "\u001b[33m(raylet, ip=10.0.80.63)\u001b[0m Downloading py-spy (2.6MiB)\n",
      "\u001b[33m(raylet, ip=10.0.80.63)\u001b[0m Downloading aiohttp (1.6MiB)\n",
      "\u001b[33m(raylet, ip=10.0.80.63)\u001b[0m Downloading matplotlib (8.2MiB)\n",
      "\u001b[33m(raylet, ip=10.0.80.63)\u001b[0m Downloading botocore (13.3MiB)\n",
      "\u001b[33m(raylet, ip=10.0.80.63)\u001b[0m Downloading triton (148.5MiB)\n",
      "\u001b[33m(raylet, ip=10.0.80.63)\u001b[0m Downloading torch (783.0MiB)\n",
      "\u001b[33m(raylet, ip=10.0.80.63)\u001b[0m Downloading scikit-learn (12.5MiB)\n",
      "\u001b[33m(raylet, ip=10.0.80.63)\u001b[0m Downloading transformers (10.0MiB)\n",
      "\u001b[33m(raylet, ip=10.0.80.63)\u001b[0m Downloading polars (36.7MiB)\n",
      "\u001b[33m(raylet, ip=10.0.80.63)\u001b[0m Downloading mlflow-skinny (5.6MiB)\n",
      "\u001b[33m(raylet, ip=10.0.80.63)\u001b[0m       Built doggos @ file:///tmp/ray/session_2025-08-21_18-48-13_464408_2298/runtime_resources/working_dir_files/_ray_pkg_f5e3d74a1b6904d1/doggos\n",
      "\u001b[33m(raylet, ip=10.0.9.86)\u001b[0m warning: Failed to hardlink files; falling back to full copy. This may lead to degraded performance.\n",
      "\u001b[33m(raylet, ip=10.0.9.86)\u001b[0m          If the cache and target directories are on different filesystems, hardlinking may not be supported.\n",
      "\u001b[33m(raylet, ip=10.0.9.86)\u001b[0m          If this is intentional, set `export UV_LINK_MODE=copy` or use `--link-mode=copy` to suppress this warning.\n",
      "\u001b[33m(raylet, ip=10.0.84.22)\u001b[0m Using CPython 3.12.11 interpreter at: /home/ray/anaconda3/bin/python3.12\u001b[32m [repeated 2x across cluster]\u001b[0m\n",
      "\u001b[33m(raylet, ip=10.0.84.22)\u001b[0m Creating virtual environment at: .venv\u001b[32m [repeated 2x across cluster]\u001b[0m\n",
      "\u001b[33m(raylet, ip=10.0.80.63)\u001b[0m  Downloading nvidia-nvjitlink-cu12\u001b[32m [repeated 52x across cluster]\u001b[0m\n"
     ]
    },
    {
     "name": "stdout",
     "output_type": "stream",
     "text": [
      "\u001b[36m(autoscaler +4m10s)\u001b[0m [autoscaler] Cluster upscaled to {164 CPU, 3 GPU}.\n"
     ]
    },
    {
     "name": "stderr",
     "output_type": "stream",
     "text": [
      "\u001b[33m(raylet, ip=10.0.84.22)\u001b[0m    Building doggos @ file:///tmp/ray/session_2025-08-21_18-48-13_464408_2298/runtime_resources/working_dir_files/_ray_pkg_f5e3d74a1b6904d1/doggos\u001b[32m [repeated 2x across cluster]\u001b[0m\n",
      "\u001b[33m(raylet, ip=10.0.101.0)\u001b[0m  Downloading pillow\u001b[32m [repeated 5x across cluster]\u001b[0m\n",
      "\u001b[33m(raylet, ip=10.0.84.22)\u001b[0m  Downloading hf-xet\u001b[32m [repeated 6x across cluster]\u001b[0m\n",
      "\u001b[33m(raylet, ip=10.0.84.22)\u001b[0m  Downloading networkx\u001b[32m [repeated 6x across cluster]\u001b[0m\n",
      "\u001b[33m(raylet, ip=10.0.84.22)\u001b[0m  Downloading pydantic-core\u001b[32m [repeated 6x across cluster]\u001b[0m\n",
      "\u001b[33m(raylet, ip=10.0.84.22)\u001b[0m  Downloading sqlalchemy\u001b[32m [repeated 6x across cluster]\u001b[0m\n",
      "\u001b[33m(raylet, ip=10.0.84.22)\u001b[0m  Downloading pygments\u001b[32m [repeated 5x across cluster]\u001b[0m\n",
      "\u001b[33m(raylet, ip=10.0.84.22)\u001b[0m  Downloading setuptools\u001b[32m [repeated 5x across cluster]\u001b[0m\n",
      "\u001b[33m(raylet, ip=10.0.80.63)\u001b[0m  Downloading jedi\u001b[32m [repeated 3x across cluster]\u001b[0m\n",
      "\u001b[33m(raylet, ip=10.0.80.63)\u001b[0m  Downloading numpy\u001b[32m [repeated 4x across cluster]\u001b[0m\n",
      "\u001b[33m(raylet, ip=10.0.84.22)\u001b[0m  Downloading kiwisolver\u001b[32m [repeated 5x across cluster]\u001b[0m\n",
      "\u001b[33m(raylet, ip=10.0.84.22)\u001b[0m Downloading mlflow (26.1MiB)\u001b[32m [repeated 3x across cluster]\u001b[0m\n",
      "\u001b[33m(raylet, ip=10.0.84.22)\u001b[0m Downloading scipy (33.5MiB)\u001b[32m [repeated 3x across cluster]\u001b[0m\n",
      "\u001b[33m(raylet, ip=10.0.84.22)\u001b[0m  Downloading debugpy\u001b[32m [repeated 6x across cluster]\u001b[0m\n",
      "\u001b[33m(raylet, ip=10.0.84.22)\u001b[0m  Downloading tokenizers\u001b[32m [repeated 6x across cluster]\u001b[0m\n",
      "\u001b[33m(raylet, ip=10.0.80.63)\u001b[0m  Downloading sympy\u001b[32m [repeated 4x across cluster]\u001b[0m\n",
      "\u001b[33m(raylet, ip=10.0.84.22)\u001b[0m  Downloading widgetsnbextension\u001b[32m [repeated 6x across cluster]\u001b[0m\n",
      "\u001b[33m(raylet, ip=10.0.84.22)\u001b[0m  Downloading fonttools\u001b[32m [repeated 6x across cluster]\u001b[0m\n",
      "\u001b[33m(raylet, ip=10.0.101.0)\u001b[0m  Downloading grpcio\u001b[32m [repeated 5x across cluster]\u001b[0m\n",
      "\u001b[33m(raylet, ip=10.0.84.22)\u001b[0m Downloading pyarrow (38.2MiB)\u001b[32m [repeated 3x across cluster]\u001b[0m\n",
      "\u001b[33m(raylet, ip=10.0.101.0)\u001b[0m  Downloading virtualenv\u001b[32m [repeated 5x across cluster]\u001b[0m\n",
      "\u001b[33m(raylet, ip=10.0.84.22)\u001b[0m  Downloading uvloop\u001b[32m [repeated 6x across cluster]\u001b[0m\n",
      "\u001b[33m(raylet, ip=10.0.84.22)\u001b[0m Downloading pandas (11.4MiB)\u001b[32m [repeated 3x across cluster]\u001b[0m\n",
      "\u001b[33m(raylet, ip=10.0.84.22)\u001b[0m  Downloading py-spy\u001b[32m [repeated 6x across cluster]\u001b[0m\n",
      "\u001b[33m(raylet, ip=10.0.84.22)\u001b[0m  Downloading aiohttp\u001b[32m [repeated 5x across cluster]\u001b[0m\n",
      "\u001b[33m(raylet, ip=10.0.80.63)\u001b[0m  Downloading matplotlib\u001b[32m [repeated 4x across cluster]\u001b[0m\n",
      "\u001b[33m(raylet, ip=10.0.84.22)\u001b[0m Downloading botocore (13.3MiB)\u001b[32m [repeated 3x across cluster]\u001b[0m\n",
      "\u001b[33m(raylet, ip=10.0.84.22)\u001b[0m Downloading triton (148.5MiB)\u001b[32m [repeated 3x across cluster]\u001b[0m\n",
      "\u001b[33m(raylet, ip=10.0.36.139)\u001b[0m  Downloading torch\u001b[32m [repeated 6x across cluster]\u001b[0m\n",
      "\u001b[33m(raylet, ip=10.0.80.63)\u001b[0m  Downloading scikit-learn\u001b[32m [repeated 4x across cluster]\u001b[0m\n",
      "\u001b[33m(raylet, ip=10.0.84.22)\u001b[0m Downloading transformers (10.0MiB)\u001b[32m [repeated 3x across cluster]\u001b[0m\n",
      "\u001b[33m(raylet, ip=10.0.84.22)\u001b[0m Downloading polars (36.7MiB)\u001b[32m [repeated 3x across cluster]\u001b[0m\n",
      "\u001b[33m(raylet, ip=10.0.101.0)\u001b[0m  Downloading mlflow-skinny\u001b[32m [repeated 5x across cluster]\u001b[0m\n",
      "\u001b[33m(raylet, ip=10.0.9.86)\u001b[0m Installed 172 packages in 2.07s\n",
      "\u001b[33m(raylet, ip=10.0.84.22)\u001b[0m       Built doggos @ file:///tmp/ray/session_2025-08-21_18-48-13_464408_2298/runtime_resources/working_dir_files/_ray_pkg_f5e3d74a1b6904d1/doggos\u001b[32m [repeated 2x across cluster]\u001b[0m\n",
      "\u001b[33m(raylet, ip=10.0.36.139)\u001b[0m warning: Failed to hardlink files; falling back to full copy. This may lead to degraded performance.\u001b[32m [repeated 2x across cluster]\u001b[0m\n",
      "\u001b[33m(raylet, ip=10.0.36.139)\u001b[0m          If the cache and target directories are on different filesystems, hardlinking may not be supported.\u001b[32m [repeated 2x across cluster]\u001b[0m\n",
      "\u001b[33m(raylet, ip=10.0.36.139)\u001b[0m          If this is intentional, set `export UV_LINK_MODE=copy` or use `--link-mode=copy` to suppress this warning.\u001b[32m [repeated 2x across cluster]\u001b[0m\n",
      "\u001b[33m(raylet, ip=10.0.84.22)\u001b[0m  Downloading nvidia-cuda-nvrtc-cu12\u001b[32m [repeated 8x across cluster]\u001b[0m\n",
      "\u001b[33m(raylet, ip=10.0.84.22)\u001b[0m  Downloading pillow\n",
      "\u001b[33m(raylet, ip=10.0.84.22)\u001b[0m  Downloading jedi\u001b[32m [repeated 2x across cluster]\u001b[0m\n",
      "\u001b[33m(raylet, ip=10.0.84.22)\u001b[0m  Downloading numpy\u001b[32m [repeated 2x across cluster]\u001b[0m\n",
      "\u001b[33m(raylet, ip=10.0.84.22)\u001b[0m  Downloading mlflow\u001b[32m [repeated 3x across cluster]\u001b[0m\n",
      "\u001b[33m(raylet, ip=10.0.84.22)\u001b[0m  Downloading scipy\u001b[32m [repeated 3x across cluster]\u001b[0m\n",
      "\u001b[33m(raylet, ip=10.0.84.22)\u001b[0m  Downloading sympy\u001b[32m [repeated 2x across cluster]\u001b[0m\n",
      "\u001b[33m(raylet, ip=10.0.84.22)\u001b[0m  Downloading grpcio\n",
      "\u001b[33m(raylet, ip=10.0.80.63)\u001b[0m  Downloading pyarrow\n",
      "\u001b[33m(raylet, ip=10.0.84.22)\u001b[0m  Downloading virtualenv\n",
      "\u001b[33m(raylet, ip=10.0.84.22)\u001b[0m  Downloading pandas\u001b[32m [repeated 3x across cluster]\u001b[0m\n",
      "\u001b[33m(raylet, ip=10.0.84.22)\u001b[0m  Downloading matplotlib\u001b[32m [repeated 2x across cluster]\u001b[0m\n",
      "\u001b[33m(raylet, ip=10.0.84.22)\u001b[0m  Downloading botocore\u001b[32m [repeated 3x across cluster]\u001b[0m\n",
      "\u001b[33m(raylet, ip=10.0.84.22)\u001b[0m  Downloading scikit-learn\u001b[32m [repeated 2x across cluster]\u001b[0m\n",
      "\u001b[33m(raylet, ip=10.0.84.22)\u001b[0m  Downloading transformers\u001b[32m [repeated 3x across cluster]\u001b[0m\n",
      "\u001b[33m(raylet, ip=10.0.84.22)\u001b[0m  Downloading polars\u001b[32m [repeated 3x across cluster]\u001b[0m\n",
      "\u001b[33m(raylet, ip=10.0.84.22)\u001b[0m  Downloading mlflow-skinny\n",
      "\u001b[33m(raylet, ip=10.0.36.139)\u001b[0m Installed 172 packages in 2.18s\u001b[32m [repeated 2x across cluster]\u001b[0m\n",
      "\u001b[33m(raylet, ip=10.0.101.0)\u001b[0m  Downloading pyarrow\n",
      "\u001b[33m(raylet, ip=10.0.36.48)\u001b[0m Using CPython 3.12.11 interpreter at: /home/ray/anaconda3/bin/python3.12\n",
      "\u001b[33m(raylet, ip=10.0.36.48)\u001b[0m Creating virtual environment at: .venv\n",
      "\u001b[33m(raylet, ip=10.0.80.63)\u001b[0m  Downloading triton\n",
      "\u001b[33m(raylet, ip=10.0.36.48)\u001b[0m    Building doggos @ file:///tmp/ray/session_2025-08-21_18-48-13_464408_2298/runtime_resources/working_dir_files/_ray_pkg_f5e3d74a1b6904d1/doggos\n",
      "\u001b[33m(raylet, ip=10.0.36.48)\u001b[0m Downloading grpcio (5.9MiB)\n",
      "\u001b[33m(raylet, ip=10.0.36.48)\u001b[0m Downloading uvloop (4.5MiB)\n",
      "\u001b[33m(raylet, ip=10.0.36.48)\u001b[0m Downloading pydantic-core (1.9MiB)\n",
      "\u001b[33m(raylet, ip=10.0.36.48)\u001b[0m Downloading aiohttp (1.6MiB)\n",
      "\u001b[33m(raylet, ip=10.0.36.48)\u001b[0m Downloading fonttools (4.7MiB)\n",
      "\u001b[33m(raylet, ip=10.0.36.48)\u001b[0m Downloading debugpy (4.0MiB)\n",
      "\u001b[33m(raylet, ip=10.0.36.48)\u001b[0m Downloading py-spy (2.6MiB)\n",
      "\u001b[33m(raylet, ip=10.0.36.48)\u001b[0m Downloading virtualenv (5.7MiB)\n",
      "\u001b[33m(raylet, ip=10.0.36.48)\u001b[0m Downloading widgetsnbextension (2.1MiB)\n",
      "\u001b[33m(raylet, ip=10.0.36.48)\u001b[0m Downloading pillow (6.3MiB)\n",
      "\u001b[33m(raylet, ip=10.0.36.48)\u001b[0m Downloading pygments (1.2MiB)\n",
      "\u001b[33m(raylet, ip=10.0.36.48)\u001b[0m Downloading setuptools (1.1MiB)\n",
      "\u001b[33m(raylet, ip=10.0.36.48)\u001b[0m Downloading hf-xet (3.0MiB)\n",
      "\u001b[33m(raylet, ip=10.0.36.48)\u001b[0m Downloading kiwisolver (1.4MiB)\n",
      "\u001b[33m(raylet, ip=10.0.36.48)\u001b[0m Downloading tokenizers (3.0MiB)\n",
      "\u001b[33m(raylet, ip=10.0.36.48)\u001b[0m Downloading networkx (1.9MiB)\n",
      "\u001b[33m(raylet, ip=10.0.36.48)\u001b[0m Downloading sqlalchemy (3.2MiB)\n",
      "\u001b[33m(raylet, ip=10.0.36.48)\u001b[0m Downloading mlflow-skinny (5.6MiB)\n",
      "\u001b[33m(raylet, ip=10.0.36.48)\u001b[0m Downloading torch (783.0MiB)\n",
      "\u001b[33m(raylet, ip=10.0.36.48)\u001b[0m  Downloading nvidia-cufile-cu12\u001b[32m [repeated 17x across cluster]\u001b[0m\n"
     ]
    },
    {
     "name": "stdout",
     "output_type": "stream",
     "text": [
      "\u001b[36m(autoscaler +4m20s)\u001b[0m [autoscaler] Cluster upscaled to {260 CPU, 3 GPU}.\n"
     ]
    },
    {
     "name": "stderr",
     "output_type": "stream",
     "text": [
      "\u001b[33m(raylet, ip=10.0.36.48)\u001b[0m Downloading jedi (1.5MiB)\n",
      "\u001b[33m(raylet, ip=10.0.36.48)\u001b[0m Downloading numpy (15.9MiB)\n",
      "\u001b[33m(raylet, ip=10.0.36.48)\u001b[0m Downloading mlflow (26.1MiB)\n",
      "\u001b[33m(raylet, ip=10.0.36.48)\u001b[0m Downloading scipy (33.5MiB)\n",
      "\u001b[33m(raylet, ip=10.0.36.48)\u001b[0m Downloading sympy (6.0MiB)\n",
      "\u001b[33m(raylet, ip=10.0.36.48)\u001b[0m Downloading pandas (11.4MiB)\n",
      "\u001b[33m(raylet, ip=10.0.36.48)\u001b[0m Downloading matplotlib (8.2MiB)\n",
      "\u001b[33m(raylet, ip=10.0.36.48)\u001b[0m Downloading botocore (13.3MiB)\n",
      "\u001b[33m(raylet, ip=10.0.36.48)\u001b[0m Downloading scikit-learn (12.5MiB)\n",
      "\u001b[33m(raylet, ip=10.0.36.48)\u001b[0m Downloading transformers (10.0MiB)\n",
      "\u001b[33m(raylet, ip=10.0.36.48)\u001b[0m Downloading polars (36.7MiB)\n",
      "\u001b[33m(raylet, ip=10.0.36.48)\u001b[0m       Built doggos @ file:///tmp/ray/session_2025-08-21_18-48-13_464408_2298/runtime_resources/working_dir_files/_ray_pkg_f5e3d74a1b6904d1/doggos\n",
      "\u001b[33m(raylet, ip=10.0.36.48)\u001b[0m Downloading scipy (33.5MiB)\n",
      "\u001b[33m(raylet, ip=10.0.36.48)\u001b[0m Downloading pandas (11.4MiB)\n",
      "\u001b[33m(raylet, ip=10.0.36.48)\u001b[0m Downloading matplotlib (8.2MiB)\n",
      "\u001b[33m(raylet, ip=10.0.36.48)\u001b[0m Downloading scikit-learn (12.5MiB)\n",
      "\u001b[33m(raylet, ip=10.0.36.48)\u001b[0m Downloading mlflow (26.1MiB)\n",
      "\u001b[33m(raylet, ip=10.0.36.48)\u001b[0m Downloading polars (36.7MiB)\n",
      "\u001b[33m(raylet, ip=10.0.36.48)\u001b[0m Downloading numpy (15.9MiB)\n",
      "\u001b[33m(raylet, ip=10.0.36.48)\u001b[0m Downloading botocore (13.3MiB)\n",
      "\u001b[33m(raylet, ip=10.0.36.48)\u001b[0m Downloading transformers (10.0MiB)\n",
      "\u001b[33m(raylet, ip=10.0.36.48)\u001b[0m Downloading pyarrow (38.2MiB)\u001b[32m [repeated 3x across cluster]\u001b[0m\n",
      "\u001b[33m(raylet, ip=10.0.36.48)\u001b[0m Downloading sympy (6.0MiB)\n",
      "\u001b[33m(raylet, ip=10.0.36.48)\u001b[0m Downloading triton (148.5MiB)\u001b[32m [repeated 4x across cluster]\u001b[0m\n",
      "\u001b[33m(raylet, ip=10.0.36.48)\u001b[0m  Downloading jedi\n",
      "\u001b[33m(raylet, ip=10.0.36.48)\u001b[0m  Downloading grpcio\u001b[32m [repeated 2x across cluster]\u001b[0m\n",
      "\u001b[33m(raylet, ip=10.0.36.48)\u001b[0m  Downloading uvloop\u001b[32m [repeated 2x across cluster]\u001b[0m\n",
      "\u001b[33m(raylet, ip=10.0.36.48)\u001b[0m  Downloading pydantic-core\n",
      "\u001b[33m(raylet, ip=10.0.36.48)\u001b[0m  Downloading aiohttp\n",
      "\u001b[33m(raylet, ip=10.0.36.48)\u001b[0m  Downloading fonttools\u001b[32m [repeated 2x across cluster]\u001b[0m\n",
      "\u001b[33m(raylet, ip=10.0.36.48)\u001b[0m  Downloading debugpy\u001b[32m [repeated 2x across cluster]\u001b[0m\n",
      "\u001b[33m(raylet, ip=10.0.36.48)\u001b[0m  Downloading py-spy\n",
      "\u001b[33m(raylet, ip=10.0.36.48)\u001b[0m  Downloading virtualenv\u001b[32m [repeated 2x across cluster]\u001b[0m\n",
      "\u001b[33m(raylet, ip=10.0.36.48)\u001b[0m  Downloading widgetsnbextension\n",
      "\u001b[33m(raylet, ip=10.0.36.48)\u001b[0m  Downloading pillow\u001b[32m [repeated 2x across cluster]\u001b[0m\n",
      "\u001b[33m(raylet, ip=10.0.36.48)\u001b[0m  Downloading pygments\n",
      "\u001b[33m(raylet, ip=10.0.36.48)\u001b[0m  Downloading setuptools\n",
      "\u001b[33m(raylet, ip=10.0.36.48)\u001b[0m  Downloading hf-xet\n",
      "\u001b[33m(raylet, ip=10.0.36.48)\u001b[0m  Downloading kiwisolver\n",
      "\u001b[33m(raylet, ip=10.0.36.48)\u001b[0m  Downloading tokenizers\n",
      "\u001b[33m(raylet, ip=10.0.36.48)\u001b[0m  Downloading networkx\n",
      "\u001b[33m(raylet, ip=10.0.36.48)\u001b[0m  Downloading sqlalchemy\n",
      "\u001b[33m(raylet, ip=10.0.36.48)\u001b[0m  Downloading mlflow-skinny\u001b[32m [repeated 2x across cluster]\u001b[0m\n",
      "\u001b[33m(raylet, ip=10.0.36.48)\u001b[0m Downloading torch (783.0MiB)\n",
      "\u001b[33m(raylet, ip=10.0.101.0)\u001b[0m  Downloading nvidia-cublas-cu12\u001b[32m [repeated 27x across cluster]\u001b[0m\n",
      "\u001b[33m(raylet, ip=10.0.36.48)\u001b[0m  Downloading pandas\n",
      "\u001b[33m(raylet, ip=10.0.36.48)\u001b[0m  Downloading matplotlib\n",
      "\u001b[33m(raylet, ip=10.0.36.48)\u001b[0m  Downloading scikit-learn\n",
      "\u001b[33m(raylet, ip=10.0.36.48)\u001b[0m  Downloading mlflow\n",
      "\u001b[33m(raylet, ip=10.0.36.48)\u001b[0m  Downloading numpy\n",
      "\u001b[33m(raylet, ip=10.0.36.48)\u001b[0m  Downloading polars\n",
      "\u001b[33m(raylet, ip=10.0.36.48)\u001b[0m  Downloading sympy\n",
      "\u001b[33m(raylet, ip=10.0.36.48)\u001b[0m  Downloading transformers\n",
      "\u001b[33m(raylet, ip=10.0.36.48)\u001b[0m  Downloading botocore\n",
      "\u001b[33m(raylet, ip=10.0.36.48)\u001b[0m  Downloading pyarrow\n",
      "\u001b[33m(raylet, ip=10.0.36.48)\u001b[0m  Downloading scipy\n",
      "\u001b[33m(raylet, ip=10.0.80.63)\u001b[0m  Downloading nvidia-cudnn-cu12\u001b[32m [repeated 7x across cluster]\u001b[0m\n",
      "\u001b[33m(raylet, ip=10.0.117.166)\u001b[0m Using CPython 3.12.11 interpreter at: /home/ray/anaconda3/bin/python3.12\n",
      "\u001b[33m(raylet, ip=10.0.117.166)\u001b[0m Creating virtual environment at: .venv\n",
      "\u001b[33m(raylet, ip=10.0.117.166)\u001b[0m    Building doggos @ file:///tmp/ray/session_2025-08-21_18-48-13_464408_2298/runtime_resources/working_dir_files/_ray_pkg_f5e3d74a1b6904d1/doggos\n",
      "\u001b[33m(raylet, ip=10.0.117.166)\u001b[0m Downloading numpy (15.9MiB)\n",
      "\u001b[33m(raylet, ip=10.0.117.166)\u001b[0m Downloading matplotlib (8.2MiB)\n",
      "\u001b[33m(raylet, ip=10.0.117.166)\u001b[0m Downloading uvloop (4.5MiB)\n",
      "\u001b[33m(raylet, ip=10.0.117.166)\u001b[0m Downloading debugpy (4.0MiB)\n",
      "\u001b[33m(raylet, ip=10.0.117.166)\u001b[0m Downloading tokenizers (3.0MiB)\n",
      "\u001b[33m(raylet, ip=10.0.117.166)\u001b[0m Downloading py-spy (2.6MiB)\n",
      "\u001b[33m(raylet, ip=10.0.117.166)\u001b[0m Downloading widgetsnbextension (2.1MiB)\n",
      "\u001b[33m(raylet, ip=10.0.117.166)\u001b[0m Downloading kiwisolver (1.4MiB)\n",
      "\u001b[33m(raylet, ip=10.0.117.166)\u001b[0m Downloading pygments (1.2MiB)\n",
      "\u001b[33m(raylet, ip=10.0.117.166)\u001b[0m Downloading setuptools (1.1MiB)\n",
      "\u001b[33m(raylet, ip=10.0.117.166)\u001b[0m Downloading virtualenv (5.7MiB)\n",
      "\u001b[33m(raylet, ip=10.0.117.166)\u001b[0m Downloading fonttools (4.7MiB)\n",
      "\u001b[33m(raylet, ip=10.0.117.166)\u001b[0m Downloading torch (783.0MiB)\n",
      "\u001b[33m(raylet, ip=10.0.117.166)\u001b[0m Downloading sqlalchemy (3.2MiB)\n",
      "\u001b[33m(raylet, ip=10.0.117.166)\u001b[0m Downloading networkx (1.9MiB)\n",
      "\u001b[33m(raylet, ip=10.0.117.166)\u001b[0m Downloading hf-xet (3.0MiB)\n",
      "\u001b[33m(raylet, ip=10.0.117.166)\u001b[0m Downloading pillow (6.3MiB)\n",
      "\u001b[33m(raylet, ip=10.0.117.166)\u001b[0m Downloading triton (148.5MiB)\n",
      "\u001b[33m(raylet, ip=10.0.117.166)\u001b[0m Downloading grpcio (5.9MiB)\n",
      "\u001b[33m(raylet, ip=10.0.117.166)\u001b[0m Downloading sympy (6.0MiB)\n",
      "\u001b[33m(raylet, ip=10.0.117.166)\u001b[0m Downloading pandas (11.4MiB)\n",
      "\u001b[33m(raylet, ip=10.0.117.166)\u001b[0m Downloading mlflow-skinny (5.6MiB)\n",
      "\u001b[33m(raylet, ip=10.0.117.166)\u001b[0m Downloading aiohttp (1.6MiB)\n",
      "\u001b[33m(raylet, ip=10.0.117.166)\u001b[0m Downloading pydantic-core (1.9MiB)\n",
      "\u001b[33m(raylet, ip=10.0.117.166)\u001b[0m Downloading mlflow (26.1MiB)\n",
      "\u001b[33m(raylet, ip=10.0.117.166)\u001b[0m Downloading scikit-learn (12.5MiB)\n",
      "\u001b[33m(raylet, ip=10.0.117.166)\u001b[0m Downloading jedi (1.5MiB)\n",
      "\u001b[33m(raylet, ip=10.0.117.166)\u001b[0m Downloading polars (36.7MiB)\u001b[32m [repeated 2x across cluster]\u001b[0m\n",
      "\u001b[33m(raylet, ip=10.0.101.0)\u001b[0m warning: Failed to hardlink files; falling back to full copy. This may lead to degraded performance.\n",
      "\u001b[33m(raylet, ip=10.0.101.0)\u001b[0m          If the cache and target directories are on different filesystems, hardlinking may not be supported.\n",
      "\u001b[33m(raylet, ip=10.0.101.0)\u001b[0m          If this is intentional, set `export UV_LINK_MODE=copy` or use `--link-mode=copy` to suppress this warning.\n",
      "\u001b[33m(raylet, ip=10.0.117.166)\u001b[0m Downloading transformers (10.0MiB)\u001b[32m [repeated 2x across cluster]\u001b[0m\n",
      "\u001b[33m(raylet, ip=10.0.117.166)\u001b[0m Downloading botocore (13.3MiB)\u001b[32m [repeated 2x across cluster]\u001b[0m\n",
      "\u001b[33m(raylet, ip=10.0.117.166)\u001b[0m Downloading pyarrow (38.2MiB)\u001b[32m [repeated 2x across cluster]\u001b[0m\n",
      "\u001b[33m(raylet, ip=10.0.117.166)\u001b[0m       Built doggos @ file:///tmp/ray/session_2025-08-21_18-48-13_464408_2298/runtime_resources/working_dir_files/_ray_pkg_f5e3d74a1b6904d1/doggos\n",
      "\u001b[33m(raylet, ip=10.0.117.166)\u001b[0m Downloading scipy (33.5MiB)\u001b[32m [repeated 2x across cluster]\u001b[0m\n"
     ]
    },
    {
     "name": "stdout",
     "output_type": "stream",
     "text": [
      "\u001b[36m(autoscaler +4m35s)\u001b[0m [autoscaler] Cluster upscaled to {264 CPU, 4 GPU}.\n"
     ]
    },
    {
     "name": "stderr",
     "output_type": "stream",
     "text": [
      "\u001b[33m(raylet, ip=10.0.117.166)\u001b[0m  Downloading nvidia-nvjitlink-cu12\u001b[32m [repeated 26x across cluster]\u001b[0m\n",
      "\u001b[33m(raylet, ip=10.0.117.166)\u001b[0m Downloading numpy (15.9MiB)\n",
      "\u001b[33m(raylet, ip=10.0.117.166)\u001b[0m  Downloading matplotlib\u001b[32m [repeated 2x across cluster]\u001b[0m\n",
      "\u001b[33m(raylet, ip=10.0.117.166)\u001b[0m  Downloading uvloop\u001b[32m [repeated 2x across cluster]\u001b[0m\n",
      "\u001b[33m(raylet, ip=10.0.117.166)\u001b[0m  Downloading debugpy\u001b[32m [repeated 2x across cluster]\u001b[0m\n",
      "\u001b[33m(raylet, ip=10.0.117.166)\u001b[0m  Downloading tokenizers\u001b[32m [repeated 2x across cluster]\u001b[0m\n",
      "\u001b[33m(raylet, ip=10.0.117.166)\u001b[0m  Downloading py-spy\u001b[32m [repeated 2x across cluster]\u001b[0m\n",
      "\u001b[33m(raylet, ip=10.0.117.166)\u001b[0m  Downloading widgetsnbextension\u001b[32m [repeated 2x across cluster]\u001b[0m\n",
      "\u001b[33m(raylet, ip=10.0.117.166)\u001b[0m  Downloading kiwisolver\n",
      "\u001b[33m(raylet, ip=10.0.117.166)\u001b[0m  Downloading pygments\n",
      "\u001b[33m(raylet, ip=10.0.117.166)\u001b[0m  Downloading setuptools\n",
      "\u001b[33m(raylet, ip=10.0.117.166)\u001b[0m  Downloading numpy\n",
      "\u001b[33m(raylet, ip=10.0.117.166)\u001b[0m  Downloading virtualenv\u001b[32m [repeated 2x across cluster]\u001b[0m\n",
      "\u001b[33m(raylet, ip=10.0.117.166)\u001b[0m  Downloading fonttools\u001b[32m [repeated 2x across cluster]\u001b[0m\n",
      "\u001b[33m(raylet, ip=10.0.84.22)\u001b[0m  Downloading torch\u001b[32m [repeated 3x across cluster]\u001b[0m\n",
      "\u001b[33m(raylet, ip=10.0.117.166)\u001b[0m  Downloading sqlalchemy\u001b[32m [repeated 2x across cluster]\u001b[0m\n",
      "\u001b[33m(raylet, ip=10.0.117.166)\u001b[0m  Downloading networkx\u001b[32m [repeated 2x across cluster]\u001b[0m\n",
      "\u001b[33m(raylet, ip=10.0.117.166)\u001b[0m  Downloading hf-xet\u001b[32m [repeated 2x across cluster]\u001b[0m\n",
      "\u001b[33m(raylet, ip=10.0.117.166)\u001b[0m  Downloading pillow\u001b[32m [repeated 2x across cluster]\u001b[0m\n",
      "\u001b[33m(raylet, ip=10.0.117.166)\u001b[0m Downloading triton (148.5MiB)\n",
      "\u001b[33m(raylet, ip=10.0.117.166)\u001b[0m  Downloading grpcio\u001b[32m [repeated 2x across cluster]\u001b[0m\n",
      "\u001b[33m(raylet, ip=10.0.117.166)\u001b[0m  Downloading sympy\u001b[32m [repeated 2x across cluster]\u001b[0m\n",
      "\u001b[33m(raylet, ip=10.0.117.166)\u001b[0m Downloading pandas (11.4MiB)\n",
      "\u001b[33m(raylet, ip=10.0.117.166)\u001b[0m  Downloading mlflow-skinny\u001b[32m [repeated 2x across cluster]\u001b[0m\n",
      "\u001b[33m(raylet, ip=10.0.117.166)\u001b[0m  Downloading aiohttp\u001b[32m [repeated 2x across cluster]\u001b[0m\n",
      "\u001b[33m(raylet, ip=10.0.117.166)\u001b[0m  Downloading pydantic-core\u001b[32m [repeated 2x across cluster]\u001b[0m\n",
      "\u001b[33m(raylet, ip=10.0.117.166)\u001b[0m Downloading mlflow (26.1MiB)\n",
      "\u001b[33m(raylet, ip=10.0.117.166)\u001b[0m  Downloading scikit-learn\u001b[32m [repeated 2x across cluster]\u001b[0m\n",
      "\u001b[33m(raylet, ip=10.0.117.166)\u001b[0m Downloading jedi (1.5MiB)\n",
      "\u001b[33m(raylet, ip=10.0.36.48)\u001b[0m  Downloading triton\n",
      "\u001b[33m(raylet, ip=10.0.117.166)\u001b[0m  Downloading pandas\n",
      "\u001b[33m(raylet, ip=10.0.117.166)\u001b[0m  Downloading mlflow\n",
      "\u001b[33m(raylet, ip=10.0.117.166)\u001b[0m  Downloading polars\n",
      "\u001b[33m(raylet, ip=10.0.84.22)\u001b[0m warning: Failed to hardlink files; falling back to full copy. This may lead to degraded performance.\n",
      "\u001b[33m(raylet, ip=10.0.84.22)\u001b[0m          If the cache and target directories are on different filesystems, hardlinking may not be supported.\n",
      "\u001b[33m(raylet, ip=10.0.84.22)\u001b[0m          If this is intentional, set `export UV_LINK_MODE=copy` or use `--link-mode=copy` to suppress this warning.\n",
      "\u001b[33m(raylet, ip=10.0.117.166)\u001b[0m  Downloading transformers\n",
      "\u001b[33m(raylet, ip=10.0.117.166)\u001b[0m  Downloading botocore\n",
      "\u001b[33m(raylet, ip=10.0.80.63)\u001b[0m warning: Failed to hardlink files; falling back to full copy. This may lead to degraded performance.\n",
      "\u001b[33m(raylet, ip=10.0.80.63)\u001b[0m          If the cache and target directories are on different filesystems, hardlinking may not be supported.\n",
      "\u001b[33m(raylet, ip=10.0.80.63)\u001b[0m          If this is intentional, set `export UV_LINK_MODE=copy` or use `--link-mode=copy` to suppress this warning.\n",
      "\u001b[33m(raylet, ip=10.0.117.166)\u001b[0m  Downloading pyarrow\n",
      "\u001b[33m(raylet, ip=10.0.117.166)\u001b[0m  Downloading jedi\n",
      "\u001b[33m(raylet, ip=10.0.101.0)\u001b[0m Installed 172 packages in 8.60s\n",
      "\u001b[33m(raylet, ip=10.0.117.166)\u001b[0m  Downloading scipy\n",
      "\u001b[33m(raylet, ip=10.0.117.166)\u001b[0m  Downloading nvidia-curand-cu12\u001b[32m [repeated 4x across cluster]\u001b[0m\n",
      "\u001b[33m(raylet, ip=10.0.80.63)\u001b[0m  Downloading torch\n",
      "\u001b[33m(raylet, ip=10.0.117.166)\u001b[0m  Downloading triton\n"
     ]
    },
    {
     "name": "stdout",
     "output_type": "stream",
     "text": [
      "\u001b[36m(autoscaler +4m45s)\u001b[0m [autoscaler] Cluster upscaled to {312 CPU, 4 GPU}.\n"
     ]
    },
    {
     "name": "stderr",
     "output_type": "stream",
     "text": [
      "\u001b[33m(raylet, ip=10.0.84.22)\u001b[0m Installed 172 packages in 9.16s\n",
      "\u001b[33m(raylet, ip=10.0.117.166)\u001b[0m  Downloading nvidia-nccl-cu12\u001b[32m [repeated 6x across cluster]\u001b[0m\n",
      "\u001b[33m(raylet, ip=10.0.80.63)\u001b[0m Installed 172 packages in 11.48s\n",
      "\u001b[33m(raylet, ip=10.0.117.166)\u001b[0m  Downloading nvidia-cublas-cu12\u001b[32m [repeated 4x across cluster]\u001b[0m\n",
      "\u001b[33m(raylet, ip=10.0.36.48)\u001b[0m  Downloading nvidia-cudnn-cu12\u001b[32m [repeated 2x across cluster]\u001b[0m\n",
      "\u001b[36m(_MapWorker pid=2443, ip=10.0.101.0)\u001b[0m Using a slow image processor as `use_fast` is unset and a slow processor was saved with this model. `use_fast=True` will be the default behavior in v4.52, even if the model was saved with a slow processor. This will result in minor differences in outputs. You'll still be able to use a slow processor with `use_fast=False`.\n",
      "\u001b[33m(raylet, ip=10.0.117.166)\u001b[0m  Downloading torch\n",
      "\u001b[33m(raylet, ip=10.0.117.166)\u001b[0m warning: Failed to hardlink files; falling back to full copy. This may lead to degraded performance.\n",
      "\u001b[33m(raylet, ip=10.0.117.166)\u001b[0m          If the cache and target directories are on different filesystems, hardlinking may not be supported.\n",
      "\u001b[33m(raylet, ip=10.0.117.166)\u001b[0m          If this is intentional, set `export UV_LINK_MODE=copy` or use `--link-mode=copy` to suppress this warning.\n",
      "\u001b[36m(_MapWorker pid=2494, ip=10.0.80.63)\u001b[0m Using a slow image processor as `use_fast` is unset and a slow processor was saved with this model. `use_fast=True` will be the default behavior in v4.52, even if the model was saved with a slow processor. This will result in minor differences in outputs. You'll still be able to use a slow processor with `use_fast=False`.\u001b[32m [repeated 2x across cluster]\u001b[0m\n",
      "\u001b[33m(raylet, ip=10.0.52.169)\u001b[0m Using CPython 3.12.11 interpreter at: /home/ray/anaconda3/bin/python3.12\n",
      "\u001b[33m(raylet, ip=10.0.52.169)\u001b[0m Creating virtual environment at: .venv\n",
      "\u001b[36m(MapBatches(drop_columns)->Write pid=2484, ip=10.0.101.0)\u001b[0m FilenameProvider have to provide proper filename template including '{{i}}' macro to ensure unique filenames when writing multiple files. Appending '{{i}}' macro to the end of the file. For more details on the expected filename template checkout PyArrow's `write_to_dataset` API\n",
      "\u001b[33m(raylet, ip=10.0.52.169)\u001b[0m    Building doggos @ file:///tmp/ray/session_2025-08-21_18-48-13_464408_2298/runtime_resources/working_dir_files/_ray_pkg_f5e3d74a1b6904d1/doggos\n",
      "\u001b[33m(raylet, ip=10.0.52.169)\u001b[0m Downloading scipy (33.5MiB)\n",
      "\u001b[33m(raylet, ip=10.0.52.169)\u001b[0m Downloading numpy (15.9MiB)\n",
      "\u001b[33m(raylet, ip=10.0.52.169)\u001b[0m Downloading sympy (6.0MiB)\n",
      "\u001b[33m(raylet, ip=10.0.52.169)\u001b[0m Downloading virtualenv (5.7MiB)\n",
      "\u001b[33m(raylet, ip=10.0.52.169)\u001b[0m Downloading uvloop (4.5MiB)\n",
      "\u001b[33m(raylet, ip=10.0.52.169)\u001b[0m Downloading debugpy (4.0MiB)\n",
      "\u001b[33m(raylet, ip=10.0.52.169)\u001b[0m Downloading networkx (1.9MiB)\n",
      "\u001b[33m(raylet, ip=10.0.52.169)\u001b[0m Downloading pydantic-core (1.9MiB)\n",
      "\u001b[33m(raylet, ip=10.0.52.169)\u001b[0m Downloading jedi (1.5MiB)\n",
      "\u001b[33m(raylet, ip=10.0.52.169)\u001b[0m Downloading nvidia-nvjitlink-cu12 (18.8MiB)\n",
      "\u001b[33m(raylet, ip=10.0.52.169)\u001b[0m Downloading pyarrow (38.2MiB)\n",
      "\u001b[33m(raylet, ip=10.0.52.169)\u001b[0m Downloading kiwisolver (1.4MiB)\n",
      "\u001b[33m(raylet, ip=10.0.52.169)\u001b[0m Downloading fonttools (4.7MiB)\n",
      "\u001b[33m(raylet, ip=10.0.52.169)\u001b[0m Downloading tokenizers (3.0MiB)\n",
      "\u001b[33m(raylet, ip=10.0.52.169)\u001b[0m Downloading aiohttp (1.6MiB)\n",
      "\u001b[33m(raylet, ip=10.0.52.169)\u001b[0m Downloading widgetsnbextension (2.1MiB)\n",
      "\u001b[33m(raylet, ip=10.0.52.169)\u001b[0m Downloading grpcio (5.9MiB)\n",
      "\u001b[33m(raylet, ip=10.0.52.169)\u001b[0m Downloading torch (783.0MiB)\n",
      "\u001b[33m(raylet, ip=10.0.52.169)\u001b[0m Downloading sqlalchemy (3.2MiB)\n",
      "\u001b[33m(raylet, ip=10.0.52.169)\u001b[0m Downloading hf-xet (3.0MiB)\n",
      "\u001b[33m(raylet, ip=10.0.52.169)\u001b[0m Downloading mlflow-skinny (5.6MiB)\n",
      "\u001b[33m(raylet, ip=10.0.52.169)\u001b[0m Downloading pandas (11.4MiB)\n",
      "\u001b[33m(raylet, ip=10.0.52.169)\u001b[0m Downloading pillow (6.3MiB)\n",
      "\u001b[33m(raylet, ip=10.0.52.169)\u001b[0m Downloading setuptools (1.1MiB)\n",
      "\u001b[33m(raylet, ip=10.0.52.169)\u001b[0m Downloading mlflow (26.1MiB)\n",
      "\u001b[33m(raylet, ip=10.0.52.169)\u001b[0m Downloading pygments (1.2MiB)\n",
      "\u001b[33m(raylet, ip=10.0.52.169)\u001b[0m Downloading triton (148.5MiB)\n",
      "\u001b[33m(raylet, ip=10.0.52.169)\u001b[0m Downloading botocore (13.3MiB)\n",
      "\u001b[33m(raylet, ip=10.0.52.169)\u001b[0m Downloading polars (36.7MiB)\n",
      "\u001b[33m(raylet, ip=10.0.52.169)\u001b[0m Downloading matplotlib (8.2MiB)\n",
      "\u001b[33m(raylet, ip=10.0.52.169)\u001b[0m Downloading py-spy (2.6MiB)\n",
      "\u001b[33m(raylet, ip=10.0.52.169)\u001b[0m Downloading transformers (10.0MiB)\n",
      "\u001b[33m(raylet, ip=10.0.52.169)\u001b[0m Downloading scikit-learn (12.5MiB)\n",
      "\u001b[33m(raylet, ip=10.0.36.48)\u001b[0m warning: Failed to hardlink files; falling back to full copy. This may lead to degraded performance.\n",
      "\u001b[33m(raylet, ip=10.0.36.48)\u001b[0m          If the cache and target directories are on different filesystems, hardlinking may not be supported.\n",
      "\u001b[33m(raylet, ip=10.0.36.48)\u001b[0m          If this is intentional, set `export UV_LINK_MODE=copy` or use `--link-mode=copy` to suppress this warning.\n",
      "\u001b[33m(raylet, ip=10.0.117.166)\u001b[0m Installed 172 packages in 8.30s\n",
      "\u001b[33m(raylet, ip=10.0.52.169)\u001b[0m       Built doggos @ file:///tmp/ray/session_2025-08-21_18-48-13_464408_2298/runtime_resources/working_dir_files/_ray_pkg_f5e3d74a1b6904d1/doggos\n",
      "\u001b[33m(raylet, ip=10.0.7.226)\u001b[0m Using CPython 3.12.11 interpreter at: /home/ray/anaconda3/bin/python3.12\n",
      "\u001b[33m(raylet, ip=10.0.7.226)\u001b[0m Creating virtual environment at: .venv\n",
      "\u001b[36m(MapBatches(drop_columns)->Write pid=3051, ip=10.0.9.86)\u001b[0m FilenameProvider have to provide proper filename template including '{{i}}' macro to ensure unique filenames when writing multiple files. Appending '{{i}}' macro to the end of the file. For more details on the expected filename template checkout PyArrow's `write_to_dataset` API\u001b[32m [repeated 14x across cluster]\u001b[0m\n",
      "\u001b[33m(raylet, ip=10.0.7.226)\u001b[0m    Building doggos @ file:///tmp/ray/session_2025-08-21_18-48-13_464408_2298/runtime_resources/working_dir_files/_ray_pkg_f5e3d74a1b6904d1/doggos\n",
      "\u001b[33m(raylet, ip=10.0.7.226)\u001b[0m Downloading scipy (33.5MiB)\n",
      "\u001b[33m(raylet, ip=10.0.7.226)\u001b[0m Downloading numpy (15.9MiB)\n",
      "\u001b[33m(raylet, ip=10.0.52.169)\u001b[0m  Downloading sympy\u001b[32m [repeated 2x across cluster]\u001b[0m\n",
      "\u001b[33m(raylet, ip=10.0.52.169)\u001b[0m  Downloading virtualenv\u001b[32m [repeated 2x across cluster]\u001b[0m\n",
      "\u001b[33m(raylet, ip=10.0.52.169)\u001b[0m  Downloading uvloop\u001b[32m [repeated 2x across cluster]\u001b[0m\n",
      "\u001b[33m(raylet, ip=10.0.52.169)\u001b[0m  Downloading debugpy\u001b[32m [repeated 2x across cluster]\u001b[0m\n",
      "\u001b[33m(raylet, ip=10.0.52.169)\u001b[0m  Downloading networkx\u001b[32m [repeated 2x across cluster]\u001b[0m\n",
      "\u001b[33m(raylet, ip=10.0.7.226)\u001b[0m  Downloading pydantic-core\u001b[32m [repeated 3x across cluster]\u001b[0m\n",
      "\u001b[33m(raylet, ip=10.0.7.226)\u001b[0m Downloading jedi (1.5MiB)\n",
      "\u001b[33m(raylet, ip=10.0.52.169)\u001b[0m  Downloading nvidia-cuda-cupti-cu12\u001b[32m [repeated 26x across cluster]\u001b[0m\n",
      "\u001b[33m(raylet, ip=10.0.7.226)\u001b[0m Downloading pyarrow (38.2MiB)\n",
      "\u001b[33m(raylet, ip=10.0.7.226)\u001b[0m  Downloading kiwisolver\u001b[32m [repeated 3x across cluster]\u001b[0m\n",
      "\u001b[33m(raylet, ip=10.0.52.169)\u001b[0m  Downloading fonttools\u001b[32m [repeated 2x across cluster]\u001b[0m\n",
      "\u001b[33m(raylet, ip=10.0.7.226)\u001b[0m  Downloading tokenizers\u001b[32m [repeated 3x across cluster]\u001b[0m\n",
      "\u001b[33m(raylet, ip=10.0.7.226)\u001b[0m  Downloading aiohttp\u001b[32m [repeated 3x across cluster]\u001b[0m\n",
      "\u001b[33m(raylet, ip=10.0.7.226)\u001b[0m  Downloading widgetsnbextension\u001b[32m [repeated 3x across cluster]\u001b[0m\n",
      "\u001b[33m(raylet, ip=10.0.52.169)\u001b[0m  Downloading grpcio\u001b[32m [repeated 2x across cluster]\u001b[0m\n",
      "\u001b[33m(raylet, ip=10.0.7.226)\u001b[0m Downloading torch (783.0MiB)\u001b[32m [repeated 2x across cluster]\u001b[0m\n",
      "\u001b[33m(raylet, ip=10.0.7.226)\u001b[0m  Downloading sqlalchemy\u001b[32m [repeated 3x across cluster]\u001b[0m\n",
      "\u001b[33m(raylet, ip=10.0.7.226)\u001b[0m  Downloading hf-xet\u001b[32m [repeated 3x across cluster]\u001b[0m\n",
      "\u001b[33m(raylet, ip=10.0.52.169)\u001b[0m  Downloading mlflow-skinny\u001b[32m [repeated 2x across cluster]\u001b[0m\n",
      "\u001b[33m(raylet, ip=10.0.7.226)\u001b[0m Downloading pandas (11.4MiB)\n",
      "\u001b[33m(raylet, ip=10.0.52.169)\u001b[0m  Downloading pillow\u001b[32m [repeated 2x across cluster]\u001b[0m\n",
      "\u001b[33m(raylet, ip=10.0.7.226)\u001b[0m  Downloading setuptools\u001b[32m [repeated 3x across cluster]\u001b[0m\n",
      "\u001b[33m(raylet, ip=10.0.7.226)\u001b[0m Downloading mlflow (26.1MiB)\n",
      "\u001b[33m(raylet, ip=10.0.7.226)\u001b[0m  Downloading pygments\u001b[32m [repeated 3x across cluster]\u001b[0m\n",
      "\u001b[33m(raylet, ip=10.0.7.226)\u001b[0m Downloading triton (148.5MiB)\n",
      "\u001b[33m(raylet, ip=10.0.7.226)\u001b[0m Downloading botocore (13.3MiB)\n",
      "\u001b[33m(raylet, ip=10.0.7.226)\u001b[0m Downloading polars (36.7MiB)\n",
      "\u001b[33m(raylet, ip=10.0.52.169)\u001b[0m  Downloading matplotlib\u001b[32m [repeated 2x across cluster]\u001b[0m\n",
      "\u001b[33m(raylet, ip=10.0.7.226)\u001b[0m  Downloading py-spy\u001b[32m [repeated 3x across cluster]\u001b[0m\n",
      "\u001b[33m(raylet, ip=10.0.7.226)\u001b[0m Downloading transformers (10.0MiB)\n",
      "\u001b[33m(raylet, ip=10.0.7.226)\u001b[0m Downloading scikit-learn (12.5MiB)\n",
      "\u001b[33m(raylet, ip=10.0.52.169)\u001b[0m  Downloading jedi\n",
      "\u001b[33m(raylet, ip=10.0.36.48)\u001b[0m {\"asctime\":\"2025-08-21 20:10:21,527\",\"levelname\":\"E\",\"message\":\"Some workers of the worker process(2693) have not registered within the timeout. The process is still alive, probably it's hanging during start.\",\"component\":\"raylet\",\"filename\":\"worker_pool.cc\",\"lineno\":586}\n",
      "\u001b[33m(raylet, ip=10.0.52.169)\u001b[0m  Downloading transformers\n",
      "\u001b[33m(raylet, ip=10.0.52.169)\u001b[0m  Downloading scikit-learn\n",
      "\u001b[33m(raylet, ip=10.0.36.48)\u001b[0m Installed 172 packages in 2.17s\n",
      "\u001b[33m(raylet, ip=10.0.52.169)\u001b[0m  Downloading numpy\n",
      "\u001b[33m(raylet, ip=10.0.52.169)\u001b[0m  Downloading botocore\n",
      "\u001b[33m(raylet, ip=10.0.7.226)\u001b[0m       Built doggos @ file:///tmp/ray/session_2025-08-21_18-48-13_464408_2298/runtime_resources/working_dir_files/_ray_pkg_f5e3d74a1b6904d1/doggos\n",
      "\u001b[33m(raylet, ip=10.0.52.169)\u001b[0m  Downloading pandas\n",
      "\u001b[36m(MapBatches(drop_columns)->Write pid=4569, ip=10.0.36.139)\u001b[0m FilenameProvider have to provide proper filename template including '{{i}}' macro to ensure unique filenames when writing multiple files. Appending '{{i}}' macro to the end of the file. For more details on the expected filename template checkout PyArrow's `write_to_dataset` API\u001b[32m [repeated 18x across cluster]\u001b[0m\n",
      "\u001b[33m(raylet, ip=10.0.7.226)\u001b[0m  Downloading sympy\n",
      "\u001b[33m(raylet, ip=10.0.7.226)\u001b[0m  Downloading virtualenv\n",
      "\u001b[33m(raylet, ip=10.0.7.226)\u001b[0m  Downloading uvloop\n",
      "\u001b[33m(raylet, ip=10.0.7.226)\u001b[0m  Downloading debugpy\n",
      "\u001b[33m(raylet, ip=10.0.7.226)\u001b[0m  Downloading networkx\n",
      "\u001b[33m(raylet, ip=10.0.7.226)\u001b[0m  Downloading nvidia-nvjitlink-cu12\u001b[32m [repeated 4x across cluster]\u001b[0m\n",
      "\u001b[33m(raylet, ip=10.0.7.226)\u001b[0m  Downloading fonttools\n",
      "\u001b[33m(raylet, ip=10.0.7.226)\u001b[0m  Downloading grpcio\n",
      "\u001b[33m(raylet, ip=10.0.7.226)\u001b[0m  Downloading mlflow-skinny\n",
      "\u001b[33m(raylet, ip=10.0.7.226)\u001b[0m  Downloading pillow\n",
      "\u001b[33m(raylet, ip=10.0.7.226)\u001b[0m  Downloading matplotlib\n",
      "\u001b[33m(raylet, ip=10.0.52.169)\u001b[0m  Downloading polars\n",
      "\u001b[33m(raylet, ip=10.0.7.226)\u001b[0m  Downloading jedi\n",
      "\u001b[33m(raylet, ip=10.0.36.48)\u001b[0m {\"asctime\":\"2025-08-21 20:10:22,183\",\"levelname\":\"E\",\"message\":\"Some workers of the worker process(2772) have not registered within the timeout. The process is still alive, probably it's hanging during start.\",\"component\":\"raylet\",\"filename\":\"worker_pool.cc\",\"lineno\":586}\u001b[32m [repeated 44x across cluster]\u001b[0m\n",
      "\u001b[33m(raylet, ip=10.0.52.169)\u001b[0m  Downloading scipy\n",
      "\u001b[33m(raylet, ip=10.0.7.226)\u001b[0m  Downloading transformers\n",
      "\u001b[33m(raylet, ip=10.0.52.169)\u001b[0m  Downloading mlflow\n",
      "\u001b[33m(raylet, ip=10.0.7.226)\u001b[0m  Downloading scikit-learn\n",
      "\u001b[33m(raylet, ip=10.0.7.226)\u001b[0m  Downloading numpy\n",
      "\u001b[33m(raylet, ip=10.0.7.226)\u001b[0m  Downloading botocore\n",
      "\u001b[33m(raylet, ip=10.0.7.226)\u001b[0m  Downloading pandas\n",
      "\u001b[33m(raylet, ip=10.0.7.226)\u001b[0m  Downloading nvidia-curand-cu12\u001b[32m [repeated 3x across cluster]\u001b[0m\n",
      "\u001b[33m(raylet, ip=10.0.52.169)\u001b[0m  Downloading pyarrow\n",
      "\u001b[33m(raylet, ip=10.0.7.226)\u001b[0m  Downloading polars\n",
      "\u001b[33m(raylet, ip=10.0.7.226)\u001b[0m  Downloading scipy\n",
      "\u001b[33m(raylet, ip=10.0.7.226)\u001b[0m  Downloading mlflow\n",
      "\u001b[36m(_MapWorker pid=2496, ip=10.0.117.166)\u001b[0m Using a slow image processor as `use_fast` is unset and a slow processor was saved with this model. `use_fast=True` will be the default behavior in v4.52, even if the model was saved with a slow processor. This will result in minor differences in outputs. You'll still be able to use a slow processor with `use_fast=False`.\n",
      "\u001b[33m(raylet, ip=10.0.52.169)\u001b[0m  Downloading nvidia-cusolver-cu12\n",
      "\u001b[33m(raylet, ip=10.0.7.226)\u001b[0m  Downloading pyarrow\n",
      "\u001b[33m(raylet, ip=10.0.52.169)\u001b[0m  Downloading nvidia-cusparselt-cu12\n",
      "\u001b[33m(raylet, ip=10.0.52.169)\u001b[0m  Downloading triton\n",
      "\u001b[33m(raylet, ip=10.0.7.226)\u001b[0m  Downloading nvidia-cufft-cu12\u001b[32m [repeated 6x across cluster]\u001b[0m\n",
      "\u001b[33m(raylet, ip=10.0.7.226)\u001b[0m  Downloading triton\n",
      "\u001b[33m(raylet, ip=10.0.7.226)\u001b[0m  Downloading nvidia-cudnn-cu12\u001b[32m [repeated 6x across cluster]\u001b[0m\n",
      "\u001b[33m(raylet, ip=10.0.52.169)\u001b[0m  Downloading torch\n",
      "\u001b[33m(raylet, ip=10.0.52.169)\u001b[0m warning: Failed to hardlink files; falling back to full copy. This may lead to degraded performance.\n",
      "\u001b[33m(raylet, ip=10.0.52.169)\u001b[0m          If the cache and target directories are on different filesystems, hardlinking may not be supported.\n",
      "\u001b[33m(raylet, ip=10.0.52.169)\u001b[0m          If this is intentional, set `export UV_LINK_MODE=copy` or use `--link-mode=copy` to suppress this warning.\n",
      "\u001b[33m(raylet, ip=10.0.52.169)\u001b[0m Installed 172 packages in 2.15s\n",
      "\u001b[33m(raylet, ip=10.0.7.226)\u001b[0m  Downloading torch\n",
      "\u001b[33m(raylet, ip=10.0.7.226)\u001b[0m warning: Failed to hardlink files; falling back to full copy. This may lead to degraded performance.\n",
      "\u001b[33m(raylet, ip=10.0.7.226)\u001b[0m          If the cache and target directories are on different filesystems, hardlinking may not be supported.\n",
      "\u001b[33m(raylet, ip=10.0.7.226)\u001b[0m          If this is intentional, set `export UV_LINK_MODE=copy` or use `--link-mode=copy` to suppress this warning.\n",
      "\u001b[36m(MapBatches(drop_columns)->Write pid=2928, ip=10.0.52.169)\u001b[0m FilenameProvider have to provide proper filename template including '{{i}}' macro to ensure unique filenames when writing multiple files. Appending '{{i}}' macro to the end of the file. For more details on the expected filename template checkout PyArrow's `write_to_dataset` API\n",
      "\u001b[33m(raylet, ip=10.0.7.226)\u001b[0m Installed 172 packages in 2.21s\n",
      "\u001b[36m(_MapWorker pid=2651, ip=10.0.117.166)\u001b[0m Using a slow image processor as `use_fast` is unset and a slow processor was saved with this model. `use_fast=True` will be the default behavior in v4.52, even if the model was saved with a slow processor. This will result in minor differences in outputs. You'll still be able to use a slow processor with `use_fast=False`.\n",
      "\u001b[36m(MapBatches(drop_columns)->Write pid=3044, ip=10.0.7.226)\u001b[0m FilenameProvider have to provide proper filename template including '{{i}}' macro to ensure unique filenames when writing multiple files. Appending '{{i}}' macro to the end of the file. For more details on the expected filename template checkout PyArrow's `write_to_dataset` API\u001b[32m [repeated 6x across cluster]\u001b[0m\n",
      "\u001b[36m(_MapWorker pid=3195, ip=10.0.101.0)\u001b[0m Using a slow image processor as `use_fast` is unset and a slow processor was saved with this model. `use_fast=True` will be the default behavior in v4.52, even if the model was saved with a slow processor. This will result in minor differences in outputs. You'll still be able to use a slow processor with `use_fast=False`.\u001b[32m [repeated 3x across cluster]\u001b[0m\n",
      "\u001b[36m(MapBatches(drop_columns)->Write pid=4529, ip=10.0.36.139)\u001b[0m FilenameProvider have to provide proper filename template including '{{i}}' macro to ensure unique filenames when writing multiple files. Appending '{{i}}' macro to the end of the file. For more details on the expected filename template checkout PyArrow's `write_to_dataset` API\u001b[32m [repeated 10x across cluster]\u001b[0m\n",
      "\u001b[36m(_MapWorker pid=2992, ip=10.0.117.166)\u001b[0m Using a slow image processor as `use_fast` is unset and a slow processor was saved with this model. `use_fast=True` will be the default behavior in v4.52, even if the model was saved with a slow processor. This will result in minor differences in outputs. You'll still be able to use a slow processor with `use_fast=False`.\n",
      "\u001b[36m(TrainController pid=54671)\u001b[0m [State Transition] INITIALIZING -> SCHEDULING.\n",
      "\u001b[36m(TrainController pid=54671)\u001b[0m Attempting to start training worker group of size 4 with the following resources: [{'CPU': 8, 'GPU': 2, 'accelerator_type:L4': 0.001}] * 4\n",
      "\u001b[36m(TrainController pid=54671)\u001b[0m Using blocking ray.get inside async actor. This blocks the event loop. Please use `await` on object ref with asyncio.gather if you want to yield execution to the event loop instead.\n"
     ]
    },
    {
     "name": "stderr",
     "output_type": "stream",
     "text": [
      "2025-08-21 20:10:57,154\tWARNING issue_detector_manager.py:58 -- A task of operator MapBatches(drop_columns)->Write with task index 1 has been running for 30.01s, which is longer than the average task duration of this operator (0.98s). If this message persists, please check the stack trace of the task for potential hanging issues.\n",
      "2025-08-21 20:10:57,155\tWARNING issue_detector_manager.py:58 -- A task of operator MapBatches(drop_columns)->Write with task index 7 has been running for 30.01s, which is longer than the average task duration of this operator (0.98s). If this message persists, please check the stack trace of the task for potential hanging issues.\n",
      "2025-08-21 20:10:57,155\tWARNING issue_detector_manager.py:58 -- A task of operator MapBatches(drop_columns)->Write with task index 12 has been running for 30.01s, which is longer than the average task duration of this operator (0.98s). If this message persists, please check the stack trace of the task for potential hanging issues.\n",
      "2025-08-21 20:10:57,156\tWARNING issue_detector_manager.py:58 -- A task of operator MapBatches(drop_columns)->Write with task index 19 has been running for 30.01s, which is longer than the average task duration of this operator (0.98s). If this message persists, please check the stack trace of the task for potential hanging issues.\n",
      "2025-08-21 20:10:57,156\tWARNING issue_detector_manager.py:58 -- A task of operator MapBatches(drop_columns)->Write with task index 24 has been running for 30.01s, which is longer than the average task duration of this operator (0.98s). If this message persists, please check the stack trace of the task for potential hanging issues.\n",
      "2025-08-21 20:10:57,157\tWARNING issue_detector_manager.py:58 -- A task of operator MapBatches(drop_columns)->Write with task index 30 has been running for 30.01s, which is longer than the average task duration of this operator (0.98s). If this message persists, please check the stack trace of the task for potential hanging issues.\n",
      "2025-08-21 20:10:57,157\tWARNING issue_detector_manager.py:58 -- A task of operator MapBatches(drop_columns)->Write with task index 35 has been running for 30.01s, which is longer than the average task duration of this operator (0.98s). If this message persists, please check the stack trace of the task for potential hanging issues.\n",
      "2025-08-21 20:10:57,158\tWARNING issue_detector_manager.py:67 -- To disable issue detection, run DataContext.get_current().issue_detectors_config.detectors = [].\n",
      "2025-08-21 20:11:08,083\tINFO streaming_executor.py:231 -- ✔️  Dataset dataset_38_0 execution finished in 161.38 seconds\n",
      "2025-08-21 20:11:08,154\tINFO dataset.py:4621 -- Data sink Parquet finished. 2880 rows and 5.9MB data written.\n",
      "2025-08-21 20:11:08,166\tINFO logging.py:295 -- Registered dataset logger for dataset dataset_41_0\n",
      "2025-08-21 20:11:08,181\tINFO streaming_executor.py:117 -- Starting execution of Dataset dataset_41_0. Full logs are in /tmp/ray/session_2025-08-21_18-48-13_464408_2298/logs/ray-data\n",
      "2025-08-21 20:11:08,181\tINFO streaming_executor.py:118 -- Execution plan of Dataset dataset_41_0: InputDataBuffer[Input] -> TaskPoolMapOperator[ListFiles] -> TaskPoolMapOperator[ReadFiles] -> TaskPoolMapOperator[Map(add_class)->Map(convert_to_label)] -> ActorPoolMapOperator[MapBatches(EmbedImages)] -> TaskPoolMapOperator[MapBatches(drop_columns)->Write]\n"
     ]
    },
    {
     "data": {
      "application/vnd.jupyter.widget-view+json": {
       "model_id": "8bdb0927e66b4998a5c879c22b697f52",
       "version_major": 2,
       "version_minor": 0
      },
      "text/plain": [
       "Running 0: 0.00 row [00:00, ? row/s]"
      ]
     },
     "metadata": {},
     "output_type": "display_data"
    },
    {
     "data": {
      "application/vnd.jupyter.widget-view+json": {
       "model_id": "2babbd7507f24ea59932595ca983c00a",
       "version_major": 2,
       "version_minor": 0
      },
      "text/plain": [
       "- ListFiles 1: 0.00 row [00:00, ? row/s]"
      ]
     },
     "metadata": {},
     "output_type": "display_data"
    },
    {
     "data": {
      "application/vnd.jupyter.widget-view+json": {
       "model_id": "566cf472bdbf476984d5593001987299",
       "version_major": 2,
       "version_minor": 0
      },
      "text/plain": [
       "- ReadFiles 2: 0.00 row [00:00, ? row/s]"
      ]
     },
     "metadata": {},
     "output_type": "display_data"
    },
    {
     "data": {
      "application/vnd.jupyter.widget-view+json": {
       "model_id": "d8f04299a3f8444db989d59cc9a49744",
       "version_major": 2,
       "version_minor": 0
      },
      "text/plain": [
       "- Map(add_class)->Map(convert_to_label) 3: 0.00 row [00:00, ? row/s]"
      ]
     },
     "metadata": {},
     "output_type": "display_data"
    },
    {
     "data": {
      "application/vnd.jupyter.widget-view+json": {
       "model_id": "122860948d9b4d47a4cbbc3bc0da50db",
       "version_major": 2,
       "version_minor": 0
      },
      "text/plain": [
       "- MapBatches(EmbedImages) 4: 0.00 row [00:00, ? row/s]"
      ]
     },
     "metadata": {},
     "output_type": "display_data"
    },
    {
     "data": {
      "application/vnd.jupyter.widget-view+json": {
       "model_id": "3957af6d3a3d41d28e46fb37b15f3847",
       "version_major": 2,
       "version_minor": 0
      },
      "text/plain": [
       "- MapBatches(drop_columns)->Write 5: 0.00 row [00:00, ? row/s]"
      ]
     },
     "metadata": {},
     "output_type": "display_data"
    },
    {
     "name": "stderr",
     "output_type": "stream",
     "text": [
      "2025-08-21 20:11:10,014\tWARNING streaming_executor_state.py:764 -- Operator produced a RefBundle with a different schema than the previous one. Previous schema: image: extension<ray.data.arrow_variable_shaped_tensor<ArrowVariableShapedTensorType>>\n",
      "path: string, new schema: image: extension<ray.data.arrow_tensor_v2<ArrowTensorTypeV2>>\n",
      "path: string. This may lead to unexpected behavior.\n",
      "2025-08-21 20:11:10,440\tWARNING streaming_executor_state.py:764 -- Operator produced a RefBundle with a different schema than the previous one. Previous schema: image: extension<ray.data.arrow_variable_shaped_tensor<ArrowVariableShapedTensorType>>\n",
      "path: string\n",
      "class: string\n",
      "label: int64, new schema: image: extension<ray.data.arrow_tensor_v2<ArrowTensorTypeV2>>\n",
      "path: string\n",
      "class: string\n",
      "label: int64. This may lead to unexpected behavior.\n",
      "2025-08-21 20:11:19,843\tINFO streaming_executor.py:231 -- ✔️  Dataset dataset_41_0 execution finished in 11.66 seconds\n",
      "2025-08-21 20:11:19,886\tINFO dataset.py:4621 -- Data sink Parquet finished. 720 rows and 1.5MB data written.\n"
     ]
    }
   ],
   "source": [
    "# Write processed data to cloud storage.\n",
    "preprocessed_data_path = os.path.join(\"/mnt/cluster_storage\", \"doggos/preprocessed_data\")\n",
    "if os.path.exists(preprocessed_data_path):  # Clean up.\n",
    "    shutil.rmtree(preprocessed_data_path)\n",
    "preprocessed_train_path = os.path.join(preprocessed_data_path, \"preprocessed_train\")\n",
    "preprocessed_val_path = os.path.join(preprocessed_data_path, \"preprocessed_val\")\n",
    "train_ds.write_parquet(preprocessed_train_path)\n",
    "val_ds.write_parquet(preprocessed_val_path)\n"
   ]
  },
  {
   "cell_type": "markdown",
   "metadata": {},
   "source": [
    "<div class=\"alert alert-block alert\"> <b> Store often, save compute</b> \n",
    "\n",
    "Store the preprocessed data into shared cloud storage to:\n",
    "- save a record of what this preprocessed data looks like\n",
    "- avoid triggering the entire preprocessing for each batch the model processes\n",
    "- avoid [`materialize`](https://docs.ray.io/en/latest/data/api/doc/ray.data.Dataset.materialize.html) of the preprocessed data because you shouldn't force large data to fit in memory"
   ]
  },
  {
   "cell_type": "markdown",
   "metadata": {},
   "source": [
    "## Model"
   ]
  },
  {
   "cell_type": "markdown",
   "metadata": {},
   "source": [
    "Define the model -- a simple two layer neural net with Softmax layer to predict class probabilities. Notice that it's all just base PyTorch and nothing else."
   ]
  },
  {
   "cell_type": "code",
   "execution_count": null,
   "metadata": {},
   "outputs": [],
   "source": [
    "import json\n",
    "from pathlib import Path\n",
    "import torch\n",
    "import torch.nn as nn\n",
    "import torch.nn.functional as F\n"
   ]
  },
  {
   "cell_type": "code",
   "execution_count": null,
   "metadata": {},
   "outputs": [],
   "source": [
    "class ClassificationModel(torch.nn.Module):\n",
    "    def __init__(self, embedding_dim, hidden_dim, dropout_p, num_classes):\n",
    "        super().__init__()\n",
    "        # Hyperparameters\n",
    "        self.embedding_dim = embedding_dim\n",
    "        self.hidden_dim = hidden_dim\n",
    "        self.dropout_p = dropout_p\n",
    "        self.num_classes = num_classes\n",
    "\n",
    "        # Define layers\n",
    "        self.fc1 = nn.Linear(embedding_dim, hidden_dim)\n",
    "        self.batch_norm = nn.BatchNorm1d(hidden_dim)\n",
    "        self.relu = nn.ReLU()\n",
    "        self.dropout = nn.Dropout(dropout_p)\n",
    "        self.fc2 = nn.Linear(hidden_dim, num_classes)\n",
    "\n",
    "    def forward(self, batch):\n",
    "        z = self.fc1(batch[\"embedding\"])\n",
    "        z = self.batch_norm(z)\n",
    "        z = self.relu(z)\n",
    "        z = self.dropout(z)\n",
    "        z = self.fc2(z)\n",
    "        return z\n",
    "\n",
    "    @torch.inference_mode()\n",
    "    def predict(self, batch):\n",
    "        z = self(batch)\n",
    "        y_pred = torch.argmax(z, dim=1).cpu().numpy()\n",
    "        return y_pred\n",
    "\n",
    "    @torch.inference_mode()\n",
    "    def predict_probabilities(self, batch):\n",
    "        z = self(batch)\n",
    "        y_probs = F.softmax(z, dim=1).cpu().numpy()\n",
    "        return y_probs\n",
    "\n",
    "    def save(self, dp):\n",
    "        Path(dp).mkdir(parents=True, exist_ok=True)\n",
    "        with open(Path(dp, \"args.json\"), \"w\") as fp:\n",
    "            json.dump({\n",
    "                \"embedding_dim\": self.embedding_dim,\n",
    "                \"hidden_dim\": self.hidden_dim,\n",
    "                \"dropout_p\": self.dropout_p,\n",
    "                \"num_classes\": self.num_classes,\n",
    "            }, fp, indent=4)\n",
    "        torch.save(self.state_dict(), Path(dp, \"model.pt\"))\n",
    "\n",
    "    @classmethod\n",
    "    def load(cls, args_fp, state_dict_fp, device=\"cpu\"):\n",
    "        with open(args_fp, \"r\") as fp:\n",
    "            model = cls(**json.load(fp))\n",
    "        model.load_state_dict(torch.load(state_dict_fp, map_location=device))\n",
    "        return model\n"
   ]
  },
  {
   "cell_type": "code",
   "execution_count": null,
   "metadata": {},
   "outputs": [
    {
     "name": "stdout",
     "output_type": "stream",
     "text": [
      "ClassificationModel(\n",
      "  (fc1): Linear(in_features=512, out_features=256, bias=True)\n",
      "  (batch_norm): BatchNorm1d(256, eps=1e-05, momentum=0.1, affine=True, track_running_stats=True)\n",
      "  (relu): ReLU()\n",
      "  (dropout): Dropout(p=0.3, inplace=False)\n",
      "  (fc2): Linear(in_features=256, out_features=36, bias=True)\n",
      ")\n"
     ]
    }
   ],
   "source": [
    "# Initialize model.\n",
    "num_classes = len(preprocessor.classes)\n",
    "model = ClassificationModel(\n",
    "    embedding_dim=512, \n",
    "    hidden_dim=256, \n",
    "    dropout_p=0.3, \n",
    "    num_classes=num_classes,\n",
    ")\n",
    "print (model)\n"
   ]
  },
  {
   "cell_type": "markdown",
   "metadata": {},
   "source": [
    "## Batching"
   ]
  },
  {
   "cell_type": "markdown",
   "metadata": {},
   "source": [
    "Take a look at a sample batch of data and ensure that tensors have the proper data type."
   ]
  },
  {
   "cell_type": "code",
   "execution_count": null,
   "metadata": {},
   "outputs": [],
   "source": [
    "from ray.train.torch import get_device\n"
   ]
  },
  {
   "cell_type": "code",
   "execution_count": null,
   "metadata": {},
   "outputs": [],
   "source": [
    "def collate_fn(batch):\n",
    "    dtypes = {\"embedding\": torch.float32, \"label\": torch.int64}\n",
    "    tensor_batch = {}\n",
    "    for key in dtypes.keys():\n",
    "        if key in batch:\n",
    "            tensor_batch[key] = torch.as_tensor(\n",
    "                batch[key],\n",
    "                dtype=dtypes[key],\n",
    "                device=get_device(),\n",
    "            )\n",
    "    return tensor_batch\n"
   ]
  },
  {
   "cell_type": "code",
   "execution_count": null,
   "metadata": {},
   "outputs": [
    {
     "name": "stderr",
     "output_type": "stream",
     "text": [
      "2025-08-21 20:11:20,682\tINFO logging.py:295 -- Registered dataset logger for dataset dataset_43_0\n",
      "2025-08-21 20:11:20,693\tINFO streaming_executor.py:117 -- Starting execution of Dataset dataset_43_0. Full logs are in /tmp/ray/session_2025-08-21_18-48-13_464408_2298/logs/ray-data\n",
      "2025-08-21 20:11:20,693\tINFO streaming_executor.py:118 -- Execution plan of Dataset dataset_43_0: InputDataBuffer[Input] -> TaskPoolMapOperator[ListFiles] -> TaskPoolMapOperator[ReadFiles] -> TaskPoolMapOperator[Map(add_class)->Map(convert_to_label)] -> ActorPoolMapOperator[MapBatches(EmbedImages)] -> TaskPoolMapOperator[MapBatches(drop_columns)] -> LimitOperator[limit=3]\n"
     ]
    },
    {
     "data": {
      "application/vnd.jupyter.widget-view+json": {
       "model_id": "52cfd6012fbe42029a0b10106034b2ea",
       "version_major": 2,
       "version_minor": 0
      },
      "text/plain": [
       "Running 0: 0.00 row [00:00, ? row/s]"
      ]
     },
     "metadata": {},
     "output_type": "display_data"
    },
    {
     "data": {
      "application/vnd.jupyter.widget-view+json": {
       "model_id": "b2bea4c2bc2d4cdbad6c8cca8bacce7f",
       "version_major": 2,
       "version_minor": 0
      },
      "text/plain": [
       "- ListFiles 1: 0.00 row [00:00, ? row/s]"
      ]
     },
     "metadata": {},
     "output_type": "display_data"
    },
    {
     "data": {
      "application/vnd.jupyter.widget-view+json": {
       "model_id": "d46dfab712114692bc60263dff03c1a8",
       "version_major": 2,
       "version_minor": 0
      },
      "text/plain": [
       "- ReadFiles 2: 0.00 row [00:00, ? row/s]"
      ]
     },
     "metadata": {},
     "output_type": "display_data"
    },
    {
     "data": {
      "application/vnd.jupyter.widget-view+json": {
       "model_id": "7c5f5f0b478a4a7dab81014e92480b10",
       "version_major": 2,
       "version_minor": 0
      },
      "text/plain": [
       "- Map(add_class)->Map(convert_to_label) 3: 0.00 row [00:00, ? row/s]"
      ]
     },
     "metadata": {},
     "output_type": "display_data"
    },
    {
     "data": {
      "application/vnd.jupyter.widget-view+json": {
       "model_id": "501fd488b67a4d06bd157578fc1f1400",
       "version_major": 2,
       "version_minor": 0
      },
      "text/plain": [
       "- MapBatches(EmbedImages) 4: 0.00 row [00:00, ? row/s]"
      ]
     },
     "metadata": {},
     "output_type": "display_data"
    },
    {
     "data": {
      "application/vnd.jupyter.widget-view+json": {
       "model_id": "3380f6b798894ab8a387d88775206ada",
       "version_major": 2,
       "version_minor": 0
      },
      "text/plain": [
       "- MapBatches(drop_columns) 5: 0.00 row [00:00, ? row/s]"
      ]
     },
     "metadata": {},
     "output_type": "display_data"
    },
    {
     "data": {
      "application/vnd.jupyter.widget-view+json": {
       "model_id": "c2d52c375c8b44478fc64da256214a8e",
       "version_major": 2,
       "version_minor": 0
      },
      "text/plain": [
       "- limit=3 6: 0.00 row [00:00, ? row/s]"
      ]
     },
     "metadata": {},
     "output_type": "display_data"
    },
    {
     "name": "stderr",
     "output_type": "stream",
     "text": [
      "2025-08-21 20:11:29,549\tINFO streaming_executor.py:231 -- ✔️  Dataset dataset_43_0 execution finished in 8.85 seconds\n",
      "/tmp/ipykernel_44250/417303983.py:6: UserWarning: The given NumPy array is not writable, and PyTorch does not support non-writable tensors. This means writing to this tensor will result in undefined behavior. You may want to copy the array to protect its data or make it writable before converting it to a tensor. This type of warning will be suppressed for the rest of this program. (Triggered internally at /pytorch/torch/csrc/utils/tensor_numpy.cpp:203.)\n",
      "  tensor_batch[key] = torch.as_tensor(\n"
     ]
    },
    {
     "data": {
      "text/plain": [
       "{'embedding': tensor([[ 0.3172,  0.1145, -0.1010,  ...,  0.0425,  0.3932,  0.3251],\n",
       "         [ 0.6690,  0.1264, -0.3607,  ...,  0.7516,  0.3557,  0.2929],\n",
       "         [-0.2309,  0.1717, -0.2901,  ...,  0.8024,  0.3071, -0.0147]]),\n",
       " 'label': tensor([34, 29, 35])}"
      ]
     },
     "execution_count": null,
     "metadata": {},
     "output_type": "execute_result"
    }
   ],
   "source": [
    "# Sample batch\n",
    "sample_batch = train_ds.take_batch(batch_size=3)\n",
    "collate_fn(batch=sample_batch)\n"
   ]
  },
  {
   "cell_type": "markdown",
   "metadata": {},
   "source": [
    "## Model registry"
   ]
  },
  {
   "cell_type": "markdown",
   "metadata": {},
   "source": [
    "Create a model registry in [Anyscale user storage](https://docs.anyscale.com/configuration/storage/#user-storage) to save the model checkpoints to. Use OSS MLflow but you can easily [set up other experiment trackers](https://docs.ray.io/en/latest/train/user-guides/experiment-tracking.html) with Ray."
   ]
  },
  {
   "cell_type": "code",
   "execution_count": null,
   "metadata": {},
   "outputs": [],
   "source": [
    "import shutil\n"
   ]
  },
  {
   "cell_type": "code",
   "execution_count": null,
   "metadata": {},
   "outputs": [],
   "source": [
    "model_registry = \"/mnt/cluster_storage/mlflow/doggos\"\n",
    "if os.path.isdir(model_registry):\n",
    "    shutil.rmtree(model_registry)  # clean up\n",
    "os.makedirs(model_registry, exist_ok=True)\n"
   ]
  },
  {
   "cell_type": "markdown",
   "metadata": {},
   "source": [
    "## Training"
   ]
  },
  {
   "cell_type": "markdown",
   "metadata": {},
   "source": [
    "Define the training workload by specifying the:\n",
    "- experiment and model parameters\n",
    "- compute scaling configuration\n",
    "- forward pass for batches of training and validation data\n",
    "- train loop for each epoch of data and checkpointing"
   ]
  },
  {
   "cell_type": "markdown",
   "metadata": {},
   "source": [
    "<img src=\"https://raw.githubusercontent.com/anyscale/multimodal-ai/refs/heads/main/images/trainer.png\" width=700>"
   ]
  },
  {
   "cell_type": "code",
   "execution_count": null,
   "metadata": {},
   "outputs": [],
   "source": [
    "# Train loop config.\n",
    "experiment_name = \"doggos\"\n",
    "train_loop_config = {\n",
    "    \"model_registry\": model_registry,\n",
    "    \"experiment_name\": experiment_name,\n",
    "    \"embedding_dim\": 512,\n",
    "    \"hidden_dim\": 256,\n",
    "    \"dropout_p\": 0.3,\n",
    "    \"lr\": 1e-3,\n",
    "    \"lr_factor\": 0.8,\n",
    "    \"lr_patience\": 3,\n",
    "    \"num_epochs\": 20,\n",
    "    \"batch_size\": 256,\n",
    "}\n"
   ]
  },
  {
   "cell_type": "code",
   "execution_count": null,
   "metadata": {},
   "outputs": [],
   "source": [
    "# Scaling config\n",
    "num_workers = 4\n",
    "scaling_config = ray.train.ScalingConfig(\n",
    "    num_workers=num_workers,\n",
    "    use_gpu=True,\n",
    "    resources_per_worker={\"CPU\": 8, \"GPU\": 2},\n",
    "    accelerator_type=\"L4\",\n",
    ")\n"
   ]
  },
  {
   "cell_type": "code",
   "execution_count": null,
   "metadata": {},
   "outputs": [],
   "source": [
    "import tempfile\n",
    "import mlflow\n",
    "import numpy as np\n",
    "from ray.train.torch import TorchTrainer\n"
   ]
  },
  {
   "cell_type": "code",
   "execution_count": null,
   "metadata": {},
   "outputs": [],
   "source": [
    "def train_epoch(ds, batch_size, model, num_classes, loss_fn, optimizer):\n",
    "    model.train()\n",
    "    loss = 0.0\n",
    "    ds_generator = ds.iter_torch_batches(batch_size=batch_size, collate_fn=collate_fn)\n",
    "    for i, batch in enumerate(ds_generator):\n",
    "        optimizer.zero_grad()  # Reset gradients.\n",
    "        z = model(batch)  # Forward pass.\n",
    "        targets = F.one_hot(batch[\"label\"], num_classes=num_classes).float()\n",
    "        J = loss_fn(z, targets)  # Define loss.\n",
    "        J.backward()  # Backward pass.\n",
    "        optimizer.step()  # Update weights.\n",
    "        loss += (J.detach().item() - loss) / (i + 1)  # Cumulative loss\n",
    "    return loss\n"
   ]
  },
  {
   "cell_type": "code",
   "execution_count": null,
   "metadata": {},
   "outputs": [],
   "source": [
    "def eval_epoch(ds, batch_size, model, num_classes, loss_fn):\n",
    "    model.eval()\n",
    "    loss = 0.0\n",
    "    y_trues, y_preds = [], []\n",
    "    ds_generator = ds.iter_torch_batches(batch_size=batch_size, collate_fn=collate_fn)\n",
    "    with torch.inference_mode():\n",
    "        for i, batch in enumerate(ds_generator):\n",
    "            z = model(batch)\n",
    "            targets = F.one_hot(batch[\"label\"], num_classes=num_classes).float()  # one-hot (for loss_fn)\n",
    "            J = loss_fn(z, targets).item()\n",
    "            loss += (J - loss) / (i + 1)\n",
    "            y_trues.extend(batch[\"label\"].cpu().numpy())\n",
    "            y_preds.extend(torch.argmax(z, dim=1).cpu().numpy())\n",
    "    return loss, np.vstack(y_trues), np.vstack(y_preds)\n"
   ]
  },
  {
   "cell_type": "code",
   "execution_count": null,
   "metadata": {},
   "outputs": [],
   "source": [
    "def train_loop_per_worker(config):\n",
    "    # Hyperparameters.\n",
    "    model_registry = config[\"model_registry\"]\n",
    "    experiment_name = config[\"experiment_name\"]\n",
    "    embedding_dim = config[\"embedding_dim\"]\n",
    "    hidden_dim = config[\"hidden_dim\"]\n",
    "    dropout_p = config[\"dropout_p\"]\n",
    "    lr = config[\"lr\"]\n",
    "    lr_factor = config[\"lr_factor\"]\n",
    "    lr_patience = config[\"lr_patience\"]\n",
    "    num_epochs = config[\"num_epochs\"]\n",
    "    batch_size = config[\"batch_size\"]\n",
    "    num_classes = config[\"num_classes\"]\n",
    "\n",
    "    # Experiment tracking.\n",
    "    if ray.train.get_context().get_world_rank() == 0:\n",
    "        mlflow.set_tracking_uri(f\"file:{model_registry}\")\n",
    "        mlflow.set_experiment(experiment_name)\n",
    "        mlflow.start_run()\n",
    "        mlflow.log_params(config)\n",
    "\n",
    "    # Datasets.\n",
    "    train_ds = ray.train.get_dataset_shard(\"train\")\n",
    "    val_ds = ray.train.get_dataset_shard(\"val\")\n",
    "\n",
    "    # Model.\n",
    "    model = ClassificationModel(\n",
    "        embedding_dim=embedding_dim, \n",
    "        hidden_dim=hidden_dim, \n",
    "        dropout_p=dropout_p, \n",
    "        num_classes=num_classes,\n",
    "    )\n",
    "    model = ray.train.torch.prepare_model(model)\n",
    "\n",
    "    # Training components.\n",
    "    loss_fn = torch.nn.CrossEntropyLoss()\n",
    "    optimizer = torch.optim.Adam(model.parameters(), lr=lr)\n",
    "    scheduler = torch.optim.lr_scheduler.ReduceLROnPlateau(\n",
    "        optimizer, \n",
    "        mode=\"min\", \n",
    "        factor=lr_factor, \n",
    "        patience=lr_patience,\n",
    "    )\n",
    "\n",
    "    # Training.\n",
    "    best_val_loss = float(\"inf\")\n",
    "    for epoch in range(num_epochs):\n",
    "        # Steps\n",
    "        train_loss = train_epoch(train_ds, batch_size, model, num_classes, loss_fn, optimizer)\n",
    "        val_loss, _, _ = eval_epoch(val_ds, batch_size, model, num_classes, loss_fn)\n",
    "        scheduler.step(val_loss)\n",
    "\n",
    "        # Checkpoint (metrics, preprocessor and model artifacts).\n",
    "        with tempfile.TemporaryDirectory() as dp:\n",
    "            model.module.save(dp=dp)\n",
    "            metrics = dict(lr=optimizer.param_groups[0][\"lr\"], train_loss=train_loss, val_loss=val_loss)\n",
    "            with open(os.path.join(dp, \"class_to_label.json\"), \"w\") as fp:\n",
    "                json.dump(config[\"class_to_label\"], fp, indent=4)\n",
    "            if ray.train.get_context().get_world_rank() == 0:  # only on main worker 0\n",
    "                mlflow.log_metrics(metrics, step=epoch)\n",
    "                if val_loss < best_val_loss:\n",
    "                    best_val_loss = val_loss\n",
    "                    mlflow.log_artifacts(dp)\n",
    "\n",
    "    # End experiment tracking.\n",
    "    if ray.train.get_context().get_world_rank() == 0:\n",
    "        mlflow.end_run()\n"
   ]
  },
  {
   "cell_type": "markdown",
   "metadata": {},
   "source": [
    "<div class=\"alert alert-block alert\"> <b> Minimal change to your training code</b> \n",
    "\n",
    "Notice that there isn't much new Ray Train code on top of the base PyTorch code. You specified how you want to scale out the training workload, load the Ray datasets, and then checkpoint on the main worker node and that's it. See these guides ([PyTorch](https://docs.ray.io/en/latest/train/getting-started-pytorch.html), [PyTorch Lightning](https://docs.ray.io/en/latest/train/getting-started-pytorch-lightning.html), [Hugging Face Transformers](https://docs.ray.io/en/latest/train/getting-started-transformers.html)) to see the minimal change in code needed to distribute your training workloads. See this extensive list of [Ray Train user guides](https://docs.ray.io/en/latest/train/user-guides.html)."
   ]
  },
  {
   "cell_type": "code",
   "execution_count": null,
   "metadata": {},
   "outputs": [],
   "source": [
    "# Load preprocessed datasets.\n",
    "preprocessed_train_ds = ray.data.read_parquet(preprocessed_train_path)\n",
    "preprocessed_val_ds = ray.data.read_parquet(preprocessed_val_path)\n"
   ]
  },
  {
   "cell_type": "code",
   "execution_count": null,
   "metadata": {},
   "outputs": [],
   "source": [
    "# Trainer.\n",
    "train_loop_config[\"class_to_label\"] = preprocessor.class_to_label\n",
    "train_loop_config[\"num_classes\"] = len(preprocessor.class_to_label)\n",
    "trainer = TorchTrainer(\n",
    "    train_loop_per_worker=train_loop_per_worker,\n",
    "    train_loop_config=train_loop_config,\n",
    "    scaling_config=scaling_config,\n",
    "    datasets={\"train\": preprocessed_train_ds, \"val\": preprocessed_val_ds},\n",
    ")\n"
   ]
  },
  {
   "cell_type": "code",
   "execution_count": null,
   "metadata": {},
   "outputs": [
    {
     "name": "stdout",
     "output_type": "stream",
     "text": [
      "\u001b[36m(autoscaler +6m40s)\u001b[0m [autoscaler] [4xL4:48CPU-192GB] Attempting to add 2 nodes to the cluster (increasing from 0 to 2).\n",
      "\u001b[36m(autoscaler +6m40s)\u001b[0m [autoscaler] [4xL4:48CPU-192GB|g6.12xlarge] [us-west-2c] [on-demand] Launched 2 instances.\n"
     ]
    },
    {
     "name": "stderr",
     "output_type": "stream",
     "text": [
      "\u001b[36m(TrainController pid=54671)\u001b[0m Retrying the launch of the training worker group. The previous launch attempt encountered the following failure:\n",
      "\u001b[36m(TrainController pid=54671)\u001b[0m The worker group startup timed out after 30.0 seconds waiting for 4 workers. Potential causes include: (1) temporary insufficient cluster resources while waiting for autoscaling (ignore this warning in this case), (2) infeasible resource request where the provided `ScalingConfig` cannot be satisfied), and (3) transient network issues. Set the RAY_TRAIN_WORKER_GROUP_START_TIMEOUT_S environment variable to increase the timeout.\n",
      "\u001b[36m(TrainController pid=54671)\u001b[0m [State Transition] SCHEDULING -> RESCHEDULING.\n",
      "\u001b[36m(TrainController pid=54671)\u001b[0m [State Transition] RESCHEDULING -> SCHEDULING.\n",
      "\u001b[36m(TrainController pid=54671)\u001b[0m Attempting to start training worker group of size 4 with the following resources: [{'CPU': 8, 'GPU': 2, 'accelerator_type:L4': 0.001}] * 4\n",
      "\u001b[33m(raylet, ip=10.0.164.18)\u001b[0m Using CPython 3.12.11 interpreter at: /home/ray/anaconda3/bin/python3.12\n",
      "\u001b[33m(raylet, ip=10.0.164.18)\u001b[0m Creating virtual environment at: .venv\n",
      "\u001b[33m(raylet, ip=10.0.164.18)\u001b[0m    Building doggos @ file:///tmp/ray/session_2025-08-21_18-48-13_464408_2298/runtime_resources/working_dir_files/_ray_pkg_f5e3d74a1b6904d1/doggos\n",
      "\u001b[33m(raylet, ip=10.0.164.18)\u001b[0m Downloading numpy (15.9MiB)\n",
      "\u001b[33m(raylet, ip=10.0.164.18)\u001b[0m Downloading sqlalchemy (3.2MiB)\n",
      "\u001b[33m(raylet, ip=10.0.164.18)\u001b[0m Downloading widgetsnbextension (2.1MiB)\n",
      "\u001b[33m(raylet, ip=10.0.164.18)\u001b[0m Downloading kiwisolver (1.4MiB)\n",
      "\u001b[33m(raylet, ip=10.0.164.18)\u001b[0m Downloading pillow (6.3MiB)\n",
      "\u001b[33m(raylet, ip=10.0.164.18)\u001b[0m Downloading debugpy (4.0MiB)\n",
      "\u001b[33m(raylet, ip=10.0.164.18)\u001b[0m Downloading scipy (33.5MiB)\n",
      "\u001b[33m(raylet, ip=10.0.164.18)\u001b[0m Downloading virtualenv (5.7MiB)\n",
      "\u001b[33m(raylet, ip=10.0.164.18)\u001b[0m Downloading nvidia-cublas-cu12 (374.9MiB)\n",
      "\u001b[33m(raylet, ip=10.0.164.18)\u001b[0m Downloading pandas (11.4MiB)\n",
      "\u001b[33m(raylet, ip=10.0.164.18)\u001b[0m Downloading pyarrow (38.2MiB)\n",
      "\u001b[33m(raylet, ip=10.0.164.18)\u001b[0m Downloading hf-xet (3.0MiB)\n",
      "\u001b[33m(raylet, ip=10.0.164.18)\u001b[0m Downloading setuptools (1.1MiB)\n",
      "\u001b[33m(raylet, ip=10.0.164.18)\u001b[0m Downloading uvloop (4.5MiB)\n",
      "\u001b[33m(raylet, ip=10.0.164.18)\u001b[0m Downloading pygments (1.2MiB)\n",
      "\u001b[33m(raylet, ip=10.0.164.18)\u001b[0m Downloading fonttools (4.7MiB)\n",
      "\u001b[33m(raylet, ip=10.0.164.18)\u001b[0m Downloading py-spy (2.6MiB)\n",
      "\u001b[33m(raylet, ip=10.0.164.18)\u001b[0m Downloading sympy (6.0MiB)\n",
      "\u001b[33m(raylet, ip=10.0.164.18)\u001b[0m Downloading grpcio (5.9MiB)\n",
      "\u001b[33m(raylet, ip=10.0.164.18)\u001b[0m Downloading polars (36.7MiB)\n",
      "\u001b[33m(raylet, ip=10.0.164.18)\u001b[0m Downloading botocore (13.3MiB)\n",
      "\u001b[33m(raylet, ip=10.0.164.18)\u001b[0m Downloading aiohttp (1.6MiB)\n",
      "\u001b[33m(raylet, ip=10.0.164.18)\u001b[0m Downloading pydantic-core (1.9MiB)\n",
      "\u001b[33m(raylet, ip=10.0.164.18)\u001b[0m Downloading networkx (1.9MiB)\n",
      "\u001b[33m(raylet, ip=10.0.164.18)\u001b[0m Downloading torch (783.0MiB)\n",
      "\u001b[33m(raylet, ip=10.0.164.18)\u001b[0m Downloading tokenizers (3.0MiB)\n",
      "\u001b[33m(raylet, ip=10.0.164.18)\u001b[0m Downloading jedi (1.5MiB)\n",
      "\u001b[33m(raylet, ip=10.0.164.18)\u001b[0m Downloading transformers (10.0MiB)\n",
      "\u001b[33m(raylet, ip=10.0.164.18)\u001b[0m Downloading matplotlib (8.2MiB)\n",
      "\u001b[33m(raylet, ip=10.0.164.18)\u001b[0m Downloading scikit-learn (12.5MiB)\n",
      "\u001b[33m(raylet, ip=10.0.164.18)\u001b[0m Downloading mlflow-skinny (5.6MiB)\n",
      "\u001b[33m(raylet, ip=10.0.164.18)\u001b[0m Downloading mlflow (26.1MiB)\n",
      "\u001b[33m(raylet, ip=10.0.164.18)\u001b[0m Downloading triton (148.5MiB)\n",
      "\u001b[33m(raylet, ip=10.0.164.18)\u001b[0m       Built doggos @ file:///tmp/ray/session_2025-08-21_18-48-13_464408_2298/runtime_resources/working_dir_files/_ray_pkg_f5e3d74a1b6904d1/doggos\n"
     ]
    },
    {
     "name": "stdout",
     "output_type": "stream",
     "text": [
      "\u001b[36m(autoscaler +7m25s)\u001b[0m [autoscaler] Cluster upscaled to {408 CPU, 12 GPU}.\n"
     ]
    },
    {
     "name": "stderr",
     "output_type": "stream",
     "text": [
      "\u001b[33m(raylet, ip=10.0.164.18)\u001b[0m  Downloading numpy\n",
      "\u001b[33m(raylet, ip=10.0.164.18)\u001b[0m  Downloading sqlalchemy\n",
      "\u001b[33m(raylet, ip=10.0.164.18)\u001b[0m  Downloading widgetsnbextension\n",
      "\u001b[33m(raylet, ip=10.0.164.18)\u001b[0m  Downloading kiwisolver\n",
      "\u001b[33m(raylet, ip=10.0.164.18)\u001b[0m  Downloading pillow\n",
      "\u001b[33m(raylet, ip=10.0.164.18)\u001b[0m  Downloading debugpy\n",
      "\u001b[33m(raylet, ip=10.0.164.18)\u001b[0m  Downloading virtualenv\n",
      "\u001b[33m(raylet, ip=10.0.164.18)\u001b[0m  Downloading nvidia-cuda-nvrtc-cu12\u001b[32m [repeated 15x across cluster]\u001b[0m\n",
      "\u001b[33m(raylet, ip=10.0.164.18)\u001b[0m  Downloading pandas\n",
      "\u001b[33m(raylet, ip=10.0.164.18)\u001b[0m  Downloading hf-xet\n",
      "\u001b[33m(raylet, ip=10.0.164.18)\u001b[0m  Downloading setuptools\n",
      "\u001b[33m(raylet, ip=10.0.164.18)\u001b[0m  Downloading uvloop\n",
      "\u001b[33m(raylet, ip=10.0.164.18)\u001b[0m  Downloading pygments\n",
      "\u001b[33m(raylet, ip=10.0.164.18)\u001b[0m  Downloading fonttools\n",
      "\u001b[33m(raylet, ip=10.0.164.18)\u001b[0m  Downloading py-spy\n",
      "\u001b[33m(raylet, ip=10.0.164.18)\u001b[0m  Downloading sympy\n",
      "\u001b[33m(raylet, ip=10.0.164.18)\u001b[0m  Downloading grpcio\n",
      "\u001b[33m(raylet, ip=10.0.164.18)\u001b[0m  Downloading polars\n",
      "\u001b[33m(raylet, ip=10.0.164.18)\u001b[0m  Downloading botocore\n",
      "\u001b[33m(raylet, ip=10.0.164.18)\u001b[0m  Downloading aiohttp\n",
      "\u001b[33m(raylet, ip=10.0.164.18)\u001b[0m  Downloading pydantic-core\n",
      "\u001b[33m(raylet, ip=10.0.164.18)\u001b[0m  Downloading networkx\n",
      "\u001b[33m(raylet, ip=10.0.164.18)\u001b[0m  Downloading tokenizers\n",
      "\u001b[33m(raylet, ip=10.0.164.18)\u001b[0m  Downloading jedi\n",
      "\u001b[33m(raylet, ip=10.0.164.18)\u001b[0m  Downloading transformers\n",
      "\u001b[33m(raylet, ip=10.0.164.18)\u001b[0m  Downloading matplotlib\n",
      "\u001b[33m(raylet, ip=10.0.164.18)\u001b[0m  Downloading scikit-learn\n",
      "\u001b[33m(raylet, ip=10.0.164.18)\u001b[0m  Downloading mlflow-skinny\n",
      "\u001b[33m(raylet, ip=10.0.164.18)\u001b[0m  Downloading scipy\n",
      "\u001b[33m(raylet, ip=10.0.164.18)\u001b[0m  Downloading mlflow\n",
      "\u001b[33m(raylet, ip=10.0.164.18)\u001b[0m  Downloading pyarrow\n",
      "\u001b[33m(raylet, ip=10.0.164.18)\u001b[0m  Downloading nvidia-cusolver-cu12\u001b[32m [repeated 3x across cluster]\u001b[0m\n",
      "\u001b[33m(raylet, ip=10.0.164.18)\u001b[0m  Downloading triton\n",
      "\u001b[36m(TrainController pid=54671)\u001b[0m Retrying the launch of the training worker group. The previous launch attempt encountered the following failure:\n",
      "\u001b[36m(TrainController pid=54671)\u001b[0m The worker group startup timed out after 30.0 seconds waiting for 4 workers. Potential causes include: (1) temporary insufficient cluster resources while waiting for autoscaling (ignore this warning in this case), (2) infeasible resource request where the provided `ScalingConfig` cannot be satisfied), and (3) transient network issues. Set the RAY_TRAIN_WORKER_GROUP_START_TIMEOUT_S environment variable to increase the timeout.\n",
      "\u001b[36m(TrainController pid=54671)\u001b[0m [State Transition] SCHEDULING -> RESCHEDULING.\n",
      "\u001b[36m(TrainController pid=54671)\u001b[0m [State Transition] RESCHEDULING -> SCHEDULING.\n",
      "\u001b[36m(TrainController pid=54671)\u001b[0m Attempting to start training worker group of size 4 with the following resources: [{'CPU': 8, 'GPU': 2, 'accelerator_type:L4': 0.001}] * 4\n",
      "\u001b[33m(raylet, ip=10.0.164.18)\u001b[0m  Downloading nvidia-cudnn-cu12\u001b[32m [repeated 5x across cluster]\u001b[0m\n",
      "\u001b[33m(raylet, ip=10.0.164.18)\u001b[0m  Downloading torch\n",
      "\u001b[33m(raylet, ip=10.0.164.18)\u001b[0m warning: Failed to hardlink files; falling back to full copy. This may lead to degraded performance.\n",
      "\u001b[33m(raylet, ip=10.0.164.18)\u001b[0m          If the cache and target directories are on different filesystems, hardlinking may not be supported.\n",
      "\u001b[33m(raylet, ip=10.0.164.18)\u001b[0m          If this is intentional, set `export UV_LINK_MODE=copy` or use `--link-mode=copy` to suppress this warning.\n",
      "\u001b[33m(raylet, ip=10.0.164.18)\u001b[0m Installed 172 packages in 2.44s\n",
      "\u001b[33m(raylet, ip=10.0.171.239)\u001b[0m Using CPython 3.12.11 interpreter at: /home/ray/anaconda3/bin/python3.12\n",
      "\u001b[33m(raylet, ip=10.0.171.239)\u001b[0m Creating virtual environment at: .venv\n",
      "\u001b[33m(raylet, ip=10.0.171.239)\u001b[0m    Building doggos @ file:///tmp/ray/session_2025-08-21_18-48-13_464408_2298/runtime_resources/working_dir_files/_ray_pkg_f5e3d74a1b6904d1/doggos\n",
      "\u001b[33m(raylet, ip=10.0.171.239)\u001b[0m Downloading nvidia-cuda-cupti-cu12 (8.5MiB)\n",
      "\u001b[33m(raylet, ip=10.0.171.239)\u001b[0m Downloading pillow (6.3MiB)\n",
      "\u001b[33m(raylet, ip=10.0.171.239)\u001b[0m Downloading virtualenv (5.7MiB)\n",
      "\u001b[33m(raylet, ip=10.0.171.239)\u001b[0m Downloading fonttools (4.7MiB)\n",
      "\u001b[33m(raylet, ip=10.0.171.239)\u001b[0m Downloading sqlalchemy (3.2MiB)\n",
      "\u001b[33m(raylet, ip=10.0.171.239)\u001b[0m Downloading pydantic-core (1.9MiB)\n",
      "\u001b[33m(raylet, ip=10.0.171.239)\u001b[0m Downloading aiohttp (1.6MiB)\n",
      "\u001b[33m(raylet, ip=10.0.171.239)\u001b[0m Downloading pygments (1.2MiB)\n",
      "\u001b[33m(raylet, ip=10.0.171.239)\u001b[0m Downloading setuptools (1.1MiB)\n",
      "\u001b[33m(raylet, ip=10.0.171.239)\u001b[0m Downloading grpcio (5.9MiB)\n",
      "\u001b[33m(raylet, ip=10.0.171.239)\u001b[0m Downloading sympy (6.0MiB)\n",
      "\u001b[33m(raylet, ip=10.0.171.239)\u001b[0m Downloading scipy (33.5MiB)\n",
      "\u001b[33m(raylet, ip=10.0.171.239)\u001b[0m Downloading pandas (11.4MiB)\n",
      "\u001b[33m(raylet, ip=10.0.171.239)\u001b[0m Downloading jedi (1.5MiB)\n",
      "\u001b[33m(raylet, ip=10.0.171.239)\u001b[0m Downloading uvloop (4.5MiB)\n",
      "\u001b[33m(raylet, ip=10.0.171.239)\u001b[0m Downloading numpy (15.9MiB)\n",
      "\u001b[33m(raylet, ip=10.0.171.239)\u001b[0m Downloading networkx (1.9MiB)\n",
      "\u001b[33m(raylet, ip=10.0.171.239)\u001b[0m Downloading widgetsnbextension (2.1MiB)\n",
      "\u001b[33m(raylet, ip=10.0.171.239)\u001b[0m Downloading mlflow (26.1MiB)\n",
      "\u001b[33m(raylet, ip=10.0.171.239)\u001b[0m Downloading tokenizers (3.0MiB)\n",
      "\u001b[33m(raylet, ip=10.0.171.239)\u001b[0m Downloading mlflow-skinny (5.6MiB)\n",
      "\u001b[33m(raylet, ip=10.0.171.239)\u001b[0m Downloading kiwisolver (1.4MiB)\n",
      "\u001b[33m(raylet, ip=10.0.171.239)\u001b[0m Downloading py-spy (2.6MiB)\n",
      "\u001b[33m(raylet, ip=10.0.171.239)\u001b[0m Downloading triton (148.5MiB)\n",
      "\u001b[33m(raylet, ip=10.0.171.239)\u001b[0m Downloading debugpy (4.0MiB)\n",
      "\u001b[33m(raylet, ip=10.0.171.239)\u001b[0m Downloading botocore (13.3MiB)\n",
      "\u001b[33m(raylet, ip=10.0.171.239)\u001b[0m Downloading matplotlib (8.2MiB)\n",
      "\u001b[33m(raylet, ip=10.0.171.239)\u001b[0m Downloading polars (36.7MiB)\n",
      "\u001b[33m(raylet, ip=10.0.171.239)\u001b[0m Downloading hf-xet (3.0MiB)\n",
      "\u001b[33m(raylet, ip=10.0.171.239)\u001b[0m Downloading transformers (10.0MiB)\n",
      "\u001b[33m(raylet, ip=10.0.171.239)\u001b[0m Downloading pyarrow (38.2MiB)\n",
      "\u001b[33m(raylet, ip=10.0.171.239)\u001b[0m Downloading scikit-learn (12.5MiB)\n",
      "\u001b[33m(raylet, ip=10.0.171.239)\u001b[0m Downloading torch (783.0MiB)\n",
      "\u001b[33m(raylet, ip=10.0.171.239)\u001b[0m       Built doggos @ file:///tmp/ray/session_2025-08-21_18-48-13_464408_2298/runtime_resources/working_dir_files/_ray_pkg_f5e3d74a1b6904d1/doggos\n",
      "\u001b[33m(raylet, ip=10.0.171.239)\u001b[0m  Downloading nvidia-cuda-nvrtc-cu12\u001b[32m [repeated 15x across cluster]\u001b[0m\n",
      "\u001b[33m(raylet, ip=10.0.171.239)\u001b[0m  Downloading pillow\n",
      "\u001b[33m(raylet, ip=10.0.171.239)\u001b[0m  Downloading virtualenv\n",
      "\u001b[33m(raylet, ip=10.0.171.239)\u001b[0m  Downloading fonttools\n",
      "\u001b[33m(raylet, ip=10.0.171.239)\u001b[0m  Downloading sqlalchemy\n",
      "\u001b[33m(raylet, ip=10.0.171.239)\u001b[0m  Downloading pydantic-core\n",
      "\u001b[33m(raylet, ip=10.0.171.239)\u001b[0m  Downloading aiohttp\n",
      "\u001b[33m(raylet, ip=10.0.171.239)\u001b[0m  Downloading pygments\n",
      "\u001b[33m(raylet, ip=10.0.171.239)\u001b[0m  Downloading setuptools\n",
      "\u001b[33m(raylet, ip=10.0.171.239)\u001b[0m  Downloading grpcio\n",
      "\u001b[33m(raylet, ip=10.0.171.239)\u001b[0m  Downloading sympy\n",
      "\u001b[33m(raylet, ip=10.0.171.239)\u001b[0m  Downloading pandas\n",
      "\u001b[33m(raylet, ip=10.0.171.239)\u001b[0m  Downloading jedi\n",
      "\u001b[33m(raylet, ip=10.0.171.239)\u001b[0m  Downloading uvloop\n",
      "\u001b[33m(raylet, ip=10.0.171.239)\u001b[0m  Downloading numpy\n",
      "\u001b[33m(raylet, ip=10.0.171.239)\u001b[0m  Downloading networkx\n",
      "\u001b[33m(raylet, ip=10.0.171.239)\u001b[0m  Downloading widgetsnbextension\n",
      "\u001b[33m(raylet, ip=10.0.171.239)\u001b[0m  Downloading tokenizers\n",
      "\u001b[33m(raylet, ip=10.0.171.239)\u001b[0m  Downloading mlflow-skinny\n",
      "\u001b[33m(raylet, ip=10.0.171.239)\u001b[0m  Downloading kiwisolver\n",
      "\u001b[33m(raylet, ip=10.0.171.239)\u001b[0m  Downloading py-spy\n",
      "\u001b[33m(raylet, ip=10.0.171.239)\u001b[0m  Downloading debugpy\n",
      "\u001b[33m(raylet, ip=10.0.171.239)\u001b[0m  Downloading botocore\n",
      "\u001b[33m(raylet, ip=10.0.171.239)\u001b[0m  Downloading matplotlib\n",
      "\u001b[33m(raylet, ip=10.0.171.239)\u001b[0m  Downloading hf-xet\n",
      "\u001b[33m(raylet, ip=10.0.171.239)\u001b[0m  Downloading transformers\n",
      "\u001b[33m(raylet, ip=10.0.171.239)\u001b[0m  Downloading scikit-learn\n",
      "\u001b[33m(raylet, ip=10.0.171.239)\u001b[0m  Downloading polars\n",
      "\u001b[33m(raylet, ip=10.0.171.239)\u001b[0m  Downloading scipy\n",
      "\u001b[33m(raylet, ip=10.0.171.239)\u001b[0m  Downloading mlflow\n",
      "\u001b[33m(raylet, ip=10.0.171.239)\u001b[0m  Downloading pyarrow\n",
      "\u001b[33m(raylet, ip=10.0.171.239)\u001b[0m  Downloading nvidia-cusparselt-cu12\u001b[32m [repeated 3x across cluster]\u001b[0m\n",
      "\u001b[33m(raylet, ip=10.0.171.239)\u001b[0m  Downloading triton\n",
      "\u001b[33m(raylet, ip=10.0.171.239)\u001b[0m  Downloading torch\n",
      "\u001b[33m(raylet, ip=10.0.171.239)\u001b[0m warning: Failed to hardlink files; falling back to full copy. This may lead to degraded performance.\n",
      "\u001b[33m(raylet, ip=10.0.171.239)\u001b[0m          If the cache and target directories are on different filesystems, hardlinking may not be supported.\n",
      "\u001b[33m(raylet, ip=10.0.171.239)\u001b[0m          If this is intentional, set `export UV_LINK_MODE=copy` or use `--link-mode=copy` to suppress this warning.\n",
      "\u001b[33m(raylet, ip=10.0.171.239)\u001b[0m  Downloading nvidia-cudnn-cu12\u001b[32m [repeated 5x across cluster]\u001b[0m\n",
      "\u001b[33m(raylet, ip=10.0.171.239)\u001b[0m Installed 172 packages in 2.62s\n",
      "\u001b[36m(RayTrainWorker pid=3482, ip=10.0.164.18)\u001b[0m Setting up process group for: env:// [rank=0, world_size=4]\n",
      "\u001b[36m(RayTrainWorker pid=3481, ip=10.0.171.239)\u001b[0m Moving model to device: cuda:0\n",
      "\u001b[36m(TrainController pid=54671)\u001b[0m Started training worker group of size 4: \n",
      "\u001b[36m(TrainController pid=54671)\u001b[0m - (ip=10.0.164.18, pid=3482) world_rank=0, local_rank=0, node_rank=0\n",
      "\u001b[36m(TrainController pid=54671)\u001b[0m - (ip=10.0.164.18, pid=3483) world_rank=1, local_rank=1, node_rank=0\n",
      "\u001b[36m(TrainController pid=54671)\u001b[0m - (ip=10.0.171.239, pid=3481) world_rank=2, local_rank=0, node_rank=1\n",
      "\u001b[36m(TrainController pid=54671)\u001b[0m - (ip=10.0.171.239, pid=3539) world_rank=3, local_rank=1, node_rank=1\n",
      "\u001b[36m(TrainController pid=54671)\u001b[0m [State Transition] SCHEDULING -> RUNNING.\n",
      "\u001b[36m(RayTrainWorker pid=3482, ip=10.0.164.18)\u001b[0m 2025/08/21 20:13:29 INFO mlflow.tracking.fluent: Experiment with name 'doggos' does not exist. Creating a new experiment.\n",
      "\u001b[36m(RayTrainWorker pid=3481, ip=10.0.171.239)\u001b[0m Wrapping provided model in DistributedDataParallel.\n",
      "\u001b[36m(RayTrainWorker pid=3482, ip=10.0.164.18)\u001b[0m /tmp/ray/session_2025-08-21_18-48-13_464408_2298/runtime_resources/working_dir_files/_ray_pkg_f5e3d74a1b6904d1/.venv/lib/python3.12/site-packages/ray/data/iterator.py:445: RayDeprecationWarning: Passing a function to `iter_torch_batches(collate_fn)` is deprecated in Ray 2.47. Please switch to using a callable class that inherits from `ArrowBatchCollateFn`, `NumpyBatchCollateFn`, or `PandasBatchCollateFn`.\n",
      "\u001b[36m(RayTrainWorker pid=3482, ip=10.0.164.18)\u001b[0m   warnings.warn(\n",
      "\u001b[36m(RayTrainWorker pid=3482, ip=10.0.164.18)\u001b[0m Moving model to device: cuda:0\n",
      "\u001b[36m(RayTrainWorker pid=3482, ip=10.0.164.18)\u001b[0m Wrapping provided model in DistributedDataParallel.\n",
      "\u001b[36m(SplitCoordinator pid=55351)\u001b[0m Registered dataset logger for dataset train_46_0\n",
      "\u001b[36m(SplitCoordinator pid=55351)\u001b[0m Starting execution of Dataset train_46_0. Full logs are in /tmp/ray/session_2025-08-21_18-48-13_464408_2298/logs/ray-data\n",
      "\u001b[36m(SplitCoordinator pid=55351)\u001b[0m Execution plan of Dataset train_46_0: InputDataBuffer[Input] -> TaskPoolMapOperator[ListFiles] -> TaskPoolMapOperator[ReadFiles] -> OutputSplitter[split(4, equal=True)]\n",
      "\u001b[36m(SplitCoordinator pid=55351)\u001b[0m ⚠️  Ray's object store is configured to use only 28.5% of available memory (500.0GB out of 1752.3GB total). For optimal Ray Data performance, we recommend setting the object store to at least 50% of available memory. You can do this by setting the 'object_store_memory' parameter when calling ray.init() or by setting the RAY_DEFAULT_OBJECT_STORE_MEMORY_PROPORTION environment variable.\n",
      "\u001b[36m(RayTrainWorker pid=3481, ip=10.0.171.239)\u001b[0m /tmp/ipykernel_44250/417303983.py:6: UserWarning: The given NumPy array is not writable, and PyTorch does not support non-writable tensors. This means writing to this tensor will result in undefined behavior. You may want to copy the array to protect its data or make it writable before converting it to a tensor. This type of warning will be suppressed for the rest of this program. (Triggered internally at /pytorch/torch/csrc/utils/tensor_numpy.cpp:203.)\n",
      "\u001b[36m(RayTrainWorker pid=3539, ip=10.0.171.239)\u001b[0m /tmp/ray/session_2025-08-21_18-48-13_464408_2298/runtime_resources/working_dir_files/_ray_pkg_f5e3d74a1b6904d1/.venv/lib/python3.12/site-packages/ray/data/iterator.py:445: RayDeprecationWarning: Passing a function to `iter_torch_batches(collate_fn)` is deprecated in Ray 2.47. Please switch to using a callable class that inherits from `ArrowBatchCollateFn`, `NumpyBatchCollateFn`, or `PandasBatchCollateFn`.\u001b[32m [repeated 3x across cluster]\u001b[0m\n",
      "\u001b[36m(RayTrainWorker pid=3539, ip=10.0.171.239)\u001b[0m   warnings.warn(\u001b[32m [repeated 3x across cluster]\u001b[0m\n",
      "\u001b[36m(SplitCoordinator pid=55351)\u001b[0m ✔️  Dataset train_46_0 execution finished in 5.09 seconds\n",
      "\u001b[36m(SplitCoordinator pid=55396)\u001b[0m Registered dataset logger for dataset val_47_0\n",
      "\u001b[36m(SplitCoordinator pid=55396)\u001b[0m Starting execution of Dataset val_47_0. Full logs are in /tmp/ray/session_2025-08-21_18-48-13_464408_2298/logs/ray-data\n",
      "\u001b[36m(SplitCoordinator pid=55396)\u001b[0m Execution plan of Dataset val_47_0: InputDataBuffer[Input] -> TaskPoolMapOperator[ListFiles] -> TaskPoolMapOperator[ReadFiles] -> OutputSplitter[split(4, equal=True)]\n",
      "\u001b[36m(SplitCoordinator pid=55396)\u001b[0m ⚠️  Ray's object store is configured to use only 28.5% of available memory (500.0GB out of 1752.3GB total). For optimal Ray Data performance, we recommend setting the object store to at least 50% of available memory. You can do this by setting the 'object_store_memory' parameter when calling ray.init() or by setting the RAY_DEFAULT_OBJECT_STORE_MEMORY_PROPORTION environment variable.\n",
      "\u001b[36m(RayTrainWorker pid=3483, ip=10.0.164.18)\u001b[0m /tmp/ipykernel_44250/417303983.py:6: UserWarning: The given NumPy array is not writable, and PyTorch does not support non-writable tensors. This means writing to this tensor will result in undefined behavior. You may want to copy the array to protect its data or make it writable before converting it to a tensor. This type of warning will be suppressed for the rest of this program. (Triggered internally at /pytorch/torch/csrc/utils/tensor_numpy.cpp:203.)\u001b[32m [repeated 3x across cluster]\u001b[0m\n",
      "\u001b[36m(SplitCoordinator pid=55351)\u001b[0m ✔️  Dataset train_46_4 execution finished in 0.94 seconds\u001b[32m [repeated 8x across cluster]\u001b[0m\n",
      "\u001b[36m(SplitCoordinator pid=55351)\u001b[0m Registered dataset logger for dataset train_46_5\u001b[32m [repeated 9x across cluster]\u001b[0m\n",
      "\u001b[36m(SplitCoordinator pid=55351)\u001b[0m Starting execution of Dataset train_46_5. Full logs are in /tmp/ray/session_2025-08-21_18-48-13_464408_2298/logs/ray-data\u001b[32m [repeated 9x across cluster]\u001b[0m\n",
      "\u001b[36m(SplitCoordinator pid=55351)\u001b[0m Execution plan of Dataset train_46_5: InputDataBuffer[Input] -> TaskPoolMapOperator[ListFiles] -> TaskPoolMapOperator[ReadFiles] -> OutputSplitter[split(4, equal=True)]\u001b[32m [repeated 9x across cluster]\u001b[0m\n",
      "\u001b[36m(SplitCoordinator pid=55351)\u001b[0m ✔️  Dataset train_46_9 execution finished in 0.67 seconds\u001b[32m [repeated 10x across cluster]\u001b[0m\n",
      "\u001b[36m(SplitCoordinator pid=55351)\u001b[0m Registered dataset logger for dataset train_46_10\u001b[32m [repeated 10x across cluster]\u001b[0m\n",
      "\u001b[36m(SplitCoordinator pid=55351)\u001b[0m Starting execution of Dataset train_46_10. Full logs are in /tmp/ray/session_2025-08-21_18-48-13_464408_2298/logs/ray-data\u001b[32m [repeated 10x across cluster]\u001b[0m\n",
      "\u001b[36m(SplitCoordinator pid=55351)\u001b[0m Execution plan of Dataset train_46_10: InputDataBuffer[Input] -> TaskPoolMapOperator[ListFiles] -> TaskPoolMapOperator[ReadFiles] -> OutputSplitter[split(4, equal=True)]\u001b[32m [repeated 10x across cluster]\u001b[0m\n",
      "\u001b[36m(SplitCoordinator pid=55396)\u001b[0m ✔️  Dataset val_47_15 execution finished in 0.13 seconds\u001b[32m [repeated 13x across cluster]\u001b[0m\n",
      "\u001b[36m(SplitCoordinator pid=55396)\u001b[0m Registered dataset logger for dataset val_47_16\u001b[32m [repeated 13x across cluster]\u001b[0m\n",
      "\u001b[36m(SplitCoordinator pid=55396)\u001b[0m Starting execution of Dataset val_47_16. Full logs are in /tmp/ray/session_2025-08-21_18-48-13_464408_2298/logs/ray-data\u001b[32m [repeated 13x across cluster]\u001b[0m\n",
      "\u001b[36m(SplitCoordinator pid=55396)\u001b[0m Execution plan of Dataset val_47_16: InputDataBuffer[Input] -> TaskPoolMapOperator[ListFiles] -> TaskPoolMapOperator[ReadFiles] -> OutputSplitter[split(4, equal=True)]\u001b[32m [repeated 13x across cluster]\u001b[0m\n",
      "\u001b[36m(TrainController pid=54671)\u001b[0m [State Transition] RUNNING -> FINISHED.\n"
     ]
    },
    {
     "data": {
      "application/vnd.jupyter.widget-view+json": {
       "model_id": "bef0ca0ef1074c3fad6ffb22ff45f704",
       "version_major": 2,
       "version_minor": 0
      },
      "text/plain": [
       "(pid=55351) Running 0: 0.00 row [00:00, ? row/s]"
      ]
     },
     "metadata": {},
     "output_type": "display_data"
    },
    {
     "data": {
      "application/vnd.jupyter.widget-view+json": {
       "model_id": "a1b439d63b674870a42e294da6bf2f4f",
       "version_major": 2,
       "version_minor": 0
      },
      "text/plain": [
       "(pid=55351) - ListFiles 1: 0.00 row [00:00, ? row/s]"
      ]
     },
     "metadata": {},
     "output_type": "display_data"
    },
    {
     "data": {
      "application/vnd.jupyter.widget-view+json": {
       "model_id": "cfeb1417649540e5aa3561b25b16f1f5",
       "version_major": 2,
       "version_minor": 0
      },
      "text/plain": [
       "(pid=55351) - ReadFiles 2: 0.00 row [00:00, ? row/s]"
      ]
     },
     "metadata": {},
     "output_type": "display_data"
    },
    {
     "data": {
      "application/vnd.jupyter.widget-view+json": {
       "model_id": "2625dafc0c6c441db13370569b37641d",
       "version_major": 2,
       "version_minor": 0
      },
      "text/plain": [
       "(pid=55351) - split(4, equal=True) 3: 0.00 row [00:00, ? row/s]"
      ]
     },
     "metadata": {},
     "output_type": "display_data"
    },
    {
     "data": {
      "application/vnd.jupyter.widget-view+json": {
       "model_id": "c3d052d8478e4efe863cdeb7b3679012",
       "version_major": 2,
       "version_minor": 0
      },
      "text/plain": [
       "(pid=55396) Running 0: 0.00 row [00:00, ? row/s]"
      ]
     },
     "metadata": {},
     "output_type": "display_data"
    },
    {
     "data": {
      "application/vnd.jupyter.widget-view+json": {
       "model_id": "60db198ff72d4d4aaf6c3d061bfee9f6",
       "version_major": 2,
       "version_minor": 0
      },
      "text/plain": [
       "(pid=55396) - ListFiles 1: 0.00 row [00:00, ? row/s]"
      ]
     },
     "metadata": {},
     "output_type": "display_data"
    },
    {
     "data": {
      "application/vnd.jupyter.widget-view+json": {
       "model_id": "490bf3ee7b92474fa360b9bb82fdcc65",
       "version_major": 2,
       "version_minor": 0
      },
      "text/plain": [
       "(pid=55396) - ReadFiles 2: 0.00 row [00:00, ? row/s]"
      ]
     },
     "metadata": {},
     "output_type": "display_data"
    },
    {
     "data": {
      "application/vnd.jupyter.widget-view+json": {
       "model_id": "0789e1be05d04efd9a9e44b2fb9c5b47",
       "version_major": 2,
       "version_minor": 0
      },
      "text/plain": [
       "(pid=55396) - split(4, equal=True) 3: 0.00 row [00:00, ? row/s]"
      ]
     },
     "metadata": {},
     "output_type": "display_data"
    },
    {
     "data": {
      "application/vnd.jupyter.widget-view+json": {
       "model_id": "11526be104994530882b7b166296d15d",
       "version_major": 2,
       "version_minor": 0
      },
      "text/plain": [
       "(pid=55351) Running 0: 0.00 row [00:00, ? row/s]"
      ]
     },
     "metadata": {},
     "output_type": "display_data"
    },
    {
     "data": {
      "application/vnd.jupyter.widget-view+json": {
       "model_id": "e755ae0d85ed4e33b390a0790ddaadd3",
       "version_major": 2,
       "version_minor": 0
      },
      "text/plain": [
       "(pid=55351) - ListFiles 1: 0.00 row [00:00, ? row/s]"
      ]
     },
     "metadata": {},
     "output_type": "display_data"
    },
    {
     "data": {
      "application/vnd.jupyter.widget-view+json": {
       "model_id": "b4bbeec24e734444bbb34235a2697504",
       "version_major": 2,
       "version_minor": 0
      },
      "text/plain": [
       "(pid=55351) - ReadFiles 2: 0.00 row [00:00, ? row/s]"
      ]
     },
     "metadata": {},
     "output_type": "display_data"
    },
    {
     "data": {
      "application/vnd.jupyter.widget-view+json": {
       "model_id": "874edad328c54778b56d13eeb9acd1ae",
       "version_major": 2,
       "version_minor": 0
      },
      "text/plain": [
       "(pid=55351) - split(4, equal=True) 3: 0.00 row [00:00, ? row/s]"
      ]
     },
     "metadata": {},
     "output_type": "display_data"
    },
    {
     "data": {
      "application/vnd.jupyter.widget-view+json": {
       "model_id": "084b558bc8d04248a8c2b84571f1f01b",
       "version_major": 2,
       "version_minor": 0
      },
      "text/plain": [
       "(pid=55396) Running 0: 0.00 row [00:00, ? row/s]"
      ]
     },
     "metadata": {},
     "output_type": "display_data"
    },
    {
     "data": {
      "application/vnd.jupyter.widget-view+json": {
       "model_id": "471d1d7f57d14c85a608ef423c70fb0a",
       "version_major": 2,
       "version_minor": 0
      },
      "text/plain": [
       "(pid=55396) - ListFiles 1: 0.00 row [00:00, ? row/s]"
      ]
     },
     "metadata": {},
     "output_type": "display_data"
    },
    {
     "data": {
      "application/vnd.jupyter.widget-view+json": {
       "model_id": "ad259c927d564495a269f6131778d558",
       "version_major": 2,
       "version_minor": 0
      },
      "text/plain": [
       "(pid=55396) - ReadFiles 2: 0.00 row [00:00, ? row/s]"
      ]
     },
     "metadata": {},
     "output_type": "display_data"
    },
    {
     "data": {
      "application/vnd.jupyter.widget-view+json": {
       "model_id": "4646d424844946af9b254d8119707222",
       "version_major": 2,
       "version_minor": 0
      },
      "text/plain": [
       "(pid=55396) - split(4, equal=True) 3: 0.00 row [00:00, ? row/s]"
      ]
     },
     "metadata": {},
     "output_type": "display_data"
    },
    {
     "data": {
      "application/vnd.jupyter.widget-view+json": {
       "model_id": "b02062eec0584f58a6585f256493eb15",
       "version_major": 2,
       "version_minor": 0
      },
      "text/plain": [
       "(pid=55351) Running 0: 0.00 row [00:00, ? row/s]"
      ]
     },
     "metadata": {},
     "output_type": "display_data"
    },
    {
     "data": {
      "application/vnd.jupyter.widget-view+json": {
       "model_id": "b8093154c15b4881955abcce647b0ed8",
       "version_major": 2,
       "version_minor": 0
      },
      "text/plain": [
       "(pid=55351) - ListFiles 1: 0.00 row [00:00, ? row/s]"
      ]
     },
     "metadata": {},
     "output_type": "display_data"
    },
    {
     "data": {
      "application/vnd.jupyter.widget-view+json": {
       "model_id": "b2012945fb5c4bb7bad14c6d16c8d9d1",
       "version_major": 2,
       "version_minor": 0
      },
      "text/plain": [
       "(pid=55351) - ReadFiles 2: 0.00 row [00:00, ? row/s]"
      ]
     },
     "metadata": {},
     "output_type": "display_data"
    },
    {
     "data": {
      "application/vnd.jupyter.widget-view+json": {
       "model_id": "bc6465d58c3a41d2b0dcdcea6ddbfb24",
       "version_major": 2,
       "version_minor": 0
      },
      "text/plain": [
       "(pid=55351) - split(4, equal=True) 3: 0.00 row [00:00, ? row/s]"
      ]
     },
     "metadata": {},
     "output_type": "display_data"
    },
    {
     "data": {
      "application/vnd.jupyter.widget-view+json": {
       "model_id": "b1e00a7090254694901d02a79d39a988",
       "version_major": 2,
       "version_minor": 0
      },
      "text/plain": [
       "(pid=55396) Running 0: 0.00 row [00:00, ? row/s]"
      ]
     },
     "metadata": {},
     "output_type": "display_data"
    },
    {
     "data": {
      "application/vnd.jupyter.widget-view+json": {
       "model_id": "b0e921ea32424dc58d20d18f5111e57f",
       "version_major": 2,
       "version_minor": 0
      },
      "text/plain": [
       "(pid=55396) - ListFiles 1: 0.00 row [00:00, ? row/s]"
      ]
     },
     "metadata": {},
     "output_type": "display_data"
    },
    {
     "data": {
      "application/vnd.jupyter.widget-view+json": {
       "model_id": "f92868474afa40dab9b570f9ecd800e8",
       "version_major": 2,
       "version_minor": 0
      },
      "text/plain": [
       "(pid=55396) - ReadFiles 2: 0.00 row [00:00, ? row/s]"
      ]
     },
     "metadata": {},
     "output_type": "display_data"
    },
    {
     "data": {
      "application/vnd.jupyter.widget-view+json": {
       "model_id": "921f2ec6757c48ccacbb23228a660ecb",
       "version_major": 2,
       "version_minor": 0
      },
      "text/plain": [
       "(pid=55396) - split(4, equal=True) 3: 0.00 row [00:00, ? row/s]"
      ]
     },
     "metadata": {},
     "output_type": "display_data"
    },
    {
     "data": {
      "application/vnd.jupyter.widget-view+json": {
       "model_id": "19249b38ad7d4000909b2d585e9f11b7",
       "version_major": 2,
       "version_minor": 0
      },
      "text/plain": [
       "(pid=55351) Running 0: 0.00 row [00:00, ? row/s]"
      ]
     },
     "metadata": {},
     "output_type": "display_data"
    },
    {
     "data": {
      "application/vnd.jupyter.widget-view+json": {
       "model_id": "ea68d0b364ad463da3efde91aa39e258",
       "version_major": 2,
       "version_minor": 0
      },
      "text/plain": [
       "(pid=55351) - ListFiles 1: 0.00 row [00:00, ? row/s]"
      ]
     },
     "metadata": {},
     "output_type": "display_data"
    },
    {
     "data": {
      "application/vnd.jupyter.widget-view+json": {
       "model_id": "9e72de00b416429aa0df56d9a2f89c18",
       "version_major": 2,
       "version_minor": 0
      },
      "text/plain": [
       "(pid=55351) - ReadFiles 2: 0.00 row [00:00, ? row/s]"
      ]
     },
     "metadata": {},
     "output_type": "display_data"
    },
    {
     "data": {
      "application/vnd.jupyter.widget-view+json": {
       "model_id": "123181f1ebb44a9eae6c0fabcf67a5f7",
       "version_major": 2,
       "version_minor": 0
      },
      "text/plain": [
       "(pid=55351) - split(4, equal=True) 3: 0.00 row [00:00, ? row/s]"
      ]
     },
     "metadata": {},
     "output_type": "display_data"
    },
    {
     "data": {
      "application/vnd.jupyter.widget-view+json": {
       "model_id": "ac4be1e1852540828a2e73e55bff8bbb",
       "version_major": 2,
       "version_minor": 0
      },
      "text/plain": [
       "(pid=55396) Running 0: 0.00 row [00:00, ? row/s]"
      ]
     },
     "metadata": {},
     "output_type": "display_data"
    },
    {
     "data": {
      "application/vnd.jupyter.widget-view+json": {
       "model_id": "b6786db5714d4bb498cc8e0c14a245bb",
       "version_major": 2,
       "version_minor": 0
      },
      "text/plain": [
       "(pid=55396) - ListFiles 1: 0.00 row [00:00, ? row/s]"
      ]
     },
     "metadata": {},
     "output_type": "display_data"
    },
    {
     "data": {
      "application/vnd.jupyter.widget-view+json": {
       "model_id": "870b9c5f0c034907b9bd523731139e22",
       "version_major": 2,
       "version_minor": 0
      },
      "text/plain": [
       "(pid=55396) - ReadFiles 2: 0.00 row [00:00, ? row/s]"
      ]
     },
     "metadata": {},
     "output_type": "display_data"
    },
    {
     "data": {
      "application/vnd.jupyter.widget-view+json": {
       "model_id": "ac7e323ded1c4b0fb79935fa06cdf8e2",
       "version_major": 2,
       "version_minor": 0
      },
      "text/plain": [
       "(pid=55396) - split(4, equal=True) 3: 0.00 row [00:00, ? row/s]"
      ]
     },
     "metadata": {},
     "output_type": "display_data"
    },
    {
     "data": {
      "application/vnd.jupyter.widget-view+json": {
       "model_id": "60ab16602b334c698bcbc04c5fa48eff",
       "version_major": 2,
       "version_minor": 0
      },
      "text/plain": [
       "(pid=55351) Running 0: 0.00 row [00:00, ? row/s]"
      ]
     },
     "metadata": {},
     "output_type": "display_data"
    },
    {
     "data": {
      "application/vnd.jupyter.widget-view+json": {
       "model_id": "9e2034a854ab445789b359b54be86d29",
       "version_major": 2,
       "version_minor": 0
      },
      "text/plain": [
       "(pid=55351) - ListFiles 1: 0.00 row [00:00, ? row/s]"
      ]
     },
     "metadata": {},
     "output_type": "display_data"
    },
    {
     "data": {
      "application/vnd.jupyter.widget-view+json": {
       "model_id": "03ce4e3885614c7fb31c148b2da61932",
       "version_major": 2,
       "version_minor": 0
      },
      "text/plain": [
       "(pid=55351) - ReadFiles 2: 0.00 row [00:00, ? row/s]"
      ]
     },
     "metadata": {},
     "output_type": "display_data"
    },
    {
     "data": {
      "application/vnd.jupyter.widget-view+json": {
       "model_id": "b0e250d6fc66487c9f508b0907e01c1c",
       "version_major": 2,
       "version_minor": 0
      },
      "text/plain": [
       "(pid=55351) - split(4, equal=True) 3: 0.00 row [00:00, ? row/s]"
      ]
     },
     "metadata": {},
     "output_type": "display_data"
    },
    {
     "data": {
      "application/vnd.jupyter.widget-view+json": {
       "model_id": "908b23269d10452490999460f383e9cc",
       "version_major": 2,
       "version_minor": 0
      },
      "text/plain": [
       "(pid=55396) Running 0: 0.00 row [00:00, ? row/s]"
      ]
     },
     "metadata": {},
     "output_type": "display_data"
    },
    {
     "data": {
      "application/vnd.jupyter.widget-view+json": {
       "model_id": "3acd4f65d8b847a4bacf1dd2b6142c7b",
       "version_major": 2,
       "version_minor": 0
      },
      "text/plain": [
       "(pid=55396) - ListFiles 1: 0.00 row [00:00, ? row/s]"
      ]
     },
     "metadata": {},
     "output_type": "display_data"
    },
    {
     "data": {
      "application/vnd.jupyter.widget-view+json": {
       "model_id": "65f6f52f1d314cefa6ae39742af31000",
       "version_major": 2,
       "version_minor": 0
      },
      "text/plain": [
       "(pid=55396) - ReadFiles 2: 0.00 row [00:00, ? row/s]"
      ]
     },
     "metadata": {},
     "output_type": "display_data"
    },
    {
     "data": {
      "application/vnd.jupyter.widget-view+json": {
       "model_id": "5f90e48049a747d29f185f17d651bcf1",
       "version_major": 2,
       "version_minor": 0
      },
      "text/plain": [
       "(pid=55396) - split(4, equal=True) 3: 0.00 row [00:00, ? row/s]"
      ]
     },
     "metadata": {},
     "output_type": "display_data"
    },
    {
     "data": {
      "application/vnd.jupyter.widget-view+json": {
       "model_id": "6e0eaa5244f64b61870f850640029dec",
       "version_major": 2,
       "version_minor": 0
      },
      "text/plain": [
       "(pid=55351) Running 0: 0.00 row [00:00, ? row/s]"
      ]
     },
     "metadata": {},
     "output_type": "display_data"
    },
    {
     "data": {
      "application/vnd.jupyter.widget-view+json": {
       "model_id": "2a8b1bb6343c482f833c814a3c9c88b6",
       "version_major": 2,
       "version_minor": 0
      },
      "text/plain": [
       "(pid=55351) - ListFiles 1: 0.00 row [00:00, ? row/s]"
      ]
     },
     "metadata": {},
     "output_type": "display_data"
    },
    {
     "data": {
      "application/vnd.jupyter.widget-view+json": {
       "model_id": "8af78908407245d2b4d7526706a64840",
       "version_major": 2,
       "version_minor": 0
      },
      "text/plain": [
       "(pid=55351) - ReadFiles 2: 0.00 row [00:00, ? row/s]"
      ]
     },
     "metadata": {},
     "output_type": "display_data"
    },
    {
     "data": {
      "application/vnd.jupyter.widget-view+json": {
       "model_id": "4bf3c40f583a487585990e590fed7a4a",
       "version_major": 2,
       "version_minor": 0
      },
      "text/plain": [
       "(pid=55351) - split(4, equal=True) 3: 0.00 row [00:00, ? row/s]"
      ]
     },
     "metadata": {},
     "output_type": "display_data"
    },
    {
     "data": {
      "application/vnd.jupyter.widget-view+json": {
       "model_id": "5bc92c8c01d04e2b9eb4306cf87b7690",
       "version_major": 2,
       "version_minor": 0
      },
      "text/plain": [
       "(pid=55396) Running 0: 0.00 row [00:00, ? row/s]"
      ]
     },
     "metadata": {},
     "output_type": "display_data"
    },
    {
     "data": {
      "application/vnd.jupyter.widget-view+json": {
       "model_id": "7de78a88f2804c9c8752fadfae4684b5",
       "version_major": 2,
       "version_minor": 0
      },
      "text/plain": [
       "(pid=55396) - ListFiles 1: 0.00 row [00:00, ? row/s]"
      ]
     },
     "metadata": {},
     "output_type": "display_data"
    },
    {
     "data": {
      "application/vnd.jupyter.widget-view+json": {
       "model_id": "9f6061d4bf104fcd90ea2aed91560770",
       "version_major": 2,
       "version_minor": 0
      },
      "text/plain": [
       "(pid=55396) - ReadFiles 2: 0.00 row [00:00, ? row/s]"
      ]
     },
     "metadata": {},
     "output_type": "display_data"
    },
    {
     "data": {
      "application/vnd.jupyter.widget-view+json": {
       "model_id": "ccdfed5bf7cf4a09a3fb0b6c68d9b7de",
       "version_major": 2,
       "version_minor": 0
      },
      "text/plain": [
       "(pid=55396) - split(4, equal=True) 3: 0.00 row [00:00, ? row/s]"
      ]
     },
     "metadata": {},
     "output_type": "display_data"
    },
    {
     "data": {
      "application/vnd.jupyter.widget-view+json": {
       "model_id": "e8fee5737fb1483f8354bad6b1eb39e3",
       "version_major": 2,
       "version_minor": 0
      },
      "text/plain": [
       "(pid=55351) Running 0: 0.00 row [00:00, ? row/s]"
      ]
     },
     "metadata": {},
     "output_type": "display_data"
    },
    {
     "data": {
      "application/vnd.jupyter.widget-view+json": {
       "model_id": "0d30c0c31f5a41e0944cd7e688bfeeed",
       "version_major": 2,
       "version_minor": 0
      },
      "text/plain": [
       "(pid=55351) - ListFiles 1: 0.00 row [00:00, ? row/s]"
      ]
     },
     "metadata": {},
     "output_type": "display_data"
    },
    {
     "data": {
      "application/vnd.jupyter.widget-view+json": {
       "model_id": "c4637323e4d742628e38019a1c42223e",
       "version_major": 2,
       "version_minor": 0
      },
      "text/plain": [
       "(pid=55351) - ReadFiles 2: 0.00 row [00:00, ? row/s]"
      ]
     },
     "metadata": {},
     "output_type": "display_data"
    },
    {
     "data": {
      "application/vnd.jupyter.widget-view+json": {
       "model_id": "a51c6b64420841f49baeb876a91a6345",
       "version_major": 2,
       "version_minor": 0
      },
      "text/plain": [
       "(pid=55351) - split(4, equal=True) 3: 0.00 row [00:00, ? row/s]"
      ]
     },
     "metadata": {},
     "output_type": "display_data"
    },
    {
     "data": {
      "application/vnd.jupyter.widget-view+json": {
       "model_id": "f13a5a37a9894a9e94264fedc3206ed1",
       "version_major": 2,
       "version_minor": 0
      },
      "text/plain": [
       "(pid=55396) Running 0: 0.00 row [00:00, ? row/s]"
      ]
     },
     "metadata": {},
     "output_type": "display_data"
    },
    {
     "data": {
      "application/vnd.jupyter.widget-view+json": {
       "model_id": "89ab75a9a66b44d99f632ff998fa8902",
       "version_major": 2,
       "version_minor": 0
      },
      "text/plain": [
       "(pid=55396) - ListFiles 1: 0.00 row [00:00, ? row/s]"
      ]
     },
     "metadata": {},
     "output_type": "display_data"
    },
    {
     "data": {
      "application/vnd.jupyter.widget-view+json": {
       "model_id": "a88be39e554a436aa95eb4f7581c0a99",
       "version_major": 2,
       "version_minor": 0
      },
      "text/plain": [
       "(pid=55396) - ReadFiles 2: 0.00 row [00:00, ? row/s]"
      ]
     },
     "metadata": {},
     "output_type": "display_data"
    },
    {
     "data": {
      "application/vnd.jupyter.widget-view+json": {
       "model_id": "95d364f11b8847fdb6ab9755cbf2d1de",
       "version_major": 2,
       "version_minor": 0
      },
      "text/plain": [
       "(pid=55396) - split(4, equal=True) 3: 0.00 row [00:00, ? row/s]"
      ]
     },
     "metadata": {},
     "output_type": "display_data"
    },
    {
     "data": {
      "application/vnd.jupyter.widget-view+json": {
       "model_id": "abd56c7b18614d6998158b7db68fe317",
       "version_major": 2,
       "version_minor": 0
      },
      "text/plain": [
       "(pid=55351) Running 0: 0.00 row [00:00, ? row/s]"
      ]
     },
     "metadata": {},
     "output_type": "display_data"
    },
    {
     "data": {
      "application/vnd.jupyter.widget-view+json": {
       "model_id": "b513b7847a894ee0a20542da640eda43",
       "version_major": 2,
       "version_minor": 0
      },
      "text/plain": [
       "(pid=55351) - ListFiles 1: 0.00 row [00:00, ? row/s]"
      ]
     },
     "metadata": {},
     "output_type": "display_data"
    },
    {
     "data": {
      "application/vnd.jupyter.widget-view+json": {
       "model_id": "8f8b4060c42a461b8ffa3d9b5b703d5e",
       "version_major": 2,
       "version_minor": 0
      },
      "text/plain": [
       "(pid=55351) - ReadFiles 2: 0.00 row [00:00, ? row/s]"
      ]
     },
     "metadata": {},
     "output_type": "display_data"
    },
    {
     "data": {
      "application/vnd.jupyter.widget-view+json": {
       "model_id": "efe542d766194ecca38fd21c5911de54",
       "version_major": 2,
       "version_minor": 0
      },
      "text/plain": [
       "(pid=55351) - split(4, equal=True) 3: 0.00 row [00:00, ? row/s]"
      ]
     },
     "metadata": {},
     "output_type": "display_data"
    },
    {
     "data": {
      "application/vnd.jupyter.widget-view+json": {
       "model_id": "0e6aa4ab72e64b8ba381ab51d6fa3038",
       "version_major": 2,
       "version_minor": 0
      },
      "text/plain": [
       "(pid=55396) Running 0: 0.00 row [00:00, ? row/s]"
      ]
     },
     "metadata": {},
     "output_type": "display_data"
    },
    {
     "data": {
      "application/vnd.jupyter.widget-view+json": {
       "model_id": "715c1e4d49b24526a5c0dd8df2b13bc4",
       "version_major": 2,
       "version_minor": 0
      },
      "text/plain": [
       "(pid=55396) - ListFiles 1: 0.00 row [00:00, ? row/s]"
      ]
     },
     "metadata": {},
     "output_type": "display_data"
    },
    {
     "data": {
      "application/vnd.jupyter.widget-view+json": {
       "model_id": "5337438caf8e49a29ed0aa870cca70b8",
       "version_major": 2,
       "version_minor": 0
      },
      "text/plain": [
       "(pid=55396) - ReadFiles 2: 0.00 row [00:00, ? row/s]"
      ]
     },
     "metadata": {},
     "output_type": "display_data"
    },
    {
     "data": {
      "application/vnd.jupyter.widget-view+json": {
       "model_id": "002ac9d670fd4964ae19580395d06c29",
       "version_major": 2,
       "version_minor": 0
      },
      "text/plain": [
       "(pid=55396) - split(4, equal=True) 3: 0.00 row [00:00, ? row/s]"
      ]
     },
     "metadata": {},
     "output_type": "display_data"
    },
    {
     "data": {
      "application/vnd.jupyter.widget-view+json": {
       "model_id": "09132bd3c6294ccc80aa72f1b838799e",
       "version_major": 2,
       "version_minor": 0
      },
      "text/plain": [
       "(pid=55351) Running 0: 0.00 row [00:00, ? row/s]"
      ]
     },
     "metadata": {},
     "output_type": "display_data"
    },
    {
     "data": {
      "application/vnd.jupyter.widget-view+json": {
       "model_id": "d8d1edcb48564e99a1a895b740158539",
       "version_major": 2,
       "version_minor": 0
      },
      "text/plain": [
       "(pid=55351) - ListFiles 1: 0.00 row [00:00, ? row/s]"
      ]
     },
     "metadata": {},
     "output_type": "display_data"
    },
    {
     "data": {
      "application/vnd.jupyter.widget-view+json": {
       "model_id": "8f297e9118a64ab2a293c4b432e6e804",
       "version_major": 2,
       "version_minor": 0
      },
      "text/plain": [
       "(pid=55351) - ReadFiles 2: 0.00 row [00:00, ? row/s]"
      ]
     },
     "metadata": {},
     "output_type": "display_data"
    },
    {
     "data": {
      "application/vnd.jupyter.widget-view+json": {
       "model_id": "778d17a3aaa74fe1ba90c94210b59f67",
       "version_major": 2,
       "version_minor": 0
      },
      "text/plain": [
       "(pid=55351) - split(4, equal=True) 3: 0.00 row [00:00, ? row/s]"
      ]
     },
     "metadata": {},
     "output_type": "display_data"
    },
    {
     "data": {
      "application/vnd.jupyter.widget-view+json": {
       "model_id": "0d40cb80eb164e64a32d14bae5f96c6a",
       "version_major": 2,
       "version_minor": 0
      },
      "text/plain": [
       "(pid=55396) Running 0: 0.00 row [00:00, ? row/s]"
      ]
     },
     "metadata": {},
     "output_type": "display_data"
    },
    {
     "data": {
      "application/vnd.jupyter.widget-view+json": {
       "model_id": "09a87331c7bb421fb0b39e994f74a074",
       "version_major": 2,
       "version_minor": 0
      },
      "text/plain": [
       "(pid=55396) - ListFiles 1: 0.00 row [00:00, ? row/s]"
      ]
     },
     "metadata": {},
     "output_type": "display_data"
    },
    {
     "data": {
      "application/vnd.jupyter.widget-view+json": {
       "model_id": "7ce9b8c317d94f409bc1f4c3283fa402",
       "version_major": 2,
       "version_minor": 0
      },
      "text/plain": [
       "(pid=55396) - ReadFiles 2: 0.00 row [00:00, ? row/s]"
      ]
     },
     "metadata": {},
     "output_type": "display_data"
    },
    {
     "data": {
      "application/vnd.jupyter.widget-view+json": {
       "model_id": "539e048b04524be6b8afa2f8c2e4beef",
       "version_major": 2,
       "version_minor": 0
      },
      "text/plain": [
       "(pid=55396) - split(4, equal=True) 3: 0.00 row [00:00, ? row/s]"
      ]
     },
     "metadata": {},
     "output_type": "display_data"
    },
    {
     "data": {
      "application/vnd.jupyter.widget-view+json": {
       "model_id": "677681077a1149db80e14d53bfc15994",
       "version_major": 2,
       "version_minor": 0
      },
      "text/plain": [
       "(pid=55351) Running 0: 0.00 row [00:00, ? row/s]"
      ]
     },
     "metadata": {},
     "output_type": "display_data"
    },
    {
     "data": {
      "application/vnd.jupyter.widget-view+json": {
       "model_id": "f78919c445d244a9a8fd15dac06e0c53",
       "version_major": 2,
       "version_minor": 0
      },
      "text/plain": [
       "(pid=55351) - ListFiles 1: 0.00 row [00:00, ? row/s]"
      ]
     },
     "metadata": {},
     "output_type": "display_data"
    },
    {
     "data": {
      "application/vnd.jupyter.widget-view+json": {
       "model_id": "2eab9010db6b4ac2aae732fb09bf41aa",
       "version_major": 2,
       "version_minor": 0
      },
      "text/plain": [
       "(pid=55351) - ReadFiles 2: 0.00 row [00:00, ? row/s]"
      ]
     },
     "metadata": {},
     "output_type": "display_data"
    },
    {
     "data": {
      "application/vnd.jupyter.widget-view+json": {
       "model_id": "89f505b600fe49d69d802ce7da167223",
       "version_major": 2,
       "version_minor": 0
      },
      "text/plain": [
       "(pid=55351) - split(4, equal=True) 3: 0.00 row [00:00, ? row/s]"
      ]
     },
     "metadata": {},
     "output_type": "display_data"
    },
    {
     "data": {
      "application/vnd.jupyter.widget-view+json": {
       "model_id": "0571d7e7c4d145cfb832154b2a57ba94",
       "version_major": 2,
       "version_minor": 0
      },
      "text/plain": [
       "(pid=55396) Running 0: 0.00 row [00:00, ? row/s]"
      ]
     },
     "metadata": {},
     "output_type": "display_data"
    },
    {
     "data": {
      "application/vnd.jupyter.widget-view+json": {
       "model_id": "6fe51618991d4db79544286083db1704",
       "version_major": 2,
       "version_minor": 0
      },
      "text/plain": [
       "(pid=55396) - ListFiles 1: 0.00 row [00:00, ? row/s]"
      ]
     },
     "metadata": {},
     "output_type": "display_data"
    },
    {
     "data": {
      "application/vnd.jupyter.widget-view+json": {
       "model_id": "36b4fc3122da4ad8a7c49e87ddca2a02",
       "version_major": 2,
       "version_minor": 0
      },
      "text/plain": [
       "(pid=55396) - ReadFiles 2: 0.00 row [00:00, ? row/s]"
      ]
     },
     "metadata": {},
     "output_type": "display_data"
    },
    {
     "data": {
      "application/vnd.jupyter.widget-view+json": {
       "model_id": "0cabb743bca844ada442ce3f7a07da0e",
       "version_major": 2,
       "version_minor": 0
      },
      "text/plain": [
       "(pid=55396) - split(4, equal=True) 3: 0.00 row [00:00, ? row/s]"
      ]
     },
     "metadata": {},
     "output_type": "display_data"
    },
    {
     "data": {
      "application/vnd.jupyter.widget-view+json": {
       "model_id": "f863e95f466c4d81808c26ab869135e0",
       "version_major": 2,
       "version_minor": 0
      },
      "text/plain": [
       "(pid=55351) Running 0: 0.00 row [00:00, ? row/s]"
      ]
     },
     "metadata": {},
     "output_type": "display_data"
    },
    {
     "data": {
      "application/vnd.jupyter.widget-view+json": {
       "model_id": "fd6da3c80caa42b99bbc053183256dca",
       "version_major": 2,
       "version_minor": 0
      },
      "text/plain": [
       "(pid=55351) - ListFiles 1: 0.00 row [00:00, ? row/s]"
      ]
     },
     "metadata": {},
     "output_type": "display_data"
    },
    {
     "data": {
      "application/vnd.jupyter.widget-view+json": {
       "model_id": "879bad8541664a36b890677fb02e536c",
       "version_major": 2,
       "version_minor": 0
      },
      "text/plain": [
       "(pid=55351) - ReadFiles 2: 0.00 row [00:00, ? row/s]"
      ]
     },
     "metadata": {},
     "output_type": "display_data"
    },
    {
     "data": {
      "application/vnd.jupyter.widget-view+json": {
       "model_id": "cd99c60a78c44396a790b735a857dd5a",
       "version_major": 2,
       "version_minor": 0
      },
      "text/plain": [
       "(pid=55351) - split(4, equal=True) 3: 0.00 row [00:00, ? row/s]"
      ]
     },
     "metadata": {},
     "output_type": "display_data"
    },
    {
     "data": {
      "application/vnd.jupyter.widget-view+json": {
       "model_id": "47c275b4cc4e48329c4dca1bd0ae0d44",
       "version_major": 2,
       "version_minor": 0
      },
      "text/plain": [
       "(pid=55396) Running 0: 0.00 row [00:00, ? row/s]"
      ]
     },
     "metadata": {},
     "output_type": "display_data"
    },
    {
     "data": {
      "application/vnd.jupyter.widget-view+json": {
       "model_id": "b87ba770d591436c8259090ee5a56adc",
       "version_major": 2,
       "version_minor": 0
      },
      "text/plain": [
       "(pid=55396) - ListFiles 1: 0.00 row [00:00, ? row/s]"
      ]
     },
     "metadata": {},
     "output_type": "display_data"
    },
    {
     "data": {
      "application/vnd.jupyter.widget-view+json": {
       "model_id": "c292992a4f1c47fda76d0451bebf849b",
       "version_major": 2,
       "version_minor": 0
      },
      "text/plain": [
       "(pid=55396) - ReadFiles 2: 0.00 row [00:00, ? row/s]"
      ]
     },
     "metadata": {},
     "output_type": "display_data"
    },
    {
     "data": {
      "application/vnd.jupyter.widget-view+json": {
       "model_id": "f1c51bc7a279408cbe112fb6cdfce365",
       "version_major": 2,
       "version_minor": 0
      },
      "text/plain": [
       "(pid=55396) - split(4, equal=True) 3: 0.00 row [00:00, ? row/s]"
      ]
     },
     "metadata": {},
     "output_type": "display_data"
    },
    {
     "data": {
      "application/vnd.jupyter.widget-view+json": {
       "model_id": "26469987f7e841b4b7838d73db09a46c",
       "version_major": 2,
       "version_minor": 0
      },
      "text/plain": [
       "(pid=55351) Running 0: 0.00 row [00:00, ? row/s]"
      ]
     },
     "metadata": {},
     "output_type": "display_data"
    },
    {
     "data": {
      "application/vnd.jupyter.widget-view+json": {
       "model_id": "ee1d06322d954d1b96f65066f4edf2a3",
       "version_major": 2,
       "version_minor": 0
      },
      "text/plain": [
       "(pid=55351) - ListFiles 1: 0.00 row [00:00, ? row/s]"
      ]
     },
     "metadata": {},
     "output_type": "display_data"
    },
    {
     "data": {
      "application/vnd.jupyter.widget-view+json": {
       "model_id": "1f956a6fd4604a05924f14b45542e561",
       "version_major": 2,
       "version_minor": 0
      },
      "text/plain": [
       "(pid=55351) - ReadFiles 2: 0.00 row [00:00, ? row/s]"
      ]
     },
     "metadata": {},
     "output_type": "display_data"
    },
    {
     "data": {
      "application/vnd.jupyter.widget-view+json": {
       "model_id": "9b17e0e5a09943aca96cda827716dbf1",
       "version_major": 2,
       "version_minor": 0
      },
      "text/plain": [
       "(pid=55351) - split(4, equal=True) 3: 0.00 row [00:00, ? row/s]"
      ]
     },
     "metadata": {},
     "output_type": "display_data"
    },
    {
     "data": {
      "application/vnd.jupyter.widget-view+json": {
       "model_id": "c4daff4bc85f4639befbbfc2d17af2f6",
       "version_major": 2,
       "version_minor": 0
      },
      "text/plain": [
       "(pid=55396) Running 0: 0.00 row [00:00, ? row/s]"
      ]
     },
     "metadata": {},
     "output_type": "display_data"
    },
    {
     "data": {
      "application/vnd.jupyter.widget-view+json": {
       "model_id": "50476561f9ca4a9d962595099fd9bbb8",
       "version_major": 2,
       "version_minor": 0
      },
      "text/plain": [
       "(pid=55396) - ListFiles 1: 0.00 row [00:00, ? row/s]"
      ]
     },
     "metadata": {},
     "output_type": "display_data"
    },
    {
     "data": {
      "application/vnd.jupyter.widget-view+json": {
       "model_id": "d4830ac95f674a0c8e90f9a0f7efa9cd",
       "version_major": 2,
       "version_minor": 0
      },
      "text/plain": [
       "(pid=55396) - ReadFiles 2: 0.00 row [00:00, ? row/s]"
      ]
     },
     "metadata": {},
     "output_type": "display_data"
    },
    {
     "data": {
      "application/vnd.jupyter.widget-view+json": {
       "model_id": "00c6d34b14034e6ab64f17c25386dc45",
       "version_major": 2,
       "version_minor": 0
      },
      "text/plain": [
       "(pid=55396) - split(4, equal=True) 3: 0.00 row [00:00, ? row/s]"
      ]
     },
     "metadata": {},
     "output_type": "display_data"
    },
    {
     "data": {
      "application/vnd.jupyter.widget-view+json": {
       "model_id": "7fdb5c4009194095b9cd7a8f5921cce2",
       "version_major": 2,
       "version_minor": 0
      },
      "text/plain": [
       "(pid=55351) Running 0: 0.00 row [00:00, ? row/s]"
      ]
     },
     "metadata": {},
     "output_type": "display_data"
    },
    {
     "data": {
      "application/vnd.jupyter.widget-view+json": {
       "model_id": "7a780cec6b294abf8b5983901d1bfec9",
       "version_major": 2,
       "version_minor": 0
      },
      "text/plain": [
       "(pid=55351) - ListFiles 1: 0.00 row [00:00, ? row/s]"
      ]
     },
     "metadata": {},
     "output_type": "display_data"
    },
    {
     "data": {
      "application/vnd.jupyter.widget-view+json": {
       "model_id": "aefa8840a0df4abfb8b1c16b2256fa7f",
       "version_major": 2,
       "version_minor": 0
      },
      "text/plain": [
       "(pid=55351) - ReadFiles 2: 0.00 row [00:00, ? row/s]"
      ]
     },
     "metadata": {},
     "output_type": "display_data"
    },
    {
     "data": {
      "application/vnd.jupyter.widget-view+json": {
       "model_id": "7f21f695e6e54a2694fb6cc845b10c1a",
       "version_major": 2,
       "version_minor": 0
      },
      "text/plain": [
       "(pid=55351) - split(4, equal=True) 3: 0.00 row [00:00, ? row/s]"
      ]
     },
     "metadata": {},
     "output_type": "display_data"
    },
    {
     "data": {
      "application/vnd.jupyter.widget-view+json": {
       "model_id": "b0b6749b13b34f00a3335178a82dfe74",
       "version_major": 2,
       "version_minor": 0
      },
      "text/plain": [
       "(pid=55396) Running 0: 0.00 row [00:00, ? row/s]"
      ]
     },
     "metadata": {},
     "output_type": "display_data"
    },
    {
     "data": {
      "application/vnd.jupyter.widget-view+json": {
       "model_id": "b4fb62ea322c49e4845eaab2df2ea6ec",
       "version_major": 2,
       "version_minor": 0
      },
      "text/plain": [
       "(pid=55396) - ListFiles 1: 0.00 row [00:00, ? row/s]"
      ]
     },
     "metadata": {},
     "output_type": "display_data"
    },
    {
     "data": {
      "application/vnd.jupyter.widget-view+json": {
       "model_id": "d26b28ea0e8c4ebc88390e93c1898f89",
       "version_major": 2,
       "version_minor": 0
      },
      "text/plain": [
       "(pid=55396) - ReadFiles 2: 0.00 row [00:00, ? row/s]"
      ]
     },
     "metadata": {},
     "output_type": "display_data"
    },
    {
     "data": {
      "application/vnd.jupyter.widget-view+json": {
       "model_id": "3ac5df0367494350836da78cb961c445",
       "version_major": 2,
       "version_minor": 0
      },
      "text/plain": [
       "(pid=55396) - split(4, equal=True) 3: 0.00 row [00:00, ? row/s]"
      ]
     },
     "metadata": {},
     "output_type": "display_data"
    },
    {
     "data": {
      "application/vnd.jupyter.widget-view+json": {
       "model_id": "6c0bea3c4ed24e6d8cd0af4dee83cc9b",
       "version_major": 2,
       "version_minor": 0
      },
      "text/plain": [
       "(pid=55351) Running 0: 0.00 row [00:00, ? row/s]"
      ]
     },
     "metadata": {},
     "output_type": "display_data"
    },
    {
     "data": {
      "application/vnd.jupyter.widget-view+json": {
       "model_id": "69b36c382a9741fd98f27bc60f99c3a2",
       "version_major": 2,
       "version_minor": 0
      },
      "text/plain": [
       "(pid=55351) - ListFiles 1: 0.00 row [00:00, ? row/s]"
      ]
     },
     "metadata": {},
     "output_type": "display_data"
    },
    {
     "data": {
      "application/vnd.jupyter.widget-view+json": {
       "model_id": "fc4459baab4f480fb9cf6cbff8d8d31c",
       "version_major": 2,
       "version_minor": 0
      },
      "text/plain": [
       "(pid=55351) - ReadFiles 2: 0.00 row [00:00, ? row/s]"
      ]
     },
     "metadata": {},
     "output_type": "display_data"
    },
    {
     "data": {
      "application/vnd.jupyter.widget-view+json": {
       "model_id": "0e7ad8995f134c58bdbad50e116cd277",
       "version_major": 2,
       "version_minor": 0
      },
      "text/plain": [
       "(pid=55351) - split(4, equal=True) 3: 0.00 row [00:00, ? row/s]"
      ]
     },
     "metadata": {},
     "output_type": "display_data"
    },
    {
     "data": {
      "application/vnd.jupyter.widget-view+json": {
       "model_id": "120194ebcf8c4aeaa5acf3cf9509c40d",
       "version_major": 2,
       "version_minor": 0
      },
      "text/plain": [
       "(pid=55396) Running 0: 0.00 row [00:00, ? row/s]"
      ]
     },
     "metadata": {},
     "output_type": "display_data"
    },
    {
     "data": {
      "application/vnd.jupyter.widget-view+json": {
       "model_id": "f98ae085f8304f25b9be07dc524c7ad9",
       "version_major": 2,
       "version_minor": 0
      },
      "text/plain": [
       "(pid=55396) - ListFiles 1: 0.00 row [00:00, ? row/s]"
      ]
     },
     "metadata": {},
     "output_type": "display_data"
    },
    {
     "data": {
      "application/vnd.jupyter.widget-view+json": {
       "model_id": "ff7dadbfeaab451f84ad2308a67ee9aa",
       "version_major": 2,
       "version_minor": 0
      },
      "text/plain": [
       "(pid=55396) - ReadFiles 2: 0.00 row [00:00, ? row/s]"
      ]
     },
     "metadata": {},
     "output_type": "display_data"
    },
    {
     "data": {
      "application/vnd.jupyter.widget-view+json": {
       "model_id": "45d85f11e12a4f4db2c6afd8722f6fbc",
       "version_major": 2,
       "version_minor": 0
      },
      "text/plain": [
       "(pid=55396) - split(4, equal=True) 3: 0.00 row [00:00, ? row/s]"
      ]
     },
     "metadata": {},
     "output_type": "display_data"
    },
    {
     "data": {
      "application/vnd.jupyter.widget-view+json": {
       "model_id": "ffb5f25876cf4f98b056347d43f7fc38",
       "version_major": 2,
       "version_minor": 0
      },
      "text/plain": [
       "(pid=55351) Running 0: 0.00 row [00:00, ? row/s]"
      ]
     },
     "metadata": {},
     "output_type": "display_data"
    },
    {
     "data": {
      "application/vnd.jupyter.widget-view+json": {
       "model_id": "fb4e7d6fbc5c4d3db72dc129e6982f76",
       "version_major": 2,
       "version_minor": 0
      },
      "text/plain": [
       "(pid=55351) - ListFiles 1: 0.00 row [00:00, ? row/s]"
      ]
     },
     "metadata": {},
     "output_type": "display_data"
    },
    {
     "data": {
      "application/vnd.jupyter.widget-view+json": {
       "model_id": "de8b2efdb01143cd983c35266e9f04b6",
       "version_major": 2,
       "version_minor": 0
      },
      "text/plain": [
       "(pid=55351) - ReadFiles 2: 0.00 row [00:00, ? row/s]"
      ]
     },
     "metadata": {},
     "output_type": "display_data"
    },
    {
     "data": {
      "application/vnd.jupyter.widget-view+json": {
       "model_id": "0699de72c9e24592a11f3fb0fff78302",
       "version_major": 2,
       "version_minor": 0
      },
      "text/plain": [
       "(pid=55351) - split(4, equal=True) 3: 0.00 row [00:00, ? row/s]"
      ]
     },
     "metadata": {},
     "output_type": "display_data"
    },
    {
     "data": {
      "application/vnd.jupyter.widget-view+json": {
       "model_id": "ad28160a845d497ab579b88968b80c2a",
       "version_major": 2,
       "version_minor": 0
      },
      "text/plain": [
       "(pid=55396) Running 0: 0.00 row [00:00, ? row/s]"
      ]
     },
     "metadata": {},
     "output_type": "display_data"
    },
    {
     "data": {
      "application/vnd.jupyter.widget-view+json": {
       "model_id": "ebcbccaf05934ee88d02cb441bc78b79",
       "version_major": 2,
       "version_minor": 0
      },
      "text/plain": [
       "(pid=55396) - ListFiles 1: 0.00 row [00:00, ? row/s]"
      ]
     },
     "metadata": {},
     "output_type": "display_data"
    },
    {
     "data": {
      "application/vnd.jupyter.widget-view+json": {
       "model_id": "bc3d089fa0a34068bc2631261351d38f",
       "version_major": 2,
       "version_minor": 0
      },
      "text/plain": [
       "(pid=55396) - ReadFiles 2: 0.00 row [00:00, ? row/s]"
      ]
     },
     "metadata": {},
     "output_type": "display_data"
    },
    {
     "data": {
      "application/vnd.jupyter.widget-view+json": {
       "model_id": "b6d79b0d3d1e44a5b82328ec384befe9",
       "version_major": 2,
       "version_minor": 0
      },
      "text/plain": [
       "(pid=55396) - split(4, equal=True) 3: 0.00 row [00:00, ? row/s]"
      ]
     },
     "metadata": {},
     "output_type": "display_data"
    },
    {
     "data": {
      "application/vnd.jupyter.widget-view+json": {
       "model_id": "1a6b95c3b5484ec9a46518dcb21676cc",
       "version_major": 2,
       "version_minor": 0
      },
      "text/plain": [
       "(pid=55351) Running 0: 0.00 row [00:00, ? row/s]"
      ]
     },
     "metadata": {},
     "output_type": "display_data"
    },
    {
     "data": {
      "application/vnd.jupyter.widget-view+json": {
       "model_id": "cb346535668e4c4caf1c3c1f3c1a85f4",
       "version_major": 2,
       "version_minor": 0
      },
      "text/plain": [
       "(pid=55351) - ListFiles 1: 0.00 row [00:00, ? row/s]"
      ]
     },
     "metadata": {},
     "output_type": "display_data"
    },
    {
     "data": {
      "application/vnd.jupyter.widget-view+json": {
       "model_id": "4ef393d1c6e940778560acc5a72f4cd8",
       "version_major": 2,
       "version_minor": 0
      },
      "text/plain": [
       "(pid=55351) - ReadFiles 2: 0.00 row [00:00, ? row/s]"
      ]
     },
     "metadata": {},
     "output_type": "display_data"
    },
    {
     "data": {
      "application/vnd.jupyter.widget-view+json": {
       "model_id": "d75b43f5cc3447909b58537e0e292fe7",
       "version_major": 2,
       "version_minor": 0
      },
      "text/plain": [
       "(pid=55351) - split(4, equal=True) 3: 0.00 row [00:00, ? row/s]"
      ]
     },
     "metadata": {},
     "output_type": "display_data"
    },
    {
     "data": {
      "application/vnd.jupyter.widget-view+json": {
       "model_id": "a0113f47409f474c9f705f8a9556ff54",
       "version_major": 2,
       "version_minor": 0
      },
      "text/plain": [
       "(pid=55396) Running 0: 0.00 row [00:00, ? row/s]"
      ]
     },
     "metadata": {},
     "output_type": "display_data"
    },
    {
     "data": {
      "application/vnd.jupyter.widget-view+json": {
       "model_id": "976eb484eb814887b17bfd28a1ff219b",
       "version_major": 2,
       "version_minor": 0
      },
      "text/plain": [
       "(pid=55396) - ListFiles 1: 0.00 row [00:00, ? row/s]"
      ]
     },
     "metadata": {},
     "output_type": "display_data"
    },
    {
     "data": {
      "application/vnd.jupyter.widget-view+json": {
       "model_id": "4d5adcea33b34c8d867588cf497cabd0",
       "version_major": 2,
       "version_minor": 0
      },
      "text/plain": [
       "(pid=55396) - ReadFiles 2: 0.00 row [00:00, ? row/s]"
      ]
     },
     "metadata": {},
     "output_type": "display_data"
    },
    {
     "data": {
      "application/vnd.jupyter.widget-view+json": {
       "model_id": "18445fe4c60949a1a244ea3d1aaae42a",
       "version_major": 2,
       "version_minor": 0
      },
      "text/plain": [
       "(pid=55396) - split(4, equal=True) 3: 0.00 row [00:00, ? row/s]"
      ]
     },
     "metadata": {},
     "output_type": "display_data"
    },
    {
     "data": {
      "application/vnd.jupyter.widget-view+json": {
       "model_id": "8b89c29345354ce8a92b6cb35fb080b7",
       "version_major": 2,
       "version_minor": 0
      },
      "text/plain": [
       "(pid=55351) Running 0: 0.00 row [00:00, ? row/s]"
      ]
     },
     "metadata": {},
     "output_type": "display_data"
    },
    {
     "data": {
      "application/vnd.jupyter.widget-view+json": {
       "model_id": "9cb695044def4d819ccaa37f263b1ecb",
       "version_major": 2,
       "version_minor": 0
      },
      "text/plain": [
       "(pid=55351) - ListFiles 1: 0.00 row [00:00, ? row/s]"
      ]
     },
     "metadata": {},
     "output_type": "display_data"
    },
    {
     "data": {
      "application/vnd.jupyter.widget-view+json": {
       "model_id": "65555a7147cb4e23bb0a3a30d72558ab",
       "version_major": 2,
       "version_minor": 0
      },
      "text/plain": [
       "(pid=55351) - ReadFiles 2: 0.00 row [00:00, ? row/s]"
      ]
     },
     "metadata": {},
     "output_type": "display_data"
    },
    {
     "data": {
      "application/vnd.jupyter.widget-view+json": {
       "model_id": "47ee1ed25f204fcba7b82bc8423fd6a8",
       "version_major": 2,
       "version_minor": 0
      },
      "text/plain": [
       "(pid=55351) - split(4, equal=True) 3: 0.00 row [00:00, ? row/s]"
      ]
     },
     "metadata": {},
     "output_type": "display_data"
    },
    {
     "data": {
      "application/vnd.jupyter.widget-view+json": {
       "model_id": "d76f23da913a42dba40639438c4e2cce",
       "version_major": 2,
       "version_minor": 0
      },
      "text/plain": [
       "(pid=55396) Running 0: 0.00 row [00:00, ? row/s]"
      ]
     },
     "metadata": {},
     "output_type": "display_data"
    },
    {
     "data": {
      "application/vnd.jupyter.widget-view+json": {
       "model_id": "0f653dc2f2984987a9e8b15a36435e6b",
       "version_major": 2,
       "version_minor": 0
      },
      "text/plain": [
       "(pid=55396) - ListFiles 1: 0.00 row [00:00, ? row/s]"
      ]
     },
     "metadata": {},
     "output_type": "display_data"
    },
    {
     "data": {
      "application/vnd.jupyter.widget-view+json": {
       "model_id": "d1e95553dd794989a00ad9731dde856b",
       "version_major": 2,
       "version_minor": 0
      },
      "text/plain": [
       "(pid=55396) - ReadFiles 2: 0.00 row [00:00, ? row/s]"
      ]
     },
     "metadata": {},
     "output_type": "display_data"
    },
    {
     "data": {
      "application/vnd.jupyter.widget-view+json": {
       "model_id": "b2b401033da14c659414dedb016fd669",
       "version_major": 2,
       "version_minor": 0
      },
      "text/plain": [
       "(pid=55396) - split(4, equal=True) 3: 0.00 row [00:00, ? row/s]"
      ]
     },
     "metadata": {},
     "output_type": "display_data"
    },
    {
     "data": {
      "application/vnd.jupyter.widget-view+json": {
       "model_id": "06f15f2c2629406185daa13dfa01d537",
       "version_major": 2,
       "version_minor": 0
      },
      "text/plain": [
       "(pid=55351) Running 0: 0.00 row [00:00, ? row/s]"
      ]
     },
     "metadata": {},
     "output_type": "display_data"
    },
    {
     "data": {
      "application/vnd.jupyter.widget-view+json": {
       "model_id": "5963f07659e8466ea7624be5a3a7b516",
       "version_major": 2,
       "version_minor": 0
      },
      "text/plain": [
       "(pid=55351) - ListFiles 1: 0.00 row [00:00, ? row/s]"
      ]
     },
     "metadata": {},
     "output_type": "display_data"
    },
    {
     "data": {
      "application/vnd.jupyter.widget-view+json": {
       "model_id": "4a03a223467b41999be6905dd722266b",
       "version_major": 2,
       "version_minor": 0
      },
      "text/plain": [
       "(pid=55351) - ReadFiles 2: 0.00 row [00:00, ? row/s]"
      ]
     },
     "metadata": {},
     "output_type": "display_data"
    },
    {
     "data": {
      "application/vnd.jupyter.widget-view+json": {
       "model_id": "ba62bc62442843699b0001217455ee9b",
       "version_major": 2,
       "version_minor": 0
      },
      "text/plain": [
       "(pid=55351) - split(4, equal=True) 3: 0.00 row [00:00, ? row/s]"
      ]
     },
     "metadata": {},
     "output_type": "display_data"
    },
    {
     "data": {
      "application/vnd.jupyter.widget-view+json": {
       "model_id": "6b3bcef76a3b4f568b6f12536fbaf3f2",
       "version_major": 2,
       "version_minor": 0
      },
      "text/plain": [
       "(pid=55396) Running 0: 0.00 row [00:00, ? row/s]"
      ]
     },
     "metadata": {},
     "output_type": "display_data"
    },
    {
     "data": {
      "application/vnd.jupyter.widget-view+json": {
       "model_id": "acac8dc78f8d4585b80eb4349109767b",
       "version_major": 2,
       "version_minor": 0
      },
      "text/plain": [
       "(pid=55396) - ListFiles 1: 0.00 row [00:00, ? row/s]"
      ]
     },
     "metadata": {},
     "output_type": "display_data"
    },
    {
     "data": {
      "application/vnd.jupyter.widget-view+json": {
       "model_id": "a2c74b8babbf45628a948c039877ed88",
       "version_major": 2,
       "version_minor": 0
      },
      "text/plain": [
       "(pid=55396) - ReadFiles 2: 0.00 row [00:00, ? row/s]"
      ]
     },
     "metadata": {},
     "output_type": "display_data"
    },
    {
     "data": {
      "application/vnd.jupyter.widget-view+json": {
       "model_id": "60dafdbbea204825ad0c425e3681756f",
       "version_major": 2,
       "version_minor": 0
      },
      "text/plain": [
       "(pid=55396) - split(4, equal=True) 3: 0.00 row [00:00, ? row/s]"
      ]
     },
     "metadata": {},
     "output_type": "display_data"
    },
    {
     "data": {
      "application/vnd.jupyter.widget-view+json": {
       "model_id": "0a8b707d73474593a23c80bfd69e2ad0",
       "version_major": 2,
       "version_minor": 0
      },
      "text/plain": [
       "(pid=55351) Running 0: 0.00 row [00:00, ? row/s]"
      ]
     },
     "metadata": {},
     "output_type": "display_data"
    },
    {
     "data": {
      "application/vnd.jupyter.widget-view+json": {
       "model_id": "205aaec678c9485ea1051fdd16df4b45",
       "version_major": 2,
       "version_minor": 0
      },
      "text/plain": [
       "(pid=55351) - ListFiles 1: 0.00 row [00:00, ? row/s]"
      ]
     },
     "metadata": {},
     "output_type": "display_data"
    },
    {
     "data": {
      "application/vnd.jupyter.widget-view+json": {
       "model_id": "9ea3c821ab404abfb0aeb90b2ff62805",
       "version_major": 2,
       "version_minor": 0
      },
      "text/plain": [
       "(pid=55351) - ReadFiles 2: 0.00 row [00:00, ? row/s]"
      ]
     },
     "metadata": {},
     "output_type": "display_data"
    },
    {
     "data": {
      "application/vnd.jupyter.widget-view+json": {
       "model_id": "2c23762a8f26438a9a4b211c451ebd3e",
       "version_major": 2,
       "version_minor": 0
      },
      "text/plain": [
       "(pid=55351) - split(4, equal=True) 3: 0.00 row [00:00, ? row/s]"
      ]
     },
     "metadata": {},
     "output_type": "display_data"
    },
    {
     "data": {
      "application/vnd.jupyter.widget-view+json": {
       "model_id": "1a74127f648c416395dcd6402325174c",
       "version_major": 2,
       "version_minor": 0
      },
      "text/plain": [
       "(pid=55396) Running 0: 0.00 row [00:00, ? row/s]"
      ]
     },
     "metadata": {},
     "output_type": "display_data"
    },
    {
     "data": {
      "application/vnd.jupyter.widget-view+json": {
       "model_id": "7023de9658a0482b858d63c2212fd2de",
       "version_major": 2,
       "version_minor": 0
      },
      "text/plain": [
       "(pid=55396) - ListFiles 1: 0.00 row [00:00, ? row/s]"
      ]
     },
     "metadata": {},
     "output_type": "display_data"
    },
    {
     "data": {
      "application/vnd.jupyter.widget-view+json": {
       "model_id": "a2dd72a21bb64ea288b6a336241769d6",
       "version_major": 2,
       "version_minor": 0
      },
      "text/plain": [
       "(pid=55396) - ReadFiles 2: 0.00 row [00:00, ? row/s]"
      ]
     },
     "metadata": {},
     "output_type": "display_data"
    },
    {
     "data": {
      "application/vnd.jupyter.widget-view+json": {
       "model_id": "de4d1cb1611e45efa68e339a48bcf064",
       "version_major": 2,
       "version_minor": 0
      },
      "text/plain": [
       "(pid=55396) - split(4, equal=True) 3: 0.00 row [00:00, ? row/s]"
      ]
     },
     "metadata": {},
     "output_type": "display_data"
    },
    {
     "data": {
      "application/vnd.jupyter.widget-view+json": {
       "model_id": "2e436b91d74b4948a6d63548d272f518",
       "version_major": 2,
       "version_minor": 0
      },
      "text/plain": [
       "(pid=55351) Running 0: 0.00 row [00:00, ? row/s]"
      ]
     },
     "metadata": {},
     "output_type": "display_data"
    },
    {
     "data": {
      "application/vnd.jupyter.widget-view+json": {
       "model_id": "4f0a3676eb2049e6bad9acceb73e695f",
       "version_major": 2,
       "version_minor": 0
      },
      "text/plain": [
       "(pid=55351) - ListFiles 1: 0.00 row [00:00, ? row/s]"
      ]
     },
     "metadata": {},
     "output_type": "display_data"
    },
    {
     "data": {
      "application/vnd.jupyter.widget-view+json": {
       "model_id": "1c4e3eddeaac4986a9087a8bd9e466fa",
       "version_major": 2,
       "version_minor": 0
      },
      "text/plain": [
       "(pid=55351) - ReadFiles 2: 0.00 row [00:00, ? row/s]"
      ]
     },
     "metadata": {},
     "output_type": "display_data"
    },
    {
     "data": {
      "application/vnd.jupyter.widget-view+json": {
       "model_id": "2329e4582b6046f291d501ae66dd8be5",
       "version_major": 2,
       "version_minor": 0
      },
      "text/plain": [
       "(pid=55351) - split(4, equal=True) 3: 0.00 row [00:00, ? row/s]"
      ]
     },
     "metadata": {},
     "output_type": "display_data"
    },
    {
     "data": {
      "application/vnd.jupyter.widget-view+json": {
       "model_id": "4302deb4b1f54577a61b201fabd92535",
       "version_major": 2,
       "version_minor": 0
      },
      "text/plain": [
       "(pid=55396) Running 0: 0.00 row [00:00, ? row/s]"
      ]
     },
     "metadata": {},
     "output_type": "display_data"
    },
    {
     "data": {
      "application/vnd.jupyter.widget-view+json": {
       "model_id": "9de1b3e4f9724868a854fd3f165147aa",
       "version_major": 2,
       "version_minor": 0
      },
      "text/plain": [
       "(pid=55396) - ListFiles 1: 0.00 row [00:00, ? row/s]"
      ]
     },
     "metadata": {},
     "output_type": "display_data"
    },
    {
     "data": {
      "application/vnd.jupyter.widget-view+json": {
       "model_id": "dcccf714672e4eae8a2fb4e0deeee1d1",
       "version_major": 2,
       "version_minor": 0
      },
      "text/plain": [
       "(pid=55396) - ReadFiles 2: 0.00 row [00:00, ? row/s]"
      ]
     },
     "metadata": {},
     "output_type": "display_data"
    },
    {
     "data": {
      "application/vnd.jupyter.widget-view+json": {
       "model_id": "a428ce126ade4b5487d627490c484779",
       "version_major": 2,
       "version_minor": 0
      },
      "text/plain": [
       "(pid=55396) - split(4, equal=True) 3: 0.00 row [00:00, ? row/s]"
      ]
     },
     "metadata": {},
     "output_type": "display_data"
    }
   ],
   "source": [
    "# Train.\n",
    "results = trainer.fit()\n"
   ]
  },
  {
   "cell_type": "markdown",
   "metadata": {},
   "source": [
    "## Ray Train"
   ]
  },
  {
   "cell_type": "markdown",
   "metadata": {},
   "source": [
    "- automatically handles **multi-node, multi-GPU** setup with no manual SSH setup or hostfile configs. \n",
    "- define **per-worker fractional resource requirements**, for example, 2 CPUs and 0.5 GPU per worker.\n",
    "- run on **heterogeneous machines** and scale flexibly, for example, CPU for preprocessing and GPU for training. \n",
    "- built-in **fault tolerance** with retry of failed workers and continue from last checkpoint.\n",
    "- supports Data Parallel, Model Parallel, Parameter Server, and even custom strategies.\n",
    "- [Ray Compiled graphs](https://docs.ray.io/en/latest/ray-core/compiled-graph/ray-compiled-graph.html) allow you to even define different parallelism for jointly optimizing multiple models like Megatron, DeepSpeed, etc., or only allow for one global setting.\n",
    "- You can also use Torch DDP, FSPD, DeepSpeed, etc., under the hood."
   ]
  },
  {
   "cell_type": "markdown",
   "metadata": {},
   "source": [
    "🔥 [RayTurbo Train](https://docs.anyscale.com/rayturbo/rayturbo-train) offers even more improvement to the price-performance ratio, performance monitoring and more:\n",
    "- **elastic training** to scale to a dynamic number of workers, continue training on fewer resources, even on spot instances.\n",
    "- **purpose-built dashboard** designed to streamline the debugging of Ray Train workloads:\n",
    "    - Monitoring: View the status of training runs and train workers.\n",
    "    - Metrics: See insights on training throughput and training system operation time.\n",
    "    - Profiling: Investigate bottlenecks, hangs, or errors from individual training worker processes.\n",
    "\n",
    "<img src=\"https://raw.githubusercontent.com/anyscale/multimodal-ai/refs/heads/main/images/train_dashboard.png\" width=700>"
   ]
  },
  {
   "cell_type": "markdown",
   "metadata": {},
   "source": [
    "You can view experiment metrics and model artifacts in the model registry. You're using OSS MLflow so you can run the server by pointing to the model registry location:\n",
    "\n",
    "```bash\n",
    "mlflow server -h 0.0.0.0 -p 8080 --backend-store-uri /mnt/cluster_storage/mlflow/doggos\n",
    "```\n",
    "\n",
    "You can view the dashboard by going to the **Overview tab** > **Open Ports**. \n",
    "\n",
    "<img src=\"https://raw.githubusercontent.com/anyscale/multimodal-ai/refs/heads/main/images/mlflow.png\" width=1000>\n",
    "\n",
    "You also have the preceding Ray Dashboard and Train workload specific dashboards.\n",
    "\n",
    "<img src=\"https://raw.githubusercontent.com/anyscale/multimodal-ai/refs/heads/main/images/train_metrics.png\" width=1000>\n"
   ]
  },
  {
   "cell_type": "code",
   "execution_count": null,
   "metadata": {},
   "outputs": [
    {
     "data": {
      "text/plain": [
       "run_id                                      635073afa2634a9fa93ae15a04605965\n",
       "experiment_id                                             505321604523120474\n",
       "status                                                              FINISHED\n",
       "artifact_uri               file:///mnt/cluster_storage/mlflow/doggos/5053...\n",
       "start_time                                  2025-08-12 22:30:11.088000+00:00\n",
       "end_time                                    2025-08-12 22:30:30.239000+00:00\n",
       "metrics.lr                                                             0.001\n",
       "metrics.train_loss                                                  0.389762\n",
       "metrics.val_loss                                                    0.646278\n",
       "params.hidden_dim                                                        256\n",
       "params.num_epochs                                                         20\n",
       "params.lr_patience                                                         3\n",
       "params.class_to_label      {'cocker_spaniel': 0, 'bull_mastiff': 1, 'samo...\n",
       "params.lr                                                              0.001\n",
       "params.experiment_name                                                doggos\n",
       "params.num_classes                                                        36\n",
       "params.model_registry                     /mnt/cluster_storage/mlflow/doggos\n",
       "params.batch_size                                                        256\n",
       "params.embedding_dim                                                     512\n",
       "params.dropout_p                                                         0.3\n",
       "params.lr_factor                                                         0.8\n",
       "tags.mlflow.source.type                                                LOCAL\n",
       "tags.mlflow.user                                                         ray\n",
       "tags.mlflow.runName                                       intrigued-wasp-302\n",
       "tags.mlflow.source.name    /home/ray/anaconda3/lib/python3.12/site-packag...\n",
       "Name: 0, dtype: object"
      ]
     },
     "execution_count": null,
     "metadata": {},
     "output_type": "execute_result"
    },
    {
     "name": "stdout",
     "output_type": "stream",
     "text": [
      "\u001b[36m(autoscaler +9m30s)\u001b[0m [autoscaler] Downscaling node i-0758ca207affbe64e (node IP: 10.0.80.63) due to node idle termination.\n",
      "\u001b[36m(autoscaler +9m30s)\u001b[0m [autoscaler] Downscaling node i-0458d8cdec562fe7a (node IP: 10.0.84.22) due to node idle termination.\n",
      "\u001b[36m(autoscaler +9m30s)\u001b[0m [autoscaler] Downscaling node i-067e3debcee38b433 (node IP: 10.0.101.0) due to node idle termination.\n",
      "\u001b[36m(autoscaler +9m30s)\u001b[0m [autoscaler] Downscaling node i-073dfc0bb07bce43c (node IP: 10.0.117.166) due to node idle termination.\n"
     ]
    },
    {
     "data": {
      "text/plain": [
       "run_id                                      861d38c5540f4628bbc10556ffce5f3d\n",
       "experiment_id                                             798639802550679506\n",
       "status                                                              FINISHED\n",
       "artifact_uri               file:///mnt/cluster_storage/mlflow/doggos/7986...\n",
       "start_time                                  2025-08-21 20:13:30.681000+00:00\n",
       "end_time                                    2025-08-21 20:13:58.288000+00:00\n",
       "metrics.val_loss                                                    0.700778\n",
       "metrics.train_loss                                                  0.368469\n",
       "metrics.lr                                                             0.001\n",
       "params.embedding_dim                                                     512\n",
       "params.lr_factor                                                         0.8\n",
       "params.num_epochs                                                         20\n",
       "params.lr_patience                                                         3\n",
       "params.dropout_p                                                         0.3\n",
       "params.experiment_name                                                doggos\n",
       "params.model_registry                     /mnt/cluster_storage/mlflow/doggos\n",
       "params.hidden_dim                                                        256\n",
       "params.num_classes                                                        36\n",
       "params.batch_size                                                        256\n",
       "params.class_to_label      {'italian_greyhound': 0, 'bloodhound': 1, 'pom...\n",
       "params.lr                                                              0.001\n",
       "tags.mlflow.source.name    /home/ray/anaconda3/lib/python3.12/site-packag...\n",
       "tags.mlflow.runName                                        valuable-toad-211\n",
       "tags.mlflow.source.type                                                LOCAL\n",
       "tags.mlflow.user                                                         ray\n",
       "Name: 0, dtype: object"
      ]
     },
     "execution_count": null,
     "metadata": {},
     "output_type": "execute_result"
    }
   ],
   "source": [
    "# Sorted runs\n",
    "mlflow.set_tracking_uri(f\"file:{model_registry}\")\n",
    "sorted_runs = mlflow.search_runs(\n",
    "    experiment_names=[experiment_name], \n",
    "    order_by=[\"metrics.val_loss ASC\"])\n",
    "best_run = sorted_runs.iloc[0]\n",
    "best_run\n"
   ]
  },
  {
   "cell_type": "markdown",
   "metadata": {},
   "source": [
    "## Production Job"
   ]
  },
  {
   "cell_type": "markdown",
   "metadata": {},
   "source": [
    "You can easily wrap the training workload as a production grade [Anyscale Job](https://docs.anyscale.com/platform/jobs/) ([API ref](https://docs.anyscale.com/reference/job-api/)).\n",
    "\n",
    "**Note**: \n",
    "- This Job uses a `containerfile` to define dependencies, but you could easily use a pre-built image as well.\n",
    "- You can specify the compute as a [compute config](https://docs.anyscale.com/configuration/compute-configuration/) or inline in a [job config](https://docs.anyscale.com/reference/job-api#job-cli) file.\n",
    "- When you don't specify compute while launching from a workspace, this configuration defaults to the compute configuration of the workspace."
   ]
  },
  {
   "cell_type": "code",
   "execution_count": null,
   "metadata": {},
   "outputs": [
    {
     "name": "stderr",
     "output_type": "stream",
     "text": [
      "Output\n",
      "(anyscale +1.0s) Submitting job with config JobConfig(name='train-image-model', image_uri='anyscale/ray:2.48.0-slim-py312-cu128', compute_config=None, env_vars=None, py_modules=None, py_executable=None, cloud=None, project=None, ray_version=None, job_queue_config=None).\n",
      "(anyscale +3.1s) Uploading local dir '/home/ray/default' to cloud storage.\n",
      "(anyscale +6.4s) Job 'train-image-model' submitted, ID: 'prodjob_yd5tzc4c9ftzeplzlqyytluich'.\n",
      "(anyscale +6.4s) View the job in the UI: https://console.anyscale.com/jobs/prodjob_yd5tzc4c9ftzeplzlqyytluich\n",
      "(anyscale +6.4s) Use `--wait` to wait for the job to run and stream logs.\n"
     ]
    }
   ],
   "source": [
    "%%bash\n",
    "# Production model training job\n",
    "anyscale job submit -f /home/ray/default/configs/train_model.yaml\n"
   ]
  },
  {
   "cell_type": "markdown",
   "metadata": {},
   "source": [
    "<img src=\"https://raw.githubusercontent.com/anyscale/multimodal-ai/refs/heads/main/images/train_job.png\" width=1000>"
   ]
  },
  {
   "cell_type": "markdown",
   "metadata": {},
   "source": [
    "## Evaluation"
   ]
  },
  {
   "cell_type": "markdown",
   "metadata": {},
   "source": [
    "This tutorial concludes by evaluating the trained model on the test dataset. Evaluation is essentially the same as the batch inference workload where you apply the model on batches of data and then calculate metrics using the predictions versus true labels. Ray Data is hyper optimized for throughput so preserving order isn't a priority. But for evaluation, this approach is crucial. Achieve this approach by preserving the entire row and adding the predicted label as another column to each row."
   ]
  },
  {
   "cell_type": "code",
   "execution_count": null,
   "metadata": {},
   "outputs": [],
   "source": [
    "from urllib.parse import urlparse\n",
    "from sklearn.metrics import multilabel_confusion_matrix\n"
   ]
  },
  {
   "cell_type": "code",
   "execution_count": null,
   "metadata": {},
   "outputs": [],
   "source": [
    "class TorchPredictor:\n",
    "    def __init__(self, preprocessor, model):\n",
    "        self.preprocessor = preprocessor\n",
    "        self.model = model\n",
    "        self.model.eval()\n",
    "\n",
    "    def __call__(self, batch, device=\"cuda\"):\n",
    "        self.model.to(device)\n",
    "        batch[\"prediction\"] = self.model.predict(collate_fn(batch))\n",
    "        return batch\n",
    "\n",
    "    def predict_probabilities(self, batch, device=\"cuda\"):\n",
    "        self.model.to(device)\n",
    "        predicted_probabilities = self.model.predict_probabilities(collate_fn(batch))\n",
    "        batch[\"probabilities\"] = [\n",
    "            {\n",
    "                self.preprocessor.label_to_class[i]: float(prob)\n",
    "                for i, prob in enumerate(probabilities)\n",
    "            }\n",
    "            for probabilities in predicted_probabilities\n",
    "        ]\n",
    "        return batch\n",
    "    \n",
    "    @classmethod\n",
    "    def from_artifacts_dir(cls, artifacts_dir):\n",
    "        with open(os.path.join(artifacts_dir, \"class_to_label.json\"), \"r\") as fp:\n",
    "            class_to_label = json.load(fp)\n",
    "        preprocessor = Preprocessor(class_to_label=class_to_label)\n",
    "        model = ClassificationModel.load(\n",
    "            args_fp=os.path.join(artifacts_dir, \"args.json\"), \n",
    "            state_dict_fp=os.path.join(artifacts_dir, \"model.pt\"),\n",
    "        )\n",
    "        return cls(preprocessor=preprocessor, model=model)\n"
   ]
  },
  {
   "cell_type": "code",
   "execution_count": null,
   "metadata": {},
   "outputs": [],
   "source": [
    "# Load and preproces eval dataset.\n",
    "artifacts_dir = urlparse(best_run.artifact_uri).path\n",
    "predictor = TorchPredictor.from_artifacts_dir(artifacts_dir=artifacts_dir)\n",
    "test_ds = ray.data.read_images(\"s3://doggos-dataset/test\", include_paths=True)\n",
    "test_ds = test_ds.map(add_class)\n",
    "test_ds = predictor.preprocessor.transform(ds=test_ds)\n"
   ]
  },
  {
   "cell_type": "code",
   "execution_count": null,
   "metadata": {},
   "outputs": [
    {
     "name": "stderr",
     "output_type": "stream",
     "text": [
      "2025-08-21 20:16:36,704\tINFO logging.py:295 -- Registered dataset logger for dataset dataset_54_0\n",
      "2025-08-21 20:16:36,715\tINFO streaming_executor.py:117 -- Starting execution of Dataset dataset_54_0. Full logs are in /tmp/ray/session_2025-08-21_18-48-13_464408_2298/logs/ray-data\n",
      "2025-08-21 20:16:36,716\tINFO streaming_executor.py:118 -- Execution plan of Dataset dataset_54_0: InputDataBuffer[Input] -> TaskPoolMapOperator[ListFiles] -> TaskPoolMapOperator[ReadFiles] -> TaskPoolMapOperator[Map(add_class)->Map(convert_to_label)] -> ActorPoolMapOperator[MapBatches(EmbedImages)] -> TaskPoolMapOperator[MapBatches(drop_columns)] -> TaskPoolMapOperator[MapBatches(TorchPredictor)] -> LimitOperator[limit=1]\n"
     ]
    },
    {
     "data": {
      "application/vnd.jupyter.widget-view+json": {
       "model_id": "98bb5aaa4a5a4811811c4840d976984b",
       "version_major": 2,
       "version_minor": 0
      },
      "text/plain": [
       "Running 0: 0.00 row [00:00, ? row/s]"
      ]
     },
     "metadata": {},
     "output_type": "display_data"
    },
    {
     "data": {
      "application/vnd.jupyter.widget-view+json": {
       "model_id": "21da3186b14f43538d5863d945e957d7",
       "version_major": 2,
       "version_minor": 0
      },
      "text/plain": [
       "- ListFiles 1: 0.00 row [00:00, ? row/s]"
      ]
     },
     "metadata": {},
     "output_type": "display_data"
    },
    {
     "data": {
      "application/vnd.jupyter.widget-view+json": {
       "model_id": "64318898133b4132a0c107eaded03a03",
       "version_major": 2,
       "version_minor": 0
      },
      "text/plain": [
       "- ReadFiles 2: 0.00 row [00:00, ? row/s]"
      ]
     },
     "metadata": {},
     "output_type": "display_data"
    },
    {
     "data": {
      "application/vnd.jupyter.widget-view+json": {
       "model_id": "658e467ea006418392c29ff370c72276",
       "version_major": 2,
       "version_minor": 0
      },
      "text/plain": [
       "- Map(add_class)->Map(convert_to_label) 3: 0.00 row [00:00, ? row/s]"
      ]
     },
     "metadata": {},
     "output_type": "display_data"
    },
    {
     "data": {
      "application/vnd.jupyter.widget-view+json": {
       "model_id": "90ac06e7ecd14bfc9d1b38382b8eedda",
       "version_major": 2,
       "version_minor": 0
      },
      "text/plain": [
       "- MapBatches(EmbedImages) 4: 0.00 row [00:00, ? row/s]"
      ]
     },
     "metadata": {},
     "output_type": "display_data"
    },
    {
     "data": {
      "application/vnd.jupyter.widget-view+json": {
       "model_id": "12641176a2684bd6a5bf9fee9b5357b5",
       "version_major": 2,
       "version_minor": 0
      },
      "text/plain": [
       "- MapBatches(drop_columns) 5: 0.00 row [00:00, ? row/s]"
      ]
     },
     "metadata": {},
     "output_type": "display_data"
    },
    {
     "data": {
      "application/vnd.jupyter.widget-view+json": {
       "model_id": "43028724219444ac8e26805ad4a88756",
       "version_major": 2,
       "version_minor": 0
      },
      "text/plain": [
       "- MapBatches(TorchPredictor) 6: 0.00 row [00:00, ? row/s]"
      ]
     },
     "metadata": {},
     "output_type": "display_data"
    },
    {
     "data": {
      "application/vnd.jupyter.widget-view+json": {
       "model_id": "b9258d53b1b9474a8fe662d36233d4dd",
       "version_major": 2,
       "version_minor": 0
      },
      "text/plain": [
       "- limit=1 7: 0.00 row [00:00, ? row/s]"
      ]
     },
     "metadata": {},
     "output_type": "display_data"
    },
    {
     "name": "stderr",
     "output_type": "stream",
     "text": [
      "\u001b[36m(_MapWorker pid=5340, ip=10.0.164.18)\u001b[0m Using a slow image processor as `use_fast` is unset and a slow processor was saved with this model. `use_fast=True` will be the default behavior in v4.52, even if the model was saved with a slow processor. This will result in minor differences in outputs. You'll still be able to use a slow processor with `use_fast=False`.\n",
      "\u001b[36m(MapBatches(TorchPredictor) pid=8912, ip=10.0.171.239)\u001b[0m /tmp/ipykernel_44250/417303983.py:6: UserWarning: The given NumPy array is not writable, and PyTorch does not support non-writable tensors. This means writing to this tensor will result in undefined behavior. You may want to copy the array to protect its data or make it writable before converting it to a tensor. This type of warning will be suppressed for the rest of this program. (Triggered internally at /pytorch/torch/csrc/utils/tensor_numpy.cpp:203.)\n",
      "\u001b[36m(_MapWorker pid=7119, ip=10.0.171.239)\u001b[0m Using a slow image processor as `use_fast` is unset and a slow processor was saved with this model. `use_fast=True` will be the default behavior in v4.52, even if the model was saved with a slow processor. This will result in minor differences in outputs. You'll still be able to use a slow processor with `use_fast=False`.\u001b[32m [repeated 3x across cluster]\u001b[0m\n",
      "\u001b[36m(_MapWorker pid=6662, ip=10.0.164.18)\u001b[0m Using a slow image processor as `use_fast` is unset and a slow processor was saved with this model. `use_fast=True` will be the default behavior in v4.52, even if the model was saved with a slow processor. This will result in minor differences in outputs. You'll still be able to use a slow processor with `use_fast=False`.\n",
      "\u001b[36m(MapBatches(TorchPredictor) pid=10913, ip=10.0.171.239)\u001b[0m /tmp/ipykernel_44250/417303983.py:6: UserWarning: The given NumPy array is not writable, and PyTorch does not support non-writable tensors. This means writing to this tensor will result in undefined behavior. You may want to copy the array to protect its data or make it writable before converting it to a tensor. This type of warning will be suppressed for the rest of this program. (Triggered internally at /pytorch/torch/csrc/utils/tensor_numpy.cpp:203.)\n",
      "\u001b[36m(_MapWorker pid=10404, ip=10.0.171.239)\u001b[0m Using a slow image processor as `use_fast` is unset and a slow processor was saved with this model. `use_fast=True` will be the default behavior in v4.52, even if the model was saved with a slow processor. This will result in minor differences in outputs. You'll still be able to use a slow processor with `use_fast=False`.\u001b[32m [repeated 3x across cluster]\u001b[0m\n",
      "\u001b[36m(MapBatches(TorchPredictor) pid=11471, ip=10.0.171.239)\u001b[0m /tmp/ipykernel_44250/417303983.py:6: UserWarning: The given NumPy array is not writable, and PyTorch does not support non-writable tensors. This means writing to this tensor will result in undefined behavior. You may want to copy the array to protect its data or make it writable before converting it to a tensor. This type of warning will be suppressed for the rest of this program. (Triggered internally at /pytorch/torch/csrc/utils/tensor_numpy.cpp:203.)\u001b[32m [repeated 6x across cluster]\u001b[0m\n",
      "\u001b[36m(MapBatches(TorchPredictor) pid=11646, ip=10.0.171.239)\u001b[0m /tmp/ipykernel_44250/417303983.py:6: UserWarning: The given NumPy array is not writable, and PyTorch does not support non-writable tensors. This means writing to this tensor will result in undefined behavior. You may want to copy the array to protect its data or make it writable before converting it to a tensor. This type of warning will be suppressed for the rest of this program. (Triggered internally at /pytorch/torch/csrc/utils/tensor_numpy.cpp:203.)\u001b[32m [repeated 4x across cluster]\u001b[0m\n",
      "\u001b[36m(MapBatches(TorchPredictor) pid=11824, ip=10.0.171.239)\u001b[0m /tmp/ipykernel_44250/417303983.py:6: UserWarning: The given NumPy array is not writable, and PyTorch does not support non-writable tensors. This means writing to this tensor will result in undefined behavior. You may want to copy the array to protect its data or make it writable before converting it to a tensor. This type of warning will be suppressed for the rest of this program. (Triggered internally at /pytorch/torch/csrc/utils/tensor_numpy.cpp:203.)\u001b[32m [repeated 4x across cluster]\u001b[0m\n",
      "\u001b[36m(MapBatches(TorchPredictor) pid=11997, ip=10.0.171.239)\u001b[0m /tmp/ipykernel_44250/417303983.py:6: UserWarning: The given NumPy array is not writable, and PyTorch does not support non-writable tensors. This means writing to this tensor will result in undefined behavior. You may want to copy the array to protect its data or make it writable before converting it to a tensor. This type of warning will be suppressed for the rest of this program. (Triggered internally at /pytorch/torch/csrc/utils/tensor_numpy.cpp:203.)\u001b[32m [repeated 4x across cluster]\u001b[0m\n",
      "\u001b[36m(MapBatches(TorchPredictor) pid=8124, ip=10.0.164.18)\u001b[0m /tmp/ipykernel_44250/417303983.py:6: UserWarning: The given NumPy array is not writable, and PyTorch does not support non-writable tensors. This means writing to this tensor will result in undefined behavior. You may want to copy the array to protect its data or make it writable before converting it to a tensor. This type of warning will be suppressed for the rest of this program. (Triggered internally at /pytorch/torch/csrc/utils/tensor_numpy.cpp:203.)\u001b[32m [repeated 5x across cluster]\u001b[0m\n",
      "\u001b[36m(MapBatches(TorchPredictor) pid=8126, ip=10.0.164.18)\u001b[0m /tmp/ipykernel_44250/417303983.py:6: UserWarning: The given NumPy array is not writable, and PyTorch does not support non-writable tensors. This means writing to this tensor will result in undefined behavior. You may want to copy the array to protect its data or make it writable before converting it to a tensor. This type of warning will be suppressed for the rest of this program. (Triggered internally at /pytorch/torch/csrc/utils/tensor_numpy.cpp:203.)\u001b[32m [repeated 4x across cluster]\u001b[0m\n",
      "\u001b[36m(MapBatches(TorchPredictor) pid=12517, ip=10.0.171.239)\u001b[0m /tmp/ipykernel_44250/417303983.py:6: UserWarning: The given NumPy array is not writable, and PyTorch does not support non-writable tensors. This means writing to this tensor will result in undefined behavior. You may want to copy the array to protect its data or make it writable before converting it to a tensor. This type of warning will be suppressed for the rest of this program. (Triggered internally at /pytorch/torch/csrc/utils/tensor_numpy.cpp:203.)\u001b[32m [repeated 4x across cluster]\u001b[0m\n",
      "\u001b[36m(MapBatches(TorchPredictor) pid=10390, ip=10.0.164.18)\u001b[0m /tmp/ipykernel_44250/417303983.py:6: UserWarning: The given NumPy array is not writable, and PyTorch does not support non-writable tensors. This means writing to this tensor will result in undefined behavior. You may want to copy the array to protect its data or make it writable before converting it to a tensor. This type of warning will be suppressed for the rest of this program. (Triggered internally at /pytorch/torch/csrc/utils/tensor_numpy.cpp:203.)\u001b[32m [repeated 4x across cluster]\u001b[0m\n",
      "\u001b[33m(raylet)\u001b[0m Using CPython 3.12.11 interpreter at: /home/ray/anaconda3/bin/python3.12\n",
      "\u001b[33m(raylet)\u001b[0m Creating virtual environment at: .venv\n",
      "\u001b[33m(raylet)\u001b[0m    Building doggos @ file:///tmp/ray/session_2025-08-21_18-48-13_464408_2298/runtime_resources/working_dir_files/_ray_pkg_f79228c33bd2a431/doggos\n",
      "\u001b[33m(raylet)\u001b[0m       Built doggos @ file:///tmp/ray/session_2025-08-21_18-48-13_464408_2298/runtime_resources/working_dir_files/_ray_pkg_f79228c33bd2a431/doggos\n",
      "\u001b[33m(raylet)\u001b[0m warning: Failed to hardlink files; falling back to full copy. This may lead to degraded performance.\n",
      "\u001b[33m(raylet)\u001b[0m          If the cache and target directories are on different filesystems, hardlinking may not be supported.\n",
      "\u001b[33m(raylet)\u001b[0m          If this is intentional, set `export UV_LINK_MODE=copy` or use `--link-mode=copy` to suppress this warning.\n",
      "\u001b[33m(raylet)\u001b[0m Installed 172 packages in 30.24s\n",
      "\u001b[33m(raylet, ip=10.0.171.239)\u001b[0m Using CPython 3.12.11 interpreter at: /home/ray/anaconda3/bin/python3.12\n",
      "\u001b[33m(raylet, ip=10.0.171.239)\u001b[0m Creating virtual environment at: .venv\n",
      "\u001b[33m(raylet, ip=10.0.171.239)\u001b[0m    Building doggos @ file:///tmp/ray/session_2025-08-21_18-48-13_464408_2298/runtime_resources/working_dir_files/_ray_pkg_f79228c33bd2a431/doggos\n",
      "\u001b[33m(raylet, ip=10.0.171.239)\u001b[0m       Built doggos @ file:///tmp/ray/session_2025-08-21_18-48-13_464408_2298/runtime_resources/working_dir_files/_ray_pkg_f79228c33bd2a431/doggos\n",
      "\u001b[33m(raylet, ip=10.0.171.239)\u001b[0m warning: Failed to hardlink files; falling back to full copy. This may lead to degraded performance.\n",
      "\u001b[33m(raylet, ip=10.0.171.239)\u001b[0m          If the cache and target directories are on different filesystems, hardlinking may not be supported.\n",
      "\u001b[33m(raylet, ip=10.0.171.239)\u001b[0m          If this is intentional, set `export UV_LINK_MODE=copy` or use `--link-mode=copy` to suppress this warning.\n",
      "\u001b[33m(raylet, ip=10.0.171.239)\u001b[0m Installed 172 packages in 2.44s\n"
     ]
    },
    {
     "name": "stderr",
     "output_type": "stream",
     "text": [
      "2025-08-21 20:16:56,309\tINFO streaming_executor.py:231 -- ✔️  Dataset dataset_54_0 execution finished in 19.59 seconds\n"
     ]
    },
    {
     "data": {
      "text/plain": [
       "[{'path': 'doggos-dataset/test/basset/basset_10005.jpg',\n",
       "  'class': 'basset',\n",
       "  'label': 15,\n",
       "  'embedding': array([ 8.89970511e-02, -5.91553897e-02,  1.15793884e-01,  2.15907171e-01,\n",
       "         -3.43177855e-01, -3.35305780e-01,  1.48934871e-01, -1.01916254e-01,\n",
       "         -1.69534028e-01,  4.21351194e-03,  2.40714669e-01,  1.78949311e-01,\n",
       "          4.34440553e-01,  4.59233075e-01,  1.59075558e-02,  4.16404784e-01,\n",
       "          5.20997405e-01,  1.86564118e-01, -3.43529493e-01, -4.01162148e-01,\n",
       "         -1.14708230e-01, -3.04383188e-01,  1.77818760e-01,  1.81996599e-01,\n",
       "         -3.55898142e-01, -2.30893344e-01,  1.68633550e-01,  3.78260732e-01,\n",
       "          8.35477859e-02, -4.92601022e-02,  3.17792714e-01, -1.40344769e-01,\n",
       "         -2.15592146e-01, -4.72647041e-01, -3.01129401e-01,  7.62015060e-02,\n",
       "         -2.64467388e-01,  5.89425087e-01, -3.75532597e-01,  3.11463177e-01,\n",
       "         -3.82608265e-01, -1.87145710e-01,  1.07511304e-01,  4.81413454e-01,\n",
       "         -3.70517075e-01,  9.13751602e-01,  3.13416272e-01, -3.71700972e-02,\n",
       "         -2.20684364e-01,  3.33632827e-02,  8.43844712e-02,  3.63669753e-01,\n",
       "         -3.90953362e-01,  4.34414148e-02,  5.38755432e-02, -5.02653718e-01,\n",
       "         -4.79886532e-02,  3.87387246e-01, -3.70658576e-01, -8.80866647e-02,\n",
       "          5.62034190e-01,  1.96807280e-01,  3.54510039e-01, -7.04474747e-03,\n",
       "          2.86396116e-01, -3.24710429e-01, -4.56296265e-01,  6.40480340e-01,\n",
       "         -1.66969627e-01, -2.29651421e-01,  4.71239269e-01,  5.03743947e-01,\n",
       "         -9.28381458e-03, -1.24756679e-01, -3.33535492e-01,  1.56561285e-02,\n",
       "         -5.00863373e-01, -3.46915126e-02, -1.60414875e-01, -2.88903177e-01,\n",
       "          5.53711280e-02, -3.47948760e-01, -2.99689248e-02, -6.01011455e-01,\n",
       "          2.04214871e-01, -1.17502756e-01,  8.87161851e-01, -3.18923712e-01,\n",
       "          2.01921701e-01, -1.50491342e-01, -2.96503961e-01, -5.45513034e-01,\n",
       "         -7.55594254e+00, -3.07602912e-01, -7.33931661e-01,  2.76375443e-01,\n",
       "         -3.81063372e-02, -4.25567508e-01, -5.56746185e-01,  7.15031922e-01,\n",
       "          1.03148460e-01, -1.20183066e-01,  1.95379347e-01, -2.46749416e-01,\n",
       "          2.61204630e-01, -4.19520229e-01,  1.28750801e-01, -2.49552235e-01,\n",
       "         -3.27073485e-01, -3.92708421e-01,  3.30999851e-01, -5.77767134e-01,\n",
       "          1.53517500e-01, -3.11160266e-01, -3.67485046e-01, -7.97421336e-02,\n",
       "         -2.93412685e-01,  2.62397587e-01,  2.90487468e-01,  1.32861272e-01,\n",
       "         -5.75804114e-02, -4.26647007e-01,  2.99123764e-01,  4.23253238e-01,\n",
       "          2.30126157e-01, -2.98030943e-01, -1.55616403e-01, -1.24722943e-01,\n",
       "         -1.17546916e-01, -4.21186388e-01, -1.46984942e-02, -3.06172520e-01,\n",
       "          2.89188325e-01,  9.73487437e-01, -5.52481890e-01,  2.36258358e-01,\n",
       "         -2.13752478e-01, -1.00061369e+00, -3.57117891e-01, -1.50606275e-01,\n",
       "          4.73449975e-02,  2.09134519e-01, -2.70621508e-01,  2.63942719e-01,\n",
       "          1.31111056e-01,  2.81939149e-01,  2.71912478e-02, -1.22876421e-01,\n",
       "          3.80913615e-01,  2.65676618e-01, -3.01975578e-01, -6.39522970e-02,\n",
       "         -3.13569516e-01, -4.14128423e-01, -2.19377503e-01,  2.21853375e-01,\n",
       "          8.13673511e-02, -3.03570807e-01,  9.34821218e-02, -3.77065301e-01,\n",
       "          8.48600641e-02,  1.01956338e-01,  2.86411703e-01,  2.06183195e-02,\n",
       "         -1.22235246e-01,  1.70136038e-02, -2.41900489e-01,  1.78645685e-01,\n",
       "          8.95606726e-03,  1.66094467e-01, -1.45978183e-01, -1.24336779e-03,\n",
       "          2.25541800e-01,  3.30012232e-01, -1.24594986e-01,  1.13981724e-01,\n",
       "          1.52992740e-01,  4.37779218e-01,  3.21792305e-01,  1.37872547e-01,\n",
       "         -2.53410697e-01, -1.94900960e-01, -2.71702886e-01, -2.58170187e-01,\n",
       "          1.92074865e-01, -2.07271993e-01,  1.73008218e-01,  2.61903405e-02,\n",
       "          2.21194327e-01,  6.44516051e-02,  3.97073507e-01,  1.11220293e-01,\n",
       "         -4.37964499e-01, -5.09510711e-02,  5.93312681e-01,  5.81614673e-03,\n",
       "         -4.00063284e-02,  7.69723356e-02, -7.68374622e-01,  1.24042615e-01,\n",
       "          3.48192304e-01,  1.48867577e-01,  2.83579826e-02,  2.79296279e-01,\n",
       "         -2.26179332e-01, -6.73916221e-01, -8.08510423e-01,  8.60329419e-02,\n",
       "          4.95585911e-02,  1.61017329e-02, -1.30358130e-01,  1.77602798e-01,\n",
       "          3.62692237e-01, -3.20755243e-01,  3.67633641e-01, -9.80150178e-02,\n",
       "         -2.63907790e-01,  6.74494624e-01,  9.25086737e-01, -4.45372462e-02,\n",
       "          9.59305406e-01,  3.02953303e-01, -5.81450522e-01,  3.98925662e-01,\n",
       "          7.35520199e-02,  1.79828972e-01,  9.16866511e-02,  2.77681351e-02,\n",
       "         -2.23722458e-02, -1.98536843e-01, -4.33086604e-01,  1.35833353e-01,\n",
       "         -3.81917581e-02,  1.63703799e-01,  5.42172194e-02,  8.52581024e-01,\n",
       "         -8.65020931e-01, -3.00200105e-01,  1.74042918e-02, -4.83566910e-01,\n",
       "         -2.57535577e-01,  4.46424246e-01,  3.71743329e-02, -7.55965263e-02,\n",
       "         -1.40699670e-02,  1.01276183e+00,  2.15059742e-01, -1.17054969e-01,\n",
       "         -2.83082604e-01,  7.08896935e-01,  2.08318934e-01, -1.73094496e-02,\n",
       "          1.02488458e-01,  4.21052784e-01,  1.07144319e-01, -3.89417917e-01,\n",
       "         -5.91652989e-02, -1.77922919e-01, -1.26908529e+00,  1.75899282e-01,\n",
       "         -2.49285057e-01,  1.60046697e-01,  8.66356045e-02, -4.53517437e-01,\n",
       "          1.96337670e-01, -2.25286245e-01, -1.32004842e-02, -4.58747149e-01,\n",
       "         -1.54194534e-01, -1.87237471e-01,  2.73747236e-01,  4.14569259e-01,\n",
       "          6.01066530e-01,  5.21908849e-02, -2.51991242e-01, -2.08407730e-01,\n",
       "         -3.85374904e-01, -6.42557591e-02, -2.71084428e-01, -5.08016497e-02,\n",
       "         -1.17625341e-01, -1.17262900e-02, -1.70285717e-01,  2.30861396e-01,\n",
       "         -6.29575700e-02,  2.20661730e-01,  4.80241388e-01,  3.76323164e-01,\n",
       "         -2.14364350e-01, -4.63851392e-02,  4.39271420e-01,  2.72089541e-01,\n",
       "         -1.86505839e-02,  6.31838441e-02, -4.88666818e-02, -6.02969050e-01,\n",
       "          5.54935634e-02, -9.63999629e-02,  4.64559868e-02, -3.55333030e-01,\n",
       "          2.27832779e-01, -1.30352363e-01, -5.18150687e-01,  7.15640187e-02,\n",
       "         -2.57204890e-01, -4.82929736e-01,  1.13980561e-01,  9.87948701e-02,\n",
       "          6.21951699e-01,  2.64852971e-01, -9.84872133e-03,  1.93976283e-01,\n",
       "          9.72535253e-01, -4.37117308e-01, -5.52692190e-02,  1.43612951e-01,\n",
       "          1.37263328e-01,  5.63774467e-01, -3.19470704e-01, -5.56914330e-01,\n",
       "          9.10044193e-01,  1.02094531e+00, -2.79641926e-01,  1.69360191e-01,\n",
       "          6.49338007e-01,  1.62870958e-02, -2.58519650e-01,  4.62337792e-01,\n",
       "          8.33769888e-03,  1.66311592e-01, -5.29996812e-01, -3.96562070e-01,\n",
       "          4.42783833e-01, -4.35144961e-01, -1.12657554e-01, -5.91418386e-01,\n",
       "         -6.97710812e-02,  1.42027497e-01, -5.70107102e-02, -1.19240105e+00,\n",
       "         -9.98716801e-02,  1.34933352e-01, -1.38023227e-01,  4.58349198e-01,\n",
       "          2.99834132e-01,  1.13539159e-01, -3.24280560e-02,  4.82205957e-01,\n",
       "         -6.70783222e-03,  3.68283510e-01, -4.92243886e-01, -4.96995807e-01,\n",
       "          8.71097594e-02,  3.60493660e-01, -2.91453153e-01,  1.89689040e-01,\n",
       "          2.88319409e-01,  1.89245135e-01,  4.15247440e-01,  3.93822968e-01,\n",
       "          6.70240521e-02,  1.18591599e-01,  2.03822017e-01,  3.09727132e-01,\n",
       "         -1.03905869e+00,  1.00708187e-01, -3.46950263e-01, -7.11124003e-01,\n",
       "          2.19739079e-01, -3.75397414e-01, -1.49242759e-01, -1.31633371e-01,\n",
       "          3.87716353e-01,  1.66891262e-01, -2.79232532e-01,  3.40480268e-01,\n",
       "          1.28383720e+00,  4.47377980e-01, -4.99652654e-01,  6.80805296e-02,\n",
       "          1.93800688e-01, -4.66281414e-01, -3.24694633e-01,  4.52671468e-01,\n",
       "          6.36974275e-01, -5.52959800e-01, -3.60255182e-01,  2.44810387e-01,\n",
       "          4.48152423e-01, -1.36061239e+00, -6.27630353e-01, -4.96798515e-01,\n",
       "         -2.55364478e-01, -2.31491476e-01, -4.22791451e-01,  5.82912043e-02,\n",
       "          1.66392654e-01, -1.81972235e-01, -2.80027092e-02, -1.10625100e+00,\n",
       "         -2.42384911e-01, -5.38298488e-03,  5.45773357e-02,  4.92288321e-01,\n",
       "          5.82862854e-01,  6.99675679e-02, -1.32694960e-01, -1.24439806e-01,\n",
       "          1.17965177e-01, -5.18843472e-01,  1.41520768e-01,  2.33870193e-01,\n",
       "         -2.55562484e-01,  3.20638865e-02, -2.35053837e-01, -7.50058144e-02,\n",
       "          1.83491513e-01, -2.26003438e-01, -4.67876680e-02, -4.84446585e-01,\n",
       "          1.32368505e-03,  1.80094272e-01, -5.87352067e-02,  4.83563125e-01,\n",
       "         -1.89499229e-01,  1.46728665e-01,  1.09355986e-01, -2.21458301e-02,\n",
       "          8.62182498e-01,  4.46288735e-02,  4.11656052e-02, -1.07233435e-01,\n",
       "         -1.42558658e+00, -2.29099989e-02,  3.02543342e-02, -6.55454546e-02,\n",
       "         -3.69320869e-01,  3.49037915e-01, -1.39473155e-01, -3.50913525e-01,\n",
       "          5.00595033e-01,  2.30925143e-01,  6.78199381e-02, -3.58808190e-02,\n",
       "          2.69007027e-01, -3.60765308e-01,  1.48540467e-01, -1.11659899e-01,\n",
       "          1.65722325e-01, -1.74422592e-01,  6.02166772e-01, -5.95447719e-01,\n",
       "          5.30353151e-02,  3.13134521e-01, -1.14288285e-01,  2.30084494e-01,\n",
       "         -9.50212926e-02,  3.74261513e-02,  4.72848043e-02,  3.89316976e-01,\n",
       "         -1.91700161e-01, -6.25342429e-01,  1.30044207e-01, -2.84482330e-01,\n",
       "          2.88615912e-01,  6.24580801e-01, -2.44024336e-01,  3.08966935e-01,\n",
       "         -4.79465485e-01,  1.58533812e-01, -1.07290745e-01,  1.56250238e-01,\n",
       "         -8.48602504e-02, -1.20531544e-01, -2.89525986e-02,  1.08974949e-01,\n",
       "         -5.89703918e-02, -1.22340046e-01, -5.80231905e-01,  3.90334785e-01,\n",
       "         -2.84631491e-01, -2.73000240e-01,  1.78806484e-04, -2.62511760e-01,\n",
       "         -1.67289659e-01,  1.97977111e-01,  3.60869020e-01, -1.84509903e-01,\n",
       "         -2.80596942e-01,  3.33183616e-01, -3.97965550e-01, -3.51971313e-02,\n",
       "          5.49232006e-01, -1.35926515e-01,  2.50816524e-01, -1.27449110e-01,\n",
       "         -3.03551614e-01,  3.90902013e-02, -7.27588654e-01,  5.22637427e-01,\n",
       "         -1.97005153e-01, -1.98382825e-01, -1.41841352e-01,  4.17657644e-02,\n",
       "         -2.93501675e-01,  2.08419263e-01,  4.97290269e-02,  1.47696018e-01,\n",
       "         -2.94044942e-01,  7.31241643e-01,  1.16539150e-02,  5.49460649e-02],\n",
       "        dtype=float32),\n",
       "  'prediction': 24}]"
      ]
     },
     "execution_count": null,
     "metadata": {},
     "output_type": "execute_result"
    }
   ],
   "source": [
    "# y_pred (batch inference).\n",
    "pred_ds = test_ds.map_batches(\n",
    "    predictor,\n",
    "    concurrency=4,\n",
    "    batch_size=64,\n",
    "    num_gpus=1,\n",
    "    accelerator_type=\"L4\",\n",
    ")\n",
    "pred_ds.take(1)\n"
   ]
  },
  {
   "cell_type": "code",
   "execution_count": null,
   "metadata": {},
   "outputs": [],
   "source": [
    "def batch_metric(batch):\n",
    "    labels = batch[\"label\"]\n",
    "    preds = batch[\"prediction\"]\n",
    "    mcm = multilabel_confusion_matrix(labels, preds)\n",
    "    tn, fp, fn, tp = [], [], [], []\n",
    "    for i in range(mcm.shape[0]):\n",
    "        tn.append(mcm[i, 0, 0])  # True negatives\n",
    "        fp.append(mcm[i, 0, 1])  # False positives\n",
    "        fn.append(mcm[i, 1, 0])  # False negatives\n",
    "        tp.append(mcm[i, 1, 1])  # True positives\n",
    "    return {\"TN\": tn, \"FP\": fp, \"FN\": fn, \"TP\": tp}\n"
   ]
  },
  {
   "cell_type": "code",
   "execution_count": null,
   "metadata": {},
   "outputs": [
    {
     "name": "stderr",
     "output_type": "stream",
     "text": [
      "2025-08-21 20:16:56,576\tINFO logging.py:295 -- Registered dataset logger for dataset dataset_57_0\n",
      "2025-08-21 20:16:56,588\tINFO streaming_executor.py:117 -- Starting execution of Dataset dataset_57_0. Full logs are in /tmp/ray/session_2025-08-21_18-48-13_464408_2298/logs/ray-data\n",
      "2025-08-21 20:16:56,589\tINFO streaming_executor.py:118 -- Execution plan of Dataset dataset_57_0: InputDataBuffer[Input] -> TaskPoolMapOperator[ListFiles] -> TaskPoolMapOperator[ReadFiles] -> TaskPoolMapOperator[Map(add_class)->Map(convert_to_label)] -> ActorPoolMapOperator[MapBatches(EmbedImages)] -> TaskPoolMapOperator[MapBatches(drop_columns)] -> TaskPoolMapOperator[MapBatches(TorchPredictor)] -> TaskPoolMapOperator[MapBatches(batch_metric)] -> AllToAllOperator[Aggregate] -> LimitOperator[limit=1]\n"
     ]
    },
    {
     "data": {
      "application/vnd.jupyter.widget-view+json": {
       "model_id": "add245ff3059457fb03413176b829b0f",
       "version_major": 2,
       "version_minor": 0
      },
      "text/plain": [
       "Running 0: 0.00 row [00:00, ? row/s]"
      ]
     },
     "metadata": {},
     "output_type": "display_data"
    },
    {
     "data": {
      "application/vnd.jupyter.widget-view+json": {
       "model_id": "402462aca02a47fabab74015558fed89",
       "version_major": 2,
       "version_minor": 0
      },
      "text/plain": [
       "- ListFiles 1: 0.00 row [00:00, ? row/s]"
      ]
     },
     "metadata": {},
     "output_type": "display_data"
    },
    {
     "data": {
      "application/vnd.jupyter.widget-view+json": {
       "model_id": "3620068dbf42418c997dc76fe01a4569",
       "version_major": 2,
       "version_minor": 0
      },
      "text/plain": [
       "- ReadFiles 2: 0.00 row [00:00, ? row/s]"
      ]
     },
     "metadata": {},
     "output_type": "display_data"
    },
    {
     "data": {
      "application/vnd.jupyter.widget-view+json": {
       "model_id": "bbf4503cd8674742bfec026b2985d811",
       "version_major": 2,
       "version_minor": 0
      },
      "text/plain": [
       "- Map(add_class)->Map(convert_to_label) 3: 0.00 row [00:00, ? row/s]"
      ]
     },
     "metadata": {},
     "output_type": "display_data"
    },
    {
     "data": {
      "application/vnd.jupyter.widget-view+json": {
       "model_id": "f23abad6fb6d42d79db28f738c550927",
       "version_major": 2,
       "version_minor": 0
      },
      "text/plain": [
       "- MapBatches(EmbedImages) 4: 0.00 row [00:00, ? row/s]"
      ]
     },
     "metadata": {},
     "output_type": "display_data"
    },
    {
     "data": {
      "application/vnd.jupyter.widget-view+json": {
       "model_id": "37e377c7ba094f7c9eaad7ac484a03bd",
       "version_major": 2,
       "version_minor": 0
      },
      "text/plain": [
       "- MapBatches(drop_columns) 5: 0.00 row [00:00, ? row/s]"
      ]
     },
     "metadata": {},
     "output_type": "display_data"
    },
    {
     "data": {
      "application/vnd.jupyter.widget-view+json": {
       "model_id": "5dc2641e17104d5490794216239d91ad",
       "version_major": 2,
       "version_minor": 0
      },
      "text/plain": [
       "- MapBatches(TorchPredictor) 6: 0.00 row [00:00, ? row/s]"
      ]
     },
     "metadata": {},
     "output_type": "display_data"
    },
    {
     "data": {
      "application/vnd.jupyter.widget-view+json": {
       "model_id": "abe2eba281874a7587f586f53688e513",
       "version_major": 2,
       "version_minor": 0
      },
      "text/plain": [
       "- MapBatches(batch_metric) 7: 0.00 row [00:00, ? row/s]"
      ]
     },
     "metadata": {},
     "output_type": "display_data"
    },
    {
     "data": {
      "application/vnd.jupyter.widget-view+json": {
       "model_id": "e3a444da5893498386864b2efa5a6767",
       "version_major": 2,
       "version_minor": 0
      },
      "text/plain": [
       "- Aggregate 8: 0.00 row [00:00, ? row/s]"
      ]
     },
     "metadata": {},
     "output_type": "display_data"
    },
    {
     "data": {
      "application/vnd.jupyter.widget-view+json": {
       "model_id": "72f852e9fcf04ca4aef95cbcdaa8f637",
       "version_major": 2,
       "version_minor": 0
      },
      "text/plain": [
       "Sort Sample 9:   0%|          | 0.00/1.00 [00:00<?, ? row/s]"
      ]
     },
     "metadata": {},
     "output_type": "display_data"
    },
    {
     "data": {
      "application/vnd.jupyter.widget-view+json": {
       "model_id": "6e199f26e7be4f6284c82b067cd8a855",
       "version_major": 2,
       "version_minor": 0
      },
      "text/plain": [
       "Shuffle Map 10:   0%|          | 0.00/1.00 [00:00<?, ? row/s]"
      ]
     },
     "metadata": {},
     "output_type": "display_data"
    },
    {
     "data": {
      "application/vnd.jupyter.widget-view+json": {
       "model_id": "91d2244d68014798955de30efd1c229c",
       "version_major": 2,
       "version_minor": 0
      },
      "text/plain": [
       "Shuffle Reduce 11:   0%|          | 0.00/1.00 [00:00<?, ? row/s]"
      ]
     },
     "metadata": {},
     "output_type": "display_data"
    },
    {
     "data": {
      "application/vnd.jupyter.widget-view+json": {
       "model_id": "207c45d59b7246c08fa2abc2a55a8580",
       "version_major": 2,
       "version_minor": 0
      },
      "text/plain": [
       "- limit=1 12: 0.00 row [00:00, ? row/s]"
      ]
     },
     "metadata": {},
     "output_type": "display_data"
    },
    {
     "name": "stderr",
     "output_type": "stream",
     "text": [
      "2025-08-21 20:18:01,205\tINFO streaming_executor.py:231 -- ✔️  Dataset dataset_57_0 execution finished in 64.61 seconds\n"
     ]
    }
   ],
   "source": [
    "# Aggregated metrics after processing all batches.\n",
    "metrics_ds = pred_ds.map_batches(batch_metric)\n",
    "aggregate_metrics = metrics_ds.sum([\"TN\", \"FP\", \"FN\", \"TP\"])\n",
    "\n",
    "# Aggregate the confusion matrix components across all batches.\n",
    "tn = aggregate_metrics[\"sum(TN)\"]\n",
    "fp = aggregate_metrics[\"sum(FP)\"]\n",
    "fn = aggregate_metrics[\"sum(FN)\"]\n",
    "tp = aggregate_metrics[\"sum(TP)\"]\n",
    "\n",
    "# Calculate metrics.\n",
    "precision = tp / (tp + fp) if (tp + fp) > 0 else 0\n",
    "recall = tp / (tp + fn) if (tp + fn) > 0 else 0\n",
    "f1 = 2 * precision * recall / (precision + recall) if (precision + recall) > 0 else 0\n",
    "accuracy = (tp + tn) / (tp + tn + fp + fn)\n"
   ]
  },
  {
   "cell_type": "code",
   "execution_count": null,
   "metadata": {},
   "outputs": [
    {
     "name": "stdout",
     "output_type": "stream",
     "text": [
      "Precision: 0.84\n",
      "Recall: 0.84\n",
      "F1: 0.84\n",
      "Accuracy: 0.98\n"
     ]
    }
   ],
   "source": [
    "print(f\"Precision: {precision:.2f}\")\n",
    "print(f\"Recall: {recall:.2f}\")\n",
    "print(f\"F1: {f1:.2f}\")\n",
    "print(f\"Accuracy: {accuracy:.2f}\")\n"
   ]
  },
  {
   "cell_type": "markdown",
   "metadata": {},
   "source": [
    "**🚨 Note**: Reset this notebook using the **\"🔄 Restart\"** button location at the notebook's menu bar. This way we can free up all the variables, utils, etc. used in this notebook."
   ]
  }
 ],
 "metadata": {
  "kernelspec": {
   "display_name": "base",
   "language": "python",
   "name": "python3"
  },
  "language_info": {
   "codemirror_mode": {
    "name": "ipython",
    "version": 3
   },
   "file_extension": ".py",
   "mimetype": "text/x-python",
   "name": "python",
   "nbconvert_exporter": "python",
   "pygments_lexer": "ipython3",
   "version": "3.12.11"
  }
 },
 "nbformat": 4,
 "nbformat_minor": 2
}
