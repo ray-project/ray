{
 "cells": [
  {
   "cell_type": "markdown",
   "id": "b65c3788",
   "metadata": {},
   "source": [
    "# Face Mask Detection Pipeline\n",
    "\n",
    "## Overview\n",
    "This tutorial builds an end-to-end face mask detection pipeline that leverages distributed fine-tuning, large-scale batch inference, video analytics, and scalable serving:\n",
    "\n",
    "[1.object_detection_train.ipynb](1.object_detection_train.ipynb)  \n",
    "Fine-tune a pre-trained Faster R-CNN model on a face mask dataset in Pascal Visual Object Classes (VOC) format using Ray Train. Parse XML annotations with Ray Data, retrieve images from S3, run a distributed training loop, checkpoint the model, and visualize inference results.  \n",
    "<img\n",
    "  src=\"https://face-masks-data.s3.us-east-2.amazonaws.com/tutorial-diagrams/train_object_detection.png\"\n",
    "  alt=\"Object Detection Training Pipeline\"\n",
    "  style=\"width:75%;\"\n",
    "/>\n",
    "\n",
    "[2.object_detection_batch_inference_eval.ipynb](2.object_detection_batch_inference_eval.ipynb)  \n",
    "Load a fine-tuned model from S3 into Anyscale cluster storage, perform GPU-accelerated batch inference on a test set with Ray Data, and calculate object detection metrics (mAP, IoU, recall) using TorchMetrics for comprehensive model evaluation.  \n",
    "<img\n",
    "  src=\"https://face-masks-data.s3.us-east-2.amazonaws.com/tutorial-diagrams/batch_inference_metrics_calculation.png\"\n",
    "  alt=\"Metrics Calculation Pipeline\"\n",
    "  style=\"width:75%;\"\n",
    "/>\n",
    "\n",
    "[3.video_processing_batch_inference.ipynb](3.video_processing_batch_inference.ipynb)  \n",
    "Demonstrate a real-world video analytics workflow: read a video from S3, split it into frames, apply the detection model in parallel using Ray Data batch inference, draw bounding boxes and labels on each frame, and regenerate an annotated video for downstream consumption.  \n",
    "<img\n",
    "  src=\"https://face-masks-data.s3.us-east-2.amazonaws.com/tutorial-diagrams/video_processing.png\"\n",
    "  alt=\"Video Processing Pipeline\"\n",
    "  style=\"width:75%;\"\n",
    "/>\n",
    "\n",
    "[4.object_detection_serve.ipynb](4.object_detection_serve.ipynb)  \n",
    "Deploy the trained Faster R-CNN mask detector as a production-ready microservice using Ray Serve and FastAPI. Set up ingress, configure autoscaling and fractional GPU allocation, test the HTTP endpoint, and manage the service lifecycle both locally and through Anyscale Services.\n"
   ]
  }
 ],
 "metadata": {
  "language_info": {
   "name": "python"
  }
 },
 "nbformat": 4,
 "nbformat_minor": 5
}
