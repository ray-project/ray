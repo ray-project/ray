{
 "cells": [
  {
   "attachments": {},
   "cell_type": "markdown",
   "id": "98e0d4f3",
   "metadata": {},
   "source": [
    "# Scaling Many Model Training with Ray Tune\n",
    "\n",
    "This template is a quickstart to using [Ray Tune](https://docs.ray.io/en/latest/tune/index.html) for batch inference. Ray Tune is one of many libraries under the [Ray AI Runtime](https://docs.ray.io/en/latest/ray-air/getting-started.html). See [this blog post](https://www.anyscale.com/blog/training-one-million-machine-learning-models-in-record-time-with-ray) for more information on the benefits of performing many model training with Ray!\n",
    "\n",
    "This template walks through time-series forecasting using `statsforecast`, but the framework and data format can be swapped out easily -- they are there just to help you build your own application!\n",
    "\n",
    "At a high level, this template will:\n",
    "\n",
    "1. [Define the training function for a single partition of data.](https://docs.ray.io/en/latest/tune/tutorials/tune-run.html)\n",
    "2. [Define a Tune search space to run training over many partitions of data.](https://docs.ray.io/en/latest/tune/tutorials/tune-search-spaces.html)\n",
    "3. [Extract the best model per dataset partition from the Tune experiment output.](https://docs.ray.io/en/latest/tune/examples/tune_analyze_results.html)"
   ]
  },
  {
   "cell_type": "markdown",
   "id": "08e65f8d",
   "metadata": {},
   "source": [
    "> Slot in your code below wherever you see the ✂️ icon to build a many model training Ray application off of this template!"
   ]
  },
  {
   "attachments": {},
   "cell_type": "markdown",
   "id": "c56bb4d0",
   "metadata": {},
   "source": [
    "## Handling Dependencies\n",
    "\n",
    "This template requires certain Python packages to be available to every node in the cluster.\n",
    "\n",
    "> ✂️ Add your own package dependencies! You can specify bounds for package versions\n",
    "> in the same format as a `requirements.txt` file.\n"
   ]
  },
  {
   "cell_type": "code",
   "execution_count": 3,
   "id": "0c9b3dec",
   "metadata": {
    "tags": []
   },
   "outputs": [],
   "source": [
    "requirements = [\n",
    "    \"statsforecast==1.5.0\",\n",
    "]\n"
   ]
  },
  {
   "attachments": {},
   "cell_type": "markdown",
   "id": "eff9369f",
   "metadata": {},
   "source": [
    "First, we may want to use these modules right here in our script, which is running on the head node.\n",
    "Install the Python packages on the head node using `pip install`.\n",
    "\n",
    "You may need to restart this notebook kernel to access the installed packages.\n"
   ]
  },
  {
   "cell_type": "code",
   "execution_count": 4,
   "id": "5cba940c",
   "metadata": {},
   "outputs": [
    {
     "name": "stdout",
     "output_type": "stream",
     "text": [
      "Collecting statsforecast==1.5.0\n",
      "  Downloading statsforecast-1.5.0-py3-none-any.whl (99 kB)\n",
      "\u001b[2K     \u001b[90m━━━━━━━━━━━━━━━━━━━━━━━━━━━━━━━━━━━━━━━\u001b[0m \u001b[32m100.0/100.0 kB\u001b[0m \u001b[31m4.0 MB/s\u001b[0m eta \u001b[36m0:00:00\u001b[0m\n",
      "\u001b[?25hRequirement already satisfied: tqdm in /Users/justin/miniforge3/envs/ray_dev_py38/lib/python3.8/site-packages (from statsforecast==1.5.0) (4.64.0)\n",
      "Requirement already satisfied: numpy>=1.21.6 in /Users/justin/miniforge3/envs/ray_dev_py38/lib/python3.8/site-packages (from statsforecast==1.5.0) (1.22.4)\n",
      "Requirement already satisfied: statsmodels>=0.13.2 in /Users/justin/miniforge3/envs/ray_dev_py38/lib/python3.8/site-packages (from statsforecast==1.5.0) (0.13.5)\n",
      "Collecting plotly-resampler\n",
      "  Downloading plotly_resampler-0.8.3.2.tar.gz (46 kB)\n",
      "\u001b[2K     \u001b[90m━━━━━━━━━━━━━━━━━━━━━━━━━━━━━━━━━━━━━━━━\u001b[0m \u001b[32m46.4/46.4 kB\u001b[0m \u001b[31m2.9 MB/s\u001b[0m eta \u001b[36m0:00:00\u001b[0m\n",
      "\u001b[?25h  Installing build dependencies ... \u001b[?25ldone\n",
      "\u001b[?25h  Getting requirements to build wheel ... \u001b[?25ldone\n",
      "\u001b[?25h  Preparing metadata (pyproject.toml) ... \u001b[?25ldone\n",
      "\u001b[?25hRequirement already satisfied: matplotlib in /Users/justin/miniforge3/envs/ray_dev_py38/lib/python3.8/site-packages (from statsforecast==1.5.0) (3.5.3)\n",
      "Requirement already satisfied: pandas>=1.3.5 in /Users/justin/miniforge3/envs/ray_dev_py38/lib/python3.8/site-packages (from statsforecast==1.5.0) (1.4.3)\n",
      "Requirement already satisfied: plotly in /Users/justin/miniforge3/envs/ray_dev_py38/lib/python3.8/site-packages (from statsforecast==1.5.0) (5.11.0)\n",
      "Requirement already satisfied: numba>=0.55.0 in /Users/justin/miniforge3/envs/ray_dev_py38/lib/python3.8/site-packages (from statsforecast==1.5.0) (0.56.0)\n",
      "Collecting fugue>=0.8.1\n",
      "  Downloading fugue-0.8.3-py3-none-any.whl (372 kB)\n",
      "\u001b[2K     \u001b[90m━━━━━━━━━━━━━━━━━━━━━━━━━━━━━━━━━━━━━━\u001b[0m \u001b[32m372.4/372.4 kB\u001b[0m \u001b[31m12.4 MB/s\u001b[0m eta \u001b[36m0:00:00\u001b[0m\n",
      "\u001b[?25hRequirement already satisfied: scipy>=1.7.3 in /Users/justin/miniforge3/envs/ray_dev_py38/lib/python3.8/site-packages (from statsforecast==1.5.0) (1.8.1)\n",
      "Requirement already satisfied: jinja2 in /Users/justin/miniforge3/envs/ray_dev_py38/lib/python3.8/site-packages (from fugue>=0.8.1->statsforecast==1.5.0) (3.0.3)\n",
      "Collecting sqlglot\n",
      "  Downloading sqlglot-11.5.5-py3-none-any.whl (246 kB)\n",
      "\u001b[2K     \u001b[90m━━━━━━━━━━━━━━━━━━━━━━━━━━━━━━━━━━━━━━\u001b[0m \u001b[32m246.7/246.7 kB\u001b[0m \u001b[31m12.6 MB/s\u001b[0m eta \u001b[36m0:00:00\u001b[0m\n",
      "\u001b[?25hCollecting qpd>=0.4.0\n",
      "  Downloading qpd-0.4.1-py3-none-any.whl (187 kB)\n",
      "\u001b[2K     \u001b[90m━━━━━━━━━━━━━━━━━━━━━━━━━━━━━━━━━━━━━━\u001b[0m \u001b[32m187.9/187.9 kB\u001b[0m \u001b[31m10.9 MB/s\u001b[0m eta \u001b[36m0:00:00\u001b[0m\n",
      "\u001b[?25hCollecting triad>=0.8.4\n",
      "  Downloading triad-0.8.6-py3-none-any.whl (77 kB)\n",
      "\u001b[2K     \u001b[90m━━━━━━━━━━━━━━━━━━━━━━━━━━━━━━━━━━━━━━━━\u001b[0m \u001b[32m77.2/77.2 kB\u001b[0m \u001b[31m6.7 MB/s\u001b[0m eta \u001b[36m0:00:00\u001b[0m\n",
      "\u001b[?25hCollecting fugue-sql-antlr>=0.1.6\n",
      "  Downloading fugue-sql-antlr-0.1.6.tar.gz (154 kB)\n",
      "\u001b[2K     \u001b[90m━━━━━━━━━━━━━━━━━━━━━━━━━━━━━━━━━━━━━━━\u001b[0m \u001b[32m154.6/154.6 kB\u001b[0m \u001b[31m9.8 MB/s\u001b[0m eta \u001b[36m0:00:00\u001b[0m\n",
      "\u001b[?25h  Preparing metadata (setup.py) ... \u001b[?25ldone\n",
      "\u001b[?25hCollecting adagio>=0.2.4\n",
      "  Downloading adagio-0.2.4-py3-none-any.whl (26 kB)\n",
      "Requirement already satisfied: pyarrow>=0.15.1 in /Users/justin/miniforge3/envs/ray_dev_py38/lib/python3.8/site-packages (from fugue>=0.8.1->statsforecast==1.5.0) (11.0.0)\n",
      "Requirement already satisfied: llvmlite<0.40,>=0.39.0dev0 in /Users/justin/miniforge3/envs/ray_dev_py38/lib/python3.8/site-packages (from numba>=0.55.0->statsforecast==1.5.0) (0.39.0)\n",
      "Requirement already satisfied: setuptools in /Users/justin/miniforge3/envs/ray_dev_py38/lib/python3.8/site-packages (from numba>=0.55.0->statsforecast==1.5.0) (66.1.1)\n",
      "Requirement already satisfied: importlib-metadata in /Users/justin/miniforge3/envs/ray_dev_py38/lib/python3.8/site-packages (from numba>=0.55.0->statsforecast==1.5.0) (5.2.0)\n",
      "Requirement already satisfied: python-dateutil>=2.8.1 in /Users/justin/miniforge3/envs/ray_dev_py38/lib/python3.8/site-packages (from pandas>=1.3.5->statsforecast==1.5.0) (2.8.2)\n",
      "Requirement already satisfied: pytz>=2020.1 in /Users/justin/miniforge3/envs/ray_dev_py38/lib/python3.8/site-packages (from pandas>=1.3.5->statsforecast==1.5.0) (2022.2.1)\n",
      "Requirement already satisfied: patsy>=0.5.2 in /Users/justin/miniforge3/envs/ray_dev_py38/lib/python3.8/site-packages (from statsmodels>=0.13.2->statsforecast==1.5.0) (0.5.3)\n",
      "Requirement already satisfied: packaging>=21.3 in /Users/justin/miniforge3/envs/ray_dev_py38/lib/python3.8/site-packages (from statsmodels>=0.13.2->statsforecast==1.5.0) (23.0)\n",
      "Requirement already satisfied: pillow>=6.2.0 in /Users/justin/miniforge3/envs/ray_dev_py38/lib/python3.8/site-packages (from matplotlib->statsforecast==1.5.0) (9.2.0)\n",
      "Requirement already satisfied: kiwisolver>=1.0.1 in /Users/justin/miniforge3/envs/ray_dev_py38/lib/python3.8/site-packages (from matplotlib->statsforecast==1.5.0) (1.4.4)\n",
      "Requirement already satisfied: pyparsing>=2.2.1 in /Users/justin/miniforge3/envs/ray_dev_py38/lib/python3.8/site-packages (from matplotlib->statsforecast==1.5.0) (3.0.9)\n",
      "Requirement already satisfied: cycler>=0.10 in /Users/justin/miniforge3/envs/ray_dev_py38/lib/python3.8/site-packages (from matplotlib->statsforecast==1.5.0) (0.11.0)\n",
      "Requirement already satisfied: fonttools>=4.22.0 in /Users/justin/miniforge3/envs/ray_dev_py38/lib/python3.8/site-packages (from matplotlib->statsforecast==1.5.0) (4.36.0)\n",
      "Requirement already satisfied: tenacity>=6.2.0 in /Users/justin/miniforge3/envs/ray_dev_py38/lib/python3.8/site-packages (from plotly->statsforecast==1.5.0) (8.1.0)\n",
      "Collecting trace-updater>=0.0.8\n",
      "  Downloading trace_updater-0.0.9.1-py3-none-any.whl (185 kB)\n",
      "\u001b[2K     \u001b[90m━━━━━━━━━━━━━━━━━━━━━━━━━━━━━━━━━━━━━━\u001b[0m \u001b[32m185.2/185.2 kB\u001b[0m \u001b[31m10.3 MB/s\u001b[0m eta \u001b[36m0:00:00\u001b[0m\n",
      "\u001b[?25hCollecting orjson<4.0.0,>=3.8.0\n",
      "  Downloading orjson-3.8.10-cp38-cp38-macosx_10_9_x86_64.macosx_11_0_arm64.macosx_10_9_universal2.whl (482 kB)\n",
      "\u001b[2K     \u001b[90m━━━━━━━━━━━━━━━━━━━━━━━━━━━━━━━━━━━━━━\u001b[0m \u001b[32m482.4/482.4 kB\u001b[0m \u001b[31m14.1 MB/s\u001b[0m eta \u001b[36m0:00:00\u001b[0m\n",
      "\u001b[?25hCollecting jupyter-dash>=0.4.2\n",
      "  Downloading jupyter_dash-0.4.2-py3-none-any.whl (23 kB)\n",
      "Collecting dash<3.0.0,>=2.2.0\n",
      "  Downloading dash-2.9.3-py3-none-any.whl (10.2 MB)\n",
      "\u001b[2K     \u001b[90m━━━━━━━━━━━━━━━━━━━━━━━━━━━━━━━━━━━━━━━━\u001b[0m \u001b[32m10.2/10.2 MB\u001b[0m \u001b[31m17.3 MB/s\u001b[0m eta \u001b[36m0:00:00\u001b[0m00:01\u001b[0m0:01\u001b[0m\n",
      "\u001b[?25hRequirement already satisfied: Flask>=1.0.4 in /Users/justin/miniforge3/envs/ray_dev_py38/lib/python3.8/site-packages (from dash<3.0.0,>=2.2.0->plotly-resampler->statsforecast==1.5.0) (2.0.3)\n",
      "Collecting dash-core-components==2.0.0\n",
      "  Downloading dash_core_components-2.0.0-py3-none-any.whl (3.8 kB)\n",
      "Collecting dash-html-components==2.0.0\n",
      "  Downloading dash_html_components-2.0.0-py3-none-any.whl (4.1 kB)\n",
      "Collecting dash-table==5.0.0\n",
      "  Downloading dash_table-5.0.0-py3-none-any.whl (3.9 kB)\n",
      "Collecting antlr4-python3-runtime<4.12,>=4.11.1\n",
      "  Downloading antlr4_python3_runtime-4.11.1-py3-none-any.whl (144 kB)\n",
      "\u001b[2K     \u001b[90m━━━━━━━━━━━━━━━━━━━━━━━━━━━━━━━━━━━━━━━\u001b[0m \u001b[32m144.2/144.2 kB\u001b[0m \u001b[31m9.8 MB/s\u001b[0m eta \u001b[36m0:00:00\u001b[0m\n",
      "\u001b[?25hRequirement already satisfied: ipykernel in /Users/justin/miniforge3/envs/ray_dev_py38/lib/python3.8/site-packages (from jupyter-dash>=0.4.2->plotly-resampler->statsforecast==1.5.0) (6.15.1)\n",
      "Requirement already satisfied: requests in /Users/justin/miniforge3/envs/ray_dev_py38/lib/python3.8/site-packages (from jupyter-dash>=0.4.2->plotly-resampler->statsforecast==1.5.0) (2.28.2)\n",
      "Requirement already satisfied: ipython in /Users/justin/miniforge3/envs/ray_dev_py38/lib/python3.8/site-packages (from jupyter-dash>=0.4.2->plotly-resampler->statsforecast==1.5.0) (8.4.0)\n",
      "Collecting retrying\n",
      "  Downloading retrying-1.3.4-py3-none-any.whl (11 kB)\n",
      "Collecting ansi2html\n",
      "  Downloading ansi2html-1.8.0-py3-none-any.whl (16 kB)\n",
      "Requirement already satisfied: nest-asyncio in /Users/justin/miniforge3/envs/ray_dev_py38/lib/python3.8/site-packages (from jupyter-dash>=0.4.2->plotly-resampler->statsforecast==1.5.0) (1.5.5)\n",
      "Requirement already satisfied: six in /Users/justin/miniforge3/envs/ray_dev_py38/lib/python3.8/site-packages (from patsy>=0.5.2->statsmodels>=0.13.2->statsforecast==1.5.0) (1.16.0)\n",
      "Collecting fs\n",
      "  Downloading fs-2.4.16-py2.py3-none-any.whl (135 kB)\n",
      "\u001b[2K     \u001b[90m━━━━━━━━━━━━━━━━━━━━━━━━━━━━━━━━━━━━━━━\u001b[0m \u001b[32m135.3/135.3 kB\u001b[0m \u001b[31m9.1 MB/s\u001b[0m eta \u001b[36m0:00:00\u001b[0m\n",
      "\u001b[?25hRequirement already satisfied: zipp>=0.5 in /Users/justin/miniforge3/envs/ray_dev_py38/lib/python3.8/site-packages (from importlib-metadata->numba>=0.55.0->statsforecast==1.5.0) (3.8.1)\n",
      "Requirement already satisfied: MarkupSafe>=2.0 in /Users/justin/miniforge3/envs/ray_dev_py38/lib/python3.8/site-packages (from jinja2->fugue>=0.8.1->statsforecast==1.5.0) (2.1.1)\n",
      "Requirement already satisfied: Werkzeug>=2.0 in /Users/justin/miniforge3/envs/ray_dev_py38/lib/python3.8/site-packages (from Flask>=1.0.4->dash<3.0.0,>=2.2.0->plotly-resampler->statsforecast==1.5.0) (2.1.2)\n",
      "Requirement already satisfied: itsdangerous>=2.0 in /Users/justin/miniforge3/envs/ray_dev_py38/lib/python3.8/site-packages (from Flask>=1.0.4->dash<3.0.0,>=2.2.0->plotly-resampler->statsforecast==1.5.0) (2.1.2)\n",
      "Requirement already satisfied: click>=7.1.2 in /Users/justin/miniforge3/envs/ray_dev_py38/lib/python3.8/site-packages (from Flask>=1.0.4->dash<3.0.0,>=2.2.0->plotly-resampler->statsforecast==1.5.0) (8.1.3)\n",
      "Collecting appdirs~=1.4.3\n",
      "  Downloading appdirs-1.4.4-py2.py3-none-any.whl (9.6 kB)\n",
      "Requirement already satisfied: psutil in /Users/justin/miniforge3/envs/ray_dev_py38/lib/python3.8/site-packages (from ipykernel->jupyter-dash>=0.4.2->plotly-resampler->statsforecast==1.5.0) (5.9.1)\n",
      "Requirement already satisfied: debugpy>=1.0 in /Users/justin/miniforge3/envs/ray_dev_py38/lib/python3.8/site-packages (from ipykernel->jupyter-dash>=0.4.2->plotly-resampler->statsforecast==1.5.0) (1.6.3)\n",
      "Requirement already satisfied: traitlets>=5.1.0 in /Users/justin/miniforge3/envs/ray_dev_py38/lib/python3.8/site-packages (from ipykernel->jupyter-dash>=0.4.2->plotly-resampler->statsforecast==1.5.0) (5.3.0)\n",
      "Requirement already satisfied: appnope in /Users/justin/miniforge3/envs/ray_dev_py38/lib/python3.8/site-packages (from ipykernel->jupyter-dash>=0.4.2->plotly-resampler->statsforecast==1.5.0) (0.1.3)\n",
      "Requirement already satisfied: tornado>=6.1 in /Users/justin/miniforge3/envs/ray_dev_py38/lib/python3.8/site-packages (from ipykernel->jupyter-dash>=0.4.2->plotly-resampler->statsforecast==1.5.0) (6.2)\n",
      "Requirement already satisfied: pyzmq>=17 in /Users/justin/miniforge3/envs/ray_dev_py38/lib/python3.8/site-packages (from ipykernel->jupyter-dash>=0.4.2->plotly-resampler->statsforecast==1.5.0) (23.2.1)\n",
      "Requirement already satisfied: matplotlib-inline>=0.1 in /Users/justin/miniforge3/envs/ray_dev_py38/lib/python3.8/site-packages (from ipykernel->jupyter-dash>=0.4.2->plotly-resampler->statsforecast==1.5.0) (0.1.6)\n",
      "Requirement already satisfied: jupyter-client>=6.1.12 in /Users/justin/miniforge3/envs/ray_dev_py38/lib/python3.8/site-packages (from ipykernel->jupyter-dash>=0.4.2->plotly-resampler->statsforecast==1.5.0) (7.3.4)\n",
      "Requirement already satisfied: pygments>=2.4.0 in /Users/justin/miniforge3/envs/ray_dev_py38/lib/python3.8/site-packages (from ipython->jupyter-dash>=0.4.2->plotly-resampler->statsforecast==1.5.0) (2.11.2)\n",
      "Requirement already satisfied: stack-data in /Users/justin/miniforge3/envs/ray_dev_py38/lib/python3.8/site-packages (from ipython->jupyter-dash>=0.4.2->plotly-resampler->statsforecast==1.5.0) (0.4.0)\n",
      "Requirement already satisfied: backcall in /Users/justin/miniforge3/envs/ray_dev_py38/lib/python3.8/site-packages (from ipython->jupyter-dash>=0.4.2->plotly-resampler->statsforecast==1.5.0) (0.2.0)\n",
      "Requirement already satisfied: jedi>=0.16 in /Users/justin/miniforge3/envs/ray_dev_py38/lib/python3.8/site-packages (from ipython->jupyter-dash>=0.4.2->plotly-resampler->statsforecast==1.5.0) (0.18.1)\n",
      "Requirement already satisfied: decorator in /Users/justin/miniforge3/envs/ray_dev_py38/lib/python3.8/site-packages (from ipython->jupyter-dash>=0.4.2->plotly-resampler->statsforecast==1.5.0) (5.1.1)\n",
      "Requirement already satisfied: prompt-toolkit!=3.0.0,!=3.0.1,<3.1.0,>=2.0.0 in /Users/justin/miniforge3/envs/ray_dev_py38/lib/python3.8/site-packages (from ipython->jupyter-dash>=0.4.2->plotly-resampler->statsforecast==1.5.0) (3.0.30)\n",
      "Requirement already satisfied: pexpect>4.3 in /Users/justin/miniforge3/envs/ray_dev_py38/lib/python3.8/site-packages (from ipython->jupyter-dash>=0.4.2->plotly-resampler->statsforecast==1.5.0) (4.8.0)\n",
      "Requirement already satisfied: pickleshare in /Users/justin/miniforge3/envs/ray_dev_py38/lib/python3.8/site-packages (from ipython->jupyter-dash>=0.4.2->plotly-resampler->statsforecast==1.5.0) (0.7.5)\n",
      "Requirement already satisfied: idna<4,>=2.5 in /Users/justin/miniforge3/envs/ray_dev_py38/lib/python3.8/site-packages (from requests->jupyter-dash>=0.4.2->plotly-resampler->statsforecast==1.5.0) (2.10)\n",
      "Requirement already satisfied: certifi>=2017.4.17 in /Users/justin/miniforge3/envs/ray_dev_py38/lib/python3.8/site-packages (from requests->jupyter-dash>=0.4.2->plotly-resampler->statsforecast==1.5.0) (2022.6.15)\n",
      "Requirement already satisfied: urllib3<1.27,>=1.21.1 in /Users/justin/miniforge3/envs/ray_dev_py38/lib/python3.8/site-packages (from requests->jupyter-dash>=0.4.2->plotly-resampler->statsforecast==1.5.0) (1.26.13)\n",
      "Requirement already satisfied: charset-normalizer<4,>=2 in /Users/justin/miniforge3/envs/ray_dev_py38/lib/python3.8/site-packages (from requests->jupyter-dash>=0.4.2->plotly-resampler->statsforecast==1.5.0) (2.1.0)\n",
      "Requirement already satisfied: parso<0.9.0,>=0.8.0 in /Users/justin/miniforge3/envs/ray_dev_py38/lib/python3.8/site-packages (from jedi>=0.16->ipython->jupyter-dash>=0.4.2->plotly-resampler->statsforecast==1.5.0) (0.8.3)\n",
      "Requirement already satisfied: jupyter-core>=4.9.2 in /Users/justin/miniforge3/envs/ray_dev_py38/lib/python3.8/site-packages (from jupyter-client>=6.1.12->ipykernel->jupyter-dash>=0.4.2->plotly-resampler->statsforecast==1.5.0) (4.11.1)\n",
      "Requirement already satisfied: entrypoints in /Users/justin/miniforge3/envs/ray_dev_py38/lib/python3.8/site-packages (from jupyter-client>=6.1.12->ipykernel->jupyter-dash>=0.4.2->plotly-resampler->statsforecast==1.5.0) (0.4)\n",
      "Requirement already satisfied: ptyprocess>=0.5 in /Users/justin/miniforge3/envs/ray_dev_py38/lib/python3.8/site-packages (from pexpect>4.3->ipython->jupyter-dash>=0.4.2->plotly-resampler->statsforecast==1.5.0) (0.7.0)\n",
      "Requirement already satisfied: wcwidth in /Users/justin/miniforge3/envs/ray_dev_py38/lib/python3.8/site-packages (from prompt-toolkit!=3.0.0,!=3.0.1,<3.1.0,>=2.0.0->ipython->jupyter-dash>=0.4.2->plotly-resampler->statsforecast==1.5.0) (0.2.5)\n",
      "Requirement already satisfied: asttokens in /Users/justin/miniforge3/envs/ray_dev_py38/lib/python3.8/site-packages (from stack-data->ipython->jupyter-dash>=0.4.2->plotly-resampler->statsforecast==1.5.0) (2.0.8)\n",
      "Requirement already satisfied: executing in /Users/justin/miniforge3/envs/ray_dev_py38/lib/python3.8/site-packages (from stack-data->ipython->jupyter-dash>=0.4.2->plotly-resampler->statsforecast==1.5.0) (0.10.0)\n",
      "Requirement already satisfied: pure-eval in /Users/justin/miniforge3/envs/ray_dev_py38/lib/python3.8/site-packages (from stack-data->ipython->jupyter-dash>=0.4.2->plotly-resampler->statsforecast==1.5.0) (0.2.2)\n",
      "Building wheels for collected packages: plotly-resampler, fugue-sql-antlr\n",
      "  Building wheel for plotly-resampler (pyproject.toml) ... \u001b[?25ldone\n",
      "\u001b[?25h  Created wheel for plotly-resampler: filename=plotly_resampler-0.8.3.2-cp38-cp38-macosx_12_0_arm64.whl size=51923 sha256=c2f8194969c88f57db9129bdf985e818b13270ea703ab1b2219816eaab110854\n",
      "  Stored in directory: /Users/justin/Library/Caches/pip/wheels/63/17/b1/4bc002808e0370594fa673f71ecba27516bed8a83a334170e8\n",
      "  Building wheel for fugue-sql-antlr (setup.py) ... \u001b[?25ldone\n",
      "\u001b[?25h  Created wheel for fugue-sql-antlr: filename=fugue_sql_antlr-0.1.6-py3-none-any.whl size=158049 sha256=582f9661b8d86efc9f4b9ecb3fa911c38f7c33eaf8d3ea50a11d269216d3bec6\n",
      "  Stored in directory: /Users/justin/Library/Caches/pip/wheels/3f/d7/6c/cd3e084a96b2d80df8c85d36fb3e2b2013595a0e5109515388\n",
      "Successfully built plotly-resampler fugue-sql-antlr\n",
      "Installing collected packages: trace-updater, sqlglot, dash-table, dash-html-components, dash-core-components, appdirs, antlr4-python3-runtime, retrying, orjson, fs, ansi2html, triad, dash, fugue-sql-antlr, adagio, qpd, jupyter-dash, plotly-resampler, fugue, statsforecast\n",
      "  Attempting uninstall: orjson\n",
      "    Found existing installation: orjson 3.7.12\n",
      "    Uninstalling orjson-3.7.12:\n",
      "      Successfully uninstalled orjson-3.7.12\n",
      "\u001b[31mERROR: pip's dependency resolver does not currently take into account all the packages that are installed. This behaviour is the source of the following dependency conflicts.\n",
      "gradio 3.1.5 requires h11<0.13,>=0.11, but you have h11 0.8.1 which is incompatible.\u001b[0m\u001b[31m\n",
      "\u001b[0mSuccessfully installed adagio-0.2.4 ansi2html-1.8.0 antlr4-python3-runtime-4.11.1 appdirs-1.4.4 dash-2.9.3 dash-core-components-2.0.0 dash-html-components-2.0.0 dash-table-5.0.0 fs-2.4.16 fugue-0.8.3 fugue-sql-antlr-0.1.6 jupyter-dash-0.4.2 orjson-3.8.10 plotly-resampler-0.8.3.2 qpd-0.4.1 retrying-1.3.4 sqlglot-11.5.5 statsforecast-1.5.0 trace-updater-0.0.9.1 triad-0.8.6\n"
     ]
    }
   ],
   "source": [
    "for requirement in requirements:\n",
    "    !pip install {requirement}\n"
   ]
  },
  {
   "attachments": {},
   "cell_type": "markdown",
   "id": "1dcaea58",
   "metadata": {},
   "source": [
    "Next, we need to make sure all worker nodes also have access to the dependencies.\n",
    "For this, use a [Ray Runtime Environment](https://docs.ray.io/en/latest/ray-core/handling-dependencies.html#runtime-environments)\n",
    "to dynamically set up dependencies throughout the cluster.\n"
   ]
  },
  {
   "cell_type": "code",
   "execution_count": null,
   "id": "e268225d",
   "metadata": {},
   "outputs": [],
   "source": [
    "import ray\n",
    "\n",
    "ray.init(runtime_env={\"pip\": requirements})\n"
   ]
  },
  {
   "cell_type": "code",
   "execution_count": null,
   "id": "389adc20",
   "metadata": {},
   "outputs": [],
   "source": [
    "import pandas as pd\n",
    "from pyarrow import parquet as pq\n",
    "from sklearn.metrics import mean_squared_error\n",
    "\n",
    "from ray import tune\n",
    "from ray.air import session\n"
   ]
  },
  {
   "cell_type": "markdown",
   "id": "b8fc83d0",
   "metadata": {},
   "source": [
    "> ✂️ Replace this value to change the number of data partitions you will use. This will be total the number of Tune trials you will run!\n",
    ">\n",
    "> Note that this template fits two models per data partition and reports the best performing one."
   ]
  },
  {
   "cell_type": "code",
   "execution_count": null,
   "id": "5390c232",
   "metadata": {
    "tags": []
   },
   "outputs": [],
   "source": [
    "NUM_DATA_PARTITIONS: int = 1000\n"
   ]
  },
  {
   "cell_type": "markdown",
   "id": "8b2f3d16",
   "metadata": {},
   "source": [
    "> ✂️ Replace the following with your own data-loading and evaluation helper functions. (Or, just delete these!)"
   ]
  },
  {
   "cell_type": "code",
   "execution_count": null,
   "id": "68b14061",
   "metadata": {},
   "outputs": [],
   "source": [
    "def get_m5_partition(unique_id: str) -> pd.DataFrame:\n",
    "    df = (\n",
    "        pq.read_table(\n",
    "            \"s3://anonymous@m5-benchmarks/data/train/target.parquet\",\n",
    "            columns=[\"item_id\", \"timestamp\", \"demand\"],\n",
    "            filters=[(\"item_id\", \"=\", unique_id)],\n",
    "        )\n",
    "        .to_pandas()\n",
    "        .rename(columns={\"item_id\": \"unique_id\", \"timestamp\": \"ds\", \"demand\": \"y\"})\n",
    "    )\n",
    "    df[\"unique_id\"] = df[\"unique_id\"].astype(str)\n",
    "    df[\"ds\"] = pd.to_datetime(df[\"ds\"])\n",
    "    return df.dropna()\n",
    "\n",
    "\n",
    "def evaluate_cross_validation(df: pd.DataFrame, metric) -> pd.DataFrame:\n",
    "    models = df.drop(columns=[\"ds\", \"cutoff\", \"y\"]).columns.tolist()\n",
    "    evals = []\n",
    "    for model in models:\n",
    "        eval_ = (\n",
    "            df.groupby([\"unique_id\", \"cutoff\"])\n",
    "            .apply(lambda x: metric(x[\"y\"].values, x[model].values))\n",
    "            .to_frame()\n",
    "        )\n",
    "        eval_.columns = [model]\n",
    "        evals.append(eval_)\n",
    "    evals = pd.concat(evals, axis=1)\n",
    "    evals = evals.groupby([\"unique_id\"]).mean(numeric_only=True)\n",
    "    evals[\"best_model\"] = evals.idxmin(axis=1)\n",
    "    return evals\n"
   ]
  },
  {
   "cell_type": "markdown",
   "id": "060ee3ce",
   "metadata": {},
   "source": [
    "> ✂️ Replace this with your own training logic."
   ]
  },
  {
   "cell_type": "code",
   "execution_count": null,
   "id": "faaa0dad",
   "metadata": {},
   "outputs": [],
   "source": [
    "def train_fn(config: dict):\n",
    "    try:\n",
    "        from statsforecast import StatsForecast\n",
    "        from statsforecast.models import AutoARIMA, AutoETS\n",
    "    except ImportError as e:\n",
    "        raise RuntimeError(\"Did you set a runtime env to install dependencies?\") from e\n",
    "\n",
    "    data_partition_id = config[\"data_partition_id\"]\n",
    "    train_df = get_m5_partition(data_partition_id)\n",
    "\n",
    "    models = [AutoARIMA(), AutoETS()]\n",
    "    n_windows = 1\n",
    "    forecast_horizon = 4\n",
    "\n",
    "    sf = StatsForecast(\n",
    "        df=train_df,\n",
    "        models=models,\n",
    "        freq=\"D\",\n",
    "        n_jobs=n_windows * len(models),\n",
    "    )\n",
    "    cv_df = sf.cross_validation(\n",
    "        h=forecast_horizon,\n",
    "        step_size=forecast_horizon,\n",
    "        n_windows=n_windows,\n",
    "    )\n",
    "\n",
    "    eval_df = evaluate_cross_validation(df=cv_df, metric=mean_squared_error)\n",
    "    best_model = eval_df[\"best_model\"][data_partition_id]\n",
    "    forecast_mse = eval_df[best_model][data_partition_id]\n",
    "\n",
    "    # Report the best-performing model and its corresponding eval metric.\n",
    "    session.report({\"forecast_mse\": forecast_mse, \"best_model\": best_model})\n",
    "\n",
    "\n",
    "trainable = train_fn\n",
    "trainable = tune.with_resources(trainable, resources={\"CPU\": 2 * 1})\n"
   ]
  },
  {
   "attachments": {},
   "cell_type": "markdown",
   "id": "301c7c58",
   "metadata": {},
   "source": [
    "```{note}\n",
    "`tune.with_resources` is used at the end to specify the number of resources to assign *each trial*.\n",
    "Feel free to change this to the resources required by your application! You can also comment out the `tune.with_resources` block to assign `1 CPU` (the default) to each trial.\n",
    "\n",
    "Note that this is purely for Tune to know how many trials to schedule concurrently -- setting the number of CPUs does not actually enforce any kind of resource isolation!\n",
    "In this template, `statsforecast` runs cross validation in parallel with M models * N temporal cross-validation windows (e.g. 2 * 1).\n",
    "```\n",
    "\n",
    "See [Ray Tune's guide on assigning resources](https://docs.ray.io/en/latest/tune/tutorials/tune-resources.html) for more information."
   ]
  },
  {
   "cell_type": "markdown",
   "id": "89741e7a",
   "metadata": {},
   "source": [
    "> ✂️ Replace this with your desired hyperparameter search space!\n",
    ">\n",
    "> For example, this template searches over the data partition ID to train a model on."
   ]
  },
  {
   "cell_type": "code",
   "execution_count": null,
   "id": "1e9f2825",
   "metadata": {},
   "outputs": [],
   "source": [
    "# Download the list of item ids used to partition the dataset.\n",
    "data_partitions = list(\n",
    "    pd.read_csv(\n",
    "        \"https://air-example-data.s3.us-west-2.amazonaws.com/m5_benchmarks_item_ids.csv\"\n",
    "    )[\"item_id\"]\n",
    ")\n",
    "if NUM_DATA_PARTITIONS > len(data_partitions):\n",
    "    print(f\"There are only {len(data_partitions)} partitions!\")\n",
    "\n",
    "param_space = {\n",
    "    \"data_partition_id\": tune.grid_search(data_partitions[:NUM_DATA_PARTITIONS]),\n",
    "}\n"
   ]
  },
  {
   "cell_type": "markdown",
   "id": "13b4dd3e",
   "metadata": {},
   "source": [
    "Run many model training using Ray Tune!"
   ]
  },
  {
   "cell_type": "code",
   "execution_count": null,
   "id": "b1ef8245",
   "metadata": {},
   "outputs": [],
   "source": [
    "tuner = tune.Tuner(trainable, param_space=param_space)\n",
    "result_grid = tuner.fit()\n"
   ]
  },
  {
   "attachments": {},
   "cell_type": "markdown",
   "id": "ba1a07d0",
   "metadata": {},
   "source": [
    "View the reported results of all trials as a dataframe."
   ]
  },
  {
   "cell_type": "code",
   "execution_count": null,
   "id": "d7baa29a",
   "metadata": {},
   "outputs": [],
   "source": [
    "results_df = result_grid.get_dataframe()\n",
    "results_df\n"
   ]
  }
 ],
 "metadata": {
  "kernelspec": {
   "display_name": "Python 3 (ipykernel)",
   "language": "python",
   "name": "python3"
  },
  "language_info": {
   "codemirror_mode": {
    "name": "ipython",
    "version": 3
   },
   "file_extension": ".py",
   "mimetype": "text/x-python",
   "name": "python",
   "nbconvert_exporter": "python",
   "pygments_lexer": "ipython3",
   "version": "3.8.13"
  },
  "vscode": {
   "interpreter": {
    "hash": "265d195fda5292fe8f69c6e37c435a5634a1ed3b6799724e66a975f68fa21517"
   }
  }
 },
 "nbformat": 4,
 "nbformat_minor": 5
}
