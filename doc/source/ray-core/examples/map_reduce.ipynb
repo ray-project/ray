{
 "cells": [
  {
   "attachments": {},
   "cell_type": "markdown",
   "id": "999dbcc2",
   "metadata": {},
   "source": [
    "# A Simple MapReduce Example with Ray Core\n",
    "\n",
    " This example demonstrates how to use Ray for a common distributed computing example––counting word occurrences across multiple documents. The complexity lies in the handling of a large corpus, requiring multiple compute nodes to process the data. \n",
    " The simplicity of implementing MapReduce with Ray is a significant milestone in distributed computing. \n",
    " Many popular big data technologies, such as Hadoop, are built on this programming model, underscoring the impact \n",
    " of using Ray Core.\n",
    "\n",
    "The MapReduce approach has three phases:"
   ]
  },
  {
   "attachments": {},
   "cell_type": "markdown",
   "id": "aae37e0a",
   "metadata": {},
   "source": [
    "1. Map phase\n",
    "   The map phase applies a specified function to transform or _map_ elements within a set of data. It produces key-value pairs: the key represents an element and the value is a metric calculated for that element.\n",
    "   To count the number of times each word appears in a document,\n",
    "   the map function outputs the pair `(word, 1)` every time a word appears, to indicate that it has been found once.\n",
    "2. Shuffle phase\n",
    "   The shuffle phase collects all the outputs from the map phase and organizes them by key. When the same key is found on multiple compute nodes, this phase includes transferring or _shuffling_ data between different nodes.\n",
    "   If the map phase produces four occurrences of the pair `(word, 1)`, the shuffle phase puts all occurrences of the word on the same node.\n",
    "3. Reduce phase\n",
    "   The reduce phase aggregates the elements from the shuffle phase.\n",
    "   The total count of each word's occurrences is the sum of occurrences on each node.\n",
    "   For example, four instances of `(word, 1)` combine for a final count of `word: 4`."
   ]
  },
  {
   "attachments": {},
   "cell_type": "markdown",
   "id": "87bd5e5e",
   "metadata": {},
   "source": [
    "The first and last phases are in the MapReduce name, but the middle phase is equally crucial.\n",
    "These phases appear straightforward, but their power is in running them concurrently on multiple machines.\n",
    "This figure illustrates the three MapReduce phases on a set of documents:"
   ]
  },
  {
   "cell_type": "markdown",
   "id": "0d0b1af6",
   "metadata": {},
   "source": [
    "\n",
    "![Simple Map Reduce](https://raw.githubusercontent.com/maxpumperla/learning_ray/main/notebooks/images/chapter_02/map_reduce.png)"
   ]
  },
  {
   "attachments": {},
   "cell_type": "markdown",
   "id": "2225ae60",
   "metadata": {},
   "source": [
    "## Loading Data\n",
    "\n",
    "We use Python to implement the MapReduce algorithm for the word count and Ray to parallelize the computation.\n",
    "We start by loading some sample data from the Zen of Python, a collection of coding guidelines for the Python community. Access to the Zen of Python, according to Easter egg tradition, is by typing `import this` in a Python session. \n",
    "We divide the Zen of Python into three separate \"documents\" by treating each line as a separate entity\n",
    "and then splitting the lines into three partitions."
   ]
  },
  {
   "cell_type": "code",
   "execution_count": 13,
   "id": "91c6ddc0",
   "metadata": {
    "lines_to_next_cell": 2
   },
   "outputs": [],
   "source": [
    "import subprocess\n",
    "zen_of_python = subprocess.check_output([\"python\", \"-c\", \"import this\"])\n",
    "corpus = zen_of_python.split()\n",
    "\n",
    "num_partitions = 3\n",
    "chunk = len(corpus) // num_partitions\n",
    "partitions = [\n",
    "    corpus[i * chunk: (i + 1) * chunk] for i in range(num_partitions)\n",
    "]"
   ]
  },
  {
   "attachments": {},
   "cell_type": "markdown",
   "id": "1357e924",
   "metadata": {},
   "source": [
    "## Mapping Data\n",
    "\n",
    "To determine the map phase, we require a map function to use on each document.\n",
    "The output is the pair `(word, 1)` for every word found in a document.\n",
    "For basic text documents we load as Python strings, the process is as follows:"
   ]
  },
  {
   "cell_type": "code",
   "execution_count": 14,
   "id": "742193e2",
   "metadata": {},
   "outputs": [],
   "source": [
    "def map_function(document):\n",
    "    for word in document.lower().split():\n",
    "        yield word, 1"
   ]
  },
  {
   "attachments": {},
   "cell_type": "markdown",
   "id": "52009879",
   "metadata": {},
   "source": [
    "We use the `apply_map` function on a large collection of documents by marking it as a task in Ray using the [`@ray.remote`](https://docs.ray.io/en/latest/ray-core/api/doc/ray.remote.html) decorator.\n",
    "When we call `apply_map`, we apply it to three sets of document data (`num_partitions=3`).\n",
    "The `apply_map` function returns three lists, one for each partition so that Ray can rearrange the results of the map phase and distribute them to the appropriate nodes."
   ]
  },
  {
   "cell_type": "code",
   "execution_count": 15,
   "id": "a2fed469",
   "metadata": {},
   "outputs": [],
   "source": [
    "import ray\n",
    "\n",
    "@ray.remote\n",
    "def apply_map(corpus, num_partitions=3):\n",
    "    map_results = [list() for _ in range(num_partitions)]\n",
    "    for document in corpus:\n",
    "        for result in map_function(document):\n",
    "            first_letter = result[0].decode(\"utf-8\")[0]\n",
    "            word_index = ord(first_letter) % num_partitions\n",
    "            map_results[word_index].append(result)\n",
    "    return map_results"
   ]
  },
  {
   "attachments": {},
   "cell_type": "markdown",
   "id": "a1ba13f8",
   "metadata": {},
   "source": [
    "For text corpora that can be stored on a single machine, the map phase is not necessasry.\n",
    "However, when the data needs to be divided across multiple nodes, the map phase is useful.\n",
    "To apply the map phase to the corpus in parallel, we use a remote call on `apply_map`, similar to the previous examples.\n",
    "The main difference is that we want three results returned (one for each partition) using the `num_returns` argument."
   ]
  },
  {
   "cell_type": "code",
   "execution_count": 16,
   "id": "360b19b8",
   "metadata": {
    "lines_to_next_cell": 2
   },
   "outputs": [
    {
     "name": "stdout",
     "output_type": "stream",
     "text": [
      "Mapper 0, return value 0: [(b'of', 1), (b'is', 1)]\n",
      "Mapper 0, return value 1: [(b'python,', 1), (b'peters', 1)]\n",
      "Mapper 0, return value 2: [(b'the', 1), (b'zen', 1)]\n",
      "Mapper 1, return value 0: [(b'unless', 1), (b'in', 1)]\n",
      "Mapper 1, return value 1: [(b'although', 1), (b'practicality', 1)]\n",
      "Mapper 1, return value 2: [(b'beats', 1), (b'errors', 1)]\n",
      "Mapper 2, return value 0: [(b'is', 1), (b'is', 1)]\n",
      "Mapper 2, return value 1: [(b'although', 1), (b'a', 1)]\n",
      "Mapper 2, return value 2: [(b'better', 1), (b'than', 1)]\n"
     ]
    }
   ],
   "source": [
    "map_results = [\n",
    "    apply_map.options(num_returns=num_partitions)\n",
    "    .remote(data, num_partitions)\n",
    "    for data in partitions\n",
    "]\n",
    "\n",
    "for i in range(num_partitions):\n",
    "    mapper_results = ray.get(map_results[i])\n",
    "    for j, result in enumerate(mapper_results):\n",
    "        print(f\"Mapper {i}, return value {j}: {result[:2]}\")"
   ]
  },
  {
   "attachments": {},
   "cell_type": "markdown",
   "id": "ce222cd3",
   "metadata": {},
   "source": [
    "This example demonstrates how to collect data on the driver with `ray.get`. To continue with another task after the mapping phase, you wouldn't do this. The following section shows how to run all phases together efficiently."
   ]
  },
  {
   "attachments": {},
   "cell_type": "markdown",
   "id": "171744b1",
   "metadata": {},
   "source": [
    "## Shuffling and Reducing Data\n",
    "\n",
    "The objective for the reduce phase is to transfer all pairs from the `j`-th return value to the same node.\n",
    "In the reduce phase we create a dictionary that adds up all word occurrences on each partition:"
   ]
  },
  {
   "cell_type": "code",
   "execution_count": 17,
   "id": "5891b2c3",
   "metadata": {},
   "outputs": [],
   "source": [
    "@ray.remote\n",
    "def apply_reduce(*results):\n",
    "    reduce_results = dict()\n",
    "    for res in results:\n",
    "        for key, value in res:\n",
    "            if key not in reduce_results:\n",
    "                reduce_results[key] = 0\n",
    "            reduce_results[key] += value\n",
    "\n",
    "    return reduce_results"
   ]
  },
  {
   "attachments": {},
   "cell_type": "markdown",
   "id": "21ee3c55",
   "metadata": {},
   "source": [
    "We can take the j-th return value from each mapper and send it to the j-th reducer using the following method.\n",
    "Note that this code works for large datasets that don't fit on one machine because we are passing references\n",
    "to the data using Ray objects rather than the actual data itself.\n",
    "Both the map and reduce phases can run on any Ray cluster and Ray handles the data shuffling."
   ]
  },
  {
   "cell_type": "code",
   "execution_count": 18,
   "id": "a395a7f9",
   "metadata": {
    "collapsed": true
   },
   "outputs": [
    {
     "name": "stdout",
     "output_type": "stream",
     "text": [
      "is: 10\n",
      "better: 8\n",
      "than: 8\n",
      "the: 6\n",
      "to: 5\n",
      "of: 3\n",
      "although: 3\n",
      "be: 3\n",
      "unless: 2\n",
      "one: 2\n",
      "if: 2\n",
      "implementation: 2\n",
      "idea.: 2\n",
      "special: 2\n",
      "should: 2\n",
      "do: 2\n",
      "may: 2\n",
      "a: 2\n",
      "never: 2\n",
      "way: 2\n",
      "explain,: 2\n",
      "ugly.: 1\n",
      "implicit.: 1\n",
      "complex.: 1\n",
      "complex: 1\n",
      "complicated.: 1\n",
      "flat: 1\n",
      "readability: 1\n",
      "counts.: 1\n",
      "cases: 1\n",
      "rules.: 1\n",
      "in: 1\n",
      "face: 1\n",
      "refuse: 1\n",
      "one--: 1\n",
      "only: 1\n",
      "--obvious: 1\n",
      "it.: 1\n",
      "obvious: 1\n",
      "first: 1\n",
      "often: 1\n",
      "*right*: 1\n",
      "it's: 1\n",
      "it: 1\n",
      "idea: 1\n",
      "--: 1\n",
      "let's: 1\n",
      "python,: 1\n",
      "peters: 1\n",
      "simple: 1\n",
      "sparse: 1\n",
      "dense.: 1\n",
      "aren't: 1\n",
      "practicality: 1\n",
      "purity.: 1\n",
      "pass: 1\n",
      "silently.: 1\n",
      "silenced.: 1\n",
      "ambiguity,: 1\n",
      "guess.: 1\n",
      "and: 1\n",
      "preferably: 1\n",
      "at: 1\n",
      "you're: 1\n",
      "dutch.: 1\n",
      "good: 1\n",
      "are: 1\n",
      "great: 1\n",
      "more: 1\n",
      "zen: 1\n",
      "by: 1\n",
      "tim: 1\n",
      "beautiful: 1\n",
      "explicit: 1\n",
      "nested.: 1\n",
      "enough: 1\n",
      "break: 1\n",
      "beats: 1\n",
      "errors: 1\n",
      "explicitly: 1\n",
      "temptation: 1\n",
      "there: 1\n",
      "that: 1\n",
      "not: 1\n",
      "now: 1\n",
      "never.: 1\n",
      "now.: 1\n",
      "hard: 1\n",
      "bad: 1\n",
      "easy: 1\n",
      "namespaces: 1\n",
      "honking: 1\n",
      "those!: 1\n"
     ]
    }
   ],
   "source": [
    "outputs = []\n",
    "for i in range(num_partitions):\n",
    "    outputs.append(\n",
    "        apply_reduce.remote(*[partition[i] for partition in map_results])\n",
    "    )\n",
    "\n",
    "counts = {k: v for output in ray.get(outputs) for k, v in output.items()}\n",
    "\n",
    "sorted_counts = sorted(counts.items(), key=lambda item: item[1], reverse=True)\n",
    "for count in sorted_counts:\n",
    "    print(f\"{count[0].decode('utf-8')}: {count[1]}\")"
   ]
  },
  {
   "attachments": {},
   "cell_type": "markdown",
   "id": "c57bd93b",
   "metadata": {},
   "source": [
    "For a thorough understanding of scaling MapReduce tasks across multiple nodes using Ray,\n",
    "including memory management, read the [blog post on the topic](https://medium.com/distributed-computing-with-ray/executing-adistributed-shuffle-without-a-mapreduce-system-d5856379426c).\n",
    "\n"
   ]
  },
  {
   "attachments": {},
   "cell_type": "markdown",
   "id": "20346f17",
   "metadata": {},
   "source": [
    "## Wrapping up\n",
    "\n",
    "This MapReduce example demonstrates how flexible Ray’s programming model is.\n",
    "A production-grade MapReduce implementation requires more effort but being able to reproduce common algorithms like this one _quickly_ goes a long way.\n",
    "In the earlier years of MapReduce, around 2010, this paradigm was often the only model available for\n",
    "expressing workloads.\n",
    "With Ray, an entire range of interesting distributed computing patterns\n",
    "are accessible to any intermediate Python programmer.\n",
    "\n",
    "To learn more about Ray, and Ray Core and particular, see the [Ray Core Examples Gallery](./overview.rst),\n",
    "or the ML workloads in our [Use Case Gallery](../../ray-overview/use-cases.rst).\n",
    "This MapReduce example can be found in [\"Learning Ray\"](https://maxpumperla.com/learning_ray/),\n",
    "which contains more examples similar to this one."
   ]
  }
 ],
 "metadata": {
  "jupytext": {
   "cell_metadata_filter": "-all",
   "main_language": "python",
   "notebook_metadata_filter": "-all"
  },
  "kernelspec": {
   "display_name": "Python 3 (ipykernel)",
   "language": "python",
   "name": "python3"
  },
  "language_info": {
   "codemirror_mode": {
    "name": "ipython",
    "version": 3
   },
   "file_extension": ".py",
   "mimetype": "text/x-python",
   "name": "python",
   "nbconvert_exporter": "python",
   "pygments_lexer": "ipython3",
   "version": "3.9.13"
  }
 },
 "nbformat": 4,
 "nbformat_minor": 5
}
