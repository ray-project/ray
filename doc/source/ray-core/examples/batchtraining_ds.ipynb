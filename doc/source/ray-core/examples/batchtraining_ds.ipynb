{
 "cells": [
  {
   "cell_type": "markdown",
   "metadata": {},
   "source": [
    "# Batch Training with Ray Datasets"
   ]
  },
  {
   "cell_type": "markdown",
   "metadata": {},
   "source": [
    "### Learning objectives\n",
    "In this this tutorial, you will learn about:\n",
    " * [Ray Dataset](#dataset)\n",
    " * [Batch training with Ray Dataset](#train_func)"
   ]
  },
  {
   "cell_type": "markdown",
   "metadata": {},
   "source": [
    "Batch training and tuning are common tasks in simple machine learning use-cases such as time series forecasting. They require fitting of simple models on multiple data batches corresponding to locations, products, etc. \n",
    "\n",
    "Batch training in the context of this notebook is understood as creating the same model(s) for different and separate datasets or subsets of a dataset. This notebook showcases how to conduct batch training using [Ray Dataset](https://docs.ray.io/en/latest/data/dataset.html).\n",
    "\n",
    "<img src=\"./images/embarrassingly_parallel.png\" width=\"50%\" />\n",
    "\n",
    "For the data, we will use the [NYC Taxi dataset](https://www1.nyc.gov/site/tlc/about/tlc-trip-record-data.page).  This popular tabular dataset contains historical taxi pickups by timestamp and location in NYC.  <s>The goal is to predict future, hourly taxi demand by location in NYC.</s>  To demonstrate batch training & tuning, we will simplify the data to a linear regression problem to predict `trip_duration` and use Scikit-learn.\n",
    "\n",
    "To demonstrate how data and training can be batch-parallelized, we will train a separate model for each dropoff location. This means we can use the dropoff_location_id column in the dataset to group the dataset into data batches. Then we will fit a separate model for each batch. \n",
    "\n",
    "Let’s start by importing a few required libraries, including open-source [Ray](https://github.com/ray-project/ray) itself!"
   ]
  },
  {
   "cell_type": "code",
   "execution_count": 1,
   "metadata": {},
   "outputs": [
    {
     "name": "stdout",
     "output_type": "stream",
     "text": [
      "Number of CPUs in this system: 8\n"
     ]
    }
   ],
   "source": [
    "import os, time\n",
    "import random\n",
    "from typing import Tuple, List, Union, Optional, Callable\n",
    "import pandas as pd\n",
    "import numpy as np\n",
    "import pyarrow.dataset as pds\n",
    "from pyarrow import fs\n",
    "from ray.data import Dataset\n",
    "from ray.data.preprocessors import Chain, OrdinalEncoder, StandardScaler\n",
    "\n",
    "num_available_cpus = os.cpu_count()\n",
    "print(f'Number of CPUs in this system: {num_available_cpus}')\n",
    "\n",
    "# import utility functions\n",
    "import local_utils.dataprep"
   ]
  },
  {
   "cell_type": "code",
   "execution_count": 2,
   "metadata": {},
   "outputs": [
    {
     "name": "stderr",
     "output_type": "stream",
     "text": [
      "2022-10-12 21:24:37,219\tINFO worker.py:1509 -- Started a local Ray instance. View the dashboard at \u001b[1m\u001b[32mhttp://127.0.0.1:8266 \u001b[39m\u001b[22m\n"
     ]
    },
    {
     "data": {
      "text/html": [
       "<div>\n",
       "    <div style=\"margin-left: 50px;display: flex;flex-direction: row;align-items: center\">\n",
       "        <h3 style=\"color: var(--jp-ui-font-color0)\">Ray</h3>\n",
       "        <svg version=\"1.1\" id=\"ray\" width=\"3em\" viewBox=\"0 0 144.5 144.6\" style=\"margin-left: 3em;margin-right: 3em\">\n",
       "            <g id=\"layer-1\">\n",
       "                <path fill=\"#00a2e9\" class=\"st0\" d=\"M97.3,77.2c-3.8-1.1-6.2,0.9-8.3,5.1c-3.5,6.8-9.9,9.9-17.4,9.6S58,88.1,54.8,81.2c-1.4-3-3-4-6.3-4.1\n",
       "                    c-5.6-0.1-9.9,0.1-13.1,6.4c-3.8,7.6-13.6,10.2-21.8,7.6C5.2,88.4-0.4,80.5,0,71.7c0.1-8.4,5.7-15.8,13.8-18.2\n",
       "                    c8.4-2.6,17.5,0.7,22.3,8c1.3,1.9,1.3,5.2,3.6,5.6c3.9,0.6,8,0.2,12,0.2c1.8,0,1.9-1.6,2.4-2.8c3.5-7.8,9.7-11.8,18-11.9\n",
       "                    c8.2-0.1,14.4,3.9,17.8,11.4c1.3,2.8,2.9,3.6,5.7,3.3c1-0.1,2,0.1,3,0c2.8-0.5,6.4,1.7,8.1-2.7s-2.3-5.5-4.1-7.5\n",
       "                    c-5.1-5.7-10.9-10.8-16.1-16.3C84,38,81.9,37.1,78,38.3C66.7,42,56.2,35.7,53,24.1C50.3,14,57.3,2.8,67.7,0.5\n",
       "                    C78.4-2,89,4.7,91.5,15.3c0.1,0.3,0.1,0.5,0.2,0.8c0.7,3.4,0.7,6.9-0.8,9.8c-1.7,3.2-0.8,5,1.5,7.2c6.7,6.5,13.3,13,19.8,19.7\n",
       "                    c1.8,1.8,3,2.1,5.5,1.2c9.1-3.4,17.9-0.6,23.4,7c4.8,6.9,4.6,16.1-0.4,22.9c-5.4,7.2-14.2,9.9-23.1,6.5c-2.3-0.9-3.5-0.6-5.1,1.1\n",
       "                    c-6.7,6.9-13.6,13.7-20.5,20.4c-1.8,1.8-2.5,3.2-1.4,5.9c3.5,8.7,0.3,18.6-7.7,23.6c-7.9,5-18.2,3.8-24.8-2.9\n",
       "                    c-6.4-6.4-7.4-16.2-2.5-24.3c4.9-7.8,14.5-11,23.1-7.8c3,1.1,4.7,0.5,6.9-1.7C91.7,98.4,98,92.3,104.2,86c1.6-1.6,4.1-2.7,2.6-6.2\n",
       "                    c-1.4-3.3-3.8-2.5-6.2-2.6C99.8,77.2,98.9,77.2,97.3,77.2z M72.1,29.7c5.5,0.1,9.9-4.3,10-9.8c0-0.1,0-0.2,0-0.3\n",
       "                    C81.8,14,77,9.8,71.5,10.2c-5,0.3-9,4.2-9.3,9.2c-0.2,5.5,4,10.1,9.5,10.3C71.8,29.7,72,29.7,72.1,29.7z M72.3,62.3\n",
       "                    c-5.4-0.1-9.9,4.2-10.1,9.7c0,0.2,0,0.3,0,0.5c0.2,5.4,4.5,9.7,9.9,10c5.1,0.1,9.9-4.7,10.1-9.8c0.2-5.5-4-10-9.5-10.3\n",
       "                    C72.6,62.3,72.4,62.3,72.3,62.3z M115,72.5c0.1,5.4,4.5,9.7,9.8,9.9c5.6-0.2,10-4.8,10-10.4c-0.2-5.4-4.6-9.7-10-9.7\n",
       "                    c-5.3-0.1-9.8,4.2-9.9,9.5C115,72.1,115,72.3,115,72.5z M19.5,62.3c-5.4,0.1-9.8,4.4-10,9.8c-0.1,5.1,5.2,10.4,10.2,10.3\n",
       "                    c5.6-0.2,10-4.9,9.8-10.5c-0.1-5.4-4.5-9.7-9.9-9.6C19.6,62.3,19.5,62.3,19.5,62.3z M71.8,134.6c5.9,0.2,10.3-3.9,10.4-9.6\n",
       "                    c0.5-5.5-3.6-10.4-9.1-10.8c-5.5-0.5-10.4,3.6-10.8,9.1c0,0.5,0,0.9,0,1.4c-0.2,5.3,4,9.8,9.3,10\n",
       "                    C71.6,134.6,71.7,134.6,71.8,134.6z\"/>\n",
       "            </g>\n",
       "        </svg>\n",
       "        <table>\n",
       "            <tr>\n",
       "                <td style=\"text-align: left\"><b>Python version:</b></td>\n",
       "                <td style=\"text-align: left\"><b>3.8.13</b></td>\n",
       "            </tr>\n",
       "            <tr>\n",
       "                <td style=\"text-align: left\"><b>Ray version:</b></td>\n",
       "                <td style=\"text-align: left\"><b> 2.0.0</b></td>\n",
       "            </tr>\n",
       "            <tr>\n",
       "    <td style=\"text-align: left\"><b>Dashboard:</b></td>\n",
       "    <td style=\"text-align: left\"><b><a href=\"http://127.0.0.1:8266\" target=\"_blank\">http://127.0.0.1:8266</a></b></td>\n",
       "</tr>\n",
       "\n",
       "        </table>\n",
       "    </div>\n",
       "</div>\n"
      ],
      "text/plain": [
       "RayContext(dashboard_url='127.0.0.1:8266', python_version='3.8.13', ray_version='2.0.0', ray_commit='cba26cc83f6b5b8a2ff166594a65cb74c0ec8740', address_info={'node_ip_address': '127.0.0.1', 'raylet_ip_address': '127.0.0.1', 'redis_address': None, 'object_store_address': '/tmp/ray/session_2022-10-12_21-24-35_100021_49011/sockets/plasma_store', 'raylet_socket_name': '/tmp/ray/session_2022-10-12_21-24-35_100021_49011/sockets/raylet', 'webui_url': '127.0.0.1:8266', 'session_dir': '/tmp/ray/session_2022-10-12_21-24-35_100021_49011', 'metrics_export_port': 60715, 'gcs_address': '127.0.0.1:53154', 'address': '127.0.0.1:53154', 'dashboard_agent_listen_port': 52365, 'node_id': '544f021a9e5c39bd15b45266118bd916d8a44883a84934beb209a791'})"
      ]
     },
     "execution_count": 2,
     "metadata": {},
     "output_type": "execute_result"
    }
   ],
   "source": [
    "import ray\n",
    "if ray.is_initialized():\n",
    "    ray.shutdown()\n",
    "ray.init(ignore_reinit_error=True)"
   ]
  },
  {
   "cell_type": "code",
   "execution_count": 3,
   "metadata": {},
   "outputs": [],
   "source": [
    "# For benchmarking purposes, we can print the times of various operations. \n",
    "# In order to reduce clutter in the output, this is set to False by default.\n",
    "PRINT_TIMES = True\n",
    "\n",
    "def print_time(msg: str):\n",
    "    if PRINT_TIMES:\n",
    "        print(msg)"
   ]
  },
  {
   "cell_type": "code",
   "execution_count": 4,
   "metadata": {},
   "outputs": [],
   "source": [
    "# To speed things up, we’ll only use a small subset of the full dataset consisting of two last months of 2019. \n",
    "# You can choose to use the full dataset for 2018-2019 by setting the SMOKE_TEST variable to False.\n",
    "\n",
    "SMOKE_TEST = True"
   ]
  },
  {
   "cell_type": "markdown",
   "metadata": {},
   "source": [
    "# Ray Dataset <a class=\"anchor\" id=\"dataset\"></a>"
   ]
  },
  {
   "cell_type": "markdown",
   "metadata": {},
   "source": [
    "Next, read some data using Ray Dataset.   This will initialize a Ray cluster.  Then we can use the [Ray Dataset](https://docs.ray.io/en/latest/data/getting-started.html#datasets-getting-started) APIs to quickly inspect the data."
   ]
  },
  {
   "cell_type": "code",
   "execution_count": 5,
   "metadata": {
    "tags": []
   },
   "outputs": [
    {
     "name": "stdout",
     "output_type": "stream",
     "text": [
      "NYC Taxi using 1 file(s)!\n",
      "s3_files: ['s3://ursa-labs-taxi-data/2019/06/data.parquet']\n",
      "sample locations: [238, 157, 205]\n"
     ]
    }
   ],
   "source": [
    "# Define some global variables.\n",
    "target = \"trip_duration\"\n",
    "s3  = fs.S3FileSystem(region=\"us-east-2\")\n",
    "s3_partitions = pds.dataset(\"ursa-labs-taxi-data/\", filesystem=s3, partitioning=[\"year\", \"month\"])\n",
    "\n",
    "if SMOKE_TEST:\n",
    "    starting_idx = -1\n",
    "    sample_locations = random.sample(list(local_utils.dataprep.location_ids), 3)\n",
    "else:\n",
    "    starting_idx = -3\n",
    "    sample_locations = list(local_utils.dataprep.location_ids)\n",
    "\n",
    "s3_files = [f\"s3://{file}\" for file in s3_partitions.files][starting_idx:]\n",
    "print(f\"NYC Taxi using {len(s3_files)} file(s)!\")\n",
    "print(f\"s3_files: {s3_files}\")\n",
    "print(f\"sample locations: {sample_locations}\")\n"
   ]
  },
  {
   "cell_type": "code",
   "execution_count": 6,
   "metadata": {},
   "outputs": [
    {
     "name": "stderr",
     "output_type": "stream",
     "text": [
      "2022-10-12 21:24:48,614\tWARNING read_api.py:291 -- ⚠️  The number of blocks in this dataset (1) limits its parallelism to 1 concurrent tasks. This is much less than the number of available CPU slots in the cluster. Use `.repartition(n)` to increase the number of dataset blocks.\n"
     ]
    },
    {
     "name": "stdout",
     "output_type": "stream",
     "text": [
      "<class 'ray.data.dataset.Dataset'>\n"
     ]
    }
   ],
   "source": [
    "# Read some Parquet files in parallel.\n",
    "rds = ray.data.read_parquet(s3_files)\n",
    "print(type(rds))"
   ]
  },
  {
   "cell_type": "code",
   "execution_count": 7,
   "metadata": {},
   "outputs": [
    {
     "name": "stdout",
     "output_type": "stream",
     "text": [
      "Number rows: 6941024\n",
      "Size bytes (from parquet metadata): 602373955\n"
     ]
    },
    {
     "name": "stderr",
     "output_type": "stream",
     "text": [
      "Read progress: 100%|█████████████████████████████| 1/1 [03:13<00:00, 193.05s/it]"
     ]
    },
    {
     "name": "stdout",
     "output_type": "stream",
     "text": [
      "Size bytes (from full data read): 573504109\n",
      "\n",
      "Schema data types:\n",
      "vendor_id: string\n",
      "pickup_at: timestamp[us]\n",
      "dropoff_at: timestamp[us]\n",
      "passenger_count: int8\n",
      "trip_distance: float\n",
      "rate_code_id: string\n",
      "store_and_fwd_flag: string\n",
      "pickup_location_id: int32\n",
      "dropoff_location_id: int32\n",
      "payment_type: string\n",
      "fare_amount: float\n",
      "extra: float\n",
      "mta_tax: float\n",
      "tip_amount: float\n",
      "tolls_amount: float\n",
      "improvement_surcharge: float\n",
      "total_amount: float\n",
      "congestion_surcharge: float\n",
      "\n",
      "Look at a sample row:\n"
     ]
    },
    {
     "name": "stderr",
     "output_type": "stream",
     "text": [
      "\n"
     ]
    },
    {
     "data": {
      "text/plain": [
       "[ArrowRow({'vendor_id': '1',\n",
       "           'pickup_at': datetime.datetime(2019, 6, 1, 0, 55, 13),\n",
       "           'dropoff_at': datetime.datetime(2019, 6, 1, 0, 56, 17),\n",
       "           'passenger_count': 1,\n",
       "           'trip_distance': 0.0,\n",
       "           'rate_code_id': '1',\n",
       "           'store_and_fwd_flag': 'N',\n",
       "           'pickup_location_id': 145,\n",
       "           'dropoff_location_id': 145,\n",
       "           'payment_type': '2',\n",
       "           'fare_amount': 3.0,\n",
       "           'extra': 0.5,\n",
       "           'mta_tax': 0.5,\n",
       "           'tip_amount': 0.0,\n",
       "           'tolls_amount': 0.0,\n",
       "           'improvement_surcharge': 0.30000001192092896,\n",
       "           'total_amount': 4.300000190734863,\n",
       "           'congestion_surcharge': 0.0})]"
      ]
     },
     "execution_count": 7,
     "metadata": {},
     "output_type": "execute_result"
    }
   ],
   "source": [
    "# Parquet stores the number of rows per file in the Parquet metadata, \n",
    "# so we can get the number of rows in rds without triggering a full data read!\n",
    "print(f\"Number rows: {rds.count()}\")\n",
    "\n",
    "# Parquet pulls size-in-bytes from its metadata (not triggering a data read)\n",
    "# This could be significantly different than actual in-memory size!\n",
    "print(f\"Size bytes (from parquet metadata): {rds.size_bytes()}\")\n",
    "# Trigger full reading of the dataset and inspect the size in bytes.\n",
    "print(f\"Size bytes (from full data read): {rds.fully_executed().size_bytes()}\")\n",
    "\n",
    "# Fetch the schema from the underlying Parquet metadata.\n",
    "print(\"\\nSchema data types:\")\n",
    "data_types = list(zip(rds.schema().names, rds.schema().types))\n",
    "[print(f\"{s[0]}: {s[1]}\") for s in data_types]\n",
    "\n",
    "# Take a peek at a sample row\n",
    "print(\"\\nLook at a sample row:\")\n",
    "rds.take(1)\n",
    "\n",
    "# Number rows: 6941024"
   ]
  },
  {
   "cell_type": "markdown",
   "metadata": {},
   "source": [
    "<b>Filter on Read - Projection and Filter Pushdown</b>\n",
    "\n",
    "Note that Ray Datasets' Parquet reader supports projection (column selection) and row filter pushdown, where we can push the above column selection and the row-based filter to the Parquet read. If we specify column selection at Parquet read time, the unselected columns won't even be read from disk!\n",
    "\n",
    "The row-based filter is specified via [Arrow's dataset field expressions](https://arrow.apache.org/docs/6.0/python/generated/pyarrow.dataset.Expression.html#pyarrow.dataset.Expression). \n",
    "\n",
    "<b>Best practice is to filter as much as you can directly in the Ray Dataset read_parquet() statement! </b>\n",
    "\n",
    "Normally there is some data exploration to determine the cleaning steps.  Let's just assume we know the data cleaning steps are:\n",
    "- Drop negative trip distances, 0 fares, 0 passengers, less than 1min trip durations\n",
    "- Drop 2 unknown zones ['264', '265']\n",
    "- Calculate trip duration and add it as a new column\n"
   ]
  },
  {
   "cell_type": "code",
   "execution_count": 8,
   "metadata": {},
   "outputs": [],
   "source": [
    "def pushdown_read_data(files_list: list,\n",
    "                       sample_ids: list) -> Dataset:\n",
    "    filter_expr = (\n",
    "        (pds.field(\"passenger_count\") > 0)\n",
    "        & (pds.field(\"trip_distance\") > 0)\n",
    "        & (pds.field(\"fare_amount\") > 0)\n",
    "        & (~pds.field(\"pickup_location_id\").isin([264, 265]))\n",
    "        & (~pds.field(\"dropoff_location_id\").isin([264, 265]))\n",
    "        & (pds.field(\"dropoff_location_id\").isin(sample_ids))\n",
    "    )\n",
    "\n",
    "    the_dataset = ray.data.read_parquet(\n",
    "        files_list,\n",
    "        columns=[\n",
    "            'pickup_at', 'dropoff_at', \n",
    "            'pickup_location_id', 'dropoff_location_id',\n",
    "            'passenger_count', 'trip_distance', 'fare_amount'], \n",
    "        filter=filter_expr,\n",
    "    )\n",
    "\n",
    "    # Force full execution of both of the file reads.\n",
    "    the_dataset = the_dataset.fully_executed()\n",
    "    return the_dataset"
   ]
  },
  {
   "cell_type": "code",
   "execution_count": 9,
   "metadata": {},
   "outputs": [
    {
     "name": "stderr",
     "output_type": "stream",
     "text": [
      "2022-10-12 21:28:08,867\tWARNING read_api.py:291 -- ⚠️  The number of blocks in this dataset (1) limits its parallelism to 1 concurrent tasks. This is much less than the number of available CPU slots in the cluster. Use `.repartition(n)` to increase the number of dataset blocks.\n",
      "Read progress: 100%|█████████████████████████████| 1/1 [01:48<00:00, 108.27s/it]"
     ]
    },
    {
     "name": "stdout",
     "output_type": "stream",
     "text": [
      "Number rows: 143759\n",
      "\n",
      "Metadata: \n",
      "Dataset(num_blocks=1, num_rows=143759, schema={pickup_at: timestamp[us], dropoff_at: timestamp[us], pickup_location_id: int32, dropoff_location_id: int32, passenger_count: int8, trip_distance: float, fare_amount: float})\n",
      "\n",
      "Schema:\n",
      "pickup_at: timestamp[us]\n",
      "dropoff_at: timestamp[us]\n",
      "pickup_location_id: int32\n",
      "dropoff_location_id: int32\n",
      "passenger_count: int8\n",
      "trip_distance: float\n",
      "fare_amount: float\n",
      "-- schema metadata --\n",
      "pandas: '{\"index_columns\": [{\"kind\": \"range\", \"name\": null, \"start\": 0, \"' + 2548\n",
      "\n",
      "Look at a sample row:\n"
     ]
    },
    {
     "name": "stderr",
     "output_type": "stream",
     "text": [
      "\n"
     ]
    },
    {
     "data": {
      "text/plain": [
       "[ArrowRow({'pickup_at': datetime.datetime(2019, 6, 1, 0, 29, 10),\n",
       "           'dropoff_at': datetime.datetime(2019, 6, 1, 0, 33, 32),\n",
       "           'pickup_location_id': 166,\n",
       "           'dropoff_location_id': 238,\n",
       "           'passenger_count': 1,\n",
       "           'trip_distance': 1.0,\n",
       "           'fare_amount': 5.5})]"
      ]
     },
     "execution_count": 9,
     "metadata": {},
     "output_type": "execute_result"
    }
   ],
   "source": [
    "# Test the pushdown_read_data function\n",
    "pushdown_ds = pushdown_read_data(s3_files, sample_locations)\n",
    "\n",
    "print(f\"Number rows: {pushdown_ds.count()}\")\n",
    "# Display some metadata about the dataset.\n",
    "print(\"\\nMetadata: \")\n",
    "print(pushdown_ds)\n",
    "# Fetch the schema from the underlying Parquet metadata.\n",
    "print(\"\\nSchema:\")\n",
    "print(pushdown_ds.schema())\n",
    "# Take a peek at a single row\n",
    "print(\"\\nLook at a sample row:\")\n",
    "pushdown_ds.take(1)\n"
   ]
  },
  {
   "cell_type": "code",
   "execution_count": 10,
   "metadata": {},
   "outputs": [
    {
     "name": "stdout",
     "output_type": "stream",
     "text": [
      "                     trip_distance\n",
      "dropoff_location_id               \n",
      "157                           2198\n",
      "205                           1457\n",
      "238                         140104\n"
     ]
    }
   ],
   "source": [
    "# check sampling\n",
    "df = pushdown_ds.to_pandas(limit=pushdown_ds.count())\n",
    "print(df[[\"dropoff_location_id\", \"trip_distance\"]].groupby(\"dropoff_location_id\").count())\n"
   ]
  },
  {
   "cell_type": "markdown",
   "metadata": {},
   "source": [
    "<b>Custom data transform functions</b>\n",
    "\n",
    "Ray Datasets allows you to specify custom data transform functions using familiar syntax, such as Pandas.  These [<b>custom functions, or UDFs,</b>](https://docs.ray.io/en/latest/data/transforming-datasets.html) can be called using `rds.map_batches(my_UDF, batch_format=\"pandas\")`.  It is necessary to specify the data processing API you are using in the `batch_format parameter`.\n",
    "\n",
    "Available data processing APIs you can specify in the batch_format paramater include <b>\"pandas\", “pyarrow”, “numpy”</b>, and simple Python <b>list</b>.  Tabular data will be passed into your UDF by default as a pandas dataframe.  Tensor data will be passed into your UDF as a numpy array.\n",
    "\n",
    "It is also possible to chain UDFs using [BatchMapper](https://docs.ray.io/en/latest/ray-air/check-ingest.html).  This is convenient when you want to chain a standard scaler step before training, for example.\n",
    "<br>"
   ]
  },
  {
   "cell_type": "code",
   "execution_count": 11,
   "metadata": {},
   "outputs": [],
   "source": [
    "# A Pandas DataFrame UDF for transforming the underlying blocks of a Dataset in parallel.\n",
    "def transform_batch(the_df: pd.DataFrame) -> pd.DataFrame:\n",
    "    df = the_df.copy()    \n",
    "    df[\"trip_duration\"] = (df[\"dropoff_at\"] - df[\"pickup_at\"]).dt.seconds    \n",
    "    df = df[df[\"trip_duration\"] > 60]    \n",
    "    df.drop([\"dropoff_at\", \"pickup_at\", \"pickup_location_id\"], axis=1, inplace=True)\n",
    "    df['dropoff_location_id'] = df['dropoff_location_id'].fillna(-1)\n",
    "    return df"
   ]
  },
  {
   "cell_type": "code",
   "execution_count": 12,
   "metadata": {},
   "outputs": [
    {
     "name": "stdout",
     "output_type": "stream",
     "text": [
      "Before transform number rows: 143759\n"
     ]
    },
    {
     "name": "stderr",
     "output_type": "stream",
     "text": [
      "Map_Batches: 100%|████████████████████████████████| 1/1 [00:00<00:00,  3.64it/s]"
     ]
    },
    {
     "name": "stdout",
     "output_type": "stream",
     "text": [
      "After transform number rows: 143277\n"
     ]
    },
    {
     "name": "stderr",
     "output_type": "stream",
     "text": [
      "\n"
     ]
    }
   ],
   "source": [
    "# Test the transform UDF function\n",
    "print(f\"Before transform number rows: {pushdown_ds.count()}\")\n",
    "\n",
    "# batch_format=\"pandas\" tells Datasets to provide the transformer with blocks\n",
    "# represented as Pandas DataFrames.\n",
    "pushdown_ds = pushdown_ds.map_batches(transform_batch, batch_format=\"pandas\")\n",
    "\n",
    "# verify row count\n",
    "pushdown_rows = pushdown_ds.count()\n",
    "print(f\"After transform number rows: {pushdown_rows}\")\n"
   ]
  },
  {
   "cell_type": "code",
   "execution_count": 13,
   "metadata": {},
   "outputs": [],
   "source": [
    "# delete data to free up memory in our Ray cluster\n",
    "del rds\n",
    "del pushdown_ds"
   ]
  },
  {
   "cell_type": "markdown",
   "metadata": {},
   "source": [
    "<b>Tidying up</b>\n",
    "\n",
    "To make our code easier to read, let's summarize the data processing functions again here."
   ]
  },
  {
   "cell_type": "code",
   "execution_count": 14,
   "metadata": {},
   "outputs": [],
   "source": [
    "# Filter parquet data using Ray Datasets read_parquet()\n",
    "def pushdown_read_data(files_list: list,\n",
    "                       sample_ids: list) -> Dataset:\n",
    "    \n",
    "    start = time.time()\n",
    "    \n",
    "    filter_expr = (\n",
    "        (pds.field(\"passenger_count\") > 0)\n",
    "        & (pds.field(\"trip_distance\") > 0)\n",
    "        & (pds.field(\"fare_amount\") > 0)\n",
    "        & (~pds.field(\"pickup_location_id\").isin([264, 265]))\n",
    "        & (~pds.field(\"dropoff_location_id\").isin([264, 265]))\n",
    "        & (pds.field(\"dropoff_location_id\").isin(sample_ids))\n",
    "    )\n",
    "\n",
    "    the_dataset = ray.data.read_parquet(\n",
    "        files_list,\n",
    "        columns=[\n",
    "            'pickup_at', 'dropoff_at', \n",
    "            'pickup_location_id', 'dropoff_location_id',\n",
    "            'passenger_count', 'trip_distance', 'fare_amount'], \n",
    "        filter=filter_expr,\n",
    "    )\n",
    "\n",
    "    # Force full execution of both of the file reads.\n",
    "    the_dataset = the_dataset.fully_executed()\n",
    "    \n",
    "    data_loading_time = time.time() - start\n",
    "    print_time(f\"Data loading time: {data_loading_time:.2f} seconds\")\n",
    "    return the_dataset\n",
    "\n",
    "# A Pandas DataFrame UDF for transforming the underlying blocks of a Dataset in parallel.\n",
    "def transform_batch(the_df: pd.DataFrame) -> pd.DataFrame:\n",
    "    start = time.time()\n",
    "    \n",
    "    df = the_df.copy()    \n",
    "    df[\"trip_duration\"] = (df[\"dropoff_at\"] - df[\"pickup_at\"]).dt.seconds    \n",
    "    df = df[df[\"trip_duration\"] > 60]    \n",
    "    df.drop([\"dropoff_at\", \"pickup_at\", \"pickup_location_id\"], axis=1, inplace=True)\n",
    "    df['dropoff_location_id'] = df['dropoff_location_id'].fillna(-1)\n",
    "    \n",
    "    data_transform_time = time.time() - start\n",
    "    # print_time(f\"Data transform time: {data_transform_time:.2f} seconds\")\n",
    "    return df"
   ]
  },
  {
   "cell_type": "markdown",
   "metadata": {},
   "source": [
    "# Batch training with Ray Dataset <a class=\"anchor\" id=\"train_func\"></a>"
   ]
  },
  {
   "cell_type": "markdown",
   "metadata": {},
   "source": [
    "Now that we have learned more about our data and written a pandas UDF to transform our data, we are ready to train a model on batches of this data in parallel.\n",
    "\n",
    "To simplify the model training part, we will use linear regression in Scikit-learn.  \n",
    "- We will use the `dropoff_location_id` column in the dataset to group the dataset into data batches. \n",
    "- Then we will fit a separate model for each batch to predict `trip_duration`."
   ]
  },
  {
   "cell_type": "code",
   "execution_count": 15,
   "metadata": {},
   "outputs": [],
   "source": [
    "# If necessary pip install scikit-learn from your terminal\n",
    "\n",
    "import sklearn\n",
    "from sklearn.base import BaseEstimator \n",
    "from sklearn.model_selection import train_test_split\n",
    "from sklearn.linear_model import LinearRegression\n",
    "from sklearn.metrics import mean_absolute_error\n",
    "from ray.train.sklearn import SklearnTrainer, SklearnPredictor\n",
    "from ray.train.batch_predictor import BatchPredictor"
   ]
  },
  {
   "cell_type": "markdown",
   "metadata": {},
   "source": [
    "<b>Define training functions</b>\n",
    "\n",
    "We want to fit a linear regression model to the trip duration for each drop-off location.  For scoring, we will calculate mean absolute error on the validation set, and report that as model error per drop-off location.\n",
    "\n",
    "We define `fit_and_score_sklearn` function [<b><i>as a Ray task</i></b>](https://docs.ray.io/en/latest/ray-core/tasks.html), where each Scikit-learn training task will consume a dataset shard in batches.  Ray is able to automatically distribute ray tasks on your Ray cluster, to utilize parallel compute.\n"
   ]
  },
  {
   "cell_type": "code",
   "execution_count": 16,
   "metadata": {},
   "outputs": [],
   "source": [
    "# Ray task to fit and score a scikit-learn model.\n",
    "@ray.remote\n",
    "def fit_and_score_sklearn(\n",
    "    train_df: pd.DataFrame, test_df: pd.DataFrame, model: BaseEstimator\n",
    ") -> Tuple[BaseEstimator, float]:\n",
    "    \n",
    "    # Assemble train/test pandas dfs\n",
    "    train_X = train_df[[\"passenger_count\", \"trip_distance\", \"fare_amount\"]]\n",
    "    train_y = train_df.trip_duration\n",
    "    test_X = test_df[[\"passenger_count\", \"trip_distance\", \"fare_amount\"]]\n",
    "    test_y = test_df.trip_duration\n",
    "    \n",
    "    # Start training.\n",
    "    model = model.fit(train_X, train_y)\n",
    "    pred_y = model.predict(test_X)\n",
    "    error = sklearn.metrics.mean_absolute_error(test_y, pred_y)\n",
    "    \n",
    "    return str(model), error"
   ]
  },
  {
   "cell_type": "markdown",
   "metadata": {},
   "source": [
    "<br>\n",
    "\n",
    "The `train_and_evaluate` function contains the logic for train-test splitting and fitting of multiple models in parallel on each data batch, for purposes of comparison. Thanks to this, we can evaluate several models and choose the best one for each data batch.\n",
    "\n",
    "This function takes as input, batches of Ray Dataset data.  Each batch of data is placed into Ray's distributed shared-memory object store, using the command [<b><i>ray.put()</i></b>](https://docs.ray.io/en/latest/ray-core/objects.html). Then the remote `fit_and_score_sklearn` Ray task is run simultaneously for all batches of data at once. Function `fit_and_score_sklearn` return values are all retrieved outside the loop using a single [<b><i>ray.get()</i></b>](https://docs.ray.io/en/latest/ray-core/tasks/patterns/ray-get-loop.html) call.\n",
    "<br>\n"
   ]
  },
  {
   "cell_type": "code",
   "execution_count": 17,
   "metadata": {},
   "outputs": [],
   "source": [
    "def train_and_evaluate(\n",
    "    the_df: pd.DataFrame, \n",
    "    models: List[BaseEstimator]\n",
    ") -> List[Tuple[BaseEstimator, float]]:\n",
    "    \n",
    "    # check if input df is big enough for training\n",
    "    if len(the_df) < 4:\n",
    "        print_time(f\"Dataframe for LocID: {i} is empty or smaller than 4\")\n",
    "        return None\n",
    "    else:\n",
    "        loc_id = the_df.dropoff_location_id[0]\n",
    "        # print(f\"Processing location {loc_id}...\")\n",
    "    \n",
    "    start = time.time()\n",
    "\n",
    "    # Train / test split\n",
    "    # Randomly split the data into 80/20 train/test.\n",
    "    train_df, test_df = train_test_split(the_df, test_size=0.2, shuffle=True)\n",
    "    \n",
    "    # We put the train & test dataframes into Ray object store\n",
    "    # so that they can be reused by all models fitted here.\n",
    "    # https://docs.ray.io/en/latest/ray-core/tips-for-first-time.html#tip-3-avoid-passing-same-object-repeatedly-to-remote-tasks\n",
    "    train_ref = ray.put(train_df)\n",
    "    test_ref = ray.put(test_df)\n",
    "\n",
    "    # Launch a fit and score task for each model.\n",
    "    results = ray.get(\n",
    "        [fit_and_score_sklearn.remote(train_ref, test_ref, model) for model in models]\n",
    "    )\n",
    "    # results.sort(key=lambda x: x[1])  # sort by error\n",
    "    \n",
    "    # Assemble loc_id, name of model, and metrics in a pandas DataFrame\n",
    "    results = [loc_id] + list(results[0])\n",
    "    results_return = pd.DataFrame(columns=['location_id', 'model', 'error'])\n",
    "    results_return.loc[0] = results\n",
    "\n",
    "    training_time = time.time() - start\n",
    "    print_time(f\"Training time for LocID {loc_id}: {training_time:.2f} seconds\")\n",
    "    \n",
    "    return results_return"
   ]
  },
  {
   "cell_type": "markdown",
   "metadata": {},
   "source": [
    "<br>\n",
    "\n",
    "Recall how we wrote a data transform <i>UDF_func</i> using Pandas syntax?  It was called with pattern:\n",
    "- `rds.map_batches(UDF_func, batch_format)`\n",
    "\n",
    "Similarly, a groupby-agg function can be used later when we perform a Ray Dataset <b>groupby</b>.  Below, the function <i>agg_func</i> will be called using a pattern: \n",
    "- `rds.groupby.map_groups(agg_func, batch_format)`.\n",
    "<br>\n"
   ]
  },
  {
   "cell_type": "code",
   "execution_count": 18,
   "metadata": {},
   "outputs": [],
   "source": [
    "# A Pandas DataFrame aggregation function for processing grouped batches of Ray Dataset data.\n",
    "def agg_func(the_df: pd.DataFrame):\n",
    "    \n",
    "    ret = pd.DataFrame()\n",
    "    \n",
    "    # Handle errors in data groups\n",
    "    try:\n",
    "        # Transform the input pandas AND fit_and_evaluate the transformed pandas\n",
    "        ret = train_and_evaluate(transform_batch(the_df), MODELS)\n",
    "    except Exception:\n",
    "        pass\n",
    "    \n",
    "    # Process null data groups\n",
    "    if ret.shape[0] == 0:\n",
    "        loc_id = the_df.dropoff_location_id[0]\n",
    "        print(f\"failed on {loc_id}\")\n",
    "        # assemble a null entry\n",
    "        ret = [loc_id, None, None]\n",
    "        results_return = pd.DataFrame(columns=['location_id', 'model', 'error'])\n",
    "        results_return.loc[0] = ret\n",
    "        return results_return\n",
    "    \n",
    "    # print_time(f\"agg_func returned type: {type(ret)}\")\n",
    "    return ret\n",
    "    "
   ]
  },
  {
   "cell_type": "markdown",
   "metadata": {},
   "source": [
    "<b>Main driver code using Ray Datasets `map_groups`, on all the data!</b>\n",
    "\n",
    "Finally, the main \"driver code\" reads each Parquet file (each file corresponds to one month of NYC taxi data) into a Ray Dataset, called `rds`. Then we use Ray Dataset <b>groupby</b> to map each group into a batch of data, on which `agg_func` can run, using the pattern [groupby-map_groups(agg_func, batch_format)](https://docs.ray.io/en/latest/data/api/grouped_dataset.html).  This implements an accumulator-based aggregation, which can run on each batch of data in parallel. \n",
    "<br>\n",
    "\n"
   ]
  },
  {
   "cell_type": "code",
   "execution_count": 22,
   "metadata": {},
   "outputs": [],
   "source": [
    "# possible to add more trainers in this list\n",
    "MODELS = [LinearRegression()]"
   ]
  },
  {
   "cell_type": "code",
   "execution_count": 26,
   "metadata": {},
   "outputs": [
    {
     "name": "stdout",
     "output_type": "stream",
     "text": [
      "NYC Taxi using 3 file(s)!\n"
     ]
    },
    {
     "name": "stderr",
     "output_type": "stream",
     "text": [
      "Sort Sample: 100%|████████████████████████████████| 3/3 [00:02<00:00,  1.44it/s]\n",
      "Shuffle Map: 100%|████████████████████████████████| 3/3 [00:05<00:00,  1.78s/it]\n",
      "Shuffle Reduce:  67%|███████████████████▎         | 2/3 [00:01<00:00,  1.45it/s]\u001b[2m\u001b[36m(raylet)\u001b[0m Spilled 2143 MiB, 21 objects, write throughput 294 MiB/s. Set RAY_verbose_spill_logs=0 to disable this message.\n",
      "Shuffle Reduce: 100%|█████████████████████████████| 3/3 [00:02<00:00,  1.48it/s]\n",
      "Map_Batches:  67%|████████████████████▋          | 2/3 [07:14<04:09, 249.38s/it]"
     ]
    },
    {
     "name": "stdout",
     "output_type": "stream",
     "text": [
      "\u001b[2m\u001b[36m(_map_block_nosplit pid=49034)\u001b[0m failed on 75\n",
      "\u001b[2m\u001b[36m(_map_block_nosplit pid=49034)\u001b[0m failed on 79\n",
      "\u001b[2m\u001b[36m(_map_block_nosplit pid=49034)\u001b[0m failed on 154\n"
     ]
    },
    {
     "name": "stderr",
     "output_type": "stream",
     "text": [
      "Map_Batches: 100%|███████████████████████████████| 3/3 [07:46<00:00, 155.43s/it]"
     ]
    },
    {
     "name": "stdout",
     "output_type": "stream",
     "text": [
      "Total number of models: 259\n",
      "TOTAL TIME TAKEN: 475.80 seconds\n"
     ]
    },
    {
     "name": "stderr",
     "output_type": "stream",
     "text": [
      "\n"
     ]
    }
   ],
   "source": [
    "# Driver code to run this.\n",
    "\n",
    "PRINT_TIMES = False\n",
    "\n",
    "SMOKE_TEST = False\n",
    "if SMOKE_TEST:\n",
    "    starting_idx = -1\n",
    "    sample_locations = random.sample(list(local_utils.dataprep.location_ids), 3)\n",
    "else:\n",
    "    starting_idx = -3\n",
    "    sample_locations = list(local_utils.dataprep.location_ids)\n",
    "\n",
    "s3_files = [f\"s3://{file}\" for file in s3_partitions.files][starting_idx:]\n",
    "print(f\"NYC Taxi using {len(s3_files)} file(s)!\")   \n",
    "print_time(f\"sample locations: {sample_locations}\")\n",
    "\n",
    "start = time.time()\n",
    "\n",
    "# Read data into Ray Dataset\n",
    "rds = pushdown_read_data(s3_files, sample_locations)\n",
    "\n",
    "# Use Ray Dataset groupby.map_groups() to parallel process each group\n",
    "# Returns a Ray Datset\n",
    "results = rds.groupby(\"dropoff_location_id\").map_groups(\n",
    "            agg_func, batch_format=\"pandas\")\n",
    "print_time(f\"groupby.map_groups() returned type: {type(results)}\")\n",
    "\n",
    "total_time_taken = time.time() - start\n",
    "print(f\"Total number of models: {len(sample_locations)}\")\n",
    "print(f\"TOTAL TIME TAKEN: {total_time_taken:.2f} seconds\")"
   ]
  },
  {
   "cell_type": "code",
   "execution_count": 27,
   "metadata": {},
   "outputs": [
    {
     "name": "stdout",
     "output_type": "stream",
     "text": [
      "Total number of models: 259\n",
      "TOTAL TIME TAKEN: 475.80 seconds\n"
     ]
    }
   ],
   "source": [
    "print(f\"Total number of models: {len(sample_locations)}\")\n",
    "print(f\"TOTAL TIME TAKEN: {total_time_taken:.2f} seconds\")\n",
    "\n",
    "# Note: Ran this on my M1 mac laptop with 8 CPU\n",
    "# TODO: Run this on Anyscale bigger cluster"
   ]
  },
  {
   "cell_type": "code",
   "execution_count": 28,
   "metadata": {},
   "outputs": [
    {
     "name": "stdout",
     "output_type": "stream",
     "text": [
      "<class 'ray.data.dataset.Dataset'>\n"
     ]
    },
    {
     "data": {
      "text/html": [
       "<div>\n",
       "<style scoped>\n",
       "    .dataframe tbody tr th:only-of-type {\n",
       "        vertical-align: middle;\n",
       "    }\n",
       "\n",
       "    .dataframe tbody tr th {\n",
       "        vertical-align: top;\n",
       "    }\n",
       "\n",
       "    .dataframe thead th {\n",
       "        text-align: right;\n",
       "    }\n",
       "</style>\n",
       "<table border=\"1\" class=\"dataframe\">\n",
       "  <thead>\n",
       "    <tr style=\"text-align: right;\">\n",
       "      <th></th>\n",
       "      <th>location_id</th>\n",
       "      <th>model</th>\n",
       "      <th>error</th>\n",
       "    </tr>\n",
       "  </thead>\n",
       "  <tbody>\n",
       "    <tr>\n",
       "      <th>102</th>\n",
       "      <td>105.0</td>\n",
       "      <td>LinearRegression()</td>\n",
       "      <td>48.927087</td>\n",
       "    </tr>\n",
       "    <tr>\n",
       "      <th>1</th>\n",
       "      <td>2.0</td>\n",
       "      <td>LinearRegression()</td>\n",
       "      <td>127.049780</td>\n",
       "    </tr>\n",
       "    <tr>\n",
       "      <th>248</th>\n",
       "      <td>253.0</td>\n",
       "      <td>LinearRegression()</td>\n",
       "      <td>179.224421</td>\n",
       "    </tr>\n",
       "    <tr>\n",
       "      <th>45</th>\n",
       "      <td>46.0</td>\n",
       "      <td>LinearRegression()</td>\n",
       "      <td>272.618932</td>\n",
       "    </tr>\n",
       "    <tr>\n",
       "      <th>240</th>\n",
       "      <td>245.0</td>\n",
       "      <td>LinearRegression()</td>\n",
       "      <td>295.203238</td>\n",
       "    </tr>\n",
       "    <tr>\n",
       "      <th>...</th>\n",
       "      <td>...</td>\n",
       "      <td>...</td>\n",
       "      <td>...</td>\n",
       "    </tr>\n",
       "    <tr>\n",
       "      <th>4</th>\n",
       "      <td>5.0</td>\n",
       "      <td>LinearRegression()</td>\n",
       "      <td>4285.400513</td>\n",
       "    </tr>\n",
       "    <tr>\n",
       "      <th>183</th>\n",
       "      <td>187.0</td>\n",
       "      <td>LinearRegression()</td>\n",
       "      <td>8575.909775</td>\n",
       "    </tr>\n",
       "    <tr>\n",
       "      <th>74</th>\n",
       "      <td>75.0</td>\n",
       "      <td>NaN</td>\n",
       "      <td>NaN</td>\n",
       "    </tr>\n",
       "    <tr>\n",
       "      <th>78</th>\n",
       "      <td>79.0</td>\n",
       "      <td>NaN</td>\n",
       "      <td>NaN</td>\n",
       "    </tr>\n",
       "    <tr>\n",
       "      <th>150</th>\n",
       "      <td>154.0</td>\n",
       "      <td>NaN</td>\n",
       "      <td>NaN</td>\n",
       "    </tr>\n",
       "  </tbody>\n",
       "</table>\n",
       "<p>259 rows × 3 columns</p>\n",
       "</div>"
      ],
      "text/plain": [
       "     location_id               model        error\n",
       "102        105.0  LinearRegression()    48.927087\n",
       "1            2.0  LinearRegression()   127.049780\n",
       "248        253.0  LinearRegression()   179.224421\n",
       "45          46.0  LinearRegression()   272.618932\n",
       "240        245.0  LinearRegression()   295.203238\n",
       "..           ...                 ...          ...\n",
       "4            5.0  LinearRegression()  4285.400513\n",
       "183        187.0  LinearRegression()  8575.909775\n",
       "74          75.0                 NaN          NaN\n",
       "78          79.0                 NaN          NaN\n",
       "150        154.0                 NaN          NaN\n",
       "\n",
       "[259 rows x 3 columns]"
      ]
     },
     "execution_count": 28,
     "metadata": {},
     "output_type": "execute_result"
    }
   ],
   "source": [
    "# Sort results ascending by error\n",
    "\n",
    "print(type(results))\n",
    "\n",
    "# sort values by ascending error\n",
    "results_df = results.to_pandas(limit=results.count())\n",
    "results_df.sort_values(by=[\"error\"], ascending=True, inplace=True)\n",
    "results_df"
   ]
  },
  {
   "cell_type": "code",
   "execution_count": null,
   "metadata": {},
   "outputs": [],
   "source": []
  }
 ],
 "metadata": {
  "kernelspec": {
   "display_name": "Python 3 (ipykernel)",
   "language": "python",
   "name": "python3"
  },
  "language_info": {
   "codemirror_mode": {
    "name": "ipython",
    "version": 3
   },
   "file_extension": ".py",
   "mimetype": "text/x-python",
   "name": "python",
   "nbconvert_exporter": "python",
   "pygments_lexer": "ipython3",
   "version": "3.8.13"
  }
 },
 "nbformat": 4,
 "nbformat_minor": 4
}
