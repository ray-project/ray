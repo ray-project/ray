{
 "cells": [
  {
   "cell_type": "markdown",
   "id": "4ce7bfe8",
   "metadata": {},
   "source": [
    "# Running Tune experiments with Nevergrad\n",
    "\n",
    "This example demonstrates the usage of Nevergrad with Ray Tune.\n",
    "\n",
    "We also combine the search algorithm based on `NevergradSearch` with `AsyncHyperBandScheduler` scheduler to demonstrate Ray Tune's modularity.\n",
    "\n",
    "Click below to see all the imports we need for this example.\n",
    "You can also launch directly into a Binder instance to run this notebook yourself.\n",
    "Just click on the rocket symbol at the top of the navigation.\n",
    "\n",
    "Necessary requirements:\n",
    "- `pip install ray[tune]`\n",
    "- `pip install zoopt==0.4.1`"
   ]
  },
  {
   "cell_type": "code",
   "execution_count": null,
   "id": "dfaad1b5",
   "metadata": {
    "tags": [
     "remove-cell"
    ]
   },
   "outputs": [],
   "source": [
    "# !pip install ray[tune]\n",
    "!pip install zoopt==0.4.1"
   ]
  },
  {
   "cell_type": "code",
   "execution_count": null,
   "id": "efd7ccc6",
   "metadata": {
    "tags": [
     "hide-input"
    ]
   },
   "outputs": [],
   "source": [
    "import time\n",
    "\n",
    "import ray\n",
    "from ray import tune\n",
    "from ray.tune.suggest.zoopt import ZOOptSearch\n",
    "from ray.tune.schedulers import AsyncHyperBandScheduler\n",
    "from zoopt import ValueType"
   ]
  },
  {
   "cell_type": "markdown",
   "id": "da97fe6c",
   "metadata": {},
   "source": [
    "Let's start by defining a simple evaluation function.\n",
    "We artificially sleep for a bit (`0.1` seconds) to simulate a long-running ML experiment.\n",
    "This setup assumes that we're running multiple `step`s of an experiment and try to tune two hyperparameters,\n",
    "namely `width` and `height`, and `activation`."
   ]
  },
  {
   "cell_type": "code",
   "execution_count": null,
   "id": "b82b87ea",
   "metadata": {},
   "outputs": [],
   "source": [
    "def evaluate(step, width, height, activation):\n",
    "    time.sleep(0.1)\n",
    "    activation_boost = 10 if activation==\"relu\" else 1\n",
    "    return (0.1 + width * step / 100) ** (-1) + height * 0.1 + activation_boost"
   ]
  },
  {
   "cell_type": "markdown",
   "id": "0b4c5f39",
   "metadata": {},
   "source": [
    "Next, our ``objective`` function takes a Tune ``config``, evaluates the `score` of your experiment in a training loop,\n",
    "and uses `tune.report` to report the `score` back to Tune."
   ]
  },
  {
   "cell_type": "code",
   "execution_count": null,
   "id": "9028d513",
   "metadata": {},
   "outputs": [],
   "source": [
    "def objective(config):\n",
    "    for step in range(config[\"steps\"]):\n",
    "        score = evaluate(step, config[\"width\"], config[\"height\"], config[\"activation\"])\n",
    "        tune.report(iterations=step, mean_loss=score)"
   ]
  },
  {
   "cell_type": "code",
   "execution_count": null,
   "id": "b2d3f083",
   "metadata": {
    "lines_to_next_cell": 0,
    "tags": [
     "remove-cell"
    ]
   },
   "outputs": [],
   "source": [
    "ray.init(configure_logging=False)"
   ]
  },
  {
   "cell_type": "markdown",
   "id": "66ad1b06",
   "metadata": {},
   "source": [
    "Now we construct the hyperparameter search space using `ConfigSpace`"
   ]
  },
  {
   "cell_type": "markdown",
   "id": "407989fd",
   "metadata": {},
   "source": [
    "Next we define the search algorithm built from `ZOOptSearch`, constrained  to a maximum of `8` concurrent trials."
   ]
  },
  {
   "cell_type": "code",
   "execution_count": null,
   "id": "79ee9bf0",
   "metadata": {},
   "outputs": [],
   "source": [
    "zoopt_search_config = {\n",
    "    \"parallel_num\": 8\n",
    "}\n",
    "zoopt_search = ZOOptSearch(\n",
    "    algo=\"Asracos\",  # only support ASRacos currently\n",
    "    budget=num_samples,\n",
    "    **zoopt_search_config,\n",
    ")"
   ]
  },
  {
   "cell_type": "markdown",
   "id": "9b21188e",
   "metadata": {},
   "source": [
    "Furthermore, we define a `scheduler` to go along with our algorithm to showcase the modularity of Ray Tune."
   ]
  },
  {
   "cell_type": "code",
   "execution_count": null,
   "id": "be09b66f",
   "metadata": {},
   "outputs": [],
   "source": [
    "scheduler = AsyncHyperBandScheduler() "
   ]
  },
  {
   "cell_type": "markdown",
   "id": "0300e82d",
   "metadata": {},
   "source": [
    "The number of samples this Tune run is set to `1000`.\n",
    "(you can decrease this if it takes too long on your machine)."
   ]
  },
  {
   "cell_type": "code",
   "execution_count": null,
   "id": "a99037f4",
   "metadata": {},
   "outputs": [],
   "source": [
    "num_samples = 1000"
   ]
  },
  {
   "cell_type": "code",
   "execution_count": null,
   "id": "b01d0e9f",
   "metadata": {
    "tags": [
     "remove-cell"
    ]
   },
   "outputs": [],
   "source": [
    "# If 1000 samples take too long, you can reduce this number.\n",
    "# We override this number here for our smoke tests.\n",
    "num_samples = 10"
   ]
  },
  {
   "cell_type": "markdown",
   "id": "41144c0a",
   "metadata": {},
   "source": [
    "Finally, all that's left is to define a search space."
   ]
  },
  {
   "cell_type": "code",
   "execution_count": null,
   "id": "7af86cfb",
   "metadata": {},
   "outputs": [],
   "source": [
    "search_config = {\n",
    "    \"steps\": 100,\n",
    "    \"width\": tune.randint(0, 10),\n",
    "    \"height\": tune.quniform(-10, 10, 1e-2),\n",
    "    \"activation\": tune.choice([\"relu, tanh\"])\n",
    "}"
   ]
  },
  {
   "cell_type": "markdown",
   "id": "6dfadb80",
   "metadata": {},
   "source": [
    "And run the experiment."
   ]
  },
  {
   "cell_type": "code",
   "execution_count": null,
   "id": "3b7c128f",
   "metadata": {},
   "outputs": [],
   "source": [
    "analysis = tune.run(\n",
    "    objective,\n",
    "    search_alg=algo,\n",
    "    scheduler=scheduler,\n",
    "    metric=\"mean_loss\",\n",
    "    mode=\"min\",\n",
    "    name=\"zoopt_exp\",\n",
    "    num_samples=num_samples,\n",
    "    config=search_config,\n",
    ")"
   ]
  },
  {
   "cell_type": "markdown",
   "id": "229bd072",
   "metadata": {},
   "source": [
    "Here are the hyperparamters found to minimize the mean loss of the defined objective."
   ]
  },
  {
   "cell_type": "code",
   "execution_count": null,
   "id": "50f6798a",
   "metadata": {
    "lines_to_next_cell": 0
   },
   "outputs": [],
   "source": [
    "print(\"Best hyperparameters found were: \", analysis.best_config)"
   ]
  },
  {
   "cell_type": "markdown",
   "id": "330dc9e6",
   "metadata": {},
   "source": [
    "## Optional: passing the parameter space into the search algorithm\n",
    "\n",
    "We can also pass the parameter space ourselves"
   ]
  },
  {
   "cell_type": "code",
   "execution_count": null,
   "id": "7533521a",
   "metadata": {},
   "outputs": [],
   "source": [
    "space = {\n",
    "    # for continuous dimensions: (continuous, search_range, precision)\n",
    "    \"height\": (ValueType.CONTINUOUS, [-10, 10], 1e-2),\n",
    "    # for discrete dimensions: (discrete, search_range, has_order)\n",
    "    \"width\": (ValueType.DISCRETE, [0, 10], True)\n",
    "    # for grid dimensions: (grid, grid_list)\n",
    "    \"layers\": (ValueType.GRID, [4, 8, 16])\n",
    "}"
   ]
  },
  {
   "cell_type": "code",
   "execution_count": null,
   "id": "993a9635",
   "metadata": {},
   "outputs": [],
   "source": [
    "zoopt_search_config = {\n",
    "    \"parallel_num\": 8\n",
    "}\n",
    "algo = ZOOptSearch(\n",
    "    algo=\"Asracos\",\n",
    "    budget=num_samples,\n",
    "    dim_dict=space,\n",
    "    **zoopt_search_config,\n",
    ")\n",
    "scheduler = AsyncHyperBandScheduler() "
   ]
  },
  {
   "cell_type": "code",
   "execution_count": null,
   "id": "92facbb5",
   "metadata": {},
   "outputs": [],
   "source": [
    "analysis = tune.run(\n",
    "    objective,\n",
    "    search_alg=algo,\n",
    "    scheduler=scheduler,\n",
    "    metric=\"mean_loss\",\n",
    "    mode=\"min\",\n",
    "    name=\"nevergrad_exp\",\n",
    "    num_samples=num_samples,\n",
    "    config=search_config,\n",
    ")"
   ]
  },
  {
   "cell_type": "code",
   "execution_count": null,
   "id": "a34fe94d",
   "metadata": {
    "tags": [
     "remove-cell"
    ]
   },
   "outputs": [],
   "source": [
    "ray.shutdown()"
   ]
  }
 ],
 "metadata": {
  "kernelspec": {
   "display_name": "Python 3 (ipykernel)",
   "language": "python",
   "name": "python3"
  },
  "orphan": true
 },
 "nbformat": 4,
 "nbformat_minor": 5
}
