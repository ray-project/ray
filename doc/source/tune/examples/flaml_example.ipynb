{
 "cells": [
  {
   "cell_type": "markdown",
   "id": "bc41dd11",
   "metadata": {},
   "source": [
    "# Running Tune experiments with BlendSearch and CFO\n",
    "\n",
    "This example demonstrates the usage of BlendSearch and CFO with Ray Tune.\n",
    "\n",
    "We also combine the search algorithm based on `BlendSearch` and `CFO` with `AsyncHyperBandScheduler` scheduler to demonstrate Ray Tune's modularity.\n",
    "\n",
    "Background information:\n",
    "- [BlendSearch website](https://github.com/microsoft/FLAML/tree/main/flaml/tune)\n",
    "- [CFO website](https://github.com/microsoft/FLAML/tree/main/flaml/tune)"
   ]
  },
  {
   "cell_type": "markdown",
   "id": "a66045e3",
   "metadata": {},
   "source": [
    "Necessary requirements:\n",
    "- `pip install ray[tune]`\n",
    "- `pip install flaml==0.9.7`\n",
    "- `pip install optuna==2.9.1`"
   ]
  },
  {
   "cell_type": "code",
   "execution_count": null,
   "id": "27076c83",
   "metadata": {
    "tags": [
     "remove-cell"
    ]
   },
   "outputs": [],
   "source": [
    "# !pip install ray[tune]\n",
    "!pip install flaml==0.9.7\n",
    "!pip install optuna==2.9.1"
   ]
  },
  {
   "cell_type": "markdown",
   "id": "e5add530",
   "metadata": {},
   "source": [
    "Click below to see all the imports we need for this example.\n",
    "You can also launch directly into a Binder instance to run this notebook yourself.\n",
    "Just click on the rocket symbol at the top of the navigation."
   ]
  },
  {
   "cell_type": "code",
   "execution_count": null,
   "id": "5bac553c",
   "metadata": {
    "tags": [
     "hide-input"
    ]
   },
   "outputs": [],
   "source": [
    "import time\n",
    "\n",
    "import ray\n",
    "from ray import tune\n",
    "from ray.tune.suggest import ConcurrencyLimiter\n",
    "from ray.tune.schedulers import AsyncHyperBandScheduler\n",
    "from ray.tune.suggest.flaml import BlendSearch, CFO"
   ]
  },
  {
   "cell_type": "markdown",
   "id": "46cf9a2b",
   "metadata": {},
   "source": [
    "Let's start by defining a simple evaluation function.\n",
    "We artificially sleep for a bit (`0.1` seconds) to simulate a long-running ML experiment.\n",
    "This setup assumes that we're running multiple `step`s of an experiment and try to tune two hyperparameters,\n",
    "namely `width` and `height`, and `activation`."
   ]
  },
  {
   "cell_type": "code",
   "execution_count": null,
   "id": "366c1c0d",
   "metadata": {},
   "outputs": [],
   "source": [
    "def evaluate(step, width, height, activation):\n",
    "    time.sleep(0.1)\n",
    "    activation_boost = 10 if activation==\"relu\" else 1\n",
    "    return (0.1 + width * step / 100) ** (-1) + height * 0.1 + activation_boost"
   ]
  },
  {
   "cell_type": "markdown",
   "id": "5bc92371",
   "metadata": {},
   "source": [
    "Next, our ``objective`` function takes a Tune ``config``, evaluates the `score` of your experiment in a training loop,\n",
    "and uses `tune.report` to report the `score` back to Tune."
   ]
  },
  {
   "cell_type": "code",
   "execution_count": null,
   "id": "fbf00147",
   "metadata": {},
   "outputs": [],
   "source": [
    "def objective(config):\n",
    "    for step in range(config[\"steps\"]):\n",
    "        score = evaluate(step, config[\"width\"], config[\"height\"], config[\"activation\"])\n",
    "        tune.report(iterations=step, mean_loss=score)"
   ]
  },
  {
   "cell_type": "code",
   "execution_count": null,
   "id": "196aa5dd",
   "metadata": {
    "lines_to_next_cell": 0,
    "tags": [
     "remove-cell"
    ]
   },
   "outputs": [],
   "source": [
    "ray.init(configure_logging=False)"
   ]
  },
  {
   "cell_type": "markdown",
   "id": "ca3cbeef",
   "metadata": {},
   "source": [
    "## Running Tune experiments with BlendSearch\n",
    "\n",
    "This example demonstrates the usage of CFO with Ray Tune.\n",
    "\n",
    "Now we define the search algorithm built from `BlendSearch`, constrained to a maximum of `4` concurrent trials with a `ConcurrencyLimiter`."
   ]
  },
  {
   "cell_type": "code",
   "execution_count": null,
   "id": "60c588cf",
   "metadata": {
    "lines_to_next_cell": 0
   },
   "outputs": [],
   "source": [
    "algo = BlendSearch()\n",
    "algo = ConcurrencyLimiter(algo, max_concurrent=4)"
   ]
  },
  {
   "cell_type": "markdown",
   "id": "4f56c1fc",
   "metadata": {},
   "source": [
    "Furthermore, we define a `scheduler` to go along with our algorithm to showcase the modularity of Ray Tune."
   ]
  },
  {
   "cell_type": "code",
   "execution_count": null,
   "id": "ef56206c",
   "metadata": {
    "lines_to_next_cell": 0
   },
   "outputs": [],
   "source": [
    "scheduler = AsyncHyperBandScheduler()"
   ]
  },
  {
   "cell_type": "markdown",
   "id": "9edcf579",
   "metadata": {},
   "source": [
    "The number of samples this Tune run is set to `1000`.\n",
    "(you can decrease this if it takes too long on your machine)."
   ]
  },
  {
   "cell_type": "code",
   "execution_count": null,
   "id": "88bed646",
   "metadata": {},
   "outputs": [],
   "source": [
    "num_samples = 1000"
   ]
  },
  {
   "cell_type": "code",
   "execution_count": null,
   "id": "21084264",
   "metadata": {
    "tags": [
     "remove-cell"
    ]
   },
   "outputs": [],
   "source": [
    "# If 1000 samples take too long, you can reduce this number.\n",
    "# We override this number here for our smoke tests.\n",
    "num_samples = 10"
   ]
  },
  {
   "cell_type": "markdown",
   "id": "851c2d8a",
   "metadata": {},
   "source": [
    "Finally, all that's left is to define a search space."
   ]
  },
  {
   "cell_type": "code",
   "execution_count": null,
   "id": "11aba130",
   "metadata": {},
   "outputs": [],
   "source": [
    "search_config = {\n",
    "    \"steps\": 100,\n",
    "    \"width\": tune.uniform(0, 20),\n",
    "    \"height\": tune.uniform(-100, 100),\n",
    "    \"activation\": tune.choice([\"relu, tanh\"])\n",
    "}"
   ]
  },
  {
   "cell_type": "markdown",
   "id": "c6c4fafe",
   "metadata": {},
   "source": [
    "And run the experiment."
   ]
  },
  {
   "cell_type": "code",
   "execution_count": null,
   "id": "b5a3e61d",
   "metadata": {},
   "outputs": [],
   "source": [
    "analysis = tune.run(\n",
    "    objective,\n",
    "    search_alg=algo,\n",
    "    scheduler=scheduler,\n",
    "    metric=\"mean_loss\",\n",
    "    mode=\"min\",\n",
    "    name=\"blendsearch_exp\",\n",
    "    num_samples=num_samples,\n",
    "    config=search_config,\n",
    ")"
   ]
  },
  {
   "cell_type": "markdown",
   "id": "074b4eb9",
   "metadata": {},
   "source": [
    "Here are the hyperparamters found to minimize the mean loss of the defined objective."
   ]
  },
  {
   "cell_type": "code",
   "execution_count": null,
   "id": "945e50f5",
   "metadata": {},
   "outputs": [],
   "source": [
    "print(\"Best hyperparameters found were: \", analysis.best_config)"
   ]
  },
  {
   "cell_type": "markdown",
   "id": "ebaa141c",
   "metadata": {},
   "source": [
    "## Incorporating a time budget to the experiment\n",
    "\n",
    "Define the time budget in seconds:"
   ]
  },
  {
   "cell_type": "code",
   "execution_count": null,
   "id": "5347eed8",
   "metadata": {},
   "outputs": [],
   "source": [
    "time_budget_s = 30"
   ]
  },
  {
   "cell_type": "markdown",
   "id": "10d594c2",
   "metadata": {},
   "source": [
    "Similarly we define a search space, but this time we feed it as an argument to `BlendSearch` rather than `tune.run`'s `config` argument.\n",
    "\n",
    "We next define the time budget via `set_search_properties`. And once again include the `ConcurrencyLimiter`."
   ]
  },
  {
   "cell_type": "code",
   "execution_count": null,
   "id": "97760d65",
   "metadata": {},
   "outputs": [],
   "source": [
    "algo = BlendSearch(\n",
    "    metric=\"mean_loss\",\n",
    "    mode=\"min\",\n",
    "    space={\n",
    "        \"width\": tune.uniform(0, 20),\n",
    "        \"height\": tune.uniform(-100, 100),\n",
    "        \"activation\": tune.choice([\"relu\", \"tanh\"]),\n",
    "    },\n",
    ")\n",
    "algo.set_search_properties(config={\"time_budget_s\": time_budget_s})\n",
    "algo = ConcurrencyLimiter(algo, max_concurrent=4)"
   ]
  },
  {
   "cell_type": "markdown",
   "id": "45443d5c",
   "metadata": {},
   "source": [
    "We define the optional scheduler:"
   ]
  },
  {
   "cell_type": "code",
   "execution_count": null,
   "id": "5ccb1c81",
   "metadata": {},
   "outputs": [],
   "source": [
    "scheduler = AsyncHyperBandScheduler()"
   ]
  },
  {
   "cell_type": "markdown",
   "id": "56110790",
   "metadata": {},
   "source": [
    "Lastly, we run the experiment.\n",
    "\n",
    "Note: We allow for virtually infinite `num_samples` by passing `-1`, so that the experiment is stopped according to the time budget."
   ]
  },
  {
   "cell_type": "code",
   "execution_count": null,
   "id": "fe859ead",
   "metadata": {},
   "outputs": [],
   "source": [
    "analysis = tune.run(\n",
    "    objective,\n",
    "    search_alg=algo,\n",
    "    scheduler=scheduler,\n",
    "    time_budget_s=time_budget_s,\n",
    "    metric=\"mean_loss\",\n",
    "    mode=\"min\",\n",
    "    name=\"blendsearch_exp\",\n",
    "    num_samples=-1,\n",
    "    config={\"steps\": 100},\n",
    ")"
   ]
  },
  {
   "cell_type": "code",
   "execution_count": null,
   "id": "b57b3f6a",
   "metadata": {},
   "outputs": [],
   "source": [
    "print(\"Best hyperparameters found were: \", analysis.best_config)"
   ]
  },
  {
   "cell_type": "markdown",
   "id": "b3854d12",
   "metadata": {},
   "source": [
    "## Running Tune experiments with CFO\n",
    "\n",
    "This example demonstrates the usage of CFO with Ray Tune.\n",
    "\n",
    "We now define the search algorithm as built from `CFO`, constrained to a maximum of `4` concurrent trials with a `ConcurrencyLimiter`."
   ]
  },
  {
   "cell_type": "code",
   "execution_count": null,
   "id": "bd30718b",
   "metadata": {
    "lines_to_next_cell": 0
   },
   "outputs": [],
   "source": [
    "algo = CFO()\n",
    "algo = ConcurrencyLimiter(algo, max_concurrent=4)"
   ]
  },
  {
   "cell_type": "markdown",
   "id": "b6598427",
   "metadata": {},
   "source": [
    "Furthermore, we define a `scheduler` to go along with our algorithm to showcase the modularity of Ray Tune."
   ]
  },
  {
   "cell_type": "code",
   "execution_count": null,
   "id": "2085d5cf",
   "metadata": {
    "lines_to_next_cell": 0
   },
   "outputs": [],
   "source": [
    "scheduler = AsyncHyperBandScheduler()"
   ]
  },
  {
   "cell_type": "markdown",
   "id": "e5dd4034",
   "metadata": {},
   "source": [
    "The number of samples this Tune run is set to `1000`.\n",
    "(you can decrease this if it takes too long on your machine)."
   ]
  },
  {
   "cell_type": "code",
   "execution_count": null,
   "id": "143897a3",
   "metadata": {},
   "outputs": [],
   "source": [
    "num_samples = 1000"
   ]
  },
  {
   "cell_type": "code",
   "execution_count": null,
   "id": "76ff41c1",
   "metadata": {
    "tags": [
     "remove-cell"
    ]
   },
   "outputs": [],
   "source": [
    "# If 1000 samples take too long, you can reduce this number.\n",
    "# We override this number here for our smoke tests.\n",
    "num_samples = 10"
   ]
  },
  {
   "cell_type": "markdown",
   "id": "f5f2357b",
   "metadata": {},
   "source": [
    "Finally, all that's left is to define a search space."
   ]
  },
  {
   "cell_type": "code",
   "execution_count": null,
   "id": "1df5a1e3",
   "metadata": {},
   "outputs": [],
   "source": [
    "search_config = {\n",
    "    \"steps\": 100,\n",
    "    \"width\": tune.uniform(0, 20),\n",
    "    \"height\": tune.uniform(-100, 100),\n",
    "    \"activation\": tune.choice([\"relu, tanh\"])\n",
    "}"
   ]
  },
  {
   "cell_type": "markdown",
   "id": "e84052cd",
   "metadata": {},
   "source": [
    "And run the experiment."
   ]
  },
  {
   "cell_type": "code",
   "execution_count": null,
   "id": "4e1bcb06",
   "metadata": {},
   "outputs": [],
   "source": [
    "analysis = tune.run(\n",
    "    objective,\n",
    "    search_alg=algo,\n",
    "    scheduler=scheduler,\n",
    "    metric=\"mean_loss\",\n",
    "    mode=\"min\",\n",
    "    name=\"cfo_exp\",\n",
    "    num_samples=num_samples,\n",
    "    config=search_config,\n",
    ")"
   ]
  },
  {
   "cell_type": "markdown",
   "id": "bcebc75e",
   "metadata": {},
   "source": [
    "Here are the hyperparameters found to minimize the mean loss of the defined objective."
   ]
  },
  {
   "cell_type": "code",
   "execution_count": null,
   "id": "4d06daf7",
   "metadata": {},
   "outputs": [],
   "source": [
    "print(\"Best hyperparameters found were: \", analysis.best_config)"
   ]
  },
  {
   "cell_type": "code",
   "execution_count": null,
   "id": "3904f342",
   "metadata": {
    "tags": [
     "remove-cell"
    ]
   },
   "outputs": [],
   "source": [
    "ray.shutdown()"
   ]
  }
 ],
 "metadata": {
  "kernelspec": {
   "display_name": "Python 3 (ipykernel)",
   "language": "python",
   "name": "python3"
  },
  "orphan": true
 },
 "nbformat": 4,
 "nbformat_minor": 5
}
