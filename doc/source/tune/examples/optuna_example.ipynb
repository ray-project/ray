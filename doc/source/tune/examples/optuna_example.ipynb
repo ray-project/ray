{
 "cells": [
  {
   "cell_type": "markdown",
   "id": "fb3597ec",
   "metadata": {},
   "source": [
    "# Running Tune experiments with Optuna\n",
    "\n",
    "This example demonstrates the usage of Optuna with Ray Tune via `OptunaSearch`, including conditional search spaces and the multi-objective use case.\n",
    "\n",
    "While you may use a scheduler with `OptunaSearch`, e.g. `AsyncHyperBandScheduler`, please note that schedulers may not work correctly with multi-objective optimization, since they often expect a scalar score.\n",
    "\n",
    "Click below to see all the imports we need for this example.\n",
    "You can also launch directly into a Binder instance to run this notebook yourself.\n",
    "Just click on the rocket symbol at the top of the navigation."
   ]
  },
  {
   "cell_type": "code",
   "execution_count": null,
   "id": "2d99ed90",
   "metadata": {
    "lines_to_next_cell": 0,
    "tags": [
     "hide-input"
    ]
   },
   "outputs": [],
   "source": [
    "import time\n",
    "from typing import Dict, Optional, Any\n",
    "\n",
    "import ray\n",
    "from ray import tune\n",
    "from ray.tune.suggest import ConcurrencyLimiter\n",
    "from ray.tune.schedulers import AsyncHyperBandScheduler\n",
    "from ray.tune.suggest.optuna import OptunaSearch"
   ]
  },
  {
   "cell_type": "markdown",
   "id": "bab6cfc5",
   "metadata": {},
   "source": [
    "Toggle `use_func` and `multi_obj` below to test different example usages."
   ]
  },
  {
   "cell_type": "code",
   "execution_count": null,
   "id": "3d6a2c41",
   "metadata": {},
   "outputs": [],
   "source": [
    "# Whether to use function to define search space\n",
    "use_func = False\n",
    "# Whether to run multi-objective\n",
    "multi_obj = False"
   ]
  },
  {
   "cell_type": "markdown",
   "id": "e6354cae",
   "metadata": {},
   "source": [
    "Let's start by defining a simple evaluation function.\n",
    "The form here is explicit for demonstration, yet it is typically a black-box.\n",
    "We artificially sleep for a bit (`0.1` seconds) to simulate a long-running ML experiment.\n",
    "This setup assumes that we're running multiple `step`s of an experiment and try to tune some hyperparameters,\n",
    "namely `width`, `height`, and `activation`."
   ]
  },
  {
   "cell_type": "code",
   "execution_count": null,
   "id": "7d84693a",
   "metadata": {},
   "outputs": [],
   "source": [
    "def evaluate(step, width, height, activation):\n",
    "    time.sleep(0.1)\n",
    "    activation_boost = 10 if activation==\"relu\" else 0\n",
    "    return (0.1 + width * step / 100) ** (-1) + height * 0.1 + activation_boost"
   ]
  },
  {
   "cell_type": "markdown",
   "id": "85b9c707",
   "metadata": {},
   "source": [
    "Next, our ``objective`` function takes a Tune ``config``, evaluates the `score` of your experiment in a training loop,\n",
    "and uses `tune.report` to report the `score` back to Tune."
   ]
  },
  {
   "cell_type": "code",
   "execution_count": null,
   "id": "66bc4452",
   "metadata": {
    "lines_to_next_cell": 2
   },
   "outputs": [],
   "source": [
    "def objective(config):\n",
    "    for step in range(config[\"steps\"]):\n",
    "        score = evaluate(step, config[\"width\"], config[\"height\"], config[\"activation\"])\n",
    "        tune.report(iterations=step, mean_loss=score)\n",
    "              \n",
    "def multi_objective(config):\n",
    "    # Hyperparameters\n",
    "    width, height = config[\"width\"], config[\"height\"]\n",
    "\n",
    "    for step in range(config[\"steps\"]):\n",
    "        # Iterative training function - can be any arbitrary training procedure\n",
    "        intermediate_score = evaluate(step, config[\"width\"], config[\"height\"], config[\"activation\"])\n",
    "        # Feed the score back back to Tune.\n",
    "        tune.report(\n",
    "           iterations=step, loss=intermediate_score, gain=intermediate_score * width\n",
    "        )"
   ]
  },
  {
   "cell_type": "code",
   "execution_count": null,
   "id": "ec42eab9",
   "metadata": {
    "lines_to_next_cell": 0,
    "tags": [
     "remove-cell"
    ]
   },
   "outputs": [],
   "source": [
    "ray.init(configure_logging=False)"
   ]
  },
  {
   "cell_type": "markdown",
   "id": "810ec8f6",
   "metadata": {},
   "source": [
    "Next we define a search space. The critical assumption is that the optimal hyperparamters live within this space. Yet, if the space is very large, then those hyperparamters may be difficult to find in a short amount of time.\n",
    "\n",
    "The search space can be defined as independent or conditional. The simplest case is where we have an independent search space. In this case, a config dictionary will suffice."
   ]
  },
  {
   "cell_type": "code",
   "execution_count": null,
   "id": "746f5aa7",
   "metadata": {
    "lines_to_next_cell": 0
   },
   "outputs": [],
   "source": [
    "search_space = {\n",
    "    \"steps\": 100,\n",
    "    \"width\": tune.uniform(0, 20),\n",
    "    \"height\": tune.uniform(-100, 100),\n",
    "    \"activation\": tune.choice([\"relu\", \"tanh\"]),\n",
    "}"
   ]
  },
  {
   "cell_type": "markdown",
   "id": "1fcb285d",
   "metadata": {},
   "source": [
    "However, for the conditional search space, we must use a define-by-run function."
   ]
  },
  {
   "cell_type": "code",
   "execution_count": null,
   "id": "670826df",
   "metadata": {},
   "outputs": [],
   "source": [
    "def define_by_run_func(trial) -> Optional[Dict[str, Any]]:\n",
    "    \"\"\"Define-by-run function to create the search space.\n",
    "\n",
    "    Ensure no actual computation takes place here. That should go into\n",
    "    the trainable passed to ``tune.run`` (in this example, that's\n",
    "    ``objective``).\n",
    "\n",
    "    For more information, see https://optuna.readthedocs.io/en/stable\\\n",
    "    /tutorial/10_key_features/002_configurations.html\n",
    "\n",
    "    This function should either return None or a dict with constant values.\n",
    "    \"\"\"\n",
    "\n",
    "    activation = trial.suggest_categorical(\"activation\", [\"relu\", \"tanh\"])\n",
    "\n",
    "    # Define-by-run allows for conditional search spaces.\n",
    "    if activation == \"relu\":\n",
    "        trial.suggest_float(\"width\", 0, 20)\n",
    "        trial.suggest_float(\"height\", -100, 100) \n",
    "    else:\n",
    "        trial.suggest_float(\"width\", 0, 21)\n",
    "        trial.suggest_float(\"height\", -101, 101)\n",
    "        \n",
    "    # Return all constants in a dictionary.\n",
    "    return {\"steps\": 100}"
   ]
  },
  {
   "cell_type": "markdown",
   "id": "0b473581",
   "metadata": {},
   "source": [
    "Optionally, we may provide an initial set of hyperparameters that we believe as the current best, (`current_best_params`), and\n",
    "pass this belief into a `OptunaSearch` searcher.\n",
    "Furthermore, we optionally define a `scheduler` to go along with our algorithm.\n",
    "\n",
    "We then set the maximum concurrent trials to `4` with a `ConcurrencyLimiter`.\n",
    "Lastly, we must set the number of samples for this Tune run to `1000`\n",
    "(you can decrease this if it takes too long on your machine)."
   ]
  },
  {
   "cell_type": "code",
   "execution_count": null,
   "id": "73f73da9",
   "metadata": {},
   "outputs": [],
   "source": [
    "initial_params = [\n",
    "    {\"width\": 1, \"height\": 2, \"activation\": \"relu\"},\n",
    "    {\"width\": 4, \"height\": 2, \"activation\": \"relu\"},\n",
    "]\n",
    "\n",
    "# Choosing specified case:\n",
    "if not multi_obj: \n",
    "    if not use_func:\n",
    "        # Initial guess\n",
    "        searcher = OptunaSearch(points_to_evaluate=initial_params)\n",
    "    else:\n",
    "        # Search space from function, initial guess\n",
    "        searcher = OptunaSearch(space=define_by_run_func, points_to_evaluate=initial_params)\n",
    "else: \n",
    "    if not use_func:\n",
    "        # Initial guess, multi-objective\n",
    "        searcher = OptunaSearch(points_to_evaluate=initial_params, metric=[\"loss\", \"gain\"], mode=[\"min\", \"max\"])\n",
    "    else:\n",
    "        # Search space from function, initial guess, multi-objective\n",
    "        searcher = OptunaSearch(space=define_by_run_func, points_to_evaluate=initial_params, metric=[\"loss\", \"gain\"], mode=[\"min\", \"max\"])\n",
    "\n",
    "algo = ConcurrencyLimiter(searcher, max_concurrent=4)\n",
    "scheduler = AsyncHyperBandScheduler()\n",
    "\n",
    "num_samples = 1000"
   ]
  },
  {
   "cell_type": "code",
   "execution_count": null,
   "id": "4920faf5",
   "metadata": {
    "lines_to_next_cell": 0,
    "tags": [
     "remove-cell"
    ]
   },
   "outputs": [],
   "source": [
    "# If 1000 samples take too long, you can reduce this number.\n",
    "# We override this number here for our smoke tests.\n",
    "num_samples = 10"
   ]
  },
  {
   "cell_type": "markdown",
   "id": "4426a09f",
   "metadata": {},
   "source": [
    "Finally, all that's left is running the experiment."
   ]
  },
  {
   "cell_type": "code",
   "execution_count": null,
   "id": "2134b33b",
   "metadata": {},
   "outputs": [],
   "source": [
    "# Single objective case\n",
    "if not multi_obj:\n",
    "    analysis = tune.run(\n",
    "        objective,\n",
    "        search_alg=algo,\n",
    "        scheduler=scheduler,\n",
    "        metric=\"mean_loss\",\n",
    "        mode=\"min\",\n",
    "        num_samples=num_samples,\n",
    "        config=search_space if not use_func else None\n",
    "    )\n",
    "\n",
    "    print(\"Best hyperparameters found were: \", analysis.best_config)"
   ]
  },
  {
   "cell_type": "code",
   "execution_count": null,
   "id": "7658f495",
   "metadata": {},
   "outputs": [],
   "source": [
    "# Multi-objective case: removed scheduler. metric, mode passed through \"search_alg\"\n",
    "if multi_obj:\n",
    "    analysis = tune.run(\n",
    "        multi_objective,\n",
    "        search_alg=algo,\n",
    "        num_samples=num_samples,\n",
    "        config=search_space if not use_func else None\n",
    "    )\n",
    "    print(\"Best hyperparameters for loss found were: \", analysis.get_best_config(\"loss\", \"min\"))\n",
    "    print(\"Best hyperparameters for gain found were: \", analysis.get_best_config(\"gain\", \"max\"))"
   ]
  },
  {
   "cell_type": "code",
   "execution_count": null,
   "id": "5a05f4ad",
   "metadata": {
    "tags": [
     "remove-cell"
    ]
   },
   "outputs": [],
   "source": [
    "ray.shutdown()"
   ]
  }
 ],
 "metadata": {
  "kernelspec": {
   "display_name": "Python 3 (ipykernel)",
   "language": "python",
   "name": "python3"
  },
  "orphan": true
 },
 "nbformat": 4,
 "nbformat_minor": 5
}
