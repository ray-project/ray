{
 "cells": [
  {
   "cell_type": "markdown",
   "id": "d3e74edc",
   "metadata": {},
   "source": [
    "# Running Tune experiments with Optuna\n",
    "\n",
    "This example demonstrates the usage of Optuna with Ray Tune via `OptunaSearch`, including conditional search spaces and multi-objective use cases.\n",
    "\n",
    "While you may use a scheduler with `OptunaSearch`, e.g. `AsyncHyperBandScheduler`, please note that schedulers may not work correctly with multi-objective optimization, since they often expect a scalar score.\n",
    "\n",
    "Click below to see all the imports we need for this example.\n",
    "You can also launch directly into a Binder instance to run this notebook yourself.\n",
    "Just click on the rocket symbol at the top of the navigation."
   ]
  },
  {
   "cell_type": "code",
   "execution_count": 1,
   "id": "5c65c316",
   "metadata": {
    "execution": {
     "iopub.execute_input": "2022-03-23T16:28:35.836747Z",
     "iopub.status.busy": "2022-03-23T16:28:35.836570Z",
     "iopub.status.idle": "2022-03-23T16:28:45.330963Z",
     "shell.execute_reply": "2022-03-23T16:28:45.330388Z"
    },
    "lines_to_next_cell": 0,
    "tags": [
     "hide-input"
    ]
   },
   "outputs": [],
   "source": [
    "import time\n",
    "from typing import Dict, Optional, Any\n",
    "\n",
    "import ray\n",
    "from ray import tune\n",
    "from ray.tune.suggest import ConcurrencyLimiter\n",
    "from ray.tune.schedulers import AsyncHyperBandScheduler\n",
    "from ray.tune.suggest.optuna import OptunaSearch"
   ]
  },
  {
   "cell_type": "markdown",
   "id": "88303e87",
   "metadata": {},
   "source": [
    "Toggle `use_func` and `multi_obj` below to test different example usages."
   ]
  },
  {
   "cell_type": "code",
   "execution_count": 2,
   "id": "4b14a0d6",
   "metadata": {
    "execution": {
     "iopub.execute_input": "2022-03-23T16:28:45.333533Z",
     "iopub.status.busy": "2022-03-23T16:28:45.333386Z",
     "iopub.status.idle": "2022-03-23T16:28:45.336246Z",
     "shell.execute_reply": "2022-03-23T16:28:45.335708Z"
    }
   },
   "outputs": [],
   "source": [
    "# Whether to use function to define search space\n",
    "use_func = False\n",
    "# Whether to run multi-objective\n",
    "multi_obj = False"
   ]
  },
  {
   "cell_type": "markdown",
   "id": "c7d0869e",
   "metadata": {},
   "source": [
    "Let's start by defining a simple evaluation function.\n",
    "The form here is explicit for demonstration, yet it is typically a black-box.\n",
    "We artificially sleep for a bit (`0.1` seconds) to simulate a long-running ML experiment.\n",
    "This setup assumes that we're running multiple `step`s of an experiment and try to tune some hyperparameters,\n",
    "namely `width`, `height`, and `activation`."
   ]
  },
  {
   "cell_type": "code",
   "execution_count": 3,
   "id": "4d0f7602",
   "metadata": {
    "execution": {
     "iopub.execute_input": "2022-03-23T16:28:45.338236Z",
     "iopub.status.busy": "2022-03-23T16:28:45.338105Z",
     "iopub.status.idle": "2022-03-23T16:28:45.341140Z",
     "shell.execute_reply": "2022-03-23T16:28:45.340631Z"
    }
   },
   "outputs": [],
   "source": [
    "def evaluate(step, width, height, activation):\n",
    "    time.sleep(0.1)\n",
    "    activation_boost = 10 if activation==\"relu\" else 0\n",
    "    return (0.1 + width * step / 100) ** (-1) + height * 0.1 + activation_boost"
   ]
  },
  {
   "cell_type": "markdown",
   "id": "8d65d41c",
   "metadata": {},
   "source": [
    "Next, our ``objective`` function takes a Tune ``config``, evaluates the `score` of your experiment in a training loop,\n",
    "and uses `tune.report` to report the `score` back to Tune."
   ]
  },
  {
   "cell_type": "code",
   "execution_count": 4,
   "id": "7dd33665",
   "metadata": {
    "execution": {
     "iopub.execute_input": "2022-03-23T16:28:45.343176Z",
     "iopub.status.busy": "2022-03-23T16:28:45.343044Z",
     "iopub.status.idle": "2022-03-23T16:28:45.346693Z",
     "shell.execute_reply": "2022-03-23T16:28:45.346173Z"
    },
    "lines_to_next_cell": 2
   },
   "outputs": [],
   "source": [
    "def objective(config):\n",
    "    for step in range(config[\"steps\"]):\n",
    "        score = evaluate(step, config[\"width\"], config[\"height\"], config[\"activation\"])\n",
    "        tune.report(iterations=step, mean_loss=score)\n",
    "              \n",
    "def multi_objective(config):\n",
    "    # Hyperparameters\n",
    "    width, height = config[\"width\"], config[\"height\"]\n",
    "\n",
    "    for step in range(config[\"steps\"]):\n",
    "        # Iterative training function - can be any arbitrary training procedure\n",
    "        intermediate_score = evaluate(step, config[\"width\"], config[\"height\"], config[\"activation\"])\n",
    "        # Feed the score back back to Tune.\n",
    "        tune.report(\n",
    "           iterations=step, loss=intermediate_score, gain=intermediate_score * width\n",
    "        )"
   ]
  },
  {
   "cell_type": "code",
   "execution_count": 5,
   "id": "79d2f826",
   "metadata": {
    "execution": {
     "iopub.execute_input": "2022-03-23T16:28:45.348623Z",
     "iopub.status.busy": "2022-03-23T16:28:45.348491Z",
     "iopub.status.idle": "2022-03-23T16:28:51.156805Z",
     "shell.execute_reply": "2022-03-23T16:28:51.156046Z"
    },
    "lines_to_next_cell": 0,
    "tags": [
     "remove-cell"
    ]
   },
   "outputs": [
    {
     "name": "stderr",
     "output_type": "stream",
     "text": [
      "E0323 09:28:50.950964100     135 socket_utils_common_posix.cc:223] check for SO_REUSEPORT: {\"created\":\"@1648052930.950951700\",\"description\":\"Protocol not available\",\"errno\":92,\"file\":\"external/com_github_grpc_grpc/src/core/lib/iomgr/socket_utils_common_posix.cc\",\"file_line\":202,\"os_error\":\"Protocol not available\",\"syscall\":\"getsockopt(SO_REUSEPORT)\"}\n"
     ]
    },
    {
     "data": {
      "text/plain": [
       "{'node_ip_address': '192.168.1.181',\n",
       " 'raylet_ip_address': '192.168.1.181',\n",
       " 'redis_address': None,\n",
       " 'object_store_address': '/tmp/ray/session_2022-03-23_09-28-45_356778_135/sockets/plasma_store',\n",
       " 'raylet_socket_name': '/tmp/ray/session_2022-03-23_09-28-45_356778_135/sockets/raylet',\n",
       " 'webui_url': None,\n",
       " 'session_dir': '/tmp/ray/session_2022-03-23_09-28-45_356778_135',\n",
       " 'metrics_export_port': 61005,\n",
       " 'gcs_address': '192.168.1.181:59996',\n",
       " 'address': '192.168.1.181:59996',\n",
       " 'node_id': '4ece46b4ef07f28b63daa19ca5bcc8637c3e7b2dc54c20ec7a352c2a'}"
      ]
     },
     "execution_count": 5,
     "metadata": {},
     "output_type": "execute_result"
    }
   ],
   "source": [
    "ray.init(configure_logging=False)"
   ]
  },
  {
   "cell_type": "markdown",
   "id": "ac308a68",
   "metadata": {},
   "source": [
    "Next we define a search space. The critical assumption is that the optimal hyperparamters live within this space. Yet, if the space is very large, then those hyperparamters may be difficult to find in a short amount of time.\n",
    "\n",
    "The search space can be defined as independent or conditional. The simplest case is where we have an independent search space. In this case, a config dictionary will suffice."
   ]
  },
  {
   "cell_type": "code",
   "execution_count": 6,
   "id": "321e2875",
   "metadata": {
    "execution": {
     "iopub.execute_input": "2022-03-23T16:28:51.159185Z",
     "iopub.status.busy": "2022-03-23T16:28:51.159048Z",
     "iopub.status.idle": "2022-03-23T16:28:51.162316Z",
     "shell.execute_reply": "2022-03-23T16:28:51.161864Z"
    },
    "lines_to_next_cell": 0
   },
   "outputs": [],
   "source": [
    "search_space = {\n",
    "    \"steps\": 100,\n",
    "    \"width\": tune.uniform(0, 20),\n",
    "    \"height\": tune.uniform(-100, 100),\n",
    "    \"activation\": tune.choice([\"relu\", \"tanh\"]),\n",
    "}"
   ]
  },
  {
   "cell_type": "markdown",
   "id": "95cc258f",
   "metadata": {},
   "source": [
    "However, for the conditional search space, we must use a define-by-run function."
   ]
  },
  {
   "cell_type": "code",
   "execution_count": 7,
   "id": "cec471b3",
   "metadata": {
    "execution": {
     "iopub.execute_input": "2022-03-23T16:28:51.164281Z",
     "iopub.status.busy": "2022-03-23T16:28:51.164153Z",
     "iopub.status.idle": "2022-03-23T16:28:51.167988Z",
     "shell.execute_reply": "2022-03-23T16:28:51.167436Z"
    }
   },
   "outputs": [],
   "source": [
    "def define_by_run_func(trial) -> Optional[Dict[str, Any]]:\n",
    "    \"\"\"Define-by-run function to create the search space.\n",
    "\n",
    "    Ensure no actual computation takes place here. That should go into\n",
    "    the trainable passed to ``tune.run`` (in this example, that's\n",
    "    ``objective``).\n",
    "\n",
    "    For more information, see https://optuna.readthedocs.io/en/stable\\\n",
    "    /tutorial/10_key_features/002_configurations.html\n",
    "\n",
    "    This function should either return None or a dict with constant values.\n",
    "    \"\"\"\n",
    "\n",
    "    activation = trial.suggest_categorical(\"activation\", [\"relu\", \"tanh\"])\n",
    "\n",
    "    # Define-by-run allows for conditional search spaces.\n",
    "    if activation == \"relu\":\n",
    "        trial.suggest_float(\"width\", 0, 20)\n",
    "        trial.suggest_float(\"height\", -100, 100) \n",
    "    else:\n",
    "        trial.suggest_float(\"width\", 0, 21)\n",
    "        trial.suggest_float(\"height\", -101, 101)\n",
    "        \n",
    "    # Return all constants in a dictionary.\n",
    "    return {\"steps\": 100}"
   ]
  },
  {
   "cell_type": "markdown",
   "id": "87e0e029",
   "metadata": {},
   "source": [
    "Optionally, we may provide an initial set of hyperparameters that we believe as the current best, (`current_best_params`), and\n",
    "pass this belief into a `OptunaSearch` searcher.\n",
    "Furthermore, we optionally define a `scheduler` to go along with our algorithm.\n",
    "\n",
    "We then set the maximum concurrent trials to `4` with a `ConcurrencyLimiter`.\n",
    "Lastly, we must set the number of samples for this Tune run to `1000`\n",
    "(you can decrease this if it takes too long on your machine)."
   ]
  },
  {
   "cell_type": "code",
   "execution_count": 8,
   "id": "739085f3",
   "metadata": {
    "execution": {
     "iopub.execute_input": "2022-03-23T16:28:51.169983Z",
     "iopub.status.busy": "2022-03-23T16:28:51.169864Z",
     "iopub.status.idle": "2022-03-23T16:28:51.174418Z",
     "shell.execute_reply": "2022-03-23T16:28:51.173849Z"
    }
   },
   "outputs": [],
   "source": [
    "initial_params = [\n",
    "    {\"width\": 1, \"height\": 2, \"activation\": \"relu\"},\n",
    "    {\"width\": 4, \"height\": 2, \"activation\": \"relu\"},\n",
    "]\n",
    "\n",
    "# Choosing specified case:\n",
    "if not multi_obj: \n",
    "    if not use_func:\n",
    "        # Initial guess\n",
    "        searcher = OptunaSearch(points_to_evaluate=initial_params)\n",
    "    else:\n",
    "        # Search space from function, initial guess\n",
    "        searcher = OptunaSearch(space=define_by_run_func, points_to_evaluate=initial_params)\n",
    "else: \n",
    "    if not use_func:\n",
    "        # Initial guess, multi-objective\n",
    "        searcher = OptunaSearch(points_to_evaluate=initial_params, metric=[\"loss\", \"gain\"], mode=[\"min\", \"max\"])\n",
    "    else:\n",
    "        # Search space from function, initial guess, multi-objective\n",
    "        searcher = OptunaSearch(space=define_by_run_func, points_to_evaluate=initial_params, metric=[\"loss\", \"gain\"], mode=[\"min\", \"max\"])\n",
    "\n",
    "algo = ConcurrencyLimiter(searcher, max_concurrent=4)\n",
    "scheduler = AsyncHyperBandScheduler()\n",
    "\n",
    "num_samples = 1000"
   ]
  },
  {
   "cell_type": "code",
   "execution_count": 9,
   "id": "fb49d30d",
   "metadata": {
    "execution": {
     "iopub.execute_input": "2022-03-23T16:28:51.176608Z",
     "iopub.status.busy": "2022-03-23T16:28:51.176468Z",
     "iopub.status.idle": "2022-03-23T16:28:51.179189Z",
     "shell.execute_reply": "2022-03-23T16:28:51.178627Z"
    },
    "lines_to_next_cell": 0,
    "tags": [
     "remove-cell"
    ]
   },
   "outputs": [],
   "source": [
    "# If 1000 samples take too long, you can reduce this number.\n",
    "# We override this number here for our smoke tests.\n",
    "num_samples = 10"
   ]
  },
  {
   "cell_type": "markdown",
   "id": "e8792eaf",
   "metadata": {},
   "source": [
    "Finally, all that's left is running the experiment."
   ]
  },
  {
   "cell_type": "code",
   "execution_count": 10,
   "id": "1159a63d",
   "metadata": {
    "execution": {
     "iopub.execute_input": "2022-03-23T16:28:51.181541Z",
     "iopub.status.busy": "2022-03-23T16:28:51.181401Z",
     "iopub.status.idle": "2022-03-23T16:29:20.149959Z",
     "shell.execute_reply": "2022-03-23T16:29:20.149352Z"
    }
   },
   "outputs": [
    {
     "name": "stderr",
     "output_type": "stream",
     "text": [
      "Function checkpointing is disabled. This may result in unexpected behavior when using checkpointing features or certain schedulers. To enable, set the train function arguments to be `func(config, checkpoint_dir=None)`.\n"
     ]
    },
    {
     "name": "stderr",
     "output_type": "stream",
     "text": [
      "\u001b[32m[I 2022-03-23 09:28:51,197]\u001b[0m A new study created in memory with name: optuna\u001b[0m\n"
     ]
    },
    {
     "name": "stderr",
     "output_type": "stream",
     "text": [
      "/mnt/c/Users/brett/anyscale/venv/lib/python3.8/site-packages/ray/tune/suggest/optuna.py:361: ExperimentalWarning: enqueue_trial is experimental (supported from v1.2.0). The interface can change in the future.\n",
      "  self._ot_study.enqueue_trial(point)\n",
      "/mnt/c/Users/brett/anyscale/venv/lib/python3.8/site-packages/optuna/study/study.py:857: ExperimentalWarning: create_trial is experimental (supported from v2.0.0). The interface can change in the future.\n",
      "  create_trial(state=TrialState.WAITING, system_attrs={\"fixed_params\": params})\n",
      "/mnt/c/Users/brett/anyscale/venv/lib/python3.8/site-packages/optuna/study/study.py:856: ExperimentalWarning: add_trial is experimental (supported from v2.0.0). The interface can change in the future.\n",
      "  self.add_trial(\n"
     ]
    },
    {
     "data": {
      "text/html": [
       "== Status ==<br>Current time: 2022-03-23 09:28:55 (running for 00:00:00.62)<br>Memory usage on this node: 6.4/15.8 GiB<br>Using AsyncHyperBand: num_stopped=0\n",
       "Bracket: Iter 64.000: None | Iter 16.000: None | Iter 4.000: None | Iter 1.000: None<br>Resources requested: 0/8 CPUs, 0/0 GPUs, 0.0/6.13 GiB heap, 0.0/3.07 GiB objects<br>Result logdir: /home/brett/ray_results/objective_2022-03-23_09-28-51<br>Number of trials: 1/10 (1 PENDING)<br><table>\n",
       "<thead>\n",
       "<tr><th>Trial name        </th><th>status  </th><th>loc  </th><th>activation  </th><th style=\"text-align: right;\">  height</th><th style=\"text-align: right;\">  width</th></tr>\n",
       "</thead>\n",
       "<tbody>\n",
       "<tr><td>objective_54daa288</td><td>PENDING </td><td>     </td><td>relu        </td><td style=\"text-align: right;\">       2</td><td style=\"text-align: right;\">      1</td></tr>\n",
       "</tbody>\n",
       "</table><br><br>"
      ],
      "text/plain": [
       "<IPython.core.display.HTML object>"
      ]
     },
     "metadata": {},
     "output_type": "display_data"
    },
    {
     "name": "stdout",
     "output_type": "stream",
     "text": [
      "Result for objective_54daa288:\n",
      "  date: 2022-03-23_09-28-55\n",
      "  done: false\n",
      "  experiment_id: 91316a345035432bb55f100249b0e6c5\n",
      "  hostname: brett\n",
      "  iterations: 0\n",
      "  iterations_since_restore: 1\n",
      "  mean_loss: 20.2\n",
      "  neg_mean_loss: -20.2\n",
      "  node_ip: 192.168.1.181\n",
      "  pid: 255\n",
      "  time_since_restore: 0.10064482688903809\n",
      "  time_this_iter_s: 0.10064482688903809\n",
      "  time_total_s: 0.10064482688903809\n",
      "  timestamp: 1648052935\n",
      "  timesteps_since_restore: 0\n",
      "  training_iteration: 1\n",
      "  trial_id: 54daa288\n",
      "  \n",
      "Result for objective_5542b346:\n",
      "  date: 2022-03-23_09-28-56\n",
      "  done: false\n",
      "  experiment_id: 60ed273299fc4d5e9183710926cc8fb0\n",
      "  hostname: brett\n",
      "  iterations: 0\n",
      "  iterations_since_restore: 1\n",
      "  mean_loss: 20.2\n",
      "  neg_mean_loss: -20.2\n",
      "  node_ip: 192.168.1.181\n",
      "  pid: 254\n",
      "  time_since_restore: 0.10046768188476562\n",
      "  time_this_iter_s: 0.10046768188476562\n",
      "  time_total_s: 0.10046768188476562\n",
      "  timestamp: 1648052936\n",
      "  timesteps_since_restore: 0\n",
      "  training_iteration: 1\n",
      "  trial_id: 5542b346\n",
      "  \n"
     ]
    },
    {
     "name": "stdout",
     "output_type": "stream",
     "text": [
      "Result for objective_555a431c:\n",
      "  date: 2022-03-23_09-28-56\n",
      "  done: true\n",
      "  experiment_id: ede0c25382ff49cd816a24eb52e955e6\n",
      "  hostname: brett\n",
      "  iterations: 0\n",
      "  iterations_since_restore: 1\n",
      "  mean_loss: 25.07515677354424\n",
      "  neg_mean_loss: -25.07515677354424\n",
      "  node_ip: 192.168.1.181\n",
      "  pid: 256\n",
      "  time_since_restore: 0.10063624382019043\n",
      "  time_this_iter_s: 0.10063624382019043\n",
      "  time_total_s: 0.10063624382019043\n",
      "  timestamp: 1648052936\n",
      "  timesteps_since_restore: 0\n",
      "  training_iteration: 1\n",
      "  trial_id: 555a431c\n",
      "  \n",
      "Result for objective_55727e46:\n",
      "  date: 2022-03-23_09-28-56\n",
      "  done: false\n",
      "  experiment_id: 62123d1ff35a45ed870edadb2a1dd299\n",
      "  hostname: brett\n",
      "  iterations: 0\n",
      "  iterations_since_restore: 1\n",
      "  mean_loss: 13.346466985060108\n",
      "  neg_mean_loss: -13.346466985060108\n",
      "  node_ip: 192.168.1.181\n",
      "  pid: 253\n",
      "  time_since_restore: 0.10070633888244629\n",
      "  time_this_iter_s: 0.10070633888244629\n",
      "  time_total_s: 0.10070633888244629\n",
      "  timestamp: 1648052936\n",
      "  timesteps_since_restore: 0\n",
      "  training_iteration: 1\n",
      "  trial_id: 55727e46\n",
      "  \n"
     ]
    },
    {
     "name": "stdout",
     "output_type": "stream",
     "text": [
      "Result for objective_55e26d00:\n",
      "  date: 2022-03-23_09-28-56\n",
      "  done: true\n",
      "  experiment_id: 10cd3df3afd745d6a45b39f7e5bf5b57\n",
      "  hostname: brett\n",
      "  iterations: 0\n",
      "  iterations_since_restore: 1\n",
      "  mean_loss: 20.688503383158995\n",
      "  neg_mean_loss: -20.688503383158995\n",
      "  node_ip: 192.168.1.181\n",
      "  pid: 252\n",
      "  time_since_restore: 0.10132431983947754\n",
      "  time_this_iter_s: 0.10132431983947754\n",
      "  time_total_s: 0.10132431983947754\n",
      "  timestamp: 1648052936\n",
      "  timesteps_since_restore: 0\n",
      "  training_iteration: 1\n",
      "  trial_id: 55e26d00\n",
      "  \n"
     ]
    },
    {
     "name": "stdout",
     "output_type": "stream",
     "text": [
      "Result for objective_564fe876:\n",
      "  date: 2022-03-23_09-28-57\n",
      "  done: false\n",
      "  experiment_id: 60bee25b5e1f497eb8adab3e8cdc594b\n",
      "  hostname: brett\n",
      "  iterations: 0\n",
      "  iterations_since_restore: 1\n",
      "  mean_loss: 10.111576294975507\n",
      "  neg_mean_loss: -10.111576294975507\n",
      "  node_ip: 192.168.1.181\n",
      "  pid: 251\n",
      "  time_since_restore: 0.10082197189331055\n",
      "  time_this_iter_s: 0.10082197189331055\n",
      "  time_total_s: 0.10082197189331055\n",
      "  timestamp: 1648052937\n",
      "  timesteps_since_restore: 0\n",
      "  training_iteration: 1\n",
      "  trial_id: 564fe876\n",
      "  \n"
     ]
    },
    {
     "data": {
      "text/html": [
       "== Status ==<br>Current time: 2022-03-23 09:29:00 (running for 00:00:05.70)<br>Memory usage on this node: 6.5/15.8 GiB<br>Using AsyncHyperBand: num_stopped=2\n",
       "Bracket: Iter 64.000: None | Iter 16.000: -2.9757916648387868 | Iter 4.000: -4.399657732073408 | Iter 1.000: -15.05985023879508<br>Resources requested: 4.0/8 CPUs, 0/0 GPUs, 0.0/6.13 GiB heap, 0.0/3.07 GiB objects<br>Current best trial: 564fe876 with mean_loss=0.34793286695234904 and parameters={'steps': 100, 'width': 17.212065345383778, 'height': 1.1157629497550658, 'activation': 'tanh'}<br>Result logdir: /home/brett/ray_results/objective_2022-03-23_09-28-51<br>Number of trials: 6/10 (4 RUNNING, 2 TERMINATED)<br><table>\n",
       "<thead>\n",
       "<tr><th>Trial name        </th><th>status    </th><th>loc              </th><th>activation  </th><th style=\"text-align: right;\">   height</th><th style=\"text-align: right;\">   width</th><th style=\"text-align: right;\">     loss</th><th style=\"text-align: right;\">  iter</th><th style=\"text-align: right;\">  total time (s)</th><th style=\"text-align: right;\">  iterations</th><th style=\"text-align: right;\">  neg_mean_loss</th></tr>\n",
       "</thead>\n",
       "<tbody>\n",
       "<tr><td>objective_54daa288</td><td>RUNNING   </td><td>192.168.1.181:255</td><td>relu        </td><td style=\"text-align: right;\">  2      </td><td style=\"text-align: right;\"> 1      </td><td style=\"text-align: right;\">12.2408  </td><td style=\"text-align: right;\">    40</td><td style=\"text-align: right;\">        4.2819  </td><td style=\"text-align: right;\">          39</td><td style=\"text-align: right;\">     -12.2408  </td></tr>\n",
       "<tr><td>objective_5542b346</td><td>RUNNING   </td><td>192.168.1.181:254</td><td>relu        </td><td style=\"text-align: right;\">  2      </td><td style=\"text-align: right;\"> 4      </td><td style=\"text-align: right;\">10.8173  </td><td style=\"text-align: right;\">    39</td><td style=\"text-align: right;\">        4.14985 </td><td style=\"text-align: right;\">          38</td><td style=\"text-align: right;\">     -10.8173  </td></tr>\n",
       "<tr><td>objective_55727e46</td><td>RUNNING   </td><td>192.168.1.181:253</td><td>relu        </td><td style=\"text-align: right;\">-66.5353 </td><td style=\"text-align: right;\">13.8334 </td><td style=\"text-align: right;\"> 3.54332 </td><td style=\"text-align: right;\">    37</td><td style=\"text-align: right;\">        3.87576 </td><td style=\"text-align: right;\">          36</td><td style=\"text-align: right;\">      -3.54332 </td></tr>\n",
       "<tr><td>objective_564fe876</td><td>RUNNING   </td><td>192.168.1.181:251</td><td>tanh        </td><td style=\"text-align: right;\">  1.11576</td><td style=\"text-align: right;\">17.2121 </td><td style=\"text-align: right;\"> 0.347933</td><td style=\"text-align: right;\">    25</td><td style=\"text-align: right;\">        2.65517 </td><td style=\"text-align: right;\">          24</td><td style=\"text-align: right;\">      -0.347933</td></tr>\n",
       "<tr><td>objective_555a431c</td><td>TERMINATED</td><td>192.168.1.181:256</td><td>relu        </td><td style=\"text-align: right;\"> 50.7516 </td><td style=\"text-align: right;\"> 2.58579</td><td style=\"text-align: right;\">25.0752  </td><td style=\"text-align: right;\">     1</td><td style=\"text-align: right;\">        0.100636</td><td style=\"text-align: right;\">           0</td><td style=\"text-align: right;\">     -25.0752  </td></tr>\n",
       "<tr><td>objective_55e26d00</td><td>TERMINATED</td><td>192.168.1.181:252</td><td>relu        </td><td style=\"text-align: right;\">  6.88503</td><td style=\"text-align: right;\"> 1.20451</td><td style=\"text-align: right;\">20.6885  </td><td style=\"text-align: right;\">     1</td><td style=\"text-align: right;\">        0.101324</td><td style=\"text-align: right;\">           0</td><td style=\"text-align: right;\">     -20.6885  </td></tr>\n",
       "</tbody>\n",
       "</table><br><br>"
      ],
      "text/plain": [
       "<IPython.core.display.HTML object>"
      ]
     },
     "metadata": {},
     "output_type": "display_data"
    },
    {
     "name": "stdout",
     "output_type": "stream",
     "text": [
      "Result for objective_54daa288:\n",
      "  date: 2022-03-23_09-29-01\n",
      "  done: false\n",
      "  experiment_id: 91316a345035432bb55f100249b0e6c5\n",
      "  hostname: brett\n",
      "  iterations: 47\n",
      "  iterations_since_restore: 48\n",
      "  mean_loss: 11.95438596491228\n",
      "  neg_mean_loss: -11.95438596491228\n",
      "  node_ip: 192.168.1.181\n",
      "  pid: 255\n",
      "  time_since_restore: 5.148564100265503\n",
      "  time_this_iter_s: 0.10614562034606934\n",
      "  time_total_s: 5.148564100265503\n",
      "  timestamp: 1648052941\n",
      "  timesteps_since_restore: 0\n",
      "  training_iteration: 48\n",
      "  trial_id: 54daa288\n",
      "  \n",
      "Result for objective_5542b346:\n",
      "  date: 2022-03-23_09-29-01\n",
      "  done: false\n",
      "  experiment_id: 60ed273299fc4d5e9183710926cc8fb0\n",
      "  hostname: brett\n",
      "  iterations: 47\n",
      "  iterations_since_restore: 48\n",
      "  mean_loss: 10.705050505050504\n",
      "  neg_mean_loss: -10.705050505050504\n",
      "  node_ip: 192.168.1.181\n",
      "  pid: 254\n",
      "  time_since_restore: 5.129634141921997\n",
      "  time_this_iter_s: 0.11171722412109375\n",
      "  time_total_s: 5.129634141921997\n",
      "  timestamp: 1648052941\n",
      "  timesteps_since_restore: 0\n",
      "  training_iteration: 48\n",
      "  trial_id: 5542b346\n",
      "  \n"
     ]
    },
    {
     "name": "stdout",
     "output_type": "stream",
     "text": [
      "Result for objective_55727e46:\n",
      "  date: 2022-03-23_09-29-01\n",
      "  done: false\n",
      "  experiment_id: 62123d1ff35a45ed870edadb2a1dd299\n",
      "  hostname: brett\n",
      "  iterations: 48\n",
      "  iterations_since_restore: 49\n",
      "  mean_loss: 3.494834553616821\n",
      "  neg_mean_loss: -3.494834553616821\n",
      "  node_ip: 192.168.1.181\n",
      "  pid: 253\n",
      "  time_since_restore: 5.1622092723846436\n",
      "  time_this_iter_s: 0.11025691032409668\n",
      "  time_total_s: 5.1622092723846436\n",
      "  timestamp: 1648052941\n",
      "  timesteps_since_restore: 0\n",
      "  training_iteration: 49\n",
      "  trial_id: 55727e46\n",
      "  \n"
     ]
    },
    {
     "name": "stdout",
     "output_type": "stream",
     "text": [
      "Result for objective_564fe876:\n",
      "  date: 2022-03-23_09-29-02\n",
      "  done: false\n",
      "  experiment_id: 60bee25b5e1f497eb8adab3e8cdc594b\n",
      "  hostname: brett\n",
      "  iterations: 47\n",
      "  iterations_since_restore: 48\n",
      "  mean_loss: 0.23368132643841988\n",
      "  neg_mean_loss: -0.23368132643841988\n",
      "  node_ip: 192.168.1.181\n",
      "  pid: 251\n",
      "  time_since_restore: 5.107453346252441\n",
      "  time_this_iter_s: 0.10617709159851074\n",
      "  time_total_s: 5.107453346252441\n",
      "  timestamp: 1648052942\n",
      "  timesteps_since_restore: 0\n",
      "  training_iteration: 48\n",
      "  trial_id: 564fe876\n",
      "  \n"
     ]
    },
    {
     "data": {
      "text/html": [
       "== Status ==<br>Current time: 2022-03-23 09:29:05 (running for 00:00:10.70)<br>Memory usage on this node: 6.5/15.8 GiB<br>Using AsyncHyperBand: num_stopped=2\n",
       "Bracket: Iter 64.000: -2.6456707375133437 | Iter 16.000: -2.9757916648387868 | Iter 4.000: -4.399657732073408 | Iter 1.000: -15.05985023879508<br>Resources requested: 4.0/8 CPUs, 0/0 GPUs, 0.0/6.13 GiB heap, 0.0/3.07 GiB objects<br>Current best trial: 564fe876 with mean_loss=0.19274139468940998 and parameters={'steps': 100, 'width': 17.212065345383778, 'height': 1.1157629497550658, 'activation': 'tanh'}<br>Result logdir: /home/brett/ray_results/objective_2022-03-23_09-28-51<br>Number of trials: 6/10 (4 RUNNING, 2 TERMINATED)<br><table>\n",
       "<thead>\n",
       "<tr><th>Trial name        </th><th>status    </th><th>loc              </th><th>activation  </th><th style=\"text-align: right;\">   height</th><th style=\"text-align: right;\">   width</th><th style=\"text-align: right;\">     loss</th><th style=\"text-align: right;\">  iter</th><th style=\"text-align: right;\">  total time (s)</th><th style=\"text-align: right;\">  iterations</th><th style=\"text-align: right;\">  neg_mean_loss</th></tr>\n",
       "</thead>\n",
       "<tbody>\n",
       "<tr><td>objective_54daa288</td><td>RUNNING   </td><td>192.168.1.181:255</td><td>relu        </td><td style=\"text-align: right;\">  2      </td><td style=\"text-align: right;\"> 1      </td><td style=\"text-align: right;\">11.2417  </td><td style=\"text-align: right;\">    87</td><td style=\"text-align: right;\">        9.28962 </td><td style=\"text-align: right;\">          86</td><td style=\"text-align: right;\">     -11.2417  </td></tr>\n",
       "<tr><td>objective_5542b346</td><td>RUNNING   </td><td>192.168.1.181:254</td><td>relu        </td><td style=\"text-align: right;\">  2      </td><td style=\"text-align: right;\"> 4      </td><td style=\"text-align: right;\">10.4857  </td><td style=\"text-align: right;\">    86</td><td style=\"text-align: right;\">        9.16457 </td><td style=\"text-align: right;\">          85</td><td style=\"text-align: right;\">     -10.4857  </td></tr>\n",
       "<tr><td>objective_55727e46</td><td>RUNNING   </td><td>192.168.1.181:253</td><td>relu        </td><td style=\"text-align: right;\">-66.5353 </td><td style=\"text-align: right;\">13.8334 </td><td style=\"text-align: right;\"> 3.43281 </td><td style=\"text-align: right;\">    84</td><td style=\"text-align: right;\">        8.87875 </td><td style=\"text-align: right;\">          83</td><td style=\"text-align: right;\">      -3.43281 </td></tr>\n",
       "<tr><td>objective_564fe876</td><td>RUNNING   </td><td>192.168.1.181:251</td><td>tanh        </td><td style=\"text-align: right;\">  1.11576</td><td style=\"text-align: right;\">17.2121 </td><td style=\"text-align: right;\"> 0.192741</td><td style=\"text-align: right;\">    72</td><td style=\"text-align: right;\">        7.66212 </td><td style=\"text-align: right;\">          71</td><td style=\"text-align: right;\">      -0.192741</td></tr>\n",
       "<tr><td>objective_555a431c</td><td>TERMINATED</td><td>192.168.1.181:256</td><td>relu        </td><td style=\"text-align: right;\"> 50.7516 </td><td style=\"text-align: right;\"> 2.58579</td><td style=\"text-align: right;\">25.0752  </td><td style=\"text-align: right;\">     1</td><td style=\"text-align: right;\">        0.100636</td><td style=\"text-align: right;\">           0</td><td style=\"text-align: right;\">     -25.0752  </td></tr>\n",
       "<tr><td>objective_55e26d00</td><td>TERMINATED</td><td>192.168.1.181:252</td><td>relu        </td><td style=\"text-align: right;\">  6.88503</td><td style=\"text-align: right;\"> 1.20451</td><td style=\"text-align: right;\">20.6885  </td><td style=\"text-align: right;\">     1</td><td style=\"text-align: right;\">        0.101324</td><td style=\"text-align: right;\">           0</td><td style=\"text-align: right;\">     -20.6885  </td></tr>\n",
       "</tbody>\n",
       "</table><br><br>"
      ],
      "text/plain": [
       "<IPython.core.display.HTML object>"
      ]
     },
     "metadata": {},
     "output_type": "display_data"
    },
    {
     "name": "stdout",
     "output_type": "stream",
     "text": [
      "Result for objective_54daa288:\n",
      "  date: 2022-03-23_09-29-06\n",
      "  done: false\n",
      "  experiment_id: 91316a345035432bb55f100249b0e6c5\n",
      "  hostname: brett\n",
      "  iterations: 95\n",
      "  iterations_since_restore: 96\n",
      "  mean_loss: 11.152380952380952\n",
      "  neg_mean_loss: -11.152380952380952\n",
      "  node_ip: 192.168.1.181\n",
      "  pid: 255\n",
      "  time_since_restore: 10.250653743743896\n",
      "  time_this_iter_s: 0.10302948951721191\n",
      "  time_total_s: 10.250653743743896\n",
      "  timestamp: 1648052946\n",
      "  timesteps_since_restore: 0\n",
      "  training_iteration: 96\n",
      "  trial_id: 54daa288\n",
      "  \n",
      "Result for objective_5542b346:\n",
      "  date: 2022-03-23_09-29-06\n",
      "  done: false\n",
      "  experiment_id: 60ed273299fc4d5e9183710926cc8fb0\n",
      "  hostname: brett\n",
      "  iterations: 95\n",
      "  iterations_since_restore: 96\n",
      "  mean_loss: 10.456410256410257\n",
      "  neg_mean_loss: -10.456410256410257\n",
      "  node_ip: 192.168.1.181\n",
      "  pid: 254\n",
      "  time_since_restore: 10.232354402542114\n",
      "  time_this_iter_s: 0.1050417423248291\n",
      "  time_total_s: 10.232354402542114\n",
      "  timestamp: 1648052946\n",
      "  timesteps_since_restore: 0\n",
      "  training_iteration: 96\n",
      "  trial_id: 5542b346\n",
      "  \n"
     ]
    },
    {
     "name": "stdout",
     "output_type": "stream",
     "text": [
      "Result for objective_54daa288:\n",
      "  date: 2022-03-23_09-29-06\n",
      "  done: true\n",
      "  experiment_id: 91316a345035432bb55f100249b0e6c5\n",
      "  hostname: brett\n",
      "  iterations: 99\n",
      "  iterations_since_restore: 100\n",
      "  mean_loss: 11.11743119266055\n",
      "  neg_mean_loss: -11.11743119266055\n",
      "  node_ip: 192.168.1.181\n",
      "  pid: 255\n",
      "  time_since_restore: 10.681196689605713\n",
      "  time_this_iter_s: 0.1079106330871582\n",
      "  time_total_s: 10.681196689605713\n",
      "  timestamp: 1648052946\n",
      "  timesteps_since_restore: 0\n",
      "  training_iteration: 100\n",
      "  trial_id: 54daa288\n",
      "  \n",
      "Result for objective_55727e46:\n",
      "  date: 2022-03-23_09-29-06\n",
      "  done: false\n",
      "  experiment_id: 62123d1ff35a45ed870edadb2a1dd299\n",
      "  hostname: brett\n",
      "  iterations: 96\n",
      "  iterations_since_restore: 97\n",
      "  mean_loss: 3.4212052057425097\n",
      "  neg_mean_loss: -3.4212052057425097\n",
      "  node_ip: 192.168.1.181\n",
      "  pid: 253\n",
      "  time_since_restore: 10.26596736907959\n",
      "  time_this_iter_s: 0.10976529121398926\n",
      "  time_total_s: 10.26596736907959\n",
      "  timestamp: 1648052946\n",
      "  timesteps_since_restore: 0\n",
      "  training_iteration: 97\n",
      "  trial_id: 55727e46\n",
      "  \n"
     ]
    },
    {
     "name": "stdout",
     "output_type": "stream",
     "text": [
      "Result for objective_5542b346:\n",
      "  date: 2022-03-23_09-29-06\n",
      "  done: true\n",
      "  experiment_id: 60ed273299fc4d5e9183710926cc8fb0\n",
      "  hostname: brett\n",
      "  iterations: 99\n",
      "  iterations_since_restore: 100\n",
      "  mean_loss: 10.446305418719211\n",
      "  neg_mean_loss: -10.446305418719211\n",
      "  node_ip: 192.168.1.181\n",
      "  pid: 254\n",
      "  time_since_restore: 10.747757196426392\n",
      "  time_this_iter_s: 0.19536924362182617\n",
      "  time_total_s: 10.747757196426392\n",
      "  timestamp: 1648052946\n",
      "  timesteps_since_restore: 0\n",
      "  training_iteration: 100\n",
      "  trial_id: 5542b346\n",
      "  \n",
      "Result for objective_55727e46:\n",
      "  date: 2022-03-23_09-29-06\n",
      "  done: true\n",
      "  experiment_id: 62123d1ff35a45ed870edadb2a1dd299\n",
      "  hostname: brett\n",
      "  iterations: 99\n",
      "  iterations_since_restore: 100\n",
      "  mean_loss: 3.418956828636759\n",
      "  neg_mean_loss: -3.418956828636759\n",
      "  node_ip: 192.168.1.181\n",
      "  pid: 253\n",
      "  time_since_restore: 10.656797409057617\n",
      "  time_this_iter_s: 0.12853479385375977\n",
      "  time_total_s: 10.656797409057617\n",
      "  timestamp: 1648052946\n",
      "  timesteps_since_restore: 0\n",
      "  training_iteration: 100\n",
      "  trial_id: 55727e46\n",
      "  \n"
     ]
    },
    {
     "name": "stdout",
     "output_type": "stream",
     "text": [
      "Result for objective_5c013888:\n",
      "  date: 2022-03-23_09-29-07\n",
      "  done: false\n",
      "  experiment_id: d58bd46942004c8ca823c5a4f0b4226b\n",
      "  hostname: brett\n",
      "  iterations: 0\n",
      "  iterations_since_restore: 1\n",
      "  mean_loss: 12.453776624958309\n",
      "  neg_mean_loss: -12.453776624958309\n",
      "  node_ip: 192.168.1.181\n",
      "  pid: 257\n",
      "  time_since_restore: 0.10065507888793945\n",
      "  time_this_iter_s: 0.10065507888793945\n",
      "  time_total_s: 0.10065507888793945\n",
      "  timestamp: 1648052947\n",
      "  timesteps_since_restore: 0\n",
      "  training_iteration: 1\n",
      "  trial_id: 5c013888\n",
      "  \n"
     ]
    },
    {
     "name": "stdout",
     "output_type": "stream",
     "text": [
      "Result for objective_5c211b8a:\n",
      "  date: 2022-03-23_09-29-07\n",
      "  done: true\n",
      "  experiment_id: 7999658ef91e4361ba9f296542a6da4a\n",
      "  hostname: brett\n",
      "  iterations: 0\n",
      "  iterations_since_restore: 1\n",
      "  mean_loss: 26.90572541753004\n",
      "  neg_mean_loss: -26.90572541753004\n",
      "  node_ip: 192.168.1.181\n",
      "  pid: 248\n",
      "  time_since_restore: 0.1005096435546875\n",
      "  time_this_iter_s: 0.1005096435546875\n",
      "  time_total_s: 0.1005096435546875\n",
      "  timestamp: 1648052947\n",
      "  timesteps_since_restore: 0\n",
      "  training_iteration: 1\n",
      "  trial_id: 5c211b8a\n",
      "  \n",
      "Result for objective_5c013888:\n",
      "  date: 2022-03-23_09-29-07\n",
      "  done: true\n",
      "  experiment_id: d58bd46942004c8ca823c5a4f0b4226b\n",
      "  hostname: brett\n",
      "  iterations: 3\n",
      "  iterations_since_restore: 4\n",
      "  mean_loss: 4.459880571729633\n",
      "  neg_mean_loss: -4.459880571729633\n",
      "  node_ip: 192.168.1.181\n",
      "  pid: 257\n",
      "  time_since_restore: 0.41220593452453613\n",
      "  time_this_iter_s: 0.1030893325805664\n",
      "  time_total_s: 0.41220593452453613\n",
      "  timestamp: 1648052947\n",
      "  timesteps_since_restore: 0\n",
      "  training_iteration: 4\n",
      "  trial_id: 5c013888\n",
      "  \n",
      "Result for objective_564fe876:\n",
      "  date: 2022-03-23_09-29-07\n",
      "  done: false\n",
      "  experiment_id: 60bee25b5e1f497eb8adab3e8cdc594b\n",
      "  hostname: brett\n",
      "  iterations: 94\n",
      "  iterations_since_restore: 95\n",
      "  mean_loss: 0.17300384133098448\n",
      "  neg_mean_loss: -0.17300384133098448\n",
      "  node_ip: 192.168.1.181\n",
      "  pid: 251\n",
      "  time_since_restore: 10.135820150375366\n",
      "  time_this_iter_s: 0.10660934448242188\n",
      "  time_total_s: 10.135820150375366\n",
      "  timestamp: 1648052947\n",
      "  timesteps_since_restore: 0\n",
      "  training_iteration: 95\n",
      "  trial_id: 564fe876\n",
      "  \n"
     ]
    },
    {
     "name": "stdout",
     "output_type": "stream",
     "text": [
      "Result for objective_564fe876:\n",
      "  date: 2022-03-23_09-29-08\n",
      "  done: true\n",
      "  experiment_id: 60bee25b5e1f497eb8adab3e8cdc594b\n",
      "  hostname: brett\n",
      "  iterations: 99\n",
      "  iterations_since_restore: 100\n",
      "  mean_loss: 0.16991954041613122\n",
      "  neg_mean_loss: -0.16991954041613122\n",
      "  node_ip: 192.168.1.181\n",
      "  pid: 251\n",
      "  time_since_restore: 10.650112628936768\n",
      "  time_this_iter_s: 0.10265183448791504\n",
      "  time_total_s: 10.650112628936768\n",
      "  timestamp: 1648052948\n",
      "  timesteps_since_restore: 0\n",
      "  training_iteration: 100\n",
      "  trial_id: 564fe876\n",
      "  \n"
     ]
    },
    {
     "name": "stderr",
     "output_type": "stream",
     "text": [
      "\u001b[2m\u001b[33m(raylet)\u001b[0m E0323 09:29:08.391167200     540 socket_utils_common_posix.cc:223] check for SO_REUSEPORT: {\"created\":\"@1648052948.391147700\",\"description\":\"Protocol not available\",\"errno\":92,\"file\":\"external/com_github_grpc_grpc/src/core/lib/iomgr/socket_utils_common_posix.cc\",\"file_line\":202,\"os_error\":\"Protocol not available\",\"syscall\":\"getsockopt(SO_REUSEPORT)\"}\n",
      "\u001b[2m\u001b[33m(raylet)\u001b[0m E0323 09:29:08.399584300     541 socket_utils_common_posix.cc:223] check for SO_REUSEPORT: {\"created\":\"@1648052948.399569800\",\"description\":\"Protocol not available\",\"errno\":92,\"file\":\"external/com_github_grpc_grpc/src/core/lib/iomgr/socket_utils_common_posix.cc\",\"file_line\":202,\"os_error\":\"Protocol not available\",\"syscall\":\"getsockopt(SO_REUSEPORT)\"}\n"
     ]
    },
    {
     "name": "stdout",
     "output_type": "stream",
     "text": [
      "Result for objective_5c3e220c:\n",
      "  date: 2022-03-23_09-29-09\n",
      "  done: false\n",
      "  experiment_id: 2a87e8e056244fd4904546b277a820ed\n",
      "  hostname: brett\n",
      "  iterations: 0\n",
      "  iterations_since_restore: 1\n",
      "  mean_loss: 11.945912320503817\n",
      "  neg_mean_loss: -11.945912320503817\n",
      "  node_ip: 192.168.1.181\n",
      "  pid: 541\n",
      "  time_since_restore: 0.10051202774047852\n",
      "  time_this_iter_s: 0.10051202774047852\n",
      "  time_total_s: 0.10051202774047852\n",
      "  timestamp: 1648052949\n",
      "  timesteps_since_restore: 0\n",
      "  training_iteration: 1\n",
      "  trial_id: 5c3e220c\n",
      "  \n",
      "Result for objective_5d3f401e:\n",
      "  date: 2022-03-23_09-29-09\n",
      "  done: false\n",
      "  experiment_id: 858717afde094bf68163659990482e08\n",
      "  hostname: brett\n",
      "  iterations: 0\n",
      "  iterations_since_restore: 1\n",
      "  mean_loss: 5.639168507984684\n",
      "  neg_mean_loss: -5.639168507984684\n",
      "  node_ip: 192.168.1.181\n",
      "  pid: 540\n",
      "  time_since_restore: 0.10093474388122559\n",
      "  time_this_iter_s: 0.10093474388122559\n",
      "  time_total_s: 0.10093474388122559\n",
      "  timestamp: 1648052949\n",
      "  timesteps_since_restore: 0\n",
      "  training_iteration: 1\n",
      "  trial_id: 5d3f401e\n",
      "  \n"
     ]
    },
    {
     "name": "stdout",
     "output_type": "stream",
     "text": [
      "Result for objective_5c3e220c:\n",
      "  date: 2022-03-23_09-29-09\n",
      "  done: true\n",
      "  experiment_id: 2a87e8e056244fd4904546b277a820ed\n",
      "  hostname: brett\n",
      "  iterations: 3\n",
      "  iterations_since_restore: 4\n",
      "  mean_loss: 5.391748625022473\n",
      "  neg_mean_loss: -5.391748625022473\n",
      "  node_ip: 192.168.1.181\n",
      "  pid: 541\n",
      "  time_since_restore: 0.42635607719421387\n",
      "  time_this_iter_s: 0.10691070556640625\n",
      "  time_total_s: 0.42635607719421387\n",
      "  timestamp: 1648052949\n",
      "  timesteps_since_restore: 0\n",
      "  training_iteration: 4\n",
      "  trial_id: 5c3e220c\n",
      "  \n"
     ]
    },
    {
     "data": {
      "text/html": [
       "== Status ==<br>Current time: 2022-03-23 09:29:10 (running for 00:00:15.73)<br>Memory usage on this node: 6.1/15.8 GiB<br>Using AsyncHyperBand: num_stopped=9\n",
       "Bracket: Iter 64.000: -2.6456707375133437 | Iter 16.000: -2.9757916648387868 | Iter 4.000: -3.0969400787090358 | Iter 1.000: -12.07287839661744<br>Resources requested: 1.0/8 CPUs, 0/0 GPUs, 0.0/6.13 GiB heap, 0.0/3.07 GiB objects<br>Current best trial: 5d3f401e with mean_loss=-1.159930419236752 and parameters={'steps': 100, 'width': 2.6551503672837007, 'height': -43.608314920153155, 'activation': 'tanh'}<br>Result logdir: /home/brett/ray_results/objective_2022-03-23_09-28-51<br>Number of trials: 10/10 (1 RUNNING, 9 TERMINATED)<br><table>\n",
       "<thead>\n",
       "<tr><th>Trial name        </th><th>status    </th><th>loc              </th><th>activation  </th><th style=\"text-align: right;\">   height</th><th style=\"text-align: right;\">   width</th><th style=\"text-align: right;\">    loss</th><th style=\"text-align: right;\">  iter</th><th style=\"text-align: right;\">  total time (s)</th><th style=\"text-align: right;\">  iterations</th><th style=\"text-align: right;\">  neg_mean_loss</th></tr>\n",
       "</thead>\n",
       "<tbody>\n",
       "<tr><td>objective_5d3f401e</td><td>RUNNING   </td><td>192.168.1.181:540</td><td>tanh        </td><td style=\"text-align: right;\">-43.6083 </td><td style=\"text-align: right;\"> 2.65515</td><td style=\"text-align: right;\">-1.15993</td><td style=\"text-align: right;\">     9</td><td style=\"text-align: right;\">        0.966876</td><td style=\"text-align: right;\">           8</td><td style=\"text-align: right;\">        1.15993</td></tr>\n",
       "<tr><td>objective_54daa288</td><td>TERMINATED</td><td>192.168.1.181:255</td><td>relu        </td><td style=\"text-align: right;\">  2      </td><td style=\"text-align: right;\"> 1      </td><td style=\"text-align: right;\">11.1174 </td><td style=\"text-align: right;\">   100</td><td style=\"text-align: right;\">       10.6812  </td><td style=\"text-align: right;\">          99</td><td style=\"text-align: right;\">      -11.1174 </td></tr>\n",
       "<tr><td>objective_5542b346</td><td>TERMINATED</td><td>192.168.1.181:254</td><td>relu        </td><td style=\"text-align: right;\">  2      </td><td style=\"text-align: right;\"> 4      </td><td style=\"text-align: right;\">10.4463 </td><td style=\"text-align: right;\">   100</td><td style=\"text-align: right;\">       10.7478  </td><td style=\"text-align: right;\">          99</td><td style=\"text-align: right;\">      -10.4463 </td></tr>\n",
       "<tr><td>objective_555a431c</td><td>TERMINATED</td><td>192.168.1.181:256</td><td>relu        </td><td style=\"text-align: right;\"> 50.7516 </td><td style=\"text-align: right;\"> 2.58579</td><td style=\"text-align: right;\">25.0752 </td><td style=\"text-align: right;\">     1</td><td style=\"text-align: right;\">        0.100636</td><td style=\"text-align: right;\">           0</td><td style=\"text-align: right;\">      -25.0752 </td></tr>\n",
       "<tr><td>objective_55727e46</td><td>TERMINATED</td><td>192.168.1.181:253</td><td>relu        </td><td style=\"text-align: right;\">-66.5353 </td><td style=\"text-align: right;\">13.8334 </td><td style=\"text-align: right;\"> 3.41896</td><td style=\"text-align: right;\">   100</td><td style=\"text-align: right;\">       10.6568  </td><td style=\"text-align: right;\">          99</td><td style=\"text-align: right;\">       -3.41896</td></tr>\n",
       "<tr><td>objective_55e26d00</td><td>TERMINATED</td><td>192.168.1.181:252</td><td>relu        </td><td style=\"text-align: right;\">  6.88503</td><td style=\"text-align: right;\"> 1.20451</td><td style=\"text-align: right;\">20.6885 </td><td style=\"text-align: right;\">     1</td><td style=\"text-align: right;\">        0.101324</td><td style=\"text-align: right;\">           0</td><td style=\"text-align: right;\">      -20.6885 </td></tr>\n",
       "<tr><td>objective_564fe876</td><td>TERMINATED</td><td>192.168.1.181:251</td><td>tanh        </td><td style=\"text-align: right;\">  1.11576</td><td style=\"text-align: right;\">17.2121 </td><td style=\"text-align: right;\"> 0.16992</td><td style=\"text-align: right;\">   100</td><td style=\"text-align: right;\">       10.6501  </td><td style=\"text-align: right;\">          99</td><td style=\"text-align: right;\">       -0.16992</td></tr>\n",
       "<tr><td>objective_5c013888</td><td>TERMINATED</td><td>192.168.1.181:257</td><td>tanh        </td><td style=\"text-align: right;\"> 24.5378 </td><td style=\"text-align: right;\">13.2826 </td><td style=\"text-align: right;\"> 4.45988</td><td style=\"text-align: right;\">     4</td><td style=\"text-align: right;\">        0.412206</td><td style=\"text-align: right;\">           3</td><td style=\"text-align: right;\">       -4.45988</td></tr>\n",
       "<tr><td>objective_5c211b8a</td><td>TERMINATED</td><td>192.168.1.181:248</td><td>relu        </td><td style=\"text-align: right;\"> 69.0573 </td><td style=\"text-align: right;\"> 3.74972</td><td style=\"text-align: right;\">26.9057 </td><td style=\"text-align: right;\">     1</td><td style=\"text-align: right;\">        0.10051 </td><td style=\"text-align: right;\">           0</td><td style=\"text-align: right;\">      -26.9057 </td></tr>\n",
       "<tr><td>objective_5c3e220c</td><td>TERMINATED</td><td>192.168.1.181:541</td><td>relu        </td><td style=\"text-align: right;\">-80.5409 </td><td style=\"text-align: right;\"> 6.34018</td><td style=\"text-align: right;\"> 5.39175</td><td style=\"text-align: right;\">     4</td><td style=\"text-align: right;\">        0.426356</td><td style=\"text-align: right;\">           3</td><td style=\"text-align: right;\">       -5.39175</td></tr>\n",
       "</tbody>\n",
       "</table><br><br>"
      ],
      "text/plain": [
       "<IPython.core.display.HTML object>"
      ]
     },
     "metadata": {},
     "output_type": "display_data"
    },
    {
     "name": "stdout",
     "output_type": "stream",
     "text": [
      "Result for objective_5d3f401e:\n",
      "  date: 2022-03-23_09-29-14\n",
      "  done: false\n",
      "  experiment_id: 858717afde094bf68163659990482e08\n",
      "  hostname: brett\n",
      "  iterations: 47\n",
      "  iterations_since_restore: 48\n",
      "  mean_loss: -3.618948070898413\n",
      "  neg_mean_loss: 3.618948070898413\n",
      "  node_ip: 192.168.1.181\n",
      "  pid: 540\n",
      "  time_since_restore: 5.129734516143799\n",
      "  time_this_iter_s: 0.10776138305664062\n",
      "  time_total_s: 5.129734516143799\n",
      "  timestamp: 1648052954\n",
      "  timesteps_since_restore: 0\n",
      "  training_iteration: 48\n",
      "  trial_id: 5d3f401e\n",
      "  \n"
     ]
    },
    {
     "data": {
      "text/html": [
       "== Status ==<br>Current time: 2022-03-23 09:29:15 (running for 00:00:20.77)<br>Memory usage on this node: 6.0/15.8 GiB<br>Using AsyncHyperBand: num_stopped=9\n",
       "Bracket: Iter 64.000: -2.6456707375133437 | Iter 16.000: -0.4844588160722637 | Iter 4.000: -3.0969400787090358 | Iter 1.000: -12.07287839661744<br>Resources requested: 1.0/8 CPUs, 0/0 GPUs, 0.0/6.13 GiB heap, 0.0/3.07 GiB objects<br>Current best trial: 5d3f401e with mean_loss=-3.719942533708953 and parameters={'steps': 100, 'width': 2.6551503672837007, 'height': -43.608314920153155, 'activation': 'tanh'}<br>Result logdir: /home/brett/ray_results/objective_2022-03-23_09-28-51<br>Number of trials: 10/10 (1 RUNNING, 9 TERMINATED)<br><table>\n",
       "<thead>\n",
       "<tr><th>Trial name        </th><th>status    </th><th>loc              </th><th>activation  </th><th style=\"text-align: right;\">   height</th><th style=\"text-align: right;\">   width</th><th style=\"text-align: right;\">    loss</th><th style=\"text-align: right;\">  iter</th><th style=\"text-align: right;\">  total time (s)</th><th style=\"text-align: right;\">  iterations</th><th style=\"text-align: right;\">  neg_mean_loss</th></tr>\n",
       "</thead>\n",
       "<tbody>\n",
       "<tr><td>objective_5d3f401e</td><td>RUNNING   </td><td>192.168.1.181:540</td><td>tanh        </td><td style=\"text-align: right;\">-43.6083 </td><td style=\"text-align: right;\"> 2.65515</td><td style=\"text-align: right;\">-3.71994</td><td style=\"text-align: right;\">    56</td><td style=\"text-align: right;\">        5.9881  </td><td style=\"text-align: right;\">          55</td><td style=\"text-align: right;\">        3.71994</td></tr>\n",
       "<tr><td>objective_54daa288</td><td>TERMINATED</td><td>192.168.1.181:255</td><td>relu        </td><td style=\"text-align: right;\">  2      </td><td style=\"text-align: right;\"> 1      </td><td style=\"text-align: right;\">11.1174 </td><td style=\"text-align: right;\">   100</td><td style=\"text-align: right;\">       10.6812  </td><td style=\"text-align: right;\">          99</td><td style=\"text-align: right;\">      -11.1174 </td></tr>\n",
       "<tr><td>objective_5542b346</td><td>TERMINATED</td><td>192.168.1.181:254</td><td>relu        </td><td style=\"text-align: right;\">  2      </td><td style=\"text-align: right;\"> 4      </td><td style=\"text-align: right;\">10.4463 </td><td style=\"text-align: right;\">   100</td><td style=\"text-align: right;\">       10.7478  </td><td style=\"text-align: right;\">          99</td><td style=\"text-align: right;\">      -10.4463 </td></tr>\n",
       "<tr><td>objective_555a431c</td><td>TERMINATED</td><td>192.168.1.181:256</td><td>relu        </td><td style=\"text-align: right;\"> 50.7516 </td><td style=\"text-align: right;\"> 2.58579</td><td style=\"text-align: right;\">25.0752 </td><td style=\"text-align: right;\">     1</td><td style=\"text-align: right;\">        0.100636</td><td style=\"text-align: right;\">           0</td><td style=\"text-align: right;\">      -25.0752 </td></tr>\n",
       "<tr><td>objective_55727e46</td><td>TERMINATED</td><td>192.168.1.181:253</td><td>relu        </td><td style=\"text-align: right;\">-66.5353 </td><td style=\"text-align: right;\">13.8334 </td><td style=\"text-align: right;\"> 3.41896</td><td style=\"text-align: right;\">   100</td><td style=\"text-align: right;\">       10.6568  </td><td style=\"text-align: right;\">          99</td><td style=\"text-align: right;\">       -3.41896</td></tr>\n",
       "<tr><td>objective_55e26d00</td><td>TERMINATED</td><td>192.168.1.181:252</td><td>relu        </td><td style=\"text-align: right;\">  6.88503</td><td style=\"text-align: right;\"> 1.20451</td><td style=\"text-align: right;\">20.6885 </td><td style=\"text-align: right;\">     1</td><td style=\"text-align: right;\">        0.101324</td><td style=\"text-align: right;\">           0</td><td style=\"text-align: right;\">      -20.6885 </td></tr>\n",
       "<tr><td>objective_564fe876</td><td>TERMINATED</td><td>192.168.1.181:251</td><td>tanh        </td><td style=\"text-align: right;\">  1.11576</td><td style=\"text-align: right;\">17.2121 </td><td style=\"text-align: right;\"> 0.16992</td><td style=\"text-align: right;\">   100</td><td style=\"text-align: right;\">       10.6501  </td><td style=\"text-align: right;\">          99</td><td style=\"text-align: right;\">       -0.16992</td></tr>\n",
       "<tr><td>objective_5c013888</td><td>TERMINATED</td><td>192.168.1.181:257</td><td>tanh        </td><td style=\"text-align: right;\"> 24.5378 </td><td style=\"text-align: right;\">13.2826 </td><td style=\"text-align: right;\"> 4.45988</td><td style=\"text-align: right;\">     4</td><td style=\"text-align: right;\">        0.412206</td><td style=\"text-align: right;\">           3</td><td style=\"text-align: right;\">       -4.45988</td></tr>\n",
       "<tr><td>objective_5c211b8a</td><td>TERMINATED</td><td>192.168.1.181:248</td><td>relu        </td><td style=\"text-align: right;\"> 69.0573 </td><td style=\"text-align: right;\"> 3.74972</td><td style=\"text-align: right;\">26.9057 </td><td style=\"text-align: right;\">     1</td><td style=\"text-align: right;\">        0.10051 </td><td style=\"text-align: right;\">           0</td><td style=\"text-align: right;\">      -26.9057 </td></tr>\n",
       "<tr><td>objective_5c3e220c</td><td>TERMINATED</td><td>192.168.1.181:541</td><td>relu        </td><td style=\"text-align: right;\">-80.5409 </td><td style=\"text-align: right;\"> 6.34018</td><td style=\"text-align: right;\"> 5.39175</td><td style=\"text-align: right;\">     4</td><td style=\"text-align: right;\">        0.426356</td><td style=\"text-align: right;\">           3</td><td style=\"text-align: right;\">       -5.39175</td></tr>\n",
       "</tbody>\n",
       "</table><br><br>"
      ],
      "text/plain": [
       "<IPython.core.display.HTML object>"
      ]
     },
     "metadata": {},
     "output_type": "display_data"
    },
    {
     "name": "stdout",
     "output_type": "stream",
     "text": [
      "Result for objective_5d3f401e:\n",
      "  date: 2022-03-23_09-29-19\n",
      "  done: false\n",
      "  experiment_id: 858717afde094bf68163659990482e08\n",
      "  hostname: brett\n",
      "  iterations: 95\n",
      "  iterations_since_restore: 96\n",
      "  mean_loss: -3.9795003728384075\n",
      "  neg_mean_loss: 3.9795003728384075\n",
      "  node_ip: 192.168.1.181\n",
      "  pid: 540\n",
      "  time_since_restore: 10.233474016189575\n",
      "  time_this_iter_s: 0.10848188400268555\n",
      "  time_total_s: 10.233474016189575\n",
      "  timestamp: 1648052959\n",
      "  timesteps_since_restore: 0\n",
      "  training_iteration: 96\n",
      "  trial_id: 5d3f401e\n",
      "  \n"
     ]
    },
    {
     "name": "stdout",
     "output_type": "stream",
     "text": [
      "Result for objective_5d3f401e:\n",
      "  date: 2022-03-23_09-29-19\n",
      "  done: true\n",
      "  experiment_id: 858717afde094bf68163659990482e08\n",
      "  hostname: brett\n",
      "  iterations: 99\n",
      "  iterations_since_restore: 100\n",
      "  mean_loss: -3.9943430303597025\n",
      "  neg_mean_loss: 3.9943430303597025\n",
      "  node_ip: 192.168.1.181\n",
      "  pid: 540\n",
      "  time_since_restore: 10.649172306060791\n",
      "  time_this_iter_s: 0.10361504554748535\n",
      "  time_total_s: 10.649172306060791\n",
      "  timestamp: 1648052959\n",
      "  timesteps_since_restore: 0\n",
      "  training_iteration: 100\n",
      "  trial_id: 5d3f401e\n",
      "  \n"
     ]
    },
    {
     "data": {
      "text/html": [
       "== Status ==<br>Current time: 2022-03-23 09:29:19 (running for 00:00:25.43)<br>Memory usage on this node: 6.0/15.8 GiB<br>Using AsyncHyperBand: num_stopped=10\n",
       "Bracket: Iter 64.000: -0.2029538940570032 | Iter 16.000: -0.4844588160722637 | Iter 4.000: -3.0969400787090358 | Iter 1.000: -12.07287839661744<br>Resources requested: 0/8 CPUs, 0/0 GPUs, 0.0/6.13 GiB heap, 0.0/3.07 GiB objects<br>Current best trial: 5d3f401e with mean_loss=-3.9943430303597025 and parameters={'steps': 100, 'width': 2.6551503672837007, 'height': -43.608314920153155, 'activation': 'tanh'}<br>Result logdir: /home/brett/ray_results/objective_2022-03-23_09-28-51<br>Number of trials: 10/10 (10 TERMINATED)<br><table>\n",
       "<thead>\n",
       "<tr><th>Trial name        </th><th>status    </th><th>loc              </th><th>activation  </th><th style=\"text-align: right;\">   height</th><th style=\"text-align: right;\">   width</th><th style=\"text-align: right;\">    loss</th><th style=\"text-align: right;\">  iter</th><th style=\"text-align: right;\">  total time (s)</th><th style=\"text-align: right;\">  iterations</th><th style=\"text-align: right;\">  neg_mean_loss</th></tr>\n",
       "</thead>\n",
       "<tbody>\n",
       "<tr><td>objective_54daa288</td><td>TERMINATED</td><td>192.168.1.181:255</td><td>relu        </td><td style=\"text-align: right;\">  2      </td><td style=\"text-align: right;\"> 1      </td><td style=\"text-align: right;\">11.1174 </td><td style=\"text-align: right;\">   100</td><td style=\"text-align: right;\">       10.6812  </td><td style=\"text-align: right;\">          99</td><td style=\"text-align: right;\">      -11.1174 </td></tr>\n",
       "<tr><td>objective_5542b346</td><td>TERMINATED</td><td>192.168.1.181:254</td><td>relu        </td><td style=\"text-align: right;\">  2      </td><td style=\"text-align: right;\"> 4      </td><td style=\"text-align: right;\">10.4463 </td><td style=\"text-align: right;\">   100</td><td style=\"text-align: right;\">       10.7478  </td><td style=\"text-align: right;\">          99</td><td style=\"text-align: right;\">      -10.4463 </td></tr>\n",
       "<tr><td>objective_555a431c</td><td>TERMINATED</td><td>192.168.1.181:256</td><td>relu        </td><td style=\"text-align: right;\"> 50.7516 </td><td style=\"text-align: right;\"> 2.58579</td><td style=\"text-align: right;\">25.0752 </td><td style=\"text-align: right;\">     1</td><td style=\"text-align: right;\">        0.100636</td><td style=\"text-align: right;\">           0</td><td style=\"text-align: right;\">      -25.0752 </td></tr>\n",
       "<tr><td>objective_55727e46</td><td>TERMINATED</td><td>192.168.1.181:253</td><td>relu        </td><td style=\"text-align: right;\">-66.5353 </td><td style=\"text-align: right;\">13.8334 </td><td style=\"text-align: right;\"> 3.41896</td><td style=\"text-align: right;\">   100</td><td style=\"text-align: right;\">       10.6568  </td><td style=\"text-align: right;\">          99</td><td style=\"text-align: right;\">       -3.41896</td></tr>\n",
       "<tr><td>objective_55e26d00</td><td>TERMINATED</td><td>192.168.1.181:252</td><td>relu        </td><td style=\"text-align: right;\">  6.88503</td><td style=\"text-align: right;\"> 1.20451</td><td style=\"text-align: right;\">20.6885 </td><td style=\"text-align: right;\">     1</td><td style=\"text-align: right;\">        0.101324</td><td style=\"text-align: right;\">           0</td><td style=\"text-align: right;\">      -20.6885 </td></tr>\n",
       "<tr><td>objective_564fe876</td><td>TERMINATED</td><td>192.168.1.181:251</td><td>tanh        </td><td style=\"text-align: right;\">  1.11576</td><td style=\"text-align: right;\">17.2121 </td><td style=\"text-align: right;\"> 0.16992</td><td style=\"text-align: right;\">   100</td><td style=\"text-align: right;\">       10.6501  </td><td style=\"text-align: right;\">          99</td><td style=\"text-align: right;\">       -0.16992</td></tr>\n",
       "<tr><td>objective_5c013888</td><td>TERMINATED</td><td>192.168.1.181:257</td><td>tanh        </td><td style=\"text-align: right;\"> 24.5378 </td><td style=\"text-align: right;\">13.2826 </td><td style=\"text-align: right;\"> 4.45988</td><td style=\"text-align: right;\">     4</td><td style=\"text-align: right;\">        0.412206</td><td style=\"text-align: right;\">           3</td><td style=\"text-align: right;\">       -4.45988</td></tr>\n",
       "<tr><td>objective_5c211b8a</td><td>TERMINATED</td><td>192.168.1.181:248</td><td>relu        </td><td style=\"text-align: right;\"> 69.0573 </td><td style=\"text-align: right;\"> 3.74972</td><td style=\"text-align: right;\">26.9057 </td><td style=\"text-align: right;\">     1</td><td style=\"text-align: right;\">        0.10051 </td><td style=\"text-align: right;\">           0</td><td style=\"text-align: right;\">      -26.9057 </td></tr>\n",
       "<tr><td>objective_5c3e220c</td><td>TERMINATED</td><td>192.168.1.181:541</td><td>relu        </td><td style=\"text-align: right;\">-80.5409 </td><td style=\"text-align: right;\"> 6.34018</td><td style=\"text-align: right;\"> 5.39175</td><td style=\"text-align: right;\">     4</td><td style=\"text-align: right;\">        0.426356</td><td style=\"text-align: right;\">           3</td><td style=\"text-align: right;\">       -5.39175</td></tr>\n",
       "<tr><td>objective_5d3f401e</td><td>TERMINATED</td><td>192.168.1.181:540</td><td>tanh        </td><td style=\"text-align: right;\">-43.6083 </td><td style=\"text-align: right;\"> 2.65515</td><td style=\"text-align: right;\">-3.99434</td><td style=\"text-align: right;\">   100</td><td style=\"text-align: right;\">       10.6492  </td><td style=\"text-align: right;\">          99</td><td style=\"text-align: right;\">        3.99434</td></tr>\n",
       "</tbody>\n",
       "</table><br><br>"
      ],
      "text/plain": [
       "<IPython.core.display.HTML object>"
      ]
     },
     "metadata": {},
     "output_type": "display_data"
    },
    {
     "name": "stdout",
     "output_type": "stream",
     "text": [
      "Best hyperparameters found were:  {'steps': 100, 'width': 2.6551503672837007, 'height': -43.608314920153155, 'activation': 'tanh'}\n"
     ]
    }
   ],
   "source": [
    "# Single objective case\n",
    "if not multi_obj:\n",
    "    analysis = tune.run(\n",
    "        objective,\n",
    "        search_alg=algo,\n",
    "        scheduler=scheduler,\n",
    "        metric=\"mean_loss\",\n",
    "        mode=\"min\",\n",
    "        num_samples=num_samples,\n",
    "        config=search_space if not use_func else None\n",
    "    )\n",
    "\n",
    "    print(\"Best hyperparameters found were: \", analysis.best_config)"
   ]
  },
  {
   "cell_type": "code",
   "execution_count": 11,
   "id": "d9d0bac7",
   "metadata": {
    "execution": {
     "iopub.execute_input": "2022-03-23T16:29:20.152052Z",
     "iopub.status.busy": "2022-03-23T16:29:20.151909Z",
     "iopub.status.idle": "2022-03-23T16:29:20.155364Z",
     "shell.execute_reply": "2022-03-23T16:29:20.154739Z"
    }
   },
   "outputs": [],
   "source": [
    "# Multi-objective case: removed scheduler. metric, mode passed through \"search_alg\"\n",
    "if multi_obj:\n",
    "    analysis = tune.run(\n",
    "        multi_objective,\n",
    "        search_alg=algo,\n",
    "        num_samples=num_samples,\n",
    "        config=search_space if not use_func else None\n",
    "    )\n",
    "    print(\"Best hyperparameters for loss found were: \", analysis.get_best_config(\"loss\", \"min\"))\n",
    "    print(\"Best hyperparameters for gain found were: \", analysis.get_best_config(\"gain\", \"max\"))"
   ]
  },
  {
   "cell_type": "code",
   "execution_count": 12,
   "id": "bddd6238",
   "metadata": {
    "execution": {
     "iopub.execute_input": "2022-03-23T16:29:20.157841Z",
     "iopub.status.busy": "2022-03-23T16:29:20.157695Z",
     "iopub.status.idle": "2022-03-23T16:29:22.285392Z",
     "shell.execute_reply": "2022-03-23T16:29:22.284669Z"
    },
    "tags": [
     "remove-cell"
    ]
   },
   "outputs": [],
   "source": [
    "ray.shutdown()"
   ]
  }
 ],
 "metadata": {
  "kernelspec": {
   "display_name": "Python 3 (ipykernel)",
   "language": "python",
   "name": "python3"
  },
  "language_info": {
   "codemirror_mode": {
    "name": "ipython",
    "version": 3
   },
   "file_extension": ".py",
   "mimetype": "text/x-python",
   "name": "python",
   "nbconvert_exporter": "python",
   "pygments_lexer": "ipython3",
   "version": "3.8.10"
  },
  "orphan": true
 },
 "nbformat": 4,
 "nbformat_minor": 5
}
