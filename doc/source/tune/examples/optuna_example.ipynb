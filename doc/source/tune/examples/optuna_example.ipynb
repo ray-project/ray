{
 "cells": [
  {
   "cell_type": "markdown",
   "id": "68544a19",
   "metadata": {},
   "source": [
    "# Running Tune experiments with Optuna\n",
    "\n",
    "This example demonstrates the usage of Optuna with Ray Tune via `OptunaSearch`, including conditional search spaces and multi-objective use cases.\n",
    "\n",
    "While you may use a scheduler with `OptunaSearch`, e.g. `AsyncHyperBandScheduler`, please note that schedulers may not work correctly with multi-objective optimization, since they often expect a scalar score.\n",
    "\n",
    "Click below to see all the imports we need for this example.\n",
    "You can also launch directly into a Binder instance to run this notebook yourself.\n",
    "Just click on the rocket symbol at the top of the navigation."
   ]
  },
  {
   "cell_type": "code",
   "execution_count": null,
   "id": "39786002",
   "metadata": {
    "lines_to_next_cell": 0,
    "tags": [
     "hide-input"
    ]
   },
   "outputs": [],
   "source": [
    "import time\n",
    "from typing import Dict, Optional, Any\n",
    "\n",
    "import ray\n",
    "from ray import tune\n",
    "from ray.tune.suggest import ConcurrencyLimiter\n",
    "from ray.tune.schedulers import AsyncHyperBandScheduler\n",
    "from ray.tune.suggest.optuna import OptunaSearch"
   ]
  },
  {
   "cell_type": "markdown",
   "id": "279e24ff",
   "metadata": {},
   "source": [
    "Toggle `use_func` and `multi_obj` below to test different example usages."
   ]
  },
  {
   "cell_type": "code",
   "execution_count": null,
   "id": "eeb7f25c",
   "metadata": {},
   "outputs": [],
   "source": [
    "# Whether to use function to define search space\n",
    "use_func = False\n",
    "# Whether to run multi-objective\n",
    "multi_obj = False"
   ]
  },
  {
   "cell_type": "markdown",
   "id": "47cb1e7c",
   "metadata": {},
   "source": [
    "Let's start by defining a simple evaluation function.\n",
    "The form here is explicit for demonstration, yet it is typically a black-box.\n",
    "We artificially sleep for a bit (`0.1` seconds) to simulate a long-running ML experiment.\n",
    "This setup assumes that we're running multiple `step`s of an experiment and try to tune some hyperparameters,\n",
    "namely `width`, `height`, and `activation`."
   ]
  },
  {
   "cell_type": "code",
   "execution_count": null,
   "id": "ffa4cdf6",
   "metadata": {},
   "outputs": [],
   "source": [
    "def evaluate(step, width, height, activation):\n",
    "    time.sleep(0.1)\n",
    "    activation_boost = 10 if activation==\"relu\" else 0\n",
    "    return (0.1 + width * step / 100) ** (-1) + height * 0.1 + activation_boost"
   ]
  },
  {
   "cell_type": "markdown",
   "id": "44f860a0",
   "metadata": {},
   "source": [
    "Next, our ``objective`` function takes a Tune ``config``, evaluates the `score` of your experiment in a training loop,\n",
    "and uses `tune.report` to report the `score` back to Tune."
   ]
  },
  {
   "cell_type": "code",
   "execution_count": null,
   "id": "7e8844f0",
   "metadata": {
    "lines_to_next_cell": 2
   },
   "outputs": [],
   "source": [
    "def objective(config):\n",
    "    for step in range(config[\"steps\"]):\n",
    "        score = evaluate(step, config[\"width\"], config[\"height\"], config[\"activation\"])\n",
    "        tune.report(iterations=step, mean_loss=score)\n",
    "              \n",
    "def multi_objective(config):\n",
    "    # Hyperparameters\n",
    "    width, height = config[\"width\"], config[\"height\"]\n",
    "\n",
    "    for step in range(config[\"steps\"]):\n",
    "        # Iterative training function - can be any arbitrary training procedure\n",
    "        intermediate_score = evaluate(step, config[\"width\"], config[\"height\"], config[\"activation\"])\n",
    "        # Feed the score back back to Tune.\n",
    "        tune.report(\n",
    "           iterations=step, loss=intermediate_score, gain=intermediate_score * width\n",
    "        )"
   ]
  },
  {
   "cell_type": "code",
   "execution_count": null,
   "id": "f653ee42",
   "metadata": {
    "lines_to_next_cell": 0,
    "tags": [
     "remove-cell"
    ]
   },
   "outputs": [],
   "source": [
    "ray.init(configure_logging=False)"
   ]
  },
  {
   "cell_type": "markdown",
   "id": "2cbae887",
   "metadata": {},
   "source": [
    "Next we define a search space. The critical assumption is that the optimal hyperparamters live within this space. Yet, if the space is very large, then those hyperparamters may be difficult to find in a short amount of time.\n",
    "\n",
    "The search space can be defined as independent or conditional. The simplest case is where we have an independent search space. In this case, a config dictionary will suffice."
   ]
  },
  {
   "cell_type": "code",
   "execution_count": null,
   "id": "10f31f60",
   "metadata": {
    "lines_to_next_cell": 0
   },
   "outputs": [],
   "source": [
    "search_space = {\n",
    "    \"steps\": 100,\n",
    "    \"width\": tune.uniform(0, 20),\n",
    "    \"height\": tune.uniform(-100, 100),\n",
    "    \"activation\": tune.choice([\"relu\", \"tanh\"]),\n",
    "}"
   ]
  },
  {
   "cell_type": "markdown",
   "id": "40c5026e",
   "metadata": {},
   "source": [
    "However, for the conditional search space, we must use a define-by-run function."
   ]
  },
  {
   "cell_type": "code",
   "execution_count": null,
   "id": "454c7440",
   "metadata": {},
   "outputs": [],
   "source": [
    "def define_by_run_func(trial) -> Optional[Dict[str, Any]]:\n",
    "    \"\"\"Define-by-run function to create the search space.\n",
    "\n",
    "    Ensure no actual computation takes place here. That should go into\n",
    "    the trainable passed to ``tune.run`` (in this example, that's\n",
    "    ``objective``).\n",
    "\n",
    "    For more information, see https://optuna.readthedocs.io/en/stable\\\n",
    "    /tutorial/10_key_features/002_configurations.html\n",
    "\n",
    "    This function should either return None or a dict with constant values.\n",
    "    \"\"\"\n",
    "\n",
    "    activation = trial.suggest_categorical(\"activation\", [\"relu\", \"tanh\"])\n",
    "\n",
    "    # Define-by-run allows for conditional search spaces.\n",
    "    if activation == \"relu\":\n",
    "        trial.suggest_float(\"width\", 0, 20)\n",
    "        trial.suggest_float(\"height\", -100, 100) \n",
    "    else:\n",
    "        trial.suggest_float(\"width\", 0, 21)\n",
    "        trial.suggest_float(\"height\", -101, 101)\n",
    "        \n",
    "    # Return all constants in a dictionary.\n",
    "    return {\"steps\": 100}"
   ]
  },
  {
   "cell_type": "markdown",
   "id": "ca86258a",
   "metadata": {},
   "source": [
    "Optionally, we may provide an initial set of hyperparameters that we believe as the current best, (`current_best_params`), and\n",
    "pass this belief into a `OptunaSearch` searcher.\n",
    "Furthermore, we optionally define a `scheduler` to go along with our algorithm.\n",
    "\n",
    "We then set the maximum concurrent trials to `4` with a `ConcurrencyLimiter`.\n",
    "Lastly, we must set the number of samples for this Tune run to `1000`\n",
    "(you can decrease this if it takes too long on your machine)."
   ]
  },
  {
   "cell_type": "code",
   "execution_count": null,
   "id": "53b9a2d2",
   "metadata": {},
   "outputs": [],
   "source": [
    "initial_params = [\n",
    "    {\"width\": 1, \"height\": 2, \"activation\": \"relu\"},\n",
    "    {\"width\": 4, \"height\": 2, \"activation\": \"relu\"},\n",
    "]\n",
    "\n",
    "# Choosing specified case:\n",
    "if not multi_obj: \n",
    "    if not use_func:\n",
    "        # Initial guess\n",
    "        searcher = OptunaSearch(points_to_evaluate=initial_params)\n",
    "    else:\n",
    "        # Search space from function, initial guess\n",
    "        searcher = OptunaSearch(space=define_by_run_func, points_to_evaluate=initial_params)\n",
    "else: \n",
    "    if not use_func:\n",
    "        # Multi-objective, initial guess\n",
    "        searcher = OptunaSearch(points_to_evaluate=initial_params, metric=[\"loss\", \"gain\"], mode=[\"min\", \"max\"])\n",
    "    else:\n",
    "        # Multi-objective, search space from function, initial guess\n",
    "        searcher = OptunaSearch(space=define_by_run_func, points_to_evaluate=initial_params, metric=[\"loss\", \"gain\"], mode=[\"min\", \"max\"])\n",
    "\n",
    "algo = ConcurrencyLimiter(searcher, max_concurrent=4)\n",
    "scheduler = AsyncHyperBandScheduler()\n",
    "\n",
    "num_samples = 1000"
   ]
  },
  {
   "cell_type": "code",
   "execution_count": null,
   "id": "1616059e",
   "metadata": {
    "lines_to_next_cell": 0,
    "tags": [
     "remove-cell"
    ]
   },
   "outputs": [],
   "source": [
    "# If 1000 samples take too long, you can reduce this number.\n",
    "# We override this number here for our smoke tests.\n",
    "num_samples = 10"
   ]
  },
  {
   "cell_type": "markdown",
   "id": "bcd4d81d",
   "metadata": {},
   "source": [
    "Finally, all that's left is running the experiment."
   ]
  },
  {
   "cell_type": "code",
   "execution_count": null,
   "id": "fd506370",
   "metadata": {},
   "outputs": [],
   "source": [
    "analysis = tune.run(\n",
    "    objective if not multi_obj else multi_objective,\n",
    "    search_alg=algo,\n",
    "    scheduler=scheduler if not multi_obj else None,\n",
    "    metric=\"mean_loss\" if not multi_obj else None,\n",
    "    mode=\"min\" if not multi_obj else None,\n",
    "    num_samples=num_samples,\n",
    "    config=search_space if not use_func else None\n",
    ")\n",
    "\n",
    "if not multi_obj:\n",
    "    print(\"Best hyperparameters found were: \", analysis.best_config)\n",
    "else:\n",
    "    print(\"Best hyperparameters for loss found were: \", analysis.get_best_config(\"loss\", \"min\"))\n",
    "    print(\"Best hyperparameters for gain found were: \", analysis.get_best_config(\"gain\", \"max\"))"
   ]
  },
  {
   "cell_type": "code",
   "execution_count": null,
   "id": "aaf23a26",
   "metadata": {
    "tags": [
     "remove-cell"
    ]
   },
   "outputs": [],
   "source": [
    "ray.shutdown()"
   ]
  }
 ],
 "metadata": {
  "kernelspec": {
   "display_name": "Python 3 (ipykernel)",
   "language": "python",
   "name": "python3"
  },
  "orphan": true
 },
 "nbformat": 4,
 "nbformat_minor": 5
}
