{
 "cells": [
  {
   "attachments": {},
   "cell_type": "markdown",
   "id": "58fc50bc",
   "metadata": {},
   "source": [
    "# Running Tune experiments with HyperOpt\n",
    "\n",
    "<a id=\"try-anyscale-quickstart-ray-tune-hyperopt_example\" href=\"https://www.anyscale.com/ray-on-anyscale?utm_source=ray_docs&utm_medium=docs&utm_campaign=ray-tune-hyperopt_example\">\n",
    "    <img src=\"../../_static/img/run-on-anyscale.svg\" alt=\"try-anyscale-quickstart\">\n",
    "</a>\n",
    "<br></br>\n",
    "\n",
    "In this tutorial we introduce HyperOpt, while running a simple Ray Tune experiment. Tune’s Search Algorithms integrate with HyperOpt and, as a result, allow you to seamlessly scale up a Hyperopt optimization process - without sacrificing performance.\n",
    "\n",
    "HyperOpt provides gradient/derivative-free optimization able to handle noise over the objective landscape, including evolutionary, bandit, and Bayesian optimization algorithms. HyperOpt internally supports search spaces which are continuous, discrete or a mixture of thereof. It also provides a library of functions on which to test the optimization algorithms and compare with other benchmarks.\n",
    "\n",
    "In this example we minimize a simple objective to briefly demonstrate the usage of HyperOpt with Ray Tune via `HyperOptSearch`. It's useful to keep in mind that despite the emphasis on machine learning experiments, Ray Tune optimizes any implicit or explicit objective. Here we assume `hyperopt==0.2.5` library is installed. To learn more, please refer to [HyperOpt website](http://hyperopt.github.io/hyperopt).\n",
    "\n",
    "We include a important example on conditional search spaces (stringing together relationships among hyperparameters)."
   ]
  },
  {
   "attachments": {},
   "cell_type": "markdown",
   "id": "e4586d28",
   "metadata": {},
   "source": [
    "Background information:\n",
    "- [HyperOpt website](http://hyperopt.github.io/hyperopt)\n",
    "\n",
    "Necessary requirements:\n",
    "- `pip install \"ray[tune]\" hyperopt==0.2.5`"
   ]
  },
  {
   "cell_type": "code",
   "execution_count": 1,
   "id": "6567f2dc",
   "metadata": {
    "tags": [
     "hide-cell"
    ]
   },
   "outputs": [
    {
     "name": "stdout",
     "output_type": "stream",
     "text": [
      "Requirement already satisfied: hyperopt==0.2.5 in /opt/miniconda3/envs/hyperopt_example/lib/python3.11/site-packages (0.2.5)\n",
      "Requirement already satisfied: numpy in /opt/miniconda3/envs/hyperopt_example/lib/python3.11/site-packages (from hyperopt==0.2.5) (2.2.3)\n",
      "Requirement already satisfied: scipy in /opt/miniconda3/envs/hyperopt_example/lib/python3.11/site-packages (from hyperopt==0.2.5) (1.15.2)\n",
      "Requirement already satisfied: six in /opt/miniconda3/envs/hyperopt_example/lib/python3.11/site-packages (from hyperopt==0.2.5) (1.17.0)\n",
      "Requirement already satisfied: networkx>=2.2 in /opt/miniconda3/envs/hyperopt_example/lib/python3.11/site-packages (from hyperopt==0.2.5) (3.4.2)\n",
      "Requirement already satisfied: future in /opt/miniconda3/envs/hyperopt_example/lib/python3.11/site-packages (from hyperopt==0.2.5) (1.0.0)\n",
      "Requirement already satisfied: tqdm in /opt/miniconda3/envs/hyperopt_example/lib/python3.11/site-packages (from hyperopt==0.2.5) (4.67.1)\n",
      "Requirement already satisfied: cloudpickle in /opt/miniconda3/envs/hyperopt_example/lib/python3.11/site-packages (from hyperopt==0.2.5) (3.1.1)\n"
     ]
    }
   ],
   "source": [
    "# install in a hidden cell\n",
    "# !pip install \"ray[tune]\"\n",
    "!pip install hyperopt==0.2.5"
   ]
  },
  {
   "attachments": {},
   "cell_type": "markdown",
   "id": "b8e9e0cd",
   "metadata": {},
   "source": [
    "Click below to see all the imports we need for this example."
   ]
  },
  {
   "cell_type": "code",
   "execution_count": 2,
   "id": "6592315e",
   "metadata": {
    "tags": [
     "hide-input",
     "hide-output"
    ]
   },
   "outputs": [],
   "source": [
    "import time\n",
    "\n",
    "import ray\n",
    "from ray import tune\n",
    "from ray.tune.search import ConcurrencyLimiter\n",
    "from ray.tune.search.hyperopt import HyperOptSearch\n",
    "from hyperopt import hp"
   ]
  },
  {
   "attachments": {},
   "cell_type": "markdown",
   "id": "d4b6d1d5",
   "metadata": {},
   "source": [
    "Let's start by defining a simple evaluation function.\n",
    "We artificially sleep for a bit (`0.1` seconds) to simulate a long-running ML experiment.\n",
    "This setup assumes that we're running multiple `step`s of an experiment and try to tune two hyperparameters,\n",
    "namely `width` and `height`."
   ]
  },
  {
   "cell_type": "code",
   "execution_count": 3,
   "id": "12d4efc8",
   "metadata": {},
   "outputs": [],
   "source": [
    "def evaluate(step, width, height):\n",
    "    time.sleep(0.1)\n",
    "    return (0.1 + width * step / 100) ** (-1) + height * 0.1"
   ]
  },
  {
   "attachments": {},
   "cell_type": "markdown",
   "id": "4f4f5aa2",
   "metadata": {},
   "source": [
    "Next, our ``objective`` function takes a Tune ``config``, evaluates the `score` of your experiment in a training loop,\n",
    "and uses `tune.report` to report the `score` back to Tune."
   ]
  },
  {
   "cell_type": "code",
   "execution_count": 4,
   "id": "c9818009",
   "metadata": {},
   "outputs": [],
   "source": [
    "def objective(config):\n",
    "    for step in range(config[\"steps\"]):\n",
    "        score = evaluate(step, config[\"width\"], config[\"height\"])\n",
    "        tune.report({\"iterations\": step, \"mean_loss\": score})"
   ]
  },
  {
   "cell_type": "code",
   "execution_count": 5,
   "id": "33eddcb9",
   "metadata": {},
   "outputs": [
    {
     "data": {
      "application/vnd.jupyter.widget-view+json": {
       "model_id": "59f8090dd37c473cb24b97b6b28d109b",
       "version_major": 2,
       "version_minor": 0
      },
      "text/html": [
       "<div class=\"lm-Widget p-Widget lm-Panel p-Panel jp-Cell-outputWrapper\">\n",
       "    <div style=\"margin-left: 50px;display: flex;flex-direction: row;align-items: center\">\n",
       "        <div class=\"jp-RenderedHTMLCommon\" style=\"display: flex; flex-direction: row;\">\n",
       "  <svg viewBox=\"0 0 567 224\" fill=\"none\" xmlns=\"http://www.w3.org/2000/svg\" style=\"height: 3em;\">\n",
       "    <g clip-path=\"url(#clip0_4338_178347)\">\n",
       "        <path d=\"M341.29 165.561H355.29L330.13 129.051C345.63 123.991 354.21 112.051 354.21 94.2307C354.21 71.3707 338.72 58.1807 311.88 58.1807H271V165.561H283.27V131.661H311.8C314.25 131.661 316.71 131.501 319.01 131.351L341.25 165.561H341.29ZM283.29 119.851V70.0007H311.82C331.3 70.0007 342.34 78.2907 342.34 94.5507C342.34 111.271 331.34 119.861 311.82 119.861L283.29 119.851ZM451.4 138.411L463.4 165.561H476.74L428.74 58.1807H416L367.83 165.561H380.83L392.83 138.411H451.4ZM446.19 126.601H398L422 72.1407L446.24 126.601H446.19ZM526.11 128.741L566.91 58.1807H554.35L519.99 114.181L485.17 58.1807H472.44L514.01 129.181V165.541H526.13V128.741H526.11Z\" fill=\"var(--jp-ui-font-color0)\"/>\n",
       "        <path d=\"M82.35 104.44C84.0187 97.8827 87.8248 92.0678 93.1671 87.9146C98.5094 83.7614 105.083 81.5067 111.85 81.5067C118.617 81.5067 125.191 83.7614 130.533 87.9146C135.875 92.0678 139.681 97.8827 141.35 104.44H163.75C164.476 101.562 165.622 98.8057 167.15 96.2605L127.45 56.5605C121.071 60.3522 113.526 61.6823 106.235 60.3005C98.9443 58.9187 92.4094 54.9203 87.8602 49.0574C83.3109 43.1946 81.0609 35.8714 81.5332 28.4656C82.0056 21.0599 85.1679 14.0819 90.4252 8.8446C95.6824 3.60726 102.672 0.471508 110.08 0.0272655C117.487 -0.416977 124.802 1.86091 130.647 6.4324C136.493 11.0039 140.467 17.5539 141.821 24.8501C143.175 32.1463 141.816 39.6859 138 46.0505L177.69 85.7505C182.31 82.9877 187.58 81.4995 192.962 81.4375C198.345 81.3755 203.648 82.742 208.33 85.3976C213.012 88.0532 216.907 91.9029 219.616 96.5544C222.326 101.206 223.753 106.492 223.753 111.875C223.753 117.258 222.326 122.545 219.616 127.197C216.907 131.848 213.012 135.698 208.33 138.353C203.648 141.009 198.345 142.375 192.962 142.313C187.58 142.251 182.31 140.763 177.69 138L138 177.7C141.808 184.071 143.155 191.614 141.79 198.91C140.424 206.205 136.44 212.75 130.585 217.313C124.731 221.875 117.412 224.141 110.004 223.683C102.596 223.226 95.6103 220.077 90.3621 214.828C85.1139 209.58 81.9647 202.595 81.5072 195.187C81.0497 187.779 83.3154 180.459 87.878 174.605C92.4405 168.751 98.9853 164.766 106.281 163.401C113.576 162.035 121.119 163.383 127.49 167.19L167.19 127.49C165.664 124.941 164.518 122.182 163.79 119.3H141.39C139.721 125.858 135.915 131.673 130.573 135.826C125.231 139.98 118.657 142.234 111.89 142.234C105.123 142.234 98.5494 139.98 93.2071 135.826C87.8648 131.673 84.0587 125.858 82.39 119.3H60C58.1878 126.495 53.8086 132.78 47.6863 136.971C41.5641 141.163 34.1211 142.972 26.7579 142.059C19.3947 141.146 12.6191 137.574 7.70605 132.014C2.79302 126.454 0.0813599 119.29 0.0813599 111.87C0.0813599 104.451 2.79302 97.2871 7.70605 91.7272C12.6191 86.1673 19.3947 82.5947 26.7579 81.6817C34.1211 80.7686 41.5641 82.5781 47.6863 86.7696C53.8086 90.9611 58.1878 97.2456 60 104.44H82.35ZM100.86 204.32C103.407 206.868 106.759 208.453 110.345 208.806C113.93 209.159 117.527 208.258 120.522 206.256C123.517 204.254 125.725 201.276 126.771 197.828C127.816 194.38 127.633 190.677 126.253 187.349C124.874 184.021 122.383 181.274 119.205 179.577C116.027 177.88 112.359 177.337 108.826 178.042C105.293 178.746 102.113 180.654 99.8291 183.44C97.5451 186.226 96.2979 189.718 96.3 193.32C96.2985 195.364 96.7006 197.388 97.4831 199.275C98.2656 201.163 99.4132 202.877 100.86 204.32ZM204.32 122.88C206.868 120.333 208.453 116.981 208.806 113.396C209.159 109.811 208.258 106.214 206.256 103.219C204.254 100.223 201.275 98.0151 197.827 96.97C194.38 95.9249 190.676 96.1077 187.348 97.4873C184.02 98.8669 181.274 101.358 179.577 104.536C177.879 107.714 177.337 111.382 178.041 114.915C178.746 118.448 180.653 121.627 183.439 123.911C186.226 126.195 189.717 127.443 193.32 127.44C195.364 127.443 197.388 127.042 199.275 126.259C201.163 125.476 202.878 124.328 204.32 122.88ZM122.88 19.4205C120.333 16.8729 116.981 15.2876 113.395 14.9347C109.81 14.5817 106.213 15.483 103.218 17.4849C100.223 19.4868 98.0146 22.4654 96.9696 25.9131C95.9245 29.3608 96.1073 33.0642 97.4869 36.3922C98.8665 39.7202 101.358 42.4668 104.535 44.1639C107.713 45.861 111.381 46.4036 114.914 45.6992C118.447 44.9949 121.627 43.0871 123.911 40.301C126.195 37.515 127.442 34.0231 127.44 30.4205C127.44 28.3772 127.038 26.3539 126.255 24.4664C125.473 22.5788 124.326 20.8642 122.88 19.4205ZM19.42 100.86C16.8725 103.408 15.2872 106.76 14.9342 110.345C14.5813 113.93 15.4826 117.527 17.4844 120.522C19.4863 123.518 22.4649 125.726 25.9127 126.771C29.3604 127.816 33.0638 127.633 36.3918 126.254C39.7198 124.874 42.4664 122.383 44.1635 119.205C45.8606 116.027 46.4032 112.359 45.6988 108.826C44.9944 105.293 43.0866 102.114 40.3006 99.8296C37.5145 97.5455 34.0227 96.2983 30.42 96.3005C26.2938 96.3018 22.337 97.9421 19.42 100.86ZM100.86 100.86C98.3125 103.408 96.7272 106.76 96.3742 110.345C96.0213 113.93 96.9226 117.527 98.9244 120.522C100.926 123.518 103.905 125.726 107.353 126.771C110.8 127.816 114.504 127.633 117.832 126.254C121.16 124.874 123.906 122.383 125.604 119.205C127.301 116.027 127.843 112.359 127.139 108.826C126.434 105.293 124.527 102.114 121.741 99.8296C118.955 97.5455 115.463 96.2983 111.86 96.3005C109.817 96.299 107.793 96.701 105.905 97.4835C104.018 98.2661 102.303 99.4136 100.86 100.86Z\" fill=\"#00AEEF\"/>\n",
       "    </g>\n",
       "    <defs>\n",
       "        <clipPath id=\"clip0_4338_178347\">\n",
       "            <rect width=\"566.93\" height=\"223.75\" fill=\"white\"/>\n",
       "        </clipPath>\n",
       "    </defs>\n",
       "  </svg>\n",
       "</div>\n",
       "\n",
       "        <table class=\"jp-RenderedHTMLCommon\" style=\"border-collapse: collapse;color: var(--jp-ui-font-color1);font-size: var(--jp-ui-font-size1);\">\n",
       "    <tr>\n",
       "        <td style=\"text-align: left\"><b>Python version:</b></td>\n",
       "        <td style=\"text-align: left\"><b>3.11.11</b></td>\n",
       "    </tr>\n",
       "    <tr>\n",
       "        <td style=\"text-align: left\"><b>Ray version:</b></td>\n",
       "        <td style=\"text-align: left\"><b>2.42.1</b></td>\n",
       "    </tr>\n",
       "    \n",
       "</table>\n",
       "\n",
       "    </div>\n",
       "</div>\n"
      ],
      "text/plain": [
       "RayContext(dashboard_url='', python_version='3.11.11', ray_version='2.42.1', ray_commit='c2e38f7b75be223c0c033986472daada8622d64f')"
      ]
     },
     "execution_count": 5,
     "metadata": {},
     "output_type": "execute_result"
    }
   ],
   "source": [
    "ray.init(configure_logging=False)"
   ]
  },
  {
   "attachments": {},
   "cell_type": "markdown",
   "id": "5be35d5e",
   "metadata": {},
   "source": [
    "While defining the search algorithm, we may choose to provide an initial set of hyperparameters that we believe are especially promising or informative, and\n",
    "pass this information as a helpful starting point for the `HyperOptSearch` object.\n",
    "\n",
    "We also set the maximum concurrent trials to `4` with a `ConcurrencyLimiter`."
   ]
  },
  {
   "cell_type": "code",
   "execution_count": 6,
   "id": "d4615bed",
   "metadata": {
    "lines_to_next_cell": 0
   },
   "outputs": [],
   "source": [
    "initial_params = [\n",
    "    {\"width\": 1, \"height\": 2, \"activation\": \"relu\"},\n",
    "    {\"width\": 4, \"height\": 2, \"activation\": \"tanh\"},\n",
    "]\n",
    "algo = HyperOptSearch(points_to_evaluate=initial_params)\n",
    "algo = ConcurrencyLimiter(algo, max_concurrent=4)"
   ]
  },
  {
   "attachments": {},
   "cell_type": "markdown",
   "id": "2a51e7c1",
   "metadata": {},
   "source": [
    "The number of samples is the number of hyperparameter combinations that will be tried out. This Tune run is set to `1000` samples.\n",
    "(you can decrease this if it takes too long on your machine)."
   ]
  },
  {
   "cell_type": "code",
   "execution_count": 7,
   "id": "2dbb2be0",
   "metadata": {},
   "outputs": [],
   "source": [
    "num_samples = 1000"
   ]
  },
  {
   "cell_type": "code",
   "execution_count": 8,
   "id": "950558ed",
   "metadata": {
    "tags": [
     "remove-cell"
    ]
   },
   "outputs": [],
   "source": [
    "# If 1000 samples take too long, you can reduce this number.\n",
    "# We override this number here for our smoke tests.\n",
    "num_samples = 10"
   ]
  },
  {
   "attachments": {},
   "cell_type": "markdown",
   "id": "6e3629cb",
   "metadata": {},
   "source": [
    "Next we define a search space. The critical assumption is that the optimal hyperparamters live within this space. Yet, if the space is very large, then those hyperparameters may be difficult to find in a short amount of time."
   ]
  },
  {
   "cell_type": "code",
   "execution_count": 9,
   "id": "65189946",
   "metadata": {},
   "outputs": [],
   "source": [
    "search_config = {\n",
    "    \"steps\": 100,\n",
    "    \"width\": tune.uniform(0, 20),\n",
    "    \"height\": tune.uniform(-100, 100),\n",
    "    \"activation\": tune.choice([\"relu\", \"tanh\"])\n",
    "}"
   ]
  },
  {
   "attachments": {},
   "cell_type": "markdown",
   "id": "1b94c93b",
   "metadata": {},
   "source": [
    "Finally, we run the experiment to `\"min\"`imize the \"mean_loss\" of the `objective` by searching `search_config` via `algo`, `num_samples` times. This previous sentence is fully characterizes the search problem we aim to solve. With this in mind, notice how efficient it is to execute `tuner.fit()`."
   ]
  },
  {
   "cell_type": "code",
   "execution_count": 10,
   "id": "9a99a3a7",
   "metadata": {},
   "outputs": [
    {
     "data": {
      "text/html": [
       "<div class=\"tuneStatus\">\n",
       "  <div style=\"display: flex;flex-direction: row\">\n",
       "    <div style=\"display: flex;flex-direction: column;\">\n",
       "      <h3>Tune Status</h3>\n",
       "      <table>\n",
       "<tbody>\n",
       "<tr><td>Current time:</td><td>2025-02-18 13:14:59</td></tr>\n",
       "<tr><td>Running for: </td><td>00:00:36.03        </td></tr>\n",
       "<tr><td>Memory:      </td><td>22.1/36.0 GiB      </td></tr>\n",
       "</tbody>\n",
       "</table>\n",
       "    </div>\n",
       "    <div class=\"vDivider\"></div>\n",
       "    <div class=\"systemInfo\">\n",
       "      <h3>System Info</h3>\n",
       "      Using FIFO scheduling algorithm.<br>Logical resource usage: 1.0/12 CPUs, 0/0 GPUs\n",
       "    </div>\n",
       "    \n",
       "  </div>\n",
       "  <div class=\"hDivider\"></div>\n",
       "  <div class=\"trialStatus\">\n",
       "    <h3>Trial Status</h3>\n",
       "    <table>\n",
       "<thead>\n",
       "<tr><th>Trial name        </th><th>status    </th><th>loc            </th><th>activation  </th><th style=\"text-align: right;\">  height</th><th style=\"text-align: right;\">  steps</th><th style=\"text-align: right;\">    width</th><th style=\"text-align: right;\">     loss</th><th style=\"text-align: right;\">  iter</th><th style=\"text-align: right;\">  total time (s)</th><th style=\"text-align: right;\">  iterations</th></tr>\n",
       "</thead>\n",
       "<tbody>\n",
       "<tr><td>objective_5b05c00a</td><td>TERMINATED</td><td>127.0.0.1:50205</td><td>relu        </td><td style=\"text-align: right;\">  2     </td><td style=\"text-align: right;\">    100</td><td style=\"text-align: right;\"> 1       </td><td style=\"text-align: right;\"> 1.11743 </td><td style=\"text-align: right;\">   100</td><td style=\"text-align: right;\">         10.335 </td><td style=\"text-align: right;\">          99</td></tr>\n",
       "<tr><td>objective_b813f49d</td><td>TERMINATED</td><td>127.0.0.1:50207</td><td>tanh        </td><td style=\"text-align: right;\">  2     </td><td style=\"text-align: right;\">    100</td><td style=\"text-align: right;\"> 4       </td><td style=\"text-align: right;\"> 0.446305</td><td style=\"text-align: right;\">   100</td><td style=\"text-align: right;\">         10.3299</td><td style=\"text-align: right;\">          99</td></tr>\n",
       "<tr><td>objective_6dadd2bd</td><td>TERMINATED</td><td>127.0.0.1:50212</td><td>tanh        </td><td style=\"text-align: right;\">-40.9318</td><td style=\"text-align: right;\">    100</td><td style=\"text-align: right;\"> 6.20615 </td><td style=\"text-align: right;\">-3.93303 </td><td style=\"text-align: right;\">   100</td><td style=\"text-align: right;\">         10.3213</td><td style=\"text-align: right;\">          99</td></tr>\n",
       "<tr><td>objective_9faffc0f</td><td>TERMINATED</td><td>127.0.0.1:50217</td><td>tanh        </td><td style=\"text-align: right;\"> 91.9688</td><td style=\"text-align: right;\">    100</td><td style=\"text-align: right;\"> 9.25147 </td><td style=\"text-align: right;\"> 9.30488 </td><td style=\"text-align: right;\">   100</td><td style=\"text-align: right;\">         10.353 </td><td style=\"text-align: right;\">          99</td></tr>\n",
       "<tr><td>objective_7834e74c</td><td>TERMINATED</td><td>127.0.0.1:50266</td><td>tanh        </td><td style=\"text-align: right;\">-17.9521</td><td style=\"text-align: right;\">    100</td><td style=\"text-align: right;\">11.436   </td><td style=\"text-align: right;\">-1.70766 </td><td style=\"text-align: right;\">   100</td><td style=\"text-align: right;\">         10.3753</td><td style=\"text-align: right;\">          99</td></tr>\n",
       "<tr><td>objective_741253c7</td><td>TERMINATED</td><td>127.0.0.1:50271</td><td>tanh        </td><td style=\"text-align: right;\"> 58.1279</td><td style=\"text-align: right;\">    100</td><td style=\"text-align: right;\"> 0.737879</td><td style=\"text-align: right;\"> 7.01689 </td><td style=\"text-align: right;\">   100</td><td style=\"text-align: right;\">         10.3565</td><td style=\"text-align: right;\">          99</td></tr>\n",
       "<tr><td>objective_39682bcf</td><td>TERMINATED</td><td>127.0.0.1:50272</td><td>tanh        </td><td style=\"text-align: right;\">-31.2589</td><td style=\"text-align: right;\">    100</td><td style=\"text-align: right;\"> 4.89265 </td><td style=\"text-align: right;\">-2.92361 </td><td style=\"text-align: right;\">   100</td><td style=\"text-align: right;\">         10.3225</td><td style=\"text-align: right;\">          99</td></tr>\n",
       "<tr><td>objective_bfc7e150</td><td>TERMINATED</td><td>127.0.0.1:50274</td><td>tanh        </td><td style=\"text-align: right;\">-14.7877</td><td style=\"text-align: right;\">    100</td><td style=\"text-align: right;\"> 7.36477 </td><td style=\"text-align: right;\">-1.34347 </td><td style=\"text-align: right;\">   100</td><td style=\"text-align: right;\">         10.3744</td><td style=\"text-align: right;\">          99</td></tr>\n",
       "<tr><td>objective_e1f1a193</td><td>TERMINATED</td><td>127.0.0.1:50314</td><td>tanh        </td><td style=\"text-align: right;\"> 50.9579</td><td style=\"text-align: right;\">    100</td><td style=\"text-align: right;\">17.4499  </td><td style=\"text-align: right;\"> 5.15334 </td><td style=\"text-align: right;\">   100</td><td style=\"text-align: right;\">         10.3675</td><td style=\"text-align: right;\">          99</td></tr>\n",
       "<tr><td>objective_1192dd4e</td><td>TERMINATED</td><td>127.0.0.1:50316</td><td>tanh        </td><td style=\"text-align: right;\"> 66.5306</td><td style=\"text-align: right;\">    100</td><td style=\"text-align: right;\">16.9549  </td><td style=\"text-align: right;\"> 6.71228 </td><td style=\"text-align: right;\">   100</td><td style=\"text-align: right;\">         10.3478</td><td style=\"text-align: right;\">          99</td></tr>\n",
       "</tbody>\n",
       "</table>\n",
       "  </div>\n",
       "</div>\n",
       "<style>\n",
       ".tuneStatus {\n",
       "  color: var(--jp-ui-font-color1);\n",
       "}\n",
       ".tuneStatus .systemInfo {\n",
       "  display: flex;\n",
       "  flex-direction: column;\n",
       "}\n",
       ".tuneStatus td {\n",
       "  white-space: nowrap;\n",
       "}\n",
       ".tuneStatus .trialStatus {\n",
       "  display: flex;\n",
       "  flex-direction: column;\n",
       "}\n",
       ".tuneStatus h3 {\n",
       "  font-weight: bold;\n",
       "}\n",
       ".tuneStatus .hDivider {\n",
       "  border-bottom-width: var(--jp-border-width);\n",
       "  border-bottom-color: var(--jp-border-color0);\n",
       "  border-bottom-style: solid;\n",
       "}\n",
       ".tuneStatus .vDivider {\n",
       "  border-left-width: var(--jp-border-width);\n",
       "  border-left-color: var(--jp-border-color0);\n",
       "  border-left-style: solid;\n",
       "  margin: 0.5em 1em 0.5em 1em;\n",
       "}\n",
       "</style>\n"
      ],
      "text/plain": [
       "<IPython.core.display.HTML object>"
      ]
     },
     "metadata": {},
     "output_type": "display_data"
    }
   ],
   "source": [
    "tuner = tune.Tuner(\n",
    "    objective,\n",
    "    tune_config=tune.TuneConfig(\n",
    "        metric=\"mean_loss\",\n",
    "        mode=\"min\",\n",
    "        search_alg=algo,\n",
    "        num_samples=num_samples,\n",
    "    ),\n",
    "    param_space=search_config,\n",
    ")\n",
    "results = tuner.fit()"
   ]
  },
  {
   "attachments": {},
   "cell_type": "markdown",
   "id": "49be6f01",
   "metadata": {},
   "source": [
    "Here are the hyperparamters found to minimize the mean loss of the defined objective."
   ]
  },
  {
   "cell_type": "code",
   "execution_count": 11,
   "id": "7036798c",
   "metadata": {},
   "outputs": [
    {
     "name": "stdout",
     "output_type": "stream",
     "text": [
      "Best hyperparameters found were:  {'steps': 100, 'width': 6.206149011253133, 'height': -40.93182668460948, 'activation': 'tanh'}\n"
     ]
    }
   ],
   "source": [
    "print(\"Best hyperparameters found were: \", results.get_best_result().config)"
   ]
  },
  {
   "attachments": {},
   "cell_type": "markdown",
   "id": "504e9d2a",
   "metadata": {},
   "source": [
    "## Conditional search spaces\n",
    "\n",
    "Sometimes we may want to build a more complicated search space that has conditional dependencies on other hyperparameters. In this case, we pass a nested dictionary to `objective_two`, which has been slightly adjusted from `objective` to deal with the conditional search space."
   ]
  },
  {
   "cell_type": "code",
   "execution_count": 12,
   "id": "2f7b5449",
   "metadata": {},
   "outputs": [],
   "source": [
    "def evaluation_fn(step, width, height, mult=1):\n",
    "    return (0.1 + width * step / 100) ** (-1) + height * 0.1 * mult"
   ]
  },
  {
   "cell_type": "code",
   "execution_count": 13,
   "id": "4b83b81c",
   "metadata": {},
   "outputs": [],
   "source": [
    "def objective_two(config):\n",
    "    width, height = config[\"width\"], config[\"height\"]\n",
    "    sub_dict = config[\"activation\"]\n",
    "    mult = sub_dict.get(\"mult\", 1)\n",
    "    \n",
    "    for step in range(config[\"steps\"]):\n",
    "        intermediate_score = evaluation_fn(step, width, height, mult)\n",
    "        tune.report({\"iterations\": step, \"mean_loss\": intermediate_score})\n",
    "        time.sleep(0.1)"
   ]
  },
  {
   "cell_type": "code",
   "execution_count": 14,
   "id": "75cea99e",
   "metadata": {},
   "outputs": [],
   "source": [
    "conditional_space = {\n",
    "    \"activation\": hp.choice(\n",
    "        \"activation\",\n",
    "        [\n",
    "            {\"activation\": \"relu\", \"mult\": hp.uniform(\"mult\", 1, 2)},\n",
    "            {\"activation\": \"tanh\"},\n",
    "        ],\n",
    "    ),\n",
    "    \"width\": hp.uniform(\"width\", 0, 20),\n",
    "    \"height\": hp.uniform(\"height\", -100, 100),\n",
    "    \"steps\": 100,\n",
    "}"
   ]
  },
  {
   "attachments": {},
   "cell_type": "markdown",
   "id": "7df282c1",
   "metadata": {},
   "source": [
    "Now we the define the search algorithm built from `HyperOptSearch` constrained by `ConcurrencyLimiter`. When the hyperparameter search space is conditional, we pass it (`conditional_space`) into `HyperOptSearch`."
   ]
  },
  {
   "cell_type": "code",
   "execution_count": 15,
   "id": "ea2c71a6",
   "metadata": {},
   "outputs": [],
   "source": [
    "algo = HyperOptSearch(space=conditional_space, metric=\"mean_loss\", mode=\"min\")\n",
    "algo = ConcurrencyLimiter(algo, max_concurrent=4)"
   ]
  },
  {
   "attachments": {},
   "cell_type": "markdown",
   "id": "630f84ab",
   "metadata": {},
   "source": [
    "Now we run the experiment, this time with an empty `config` because we instead provided `space` to the `HyperOptSearch` `search_alg`."
   ]
  },
  {
   "cell_type": "code",
   "execution_count": 16,
   "id": "14111e9e",
   "metadata": {},
   "outputs": [
    {
     "data": {
      "text/html": [
       "<div class=\"tuneStatus\">\n",
       "  <div style=\"display: flex;flex-direction: row\">\n",
       "    <div style=\"display: flex;flex-direction: column;\">\n",
       "      <h3>Tune Status</h3>\n",
       "      <table>\n",
       "<tbody>\n",
       "<tr><td>Current time:</td><td>2025-02-18 13:15:34</td></tr>\n",
       "<tr><td>Running for: </td><td>00:00:34.71        </td></tr>\n",
       "<tr><td>Memory:      </td><td>22.9/36.0 GiB      </td></tr>\n",
       "</tbody>\n",
       "</table>\n",
       "    </div>\n",
       "    <div class=\"vDivider\"></div>\n",
       "    <div class=\"systemInfo\">\n",
       "      <h3>System Info</h3>\n",
       "      Using FIFO scheduling algorithm.<br>Logical resource usage: 1.0/12 CPUs, 0/0 GPUs\n",
       "    </div>\n",
       "    \n",
       "  </div>\n",
       "  <div class=\"hDivider\"></div>\n",
       "  <div class=\"trialStatus\">\n",
       "    <h3>Trial Status</h3>\n",
       "    <table>\n",
       "<thead>\n",
       "<tr><th>Trial name            </th><th>status    </th><th>loc            </th><th>activation/activatio\n",
       "n     </th><th style=\"text-align: right;\">  activation/mult</th><th style=\"text-align: right;\">   height</th><th style=\"text-align: right;\">  steps</th><th style=\"text-align: right;\">    width</th><th style=\"text-align: right;\">      loss</th><th style=\"text-align: right;\">  iter</th><th style=\"text-align: right;\">  total time (s)</th><th style=\"text-align: right;\">  iterations</th></tr>\n",
       "</thead>\n",
       "<tbody>\n",
       "<tr><td>objective_two_13de5867</td><td>TERMINATED</td><td>127.0.0.1:50350</td><td>tanh</td><td style=\"text-align: right;\">                 </td><td style=\"text-align: right;\">-35.0329 </td><td style=\"text-align: right;\">    100</td><td style=\"text-align: right;\">13.2254  </td><td style=\"text-align: right;\"> -3.42749 </td><td style=\"text-align: right;\">   100</td><td style=\"text-align: right;\">         10.2102</td><td style=\"text-align: right;\">          99</td></tr>\n",
       "<tr><td>objective_two_3100f5ee</td><td>TERMINATED</td><td>127.0.0.1:50355</td><td>relu</td><td style=\"text-align: right;\">          1.44584</td><td style=\"text-align: right;\"> 76.2581 </td><td style=\"text-align: right;\">    100</td><td style=\"text-align: right;\"> 0.123165</td><td style=\"text-align: right;\"> 15.5316  </td><td style=\"text-align: right;\">   100</td><td style=\"text-align: right;\">         10.2683</td><td style=\"text-align: right;\">          99</td></tr>\n",
       "<tr><td>objective_two_6b4044aa</td><td>TERMINATED</td><td>127.0.0.1:50356</td><td>relu</td><td style=\"text-align: right;\">          1.67475</td><td style=\"text-align: right;\"> 57.9612 </td><td style=\"text-align: right;\">    100</td><td style=\"text-align: right;\">19.4794  </td><td style=\"text-align: right;\">  9.75866 </td><td style=\"text-align: right;\">   100</td><td style=\"text-align: right;\">         10.2724</td><td style=\"text-align: right;\">          99</td></tr>\n",
       "<tr><td>objective_two_4aa1269b</td><td>TERMINATED</td><td>127.0.0.1:50357</td><td>tanh</td><td style=\"text-align: right;\">                 </td><td style=\"text-align: right;\"> -9.95686</td><td style=\"text-align: right;\">    100</td><td style=\"text-align: right;\">12.9749  </td><td style=\"text-align: right;\"> -0.918437</td><td style=\"text-align: right;\">   100</td><td style=\"text-align: right;\">         10.2373</td><td style=\"text-align: right;\">          99</td></tr>\n",
       "<tr><td>objective_two_d8c42c9f</td><td>TERMINATED</td><td>127.0.0.1:50402</td><td>tanh</td><td style=\"text-align: right;\">                 </td><td style=\"text-align: right;\">-96.6184 </td><td style=\"text-align: right;\">    100</td><td style=\"text-align: right;\"> 8.03869 </td><td style=\"text-align: right;\"> -9.53774 </td><td style=\"text-align: right;\">   100</td><td style=\"text-align: right;\">         10.2407</td><td style=\"text-align: right;\">          99</td></tr>\n",
       "<tr><td>objective_two_de956d10</td><td>TERMINATED</td><td>127.0.0.1:50404</td><td>relu</td><td style=\"text-align: right;\">          1.06986</td><td style=\"text-align: right;\">  9.64996</td><td style=\"text-align: right;\">    100</td><td style=\"text-align: right;\"> 0.672962</td><td style=\"text-align: right;\">  2.3375  </td><td style=\"text-align: right;\">   100</td><td style=\"text-align: right;\">         10.2427</td><td style=\"text-align: right;\">          99</td></tr>\n",
       "<tr><td>objective_two_0e2b2751</td><td>TERMINATED</td><td>127.0.0.1:50413</td><td>tanh</td><td style=\"text-align: right;\">                 </td><td style=\"text-align: right;\">-82.9292 </td><td style=\"text-align: right;\">    100</td><td style=\"text-align: right;\">17.4889  </td><td style=\"text-align: right;\"> -8.2355  </td><td style=\"text-align: right;\">   100</td><td style=\"text-align: right;\">         10.293 </td><td style=\"text-align: right;\">          99</td></tr>\n",
       "<tr><td>objective_two_dad93a03</td><td>TERMINATED</td><td>127.0.0.1:50415</td><td>relu</td><td style=\"text-align: right;\">          1.85364</td><td style=\"text-align: right;\">-63.6309 </td><td style=\"text-align: right;\">    100</td><td style=\"text-align: right;\">16.6414  </td><td style=\"text-align: right;\">-11.7345  </td><td style=\"text-align: right;\">   100</td><td style=\"text-align: right;\">         10.285 </td><td style=\"text-align: right;\">          99</td></tr>\n",
       "<tr><td>objective_two_e472727a</td><td>TERMINATED</td><td>127.0.0.1:50442</td><td>relu</td><td style=\"text-align: right;\">          1.2359 </td><td style=\"text-align: right;\">-75.2253 </td><td style=\"text-align: right;\">    100</td><td style=\"text-align: right;\"> 7.49782 </td><td style=\"text-align: right;\"> -9.16415 </td><td style=\"text-align: right;\">   100</td><td style=\"text-align: right;\">         10.2506</td><td style=\"text-align: right;\">          99</td></tr>\n",
       "<tr><td>objective_two_5d1eacff</td><td>TERMINATED</td><td>127.0.0.1:50449</td><td>tanh</td><td style=\"text-align: right;\">                 </td><td style=\"text-align: right;\">-20.158  </td><td style=\"text-align: right;\">    100</td><td style=\"text-align: right;\"> 6.18643 </td><td style=\"text-align: right;\"> -1.85514 </td><td style=\"text-align: right;\">   100</td><td style=\"text-align: right;\">         10.2566</td><td style=\"text-align: right;\">          99</td></tr>\n",
       "</tbody>\n",
       "</table>\n",
       "  </div>\n",
       "</div>\n",
       "<style>\n",
       ".tuneStatus {\n",
       "  color: var(--jp-ui-font-color1);\n",
       "}\n",
       ".tuneStatus .systemInfo {\n",
       "  display: flex;\n",
       "  flex-direction: column;\n",
       "}\n",
       ".tuneStatus td {\n",
       "  white-space: nowrap;\n",
       "}\n",
       ".tuneStatus .trialStatus {\n",
       "  display: flex;\n",
       "  flex-direction: column;\n",
       "}\n",
       ".tuneStatus h3 {\n",
       "  font-weight: bold;\n",
       "}\n",
       ".tuneStatus .hDivider {\n",
       "  border-bottom-width: var(--jp-border-width);\n",
       "  border-bottom-color: var(--jp-border-color0);\n",
       "  border-bottom-style: solid;\n",
       "}\n",
       ".tuneStatus .vDivider {\n",
       "  border-left-width: var(--jp-border-width);\n",
       "  border-left-color: var(--jp-border-color0);\n",
       "  border-left-style: solid;\n",
       "  margin: 0.5em 1em 0.5em 1em;\n",
       "}\n",
       "</style>\n"
      ],
      "text/plain": [
       "<IPython.core.display.HTML object>"
      ]
     },
     "metadata": {},
     "output_type": "display_data"
    }
   ],
   "source": [
    "tuner = tune.Tuner(\n",
    "    objective_two,\n",
    "    tune_config=tune.TuneConfig(\n",
    "        metric=\"mean_loss\",\n",
    "        mode=\"min\",\n",
    "        search_alg=algo,\n",
    "        num_samples=num_samples,\n",
    "    ),\n",
    ")\n",
    "results = tuner.fit()"
   ]
  },
  {
   "attachments": {},
   "cell_type": "markdown",
   "id": "e6172afa",
   "metadata": {},
   "source": [
    "Finally, we again show the hyperparameters that minimize the mean loss defined by the score of the objective function above. "
   ]
  },
  {
   "cell_type": "code",
   "execution_count": 17,
   "id": "03c3fc49",
   "metadata": {},
   "outputs": [
    {
     "name": "stdout",
     "output_type": "stream",
     "text": [
      "Best hyperparameters found were:  {'activation': {'activation': 'relu', 'mult': 1.8536380640438768}, 'height': -63.630920754630125, 'steps': 100, 'width': 16.641403933591928}\n"
     ]
    }
   ],
   "source": [
    "print(\"Best hyperparameters found were: \", results.get_best_result().config)"
   ]
  },
  {
   "cell_type": "code",
   "execution_count": 18,
   "id": "2f7b72d3",
   "metadata": {
    "tags": [
     "remove-cell"
    ]
   },
   "outputs": [],
   "source": [
    "ray.shutdown()"
   ]
  }
 ],
 "metadata": {
  "kernelspec": {
   "display_name": "hyperopt_example",
   "language": "python",
   "name": "python3"
  },
  "language_info": {
   "codemirror_mode": {
    "name": "ipython",
    "version": 3
   },
   "file_extension": ".py",
   "mimetype": "text/x-python",
   "name": "python",
   "nbconvert_exporter": "python",
   "pygments_lexer": "ipython3",
   "version": "3.11.11"
  },
  "orphan": true
 },
 "nbformat": 4,
 "nbformat_minor": 5
}
