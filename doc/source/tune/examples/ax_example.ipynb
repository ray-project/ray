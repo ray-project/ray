{
 "cells": [
  {
   "cell_type": "markdown",
   "id": "d0325aaf",
   "metadata": {},
   "source": [
    "# Running Tune experiments with AxSearch\n",
    "\n",
    "This example demonstrates the usage of AxSearch with Ray Tune via `AxSearch`.\n",
    "\n",
    "It also also shows that a scheduler can be used with `AxSearch`, e.g. `AsyncHyperBandScheduler`.\n",
    "\n",
    "Background information:\n",
    "- [Ax website](https://ax.dev/)\n",
    "\n",
    "Necessary requirements:\n",
    "- `pip install ray[tune]`\n",
    "- `pip install ax-platform==0.1.9` for python version < '3.7'\n",
    "- `pip install ax-platform==0.2.4` for python version >= '3.7'"
   ]
  },
  {
   "cell_type": "code",
   "execution_count": null,
   "id": "1c21dff5",
   "metadata": {
    "tags": [
     "remove-cell"
    ]
   },
   "outputs": [],
   "source": [
    "# !pip install ray[tune]\n",
    "!pip install ax-platform==0.2.4"
   ]
  },
  {
   "cell_type": "markdown",
   "id": "8341e4c1",
   "metadata": {},
   "source": [
    "Click below to see all the imports we need for this example.\n",
    "You can also launch directly into a Binder instance to run this notebook yourself.\n",
    "Just click on the rocket symbol at the top of the navigation."
   ]
  },
  {
   "cell_type": "code",
   "execution_count": null,
   "id": "dd8567b9",
   "metadata": {
    "tags": [
     "hide-input"
    ]
   },
   "outputs": [],
   "source": [
    "import numpy as np\n",
    "import time\n",
    "\n",
    "import ray\n",
    "from ray import tune\n",
    "from ray.tune.schedulers import AsyncHyperBandScheduler\n",
    "from ray.tune.suggest.ax import AxSearch"
   ]
  },
  {
   "cell_type": "markdown",
   "id": "e48426a6",
   "metadata": {},
   "source": [
    "Let's start by defining a classic benchmark for global optimization.\n",
    "The form here is explicit for demonstration, yet it is typically a black-box.\n",
    "We artificially sleep for a bit (`0.02` seconds) to simulate a long-running ML experiment.\n",
    "This setup assumes that we're running multiple `step`s of an experiment and try to tune 6-dimensions of the `x` hyperparameter."
   ]
  },
  {
   "cell_type": "code",
   "execution_count": null,
   "id": "f1d27a0c",
   "metadata": {},
   "outputs": [],
   "source": [
    "def landscape(x):\n",
    "    \"\"\"\n",
    "    Hartmann 6D function containing 6 local minima.\n",
    "    It is a classic benchmark for developing global optimization algorithms.\n",
    "    \"\"\"\n",
    "    alpha = np.array([1.0, 1.2, 3.0, 3.2])\n",
    "    A = np.array(\n",
    "        [\n",
    "            [10, 3, 17, 3.5, 1.7, 8],\n",
    "            [0.05, 10, 17, 0.1, 8, 14],\n",
    "            [3, 3.5, 1.7, 10, 17, 8],\n",
    "            [17, 8, 0.05, 10, 0.1, 14],\n",
    "        ]\n",
    "    )\n",
    "    P = 10 ** (-4) * np.array(\n",
    "        [\n",
    "            [1312, 1696, 5569, 124, 8283, 5886],\n",
    "            [2329, 4135, 8307, 3736, 1004, 9991],\n",
    "            [2348, 1451, 3522, 2883, 3047, 6650],\n",
    "            [4047, 8828, 8732, 5743, 1091, 381],\n",
    "        ]\n",
    "    )\n",
    "    y = 0.0\n",
    "    for j, alpha_j in enumerate(alpha):\n",
    "        t = 0\n",
    "        for k in range(6):\n",
    "            t += A[j, k] * ((x[k] - P[j, k]) ** 2)\n",
    "        y -= alpha_j * np.exp(-t)\n",
    "    return y"
   ]
  },
  {
   "cell_type": "markdown",
   "id": "b8e35d14",
   "metadata": {},
   "source": [
    "Next, our ``objective`` function takes a Tune ``config``, evaluates the `landscape` of our experiment in a training loop,\n",
    "and uses `tune.report` to report the `landscape` back to Tune."
   ]
  },
  {
   "cell_type": "code",
   "execution_count": null,
   "id": "ab2c8682",
   "metadata": {},
   "outputs": [],
   "source": [
    "def objective(config):\n",
    "    for i in range(config[\"iterations\"]):\n",
    "        x = np.array([config.get(\"x{}\".format(i + 1)) for i in range(6)])\n",
    "        tune.report(\n",
    "            timesteps_total=i, landscape=landscape(x), l2norm=np.sqrt((x ** 2).sum())\n",
    "        )\n",
    "        time.sleep(0.02)"
   ]
  },
  {
   "cell_type": "code",
   "execution_count": null,
   "id": "318ec2e8",
   "metadata": {
    "tags": [
     "remove-cell"
    ]
   },
   "outputs": [],
   "source": [
    "ray.init(configure_logging=False)"
   ]
  },
  {
   "cell_type": "markdown",
   "id": "0a69c8f9",
   "metadata": {},
   "source": [
    "Now we define the search algorithm from `AxSearch`  with optional parameter and outcome constraints."
   ]
  },
  {
   "cell_type": "code",
   "execution_count": null,
   "id": "424c6a76",
   "metadata": {},
   "outputs": [],
   "source": [
    "algo = AxSearch(\n",
    "    parameter_constraints=[\"x1 + x2 <= 2.0\"],\n",
    "    outcome_constraints=[\"l2norm <= 1.25\"],\n",
    ")"
   ]
  },
  {
   "cell_type": "markdown",
   "id": "b15341e1",
   "metadata": {},
   "source": [
    "We also use `ConcurrencyLimiter` to constrain to 4 concurrent trials. We include a scheduler, `AsyncHyperBandScheduler`, to demonstrate the modularity of Ray Tune. "
   ]
  },
  {
   "cell_type": "code",
   "execution_count": null,
   "id": "6aedaf84",
   "metadata": {},
   "outputs": [],
   "source": [
    "algo = tune.suggest.ConcurrencyLimiter(algo, max_concurrent=4)\n",
    "scheduler = AsyncHyperBandScheduler()\n",
    "num_samples = 100\n",
    "stop_timesteps = 200"
   ]
  },
  {
   "cell_type": "code",
   "execution_count": null,
   "id": "6696a98e",
   "metadata": {
    "tags": [
     "remove-cell"
    ]
   },
   "outputs": [],
   "source": [
    "# Reducing samples for smoke tests\n",
    "num_samples = 10"
   ]
  },
  {
   "cell_type": "markdown",
   "id": "8358b3c3",
   "metadata": {},
   "source": [
    "Lastly, we run the experiment to find the global minimum of the provided landscape (which contains 5 false minima). The argument to metric, `\"landscape\"`, is provided via the `objective` function's `tune.report`."
   ]
  },
  {
   "cell_type": "code",
   "execution_count": null,
   "id": "1cb6388f",
   "metadata": {},
   "outputs": [],
   "source": [
    "analysis = tune.run(\n",
    "    objective,\n",
    "    name=\"ax\",\n",
    "    metric=\"landscape\",\n",
    "    mode=\"min\",\n",
    "    search_alg=algo,\n",
    "    scheduler=scheduler,\n",
    "    num_samples=num_samples,\n",
    "    config={\n",
    "        \"iterations\":100,\n",
    "        \"x1\": tune.uniform(0.0, 1.0),\n",
    "        \"x2\": tune.uniform(0.0, 1.0),\n",
    "        \"x3\": tune.uniform(0.0, 1.0),\n",
    "        \"x4\": tune.uniform(0.0, 1.0),\n",
    "        \"x5\": tune.uniform(0.0, 1.0),\n",
    "        \"x6\": tune.uniform(0.0, 1.0)\n",
    "    },\n",
    "    stop={\"timesteps_total\": stop_timesteps}\n",
    ")"
   ]
  },
  {
   "cell_type": "markdown",
   "id": "13a9e5fb",
   "metadata": {},
   "source": [
    "Here are the results:"
   ]
  },
  {
   "cell_type": "code",
   "execution_count": null,
   "id": "bc29f538",
   "metadata": {},
   "outputs": [],
   "source": [
    "print(\"Best hyperparameters found were: \", analysis.best_config)"
   ]
  },
  {
   "cell_type": "code",
   "execution_count": null,
   "id": "82123390",
   "metadata": {
    "tags": [
     "remove-cell"
    ]
   },
   "outputs": [],
   "source": [
    "ray.shutdown()"
   ]
  }
 ],
 "metadata": {
  "kernelspec": {
   "display_name": "Python 3 (ipykernel)",
   "language": "python",
   "name": "python3"
  },
  "orphan": true
 },
 "nbformat": 4,
 "nbformat_minor": 5
}
