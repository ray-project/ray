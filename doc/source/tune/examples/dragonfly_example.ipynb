{
 "cells": [
  {
   "cell_type": "markdown",
   "id": "14796f5d",
   "metadata": {},
   "source": [
    "# Running Tune experiments with Dragonfly\n",
    "\n",
    "This example demonstrates the usage of Dragonfly with Ray Tune via `DragonflySearch`.\n",
    "\n",
    "It also also shows that a scheduler can be used with `DragonflySearch`, e.g. `AsyncHyperBandScheduler`.\n",
    "\n",
    "Background information:\n",
    "- [Dragonfly website](https://dragonfly-opt.readthedocs.io/)\n",
    "\n",
    "Necessary requirements:\n",
    "- `pip install ray[tune]`\n",
    "- `pip install dragonfly-opt==0.1.6`"
   ]
  },
  {
   "cell_type": "code",
   "execution_count": null,
   "id": "5c92bf69",
   "metadata": {
    "tags": [
     "remove-cell"
    ]
   },
   "outputs": [],
   "source": [
    "# !pip install ray[tune]\n",
    "!pip install dragonfly-opt==0.1.6"
   ]
  },
  {
   "cell_type": "markdown",
   "id": "2891dd52",
   "metadata": {},
   "source": [
    "Click below to see all the imports we need for this example.\n",
    "You can also launch directly into a Binder instance to run this notebook yourself.\n",
    "Just click on the rocket symbol at the top of the navigation."
   ]
  },
  {
   "cell_type": "code",
   "execution_count": null,
   "id": "d26b553c",
   "metadata": {
    "tags": [
     "hide-input"
    ]
   },
   "outputs": [],
   "source": [
    "import numpy as np\n",
    "import time\n",
    "\n",
    "import ray\n",
    "from ray import tune\n",
    "from ray.tune.suggest import ConcurrencyLimiter\n",
    "from ray.tune.schedulers import AsyncHyperBandScheduler\n",
    "from ray.tune.suggest.dragonfly import DragonflySearch"
   ]
  },
  {
   "cell_type": "markdown",
   "id": "e3cac380",
   "metadata": {},
   "source": [
    "Let's start by defining a optimization problem. Suppose we want to figure out the proportions of water and several salts to add to an ionic solution with the goal of maximizing it's ability to conduct electricity.\n",
    "\n",
    "The objective here is explicit for demonstration, yet in practice they often come out of a black-box (e.g. a physical device measuring conductivity, or reporting the results of a long-running ML experiment).\n",
    "\n",
    "We artificially sleep for a bit (`0.02` seconds) to simulate a more typical experiment.\n",
    "This setup assumes that we're running multiple `step`s of an experiment and try to tune relative proportions of 4 ingredients-- these proportions should be considered as hyperparameters.\n",
    "\n",
    "Our ``objective`` function will take a Tune ``config``, evaluates the `conductivity` of our experiment in a training loop,\n",
    "and uses `tune.report` to report the `conductivity` back to Tune."
   ]
  },
  {
   "cell_type": "code",
   "execution_count": null,
   "id": "dacc9a79",
   "metadata": {},
   "outputs": [],
   "source": [
    "def objective(config):\n",
    "    \"\"\"\n",
    "    Simplistic model of electrical conductivity with added Gaussian noise to simulate experimental noise.\n",
    "    \"\"\"\n",
    "    for i in range(config[\"iterations\"]):\n",
    "        vol1 = config[\"LiNO3_vol\"]  # LiNO3\n",
    "        vol2 = config[\"Li2SO4_vol\"]  # Li2SO4\n",
    "        vol3 = config[\"NaClO4_vol\"]  # NaClO4\n",
    "        vol4 = 10 - (vol1 + vol2 + vol3)  # Water\n",
    "        conductivity = vol1 + 0.1 * (vol2 + vol3) ** 2 + 2.3 * vol4 * (vol1 ** 1.5)\n",
    "        conductivity += np.random.normal() * 0.01\n",
    "        tune.report(timesteps_total=i, objective=conductivity)\n",
    "        time.sleep(0.02)"
   ]
  },
  {
   "cell_type": "code",
   "execution_count": null,
   "id": "13c9ed81",
   "metadata": {
    "tags": [
     "remove-cell"
    ]
   },
   "outputs": [],
   "source": [
    "ray.init(configure_logging=False)"
   ]
  },
  {
   "cell_type": "markdown",
   "id": "0b70c7bc",
   "metadata": {},
   "source": [
    "Now we define the search algorithm from `DragonflySearch`  with `optimizer` and `domain` arguments specified in a common way."
   ]
  },
  {
   "cell_type": "code",
   "execution_count": null,
   "id": "297b1d84",
   "metadata": {},
   "outputs": [],
   "source": [
    "algo = DragonflySearch(\n",
    "    optimizer=\"bandit\",\n",
    "    domain=\"euclidean\",\n",
    ")"
   ]
  },
  {
   "cell_type": "markdown",
   "id": "6abff552",
   "metadata": {},
   "source": [
    "We also use `ConcurrencyLimiter` to constrain to 4 concurrent trials. We include a scheduler, `AsyncHyperBandScheduler`, to demonstrate the modularity of Ray Tune. "
   ]
  },
  {
   "cell_type": "code",
   "execution_count": null,
   "id": "85b6cf6f",
   "metadata": {},
   "outputs": [],
   "source": [
    "algo = ConcurrencyLimiter(algo, max_concurrent=4)\n",
    "scheduler = AsyncHyperBandScheduler()\n",
    "num_samples = 100"
   ]
  },
  {
   "cell_type": "code",
   "execution_count": null,
   "id": "640e3d8f",
   "metadata": {
    "tags": [
     "remove-cell"
    ]
   },
   "outputs": [],
   "source": [
    "# Reducing samples for smoke tests\n",
    "num_samples = 10"
   ]
  },
  {
   "cell_type": "markdown",
   "id": "2d5e51e9",
   "metadata": {},
   "source": [
    "Now we run the experiment:"
   ]
  },
  {
   "cell_type": "code",
   "execution_count": null,
   "id": "fb102e8f",
   "metadata": {},
   "outputs": [],
   "source": [
    "analysis = tune.run(\n",
    "    objective,\n",
    "    metric=\"objective\",\n",
    "    mode=\"max\",\n",
    "    name=\"dragonfly_search\",\n",
    "    search_alg=algo,\n",
    "    scheduler=scheduler,\n",
    "    num_samples=num_samples,\n",
    "    config={\n",
    "        \"iterations\": 100,\n",
    "        \"LiNO3_vol\": tune.uniform(0, 7),\n",
    "        \"Li2SO4_vol\": tune.uniform(0, 7),\n",
    "        \"NaClO4_vol\": tune.uniform(0, 7)\n",
    "    },\n",
    ")"
   ]
  },
  {
   "cell_type": "markdown",
   "id": "0beb5d16",
   "metadata": {},
   "source": [
    "Below are the recommended relative proportions of water and each salt found to maximize conductivity in the ionic solution (according to the simple model):"
   ]
  },
  {
   "cell_type": "code",
   "execution_count": null,
   "id": "efe8ca58",
   "metadata": {},
   "outputs": [],
   "source": [
    "print(\"Best hyperparameters found: \", analysis.best_config)"
   ]
  },
  {
   "cell_type": "code",
   "execution_count": null,
   "id": "59816beb",
   "metadata": {
    "tags": [
     "remove-cell"
    ]
   },
   "outputs": [],
   "source": [
    "ray.shutdown()"
   ]
  }
 ],
 "metadata": {
  "kernelspec": {
   "display_name": "Python 3 (ipykernel)",
   "language": "python",
   "name": "python3"
  },
  "orphan": true
 },
 "nbformat": 4,
 "nbformat_minor": 5
}
