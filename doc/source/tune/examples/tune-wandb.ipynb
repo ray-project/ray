{
 "cells": [
  {
   "cell_type": "markdown",
   "id": "ecad719c",
   "metadata": {},
   "source": [
    "# Using Weights & Biases with Tune\n",
    "\n",
    "(tune-wandb-ref)=\n",
    "\n",
    "[Weights & Biases](https://www.wandb.ai/) (Wandb) is a tool for experiment\n",
    "tracking, model optimizaton, and dataset versioning. It is very popular\n",
    "in the machine learning and data science community for its superb visualization\n",
    "tools.\n",
    "\n",
    "```{image} /images/wandb_logo_full.png\n",
    ":align: center\n",
    ":alt: Weights & Biases\n",
    ":height: 80px\n",
    ":target: https://www.wandb.ai/\n",
    "```\n",
    "\n",
    "Ray Tune currently offers two lightweight integrations for Weights & Biases.\n",
    "One is the {ref}`WandbLoggerCallback <tune-wandb-logger>`, which automatically logs\n",
    "metrics reported to Tune to the Wandb API.\n",
    "\n",
    "The other one is the {ref}`@wandb_mixin <tune-wandb-mixin>` decorator, which can be\n",
    "used with the function API. It automatically\n",
    "initializes the Wandb API with Tune's training information. You can just use the\n",
    "Wandb API like you would normally do, e.g. using `wandb.log()` to log your training\n",
    "process.\n",
    "\n",
    "```{contents}\n",
    ":backlinks: none\n",
    ":local: true\n",
    "```\n",
    "\n",
    "## Running A Weights & Biases Example\n",
    "\n",
    "In the following example we're going to use both of the above methods, namely the `WandbLoggerCallback` and\n",
    "the `setup_wandb` function to log metrics.\n",
    "Let's start with a few crucial imports:"
   ]
  },
  {
   "cell_type": "code",
   "execution_count": 1,
   "id": "100bcf8a",
   "metadata": {
    "vscode": {
     "languageId": "python"
    }
   },
   "outputs": [],
   "source": [
    "import numpy as np\n",
    "\n",
    "import ray\n",
    "from ray import air, tune\n",
    "from ray.air import session\n",
    "from ray.air.integrations.wandb import setup_wandb\n",
    "from ray.air.integrations.wandb import WandbLoggerCallback"
   ]
  },
  {
   "cell_type": "markdown",
   "id": "9346c0f6",
   "metadata": {},
   "source": [
    "Next, let's define an easy `train_function` function (a Tune `Trainable`) that reports a random loss to Tune.\n",
    "The objective function itself is not important for this example, since we want to focus on the Weights & Biases\n",
    "integration primarily."
   ]
  },
  {
   "cell_type": "code",
   "execution_count": 2,
   "id": "e8b4fc4d",
   "metadata": {
    "pycharm": {
     "name": "#%%\n"
    },
    "vscode": {
     "languageId": "python"
    }
   },
   "outputs": [],
   "source": [
    "def train_function(config):\n",
    "    for i in range(30):\n",
    "        loss = config[\"mean\"] + config[\"sd\"] * np.random.randn()\n",
    "        session.report({\"loss\": loss})"
   ]
  },
  {
   "cell_type": "markdown",
   "id": "831eed42",
   "metadata": {},
   "source": [
    "Given that you provide an `api_key_file` pointing to your Weights & Biases API key, you can define a\n",
    "simple grid-search Tune run using the `WandbLoggerCallback` as follows:"
   ]
  },
  {
   "cell_type": "code",
   "execution_count": 3,
   "id": "52988599",
   "metadata": {
    "pycharm": {
     "name": "#%%\n"
    },
    "vscode": {
     "languageId": "python"
    }
   },
   "outputs": [],
   "source": [
    "def tune_with_callback(api_key_file):\n",
    "    \"\"\"Example for using a WandbLoggerCallback with the function API\"\"\"\n",
    "    tuner = tune.Tuner(\n",
    "        train_function,\n",
    "        tune_config=tune.TuneConfig(\n",
    "            metric=\"loss\",\n",
    "            mode=\"min\",\n",
    "        ),\n",
    "        run_config=air.RunConfig(\n",
    "            callbacks=[\n",
    "                WandbLoggerCallback(api_key_file=api_key_file, project=\"Wandb_example\")\n",
    "            ]\n",
    "        ),\n",
    "        param_space={\n",
    "            \"mean\": tune.grid_search([1, 2, 3, 4, 5]),\n",
    "            \"sd\": tune.uniform(0.2, 0.8),\n",
    "        },\n",
    "    )\n",
    "    tuner.fit()"
   ]
  },
  {
   "cell_type": "markdown",
   "id": "e24c05fa",
   "metadata": {},
   "source": [
    "To use the `setup_wandb` utility, you simply call this function in your objective.\n",
    "Note that we also use `wandb.log(...)` to log the `loss` to Weights & Biases as a dictionary.\n",
    "Otherwise, this version of our objective is identical to its original."
   ]
  },
  {
   "cell_type": "code",
   "execution_count": 4,
   "id": "5e30d5e7",
   "metadata": {
    "pycharm": {
     "name": "#%%\n"
    },
    "vscode": {
     "languageId": "python"
    }
   },
   "outputs": [],
   "source": [
    "def train_function_wandb(config):\n",
    "    wandb = setup_wandb(config)\n",
    "\n",
    "    for i in range(30):\n",
    "        loss = config[\"mean\"] + config[\"sd\"] * np.random.randn()\n",
    "        session.report({\"loss\": loss})\n",
    "        wandb.log(dict(loss=loss))"
   ]
  },
  {
   "cell_type": "markdown",
   "id": "04040bcb",
   "metadata": {},
   "source": [
    "With the `train_function_wandb` defined, running a Tune experiment is as simple as providing this objective and\n",
    "passing the `api_key_file` to the `wandb` key of your Tune `config`:"
   ]
  },
  {
   "cell_type": "code",
   "execution_count": 5,
   "id": "d4fbd368",
   "metadata": {
    "pycharm": {
     "name": "#%%\n"
    },
    "vscode": {
     "languageId": "python"
    }
   },
   "outputs": [],
   "source": [
    "def tune_with_setup(api_key_file):\n",
    "    \"\"\"Example for using the setup_wandb utility with the function API\"\"\"\n",
    "    tuner = tune.Tuner(\n",
    "        train_function_wandb,\n",
    "        tune_config=tune.TuneConfig(\n",
    "            metric=\"loss\",\n",
    "            mode=\"min\",\n",
    "        ),\n",
    "        param_space={\n",
    "            \"mean\": tune.grid_search([1, 2, 3, 4, 5]),\n",
    "            \"sd\": tune.uniform(0.2, 0.8),\n",
    "            \"wandb\": {\"api_key_file\": api_key_file, \"project\": \"Wandb_example\"},\n",
    "        },\n",
    "    )\n",
    "    tuner.fit()"
   ]
  },
  {
   "cell_type": "markdown",
   "id": "f9521481",
   "metadata": {},
   "source": [
    "Finally, you can also define a class-based Tune `Trainable` by using the `setup_wandb` in the `setup()` method and storing the run object as an attribute. Please note that with the class trainable, you have to pass the trial id, name, and group separately:"
   ]
  },
  {
   "cell_type": "code",
   "execution_count": 6,
   "id": "d27a7a35",
   "metadata": {
    "pycharm": {
     "name": "#%%\n"
    },
    "vscode": {
     "languageId": "python"
    }
   },
   "outputs": [],
   "source": [
    "class WandbTrainable(tune.Trainable):\n",
    "    def setup(self, config):\n",
    "        self.wandb = setup_wandb(\n",
    "            config, trial_id=self.trial_id, trial_name=self.trial_name, group=\"Example\"\n",
    "        )\n",
    "\n",
    "    def step(self):\n",
    "        for i in range(30):\n",
    "            loss = self.config[\"mean\"] + self.config[\"sd\"] * np.random.randn()\n",
    "            self.wandb.log({\"loss\": loss})\n",
    "        return {\"loss\": loss, \"done\": True}\n",
    "    \n",
    "    def save_checkpoint(self, checkpoint_dir: str):\n",
    "        pass\n",
    "    \n",
    "    def load_checkpoint(self, checkpoint_dir: str):\n",
    "        pass"
   ]
  },
  {
   "cell_type": "markdown",
   "id": "fa189bb2",
   "metadata": {},
   "source": [
    "Running Tune with this `WandbTrainable` works exactly the same as with the function API.\n",
    "The below `tune_trainable` function differs from `tune_decorated` above only in the first argument we pass to\n",
    "`Tuner()`:"
   ]
  },
  {
   "cell_type": "code",
   "execution_count": 7,
   "id": "6e546cc2",
   "metadata": {
    "pycharm": {
     "name": "#%%\n"
    },
    "vscode": {
     "languageId": "python"
    }
   },
   "outputs": [],
   "source": [
    "def tune_trainable(api_key_file):\n",
    "    \"\"\"Example for using a WandTrainableMixin with the class API\"\"\"\n",
    "    tuner = tune.Tuner(\n",
    "        WandbTrainable,\n",
    "        tune_config=tune.TuneConfig(\n",
    "            metric=\"loss\",\n",
    "            mode=\"min\",\n",
    "        ),\n",
    "        param_space={\n",
    "            \"mean\": tune.grid_search([1, 2, 3, 4, 5]),\n",
    "            \"sd\": tune.uniform(0.2, 0.8),\n",
    "            \"wandb\": {\"api_key_file\": api_key_file, \"project\": \"Wandb_example\"},\n",
    "        },\n",
    "    )\n",
    "    results = tuner.fit()\n",
    "\n",
    "    return results.get_best_result().config"
   ]
  },
  {
   "cell_type": "markdown",
   "id": "0b736172",
   "metadata": {},
   "source": [
    "Since you may not have an API key for Wandb, we can _mock_ the Wandb logger and test all three of our training\n",
    "functions as follows.\n",
    "If you do have an API key file, make sure to set `mock_api` to `False` and pass in the right `api_key_file` below."
   ]
  },
  {
   "cell_type": "code",
   "execution_count": 8,
   "id": "e0e7f481",
   "metadata": {
    "pycharm": {
     "name": "#%%\n"
    },
    "vscode": {
     "languageId": "python"
    }
   },
   "outputs": [
    {
     "name": "stderr",
     "output_type": "stream",
     "text": [
      "2022-11-02 13:10:07,806\tINFO worker.py:1524 -- Started a local Ray instance. View the dashboard at \u001b[1m\u001b[32mhttp://127.0.0.1:8266 \u001b[39m\u001b[22m\n"
     ]
    },
    {
     "data": {
      "text/html": [
       "<div class=\"tuneStatus\">\n",
       "  <div style=\"display: flex;flex-direction: row\">\n",
       "    <div style=\"display: flex;flex-direction: column;\">\n",
       "      <h3>Tune Status</h3>\n",
       "      <table>\n",
       "<tbody>\n",
       "<tr><td>Current time:</td><td>2022-11-02 13:10:46</td></tr>\n",
       "<tr><td>Running for: </td><td>00:00:37.37        </td></tr>\n",
       "<tr><td>Memory:      </td><td>10.5/16.0 GiB      </td></tr>\n",
       "</tbody>\n",
       "</table>\n",
       "    </div>\n",
       "    <div class=\"vDivider\"></div>\n",
       "    <div class=\"systemInfo\">\n",
       "      <h3>System Info</h3>\n",
       "      Using FIFO scheduling algorithm.<br>Resources requested: 0/16 CPUs, 0/0 GPUs, 0.0/3.65 GiB heap, 0.0/1.83 GiB objects\n",
       "    </div>\n",
       "    \n",
       "  </div>\n",
       "  <div class=\"hDivider\"></div>\n",
       "  <div class=\"trialStatus\">\n",
       "    <h3>Trial Status</h3>\n",
       "    <table>\n",
       "<thead>\n",
       "<tr><th>Trial name                </th><th>status    </th><th>loc           </th><th style=\"text-align: right;\">  mean</th><th style=\"text-align: right;\">      sd</th><th style=\"text-align: right;\">  iter</th><th style=\"text-align: right;\">  total time (s)</th><th style=\"text-align: right;\">   loss</th></tr>\n",
       "</thead>\n",
       "<tbody>\n",
       "<tr><td>train_function_58e30_00000</td><td>TERMINATED</td><td>127.0.0.1:5393</td><td style=\"text-align: right;\">     1</td><td style=\"text-align: right;\">0.615867</td><td style=\"text-align: right;\">    30</td><td style=\"text-align: right;\">         0.22813</td><td style=\"text-align: right;\">1.58301</td></tr>\n",
       "<tr><td>train_function_58e30_00001</td><td>TERMINATED</td><td>127.0.0.1:5401</td><td style=\"text-align: right;\">     2</td><td style=\"text-align: right;\">0.467716</td><td style=\"text-align: right;\">    30</td><td style=\"text-align: right;\">        17.521  </td><td style=\"text-align: right;\">2.67345</td></tr>\n",
       "<tr><td>train_function_58e30_00002</td><td>TERMINATED</td><td>127.0.0.1:5403</td><td style=\"text-align: right;\">     3</td><td style=\"text-align: right;\">0.458005</td><td style=\"text-align: right;\">    30</td><td style=\"text-align: right;\">        17.4535 </td><td style=\"text-align: right;\">3.7088 </td></tr>\n",
       "<tr><td>train_function_58e30_00003</td><td>TERMINATED</td><td>127.0.0.1:5404</td><td style=\"text-align: right;\">     4</td><td style=\"text-align: right;\">0.501836</td><td style=\"text-align: right;\">    30</td><td style=\"text-align: right;\">         7.45093</td><td style=\"text-align: right;\">4.66316</td></tr>\n",
       "<tr><td>train_function_58e30_00004</td><td>TERMINATED</td><td>127.0.0.1:5405</td><td style=\"text-align: right;\">     5</td><td style=\"text-align: right;\">0.567112</td><td style=\"text-align: right;\">    30</td><td style=\"text-align: right;\">         7.443  </td><td style=\"text-align: right;\">5.37309</td></tr>\n",
       "</tbody>\n",
       "</table>\n",
       "  </div>\n",
       "</div>\n",
       "<style>\n",
       ".tuneStatus {\n",
       "  color: var(--jp-ui-font-color1);\n",
       "}\n",
       ".tuneStatus .systemInfo {\n",
       "  display: flex;\n",
       "  flex-direction: column;\n",
       "}\n",
       ".tuneStatus td {\n",
       "  white-space: nowrap;\n",
       "}\n",
       ".tuneStatus .trialStatus {\n",
       "  display: flex;\n",
       "  flex-direction: column;\n",
       "}\n",
       ".tuneStatus h3 {\n",
       "  font-weight: bold;\n",
       "}\n",
       ".tuneStatus .hDivider {\n",
       "  border-bottom-width: var(--jp-border-width);\n",
       "  border-bottom-color: var(--jp-border-color0);\n",
       "  border-bottom-style: solid;\n",
       "}\n",
       ".tuneStatus .vDivider {\n",
       "  border-left-width: var(--jp-border-width);\n",
       "  border-left-color: var(--jp-border-color0);\n",
       "  border-left-style: solid;\n",
       "  margin: 0.5em 1em 0.5em 1em;\n",
       "}\n",
       "</style>\n"
      ],
      "text/plain": [
       "<IPython.core.display.HTML object>"
      ]
     },
     "metadata": {},
     "output_type": "display_data"
    },
    {
     "data": {
      "text/html": [
       "<div class=\"trialProgress\">\n",
       "  <h3>Trial Progress</h3>\n",
       "  <table>\n",
       "<thead>\n",
       "<tr><th>Trial name                </th><th>date               </th><th>done  </th><th>episodes_total  </th><th>experiment_id                   </th><th>experiment_tag    </th><th>hostname            </th><th style=\"text-align: right;\">  iterations_since_restore</th><th style=\"text-align: right;\">   loss</th><th>node_ip  </th><th style=\"text-align: right;\">  pid</th><th style=\"text-align: right;\">  time_since_restore</th><th style=\"text-align: right;\">  time_this_iter_s</th><th style=\"text-align: right;\">  time_total_s</th><th style=\"text-align: right;\">  timestamp</th><th style=\"text-align: right;\">  timesteps_since_restore</th><th>timesteps_total  </th><th style=\"text-align: right;\">  training_iteration</th><th>trial_id   </th><th style=\"text-align: right;\">  warmup_time</th></tr>\n",
       "</thead>\n",
       "<tbody>\n",
       "<tr><td>train_function_58e30_00000</td><td>2022-11-02_13-10-15</td><td>True  </td><td>                </td><td>9ed8d9e26b5c4a06955fdf798c3a6b07</td><td>0_mean=1,sd=0.6159</td><td>Kais-MBP.local.meter</td><td style=\"text-align: right;\">                        30</td><td style=\"text-align: right;\">1.58301</td><td>127.0.0.1</td><td style=\"text-align: right;\"> 5393</td><td style=\"text-align: right;\">             0.22813</td><td style=\"text-align: right;\">        0.00403094</td><td style=\"text-align: right;\">       0.22813</td><td style=\"text-align: right;\"> 1667419815</td><td style=\"text-align: right;\">                        0</td><td>                 </td><td style=\"text-align: right;\">                  30</td><td>58e30_00000</td><td style=\"text-align: right;\">   0.0032289 </td></tr>\n",
       "<tr><td>train_function_58e30_00001</td><td>2022-11-02_13-10-36</td><td>True  </td><td>                </td><td>4a7b5adcdd9a4e919a14a51f61ed20c2</td><td>1_mean=2,sd=0.4677</td><td>Kais-MBP.local.meter</td><td style=\"text-align: right;\">                        30</td><td style=\"text-align: right;\">2.67345</td><td>127.0.0.1</td><td style=\"text-align: right;\"> 5401</td><td style=\"text-align: right;\">            17.521  </td><td style=\"text-align: right;\">        0.00539875</td><td style=\"text-align: right;\">      17.521  </td><td style=\"text-align: right;\"> 1667419836</td><td style=\"text-align: right;\">                        0</td><td>                 </td><td style=\"text-align: right;\">                  30</td><td>58e30_00001</td><td style=\"text-align: right;\">   0.00279927</td></tr>\n",
       "<tr><td>train_function_58e30_00002</td><td>2022-11-02_13-10-36</td><td>True  </td><td>                </td><td>f06041da92d248709e3e495968832509</td><td>2_mean=3,sd=0.4580</td><td>Kais-MBP.local.meter</td><td style=\"text-align: right;\">                        30</td><td style=\"text-align: right;\">3.7088 </td><td>127.0.0.1</td><td style=\"text-align: right;\"> 5403</td><td style=\"text-align: right;\">            17.4535 </td><td style=\"text-align: right;\">        0.00603294</td><td style=\"text-align: right;\">      17.4535 </td><td style=\"text-align: right;\"> 1667419836</td><td style=\"text-align: right;\">                        0</td><td>                 </td><td style=\"text-align: right;\">                  30</td><td>58e30_00002</td><td style=\"text-align: right;\">   0.0028522 </td></tr>\n",
       "<tr><td>train_function_58e30_00003</td><td>2022-11-02_13-10-26</td><td>True  </td><td>                </td><td>f349852e34a64c1ea185eb08233d9bfd</td><td>3_mean=4,sd=0.5018</td><td>Kais-MBP.local.meter</td><td style=\"text-align: right;\">                        30</td><td style=\"text-align: right;\">4.66316</td><td>127.0.0.1</td><td style=\"text-align: right;\"> 5404</td><td style=\"text-align: right;\">             7.45093</td><td style=\"text-align: right;\">        0.0273881 </td><td style=\"text-align: right;\">       7.45093</td><td style=\"text-align: right;\"> 1667419826</td><td style=\"text-align: right;\">                        0</td><td>                 </td><td style=\"text-align: right;\">                  30</td><td>58e30_00003</td><td style=\"text-align: right;\">   0.00311399</td></tr>\n",
       "<tr><td>train_function_58e30_00004</td><td>2022-11-02_13-10-26</td><td>True  </td><td>                </td><td>3d90543e07074e71be119558c26cab6f</td><td>4_mean=5,sd=0.5671</td><td>Kais-MBP.local.meter</td><td style=\"text-align: right;\">                        30</td><td style=\"text-align: right;\">5.37309</td><td>127.0.0.1</td><td style=\"text-align: right;\"> 5405</td><td style=\"text-align: right;\">             7.443  </td><td style=\"text-align: right;\">        0.00747919</td><td style=\"text-align: right;\">       7.443  </td><td style=\"text-align: right;\"> 1667419826</td><td style=\"text-align: right;\">                        0</td><td>                 </td><td style=\"text-align: right;\">                  30</td><td>58e30_00004</td><td style=\"text-align: right;\">   0.00292921</td></tr>\n",
       "</tbody>\n",
       "</table>\n",
       "</div>\n",
       "<style>\n",
       ".trialProgress {\n",
       "  display: flex;\n",
       "  flex-direction: column;\n",
       "  color: var(--jp-ui-font-color1);\n",
       "}\n",
       ".trialProgress h3 {\n",
       "  font-weight: bold;\n",
       "}\n",
       ".trialProgress td {\n",
       "  white-space: nowrap;\n",
       "}\n",
       "</style>\n"
      ],
      "text/plain": [
       "<IPython.core.display.HTML object>"
      ]
     },
     "metadata": {},
     "output_type": "display_data"
    },
    {
     "name": "stderr",
     "output_type": "stream",
     "text": [
      "2022-11-02 13:10:46,589\tINFO tune.py:788 -- Total run time: 38.75 seconds (37.36 seconds for the tuning loop).\n"
     ]
    },
    {
     "data": {
      "text/html": [
       "<div class=\"tuneStatus\">\n",
       "  <div style=\"display: flex;flex-direction: row\">\n",
       "    <div style=\"display: flex;flex-direction: column;\">\n",
       "      <h3>Tune Status</h3>\n",
       "      <table>\n",
       "<tbody>\n",
       "<tr><td>Current time:</td><td>2022-11-02 13:10:56</td></tr>\n",
       "<tr><td>Running for: </td><td>00:00:10.13        </td></tr>\n",
       "<tr><td>Memory:      </td><td>11.8/16.0 GiB      </td></tr>\n",
       "</tbody>\n",
       "</table>\n",
       "    </div>\n",
       "    <div class=\"vDivider\"></div>\n",
       "    <div class=\"systemInfo\">\n",
       "      <h3>System Info</h3>\n",
       "      Using FIFO scheduling algorithm.<br>Resources requested: 0/16 CPUs, 0/0 GPUs, 0.0/3.65 GiB heap, 0.0/1.83 GiB objects\n",
       "    </div>\n",
       "    \n",
       "  </div>\n",
       "  <div class=\"hDivider\"></div>\n",
       "  <div class=\"trialStatus\">\n",
       "    <h3>Trial Status</h3>\n",
       "    <table>\n",
       "<thead>\n",
       "<tr><th>Trial name                      </th><th>status    </th><th>loc           </th><th style=\"text-align: right;\">  mean</th><th style=\"text-align: right;\">      sd</th><th style=\"text-align: right;\">  iter</th><th style=\"text-align: right;\">  total time (s)</th><th style=\"text-align: right;\">   loss</th></tr>\n",
       "</thead>\n",
       "<tbody>\n",
       "<tr><td>train_function_wandb_70004_00000</td><td>TERMINATED</td><td>127.0.0.1:5465</td><td style=\"text-align: right;\">     1</td><td style=\"text-align: right;\">0.742524</td><td style=\"text-align: right;\">    30</td><td style=\"text-align: right;\">         3.87935</td><td style=\"text-align: right;\">1.20014</td></tr>\n",
       "<tr><td>train_function_wandb_70004_00001</td><td>TERMINATED</td><td>127.0.0.1:5477</td><td style=\"text-align: right;\">     2</td><td style=\"text-align: right;\">0.721663</td><td style=\"text-align: right;\">    30</td><td style=\"text-align: right;\">         2.52346</td><td style=\"text-align: right;\">2.11307</td></tr>\n",
       "<tr><td>train_function_wandb_70004_00002</td><td>TERMINATED</td><td>127.0.0.1:5478</td><td style=\"text-align: right;\">     3</td><td style=\"text-align: right;\">0.731064</td><td style=\"text-align: right;\">    30</td><td style=\"text-align: right;\">         2.53241</td><td style=\"text-align: right;\">2.09208</td></tr>\n",
       "<tr><td>train_function_wandb_70004_00003</td><td>TERMINATED</td><td>127.0.0.1:5479</td><td style=\"text-align: right;\">     4</td><td style=\"text-align: right;\">0.510719</td><td style=\"text-align: right;\">    30</td><td style=\"text-align: right;\">         2.57405</td><td style=\"text-align: right;\">3.71994</td></tr>\n",
       "<tr><td>train_function_wandb_70004_00004</td><td>TERMINATED</td><td>127.0.0.1:5480</td><td style=\"text-align: right;\">     5</td><td style=\"text-align: right;\">0.203644</td><td style=\"text-align: right;\">    30</td><td style=\"text-align: right;\">         2.48766</td><td style=\"text-align: right;\">4.99246</td></tr>\n",
       "</tbody>\n",
       "</table>\n",
       "  </div>\n",
       "</div>\n",
       "<style>\n",
       ".tuneStatus {\n",
       "  color: var(--jp-ui-font-color1);\n",
       "}\n",
       ".tuneStatus .systemInfo {\n",
       "  display: flex;\n",
       "  flex-direction: column;\n",
       "}\n",
       ".tuneStatus td {\n",
       "  white-space: nowrap;\n",
       "}\n",
       ".tuneStatus .trialStatus {\n",
       "  display: flex;\n",
       "  flex-direction: column;\n",
       "}\n",
       ".tuneStatus h3 {\n",
       "  font-weight: bold;\n",
       "}\n",
       ".tuneStatus .hDivider {\n",
       "  border-bottom-width: var(--jp-border-width);\n",
       "  border-bottom-color: var(--jp-border-color0);\n",
       "  border-bottom-style: solid;\n",
       "}\n",
       ".tuneStatus .vDivider {\n",
       "  border-left-width: var(--jp-border-width);\n",
       "  border-left-color: var(--jp-border-color0);\n",
       "  border-left-style: solid;\n",
       "  margin: 0.5em 1em 0.5em 1em;\n",
       "}\n",
       "</style>\n"
      ],
      "text/plain": [
       "<IPython.core.display.HTML object>"
      ]
     },
     "metadata": {},
     "output_type": "display_data"
    },
    {
     "data": {
      "text/html": [
       "<div class=\"trialProgress\">\n",
       "  <h3>Trial Progress</h3>\n",
       "  <table>\n",
       "<thead>\n",
       "<tr><th>Trial name                      </th><th>date               </th><th>done  </th><th>episodes_total  </th><th>experiment_id                   </th><th>experiment_tag    </th><th>hostname            </th><th style=\"text-align: right;\">  iterations_since_restore</th><th style=\"text-align: right;\">   loss</th><th>node_ip  </th><th style=\"text-align: right;\">  pid</th><th style=\"text-align: right;\">  time_since_restore</th><th style=\"text-align: right;\">  time_this_iter_s</th><th style=\"text-align: right;\">  time_total_s</th><th style=\"text-align: right;\">  timestamp</th><th style=\"text-align: right;\">  timesteps_since_restore</th><th>timesteps_total  </th><th style=\"text-align: right;\">  training_iteration</th><th style=\"text-align: right;\">   trial_id</th><th style=\"text-align: right;\">  warmup_time</th></tr>\n",
       "</thead>\n",
       "<tbody>\n",
       "<tr><td>train_function_wandb_70004_00000</td><td>2022-11-02_13-10-54</td><td>True  </td><td>                </td><td>9f99f093433d4113a7660c864e126115</td><td>0_mean=1,sd=0.7425</td><td>Kais-MBP.local.meter</td><td style=\"text-align: right;\">                        30</td><td style=\"text-align: right;\">1.20014</td><td>127.0.0.1</td><td style=\"text-align: right;\"> 5465</td><td style=\"text-align: right;\">             3.87935</td><td style=\"text-align: right;\">        0.00325608</td><td style=\"text-align: right;\">       3.87935</td><td style=\"text-align: right;\"> 1667419854</td><td style=\"text-align: right;\">                        0</td><td>                 </td><td style=\"text-align: right;\">                  30</td><td style=\"text-align: right;\">70004_00000</td><td style=\"text-align: right;\">   0.00281096</td></tr>\n",
       "<tr><td>train_function_wandb_70004_00001</td><td>2022-11-02_13-10-56</td><td>True  </td><td>                </td><td>fdaf299974584907b5bf4e007921db75</td><td>1_mean=2,sd=0.7217</td><td>Kais-MBP.local.meter</td><td style=\"text-align: right;\">                        30</td><td style=\"text-align: right;\">2.11307</td><td>127.0.0.1</td><td style=\"text-align: right;\"> 5477</td><td style=\"text-align: right;\">             2.52346</td><td style=\"text-align: right;\">        0.015337  </td><td style=\"text-align: right;\">       2.52346</td><td style=\"text-align: right;\"> 1667419856</td><td style=\"text-align: right;\">                        0</td><td>                 </td><td style=\"text-align: right;\">                  30</td><td style=\"text-align: right;\">70004_00001</td><td style=\"text-align: right;\">   0.00400376</td></tr>\n",
       "<tr><td>train_function_wandb_70004_00002</td><td>2022-11-02_13-10-56</td><td>True  </td><td>                </td><td>cb3bfe4e2c194b0ab3b544da0da082db</td><td>2_mean=3,sd=0.7311</td><td>Kais-MBP.local.meter</td><td style=\"text-align: right;\">                        30</td><td style=\"text-align: right;\">2.09208</td><td>127.0.0.1</td><td style=\"text-align: right;\"> 5478</td><td style=\"text-align: right;\">             2.53241</td><td style=\"text-align: right;\">        0.00435305</td><td style=\"text-align: right;\">       2.53241</td><td style=\"text-align: right;\"> 1667419856</td><td style=\"text-align: right;\">                        0</td><td>                 </td><td style=\"text-align: right;\">                  30</td><td style=\"text-align: right;\">70004_00002</td><td style=\"text-align: right;\">   0.00385976</td></tr>\n",
       "<tr><td>train_function_wandb_70004_00003</td><td>2022-11-02_13-10-56</td><td>True  </td><td>                </td><td>4011756369f64cdaba9f628a47f7e91c</td><td>3_mean=4,sd=0.5107</td><td>Kais-MBP.local.meter</td><td style=\"text-align: right;\">                        30</td><td style=\"text-align: right;\">3.71994</td><td>127.0.0.1</td><td style=\"text-align: right;\"> 5479</td><td style=\"text-align: right;\">             2.57405</td><td style=\"text-align: right;\">        0.00265694</td><td style=\"text-align: right;\">       2.57405</td><td style=\"text-align: right;\"> 1667419856</td><td style=\"text-align: right;\">                        0</td><td>                 </td><td style=\"text-align: right;\">                  30</td><td style=\"text-align: right;\">70004_00003</td><td style=\"text-align: right;\">   0.00383115</td></tr>\n",
       "<tr><td>train_function_wandb_70004_00004</td><td>2022-11-02_13-10-56</td><td>True  </td><td>                </td><td>e8e6a556f5684af88d20ffd52d166faa</td><td>4_mean=5,sd=0.2036</td><td>Kais-MBP.local.meter</td><td style=\"text-align: right;\">                        30</td><td style=\"text-align: right;\">4.99246</td><td>127.0.0.1</td><td style=\"text-align: right;\"> 5480</td><td style=\"text-align: right;\">             2.48766</td><td style=\"text-align: right;\">        0.0136211 </td><td style=\"text-align: right;\">       2.48766</td><td style=\"text-align: right;\"> 1667419856</td><td style=\"text-align: right;\">                        0</td><td>                 </td><td style=\"text-align: right;\">                  30</td><td style=\"text-align: right;\">70004_00004</td><td style=\"text-align: right;\">   0.00364685</td></tr>\n",
       "</tbody>\n",
       "</table>\n",
       "</div>\n",
       "<style>\n",
       ".trialProgress {\n",
       "  display: flex;\n",
       "  flex-direction: column;\n",
       "  color: var(--jp-ui-font-color1);\n",
       "}\n",
       ".trialProgress h3 {\n",
       "  font-weight: bold;\n",
       "}\n",
       ".trialProgress td {\n",
       "  white-space: nowrap;\n",
       "}\n",
       "</style>\n"
      ],
      "text/plain": [
       "<IPython.core.display.HTML object>"
      ]
     },
     "metadata": {},
     "output_type": "display_data"
    },
    {
     "name": "stderr",
     "output_type": "stream",
     "text": [
      "2022-11-02 13:10:56,869\tINFO tune.py:788 -- Total run time: 10.25 seconds (10.11 seconds for the tuning loop).\n"
     ]
    },
    {
     "data": {
      "text/html": [
       "<div class=\"tuneStatus\">\n",
       "  <div style=\"display: flex;flex-direction: row\">\n",
       "    <div style=\"display: flex;flex-direction: column;\">\n",
       "      <h3>Tune Status</h3>\n",
       "      <table>\n",
       "<tbody>\n",
       "<tr><td>Current time:</td><td>2022-11-02 13:11:14</td></tr>\n",
       "<tr><td>Running for: </td><td>00:00:17.53        </td></tr>\n",
       "<tr><td>Memory:      </td><td>12.0/16.0 GiB      </td></tr>\n",
       "</tbody>\n",
       "</table>\n",
       "    </div>\n",
       "    <div class=\"vDivider\"></div>\n",
       "    <div class=\"systemInfo\">\n",
       "      <h3>System Info</h3>\n",
       "      Using FIFO scheduling algorithm.<br>Resources requested: 0/16 CPUs, 0/0 GPUs, 0.0/3.65 GiB heap, 0.0/1.83 GiB objects\n",
       "    </div>\n",
       "    \n",
       "  </div>\n",
       "  <div class=\"hDivider\"></div>\n",
       "  <div class=\"trialStatus\">\n",
       "    <h3>Trial Status</h3>\n",
       "    <table>\n",
       "<thead>\n",
       "<tr><th>Trial name                </th><th>status    </th><th>loc           </th><th style=\"text-align: right;\">  mean</th><th style=\"text-align: right;\">      sd</th><th style=\"text-align: right;\">  iter</th><th style=\"text-align: right;\">  total time (s)</th><th style=\"text-align: right;\">   loss</th></tr>\n",
       "</thead>\n",
       "<tbody>\n",
       "<tr><td>WandbTrainable_76213_00000</td><td>TERMINATED</td><td>127.0.0.1:5538</td><td style=\"text-align: right;\">     1</td><td style=\"text-align: right;\">0.796319</td><td style=\"text-align: right;\">     1</td><td style=\"text-align: right;\">     0.000174046</td><td style=\"text-align: right;\">1.91921</td></tr>\n",
       "<tr><td>WandbTrainable_76213_00001</td><td>TERMINATED</td><td>127.0.0.1:5554</td><td style=\"text-align: right;\">     2</td><td style=\"text-align: right;\">0.370656</td><td style=\"text-align: right;\">     1</td><td style=\"text-align: right;\">     0.000159979</td><td style=\"text-align: right;\">1.5508 </td></tr>\n",
       "<tr><td>WandbTrainable_76213_00002</td><td>TERMINATED</td><td>127.0.0.1:5571</td><td style=\"text-align: right;\">     3</td><td style=\"text-align: right;\">0.456557</td><td style=\"text-align: right;\">     1</td><td style=\"text-align: right;\">     0.000174046</td><td style=\"text-align: right;\">3.77364</td></tr>\n",
       "<tr><td>WandbTrainable_76213_00003</td><td>TERMINATED</td><td>127.0.0.1:5572</td><td style=\"text-align: right;\">     4</td><td style=\"text-align: right;\">0.532619</td><td style=\"text-align: right;\">     1</td><td style=\"text-align: right;\">     0.000191212</td><td style=\"text-align: right;\">4.35208</td></tr>\n",
       "<tr><td>WandbTrainable_76213_00004</td><td>TERMINATED</td><td>127.0.0.1:5573</td><td style=\"text-align: right;\">     5</td><td style=\"text-align: right;\">0.472552</td><td style=\"text-align: right;\">     1</td><td style=\"text-align: right;\">     0.000159979</td><td style=\"text-align: right;\">4.9846 </td></tr>\n",
       "</tbody>\n",
       "</table>\n",
       "  </div>\n",
       "</div>\n",
       "<style>\n",
       ".tuneStatus {\n",
       "  color: var(--jp-ui-font-color1);\n",
       "}\n",
       ".tuneStatus .systemInfo {\n",
       "  display: flex;\n",
       "  flex-direction: column;\n",
       "}\n",
       ".tuneStatus td {\n",
       "  white-space: nowrap;\n",
       "}\n",
       ".tuneStatus .trialStatus {\n",
       "  display: flex;\n",
       "  flex-direction: column;\n",
       "}\n",
       ".tuneStatus h3 {\n",
       "  font-weight: bold;\n",
       "}\n",
       ".tuneStatus .hDivider {\n",
       "  border-bottom-width: var(--jp-border-width);\n",
       "  border-bottom-color: var(--jp-border-color0);\n",
       "  border-bottom-style: solid;\n",
       "}\n",
       ".tuneStatus .vDivider {\n",
       "  border-left-width: var(--jp-border-width);\n",
       "  border-left-color: var(--jp-border-color0);\n",
       "  border-left-style: solid;\n",
       "  margin: 0.5em 1em 0.5em 1em;\n",
       "}\n",
       "</style>\n"
      ],
      "text/plain": [
       "<IPython.core.display.HTML object>"
      ]
     },
     "metadata": {},
     "output_type": "display_data"
    },
    {
     "data": {
      "text/html": [
       "<div class=\"trialProgress\">\n",
       "  <h3>Trial Progress</h3>\n",
       "  <table>\n",
       "<thead>\n",
       "<tr><th>Trial name                </th><th>date               </th><th>done  </th><th>episodes_total  </th><th>experiment_id                   </th><th>hostname            </th><th style=\"text-align: right;\">  iterations_since_restore</th><th style=\"text-align: right;\">   loss</th><th>node_ip  </th><th style=\"text-align: right;\">  pid</th><th style=\"text-align: right;\">  time_since_restore</th><th style=\"text-align: right;\">  time_this_iter_s</th><th style=\"text-align: right;\">  time_total_s</th><th style=\"text-align: right;\">  timestamp</th><th style=\"text-align: right;\">  timesteps_since_restore</th><th>timesteps_total  </th><th style=\"text-align: right;\">  training_iteration</th><th style=\"text-align: right;\">   trial_id</th><th style=\"text-align: right;\">  warmup_time</th></tr>\n",
       "</thead>\n",
       "<tbody>\n",
       "<tr><td>WandbTrainable_76213_00000</td><td>2022-11-02_13-11-03</td><td>True  </td><td>                </td><td>be9b77b1b3944a3c9790103a629c90f9</td><td>Kais-MBP.local.meter</td><td style=\"text-align: right;\">                         1</td><td style=\"text-align: right;\">1.91921</td><td>127.0.0.1</td><td style=\"text-align: right;\"> 5538</td><td style=\"text-align: right;\">         0.000174046</td><td style=\"text-align: right;\">       0.000174046</td><td style=\"text-align: right;\">   0.000174046</td><td style=\"text-align: right;\"> 1667419863</td><td style=\"text-align: right;\">                        0</td><td>                 </td><td style=\"text-align: right;\">                   1</td><td style=\"text-align: right;\">76213_00000</td><td style=\"text-align: right;\">      1.5337 </td></tr>\n",
       "<tr><td>WandbTrainable_76213_00001</td><td>2022-11-02_13-11-07</td><td>True  </td><td>                </td><td>510e386820594f1a8aa1ed5c47e5d0df</td><td>Kais-MBP.local.meter</td><td style=\"text-align: right;\">                         1</td><td style=\"text-align: right;\">1.5508 </td><td>127.0.0.1</td><td style=\"text-align: right;\"> 5554</td><td style=\"text-align: right;\">         0.000159979</td><td style=\"text-align: right;\">       0.000159979</td><td style=\"text-align: right;\">   0.000159979</td><td style=\"text-align: right;\"> 1667419867</td><td style=\"text-align: right;\">                        0</td><td>                 </td><td style=\"text-align: right;\">                   1</td><td style=\"text-align: right;\">76213_00001</td><td style=\"text-align: right;\">      1.3163 </td></tr>\n",
       "<tr><td>WandbTrainable_76213_00002</td><td>2022-11-02_13-11-14</td><td>True  </td><td>                </td><td>03f14a58c68947d0afa7d7fcc8fff250</td><td>Kais-MBP.local.meter</td><td style=\"text-align: right;\">                         1</td><td style=\"text-align: right;\">3.77364</td><td>127.0.0.1</td><td style=\"text-align: right;\"> 5571</td><td style=\"text-align: right;\">         0.000174046</td><td style=\"text-align: right;\">       0.000174046</td><td style=\"text-align: right;\">   0.000174046</td><td style=\"text-align: right;\"> 1667419874</td><td style=\"text-align: right;\">                        0</td><td>                 </td><td style=\"text-align: right;\">                   1</td><td style=\"text-align: right;\">76213_00002</td><td style=\"text-align: right;\">      1.31631</td></tr>\n",
       "<tr><td>WandbTrainable_76213_00003</td><td>2022-11-02_13-11-14</td><td>True  </td><td>                </td><td>e0497ed8982644dab607ee58ff9f0f46</td><td>Kais-MBP.local.meter</td><td style=\"text-align: right;\">                         1</td><td style=\"text-align: right;\">4.35208</td><td>127.0.0.1</td><td style=\"text-align: right;\"> 5572</td><td style=\"text-align: right;\">         0.000191212</td><td style=\"text-align: right;\">       0.000191212</td><td style=\"text-align: right;\">   0.000191212</td><td style=\"text-align: right;\"> 1667419874</td><td style=\"text-align: right;\">                        0</td><td>                 </td><td style=\"text-align: right;\">                   1</td><td style=\"text-align: right;\">76213_00003</td><td style=\"text-align: right;\">      1.31873</td></tr>\n",
       "<tr><td>WandbTrainable_76213_00004</td><td>2022-11-02_13-11-14</td><td>True  </td><td>                </td><td>fcdd4e1fab9f48aa98be60f64ac3dbeb</td><td>Kais-MBP.local.meter</td><td style=\"text-align: right;\">                         1</td><td style=\"text-align: right;\">4.9846 </td><td>127.0.0.1</td><td style=\"text-align: right;\"> 5573</td><td style=\"text-align: right;\">         0.000159979</td><td style=\"text-align: right;\">       0.000159979</td><td style=\"text-align: right;\">   0.000159979</td><td style=\"text-align: right;\"> 1667419874</td><td style=\"text-align: right;\">                        0</td><td>                 </td><td style=\"text-align: right;\">                   1</td><td style=\"text-align: right;\">76213_00004</td><td style=\"text-align: right;\">      1.31499</td></tr>\n",
       "</tbody>\n",
       "</table>\n",
       "</div>\n",
       "<style>\n",
       ".trialProgress {\n",
       "  display: flex;\n",
       "  flex-direction: column;\n",
       "  color: var(--jp-ui-font-color1);\n",
       "}\n",
       ".trialProgress h3 {\n",
       "  font-weight: bold;\n",
       "}\n",
       ".trialProgress td {\n",
       "  white-space: nowrap;\n",
       "}\n",
       "</style>\n"
      ],
      "text/plain": [
       "<IPython.core.display.HTML object>"
      ]
     },
     "metadata": {},
     "output_type": "display_data"
    },
    {
     "name": "stderr",
     "output_type": "stream",
     "text": [
      "2022-11-02 13:11:14,550\tINFO tune.py:788 -- Total run time: 17.65 seconds (17.51 seconds for the tuning loop).\n"
     ]
    },
    {
     "data": {
      "text/plain": [
       "{'mean': 2,\n",
       " 'sd': 0.3706555346739163,\n",
       " 'wandb': {'api_key_file': '~/.wandb_api_key', 'project': 'Wandb_example'}}"
      ]
     },
     "execution_count": 8,
     "metadata": {},
     "output_type": "execute_result"
    }
   ],
   "source": [
    "import os\n",
    "\n",
    "mock_api = True\n",
    "\n",
    "api_key_file = \"~/.wandb_api_key\"\n",
    "\n",
    "if mock_api:\n",
    "    os.environ.setdefault(\"WANDB_MODE\", \"disabled\")\n",
    "    ray.init(runtime_env={\"env_vars\": {\"WANDB_MODE\": \"disabled\"}})\n",
    "\n",
    "tune_with_callback(api_key_file)\n",
    "tune_with_setup(api_key_file)\n",
    "tune_trainable(api_key_file)"
   ]
  },
  {
   "cell_type": "markdown",
   "id": "2f6e9138",
   "metadata": {},
   "source": [
    "This completes our Tune and Wandb walk-through.\n",
    "In the following sections you can find more details on the API of the Tune-Wandb integration.\n",
    "\n",
    "## Tune Wandb API Reference\n",
    "\n",
    "### WandbLoggerCallback\n",
    "\n",
    "(tune-wandb-logger)=\n",
    "\n",
    "```{eval-rst}\n",
    ".. autoclass:: ray.air.integrations.wandb.WandbLoggerCallback\n",
    "   :noindex:\n",
    "```\n",
    "\n",
    "### Wandb-Mixin\n",
    "\n",
    "(tune-wandb-mixin)=\n",
    "\n",
    "```{eval-rst}\n",
    ".. autofunction:: ray.tune.integration.wandb.wandb_mixin\n",
    "   :noindex:\n",
    "```"
   ]
  }
 ],
 "metadata": {
  "kernelspec": {
   "display_name": "Python 3 (ipykernel)",
   "language": "python",
   "name": "python3"
  },
  "language_info": {
   "codemirror_mode": {
    "name": "ipython",
    "version": 3
   },
   "file_extension": ".py",
   "mimetype": "text/x-python",
   "name": "python",
   "nbconvert_exporter": "python",
   "pygments_lexer": "ipython3",
   "version": "3.7.7"
  },
  "orphan": true
 },
 "nbformat": 4,
 "nbformat_minor": 5
}
