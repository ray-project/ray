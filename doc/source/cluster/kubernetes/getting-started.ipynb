{
 "cells": [
  {
   "cell_type": "markdown",
   "id": "f34f1b75",
   "metadata": {},
   "source": [
    "(kuberay-quickstart)=\n",
    "\n",
    "[//]: <> (TODO: migrate this content away from ipynb)\n",
    "\n",
    "# Getting Started\n",
    "\n",
    "In this guide, we show you how to manage and interact with Ray clusters on Kubernetes.\n",
    "\n",
    "You can download this guide as an executable Jupyter notebook by clicking the download button on the top right of the page.\n",
    "\n",
    "\n",
    "## Preparation\n",
    "\n",
    "### Install the latest Ray release\n",
    "This step is needed to interact with remote Ray clusters using {ref}`Ray Job Submission <kuberay-job>`."
   ]
  },
  {
   "cell_type": "code",
   "execution_count": null,
   "id": "6dcd7d93",
   "metadata": {},
   "outputs": [],
   "source": [
    "! pip install -U \"ray[default]\""
   ]
  },
  {
   "cell_type": "markdown",
   "id": "656a0707",
   "metadata": {},
   "source": [
    "See {ref}`installation` for more details. "
   ]
  },
  {
   "attachments": {},
   "cell_type": "markdown",
   "id": "c0933e2f",
   "metadata": {},
   "source": [
    "### Install kubectl\n",
    "\n",
    "We will use kubectl to interact with Kubernetes. Find installation instructions at the [Kubernetes documentation](https://kubernetes.io/docs/tasks/tools/#kubectl).\n",
    "\n",
    "### Install Helm\n",
    "\n",
    "We will use Helm to deploy a KubeRay operator and a RayCluster custom resource. Find instructions at the [Helm documentation](https://helm.sh/docs/intro/install/).\n",
    "\n",
    "### Access a Kubernetes cluster\n",
    "\n",
    "We will need access to a Kubernetes cluster. There are two options:\n",
    "1. Configure access to a remote Kubernetes cluster\n",
    "**OR**\n",
    "\n",
    "2. Run the examples locally by [installing kind](https://kind.sigs.k8s.io/docs/user/quick-start/#installation). Start your [kind](https://kind.sigs.k8s.io/) cluster by running the following command:"
   ]
  },
  {
   "cell_type": "code",
   "execution_count": null,
   "id": "c764b3ad",
   "metadata": {},
   "outputs": [],
   "source": [
    "! kind create cluster --image=kindest/node:v1.23.0"
   ]
  },
  {
   "attachments": {},
   "cell_type": "markdown",
   "id": "278726e0",
   "metadata": {},
   "source": [
    "To run the example in this guide, make sure your Kubernetes cluster (or local Kind cluster) can accomodate\n",
    "additional resource requests of 3 CPU and 3Gi memory (for example, by setting your Docker resource limits high enough). Also, make sure your Kubernetes cluster and Kubectl are both at version at least 1.19.\n",
    "\n",
    "(kuberay-operator-deploy)=\n",
    "## Deploying the KubeRay operator\n",
    "\n",
    "Deploy the KubeRay operator with the Helm chart repository."
   ]
  },
  {
   "cell_type": "code",
   "execution_count": null,
   "id": "43c66922",
   "metadata": {},
   "outputs": [],
   "source": [
    "! helm repo add kuberay https://ray-project.github.io/kuberay-helm/\n",
    "\n",
    "# Install both CRDs and KubeRay operator v0.5.0.\n",
    "! helm install kuberay-operator kuberay/kuberay-operator --version 0.5.0\n",
    "\n",
    "# Confirm that the operator is running in the namespace `default`.\n",
    "! kubectl get pods\n",
    "# NAME                                READY   STATUS    RESTARTS   AGE\n",
    "# kuberay-operator-7fbdbf8c89-pt8bk   1/1     Running   0          27s"
   ]
  },
  {
   "attachments": {},
   "cell_type": "markdown",
   "id": "3f0d3d17",
   "metadata": {},
   "source": [
    "KubeRay offers multiple options for operator installations, such as Helm, Kustomize, and a single-namespaced operator. For further information, please refer to [the installation instructions in the KubeRay documentation](https://ray-project.github.io/kuberay/deploy/installation/)."
   ]
  },
  {
   "cell_type": "markdown",
   "id": "e1fdf3f5",
   "metadata": {},
   "source": [
    "## Deploying a Ray Cluster"
   ]
  },
  {
   "attachments": {},
   "cell_type": "markdown",
   "id": "dac860db",
   "metadata": {},
   "source": [
    "Once the KubeRay operator is running, we are ready to deploy a Ray cluster. To do so, we create a RayCluster Custom Resource (CR) in the `default` namespace."
   ]
  },
  {
   "cell_type": "code",
   "execution_count": null,
   "id": "30645643",
   "metadata": {},
   "outputs": [],
   "source": [
    "# Deploy a sample RayCluster CR from the KubeRay Helm chart repo:\n",
    "! helm install raycluster kuberay/ray-cluster --version 0.5.0\n",
    "\n",
    "# Once the RayCluster CR has been created, you can view it by running:\n",
    "! kubectl get rayclusters\n",
    "\n",
    "# NAME                 DESIRED WORKERS   AVAILABLE WORKERS   STATUS   AGE\n",
    "# raycluster-kuberay   1                 1                   ready    72s"
   ]
  },
  {
   "cell_type": "markdown",
   "id": "d4bd4e47",
   "metadata": {},
   "source": [
    "The KubeRay operator will detect the RayCluster object. The operator will then start your Ray cluster by creating head and worker pods. To view Ray cluster's pods, run the following command:"
   ]
  },
  {
   "cell_type": "code",
   "execution_count": null,
   "id": "48d938b2",
   "metadata": {},
   "outputs": [],
   "source": [
    "# View the pods in the Ray cluster named \"raycluster-kuberay\"\n",
    "! kubectl get pods --selector=ray.io/cluster=raycluster-kuberay\n",
    "\n",
    "# NAME                                          READY   STATUS    RESTARTS   AGE\n",
    "# raycluster-kuberay-head-vkj4n                 1/1     Running   0          XXs\n",
    "# raycluster-kuberay-worker-workergroup-xvfkr   1/1     Running   0          XXs"
   ]
  },
  {
   "attachments": {},
   "cell_type": "markdown",
   "id": "2fb1c582",
   "metadata": {},
   "source": [
    "Wait for the pods to reach Running state. This may take a few minutes -- most of this time is spent downloading the Ray images. In a separate shell, you may wish to observe the pods' status in real-time with the following command:"
   ]
  },
  {
   "cell_type": "code",
   "execution_count": null,
   "id": "68dab885",
   "metadata": {},
   "outputs": [],
   "source": [
    "# If you're on MacOS, first `brew install watch`.\n",
    "# Run in a separate shell:\n",
    "! watch -n 1 kubectl get pod"
   ]
  },
  {
   "attachments": {},
   "cell_type": "markdown",
   "id": "2a01c9a9",
   "metadata": {},
   "source": [
    "If your pods are stuck in the Pending state, you can check for errors via `kubectl describe pod raycluster-kuberay-xxxx-xxxxx` and ensure that your Docker resource limits are set high enough."
   ]
  },
  {
   "cell_type": "markdown",
   "id": "4fab157b",
   "metadata": {},
   "source": [
    "Note that in production scenarios, you will want to use larger Ray pods. In fact, it is advantageous to size each Ray pod to take up an entire Kubernetes node. See the [configuration guide](kuberay-config) for more details."
   ]
  },
  {
   "cell_type": "markdown",
   "id": "b63e1ab9",
   "metadata": {},
   "source": [
    "## Running Applications on a Ray Cluster\n",
    "\n",
    "Now, let's interact with the Ray cluster we've deployed.\n",
    "\n",
    "### Accessing the cluster with kubectl exec\n",
    "\n",
    "The most straightforward way to experiment with your Ray cluster is to\n",
    "exec directly into the head pod. First, identify your Ray cluster's head pod:"
   ]
  },
  {
   "cell_type": "code",
   "execution_count": null,
   "id": "2538c4fd",
   "metadata": {},
   "outputs": [],
   "source": [
    "! export HEAD_POD=$(kubectl get pods --selector=ray.io/node-type=head -o custom-columns=POD:metadata.name --no-headers)\n",
    "! echo $HEAD_POD\n",
    "# raycluster-kuberay-head-vkj4n\n",
    "\n",
    "# Print the cluster resources.\n",
    "! kubectl exec -it $HEAD_POD -- python -c \"import ray; ray.init(); print(ray.cluster_resources())\"\n",
    "\n",
    "# 2023-04-07 10:57:46,472 INFO worker.py:1243 -- Using address 127.0.0.1:6379 set in the environment variable RAY_ADDRESS\n",
    "# 2023-04-07 10:57:46,472 INFO worker.py:1364 -- Connecting to existing Ray cluster at address: 10.244.0.6:6379...\n",
    "# 2023-04-07 10:57:46,482 INFO worker.py:1550 -- Connected to Ray cluster. View the dashboard at http://10.244.0.6:8265 \n",
    "# {'object_store_memory': 802572287.0, 'memory': 3000000000.0, 'node:10.244.0.6': 1.0, 'CPU': 2.0, 'node:10.244.0.7': 1.0}"
   ]
  },
  {
   "cell_type": "markdown",
   "id": "fa9c6e9d",
   "metadata": {},
   "source": [
    "While this can be useful for ad-hoc execution on the Ray Cluster, the recommended way to execute an application on a Ray Cluster is to use [Ray Jobs](jobs-quickstart).\n",
    "\n",
    "(kuberay-job)=\n",
    "### Ray Job submission\n",
    "\n",
    "To set up your Ray Cluster for Ray Jobs submission, we just need to make sure that the Ray Jobs port is visible to the client.\n",
    "Ray listens for Job requests through the head pod's Dashboard server.\n",
    "\n",
    "First, we need to find the location of the Ray head node. The KubeRay operator configures a [Kubernetes service](https://kubernetes.io/docs/concepts/services-networking/service/) targeting the Ray head pod. This service allows us to interact with Ray clusters without directly executing commands in the Ray container. To identify the Ray head service for our example cluster, run:"
   ]
  },
  {
   "cell_type": "code",
   "execution_count": 2,
   "id": "d3dae5fd",
   "metadata": {},
   "outputs": [],
   "source": [
    "! kubectl get service raycluster-kuberay-head-svc\n",
    "\n",
    "# NAME                          TYPE        CLUSTER-IP    EXTERNAL-IP   PORT(S)                                         AGE\n",
    "# raycluster-kuberay-head-svc   ClusterIP   10.96.93.74   <none>        8265/TCP,8080/TCP,8000/TCP,10001/TCP,6379/TCP   15m"
   ]
  },
  {
   "cell_type": "markdown",
   "id": "57b3c759",
   "metadata": {},
   "source": [
    "Now that we have the name of the service, we can use port-forwarding to access the Ray Dashboard port (8265 by default).\n",
    "\n",
    "Note: The following port-forwarding command is blocking. If you are following along from a Jupyter notebook, the command must be executed in a separate shell outside of the notebook."
   ]
  },
  {
   "cell_type": "code",
   "execution_count": null,
   "id": "23c113b6",
   "metadata": {},
   "outputs": [],
   "source": [
    "# Execute this in a separate shell.\n",
    "! kubectl port-forward --address 0.0.0.0 service/raycluster-kuberay-head-svc 8265:8265\n",
    "\n",
    "# Visit ${YOUR_IP}:8265 for the Dashboard (e.g. 127.0.0.1:8265)"
   ]
  },
  {
   "cell_type": "markdown",
   "id": "ec66649c",
   "metadata": {},
   "source": [
    "Note: We use port-forwarding in this guide as a simple way to experiment with a Ray cluster's services. For production use-cases, you would typically either \n",
    "- Access the service from within the Kubernetes cluster or\n",
    "- Use an ingress controller to expose the service outside the cluster.\n",
    "\n",
    "See the {ref}`networking notes <kuberay-networking>` for details.\n",
    "\n",
    "Now that we have access to the Dashboard port, we can submit jobs to the Ray Cluster:"
   ]
  },
  {
   "cell_type": "code",
   "execution_count": null,
   "id": "28a6bca6",
   "metadata": {},
   "outputs": [],
   "source": [
    "# The following job's logs will show the Ray cluster's total resource capacity, including 2 CPUs.\n",
    "\n",
    "! ray job submit --address http://localhost:8265 -- python -c \"import ray; ray.init(); print(ray.cluster_resources())\""
   ]
  },
  {
   "attachments": {},
   "cell_type": "markdown",
   "id": "f8453b2a",
   "metadata": {},
   "source": [
    "For a more detailed guide on using Ray Jobs to run applications on a Ray cluster, check out the [quickstart guide](jobs-quickstart)"
   ]
  },
  {
   "attachments": {},
   "cell_type": "markdown",
   "id": "b87a4f2e",
   "metadata": {},
   "source": [
    "## Cleanup\n",
    "\n",
    "### Deleting a RayCluster\n",
    "\n",
    "To delete the RayCluster we deployed in this example, run the following command."
   ]
  },
  {
   "cell_type": "code",
   "execution_count": null,
   "id": "71a34ee3",
   "metadata": {},
   "outputs": [],
   "source": [
    "# Uninstall the RayCluster Helm chart\n",
    "! helm uninstall raycluster\n",
    "# release \"raycluster\" uninstalled\n",
    "\n",
    "# Note that it may take several seconds for the Ray pods to be fully terminated.\n",
    "# Confirm that the Ray Cluster's pods are gone by running\n",
    "! kubectl get pods\n",
    "\n",
    "# NAME                                READY   STATUS    RESTARTS   AGE\n",
    "# kuberay-operator-7fbdbf8c89-pt8bk   1/1     Running   0          XXm"
   ]
  },
  {
   "attachments": {},
   "cell_type": "markdown",
   "id": "6cc5dfff",
   "metadata": {},
   "source": [
    "### Deleting the KubeRay operator\n",
    "\n",
    "In typical operation, the KubeRay operator should be left as a long-running process that manages many Ray clusters.\n",
    "If you would like to delete the operator and associated resources, run"
   ]
  },
  {
   "cell_type": "code",
   "execution_count": null,
   "id": "24c371a4",
   "metadata": {},
   "outputs": [],
   "source": [
    "# Uninstall the KubeRay operator Helm chart\n",
    "! helm uninstall kuberay-operator\n",
    "# release \"kuberay-operator\" uninstalled\n",
    "\n",
    "# Confirm that the KubeRay operator pod is gone by running\n",
    "! kubectl get pods\n",
    "# No resources found in default namespace."
   ]
  },
  {
   "cell_type": "markdown",
   "id": "99a76c96",
   "metadata": {},
   "source": [
    "### Deleting a local kind cluster\n",
    "\n",
    "Finally, if you'd like to delete your local kind cluster, run"
   ]
  },
  {
   "cell_type": "code",
   "execution_count": null,
   "id": "f7d4d6e6",
   "metadata": {},
   "outputs": [],
   "source": [
    "! kind delete cluster"
   ]
  }
 ],
 "metadata": {
  "kernelspec": {
   "display_name": "Python 3.8.11 ('ray-py38')",
   "language": "python",
   "name": "python3"
  },
  "language_info": {
   "codemirror_mode": {
    "name": "ipython",
    "version": 3
   },
   "file_extension": ".py",
   "mimetype": "text/x-python",
   "name": "python",
   "nbconvert_exporter": "python",
   "pygments_lexer": "ipython3",
   "version": "3.8.11"
  },
  "vscode": {
   "interpreter": {
    "hash": "250a0c8ad49f9e0ab80d6ffa587b8bd67c2b62f7c5238d34c3fd259cc7d4f5bf"
   }
  }
 },
 "nbformat": 4,
 "nbformat_minor": 5
}
