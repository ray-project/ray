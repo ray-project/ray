{
 "cells": [
  {
   "cell_type": "markdown",
   "id": "f34f1b75",
   "metadata": {},
   "source": [
    "# Quickstart\n",
    "\n",
    "In this guide, we discuss how to deploy and interact with a Ray cluster on Kubernetes.\n",
    "\n",
    "This guide is available at the Ray GitHub repo as an [executable Jupyter notebook](https://github.com/ray-project/ray/blob/master/doc/source/cluster/kuberay/quickstart.ipynb).\n",
    "\n",
    "\n",
    "## Preparation\n",
    "\n",
    "### Install Ray's latest release"
   ]
  },
  {
   "cell_type": "code",
   "execution_count": null,
   "id": "6dcd7d93",
   "metadata": {},
   "outputs": [],
   "source": [
    "pip install -U ray[default]"
   ]
  },
  {
   "cell_type": "markdown",
   "id": "656a0707",
   "metadata": {},
   "source": [
    "See the [installation instructions](https://docs.ray.io/en/latest/ray-overview/installation.html) for more details. "
   ]
  },
  {
   "cell_type": "markdown",
   "id": "c0933e2f",
   "metadata": {},
   "source": [
    "### Install Kubectl\n",
    "\n",
    "We will use kubectl to interact with Kubernetes. Find installation instructions at the [Kubernetes documentation](https://kubernetes.io/docs/tasks/tools/#kubectl).\n",
    "\n",
    "### Access a Kubernetes cluster\n",
    "\n",
    "We will need access to a Kubernetes cluster. There are two options here:\n",
    "1. Configure access to a remote Kubernetes cluster\n",
    "**OR**\n",
    "2. Run the examples locally by [installing kind](https://kind.sigs.k8s.io/docs/user/quick-start/#installation). Start your [kind](https://kind.sigs.k8s.io/) cluster by running"
   ]
  },
  {
   "cell_type": "code",
   "execution_count": null,
   "id": "c764b3ad",
   "metadata": {},
   "outputs": [],
   "source": [
    "! kind create cluster"
   ]
  },
  {
   "cell_type": "markdown",
   "id": "278726e0",
   "metadata": {},
   "source": [
    "To run the example in this guide, make sure your Kubernetes cluster can accomodate\n",
    "additional resource requests of 4 CPU and 2.5Gi memory. \n",
    "\n",
    "## Deploying the KubeRay operator\n",
    "\n",
    "Deploy the KubeRay Operator by cloning the KubeRay repo and applying the relevant configuration files from the master branch.  "
   ]
  },
  {
   "cell_type": "code",
   "execution_count": null,
   "id": "43c66922",
   "metadata": {},
   "outputs": [],
   "source": [
    "%%bash\n",
    "# After the KubeRay 0.3.0 release branch cut, this documentation will be updated to refer to 0.3.0 branch.\n",
    "git clone https://github.com/ray-project/kuberay\n",
    "# This creates the KubeRay operator and all of the resources it needs.\n",
    "kubectl create -k ray-operator/config/default\n",
    "# Note that we must use \"kubectl create\" in the above command.\"kubectl apply\" will not work due to https://github.com/ray-project/kuberay/issues/271"
   ]
  },
  {
   "cell_type": "markdown",
   "id": "522f9a97",
   "metadata": {},
   "source": [
    "Confirm that the operator is running in the namespace `ray-system`."
   ]
  },
  {
   "cell_type": "code",
   "execution_count": null,
   "id": "dfec8bba",
   "metadata": {},
   "outputs": [],
   "source": [
    "! kubectl -n ray-system get pod --selector=app.kubernetes.io/component=kuberay-operator\n",
    "# NAME                                READY   STATUS    RESTARTS   AGE\n",
    "# kuberay-operator-557c6c8bcd-t9zkz   1/1     Running   0          XXs"
   ]
  },
  {
   "cell_type": "markdown",
   "id": "3f0d3d17",
   "metadata": {},
   "source": [
    "### Namespace-scoped operator\n",
    "Note that the above command deploys the operator at _Kubernetes cluster scope_; the operator will manage resources in all Kubernetes namespaces.\n",
    "**If your use-case requires running the operator at namespaced-scope**, refer to [the instructions at the KubeRay docs](https://github.com/ray-project/kuberay#single-namespace-version)."
   ]
  },
  {
   "cell_type": "markdown",
   "id": "e1fdf3f5",
   "metadata": {},
   "source": [
    "## Deploying a Ray Cluster"
   ]
  },
  {
   "cell_type": "markdown",
   "id": "dac860db",
   "metadata": {},
   "source": [
    "Once the KubeRay operator is running, we are ready to deploy a Ray cluster by deploying a RayCluster Custom Resource:"
   ]
  },
  {
   "cell_type": "code",
   "execution_count": null,
   "id": "e69c551e",
   "metadata": {},
   "outputs": [],
   "source": [
    "# This Ray cluster is named `raycluster-autoscaler` because it has the optional Ray Autoscaler support enabled.\n",
    "kubectl apply -f kuberay/ray-operator/samples/ray-cluster.autoscaler.yaml"
   ]
  },
  {
   "cell_type": "markdown",
   "id": "1b6abf52",
   "metadata": {},
   "source": [
    "Once the RayCluster CR has been created, you can view it by running"
   ]
  },
  {
   "cell_type": "code",
   "execution_count": null,
   "id": "d9a85950",
   "metadata": {},
   "outputs": [],
   "source": [
    "! kubectl get raycluster\n",
    "# NAME                    AGE\n",
    "# raycluster-autoscaler   XXs"
   ]
  },
  {
   "cell_type": "code",
   "execution_count": null,
   "id": "48d938b2",
   "metadata": {},
   "outputs": [],
   "source": [
    "! kubectl get pods --selector=ray.io/cluster=raycluster-autoscaler\n",
    "# NAME                                             READY   STATUS    RESTARTS   AGE\n",
    "# raycluster-autoscaler-head-xxxxx                 2/2     Running   0          XXs\n",
    "# raycluster-autoscaler-worker-small-group-yyyyy   1/1     Running   0          XXs"
   ]
  },
  {
   "cell_type": "markdown",
   "id": "28bd44a8",
   "metadata": {},
   "source": [
    "We see a Ray head with two (2/2) containers -- the Ray container and autoscaler sidecar. We also have a Ray worker with its single Ray container."
   ]
  },
  {
   "cell_type": "markdown",
   "id": "b63e1ab9",
   "metadata": {},
   "source": [
    "## Interacting with a Ray Cluster\n",
    "\n",
    "Now, let's interact with the Ray cluster we've deployed.\n",
    "\n",
    "### Accessing the cluster with kubectl exec\n",
    "\n",
    "The most straightforward way to experiment with your Ray cluster is to\n",
    "exec directly into the head pod. First, identify your cluster's head pod:"
   ]
  },
  {
   "cell_type": "code",
   "execution_count": 1,
   "id": "2538c4fd",
   "metadata": {},
   "outputs": [
    {
     "name": "stdout",
     "output_type": "stream",
     "text": [
      "raycluster-autoscaler-head-plqwd\r\n"
     ]
    }
   ],
   "source": [
    "! kubectl get pods --selector=ray.io/cluster=raycluster-autoscaler --selector=ray.io/node-type=head\\\n",
    " -o custom-columns=POD:metadata.name --no-headers\n",
    "# raycluster-autoscaler-head-xxxxx"
   ]
  },
  {
   "cell_type": "markdown",
   "id": "190b2163",
   "metadata": {},
   "source": [
    "Now, we can run a Ray program on the Ray head pod. The Ray program in the next cell asks the autoscaler to scale the cluster to a total of 3 CPUs. The head and worker in our example cluster each have a capacity of 1 CPU, so the request should trigger upscaling of an additional worker pod.\n",
    "\n",
    "(Note that in real-life scenarios, we will typically want to use much larger Ray pods. In fact, it is advantageous to size each Ray pod to take up an entire Kubernetes node. See {ref} for more details.)"
   ]
  },
  {
   "cell_type": "code",
   "execution_count": 8,
   "id": "c35b2454",
   "metadata": {},
   "outputs": [
    {
     "name": "stdout",
     "output_type": "stream",
     "text": [
      "\u001b[0m"
     ]
    }
   ],
   "source": [
    "# Substitute your output from the last cell in place of \"raycluster-autoscaler-head-xxxxx\"\n",
    "! kubectl exec raycluster-autoscaler-head-wpcth -it -c ray-head -- python -c\\\n",
    " \"import ray; ray.init(); ray.autoscaler.sdk.request_resources(num_cpus=3)\""
   ]
  },
  {
   "cell_type": "markdown",
   "id": "b1d81b29",
   "metadata": {},
   "source": [
    "### Autoscaling\n",
    "\n",
    "The last command should have triggered Ray pod upscaling. To confirm the new worker pod is up, let's query the RayCluster's pods again:"
   ]
  },
  {
   "cell_type": "code",
   "execution_count": 3,
   "id": "37842ea9",
   "metadata": {},
   "outputs": [
    {
     "name": "stdout",
     "output_type": "stream",
     "text": [
      "NAME                                             READY   STATUS            RESTARTS   AGE\r\n",
      "raycluster-autoscaler-head-plqwd                 2/2     Running           0          5m58s\r\n",
      "raycluster-autoscaler-worker-small-group-7kvxw   1/1     Running           0          5m58s\r\n",
      "raycluster-autoscaler-worker-small-group-dtbkh   0/1     PodInitializing   0          1s\r\n"
     ]
    }
   ],
   "source": [
    "! kubectl get pod --selector=ray.io/cluster=raycluster-autoscaler\n",
    "# NAME                                             READY   STATUS    RESTARTS   AGE\n",
    "# raycluster-autoscaler-head-xxxxx                 2/2     Running   0          XXs\n",
    "# raycluster-autoscaler-worker-small-group-yyyyy   1/1     Running   0          XXs\n",
    "# raycluster-autoscaler-worker-small-group-zzzzz   1/1     Running   0          XXs "
   ]
  },
  {
   "cell_type": "markdown",
   "id": "222c64f4",
   "metadata": {},
   "source": [
    "To get a summary of your cluster's status, run `ray status` on your cluster's Ray head node."
   ]
  },
  {
   "cell_type": "code",
   "execution_count": 5,
   "id": "6fa373aa",
   "metadata": {},
   "outputs": [
    {
     "name": "stdout",
     "output_type": "stream",
     "text": [
      "======== Autoscaler status: 2022-07-21 21:22:25.355156 ========\r\n",
      "Node status\r\n",
      "---------------------------------------------------------------\r\n",
      "Healthy:\r\n",
      " 1 head-group\r\n",
      " 2 small-group\r\n",
      "Pending:\r\n",
      " (no pending nodes)\r\n",
      "Recent failures:\r\n",
      " (no failures)\r\n",
      "\r\n",
      "Resources\r\n",
      "---------------------------------------------------------------\r\n",
      "Usage:\r\n",
      " 0.0/3.0 CPU\r\n",
      " 0.00/1.931 GiB memory\r\n",
      " 0.00/0.446 GiB object_store_memory\r\n",
      "\r\n",
      "Demands:\r\n",
      " {'CPU': 1}: 3+ from request_resources()\r\n",
      "\u001b[0m"
     ]
    }
   ],
   "source": [
    "! kubectl exec raycluster-autoscaler-head-xxxxx -it -c ray-head -- ray status\n",
    "# ======== Autoscaler status: 2022-07-21 xxxxxxxxxx ========\n",
    "# ...."
   ]
  },
  {
   "cell_type": "markdown",
   "id": "b56e07a3",
   "metadata": {},
   "source": [
    "Alternatively, to examine the full autoscaling logs, fetch the stdout of the Ray head pod's autoscaler sidecar:"
   ]
  },
  {
   "cell_type": "code",
   "execution_count": 6,
   "id": "4ec93304",
   "metadata": {},
   "outputs": [
    {
     "name": "stdout",
     "output_type": "stream",
     "text": [
      "======== Autoscaler status: 2022-07-21 21:23:15.315731 ========\r\n",
      "Node status\r\n",
      "---------------------------------------------------------------\r\n",
      "Healthy:\r\n",
      " 1 head-group\r\n",
      " 2 small-group\r\n",
      "Pending:\r\n",
      " (no pending nodes)\r\n",
      "Recent failures:\r\n",
      " (no failures)\r\n",
      "\r\n",
      "Resources\r\n",
      "---------------------------------------------------------------\r\n",
      "Usage:\r\n",
      " 0.0/3.0 CPU\r\n",
      " 0.00/1.931 GiB memory\r\n",
      " 0.00/0.446 GiB object_store_memory\r\n",
      "\r\n",
      "Demands:\r\n",
      " {'CPU': 1}: 3+ from request_resources()\r\n"
     ]
    }
   ],
   "source": [
    "# This command gets the last 20 lines of autoscaler logs.\n",
    "! kubectl logs raycluster-autoscaler-head-xxxxx -c autoscaler | tail -n 20\n",
    "# ======== Autoscaler status: 2022-07-21 xxxxxxxxxx ========\n",
    "# ..."
   ]
  },
  {
   "cell_type": "markdown",
   "id": "40d0a503",
   "metadata": {},
   "source": [
    "### The Ray head service"
   ]
  },
  {
   "cell_type": "markdown",
   "id": "c6e257f2",
   "metadata": {},
   "source": [
    "The KubeRay operator configures a [Kubernetes service](https://kubernetes.io/docs/concepts/services-networking/service/) targeting the Ray head pod. This service allows us to interact with Ray clusters without directly executing commands in the Ray container. To identify the Ray head service for our example cluster, run"
   ]
  },
  {
   "cell_type": "code",
   "execution_count": null,
   "id": "d3dae5fd",
   "metadata": {},
   "outputs": [],
   "source": [
    "! kubectl get service raycluster-autoscaler-head-svc\n",
    "# NAME                             TYPE        CLUSTER-IP     EXTERNAL-IP   PORT(S)                       AGE\n",
    "# raycluster-autoscaler-head-svc   ClusterIP   10.96.114.20   <none>        6379/TCP,8265/TCP,10001/TCP   XXs"
   ]
  },
  {
   "cell_type": "markdown",
   "id": "e29c48ba",
   "metadata": {},
   "source": [
    "### Using Ray Job submission"
   ]
  },
  {
   "cell_type": "markdown",
   "id": "243ad524",
   "metadata": {},
   "source": [
    "Ray provides a [Job Submission API](https://docs.ray.io/en/master/cluster/job-submission.html#ray-job-submission) which can be used to submit Ray workloads to a remote Ray cluster. The Ray Job Submission server listens on the Ray head's Dashboard port, 8265 by default. Let's access the dashboard port via port-forwarding. \n",
    "\n",
    "Note: The following port-forwarding command is blocking. If you are following along from a Jupyter notebook, the command must be executed in a separate shell outside of the notebook."
   ]
  },
  {
   "cell_type": "code",
   "execution_count": null,
   "id": "23c113b6",
   "metadata": {},
   "outputs": [],
   "source": [
    "%%bash\n",
    "# Execute this in a separate shell.\n",
    "kubectl port-forward service/raycluster-autoscaler-head-svc 8265:8265"
   ]
  },
  {
   "cell_type": "markdown",
   "id": "ec66649c",
   "metadata": {},
   "source": [
    "Now that we have forwarded the dashboard port to a local port, we can submit a Ray program for execution on the head node."
   ]
  },
  {
   "cell_type": "code",
   "execution_count": 11,
   "id": "9f5dd4d0",
   "metadata": {},
   "outputs": [
    {
     "name": "stdout",
     "output_type": "stream",
     "text": [
      "\u001b[37mJob submission server address\u001b[39m: \u001b[1mhttp://localhost:8265\u001b[22m\n",
      "\n",
      "\u001b[32m-------------------------------------------------------\u001b[39m\n",
      "\u001b[32mJob 'raysubmit_kyET4V7HNZ4etBTu' submitted successfully\u001b[39m\n",
      "\u001b[32m-------------------------------------------------------\u001b[39m\n",
      "\n",
      "\u001b[36mNext steps\u001b[39m\n",
      "  Query the logs of the job:\n",
      "    \u001b[1mray job logs raysubmit_kyET4V7HNZ4etBTu\u001b[22m\n",
      "  Query the status of the job:\n",
      "    \u001b[1mray job status raysubmit_kyET4V7HNZ4etBTu\u001b[22m\n",
      "  Request the job to be stopped:\n",
      "    \u001b[1mray job stop raysubmit_kyET4V7HNZ4etBTu\u001b[22m\n",
      "\n",
      "Tailing logs until the job exits (disable with --no-wait):\n",
      "{'CPU': 3.0, 'node:10.244.0.22': 1.0, 'object_store_memory': 482709502.0, 'memory': 2073741824.0, 'node:10.244.0.20': 1.0, 'node:10.244.0.21': 1.0}\n",
      "\n",
      "\u001b[32m------------------------------------------\u001b[39m\n",
      "\u001b[32mJob 'raysubmit_kyET4V7HNZ4etBTu' succeeded\u001b[39m\n",
      "\u001b[32m------------------------------------------\u001b[39m\n",
      "\n",
      "\u001b[0m"
     ]
    }
   ],
   "source": [
    "# Install Ray locally to use the Ray Job CLI\n",
    "# The following job's logs will show the Ray cluster's total resource capacity, including 3 CPUs.\n",
    "! ray job submit --address http://localhost:8265 -- python -c \"import ray; ray.init(); print(ray.cluster_resources())\""
   ]
  },
  {
   "cell_type": "markdown",
   "id": "c5d52948",
   "metadata": {},
   "source": [
    "### Viewing the Ray Dashboard\n",
    "\n",
    "Assuming the port-forwarding process described above is still running, you may view the Ray Dashboard by visiting `localhost:8265`.\n",
    "\n",
    "The dashboard port will not be used in the rest of this guide. You may stop the port-forwarding process if you wish.\n",
    "\n",
    "### Accessing the cluster using Ray Client\n",
    "\n",
    "[Ray Client](https://docs.ray.io/en/latest/cluster/ray-client.html) allows you to interact programatically with a remote Ray cluster using the core Ray APIs.\n",
    "To try out Ray Client, first make sure your local Ray version and Python minor version match the versions used in your Ray cluster. The Ray cluster in our example is running Ray 2.0.0 and Python 3.7, so that's what we'll need locally. If you have a different local Python version and would like to avoid changing it, you can modify the images specified in the yaml file `ray-cluster.autoscaler.yaml`. For example, use `rayproject/ray:2.0.0-py38` for Python 3.8.\n",
    "\n",
    "After confirming the Ray and Python versions match up, the next step is to port-forward the Ray Client server port (10001 by default).\n",
    "If you are following along in a Jupyter notebook, execute the following command in a separate shell."
   ]
  },
  {
   "cell_type": "code",
   "execution_count": null,
   "id": "d1f4154f",
   "metadata": {},
   "outputs": [],
   "source": [
    "%%bash\n",
    "# Execute this in a separate shell.\n",
    "kubectl port-forward service/raycluster-autoscaler-head-svc 10001:10001"
   ]
  },
  {
   "cell_type": "markdown",
   "id": "6ab3bdfe",
   "metadata": {},
   "source": [
    "Now that we have port-forwarding set up, we can connect to the Ray Client from a local Python shell as follows:"
   ]
  },
  {
   "cell_type": "code",
   "execution_count": 17,
   "id": "6e5a5e0f",
   "metadata": {},
   "outputs": [
    {
     "name": "stderr",
     "output_type": "stream",
     "text": [
      "2022-07-21 21:38:29,779\tINFO client_builder.py:247 -- Passing the following kwargs to ray.init() on the server: logging_format\n"
     ]
    },
    {
     "name": "stdout",
     "output_type": "stream",
     "text": [
      "The local host name is Dmitris-MBP.local.meter\n",
      "The Ray head pod's name is raycluster-autoscaler-head-wpcth\n"
     ]
    }
   ],
   "source": [
    "import ray\n",
    "import platform\n",
    "\n",
    "# Disconnect from Ray if already connected.\n",
    "ray.shutdown()\n",
    "\n",
    "ray.init(\"ray://localhost:10001\")\n",
    "\n",
    "# The network name of the local machine.\n",
    "local_host_name = platform.node()\n",
    "\n",
    "@ray.remote\n",
    "def get_host_name():\n",
    "    return platform.node()\n",
    "\n",
    "# The task will be scheduled on the head node.\n",
    "# Thus, this variable will hold the head pod's name.\n",
    "remote_host_name = ray.get(get_host_name.remote())\n",
    "\n",
    "print(\"The local host name is {}\".format(local_host_name))\n",
    "print(\"The Ray head pod's name is {}\".format(remote_host_name))"
   ]
  },
  {
   "cell_type": "markdown",
   "id": "b87a4f2e",
   "metadata": {},
   "source": [
    "## Cleanup\n",
    "\n",
    "### Deleting a Ray Cluster\n",
    "To delete the Ray Cluster we deployed in this example, you can run either of the following commands."
   ]
  },
  {
   "cell_type": "code",
   "execution_count": null,
   "id": "71a34ee3",
   "metadata": {},
   "outputs": [],
   "source": [
    "# Delete by reference to the RayCluster custom resource\n",
    "! kubectl delete raycluster raycluster-autoscaler"
   ]
  },
  {
   "cell_type": "markdown",
   "id": "d7aa0221",
   "metadata": {},
   "source": [
    "OR"
   ]
  },
  {
   "cell_type": "code",
   "execution_count": null,
   "id": "112e6d2e",
   "metadata": {},
   "outputs": [],
   "source": [
    "# Delete by reference to the yaml file we used to define the RayCluster CR \n",
    "! kubectl delete -f kuberay/ray-operator/samples/ray-cluster.autoscaler.yaml"
   ]
  },
  {
   "cell_type": "markdown",
   "id": "0de87d9d",
   "metadata": {},
   "source": [
    "Confirm that the Ray Cluster's pods are gone by running"
   ]
  },
  {
   "cell_type": "code",
   "execution_count": null,
   "id": "1b557ac5",
   "metadata": {},
   "outputs": [],
   "source": [
    "! kubectl get pods"
   ]
  },
  {
   "cell_type": "markdown",
   "id": "6c610cf3",
   "metadata": {},
   "source": [
    "Note that it may take several seconds for the Ray pods to be fully terminated."
   ]
  },
  {
   "cell_type": "markdown",
   "id": "6cc5dfff",
   "metadata": {},
   "source": [
    "### Deleting the KubeRay operator\n",
    "In typical operation, the KubeRay operator should be left as a long-running process that manages many Ray clusters.\n",
    "If you would like to delete the operator and associated resources, run"
   ]
  },
  {
   "cell_type": "code",
   "execution_count": null,
   "id": "24c371a4",
   "metadata": {},
   "outputs": [],
   "source": [
    "! kubectl delete -k kuberay/ray-operator/config/default"
   ]
  },
  {
   "cell_type": "markdown",
   "id": "99a76c96",
   "metadata": {},
   "source": [
    "### Deleting a local kind cluster\n",
    "Finally, if you'd like to delete your local kind cluster, run"
   ]
  },
  {
   "cell_type": "markdown",
   "id": "4e1db4f4",
   "metadata": {},
   "source": [
    "! kind delete cluster"
   ]
  }
 ],
 "metadata": {
  "kernelspec": {
   "display_name": "Python 3 (ipykernel)",
   "language": "python",
   "name": "python3"
  },
  "language_info": {
   "codemirror_mode": {
    "name": "ipython",
    "version": 3
   },
   "file_extension": ".py",
   "mimetype": "text/x-python",
   "name": "python",
   "nbconvert_exporter": "python",
   "pygments_lexer": "ipython3",
   "version": "3.8.10"
  }
 },
 "nbformat": 4,
 "nbformat_minor": 5
}
