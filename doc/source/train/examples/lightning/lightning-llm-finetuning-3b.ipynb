{
 "cells": [
  {
   "cell_type": "markdown",
   "metadata": {},
   "source": [
    "# Fine-tune Dolly-v2-3b with Ray AIR LightningTrainer and FSDP"
   ]
  },
  {
   "cell_type": "code",
   "execution_count": 1,
   "metadata": {
    "tags": []
   },
   "outputs": [],
   "source": [
    "# TODO(yunxuan): remove it\n",
    "import os\n",
    "os.environ[\"RAY_ML_DEV\"] = \"1\""
   ]
  },
  {
   "cell_type": "markdown",
   "metadata": {},
   "source": [
    "## Set up ray cluster \n",
    "In this example, we are using a ray cluster with 16 g4dn.4xlarge instances. Each instance has one Tesla T4 GPU (16GiB Memory). \n",
    "\n",
    "We define a `runtime_env` to install the necessary Python libraries on each node. You can skip this step if you have already installed all the required packages in your workers' base image."
   ]
  },
  {
   "cell_type": "code",
   "execution_count": 2,
   "metadata": {},
   "outputs": [
    {
     "name": "stderr",
     "output_type": "stream",
     "text": [
      "/home/ray/anaconda3/lib/python3.8/site-packages/tqdm/auto.py:21: TqdmWarning: IProgress not found. Please update jupyter and ipywidgets. See https://ipywidgets.readthedocs.io/en/stable/user_install.html\n",
      "  from .autonotebook import tqdm as notebook_tqdm\n",
      "find: ‘.git’: No such file or directory\n",
      "2023-05-03 00:48:56,096\tINFO worker.py:1432 -- Connecting to existing Ray cluster at address: 10.0.101.24:6379...\n",
      "2023-05-03 00:48:56,109\tINFO worker.py:1607 -- Connected to Ray cluster. View the dashboard at https://console.anyscale-staging.com/api/v2/sessions/ses_m411tiqu8eluvt1k5ivfqj4q5r/services?redirect_to=dashboard \n",
      "2023-05-03 00:48:56,704\tINFO packaging.py:347 -- Pushing file package 'gcs://_ray_pkg_0a976bba1383e20a994af9b9eaaa5a0a.zip' (0.15MiB) to Ray cluster...\n",
      "2023-05-03 00:48:56,706\tINFO packaging.py:360 -- Successfully pushed file package 'gcs://_ray_pkg_0a976bba1383e20a994af9b9eaaa5a0a.zip'.\n"
     ]
    },
    {
     "data": {
      "text/html": [
       "<div>\n",
       "    <div style=\"margin-left: 50px;display: flex;flex-direction: row;align-items: center\">\n",
       "        <h3 style=\"color: var(--jp-ui-font-color0)\">Ray</h3>\n",
       "        <svg version=\"1.1\" id=\"ray\" width=\"3em\" viewBox=\"0 0 144.5 144.6\" style=\"margin-left: 3em;margin-right: 3em\">\n",
       "            <g id=\"layer-1\">\n",
       "                <path fill=\"#00a2e9\" class=\"st0\" d=\"M97.3,77.2c-3.8-1.1-6.2,0.9-8.3,5.1c-3.5,6.8-9.9,9.9-17.4,9.6S58,88.1,54.8,81.2c-1.4-3-3-4-6.3-4.1\n",
       "                    c-5.6-0.1-9.9,0.1-13.1,6.4c-3.8,7.6-13.6,10.2-21.8,7.6C5.2,88.4-0.4,80.5,0,71.7c0.1-8.4,5.7-15.8,13.8-18.2\n",
       "                    c8.4-2.6,17.5,0.7,22.3,8c1.3,1.9,1.3,5.2,3.6,5.6c3.9,0.6,8,0.2,12,0.2c1.8,0,1.9-1.6,2.4-2.8c3.5-7.8,9.7-11.8,18-11.9\n",
       "                    c8.2-0.1,14.4,3.9,17.8,11.4c1.3,2.8,2.9,3.6,5.7,3.3c1-0.1,2,0.1,3,0c2.8-0.5,6.4,1.7,8.1-2.7s-2.3-5.5-4.1-7.5\n",
       "                    c-5.1-5.7-10.9-10.8-16.1-16.3C84,38,81.9,37.1,78,38.3C66.7,42,56.2,35.7,53,24.1C50.3,14,57.3,2.8,67.7,0.5\n",
       "                    C78.4-2,89,4.7,91.5,15.3c0.1,0.3,0.1,0.5,0.2,0.8c0.7,3.4,0.7,6.9-0.8,9.8c-1.7,3.2-0.8,5,1.5,7.2c6.7,6.5,13.3,13,19.8,19.7\n",
       "                    c1.8,1.8,3,2.1,5.5,1.2c9.1-3.4,17.9-0.6,23.4,7c4.8,6.9,4.6,16.1-0.4,22.9c-5.4,7.2-14.2,9.9-23.1,6.5c-2.3-0.9-3.5-0.6-5.1,1.1\n",
       "                    c-6.7,6.9-13.6,13.7-20.5,20.4c-1.8,1.8-2.5,3.2-1.4,5.9c3.5,8.7,0.3,18.6-7.7,23.6c-7.9,5-18.2,3.8-24.8-2.9\n",
       "                    c-6.4-6.4-7.4-16.2-2.5-24.3c4.9-7.8,14.5-11,23.1-7.8c3,1.1,4.7,0.5,6.9-1.7C91.7,98.4,98,92.3,104.2,86c1.6-1.6,4.1-2.7,2.6-6.2\n",
       "                    c-1.4-3.3-3.8-2.5-6.2-2.6C99.8,77.2,98.9,77.2,97.3,77.2z M72.1,29.7c5.5,0.1,9.9-4.3,10-9.8c0-0.1,0-0.2,0-0.3\n",
       "                    C81.8,14,77,9.8,71.5,10.2c-5,0.3-9,4.2-9.3,9.2c-0.2,5.5,4,10.1,9.5,10.3C71.8,29.7,72,29.7,72.1,29.7z M72.3,62.3\n",
       "                    c-5.4-0.1-9.9,4.2-10.1,9.7c0,0.2,0,0.3,0,0.5c0.2,5.4,4.5,9.7,9.9,10c5.1,0.1,9.9-4.7,10.1-9.8c0.2-5.5-4-10-9.5-10.3\n",
       "                    C72.6,62.3,72.4,62.3,72.3,62.3z M115,72.5c0.1,5.4,4.5,9.7,9.8,9.9c5.6-0.2,10-4.8,10-10.4c-0.2-5.4-4.6-9.7-10-9.7\n",
       "                    c-5.3-0.1-9.8,4.2-9.9,9.5C115,72.1,115,72.3,115,72.5z M19.5,62.3c-5.4,0.1-9.8,4.4-10,9.8c-0.1,5.1,5.2,10.4,10.2,10.3\n",
       "                    c5.6-0.2,10-4.9,9.8-10.5c-0.1-5.4-4.5-9.7-9.9-9.6C19.6,62.3,19.5,62.3,19.5,62.3z M71.8,134.6c5.9,0.2,10.3-3.9,10.4-9.6\n",
       "                    c0.5-5.5-3.6-10.4-9.1-10.8c-5.5-0.5-10.4,3.6-10.8,9.1c0,0.5,0,0.9,0,1.4c-0.2,5.3,4,9.8,9.3,10\n",
       "                    C71.6,134.6,71.7,134.6,71.8,134.6z\"/>\n",
       "            </g>\n",
       "        </svg>\n",
       "        <table>\n",
       "            <tr>\n",
       "                <td style=\"text-align: left\"><b>Python version:</b></td>\n",
       "                <td style=\"text-align: left\"><b>3.8.13</b></td>\n",
       "            </tr>\n",
       "            <tr>\n",
       "                <td style=\"text-align: left\"><b>Ray version:</b></td>\n",
       "                <td style=\"text-align: left\"><b> 3.0.0.dev0</b></td>\n",
       "            </tr>\n",
       "            <tr>\n",
       "    <td style=\"text-align: left\"><b>Dashboard:</b></td>\n",
       "    <td style=\"text-align: left\"><b><a href=\"http://console.anyscale-staging.com/api/v2/sessions/ses_m411tiqu8eluvt1k5ivfqj4q5r/services?redirect_to=dashboard\" target=\"_blank\">http://console.anyscale-staging.com/api/v2/sessions/ses_m411tiqu8eluvt1k5ivfqj4q5r/services?redirect_to=dashboard</a></b></td>\n",
       "</tr>\n",
       "\n",
       "        </table>\n",
       "    </div>\n",
       "</div>\n"
      ],
      "text/plain": [
       "RayContext(dashboard_url='console.anyscale-staging.com/api/v2/sessions/ses_m411tiqu8eluvt1k5ivfqj4q5r/services?redirect_to=dashboard', python_version='3.8.13', ray_version='3.0.0.dev0', ray_commit='b5e5bd7beb1d725dbc7689ee1e7fa3c9a8bef771', address_info={'node_ip_address': '10.0.101.24', 'raylet_ip_address': '10.0.101.24', 'redis_address': None, 'object_store_address': '/tmp/ray/session_2023-05-02_23-42-30_594593_2930/sockets/plasma_store', 'raylet_socket_name': '/tmp/ray/session_2023-05-02_23-42-30_594593_2930/sockets/raylet', 'webui_url': 'console.anyscale-staging.com/api/v2/sessions/ses_m411tiqu8eluvt1k5ivfqj4q5r/services?redirect_to=dashboard', 'session_dir': '/tmp/ray/session_2023-05-02_23-42-30_594593_2930', 'metrics_export_port': 8085, 'gcs_address': '10.0.101.24:6379', 'address': '10.0.101.24:6379', 'dashboard_agent_listen_port': 6822, 'node_id': 'eadb59b3a33ad73d09248227061eb7e6ccc5f58ccf01908ba8578cee'})"
      ]
     },
     "execution_count": 2,
     "metadata": {},
     "output_type": "execute_result"
    }
   ],
   "source": [
    "import ray\n",
    "\n",
    "ray.init(\n",
    "    runtime_env={\n",
    "        \"pip\": [\n",
    "            \"datasets\",\n",
    "            \"evaluate\",\n",
    "            \"transformers>=4.26.0\",\n",
    "            \"torch>=1.12.0\",\n",
    "            \"pytorch_lightning>=2.0\",\n",
    "        ]\n",
    "    }\n",
    ")"
   ]
  },
  {
   "cell_type": "code",
   "execution_count": 3,
   "metadata": {},
   "outputs": [],
   "source": [
    "num_workers = 16\n",
    "batch_size_per_worker = 20\n",
    "MODEL_NAME = \"databricks/dolly-v2-3b\""
   ]
  },
  {
   "cell_type": "markdown",
   "metadata": {},
   "source": [
    "## Prepare your data \n",
    "We are using tiny_shakespeare for fine-tuning, which contains 40,000 lines of Shakespeare from a variety of Shakespeare's plays. Featured in Andrej Karpathy's blog post ['The Unreasonable Effectiveness of Recurrent Neural Networks'](http://karpathy.github.io/2015/05/21/rnn-effectiveness/). \n",
    "\n",
    "Dataset samples:\n",
    "```\n",
    "BAPTISTA:\n",
    "I know him well: you are welcome for his sake.\n",
    "\n",
    "GREMIO:\n",
    "Saving your tale, Petruchio, I pray,\n",
    "Let us, that are poor petitioners, speak too:\n",
    "Baccare! you are marvellous forward.\n",
    "\n",
    "PETRUCHIO:\n",
    "O, pardon me, Signior Gremio; I would fain be doing.\n",
    "```\n",
    "\n",
    "Here, we have adopted similar pre-processing logic from another demo: {ref}`GPT-J-6B Fine-Tuning with Ray AIR and DeepSpeed <gpt-j-6b-finetune-deepspeed>`."
   ]
  },
  {
   "cell_type": "code",
   "execution_count": 4,
   "metadata": {},
   "outputs": [
    {
     "name": "stderr",
     "output_type": "stream",
     "text": [
      "Found cached dataset tiny_shakespeare (/home/ray/.cache/huggingface/datasets/tiny_shakespeare/default/1.0.0/b5b13969f09fe8707337f6cb296314fbe06960bd9a868dca39e713e163d27b5e)\n",
      "100%|██████████| 3/3 [00:00<00:00, 632.18it/s]\n"
     ]
    }
   ],
   "source": [
    "import ray\n",
    "import pandas as pd\n",
    "from datasets import load_dataset\n",
    "from ray.data.preprocessors import BatchMapper, Chain\n",
    "from transformers import AutoTokenizer, AutoModelForCausalLM\n",
    "\n",
    "def split_text(batch: pd.DataFrame) -> pd.DataFrame:\n",
    "    text = list(batch[\"text\"])\n",
    "    flat_text = \"\".join(text)\n",
    "    split_text = [\n",
    "        x.strip()\n",
    "        for x in flat_text.split(\"\\n\")\n",
    "        if x.strip() and not x.strip()[-1] == \":\"\n",
    "    ]\n",
    "    return pd.DataFrame(split_text, columns=[\"text\"])\n",
    "\n",
    "\n",
    "def tokenize(batch: pd.DataFrame) -> dict:\n",
    "    tokenizer = AutoTokenizer.from_pretrained(MODEL_NAME, padding_side=\"left\")\n",
    "    tokenizer.pad_token = tokenizer.eos_token\n",
    "    ret = tokenizer(\n",
    "        list(batch[\"text\"]),\n",
    "        truncation=True,\n",
    "        max_length=256,\n",
    "        padding=\"max_length\",\n",
    "        return_tensors=\"np\",\n",
    "    )\n",
    "    ret[\"labels\"] = ret[\"input_ids\"].copy()\n",
    "    return dict(ret)\n",
    "\n",
    "splitter = BatchMapper(split_text, batch_format=\"pandas\")\n",
    "tokenizer = BatchMapper(tokenize, batch_format=\"pandas\")\n",
    "preprocessor = Chain(splitter, tokenizer)\n",
    "\n",
    "hf_dataset = load_dataset(\"tiny_shakespeare\")\n",
    "ray_datasets = ray.data.from_huggingface(hf_dataset)"
   ]
  },
  {
   "cell_type": "markdown",
   "metadata": {},
   "source": [
    "We first split the original paragraphs into multiple sentences, then tokenize them. Here are some samples:"
   ]
  },
  {
   "cell_type": "code",
   "execution_count": 5,
   "metadata": {},
   "outputs": [
    {
     "name": "stderr",
     "output_type": "stream",
     "text": [
      "2023-05-03 00:49:00,299\tINFO datastream.py:2271 -- Tip: Use `take_batch()` instead of `take() / show()` to return records in pandas or numpy batch format.\n",
      "2023-05-03 00:49:00,302\tINFO streaming_executor.py:87 -- Executing DAG InputDataBuffer[Input] -> TaskPoolMapOperator[BatchMapper]\n",
      "2023-05-03 00:49:00,303\tINFO streaming_executor.py:88 -- Execution config: ExecutionOptions(resource_limits=ExecutionResources(cpu=None, gpu=None, object_store_memory=None), locality_with_output=False, preserve_order=False, actor_locality_enabled=True, verbose_progress=False)\n",
      "2023-05-03 00:49:00,305\tINFO streaming_executor.py:90 -- Tip: To enable per-operator progress reporting, set RAY_DATA_VERBOSE_PROGRESS=1.\n",
      "                                                                                                                   \r"
     ]
    },
    {
     "data": {
      "text/plain": [
       "[{'text': 'Before we proceed any further, hear me speak.'},\n",
       " {'text': 'Speak, speak.'},\n",
       " {'text': 'You are all resolved rather to die than to famish?'},\n",
       " {'text': 'Resolved. resolved.'},\n",
       " {'text': 'First, you know Caius Marcius is chief enemy to the people.'},\n",
       " {'text': \"We know't, we know't.\"},\n",
       " {'text': \"Let us kill him, and we'll have corn at our own price.\"},\n",
       " {'text': \"Is't a verdict?\"},\n",
       " {'text': \"No more talking on't; let it be done: away, away!\"},\n",
       " {'text': 'One word, good citizens.'}]"
      ]
     },
     "execution_count": 5,
     "metadata": {},
     "output_type": "execute_result"
    }
   ],
   "source": [
    "ds = ray_datasets[\"train\"]\n",
    "splitter.fit_transform(ds).take(10)"
   ]
  },
  {
   "cell_type": "markdown",
   "metadata": {},
   "source": [
    "## Define your lightning model\n",
    "\n",
    "In this example, we use the [Dolly-v2-3b](https://huggingface.co/databricks/dolly-v2-3b) model for finetuning. It is an instruction-following large language model trained on the Databricks machine learning platform that is licensed for commercial use. We load the model weights from Huggingface Model Hub and encapsulate it into a `pl.LightningModule`.\n",
    "\n",
    ":::{note}\n",
    "Make sure you pass the FSDP wrapped model parameters `self.trainer.model.parameters()` into the optimizer, instead of `self.model.parameters()`. \n",
    ":::\n"
   ]
  },
  {
   "cell_type": "code",
   "execution_count": 6,
   "metadata": {
    "tags": []
   },
   "outputs": [],
   "source": [
    "import torch\n",
    "import pytorch_lightning as pl\n",
    "\n",
    "class DollyV2Model(pl.LightningModule):\n",
    "    def __init__(self, lr=2e-5, eps=1e-8):\n",
    "        super().__init__()\n",
    "        self.lr = lr\n",
    "        self.eps = eps\n",
    "        self.model = AutoModelForCausalLM.from_pretrained(MODEL_NAME)\n",
    "        self.predictions = []\n",
    "        self.references = []\n",
    "\n",
    "    def forward(self, batch):\n",
    "        outputs = self.model(\n",
    "            batch[\"input_ids\"], \n",
    "            attention_mask=batch[\"attention_mask\"], \n",
    "            labels=batch[\"labels\"]\n",
    "        )\n",
    "        loss = outputs[0]\n",
    "        return loss\n",
    "\n",
    "    def training_step(self, batch, batch_idx):\n",
    "        loss = self.forward(batch)\n",
    "        self.log(\"train_loss\", loss, prog_bar=True, on_step=True)\n",
    "        return loss\n",
    "\n",
    "    def configure_optimizers(self):\n",
    "        return torch.optim.AdamW(self.trainer.model.parameters(), lr=self.lr, eps=self.eps)"
   ]
  },
  {
   "cell_type": "markdown",
   "metadata": {},
   "source": [
    "## Configure your FSDP strategy\n",
    "As Dolly-v2-3b is a relatively large model, it cannot be properly fit into a single commercial GPU. In this example, we use the FSDP strategy to shard model parameters across multiple workers. This allows us to avoid GPU out-of-memory issues and support a larger global batch size.\n",
    "\n",
    ":::{note}\n",
    "FSDP is a type of data parallelism that shards model parameters, optimizer states and gradients across DDP ranks. This was inspired by Xu et al. as well as the ZeRO Stage 3 from DeepSpeed. You may refer to these blogs for more information:\n",
    "\n",
    "- [Getting Started with Fully Sharded Data Parallel(FSDP)](https://pytorch.org/tutorials/intermediate/FSDP_tutorial.html#:~:text=FSDP%20is%20a%20type%20of,sizes%20for%20our%20training%20job.)\n",
    "- [Fully Sharded Data Parallel: faster AI training with fewer GPUs](https://engineering.fb.com/2021/07/15/open-source/fsdp/)\n",
    "- [PyTorch FSDP Tutorial](https://www.youtube.com/watch?v=8_k76AHu__s&list=PL_lsbAsL_o2BT6aerEKgIoufVD_fodnuT)\n",
    ":::\n",
    "\n",
    "To start trainig with Lightning's [FSDPStrategy](https://lightning.ai/docs/pytorch/stable/api/lightning.pytorch.strategies.FSDPStrategy.html#lightning.pytorch.strategies.FSDPStrategy), you only need to provide the initialization arguments in `LightningConfigBuilder.strategy()`. Behind the scenes, LightningTrainer handles the cluster environment settings and job launching.\n"
   ]
  },
  {
   "cell_type": "markdown",
   "metadata": {},
   "source": [
    ":::{tips}\n",
    "Some tips for FSDP configutarion:\n",
    "- `sharding_strategy`:\n",
    "    - `ShardingStrategy.NO_SHARD`: Parameters, gradients, and optimizer states are not sharded. Similar to DDP.\n",
    "    - `ShardingStrategy.SHARD_GRAD_OP`: Gradients and optimizer states are sharded during computation, and additionally, parameters are sharded outside computation.\n",
    "    - `ShardingStrategy.FULL_SHARD`: Parameters, gradients, and optimizer states are sharded. It has minimal GRAM usage among the 3 options.\n",
    "- `auto_wrap_policy`:\n",
    "    - Model layers are often wrapped with FSDP in a layered fashion. This means that only the layers in a single FSDP instance are required to aggregate all parameters to a single device during forwarding or backward calculations.\n",
    "    - Use `transformer_auto_wrap_policy` to automatically wrap each Transformer Block into a single FSDP instance. \n",
    "- `backward_prefetch` and `forward_prefetch`:\n",
    "    - Overlap the upcoming all-gather while executing the current forward/backward pass. It can improve throughput but may slightly increase peak memory usage.\n",
    ":::"
   ]
  },
  {
   "cell_type": "code",
   "execution_count": 7,
   "metadata": {},
   "outputs": [],
   "source": [
    "import functools\n",
    "from ray.train.lightning import LightningTrainer, LightningConfigBuilder\n",
    "from ray.air.config import RunConfig, ScalingConfig, CheckpointConfig\n",
    "from torch.distributed.fsdp.wrap import transformer_auto_wrap_policy\n",
    "from torch.distributed.fsdp import ShardingStrategy, BackwardPrefetch\n",
    "from transformers.models.gpt_neox.modeling_gpt_neox import GPTNeoXLayer\n",
    "\n",
    "# Define the model sharding policy:\n",
    "# Wrap every GPTNeoXLayer as its own FSDP instance\n",
    "auto_wrap_policy = functools.partial(\n",
    "    transformer_auto_wrap_policy,\n",
    "    transformer_layer_cls = {GPTNeoXLayer}\n",
    ")\n",
    "\n",
    "# Aggregate all arguments for LightningTrainer\n",
    "lightning_config = (\n",
    "    LightningConfigBuilder()\n",
    "    .module(cls=DollyV2Model, lr=2e-5, eps=1e-8)\n",
    "    .trainer(\n",
    "        max_epochs=1, \n",
    "        accelerator=\"gpu\", \n",
    "        precision=\"16-mixed\",\n",
    "    )\n",
    "    .strategy(\n",
    "        name=\"fsdp\",\n",
    "        sharding_strategy=ShardingStrategy.FULL_SHARD,\n",
    "        backward_prefetch=BackwardPrefetch.BACKWARD_PRE,\n",
    "        forward_prefetch=True,\n",
    "        auto_wrap_policy=auto_wrap_policy,\n",
    "        limit_all_gathers=True,\n",
    "        activation_checkpointing=[GPTNeoXLayer],\n",
    "    )\n",
    "    .checkpointing(save_last=True)\n",
    ")"
   ]
  },
  {
   "cell_type": "code",
   "execution_count": 8,
   "metadata": {
    "tags": [
     "remove-cell"
    ]
   },
   "outputs": [
    {
     "name": "stderr",
     "output_type": "stream",
     "text": [
      "2023-05-03 00:49:02,435\tINFO streaming_executor.py:87 -- Executing DAG InputDataBuffer[Input] -> TaskPoolMapOperator[BatchMapper]\n",
      "2023-05-03 00:49:02,436\tINFO streaming_executor.py:88 -- Execution config: ExecutionOptions(resource_limits=ExecutionResources(cpu=None, gpu=None, object_store_memory=None), locality_with_output=False, preserve_order=False, actor_locality_enabled=True, verbose_progress=False)\n",
      "2023-05-03 00:49:02,437\tINFO streaming_executor.py:90 -- Tip: To enable per-operator progress reporting, set RAY_DATA_VERBOSE_PROGRESS=1.\n",
      "                                                                                                                   \r"
     ]
    },
    {
     "data": {
      "text/plain": [
       "<ray.train.lightning.lightning_trainer.LightningConfigBuilder at 0x7f6d8429e580>"
      ]
     },
     "execution_count": 8,
     "metadata": {},
     "output_type": "execute_result"
    }
   ],
   "source": [
    "from pytorch_lightning.callbacks import TQDMProgressBar\n",
    "\n",
    "# Create a customized progress bar for LightningTrainer\n",
    "class DollyV2ProgressBar(TQDMProgressBar):\n",
    "    def __init__(self, num_iters_per_epoch, *args, **kwargs):\n",
    "        super().__init__(*args, **kwargs)\n",
    "        self.num_iters_per_epoch = num_iters_per_epoch\n",
    "    \n",
    "    def on_train_epoch_start(self, trainer, *_):\n",
    "        super().on_train_epoch_start(trainer, *_)\n",
    "        self.train_progress_bar.reset(self.num_iters_per_epoch)\n",
    "\n",
    "total_batches = splitter.fit_transform(ray_datasets[\"train\"]).count()\n",
    "num_iters_per_epoch = total_batches // (num_workers * batch_size_per_worker)\n",
    "lightning_config.trainer(callbacks=[DollyV2ProgressBar(num_iters_per_epoch)])"
   ]
  },
  {
   "cell_type": "markdown",
   "metadata": {},
   "source": [
    "## Fine-tune with LightningTrainer\n",
    "\n",
    "```{note}\n",
    "Here we upload the checkpoints to cloud storage by setting S3 bucket URI to {class}`air.RunConfig(storage_path) <ray.air.RunConfig>`. You can also write to your local file system. See {ref}`train-run-config` for an example.\n",
    "```"
   ]
  },
  {
   "cell_type": "code",
   "execution_count": 9,
   "metadata": {
    "tags": []
   },
   "outputs": [
    {
     "data": {
      "text/html": [
       "<div class=\"tuneStatus\">\n",
       "  <div style=\"display: flex;flex-direction: row\">\n",
       "    <div style=\"display: flex;flex-direction: column;\">\n",
       "      <h3>Tune Status</h3>\n",
       "      <table>\n",
       "<tbody>\n",
       "<tr><td>Current time:</td><td>2023-05-03 01:03:22</td></tr>\n",
       "<tr><td>Running for: </td><td>00:14:20.28        </td></tr>\n",
       "<tr><td>Memory:      </td><td>9.1/124.4 GiB      </td></tr>\n",
       "</tbody>\n",
       "</table>\n",
       "    </div>\n",
       "    <div class=\"vDivider\"></div>\n",
       "    <div class=\"systemInfo\">\n",
       "      <h3>System Info</h3>\n",
       "      Using FIFO scheduling algorithm.<br>Logical resource usage: 0/272 CPUs, 0/16 GPUs (0.0/16.0 accelerator_type:T4)\n",
       "    </div>\n",
       "    \n",
       "  </div>\n",
       "  <div class=\"hDivider\"></div>\n",
       "  <div class=\"trialStatus\">\n",
       "    <h3>Trial Status</h3>\n",
       "    <table>\n",
       "<thead>\n",
       "<tr><th>Trial name                  </th><th>status    </th><th>loc              </th><th style=\"text-align: right;\">  iter</th><th style=\"text-align: right;\">  total time (s)</th><th style=\"text-align: right;\">  train_loss</th><th style=\"text-align: right;\">  epoch</th><th style=\"text-align: right;\">  step</th></tr>\n",
       "</thead>\n",
       "<tbody>\n",
       "<tr><td>LightningTrainer_f8b8d_00000</td><td>TERMINATED</td><td>10.0.101.24:95152</td><td style=\"text-align: right;\">     1</td><td style=\"text-align: right;\">         703.738</td><td style=\"text-align: right;\">    0.174805</td><td style=\"text-align: right;\">      0</td><td style=\"text-align: right;\">    68</td></tr>\n",
       "</tbody>\n",
       "</table>\n",
       "  </div>\n",
       "</div>\n",
       "<style>\n",
       ".tuneStatus {\n",
       "  color: var(--jp-ui-font-color1);\n",
       "}\n",
       ".tuneStatus .systemInfo {\n",
       "  display: flex;\n",
       "  flex-direction: column;\n",
       "}\n",
       ".tuneStatus td {\n",
       "  white-space: nowrap;\n",
       "}\n",
       ".tuneStatus .trialStatus {\n",
       "  display: flex;\n",
       "  flex-direction: column;\n",
       "}\n",
       ".tuneStatus h3 {\n",
       "  font-weight: bold;\n",
       "}\n",
       ".tuneStatus .hDivider {\n",
       "  border-bottom-width: var(--jp-border-width);\n",
       "  border-bottom-color: var(--jp-border-color0);\n",
       "  border-bottom-style: solid;\n",
       "}\n",
       ".tuneStatus .vDivider {\n",
       "  border-left-width: var(--jp-border-width);\n",
       "  border-left-color: var(--jp-border-color0);\n",
       "  border-left-style: solid;\n",
       "  margin: 0.5em 1em 0.5em 1em;\n",
       "}\n",
       "</style>\n"
      ],
      "text/plain": [
       "<IPython.core.display.HTML object>"
      ]
     },
     "metadata": {},
     "output_type": "display_data"
    },
    {
     "name": "stderr",
     "output_type": "stream",
     "text": [
      "2023-05-03 00:49:02,618\tWARNING trial_runner.py:1607 -- The maximum number of pending trials has been automatically set to the number of available cluster CPUs, which is high (299 CPUs/pending trials). If you're running an experiment with a large number of trials, this could lead to scheduling overhead. In this case, consider setting the `TUNE_MAX_PENDING_TRIALS_PG` environment variable to the desired maximum number of concurrent trials.\n",
      "(LightningTrainer pid=95152) 2023-05-03 00:49:08,960\tINFO backend_executor.py:128 -- Starting distributed worker processes: ['95290 (10.0.101.24)', '42304 (10.0.66.166)', '41692 (10.0.72.236)', '41563 (10.0.70.150)', '41731 (10.0.126.164)', '41731 (10.0.76.1)', '21985 (10.0.119.169)', '42156 (10.0.119.233)', '41966 (10.0.107.33)', '41997 (10.0.101.104)', '41062 (10.0.90.237)', '41395 (10.0.121.101)', '42062 (10.0.126.135)', '41707 (10.0.96.128)', '41521 (10.0.71.196)', '41532 (10.0.125.85)']\n",
      "(RayTrainWorker pid=95290) 2023-05-03 00:49:10,377\tINFO config.py:86 -- Setting up process group for: env:// [rank=0, world_size=16]\n",
      "(LightningTrainer pid=95152) 2023-05-03 00:49:10,995\tINFO streaming_executor.py:87 -- Executing DAG InputDataBuffer[Input] -> TaskPoolMapOperator[BatchMapper->BatchMapper] -> AllToAllOperator[RandomizeBlockOrder]\n",
      "(LightningTrainer pid=95152) 2023-05-03 00:49:10,995\tINFO streaming_executor.py:88 -- Execution config: ExecutionOptions(resource_limits=ExecutionResources(cpu=None, gpu=None, object_store_memory=None), locality_with_output=False, preserve_order=False, actor_locality_enabled=True, verbose_progress=False)\n",
      "(LightningTrainer pid=95152) 2023-05-03 00:49:10,996\tINFO streaming_executor.py:90 -- Tip: To enable per-operator progress reporting, set RAY_DATA_VERBOSE_PROGRESS=1.\n",
      "\n",
      "(pid=95152) Running: 0.0/272.0 CPU, 0.0/16.0 GPU, 0.0 MiB/73.21 GiB object_store_memory:   0%|          | 0/1 [00:00<?, ?it/s]\n",
      "(pid=95152) Running: 0.0/272.0 CPU, 0.0/16.0 GPU, 0.0 MiB/73.21 GiB object_store_memory:   0%|          | 0/1 [00:04<?, ?it/s]   \n",
      "(pid=95152) - RandomizeBlockOrder: 0 active, 0 queued, 0.0 MiB objects, 1 output:   0%|          | 0/1 [00:04<?, ?it/s]\n",
      "(pid=95152) Running: 0.0/272.0 CPU, 0.0/16.0 GPU, 126.69 MiB/73.21 GiB object_store_memory:   0%|          | 0/1 [00:04<?, ?it/s]\n",
      "                                                                                                                                         \n",
      "                                                                                                                               (RayTrainWorker pid=95290) Using 16bit Automatic Mixed Precision (AMP)\n",
      "(RayTrainWorker pid=95290) GPU available: True (cuda), used: True\n",
      "(RayTrainWorker pid=95290) TPU available: False, using: 0 TPU cores\n",
      "(RayTrainWorker pid=95290) IPU available: False, using: 0 IPUs\n",
      "(RayTrainWorker pid=95290) HPU available: False, using: 0 HPUs\n",
      "(RayTrainWorker pid=95290) Missing logger folder: /home/ray/ray_results/finetune_dolly-v2-3b/LightningTrainer_f8b8d_00000_0_2023-05-03_00-49-02/rank_0/lightning_logs\n",
      "(RayTrainWorker pid=41395, ip=10.0.121.101) LOCAL_RANK: 0 - CUDA_VISIBLE_DEVICES: [0]\n",
      "(RayTrainWorker pid=95290) \n",
      "(RayTrainWorker pid=95290)   | Name  | Type               | Params\n",
      "(RayTrainWorker pid=95290) ---------------------------------------------\n",
      "(RayTrainWorker pid=95290) 0 | model | GPTNeoXForCausalLM | 157 M \n",
      "(RayTrainWorker pid=95290) ---------------------------------------------\n",
      "(RayTrainWorker pid=95290) 157 M     Trainable params\n",
      "(RayTrainWorker pid=95290) 0         Non-trainable params\n",
      "(RayTrainWorker pid=95290) 157 M     Total params\n",
      "(RayTrainWorker pid=95290) 629.412   Total estimated model params size (MB)\n",
      "(RayTrainWorker pid=42304, ip=10.0.66.166) Using 16bit Automatic Mixed Precision (AMP) [repeated 15x across cluster] (Ray deduplicates logs by default. Set RAY_DEDUP_LOGS=0 to disable log deduplication, or see https://docs.ray.io/en/master/ray-observability/ray-logging.html#log-deduplication for more options.)\n",
      "(RayTrainWorker pid=42304, ip=10.0.66.166) Missing logger folder: /home/ray/ray_results/finetune_dolly-v2-3b/LightningTrainer_f8b8d_00000_0_2023-05-03_00-49-02/rank_1/lightning_logs [repeated 15x across cluster]\n",
      "(RayTrainWorker pid=41731, ip=10.0.76.1) LOCAL_RANK: 0 - CUDA_VISIBLE_DEVICES: [0] [repeated 15x across cluster]\n"
     ]
    },
    {
     "name": "stdout",
     "output_type": "stream",
     "text": [
      "Epoch 0:   0%|          | 0/67 [00:00<?, ?it/s]\n"
     ]
    },
    {
     "name": "stderr",
     "output_type": "stream",
     "text": [
      "(RayTrainWorker pid=95290) /home/ray/anaconda3/lib/python3.8/site-packages/pytorch_lightning/trainer/connectors/data_connector.py:430: PossibleUserWarning: The dataloader, train_dataloader, does not have many workers which may be a bottleneck. Consider increasing the value of the `num_workers` argument` (try 32 which is the number of cpus on this machine) in the `DataLoader` init to improve performance.\n",
      "(RayTrainWorker pid=95290)   rank_zero_warn(\n"
     ]
    },
    {
     "name": "stdout",
     "output_type": "stream",
     "text": [
      "Epoch 0:   1%|▏         | 1/67 [00:09<09:59,  9.08s/it, v_num=0, train_loss=11.70]\n",
      "Epoch 0:   3%|▎         | 2/67 [00:16<09:09,  8.46s/it, v_num=0, train_loss=11.80]\n",
      "Epoch 0:   4%|▍         | 3/67 [00:24<08:50,  8.28s/it, v_num=0, train_loss=11.80]\n",
      "Epoch 0:   6%|▌         | 4/67 [00:32<08:39,  8.25s/it, v_num=0, train_loss=11.80]\n",
      "Epoch 0:   7%|▋         | 5/67 [00:41<08:31,  8.25s/it, v_num=0, train_loss=11.80]\n",
      "Epoch 0:   9%|▉         | 6/67 [00:49<08:23,  8.26s/it, v_num=0, train_loss=11.80]\n",
      "Epoch 0:  10%|█         | 7/67 [00:57<08:16,  8.28s/it, v_num=0, train_loss=11.80]\n",
      "Epoch 0:  12%|█▏        | 8/67 [01:06<08:09,  8.30s/it, v_num=0, train_loss=11.80]\n",
      "Epoch 0:  13%|█▎        | 9/67 [01:14<08:01,  8.31s/it, v_num=0, train_loss=11.80]\n",
      "Epoch 0:  13%|█▎        | 9/67 [01:14<08:02,  8.32s/it, v_num=0, train_loss=11.80]\n",
      "Epoch 0:  15%|█▍        | 10/67 [01:23<07:53,  8.31s/it, v_num=0, train_loss=11.80]\n",
      "Epoch 0:  15%|█▍        | 10/67 [01:23<07:54,  8.32s/it, v_num=0, train_loss=0.352]\n",
      "Epoch 0:  16%|█▋        | 11/67 [01:31<07:45,  8.32s/it, v_num=0, train_loss=0.366]\n",
      "Epoch 0:  18%|█▊        | 12/67 [01:39<07:37,  8.31s/it, v_num=0, train_loss=0.366]\n",
      "Epoch 0:  18%|█▊        | 12/67 [01:39<07:37,  8.32s/it, v_num=0, train_loss=0.350]\n",
      "Epoch 0:  19%|█▉        | 13/67 [01:48<07:28,  8.31s/it, v_num=0, train_loss=0.350]\n",
      "Epoch 0:  19%|█▉        | 13/67 [01:48<07:29,  8.32s/it, v_num=0, train_loss=0.360]\n",
      "Epoch 0:  21%|██        | 14/67 [01:56<07:20,  8.31s/it, v_num=0, train_loss=0.360]\n",
      "Epoch 0:  21%|██        | 14/67 [01:56<07:20,  8.32s/it, v_num=0, train_loss=0.370]\n",
      "Epoch 0:  22%|██▏       | 15/67 [02:04<07:12,  8.31s/it, v_num=0, train_loss=0.370]\n",
      "Epoch 0:  22%|██▏       | 15/67 [02:04<07:12,  8.31s/it, v_num=0, train_loss=0.337]\n",
      "Epoch 0:  24%|██▍       | 16/67 [02:12<07:03,  8.30s/it, v_num=0, train_loss=0.337]\n",
      "Epoch 0:  24%|██▍       | 16/67 [02:12<07:03,  8.31s/it, v_num=0, train_loss=0.330]\n",
      "Epoch 0:  25%|██▌       | 17/67 [02:21<06:55,  8.30s/it, v_num=0, train_loss=0.330]\n",
      "Epoch 0:  25%|██▌       | 17/67 [02:21<06:55,  8.31s/it, v_num=0, train_loss=0.326]\n",
      "Epoch 0:  27%|██▋       | 18/67 [02:29<06:46,  8.30s/it, v_num=0, train_loss=0.326]\n",
      "Epoch 0:  27%|██▋       | 18/67 [02:29<06:46,  8.30s/it, v_num=0, train_loss=0.375]\n",
      "Epoch 0:  28%|██▊       | 19/67 [02:37<06:38,  8.31s/it, v_num=0, train_loss=0.375]\n",
      "Epoch 0:  28%|██▊       | 19/67 [02:37<06:38,  8.31s/it, v_num=0, train_loss=0.324]\n",
      "Epoch 0:  30%|██▉       | 20/67 [02:46<06:31,  8.33s/it, v_num=0, train_loss=0.324]\n",
      "Epoch 0:  30%|██▉       | 20/67 [02:46<06:31,  8.33s/it, v_num=0, train_loss=0.329]\n",
      "Epoch 0:  31%|███▏      | 21/67 [02:54<06:23,  8.33s/it, v_num=0, train_loss=0.329]\n",
      "Epoch 0:  31%|███▏      | 21/67 [02:54<06:23,  8.33s/it, v_num=0, train_loss=0.321]\n",
      "Epoch 0:  33%|███▎      | 22/67 [03:03<06:14,  8.32s/it, v_num=0, train_loss=0.316]\n",
      "Epoch 0:  34%|███▍      | 23/67 [03:11<06:06,  8.32s/it, v_num=0, train_loss=0.316]\n",
      "Epoch 0:  34%|███▍      | 23/67 [03:11<06:06,  8.32s/it, v_num=0, train_loss=0.269]\n",
      "Epoch 0:  36%|███▌      | 24/67 [03:19<05:57,  8.31s/it, v_num=0, train_loss=0.269]\n",
      "Epoch 0:  36%|███▌      | 24/67 [03:19<05:57,  8.32s/it, v_num=0, train_loss=0.291]\n",
      "Epoch 0:  37%|███▋      | 25/67 [03:27<05:48,  8.31s/it, v_num=0, train_loss=0.291]\n",
      "Epoch 0:  37%|███▋      | 25/67 [03:27<05:48,  8.31s/it, v_num=0, train_loss=0.270]\n",
      "Epoch 0:  39%|███▉      | 26/67 [03:35<05:40,  8.30s/it, v_num=0, train_loss=0.270]\n",
      "Epoch 0:  39%|███▉      | 26/67 [03:35<05:40,  8.30s/it, v_num=0, train_loss=0.259]\n",
      "Epoch 0:  40%|████      | 27/67 [03:44<05:31,  8.30s/it, v_num=0, train_loss=0.259]\n",
      "Epoch 0:  40%|████      | 27/67 [03:44<05:31,  8.30s/it, v_num=0, train_loss=0.242]\n",
      "Epoch 0:  42%|████▏     | 28/67 [03:52<05:23,  8.29s/it, v_num=0, train_loss=0.242]\n",
      "Epoch 0:  42%|████▏     | 28/67 [03:52<05:23,  8.29s/it, v_num=0, train_loss=0.236]\n",
      "Epoch 0:  43%|████▎     | 29/67 [04:00<05:15,  8.29s/it, v_num=0, train_loss=0.236]\n",
      "Epoch 0:  43%|████▎     | 29/67 [04:00<05:15,  8.29s/it, v_num=0, train_loss=0.214]\n",
      "Epoch 0:  45%|████▍     | 30/67 [04:08<05:06,  8.29s/it, v_num=0, train_loss=0.233]\n",
      "Epoch 0:  46%|████▋     | 31/67 [04:16<04:58,  8.29s/it, v_num=0, train_loss=0.237]\n",
      "Epoch 0:  48%|████▊     | 32/67 [04:25<04:49,  8.28s/it, v_num=0, train_loss=0.241]\n",
      "Epoch 0:  49%|████▉     | 33/67 [04:33<04:41,  8.28s/it, v_num=0, train_loss=0.229]\n",
      "Epoch 0:  51%|█████     | 34/67 [04:41<04:32,  8.27s/it, v_num=0, train_loss=0.229]\n",
      "Epoch 0:  51%|█████     | 34/67 [04:41<04:33,  8.27s/it, v_num=0, train_loss=0.238]\n",
      "Epoch 0:  52%|█████▏    | 35/67 [04:49<04:24,  8.27s/it, v_num=0, train_loss=0.238]\n",
      "Epoch 0:  52%|█████▏    | 35/67 [04:49<04:24,  8.27s/it, v_num=0, train_loss=0.224]\n",
      "Epoch 0:  54%|█████▎    | 36/67 [04:57<04:16,  8.26s/it, v_num=0, train_loss=0.213]\n",
      "Epoch 0:  55%|█████▌    | 37/67 [05:05<04:07,  8.26s/it, v_num=0, train_loss=0.256]\n",
      "Epoch 0:  57%|█████▋    | 38/67 [05:13<03:59,  8.25s/it, v_num=0, train_loss=0.256]\n",
      "Epoch 0:  57%|█████▋    | 38/67 [05:13<03:59,  8.25s/it, v_num=0, train_loss=0.216]\n",
      "Epoch 0:  58%|█████▊    | 39/67 [05:21<03:51,  8.25s/it, v_num=0, train_loss=0.199]\n",
      "Epoch 0:  60%|█████▉    | 40/67 [05:29<03:42,  8.25s/it, v_num=0, train_loss=0.249]\n",
      "Epoch 0:  61%|██████    | 41/67 [05:37<03:34,  8.24s/it, v_num=0, train_loss=0.209]\n",
      "Epoch 0:  63%|██████▎   | 42/67 [05:45<03:25,  8.24s/it, v_num=0, train_loss=0.225]\n",
      "Epoch 0:  64%|██████▍   | 43/67 [05:53<03:17,  8.23s/it, v_num=0, train_loss=0.225]\n",
      "Epoch 0:  64%|██████▍   | 43/67 [05:53<03:17,  8.23s/it, v_num=0, train_loss=0.242]\n",
      "Epoch 0:  66%|██████▌   | 44/67 [06:01<03:09,  8.22s/it, v_num=0, train_loss=0.242]\n",
      "Epoch 0:  66%|██████▌   | 44/67 [06:01<03:09,  8.23s/it, v_num=0, train_loss=0.286]\n",
      "Epoch 0:  67%|██████▋   | 45/67 [06:10<03:00,  8.22s/it, v_num=0, train_loss=0.260]\n",
      "Epoch 0:  69%|██████▊   | 46/67 [06:18<02:52,  8.22s/it, v_num=0, train_loss=0.227]\n",
      "Epoch 0:  70%|███████   | 47/67 [06:26<02:44,  8.22s/it, v_num=0, train_loss=0.227]\n",
      "Epoch 0:  70%|███████   | 47/67 [06:26<02:44,  8.22s/it, v_num=0, train_loss=0.237]\n",
      "Epoch 0:  72%|███████▏  | 48/67 [06:34<02:36,  8.21s/it, v_num=0, train_loss=0.217]\n",
      "Epoch 0:  73%|███████▎  | 49/67 [06:42<02:27,  8.21s/it, v_num=0, train_loss=0.217]\n",
      "Epoch 0:  73%|███████▎  | 49/67 [06:42<02:27,  8.21s/it, v_num=0, train_loss=0.194]\n",
      "Epoch 0:  75%|███████▍  | 50/67 [06:50<02:19,  8.21s/it, v_num=0, train_loss=0.194]\n",
      "Epoch 0:  75%|███████▍  | 50/67 [06:50<02:19,  8.21s/it, v_num=0, train_loss=0.207]\n",
      "Epoch 0:  76%|███████▌  | 51/67 [06:58<02:11,  8.21s/it, v_num=0, train_loss=0.207]\n",
      "Epoch 0:  76%|███████▌  | 51/67 [06:58<02:11,  8.21s/it, v_num=0, train_loss=0.214]\n",
      "Epoch 0:  78%|███████▊  | 52/67 [07:06<02:03,  8.20s/it, v_num=0, train_loss=0.211]\n",
      "Epoch 0:  79%|███████▉  | 53/67 [07:14<01:54,  8.20s/it, v_num=0, train_loss=0.211]\n",
      "Epoch 0:  79%|███████▉  | 53/67 [07:14<01:54,  8.20s/it, v_num=0, train_loss=0.184]\n",
      "Epoch 0:  81%|████████  | 54/67 [07:22<01:46,  8.20s/it, v_num=0, train_loss=0.214]\n",
      "Epoch 0:  82%|████████▏ | 55/67 [07:30<01:38,  8.20s/it, v_num=0, train_loss=0.203]\n",
      "Epoch 0:  84%|████████▎ | 56/67 [07:39<01:30,  8.20s/it, v_num=0, train_loss=0.247]\n",
      "Epoch 0:  85%|████████▌ | 57/67 [07:47<01:21,  8.20s/it, v_num=0, train_loss=0.203]\n",
      "Epoch 0:  87%|████████▋ | 58/67 [07:55<01:13,  8.19s/it, v_num=0, train_loss=0.203]\n",
      "Epoch 0:  87%|████████▋ | 58/67 [07:55<01:13,  8.19s/it, v_num=0, train_loss=0.176]\n",
      "Epoch 0:  88%|████████▊ | 59/67 [08:03<01:05,  8.19s/it, v_num=0, train_loss=0.172]\n",
      "Epoch 0:  90%|████████▉ | 60/67 [08:11<00:57,  8.19s/it, v_num=0, train_loss=0.245]\n",
      "Epoch 0:  91%|█████████ | 61/67 [08:19<00:49,  8.18s/it, v_num=0, train_loss=0.245]\n",
      "Epoch 0:  91%|█████████ | 61/67 [08:19<00:49,  8.18s/it, v_num=0, train_loss=0.242]\n",
      "Epoch 0:  93%|█████████▎| 62/67 [08:27<00:40,  8.18s/it, v_num=0, train_loss=0.242]\n",
      "Epoch 0:  93%|█████████▎| 62/67 [08:27<00:40,  8.18s/it, v_num=0, train_loss=0.173]\n",
      "Epoch 0:  94%|█████████▍| 63/67 [08:35<00:32,  8.18s/it, v_num=0, train_loss=0.173]\n",
      "Epoch 0:  94%|█████████▍| 63/67 [08:35<00:32,  8.18s/it, v_num=0, train_loss=0.172]\n",
      "Epoch 0:  96%|█████████▌| 64/67 [08:43<00:24,  8.18s/it, v_num=0, train_loss=0.172]\n",
      "Epoch 0:  96%|█████████▌| 64/67 [08:43<00:24,  8.18s/it, v_num=0, train_loss=0.196]\n",
      "Epoch 0:  97%|█████████▋| 65/67 [08:51<00:16,  8.17s/it, v_num=0, train_loss=0.196]\n",
      "Epoch 0:  97%|█████████▋| 65/67 [08:51<00:16,  8.17s/it, v_num=0, train_loss=0.240]\n",
      "Epoch 0:  99%|█████████▊| 66/67 [08:59<00:08,  8.17s/it, v_num=0, train_loss=0.211]\n",
      "Epoch 0: 100%|██████████| 67/67 [09:07<00:00,  8.17s/it, v_num=0, train_loss=0.211]\n",
      "Epoch 0: 100%|██████████| 67/67 [09:07<00:00,  8.17s/it, v_num=0, train_loss=0.177]\n",
      "Epoch 0: : 68it [09:13,  8.15s/it, v_num=0, train_loss=0.177]                      \n",
      "Epoch 0: : 68it [09:13,  8.15s/it, v_num=0, train_loss=0.175]\n"
     ]
    },
    {
     "data": {
      "text/html": [
       "<div class=\"trialProgress\">\n",
       "  <h3>Trial Progress</h3>\n",
       "  <table>\n",
       "<thead>\n",
       "<tr><th>Trial name                  </th><th>_report_on     </th><th>date               </th><th>done  </th><th style=\"text-align: right;\">  epoch</th><th style=\"text-align: right;\">  experiment_tag</th><th>hostname      </th><th style=\"text-align: right;\">  iterations_since_restore</th><th>node_ip    </th><th style=\"text-align: right;\">  pid</th><th>should_checkpoint  </th><th style=\"text-align: right;\">  step</th><th style=\"text-align: right;\">  time_since_restore</th><th style=\"text-align: right;\">  time_this_iter_s</th><th style=\"text-align: right;\">  time_total_s</th><th style=\"text-align: right;\">  timestamp</th><th style=\"text-align: right;\">  train_loss</th><th style=\"text-align: right;\">  training_iteration</th><th>trial_id   </th></tr>\n",
       "</thead>\n",
       "<tbody>\n",
       "<tr><td>LightningTrainer_f8b8d_00000</td><td>train_epoch_end</td><td>2023-05-03_01-00-50</td><td>True  </td><td style=\"text-align: right;\">      0</td><td style=\"text-align: right;\">               0</td><td>ip-10-0-101-24</td><td style=\"text-align: right;\">                         1</td><td>10.0.101.24</td><td style=\"text-align: right;\">95152</td><td>True               </td><td style=\"text-align: right;\">    68</td><td style=\"text-align: right;\">             703.738</td><td style=\"text-align: right;\">           703.738</td><td style=\"text-align: right;\">       703.738</td><td style=\"text-align: right;\"> 1683100850</td><td style=\"text-align: right;\">    0.174805</td><td style=\"text-align: right;\">                   1</td><td>f8b8d_00000</td></tr>\n",
       "</tbody>\n",
       "</table>\n",
       "</div>\n",
       "<style>\n",
       ".trialProgress {\n",
       "  display: flex;\n",
       "  flex-direction: column;\n",
       "  color: var(--jp-ui-font-color1);\n",
       "}\n",
       ".trialProgress h3 {\n",
       "  font-weight: bold;\n",
       "}\n",
       ".trialProgress td {\n",
       "  white-space: nowrap;\n",
       "}\n",
       "</style>\n"
      ],
      "text/plain": [
       "<IPython.core.display.HTML object>"
      ]
     },
     "metadata": {},
     "output_type": "display_data"
    },
    {
     "name": "stdout",
     "output_type": "stream",
     "text": [
      "Epoch 0: : 68it [10:55,  9.64s/it, v_num=0, train_loss=0.175]\n"
     ]
    },
    {
     "name": "stderr",
     "output_type": "stream",
     "text": [
      "(RayTrainWorker pid=95290) `Trainer.fit` stopped: `max_epochs=1` reached.\n",
      "(RayTrainWorker pid=95290) RayFSDPStrategy: tearing down strategy...\n",
      "(LightningTrainer pid=95152) 2023-05-03 01:02:18,989\tWARNING util.py:315 -- Uploading trial artifacts took 65.975 s, which may be a performance bottleneck. Consider saving fewer/smaller artifacts to the trial log directory, or disable artifact syncing with `SyncConfig(sync_artifacts=False)`.\n",
      "2023-05-03 01:03:22,895\tWARNING experiment_state.py:306 -- Syncing the experiment checkpoint to cloud took a long time with 61.26 seconds. This can be due to a large number of trials, large logfiles, or throttling from the remote storage provider for too frequent syncs. If your `CheckpointConfig.num_to_keep` is a low number, this can trigger frequent syncing, in which case you should increase it. \n",
      "2023-05-03 01:03:22,899\tINFO tune.py:1010 -- Total run time: 860.39 seconds (799.02 seconds for the tuning loop).\n"
     ]
    },
    {
     "data": {
      "text/plain": [
       "Result(\n",
       "  metrics={'_report_on': 'train_epoch_end', 'train_loss': 0.1748046875, 'epoch': 0, 'step': 68, 'should_checkpoint': True, 'done': True, 'trial_id': 'f8b8d_00000', 'experiment_tag': '0'},\n",
       "  path='s3://anyscale-staging-data-cld-kvedzwag2qa8i5bjxuevf5i7/ray-lightning-results/finetune_dolly-v2-3b/LightningTrainer_f8b8d_00000_0_2023-05-03_00-49-02',\n",
       "  checkpoint=LightningCheckpoint(uri=s3://anyscale-staging-data-cld-kvedzwag2qa8i5bjxuevf5i7/ray-lightning-results/finetune_dolly-v2-3b/LightningTrainer_f8b8d_00000_0_2023-05-03_00-49-02/checkpoint_000000)\n",
       ")"
      ]
     },
     "execution_count": 9,
     "metadata": {},
     "output_type": "execute_result"
    }
   ],
   "source": [
    "# Save AIR checkpoints according to the performance on validation set\n",
    "run_config = RunConfig(\n",
    "    name=\"finetune_dolly-v2-3b\",\n",
    "    storage_path=\"s3://anyscale-staging-data-cld-kvedzwag2qa8i5bjxuevf5i7/ray-lightning-results/\",\n",
    "    checkpoint_config=CheckpointConfig(),\n",
    ")\n",
    "\n",
    "# Scale the DDP training workload across 16 GPUs\n",
    "# You can change this config based on your compute resources.\n",
    "scaling_config = ScalingConfig(\n",
    "    num_workers=num_workers, use_gpu=True, resources_per_worker={\"CPU\": 12, \"GPU\": 1}\n",
    ")\n",
    "\n",
    "trainer = LightningTrainer(\n",
    "    lightning_config=lightning_config.build(),\n",
    "    run_config=run_config,\n",
    "    scaling_config=scaling_config,\n",
    "    datasets={\"train\": ray_datasets[\"train\"]},\n",
    "    datasets_iter_config={\"batch_size\": batch_size_per_worker},\n",
    "    preprocessor=preprocessor,\n",
    ")\n",
    "result = trainer.fit()\n",
    "\n",
    "result\n"
   ]
  },
  {
   "cell_type": "markdown",
   "metadata": {},
   "source": [
    "We finished training in 553s(9min 13s). One on-demand g4dn.4xlarge cost `$1.204/h`. The total cost would be `$1.204 * 16 * 553 / 3600 = $2.96`."
   ]
  },
  {
   "cell_type": "code",
   "execution_count": 10,
   "metadata": {
    "tags": []
   },
   "outputs": [
    {
     "name": "stdout",
     "output_type": "stream",
     "text": [
      "download: s3://anyscale-staging-data-cld-kvedzwag2qa8i5bjxuevf5i7/ray-lightning-results/finetune_dolly-v2-3b/LightningTrainer_f8b8d_00000_0_2023-05-03_00-49-02/checkpoint_000000/.is_checkpoint to ../../../../../../../../tmp/model-checkpoint/.is_checkpoint\n",
      "download: s3://anyscale-staging-data-cld-kvedzwag2qa8i5bjxuevf5i7/ray-lightning-results/finetune_dolly-v2-3b/LightningTrainer_f8b8d_00000_0_2023-05-03_00-49-02/checkpoint_000000/_preprocessor to ../../../../../../../../tmp/model-checkpoint/_preprocessor\n",
      "download: s3://anyscale-staging-data-cld-kvedzwag2qa8i5bjxuevf5i7/ray-lightning-results/finetune_dolly-v2-3b/LightningTrainer_f8b8d_00000_0_2023-05-03_00-49-02/checkpoint_000000/.tune_metadata to ../../../../../../../../tmp/model-checkpoint/.tune_metadata\n",
      "download: s3://anyscale-staging-data-cld-kvedzwag2qa8i5bjxuevf5i7/ray-lightning-results/finetune_dolly-v2-3b/LightningTrainer_f8b8d_00000_0_2023-05-03_00-49-02/checkpoint_000000/.metadata.pkl to ../../../../../../../../tmp/model-checkpoint/.metadata.pkl\n",
      "download: s3://anyscale-staging-data-cld-kvedzwag2qa8i5bjxuevf5i7/ray-lightning-results/finetune_dolly-v2-3b/LightningTrainer_f8b8d_00000_0_2023-05-03_00-49-02/checkpoint_000000/model to ../../../../../../../../tmp/model-checkpoint/model\n"
     ]
    },
    {
     "data": {
      "text/plain": [
       "0"
      ]
     },
     "execution_count": 10,
     "metadata": {},
     "output_type": "execute_result"
    }
   ],
   "source": [
    "checkpoint_uri = result.checkpoint.uri\n",
    "checkpoint_local_dir = \"/tmp/model-checkpoint\"\n",
    "# checkpoint_uri = \"s3://yunxuanx-test/model-checkpoint/finetune-dolly-v2/LightningTrainer_18e2e_00000_0_2023-04-30_17-57-08/checkpoint_000000/\"\n",
    "\n",
    "os.makedirs(checkpoint_local_dir, exist_ok=True)\n",
    "os.system(f\"aws s3 sync {checkpoint_uri} {checkpoint_local_dir}\")"
   ]
  },
  {
   "cell_type": "markdown",
   "metadata": {},
   "source": [
    "## Text-generation with HuggingFace Pipeline\n",
    "\n",
    "We can use the [HuggingFace Pipeline](https://huggingface.co/docs/transformers/main_classes/pipelines) to generate predictions from our fine-tuned model. Let's input some prompts and see if our tuned Dolly can speak like Shakespeare:"
   ]
  },
  {
   "cell_type": "code",
   "execution_count": 11,
   "metadata": {
    "tags": []
   },
   "outputs": [
    {
     "name": "stdout",
     "output_type": "stream",
     "text": [
      "[{'generated_text': 'This is the very place, my lord, where I was born.'}]\n",
      "[{'generated_text': 'I am a man of a thousand lives, and I will live.'}]\n",
      "[{'generated_text': 'Once more, my lord, I beseech you, hear me speak.'}]\n"
     ]
    }
   ],
   "source": [
    "from transformers import pipeline\n",
    "\n",
    "tokenizer = AutoTokenizer.from_pretrained(MODEL_NAME, padding_side=\"right\")\n",
    "dolly = DollyV2Model.load_from_checkpoint(f\"{checkpoint_local_dir}/model\")\n",
    "\n",
    "nlp_pipeline = pipeline(task=\"text-generation\", model=dolly.model, tokenizer=tokenizer, device=0)\n",
    "\n",
    "for prompt in [\"This is\", \"I am\", \"Once more\"]:\n",
    "    print(nlp_pipeline(prompt, max_new_tokens=30, pad_token_id=tokenizer.eos_token_id))"
   ]
  }
 ],
 "metadata": {
  "kernelspec": {
   "display_name": "Python 3 (ipykernel)",
   "language": "python",
   "name": "python3"
  },
  "language_info": {
   "codemirror_mode": {
    "name": "ipython",
    "version": 3
   },
   "file_extension": ".py",
   "mimetype": "text/x-python",
   "name": "python",
   "nbconvert_exporter": "python",
   "pygments_lexer": "ipython3",
   "version": "3.8.13"
  }
 },
 "nbformat": 4,
 "nbformat_minor": 4
}
