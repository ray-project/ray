{
 "cells": [
  {
   "cell_type": "code",
   "execution_count": 1,
   "metadata": {},
   "outputs": [],
   "source": [
    "import ray\n",
    "ray.shutdown()\n",
    "import os\n",
    "os.environ[\"RAY_ML_DEV\"] = \"1\""
   ]
  },
  {
   "cell_type": "code",
   "execution_count": null,
   "metadata": {},
   "outputs": [],
   "source": [
    "SMOKE_TEST = 1"
   ]
  },
  {
   "cell_type": "code",
   "execution_count": 2,
   "metadata": {},
   "outputs": [
    {
     "name": "stderr",
     "output_type": "stream",
     "text": [
      "/home/ray/anaconda3/lib/python3.8/site-packages/xgboost/compat.py:31: FutureWarning: pandas.Int64Index is deprecated and will be removed from pandas in a future version. Use pandas.Index with the appropriate dtype instead.\n",
      "  from pandas import MultiIndex, Int64Index\n"
     ]
    }
   ],
   "source": [
    "import ray\n",
    "import torch\n",
    "import pytorch_lightning as pl\n",
    "import torch.nn.functional as F\n",
    "from torch.utils.data import DataLoader, random_split\n",
    "from transformers import AutoTokenizer, AutoModelForSequenceClassification\n",
    "from datasets import load_dataset\n",
    "import numpy as np"
   ]
  },
  {
   "cell_type": "code",
   "execution_count": 3,
   "metadata": {},
   "outputs": [
    {
     "name": "stderr",
     "output_type": "stream",
     "text": [
      "Reusing dataset imdb (/home/ray/.cache/huggingface/datasets/imdb/plain_text/1.0.0/2fdd8b9bcadd6e7055e742a706876ba43f19faee861df134affd7a3f60fc38a1)\n"
     ]
    },
    {
     "data": {
      "application/vnd.jupyter.widget-view+json": {
       "model_id": "f3969072928241b29bfa46e84bba8835",
       "version_major": 2,
       "version_minor": 0
      },
      "text/plain": [
       "  0%|          | 0/3 [00:00<?, ?it/s]"
      ]
     },
     "metadata": {},
     "output_type": "display_data"
    }
   ],
   "source": [
    "dataset = load_dataset('imdb')\n",
    "tokenizer = AutoTokenizer.from_pretrained('bert-base-cased')\n",
    "num_classes = 2 # positive or negative sentiment"
   ]
  },
  {
   "cell_type": "code",
   "execution_count": null,
   "metadata": {},
   "outputs": [],
   "source": [
    "from torch.data.utils import Subset\n",
    "dataset[\"train\"], _ = random_split(dataset[\"train\"], [55000, 5000])\n",
    "dataset[\"test\"], _ = random_split(dataset[\"test\"], [55000, 5000])"
   ]
  },
  {
   "cell_type": "code",
   "execution_count": 4,
   "metadata": {},
   "outputs": [
    {
     "name": "stderr",
     "output_type": "stream",
     "text": [
      "find: ‘.git’: No such file or directory\n",
      "2023-03-27 13:54:09,152\tINFO worker.py:1413 -- Connecting to existing Ray cluster at address: 10.0.18.215:6379...\n",
      "2023-03-27 13:54:09,161\tINFO worker.py:1601 -- Connected to Ray cluster. View the dashboard at https://console.anyscale-staging.com/api/v2/sessions/ses_lakhijrn6mdv9hqpld5trwzlxz/services?redirect_to=dashboard \n",
      "2023-03-27 13:54:09,740\tINFO packaging.py:519 -- Creating a file package for local directory '/tmp/ray_tmp_module/ray'.\n",
      "2023-03-27 13:54:09,863\tWARNING packaging.py:393 -- File /tmp/ray_tmp_module/ray/jars/ray_dist.jar is very large (30.47MiB). Consider adding this file to the 'excludes' list to skip uploading it: `ray.init(..., runtime_env={'excludes': ['/tmp/ray_tmp_module/ray/jars/ray_dist.jar']})`\n",
      "2023-03-27 13:54:09,919\tWARNING packaging.py:393 -- File /tmp/ray_tmp_module/ray/_raylet.so is very large (25.14MiB). Consider adding this file to the 'excludes' list to skip uploading it: `ray.init(..., runtime_env={'excludes': ['/tmp/ray_tmp_module/ray/_raylet.so']})`\n",
      "2023-03-27 13:54:09,966\tWARNING packaging.py:393 -- File /tmp/ray_tmp_module/ray/core/src/ray/gcs/gcs_server is very large (21.15MiB). Consider adding this file to the 'excludes' list to skip uploading it: `ray.init(..., runtime_env={'excludes': ['/tmp/ray_tmp_module/ray/core/src/ray/gcs/gcs_server']})`\n",
      "2023-03-27 13:54:10,005\tWARNING packaging.py:393 -- File /tmp/ray_tmp_module/ray/core/src/ray/raylet/raylet is very large (20.51MiB). Consider adding this file to the 'excludes' list to skip uploading it: `ray.init(..., runtime_env={'excludes': ['/tmp/ray_tmp_module/ray/core/src/ray/raylet/raylet']})`\n",
      "2023-03-27 13:54:10,649\tINFO packaging.py:346 -- Pushing file package 'gcs://_ray_pkg_c2c7e5e84d16379e.zip' (146.77MiB) to Ray cluster...\n",
      "2023-03-27 13:54:13,159\tINFO packaging.py:359 -- Successfully pushed file package 'gcs://_ray_pkg_c2c7e5e84d16379e.zip'.\n",
      "2023-03-27 13:54:13,188\tINFO packaging.py:346 -- Pushing file package 'gcs://_ray_pkg_9090977ce244131b05e81db05f6fe15d.zip' (0.18MiB) to Ray cluster...\n",
      "2023-03-27 13:54:13,191\tINFO packaging.py:359 -- Successfully pushed file package 'gcs://_ray_pkg_9090977ce244131b05e81db05f6fe15d.zip'.\n"
     ]
    }
   ],
   "source": [
    "ray_datasets = {\n",
    "    \"train\": ray.data.from_torch(dataset[\"train\"]),\n",
    "    \"val\": ray.data.from_torch(dataset[\"test\"]),\n",
    "    \"test\": ray.data.from_torch(dataset[\"test\"])\n",
    "}"
   ]
  },
  {
   "cell_type": "code",
   "execution_count": 5,
   "metadata": {
    "tags": []
   },
   "outputs": [
    {
     "name": "stderr",
     "output_type": "stream",
     "text": [
      "\n",
      "Output 1:   0%|          | 0/200 [00:00<?, ?it/s]\n",
      "output: 199 queued 1:   0%|          | 1/200 [00:00<00:00, 411.41it/s]\n",
      "                                                                      "
     ]
    },
    {
     "data": {
      "text/plain": [
       "[{'text': 'I rented I AM CURIOUS-YELLOW from my video store because of all the controversy that surrounded it when it was first released in 1967. I also heard that at first it was seized by U.S. customs if it ever tried to enter this country, therefore being a fan of films considered \"controversial\" I really had to see this for myself.<br /><br />The plot is centered around a young Swedish drama student named Lena who wants to learn everything she can about life. In particular she wants to focus her attentions to making some sort of documentary on what the average Swede thought about certain political issues such as the Vietnam War and race issues in the United States. In between asking politicians and ordinary denizens of Stockholm about their opinions on politics, she has sex with her drama teacher, classmates, and married men.<br /><br />What kills me about I AM CURIOUS-YELLOW is that 40 years ago, this was considered pornographic. Really, the sex and nudity scenes are few and far between, even then it\\'s not shot like some cheaply made porno. While my countrymen mind find it shocking, in reality sex and nudity are a major staple in Swedish cinema. Even Ingmar Bergman, arguably their answer to good old boy John Ford, had sex scenes in his films.<br /><br />I do commend the filmmakers for the fact that any sex shown in the film is shown for artistic purposes rather than just to shock people and make money to be shown in pornographic theaters in America. I AM CURIOUS-YELLOW is a good film for anyone wanting to study the meat and potatoes (no pun intended) of Swedish cinema. But really, this film doesn\\'t have much of a plot.',\n",
       "  'label': 0}]"
      ]
     },
     "execution_count": 5,
     "metadata": {},
     "output_type": "execute_result"
    }
   ],
   "source": [
    "ray_datasets[\"train\"].take(1)"
   ]
  },
  {
   "cell_type": "code",
   "execution_count": 6,
   "metadata": {},
   "outputs": [],
   "source": [
    "from ray.data.preprocessors import BatchMapper\n",
    "\n",
    "\n",
    "def map_fn(batch):\n",
    "    batch[\"text\"] = [\n",
    "        np.array(tokenizer.encode(text, padding=\"max_length\", truncation=True, max_length=512))\n",
    "        for text in batch[\"text\"]\n",
    "    ]\n",
    "    return batch\n",
    "\n",
    "\n",
    "preprocessor = BatchMapper(fn=map_fn, batch_format=\"pandas\")\n"
   ]
  },
  {
   "cell_type": "code",
   "execution_count": 7,
   "metadata": {},
   "outputs": [],
   "source": [
    "transfored_ds = preprocessor.fit_transform(ray_datasets[\"train\"])"
   ]
  },
  {
   "cell_type": "code",
   "execution_count": null,
   "metadata": {
    "tags": []
   },
   "outputs": [],
   "source": []
  },
  {
   "cell_type": "code",
   "execution_count": 8,
   "metadata": {},
   "outputs": [],
   "source": [
    "def convert_numpy_to_tensor(batch):\n",
    "    # token_ids = torch.Tensor(batch[\"text\"]).cuda()\n",
    "    # labels = torch.Tensor(batch[\"label\"]).cuda()\n",
    "    token_ids = torch.LongTensor(batch[\"text\"])\n",
    "    labels = torch.LongTensor(batch[\"label\"])\n",
    "    return (token_ids, labels)\n",
    "\n",
    "\n",
    "\n",
    "# for batch in transfored_ds.iter_torch_batches(batch_size=3, collate_fn=collate):\n",
    "#     text, label = batch\n",
    "#     print(text, type(text), text.shape)\n",
    "#     print(label, type(label), label.shape)\n",
    "#     break"
   ]
  },
  {
   "cell_type": "code",
   "execution_count": 9,
   "metadata": {
    "tags": []
   },
   "outputs": [],
   "source": [
    "# for batch in transfored_ds.iter_torch_batches(batch_size=3, collate_fn=convert_numpy_to_tensor):\n",
    "#     print(batch)\n",
    "#     input()"
   ]
  },
  {
   "cell_type": "code",
   "execution_count": 10,
   "metadata": {},
   "outputs": [],
   "source": [
    "class SentimentModel(pl.LightningModule):\n",
    "    def __init__(self, lr=2e-5, eps=1e-8):\n",
    "        super().__init__()\n",
    "        self.lr = lr\n",
    "        self.eps = eps\n",
    "        self.num_classes = 2\n",
    "        self.model = AutoModelForSequenceClassification.from_pretrained('bert-base-cased', num_labels=self.num_classes)\n",
    "\n",
    "    def forward(self, x):\n",
    "        outputs = self.model(x)\n",
    "        logits = outputs.logits\n",
    "        return logits\n",
    "\n",
    "    def training_step(self, batch, batch_idx):\n",
    "        x, y = batch\n",
    "        logits = self.forward(x)\n",
    "        loss = F.cross_entropy(logits.view(-1, self.num_classes), y)\n",
    "        self.log('train_loss', loss, on_epoch=True)\n",
    "        return loss\n",
    "\n",
    "    def validation_step(self, batch, batch_idx):\n",
    "        x, y = batch\n",
    "        logits = self.forward(x)\n",
    "        loss = F.cross_entropy(logits.view(-1, self.num_classes), y)\n",
    "        preds = torch.argmax(logits, dim=1)\n",
    "        acc = torch.sum(preds == y).float() / len(preds)\n",
    "        self.log('val_loss', loss, on_epoch=True)\n",
    "        self.log('val_accuracy', acc, on_epoch=True)\n",
    "\n",
    "    def configure_optimizers(self):\n",
    "        return torch.optim.AdamW(self.parameters(), lr=self.lr, eps=self.eps)\n"
   ]
  },
  {
   "cell_type": "code",
   "execution_count": 11,
   "metadata": {},
   "outputs": [
    {
     "name": "stderr",
     "output_type": "stream",
     "text": [
      "2023-03-27 13:54:16,609\tINFO instantiator.py:21 -- Created a temporary directory at /tmp/tmpue4psw2f\n",
      "2023-03-27 13:54:16,610\tINFO instantiator.py:76 -- Writing /tmp/tmpue4psw2f/_remote_module_non_scriptable.py\n"
     ]
    }
   ],
   "source": [
    "from ray.train.lightning import LightningTrainer, LightningConfigBuilder\n",
    "from ray.air.config import RunConfig, ScalingConfig, CheckpointConfig\n",
    "import ray.tune as tune\n",
    "\n",
    "\n",
    "lightning_config = (\n",
    "    LightningConfigBuilder()\n",
    "    .module(cls=SentimentModel, lr=tune.loguniform(1e-3, 1e-5), eps=1e-8)\n",
    "    .trainer(max_epochs=3, accelerator=\"gpu\")\n",
    "    .build()\n",
    ")\n",
    "\n",
    "datasets_iter_config = {\"batch_size\": tune.choice([16, 32, 64]), \"collate_fn\": convert_numpy_to_tensor}\n",
    "\n",
    "run_config = RunConfig(\n",
    "    name=\"ptl-advanced-example\",\n",
    "    checkpoint_config=CheckpointConfig(\n",
    "        num_to_keep=2,\n",
    "        checkpoint_score_attribute=\"val_accuracy\",\n",
    "        checkpoint_score_order=\"max\",\n",
    "    ),\n",
    ")\n",
    "\n",
    "scaling_config = ScalingConfig(\n",
    "    num_workers=2, use_gpu=True, resources_per_worker={\"CPU\": 1, \"GPU\": 1}\n",
    ")\n",
    "\n",
    "trainer = LightningTrainer(\n",
    "    datasets=ray_datasets,\n",
    "    scaling_config=scaling_config\n",
    ")\n"
   ]
  },
  {
   "cell_type": "code",
   "execution_count": 12,
   "metadata": {},
   "outputs": [],
   "source": [
    "from ray.tune.schedulers import PopulationBasedTraining\n",
    "\n",
    "\n",
    "mutation_lightning_config = (\n",
    "    LightningConfigBuilder()\n",
    "    .module(\n",
    "        lr=tune.loguniform(1e-3, 1e-5),\n",
    "    )\n",
    "    .build()\n",
    ")\n",
    "\n",
    "tuner = tune.Tuner(\n",
    "    trainer,\n",
    "    param_space={\"lightning_config\": lightning_config, \"datasets_iter_config\": datasets_iter_config},\n",
    "    run_config=ray.air.RunConfig(\n",
    "        name=\"release-tuner-test\",\n",
    "        verbose=2,\n",
    "        checkpoint_config=CheckpointConfig(\n",
    "            num_to_keep=2,\n",
    "            checkpoint_score_attribute=\"val_accuracy\",\n",
    "            checkpoint_score_order=\"max\",\n",
    "        ),\n",
    "    ),\n",
    "    tune_config=tune.TuneConfig(\n",
    "        metric=\"val_accuracy\",\n",
    "        mode=\"max\",\n",
    "        num_samples=4,\n",
    "        scheduler=PopulationBasedTraining(\n",
    "            time_attr=\"training_iteration\",\n",
    "            hyperparam_mutations={\"lightning_config\": mutation_lightning_config},\n",
    "            perturbation_interval=1,\n",
    "        ),\n",
    "    ),\n",
    ")"
   ]
  },
  {
   "cell_type": "code",
   "execution_count": 13,
   "metadata": {},
   "outputs": [],
   "source": [
    "# tuner.fit()"
   ]
  },
  {
   "cell_type": "code",
   "execution_count": 16,
   "metadata": {
    "tags": []
   },
   "outputs": [],
   "source": [
    "lightning_config = (\n",
    "    LightningConfigBuilder()\n",
    "    .module(cls=SentimentModel, lr=1e-5, eps=1e-8)\n",
    "    .trainer(max_epochs=3, accelerator=\"gpu\")\n",
    "    .build()\n",
    ")\n",
    "\n",
    "datasets_iter_config = {\"batch_size\": 16, \"collate_fn\": convert_numpy_to_tensor}\n",
    "\n",
    "single_trainer = LightningTrainer(\n",
    "    lightning_config=lightning_config,\n",
    "    datasets=ray_datasets,\n",
    "    scaling_config=scaling_config,\n",
    "    datasets_iter_config=datasets_iter_config,\n",
    "    preprocessor=preprocessor,\n",
    ")"
   ]
  },
  {
   "cell_type": "code",
   "execution_count": null,
   "metadata": {
    "tags": []
   },
   "outputs": [],
   "source": [
    "result = single_trainer.fit()"
   ]
  },
  {
   "cell_type": "code",
   "execution_count": 18,
   "metadata": {
    "tags": []
   },
   "outputs": [
    {
     "data": {
      "text/plain": [
       "Result(\n",
       "  metrics={'_report_on': 'train_epoch_end', 'train_loss': 0.7121134400367737, 'train_loss_step': 0.6841170787811279, 'val_loss': 0.6932439208030701, 'val_accuracy': 0.5, 'train_loss_epoch': 0.7121134400367737, 'epoch': 2, 'step': 2346, 'should_checkpoint': True, 'done': True, 'trial_id': 'c0189_00000', 'experiment_tag': '0'},\n",
       "  path='/home/ray/ray_results/LightningTrainer_2023-03-27_13-55-48/LightningTrainer_c0189_00000_0_2023-03-27_13-55-50',\n",
       "  checkpoint=LightningCheckpoint(local_path=/home/ray/ray_results/LightningTrainer_2023-03-27_13-55-48/LightningTrainer_c0189_00000_0_2023-03-27_13-55-50/checkpoint_000002)\n",
       ")"
      ]
     },
     "execution_count": 18,
     "metadata": {},
     "output_type": "execute_result"
    }
   ],
   "source": [
    "result"
   ]
  },
  {
   "cell_type": "code",
   "execution_count": null,
   "metadata": {},
   "outputs": [],
   "source": []
  }
 ],
 "metadata": {
  "kernelspec": {
   "display_name": "Python 3 (ipykernel)",
   "language": "python",
   "name": "python3"
  },
  "language_info": {
   "codemirror_mode": {
    "name": "ipython",
    "version": 3
   },
   "file_extension": ".py",
   "mimetype": "text/x-python",
   "name": "python",
   "nbconvert_exporter": "python",
   "pygments_lexer": "ipython3",
   "version": "3.8.13"
  }
 },
 "nbformat": 4,
 "nbformat_minor": 4
}
