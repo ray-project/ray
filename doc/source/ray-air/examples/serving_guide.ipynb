{
 "cells": [
  {
   "cell_type": "markdown",
   "metadata": {},
   "source": [
    "# Serve Ray AIR Predictor with `ModelWrapper`\n",
    "\n",
    "[Ray Serve](rayserve) is the recommended tool exposing Ray AIR checkpoints for live interactive querying. \n",
    "The core concept is called `ModelWrapper`. `ModelWrapper` takes a predictor class and a checkpoint and transform them to live HTTP endpoint. \n",
    "Let's take a look at an example with custom predictor. \n",
    "You can find end to end examples with your specific frameworks in the [exmaples](air-examples-ref) page.\n",
    "\n",
    "In this example, we will demonstrate:\n",
    "- How to serve a predictor accepting array input.\n",
    "- How to serve a predictor accepting dataframe input.\n",
    "- How to serve a predictor accepting custom input that can be transformed to array or dataframe.\n",
    "- How to configure micro-batching to enhance performance."
   ]
  },
  {
   "cell_type": "markdown",
   "metadata": {},
   "source": [
    "Let's first make sure Ray AIR is installed."
   ]
  },
  {
   "cell_type": "code",
   "execution_count": null,
   "metadata": {},
   "outputs": [],
   "source": [
    "!pip install \"ray[air]\""
   ]
  },
  {
   "cell_type": "markdown",
   "metadata": {},
   "source": [
    "## 1. Predictor accepting NumPy array\n",
    "We will use a simple predictor implementation that adds a scaler to input array."
   ]
  },
  {
   "cell_type": "code",
   "execution_count": 1,
   "metadata": {},
   "outputs": [],
   "source": [
    "import numpy as np\n",
    "\n",
    "from ray.ml.predictor import Predictor\n",
    "from ray.ml.checkpoint import Checkpoint\n",
    "\n",
    "class AdderPredictor(Predictor):\n",
    "    def __init__(self, increment: int):\n",
    "        self.increment = increment\n",
    "    \n",
    "    @classmethod\n",
    "    def from_checkpoint(cls, ckpt: Checkpoint):\n",
    "        return cls(ckpt.to_dict()[\"increment\"])\n",
    "    \n",
    "    def predict(self, inp: np.ndarray) -> np.ndarray:\n",
    "        return inp + self.increment"
   ]
  },
  {
   "cell_type": "markdown",
   "metadata": {},
   "source": [
    "Let's first test it locally."
   ]
  },
  {
   "cell_type": "code",
   "execution_count": 2,
   "metadata": {},
   "outputs": [],
   "source": [
    "local_checkpoint = Checkpoint.from_dict({\"increment\": 2})\n",
    "local_predictor = AdderPredictor.from_checkpoint(local_checkpoint)\n",
    "assert local_predictor.predict(np.array([40])) == np.array([42])"
   ]
  },
  {
   "cell_type": "markdown",
   "metadata": {},
   "source": [
    "It worked! Now let's serve it behind HTTP. In Ray Serve, the core unit of HTTP service is called a [`Deployment`](serve-key-concepts-deployment). It turns a Python class into queryable HTTP endpoint. For Ray AIR, Serve provides a `ModelWrapperDeployment` make it simpler. You don't need to implement any Python classes. You just pass in your predictor and checkpoint instead.\n",
    "\n",
    "The deployment takes several arguments. It requires two arguments to start:\n",
    "- `predictor_cls (Type[Predictor] | str)`: The predictor Python class. Typically you just need to use the builtin integration from Ray AIR like `TorchPredictor`. Alternatively, you can specify the class path to import such predictor like `\"ray.ml.integrations.torch.TorchPredictor\"`.\n",
    "- `checkpoint (Checkpoint | str)`: A checkpoint instance, or uri to load checkpoint from.\n",
    "\n",
    "The following cell showcase how to create a deployment with our `AdderPredictor`\n",
    "\n",
    "For more about Ray Serve the framework, checkout [its documentation](rayserve)."
   ]
  },
  {
   "cell_type": "code",
   "execution_count": 3,
   "metadata": {},
   "outputs": [
    {
     "name": "stderr",
     "output_type": "stream",
     "text": [
      "2022-05-20 11:30:34,597\tINFO services.py:1483 -- View the Ray dashboard at \u001b[1m\u001b[32mhttp://127.0.0.1:8265\u001b[39m\u001b[22m\n",
      "\u001b[2m\u001b[36m(ServeController pid=66733)\u001b[0m INFO 2022-05-20 11:30:40,278 controller 66733 checkpoint_path.py:17 - Using RayInternalKVStore for controller checkpoint and recovery.\n",
      "\u001b[2m\u001b[36m(ServeController pid=66733)\u001b[0m INFO 2022-05-20 11:30:40,386 controller 66733 http_state.py:115 - Starting HTTP proxy with name 'SERVE_CONTROLLER_ACTOR:cjsRQe:SERVE_PROXY_ACTOR-node:127.0.0.1-0' on node 'node:127.0.0.1-0' listening on '127.0.0.1:8000'\n",
      "\u001b[2m\u001b[36m(HTTPProxyActor pid=66737)\u001b[0m INFO:     Started server process [66737]\n",
      "\u001b[2m\u001b[36m(ServeController pid=66733)\u001b[0m INFO 2022-05-20 11:30:42,814 controller 66733 deployment_state.py:1217 - Adding 1 replicas to deployment 'Adder'.\n"
     ]
    }
   ],
   "source": [
    "from ray import serve\n",
    "from ray.serve.model_wrappers import ModelWrapperDeployment\n",
    "\n",
    "# Create Ray Serve instance\n",
    "serve.start()\n",
    "\n",
    "# Deploy the model behind HTTP endpoint\n",
    "ModelWrapperDeployment.options(name=\"Adder\").deploy(\n",
    "    predictor_cls=AdderPredictor,\n",
    "    checkpoint=local_checkpoint\n",
    ")"
   ]
  },
  {
   "cell_type": "markdown",
   "metadata": {},
   "source": [
    "After the model has been deployed, let's send an HTTP request."
   ]
  },
  {
   "cell_type": "code",
   "execution_count": 4,
   "metadata": {},
   "outputs": [
    {
     "data": {
      "text/plain": [
       "[42.0]"
      ]
     },
     "execution_count": 4,
     "metadata": {},
     "output_type": "execute_result"
    },
    {
     "name": "stderr",
     "output_type": "stream",
     "text": [
      "\u001b[2m\u001b[36m(HTTPProxyActor pid=66737)\u001b[0m INFO 2022-05-20 11:31:05,461 http_proxy 127.0.0.1 http_proxy.py:320 - POST /Adder 200 17.0ms\n",
      "\u001b[2m\u001b[36m(Adder pid=66741)\u001b[0m INFO 2022-05-20 11:31:05,459 Adder Adder#vorDbO replica.py:483 - HANDLE __call__ OK 12.9ms\n"
     ]
    }
   ],
   "source": [
    "import requests\n",
    "resp = requests.post(\"http://localhost:8000/Adder/\", json={\"array\": [40]})\n",
    "resp.raise_for_status()\n",
    "resp.json()"
   ]
  },
  {
   "cell_type": "markdown",
   "metadata": {},
   "source": [
    "Nice! We sent `[40]` as our input and got `[42]` as our output in JSON format.\n",
    "\n",
    "You can also specify multi-dimensional array in the JSON payload, as well as \"dtype\" and \"shape\" field to process to array. The schema for array input is available [here](serve-ndarray-schema).\n",
    " \n",
    "That's it for array! Let's take a look at tabular input."
   ]
  },
  {
   "cell_type": "markdown",
   "metadata": {},
   "source": [
    "## Predictor accepting Pandas DataFrame\n",
    "Let's now take a look at a predictor accepting dataframe input. We will perform some simple column wise transformation on the input data."
   ]
  },
  {
   "cell_type": "code",
   "execution_count": 5,
   "metadata": {},
   "outputs": [],
   "source": [
    "import pandas as pd\n",
    "\n",
    "\n",
    "class DataFramePredictor(Predictor):\n",
    "    def __init__(self, increment: int):\n",
    "        self.increment = increment\n",
    "\n",
    "    @classmethod\n",
    "    def from_checkpoint(cls, ckpt: Checkpoint):\n",
    "        return cls(ckpt.to_dict()[\"increment\"])\n",
    "\n",
    "    def predict(self, inp: pd.DataFrame) -> pd.DataFrame:\n",
    "        inp[\"prediction\"] =  inp[\"base\"] * inp[\"multipiler\"] + self.increment\n",
    "        return inp\n",
    "\n",
    "local_df_predictor = DataFramePredictor.from_checkpoint(local_checkpoint)"
   ]
  },
  {
   "cell_type": "markdown",
   "metadata": {},
   "source": [
    "Just like the `AdderPredictor`, we will use the same `ModelWrapperDeployment` approach to make it queryable with HTTP. \n",
    "\n",
    "You might noticed a small addition this time. We added `http_adapter=pandas_read_json` as the keyword argument. This tells Serve how to parse incoming JSON request into a DataFrame. The `pandas_read_json` adapter accepts:\n",
    "- A pandas parsable JSON in HTTP body\n",
    "- Optionally keyword arguments to `pandas.read_json` function via HTTP url parameters.\n",
    "\n",
    "You can learn more about the http adapter [our user guide](serve-http-adapters)."
   ]
  },
  {
   "cell_type": "code",
   "execution_count": 6,
   "metadata": {},
   "outputs": [
    {
     "name": "stderr",
     "output_type": "stream",
     "text": [
      "\u001b[2m\u001b[36m(ServeController pid=66733)\u001b[0m INFO 2022-05-20 11:31:09,317 controller 66733 deployment_state.py:1217 - Adding 1 replicas to deployment 'DataFramePredictor'.\n"
     ]
    }
   ],
   "source": [
    "from ray.serve.http_adapters import pandas_read_json\n",
    "\n",
    "ModelWrapperDeployment.options(name=\"DataFramePredictor\").deploy(\n",
    "    predictor_cls=DataFramePredictor,\n",
    "    checkpoint=local_checkpoint,\n",
    "    http_adapter=pandas_read_json\n",
    ")"
   ]
  },
  {
   "cell_type": "markdown",
   "metadata": {},
   "source": [
    "Let's send a requests to our endpoint. "
   ]
  },
  {
   "cell_type": "code",
   "execution_count": 7,
   "metadata": {},
   "outputs": [
    {
     "data": {
      "text/plain": [
       "'[{\"base\":1,\"multipiler\":2,\"prediction\":4},{\"base\":3,\"multipiler\":4,\"prediction\":14}]'"
      ]
     },
     "execution_count": 7,
     "metadata": {},
     "output_type": "execute_result"
    },
    {
     "name": "stderr",
     "output_type": "stream",
     "text": [
      "\u001b[2m\u001b[36m(HTTPProxyActor pid=66737)\u001b[0m INFO 2022-05-20 11:31:15,388 http_proxy 127.0.0.1 http_proxy.py:320 - POST /DataFramePredictor 200 28.6ms\n",
      "\u001b[2m\u001b[36m(DataFramePredictor pid=66765)\u001b[0m INFO 2022-05-20 11:31:15,387 DataFramePredictor DataFramePredictor#lcGDjS replica.py:483 - HANDLE __call__ OK 24.4ms\n"
     ]
    }
   ],
   "source": [
    "resp = requests.post(\n",
    "    \"http://localhost:8000/DataFramePredictor/\",\n",
    "    json=[{\"base\": 1, \"multipiler\": 2}, {\"base\": 3, \"multipiler\": 4}],\n",
    "    params={\"orient\": \"records\"},\n",
    ")\n",
    "resp.raise_for_status()\n",
    "resp.text"
   ]
  },
  {
   "cell_type": "markdown",
   "metadata": {},
   "source": [
    "Great! You can see that the input JSON has been converted to dataframe and our predictor just need to worry about dataframe instead of the raw requests.\n",
    "\n",
    "But what if we need do to configure the HTTP request? You can do that as well.\n",
    "\n",
    "## 3. Accepting custom inputs via `http_adapter`\n",
    "\n",
    "The `http_adapter` field accept any callable function that's type annotated. You can also bring in additional types that's accepted by FastAPI's dependency injection framework. You can learn more detail [here](serve-http-adapters). In the following example, instead of using the pandas adapter Serve provides, we will implement our own request adapter that work with just http parameters instead of JSON."
   ]
  },
  {
   "cell_type": "code",
   "execution_count": 8,
   "metadata": {},
   "outputs": [],
   "source": [
    "def our_own_http_adapter(base: int, multipiler: int):\n",
    "    return pd.DataFrame([{\"base\": base, \"multipiler\": multipiler}])"
   ]
  },
  {
   "cell_type": "markdown",
   "metadata": {},
   "source": [
    "Let's deploy it."
   ]
  },
  {
   "cell_type": "code",
   "execution_count": 9,
   "metadata": {},
   "outputs": [
    {
     "name": "stderr",
     "output_type": "stream",
     "text": [
      "\u001b[2m\u001b[36m(ServeController pid=66733)\u001b[0m INFO 2022-05-20 11:31:18,916 controller 66733 deployment_state.py:1176 - Stopping 1 replicas of deployment 'DataFramePredictor' with outdated versions.\n",
      "\u001b[2m\u001b[36m(ServeController pid=66733)\u001b[0m INFO 2022-05-20 11:31:21,084 controller 66733 deployment_state.py:1217 - Adding 1 replicas to deployment 'DataFramePredictor'.\n"
     ]
    }
   ],
   "source": [
    "from ray.serve.http_adapters import pandas_read_json\n",
    "\n",
    "ModelWrapperDeployment.options(name=\"DataFramePredictor\").deploy(\n",
    "    predictor_cls=DataFramePredictor,\n",
    "    checkpoint=local_checkpoint,\n",
    "    http_adapter=our_own_http_adapter\n",
    ")"
   ]
  },
  {
   "cell_type": "markdown",
   "metadata": {},
   "source": [
    "Let's now send a request, notice that new predictor accepts our specified input via HTTP parameters. \n",
    "\n",
    "The equivalent curl requests would be `curl -X POST http://localhost:8000/DataFramePredictor/?base=10&multiplier=4`."
   ]
  },
  {
   "cell_type": "code",
   "execution_count": 10,
   "metadata": {},
   "outputs": [
    {
     "data": {
      "text/plain": [
       "'[{\"base\":10,\"multipiler\":4,\"prediction\":42}]'"
      ]
     },
     "execution_count": 10,
     "metadata": {},
     "output_type": "execute_result"
    },
    {
     "name": "stderr",
     "output_type": "stream",
     "text": [
      "\u001b[2m\u001b[36m(HTTPProxyActor pid=66737)\u001b[0m INFO 2022-05-20 11:31:25,950 http_proxy 127.0.0.1 http_proxy.py:320 - POST /DataFramePredictor 200 24.8ms\n",
      "\u001b[2m\u001b[36m(DataFramePredictor pid=66771)\u001b[0m INFO 2022-05-20 11:31:25,949 DataFramePredictor DataFramePredictor#abtzzn replica.py:483 - HANDLE __call__ OK 20.8ms\n"
     ]
    }
   ],
   "source": [
    "resp = requests.post(\n",
    "    \"http://localhost:8000/DataFramePredictor/\",\n",
    "    params={\"base\": 10, \"multipiler\": 4}\n",
    ")\n",
    "resp.raise_for_status()\n",
    "resp.text"
   ]
  },
  {
   "cell_type": "markdown",
   "metadata": {},
   "source": [
    "## 4. `ModelWrapper` performs microbatching to improve performance\n",
    "\n",
    "Common machine learning model takes a batch for prediction. Frameworks are optimized with vectorized instruction to make inference on a batch requests almost as fast as single request. In Serve's `ModelWrapperDeployment`, the incoming requests are automatically batched. \n",
    "\n",
    "When multiple clients send requests at the same time, Serve will combine the requests into a single batch (array or dataframe) and predict is ran only once for multiple requests. Let's take a look at a predictor that returns each row's content, batch_size, and batch group."
   ]
  },
  {
   "cell_type": "code",
   "execution_count": 11,
   "metadata": {},
   "outputs": [],
   "source": [
    "import time\n",
    "class BatchSizePredictor(Predictor):\n",
    "    @classmethod\n",
    "    def from_checkpoint(cls, _: Checkpoint):\n",
    "        return cls()\n",
    "    \n",
    "    def predict(self, inp: np.ndarray):\n",
    "        time.sleep(0.5) # simulate model inference.\n",
    "        return [(i, len(inp), inp) for i in inp]"
   ]
  },
  {
   "cell_type": "code",
   "execution_count": 12,
   "metadata": {},
   "outputs": [
    {
     "name": "stderr",
     "output_type": "stream",
     "text": [
      "\u001b[2m\u001b[36m(ServeController pid=66733)\u001b[0m INFO 2022-05-20 11:31:29,789 controller 66733 deployment_state.py:1217 - Adding 1 replicas to deployment 'BatchSizePredictor'.\n"
     ]
    }
   ],
   "source": [
    "ModelWrapperDeployment.options(name=\"BatchSizePredictor\").deploy(\n",
    "    predictor_cls=BatchSizePredictor,\n",
    "    checkpoint=local_checkpoint,\n",
    ")"
   ]
  },
  {
   "cell_type": "markdown",
   "metadata": {},
   "source": [
    "Let's use a threadpool executor to send ten requests at the same time to simulate multiple clients."
   ]
  },
  {
   "cell_type": "code",
   "execution_count": 13,
   "metadata": {},
   "outputs": [
    {
     "name": "stderr",
     "output_type": "stream",
     "text": [
      "\u001b[2m\u001b[36m(HTTPProxyActor pid=66737)\u001b[0m INFO 2022-05-20 11:31:35,233 http_proxy 127.0.0.1 http_proxy.py:320 - POST /BatchSizePredictor 200 525.8ms\n",
      "\u001b[2m\u001b[36m(BatchSizePredictor pid=66778)\u001b[0m INFO 2022-05-20 11:31:35,229 BatchSizePredictor BatchSizePredictor#pvZtwj replica.py:483 - HANDLE __call__ OK 520.0ms\n",
      "\u001b[2m\u001b[36m(HTTPProxyActor pid=66737)\u001b[0m INFO 2022-05-20 11:31:35,742 http_proxy 127.0.0.1 http_proxy.py:320 - POST /BatchSizePredictor 200 1036.9ms\n",
      "\u001b[2m\u001b[36m(BatchSizePredictor pid=66778)\u001b[0m INFO 2022-05-20 11:31:35,738 BatchSizePredictor BatchSizePredictor#pvZtwj replica.py:483 - HANDLE __call__ OK 1015.5ms\n",
      "\u001b[2m\u001b[36m(BatchSizePredictor pid=66778)\u001b[0m INFO 2022-05-20 11:31:36,244 BatchSizePredictor BatchSizePredictor#pvZtwj replica.py:483 - HANDLE __call__ OK 1013.9ms\n",
      "\u001b[2m\u001b[36m(BatchSizePredictor pid=66778)\u001b[0m INFO 2022-05-20 11:31:36,244 BatchSizePredictor BatchSizePredictor#pvZtwj replica.py:483 - HANDLE __call__ OK 1013.4ms\n",
      "\u001b[2m\u001b[36m(HTTPProxyActor pid=66737)\u001b[0m INFO 2022-05-20 11:31:36,751 http_proxy 127.0.0.1 http_proxy.py:320 - POST /BatchSizePredictor 200 2043.3ms\n",
      "\u001b[2m\u001b[36m(HTTPProxyActor pid=66737)\u001b[0m INFO 2022-05-20 11:31:36,752 http_proxy 127.0.0.1 http_proxy.py:320 - POST /BatchSizePredictor 200 2043.3ms\n",
      "\u001b[2m\u001b[36m(BatchSizePredictor pid=66778)\u001b[0m INFO 2022-05-20 11:31:36,751 BatchSizePredictor BatchSizePredictor#pvZtwj replica.py:483 - HANDLE __call__ OK 1015.2ms\n",
      "\u001b[2m\u001b[36m(BatchSizePredictor pid=66778)\u001b[0m INFO 2022-05-20 11:31:36,752 BatchSizePredictor BatchSizePredictor#pvZtwj replica.py:483 - HANDLE __call__ OK 1520.5ms\n",
      "\u001b[2m\u001b[36m(BatchSizePredictor pid=66778)\u001b[0m INFO 2022-05-20 11:31:36,752 BatchSizePredictor BatchSizePredictor#pvZtwj replica.py:483 - HANDLE __call__ OK 1015.1ms\n",
      "\u001b[2m\u001b[36m(BatchSizePredictor pid=66778)\u001b[0m INFO 2022-05-20 11:31:36,752 BatchSizePredictor BatchSizePredictor#pvZtwj replica.py:483 - HANDLE __call__ OK 1015.9ms\n"
     ]
    },
    {
     "name": "stdout",
     "output_type": "stream",
     "text": [
      "Request id: [0.0] is part of batch group: [[0.0]], with batch size 1\n",
      "Request id: [1.0] is part of batch group: [[6.0], [1.0], [9.0], [5.0]], with batch size 4\n",
      "Request id: [2.0] is part of batch group: [[4.0], [2.0]], with batch size 2\n",
      "Request id: [3.0] is part of batch group: [[3.0]], with batch size 1\n",
      "Request id: [4.0] is part of batch group: [[4.0], [2.0]], with batch size 2\n",
      "Request id: [5.0] is part of batch group: [[6.0], [1.0], [9.0], [5.0]], with batch size 4\n",
      "Request id: [6.0] is part of batch group: [[6.0], [1.0], [9.0], [5.0]], with batch size 4\n",
      "Request id: [7.0] is part of batch group: [[8.0], [7.0]], with batch size 2\n",
      "Request id: [8.0] is part of batch group: [[8.0], [7.0]], with batch size 2\n",
      "Request id: [9.0] is part of batch group: [[6.0], [1.0], [9.0], [5.0]], with batch size 4\n"
     ]
    },
    {
     "name": "stderr",
     "output_type": "stream",
     "text": [
      "\u001b[2m\u001b[36m(HTTPProxyActor pid=66737)\u001b[0m INFO 2022-05-20 11:31:37,256 http_proxy 127.0.0.1 http_proxy.py:320 - POST /BatchSizePredictor 200 2541.8ms\n",
      "\u001b[2m\u001b[36m(HTTPProxyActor pid=66737)\u001b[0m INFO 2022-05-20 11:31:37,257 http_proxy 127.0.0.1 http_proxy.py:320 - POST /BatchSizePredictor 200 2549.0ms\n",
      "\u001b[2m\u001b[36m(HTTPProxyActor pid=66737)\u001b[0m INFO 2022-05-20 11:31:37,257 http_proxy 127.0.0.1 http_proxy.py:320 - POST /BatchSizePredictor 200 2541.7ms\n",
      "\u001b[2m\u001b[36m(HTTPProxyActor pid=66737)\u001b[0m INFO 2022-05-20 11:31:37,258 http_proxy 127.0.0.1 http_proxy.py:320 - POST /BatchSizePredictor 200 2542.5ms\n",
      "\u001b[2m\u001b[36m(HTTPProxyActor pid=66737)\u001b[0m INFO 2022-05-20 11:31:37,258 http_proxy 127.0.0.1 http_proxy.py:320 - POST /BatchSizePredictor 200 2541.8ms\n",
      "\u001b[2m\u001b[36m(HTTPProxyActor pid=66737)\u001b[0m INFO 2022-05-20 11:31:37,259 http_proxy 127.0.0.1 http_proxy.py:320 - POST /BatchSizePredictor 200 2543.1ms\n",
      "\u001b[2m\u001b[36m(BatchSizePredictor pid=66778)\u001b[0m INFO 2022-05-20 11:31:37,255 BatchSizePredictor BatchSizePredictor#pvZtwj replica.py:483 - HANDLE __call__ OK 1514.7ms\n",
      "\u001b[2m\u001b[36m(BatchSizePredictor pid=66778)\u001b[0m INFO 2022-05-20 11:31:37,256 BatchSizePredictor BatchSizePredictor#pvZtwj replica.py:483 - HANDLE __call__ OK 1517.2ms\n"
     ]
    }
   ],
   "source": [
    "from concurrent.futures import ThreadPoolExecutor, wait\n",
    "\n",
    "with ThreadPoolExecutor() as pool:\n",
    "    futs = [\n",
    "        pool.submit(\n",
    "            requests.post,\n",
    "            \"http://localhost:8000/BatchSizePredictor/\",\n",
    "            json={\"array\": [i]},\n",
    "        )\n",
    "        for i in range(10)\n",
    "    ]\n",
    "    wait(futs)\n",
    "for fut in futs:\n",
    "    i, batch_size, batch_group = fut.result().json()\n",
    "    print(f\"Request id: {i} is part of batch group: {batch_group}, with batch size {batch_size}\")"
   ]
  },
  {
   "cell_type": "markdown",
   "metadata": {},
   "source": [
    "As you can see, some of the requests are part of bigger group that's ran together.\n",
    "\n",
    "You can also configure the exact details of batching parameters:\n",
    "- `max_batch_size(int)`: the maximum batch size that will be executed in one call to predict.\n",
    "- `batch_wait_timeout_s (float)`: the maximum duration to wait for `max_batch_size` elements before running the predict call.\n",
    "\n",
    "Let's set a `max_batch_size` of 10 to make them into the same batch."
   ]
  },
  {
   "cell_type": "code",
   "execution_count": 14,
   "metadata": {},
   "outputs": [
    {
     "name": "stderr",
     "output_type": "stream",
     "text": [
      "\u001b[2m\u001b[36m(ServeController pid=66733)\u001b[0m INFO 2022-05-20 11:31:40,048 controller 66733 deployment_state.py:1176 - Stopping 1 replicas of deployment 'BatchSizePredictor' with outdated versions.\n",
      "\u001b[2m\u001b[36m(ServeController pid=66733)\u001b[0m INFO 2022-05-20 11:31:42,214 controller 66733 deployment_state.py:1217 - Adding 1 replicas to deployment 'BatchSizePredictor'.\n"
     ]
    }
   ],
   "source": [
    "ModelWrapperDeployment.options(name=\"BatchSizePredictor\").deploy(\n",
    "    predictor_cls=BatchSizePredictor,\n",
    "    checkpoint=local_checkpoint,\n",
    "    batching_params={\"max_batch_size\": 10, \"batch_wait_timeout_s\": 5}\n",
    ")"
   ]
  },
  {
   "cell_type": "markdown",
   "metadata": {},
   "source": [
    "Let's call them again! You should be able to see all ten requests are now part of the same group."
   ]
  },
  {
   "cell_type": "code",
   "execution_count": 15,
   "metadata": {},
   "outputs": [
    {
     "name": "stdout",
     "output_type": "stream",
     "text": [
      "Request id: [0.0] is part of batch group: [[0.0], [3.0], [6.0], [1.0], [2.0], [5.0], [7.0], [8.0], [4.0], [9.0]], with batch size 10\n",
      "Request id: [1.0] is part of batch group: [[0.0], [3.0], [6.0], [1.0], [2.0], [5.0], [7.0], [8.0], [4.0], [9.0]], with batch size 10\n",
      "Request id: [2.0] is part of batch group: [[0.0], [3.0], [6.0], [1.0], [2.0], [5.0], [7.0], [8.0], [4.0], [9.0]], with batch size 10\n",
      "Request id: [3.0] is part of batch group: [[0.0], [3.0], [6.0], [1.0], [2.0], [5.0], [7.0], [8.0], [4.0], [9.0]], with batch size 10\n",
      "Request id: [4.0] is part of batch group: [[0.0], [3.0], [6.0], [1.0], [2.0], [5.0], [7.0], [8.0], [4.0], [9.0]], with batch size 10\n",
      "Request id: [5.0] is part of batch group: [[0.0], [3.0], [6.0], [1.0], [2.0], [5.0], [7.0], [8.0], [4.0], [9.0]], with batch size 10\n",
      "Request id: [6.0] is part of batch group: [[0.0], [3.0], [6.0], [1.0], [2.0], [5.0], [7.0], [8.0], [4.0], [9.0]], with batch size 10\n",
      "Request id: [7.0] is part of batch group: [[0.0], [3.0], [6.0], [1.0], [2.0], [5.0], [7.0], [8.0], [4.0], [9.0]], with batch size 10\n",
      "Request id: [8.0] is part of batch group: [[0.0], [3.0], [6.0], [1.0], [2.0], [5.0], [7.0], [8.0], [4.0], [9.0]], with batch size 10\n",
      "Request id: [9.0] is part of batch group: [[0.0], [3.0], [6.0], [1.0], [2.0], [5.0], [7.0], [8.0], [4.0], [9.0]], with batch size 10\n"
     ]
    },
    {
     "name": "stderr",
     "output_type": "stream",
     "text": [
      "\u001b[2m\u001b[36m(HTTPProxyActor pid=66737)\u001b[0m INFO 2022-05-20 11:31:47,562 http_proxy 127.0.0.1 http_proxy.py:320 - POST /BatchSizePredictor 200 540.4ms\n",
      "\u001b[2m\u001b[36m(HTTPProxyActor pid=66737)\u001b[0m INFO 2022-05-20 11:31:47,563 http_proxy 127.0.0.1 http_proxy.py:320 - POST /BatchSizePredictor 200 533.7ms\n",
      "\u001b[2m\u001b[36m(HTTPProxyActor pid=66737)\u001b[0m INFO 2022-05-20 11:31:47,564 http_proxy 127.0.0.1 http_proxy.py:320 - POST /BatchSizePredictor 200 527.2ms\n",
      "\u001b[2m\u001b[36m(HTTPProxyActor pid=66737)\u001b[0m INFO 2022-05-20 11:31:47,564 http_proxy 127.0.0.1 http_proxy.py:320 - POST /BatchSizePredictor 200 531.9ms\n",
      "\u001b[2m\u001b[36m(HTTPProxyActor pid=66737)\u001b[0m INFO 2022-05-20 11:31:47,564 http_proxy 127.0.0.1 http_proxy.py:320 - POST /BatchSizePredictor 200 529.9ms\n",
      "\u001b[2m\u001b[36m(HTTPProxyActor pid=66737)\u001b[0m INFO 2022-05-20 11:31:47,564 http_proxy 127.0.0.1 http_proxy.py:320 - POST /BatchSizePredictor 200 526.7ms\n",
      "\u001b[2m\u001b[36m(HTTPProxyActor pid=66737)\u001b[0m INFO 2022-05-20 11:31:47,565 http_proxy 127.0.0.1 http_proxy.py:320 - POST /BatchSizePredictor 200 525.6ms\n",
      "\u001b[2m\u001b[36m(HTTPProxyActor pid=66737)\u001b[0m INFO 2022-05-20 11:31:47,565 http_proxy 127.0.0.1 http_proxy.py:320 - POST /BatchSizePredictor 200 525.9ms\n",
      "\u001b[2m\u001b[36m(HTTPProxyActor pid=66737)\u001b[0m INFO 2022-05-20 11:31:47,565 http_proxy 127.0.0.1 http_proxy.py:320 - POST /BatchSizePredictor 200 526.1ms\n",
      "\u001b[2m\u001b[36m(HTTPProxyActor pid=66737)\u001b[0m INFO 2022-05-20 11:31:47,566 http_proxy 127.0.0.1 http_proxy.py:320 - POST /BatchSizePredictor 200 526.3ms\n",
      "\u001b[2m\u001b[36m(BatchSizePredictor pid=66784)\u001b[0m INFO 2022-05-20 11:31:47,557 BatchSizePredictor BatchSizePredictor#bQKUHH replica.py:483 - HANDLE __call__ OK 529.8ms\n",
      "\u001b[2m\u001b[36m(BatchSizePredictor pid=66784)\u001b[0m INFO 2022-05-20 11:31:47,558 BatchSizePredictor BatchSizePredictor#bQKUHH replica.py:483 - HANDLE __call__ OK 516.4ms\n",
      "\u001b[2m\u001b[36m(BatchSizePredictor pid=66784)\u001b[0m INFO 2022-05-20 11:31:47,558 BatchSizePredictor BatchSizePredictor#bQKUHH replica.py:483 - HANDLE __call__ OK 515.3ms\n",
      "\u001b[2m\u001b[36m(BatchSizePredictor pid=66784)\u001b[0m INFO 2022-05-20 11:31:47,558 BatchSizePredictor BatchSizePredictor#bQKUHH replica.py:483 - HANDLE __call__ OK 515.2ms\n",
      "\u001b[2m\u001b[36m(BatchSizePredictor pid=66784)\u001b[0m INFO 2022-05-20 11:31:47,558 BatchSizePredictor BatchSizePredictor#bQKUHH replica.py:483 - HANDLE __call__ OK 514.6ms\n",
      "\u001b[2m\u001b[36m(BatchSizePredictor pid=66784)\u001b[0m INFO 2022-05-20 11:31:47,559 BatchSizePredictor BatchSizePredictor#bQKUHH replica.py:483 - HANDLE __call__ OK 513.0ms\n",
      "\u001b[2m\u001b[36m(BatchSizePredictor pid=66784)\u001b[0m INFO 2022-05-20 11:31:47,559 BatchSizePredictor BatchSizePredictor#bQKUHH replica.py:483 - HANDLE __call__ OK 512.0ms\n",
      "\u001b[2m\u001b[36m(BatchSizePredictor pid=66784)\u001b[0m INFO 2022-05-20 11:31:47,559 BatchSizePredictor BatchSizePredictor#bQKUHH replica.py:483 - HANDLE __call__ OK 511.7ms\n",
      "\u001b[2m\u001b[36m(BatchSizePredictor pid=66784)\u001b[0m INFO 2022-05-20 11:31:47,560 BatchSizePredictor BatchSizePredictor#bQKUHH replica.py:483 - HANDLE __call__ OK 511.5ms\n",
      "\u001b[2m\u001b[36m(BatchSizePredictor pid=66784)\u001b[0m INFO 2022-05-20 11:31:47,560 BatchSizePredictor BatchSizePredictor#bQKUHH replica.py:483 - HANDLE __call__ OK 510.8ms\n"
     ]
    }
   ],
   "source": [
    "from concurrent.futures import ThreadPoolExecutor, wait\n",
    "\n",
    "with ThreadPoolExecutor() as pool:\n",
    "    futs = [\n",
    "        pool.submit(\n",
    "            requests.post,\n",
    "            \"http://localhost:8000/BatchSizePredictor/\",\n",
    "            json={\"array\": [i]},\n",
    "        )\n",
    "        for i in range(10)\n",
    "    ]\n",
    "    wait(futs)\n",
    "for fut in futs:\n",
    "    i, batch_size, batch_group = fut.result().json()\n",
    "    print(f\"Request id: {i} is part of batch group: {batch_group}, with batch size {batch_size}\")"
   ]
  },
  {
   "cell_type": "markdown",
   "metadata": {},
   "source": [
    "The batching behavior is well defined:\n",
    "- When batching arrays, they are all concatenated into a new array with batch dimension added.\n",
    "- When batching dataframes, they are all concatenated row wise.\n",
    "\n",
    "You can also turn off this behavior by setting `batching_params=False`."
   ]
  }
 ],
 "metadata": {
  "interpreter": {
   "hash": "3d292ac03404f7ef6351ef2ed79a7f4abdf879ab5af2497c4aeba036dba01cfa"
  },
  "kernelspec": {
   "display_name": "Python 3.6.9 ('base')",
   "language": "python",
   "name": "python3"
  },
  "language_info": {
   "codemirror_mode": {
    "name": "ipython",
    "version": 3
   },
   "file_extension": ".py",
   "mimetype": "text/x-python",
   "name": "python",
   "nbconvert_exporter": "python",
   "pygments_lexer": "ipython3",
   "version": "3.6.9"
  },
  "orig_nbformat": 4
 },
 "nbformat": 4,
 "nbformat_minor": 2
}
