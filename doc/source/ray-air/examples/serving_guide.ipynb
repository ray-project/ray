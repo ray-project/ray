{
 "cells": [
  {
   "cell_type": "markdown",
   "metadata": {},
   "source": [
    "# Serve Ray AIR Predictor with `ModelWrapper`\n",
    "\n",
    "[Ray Serve](rayserve.org) is the recommended tool exposing Ray AIR checkpoints for live interactive querying. \n",
    "The core concept is called `ModelWrapper`. `ModelWrapper` takes a predictor class and a checkpoint and transform them to live HTTP endpoint. \n",
    "Let's take a look at an example with custom predictor. \n",
    "You can find end to end examples with your specific frameworks in the [exmaples](air-examples-ref) page.\n",
    "\n",
    "In this example, we will demonstrate:\n",
    "- How to serve a predictor accepting array input.\n",
    "- How to serve a predictor accepting dataframe input.\n",
    "- How to serve a predictor accepting custom input that can be transformed to array or dataframe.\n",
    "- How to configure micro-batching to enhance performance."
   ]
  },
  {
   "cell_type": "markdown",
   "metadata": {},
   "source": [
    "Let's first make sure Ray AIR is installed."
   ]
  },
  {
   "cell_type": "code",
   "execution_count": 1,
   "metadata": {},
   "outputs": [
    {
     "name": "stdout",
     "output_type": "stream",
     "text": [
      "Requirement already satisfied: ray[air] in /Users/simonmo/Desktop/ray/ray/python (2.0.0.dev0)\n",
      "\u001b[33m  WARNING: ray 2.0.0.dev0 does not provide the extra 'air'\u001b[0m\n",
      "Requirement already satisfied: attrs in /Users/simonmo/miniconda3/lib/python3.6/site-packages (from ray[air]) (21.2.0)\n",
      "Requirement already satisfied: click>=7.0 in /Users/simonmo/miniconda3/lib/python3.6/site-packages (from ray[air]) (7.1.2)\n",
      "Requirement already satisfied: filelock in /Users/simonmo/miniconda3/lib/python3.6/site-packages (from ray[air]) (3.0.12)\n",
      "Requirement already satisfied: grpcio>=1.28.1 in /Users/simonmo/miniconda3/lib/python3.6/site-packages (from ray[air]) (1.43.0)\n",
      "Requirement already satisfied: jsonschema in /Users/simonmo/miniconda3/lib/python3.6/site-packages (from ray[air]) (3.2.0)\n",
      "Requirement already satisfied: msgpack<2.0.0,>=1.0.0 in /Users/simonmo/miniconda3/lib/python3.6/site-packages (from ray[air]) (1.0.0)\n",
      "Requirement already satisfied: protobuf>=3.15.3 in /Users/simonmo/miniconda3/lib/python3.6/site-packages (from ray[air]) (3.17.3)\n",
      "Requirement already satisfied: pyyaml in /Users/simonmo/miniconda3/lib/python3.6/site-packages (from ray[air]) (5.4.1)\n",
      "Requirement already satisfied: redis>=3.5.0 in /Users/simonmo/miniconda3/lib/python3.6/site-packages (from ray[air]) (3.5.3)\n",
      "Requirement already satisfied: aioredis<2 in /Users/simonmo/miniconda3/lib/python3.6/site-packages (from ray[air]) (1.3.1)\n",
      "Requirement already satisfied: aiosignal in /Users/simonmo/miniconda3/lib/python3.6/site-packages (from ray[air]) (1.2.0)\n",
      "Requirement already satisfied: frozenlist in /Users/simonmo/miniconda3/lib/python3.6/site-packages (from ray[air]) (1.2.0)\n",
      "Requirement already satisfied: virtualenv in /Users/simonmo/miniconda3/lib/python3.6/site-packages (from ray[air]) (20.0.9)\n",
      "Requirement already satisfied: dataclasses in /Users/simonmo/miniconda3/lib/python3.6/site-packages (from ray[air]) (0.8)\n",
      "Requirement already satisfied: numpy>=1.16 in /Users/simonmo/miniconda3/lib/python3.6/site-packages (from ray[air]) (1.19.1)\n",
      "Requirement already satisfied: six>=1.5.2 in /Users/simonmo/miniconda3/lib/python3.6/site-packages (from grpcio>=1.28.1->ray[air]) (1.16.0)\n",
      "Requirement already satisfied: pyrsistent>=0.14.0 in /Users/simonmo/miniconda3/lib/python3.6/site-packages (from jsonschema->ray[air]) (0.18.0)\n",
      "Requirement already satisfied: setuptools in /Users/simonmo/miniconda3/lib/python3.6/site-packages (from jsonschema->ray[air]) (41.0.1)\n",
      "Requirement already satisfied: importlib-metadata; python_version < \"3.8\" in /Users/simonmo/miniconda3/lib/python3.6/site-packages (from jsonschema->ray[air]) (4.8.1)\n",
      "Requirement already satisfied: async-timeout in /Users/simonmo/miniconda3/lib/python3.6/site-packages (from aioredis<2->ray[air]) (3.0.1)\n",
      "Requirement already satisfied: hiredis in /Users/simonmo/miniconda3/lib/python3.6/site-packages (from aioredis<2->ray[air]) (1.1.0)\n",
      "Requirement already satisfied: importlib-resources<2,>=1.0; python_version < \"3.7\" in /Users/simonmo/miniconda3/lib/python3.6/site-packages (from virtualenv->ray[air]) (1.5.0)\n",
      "Requirement already satisfied: appdirs<2,>=1.4.3 in /Users/simonmo/miniconda3/lib/python3.6/site-packages (from virtualenv->ray[air]) (1.4.3)\n",
      "Requirement already satisfied: distlib<1,>=0.3.0 in /Users/simonmo/miniconda3/lib/python3.6/site-packages (from virtualenv->ray[air]) (0.3.0)\n",
      "Requirement already satisfied: zipp>=0.5 in /Users/simonmo/miniconda3/lib/python3.6/site-packages (from importlib-metadata; python_version < \"3.8\"->jsonschema->ray[air]) (3.6.0)\n",
      "Requirement already satisfied: typing-extensions>=3.6.4; python_version < \"3.8\" in /Users/simonmo/miniconda3/lib/python3.6/site-packages (from importlib-metadata; python_version < \"3.8\"->jsonschema->ray[air]) (4.0.1)\n",
      "\u001b[33mWARNING: You are using pip version 19.3.1; however, version 21.3.1 is available.\n",
      "You should consider upgrading via the 'pip install --upgrade pip' command.\u001b[0m\n"
     ]
    }
   ],
   "source": [
    "!pip install \"ray[air]\""
   ]
  },
  {
   "cell_type": "markdown",
   "metadata": {},
   "source": [
    "## Predictor accepting NumPy Array\n",
    "We will use a simple predictor implementation that adds a scaler to input array."
   ]
  },
  {
   "cell_type": "code",
   "execution_count": 2,
   "metadata": {},
   "outputs": [],
   "source": [
    "import numpy as np\n",
    "\n",
    "from ray.ml.predictor import Predictor\n",
    "from ray.ml.checkpoint import Checkpoint\n",
    "\n",
    "class AdderPredictor(Predictor):\n",
    "    def __init__(self, increment: int):\n",
    "        self.increment = increment\n",
    "    \n",
    "    @classmethod\n",
    "    def from_checkpoint(cls, ckpt: Checkpoint):\n",
    "        return cls(ckpt.to_dict()[\"increment\"])\n",
    "    \n",
    "    def predict(self, inp: np.ndarray) -> np.ndarray:\n",
    "        return inp + self.increment"
   ]
  },
  {
   "cell_type": "markdown",
   "metadata": {},
   "source": [
    "Let's first test it locally."
   ]
  },
  {
   "cell_type": "code",
   "execution_count": 3,
   "metadata": {},
   "outputs": [],
   "source": [
    "local_checkpoint = Checkpoint.from_dict({\"increment\": 2})\n",
    "local_predictor = AdderPredictor.from_checkpoint(local_checkpoint)\n",
    "assert local_predictor.predict(np.array([40])) == np.array([42])"
   ]
  },
  {
   "cell_type": "markdown",
   "metadata": {},
   "source": [
    "It worked! Now let's serve it behind HTTP. For more about Ray Serve the framework, checkout\n",
    "[its documentation](rayserve)."
   ]
  },
  {
   "cell_type": "code",
   "execution_count": 4,
   "metadata": {},
   "outputs": [
    {
     "name": "stderr",
     "output_type": "stream",
     "text": [
      "2022-05-19 19:36:25,720\tINFO services.py:1483 -- View the Ray dashboard at \u001b[1m\u001b[32mhttp://127.0.0.1:8265\u001b[39m\u001b[22m\n",
      "\u001b[2m\u001b[36m(ServeController pid=56600)\u001b[0m INFO 2022-05-19 19:36:30,711 controller 56600 checkpoint_path.py:17 - Using RayInternalKVStore for controller checkpoint and recovery.\n",
      "\u001b[2m\u001b[36m(ServeController pid=56600)\u001b[0m INFO 2022-05-19 19:36:30,821 controller 56600 http_state.py:115 - Starting HTTP proxy with name 'SERVE_CONTROLLER_ACTOR:mFggjx:SERVE_PROXY_ACTOR-node:127.0.0.1-0' on node 'node:127.0.0.1-0' listening on '127.0.0.1:8000'\n",
      "\u001b[2m\u001b[36m(HTTPProxyActor pid=56607)\u001b[0m INFO:     Started server process [56607]\n",
      "\u001b[2m\u001b[36m(ServeController pid=56600)\u001b[0m INFO 2022-05-19 19:36:32,854 controller 56600 deployment_state.py:1217 - Adding 1 replicas to deployment 'Adder'.\n"
     ]
    }
   ],
   "source": [
    "from ray import serve\n",
    "from ray.serve.model_wrappers import ModelWrapperDeployment\n",
    "\n",
    "# Create Ray Serve instance\n",
    "serve.start()\n",
    "\n",
    "# Deploy the model behind HTTP endpoint\n",
    "ModelWrapperDeployment.options(name=\"Adder\").deploy(\n",
    "    predictor_cls=AdderPredictor,\n",
    "    checkpoint=local_checkpoint\n",
    ")"
   ]
  },
  {
   "cell_type": "markdown",
   "metadata": {},
   "source": [
    "As you can see the core component is called `ModelWrapperDeployment`, the deployment takes few arguments. It requires two arguments to start:\n",
    "- `predictor_cls (Type[Predictor] | str)`: The predictor Python class. Typically you just need to use the builtin integration from Ray AIR like `TorchPredictor`. Alternatively, you can specify the class path to import such predictor like `\"ray.ml.integrations.torch.TorchPredictor\"`.\n",
    "- `checkpoint (Checkpoint | str)`: A checkpoint instance, or uri to load checkpoint from.\n",
    "\n",
    "After the model has been deployed, let's send an HTTP request."
   ]
  },
  {
   "cell_type": "code",
   "execution_count": 5,
   "metadata": {},
   "outputs": [
    {
     "data": {
      "text/plain": [
       "[42.0]"
      ]
     },
     "execution_count": 5,
     "metadata": {},
     "output_type": "execute_result"
    }
   ],
   "source": [
    "import requests\n",
    "resp = requests.post(\"http://localhost:8000/Adder/\", json={\"array\": [40]})\n",
    "resp.raise_for_status()\n",
    "resp.json()"
   ]
  },
  {
   "cell_type": "markdown",
   "metadata": {},
   "source": [
    "That's it for array! You can specify multi-dimensional array in the JSON payload, as well as \"dtype\" and \"shape\" field to process to array. The schema for array input is available [here](serve-ndarray-schema)."
   ]
  },
  {
   "cell_type": "markdown",
   "metadata": {},
   "source": [
    "## Predictor accepting Pandas DataFrame\n",
    "Let's now take a look at a predictor accepting dataframe input. We will perform some simple column wise transformation on the input data."
   ]
  },
  {
   "cell_type": "code",
   "execution_count": 6,
   "metadata": {},
   "outputs": [
    {
     "name": "stderr",
     "output_type": "stream",
     "text": [
      "\u001b[2m\u001b[36m(HTTPProxyActor pid=56607)\u001b[0m INFO 2022-05-19 19:36:35,950 http_proxy 127.0.0.1 http_proxy.py:320 - POST /Adder 200 15.9ms\n",
      "\u001b[2m\u001b[36m(Adder pid=56615)\u001b[0m INFO 2022-05-19 19:36:35,949 Adder Adder#fCjrZL replica.py:483 - HANDLE __call__ OK 12.0ms\n"
     ]
    }
   ],
   "source": [
    "import pandas as pd\n",
    "\n",
    "\n",
    "class DataFramePredictor(Predictor):\n",
    "    def __init__(self, increment: int):\n",
    "        self.increment = increment\n",
    "\n",
    "    @classmethod\n",
    "    def from_checkpoint(cls, ckpt: Checkpoint):\n",
    "        return cls(ckpt.to_dict()[\"increment\"])\n",
    "\n",
    "    def predict(self, inp: pd.DataFrame) -> pd.DataFrame:\n",
    "        inp[\"prediction\"] =  inp[\"base\"] * inp[\"multipiler\"] + self.increment\n",
    "        return inp\n",
    "\n",
    "local_df_predictor = DataFramePredictor.from_checkpoint(local_checkpoint)"
   ]
  },
  {
   "cell_type": "code",
   "execution_count": 7,
   "metadata": {},
   "outputs": [
    {
     "name": "stderr",
     "output_type": "stream",
     "text": [
      "\u001b[2m\u001b[36m(ServeController pid=56600)\u001b[0m INFO 2022-05-19 19:36:36,175 controller 56600 deployment_state.py:1217 - Adding 1 replicas to deployment 'DataFramePredictor'.\n"
     ]
    }
   ],
   "source": [
    "from ray.serve.http_adapters import pandas_read_json\n",
    "\n",
    "ModelWrapperDeployment.options(name=\"DataFramePredictor\").deploy(\n",
    "    predictor_cls=DataFramePredictor,\n",
    "    checkpoint=local_checkpoint,\n",
    "    http_adapter=pandas_read_json\n",
    ")"
   ]
  },
  {
   "cell_type": "code",
   "execution_count": 10,
   "metadata": {},
   "outputs": [
    {
     "data": {
      "text/plain": [
       "'[{\"base\":1,\"multipiler\":2,\"prediction\":4},{\"base\":3,\"multipiler\":4,\"prediction\":14}]'"
      ]
     },
     "execution_count": 10,
     "metadata": {},
     "output_type": "execute_result"
    },
    {
     "name": "stderr",
     "output_type": "stream",
     "text": [
      "\u001b[2m\u001b[36m(HTTPProxyActor pid=56607)\u001b[0m INFO 2022-05-19 19:36:53,656 http_proxy 127.0.0.1 http_proxy.py:320 - POST /DataFramePredictor 200 9.9ms\n",
      "\u001b[2m\u001b[36m(DataFramePredictor pid=56624)\u001b[0m INFO 2022-05-19 19:36:53,654 DataFramePredictor DataFramePredictor#VKWXkl replica.py:483 - HANDLE __call__ OK 7.0ms\n"
     ]
    }
   ],
   "source": [
    "resp = requests.post(\n",
    "    \"http://localhost:8000/DataFramePredictor/\",\n",
    "    json=[{\"base\": 1, \"multipiler\": 2}, {\"base\": 3, \"multipiler\": 4}],\n",
    "    params={\"orient\": \"records\"},\n",
    ")\n",
    "resp.raise_for_status()\n",
    "resp.text"
   ]
  },
  {
   "cell_type": "code",
   "execution_count": null,
   "metadata": {},
   "outputs": [],
   "source": []
  }
 ],
 "metadata": {
  "interpreter": {
   "hash": "3d292ac03404f7ef6351ef2ed79a7f4abdf879ab5af2497c4aeba036dba01cfa"
  },
  "kernelspec": {
   "display_name": "Python 3.6.9 ('base')",
   "language": "python",
   "name": "python3"
  },
  "language_info": {
   "codemirror_mode": {
    "name": "ipython",
    "version": 3
   },
   "file_extension": ".py",
   "mimetype": "text/x-python",
   "name": "python",
   "nbconvert_exporter": "python",
   "pygments_lexer": "ipython3",
   "version": "3.6.9"
  },
  "orig_nbformat": 4
 },
 "nbformat": 4,
 "nbformat_minor": 2
}
