{
 "cells": [
  {
   "attachments": {},
   "cell_type": "markdown",
   "id": "bff34332",
   "metadata": {},
   "source": [
    "(air-convert-tf-to-air)=\n",
    "\n",
    "# Convert existing Tensorflow/Keras code to Ray AIR\n",
    "\n",
    "If you already have working Tensorflow code, you don’t have to start from scratch to utilize the benefits of Ray AIR. Instead, you can continue to use your existing code and incrementally add Ray AIR components as needed.\n",
    "\n",
    "Some of the benefits you’ll get by using Ray AIR with your existing Tensorflow training code:\n",
    "\n",
    "- Easy distributed data-parallel training on a cluster\n",
    "- Automatic checkpointing/fault tolerance and result tracking\n",
    "- Parallel data preprocessing\n",
    "- Seamless integration with hyperparameter tuning\n",
    "- Scalable model serving\n",
    "\n",
    "This tutorial will show you how to start with Ray AIR from your existing Tensorflow training code. We will learn how to perform **distributed data-parallel training**."
   ]
  },
  {
   "attachments": {},
   "cell_type": "markdown",
   "id": "2b4c7109",
   "metadata": {},
   "source": [
    "## Example Code\n",
    "\n",
    "The example code we’ll be converting to Ray AIR is that of the [Tensorflow quickstart tutorial](https://www.tensorflow.org/tutorials/quickstart/beginner). This code trains a neural network classifier on the MNIST dataset.\n",
    "\n",
    "Follow along with this example by launching the notebook using the 🚀 icon above!"
   ]
  },
  {
   "attachments": {},
   "cell_type": "markdown",
   "id": "de8dfe91",
   "metadata": {},
   "source": [
    "## Existing Tensorflow Code\n",
    "\n",
    "Let’s start with the unmodified code from the example. A thorough explanation of the parts is given in the full tutorial - we’ll just focus on the code here."
   ]
  },
  {
   "cell_type": "code",
   "execution_count": 1,
   "id": "5f0e37a1",
   "metadata": {},
   "outputs": [
    {
     "name": "stdout",
     "output_type": "stream",
     "text": [
      "TensorFlow version: 2.9.2\n"
     ]
    }
   ],
   "source": [
    "import tensorflow as tf\n",
    "print(\"TensorFlow version:\", tf.__version__)"
   ]
  },
  {
   "attachments": {},
   "cell_type": "markdown",
   "id": "42445269",
   "metadata": {},
   "source": [
    "First, we load and preprocess the MNIST dataset.\n",
    "\n",
    "Assumption for this tutorial: your existing code is using the `tf.data.Dataset` native to Tensorflow. This tutorial continues to use `tf.data.Dataset` to allow you to make as few code changes as possible. **Everything in this tutorial is also possible if you choose to use Ray Data, and you will also get the benefits of efficient preprocessing and multi-worker batch prediction.** See [here](train-datasets) for resources to get started with Ray Data."
   ]
  },
  {
   "cell_type": "code",
   "execution_count": 28,
   "id": "fd60ad8d",
   "metadata": {},
   "outputs": [
    {
     "name": "stdout",
     "output_type": "stream",
     "text": [
      "Training Dataset: 60000 samples\n",
      "Test Dataset: 10000 samples\n"
     ]
    }
   ],
   "source": [
    "mnist = tf.keras.datasets.mnist\n",
    "\n",
    "(x_train, y_train), (x_test, y_test) = mnist.load_data()\n",
    "x_train, x_test = x_train / 255.0, x_test / 255.0\n",
    "\n",
    "train_ds = tf.data.Dataset.from_tensor_slices(\n",
    "    (x_train, y_train)).shuffle(len(x_train)).batch(32)\n",
    "test_ds = tf.data.Dataset.from_tensor_slices((x_test, y_test)).batch(32)\n",
    "\n",
    "print(f\"Training Dataset: {len(x_train)} samples\")\n",
    "print(f\"Test Dataset: {len(x_test)} samples\")"
   ]
  },
  {
   "attachments": {},
   "cell_type": "markdown",
   "id": "f898c4b1",
   "metadata": {},
   "source": [
    "Next, we define the model architecture of the neural network. We wrap the model definition inside a function for easy reuse later."
   ]
  },
  {
   "cell_type": "code",
   "execution_count": 3,
   "id": "60cd1bed",
   "metadata": {},
   "outputs": [],
   "source": [
    "def build_model() -> tf.keras.Model:\n",
    "    return tf.keras.Sequential(\n",
    "        [\n",
    "            tf.keras.layers.InputLayer(input_shape=(28, 28)),\n",
    "            tf.keras.layers.Flatten(),\n",
    "            tf.keras.layers.Dense(128, activation=\"relu\"),\n",
    "            tf.keras.layers.Dropout(0.2),\n",
    "            tf.keras.layers.Dense(10),\n",
    "        ]\n",
    "    )"
   ]
  },
  {
   "attachments": {},
   "cell_type": "markdown",
   "id": "58ceff67",
   "metadata": {},
   "source": [
    "Next, initialize the model, loss, optimizer, and define some metrics that we want to track during training.\n",
    "\n",
    "We recommend using the Keras `Model.fit` API, as it simplifies distributing your training with `tf.distribute` and Ray AIR. Compile your model with a loss function and optimizer, then run `model.fit(train_ds)`."
   ]
  },
  {
   "cell_type": "code",
   "execution_count": 4,
   "id": "e86f04ff",
   "metadata": {},
   "outputs": [],
   "source": [
    "loss_object = tf.keras.losses.SparseCategoricalCrossentropy(from_logits=True)\n",
    "optimizer = tf.keras.optimizers.Adam()\n",
    "\n",
    "model = build_model()\n",
    "model.compile(\n",
    "    optimizer=optimizer,\n",
    "    loss=loss_object,\n",
    "    metrics=[\"accuracy\"],\n",
    ")"
   ]
  },
  {
   "attachments": {},
   "cell_type": "markdown",
   "id": "310c5f98",
   "metadata": {},
   "source": [
    "Next, we train the model for some number of epochs, updating the model parameters to minimize the loss. Each epochs loop through the entire training dataset and perform gradient descent steps."
   ]
  },
  {
   "cell_type": "code",
   "execution_count": 5,
   "id": "e083068b",
   "metadata": {},
   "outputs": [
    {
     "name": "stdout",
     "output_type": "stream",
     "text": [
      "Epoch 1/5\n",
      "1875/1875 - 3s - loss: 0.2954 - accuracy: 0.9134 - 3s/epoch - 2ms/step\n",
      "Epoch 2/5\n",
      "1875/1875 - 3s - loss: 0.1437 - accuracy: 0.9567 - 3s/epoch - 2ms/step\n",
      "Epoch 3/5\n",
      "1875/1875 - 3s - loss: 0.1078 - accuracy: 0.9673 - 3s/epoch - 1ms/step\n",
      "Epoch 4/5\n",
      "1875/1875 - 3s - loss: 0.0860 - accuracy: 0.9736 - 3s/epoch - 1ms/step\n",
      "Epoch 5/5\n",
      "1875/1875 - 3s - loss: 0.0746 - accuracy: 0.9760 - 3s/epoch - 2ms/step\n"
     ]
    }
   ],
   "source": [
    "train_history = model.fit(train_ds, epochs=5, verbose=2)"
   ]
  },
  {
   "attachments": {},
   "cell_type": "markdown",
   "id": "0e70160c",
   "metadata": {},
   "source": [
    "After training, we evaluate the model's performance on the test set."
   ]
  },
  {
   "cell_type": "code",
   "execution_count": 6,
   "id": "94e3b5b1",
   "metadata": {},
   "outputs": [
    {
     "name": "stdout",
     "output_type": "stream",
     "text": [
      "313/313 - 0s - loss: 0.0735 - accuracy: 0.9788 - 457ms/epoch - 1ms/step\n",
      "Final Test Loss: 0.0735, Final Test Accuracy: 0.9788\n"
     ]
    }
   ],
   "source": [
    "# Evaluate on the test set and report metrics\n",
    "eval_result = model.evaluate(test_ds, return_dict=True, verbose=0)\n",
    "test_loss = eval_result[\"loss\"]\n",
    "test_accuracy = eval_result[\"accuracy\"]\n",
    "print(\n",
    "    f\"Final Test Loss: {test_loss:.4f}, \"\n",
    "    f\"Final Test Accuracy: {test_accuracy:.4f}\"\n",
    ")"
   ]
  },
  {
   "attachments": {},
   "cell_type": "markdown",
   "id": "2d741835",
   "metadata": {},
   "source": [
    "## Wrap everything in a training loop function\n",
    "\n",
    "Later on, we might want to perform hyperparameter optimization and launch multiple training runs, so it is useful to wrap the training logic we have so far in a function. We also introduce a function to get the training and test datasets, which is used within the training function."
   ]
  },
  {
   "cell_type": "code",
   "execution_count": 7,
   "id": "545eeb66",
   "metadata": {},
   "outputs": [],
   "source": [
    "def get_train_test_datasets(batch_size):\n",
    "    train_ds = tf.data.Dataset.from_tensor_slices(\n",
    "        (x_train, y_train)).shuffle(len(x_train)).batch(batch_size)\n",
    "    test_ds = tf.data.Dataset.from_tensor_slices(\n",
    "        (x_test, y_test)).batch(batch_size)\n",
    "\n",
    "    return train_ds, test_ds\n",
    "\n",
    "def train_func():\n",
    "    epochs = 5\n",
    "    batch_size = 32\n",
    "\n",
    "    loss_object = tf.keras.losses.SparseCategoricalCrossentropy(from_logits=True)\n",
    "    optimizer = tf.keras.optimizers.Adam()\n",
    "\n",
    "    model = build_model()\n",
    "    model.compile(\n",
    "        optimizer=optimizer,\n",
    "        loss=loss_object,\n",
    "        metrics=[\"accuracy\"],\n",
    "    )\n",
    "    \n",
    "    train_ds, test_ds = get_train_test_datasets(batch_size)\n",
    "    \n",
    "    model.fit(train_ds, epochs=epochs, verbose=2)\n",
    "    \n",
    "    eval_result = model.evaluate(test_ds, return_dict=True, verbose=0)\n",
    "    test_loss = eval_result[\"loss\"]\n",
    "    test_accuracy = eval_result[\"accuracy\"]\n",
    "    print(\n",
    "        f\"Final Test Loss: {test_loss:.4f}, \"\n",
    "        f\"Final Test Accuracy: {test_accuracy:.4f}\"\n",
    "    )"
   ]
  },
  {
   "attachments": {},
   "cell_type": "markdown",
   "id": "d5ce3827",
   "metadata": {},
   "source": [
    "## Introduce Ray AIR for Distributed Data-Parallel Training\n",
    "\n",
    "Now that we have set up a training loop that runs on a single worker, let's use Ray AIR to implement **distributed training**, allowing us to train using any number of workers!\n",
    "\n",
    "Ray Train, the model training library within Ray AIR, implements a `TensorflowTrainer` that allows you to do [distributed training with Tensorflow](https://www.tensorflow.org/guide/distributed_training) without needing to create and handle workers manually. Ray Train creates workers in a Ray cluster and configures the `TF_CONFIG` environment variable for you. This way, you can use simply use a strategy from `tf.distribute` to run your training loop across multiple workers in a distributed data-parallel fashion! Currently, the only multi-worker strategy that Train supports is [`tf.distribute.MultiWorkerMirroredStrategy`](https://www.tensorflow.org/guide/distributed_training#multiworkermirroredstrategy), which shards the dataset evenly across workers and synchronizes parameter updates so that workers share the same weights at all times."
   ]
  },
  {
   "attachments": {},
   "cell_type": "markdown",
   "id": "4b122ade",
   "metadata": {},
   "source": [
    "Let's start by installing Ray and AIR modules if we haven't already:"
   ]
  },
  {
   "cell_type": "code",
   "execution_count": null,
   "id": "672fa5f7",
   "metadata": {},
   "outputs": [],
   "source": [
    "!pip install \"ray[air]\""
   ]
  },
  {
   "attachments": {},
   "cell_type": "markdown",
   "id": "5779e67e",
   "metadata": {},
   "source": [
    "### Update the train function\n",
    "\n",
    "As a first step, let's implement the following:\n",
    "\n",
    "1. Add a `config` argument as an easy way to pass in hyperparameters such as `batch_size_per_worker` through Ray Train.\n",
    "2. Set up the model to **communicate gradients and synchronize model weights** between workers under the `tf.distribute.MultiWorkerMirroredStrategy` strategy.\n",
    "3. Enable data-parallel distributed training by **sharding the training data** (and test data) so that each worker only deals with a subset of the data.\n",
    "4. **Enable checkpointing and metric reporting** to get access to the trained model and results after our training job has finished.\n",
    "\n",
    "We only need change a few lines of code:\n",
    "\n",
    "```python\n",
    "from ray.air import session\n",
    "from ray.air.integrations.keras import ReportCheckpointCallback\n",
    "\n",
    "# 1. Add a `config` argument to the train function to pass in hyperparameters\n",
    "\n",
    "def train_func(config: dict):\n",
    "    epochs = config.get(\"epochs\", 5)\n",
    "    batch_size_per_worker = config.get(\"batch_size\", 32)\n",
    "    \n",
    "    # 2. Build and compile the model within tf.distribute strategy scope\n",
    "    \n",
    "    # Important: The strategy must be instantiated at the beginning\n",
    "    # of the function, since the tf.Dataset that we load later needs\n",
    "    # to be auto-sharded.\n",
    "    # See https://www.tensorflow.org/tutorials/distribute/multi_worker_with_keras\n",
    "    # for more details.\n",
    "    strategy = tf.distribute.MultiWorkerMirroredStrategy()\n",
    "    with strategy.scope(): \n",
    "        loss_object = tf.keras.losses.SparseCategoricalCrossentropy(from_logits=True)\n",
    "        optimizer = tf.keras.optimizers.Adam()\n",
    "\n",
    "        model = build_model()\n",
    "        model.compile(\n",
    "            optimizer=optimizer,\n",
    "            loss=loss_object,\n",
    "            metrics=[\"accuracy\"],\n",
    "        )\n",
    "    \n",
    "    # 3. Set a `global_batch_size` so that every worker gets the specified\n",
    "    #    `batch_size_per_worker` regardless of the number of workers.\n",
    "    #    This is needed because the datasets are sharded across workers.\n",
    "\n",
    "    global_batch_size = batch_size_per_worker * session.get_world_size()\n",
    "    train_ds, test_ds = get_train_test_datasets(global_batch_size)\n",
    "    # ^ Even though we are loading the datasets the same way as before, the\n",
    "    # TF dataset will automatically shard the datasets across workers,\n",
    "    # according to the strategy.\n",
    "    \n",
    "    # ...\n",
    "    \n",
    "    # 4. Use a Keras callback provided by Ray AIR to report metrics and checkpoint\n",
    "    report_metrics_and_checkpoint_callback = ReportCheckpointCallback(report_metrics_on=\"epoch_end\")\n",
    "\n",
    "    model.fit(\n",
    "        ...,\n",
    "        callbacks=[report_metrics_and_checkpoint_callback]\n",
    "    )\n",
    "```\n",
    "\n",
    "We see above that we pass a Keras {class}`ReportCheckpointCallback <ray.air.integrations.keras.ReportCheckpointCallback>` into `Model.fit`, which is an AIR integration that reports metrics and saves checkpoints after each epoch (configurable via the `on` parameter). The callback will automatically report metrics such as `loss` and `accuracy` that are specified when compiling the model.\n",
    "\n",
    "Let's see the updated training function after these additions:"
   ]
  },
  {
   "cell_type": "code",
   "execution_count": 9,
   "id": "f6c30c35",
   "metadata": {},
   "outputs": [],
   "source": [
    "from ray.air import session\n",
    "from ray.air.integrations.keras import ReportCheckpointCallback\n",
    "\n",
    "# 1. Pass in the hyperparameter config\n",
    "def train_func(config: dict):\n",
    "    epochs = config.get(\"epochs\", 5)\n",
    "    batch_size_per_worker = config.get(\"batch_size\", 32)\n",
    "    \n",
    "    # 2. Synchronized model setup\n",
    "    strategy = tf.distribute.MultiWorkerMirroredStrategy()\n",
    "    with strategy.scope(): \n",
    "        loss_object = tf.keras.losses.SparseCategoricalCrossentropy(from_logits=True)\n",
    "        optimizer = tf.keras.optimizers.Adam()\n",
    "        \n",
    "        model = build_model()\n",
    "        model.compile(\n",
    "            optimizer=optimizer,\n",
    "            loss=loss_object,\n",
    "            metrics=[\"accuracy\"],\n",
    "        )\n",
    "\n",
    "    # 3. Shard the dataset across `session.get_world_size()` workers\n",
    "    global_batch_size = batch_size_per_worker * session.get_world_size()\n",
    "    train_ds, test_ds = get_train_test_datasets(batch_size_per_worker)\n",
    "\n",
    "    if session.get_world_rank() == 0:\n",
    "        print(f\"\\nDataset is sharded across {session.get_world_size()} workers:\")\n",
    "        # The number of samples is approximate, because is not always\n",
    "        # a multiple of batch_size, so some batches could contain fewer than\n",
    "        # `batch_size_per_worker` samples.\n",
    "        print(\n",
    "            f\"# training batches per worker = {len(train_ds)} \"\n",
    "            f\"(~{len(train_ds) * batch_size_per_worker} samples)\"\n",
    "        )\n",
    "        print(\n",
    "            f\"# test batches per worker = {len(test_ds)} \"\n",
    "            f\"(~{len(test_ds) * batch_size_per_worker} samples)\"\n",
    "        )\n",
    "  \n",
    "    # 4. Report metrics and checkpoint the model\n",
    "    report_metrics_and_checkpoint_callback = ReportCheckpointCallback(report_metrics_on=\"epoch_end\")\n",
    "    model.fit(\n",
    "        train_ds,\n",
    "        epochs=epochs,\n",
    "        callbacks=[report_metrics_and_checkpoint_callback],\n",
    "        verbose=(0 if session.get_world_rank() != 0 else 2),\n",
    "    )\n",
    "\n",
    "    eval_result = model.evaluate(test_ds, return_dict=True, verbose=0)\n",
    "    test_loss = eval_result[\"loss\"]\n",
    "    test_accuracy = eval_result[\"accuracy\"]\n",
    "    if session.get_world_rank() == 0:\n",
    "        print(\n",
    "            f\"Final Test Loss: {test_loss:.4f}, \"\n",
    "            f\"Final Test Accuracy: {test_accuracy:.4f}\"\n",
    "        )"
   ]
  },
  {
   "attachments": {},
   "cell_type": "markdown",
   "id": "1d8630f9-ed38-4b36-8dd5-1e1acc63c66e",
   "metadata": {},
   "source": [
    "A few notes on the [`session` API](air-session-ref) introduced by Ray AIR:\n",
    "- {meth}`session.get_world_size() <ray.air.session.get_world_size>` is a Ray AIR helper that gets the number of workers doing training.\n",
    "- In the updated code below, we also use the helper {meth}`session.get_world_rank() <ray.air.session.get_world_rank>` to only print logs on the head worker node (with rank 0) so that the output isn't spammed by logs from all workers."
   ]
  },
  {
   "attachments": {},
   "cell_type": "markdown",
   "id": "c2949ebd",
   "metadata": {},
   "source": [
    "### Move data loading inside of the training function\n",
    "\n",
    "One important detail is that we should not try to use loaded data from outside of the training function. If we try to reference the training data from outside the training function, Ray serializes it to make it accessible to the remote tasks (that may get executed on a remote node!), and it's not ideal to ship the data around the cluster unnecessarily. Instead, move the dataset loading part into the `train_func()`. This will download the data *to disk once per machine* and result in much more efficient data loading.\n",
    "\n",
    "Let's update the `get_train_test_datasets` method to load the MNIST dataset rather than use a reference from outside the train function."
   ]
  },
  {
   "cell_type": "code",
   "execution_count": 10,
   "id": "82c900b1",
   "metadata": {},
   "outputs": [],
   "source": [
    "def get_train_test_datasets(batch_size):\n",
    "    # NEW: Now, the dataset will be downloaded to disk once per machine\n",
    "    mnist = tf.keras.datasets.mnist\n",
    "    (x_train, y_train), (x_test, y_test) = mnist.load_data()\n",
    "    x_train, x_test = x_train / 255.0, x_test / 255.0\n",
    "    \n",
    "    train_ds = tf.data.Dataset.from_tensor_slices(\n",
    "        (x_train, y_train)).shuffle(len(x_train)).batch(batch_size)\n",
    "    test_ds = tf.data.Dataset.from_tensor_slices(\n",
    "        (x_test, y_test)).batch(batch_size)\n",
    "    return train_ds, test_ds"
   ]
  },
  {
   "attachments": {},
   "cell_type": "markdown",
   "id": "6774b3dd",
   "metadata": {},
   "source": [
    "### Start training with `TensorflowTrainer`"
   ]
  },
  {
   "attachments": {},
   "cell_type": "markdown",
   "id": "cfdda09f",
   "metadata": {},
   "source": [
    "Now, we’ll use Ray Train’s `TensorflowTrainer` to kick off the distributed training.\n",
    "\n",
    "A few notes on the configs set below:\n",
    "- `train_loop_config` sets the hyperparameters passed into the training loop as the `config` parameter\n",
    "- `scaling_config` configures **how many parallel workers to use**, the **resources required per worker**, and whether we want to **enable GPU training** or not.\n",
    "\n",
    "See this [configuration guide](train-config) for more details on how to configure the trainer."
   ]
  },
  {
   "cell_type": "code",
   "execution_count": null,
   "id": "dd3b479b",
   "metadata": {},
   "outputs": [],
   "source": [
    "from ray import air\n",
    "from ray.train.tensorflow import TensorflowTrainer\n",
    "\n",
    "num_workers = 2\n",
    "use_gpu = False\n",
    "\n",
    "trainer = TensorflowTrainer(\n",
    "    train_loop_per_worker=train_func,\n",
    "    train_loop_config={\n",
    "        \"batch_size\": 32,\n",
    "        \"epochs\": 4,\n",
    "    },\n",
    "    scaling_config=air.ScalingConfig(\n",
    "        num_workers=num_workers,\n",
    "        use_gpu=use_gpu,\n",
    "    ),\n",
    ")\n",
    "result = trainer.fit()"
   ]
  },
  {
   "attachments": {},
   "cell_type": "markdown",
   "id": "dbf8d1ac",
   "metadata": {},
   "source": [
    "Great, this works 🎉! You’re now training your model in parallel. You could now scale this up to more nodes and workers on your Ray cluster."
   ]
  },
  {
   "attachments": {},
   "cell_type": "markdown",
   "id": "8b461680",
   "metadata": {},
   "source": [
    "We can use the training `Result` output of `trainer.fit()` to view some reported metrics. See the {class}`Result <ray.air.result.Result>` documentation for a full list of what's available. Let's plot the training loss vs. training iteration."
   ]
  },
  {
   "cell_type": "code",
   "execution_count": 19,
   "id": "36b817bb",
   "metadata": {},
   "outputs": [
    {
     "data": {
      "text/plain": [
       "<AxesSubplot: xlabel='training_iteration'>"
      ]
     },
     "execution_count": 19,
     "metadata": {},
     "output_type": "execute_result"
    },
    {
     "data": {
      "image/png": "[encoded data removed]",
      "text/plain": [
       "<Figure size 640x480 with 1 Axes>"
      ]
     },
     "metadata": {},
     "output_type": "display_data"
    }
   ],
   "source": [
    "result.metrics_dataframe.plot(\"training_iteration\", \"loss\")"
   ]
  },
  {
   "attachments": {},
   "cell_type": "markdown",
   "id": "c02abb39",
   "metadata": {},
   "source": [
    "## Summary\n",
    "\n",
    "This tutorial demonstrated how a few lines of code with Ray AIR API's can allow you to scale up your Tensorflow model training.\n",
    "\n",
    "We learned how to:\n",
    "- enable distributed training using Ray Train abstractions\n",
    "- save and retrieve model checkpoints via Ray AIR\n",
    "- load a model for batch prediction\n",
    "\n",
    "In our [other examples](air-examples-ref) you can learn how to do more things with the Ray AIR API, such as **serving your model with Ray Serve** or **tune your hyperparameters with Ray Tune**. You can also learn how to perform {ref}`offline batch inference <batch_inference_home>` with Ray Data.\n",
    "\n",
    "See [this table](train-framework-catalog) for a full catalog of frameworks that AIR supports out of the box.\n",
    "\n",
    "We hope this tutorial gave you a good starting point to leverage Ray AIR. If you have any questions, suggestions, or run into any problems pelase reach out on [Discuss](https://discuss.ray.io/), [GitHub](https://github.com/ray-project/ray) or the [Ray Slack](https://forms.gle/9TSdDYUgxYs8SA9e8)!"
   ]
  }
 ],
 "metadata": {
  "kernelspec": {
   "display_name": "Python 3 (ipykernel)",
   "language": "python",
   "name": "python3"
  },
  "language_info": {
   "codemirror_mode": {
    "name": "ipython",
    "version": 3
   },
   "file_extension": ".py",
   "mimetype": "text/x-python",
   "name": "python",
   "nbconvert_exporter": "python",
   "pygments_lexer": "ipython3",
   "version": "3.8.13"
  },
  "vscode": {
   "interpreter": {
    "hash": "31f2aee4e71d21fbe5cf8b01ff0e069b9275f58929596ceb00d14d90e3e16cd6"
   }
  }
 },
 "nbformat": 4,
 "nbformat_minor": 5
}
