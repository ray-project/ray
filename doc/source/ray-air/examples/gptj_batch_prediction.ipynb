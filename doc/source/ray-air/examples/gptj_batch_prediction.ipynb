{
 "cells": [
  {
   "cell_type": "markdown",
   "metadata": {},
   "source": [
    "# GPT-J6B Batch Prediction with Ray Data"
   ]
  },
  {
   "cell_type": "code",
   "execution_count": 1,
   "metadata": {},
   "outputs": [],
   "source": [
    "prompt = (\n",
    "    \"In a shocking finding, scientists discovered a herd of unicorns living in a remote, \"\n",
    "    \"previously unexplored valley, in the Andes Mountains. Even more surprising to the \"\n",
    "    \"researchers was the fact that the unicorns spoke perfect English.\"\n",
    ")\n",
    "model_id = \"EleutherAI/gpt-j-6B\"\n",
    "revision = \"float16\""
   ]
  },
  {
   "cell_type": "code",
   "execution_count": 2,
   "metadata": {},
   "outputs": [
    {
     "name": "stderr",
     "output_type": "stream",
     "text": [
      "2023-02-27 13:23:22.394733: I tensorflow/core/util/util.cc:169] oneDNN custom operations are on. You may see slightly different numerical results due to floating-point round-off errors from different computation orders. To turn them off, set the environment variable `TF_ENABLE_ONEDNN_OPTS=0`.\n"
     ]
    }
   ],
   "source": [
    "import ray"
   ]
  },
  {
   "cell_type": "code",
   "execution_count": null,
   "metadata": {},
   "outputs": [],
   "source": [
    "ray.init(\n",
    "    runtime_env={\n",
    "        \"pip\": [\n",
    "            \"accelerate>=0.16.0\",\n",
    "            \"transformers>=4.26.0\",\n",
    "        ]\n",
    "    }\n",
    ")"
   ]
  },
  {
   "cell_type": "code",
   "execution_count": 3,
   "metadata": {},
   "outputs": [
    {
     "name": "stderr",
     "output_type": "stream",
     "text": [
      "2023-02-27 13:23:27,459\tINFO worker.py:1364 -- Connecting to existing Ray cluster at address: 10.0.60.136:6379...\n",
      "2023-02-27 13:23:27,468\tINFO worker.py:1544 -- Connected to Ray cluster. View the dashboard at \u001b[1m\u001b[32mhttps://console.anyscale-staging.com/api/v2/sessions/ses_84eyfpdey2169juxz5uk8f9k2d/services?redirect_to=dashboard \u001b[39m\u001b[22m\n",
      "2023-02-27 13:23:27,493\tINFO packaging.py:330 -- Pushing file package 'gcs://_ray_pkg_169586d667d471140904b2eeaf9f5b5d.zip' (7.88MiB) to Ray cluster...\n",
      "2023-02-27 13:23:27,591\tINFO packaging.py:343 -- Successfully pushed file package 'gcs://_ray_pkg_169586d667d471140904b2eeaf9f5b5d.zip'.\n"
     ]
    }
   ],
   "source": [
    "import ray.data\n",
    "import pandas as pd\n",
    "\n",
    "ds = ray.data.from_pandas(pd.DataFrame([prompt]*10, columns=[\"prompt\"]))"
   ]
  },
  {
   "cell_type": "markdown",
   "metadata": {},
   "source": [
    "We specify an Actor to be used in `map_batches`, so that we only need to initialize the model once, instead of having to do so on each function call."
   ]
  },
  {
   "cell_type": "code",
   "execution_count": 4,
   "metadata": {},
   "outputs": [],
   "source": [
    "class PredictActor:\n",
    "    def __init__(self, model_id: str, revision: str = None):\n",
    "        from transformers import AutoModelForCausalLM, AutoTokenizer\n",
    "        import torch\n",
    "\n",
    "        self.model = AutoModelForCausalLM.from_pretrained(model_id, revision=revision, torch_dtype=torch.float16, low_cpu_mem_usage=True, device_map=\"auto\")\n",
    "        self.tokenizer = AutoTokenizer.from_pretrained(model_id)\n",
    "        assert str(self.model.device.type) == \"cuda\"\n",
    "\n",
    "    def __call__(self, batch: pd.DataFrame) -> pd.DataFrame:\n",
    "        input_ids = self.tokenizer(list(batch[\"prompt\"]), return_tensors=\"pt\").input_ids.to(self.model.device)\n",
    "\n",
    "        gen_tokens = self.model.generate(\n",
    "            input_ids,\n",
    "            do_sample=True,\n",
    "            temperature=0.9,\n",
    "            max_length=100,\n",
    "        )\n",
    "        return pd.DataFrame(self.tokenizer.batch_decode(gen_tokens), columns=[\"responses\"])"
   ]
  },
  {
   "cell_type": "code",
   "execution_count": 6,
   "metadata": {},
   "outputs": [
    {
     "name": "stderr",
     "output_type": "stream",
     "text": [
      "2023-02-27 13:36:47,694\tINFO bulk_executor.py:39 -- Executing DAG InputDataBuffer[Input] -> ActorPoolMapOperator[MapBatches(PredictActor)]\n",
      "MapBatches(PredictActor):   0%|          | 0/1 [00:00<?, ?it/s](_MapWorker pid=13474) 2023-02-27 13:36:49.646242: I tensorflow/core/util/util.cc:169] oneDNN custom operations are on. You may see slightly different numerical results due to floating-point round-off errors from different computation orders. To turn them off, set the environment variable `TF_ENABLE_ONEDNN_OPTS=0`.\n",
      "(_MapWorker pid=13474) /home/ray/anaconda3/lib/python3.8/site-packages/xgboost/compat.py:31: FutureWarning: pandas.Int64Index is deprecated and will be removed from pandas in a future version. Use pandas.Index with the appropriate dtype instead.\n",
      "(_MapWorker pid=13474)   from pandas import MultiIndex, Int64Index\n",
      "(_MapWorker pid=13474) The attention mask and the pad token id were not set. As a consequence, you may observe unexpected behavior. Please pass your input's `attention_mask` to obtain reliable results.\n",
      "(_MapWorker pid=13474) Setting `pad_token_id` to `eos_token_id`:50256 for open-end generation.\n",
      "(_MapWorker pid=13474) The attention mask and the pad token id were not set. As a consequence, you may observe unexpected behavior. Please pass your input's `attention_mask` to obtain reliable results.\n",
      "(_MapWorker pid=13474) Setting `pad_token_id` to `eos_token_id`:50256 for open-end generation.\n",
      "(_MapWorker pid=13474) The attention mask and the pad token id were not set. As a consequence, you may observe unexpected behavior. Please pass your input's `attention_mask` to obtain reliable results.\n",
      "(_MapWorker pid=13474) Setting `pad_token_id` to `eos_token_id`:50256 for open-end generation.\n",
      "MapBatches(PredictActor), 0 actors: 100%|██████████| 1/1 [00:44<00:00, 44.58s/it]\n"
     ]
    },
    {
     "data": {
      "text/plain": [
       "[{'responses': 'In a shocking finding, scientists discovered a herd of unicorns living in a remote, previously unexplored valley, in the Andes Mountains. Even more surprising to the researchers was the fact that the unicorns spoke perfect English. Dr. Richard Taylor, head of the unicorn research team, said “We have never seen a herd so large in our whole career. There has never been a previously unknown population of this large.”\\n\\nThe herd, which can be found on the mountains'},\n",
       " {'responses': 'In a shocking finding, scientists discovered a herd of unicorns living in a remote, previously unexplored valley, in the Andes Mountains. Even more surprising to the researchers was the fact that the unicorns spoke perfect English.\\n\\nResearchers from the Wildlife Conservation Society (WCS) have discovered a herd of giant, horned, hoofed livestock in a remote Andean valley, a unicorn herd thought to be extinct for centuries.\\n\\nIn a paper published today in the journal Scientific Reports'},\n",
       " {'responses': 'In a shocking finding, scientists discovered a herd of unicorns living in a remote, previously unexplored valley, in the Andes Mountains. Even more surprising to the researchers was the fact that the unicorns spoke perfect English.\\n\\nBut the unicorns’ English was no use to the scientists, nor did their appearance, or any other facet of their existence help them identify the new species. They have named the species Homo sapiens unicorns-capensis, or man like a unicorn,'},\n",
       " {'responses': 'In a shocking finding, scientists discovered a herd of unicorns living in a remote, previously unexplored valley, in the Andes Mountains. Even more surprising to the researchers was the fact that the unicorns spoke perfect English.\\n\\n“We were all completely taken aback,” said one of the scientists. “It was like seeing a unicorn in Kansas. I mean, unicorns don’t live in Kansas. It’s not possible.”\\n\\nThe'},\n",
       " {'responses': 'In a shocking finding, scientists discovered a herd of unicorns living in a remote, previously unexplored valley, in the Andes Mountains. Even more surprising to the researchers was the fact that the unicorns spoke perfect English.\\n\\nThe new research was published in a peer-reviewed scientific journal PLoS ONE.\\n\\n“Most people may be surprised by unicorns, but those that study them have known for some time that there are unicorns. We have even studied them. What we haven'},\n",
       " {'responses': 'In a shocking finding, scientists discovered a herd of unicorns living in a remote, previously unexplored valley, in the Andes Mountains. Even more surprising to the researchers was the fact that the unicorns spoke perfect English.\\n\\nThe findings, which were published in the journal Acta Oecologica, describe the herd of the rare “Andean mountain unicorn”, a subspecies of the species Equus caballus. The researchers studied the behavior and genetic profile of 24'},\n",
       " {'responses': 'In a shocking finding, scientists discovered a herd of unicorns living in a remote, previously unexplored valley, in the Andes Mountains. Even more surprising to the researchers was the fact that the unicorns spoke perfect English.\\n\\nThese discoveries were made by a team of scientists who had been looking for an elusive group of large mammals called ‘giant ground sloths’. They were in the Amazon rainforest in Peru, and had been hunting for this rare group when they discovered the'},\n",
       " {'responses': \"In a shocking finding, scientists discovered a herd of unicorns living in a remote, previously unexplored valley, in the Andes Mountains. Even more surprising to the researchers was the fact that the unicorns spoke perfect English.\\n\\nAccording to a report published in BioScience, the scientists found the herd of animals in the area, in Ecuador's Ecuadorian region of the Yasuni National Park. And they had no idea that the herd existed.\\n\\nThe herd of 11 female unicorns,\"},\n",
       " {'responses': 'In a shocking finding, scientists discovered a herd of unicorns living in a remote, previously unexplored valley, in the Andes Mountains. Even more surprising to the researchers was the fact that the unicorns spoke perfect English.\\n\\nThe news has shocked the public and researchers alike, but experts agree that we shouldn’t fear for the unicorns’ safety. However, they do fear the government may soon start rounding them up and sending them to the slaughterhouse for a $10-'},\n",
       " {'responses': 'In a shocking finding, scientists discovered a herd of unicorns living in a remote, previously unexplored valley, in the Andes Mountains. Even more surprising to the researchers was the fact that the unicorns spoke perfect English.\\n\\nAccording to a report on The Telegraph - the unicorns were found in the Valle de la Luna, a valley in the Peruvian Andes, nestled in a remote, previously unexplored region that was almost completely uninhabited. To the surprise of the'}]"
      ]
     },
     "execution_count": 6,
     "metadata": {},
     "output_type": "execute_result"
    }
   ],
   "source": [
    "ret = ds.map_batches(\n",
    "    PredictActor,\n",
    "    batch_size=4,\n",
    "    fn_constructor_kwargs=dict(model_id=model_id, revision=revision),\n",
    "    compute=\"actors\",\n",
    "    num_gpus=1\n",
    ")\n",
    "ret.take_all()"
   ]
  },
  {
   "cell_type": "code",
   "execution_count": null,
   "metadata": {},
   "outputs": [],
   "source": []
  }
 ],
 "metadata": {
  "kernelspec": {
   "display_name": "venv",
   "language": "python",
   "name": "python3"
  },
  "language_info": {
   "name": "python",
   "version": "3.8.10 (default, Nov 14 2022, 12:59:47) \n[GCC 9.4.0]"
  },
  "orig_nbformat": 4,
  "vscode": {
   "interpreter": {
    "hash": "3c0d54d489a08ae47a06eae2fd00ff032d6cddb527c382959b7b2575f6a8167f"
   }
  }
 },
 "nbformat": 4,
 "nbformat_minor": 2
}
