{
 "cells": [
  {
   "cell_type": "markdown",
   "metadata": {},
   "source": [
    "(dolly_lightning_fsdp_finetuning)=\n",
    "\n",
    "# Fine-tune `dolly-v2-7b` with Ray Train, PyTorch Lightning and FSDP"
   ]
  },
  {
   "cell_type": "markdown",
   "metadata": {},
   "source": [
    "In this example, we demonstrate how to use Ray Train to fine-tune a [`dolly-v2-7b`](https://huggingface.co/databricks/dolly-v2-7b) model. `dolly-v2-12b` is a 12 billion parameter causal language model created by Databricks, derived from EleutherAI’s [Pythia-12b](https://huggingface.co/EleutherAI/pythia-12b), and fine-tuned on a [~15K record instruction corpus](https://github.com/databrickslabs/dolly/tree/master/data).\n",
    "\n",
    "We load the pre-trained model from the HuggingFace model hub into a LightningModule and launch an FSDP fine-tuning job across 16 T4 GPUs with the help of {class}`Ray TorchTrainer <ray.train.torch.TorchTrainer>`. It is also straightforward to fine-tune other similar large language models in a similar manner as shown in this example.\n",
    "\n",
    "Before starting this example, we highly recommend reading [Ray Train Key Concepts](train-key-concepts) and [Ray Data Key Concepts](data_key_concepts)."
   ]
  },
  {
   "cell_type": "markdown",
   "metadata": {},
   "source": [
    "## Set up ray cluster \n",
    "In this example, we are using a ray cluster with 16 g4dn.4xlarge instances. Each instance has one Tesla T4 GPU (16GiB Memory). \n",
    "\n",
    "We define a `runtime_env` to install the necessary Python libraries on each node. You can skip this step if you have already installed all the required packages in your workers' base image. We tested this example with `pytorch_lightning==2.0.2` and `transformers==4.29.2`."
   ]
  },
  {
   "cell_type": "code",
   "execution_count": 1,
   "metadata": {
    "tags": []
   },
   "outputs": [
    {
     "name": "stderr",
     "output_type": "stream",
     "text": [
      "2023-08-30 10:19:23,505\tINFO util.py:159 -- Outdated packages:\n",
      "  ipywidgets==7.8.0 found, needs ipywidgets>=8\n",
      "Run `pip install -U ipywidgets`, then restart the notebook server for rich notebook output.\n",
      "2023-08-30 10:19:23,569\tINFO worker.py:1459 -- Connecting to existing Ray cluster at address: 10.0.23.226:6379...\n",
      "2023-08-30 10:19:23,618\tINFO worker.py:1640 -- Connected to Ray cluster. View the dashboard at \u001b[1m\u001b[32mhttps://session-29cev7pafynccfbmnzvd6giqpe.i.anyscaleuserdata-staging.com \u001b[39m\u001b[22m\n",
      "2023-08-30 10:19:23,621\tINFO packaging.py:346 -- Pushing file package 'gcs://_ray_pkg_eb5ee6ea6668e2003d3815d2e85033e7.zip' (0.51MiB) to Ray cluster...\n",
      "2023-08-30 10:19:23,624\tINFO packaging.py:359 -- Successfully pushed file package 'gcs://_ray_pkg_eb5ee6ea6668e2003d3815d2e85033e7.zip'.\n"
     ]
    },
    {
     "data": {
      "text/html": [
       "<div class=\"lm-Widget p-Widget lm-Panel p-Panel jp-Cell-outputWrapper\">\n",
       "    <div style=\"margin-left: 50px;display: flex;flex-direction: row;align-items: center\">\n",
       "        <div class=\"jp-RenderedHTMLCommon\" style=\"display: flex; flex-direction: row;\">\n",
       "  <svg viewBox=\"0 0 567 224\" fill=\"none\" xmlns=\"http://www.w3.org/2000/svg\" style=\"height: 3em;\">\n",
       "    <g clip-path=\"url(#clip0_4338_178347)\">\n",
       "        <path d=\"M341.29 165.561H355.29L330.13 129.051C345.63 123.991 354.21 112.051 354.21 94.2307C354.21 71.3707 338.72 58.1807 311.88 58.1807H271V165.561H283.27V131.661H311.8C314.25 131.661 316.71 131.501 319.01 131.351L341.25 165.561H341.29ZM283.29 119.851V70.0007H311.82C331.3 70.0007 342.34 78.2907 342.34 94.5507C342.34 111.271 331.34 119.861 311.82 119.861L283.29 119.851ZM451.4 138.411L463.4 165.561H476.74L428.74 58.1807H416L367.83 165.561H380.83L392.83 138.411H451.4ZM446.19 126.601H398L422 72.1407L446.24 126.601H446.19ZM526.11 128.741L566.91 58.1807H554.35L519.99 114.181L485.17 58.1807H472.44L514.01 129.181V165.541H526.13V128.741H526.11Z\" fill=\"var(--jp-ui-font-color0)\"/>\n",
       "        <path d=\"M82.35 104.44C84.0187 97.8827 87.8248 92.0678 93.1671 87.9146C98.5094 83.7614 105.083 81.5067 111.85 81.5067C118.617 81.5067 125.191 83.7614 130.533 87.9146C135.875 92.0678 139.681 97.8827 141.35 104.44H163.75C164.476 101.562 165.622 98.8057 167.15 96.2605L127.45 56.5605C121.071 60.3522 113.526 61.6823 106.235 60.3005C98.9443 58.9187 92.4094 54.9203 87.8602 49.0574C83.3109 43.1946 81.0609 35.8714 81.5332 28.4656C82.0056 21.0599 85.1679 14.0819 90.4252 8.8446C95.6824 3.60726 102.672 0.471508 110.08 0.0272655C117.487 -0.416977 124.802 1.86091 130.647 6.4324C136.493 11.0039 140.467 17.5539 141.821 24.8501C143.175 32.1463 141.816 39.6859 138 46.0505L177.69 85.7505C182.31 82.9877 187.58 81.4995 192.962 81.4375C198.345 81.3755 203.648 82.742 208.33 85.3976C213.012 88.0532 216.907 91.9029 219.616 96.5544C222.326 101.206 223.753 106.492 223.753 111.875C223.753 117.258 222.326 122.545 219.616 127.197C216.907 131.848 213.012 135.698 208.33 138.353C203.648 141.009 198.345 142.375 192.962 142.313C187.58 142.251 182.31 140.763 177.69 138L138 177.7C141.808 184.071 143.155 191.614 141.79 198.91C140.424 206.205 136.44 212.75 130.585 217.313C124.731 221.875 117.412 224.141 110.004 223.683C102.596 223.226 95.6103 220.077 90.3621 214.828C85.1139 209.58 81.9647 202.595 81.5072 195.187C81.0497 187.779 83.3154 180.459 87.878 174.605C92.4405 168.751 98.9853 164.766 106.281 163.401C113.576 162.035 121.119 163.383 127.49 167.19L167.19 127.49C165.664 124.941 164.518 122.182 163.79 119.3H141.39C139.721 125.858 135.915 131.673 130.573 135.826C125.231 139.98 118.657 142.234 111.89 142.234C105.123 142.234 98.5494 139.98 93.2071 135.826C87.8648 131.673 84.0587 125.858 82.39 119.3H60C58.1878 126.495 53.8086 132.78 47.6863 136.971C41.5641 141.163 34.1211 142.972 26.7579 142.059C19.3947 141.146 12.6191 137.574 7.70605 132.014C2.79302 126.454 0.0813599 119.29 0.0813599 111.87C0.0813599 104.451 2.79302 97.2871 7.70605 91.7272C12.6191 86.1673 19.3947 82.5947 26.7579 81.6817C34.1211 80.7686 41.5641 82.5781 47.6863 86.7696C53.8086 90.9611 58.1878 97.2456 60 104.44H82.35ZM100.86 204.32C103.407 206.868 106.759 208.453 110.345 208.806C113.93 209.159 117.527 208.258 120.522 206.256C123.517 204.254 125.725 201.276 126.771 197.828C127.816 194.38 127.633 190.677 126.253 187.349C124.874 184.021 122.383 181.274 119.205 179.577C116.027 177.88 112.359 177.337 108.826 178.042C105.293 178.746 102.113 180.654 99.8291 183.44C97.5451 186.226 96.2979 189.718 96.3 193.32C96.2985 195.364 96.7006 197.388 97.4831 199.275C98.2656 201.163 99.4132 202.877 100.86 204.32ZM204.32 122.88C206.868 120.333 208.453 116.981 208.806 113.396C209.159 109.811 208.258 106.214 206.256 103.219C204.254 100.223 201.275 98.0151 197.827 96.97C194.38 95.9249 190.676 96.1077 187.348 97.4873C184.02 98.8669 181.274 101.358 179.577 104.536C177.879 107.714 177.337 111.382 178.041 114.915C178.746 118.448 180.653 121.627 183.439 123.911C186.226 126.195 189.717 127.443 193.32 127.44C195.364 127.443 197.388 127.042 199.275 126.259C201.163 125.476 202.878 124.328 204.32 122.88ZM122.88 19.4205C120.333 16.8729 116.981 15.2876 113.395 14.9347C109.81 14.5817 106.213 15.483 103.218 17.4849C100.223 19.4868 98.0146 22.4654 96.9696 25.9131C95.9245 29.3608 96.1073 33.0642 97.4869 36.3922C98.8665 39.7202 101.358 42.4668 104.535 44.1639C107.713 45.861 111.381 46.4036 114.914 45.6992C118.447 44.9949 121.627 43.0871 123.911 40.301C126.195 37.515 127.442 34.0231 127.44 30.4205C127.44 28.3772 127.038 26.3539 126.255 24.4664C125.473 22.5788 124.326 20.8642 122.88 19.4205ZM19.42 100.86C16.8725 103.408 15.2872 106.76 14.9342 110.345C14.5813 113.93 15.4826 117.527 17.4844 120.522C19.4863 123.518 22.4649 125.726 25.9127 126.771C29.3604 127.816 33.0638 127.633 36.3918 126.254C39.7198 124.874 42.4664 122.383 44.1635 119.205C45.8606 116.027 46.4032 112.359 45.6988 108.826C44.9944 105.293 43.0866 102.114 40.3006 99.8296C37.5145 97.5455 34.0227 96.2983 30.42 96.3005C26.2938 96.3018 22.337 97.9421 19.42 100.86ZM100.86 100.86C98.3125 103.408 96.7272 106.76 96.3742 110.345C96.0213 113.93 96.9226 117.527 98.9244 120.522C100.926 123.518 103.905 125.726 107.353 126.771C110.8 127.816 114.504 127.633 117.832 126.254C121.16 124.874 123.906 122.383 125.604 119.205C127.301 116.027 127.843 112.359 127.139 108.826C126.434 105.293 124.527 102.114 121.741 99.8296C118.955 97.5455 115.463 96.2983 111.86 96.3005C109.817 96.299 107.793 96.701 105.905 97.4835C104.018 98.2661 102.303 99.4136 100.86 100.86Z\" fill=\"#00AEEF\"/>\n",
       "    </g>\n",
       "    <defs>\n",
       "        <clipPath id=\"clip0_4338_178347\">\n",
       "            <rect width=\"566.93\" height=\"223.75\" fill=\"white\"/>\n",
       "        </clipPath>\n",
       "    </defs>\n",
       "  </svg>\n",
       "</div>\n",
       "\n",
       "        <table class=\"jp-RenderedHTMLCommon\" style=\"border-collapse: collapse;color: var(--jp-ui-font-color1);font-size: var(--jp-ui-font-size1);\">\n",
       "    <tr>\n",
       "        <td style=\"text-align: left\"><b>Python version:</b></td>\n",
       "        <td style=\"text-align: left\"><b>3.8.13</b></td>\n",
       "    </tr>\n",
       "    <tr>\n",
       "        <td style=\"text-align: left\"><b>Ray version:</b></td>\n",
       "        <td style=\"text-align: left\"><b>3.0.0.dev0</b></td>\n",
       "    </tr>\n",
       "    <tr>\n",
       "    <td style=\"text-align: left\"><b>Dashboard:</b></td>\n",
       "    <td style=\"text-align: left\"><b><a href=\"http://session-29cev7pafynccfbmnzvd6giqpe.i.anyscaleuserdata-staging.com\" target=\"_blank\">http://session-29cev7pafynccfbmnzvd6giqpe.i.anyscaleuserdata-staging.com</a></b></td>\n",
       "</tr>\n",
       "\n",
       "</table>\n",
       "\n",
       "    </div>\n",
       "</div>\n"
      ],
      "text/plain": [
       "RayContext(dashboard_url='session-29cev7pafynccfbmnzvd6giqpe.i.anyscaleuserdata-staging.com', python_version='3.8.13', ray_version='3.0.0.dev0', ray_commit='47c84c6dc4a1ac4f3a79834593c10117f1c4bec4', protocol_version=None)"
      ]
     },
     "execution_count": 1,
     "metadata": {},
     "output_type": "execute_result"
    }
   ],
   "source": [
    "import ray\n",
    "\n",
    "ray.init(\n",
    "    runtime_env={\n",
    "        \"pip\": [\n",
    "            \"datasets\",\n",
    "            \"evaluate\",\n",
    "            \"transformers>=4.26.0\",\n",
    "            \"torch>=1.12.0\",\n",
    "            \"pytorch_lightning>=2.0\",\n",
    "        ]\n",
    "    }\n",
    ")"
   ]
  },
  {
   "cell_type": "code",
   "execution_count": 2,
   "metadata": {
    "tags": []
   },
   "outputs": [],
   "source": [
    "MODEL_NAME = \"databricks/dolly-v2-7b\""
   ]
  },
  {
   "cell_type": "markdown",
   "metadata": {},
   "source": [
    "## Prepare your data \n",
    "We are using tiny_shakespeare for fine-tuning, which contains 40,000 lines of Shakespeare from a variety of Shakespeare's plays. Featured in Andrej Karpathy's blog post ['The Unreasonable Effectiveness of Recurrent Neural Networks'](http://karpathy.github.io/2015/05/21/rnn-effectiveness/). \n",
    "\n",
    "Dataset samples:\n",
    "```\n",
    "BAPTISTA:\n",
    "I know him well: you are welcome for his sake.\n",
    "\n",
    "GREMIO:\n",
    "Saving your tale, Petruchio, I pray,\n",
    "Let us, that are poor petitioners, speak too:\n",
    "Baccare! you are marvellous forward.\n",
    "\n",
    "PETRUCHIO:\n",
    "O, pardon me, Signior Gremio; I would fain be doing.\n",
    "```\n",
    "\n",
    "Here, we have adopted similar pre-processing logic from another demo: {ref}`GPT-J-6B Fine-Tuning with Ray Train and DeepSpeed <gptj_deepspeed_finetune>`."
   ]
  },
  {
   "cell_type": "code",
   "execution_count": 3,
   "metadata": {
    "tags": []
   },
   "outputs": [
    {
     "data": {
      "application/vnd.jupyter.widget-view+json": {
       "model_id": "6041a4dd56a74f1ba3637f066f904c46",
       "version_major": 2,
       "version_minor": 0
      },
      "text/plain": [
       "Downloading builder script:   0%|          | 0.00/3.73k [00:00<?, ?B/s]"
      ]
     },
     "metadata": {},
     "output_type": "display_data"
    },
    {
     "data": {
      "application/vnd.jupyter.widget-view+json": {
       "model_id": "9062c2e59a52439ca64b0418513871a0",
       "version_major": 2,
       "version_minor": 0
      },
      "text/plain": [
       "Downloading metadata:   0%|          | 0.00/1.90k [00:00<?, ?B/s]"
      ]
     },
     "metadata": {},
     "output_type": "display_data"
    },
    {
     "data": {
      "application/vnd.jupyter.widget-view+json": {
       "model_id": "c6ea259c746448b6aec7390b749df037",
       "version_major": 2,
       "version_minor": 0
      },
      "text/plain": [
       "Downloading readme:   0%|          | 0.00/6.10k [00:00<?, ?B/s]"
      ]
     },
     "metadata": {},
     "output_type": "display_data"
    },
    {
     "data": {
      "application/vnd.jupyter.widget-view+json": {
       "model_id": "405b91003eee4ca0ae3e0d7b098f3fd7",
       "version_major": 2,
       "version_minor": 0
      },
      "text/plain": [
       "Downloading data:   0%|          | 0.00/435k [00:00<?, ?B/s]"
      ]
     },
     "metadata": {},
     "output_type": "display_data"
    },
    {
     "data": {
      "application/vnd.jupyter.widget-view+json": {
       "model_id": "db592103777c42968cacb2df5372bec3",
       "version_major": 2,
       "version_minor": 0
      },
      "text/plain": [
       "Generating train split:   0%|          | 0/1 [00:00<?, ? examples/s]"
      ]
     },
     "metadata": {},
     "output_type": "display_data"
    },
    {
     "data": {
      "application/vnd.jupyter.widget-view+json": {
       "model_id": "5aefac447023415d8579743a6596fccf",
       "version_major": 2,
       "version_minor": 0
      },
      "text/plain": [
       "Generating validation split:   0%|          | 0/1 [00:00<?, ? examples/s]"
      ]
     },
     "metadata": {},
     "output_type": "display_data"
    },
    {
     "data": {
      "application/vnd.jupyter.widget-view+json": {
       "model_id": "3347649b3fca4d2696dacb2276684da8",
       "version_major": 2,
       "version_minor": 0
      },
      "text/plain": [
       "Generating test split:   0%|          | 0/1 [00:00<?, ? examples/s]"
      ]
     },
     "metadata": {},
     "output_type": "display_data"
    },
    {
     "name": "stderr",
     "output_type": "stream",
     "text": [
      "2023-08-30 10:19:26,896\tINFO util.py:159 -- Outdated packages:\n",
      "  ipywidgets==7.8.0 found, needs ipywidgets>=8\n",
      "Run `pip install -U ipywidgets`, then restart the notebook server for rich notebook output.\n"
     ]
    }
   ],
   "source": [
    "import ray\n",
    "import pandas as pd\n",
    "from datasets import load_dataset\n",
    "from transformers import AutoTokenizer, AutoModelForCausalLM\n",
    "\n",
    "def split_text(batch: pd.DataFrame) -> pd.DataFrame:\n",
    "    text = list(batch[\"text\"])\n",
    "    flat_text = \"\".join(text)\n",
    "    split_text = [\n",
    "        x.strip()\n",
    "        for x in flat_text.split(\"\\n\")\n",
    "        if x.strip() and not x.strip()[-1] == \":\"\n",
    "    ]\n",
    "    return pd.DataFrame(split_text, columns=[\"text\"])\n",
    "\n",
    "\n",
    "def tokenize(batch: pd.DataFrame) -> dict:\n",
    "    tokenizer = AutoTokenizer.from_pretrained(MODEL_NAME, padding_side=\"left\")\n",
    "    tokenizer.pad_token = tokenizer.eos_token\n",
    "    ret = tokenizer(\n",
    "        list(batch[\"text\"]),\n",
    "        truncation=True,\n",
    "        max_length=256,\n",
    "        padding=\"max_length\",\n",
    "        return_tensors=\"np\",\n",
    "    )\n",
    "    ret[\"labels\"] = ret[\"input_ids\"].copy()\n",
    "    return dict(ret)\n",
    "\n",
    "hf_dataset = load_dataset(\"tiny_shakespeare\")\n",
    "train_ds = ray.data.from_huggingface(hf_dataset[\"train\"])"
   ]
  },
  {
   "cell_type": "markdown",
   "metadata": {},
   "source": [
    "We first split the original paragraphs into multiple sentences, then tokenize them. Here are some samples:"
   ]
  },
  {
   "cell_type": "code",
   "execution_count": 4,
   "metadata": {
    "tags": []
   },
   "outputs": [
    {
     "name": "stderr",
     "output_type": "stream",
     "text": [
      "2023-08-30 10:19:30,862\tINFO dataset.py:2380 -- Tip: Use `take_batch()` instead of `take() / show()` to return records in pandas or numpy batch format.\n",
      "2023-08-30 10:19:30,865\tINFO streaming_executor.py:93 -- Executing DAG InputDataBuffer[Input] -> TaskPoolMapOperator[MapBatches(split_text)] -> LimitOperator[limit=10]\n",
      "2023-08-30 10:19:30,866\tINFO streaming_executor.py:94 -- Execution config: ExecutionOptions(resource_limits=ExecutionResources(cpu=None, gpu=None, object_store_memory=None), locality_with_output=False, preserve_order=False, actor_locality_enabled=True, verbose_progress=False)\n",
      "2023-08-30 10:19:30,867\tINFO streaming_executor.py:96 -- Tip: For detailed progress reporting, run `ray.data.DataContext.get_current().execution_options.verbose_progress = True`\n"
     ]
    },
    {
     "data": {
      "application/vnd.jupyter.widget-view+json": {
       "model_id": "67409d371c8443f397d47451443b88bd",
       "version_major": 2,
       "version_minor": 0
      },
      "text/plain": [
       "Running 0:   0%|          | 0/1 [00:00<?, ?it/s]"
      ]
     },
     "metadata": {},
     "output_type": "display_data"
    },
    {
     "data": {
      "text/plain": [
       "[{'text': 'Before we proceed any further, hear me speak.'},\n",
       " {'text': 'Speak, speak.'},\n",
       " {'text': 'You are all resolved rather to die than to famish?'},\n",
       " {'text': 'Resolved. resolved.'},\n",
       " {'text': 'First, you know Caius Marcius is chief enemy to the people.'},\n",
       " {'text': \"We know't, we know't.\"},\n",
       " {'text': \"Let us kill him, and we'll have corn at our own price.\"},\n",
       " {'text': \"Is't a verdict?\"},\n",
       " {'text': \"No more talking on't; let it be done: away, away!\"},\n",
       " {'text': 'One word, good citizens.'}]"
      ]
     },
     "execution_count": 4,
     "metadata": {},
     "output_type": "execute_result"
    }
   ],
   "source": [
    "# First split the dataset into multiple sentences.\n",
    "train_ds = train_ds.map_batches(split_text, batch_format=\"pandas\")\n",
    "train_ds.take(10)"
   ]
  },
  {
   "cell_type": "code",
   "execution_count": 5,
   "metadata": {},
   "outputs": [],
   "source": [
    "# Then tokenize the dataset.\n",
    "train_ds = train_ds.map_batches(tokenize, batch_format=\"pandas\")"
   ]
  },
  {
   "cell_type": "markdown",
   "metadata": {},
   "source": [
    "## Define your lightning model\n",
    "\n",
    "In this example, we use the [dolly-v2-7b](https://huggingface.co/databricks/dolly-v2-7b) model for finetuning. It is an instruction-following large language model trained on the Databricks machine learning platform that is licensed for commercial use. We load the model weights from Huggingface Model Hub and encapsulate it into a `pl.LightningModule`.\n",
    "\n",
    ":::{note}\n",
    "Make sure you pass the FSDP wrapped model parameters `self.trainer.model.parameters()` into the optimizer, instead of `self.model.parameters()`. \n",
    ":::\n"
   ]
  },
  {
   "cell_type": "code",
   "execution_count": 6,
   "metadata": {
    "tags": []
   },
   "outputs": [
    {
     "name": "stdout",
     "output_type": "stream",
     "text": [
      "\u001b[2m\u001b[1m\u001b[36m(autoscaler +12s)\u001b[0m Tip: use `ray status` to view detailed cluster status. To disable these messages, set RAY_SCHEDULER_EVENTS=0.\n",
      "\u001b[2m\u001b[1m\u001b[36m(autoscaler +12s)\u001b[0m [activity] Cluster is active (source: ray).\n"
     ]
    }
   ],
   "source": [
    "import torch\n",
    "import pytorch_lightning as pl\n",
    "\n",
    "class DollyV2Model(pl.LightningModule):\n",
    "    def __init__(self, lr=2e-5, eps=1e-8):\n",
    "        super().__init__()\n",
    "        self.save_hyperparameters()\n",
    "        self.lr = lr\n",
    "        self.eps = eps\n",
    "        self.model = AutoModelForCausalLM.from_pretrained(MODEL_NAME)\n",
    "\n",
    "    def forward(self, batch):\n",
    "        outputs = self.model(\n",
    "            batch[\"input_ids\"], \n",
    "            attention_mask=batch[\"attention_mask\"], \n",
    "            labels=batch[\"labels\"]\n",
    "        )\n",
    "        return outputs.loss\n",
    "\n",
    "    def training_step(self, batch, batch_idx):\n",
    "        loss = self.forward(batch)\n",
    "        self.log(\"train_loss\", loss, prog_bar=True, on_step=True)\n",
    "        return loss\n",
    "\n",
    "    def configure_optimizers(self):\n",
    "        if self.global_rank == 0:\n",
    "            print(self.trainer.model)\n",
    "        return torch.optim.AdamW(self.trainer.model.parameters(), lr=self.lr, eps=self.eps)"
   ]
  },
  {
   "cell_type": "markdown",
   "metadata": {},
   "source": [
    "## Configure your FSDP strategy\n",
    "As `dolly-v2-7b` is a relatively large model, it cannot be properly fit into a single commercial GPU. In this example, we use the FSDP strategy to shard model parameters across multiple workers. This allows us to avoid GPU out-of-memory issues and support a larger global batch size.\n",
    "\n",
    "![](https://user-images.githubusercontent.com/26745457/236892936-d4b91751-4689-421e-ac5f-edfd2eeeb635.png)\n",
    "Image source: [Fully Sharded Data Parallel: faster AI training with fewer GPUs](https://engineering.fb.com/2021/07/15/open-source/fsdp/)\n",
    "\n",
    ":::{note}\n",
    "FSDP is a type of data parallelism that shards model parameters, optimizer states and gradients across DDP ranks. This was inspired by Xu et al. as well as the ZeRO Stage 3 from DeepSpeed. You may refer to these blogs for more information:\n",
    "\n",
    "- [Fully Sharded Data Parallel: faster AI training with fewer GPUs](https://engineering.fb.com/2021/07/15/open-source/fsdp/)\n",
    "- [Getting Started with Fully Sharded Data Parallel(FSDP)](https://pytorch.org/tutorials/intermediate/FSDP_tutorial.html#:~:text=FSDP%20is%20a%20type%20of,sizes%20for%20our%20training%20job.)\n",
    "- [PyTorch FSDP Tutorial](https://www.youtube.com/watch?v=8_k76AHu__s&list=PL_lsbAsL_o2BT6aerEKgIoufVD_fodnuT)\n",
    ":::\n",
    "\n",
    "To start trainig with Lightning's [FSDPStrategy](https://lightning.ai/docs/pytorch/stable/api/lightning.pytorch.strategies.FSDPStrategy.html#lightning.pytorch.strategies.FSDPStrategy), you only need to create a {class}`~ray.train.lightning.RayFSDPStrategy` with the same initialization arguments. Behind the scenes, Ray TorchTrainer handles the cluster environment settings and job launching.\n"
   ]
  },
  {
   "cell_type": "code",
   "execution_count": 7,
   "metadata": {
    "tags": []
   },
   "outputs": [
    {
     "name": "stderr",
     "output_type": "stream",
     "text": [
      "2023-08-30 10:19:36,919\tINFO util.py:159 -- Outdated packages:\n",
      "  ipywidgets==7.8.0 found, needs ipywidgets>=8\n",
      "Run `pip install -U ipywidgets`, then restart the notebook server for rich notebook output.\n"
     ]
    }
   ],
   "source": [
    "import functools\n",
    "import pytorch_lightning as pl \n",
    "\n",
    "from torch.distributed.fsdp.wrap import transformer_auto_wrap_policy\n",
    "from torch.distributed.fsdp import ShardingStrategy, BackwardPrefetch\n",
    "from transformers.models.gpt_neox.modeling_gpt_neox import GPTNeoXLayer\n",
    "\n",
    "from ray.train.lightning import RayFSDPStrategy\n",
    "\n",
    "\n",
    "# Define the model sharding policy:\n",
    "# Wrap every GPTNeoXLayer as its own FSDP instance\n",
    "auto_wrap_policy = functools.partial(\n",
    "    transformer_auto_wrap_policy,\n",
    "    transformer_layer_cls = {GPTNeoXLayer}\n",
    ")\n",
    "\n",
    "fsdp_strategy = RayFSDPStrategy(\n",
    "    sharding_strategy=ShardingStrategy.FULL_SHARD,\n",
    "    backward_prefetch=BackwardPrefetch.BACKWARD_PRE,\n",
    "    forward_prefetch=True,\n",
    "    auto_wrap_policy=auto_wrap_policy,\n",
    "    limit_all_gathers=True,\n",
    "    activation_checkpointing=[GPTNeoXLayer],\n",
    ")"
   ]
  },
  {
   "cell_type": "markdown",
   "metadata": {},
   "source": [
    ":::{tip}\n",
    "\n",
    "Some tips for FSDP configutarion:\n",
    "- `sharding_strategy`:\n",
    "    - `ShardingStrategy.NO_SHARD`: Parameters, gradients, and optimizer states are not sharded. Similar to DDP.\n",
    "    - `ShardingStrategy.SHARD_GRAD_OP`: Gradients and optimizer states are sharded during computation, and additionally, parameters are sharded outside computation. Similar to ZeRO stage-2.\n",
    "    - `ShardingStrategy.FULL_SHARD`: Parameters, gradients, and optimizer states are sharded. It has minimal GRAM usage among the 3 options. Similar to ZeRO stage-3.\n",
    "- `auto_wrap_policy`:\n",
    "    - Model layers are often wrapped with FSDP in a layered fashion. This means that only the layers in a single FSDP instance are required to aggregate all parameters to a single device during forwarding or backward calculations.\n",
    "    - Use `transformer_auto_wrap_policy` to automatically wrap each Transformer Block into a single FSDP instance. \n",
    "- `backward_prefetch` and `forward_prefetch`:\n",
    "    - Overlap the upcoming all-gather while executing the current forward/backward pass. It can improve throughput but may slightly increase peak memory usage.\n",
    ":::"
   ]
  },
  {
   "cell_type": "markdown",
   "metadata": {},
   "source": [
    "## Fine-tune with Ray TorchTrainer\n",
    "\n",
    "Ray TorchTrainer allows you to easily schedule your PyTorch training workload on the Ray cluster. It integrates with mainstream PyTorch ecosystem like Lightning, Transformers, and Accelerate. To launch your training on multiple nodes and GPUs, follow these steps:\n",
    "\n",
    "- Define your training function for each worker. A normal Lightning training function with Ray Train utilities.\n",
    "- Define the {class}`~ray.train.ScalingConfig` that specifies the compute resources.\n",
    "- Define the {class}`~ray.train.RunConfig` that specifies the storage path and checkpointing logics.\n",
    "- Define a {class}`~ray.train.torch.TorchTrainer`, and launch training with {meth}`~ray.train.torch.TorchTrainer.fit`."
   ]
  },
  {
   "cell_type": "code",
   "execution_count": 8,
   "metadata": {},
   "outputs": [],
   "source": [
    "num_workers = 16\n",
    "batch_size_per_worker = 10"
   ]
  },
  {
   "cell_type": "code",
   "execution_count": null,
   "metadata": {},
   "outputs": [],
   "source": [
    "# To accelerate release tests\n",
    "train_ds = train_ds.limit(num_workers * batch_size_per_worker * 10)  # each worker has 10 batches"
   ]
  },
  {
   "cell_type": "markdown",
   "metadata": {},
   "source": [
    "Additionally, remember to define a Lightning callback that saves and reports checkpoints at the end of each training epoch. Ray Train offers a simple implementation, {meth}`~ray.train.lightning.RayTrainReportCallback`, which stores your checkpoint and metrics in remote storage. You can retrieve them later, after training has finished. The internal behaviors are as follows:\n",
    "\n",
    "- Get the latest metrics from `pl.Trainer.callback_metrics`.\n",
    "- Save the checkpoint to the local disk with `pl.Trainer.save_checkpoint()`.\n",
    "- Create a Ray Train checkpoint with {meth}`~ray.train.Checkpoint.from_directory`.\n",
    "- Report the metrics and Ray Train checkpoint with {meth}`~ray.train.report`.\n",
    "\n",
    "Note that you can also implement your own report callback with customized logics, such as saving customized checkpoint files or reporting at a different frequency."
   ]
  },
  {
   "cell_type": "code",
   "execution_count": 11,
   "metadata": {
    "tags": [
     "remove-cell"
    ]
   },
   "outputs": [
    {
     "name": "stderr",
     "output_type": "stream",
     "text": [
      "2023-08-30 10:19:36,958\tINFO streaming_executor.py:93 -- Executing DAG InputDataBuffer[Input] -> TaskPoolMapOperator[MapBatches(split_text)->MapBatches(tokenize)]\n",
      "2023-08-30 10:19:36,959\tINFO streaming_executor.py:94 -- Execution config: ExecutionOptions(resource_limits=ExecutionResources(cpu=None, gpu=None, object_store_memory=None), locality_with_output=False, preserve_order=False, actor_locality_enabled=True, verbose_progress=False)\n",
      "2023-08-30 10:19:36,959\tINFO streaming_executor.py:96 -- Tip: For detailed progress reporting, run `ray.data.DataContext.get_current().execution_options.verbose_progress = True`\n"
     ]
    },
    {
     "data": {
      "application/vnd.jupyter.widget-view+json": {
       "model_id": "ee2c914608064f2786b33abb34ef09a4",
       "version_major": 2,
       "version_minor": 0
      },
      "text/plain": [
       "Running 0:   0%|          | 0/1 [00:00<?, ?it/s]"
      ]
     },
     "metadata": {},
     "output_type": "display_data"
    },
    {
     "name": "stderr",
     "output_type": "stream",
     "text": [
      "Downloading (…)okenizer_config.json: 100%|██████████| 450/450 [00:00<00:00, 66.4kB/s]\n",
      "Downloading (…)/main/tokenizer.json:   0%|          | 0.00/2.11M [00:00<?, ?B/s][0m \n",
      "Downloading (…)/main/tokenizer.json: 100%|██████████| 2.11M/2.11M [00:00<00:00, 7.62MB/s]\n",
      "Downloading (…)cial_tokens_map.json: 100%|██████████| 228/228 [00:00<00:00, 142kB/s]\n"
     ]
    }
   ],
   "source": [
    "from pytorch_lightning.callbacks import TQDMProgressBar\n",
    "\n",
    "# Create a customized progress bar for LightningTrainer\n",
    "class DollyV2ProgressBar(TQDMProgressBar):\n",
    "    def __init__(self, num_iters_per_epoch, *args, **kwargs):\n",
    "        super().__init__(*args, **kwargs)\n",
    "        self.num_iters_per_epoch = num_iters_per_epoch\n",
    "    \n",
    "    def on_train_epoch_start(self, trainer, *_):\n",
    "        super().on_train_epoch_start(trainer, *_)\n",
    "        self.train_progress_bar.reset(self.num_iters_per_epoch)\n",
    "\n",
    "total_batches = train_ds.count()\n",
    "num_iters_per_epoch = total_batches // (num_workers * batch_size_per_worker)\n",
    "prog_bar = DollyV2ProgressBar(num_iters_per_epoch)"
   ]
  },
  {
   "cell_type": "code",
   "execution_count": 10,
   "metadata": {},
   "outputs": [],
   "source": [
    "\n",
    "from ray.train import Checkpoint\n",
    "from ray.train.lightning import RayLightningEnvironment, RayTrainReportCallback, prepare_trainer\n",
    "\n",
    "# Training function for each worker\n",
    "def train_func(config):\n",
    "    lr = config[\"lr\"]\n",
    "    eps = config[\"eps\"]\n",
    "    strategy = config[\"strategy\"]\n",
    "    batch_size_per_worker = config[\"batch_size_per_worker\"]\n",
    "\n",
    "    # Model\n",
    "    model = DollyV2Model(lr=lr, eps=eps)\n",
    "\n",
    "    # Ray Data Ingestion\n",
    "    train_ds = ray.train.get_dataset_shard(\"train\")\n",
    "    train_dataloader = train_ds.iter_torch_batches(batch_size=batch_size_per_worker)\n",
    "\n",
    "    # Lightning Trainer\n",
    "    trainer = pl.Trainer(\n",
    "        max_epochs=1, \n",
    "        devices=\"auto\",\n",
    "        accelerator=\"auto\", \n",
    "        precision=\"16-mixed\",\n",
    "        strategy=strategy,\n",
    "        plugins=[RayLightningEnvironment()],\n",
    "        callbacks=[RayTrainReportCallback()],\n",
    "        enable_checkpointing=False,\n",
    "    )\n",
    "\n",
    "    trainer = prepare_trainer(trainer)\n",
    "\n",
    "    trainer.fit(model, train_dataloaders=train_dataloader)"
   ]
  },
  {
   "cell_type": "markdown",
   "metadata": {},
   "source": [
    "```{note}\n",
    "Since this example runs with multiple nodes, we need to persist checkpoints\n",
    "and other outputs to some external storage for access after training has completed.\n",
    "**You should set up cloud storage or NFS, then replace `storage_path` with your own cloud bucket URI or NFS path.**\n",
    "\n",
    "See the [storage guide](tune-storage-options) for more details.\n",
    "```"
   ]
  },
  {
   "cell_type": "code",
   "execution_count": 12,
   "metadata": {},
   "outputs": [],
   "source": [
    "storage_path=\"s3://your-bucket-here\"  # TODO: Set up cloud storage\n",
    "# storage_path=\"/mnt/path/to/nfs\"     # TODO: Alternatively, set up NFS"
   ]
  },
  {
   "cell_type": "code",
   "execution_count": 13,
   "metadata": {
    "tags": [
     "remove-cell"
    ]
   },
   "outputs": [],
   "source": [
    "storage_path = \"/mnt/cluster_storage\""
   ]
  },
  {
   "cell_type": "code",
   "execution_count": 14,
   "metadata": {
    "tags": []
   },
   "outputs": [
    {
     "data": {
      "text/html": [
       "<div class=\"tuneStatus\">\n",
       "  <div style=\"display: flex;flex-direction: row\">\n",
       "    <div style=\"display: flex;flex-direction: column;\">\n",
       "      <h3>Tune Status</h3>\n",
       "      <table>\n",
       "<tbody>\n",
       "<tr><td>Current time:</td><td>2023-08-30 10:29:49</td></tr>\n",
       "<tr><td>Running for: </td><td>00:10:03.36        </td></tr>\n",
       "<tr><td>Memory:      </td><td>37.9/124.3 GiB     </td></tr>\n",
       "</tbody>\n",
       "</table>\n",
       "    </div>\n",
       "    <div class=\"vDivider\"></div>\n",
       "    <div class=\"systemInfo\">\n",
       "      <h3>System Info</h3>\n",
       "      Using FIFO scheduling algorithm.<br>Logical resource usage: 193.0/272 CPUs, 16.0/16 GPUs (0.0/16.0 accelerator_type:None)\n",
       "    </div>\n",
       "    \n",
       "  </div>\n",
       "  <div class=\"hDivider\"></div>\n",
       "  <div class=\"trialStatus\">\n",
       "    <h3>Trial Status</h3>\n",
       "    <table>\n",
       "<thead>\n",
       "<tr><th>Trial name              </th><th>status    </th><th>loc             </th><th style=\"text-align: right;\">  iter</th><th style=\"text-align: right;\">  total time (s)</th><th style=\"text-align: right;\">  train_loss</th><th style=\"text-align: right;\">  epoch</th><th style=\"text-align: right;\">  step</th></tr>\n",
       "</thead>\n",
       "<tbody>\n",
       "<tr><td>TorchTrainer_6ae58_00000</td><td>TERMINATED</td><td>10.0.23.226:8870</td><td style=\"text-align: right;\">     1</td><td style=\"text-align: right;\">          593.88</td><td style=\"text-align: right;\">     12.5078</td><td style=\"text-align: right;\">      0</td><td style=\"text-align: right;\">     5</td></tr>\n",
       "</tbody>\n",
       "</table>\n",
       "  </div>\n",
       "</div>\n",
       "<style>\n",
       ".tuneStatus {\n",
       "  color: var(--jp-ui-font-color1);\n",
       "}\n",
       ".tuneStatus .systemInfo {\n",
       "  display: flex;\n",
       "  flex-direction: column;\n",
       "}\n",
       ".tuneStatus td {\n",
       "  white-space: nowrap;\n",
       "}\n",
       ".tuneStatus .trialStatus {\n",
       "  display: flex;\n",
       "  flex-direction: column;\n",
       "}\n",
       ".tuneStatus h3 {\n",
       "  font-weight: bold;\n",
       "}\n",
       ".tuneStatus .hDivider {\n",
       "  border-bottom-width: var(--jp-border-width);\n",
       "  border-bottom-color: var(--jp-border-color0);\n",
       "  border-bottom-style: solid;\n",
       "}\n",
       ".tuneStatus .vDivider {\n",
       "  border-left-width: var(--jp-border-width);\n",
       "  border-left-color: var(--jp-border-color0);\n",
       "  border-left-style: solid;\n",
       "  margin: 0.5em 1em 0.5em 1em;\n",
       "}\n",
       "</style>\n"
      ],
      "text/plain": [
       "<IPython.core.display.HTML object>"
      ]
     },
     "metadata": {},
     "output_type": "display_data"
    },
    {
     "name": "stderr",
     "output_type": "stream",
     "text": [
      "\u001b[2m\u001b[36m(TrainTrainable pid=8870)\u001b[0m StorageContext on SESSION (rank=None):\n",
      "\u001b[2m\u001b[36m(TrainTrainable pid=8870)\u001b[0m StorageContext<\n",
      "\u001b[2m\u001b[36m(TrainTrainable pid=8870)\u001b[0m   storage_path=/mnt/cluster_storage\n",
      "\u001b[2m\u001b[36m(TrainTrainable pid=8870)\u001b[0m   storage_local_path=/home/ray/ray_results\n",
      "\u001b[2m\u001b[36m(TrainTrainable pid=8870)\u001b[0m   storage_filesystem=<pyarrow._fs.LocalFileSystem object at 0x7f3d46319130>\n",
      "\u001b[2m\u001b[36m(TrainTrainable pid=8870)\u001b[0m   storage_fs_path=/mnt/cluster_storage\n",
      "\u001b[2m\u001b[36m(TrainTrainable pid=8870)\u001b[0m   experiment_dir_name=finetune_dolly-v2-7b\n",
      "\u001b[2m\u001b[36m(TrainTrainable pid=8870)\u001b[0m   trial_dir_name=TorchTrainer_6ae58_00000_0_2023-08-30_10-19-46\n",
      "\u001b[2m\u001b[36m(TrainTrainable pid=8870)\u001b[0m   current_checkpoint_index=0\n",
      "\u001b[2m\u001b[36m(TrainTrainable pid=8870)\u001b[0m >\n",
      "\u001b[2m\u001b[36m(TorchTrainer pid=8870)\u001b[0m Starting distributed worker processes: ['8972 (10.0.23.226)', '4128 (10.0.2.17)', '4094 (10.0.53.250)', '4511 (10.0.40.16)', '4123 (10.0.41.152)', '4082 (10.0.44.99)', '4151 (10.0.14.94)', '4090 (10.0.41.56)', '4089 (10.0.58.27)', '4095 (10.0.58.206)', '4085 (10.0.9.99)', '4103 (10.0.62.244)', '4168 (10.0.58.178)', '4092 (10.0.43.35)', '4115 (10.0.46.116)', '4079 (10.0.59.245)']\n",
      "\u001b[2m\u001b[36m(RayTrainWorker pid=8972)\u001b[0m Setting up process group for: env:// [rank=0, world_size=16]\n",
      "\u001b[2m\u001b[36m(RayTrainWorker pid=8972)\u001b[0m StorageContext on SESSION (rank=0):\n",
      "\u001b[2m\u001b[36m(RayTrainWorker pid=8972)\u001b[0m StorageContext<\n",
      "\u001b[2m\u001b[36m(RayTrainWorker pid=8972)\u001b[0m   storage_path=/mnt/cluster_storage\n",
      "\u001b[2m\u001b[36m(RayTrainWorker pid=8972)\u001b[0m   storage_local_path=/home/ray/ray_results\n",
      "\u001b[2m\u001b[36m(RayTrainWorker pid=8972)\u001b[0m   storage_filesystem=<pyarrow._fs.LocalFileSystem object at 0x7f7820cf09b0>\n",
      "\u001b[2m\u001b[36m(RayTrainWorker pid=8972)\u001b[0m   storage_fs_path=/mnt/cluster_storage\n",
      "\u001b[2m\u001b[36m(RayTrainWorker pid=8972)\u001b[0m   experiment_dir_name=finetune_dolly-v2-7b\n",
      "\u001b[2m\u001b[36m(RayTrainWorker pid=8972)\u001b[0m   trial_dir_name=TorchTrainer_6ae58_00000_0_2023-08-30_10-19-46\n",
      "\u001b[2m\u001b[36m(RayTrainWorker pid=8972)\u001b[0m   current_checkpoint_index=0\n",
      "\u001b[2m\u001b[36m(RayTrainWorker pid=8972)\u001b[0m >\n",
      "\u001b[2m\u001b[36m(SplitCoordinator pid=9091)\u001b[0m Auto configuring locality_with_output=['5ed99d043a52f67deb150f34202c09b77bd37409502ebf6e581b0544', 'e3754d1e1017e68dd919b35d35ea62ed7b005ad96452f371721fc9fa', '73a8b9377fe9531a84eaa7b30c966fbb11bc36aff070d55c8f7acd1a', '8efe8198d7c04d45714ae757f298c316117405f3a8b25b87a71e0d9e', 'ef922c93f3b2fc93ebe5a521426d24fb8aae7e13c65f9fbd106aea2a', '042b668e5553a589a4f6693c45deee0abe57a1d754812172af425acb', '5249cff3eab41121f840c17a79e6a3cd0af0f059def707a39e055fcf', '8bd0f431ab3733c4b423c1d50db06460e3c210de47355b3b4d215c31', '9ed138bfe1f9c7dca484ee08d8311806389adb3af7a76566a6f4dfaa', '7e2fcb5dfe4ab1b572d87257f9e13bbc22b33ba968b1e67a79505589', '9484193409a5346c0838a4a19a0a08eec122477682ea1cb0ad3e305a', '39b1ef4da8493a22e321a1ea9dd13387f50d9a6e2d2fbad58ad5fe9c', '573645f42162f531a66d20776a95ba05102fae8e4b8090d48b94b233', '0158084645ec305bdd2ab11a6f35c44ad206405ca810e65f24b09398', '47e317ad5d0eb94cabb78871541160763283629d0d3f3b77b69521ae', 'fe5b11633900d1c437b2e3ee4ea44c18cf68f3dece546537d2090c63']\n",
      "Downloading (…)lve/main/config.json:   0%|          | 0.00/819 [00:00<?, ?B/s]\n",
      "Downloading (…)lve/main/config.json: 100%|██████████| 819/819 [00:00<00:00, 122kB/s]\n",
      "Downloading (…)lve/main/config.json: 100%|██████████| 819/819 [00:00<00:00, 122kB/s]\n",
      "Downloading pytorch_model.bin:   0%|          | 0.00/13.8G [00:00<?, ?B/s]\n",
      "Downloading pytorch_model.bin:   0%|          | 10.5M/13.8G [00:00<03:21, 68.8MB/s]\n",
      "\u001b[2m\u001b[36m(RayTrainWorker pid=4079, ip=10.0.59.245)\u001b[0m StorageContext on SESSION (rank=15):\u001b[32m [repeated 15x across cluster] (Ray deduplicates logs by default. Set RAY_DEDUP_LOGS=0 to disable log deduplication, or see https://docs.ray.io/en/master/ray-observability/ray-logging.html#log-deduplication for more options.)\u001b[0m\n",
      "\u001b[2m\u001b[36m(RayTrainWorker pid=4079, ip=10.0.59.245)\u001b[0m StorageContext<\u001b[32m [repeated 15x across cluster]\u001b[0m\n",
      "\u001b[2m\u001b[36m(RayTrainWorker pid=4079, ip=10.0.59.245)\u001b[0m   storage_path=/mnt/cluster_storage\u001b[32m [repeated 15x across cluster]\u001b[0m\n",
      "\u001b[2m\u001b[36m(RayTrainWorker pid=4079, ip=10.0.59.245)\u001b[0m   storage_local_path=/home/ray/ray_results\u001b[32m [repeated 15x across cluster]\u001b[0m\n",
      "\u001b[2m\u001b[36m(RayTrainWorker pid=4079, ip=10.0.59.245)\u001b[0m   storage_filesystem=<pyarrow._fs.LocalFileSystem object at 0x7f89de0be170>\u001b[32m [repeated 15x across cluster]\u001b[0m\n",
      "\u001b[2m\u001b[36m(RayTrainWorker pid=4079, ip=10.0.59.245)\u001b[0m   storage_fs_path=/mnt/cluster_storage\u001b[32m [repeated 15x across cluster]\u001b[0m\n",
      "\u001b[2m\u001b[36m(RayTrainWorker pid=4079, ip=10.0.59.245)\u001b[0m   current_checkpoint_index=0\u001b[32m [repeated 45x across cluster]\u001b[0m\n",
      "\u001b[2m\u001b[36m(RayTrainWorker pid=4079, ip=10.0.59.245)\u001b[0m >\u001b[32m [repeated 15x across cluster]\u001b[0m\n",
      "Downloading (…)lve/main/config.json: 100%|██████████| 819/819 [00:00<00:00, 123kB/s]\u001b[32m [repeated 14x across cluster]\u001b[0m\n",
      "Downloading pytorch_model.bin:   0%|          | 0.00/13.8G [00:00<?, ?B/s]\u001b[32m [repeated 15x across cluster]\u001b[0m\n",
      "Downloading pytorch_model.bin:   4%|▍         | 577M/13.8G [00:05<02:09, 102MB/s]\u001b[32m [repeated 511x across cluster]\u001b[0m\n",
      "Downloading pytorch_model.bin:  15%|█▍        | 2.08G/13.8G [00:10<00:57, 204MB/s]\u001b[32m [repeated 514x across cluster]\u001b[0m\n",
      "Downloading pytorch_model.bin:  22%|██▏       | 3.08G/13.8G [00:15<00:54, 199MB/s]\u001b[32m [repeated 461x across cluster]\u001b[0m\n",
      "Downloading pytorch_model.bin:  16%|█▌        | 2.23G/13.8G [00:20<01:36, 121MB/s]\u001b[32m [repeated 504x across cluster]\u001b[0m\n",
      "Downloading pytorch_model.bin:  37%|███▋      | 5.17G/13.8G [00:25<00:41, 208MB/s]\u001b[32m [repeated 460x across cluster]\u001b[0m\n",
      "Downloading pytorch_model.bin:  24%|██▍       | 3.38G/13.8G [00:30<01:20, 130MB/s]\u001b[32m [repeated 519x across cluster]\u001b[0m\n",
      "Downloading pytorch_model.bin:  53%|█████▎    | 7.30G/13.8G [00:35<00:31, 205MB/s]\u001b[32m [repeated 491x across cluster]\u001b[0m\n",
      "Downloading pytorch_model.bin:  33%|███▎      | 4.55G/13.8G [00:40<01:14, 124MB/s]\u001b[32m [repeated 519x across cluster]\u001b[0m\n",
      "Downloading pytorch_model.bin:  37%|███▋      | 5.15G/13.8G [00:45<01:11, 122MB/s]\u001b[32m [repeated 499x across cluster]\u001b[0m\n",
      "Downloading pytorch_model.bin:  41%|████      | 5.63G/13.8G [00:50<01:08, 120MB/s]\u001b[32m [repeated 471x across cluster]\u001b[0m\n",
      "Downloading pytorch_model.bin:  86%|████████▌ | 11.8G/13.8G [00:55<00:08, 232MB/s]\u001b[32m [repeated 529x across cluster]\u001b[0m\n",
      "Downloading pytorch_model.bin:  91%|█████████▏| 12.6G/13.8G [00:58<00:05, 222MB/s]\n",
      "Downloading pytorch_model.bin:  91%|█████████▏| 12.7G/13.8G [00:58<00:05, 222MB/s]\n",
      "Downloading pytorch_model.bin:  92%|█████████▏| 12.7G/13.8G [00:58<00:05, 220MB/s]\n",
      "Downloading pytorch_model.bin:  92%|█████████▏| 12.7G/13.8G [00:58<00:05, 219MB/s]\n",
      "Downloading pytorch_model.bin:  92%|█████████▏| 12.8G/13.8G [00:59<00:04, 218MB/s]\n",
      "Downloading pytorch_model.bin:  92%|█████████▏| 12.8G/13.8G [00:59<00:04, 218MB/s]\n",
      "Downloading pytorch_model.bin:  93%|█████████▎| 12.8G/13.8G [00:59<00:04, 218MB/s]\n",
      "Downloading pytorch_model.bin:  93%|█████████▎| 12.9G/13.8G [00:59<00:04, 218MB/s]\n",
      "Downloading pytorch_model.bin:  93%|█████████▎| 12.9G/13.8G [00:59<00:04, 222MB/s]\n",
      "Downloading pytorch_model.bin:  93%|█████████▎| 12.9G/13.8G [00:59<00:04, 226MB/s]\n",
      "Downloading pytorch_model.bin:  94%|█████████▎| 12.9G/13.8G [00:59<00:03, 229MB/s]\n",
      "Downloading pytorch_model.bin:  94%|█████████▍| 13.0G/13.8G [01:00<00:03, 230MB/s]\n",
      "Downloading pytorch_model.bin:  49%|████▊     | 6.74G/13.8G [01:00<01:02, 114MB/s]\u001b[32m [repeated 442x across cluster]\u001b[0m\n",
      "Downloading pytorch_model.bin:  94%|█████████▍| 13.0G/13.8G [01:00<00:03, 232MB/s]\n",
      "Downloading pytorch_model.bin:  94%|█████████▍| 13.0G/13.8G [01:00<00:03, 231MB/s]\n",
      "Downloading pytorch_model.bin:  94%|█████████▍| 13.1G/13.8G [01:00<00:03, 232MB/s]\n",
      "Downloading pytorch_model.bin:  95%|█████████▍| 13.1G/13.8G [01:00<00:03, 232MB/s]\n",
      "Downloading pytorch_model.bin:  95%|█████████▍| 13.1G/13.8G [01:00<00:03, 234MB/s]\n",
      "Downloading pytorch_model.bin:  95%|█████████▌| 13.2G/13.8G [01:00<00:02, 234MB/s]\n",
      "Downloading pytorch_model.bin:  95%|█████████▌| 13.2G/13.8G [01:03<00:03, 212MB/s]\u001b[32m [repeated 80x across cluster]\u001b[0m\n",
      "Downloading pytorch_model.bin: 100%|██████████| 13.8G/13.8G [01:03<00:00, 217MB/s]\n",
      "Downloading pytorch_model.bin:  53%|█████▎    | 7.28G/13.8G [01:05<00:58, 112MB/s]\u001b[32m [repeated 329x across cluster]\u001b[0m\n",
      "Downloading pytorch_model.bin: 100%|██████████| 13.8G/13.8G [01:07<00:00, 204MB/s]\u001b[32m [repeated 101x across cluster]\u001b[0m\n",
      "Downloading pytorch_model.bin:  56%|█████▌    | 7.77G/13.8G [01:10<01:44, 58.1MB/s]\u001b[32m [repeated 285x across cluster]\u001b[0m\n",
      "Downloading pytorch_model.bin:  60%|██████    | 8.33G/13.8G [01:15<00:48, 113MB/s]\u001b[32m [repeated 304x across cluster]\u001b[0m\n",
      "Downloading pytorch_model.bin:  64%|██████▍   | 8.87G/13.8G [01:20<00:44, 112MB/s]\u001b[32m [repeated 297x across cluster]\u001b[0m\n",
      "Downloading pytorch_model.bin:  68%|██████▊   | 9.35G/13.8G [01:25<00:41, 108MB/s]\u001b[32m [repeated 295x across cluster]\u001b[0m\n",
      "Downloading pytorch_model.bin:  71%|███████▏  | 9.88G/13.8G [01:30<00:36, 107MB/s]\u001b[32m [repeated 285x across cluster]\u001b[0m\n",
      "Downloading pytorch_model.bin:  75%|███████▍  | 10.4G/13.8G [01:35<00:34, 102MB/s]\u001b[32m [repeated 297x across cluster]\u001b[0m\n",
      "Downloading pytorch_model.bin:  79%|███████▉  | 11.0G/13.8G [01:40<00:24, 119MB/s]\u001b[32m [repeated 309x across cluster]\u001b[0m\n",
      "Downloading pytorch_model.bin:  83%|████████▎ | 11.5G/13.8G [01:45<00:35, 66.3MB/s]\u001b[32m [repeated 286x across cluster]\u001b[0m\n",
      "Downloading pytorch_model.bin:  87%|████████▋ | 12.0G/13.8G [01:50<00:16, 106MB/s]\u001b[32m [repeated 303x across cluster]\u001b[0m\n",
      "Downloading pytorch_model.bin:  91%|█████████ | 12.6G/13.8G [01:55<00:11, 113MB/s]\u001b[32m [repeated 312x across cluster]\u001b[0m\n",
      "Downloading pytorch_model.bin:  91%|█████████▏| 12.6G/13.8G [01:55<00:10, 113MB/s]\n",
      "Downloading pytorch_model.bin:  91%|█████████ | 12.6G/13.8G [01:55<00:09, 126MB/s]\u001b[32m [repeated 31x across cluster]\u001b[0m\n",
      "Downloading pytorch_model.bin:  95%|█████████▍| 13.1G/13.8G [02:00<00:06, 117MB/s]\u001b[32m [repeated 283x across cluster]\u001b[0m\n",
      "\u001b[2m\u001b[36m(RayTrainWorker pid=4115, ip=10.0.46.116)\u001b[0m Using 16bit Automatic Mixed Precision (AMP)\n",
      "\u001b[2m\u001b[36m(RayTrainWorker pid=4115, ip=10.0.46.116)\u001b[0m Missing logger folder: /home/ray/ray_results/finetune_dolly-v2-7b/TorchTrainer_6ae58_00000_0_2023-08-30_10-19-46/lightning_logs\n",
      "Downloading pytorch_model.bin:  99%|█████████▉| 13.7G/13.8G [02:05<00:01, 105MB/s]\u001b[32m [repeated 290x across cluster]\u001b[0m\n",
      "Downloading pytorch_model.bin: 100%|██████████| 13.8G/13.8G [02:07<00:00, 109MB/s]\n"
     ]
    },
    {
     "name": "stdout",
     "output_type": "stream",
     "text": [
      "\u001b[2m\u001b[1m\u001b[36m(autoscaler +2m52s)\u001b[0m [workspace snapshot] New snapshot created successfully (size: 444.12 KB).\n"
     ]
    },
    {
     "name": "stderr",
     "output_type": "stream",
     "text": [
      "\u001b[2m\u001b[36m(RayTrainWorker pid=4511, ip=10.0.40.16)\u001b[0m Using 16bit Automatic Mixed Precision (AMP)\u001b[32m [repeated 5x across cluster]\u001b[0m\n",
      "\u001b[2m\u001b[36m(RayTrainWorker pid=4123, ip=10.0.41.152)\u001b[0m Missing logger folder: /home/ray/ray_results/finetune_dolly-v2-7b/TorchTrainer_6ae58_00000_0_2023-08-30_10-19-46/lightning_logs\u001b[32m [repeated 4x across cluster]\u001b[0m\n",
      "Downloading pytorch_model.bin: 100%|██████████| 13.8G/13.8G [02:07<00:00, 109MB/s]\u001b[32m [repeated 89x across cluster]\u001b[0m\n",
      "Downloading pytorch_model.bin: 100%|██████████| 13.8G/13.8G [02:07<00:00, 109MB/s]\u001b[32m [repeated 6x across cluster]\u001b[0m\n",
      "\u001b[2m\u001b[36m(RayTrainWorker pid=8972)\u001b[0m GPU available: True (cuda), used: True\n",
      "\u001b[2m\u001b[36m(RayTrainWorker pid=8972)\u001b[0m TPU available: False, using: 0 TPU cores\n",
      "\u001b[2m\u001b[36m(RayTrainWorker pid=8972)\u001b[0m IPU available: False, using: 0 IPUs\n",
      "\u001b[2m\u001b[36m(RayTrainWorker pid=8972)\u001b[0m HPU available: False, using: 0 HPUs\n",
      "\u001b[2m\u001b[36m(RayTrainWorker pid=4115, ip=10.0.46.116)\u001b[0m LOCAL_RANK: 0 - CUDA_VISIBLE_DEVICES: [0]\n"
     ]
    },
    {
     "name": "stdout",
     "output_type": "stream",
     "text": [
      "\u001b[2m\u001b[36m(RayTrainWorker pid=8972)\u001b[0m FullyShardedDataParallel(\n",
      "\u001b[2m\u001b[36m(RayTrainWorker pid=8972)\u001b[0m   (_fsdp_wrapped_module): _LightningModuleWrapperBase(\n",
      "\u001b[2m\u001b[36m(RayTrainWorker pid=8972)\u001b[0m     (_forward_module): DollyV2Model(\n",
      "\u001b[2m\u001b[36m(RayTrainWorker pid=8972)\u001b[0m       (model): GPTNeoXForCausalLM(\n",
      "\u001b[2m\u001b[36m(RayTrainWorker pid=8972)\u001b[0m         (gpt_neox): GPTNeoXModel(\n",
      "\u001b[2m\u001b[36m(RayTrainWorker pid=8972)\u001b[0m           (embed_in): Embedding(50280, 4096)\n",
      "\u001b[2m\u001b[36m(RayTrainWorker pid=8972)\u001b[0m           (layers): ModuleList(\n",
      "\u001b[2m\u001b[36m(RayTrainWorker pid=8972)\u001b[0m             (0-31): 32 x FullyShardedDataParallel(\n",
      "\u001b[2m\u001b[36m(RayTrainWorker pid=8972)\u001b[0m               (_fsdp_wrapped_module): CheckpointWrapper(\n",
      "\u001b[2m\u001b[36m(RayTrainWorker pid=8972)\u001b[0m                 (_checkpoint_wrapped_module): GPTNeoXLayer(\n",
      "\u001b[2m\u001b[36m(RayTrainWorker pid=8972)\u001b[0m                   (input_layernorm): LayerNorm((4096,), eps=1e-05, elementwise_affine=True)\n",
      "\u001b[2m\u001b[36m(RayTrainWorker pid=8972)\u001b[0m                   (post_attention_layernorm): LayerNorm((4096,), eps=1e-05, elementwise_affine=True)\n",
      "\u001b[2m\u001b[36m(RayTrainWorker pid=8972)\u001b[0m                   (attention): GPTNeoXAttention(\n",
      "\u001b[2m\u001b[36m(RayTrainWorker pid=8972)\u001b[0m                     (rotary_emb): RotaryEmbedding()\n",
      "\u001b[2m\u001b[36m(RayTrainWorker pid=8972)\u001b[0m                     (query_key_value): Linear(in_features=4096, out_features=12288, bias=True)\n",
      "\u001b[2m\u001b[36m(RayTrainWorker pid=8972)\u001b[0m                     (dense): Linear(in_features=4096, out_features=4096, bias=True)\n",
      "\u001b[2m\u001b[36m(RayTrainWorker pid=8972)\u001b[0m                   )\n",
      "\u001b[2m\u001b[36m(RayTrainWorker pid=8972)\u001b[0m                   (mlp): GPTNeoXMLP(\n",
      "\u001b[2m\u001b[36m(RayTrainWorker pid=8972)\u001b[0m                     (dense_h_to_4h): Linear(in_features=4096, out_features=16384, bias=True)\n",
      "\u001b[2m\u001b[36m(RayTrainWorker pid=8972)\u001b[0m                     (dense_4h_to_h): Linear(in_features=16384, out_features=4096, bias=True)\n",
      "\u001b[2m\u001b[36m(RayTrainWorker pid=8972)\u001b[0m                     (act): GELUActivation()\n",
      "\u001b[2m\u001b[36m(RayTrainWorker pid=8972)\u001b[0m                   )\n",
      "\u001b[2m\u001b[36m(RayTrainWorker pid=8972)\u001b[0m                 )\n",
      "\u001b[2m\u001b[36m(RayTrainWorker pid=8972)\u001b[0m               )\n",
      "\u001b[2m\u001b[36m(RayTrainWorker pid=8972)\u001b[0m             )\n",
      "\u001b[2m\u001b[36m(RayTrainWorker pid=8972)\u001b[0m           )\n",
      "\u001b[2m\u001b[36m(RayTrainWorker pid=8972)\u001b[0m           (final_layer_norm): LayerNorm((4096,), eps=1e-05, elementwise_affine=True)\n",
      "\u001b[2m\u001b[36m(RayTrainWorker pid=8972)\u001b[0m         )\n",
      "\u001b[2m\u001b[36m(RayTrainWorker pid=8972)\u001b[0m         (embed_out): Linear(in_features=4096, out_features=50280, bias=False)\n",
      "\u001b[2m\u001b[36m(RayTrainWorker pid=8972)\u001b[0m       )\n",
      "\u001b[2m\u001b[36m(RayTrainWorker pid=8972)\u001b[0m     )\n",
      "\u001b[2m\u001b[36m(RayTrainWorker pid=8972)\u001b[0m   )\n",
      "\u001b[2m\u001b[36m(RayTrainWorker pid=8972)\u001b[0m )\n",
      "Epoch 0: : 0it [00:00, ?it/s]8972)\u001b[0m \n"
     ]
    },
    {
     "name": "stderr",
     "output_type": "stream",
     "text": [
      "\u001b[2m\u001b[36m(RayTrainWorker pid=8972)\u001b[0m \n",
      "\u001b[2m\u001b[36m(RayTrainWorker pid=8972)\u001b[0m   | Name  | Type               | Params\n",
      "\u001b[2m\u001b[36m(RayTrainWorker pid=8972)\u001b[0m ---------------------------------------------\n",
      "\u001b[2m\u001b[36m(RayTrainWorker pid=8972)\u001b[0m 0 | model | GPTNeoXForCausalLM | 402 M \n",
      "\u001b[2m\u001b[36m(RayTrainWorker pid=8972)\u001b[0m ---------------------------------------------\n",
      "\u001b[2m\u001b[36m(RayTrainWorker pid=8972)\u001b[0m 402 M     Trainable params\n",
      "\u001b[2m\u001b[36m(RayTrainWorker pid=8972)\u001b[0m 0         Non-trainable params\n",
      "\u001b[2m\u001b[36m(RayTrainWorker pid=8972)\u001b[0m 402 M     Total params\n",
      "\u001b[2m\u001b[36m(RayTrainWorker pid=8972)\u001b[0m 1,611.039 Total estimated model params size (MB)\n",
      "\u001b[2m\u001b[36m(RayTrainWorker pid=4094, ip=10.0.53.250)\u001b[0m Using 16bit Automatic Mixed Precision (AMP)\u001b[32m [repeated 10x across cluster]\u001b[0m\n",
      "\u001b[2m\u001b[36m(RayTrainWorker pid=4079, ip=10.0.59.245)\u001b[0m Missing logger folder: /home/ray/ray_results/finetune_dolly-v2-7b/TorchTrainer_6ae58_00000_0_2023-08-30_10-19-46/lightning_logs\u001b[32m [repeated 11x across cluster]\u001b[0m\n",
      "\u001b[2m\u001b[36m(RayTrainWorker pid=4511, ip=10.0.40.16)\u001b[0m LOCAL_RANK: 0 - CUDA_VISIBLE_DEVICES: [0]\u001b[32m [repeated 15x across cluster]\u001b[0m\n"
     ]
    },
    {
     "data": {
      "application/vnd.jupyter.widget-view+json": {
       "model_id": "2bd6d48a4ef14a40a363ee043d5fa40c",
       "version_major": 2,
       "version_minor": 0
      },
      "text/plain": [
       "(pid=9091) Running 0:   0%|          | 0/1 [00:00<?, ?it/s]"
      ]
     },
     "metadata": {},
     "output_type": "display_data"
    },
    {
     "name": "stderr",
     "output_type": "stream",
     "text": [
      "\u001b[2m\u001b[36m(SplitCoordinator pid=9091)\u001b[0m Executing DAG InputDataBuffer[Input] -> TaskPoolMapOperator[MapBatches(split_text)->MapBatches(tokenize)] -> OutputSplitter[split(16, equal=True)]\n",
      "\u001b[2m\u001b[36m(SplitCoordinator pid=9091)\u001b[0m Execution config: ExecutionOptions(resource_limits=ExecutionResources(cpu=None, gpu=None, object_store_memory=2000000000.0), locality_with_output=['5ed99d043a52f67deb150f34202c09b77bd37409502ebf6e581b0544', 'e3754d1e1017e68dd919b35d35ea62ed7b005ad96452f371721fc9fa', '73a8b9377fe9531a84eaa7b30c966fbb11bc36aff070d55c8f7acd1a', '8efe8198d7c04d45714ae757f298c316117405f3a8b25b87a71e0d9e', 'ef922c93f3b2fc93ebe5a521426d24fb8aae7e13c65f9fbd106aea2a', '042b668e5553a589a4f6693c45deee0abe57a1d754812172af425acb', '5249cff3eab41121f840c17a79e6a3cd0af0f059def707a39e055fcf', '8bd0f431ab3733c4b423c1d50db06460e3c210de47355b3b4d215c31', '9ed138bfe1f9c7dca484ee08d8311806389adb3af7a76566a6f4dfaa', '7e2fcb5dfe4ab1b572d87257f9e13bbc22b33ba968b1e67a79505589', '9484193409a5346c0838a4a19a0a08eec122477682ea1cb0ad3e305a', '39b1ef4da8493a22e321a1ea9dd13387f50d9a6e2d2fbad58ad5fe9c', '573645f42162f531a66d20776a95ba05102fae8e4b8090d48b94b233', '0158084645ec305bdd2ab11a6f35c44ad206405ca810e65f24b09398', '47e317ad5d0eb94cabb78871541160763283629d0d3f3b77b69521ae', 'fe5b11633900d1c437b2e3ee4ea44c18cf68f3dece546537d2090c63'], preserve_order=False, actor_locality_enabled=True, verbose_progress=False)\n",
      "\u001b[2m\u001b[36m(SplitCoordinator pid=9091)\u001b[0m Tip: For detailed progress reporting, run `ray.data.DataContext.get_current().execution_options.verbose_progress = True`\n",
      "Downloading (…)okenizer_config.json: 100%|██████████| 450/450 [00:00<00:00, 67.2kB/s]\n",
      "Downloading (…)/main/tokenizer.json:   0%|          | 0.00/2.11M [00:00<?, ?B/s]\n",
      "Downloading (…)/main/tokenizer.json: 100%|██████████| 2.11M/2.11M [00:00<00:00, 28.2MB/s]\n",
      "Downloading (…)cial_tokens_map.json: 100%|██████████| 228/228 [00:00<00:00, 143kB/s]\n"
     ]
    },
    {
     "data": {
      "application/vnd.jupyter.widget-view+json": {
       "model_id": "3a80f6a77c3a492b8c4515039ad62a95",
       "version_major": 2,
       "version_minor": 0
      },
      "text/plain": [
       "(pid=9091) Running: 0.0/272.0 CPU, 0.0/16.0 GPU, 118.71 MiB/1.86 GiB object_store_memory 0:   0%|          | 0…"
      ]
     },
     "metadata": {},
     "output_type": "display_data"
    },
    {
     "name": "stdout",
     "output_type": "stream",
     "text": [
      "Epoch 0: : 1it [00:27, 27.52s/it, v_num=0, train_loss=12.90]\n",
      "Epoch 0: : 2it [00:46, 23.33s/it, v_num=0, train_loss=12.50]\n",
      "Epoch 0: : 3it [01:04, 21.62s/it, v_num=0, train_loss=12.50]\n",
      "Epoch 0: : 4it [01:22, 20.72s/it, v_num=0, train_loss=12.50]\n",
      "Epoch 0: : 5it [01:41, 20.22s/it, v_num=0, train_loss=12.50]\n"
     ]
    },
    {
     "name": "stderr",
     "output_type": "stream",
     "text": [
      "\u001b[2m\u001b[36m(RayTrainWorker pid=4115, ip=10.0.46.116)\u001b[0m Checkpoint successfully created at: Checkpoint(filesystem=local, path=/mnt/cluster_storage/finetune_dolly-v2-7b/TorchTrainer_6ae58_00000_0_2023-08-30_10-19-46/checkpoint_000000)\n"
     ]
    },
    {
     "name": "stdout",
     "output_type": "stream",
     "text": [
      "\u001b[2m\u001b[1m\u001b[36m(autoscaler +7m51s)\u001b[0m [workspace snapshot] New snapshot created successfully (size: 460.94 KB).\n"
     ]
    },
    {
     "name": "stderr",
     "output_type": "stream",
     "text": [
      "\u001b[2m\u001b[36m(RayTrainWorker pid=8972)\u001b[0m Checkpoint successfully created at: Checkpoint(filesystem=local, path=/mnt/cluster_storage/finetune_dolly-v2-7b/TorchTrainer_6ae58_00000_0_2023-08-30_10-19-46/checkpoint_000000)\u001b[32m [repeated 15x across cluster]\u001b[0m\n"
     ]
    },
    {
     "name": "stdout",
     "output_type": "stream",
     "text": [
      "Epoch 0: : 5it [06:19, 75.83s/it, v_num=0, train_loss=12.50]\n"
     ]
    },
    {
     "name": "stderr",
     "output_type": "stream",
     "text": [
      "\u001b[2m\u001b[36m(RayTrainWorker pid=8972)\u001b[0m `Trainer.fit` stopped: `max_steps=5` reached.\n",
      "\u001b[2m\u001b[36m(RayTrainWorker pid=8972)\u001b[0m RayFSDPStrategy: tearing down strategy...\n",
      "2023-08-30 10:29:49,987\tWARNING experiment_state.py:371 -- Experiment checkpoint syncing has been triggered multiple times in the last 30.0 seconds. A sync will be triggered whenever a trial has checkpointed more than `num_to_keep` times since last sync or if 300 seconds have passed since last sync. If you have set `num_to_keep` in your `CheckpointConfig`, consider increasing the checkpoint frequency or keeping more checkpoints. You can supress this warning by changing the `TUNE_WARN_EXCESSIVE_EXPERIMENT_CHECKPOINT_SYNC_THRESHOLD_S` environment variable.\n",
      "2023-08-30 10:29:49,993\tINFO tune.py:1142 -- Total run time: 603.42 seconds (603.33 seconds for the tuning loop).\n"
     ]
    },
    {
     "data": {
      "text/plain": [
       "Result(\n",
       "  metrics={'train_loss': 12.5078125, 'epoch': 0, 'step': 5},\n",
       "  path='/mnt/cluster_storage/finetune_dolly-v2-7b/TorchTrainer_6ae58_00000_0_2023-08-30_10-19-46',\n",
       "  filesystem='local',\n",
       "  checkpoint=Checkpoint(filesystem=local, path=/mnt/cluster_storage/finetune_dolly-v2-7b/TorchTrainer_6ae58_00000_0_2023-08-30_10-19-46/checkpoint_000000)\n",
       ")"
      ]
     },
     "execution_count": 14,
     "metadata": {},
     "output_type": "execute_result"
    }
   ],
   "source": [
    "from ray.train.torch import TorchTrainer\n",
    "from ray.train import RunConfig, ScalingConfig, CheckpointConfig\n",
    "\n",
    "# Save AIR checkpoints according to the performance on validation set\n",
    "run_config = RunConfig(\n",
    "    name=\"finetune_dolly-v2-7b\",\n",
    "    storage_path=storage_path,\n",
    "    checkpoint_config=CheckpointConfig(num_to_keep=1),\n",
    ")\n",
    "\n",
    "# Scale the DDP training workload across 16 GPUs\n",
    "# You can change this config based on your compute resources.\n",
    "scaling_config = ScalingConfig(\n",
    "    num_workers=num_workers, use_gpu=True, resources_per_worker={\"CPU\": 12, \"GPU\": 1}\n",
    ")\n",
    "\n",
    "# Configuration to pass into train_func\n",
    "train_config = {\n",
    "    \"lr\": 2e-5,\n",
    "    \"eps\": 1e-8,\n",
    "    \"strategy\": fsdp_strategy,\n",
    "    \"batch_size_per_worker\": 10\n",
    "}\n",
    "\n",
    "# Define a TorchTrainer and launch you training workload\n",
    "ray_trainer = TorchTrainer(\n",
    "    train_func,\n",
    "    train_loop_config=train_config,\n",
    "    run_config=run_config,\n",
    "    scaling_config=scaling_config,\n",
    "    datasets={\"train\": train_ds},\n",
    ")\n",
    "result = ray_trainer.fit()\n",
    "\n",
    "result\n"
   ]
  },
  {
   "cell_type": "markdown",
   "metadata": {},
   "source": [
    "We finished training in 2361s. The price for an on-demand g4dn.4xlarge instance is `$1.204/hour`, while a g4dn.4xlarge instance costs `$2.176/hour`. The total cost would be `($1.204 * 15 + $2.176) * 2699 / 3600 = $15.17`."
   ]
  },
  {
   "cell_type": "markdown",
   "metadata": {},
   "source": [
    "## Text-generation with HuggingFace Pipeline\n",
    "\n",
    "We can use the [HuggingFace Pipeline](https://huggingface.co/docs/transformers/main_classes/pipelines) to generate predictions from our fine-tuned model. Let's input some prompts and see if our tuned Dolly can speak like Shakespeare:"
   ]
  },
  {
   "cell_type": "code",
   "execution_count": 17,
   "metadata": {
    "tags": []
   },
   "outputs": [
    {
     "name": "stdout",
     "output_type": "stream",
     "text": [
      "\u001b[2m\u001b[1m\u001b[36m(autoscaler +27m50s)\u001b[0m [workspace snapshot] New snapshot created successfully (size: 464.29 KB).\n"
     ]
    },
    {
     "name": "stderr",
     "output_type": "stream",
     "text": [
      "Xformers is not installed correctly. If you want to use memorry_efficient_attention to accelerate training use the following command to install Xformers\n",
      "pip install xformers.\n"
     ]
    }
   ],
   "source": [
    "import os\n",
    "from transformers import pipeline\n",
    "\n",
    "tokenizer = AutoTokenizer.from_pretrained(MODEL_NAME, padding_side=\"right\")\n",
    "\n",
    "ckpt_path = os.path.join(result.checkpoint.path, \"checkpoint.ckpt\")\n",
    "\n",
    "dolly = DollyV2Model.load_from_checkpoint(ckpt_path, map_location=torch.device(\"cpu\"))\n",
    "\n",
    "nlp_pipeline = pipeline(\n",
    "    task=\"text-generation\", \n",
    "    model=dolly.model, \n",
    "    tokenizer=tokenizer, \n",
    "    device_map=\"auto\"\n",
    ")\n"
   ]
  },
  {
   "cell_type": "code",
   "execution_count": 18,
   "metadata": {
    "tags": []
   },
   "outputs": [
    {
     "name": "stdout",
     "output_type": "stream",
     "text": [
      "[{'generated_text': 'This is a very important point. Your brain naturally defaults to the negation of this clause. As a programmer'}]\n",
      "[{'generated_text': 'I am the first person the the Doctor ever talked to about his experiences in the Daleks. I was the'}]\n",
      "[{'generated_text': 'Once more, the city of Austin is being plagued with the Zika virus, which can cause severe birth defects'}]\n",
      "\u001b[2m\u001b[1m\u001b[36m(autoscaler +32m49s)\u001b[0m [workspace snapshot] New snapshot created successfully (size: 464.79 KB).\n",
      "\u001b[2m\u001b[1m\u001b[36m(autoscaler +37m51s)\u001b[0m [workspace snapshot] New snapshot created successfully (size: 463.93 KB).\n",
      "\u001b[2m\u001b[1m\u001b[36m(autoscaler +42m51s)\u001b[0m [workspace snapshot] New snapshot created successfully (size: 464.10 KB).\n"
     ]
    }
   ],
   "source": [
    "for prompt in [\"This is\", \"I am\", \"Once more\"]:\n",
    "    print(nlp_pipeline(prompt, max_new_tokens=20, do_sample=True, pad_token_id=tokenizer.eos_token_id))"
   ]
  },
  {
   "cell_type": "markdown",
   "metadata": {},
   "source": [
    "References:\n",
    "- [PyTorch FSDP Tutorial](https://www.youtube.com/watch?v=8_k76AHu__s&list=PL_lsbAsL_o2BT6aerEKgIoufVD_fodnuT)\n",
    "- [Getting Started with Fully Sharded Data Parallel(FSDP)](https://pytorch.org/tutorials/intermediate/FSDP_tutorial.html#:~:text=FSDP%20is%20a%20type%20of,sizes%20for%20our%20training%20job.)\n",
    "- [Fully Sharded Data Parallel: faster AI training with fewer GPUs](https://engineering.fb.com/2021/07/15/open-source/fsdp/)\n",
    "- [Hugging Face: dolly-v2-7b Model Card](https://huggingface.co/databricks/dolly-v2-7b)\n",
    "- [Hugging Face: Handling big models for inference](https://huggingface.co/docs/accelerate/usage_guides/big_modeling)"
   ]
  }
 ],
 "metadata": {
  "kernelspec": {
   "display_name": "Python 3 (ipykernel)",
   "language": "python",
   "name": "python3"
  },
  "language_info": {
   "codemirror_mode": {
    "name": "ipython",
    "version": 3
   },
   "file_extension": ".py",
   "mimetype": "text/x-python",
   "name": "python",
   "nbconvert_exporter": "python",
   "pygments_lexer": "ipython3",
   "version": "3.8.13"
  },
  "orphan": true
 },
 "nbformat": 4,
 "nbformat_minor": 4
}
