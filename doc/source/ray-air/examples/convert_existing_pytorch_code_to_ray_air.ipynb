{
 "cells": [
  {
   "cell_type": "markdown",
   "id": "16a75f79",
   "metadata": {},
   "source": [
    "# Convert existing PyTorch code to Ray AIR\n",
    "\n",
    "If you already have working PyTorch code, you don't have to start from scratch to utilize the benefits of Ray AIR. Instead, you can continue to use your existing code and incrementally add Ray AIR components as needed.\n",
    "\n",
    "Some of the benefits you'll get by using Ray AIR with your existing PyTorch training code:\n",
    "\n",
    "- Easy distributed data-parallel training on a cluster\n",
    "- Automatic checkpointing/fault tolerance and result tracking\n",
    "- Parallel data preprocessing\n",
    "- Seamless integration with hyperparameter tuning\n",
    "- Scalable batch prediction\n",
    "- Scalable model serving\n",
    "\n",
    "This tutorial will show you how to start with Ray AIR from your existing PyTorch training code. We will learn how to **distribute your training** and do **scalable batch prediction**.\n"
   ]
  },
  {
   "cell_type": "markdown",
   "id": "9a4855cf",
   "metadata": {},
   "source": [
    "## The example code\n",
    "\n",
    "The example code we'll be using is that of the [PyTorch quickstart tutorial](https://pytorch.org/tutorials/beginner/basics/quickstart_tutorial.html). This code trains a neural network classifier on the FashionMNIST dataset.\n",
    "\n",
    "You can find the code we used for this tutorial [here on GitHub](https://github.com/pytorch/tutorials/blob/8dddccc4c69116ca724aa82bd5f4596ef7ad119c/beginner_source/basics/quickstart_tutorial.py)."
   ]
  },
  {
   "cell_type": "markdown",
   "id": "a42faedb",
   "metadata": {},
   "source": [
    "## Unmodified\n",
    "Let's start with the unmodified code from the example. A thorough explanation of the parts is given in the full tutorial - we'll just focus on the code here.\n",
    "\n",
    "We start with some imports:"
   ]
  },
  {
   "cell_type": "code",
   "execution_count": null,
   "id": "01af2222",
   "metadata": {},
   "outputs": [],
   "source": [
    "import torch\n",
    "from torch import nn\n",
    "from torch.utils.data import DataLoader\n",
    "from torchvision import datasets\n",
    "from torchvision.transforms import ToTensor"
   ]
  },
  {
   "cell_type": "markdown",
   "id": "db36ae56",
   "metadata": {},
   "source": [
    "Then we download the data:"
   ]
  },
  {
   "cell_type": "code",
   "execution_count": null,
   "id": "28126be5",
   "metadata": {},
   "outputs": [],
   "source": [
    "# Download training data from open datasets.\n",
    "training_data = datasets.FashionMNIST(\n",
    "    root=\"data\",\n",
    "    train=True,\n",
    "    download=True,\n",
    "    transform=ToTensor(),\n",
    ")\n",
    "\n",
    "# Download test data from open datasets.\n",
    "test_data = datasets.FashionMNIST(\n",
    "    root=\"data\",\n",
    "    train=False,\n",
    "    download=True,\n",
    "    transform=ToTensor(),\n",
    ")\n"
   ]
  },
  {
   "cell_type": "markdown",
   "id": "9795c146",
   "metadata": {},
   "source": [
    "We can now define the dataloaders:"
   ]
  },
  {
   "cell_type": "code",
   "execution_count": null,
   "id": "b99cac23",
   "metadata": {},
   "outputs": [],
   "source": [
    "batch_size = 64\n",
    "\n",
    "# Create data loaders.\n",
    "train_dataloader = DataLoader(training_data, batch_size=batch_size)\n",
    "test_dataloader = DataLoader(test_data, batch_size=batch_size)"
   ]
  },
  {
   "cell_type": "markdown",
   "id": "ae11399e",
   "metadata": {},
   "source": [
    "We can then define and instantiate the neural network:"
   ]
  },
  {
   "cell_type": "code",
   "execution_count": null,
   "id": "3b027562",
   "metadata": {},
   "outputs": [],
   "source": [
    "# Get cpu or gpu device for training.\n",
    "device = \"cuda\" if torch.cuda.is_available() else \"cpu\"\n",
    "print(f\"Using {device} device\")\n",
    "\n",
    "# Define model\n",
    "class NeuralNetwork(nn.Module):\n",
    "    def __init__(self):\n",
    "        super(NeuralNetwork, self).__init__()\n",
    "        self.flatten = nn.Flatten()\n",
    "        self.linear_relu_stack = nn.Sequential(\n",
    "            nn.Linear(28*28, 512),\n",
    "            nn.ReLU(),\n",
    "            nn.Linear(512, 512),\n",
    "            nn.ReLU(),\n",
    "            nn.Linear(512, 10)\n",
    "        )\n",
    "\n",
    "    def forward(self, x):\n",
    "        x = self.flatten(x)\n",
    "        logits = self.linear_relu_stack(x)\n",
    "        return logits\n",
    "\n",
    "model = NeuralNetwork().to(device)\n",
    "print(model)"
   ]
  },
  {
   "cell_type": "markdown",
   "id": "b692d06a",
   "metadata": {},
   "source": [
    "Define our optimizer and loss:"
   ]
  },
  {
   "cell_type": "code",
   "execution_count": null,
   "id": "efe92797",
   "metadata": {},
   "outputs": [],
   "source": [
    "loss_fn = nn.CrossEntropyLoss()\n",
    "optimizer = torch.optim.SGD(model.parameters(), lr=1e-3)"
   ]
  },
  {
   "cell_type": "markdown",
   "id": "681d5798",
   "metadata": {},
   "source": [
    "And finally our training loop. Note that we renamed the function from `train` to `train_epoch` to avoid conflicts with the Ray Train module later (which is also called `train`):"
   ]
  },
  {
   "cell_type": "code",
   "execution_count": null,
   "id": "2ce258ed",
   "metadata": {},
   "outputs": [],
   "source": [
    "def train_epoch(dataloader, model, loss_fn, optimizer):\n",
    "    size = len(dataloader.dataset)\n",
    "    model.train()\n",
    "    for batch, (X, y) in enumerate(dataloader):\n",
    "        X, y = X.to(device), y.to(device)\n",
    "\n",
    "        # Compute prediction error\n",
    "        pred = model(X)\n",
    "        loss = loss_fn(pred, y)\n",
    "\n",
    "        # Backpropagation\n",
    "        optimizer.zero_grad()\n",
    "        loss.backward()\n",
    "        optimizer.step()\n",
    "\n",
    "        if batch % 100 == 0:\n",
    "            loss, current = loss.item(), batch * len(X)\n",
    "            print(f\"loss: {loss:>7f}  [{current:>5d}/{size:>5d}]\")"
   ]
  },
  {
   "cell_type": "markdown",
   "id": "6621cffa",
   "metadata": {},
   "source": [
    "And while we're at it, here is our validation loop (note that we sneaked in a `return test_loss` statement and also renamed the function):"
   ]
  },
  {
   "cell_type": "code",
   "execution_count": null,
   "id": "bbefec77",
   "metadata": {},
   "outputs": [],
   "source": [
    "def test_epoch(dataloader, model, loss_fn):\n",
    "    size = len(dataloader.dataset)\n",
    "    num_batches = len(dataloader)\n",
    "    model.eval()\n",
    "    test_loss, correct = 0, 0\n",
    "    with torch.no_grad():\n",
    "        for X, y in dataloader:\n",
    "            X, y = X.to(device), y.to(device)\n",
    "            pred = model(X)\n",
    "            test_loss += loss_fn(pred, y).item()\n",
    "            correct += (pred.argmax(1) == y).type(torch.float).sum().item()\n",
    "    test_loss /= num_batches\n",
    "    correct /= size\n",
    "    print(f\"Test Error: \\n Accuracy: {(100*correct):>0.1f}%, Avg loss: {test_loss:>8f} \\n\")\n",
    "    return test_loss"
   ]
  },
  {
   "cell_type": "markdown",
   "id": "d915d788",
   "metadata": {},
   "source": [
    "Now we can trigger training and save a model:"
   ]
  },
  {
   "cell_type": "code",
   "execution_count": null,
   "id": "27f80fc7",
   "metadata": {},
   "outputs": [],
   "source": [
    "epochs = 5\n",
    "for t in range(epochs):\n",
    "    print(f\"Epoch {t+1}\\n-------------------------------\")\n",
    "    train_epoch(train_dataloader, model, loss_fn, optimizer)\n",
    "    test_epoch(test_dataloader, model, loss_fn)\n",
    "print(\"Done!\")"
   ]
  },
  {
   "cell_type": "code",
   "execution_count": null,
   "id": "e62fc82b",
   "metadata": {},
   "outputs": [],
   "source": [
    "torch.save(model.state_dict(), \"model.pth\")\n",
    "print(\"Saved PyTorch Model State to model.pth\")"
   ]
  },
  {
   "cell_type": "markdown",
   "id": "6655d903",
   "metadata": {},
   "source": [
    "We'll cover the rest of the tutorial (loading the model and doing batch prediction) later!"
   ]
  },
  {
   "cell_type": "markdown",
   "id": "d0b98b1c",
   "metadata": {},
   "source": [
    "## Introducing a wrapper function (no Ray AIR, yet!)\n",
    "The notebook-style from the tutorial is great for tutorials, but in your production code you probably wrapped the actual training logic in a function. So let's do this here, too.\n",
    "\n",
    "Note that we do not add or alter any code here (apart from variable definitions) - we just take the loose bits of code in the current tutorial and put them into one function."
   ]
  },
  {
   "cell_type": "code",
   "execution_count": null,
   "id": "aacdf4a6",
   "metadata": {},
   "outputs": [],
   "source": [
    "def train_func():\n",
    "    batch_size = 64\n",
    "    lr = 1e-3\n",
    "    epochs = 5\n",
    "    \n",
    "    # Create data loaders.\n",
    "    train_dataloader = DataLoader(training_data, batch_size=batch_size)\n",
    "    test_dataloader = DataLoader(test_data, batch_size=batch_size)\n",
    "    \n",
    "    # Get cpu or gpu device for training.\n",
    "    device = \"cuda\" if torch.cuda.is_available() else \"cpu\"\n",
    "    print(f\"Using {device} device\")\n",
    "    \n",
    "    model = NeuralNetwork().to(device)\n",
    "    print(model)\n",
    "    \n",
    "    loss_fn = nn.CrossEntropyLoss()\n",
    "    optimizer = torch.optim.SGD(model.parameters(), lr=lr)\n",
    "    \n",
    "    for t in range(epochs):\n",
    "        print(f\"Epoch {t+1}\\n-------------------------------\")\n",
    "        train_epoch(train_dataloader, model, loss_fn, optimizer)\n",
    "        test_epoch(test_dataloader, model, loss_fn)\n",
    "\n",
    "    print(\"Done!\")"
   ]
  },
  {
   "cell_type": "markdown",
   "id": "60f7341a",
   "metadata": {},
   "source": [
    "Let's see it in action again:"
   ]
  },
  {
   "cell_type": "code",
   "execution_count": null,
   "id": "7130c361",
   "metadata": {},
   "outputs": [],
   "source": [
    "train_func()"
   ]
  },
  {
   "cell_type": "markdown",
   "id": "b3df2581",
   "metadata": {},
   "source": [
    "The output should look very similar to the previous ouput."
   ]
  },
  {
   "cell_type": "markdown",
   "id": "abe8e708",
   "metadata": {},
   "source": [
    "## Starting with Ray AIR: Distribute the training\n",
    "\n",
    "As a first step, we want to distribute the training across multiple workers. For this we want to\n",
    "\n",
    "1. Use data-parallel training by sharding the training data\n",
    "2. Setup the model to communicate gradient updates across machines\n",
    "3. Report the results back to Ray Train.\n",
    "\n",
    "\n",
    "To facilitate this, we only need a few changes to the code:\n",
    "\n",
    "1. We import Ray Train and Ray AIR Session:\n",
    "\n",
    "```python\n",
    "import ray.train as train\n",
    "from ray.air import session\n",
    "```\n",
    "\n",
    "\n",
    "2. We use a `config` dict to configure some hyperparameters (this is not strictly needed but good practice, especially if you want to o hyperparameter tuning later):\n",
    "\n",
    "```python\n",
    "def train_func(config: dict):\n",
    "    batch_size = config[\"batch_size\"]\n",
    "    lr = config[\"lr\"]\n",
    "    epochs = config[\"epochs\"]\n",
    "```\n",
    "\n",
    "3. We dynamically adjust the worker batch size according to the number of workers:\n",
    "\n",
    "```python\n",
    "    batch_size_per_worker = batch_size // session.get_world_size()\n",
    "```\n",
    "\n",
    "4. We prepare the data loader for distributed data sharding:\n",
    "\n",
    "```python\n",
    "    train_dataloader = train.torch.prepare_data_loader(train_dataloader)\n",
    "    test_dataloader = train.torch.prepare_data_loader(test_dataloader)\n",
    "```\n",
    "\n",
    "5. We prepare the model for distributed gradient updates:\n",
    "\n",
    "```python\n",
    "    model = train.torch.prepare_model(model)\n",
    "```\n",
    "\n",
    "Note that `train.torch.prepare_model()` also automatically takes care of setting up devices (e.g. GPU training) - so we can get rid of those lines in our current code!\n",
    "\n",
    "\n",
    "6. We capture the validation loss and report it to Ray train:\n",
    "\n",
    "```python\n",
    "        test_loss = test(test_dataloader, model, loss_fn)\n",
    "        session.report(dict(loss=test_loss))\n",
    "```\n",
    "\n",
    "7. In the `train_epoch()` and `test_epoch()` functions we divide the `size` by the world size:\n",
    "\n",
    "```python\n",
    "    size = len(dataloader.dataset) // session.get_world_size()  # Divide by word size\n",
    "```\n",
    "\n",
    "8. In the `train_epoch()` function we can get rid of the device mapping. Ray Train does this for us:\n",
    "\n",
    "```python\n",
    "        # We don't need this anymore! Ray Train does this automatically:\n",
    "        # X, y = X.to(device), y.to(device) \n",
    "```\n",
    "\n",
    "That's it - you need less than 10 lines of Ray Train-specific code and can otherwise continue to use your original code.\n",
    "\n",
    "Let's take a look at the resulting code. First the `train_epoch()` function (2 lines changed, and we also commented out the print statement):"
   ]
  },
  {
   "cell_type": "code",
   "execution_count": null,
   "id": "50b2f602",
   "metadata": {},
   "outputs": [],
   "source": [
    "def train_epoch(dataloader, model, loss_fn, optimizer):\n",
    "    size = len(dataloader.dataset) // session.get_world_size()  # Divide by word size\n",
    "    model.train()\n",
    "    for batch, (X, y) in enumerate(dataloader):\n",
    "        # We don't need this anymore! Ray Train does this automatically:\n",
    "        # X, y = X.to(device), y.to(device)  \n",
    "\n",
    "        # Compute prediction error\n",
    "        pred = model(X)\n",
    "        loss = loss_fn(pred, y)\n",
    "\n",
    "        # Backpropagation\n",
    "        optimizer.zero_grad()\n",
    "        loss.backward()\n",
    "        optimizer.step()\n",
    "\n",
    "        if batch % 100 == 0:\n",
    "            loss, current = loss.item(), batch * len(X)\n",
    "            # print(f\"loss: {loss:>7f}  [{current:>5d}/{size:>5d}]\")"
   ]
  },
  {
   "cell_type": "markdown",
   "id": "6e260f44",
   "metadata": {},
   "source": [
    "Then the `test_epoch()` function (1 line changed, and we also commented out the print statement):"
   ]
  },
  {
   "cell_type": "code",
   "execution_count": null,
   "id": "72aa3e48",
   "metadata": {},
   "outputs": [],
   "source": [
    "def test_epoch(dataloader, model, loss_fn):\n",
    "    size = len(dataloader.dataset) // session.get_world_size()  # Divide by word size\n",
    "    num_batches = len(dataloader)\n",
    "    model.eval()\n",
    "    test_loss, correct = 0, 0\n",
    "    with torch.no_grad():\n",
    "        for X, y in dataloader:\n",
    "            X, y = X.to(device), y.to(device)\n",
    "            pred = model(X)\n",
    "            test_loss += loss_fn(pred, y).item()\n",
    "            correct += (pred.argmax(1) == y).type(torch.float).sum().item()\n",
    "    test_loss /= num_batches\n",
    "    correct /= size\n",
    "    # print(f\"Test Error: \\n Accuracy: {(100*correct):>0.1f}%, Avg loss: {test_loss:>8f} \\n\")\n",
    "    return test_loss"
   ]
  },
  {
   "cell_type": "markdown",
   "id": "cf280e6a",
   "metadata": {},
   "source": [
    "And lastly, the wrapping `train_func()` where we added 4 lines and modified 2 (apart from the config dict):"
   ]
  },
  {
   "cell_type": "code",
   "execution_count": null,
   "id": "3f79c731",
   "metadata": {},
   "outputs": [],
   "source": [
    "import ray.train as train\n",
    "from ray.air import session\n",
    "\n",
    "def train_func(config: dict):\n",
    "    batch_size = config[\"batch_size\"]\n",
    "    lr = config[\"lr\"]\n",
    "    epochs = config[\"epochs\"]\n",
    "    \n",
    "    batch_size_per_worker = batch_size // session.get_world_size()\n",
    "    \n",
    "    # Create data loaders.\n",
    "    train_dataloader = DataLoader(training_data, batch_size=batch_size_per_worker)\n",
    "    test_dataloader = DataLoader(test_data, batch_size=batch_size_per_worker)\n",
    "    \n",
    "    train_dataloader = train.torch.prepare_data_loader(train_dataloader)\n",
    "    test_dataloader = train.torch.prepare_data_loader(test_dataloader)\n",
    "    \n",
    "    model = NeuralNetwork()\n",
    "    model = train.torch.prepare_model(model)\n",
    "    \n",
    "    loss_fn = nn.CrossEntropyLoss()\n",
    "    optimizer = torch.optim.SGD(model.parameters(), lr=lr)\n",
    "    \n",
    "    for t in range(epochs):\n",
    "        train_epoch(train_dataloader, model, loss_fn, optimizer)\n",
    "        test_loss = test_epoch(test_dataloader, model, loss_fn)\n",
    "        session.report(dict(loss=test_loss))\n",
    "\n",
    "    print(\"Done!\")"
   ]
  },
  {
   "cell_type": "markdown",
   "id": "0fc52cc7",
   "metadata": {},
   "source": [
    "Now we'll use Ray Train's TorchTrainer to kick off the training. Note that we can set the hyperparmameters here! In the `scaling_config` we can also configure how many parallel workers to use and if we want to enable GPU training or not."
   ]
  },
  {
   "cell_type": "code",
   "execution_count": null,
   "id": "939e767f",
   "metadata": {},
   "outputs": [],
   "source": [
    "from ray.train.torch import TorchTrainer\n",
    "\n",
    "\n",
    "trainer = TorchTrainer(\n",
    "    train_loop_per_worker=train_func,\n",
    "    train_loop_config={\"lr\": 1e-3, \"batch_size\": 64, \"epochs\": 4},\n",
    "    scaling_config={\"num_workers\": 2, \"use_gpu\": False},\n",
    ")\n",
    "result = trainer.fit()\n",
    "print(f\"Last result: {result.metrics}\")"
   ]
  },
  {
   "cell_type": "markdown",
   "id": "341f4fd8",
   "metadata": {},
   "source": [
    "Great, this works! You're now training your model in parallel. You could now scale this up to more nodes and workers on your Ray cluster.\n",
    "\n",
    "But there are a few improvements we can make to the code in order to get the most of the system. For one, we should enable **checkpointing** to get access to the trained model afterwards. Additionally, we should optimize the **data loading** to take place within the workers."
   ]
  },
  {
   "cell_type": "markdown",
   "id": "3bbe06f3",
   "metadata": {},
   "source": [
    "### Enabling checkpointing to retrieve the model\n",
    "Enabling checkpointing is pretty easy - we just need to pass a `Checkpoint` object with the model state to the `session.report()` API.\n",
    "\n",
    "```python\n",
    "    from ray.air import Checkpoint\n",
    "\n",
    "    checkpoint = Checkpoint.from_dict(\n",
    "        dict(epoch=t, model=model.module.state_dict())\n",
    "    )\n",
    "    session.report(dict(loss=test_loss), checkpoint=checkpoint)\n",
    "```\n",
    "\n",
    "Note that the `model.module` part is needed because the model gets wrapped in `torch.nn.DistributedDataParallel` by `train.torch.prepare_model`.\n",
    "\n",
    "### Move the data loader to the training function\n",
    "\n",
    "You may have noticed a warning: `Warning: The actor TrainTrainable is very large (52 MiB). Check that its definition is not implicitly capturing a large array or other object in scope. Tip: use ray.put() to put large objects in the Ray object store.`.\n",
    "\n",
    "This is because we load the data outside the training function. Ray then serializes it to make it accessible to the remote tasks (that may get executed on a remote node!). This is not too bad with just 52 MB of data, but imagine this were a full image dataset - you wouldn't want to ship this around the cluster unnecessarily. Instead, you should move the dataset loading part into the `train_func()`. This will then download the data *to disk* once per machine and result in much more efficient data loading.\n",
    "\n",
    "The result looks like this:"
   ]
  },
  {
   "cell_type": "code",
   "execution_count": null,
   "id": "059953f8",
   "metadata": {},
   "outputs": [],
   "source": [
    "from ray.air import Checkpoint\n",
    "\n",
    "def load_data():\n",
    "    # Download training data from open datasets.\n",
    "    training_data = datasets.FashionMNIST(\n",
    "        root=\"data\",\n",
    "        train=True,\n",
    "        download=True,\n",
    "        transform=ToTensor(),\n",
    "    )\n",
    "\n",
    "    # Download test data from open datasets.\n",
    "    test_data = datasets.FashionMNIST(\n",
    "        root=\"data\",\n",
    "        train=False,\n",
    "        download=True,\n",
    "        transform=ToTensor(),\n",
    "    )\n",
    "    return training_data, test_data\n",
    "\n",
    "\n",
    "def train_func(config: dict):\n",
    "    batch_size = config[\"batch_size\"]\n",
    "    lr = config[\"lr\"]\n",
    "    epochs = config[\"epochs\"]\n",
    "    \n",
    "    batch_size_per_worker = batch_size // session.get_world_size()\n",
    "    \n",
    "    training_data, test_data = load_data()  # <- this is new!\n",
    "    \n",
    "    # Create data loaders.\n",
    "    train_dataloader = DataLoader(training_data, batch_size=batch_size_per_worker)\n",
    "    test_dataloader = DataLoader(test_data, batch_size=batch_size_per_worker)\n",
    "    \n",
    "    train_dataloader = train.torch.prepare_data_loader(train_dataloader)\n",
    "    test_dataloader = train.torch.prepare_data_loader(test_dataloader)\n",
    "    \n",
    "    model = NeuralNetwork()\n",
    "    model = train.torch.prepare_model(model)\n",
    "    \n",
    "    loss_fn = nn.CrossEntropyLoss()\n",
    "    optimizer = torch.optim.SGD(model.parameters(), lr=lr)\n",
    "    \n",
    "    for t in range(epochs):\n",
    "        train_epoch(train_dataloader, model, loss_fn, optimizer)\n",
    "        test_loss = test_epoch(test_dataloader, model, loss_fn)\n",
    "        checkpoint = Checkpoint.from_dict(\n",
    "            dict(epoch=t, model=model.module.state_dict())\n",
    "        )\n",
    "        session.report(dict(loss=test_loss), checkpoint=checkpoint)\n",
    "\n",
    "    print(\"Done!\")"
   ]
  },
  {
   "cell_type": "markdown",
   "id": "d2af219d",
   "metadata": {},
   "source": [
    "Let's train again:"
   ]
  },
  {
   "cell_type": "code",
   "execution_count": null,
   "id": "de249d61",
   "metadata": {},
   "outputs": [],
   "source": [
    "trainer = TorchTrainer(\n",
    "    train_loop_per_worker=train_func,\n",
    "    train_loop_config={\"lr\": 1e-3, \"batch_size\": 64, \"epochs\": 4},\n",
    "    scaling_config={\"num_workers\": 2, \"use_gpu\": False},\n",
    ")\n",
    "result = trainer.fit()\n"
   ]
  },
  {
   "cell_type": "markdown",
   "id": "534ed4df",
   "metadata": {},
   "source": [
    "We can see our results here:"
   ]
  },
  {
   "cell_type": "code",
   "execution_count": null,
   "id": "b81ca48f",
   "metadata": {},
   "outputs": [],
   "source": [
    "print(f\"Last result: {result.metrics}\")\n",
    "print(f\"Checkpoint: {result.checkpoint}\")"
   ]
  },
  {
   "cell_type": "markdown",
   "id": "b6b15d88",
   "metadata": {},
   "source": [
    "## Loading the model for prediction\n",
    "You may have noticed that we skipped one part of the original tutorial - loading the model and using it for inference. The original code looks like this (we've wrapped it in a function):"
   ]
  },
  {
   "cell_type": "code",
   "execution_count": null,
   "id": "68e664ff",
   "metadata": {},
   "outputs": [],
   "source": [
    "def predict_from_model(model):\n",
    "    classes = [\n",
    "        \"T-shirt/top\",\n",
    "        \"Trouser\",\n",
    "        \"Pullover\",\n",
    "        \"Dress\",\n",
    "        \"Coat\",\n",
    "        \"Sandal\",\n",
    "        \"Shirt\",\n",
    "        \"Sneaker\",\n",
    "        \"Bag\",\n",
    "        \"Ankle boot\",\n",
    "    ]\n",
    "\n",
    "    model.eval()\n",
    "    x, y = test_data[0][0], test_data[0][1]\n",
    "    with torch.no_grad():\n",
    "        pred = model(x)\n",
    "        predicted, actual = classes[pred[0].argmax(0)], classes[y]\n",
    "        print(f'Predicted: \"{predicted}\", Actual: \"{actual}\"')\n"
   ]
  },
  {
   "cell_type": "markdown",
   "id": "1abf022a",
   "metadata": {},
   "source": [
    "We can use our saved model with the existing code to do prediction:"
   ]
  },
  {
   "cell_type": "code",
   "execution_count": null,
   "id": "0c135a17",
   "metadata": {},
   "outputs": [],
   "source": [
    "from ray.train.torch import load_checkpoint\n",
    "\n",
    "model, _ = load_checkpoint(result.checkpoint, NeuralNetwork())\n",
    "\n",
    "predict_from_model(model)"
   ]
  },
  {
   "cell_type": "markdown",
   "id": "f6fc1441",
   "metadata": {},
   "source": [
    "To predict more than one example, we can use a loop:"
   ]
  },
  {
   "cell_type": "code",
   "execution_count": null,
   "id": "17652fa1",
   "metadata": {},
   "outputs": [],
   "source": [
    "classes = [\n",
    "    \"T-shirt/top\",\n",
    "    \"Trouser\",\n",
    "    \"Pullover\",\n",
    "    \"Dress\",\n",
    "    \"Coat\",\n",
    "    \"Sandal\",\n",
    "    \"Shirt\",\n",
    "    \"Sneaker\",\n",
    "    \"Bag\",\n",
    "    \"Ankle boot\",\n",
    "]\n",
    "\n",
    "def predict_from_model(model, data):\n",
    "    model.eval()\n",
    "    with torch.no_grad():\n",
    "        for x, y in data:\n",
    "            pred = model(x)\n",
    "            predicted, actual = classes[pred[0].argmax(0)], classes[y]\n",
    "            print(f'Predicted: \"{predicted}\", Actual: \"{actual}\"')\n"
   ]
  },
  {
   "cell_type": "code",
   "execution_count": null,
   "id": "3bc14ed6",
   "metadata": {},
   "outputs": [],
   "source": [
    "predict_from_model(model, [test_data[i] for i in range(10)])"
   ]
  },
  {
   "cell_type": "markdown",
   "id": "a0ce0733",
   "metadata": {},
   "source": [
    "## Using Ray AIR for scalable batch prediction\n",
    "However, we can also use Ray AIRs `BatchPredictor` class to do scalable prediction."
   ]
  },
  {
   "cell_type": "code",
   "execution_count": null,
   "id": "4d8b0f50",
   "metadata": {},
   "outputs": [],
   "source": [
    "from ray.train.batch_predictor import BatchPredictor\n",
    "from ray.train.torch import TorchPredictor\n",
    "\n",
    "batch_predictor = BatchPredictor.from_checkpoint(result.checkpoint, TorchPredictor, model=NeuralNetwork())"
   ]
  },
  {
   "cell_type": "markdown",
   "id": "ad556eeb",
   "metadata": {},
   "source": [
    "Batch predictors work with Ray Datasets. Here we convert our test dataset into a Ray Dataset - note that this is not very efficient, and you can look at our {ref}`other tutorials <air-examples-ref>` to see more efficient ways to generate a Ray Dataset."
   ]
  },
  {
   "cell_type": "code",
   "execution_count": null,
   "id": "8cb0556f",
   "metadata": {},
   "outputs": [],
   "source": [
    "import ray.data\n",
    "\n",
    "ds = ray.data.from_items([x for x, y in test_data])"
   ]
  },
  {
   "cell_type": "markdown",
   "id": "264dd2e4",
   "metadata": {},
   "source": [
    "We can then trigger prediction with two workers:"
   ]
  },
  {
   "cell_type": "code",
   "execution_count": null,
   "id": "8a823f7a",
   "metadata": {},
   "outputs": [],
   "source": [
    "results = batch_predictor.predict(ds, min_scoring_workers=2)"
   ]
  },
  {
   "cell_type": "markdown",
   "id": "41094a55",
   "metadata": {},
   "source": [
    "`results` is another Ray Dataset. We can use `results.show()` to see our prediction results:"
   ]
  },
  {
   "cell_type": "code",
   "execution_count": null,
   "id": "d3dce40d",
   "metadata": {},
   "outputs": [],
   "source": [
    "results.show()"
   ]
  },
  {
   "cell_type": "markdown",
   "id": "427b68e8",
   "metadata": {},
   "source": [
    "If we want to convert these predictions into class names (as in the original example), we can use a `map` function to do this:"
   ]
  },
  {
   "cell_type": "code",
   "execution_count": null,
   "id": "f17b5c10",
   "metadata": {},
   "outputs": [],
   "source": [
    "predicted_classes = results.map_batches(\n",
    "    lambda batch: [classes[pred.argmax(0)] for pred in batch[\"predictions\"]], \n",
    "    batch_format=\"pandas\")"
   ]
  },
  {
   "cell_type": "markdown",
   "id": "cb7040db",
   "metadata": {},
   "source": [
    "To compare this with the actual labels, let's create a Ray dataset for these and zip it together with the predicted classes:"
   ]
  },
  {
   "cell_type": "code",
   "execution_count": null,
   "id": "207e13b9",
   "metadata": {},
   "outputs": [],
   "source": [
    "real_classes = ray.data.from_items([classes[y] for x, y in test_data])\n",
    "merged = predicted_classes.zip(real_classes)"
   ]
  },
  {
   "cell_type": "markdown",
   "id": "18b1012c",
   "metadata": {},
   "source": [
    "Let's examine our results:"
   ]
  },
  {
   "cell_type": "code",
   "execution_count": null,
   "id": "2b2decc6",
   "metadata": {},
   "outputs": [],
   "source": [
    "merged.show()"
   ]
  },
  {
   "cell_type": "markdown",
   "id": "2963e1f7",
   "metadata": {},
   "source": [
    "## Summary\n",
    "\n",
    "This tutorial demonstrated how to turn your existing PyTorch code into code you can use with Ray AIR.\n",
    "\n",
    "We learned how to\n",
    "- enable distributed training using Ray Train abstractions\n",
    "- save and retrieve model checkpoints via Ray AIR\n",
    "- load a model for batch prediction\n",
    "\n",
    "In our {ref}`other examples <air-examples-ref>` you can learn how to do more things with the Ray AIR API, such as **serving your model with Ray Serve** or **tune your hyperparameters with Ray Tune.** You can also learn how to **construct Ray Datasets** to leverage Ray AIR's **preprocessing** API.\n",
    "\n",
    "We hope this tutorial gave you a good starting point to leverage Ray AIR. If you have any questions, suggestions, or run into any problems pelase reach out on [Discuss](https://discuss.ray.io/) or [GitHub](https://github.com/ray-project/ray)!"
   ]
  }
 ],
 "metadata": {
  "kernelspec": {
   "display_name": "Python 3.7.4 ('base')",
   "language": "python",
   "name": "python3"
  },
  "language_info": {
   "codemirror_mode": {
    "name": "ipython",
    "version": 3
   },
   "file_extension": ".py",
   "mimetype": "text/x-python",
   "name": "python",
   "nbconvert_exporter": "python",
   "pygments_lexer": "ipython3",
   "version": "3.7.4"
  },
  "vscode": {
   "interpreter": {
    "hash": "646ee6e5a897ae61b1bbe55932d1593c427413a448a15c25757a162e13c61459"
   }
  }
 },
 "nbformat": 4,
 "nbformat_minor": 5
}
