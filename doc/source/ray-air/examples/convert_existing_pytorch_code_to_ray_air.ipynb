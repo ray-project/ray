{
 "cells": [
  {
   "cell_type": "markdown",
   "id": "16a75f79",
   "metadata": {},
   "source": [
    "# Convert existing PyTorch code to Ray AIR\n",
    "\n",
    "If you already have working PyTorch code, you don't have to start from scratch to utilize the benefits of Ray AIR. Instead, you can continue to use your existing code and incrementally add Ray AIR components as needed.\n",
    "\n",
    "Some of the benefits you'll get by using Ray AIR with your existing PyTorch training code:\n",
    "\n",
    "- Easy distributed data-parallel training on a cluster\n",
    "- Automatic checkpointing/fault tolerance and result tracking\n",
    "- Parallel data preprocessing\n",
    "- Seamless integration with hyperparameter tuning\n",
    "- Scalable batch prediction\n",
    "- Scalable model serving\n",
    "\n",
    "This tutorial will show you how to start with Ray AIR from your existing PyTorch training code. We will learn how to **distribute your training** and do **scalable batch prediction**.\n"
   ]
  },
  {
   "cell_type": "markdown",
   "id": "9a4855cf",
   "metadata": {},
   "source": [
    "## The example code\n",
    "\n",
    "The example code we'll be using is that of the [PyTorch quickstart tutorial](https://pytorch.org/tutorials/beginner/basics/quickstart_tutorial.html). This code trains a neural network classifier on the FashionMNIST dataset.\n",
    "\n",
    "You can find the code we used for this tutorial [here on GitHub](https://github.com/pytorch/tutorials/blob/8dddccc4c69116ca724aa82bd5f4596ef7ad119c/beginner_source/basics/quickstart_tutorial.py)."
   ]
  },
  {
   "cell_type": "markdown",
   "id": "a42faedb",
   "metadata": {},
   "source": [
    "## Unmodified\n",
    "Let's start with the unmodified code from the example. A thorough explanation of the parts is given in the full tutorial - we'll just focus on the code here.\n",
    "\n",
    "We start with some imports:"
   ]
  },
  {
   "cell_type": "code",
   "execution_count": 1,
   "id": "01af2222",
   "metadata": {},
   "outputs": [],
   "source": [
    "import torch\n",
    "from torch import nn\n",
    "from torch.utils.data import DataLoader\n",
    "from torchvision import datasets\n",
    "from torchvision.transforms import ToTensor"
   ]
  },
  {
   "cell_type": "markdown",
   "id": "db36ae56",
   "metadata": {},
   "source": [
    "Then we download the data:"
   ]
  },
  {
   "cell_type": "code",
   "execution_count": 2,
   "id": "28126be5",
   "metadata": {},
   "outputs": [
    {
     "name": "stdout",
     "output_type": "stream",
     "text": [
      "Downloading http://fashion-mnist.s3-website.eu-central-1.amazonaws.com/train-images-idx3-ubyte.gz\n",
      "Downloading http://fashion-mnist.s3-website.eu-central-1.amazonaws.com/train-images-idx3-ubyte.gz to data/FashionMNIST/raw/train-images-idx3-ubyte.gz\n"
     ]
    },
    {
     "data": {
      "application/vnd.jupyter.widget-view+json": {
       "model_id": "763ad47190b1461285dc3ea3a8177e6f",
       "version_major": 2,
       "version_minor": 0
      },
      "text/plain": [
       "  0%|          | 0/26421880 [00:00<?, ?it/s]"
      ]
     },
     "metadata": {},
     "output_type": "display_data"
    },
    {
     "name": "stdout",
     "output_type": "stream",
     "text": [
      "Extracting data/FashionMNIST/raw/train-images-idx3-ubyte.gz to data/FashionMNIST/raw\n",
      "\n",
      "Downloading http://fashion-mnist.s3-website.eu-central-1.amazonaws.com/train-labels-idx1-ubyte.gz\n",
      "Downloading http://fashion-mnist.s3-website.eu-central-1.amazonaws.com/train-labels-idx1-ubyte.gz to data/FashionMNIST/raw/train-labels-idx1-ubyte.gz\n"
     ]
    },
    {
     "data": {
      "application/vnd.jupyter.widget-view+json": {
       "model_id": "ab72b933d81942d9b8d2b8fc11f63120",
       "version_major": 2,
       "version_minor": 0
      },
      "text/plain": [
       "  0%|          | 0/29515 [00:00<?, ?it/s]"
      ]
     },
     "metadata": {},
     "output_type": "display_data"
    },
    {
     "name": "stdout",
     "output_type": "stream",
     "text": [
      "Extracting data/FashionMNIST/raw/train-labels-idx1-ubyte.gz to data/FashionMNIST/raw\n",
      "\n",
      "Downloading http://fashion-mnist.s3-website.eu-central-1.amazonaws.com/t10k-images-idx3-ubyte.gz\n",
      "Downloading http://fashion-mnist.s3-website.eu-central-1.amazonaws.com/t10k-images-idx3-ubyte.gz to data/FashionMNIST/raw/t10k-images-idx3-ubyte.gz\n"
     ]
    },
    {
     "data": {
      "application/vnd.jupyter.widget-view+json": {
       "model_id": "06e73159e75d4aa2ac7f0f1ed37dc1e1",
       "version_major": 2,
       "version_minor": 0
      },
      "text/plain": [
       "  0%|          | 0/4422102 [00:00<?, ?it/s]"
      ]
     },
     "metadata": {},
     "output_type": "display_data"
    },
    {
     "name": "stdout",
     "output_type": "stream",
     "text": [
      "Extracting data/FashionMNIST/raw/t10k-images-idx3-ubyte.gz to data/FashionMNIST/raw\n",
      "\n",
      "Downloading http://fashion-mnist.s3-website.eu-central-1.amazonaws.com/t10k-labels-idx1-ubyte.gz\n",
      "Downloading http://fashion-mnist.s3-website.eu-central-1.amazonaws.com/t10k-labels-idx1-ubyte.gz to data/FashionMNIST/raw/t10k-labels-idx1-ubyte.gz\n"
     ]
    },
    {
     "data": {
      "application/vnd.jupyter.widget-view+json": {
       "model_id": "744109b83b7f47628a798a69f2b54d72",
       "version_major": 2,
       "version_minor": 0
      },
      "text/plain": [
       "  0%|          | 0/5148 [00:00<?, ?it/s]"
      ]
     },
     "metadata": {},
     "output_type": "display_data"
    },
    {
     "name": "stdout",
     "output_type": "stream",
     "text": [
      "Extracting data/FashionMNIST/raw/t10k-labels-idx1-ubyte.gz to data/FashionMNIST/raw\n",
      "\n"
     ]
    }
   ],
   "source": [
    "# Download training data from open datasets.\n",
    "training_data = datasets.FashionMNIST(\n",
    "    root=\"data\",\n",
    "    train=True,\n",
    "    download=True,\n",
    "    transform=ToTensor(),\n",
    ")\n",
    "\n",
    "# Download test data from open datasets.\n",
    "test_data = datasets.FashionMNIST(\n",
    "    root=\"data\",\n",
    "    train=False,\n",
    "    download=True,\n",
    "    transform=ToTensor(),\n",
    ")\n"
   ]
  },
  {
   "cell_type": "markdown",
   "id": "9795c146",
   "metadata": {},
   "source": [
    "We can now define the dataloaders:"
   ]
  },
  {
   "cell_type": "code",
   "execution_count": 3,
   "id": "b99cac23",
   "metadata": {},
   "outputs": [],
   "source": [
    "batch_size = 64\n",
    "\n",
    "# Create data loaders.\n",
    "train_dataloader = DataLoader(training_data, batch_size=batch_size)\n",
    "test_dataloader = DataLoader(test_data, batch_size=batch_size)"
   ]
  },
  {
   "cell_type": "markdown",
   "id": "ae11399e",
   "metadata": {},
   "source": [
    "We can then define and instantiate the neural network:"
   ]
  },
  {
   "cell_type": "code",
   "execution_count": 4,
   "id": "3b027562",
   "metadata": {},
   "outputs": [
    {
     "name": "stdout",
     "output_type": "stream",
     "text": [
      "Using cpu device\n",
      "NeuralNetwork(\n",
      "  (flatten): Flatten(start_dim=1, end_dim=-1)\n",
      "  (linear_relu_stack): Sequential(\n",
      "    (0): Linear(in_features=784, out_features=512, bias=True)\n",
      "    (1): ReLU()\n",
      "    (2): Linear(in_features=512, out_features=512, bias=True)\n",
      "    (3): ReLU()\n",
      "    (4): Linear(in_features=512, out_features=10, bias=True)\n",
      "  )\n",
      ")\n"
     ]
    }
   ],
   "source": [
    "# Get cpu or gpu device for training.\n",
    "device = \"cuda\" if torch.cuda.is_available() else \"cpu\"\n",
    "print(f\"Using {device} device\")\n",
    "\n",
    "# Define model\n",
    "class NeuralNetwork(nn.Module):\n",
    "    def __init__(self):\n",
    "        super(NeuralNetwork, self).__init__()\n",
    "        self.flatten = nn.Flatten()\n",
    "        self.linear_relu_stack = nn.Sequential(\n",
    "            nn.Linear(28*28, 512),\n",
    "            nn.ReLU(),\n",
    "            nn.Linear(512, 512),\n",
    "            nn.ReLU(),\n",
    "            nn.Linear(512, 10)\n",
    "        )\n",
    "\n",
    "    def forward(self, x):\n",
    "        x = self.flatten(x)\n",
    "        logits = self.linear_relu_stack(x)\n",
    "        return logits\n",
    "\n",
    "model = NeuralNetwork().to(device)\n",
    "print(model)"
   ]
  },
  {
   "cell_type": "markdown",
   "id": "b692d06a",
   "metadata": {},
   "source": [
    "Define our optimizer and loss:"
   ]
  },
  {
   "cell_type": "code",
   "execution_count": 5,
   "id": "efe92797",
   "metadata": {},
   "outputs": [],
   "source": [
    "loss_fn = nn.CrossEntropyLoss()\n",
    "optimizer = torch.optim.SGD(model.parameters(), lr=1e-3)"
   ]
  },
  {
   "cell_type": "markdown",
   "id": "681d5798",
   "metadata": {},
   "source": [
    "And finally our training loop. Note that we renamed the function from `train` to `train_epoch` to avoid conflicts with the Ray Train module later (which is also called `train`):"
   ]
  },
  {
   "cell_type": "code",
   "execution_count": 6,
   "id": "2ce258ed",
   "metadata": {},
   "outputs": [],
   "source": [
    "def train_epoch(dataloader, model, loss_fn, optimizer):\n",
    "    size = len(dataloader.dataset)\n",
    "    model.train()\n",
    "    for batch, (X, y) in enumerate(dataloader):\n",
    "        X, y = X.to(device), y.to(device)\n",
    "\n",
    "        # Compute prediction error\n",
    "        pred = model(X)\n",
    "        loss = loss_fn(pred, y)\n",
    "\n",
    "        # Backpropagation\n",
    "        optimizer.zero_grad()\n",
    "        loss.backward()\n",
    "        optimizer.step()\n",
    "\n",
    "        if batch % 100 == 0:\n",
    "            loss, current = loss.item(), batch * len(X)\n",
    "            print(f\"loss: {loss:>7f}  [{current:>5d}/{size:>5d}]\")"
   ]
  },
  {
   "cell_type": "markdown",
   "id": "6621cffa",
   "metadata": {},
   "source": [
    "And while we're at it, here is our validation loop (note that we sneaked in a `return test_loss` statement and also renamed the function):"
   ]
  },
  {
   "cell_type": "code",
   "execution_count": 7,
   "id": "bbefec77",
   "metadata": {},
   "outputs": [],
   "source": [
    "def test_epoch(dataloader, model, loss_fn):\n",
    "    size = len(dataloader.dataset)\n",
    "    num_batches = len(dataloader)\n",
    "    model.eval()\n",
    "    test_loss, correct = 0, 0\n",
    "    with torch.no_grad():\n",
    "        for X, y in dataloader:\n",
    "            X, y = X.to(device), y.to(device)\n",
    "            pred = model(X)\n",
    "            test_loss += loss_fn(pred, y).item()\n",
    "            correct += (pred.argmax(1) == y).type(torch.float).sum().item()\n",
    "    test_loss /= num_batches\n",
    "    correct /= size\n",
    "    print(f\"Test Error: \\n Accuracy: {(100*correct):>0.1f}%, Avg loss: {test_loss:>8f} \\n\")\n",
    "    return test_loss"
   ]
  },
  {
   "cell_type": "markdown",
   "id": "d915d788",
   "metadata": {},
   "source": [
    "Now we can trigger training and save a model:"
   ]
  },
  {
   "cell_type": "code",
   "execution_count": 8,
   "id": "27f80fc7",
   "metadata": {},
   "outputs": [
    {
     "name": "stdout",
     "output_type": "stream",
     "text": [
      "Epoch 1\n",
      "-------------------------------\n",
      "loss: 2.310824  [    0/60000]\n",
      "loss: 2.294673  [ 6400/60000]\n",
      "loss: 2.279552  [12800/60000]\n",
      "loss: 2.271212  [19200/60000]\n",
      "loss: 2.253037  [25600/60000]\n",
      "loss: 2.237454  [32000/60000]\n",
      "loss: 2.229266  [38400/60000]\n",
      "loss: 2.201499  [44800/60000]\n",
      "loss: 2.204318  [51200/60000]\n",
      "loss: 2.165509  [57600/60000]\n",
      "Test Error: \n",
      " Accuracy: 53.3%, Avg loss: 2.165069 \n",
      "\n",
      "Epoch 2\n",
      "-------------------------------\n",
      "loss: 2.172770  [    0/60000]\n",
      "loss: 2.162628  [ 6400/60000]\n",
      "loss: 2.114871  [12800/60000]\n",
      "loss: 2.129640  [19200/60000]\n",
      "loss: 2.072733  [25600/60000]\n",
      "loss: 2.029744  [32000/60000]\n",
      "loss: 2.044677  [38400/60000]\n",
      "loss: 1.968758  [44800/60000]\n",
      "loss: 1.982601  [51200/60000]\n",
      "loss: 1.903552  [57600/60000]\n",
      "Test Error: \n",
      " Accuracy: 56.8%, Avg loss: 1.906084 \n",
      "\n",
      "Epoch 3\n",
      "-------------------------------\n",
      "loss: 1.929975  [    0/60000]\n",
      "loss: 1.905118  [ 6400/60000]\n",
      "loss: 1.797361  [12800/60000]\n",
      "loss: 1.840994  [19200/60000]\n",
      "loss: 1.721110  [25600/60000]\n",
      "loss: 1.678175  [32000/60000]\n",
      "loss: 1.691375  [38400/60000]\n",
      "loss: 1.584185  [44800/60000]\n",
      "loss: 1.619714  [51200/60000]\n",
      "loss: 1.506852  [57600/60000]\n",
      "Test Error: \n",
      " Accuracy: 60.5%, Avg loss: 1.530285 \n",
      "\n",
      "Epoch 4\n",
      "-------------------------------\n",
      "loss: 1.583245  [    0/60000]\n",
      "loss: 1.556023  [ 6400/60000]\n",
      "loss: 1.411425  [12800/60000]\n",
      "loss: 1.488727  [19200/60000]\n",
      "loss: 1.359579  [25600/60000]\n",
      "loss: 1.360133  [32000/60000]\n",
      "loss: 1.366381  [38400/60000]\n",
      "loss: 1.279213  [44800/60000]\n",
      "loss: 1.328040  [51200/60000]\n",
      "loss: 1.223219  [57600/60000]\n",
      "Test Error: \n",
      " Accuracy: 62.9%, Avg loss: 1.254554 \n",
      "\n",
      "Epoch 5\n",
      "-------------------------------\n",
      "loss: 1.319601  [    0/60000]\n",
      "loss: 1.307626  [ 6400/60000]\n",
      "loss: 1.148442  [12800/60000]\n",
      "loss: 1.258462  [19200/60000]\n",
      "loss: 1.127337  [25600/60000]\n",
      "loss: 1.160929  [32000/60000]\n",
      "loss: 1.174176  [38400/60000]\n",
      "loss: 1.098028  [44800/60000]\n",
      "loss: 1.149889  [51200/60000]\n",
      "loss: 1.065084  [57600/60000]\n",
      "Test Error: \n",
      " Accuracy: 64.1%, Avg loss: 1.088535 \n",
      "\n",
      "Done!\n"
     ]
    }
   ],
   "source": [
    "epochs = 5\n",
    "for t in range(epochs):\n",
    "    print(f\"Epoch {t+1}\\n-------------------------------\")\n",
    "    train_epoch(train_dataloader, model, loss_fn, optimizer)\n",
    "    test_epoch(test_dataloader, model, loss_fn)\n",
    "print(\"Done!\")"
   ]
  },
  {
   "cell_type": "code",
   "execution_count": 9,
   "id": "e62fc82b",
   "metadata": {},
   "outputs": [
    {
     "name": "stdout",
     "output_type": "stream",
     "text": [
      "Saved PyTorch Model State to model.pth\n"
     ]
    }
   ],
   "source": [
    "torch.save(model.state_dict(), \"model.pth\")\n",
    "print(\"Saved PyTorch Model State to model.pth\")"
   ]
  },
  {
   "cell_type": "markdown",
   "id": "6655d903",
   "metadata": {},
   "source": [
    "We'll cover the rest of the tutorial (loading the model and doing batch prediction) later!"
   ]
  },
  {
   "cell_type": "markdown",
   "id": "d0b98b1c",
   "metadata": {},
   "source": [
    "## Introducing a wrapper function (no Ray AIR, yet!)\n",
    "The notebook-style from the tutorial is great for tutorials, but in your production code you probably wrapped the actual training logic in a function. So let's do this here, too.\n",
    "\n",
    "Note that we do not add or alter any code here (apart from variable definitions) - we just take the loose bits of code in the current tutorial and put them into one function."
   ]
  },
  {
   "cell_type": "code",
   "execution_count": 10,
   "id": "aacdf4a6",
   "metadata": {},
   "outputs": [],
   "source": [
    "def train_func():\n",
    "    batch_size = 64\n",
    "    lr = 1e-3\n",
    "    epochs = 5\n",
    "    \n",
    "    # Create data loaders.\n",
    "    train_dataloader = DataLoader(training_data, batch_size=batch_size)\n",
    "    test_dataloader = DataLoader(test_data, batch_size=batch_size)\n",
    "    \n",
    "    # Get cpu or gpu device for training.\n",
    "    device = \"cuda\" if torch.cuda.is_available() else \"cpu\"\n",
    "    print(f\"Using {device} device\")\n",
    "    \n",
    "    model = NeuralNetwork().to(device)\n",
    "    print(model)\n",
    "    \n",
    "    loss_fn = nn.CrossEntropyLoss()\n",
    "    optimizer = torch.optim.SGD(model.parameters(), lr=lr)\n",
    "    \n",
    "    for t in range(epochs):\n",
    "        print(f\"Epoch {t+1}\\n-------------------------------\")\n",
    "        train_epoch(train_dataloader, model, loss_fn, optimizer)\n",
    "        test_epoch(test_dataloader, model, loss_fn)\n",
    "\n",
    "    print(\"Done!\")"
   ]
  },
  {
   "cell_type": "markdown",
   "id": "60f7341a",
   "metadata": {},
   "source": [
    "Let's see it in action again:"
   ]
  },
  {
   "cell_type": "code",
   "execution_count": 11,
   "id": "7130c361",
   "metadata": {},
   "outputs": [
    {
     "name": "stdout",
     "output_type": "stream",
     "text": [
      "Using cpu device\n",
      "NeuralNetwork(\n",
      "  (flatten): Flatten(start_dim=1, end_dim=-1)\n",
      "  (linear_relu_stack): Sequential(\n",
      "    (0): Linear(in_features=784, out_features=512, bias=True)\n",
      "    (1): ReLU()\n",
      "    (2): Linear(in_features=512, out_features=512, bias=True)\n",
      "    (3): ReLU()\n",
      "    (4): Linear(in_features=512, out_features=10, bias=True)\n",
      "  )\n",
      ")\n",
      "Epoch 1\n",
      "-------------------------------\n",
      "loss: 2.300413  [    0/60000]\n",
      "loss: 2.286883  [ 6400/60000]\n",
      "loss: 2.273655  [12800/60000]\n",
      "loss: 2.268864  [19200/60000]\n",
      "loss: 2.244969  [25600/60000]\n",
      "loss: 2.216548  [32000/60000]\n",
      "loss: 2.222040  [38400/60000]\n",
      "loss: 2.182495  [44800/60000]\n",
      "loss: 2.182766  [51200/60000]\n",
      "loss: 2.156811  [57600/60000]\n",
      "Test Error: \n",
      " Accuracy: 50.6%, Avg loss: 2.145070 \n",
      "\n",
      "Epoch 2\n",
      "-------------------------------\n",
      "loss: 2.150665  [    0/60000]\n",
      "loss: 2.138080  [ 6400/60000]\n",
      "loss: 2.086293  [12800/60000]\n",
      "loss: 2.103044  [19200/60000]\n",
      "loss: 2.041723  [25600/60000]\n",
      "loss: 1.980555  [32000/60000]\n",
      "loss: 2.000344  [38400/60000]\n",
      "loss: 1.915977  [44800/60000]\n",
      "loss: 1.930699  [51200/60000]\n",
      "loss: 1.849836  [57600/60000]\n",
      "Test Error: \n",
      " Accuracy: 57.1%, Avg loss: 1.851586 \n",
      "\n",
      "Epoch 3\n",
      "-------------------------------\n",
      "loss: 1.884133  [    0/60000]\n",
      "loss: 1.847551  [ 6400/60000]\n",
      "loss: 1.739998  [12800/60000]\n",
      "loss: 1.781018  [19200/60000]\n",
      "loss: 1.660957  [25600/60000]\n",
      "loss: 1.619163  [32000/60000]\n",
      "loss: 1.629720  [38400/60000]\n",
      "loss: 1.535548  [44800/60000]\n",
      "loss: 1.571056  [51200/60000]\n",
      "loss: 1.458136  [57600/60000]\n",
      "Test Error: \n",
      " Accuracy: 60.9%, Avg loss: 1.483232 \n",
      "\n",
      "Epoch 4\n",
      "-------------------------------\n",
      "loss: 1.549974  [    0/60000]\n",
      "loss: 1.511189  [ 6400/60000]\n",
      "loss: 1.374695  [12800/60000]\n",
      "loss: 1.445348  [19200/60000]\n",
      "loss: 1.323308  [25600/60000]\n",
      "loss: 1.324354  [32000/60000]\n",
      "loss: 1.328822  [38400/60000]\n",
      "loss: 1.257330  [44800/60000]\n",
      "loss: 1.298783  [51200/60000]\n",
      "loss: 1.197863  [57600/60000]\n",
      "Test Error: \n",
      " Accuracy: 63.4%, Avg loss: 1.226258 \n",
      "\n",
      "Epoch 5\n",
      "-------------------------------\n",
      "loss: 1.301627  [    0/60000]\n",
      "loss: 1.279378  [ 6400/60000]\n",
      "loss: 1.124873  [12800/60000]\n",
      "loss: 1.230890  [19200/60000]\n",
      "loss: 1.104782  [25600/60000]\n",
      "loss: 1.130063  [32000/60000]\n",
      "loss: 1.147206  [38400/60000]\n",
      "loss: 1.083874  [44800/60000]\n",
      "loss: 1.127730  [51200/60000]\n",
      "loss: 1.044750  [57600/60000]\n",
      "Test Error: \n",
      " Accuracy: 64.6%, Avg loss: 1.066819 \n",
      "\n",
      "Done!\n"
     ]
    }
   ],
   "source": [
    "train_func()"
   ]
  },
  {
   "cell_type": "markdown",
   "id": "b3df2581",
   "metadata": {},
   "source": [
    "The output should look very similar to the previous ouput."
   ]
  },
  {
   "cell_type": "markdown",
   "id": "abe8e708",
   "metadata": {},
   "source": [
    "## Starting with Ray AIR: Distribute the training\n",
    "\n",
    "As a first step, we want to distribute the training across multiple workers. For this we want to\n",
    "\n",
    "1. Use data-parallel training by sharding the training data\n",
    "2. Setup the model to communicate gradient updates across machines\n",
    "3. Report the results back to Ray Train.\n",
    "\n",
    "\n",
    "To facilitate this, we only need a few changes to the code:\n",
    "\n",
    "1. We import Ray Train:\n",
    "\n",
    "```python\n",
    "import ray.train as train\n",
    "```\n",
    "\n",
    "\n",
    "2. We use a `config` dict to configure some hyperparameters (this is not strictly needed but good practice, especially if you want to o hyperparameter tuning later):\n",
    "\n",
    "```python\n",
    "def train_func(config: dict):\n",
    "    batch_size = config[\"batch_size\"]\n",
    "    lr = config[\"lr\"]\n",
    "    epochs = config[\"epochs\"]\n",
    "```\n",
    "\n",
    "3. We dynamically adjust the worker batch size according to the number of workers:\n",
    "\n",
    "```python\n",
    "    batch_size_per_worker = batch_size // train.world_size()\n",
    "```\n",
    "\n",
    "4. We prepare the data loader for distributed data sharding:\n",
    "\n",
    "```python\n",
    "    train_dataloader = train.torch.prepare_data_loader(train_dataloader)\n",
    "    test_dataloader = train.torch.prepare_data_loader(test_dataloader)\n",
    "```\n",
    "\n",
    "5. We prepare the model for distributed gradient updates:\n",
    "\n",
    "```python\n",
    "    model = train.torch.prepare_model(model)\n",
    "```\n",
    "\n",
    "Note that `train.torch.prepare_model()` also automatically takes care of setting up devices (e.g. GPU training) - so we can get rid of those lines in our current code!\n",
    "\n",
    "\n",
    "6. We capture the validation loss and report it to Ray train:\n",
    "\n",
    "```python\n",
    "        test_loss = test(test_dataloader, model, loss_fn)\n",
    "        train.report(loss=test_loss)\n",
    "```\n",
    "\n",
    "7. In the `train_epoch()` and `test_epoch()` functions we divide the `size` by the world size:\n",
    "\n",
    "```python\n",
    "    size = len(dataloader.dataset) // train.world_size()  # Divide by word size\n",
    "```\n",
    "\n",
    "8. In the `train_epoch()` function we can get rid of the device mapping. Ray Train does this for us:\n",
    "\n",
    "```python\n",
    "        # We don't need this anymore! Ray Train does this automatically:\n",
    "        # X, y = X.to(device), y.to(device) \n",
    "```\n",
    "\n",
    "That's it - you need less than 10 lines of Ray Train-specific code and can otherwise continue to use your original code.\n",
    "\n",
    "Let's take a look at the resulting code. First the `train_epoch()` function (2 lines changed, and we also commented out the print statement):"
   ]
  },
  {
   "cell_type": "code",
   "execution_count": 12,
   "id": "50b2f602",
   "metadata": {},
   "outputs": [],
   "source": [
    "def train_epoch(dataloader, model, loss_fn, optimizer):\n",
    "    size = len(dataloader.dataset) // train.world_size()  # Divide by word size\n",
    "    model.train()\n",
    "    for batch, (X, y) in enumerate(dataloader):\n",
    "        # We don't need this anymore! Ray Train does this automatically:\n",
    "        # X, y = X.to(device), y.to(device)  \n",
    "\n",
    "        # Compute prediction error\n",
    "        pred = model(X)\n",
    "        loss = loss_fn(pred, y)\n",
    "\n",
    "        # Backpropagation\n",
    "        optimizer.zero_grad()\n",
    "        loss.backward()\n",
    "        optimizer.step()\n",
    "\n",
    "        if batch % 100 == 0:\n",
    "            loss, current = loss.item(), batch * len(X)\n",
    "            # print(f\"loss: {loss:>7f}  [{current:>5d}/{size:>5d}]\")"
   ]
  },
  {
   "cell_type": "markdown",
   "id": "6e260f44",
   "metadata": {},
   "source": [
    "Then the `test_epoch()` function (1 line changed, and we also commented out the print statement):"
   ]
  },
  {
   "cell_type": "code",
   "execution_count": 13,
   "id": "72aa3e48",
   "metadata": {},
   "outputs": [],
   "source": [
    "def test_epoch(dataloader, model, loss_fn):\n",
    "    size = len(dataloader.dataset) // train.world_size()  # Divide by word size\n",
    "    num_batches = len(dataloader)\n",
    "    model.eval()\n",
    "    test_loss, correct = 0, 0\n",
    "    with torch.no_grad():\n",
    "        for X, y in dataloader:\n",
    "            X, y = X.to(device), y.to(device)\n",
    "            pred = model(X)\n",
    "            test_loss += loss_fn(pred, y).item()\n",
    "            correct += (pred.argmax(1) == y).type(torch.float).sum().item()\n",
    "    test_loss /= num_batches\n",
    "    correct /= size\n",
    "    # print(f\"Test Error: \\n Accuracy: {(100*correct):>0.1f}%, Avg loss: {test_loss:>8f} \\n\")\n",
    "    return test_loss"
   ]
  },
  {
   "cell_type": "markdown",
   "id": "cf280e6a",
   "metadata": {},
   "source": [
    "And lastly, the wrapping `train_func()` where we added 4 lines and modified 2 (apart from the config dict):"
   ]
  },
  {
   "cell_type": "code",
   "execution_count": 14,
   "id": "3f79c731",
   "metadata": {},
   "outputs": [
    {
     "name": "stderr",
     "output_type": "stream",
     "text": [
      "Package pickle5 becomes unnecessary in Python 3.8 and above. Its presence may confuse libraries including Ray. Please uninstall the package.\n"
     ]
    }
   ],
   "source": [
    "import ray.train as train\n",
    "\n",
    "\n",
    "def train_func(config: dict):\n",
    "    batch_size = config[\"batch_size\"]\n",
    "    lr = config[\"lr\"]\n",
    "    epochs = config[\"epochs\"]\n",
    "    \n",
    "    batch_size_per_worker = batch_size // train.world_size()\n",
    "    \n",
    "    # Create data loaders.\n",
    "    train_dataloader = DataLoader(training_data, batch_size=batch_size_per_worker)\n",
    "    test_dataloader = DataLoader(test_data, batch_size=batch_size_per_worker)\n",
    "    \n",
    "    train_dataloader = train.torch.prepare_data_loader(train_dataloader)\n",
    "    test_dataloader = train.torch.prepare_data_loader(test_dataloader)\n",
    "    \n",
    "    model = NeuralNetwork()\n",
    "    model = train.torch.prepare_model(model)\n",
    "    \n",
    "    loss_fn = nn.CrossEntropyLoss()\n",
    "    optimizer = torch.optim.SGD(model.parameters(), lr=lr)\n",
    "    \n",
    "    for t in range(epochs):\n",
    "        train_epoch(train_dataloader, model, loss_fn, optimizer)\n",
    "        test_loss = test_epoch(test_dataloader, model, loss_fn)\n",
    "        train.report(loss=test_loss)\n",
    "\n",
    "    print(\"Done!\")"
   ]
  },
  {
   "cell_type": "markdown",
   "id": "0fc52cc7",
   "metadata": {},
   "source": [
    "Now we'll use Ray Train's TorchTrainer to kick off the training. Note that we can set the hyperparmameters here! In the `scaling_config` we can also configure how many parallel workers to use and if we want to enable GPU training or not."
   ]
  },
  {
   "cell_type": "code",
   "execution_count": 15,
   "id": "939e767f",
   "metadata": {},
   "outputs": [
    {
     "name": "stderr",
     "output_type": "stream",
     "text": [
      "2022-06-22 16:28:31,525\tINFO services.py:1477 -- View the Ray dashboard at \u001b[1m\u001b[32mhttp://127.0.0.1:8265\u001b[39m\u001b[22m\n"
     ]
    },
    {
     "data": {
      "text/html": [
       "== Status ==<br>Current time: 2022-06-22 16:29:30 (running for 00:00:56.32)<br>Memory usage on this node: 7.5/31.0 GiB<br>Using FIFO scheduling algorithm.<br>Resources requested: 0/8 CPUs, 0/0 GPUs, 0.0/15.32 GiB heap, 0.0/7.66 GiB objects<br>Result logdir: /home/ubuntu/ray_results/TorchTrainer_2022-06-22_16-28-33<br>Number of trials: 1/1 (1 TERMINATED)<br><table>\n",
       "<thead>\n",
       "<tr><th>Trial name              </th><th>status    </th><th>loc                  </th><th style=\"text-align: right;\">  iter</th><th style=\"text-align: right;\">  total time (s)</th><th style=\"text-align: right;\">  loss</th><th style=\"text-align: right;\">  _timestamp</th><th style=\"text-align: right;\">  _time_this_iter_s</th></tr>\n",
       "</thead>\n",
       "<tbody>\n",
       "<tr><td>TorchTrainer_5c84a_00000</td><td>TERMINATED</td><td>172.31.43.110:1481731</td><td style=\"text-align: right;\">     4</td><td style=\"text-align: right;\">         47.5635</td><td style=\"text-align: right;\">1.2631</td><td style=\"text-align: right;\">  1655915369</td><td style=\"text-align: right;\">            11.0948</td></tr>\n",
       "</tbody>\n",
       "</table><br><br>"
      ],
      "text/plain": [
       "<IPython.core.display.HTML object>"
      ]
     },
     "metadata": {},
     "output_type": "display_data"
    },
    {
     "name": "stderr",
     "output_type": "stream",
     "text": [
      "2022-06-22 16:28:38,581\tWARNING worker.py:1726 -- Warning: The actor TrainTrainable is very large (52 MiB). Check that its definition is not implicitly capturing a large array or other object in scope. Tip: use ray.put() to put large objects in the Ray object store.\n",
      "\u001b[2m\u001b[36m(BaseWorkerMixin pid=1481763)\u001b[0m 2022-06-22 16:28:44,894\tINFO config.py:70 -- Setting up process group for: env:// [rank=0, world_size=2]\n",
      "\u001b[2m\u001b[36m(BaseWorkerMixin pid=1481764)\u001b[0m 2022-06-22 16:28:44,891\tINFO config.py:70 -- Setting up process group for: env:// [rank=1, world_size=2]\n",
      "\u001b[2m\u001b[36m(BaseWorkerMixin pid=1481763)\u001b[0m 2022-06-22 16:28:46,425\tINFO train_loop_utils.py:293 -- Moving model to device: cpu\n",
      "\u001b[2m\u001b[36m(BaseWorkerMixin pid=1481763)\u001b[0m 2022-06-22 16:28:46,425\tINFO train_loop_utils.py:331 -- Wrapping provided model in DDP.\n",
      "\u001b[2m\u001b[36m(BaseWorkerMixin pid=1481764)\u001b[0m 2022-06-22 16:28:46,425\tINFO train_loop_utils.py:293 -- Moving model to device: cpu\n",
      "\u001b[2m\u001b[36m(BaseWorkerMixin pid=1481764)\u001b[0m 2022-06-22 16:28:46,425\tINFO train_loop_utils.py:331 -- Wrapping provided model in DDP.\n"
     ]
    },
    {
     "name": "stdout",
     "output_type": "stream",
     "text": [
      "Result for TorchTrainer_5c84a_00000:\n",
      "  _time_this_iter_s: 10.956670761108398\n",
      "  _timestamp: 1655915337\n",
      "  _training_iteration: 1\n",
      "  date: 2022-06-22_16-28-57\n",
      "  done: false\n",
      "  experiment_id: dd2810ff95f74b1a8390f918b6c122fe\n",
      "  hostname: ip-172-31-43-110\n",
      "  iterations_since_restore: 1\n",
      "  loss: 2.1705087840936748\n",
      "  node_ip: 172.31.43.110\n",
      "  pid: 1481731\n",
      "  time_since_restore: 14.807097911834717\n",
      "  time_this_iter_s: 14.807097911834717\n",
      "  time_total_s: 14.807097911834717\n",
      "  timestamp: 1655915337\n",
      "  timesteps_since_restore: 0\n",
      "  training_iteration: 1\n",
      "  trial_id: 5c84a_00000\n",
      "  warmup_time: 0.0042934417724609375\n",
      "  \n",
      "Result for TorchTrainer_5c84a_00000:\n",
      "  _time_this_iter_s: 10.683637142181396\n",
      "  _timestamp: 1655915347\n",
      "  _training_iteration: 2\n",
      "  date: 2022-06-22_16-29-07\n",
      "  done: false\n",
      "  experiment_id: dd2810ff95f74b1a8390f918b6c122fe\n",
      "  hostname: ip-172-31-43-110\n",
      "  iterations_since_restore: 2\n",
      "  loss: 1.918477459318319\n",
      "  node_ip: 172.31.43.110\n",
      "  pid: 1481731\n",
      "  time_since_restore: 25.498638153076172\n",
      "  time_this_iter_s: 10.691540241241455\n",
      "  time_total_s: 25.498638153076172\n",
      "  timestamp: 1655915347\n",
      "  timesteps_since_restore: 0\n",
      "  training_iteration: 2\n",
      "  trial_id: 5c84a_00000\n",
      "  warmup_time: 0.0042934417724609375\n",
      "  \n",
      "Result for TorchTrainer_5c84a_00000:\n",
      "  _time_this_iter_s: 10.996578216552734\n",
      "  _timestamp: 1655915358\n",
      "  _training_iteration: 3\n",
      "  date: 2022-06-22_16-29-18\n",
      "  done: false\n",
      "  experiment_id: dd2810ff95f74b1a8390f918b6c122fe\n",
      "  hostname: ip-172-31-43-110\n",
      "  iterations_since_restore: 3\n",
      "  loss: 1.54556822397147\n",
      "  node_ip: 172.31.43.110\n",
      "  pid: 1481731\n",
      "  time_since_restore: 36.48866558074951\n",
      "  time_this_iter_s: 10.99002742767334\n",
      "  time_total_s: 36.48866558074951\n",
      "  timestamp: 1655915358\n",
      "  timesteps_since_restore: 0\n",
      "  training_iteration: 3\n",
      "  trial_id: 5c84a_00000\n",
      "  warmup_time: 0.0042934417724609375\n",
      "  \n",
      "Result for TorchTrainer_5c84a_00000:\n",
      "  _time_this_iter_s: 11.09483027458191\n",
      "  _timestamp: 1655915369\n",
      "  _training_iteration: 4\n",
      "  date: 2022-06-22_16-29-29\n",
      "  done: false\n",
      "  experiment_id: dd2810ff95f74b1a8390f918b6c122fe\n",
      "  hostname: ip-172-31-43-110\n",
      "  iterations_since_restore: 4\n",
      "  loss: 1.263096342800529\n",
      "  node_ip: 172.31.43.110\n",
      "  pid: 1481731\n",
      "  time_since_restore: 47.56349587440491\n",
      "  time_this_iter_s: 11.074830293655396\n",
      "  time_total_s: 47.56349587440491\n",
      "  timestamp: 1655915369\n",
      "  timesteps_since_restore: 0\n",
      "  training_iteration: 4\n",
      "  trial_id: 5c84a_00000\n",
      "  warmup_time: 0.0042934417724609375\n",
      "  \n",
      "\u001b[2m\u001b[36m(BaseWorkerMixin pid=1481763)\u001b[0m Done!\n",
      "\u001b[2m\u001b[36m(BaseWorkerMixin pid=1481764)\u001b[0m Done!\n",
      "Result for TorchTrainer_5c84a_00000:\n",
      "  _time_this_iter_s: 11.09483027458191\n",
      "  _timestamp: 1655915369\n",
      "  _training_iteration: 4\n",
      "  date: 2022-06-22_16-29-29\n",
      "  done: true\n",
      "  experiment_id: dd2810ff95f74b1a8390f918b6c122fe\n",
      "  experiment_tag: '0'\n",
      "  hostname: ip-172-31-43-110\n",
      "  iterations_since_restore: 4\n",
      "  loss: 1.263096342800529\n",
      "  node_ip: 172.31.43.110\n",
      "  pid: 1481731\n",
      "  time_since_restore: 47.56349587440491\n",
      "  time_this_iter_s: 11.074830293655396\n",
      "  time_total_s: 47.56349587440491\n",
      "  timestamp: 1655915369\n",
      "  timesteps_since_restore: 0\n",
      "  training_iteration: 4\n",
      "  trial_id: 5c84a_00000\n",
      "  warmup_time: 0.0042934417724609375\n",
      "  \n"
     ]
    },
    {
     "name": "stderr",
     "output_type": "stream",
     "text": [
      "2022-06-22 16:29:31,024\tINFO tune.py:734 -- Total run time: 57.58 seconds (56.31 seconds for the tuning loop).\n"
     ]
    },
    {
     "name": "stdout",
     "output_type": "stream",
     "text": [
      "Last result: {'loss': 1.263096342800529, '_timestamp': 1655915369, '_time_this_iter_s': 11.09483027458191, '_training_iteration': 4, 'time_this_iter_s': 11.074830293655396, 'done': True, 'timesteps_total': None, 'episodes_total': None, 'training_iteration': 4, 'trial_id': '5c84a_00000', 'experiment_id': 'dd2810ff95f74b1a8390f918b6c122fe', 'date': '2022-06-22_16-29-29', 'timestamp': 1655915369, 'time_total_s': 47.56349587440491, 'pid': 1481731, 'hostname': 'ip-172-31-43-110', 'node_ip': '172.31.43.110', 'config': {}, 'time_since_restore': 47.56349587440491, 'timesteps_since_restore': 0, 'iterations_since_restore': 4, 'warmup_time': 0.0042934417724609375, 'experiment_tag': '0'}\n"
     ]
    }
   ],
   "source": [
    "from ray.train.torch import TorchTrainer\n",
    "\n",
    "\n",
    "trainer = TorchTrainer(\n",
    "    train_loop_per_worker=train_func,\n",
    "    train_loop_config={\"lr\": 1e-3, \"batch_size\": 64, \"epochs\": 4},\n",
    "    scaling_config={\"num_workers\": 2, \"use_gpu\": False},\n",
    ")\n",
    "result = trainer.fit()\n",
    "print(f\"Last result: {result.metrics}\")"
   ]
  },
  {
   "cell_type": "markdown",
   "id": "341f4fd8",
   "metadata": {},
   "source": [
    "Great, this works! You're now training your model in parallel. You could now scale this up to more nodes and workers on your Ray cluster.\n",
    "\n",
    "But there are a few improvements we can make to the code in order to get the most of the system. For one, we should enable **checkpointing** to get access to the trained model afterwards. Additionally, we should optimize the **data loading** to take place within the workers."
   ]
  },
  {
   "cell_type": "markdown",
   "id": "3bbe06f3",
   "metadata": {},
   "source": [
    "### Enabling checkpointing to retrieve the model\n",
    "Enabling checkpointing is pretty easy - we just need to call the `train.save_checkpoint()` API and pass the model state to it:\n",
    "\n",
    "```python\n",
    "    train.save_checkpoint(epoch=t, model=model.module.state_dict())\n",
    "```\n",
    "\n",
    "Note that the `model.module` part is needed because the model gets wrapped in `torch.nn.DistributedDataParallel` by `train.torch.prepare_model`.\n",
    "\n",
    "### Move the data loader to the training function\n",
    "\n",
    "You may have noticed a warning: `Warning: The actor TrainTrainable is very large (52 MiB). Check that its definition is not implicitly capturing a large array or other object in scope. Tip: use ray.put() to put large objects in the Ray object store.`.\n",
    "\n",
    "This is because we load the data outside the training function. Ray then serializes it to make it accessible to the remote tasks (that may get executed on a remote node!). This is not too bad with just 52 MB of data, but imagine this were a full image dataset - you wouldn't want to ship this around the cluster unnecessarily. Instead, you should move the dataset loading part into the `train_func()`. This will then download the data *to disk* once per machine and result in much more efficient data loading.\n",
    "\n",
    "The result looks like this:"
   ]
  },
  {
   "cell_type": "code",
   "execution_count": 16,
   "id": "059953f8",
   "metadata": {},
   "outputs": [],
   "source": [
    "def load_data():\n",
    "    # Download training data from open datasets.\n",
    "    training_data = datasets.FashionMNIST(\n",
    "        root=\"data\",\n",
    "        train=True,\n",
    "        download=True,\n",
    "        transform=ToTensor(),\n",
    "    )\n",
    "\n",
    "    # Download test data from open datasets.\n",
    "    test_data = datasets.FashionMNIST(\n",
    "        root=\"data\",\n",
    "        train=False,\n",
    "        download=True,\n",
    "        transform=ToTensor(),\n",
    "    )\n",
    "    return training_data, test_data\n",
    "\n",
    "\n",
    "def train_func(config: dict):\n",
    "    batch_size = config[\"batch_size\"]\n",
    "    lr = config[\"lr\"]\n",
    "    epochs = config[\"epochs\"]\n",
    "    \n",
    "    batch_size_per_worker = batch_size // train.world_size()\n",
    "    \n",
    "    training_data, test_data = load_data()  # <- this is new!\n",
    "    \n",
    "    # Create data loaders.\n",
    "    train_dataloader = DataLoader(training_data, batch_size=batch_size_per_worker)\n",
    "    test_dataloader = DataLoader(test_data, batch_size=batch_size_per_worker)\n",
    "    \n",
    "    train_dataloader = train.torch.prepare_data_loader(train_dataloader)\n",
    "    test_dataloader = train.torch.prepare_data_loader(test_dataloader)\n",
    "    \n",
    "    model = NeuralNetwork()\n",
    "    model = train.torch.prepare_model(model)\n",
    "    \n",
    "    loss_fn = nn.CrossEntropyLoss()\n",
    "    optimizer = torch.optim.SGD(model.parameters(), lr=lr)\n",
    "    \n",
    "    for t in range(epochs):\n",
    "        train_epoch(train_dataloader, model, loss_fn, optimizer)\n",
    "        test_loss = test_epoch(test_dataloader, model, loss_fn)\n",
    "        train.save_checkpoint(epoch=t, model=model.module.state_dict())  # <- this is new!\n",
    "        train.report(loss=test_loss)\n",
    "\n",
    "    print(\"Done!\")"
   ]
  },
  {
   "cell_type": "markdown",
   "id": "d2af219d",
   "metadata": {},
   "source": [
    "Let's train again:"
   ]
  },
  {
   "cell_type": "code",
   "execution_count": 17,
   "id": "de249d61",
   "metadata": {},
   "outputs": [
    {
     "data": {
      "text/html": [
       "== Status ==<br>Current time: 2022-06-22 16:30:41 (running for 00:00:56.46)<br>Memory usage on this node: 7.2/31.0 GiB<br>Using FIFO scheduling algorithm.<br>Resources requested: 0/8 CPUs, 0/0 GPUs, 0.0/15.32 GiB heap, 0.0/7.66 GiB objects<br>Result logdir: /home/ubuntu/ray_results/TorchTrainer_2022-06-22_16-29-44<br>Number of trials: 1/1 (1 TERMINATED)<br><table>\n",
       "<thead>\n",
       "<tr><th>Trial name              </th><th>status    </th><th>loc                  </th><th style=\"text-align: right;\">  iter</th><th style=\"text-align: right;\">  total time (s)</th><th style=\"text-align: right;\">   loss</th><th style=\"text-align: right;\">  _timestamp</th><th style=\"text-align: right;\">  _time_this_iter_s</th></tr>\n",
       "</thead>\n",
       "<tbody>\n",
       "<tr><td>TorchTrainer_86514_00000</td><td>TERMINATED</td><td>172.31.43.110:1481879</td><td style=\"text-align: right;\">     4</td><td style=\"text-align: right;\">         53.1038</td><td style=\"text-align: right;\">1.24844</td><td style=\"text-align: right;\">  1655915440</td><td style=\"text-align: right;\">            11.4238</td></tr>\n",
       "</tbody>\n",
       "</table><br><br>"
      ],
      "text/plain": [
       "<IPython.core.display.HTML object>"
      ]
     },
     "metadata": {},
     "output_type": "display_data"
    },
    {
     "name": "stderr",
     "output_type": "stream",
     "text": [
      "\u001b[2m\u001b[36m(BaseWorkerMixin pid=1481912)\u001b[0m 2022-06-22 16:29:50,060\tINFO config.py:70 -- Setting up process group for: env:// [rank=1, world_size=2]\n",
      "\u001b[2m\u001b[36m(BaseWorkerMixin pid=1481911)\u001b[0m 2022-06-22 16:29:50,039\tINFO config.py:70 -- Setting up process group for: env:// [rank=0, world_size=2]\n"
     ]
    },
    {
     "name": "stdout",
     "output_type": "stream",
     "text": [
      "\u001b[2m\u001b[36m(BaseWorkerMixin pid=1481912)\u001b[0m Downloading http://fashion-mnist.s3-website.eu-central-1.amazonaws.com/train-images-idx3-ubyte.gz\n",
      "\u001b[2m\u001b[36m(BaseWorkerMixin pid=1481911)\u001b[0m Downloading http://fashion-mnist.s3-website.eu-central-1.amazonaws.com/train-images-idx3-ubyte.gz\n",
      "\u001b[2m\u001b[36m(BaseWorkerMixin pid=1481912)\u001b[0m Downloading http://fashion-mnist.s3-website.eu-central-1.amazonaws.com/train-images-idx3-ubyte.gz to data/FashionMNIST/raw/train-images-idx3-ubyte.gz\n",
      "\u001b[2m\u001b[36m(BaseWorkerMixin pid=1481911)\u001b[0m Downloading http://fashion-mnist.s3-website.eu-central-1.amazonaws.com/train-images-idx3-ubyte.gz to data/FashionMNIST/raw/train-images-idx3-ubyte.gz\n"
     ]
    },
    {
     "name": "stderr",
     "output_type": "stream",
     "text": [
      "  0%|          | 0/26421880 [00:00<?, ?it/s]\n",
      "  0%|          | 0/26421880 [00:00<?, ?it/s]\n",
      "  0%|          | 41984/26421880 [00:00<01:12, 361943.13it/s]\n",
      "  0%|          | 41984/26421880 [00:00<01:10, 375108.71it/s]\n",
      "  0%|          | 96256/26421880 [00:00<00:57, 459571.31it/s]\n",
      "  0%|          | 79872/26421880 [00:00<01:10, 376211.09it/s]\n",
      "  1%|          | 205824/26421880 [00:00<00:35, 736411.92it/s]\n",
      "  0%|          | 130048/26421880 [00:00<01:00, 431147.91it/s]\n",
      "  2%|▏         | 427008/26421880 [00:00<00:20, 1299733.59it/s]\n",
      "  1%|          | 274432/26421880 [00:00<00:31, 822829.39it/s]\n",
      "  3%|▎         | 870400/26421880 [00:00<00:10, 2402951.16it/s]\n",
      "  2%|▏         | 565248/26421880 [00:00<00:16, 1558525.69it/s]\n",
      "  7%|▋         | 1754112/26421880 [00:00<00:05, 4545943.78it/s]\n",
      "  4%|▍         | 1145856/26421880 [00:00<00:08, 2984121.04it/s]\n",
      " 13%|█▎        | 3316736/26421880 [00:00<00:02, 8105757.73it/s]\n",
      "  9%|▊         | 2288640/26421880 [00:00<00:04, 5702264.83it/s]\n",
      " 19%|█▊        | 4894720/26421880 [00:00<00:02, 10492520.90it/s]\n",
      " 15%|█▍        | 3875840/26421880 [00:00<00:02, 8912112.28it/s]\n",
      " 24%|██▍       | 6440960/26421880 [00:00<00:01, 11998939.91it/s]\n",
      " 20%|██        | 5402624/26421880 [00:00<00:01, 10824900.56it/s]\n",
      " 30%|███       | 7987200/26421880 [00:01<00:01, 13030704.03it/s]\n",
      " 27%|██▋       | 7032832/26421880 [00:01<00:01, 12501970.20it/s]\n",
      " 36%|███▌      | 9534464/26421880 [00:01<00:01, 13735819.55it/s]\n",
      " 33%|███▎      | 8593408/26421880 [00:01<00:01, 13437913.13it/s]\n",
      " 42%|████▏     | 11080704/26421880 [00:01<00:01, 14207667.46it/s]\n",
      " 38%|███▊      | 10128384/26421880 [00:01<00:01, 14011409.41it/s]\n",
      " 48%|████▊     | 12626944/26421880 [00:01<00:00, 14542620.11it/s]\n",
      " 44%|████▍     | 11660288/26421880 [00:01<00:01, 14405849.73it/s]\n",
      " 54%|█████▎    | 14174208/26421880 [00:01<00:00, 14759412.47it/s]\n",
      " 59%|█████▉    | 15720448/26421880 [00:01<00:00, 14933524.60it/s]\n",
      " 50%|████▉     | 13135872/26421880 [00:01<00:00, 14499791.65it/s]\n",
      " 65%|██████▌   | 17266688/26421880 [00:01<00:00, 15051136.83it/s]\n",
      " 56%|█████▌    | 14682112/26421880 [00:01<00:00, 14772346.00it/s]\n",
      " 71%|███████   | 18813952/26421880 [00:01<00:00, 15130807.12it/s]\n",
      " 61%|██████▏   | 16228352/26421880 [00:01<00:00, 14967937.04it/s]\n",
      " 77%|███████▋  | 20360192/26421880 [00:01<00:00, 15195261.31it/s]\n",
      " 67%|██████▋   | 17775616/26421880 [00:01<00:00, 15112781.93it/s]\n",
      " 83%|████████▎ | 21906432/26421880 [00:01<00:00, 15236573.97it/s]\n",
      " 73%|███████▎  | 19321856/26421880 [00:01<00:00, 15212408.07it/s]\n",
      " 89%|████████▉ | 23453696/26421880 [00:02<00:00, 15266838.91it/s]\n",
      " 79%|███████▉  | 20868096/26421880 [00:01<00:00, 15269608.06it/s]\n",
      " 95%|█████████▍| 24999936/26421880 [00:02<00:00, 15289978.61it/s]\n",
      " 91%|█████████ | 23961600/26421880 [00:02<00:00, 15340254.66it/s]\n",
      "26422272it [00:02, 11870579.44it/s]                              \n",
      " 97%|█████████▋| 25507840/26421880 [00:02<00:00, 15364219.70it/s]\n",
      "26422272it [00:02, 11859017.59it/s]                              \n"
     ]
    },
    {
     "name": "stdout",
     "output_type": "stream",
     "text": [
      "\u001b[2m\u001b[36m(BaseWorkerMixin pid=1481912)\u001b[0m Extracting data/FashionMNIST/raw/train-images-idx3-ubyte.gz to data/FashionMNIST/raw\n",
      "\u001b[2m\u001b[36m(BaseWorkerMixin pid=1481911)\u001b[0m Extracting data/FashionMNIST/raw/train-images-idx3-ubyte.gz to data/FashionMNIST/raw\n",
      "\u001b[2m\u001b[36m(BaseWorkerMixin pid=1481912)\u001b[0m \n",
      "\u001b[2m\u001b[36m(BaseWorkerMixin pid=1481912)\u001b[0m Downloading http://fashion-mnist.s3-website.eu-central-1.amazonaws.com/train-labels-idx1-ubyte.gz\n",
      "\u001b[2m\u001b[36m(BaseWorkerMixin pid=1481911)\u001b[0m \n",
      "\u001b[2m\u001b[36m(BaseWorkerMixin pid=1481911)\u001b[0m Downloading http://fashion-mnist.s3-website.eu-central-1.amazonaws.com/train-labels-idx1-ubyte.gz\n",
      "\u001b[2m\u001b[36m(BaseWorkerMixin pid=1481912)\u001b[0m Downloading http://fashion-mnist.s3-website.eu-central-1.amazonaws.com/train-labels-idx1-ubyte.gz to data/FashionMNIST/raw/train-labels-idx1-ubyte.gz\n",
      "\u001b[2m\u001b[36m(BaseWorkerMixin pid=1481911)\u001b[0m Downloading http://fashion-mnist.s3-website.eu-central-1.amazonaws.com/train-labels-idx1-ubyte.gz to data/FashionMNIST/raw/train-labels-idx1-ubyte.gz\n"
     ]
    },
    {
     "name": "stderr",
     "output_type": "stream",
     "text": [
      "  0%|          | 0/29515 [00:00<?, ?it/s]m \n",
      "  0%|          | 0/29515 [00:00<?, ?it/s]m \n",
      "29696it [00:00, 295064.38it/s]                           \n",
      "29696it [00:00, 296748.03it/s]           m \n"
     ]
    },
    {
     "name": "stdout",
     "output_type": "stream",
     "text": [
      "\u001b[2m\u001b[36m(BaseWorkerMixin pid=1481912)\u001b[0m Extracting data/FashionMNIST/raw/train-labels-idx1-ubyte.gz to data/FashionMNIST/raw\n",
      "\u001b[2m\u001b[36m(BaseWorkerMixin pid=1481912)\u001b[0m \n",
      "\u001b[2m\u001b[36m(BaseWorkerMixin pid=1481912)\u001b[0m Downloading http://fashion-mnist.s3-website.eu-central-1.amazonaws.com/t10k-images-idx3-ubyte.gz\n",
      "\u001b[2m\u001b[36m(BaseWorkerMixin pid=1481911)\u001b[0m Extracting data/FashionMNIST/raw/train-labels-idx1-ubyte.gz to data/FashionMNIST/raw\n",
      "\u001b[2m\u001b[36m(BaseWorkerMixin pid=1481911)\u001b[0m \n",
      "\u001b[2m\u001b[36m(BaseWorkerMixin pid=1481911)\u001b[0m Downloading http://fashion-mnist.s3-website.eu-central-1.amazonaws.com/t10k-images-idx3-ubyte.gz\n",
      "\u001b[2m\u001b[36m(BaseWorkerMixin pid=1481912)\u001b[0m Downloading http://fashion-mnist.s3-website.eu-central-1.amazonaws.com/t10k-images-idx3-ubyte.gz to data/FashionMNIST/raw/t10k-images-idx3-ubyte.gz\n",
      "\u001b[2m\u001b[36m(BaseWorkerMixin pid=1481911)\u001b[0m Downloading http://fashion-mnist.s3-website.eu-central-1.amazonaws.com/t10k-images-idx3-ubyte.gz to data/FashionMNIST/raw/t10k-images-idx3-ubyte.gz\n"
     ]
    },
    {
     "name": "stderr",
     "output_type": "stream",
     "text": [
      "  0%|          | 0/4422102 [00:00<?, ?it/s]\n",
      "  0%|          | 0/4422102 [00:00<?, ?it/s]\n",
      "  1%|          | 34816/4422102 [00:00<00:12, 348148.71it/s]\n",
      "  1%|          | 22528/4422102 [00:00<00:19, 225237.25it/s]\n",
      "  2%|▏         | 69632/4422102 [00:00<00:12, 346462.21it/s]\n",
      "  1%|          | 45056/4422102 [00:00<00:19, 224942.66it/s]\n",
      "  2%|▏         | 104448/4422102 [00:00<00:12, 347157.14it/s]\n",
      "  2%|▏         | 99328/4422102 [00:00<00:11, 368964.83it/s]\n",
      "  4%|▍         | 184320/4422102 [00:00<00:08, 524405.18it/s]\n",
      "  4%|▍         | 189440/4422102 [00:00<00:07, 577214.69it/s]\n",
      "  9%|▊         | 384000/4422102 [00:00<00:03, 1052895.14it/s]\n",
      "  9%|▉         | 396288/4422102 [00:00<00:03, 1111874.46it/s]\n",
      " 18%|█▊        | 779264/4422102 [00:00<00:01, 2033939.42it/s]\n",
      " 18%|█▊        | 806912/4422102 [00:00<00:01, 2121674.81it/s]\n",
      " 36%|███▌      | 1573888/4422102 [00:00<00:00, 3955289.29it/s]\n",
      " 37%|███▋      | 1630208/4422102 [00:00<00:00, 4106422.09it/s]\n",
      "4422656it [00:00, 5316997.96it/s]                             \n",
      "4422656it [00:00, 5349419.81it/s]                             \n"
     ]
    },
    {
     "name": "stdout",
     "output_type": "stream",
     "text": [
      "\u001b[2m\u001b[36m(BaseWorkerMixin pid=1481912)\u001b[0m Extracting data/FashionMNIST/raw/t10k-images-idx3-ubyte.gz to data/FashionMNIST/raw\n",
      "\u001b[2m\u001b[36m(BaseWorkerMixin pid=1481911)\u001b[0m Extracting data/FashionMNIST/raw/t10k-images-idx3-ubyte.gz to data/FashionMNIST/raw\n",
      "\u001b[2m\u001b[36m(BaseWorkerMixin pid=1481912)\u001b[0m \n",
      "\u001b[2m\u001b[36m(BaseWorkerMixin pid=1481912)\u001b[0m Downloading http://fashion-mnist.s3-website.eu-central-1.amazonaws.com/t10k-labels-idx1-ubyte.gz\n",
      "\u001b[2m\u001b[36m(BaseWorkerMixin pid=1481911)\u001b[0m \n",
      "\u001b[2m\u001b[36m(BaseWorkerMixin pid=1481911)\u001b[0m Downloading http://fashion-mnist.s3-website.eu-central-1.amazonaws.com/t10k-labels-idx1-ubyte.gz\n",
      "\u001b[2m\u001b[36m(BaseWorkerMixin pid=1481912)\u001b[0m Downloading http://fashion-mnist.s3-website.eu-central-1.amazonaws.com/t10k-labels-idx1-ubyte.gz to data/FashionMNIST/raw/t10k-labels-idx1-ubyte.gz\n",
      "\u001b[2m\u001b[36m(BaseWorkerMixin pid=1481911)\u001b[0m Downloading http://fashion-mnist.s3-website.eu-central-1.amazonaws.com/t10k-labels-idx1-ubyte.gz to data/FashionMNIST/raw/t10k-labels-idx1-ubyte.gz\n"
     ]
    },
    {
     "name": "stderr",
     "output_type": "stream",
     "text": [
      "6144it [00:00, 49085340.53it/s]         0m \n",
      "6144it [00:00, 43975774.36it/s]         0m \n",
      "\u001b[2m\u001b[36m(BaseWorkerMixin pid=1481912)\u001b[0m 2022-06-22 16:29:55,912\tINFO train_loop_utils.py:293 -- Moving model to device: cpu\n",
      "\u001b[2m\u001b[36m(BaseWorkerMixin pid=1481912)\u001b[0m 2022-06-22 16:29:55,913\tINFO train_loop_utils.py:331 -- Wrapping provided model in DDP.\n",
      "\u001b[2m\u001b[36m(BaseWorkerMixin pid=1481911)\u001b[0m 2022-06-22 16:29:55,899\tINFO train_loop_utils.py:293 -- Moving model to device: cpu\n",
      "\u001b[2m\u001b[36m(BaseWorkerMixin pid=1481911)\u001b[0m 2022-06-22 16:29:55,900\tINFO train_loop_utils.py:331 -- Wrapping provided model in DDP.\n"
     ]
    },
    {
     "name": "stdout",
     "output_type": "stream",
     "text": [
      "\u001b[2m\u001b[36m(BaseWorkerMixin pid=1481912)\u001b[0m Extracting data/FashionMNIST/raw/t10k-labels-idx1-ubyte.gz to data/FashionMNIST/raw\n",
      "\u001b[2m\u001b[36m(BaseWorkerMixin pid=1481912)\u001b[0m \n",
      "\u001b[2m\u001b[36m(BaseWorkerMixin pid=1481911)\u001b[0m Extracting data/FashionMNIST/raw/t10k-labels-idx1-ubyte.gz to data/FashionMNIST/raw\n",
      "\u001b[2m\u001b[36m(BaseWorkerMixin pid=1481911)\u001b[0m \n",
      "Result for TorchTrainer_86514_00000:\n",
      "  _time_this_iter_s: 17.002915143966675\n",
      "  _timestamp: 1655915407\n",
      "  _training_iteration: 1\n",
      "  date: 2022-06-22_16-30-07\n",
      "  done: false\n",
      "  experiment_id: 1e7954bef1c6432785374780fb0da29e\n",
      "  hostname: ip-172-31-43-110\n",
      "  iterations_since_restore: 1\n",
      "  loss: 2.1645877740945028\n",
      "  node_ip: 172.31.43.110\n",
      "  pid: 1481879\n",
      "  should_checkpoint: true\n",
      "  time_since_restore: 19.680341005325317\n",
      "  time_this_iter_s: 19.680341005325317\n",
      "  time_total_s: 19.680341005325317\n",
      "  timestamp: 1655915407\n",
      "  timesteps_since_restore: 0\n",
      "  training_iteration: 1\n",
      "  trial_id: '86514_00000'\n",
      "  warmup_time: 0.004637956619262695\n",
      "  \n",
      "Result for TorchTrainer_86514_00000:\n",
      "  _time_this_iter_s: 10.904694557189941\n",
      "  _timestamp: 1655915418\n",
      "  _training_iteration: 2\n",
      "  date: 2022-06-22_16-30-18\n",
      "  done: false\n",
      "  experiment_id: 1e7954bef1c6432785374780fb0da29e\n",
      "  hostname: ip-172-31-43-110\n",
      "  iterations_since_restore: 2\n",
      "  loss: 1.905545388057733\n",
      "  node_ip: 172.31.43.110\n",
      "  pid: 1481879\n",
      "  should_checkpoint: true\n",
      "  time_since_restore: 30.562681436538696\n",
      "  time_this_iter_s: 10.882340431213379\n",
      "  time_total_s: 30.562681436538696\n",
      "  timestamp: 1655915418\n",
      "  timesteps_since_restore: 0\n",
      "  training_iteration: 2\n",
      "  trial_id: '86514_00000'\n",
      "  warmup_time: 0.004637956619262695\n",
      "  \n",
      "Result for TorchTrainer_86514_00000:\n",
      "  _time_this_iter_s: 11.091916799545288\n",
      "  _timestamp: 1655915429\n",
      "  _training_iteration: 3\n",
      "  date: 2022-06-22_16-30-29\n",
      "  done: false\n",
      "  experiment_id: 1e7954bef1c6432785374780fb0da29e\n",
      "  hostname: ip-172-31-43-110\n",
      "  iterations_since_restore: 3\n",
      "  loss: 1.531144731363673\n",
      "  node_ip: 172.31.43.110\n",
      "  pid: 1481879\n",
      "  should_checkpoint: true\n",
      "  time_since_restore: 41.66515636444092\n",
      "  time_this_iter_s: 11.102474927902222\n",
      "  time_total_s: 41.66515636444092\n",
      "  timestamp: 1655915429\n",
      "  timesteps_since_restore: 0\n",
      "  training_iteration: 3\n",
      "  trial_id: '86514_00000'\n",
      "  warmup_time: 0.004637956619262695\n",
      "  \n",
      "Result for TorchTrainer_86514_00000:\n",
      "  _time_this_iter_s: 11.423810482025146\n",
      "  _timestamp: 1655915440\n",
      "  _training_iteration: 4\n",
      "  date: 2022-06-22_16-30-40\n",
      "  done: false\n",
      "  experiment_id: 1e7954bef1c6432785374780fb0da29e\n",
      "  hostname: ip-172-31-43-110\n",
      "  iterations_since_restore: 4\n",
      "  loss: 1.2484390530616614\n",
      "  node_ip: 172.31.43.110\n",
      "  pid: 1481879\n",
      "  should_checkpoint: true\n",
      "  time_since_restore: 53.103771924972534\n",
      "  time_this_iter_s: 11.438615560531616\n",
      "  time_total_s: 53.103771924972534\n",
      "  timestamp: 1655915440\n",
      "  timesteps_since_restore: 0\n",
      "  training_iteration: 4\n",
      "  trial_id: '86514_00000'\n",
      "  warmup_time: 0.004637956619262695\n",
      "  \n",
      "\u001b[2m\u001b[36m(BaseWorkerMixin pid=1481912)\u001b[0m Done!\n",
      "\u001b[2m\u001b[36m(BaseWorkerMixin pid=1481911)\u001b[0m Done!\n",
      "Result for TorchTrainer_86514_00000:\n",
      "  _time_this_iter_s: 11.423810482025146\n",
      "  _timestamp: 1655915440\n",
      "  _training_iteration: 4\n",
      "  date: 2022-06-22_16-30-40\n",
      "  done: true\n",
      "  experiment_id: 1e7954bef1c6432785374780fb0da29e\n",
      "  experiment_tag: '0'\n",
      "  hostname: ip-172-31-43-110\n",
      "  iterations_since_restore: 4\n",
      "  loss: 1.2484390530616614\n",
      "  node_ip: 172.31.43.110\n",
      "  pid: 1481879\n",
      "  should_checkpoint: true\n",
      "  time_since_restore: 53.103771924972534\n",
      "  time_this_iter_s: 11.438615560531616\n",
      "  time_total_s: 53.103771924972534\n",
      "  timestamp: 1655915440\n",
      "  timesteps_since_restore: 0\n",
      "  training_iteration: 4\n",
      "  trial_id: '86514_00000'\n",
      "  warmup_time: 0.004637956619262695\n",
      "  \n"
     ]
    },
    {
     "name": "stderr",
     "output_type": "stream",
     "text": [
      "2022-06-22 16:30:41,236\tINFO tune.py:734 -- Total run time: 56.58 seconds (56.46 seconds for the tuning loop).\n"
     ]
    }
   ],
   "source": [
    "trainer = TorchTrainer(\n",
    "    train_loop_per_worker=train_func,\n",
    "    train_loop_config={\"lr\": 1e-3, \"batch_size\": 64, \"epochs\": 4},\n",
    "    scaling_config={\"num_workers\": 2, \"use_gpu\": False},\n",
    ")\n",
    "result = trainer.fit()\n"
   ]
  },
  {
   "cell_type": "markdown",
   "id": "534ed4df",
   "metadata": {},
   "source": [
    "We can see our results here:"
   ]
  },
  {
   "cell_type": "code",
   "execution_count": 18,
   "id": "b81ca48f",
   "metadata": {},
   "outputs": [
    {
     "name": "stdout",
     "output_type": "stream",
     "text": [
      "Last result: {'loss': 1.2484390530616614, '_timestamp': 1655915440, '_time_this_iter_s': 11.423810482025146, '_training_iteration': 4, 'time_this_iter_s': 11.438615560531616, 'should_checkpoint': True, 'done': True, 'timesteps_total': None, 'episodes_total': None, 'training_iteration': 4, 'trial_id': '86514_00000', 'experiment_id': '1e7954bef1c6432785374780fb0da29e', 'date': '2022-06-22_16-30-40', 'timestamp': 1655915440, 'time_total_s': 53.103771924972534, 'pid': 1481879, 'hostname': 'ip-172-31-43-110', 'node_ip': '172.31.43.110', 'config': {}, 'time_since_restore': 53.103771924972534, 'timesteps_since_restore': 0, 'iterations_since_restore': 4, 'warmup_time': 0.004637956619262695, 'experiment_tag': '0'}\n",
      "Checkpoint: <ray.air.checkpoint.Checkpoint object at 0x7f15317fc160>\n"
     ]
    }
   ],
   "source": [
    "print(f\"Last result: {result.metrics}\")\n",
    "print(f\"Checkpoint: {result.checkpoint}\")"
   ]
  },
  {
   "cell_type": "markdown",
   "id": "b6b15d88",
   "metadata": {},
   "source": [
    "## Loading the model for prediction\n",
    "You may have noticed that we skipped one part of the original tutorial - loading the model and using it for inference. The original code looks like this (we've wrapped it in a function):"
   ]
  },
  {
   "cell_type": "code",
   "execution_count": 19,
   "id": "68e664ff",
   "metadata": {},
   "outputs": [],
   "source": [
    "def predict_from_model(model):\n",
    "    classes = [\n",
    "        \"T-shirt/top\",\n",
    "        \"Trouser\",\n",
    "        \"Pullover\",\n",
    "        \"Dress\",\n",
    "        \"Coat\",\n",
    "        \"Sandal\",\n",
    "        \"Shirt\",\n",
    "        \"Sneaker\",\n",
    "        \"Bag\",\n",
    "        \"Ankle boot\",\n",
    "    ]\n",
    "\n",
    "    model.eval()\n",
    "    x, y = test_data[0][0], test_data[0][1]\n",
    "    with torch.no_grad():\n",
    "        pred = model(x)\n",
    "        predicted, actual = classes[pred[0].argmax(0)], classes[y]\n",
    "        print(f'Predicted: \"{predicted}\", Actual: \"{actual}\"')\n"
   ]
  },
  {
   "cell_type": "markdown",
   "id": "1abf022a",
   "metadata": {},
   "source": [
    "We can use our saved model with the existing code to do prediction:"
   ]
  },
  {
   "cell_type": "code",
   "execution_count": 20,
   "id": "0c135a17",
   "metadata": {},
   "outputs": [
    {
     "name": "stdout",
     "output_type": "stream",
     "text": [
      "Predicted: \"Ankle boot\", Actual: \"Ankle boot\"\n"
     ]
    }
   ],
   "source": [
    "from ray.train.torch import load_checkpoint\n",
    "\n",
    "model, _ = load_checkpoint(result.checkpoint, NeuralNetwork())\n",
    "\n",
    "predict_from_model(model)"
   ]
  },
  {
   "cell_type": "markdown",
   "id": "f6fc1441",
   "metadata": {},
   "source": [
    "To predict more than one example, we can use a loop:"
   ]
  },
  {
   "cell_type": "code",
   "execution_count": 21,
   "id": "17652fa1",
   "metadata": {},
   "outputs": [],
   "source": [
    "classes = [\n",
    "    \"T-shirt/top\",\n",
    "    \"Trouser\",\n",
    "    \"Pullover\",\n",
    "    \"Dress\",\n",
    "    \"Coat\",\n",
    "    \"Sandal\",\n",
    "    \"Shirt\",\n",
    "    \"Sneaker\",\n",
    "    \"Bag\",\n",
    "    \"Ankle boot\",\n",
    "]\n",
    "\n",
    "def predict_from_model(model, data):\n",
    "    model.eval()\n",
    "    with torch.no_grad():\n",
    "        for x, y in data:\n",
    "            pred = model(x)\n",
    "            predicted, actual = classes[pred[0].argmax(0)], classes[y]\n",
    "            print(f'Predicted: \"{predicted}\", Actual: \"{actual}\"')\n"
   ]
  },
  {
   "cell_type": "code",
   "execution_count": 22,
   "id": "3bc14ed6",
   "metadata": {},
   "outputs": [
    {
     "name": "stdout",
     "output_type": "stream",
     "text": [
      "Predicted: \"Ankle boot\", Actual: \"Ankle boot\"\n",
      "Predicted: \"Pullover\", Actual: \"Pullover\"\n",
      "Predicted: \"Trouser\", Actual: \"Trouser\"\n",
      "Predicted: \"Trouser\", Actual: \"Trouser\"\n",
      "Predicted: \"Pullover\", Actual: \"Shirt\"\n",
      "Predicted: \"Trouser\", Actual: \"Trouser\"\n",
      "Predicted: \"Coat\", Actual: \"Coat\"\n",
      "Predicted: \"Coat\", Actual: \"Shirt\"\n",
      "Predicted: \"Sneaker\", Actual: \"Sandal\"\n",
      "Predicted: \"Sneaker\", Actual: \"Sneaker\"\n"
     ]
    }
   ],
   "source": [
    "predict_from_model(model, [test_data[i] for i in range(10)])"
   ]
  },
  {
   "cell_type": "markdown",
   "id": "a0ce0733",
   "metadata": {},
   "source": [
    "## Using Ray AIR for scalable batch prediction\n",
    "However, we can also use Ray AIRs `BatchPredictor` class to do scalable prediction."
   ]
  },
  {
   "cell_type": "code",
   "execution_count": 23,
   "id": "4d8b0f50",
   "metadata": {},
   "outputs": [
    {
     "ename": "ImportError",
     "evalue": "cannot import name 'BatchPredictor' from 'ray.air' (/home/ubuntu/ray/python/ray/air/__init__.py)",
     "output_type": "error",
     "traceback": [
      "\u001b[0;31m---------------------------------------------------------------------------\u001b[0m",
      "\u001b[0;31mImportError\u001b[0m                               Traceback (most recent call last)",
      "\u001b[1;32m/home/ubuntu/ray/doc/source/ray-air/examples/convert_existing_pytorch_code_to_ray_air.ipynb Cell 49'\u001b[0m in \u001b[0;36m<cell line: 1>\u001b[0;34m()\u001b[0m\n\u001b[0;32m----> <a href='vscode-notebook-cell://ssh-remote%2Bec2-18-118-29-213.us-east-2.compute.amazonaws.com/home/ubuntu/ray/doc/source/ray-air/examples/convert_existing_pytorch_code_to_ray_air.ipynb#ch0000048vscode-remote?line=0'>1</a>\u001b[0m \u001b[39mfrom\u001b[39;00m \u001b[39mray\u001b[39;00m\u001b[39m.\u001b[39;00m\u001b[39mair\u001b[39;00m \u001b[39mimport\u001b[39;00m BatchPredictor\n\u001b[1;32m      <a href='vscode-notebook-cell://ssh-remote%2Bec2-18-118-29-213.us-east-2.compute.amazonaws.com/home/ubuntu/ray/doc/source/ray-air/examples/convert_existing_pytorch_code_to_ray_air.ipynb#ch0000048vscode-remote?line=1'>2</a>\u001b[0m \u001b[39mfrom\u001b[39;00m \u001b[39mray\u001b[39;00m\u001b[39m.\u001b[39;00m\u001b[39mair\u001b[39;00m\u001b[39m.\u001b[39;00m\u001b[39mpredictors\u001b[39;00m\u001b[39m.\u001b[39;00m\u001b[39mintegrations\u001b[39;00m\u001b[39m.\u001b[39;00m\u001b[39mtorch\u001b[39;00m \u001b[39mimport\u001b[39;00m TorchPredictor\n\u001b[1;32m      <a href='vscode-notebook-cell://ssh-remote%2Bec2-18-118-29-213.us-east-2.compute.amazonaws.com/home/ubuntu/ray/doc/source/ray-air/examples/convert_existing_pytorch_code_to_ray_air.ipynb#ch0000048vscode-remote?line=3'>4</a>\u001b[0m batch_predictor \u001b[39m=\u001b[39m BatchPredictor\u001b[39m.\u001b[39mfrom_checkpoint(result\u001b[39m.\u001b[39mcheckpoint, TorchPredictor, model\u001b[39m=\u001b[39mNeuralNetwork())\n",
      "\u001b[0;31mImportError\u001b[0m: cannot import name 'BatchPredictor' from 'ray.air' (/home/ubuntu/ray/python/ray/air/__init__.py)"
     ]
    }
   ],
   "source": [
    "from ray.air import BatchPredictor\n",
    "from ray.air.predictors.integrations.torch import TorchPredictor\n",
    "\n",
    "batch_predictor = BatchPredictor.from_checkpoint(result.checkpoint, TorchPredictor, model=NeuralNetwork())"
   ]
  },
  {
   "cell_type": "markdown",
   "id": "ad556eeb",
   "metadata": {},
   "source": [
    "Batch predictors work with Ray Datasets. Here we convert our test dataset into a Ray Dataset - note that this is not very efficient, and you can look at our {ref}`other tutorials <air-examples-ref>` to see more efficient ways to generate a Ray Dataset."
   ]
  },
  {
   "cell_type": "code",
   "execution_count": null,
   "id": "8cb0556f",
   "metadata": {},
   "outputs": [],
   "source": [
    "import ray.data\n",
    "\n",
    "ds = ray.data.from_items([x for x, y in test_data])"
   ]
  },
  {
   "cell_type": "markdown",
   "id": "264dd2e4",
   "metadata": {},
   "source": [
    "We can then trigger prediction with two workers:"
   ]
  },
  {
   "cell_type": "code",
   "execution_count": null,
   "id": "8a823f7a",
   "metadata": {},
   "outputs": [
    {
     "name": "stderr",
     "output_type": "stream",
     "text": [
      "Map Progress (2 actors 1 pending): 100%|██████████████████████████████████████████████████████████████████████████| 200/200 [00:04<00:00, 44.83it/s]\n"
     ]
    }
   ],
   "source": [
    "results = batch_predictor.predict(ds, min_scoring_workers=2)"
   ]
  },
  {
   "cell_type": "markdown",
   "id": "41094a55",
   "metadata": {},
   "source": [
    "`results` is another Ray Dataset. We can use `results.show()` to see our prediction results:"
   ]
  },
  {
   "cell_type": "code",
   "execution_count": null,
   "id": "d3dce40d",
   "metadata": {},
   "outputs": [
    {
     "data": {
      "text/html": [
       "<div>\n",
       "<style scoped>\n",
       "    .dataframe tbody tr th:only-of-type {\n",
       "        vertical-align: middle;\n",
       "    }\n",
       "\n",
       "    .dataframe tbody tr th {\n",
       "        vertical-align: top;\n",
       "    }\n",
       "\n",
       "    .dataframe thead th {\n",
       "        text-align: right;\n",
       "    }\n",
       "</style>\n",
       "<table border=\"1\" class=\"dataframe\">\n",
       "  <thead>\n",
       "    <tr style=\"text-align: right;\">\n",
       "      <th></th>\n",
       "      <th>predictions</th>\n",
       "    </tr>\n",
       "  </thead>\n",
       "  <tbody>\n",
       "    <tr>\n",
       "      <th>0</th>\n",
       "      <td>[-1.3625717, -1.7147198, -0.7944063, -1.516942...</td>\n",
       "    </tr>\n",
       "    <tr>\n",
       "      <th>1</th>\n",
       "      <td>[0.7415036, -2.1898255, 2.9233487, -0.8718336,...</td>\n",
       "    </tr>\n",
       "    <tr>\n",
       "      <th>2</th>\n",
       "      <td>[1.9445083, 4.0967875, -0.07387225, 2.8944397,...</td>\n",
       "    </tr>\n",
       "    <tr>\n",
       "      <th>3</th>\n",
       "      <td>[1.460784, 3.2333734, -0.15551251, 2.3267126, ...</td>\n",
       "    </tr>\n",
       "    <tr>\n",
       "      <th>4</th>\n",
       "      <td>[0.758382, -0.8887838, 1.1806433, -0.04382074,...</td>\n",
       "    </tr>\n",
       "    <tr>\n",
       "      <th>...</th>\n",
       "      <td>...</td>\n",
       "    </tr>\n",
       "    <tr>\n",
       "      <th>9995</th>\n",
       "      <td>[-1.6255455, -2.7318435, -0.8888813, -2.205097...</td>\n",
       "    </tr>\n",
       "    <tr>\n",
       "      <th>9996</th>\n",
       "      <td>[0.90374756, 2.051165, -0.046540327, 1.4930309...</td>\n",
       "    </tr>\n",
       "    <tr>\n",
       "      <th>9997</th>\n",
       "      <td>[0.89324296, -0.14099044, -0.08300409, 0.74801...</td>\n",
       "    </tr>\n",
       "    <tr>\n",
       "      <th>9998</th>\n",
       "      <td>[1.4642937, 3.2236817, -0.23001938, 2.5179548,...</td>\n",
       "    </tr>\n",
       "    <tr>\n",
       "      <th>9999</th>\n",
       "      <td>[-1.0059572, -1.2176754, -0.36726016, -1.10825...</td>\n",
       "    </tr>\n",
       "  </tbody>\n",
       "</table>\n",
       "<p>10000 rows × 1 columns</p>\n",
       "</div>"
      ],
      "text/plain": [
       "                                            predictions\n",
       "0     [-1.3625717, -1.7147198, -0.7944063, -1.516942...\n",
       "1     [0.7415036, -2.1898255, 2.9233487, -0.8718336,...\n",
       "2     [1.9445083, 4.0967875, -0.07387225, 2.8944397,...\n",
       "3     [1.460784, 3.2333734, -0.15551251, 2.3267126, ...\n",
       "4     [0.758382, -0.8887838, 1.1806433, -0.04382074,...\n",
       "...                                                 ...\n",
       "9995  [-1.6255455, -2.7318435, -0.8888813, -2.205097...\n",
       "9996  [0.90374756, 2.051165, -0.046540327, 1.4930309...\n",
       "9997  [0.89324296, -0.14099044, -0.08300409, 0.74801...\n",
       "9998  [1.4642937, 3.2236817, -0.23001938, 2.5179548,...\n",
       "9999  [-1.0059572, -1.2176754, -0.36726016, -1.10825...\n",
       "\n",
       "[10000 rows x 1 columns]"
      ]
     },
     "execution_count": 26,
     "metadata": {},
     "output_type": "execute_result"
    }
   ],
   "source": [
    "results.show()"
   ]
  },
  {
   "cell_type": "markdown",
   "id": "427b68e8",
   "metadata": {},
   "source": [
    "If we want to convert these predictions into class names (as in the original example), we can use a `map` function to do this:"
   ]
  },
  {
   "cell_type": "code",
   "execution_count": null,
   "id": "f17b5c10",
   "metadata": {},
   "outputs": [
    {
     "name": "stderr",
     "output_type": "stream",
     "text": [
      "Map_Batches: 100%|███████████████████████████████████████████████████████████████████████████████████████████████| 200/200 [00:01<00:00, 117.68it/s]\n"
     ]
    }
   ],
   "source": [
    "predicted_classes = results.map_batches(\n",
    "    lambda batch: [classes[pred.argmax(0)] for pred in batch[\"predictions\"]], \n",
    "    batch_format=\"pandas\")"
   ]
  },
  {
   "cell_type": "markdown",
   "id": "cb7040db",
   "metadata": {},
   "source": [
    "To compare this with the actual labels, let's create a Ray dataset for these and zip it together with the predicted classes:"
   ]
  },
  {
   "cell_type": "code",
   "execution_count": null,
   "id": "207e13b9",
   "metadata": {},
   "outputs": [],
   "source": [
    "real_classes = ray.data.from_items([classes[y] for x, y in test_data])\n",
    "merged = predicted_classes.zip(real_classes)"
   ]
  },
  {
   "cell_type": "markdown",
   "id": "18b1012c",
   "metadata": {},
   "source": [
    "Let's examine our results:"
   ]
  },
  {
   "cell_type": "code",
   "execution_count": null,
   "id": "2b2decc6",
   "metadata": {},
   "outputs": [
    {
     "data": {
      "text/html": [
       "<div>\n",
       "<style scoped>\n",
       "    .dataframe tbody tr th:only-of-type {\n",
       "        vertical-align: middle;\n",
       "    }\n",
       "\n",
       "    .dataframe tbody tr th {\n",
       "        vertical-align: top;\n",
       "    }\n",
       "\n",
       "    .dataframe thead th {\n",
       "        text-align: right;\n",
       "    }\n",
       "</style>\n",
       "<table border=\"1\" class=\"dataframe\">\n",
       "  <thead>\n",
       "    <tr style=\"text-align: right;\">\n",
       "      <th></th>\n",
       "      <th>value</th>\n",
       "    </tr>\n",
       "  </thead>\n",
       "  <tbody>\n",
       "    <tr>\n",
       "      <th>0</th>\n",
       "      <td>(Ankle boot, Ankle boot)</td>\n",
       "    </tr>\n",
       "    <tr>\n",
       "      <th>1</th>\n",
       "      <td>(Pullover, Pullover)</td>\n",
       "    </tr>\n",
       "    <tr>\n",
       "      <th>2</th>\n",
       "      <td>(Trouser, Trouser)</td>\n",
       "    </tr>\n",
       "    <tr>\n",
       "      <th>3</th>\n",
       "      <td>(Trouser, Trouser)</td>\n",
       "    </tr>\n",
       "    <tr>\n",
       "      <th>4</th>\n",
       "      <td>(Pullover, Shirt)</td>\n",
       "    </tr>\n",
       "    <tr>\n",
       "      <th>...</th>\n",
       "      <td>...</td>\n",
       "    </tr>\n",
       "    <tr>\n",
       "      <th>9995</th>\n",
       "      <td>(Ankle boot, Ankle boot)</td>\n",
       "    </tr>\n",
       "    <tr>\n",
       "      <th>9996</th>\n",
       "      <td>(Trouser, Trouser)</td>\n",
       "    </tr>\n",
       "    <tr>\n",
       "      <th>9997</th>\n",
       "      <td>(T-shirt/top, Bag)</td>\n",
       "    </tr>\n",
       "    <tr>\n",
       "      <th>9998</th>\n",
       "      <td>(Trouser, Trouser)</td>\n",
       "    </tr>\n",
       "    <tr>\n",
       "      <th>9999</th>\n",
       "      <td>(Sneaker, Sandal)</td>\n",
       "    </tr>\n",
       "  </tbody>\n",
       "</table>\n",
       "<p>10000 rows × 1 columns</p>\n",
       "</div>"
      ],
      "text/plain": [
       "                         value\n",
       "0     (Ankle boot, Ankle boot)\n",
       "1         (Pullover, Pullover)\n",
       "2           (Trouser, Trouser)\n",
       "3           (Trouser, Trouser)\n",
       "4            (Pullover, Shirt)\n",
       "...                        ...\n",
       "9995  (Ankle boot, Ankle boot)\n",
       "9996        (Trouser, Trouser)\n",
       "9997        (T-shirt/top, Bag)\n",
       "9998        (Trouser, Trouser)\n",
       "9999         (Sneaker, Sandal)\n",
       "\n",
       "[10000 rows x 1 columns]"
      ]
     },
     "execution_count": 29,
     "metadata": {},
     "output_type": "execute_result"
    }
   ],
   "source": [
    "merged.show()"
   ]
  },
  {
   "cell_type": "markdown",
   "id": "2963e1f7",
   "metadata": {},
   "source": [
    "## Summary\n",
    "\n",
    "This tutorial demonstrated how to turn your existing PyTorch code into code you can use with Ray AIR.\n",
    "\n",
    "We learned how to\n",
    "- enable distributed training using Ray Train abstractions\n",
    "- save and retrieve model checkpoints via Ray AIR\n",
    "- load a model for batch prediction\n",
    "\n",
    "In our {ref}`other examples <air-examples-ref>` you can learn how to do more things with the Ray AIR API, such as **serving your model with Ray Serve** or **tune your hyperparameters with Ray Tune.** You can also learn how to **construct Ray Datasets** to leverage Ray AIR's **preprocessing** API.\n",
    "\n",
    "We hope this tutorial gave you a good starting point to leverage Ray AIR. If you have any questions, suggestions, or run into any problems pelase reach out on [Discuss](https://discuss.ray.io/) or [GitHub](https://github.com/ray-project/ray)!"
   ]
  }
 ],
 "metadata": {
  "kernelspec": {
   "display_name": "Python 3.8.10 ('venv': venv)",
   "language": "python",
   "name": "python3"
  },
  "language_info": {
   "codemirror_mode": {
    "name": "ipython",
    "version": 3
   },
   "file_extension": ".py",
   "mimetype": "text/x-python",
   "name": "python",
   "nbconvert_exporter": "python",
   "pygments_lexer": "ipython3",
   "version": "3.8.10"
  },
  "vscode": {
   "interpreter": {
    "hash": "3c0d54d489a08ae47a06eae2fd00ff032d6cddb527c382959b7b2575f6a8167f"
   }
  }
 },
 "nbformat": 4,
 "nbformat_minor": 5
}
