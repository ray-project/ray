{
 "cells": [
  {
   "cell_type": "markdown",
   "id": "c62191af",
   "metadata": {},
   "source": [
    "# Analyzing results from hyperparameter tuning\n",
    "In this example we'll run a hyperparameter tuning experiment and analyze the results.\n",
    "\n",
    "What we'll cover:\n",
    "- How to load data from an Sklearn example dataset\n",
    "- How to initialize an XGBoost trainer\n",
    "- How to define a search space for regular XGBoost parameters and for data preprocessors\n",
    "- How to fetch the best obtained result from the tuning run\n",
    "- How to fetch a dataframe to do further analysis on the results"
   ]
  },
  {
   "cell_type": "markdown",
   "id": "41abda7b",
   "metadata": {},
   "source": [
    "First we start with some imports. We'll use the [Covertype dataset](https://scikit-learn.org/stable/modules/generated/sklearn.datasets.fetch_covtype.html#sklearn-datasets-fetch-covtype) provided from sklearn to train a multiclass classification task using XGBoost."
   ]
  },
  {
   "cell_type": "code",
   "execution_count": 1,
   "id": "d45b4f69",
   "metadata": {},
   "outputs": [],
   "source": [
    "import pandas as pd\n",
    "from sklearn.datasets import fetch_covtype\n",
    "\n",
    "import ray\n",
    "from ray import tune\n",
    "from ray.ml import RunConfig\n",
    "from ray.ml.preprocessors import StandardScaler\n",
    "from ray.ml.train.integrations.xgboost import XGBoostTrainer\n",
    "from ray.tune.tune_config import TuneConfig\n",
    "from ray.tune.tuner import Tuner"
   ]
  },
  {
   "cell_type": "markdown",
   "id": "a93b242c",
   "metadata": {},
   "source": [
    "We'll define a utility function to create a Ray Dataset from the Sklearn dataset. We expect the target column to be in the dataframe, so we'll add it to the dataframe manually.\n",
    "We don't do any test/validation splitting here - pelase check out our other examples for this."
   ]
  },
  {
   "cell_type": "code",
   "execution_count": 2,
   "id": "3875df98",
   "metadata": {},
   "outputs": [
    {
     "name": "stderr",
     "output_type": "stream",
     "text": [
      "2022-05-09 17:25:30,768\tINFO services.py:1484 -- View the Ray dashboard at \u001B[1m\u001B[32mhttp://127.0.0.1:8265\u001B[39m\u001B[22m\n"
     ]
    }
   ],
   "source": [
    "def get_training_data() -> ray.data.Dataset:\n",
    "    data_raw = fetch_covtype()\n",
    "    df = pd.DataFrame(data_raw[\"data\"], columns=data_raw[\"feature_names\"])\n",
    "    df[\"target\"] = data_raw[\"target\"]\n",
    "    return ray.data.from_pandas(df)\n",
    "\n",
    "\n",
    "train_dataset = get_training_data()"
   ]
  },
  {
   "cell_type": "markdown",
   "id": "90dd6fc5",
   "metadata": {},
   "source": [
    "Let's take a look at the schema here:"
   ]
  },
  {
   "cell_type": "code",
   "execution_count": 3,
   "id": "936c9b26",
   "metadata": {},
   "outputs": [
    {
     "name": "stdout",
     "output_type": "stream",
     "text": [
      "Dataset(num_blocks=1, num_rows=581012, schema={Elevation: float64, Aspect: float64, Slope: float64, Horizontal_Distance_To_Hydrology: float64, Vertical_Distance_To_Hydrology: float64, Horizontal_Distance_To_Roadways: float64, Hillshade_9am: float64, Hillshade_Noon: float64, Hillshade_3pm: float64, Horizontal_Distance_To_Fire_Points: float64, Wilderness_Area_0: float64, Wilderness_Area_1: float64, Wilderness_Area_2: float64, Wilderness_Area_3: float64, Soil_Type_0: float64, Soil_Type_1: float64, Soil_Type_2: float64, Soil_Type_3: float64, Soil_Type_4: float64, Soil_Type_5: float64, Soil_Type_6: float64, Soil_Type_7: float64, Soil_Type_8: float64, Soil_Type_9: float64, Soil_Type_10: float64, Soil_Type_11: float64, Soil_Type_12: float64, Soil_Type_13: float64, Soil_Type_14: float64, Soil_Type_15: float64, Soil_Type_16: float64, Soil_Type_17: float64, Soil_Type_18: float64, Soil_Type_19: float64, Soil_Type_20: float64, Soil_Type_21: float64, Soil_Type_22: float64, Soil_Type_23: float64, Soil_Type_24: float64, Soil_Type_25: float64, Soil_Type_26: float64, Soil_Type_27: float64, Soil_Type_28: float64, Soil_Type_29: float64, Soil_Type_30: float64, Soil_Type_31: float64, Soil_Type_32: float64, Soil_Type_33: float64, Soil_Type_34: float64, Soil_Type_35: float64, Soil_Type_36: float64, Soil_Type_37: float64, Soil_Type_38: float64, Soil_Type_39: float64, target: int32})\n"
     ]
    }
   ],
   "source": [
    "print(train_dataset)"
   ]
  },
  {
   "cell_type": "markdown",
   "id": "1d996bdd",
   "metadata": {},
   "source": [
    "Ray AIR allows us to define and tune preprocessors. For instance, we may want to decide if we should scale the \"Wilderness area\" parameters or the \"Soil type\" parameters. For both, we'll just try standard scalers:"
   ]
  },
  {
   "cell_type": "code",
   "execution_count": 4,
   "id": "ef7b2992",
   "metadata": {},
   "outputs": [],
   "source": [
    "# Let's tune the preprocessors\n",
    "prep_v1 = StandardScaler(columns=[f\"Wilderness_Area_{i}\" for i in range(4)])\n",
    "prep_v2 = StandardScaler(columns=[f\"Soil_Type_{i}\" for i in range(40)])"
   ]
  },
  {
   "cell_type": "markdown",
   "id": "282a6078",
   "metadata": {},
   "source": [
    "Since we'll be training a multiclass prediction model, we have to pass some information to XGBoost. For instance, XGBoost expects us to provide the number of classes, and multiclass-enabled evaluation metrices.\n",
    "\n",
    "With these parameters in place, we'll create a Ray AIR `XGBoostTrainer`:"
   ]
  },
  {
   "cell_type": "code",
   "execution_count": 5,
   "id": "bbece53a",
   "metadata": {},
   "outputs": [],
   "source": [
    "# XGBoost specific params\n",
    "params = {\n",
    "    \"tree_method\": \"approx\",\n",
    "    \"objective\": \"multi:softmax\",\n",
    "    \"eval_metric\": [\"mlogloss\", \"merror\"],\n",
    "    \"num_class\": 8,\n",
    "}\n",
    "\n",
    "trainer = XGBoostTrainer(\n",
    "    scaling_config={\"num_workers\": 2},\n",
    "    label_column=\"target\",\n",
    "    params=params,\n",
    "    datasets={\"train\": train_dataset},\n",
    "    num_boost_round=10,\n",
    ")"
   ]
  },
  {
   "cell_type": "markdown",
   "id": "e436035b",
   "metadata": {},
   "source": [
    "The trainer contains a few default parameters. We can now create the Tuner with a search space for other parameters. During the run, it will then overwrite the default parameters in the trainer according to the search specification.\n",
    "\n",
    "Here, we just want to tune the XGBoost `max_depth` parameter. Additionally, we want to compare our two `preprocessor` pipelines. Lastly, we configure Tune to minimize the `train-mlogloss` metric. In random search, this doesn't affect the evaluated configurations, but it will affect our default results fetching for analysis later."
   ]
  },
  {
   "cell_type": "code",
   "execution_count": 6,
   "id": "c5d00628",
   "metadata": {},
   "outputs": [],
   "source": [
    "tuner = Tuner(\n",
    "    trainer,\n",
    "    param_space={\n",
    "        \"params\": {\"max_depth\": tune.randint(2, 8)},\n",
    "        \"preprocessor\": tune.grid_search([prep_v1, prep_v2]),\n",
    "    },\n",
    "    tune_config=TuneConfig(num_samples=4, metric=\"train-mlogloss\", mode=\"min\"),\n",
    ")"
   ]
  },
  {
   "cell_type": "markdown",
   "id": "378128cc",
   "metadata": {},
   "source": [
    "Let's run the tuning. This will take a few minutes to complete."
   ]
  },
  {
   "cell_type": "code",
   "execution_count": 7,
   "id": "ab642705",
   "metadata": {},
   "outputs": [
    {
     "data": {
      "text/html": [
       "== Status ==<br>Current time: 2022-05-09 17:29:41 (running for 00:04:05.52)<br>Memory usage on this node: 9.3/16.0 GiB<br>Using FIFO scheduling algorithm.<br>Resources requested: 0/16 CPUs, 0/0 GPUs, 0.0/4.63 GiB heap, 0.0/2.0 GiB objects<br>Current best trial: 4544b_00000 with train-mlogloss=0.559286 and parameters={'params': {'max_depth': 7}, 'preprocessor': StandardScaler(columns=['Wilderness_Area_0', 'Wilderness_Area_1', 'Wilderness_Area_2', 'Wilderness_Area_3'], ddof=0, stats={'mean(Wilderness_Area_0)': 0.4488650836815763, 'mean(Wilderness_Area_1)': 0.051434393781884025, 'mean(Wilderness_Area_2)': 0.4360736094951567, 'mean(Wilderness_Area_3)': 0.06362691304138296, 'std(Wilderness_Area_0)': 0.4973783472700716, 'std(Wilderness_Area_1)': 0.22088208826922595, 'std(Wilderness_Area_2)': 0.4958965785292558, 'std(Wilderness_Area_3)': 0.2440871339874498})}<br>Result logdir: /Users/kai/ray_results/XGBoostTrainer_2022-05-09_17-25-34<br>Number of trials: 8/8 (8 TERMINATED)<br><table>\n",
       "<thead>\n",
       "<tr><th>Trial name                </th><th>status    </th><th>loc            </th><th style=\"text-align: right;\">  params/max_depth</th><th>preprocessor                                                                                                                                                                                                                                                                                                                                                                                                                                                                                                                                                                                                                                                                                      </th><th style=\"text-align: right;\">  iter</th><th style=\"text-align: right;\">  total time (s)</th><th style=\"text-align: right;\">  train-mlogloss</th><th style=\"text-align: right;\">  train-merror</th></tr>\n",
       "</thead>\n",
       "<tbody>\n",
       "<tr><td>XGBoostTrainer_4544b_00000</td><td>TERMINATED</td><td>127.0.0.1:57483</td><td style=\"text-align: right;\">                 7</td><td>StandardScaler(columns=[&#x27;Wilderness_Area_0&#x27;, &#x27;Wilderness_Area_1&#x27;, &#x27;Wilderness_Area_2&#x27;, &#x27;Wilderness_Area_3&#x27;], ddof=0, stats=None)                                                                                                                                                                                                                                                                                                                                                                                                                                                                                                                                                                  </td><td style=\"text-align: right;\">    10</td><td style=\"text-align: right;\">        170.091 </td><td style=\"text-align: right;\">        0.559286</td><td style=\"text-align: right;\">      0.197125</td></tr>\n",
       "<tr><td>XGBoostTrainer_4544b_00001</td><td>TERMINATED</td><td>127.0.0.1:57490</td><td style=\"text-align: right;\">                 3</td><td>StandardScaler(columns=[&#x27;Soil_Type_0&#x27;, &#x27;Soil_Type_1&#x27;, &#x27;Soil_Type_2&#x27;, &#x27;Soil_Type_3&#x27;, &#x27;Soil_Type_4&#x27;, &#x27;Soil_Type_5&#x27;, &#x27;Soil_Type_6&#x27;, &#x27;Soil_Type_7&#x27;, &#x27;Soil_Type_8&#x27;, &#x27;Soil_Type_9&#x27;, &#x27;Soil_Type_10&#x27;, &#x27;Soil_Type_11&#x27;, &#x27;Soil_Type_12&#x27;, &#x27;Soil_Type_13&#x27;, &#x27;Soil_Type_14&#x27;, &#x27;Soil_Type_15&#x27;, &#x27;Soil_Type_16&#x27;, &#x27;Soil_Type_17&#x27;, &#x27;Soil_Type_18&#x27;, &#x27;Soil_Type_19&#x27;, &#x27;Soil_Type_20&#x27;, &#x27;Soil_Type_21&#x27;, &#x27;Soil_Type_22&#x27;, &#x27;Soil_Type_23&#x27;, &#x27;Soil_Type_24&#x27;, &#x27;Soil_Type_25&#x27;, &#x27;Soil_Type_26&#x27;, &#x27;Soil_Type_27&#x27;, &#x27;Soil_Type_28&#x27;, &#x27;Soil_Type_29&#x27;, &#x27;Soil_Type_30&#x27;, &#x27;Soil_Type_31&#x27;, &#x27;Soil_Type_32&#x27;, &#x27;Soil_Type_33&#x27;, &#x27;Soil_Type_34&#x27;, &#x27;Soil_Type_35&#x27;, &#x27;Soil_Type_36&#x27;, &#x27;Soil_Type_37&#x27;, &#x27;Soil_Type_38&#x27;, &#x27;Soil_Type_39&#x27;], ddof=0, stats=None)</td><td style=\"text-align: right;\">    10</td><td style=\"text-align: right;\">        124.795 </td><td style=\"text-align: right;\">        0.742797</td><td style=\"text-align: right;\">      0.279679</td></tr>\n",
       "<tr><td>XGBoostTrainer_4544b_00002</td><td>TERMINATED</td><td>127.0.0.1:57492</td><td style=\"text-align: right;\">                 4</td><td>StandardScaler(columns=[&#x27;Wilderness_Area_0&#x27;, &#x27;Wilderness_Area_1&#x27;, &#x27;Wilderness_Area_2&#x27;, &#x27;Wilderness_Area_3&#x27;], ddof=0, stats=None)                                                                                                                                                                                                                                                                                                                                                                                                                                                                                                                                                                  </td><td style=\"text-align: right;\">    10</td><td style=\"text-align: right;\">        118.53  </td><td style=\"text-align: right;\">        0.69843 </td><td style=\"text-align: right;\">      0.262468</td></tr>\n",
       "<tr><td>XGBoostTrainer_4544b_00003</td><td>TERMINATED</td><td>127.0.0.1:57493</td><td style=\"text-align: right;\">                 7</td><td>StandardScaler(columns=[&#x27;Soil_Type_0&#x27;, &#x27;Soil_Type_1&#x27;, &#x27;Soil_Type_2&#x27;, &#x27;Soil_Type_3&#x27;, &#x27;Soil_Type_4&#x27;, &#x27;Soil_Type_5&#x27;, &#x27;Soil_Type_6&#x27;, &#x27;Soil_Type_7&#x27;, &#x27;Soil_Type_8&#x27;, &#x27;Soil_Type_9&#x27;, &#x27;Soil_Type_10&#x27;, &#x27;Soil_Type_11&#x27;, &#x27;Soil_Type_12&#x27;, &#x27;Soil_Type_13&#x27;, &#x27;Soil_Type_14&#x27;, &#x27;Soil_Type_15&#x27;, &#x27;Soil_Type_16&#x27;, &#x27;Soil_Type_17&#x27;, &#x27;Soil_Type_18&#x27;, &#x27;Soil_Type_19&#x27;, &#x27;Soil_Type_20&#x27;, &#x27;Soil_Type_21&#x27;, &#x27;Soil_Type_22&#x27;, &#x27;Soil_Type_23&#x27;, &#x27;Soil_Type_24&#x27;, &#x27;Soil_Type_25&#x27;, &#x27;Soil_Type_26&#x27;, &#x27;Soil_Type_27&#x27;, &#x27;Soil_Type_28&#x27;, &#x27;Soil_Type_29&#x27;, &#x27;Soil_Type_30&#x27;, &#x27;Soil_Type_31&#x27;, &#x27;Soil_Type_32&#x27;, &#x27;Soil_Type_33&#x27;, &#x27;Soil_Type_34&#x27;, &#x27;Soil_Type_35&#x27;, &#x27;Soil_Type_36&#x27;, &#x27;Soil_Type_37&#x27;, &#x27;Soil_Type_38&#x27;, &#x27;Soil_Type_39&#x27;], ddof=0, stats=None)</td><td style=\"text-align: right;\">    10</td><td style=\"text-align: right;\">        176.61  </td><td style=\"text-align: right;\">        0.559286</td><td style=\"text-align: right;\">      0.197125</td></tr>\n",
       "<tr><td>XGBoostTrainer_4544b_00004</td><td>TERMINATED</td><td>127.0.0.1:57494</td><td style=\"text-align: right;\">                 2</td><td>StandardScaler(columns=[&#x27;Wilderness_Area_0&#x27;, &#x27;Wilderness_Area_1&#x27;, &#x27;Wilderness_Area_2&#x27;, &#x27;Wilderness_Area_3&#x27;], ddof=0, stats=None)                                                                                                                                                                                                                                                                                                                                                                                                                                                                                                                                                                  </td><td style=\"text-align: right;\">    10</td><td style=\"text-align: right;\">        123.421 </td><td style=\"text-align: right;\">        0.79498 </td><td style=\"text-align: right;\">      0.311035</td></tr>\n",
       "<tr><td>XGBoostTrainer_4544b_00005</td><td>TERMINATED</td><td>127.0.0.1:57679</td><td style=\"text-align: right;\">                 2</td><td>StandardScaler(columns=[&#x27;Soil_Type_0&#x27;, &#x27;Soil_Type_1&#x27;, &#x27;Soil_Type_2&#x27;, &#x27;Soil_Type_3&#x27;, &#x27;Soil_Type_4&#x27;, &#x27;Soil_Type_5&#x27;, &#x27;Soil_Type_6&#x27;, &#x27;Soil_Type_7&#x27;, &#x27;Soil_Type_8&#x27;, &#x27;Soil_Type_9&#x27;, &#x27;Soil_Type_10&#x27;, &#x27;Soil_Type_11&#x27;, &#x27;Soil_Type_12&#x27;, &#x27;Soil_Type_13&#x27;, &#x27;Soil_Type_14&#x27;, &#x27;Soil_Type_15&#x27;, &#x27;Soil_Type_16&#x27;, &#x27;Soil_Type_17&#x27;, &#x27;Soil_Type_18&#x27;, &#x27;Soil_Type_19&#x27;, &#x27;Soil_Type_20&#x27;, &#x27;Soil_Type_21&#x27;, &#x27;Soil_Type_22&#x27;, &#x27;Soil_Type_23&#x27;, &#x27;Soil_Type_24&#x27;, &#x27;Soil_Type_25&#x27;, &#x27;Soil_Type_26&#x27;, &#x27;Soil_Type_27&#x27;, &#x27;Soil_Type_28&#x27;, &#x27;Soil_Type_29&#x27;, &#x27;Soil_Type_30&#x27;, &#x27;Soil_Type_31&#x27;, &#x27;Soil_Type_32&#x27;, &#x27;Soil_Type_33&#x27;, &#x27;Soil_Type_34&#x27;, &#x27;Soil_Type_35&#x27;, &#x27;Soil_Type_36&#x27;, &#x27;Soil_Type_37&#x27;, &#x27;Soil_Type_38&#x27;, &#x27;Soil_Type_39&#x27;], ddof=0, stats=None)</td><td style=\"text-align: right;\">    10</td><td style=\"text-align: right;\">         73.3928</td><td style=\"text-align: right;\">        0.79498 </td><td style=\"text-align: right;\">      0.311035</td></tr>\n",
       "<tr><td>XGBoostTrainer_4544b_00006</td><td>TERMINATED</td><td>127.0.0.1:57695</td><td style=\"text-align: right;\">                 2</td><td>StandardScaler(columns=[&#x27;Wilderness_Area_0&#x27;, &#x27;Wilderness_Area_1&#x27;, &#x27;Wilderness_Area_2&#x27;, &#x27;Wilderness_Area_3&#x27;], ddof=0, stats=None)                                                                                                                                                                                                                                                                                                                                                                                                                                                                                                                                                                  </td><td style=\"text-align: right;\">    10</td><td style=\"text-align: right;\">         67.2584</td><td style=\"text-align: right;\">        0.79498 </td><td style=\"text-align: right;\">      0.311035</td></tr>\n",
       "<tr><td>XGBoostTrainer_4544b_00007</td><td>TERMINATED</td><td>127.0.0.1:57698</td><td style=\"text-align: right;\">                 6</td><td>StandardScaler(columns=[&#x27;Soil_Type_0&#x27;, &#x27;Soil_Type_1&#x27;, &#x27;Soil_Type_2&#x27;, &#x27;Soil_Type_3&#x27;, &#x27;Soil_Type_4&#x27;, &#x27;Soil_Type_5&#x27;, &#x27;Soil_Type_6&#x27;, &#x27;Soil_Type_7&#x27;, &#x27;Soil_Type_8&#x27;, &#x27;Soil_Type_9&#x27;, &#x27;Soil_Type_10&#x27;, &#x27;Soil_Type_11&#x27;, &#x27;Soil_Type_12&#x27;, &#x27;Soil_Type_13&#x27;, &#x27;Soil_Type_14&#x27;, &#x27;Soil_Type_15&#x27;, &#x27;Soil_Type_16&#x27;, &#x27;Soil_Type_17&#x27;, &#x27;Soil_Type_18&#x27;, &#x27;Soil_Type_19&#x27;, &#x27;Soil_Type_20&#x27;, &#x27;Soil_Type_21&#x27;, &#x27;Soil_Type_22&#x27;, &#x27;Soil_Type_23&#x27;, &#x27;Soil_Type_24&#x27;, &#x27;Soil_Type_25&#x27;, &#x27;Soil_Type_26&#x27;, &#x27;Soil_Type_27&#x27;, &#x27;Soil_Type_28&#x27;, &#x27;Soil_Type_29&#x27;, &#x27;Soil_Type_30&#x27;, &#x27;Soil_Type_31&#x27;, &#x27;Soil_Type_32&#x27;, &#x27;Soil_Type_33&#x27;, &#x27;Soil_Type_34&#x27;, &#x27;Soil_Type_35&#x27;, &#x27;Soil_Type_36&#x27;, &#x27;Soil_Type_37&#x27;, &#x27;Soil_Type_38&#x27;, &#x27;Soil_Type_39&#x27;], ddof=0, stats=None)</td><td style=\"text-align: right;\">    10</td><td style=\"text-align: right;\">        104.358 </td><td style=\"text-align: right;\">        0.607805</td><td style=\"text-align: right;\">      0.220687</td></tr>\n",
       "</tbody>\n",
       "</table><br><br>"
      ],
      "text/plain": [
       "<IPython.core.display.HTML object>"
      ]
     },
     "metadata": {},
     "output_type": "display_data"
    },
    {
     "name": "stderr",
     "output_type": "stream",
     "text": [
      "\u001B[2m\u001B[36m(GBDTTrainable pid=57483)\u001B[0m UserWarning: Dataset 'train' has 1 blocks, which is less than the `num_workers` 2. This dataset will be automatically repartitioned to 2 blocks.\n",
      "\u001B[2m\u001B[36m(GBDTTrainable pid=57492)\u001B[0m UserWarning: Dataset 'train' has 1 blocks, which is less than the `num_workers` 2. This dataset will be automatically repartitioned to 2 blocks.\n",
      "\u001B[2m\u001B[36m(GBDTTrainable pid=57483)\u001B[0m 2022-05-09 17:25:49,733\tINFO main.py:984 -- [RayXGBoost] Created 2 new actors (2 total actors). Waiting until actors are ready for training.\n",
      "\u001B[2m\u001B[36m(GBDTTrainable pid=57492)\u001B[0m 2022-05-09 17:25:50,325\tINFO main.py:984 -- [RayXGBoost] Created 2 new actors (2 total actors). Waiting until actors are ready for training.\n",
      "\u001B[2m\u001B[36m(GBDTTrainable pid=57493)\u001B[0m UserWarning: Dataset 'train' has 1 blocks, which is less than the `num_workers` 2. This dataset will be automatically repartitioned to 2 blocks.\n",
      "\u001B[2m\u001B[36m(GBDTTrainable pid=57493)\u001B[0m 2022-05-09 17:25:57,753\tINFO main.py:984 -- [RayXGBoost] Created 2 new actors (2 total actors). Waiting until actors are ready for training.\n",
      "\u001B[2m\u001B[36m(GBDTTrainable pid=57492)\u001B[0m 2022-05-09 17:25:58,794\tINFO main.py:1029 -- [RayXGBoost] Starting XGBoost training.\n",
      "\u001B[2m\u001B[36m(_RemoteRayXGBoostActor pid=57530)\u001B[0m [17:25:58] task [xgboost.ray]:4713689232 got new rank 1\n",
      "\u001B[2m\u001B[36m(_RemoteRayXGBoostActor pid=57529)\u001B[0m [17:25:58] task [xgboost.ray]:4658410640 got new rank 0\n",
      "\u001B[2m\u001B[36m(GBDTTrainable pid=57483)\u001B[0m 2022-05-09 17:26:00,114\tINFO main.py:1029 -- [RayXGBoost] Starting XGBoost training.\n",
      "\u001B[2m\u001B[36m(_RemoteRayXGBoostActor pid=57518)\u001B[0m [17:26:00] task [xgboost.ray]:4659322064 got new rank 1\n",
      "\u001B[2m\u001B[36m(_RemoteRayXGBoostActor pid=57517)\u001B[0m [17:26:00] task [xgboost.ray]:6926068816 got new rank 0\n",
      "\u001B[2m\u001B[36m(GBDTTrainable pid=57490)\u001B[0m UserWarning: Dataset 'train' has 1 blocks, which is less than the `num_workers` 2. This dataset will be automatically repartitioned to 2 blocks.\n",
      "\u001B[2m\u001B[36m(GBDTTrainable pid=57490)\u001B[0m 2022-05-09 17:26:06,933\tINFO main.py:984 -- [RayXGBoost] Created 2 new actors (2 total actors). Waiting until actors are ready for training.\n",
      "\u001B[2m\u001B[36m(raylet)\u001B[0m Spilled 2534 MiB, 41 objects, write throughput 412 MiB/s. Set RAY_verbose_spill_logs=0 to disable this message.\n",
      "\u001B[2m\u001B[36m(GBDTTrainable pid=57493)\u001B[0m 2022-05-09 17:26:07,247\tINFO main.py:1029 -- [RayXGBoost] Starting XGBoost training.\n",
      "\u001B[2m\u001B[36m(_RemoteRayXGBoostActor pid=57568)\u001B[0m [17:26:07] task [xgboost.ray]:6894636048 got new rank 0\n",
      "\u001B[2m\u001B[36m(_RemoteRayXGBoostActor pid=57570)\u001B[0m [17:26:07] task [xgboost.ray]:6860465168 got new rank 1\n"
     ]
    },
    {
     "name": "stdout",
     "output_type": "stream",
     "text": [
      "Trial XGBoostTrainer_4544b_00002 reported train-mlogloss=1.52 with parameters={'params': {'max_depth': 4}, 'preprocessor': StandardScaler(columns=['Wilderness_Area_0', 'Wilderness_Area_1', 'Wilderness_Area_2', 'Wilderness_Area_3'], ddof=0, stats=None)}.\n",
      "Trial XGBoostTrainer_4544b_00000 reported train-mlogloss=1.45 with parameters={'params': {'max_depth': 7}, 'preprocessor': StandardScaler(columns=['Wilderness_Area_0', 'Wilderness_Area_1', 'Wilderness_Area_2', 'Wilderness_Area_3'], ddof=0, stats=None)}.\n",
      "Trial XGBoostTrainer_4544b_00002 reported train-mlogloss=1.27 with parameters={'params': {'max_depth': 4}, 'preprocessor': StandardScaler(columns=['Wilderness_Area_0', 'Wilderness_Area_1', 'Wilderness_Area_2', 'Wilderness_Area_3'], ddof=0, stats=None)}.\n"
     ]
    },
    {
     "name": "stderr",
     "output_type": "stream",
     "text": [
      "\u001B[2m\u001B[36m(GBDTTrainable pid=57494)\u001B[0m UserWarning: Dataset 'train' has 1 blocks, which is less than the `num_workers` 2. This dataset will be automatically repartitioned to 2 blocks.\n",
      "\u001B[2m\u001B[36m(GBDTTrainable pid=57490)\u001B[0m 2022-05-09 17:26:20,736\tINFO main.py:1029 -- [RayXGBoost] Starting XGBoost training.\n",
      "\u001B[2m\u001B[36m(_RemoteRayXGBoostActor pid=57597)\u001B[0m [17:26:20] task [xgboost.ray]:4493606160 got new rank 1\n",
      "\u001B[2m\u001B[36m(_RemoteRayXGBoostActor pid=57596)\u001B[0m [17:26:20] task [xgboost.ray]:4600864528 got new rank 0\n",
      "\u001B[2m\u001B[36m(GBDTTrainable pid=57494)\u001B[0m 2022-05-09 17:26:22,823\tINFO main.py:984 -- [RayXGBoost] Created 2 new actors (2 total actors). Waiting until actors are ready for training.\n",
      "\u001B[2m\u001B[36m(raylet)\u001B[0m Spilled 4345 MiB, 76 objects, write throughput 349 MiB/s.\n"
     ]
    },
    {
     "name": "stdout",
     "output_type": "stream",
     "text": [
      "Trial XGBoostTrainer_4544b_00003 reported train-mlogloss=1.45 with parameters={'params': {'max_depth': 7}, 'preprocessor': StandardScaler(columns=['Soil_Type_0', 'Soil_Type_1', 'Soil_Type_2', 'Soil_Type_3', 'Soil_Type_4', 'Soil_Type_5', 'Soil_Type_6', 'Soil_Type_7', 'Soil_Type_8', 'Soil_Type_9', 'Soil_Type_10', 'Soil_Type_11', 'Soil_Type_12', 'Soil_Type_13', 'Soil_Type_14', 'Soil_Type_15', 'Soil_Type_16', 'Soil_Type_17', 'Soil_Type_18', 'Soil_Type_19', 'Soil_Type_20', 'Soil_Type_21', 'Soil_Type_22', 'Soil_Type_23', 'Soil_Type_24', 'Soil_Type_25', 'Soil_Type_26', 'Soil_Type_27', 'Soil_Type_28', 'Soil_Type_29', 'Soil_Type_30', 'Soil_Type_31', 'Soil_Type_32', 'Soil_Type_33', 'Soil_Type_34', 'Soil_Type_35', 'Soil_Type_36', 'Soil_Type_37', 'Soil_Type_38', 'Soil_Type_39'], ddof=0, stats=None)}.\n",
      "Trial XGBoostTrainer_4544b_00002 reported train-mlogloss=1.10 with parameters={'params': {'max_depth': 4}, 'preprocessor': StandardScaler(columns=['Wilderness_Area_0', 'Wilderness_Area_1', 'Wilderness_Area_2', 'Wilderness_Area_3'], ddof=0, stats=None)}.\n"
     ]
    },
    {
     "name": "stderr",
     "output_type": "stream",
     "text": [
      "\u001B[2m\u001B[36m(GBDTTrainable pid=57492)\u001B[0m 2022-05-09 17:26:29,559\tINFO main.py:1113 -- Training in progress (31 seconds since last restart).\n",
      "\u001B[2m\u001B[36m(GBDTTrainable pid=57483)\u001B[0m 2022-05-09 17:26:30,787\tINFO main.py:1113 -- Training in progress (30 seconds since last restart).\n"
     ]
    },
    {
     "name": "stdout",
     "output_type": "stream",
     "text": [
      "Trial XGBoostTrainer_4544b_00000 reported train-mlogloss=1.17 with parameters={'params': {'max_depth': 7}, 'preprocessor': StandardScaler(columns=['Wilderness_Area_0', 'Wilderness_Area_1', 'Wilderness_Area_2', 'Wilderness_Area_3'], ddof=0, stats=None)}.\n"
     ]
    },
    {
     "name": "stderr",
     "output_type": "stream",
     "text": [
      "\u001B[2m\u001B[36m(GBDTTrainable pid=57493)\u001B[0m 2022-05-09 17:26:37,417\tINFO main.py:1113 -- Training in progress (30 seconds since last restart).\n"
     ]
    },
    {
     "name": "stdout",
     "output_type": "stream",
     "text": [
      "Trial XGBoostTrainer_4544b_00001 reported train-mlogloss=1.54 with parameters={'params': {'max_depth': 3}, 'preprocessor': StandardScaler(columns=['Soil_Type_0', 'Soil_Type_1', 'Soil_Type_2', 'Soil_Type_3', 'Soil_Type_4', 'Soil_Type_5', 'Soil_Type_6', 'Soil_Type_7', 'Soil_Type_8', 'Soil_Type_9', 'Soil_Type_10', 'Soil_Type_11', 'Soil_Type_12', 'Soil_Type_13', 'Soil_Type_14', 'Soil_Type_15', 'Soil_Type_16', 'Soil_Type_17', 'Soil_Type_18', 'Soil_Type_19', 'Soil_Type_20', 'Soil_Type_21', 'Soil_Type_22', 'Soil_Type_23', 'Soil_Type_24', 'Soil_Type_25', 'Soil_Type_26', 'Soil_Type_27', 'Soil_Type_28', 'Soil_Type_29', 'Soil_Type_30', 'Soil_Type_31', 'Soil_Type_32', 'Soil_Type_33', 'Soil_Type_34', 'Soil_Type_35', 'Soil_Type_36', 'Soil_Type_37', 'Soil_Type_38', 'Soil_Type_39'], ddof=0, stats=None)}.\n"
     ]
    },
    {
     "name": "stderr",
     "output_type": "stream",
     "text": [
      "\u001B[2m\u001B[36m(GBDTTrainable pid=57494)\u001B[0m 2022-05-09 17:26:42,390\tINFO main.py:1029 -- [RayXGBoost] Starting XGBoost training.\n",
      "\u001B[2m\u001B[36m(_RemoteRayXGBoostActor pid=57629)\u001B[0m [17:26:42] task [xgboost.ray]:4494865552 got new rank 0\n",
      "\u001B[2m\u001B[36m(_RemoteRayXGBoostActor pid=57630)\u001B[0m [17:26:42] task [xgboost.ray]:4522602896 got new rank 1\n"
     ]
    },
    {
     "name": "stdout",
     "output_type": "stream",
     "text": [
      "Trial XGBoostTrainer_4544b_00002 reported train-mlogloss=0.99 with parameters={'params': {'max_depth': 4}, 'preprocessor': StandardScaler(columns=['Wilderness_Area_0', 'Wilderness_Area_1', 'Wilderness_Area_2', 'Wilderness_Area_3'], ddof=0, stats=None)}.\n",
      "Trial XGBoostTrainer_4544b_00001 reported train-mlogloss=1.30 with parameters={'params': {'max_depth': 3}, 'preprocessor': StandardScaler(columns=['Soil_Type_0', 'Soil_Type_1', 'Soil_Type_2', 'Soil_Type_3', 'Soil_Type_4', 'Soil_Type_5', 'Soil_Type_6', 'Soil_Type_7', 'Soil_Type_8', 'Soil_Type_9', 'Soil_Type_10', 'Soil_Type_11', 'Soil_Type_12', 'Soil_Type_13', 'Soil_Type_14', 'Soil_Type_15', 'Soil_Type_16', 'Soil_Type_17', 'Soil_Type_18', 'Soil_Type_19', 'Soil_Type_20', 'Soil_Type_21', 'Soil_Type_22', 'Soil_Type_23', 'Soil_Type_24', 'Soil_Type_25', 'Soil_Type_26', 'Soil_Type_27', 'Soil_Type_28', 'Soil_Type_29', 'Soil_Type_30', 'Soil_Type_31', 'Soil_Type_32', 'Soil_Type_33', 'Soil_Type_34', 'Soil_Type_35', 'Soil_Type_36', 'Soil_Type_37', 'Soil_Type_38', 'Soil_Type_39'], ddof=0, stats=None)}.\n",
      "Trial XGBoostTrainer_4544b_00003 reported train-mlogloss=1.17 with parameters={'params': {'max_depth': 7}, 'preprocessor': StandardScaler(columns=['Soil_Type_0', 'Soil_Type_1', 'Soil_Type_2', 'Soil_Type_3', 'Soil_Type_4', 'Soil_Type_5', 'Soil_Type_6', 'Soil_Type_7', 'Soil_Type_8', 'Soil_Type_9', 'Soil_Type_10', 'Soil_Type_11', 'Soil_Type_12', 'Soil_Type_13', 'Soil_Type_14', 'Soil_Type_15', 'Soil_Type_16', 'Soil_Type_17', 'Soil_Type_18', 'Soil_Type_19', 'Soil_Type_20', 'Soil_Type_21', 'Soil_Type_22', 'Soil_Type_23', 'Soil_Type_24', 'Soil_Type_25', 'Soil_Type_26', 'Soil_Type_27', 'Soil_Type_28', 'Soil_Type_29', 'Soil_Type_30', 'Soil_Type_31', 'Soil_Type_32', 'Soil_Type_33', 'Soil_Type_34', 'Soil_Type_35', 'Soil_Type_36', 'Soil_Type_37', 'Soil_Type_38', 'Soil_Type_39'], ddof=0, stats=None)}.\n"
     ]
    },
    {
     "name": "stderr",
     "output_type": "stream",
     "text": [
      "\u001B[2m\u001B[36m(GBDTTrainable pid=57490)\u001B[0m 2022-05-09 17:26:51,750\tINFO main.py:1113 -- Training in progress (31 seconds since last restart).\n"
     ]
    },
    {
     "name": "stdout",
     "output_type": "stream",
     "text": [
      "Trial XGBoostTrainer_4544b_00002 reported train-mlogloss=0.90 with parameters={'params': {'max_depth': 4}, 'preprocessor': StandardScaler(columns=['Wilderness_Area_0', 'Wilderness_Area_1', 'Wilderness_Area_2', 'Wilderness_Area_3'], ddof=0, stats=None)}.\n",
      "Trial XGBoostTrainer_4544b_00000 reported train-mlogloss=0.99 with parameters={'params': {'max_depth': 7}, 'preprocessor': StandardScaler(columns=['Wilderness_Area_0', 'Wilderness_Area_1', 'Wilderness_Area_2', 'Wilderness_Area_3'], ddof=0, stats=None)}.\n",
      "Trial XGBoostTrainer_4544b_00004 reported train-mlogloss=1.57 with parameters={'params': {'max_depth': 2}, 'preprocessor': StandardScaler(columns=['Wilderness_Area_0', 'Wilderness_Area_1', 'Wilderness_Area_2', 'Wilderness_Area_3'], ddof=0, stats=None)}.\n",
      "Trial XGBoostTrainer_4544b_00001 reported train-mlogloss=1.14 with parameters={'params': {'max_depth': 3}, 'preprocessor': StandardScaler(columns=['Soil_Type_0', 'Soil_Type_1', 'Soil_Type_2', 'Soil_Type_3', 'Soil_Type_4', 'Soil_Type_5', 'Soil_Type_6', 'Soil_Type_7', 'Soil_Type_8', 'Soil_Type_9', 'Soil_Type_10', 'Soil_Type_11', 'Soil_Type_12', 'Soil_Type_13', 'Soil_Type_14', 'Soil_Type_15', 'Soil_Type_16', 'Soil_Type_17', 'Soil_Type_18', 'Soil_Type_19', 'Soil_Type_20', 'Soil_Type_21', 'Soil_Type_22', 'Soil_Type_23', 'Soil_Type_24', 'Soil_Type_25', 'Soil_Type_26', 'Soil_Type_27', 'Soil_Type_28', 'Soil_Type_29', 'Soil_Type_30', 'Soil_Type_31', 'Soil_Type_32', 'Soil_Type_33', 'Soil_Type_34', 'Soil_Type_35', 'Soil_Type_36', 'Soil_Type_37', 'Soil_Type_38', 'Soil_Type_39'], ddof=0, stats=None)}.\n",
      "Trial XGBoostTrainer_4544b_00004 reported train-mlogloss=1.33 with parameters={'params': {'max_depth': 2}, 'preprocessor': StandardScaler(columns=['Wilderness_Area_0', 'Wilderness_Area_1', 'Wilderness_Area_2', 'Wilderness_Area_3'], ddof=0, stats=None)}.\n"
     ]
    },
    {
     "name": "stderr",
     "output_type": "stream",
     "text": [
      "\u001B[2m\u001B[36m(GBDTTrainable pid=57492)\u001B[0m 2022-05-09 17:26:59,899\tINFO main.py:1113 -- Training in progress (61 seconds since last restart).\n",
      "\u001B[2m\u001B[36m(GBDTTrainable pid=57483)\u001B[0m 2022-05-09 17:27:01,002\tINFO main.py:1113 -- Training in progress (61 seconds since last restart).\n"
     ]
    },
    {
     "name": "stdout",
     "output_type": "stream",
     "text": [
      "Trial XGBoostTrainer_4544b_00002 reported train-mlogloss=0.84 with parameters={'params': {'max_depth': 4}, 'preprocessor': StandardScaler(columns=['Wilderness_Area_0', 'Wilderness_Area_1', 'Wilderness_Area_2', 'Wilderness_Area_3'], ddof=0, stats=None)}.\n",
      "Trial XGBoostTrainer_4544b_00001 reported train-mlogloss=1.02 with parameters={'params': {'max_depth': 3}, 'preprocessor': StandardScaler(columns=['Soil_Type_0', 'Soil_Type_1', 'Soil_Type_2', 'Soil_Type_3', 'Soil_Type_4', 'Soil_Type_5', 'Soil_Type_6', 'Soil_Type_7', 'Soil_Type_8', 'Soil_Type_9', 'Soil_Type_10', 'Soil_Type_11', 'Soil_Type_12', 'Soil_Type_13', 'Soil_Type_14', 'Soil_Type_15', 'Soil_Type_16', 'Soil_Type_17', 'Soil_Type_18', 'Soil_Type_19', 'Soil_Type_20', 'Soil_Type_21', 'Soil_Type_22', 'Soil_Type_23', 'Soil_Type_24', 'Soil_Type_25', 'Soil_Type_26', 'Soil_Type_27', 'Soil_Type_28', 'Soil_Type_29', 'Soil_Type_30', 'Soil_Type_31', 'Soil_Type_32', 'Soil_Type_33', 'Soil_Type_34', 'Soil_Type_35', 'Soil_Type_36', 'Soil_Type_37', 'Soil_Type_38', 'Soil_Type_39'], ddof=0, stats=None)}.\n",
      "Trial XGBoostTrainer_4544b_00004 reported train-mlogloss=1.18 with parameters={'params': {'max_depth': 2}, 'preprocessor': StandardScaler(columns=['Wilderness_Area_0', 'Wilderness_Area_1', 'Wilderness_Area_2', 'Wilderness_Area_3'], ddof=0, stats=None)}.\n",
      "Trial XGBoostTrainer_4544b_00003 reported train-mlogloss=0.99 with parameters={'params': {'max_depth': 7}, 'preprocessor': StandardScaler(columns=['Soil_Type_0', 'Soil_Type_1', 'Soil_Type_2', 'Soil_Type_3', 'Soil_Type_4', 'Soil_Type_5', 'Soil_Type_6', 'Soil_Type_7', 'Soil_Type_8', 'Soil_Type_9', 'Soil_Type_10', 'Soil_Type_11', 'Soil_Type_12', 'Soil_Type_13', 'Soil_Type_14', 'Soil_Type_15', 'Soil_Type_16', 'Soil_Type_17', 'Soil_Type_18', 'Soil_Type_19', 'Soil_Type_20', 'Soil_Type_21', 'Soil_Type_22', 'Soil_Type_23', 'Soil_Type_24', 'Soil_Type_25', 'Soil_Type_26', 'Soil_Type_27', 'Soil_Type_28', 'Soil_Type_29', 'Soil_Type_30', 'Soil_Type_31', 'Soil_Type_32', 'Soil_Type_33', 'Soil_Type_34', 'Soil_Type_35', 'Soil_Type_36', 'Soil_Type_37', 'Soil_Type_38', 'Soil_Type_39'], ddof=0, stats=None)}.\n"
     ]
    },
    {
     "name": "stderr",
     "output_type": "stream",
     "text": [
      "\u001B[2m\u001B[36m(GBDTTrainable pid=57493)\u001B[0m 2022-05-09 17:27:08,169\tINFO main.py:1113 -- Training in progress (61 seconds since last restart).\n"
     ]
    },
    {
     "name": "stdout",
     "output_type": "stream",
     "text": [
      "Trial XGBoostTrainer_4544b_00000 reported train-mlogloss=0.87 with parameters={'params': {'max_depth': 7}, 'preprocessor': StandardScaler(columns=['Wilderness_Area_0', 'Wilderness_Area_1', 'Wilderness_Area_2', 'Wilderness_Area_3'], ddof=0, stats=None)}.\n",
      "Trial XGBoostTrainer_4544b_00001 reported train-mlogloss=0.94 with parameters={'params': {'max_depth': 3}, 'preprocessor': StandardScaler(columns=['Soil_Type_0', 'Soil_Type_1', 'Soil_Type_2', 'Soil_Type_3', 'Soil_Type_4', 'Soil_Type_5', 'Soil_Type_6', 'Soil_Type_7', 'Soil_Type_8', 'Soil_Type_9', 'Soil_Type_10', 'Soil_Type_11', 'Soil_Type_12', 'Soil_Type_13', 'Soil_Type_14', 'Soil_Type_15', 'Soil_Type_16', 'Soil_Type_17', 'Soil_Type_18', 'Soil_Type_19', 'Soil_Type_20', 'Soil_Type_21', 'Soil_Type_22', 'Soil_Type_23', 'Soil_Type_24', 'Soil_Type_25', 'Soil_Type_26', 'Soil_Type_27', 'Soil_Type_28', 'Soil_Type_29', 'Soil_Type_30', 'Soil_Type_31', 'Soil_Type_32', 'Soil_Type_33', 'Soil_Type_34', 'Soil_Type_35', 'Soil_Type_36', 'Soil_Type_37', 'Soil_Type_38', 'Soil_Type_39'], ddof=0, stats=None)}.\n",
      "Trial XGBoostTrainer_4544b_00004 reported train-mlogloss=1.07 with parameters={'params': {'max_depth': 2}, 'preprocessor': StandardScaler(columns=['Wilderness_Area_0', 'Wilderness_Area_1', 'Wilderness_Area_2', 'Wilderness_Area_3'], ddof=0, stats=None)}.\n"
     ]
    },
    {
     "name": "stderr",
     "output_type": "stream",
     "text": [
      "\u001B[2m\u001B[36m(GBDTTrainable pid=57494)\u001B[0m 2022-05-09 17:27:12,904\tINFO main.py:1113 -- Training in progress (30 seconds since last restart).\n"
     ]
    },
    {
     "name": "stdout",
     "output_type": "stream",
     "text": [
      "Trial XGBoostTrainer_4544b_00002 reported train-mlogloss=0.79 with parameters={'params': {'max_depth': 4}, 'preprocessor': StandardScaler(columns=['Wilderness_Area_0', 'Wilderness_Area_1', 'Wilderness_Area_2', 'Wilderness_Area_3'], ddof=0, stats=None)}.\n",
      "Trial XGBoostTrainer_4544b_00004 reported train-mlogloss=0.99 with parameters={'params': {'max_depth': 2}, 'preprocessor': StandardScaler(columns=['Wilderness_Area_0', 'Wilderness_Area_1', 'Wilderness_Area_2', 'Wilderness_Area_3'], ddof=0, stats=None)}.\n",
      "Trial XGBoostTrainer_4544b_00001 reported train-mlogloss=0.88 with parameters={'params': {'max_depth': 3}, 'preprocessor': StandardScaler(columns=['Soil_Type_0', 'Soil_Type_1', 'Soil_Type_2', 'Soil_Type_3', 'Soil_Type_4', 'Soil_Type_5', 'Soil_Type_6', 'Soil_Type_7', 'Soil_Type_8', 'Soil_Type_9', 'Soil_Type_10', 'Soil_Type_11', 'Soil_Type_12', 'Soil_Type_13', 'Soil_Type_14', 'Soil_Type_15', 'Soil_Type_16', 'Soil_Type_17', 'Soil_Type_18', 'Soil_Type_19', 'Soil_Type_20', 'Soil_Type_21', 'Soil_Type_22', 'Soil_Type_23', 'Soil_Type_24', 'Soil_Type_25', 'Soil_Type_26', 'Soil_Type_27', 'Soil_Type_28', 'Soil_Type_29', 'Soil_Type_30', 'Soil_Type_31', 'Soil_Type_32', 'Soil_Type_33', 'Soil_Type_34', 'Soil_Type_35', 'Soil_Type_36', 'Soil_Type_37', 'Soil_Type_38', 'Soil_Type_39'], ddof=0, stats=None)}.\n"
     ]
    },
    {
     "name": "stderr",
     "output_type": "stream",
     "text": [
      "\u001B[2m\u001B[36m(GBDTTrainable pid=57490)\u001B[0m 2022-05-09 17:27:24,226\tINFO main.py:1113 -- Training in progress (63 seconds since last restart).\n"
     ]
    },
    {
     "name": "stdout",
     "output_type": "stream",
     "text": [
      "Trial XGBoostTrainer_4544b_00002 reported train-mlogloss=0.75 with parameters={'params': {'max_depth': 4}, 'preprocessor': StandardScaler(columns=['Wilderness_Area_0', 'Wilderness_Area_1', 'Wilderness_Area_2', 'Wilderness_Area_3'], ddof=0, stats=None)}.\n",
      "Trial XGBoostTrainer_4544b_00003 reported train-mlogloss=0.87 with parameters={'params': {'max_depth': 7}, 'preprocessor': StandardScaler(columns=['Soil_Type_0', 'Soil_Type_1', 'Soil_Type_2', 'Soil_Type_3', 'Soil_Type_4', 'Soil_Type_5', 'Soil_Type_6', 'Soil_Type_7', 'Soil_Type_8', 'Soil_Type_9', 'Soil_Type_10', 'Soil_Type_11', 'Soil_Type_12', 'Soil_Type_13', 'Soil_Type_14', 'Soil_Type_15', 'Soil_Type_16', 'Soil_Type_17', 'Soil_Type_18', 'Soil_Type_19', 'Soil_Type_20', 'Soil_Type_21', 'Soil_Type_22', 'Soil_Type_23', 'Soil_Type_24', 'Soil_Type_25', 'Soil_Type_26', 'Soil_Type_27', 'Soil_Type_28', 'Soil_Type_29', 'Soil_Type_30', 'Soil_Type_31', 'Soil_Type_32', 'Soil_Type_33', 'Soil_Type_34', 'Soil_Type_35', 'Soil_Type_36', 'Soil_Type_37', 'Soil_Type_38', 'Soil_Type_39'], ddof=0, stats=None)}.\n",
      "Trial XGBoostTrainer_4544b_00004 reported train-mlogloss=0.93 with parameters={'params': {'max_depth': 2}, 'preprocessor': StandardScaler(columns=['Wilderness_Area_0', 'Wilderness_Area_1', 'Wilderness_Area_2', 'Wilderness_Area_3'], ddof=0, stats=None)}.\n",
      "Trial XGBoostTrainer_4544b_00000 reported train-mlogloss=0.78 with parameters={'params': {'max_depth': 7}, 'preprocessor': StandardScaler(columns=['Wilderness_Area_0', 'Wilderness_Area_1', 'Wilderness_Area_2', 'Wilderness_Area_3'], ddof=0, stats=None)}.\n",
      "Trial XGBoostTrainer_4544b_00001 reported train-mlogloss=0.84 with parameters={'params': {'max_depth': 3}, 'preprocessor': StandardScaler(columns=['Soil_Type_0', 'Soil_Type_1', 'Soil_Type_2', 'Soil_Type_3', 'Soil_Type_4', 'Soil_Type_5', 'Soil_Type_6', 'Soil_Type_7', 'Soil_Type_8', 'Soil_Type_9', 'Soil_Type_10', 'Soil_Type_11', 'Soil_Type_12', 'Soil_Type_13', 'Soil_Type_14', 'Soil_Type_15', 'Soil_Type_16', 'Soil_Type_17', 'Soil_Type_18', 'Soil_Type_19', 'Soil_Type_20', 'Soil_Type_21', 'Soil_Type_22', 'Soil_Type_23', 'Soil_Type_24', 'Soil_Type_25', 'Soil_Type_26', 'Soil_Type_27', 'Soil_Type_28', 'Soil_Type_29', 'Soil_Type_30', 'Soil_Type_31', 'Soil_Type_32', 'Soil_Type_33', 'Soil_Type_34', 'Soil_Type_35', 'Soil_Type_36', 'Soil_Type_37', 'Soil_Type_38', 'Soil_Type_39'], ddof=0, stats=None)}.\n"
     ]
    },
    {
     "name": "stderr",
     "output_type": "stream",
     "text": [
      "\u001B[2m\u001B[36m(GBDTTrainable pid=57492)\u001B[0m 2022-05-09 17:27:30,840\tINFO main.py:1113 -- Training in progress (92 seconds since last restart).\n"
     ]
    },
    {
     "name": "stdout",
     "output_type": "stream",
     "text": [
      "Trial XGBoostTrainer_4544b_00004 reported train-mlogloss=0.88 with parameters={'params': {'max_depth': 2}, 'preprocessor': StandardScaler(columns=['Wilderness_Area_0', 'Wilderness_Area_1', 'Wilderness_Area_2', 'Wilderness_Area_3'], ddof=0, stats=None)}.\n"
     ]
    },
    {
     "name": "stderr",
     "output_type": "stream",
     "text": [
      "\u001B[2m\u001B[36m(GBDTTrainable pid=57483)\u001B[0m 2022-05-09 17:27:31,839\tINFO main.py:1113 -- Training in progress (92 seconds since last restart).\n"
     ]
    },
    {
     "name": "stdout",
     "output_type": "stream",
     "text": [
      "Trial XGBoostTrainer_4544b_00002 reported train-mlogloss=0.72 with parameters={'params': {'max_depth': 4}, 'preprocessor': StandardScaler(columns=['Wilderness_Area_0', 'Wilderness_Area_1', 'Wilderness_Area_2', 'Wilderness_Area_3'], ddof=0, stats=None)}.\n",
      "Trial XGBoostTrainer_4544b_00001 reported train-mlogloss=0.80 with parameters={'params': {'max_depth': 3}, 'preprocessor': StandardScaler(columns=['Soil_Type_0', 'Soil_Type_1', 'Soil_Type_2', 'Soil_Type_3', 'Soil_Type_4', 'Soil_Type_5', 'Soil_Type_6', 'Soil_Type_7', 'Soil_Type_8', 'Soil_Type_9', 'Soil_Type_10', 'Soil_Type_11', 'Soil_Type_12', 'Soil_Type_13', 'Soil_Type_14', 'Soil_Type_15', 'Soil_Type_16', 'Soil_Type_17', 'Soil_Type_18', 'Soil_Type_19', 'Soil_Type_20', 'Soil_Type_21', 'Soil_Type_22', 'Soil_Type_23', 'Soil_Type_24', 'Soil_Type_25', 'Soil_Type_26', 'Soil_Type_27', 'Soil_Type_28', 'Soil_Type_29', 'Soil_Type_30', 'Soil_Type_31', 'Soil_Type_32', 'Soil_Type_33', 'Soil_Type_34', 'Soil_Type_35', 'Soil_Type_36', 'Soil_Type_37', 'Soil_Type_38', 'Soil_Type_39'], ddof=0, stats=None)}.\n",
      "Trial XGBoostTrainer_4544b_00004 reported train-mlogloss=0.85 with parameters={'params': {'max_depth': 2}, 'preprocessor': StandardScaler(columns=['Wilderness_Area_0', 'Wilderness_Area_1', 'Wilderness_Area_2', 'Wilderness_Area_3'], ddof=0, stats=None)}.\n",
      "Trial XGBoostTrainer_4544b_00003 reported train-mlogloss=0.78 with parameters={'params': {'max_depth': 7}, 'preprocessor': StandardScaler(columns=['Soil_Type_0', 'Soil_Type_1', 'Soil_Type_2', 'Soil_Type_3', 'Soil_Type_4', 'Soil_Type_5', 'Soil_Type_6', 'Soil_Type_7', 'Soil_Type_8', 'Soil_Type_9', 'Soil_Type_10', 'Soil_Type_11', 'Soil_Type_12', 'Soil_Type_13', 'Soil_Type_14', 'Soil_Type_15', 'Soil_Type_16', 'Soil_Type_17', 'Soil_Type_18', 'Soil_Type_19', 'Soil_Type_20', 'Soil_Type_21', 'Soil_Type_22', 'Soil_Type_23', 'Soil_Type_24', 'Soil_Type_25', 'Soil_Type_26', 'Soil_Type_27', 'Soil_Type_28', 'Soil_Type_29', 'Soil_Type_30', 'Soil_Type_31', 'Soil_Type_32', 'Soil_Type_33', 'Soil_Type_34', 'Soil_Type_35', 'Soil_Type_36', 'Soil_Type_37', 'Soil_Type_38', 'Soil_Type_39'], ddof=0, stats=None)}.\n"
     ]
    },
    {
     "name": "stderr",
     "output_type": "stream",
     "text": [
      "\u001B[2m\u001B[36m(GBDTTrainable pid=57493)\u001B[0m 2022-05-09 17:27:39,013\tINFO main.py:1113 -- Training in progress (92 seconds since last restart).\n"
     ]
    },
    {
     "name": "stdout",
     "output_type": "stream",
     "text": [
      "Trial XGBoostTrainer_4544b_00002 reported train-mlogloss=0.70 with parameters={'params': {'max_depth': 4}, 'preprocessor': StandardScaler(columns=['Wilderness_Area_0', 'Wilderness_Area_1', 'Wilderness_Area_2', 'Wilderness_Area_3'], ddof=0, stats=None)}.\n",
      "Trial XGBoostTrainer_4544b_00004 reported train-mlogloss=0.82 with parameters={'params': {'max_depth': 2}, 'preprocessor': StandardScaler(columns=['Wilderness_Area_0', 'Wilderness_Area_1', 'Wilderness_Area_2', 'Wilderness_Area_3'], ddof=0, stats=None)}.\n"
     ]
    },
    {
     "name": "stderr",
     "output_type": "stream",
     "text": [
      "\u001B[2m\u001B[36m(GBDTTrainable pid=57492)\u001B[0m 2022-05-09 17:27:41,710\tINFO main.py:1526 -- [RayXGBoost] Finished XGBoost training on training data with total N=581,012 in 111.52 seconds (102.90 pure XGBoost training time).\n"
     ]
    },
    {
     "name": "stdout",
     "output_type": "stream",
     "text": [
      "Trial XGBoostTrainer_4544b_00000 reported train-mlogloss=0.71 with parameters={'params': {'max_depth': 7}, 'preprocessor': StandardScaler(columns=['Wilderness_Area_0', 'Wilderness_Area_1', 'Wilderness_Area_2', 'Wilderness_Area_3'], ddof=0, stats=None)}.\n"
     ]
    },
    {
     "name": "stderr",
     "output_type": "stream",
     "text": [
      "2022-05-09 17:27:42,636\tINFO logger.py:730 -- Removed the following hyperparameter values when logging to tensorboard: {'preprocessor': StandardScaler(columns=['Wilderness_Area_0', 'Wilderness_Area_1', 'Wilderness_Area_2', 'Wilderness_Area_3'], ddof=0, stats=None)}\n"
     ]
    },
    {
     "name": "stdout",
     "output_type": "stream",
     "text": [
      "Trial XGBoostTrainer_4544b_00002 completed. Last result: train-mlogloss=0.69843,train-merror=0.262468,should_checkpoint=True\n",
      "Trial XGBoostTrainer_4544b_00001 reported train-mlogloss=0.77 with parameters={'params': {'max_depth': 3}, 'preprocessor': StandardScaler(columns=['Soil_Type_0', 'Soil_Type_1', 'Soil_Type_2', 'Soil_Type_3', 'Soil_Type_4', 'Soil_Type_5', 'Soil_Type_6', 'Soil_Type_7', 'Soil_Type_8', 'Soil_Type_9', 'Soil_Type_10', 'Soil_Type_11', 'Soil_Type_12', 'Soil_Type_13', 'Soil_Type_14', 'Soil_Type_15', 'Soil_Type_16', 'Soil_Type_17', 'Soil_Type_18', 'Soil_Type_19', 'Soil_Type_20', 'Soil_Type_21', 'Soil_Type_22', 'Soil_Type_23', 'Soil_Type_24', 'Soil_Type_25', 'Soil_Type_26', 'Soil_Type_27', 'Soil_Type_28', 'Soil_Type_29', 'Soil_Type_30', 'Soil_Type_31', 'Soil_Type_32', 'Soil_Type_33', 'Soil_Type_34', 'Soil_Type_35', 'Soil_Type_36', 'Soil_Type_37', 'Soil_Type_38', 'Soil_Type_39'], ddof=0, stats=None)}.\n"
     ]
    },
    {
     "name": "stderr",
     "output_type": "stream",
     "text": [
      "\u001B[2m\u001B[36m(GBDTTrainable pid=57494)\u001B[0m 2022-05-09 17:27:42,925\tINFO main.py:1113 -- Training in progress (61 seconds since last restart).\n",
      "\u001B[2m\u001B[36m(GBDTTrainable pid=57494)\u001B[0m 2022-05-09 17:27:46,595\tINFO main.py:1526 -- [RayXGBoost] Finished XGBoost training on training data with total N=581,012 in 84.21 seconds (64.19 pure XGBoost training time).\n",
      "2022-05-09 17:27:50,080\tINFO logger.py:730 -- Removed the following hyperparameter values when logging to tensorboard: {'preprocessor': StandardScaler(columns=['Wilderness_Area_0', 'Wilderness_Area_1', 'Wilderness_Area_2', 'Wilderness_Area_3'], ddof=0, stats=None)}\n"
     ]
    },
    {
     "name": "stdout",
     "output_type": "stream",
     "text": [
      "Trial XGBoostTrainer_4544b_00004 reported train-mlogloss=0.79 with parameters={'params': {'max_depth': 2}, 'preprocessor': StandardScaler(columns=['Wilderness_Area_0', 'Wilderness_Area_1', 'Wilderness_Area_2', 'Wilderness_Area_3'], ddof=0, stats=None)}. This trial completed.\n",
      "Trial XGBoostTrainer_4544b_00001 reported train-mlogloss=0.74 with parameters={'params': {'max_depth': 3}, 'preprocessor': StandardScaler(columns=['Soil_Type_0', 'Soil_Type_1', 'Soil_Type_2', 'Soil_Type_3', 'Soil_Type_4', 'Soil_Type_5', 'Soil_Type_6', 'Soil_Type_7', 'Soil_Type_8', 'Soil_Type_9', 'Soil_Type_10', 'Soil_Type_11', 'Soil_Type_12', 'Soil_Type_13', 'Soil_Type_14', 'Soil_Type_15', 'Soil_Type_16', 'Soil_Type_17', 'Soil_Type_18', 'Soil_Type_19', 'Soil_Type_20', 'Soil_Type_21', 'Soil_Type_22', 'Soil_Type_23', 'Soil_Type_24', 'Soil_Type_25', 'Soil_Type_26', 'Soil_Type_27', 'Soil_Type_28', 'Soil_Type_29', 'Soil_Type_30', 'Soil_Type_31', 'Soil_Type_32', 'Soil_Type_33', 'Soil_Type_34', 'Soil_Type_35', 'Soil_Type_36', 'Soil_Type_37', 'Soil_Type_38', 'Soil_Type_39'], ddof=0, stats=None)}.\n",
      "Trial XGBoostTrainer_4544b_00003 reported train-mlogloss=0.71 with parameters={'params': {'max_depth': 7}, 'preprocessor': StandardScaler(columns=['Soil_Type_0', 'Soil_Type_1', 'Soil_Type_2', 'Soil_Type_3', 'Soil_Type_4', 'Soil_Type_5', 'Soil_Type_6', 'Soil_Type_7', 'Soil_Type_8', 'Soil_Type_9', 'Soil_Type_10', 'Soil_Type_11', 'Soil_Type_12', 'Soil_Type_13', 'Soil_Type_14', 'Soil_Type_15', 'Soil_Type_16', 'Soil_Type_17', 'Soil_Type_18', 'Soil_Type_19', 'Soil_Type_20', 'Soil_Type_21', 'Soil_Type_22', 'Soil_Type_23', 'Soil_Type_24', 'Soil_Type_25', 'Soil_Type_26', 'Soil_Type_27', 'Soil_Type_28', 'Soil_Type_29', 'Soil_Type_30', 'Soil_Type_31', 'Soil_Type_32', 'Soil_Type_33', 'Soil_Type_34', 'Soil_Type_35', 'Soil_Type_36', 'Soil_Type_37', 'Soil_Type_38', 'Soil_Type_39'], ddof=0, stats=None)}.\n"
     ]
    },
    {
     "name": "stderr",
     "output_type": "stream",
     "text": [
      "\u001B[2m\u001B[36m(GBDTTrainable pid=57490)\u001B[0m 2022-05-09 17:27:50,142\tINFO main.py:1526 -- [RayXGBoost] Finished XGBoost training on training data with total N=581,012 in 103.44 seconds (89.35 pure XGBoost training time).\n",
      "2022-05-09 17:27:50,682\tINFO logger.py:730 -- Removed the following hyperparameter values when logging to tensorboard: {'preprocessor': StandardScaler(columns=['Soil_Type_0', 'Soil_Type_1', 'Soil_Type_2', 'Soil_Type_3', 'Soil_Type_4', 'Soil_Type_5', 'Soil_Type_6', 'Soil_Type_7', 'Soil_Type_8', 'Soil_Type_9', 'Soil_Type_10', 'Soil_Type_11', 'Soil_Type_12', 'Soil_Type_13', 'Soil_Type_14', 'Soil_Type_15', 'Soil_Type_16', 'Soil_Type_17', 'Soil_Type_18', 'Soil_Type_19', 'Soil_Type_20', 'Soil_Type_21', 'Soil_Type_22', 'Soil_Type_23', 'Soil_Type_24', 'Soil_Type_25', 'Soil_Type_26', 'Soil_Type_27', 'Soil_Type_28', 'Soil_Type_29', 'Soil_Type_30', 'Soil_Type_31', 'Soil_Type_32', 'Soil_Type_33', 'Soil_Type_34', 'Soil_Type_35', 'Soil_Type_36', 'Soil_Type_37', 'Soil_Type_38', 'Soil_Type_39'], ddof=0, stats=None)}\n"
     ]
    },
    {
     "name": "stdout",
     "output_type": "stream",
     "text": [
      "Trial XGBoostTrainer_4544b_00001 completed. Last result: train-mlogloss=0.742797,train-merror=0.279679,should_checkpoint=True\n",
      "Trial XGBoostTrainer_4544b_00000 reported train-mlogloss=0.66 with parameters={'params': {'max_depth': 7}, 'preprocessor': StandardScaler(columns=['Wilderness_Area_0', 'Wilderness_Area_1', 'Wilderness_Area_2', 'Wilderness_Area_3'], ddof=0, stats=None)}.\n",
      "Trial XGBoostTrainer_4544b_00003 reported train-mlogloss=0.66 with parameters={'params': {'max_depth': 7}, 'preprocessor': StandardScaler(columns=['Soil_Type_0', 'Soil_Type_1', 'Soil_Type_2', 'Soil_Type_3', 'Soil_Type_4', 'Soil_Type_5', 'Soil_Type_6', 'Soil_Type_7', 'Soil_Type_8', 'Soil_Type_9', 'Soil_Type_10', 'Soil_Type_11', 'Soil_Type_12', 'Soil_Type_13', 'Soil_Type_14', 'Soil_Type_15', 'Soil_Type_16', 'Soil_Type_17', 'Soil_Type_18', 'Soil_Type_19', 'Soil_Type_20', 'Soil_Type_21', 'Soil_Type_22', 'Soil_Type_23', 'Soil_Type_24', 'Soil_Type_25', 'Soil_Type_26', 'Soil_Type_27', 'Soil_Type_28', 'Soil_Type_29', 'Soil_Type_30', 'Soil_Type_31', 'Soil_Type_32', 'Soil_Type_33', 'Soil_Type_34', 'Soil_Type_35', 'Soil_Type_36', 'Soil_Type_37', 'Soil_Type_38', 'Soil_Type_39'], ddof=0, stats=None)}.\n"
     ]
    },
    {
     "name": "stderr",
     "output_type": "stream",
     "text": [
      "\u001B[2m\u001B[36m(GBDTTrainable pid=57679)\u001B[0m UserWarning: Dataset 'train' has 1 blocks, which is less than the `num_workers` 2. This dataset will be automatically repartitioned to 2 blocks.\n"
     ]
    },
    {
     "name": "stdout",
     "output_type": "stream",
     "text": [
      "Trial XGBoostTrainer_4544b_00000 reported train-mlogloss=0.62 with parameters={'params': {'max_depth': 7}, 'preprocessor': StandardScaler(columns=['Wilderness_Area_0', 'Wilderness_Area_1', 'Wilderness_Area_2', 'Wilderness_Area_3'], ddof=0, stats=None)}.\n"
     ]
    },
    {
     "name": "stderr",
     "output_type": "stream",
     "text": [
      "\u001B[2m\u001B[36m(GBDTTrainable pid=57483)\u001B[0m 2022-05-09 17:28:02,279\tINFO main.py:1113 -- Training in progress (122 seconds since last restart).\n",
      "\u001B[2m\u001B[36m(GBDTTrainable pid=57695)\u001B[0m UserWarning: Dataset 'train' has 1 blocks, which is less than the `num_workers` 2. This dataset will be automatically repartitioned to 2 blocks.\n",
      "\u001B[2m\u001B[36m(GBDTTrainable pid=57679)\u001B[0m 2022-05-09 17:28:05,794\tINFO main.py:984 -- [RayXGBoost] Created 2 new actors (2 total actors). Waiting until actors are ready for training.\n",
      "\u001B[2m\u001B[36m(GBDTTrainable pid=57695)\u001B[0m 2022-05-09 17:28:08,120\tINFO main.py:984 -- [RayXGBoost] Created 2 new actors (2 total actors). Waiting until actors are ready for training.\n"
     ]
    },
    {
     "name": "stdout",
     "output_type": "stream",
     "text": [
      "Trial XGBoostTrainer_4544b_00003 reported train-mlogloss=0.62 with parameters={'params': {'max_depth': 7}, 'preprocessor': StandardScaler(columns=['Soil_Type_0', 'Soil_Type_1', 'Soil_Type_2', 'Soil_Type_3', 'Soil_Type_4', 'Soil_Type_5', 'Soil_Type_6', 'Soil_Type_7', 'Soil_Type_8', 'Soil_Type_9', 'Soil_Type_10', 'Soil_Type_11', 'Soil_Type_12', 'Soil_Type_13', 'Soil_Type_14', 'Soil_Type_15', 'Soil_Type_16', 'Soil_Type_17', 'Soil_Type_18', 'Soil_Type_19', 'Soil_Type_20', 'Soil_Type_21', 'Soil_Type_22', 'Soil_Type_23', 'Soil_Type_24', 'Soil_Type_25', 'Soil_Type_26', 'Soil_Type_27', 'Soil_Type_28', 'Soil_Type_29', 'Soil_Type_30', 'Soil_Type_31', 'Soil_Type_32', 'Soil_Type_33', 'Soil_Type_34', 'Soil_Type_35', 'Soil_Type_36', 'Soil_Type_37', 'Soil_Type_38', 'Soil_Type_39'], ddof=0, stats=None)}.\n"
     ]
    },
    {
     "name": "stderr",
     "output_type": "stream",
     "text": [
      "\u001B[2m\u001B[36m(GBDTTrainable pid=57493)\u001B[0m 2022-05-09 17:28:09,942\tINFO main.py:1113 -- Training in progress (123 seconds since last restart).\n"
     ]
    },
    {
     "name": "stdout",
     "output_type": "stream",
     "text": [
      "Trial XGBoostTrainer_4544b_00000 reported train-mlogloss=0.59 with parameters={'params': {'max_depth': 7}, 'preprocessor': StandardScaler(columns=['Wilderness_Area_0', 'Wilderness_Area_1', 'Wilderness_Area_2', 'Wilderness_Area_3'], ddof=0, stats=None)}.\n"
     ]
    },
    {
     "name": "stderr",
     "output_type": "stream",
     "text": [
      "\u001B[2m\u001B[36m(GBDTTrainable pid=57698)\u001B[0m UserWarning: Dataset 'train' has 1 blocks, which is less than the `num_workers` 2. This dataset will be automatically repartitioned to 2 blocks.\n",
      "\u001B[2m\u001B[36m(GBDTTrainable pid=57698)\u001B[0m 2022-05-09 17:28:15,966\tINFO main.py:984 -- [RayXGBoost] Created 2 new actors (2 total actors). Waiting until actors are ready for training.\n",
      "\u001B[2m\u001B[36m(GBDTTrainable pid=57695)\u001B[0m 2022-05-09 17:28:16,375\tINFO main.py:1029 -- [RayXGBoost] Starting XGBoost training.\n",
      "\u001B[2m\u001B[36m(_RemoteRayXGBoostActor pid=57730)\u001B[0m [17:28:16] task [xgboost.ray]:6972180816 got new rank 1\n",
      "\u001B[2m\u001B[36m(_RemoteRayXGBoostActor pid=57729)\u001B[0m [17:28:16] task [xgboost.ray]:4421653456 got new rank 0\n",
      "\u001B[2m\u001B[36m(GBDTTrainable pid=57679)\u001B[0m 2022-05-09 17:28:16,806\tINFO main.py:1029 -- [RayXGBoost] Starting XGBoost training.\n",
      "\u001B[2m\u001B[36m(_RemoteRayXGBoostActor pid=57709)\u001B[0m [17:28:16] task [xgboost.ray]:4580154896 got new rank 0\n",
      "\u001B[2m\u001B[36m(_RemoteRayXGBoostActor pid=57710)\u001B[0m [17:28:16] task [xgboost.ray]:6977821584 got new rank 1\n"
     ]
    },
    {
     "name": "stdout",
     "output_type": "stream",
     "text": [
      "Trial XGBoostTrainer_4544b_00003 reported train-mlogloss=0.59 with parameters={'params': {'max_depth': 7}, 'preprocessor': StandardScaler(columns=['Soil_Type_0', 'Soil_Type_1', 'Soil_Type_2', 'Soil_Type_3', 'Soil_Type_4', 'Soil_Type_5', 'Soil_Type_6', 'Soil_Type_7', 'Soil_Type_8', 'Soil_Type_9', 'Soil_Type_10', 'Soil_Type_11', 'Soil_Type_12', 'Soil_Type_13', 'Soil_Type_14', 'Soil_Type_15', 'Soil_Type_16', 'Soil_Type_17', 'Soil_Type_18', 'Soil_Type_19', 'Soil_Type_20', 'Soil_Type_21', 'Soil_Type_22', 'Soil_Type_23', 'Soil_Type_24', 'Soil_Type_25', 'Soil_Type_26', 'Soil_Type_27', 'Soil_Type_28', 'Soil_Type_29', 'Soil_Type_30', 'Soil_Type_31', 'Soil_Type_32', 'Soil_Type_33', 'Soil_Type_34', 'Soil_Type_35', 'Soil_Type_36', 'Soil_Type_37', 'Soil_Type_38', 'Soil_Type_39'], ddof=0, stats=None)}.\n",
      "Trial XGBoostTrainer_4544b_00006 reported train-mlogloss=1.57 with parameters={'params': {'max_depth': 2}, 'preprocessor': StandardScaler(columns=['Wilderness_Area_0', 'Wilderness_Area_1', 'Wilderness_Area_2', 'Wilderness_Area_3'], ddof=0, stats=None)}.\n",
      "Trial XGBoostTrainer_4544b_00000 reported train-mlogloss=0.56 with parameters={'params': {'max_depth': 7}, 'preprocessor': StandardScaler(columns=['Wilderness_Area_0', 'Wilderness_Area_1', 'Wilderness_Area_2', 'Wilderness_Area_3'], ddof=0, stats=None)}.\n"
     ]
    },
    {
     "name": "stderr",
     "output_type": "stream",
     "text": [
      "\u001B[2m\u001B[36m(GBDTTrainable pid=57483)\u001B[0m 2022-05-09 17:28:29,549\tINFO main.py:1526 -- [RayXGBoost] Finished XGBoost training on training data with total N=581,012 in 159.95 seconds (149.39 pure XGBoost training time).\n"
     ]
    },
    {
     "name": "stdout",
     "output_type": "stream",
     "text": [
      "Trial XGBoostTrainer_4544b_00005 reported train-mlogloss=1.57 with parameters={'params': {'max_depth': 2}, 'preprocessor': StandardScaler(columns=['Soil_Type_0', 'Soil_Type_1', 'Soil_Type_2', 'Soil_Type_3', 'Soil_Type_4', 'Soil_Type_5', 'Soil_Type_6', 'Soil_Type_7', 'Soil_Type_8', 'Soil_Type_9', 'Soil_Type_10', 'Soil_Type_11', 'Soil_Type_12', 'Soil_Type_13', 'Soil_Type_14', 'Soil_Type_15', 'Soil_Type_16', 'Soil_Type_17', 'Soil_Type_18', 'Soil_Type_19', 'Soil_Type_20', 'Soil_Type_21', 'Soil_Type_22', 'Soil_Type_23', 'Soil_Type_24', 'Soil_Type_25', 'Soil_Type_26', 'Soil_Type_27', 'Soil_Type_28', 'Soil_Type_29', 'Soil_Type_30', 'Soil_Type_31', 'Soil_Type_32', 'Soil_Type_33', 'Soil_Type_34', 'Soil_Type_35', 'Soil_Type_36', 'Soil_Type_37', 'Soil_Type_38', 'Soil_Type_39'], ddof=0, stats=None)}.\n"
     ]
    },
    {
     "name": "stderr",
     "output_type": "stream",
     "text": [
      "\u001B[2m\u001B[36m(GBDTTrainable pid=57698)\u001B[0m 2022-05-09 17:28:30,167\tINFO main.py:1029 -- [RayXGBoost] Starting XGBoost training.\n",
      "\u001B[2m\u001B[36m(_RemoteRayXGBoostActor pid=57750)\u001B[0m [17:28:30] task [xgboost.ray]:4747115664 got new rank 0\n",
      "\u001B[2m\u001B[36m(_RemoteRayXGBoostActor pid=57749)\u001B[0m [17:28:30] task [xgboost.ray]:4536315664 got new rank 1\n",
      "2022-05-09 17:28:30,566\tINFO logger.py:730 -- Removed the following hyperparameter values when logging to tensorboard: {'preprocessor': StandardScaler(columns=['Wilderness_Area_0', 'Wilderness_Area_1', 'Wilderness_Area_2', 'Wilderness_Area_3'], ddof=0, stats=None)}\n"
     ]
    },
    {
     "name": "stdout",
     "output_type": "stream",
     "text": [
      "Trial XGBoostTrainer_4544b_00000 completed. Last result: train-mlogloss=0.559286,train-merror=0.197125,should_checkpoint=True\n",
      "Trial XGBoostTrainer_4544b_00006 reported train-mlogloss=1.33 with parameters={'params': {'max_depth': 2}, 'preprocessor': StandardScaler(columns=['Wilderness_Area_0', 'Wilderness_Area_1', 'Wilderness_Area_2', 'Wilderness_Area_3'], ddof=0, stats=None)}.\n",
      "Trial XGBoostTrainer_4544b_00005 reported train-mlogloss=1.33 with parameters={'params': {'max_depth': 2}, 'preprocessor': StandardScaler(columns=['Soil_Type_0', 'Soil_Type_1', 'Soil_Type_2', 'Soil_Type_3', 'Soil_Type_4', 'Soil_Type_5', 'Soil_Type_6', 'Soil_Type_7', 'Soil_Type_8', 'Soil_Type_9', 'Soil_Type_10', 'Soil_Type_11', 'Soil_Type_12', 'Soil_Type_13', 'Soil_Type_14', 'Soil_Type_15', 'Soil_Type_16', 'Soil_Type_17', 'Soil_Type_18', 'Soil_Type_19', 'Soil_Type_20', 'Soil_Type_21', 'Soil_Type_22', 'Soil_Type_23', 'Soil_Type_24', 'Soil_Type_25', 'Soil_Type_26', 'Soil_Type_27', 'Soil_Type_28', 'Soil_Type_29', 'Soil_Type_30', 'Soil_Type_31', 'Soil_Type_32', 'Soil_Type_33', 'Soil_Type_34', 'Soil_Type_35', 'Soil_Type_36', 'Soil_Type_37', 'Soil_Type_38', 'Soil_Type_39'], ddof=0, stats=None)}.\n",
      "Trial XGBoostTrainer_4544b_00003 reported train-mlogloss=0.56 with parameters={'params': {'max_depth': 7}, 'preprocessor': StandardScaler(columns=['Soil_Type_0', 'Soil_Type_1', 'Soil_Type_2', 'Soil_Type_3', 'Soil_Type_4', 'Soil_Type_5', 'Soil_Type_6', 'Soil_Type_7', 'Soil_Type_8', 'Soil_Type_9', 'Soil_Type_10', 'Soil_Type_11', 'Soil_Type_12', 'Soil_Type_13', 'Soil_Type_14', 'Soil_Type_15', 'Soil_Type_16', 'Soil_Type_17', 'Soil_Type_18', 'Soil_Type_19', 'Soil_Type_20', 'Soil_Type_21', 'Soil_Type_22', 'Soil_Type_23', 'Soil_Type_24', 'Soil_Type_25', 'Soil_Type_26', 'Soil_Type_27', 'Soil_Type_28', 'Soil_Type_29', 'Soil_Type_30', 'Soil_Type_31', 'Soil_Type_32', 'Soil_Type_33', 'Soil_Type_34', 'Soil_Type_35', 'Soil_Type_36', 'Soil_Type_37', 'Soil_Type_38', 'Soil_Type_39'], ddof=0, stats=None)}.\n"
     ]
    },
    {
     "name": "stderr",
     "output_type": "stream",
     "text": [
      "\u001B[2m\u001B[36m(GBDTTrainable pid=57493)\u001B[0m 2022-05-09 17:28:39,870\tINFO main.py:1526 -- [RayXGBoost] Finished XGBoost training on training data with total N=581,012 in 162.27 seconds (152.61 pure XGBoost training time).\n",
      "2022-05-09 17:28:40,302\tINFO logger.py:730 -- Removed the following hyperparameter values when logging to tensorboard: {'preprocessor': StandardScaler(columns=['Soil_Type_0', 'Soil_Type_1', 'Soil_Type_2', 'Soil_Type_3', 'Soil_Type_4', 'Soil_Type_5', 'Soil_Type_6', 'Soil_Type_7', 'Soil_Type_8', 'Soil_Type_9', 'Soil_Type_10', 'Soil_Type_11', 'Soil_Type_12', 'Soil_Type_13', 'Soil_Type_14', 'Soil_Type_15', 'Soil_Type_16', 'Soil_Type_17', 'Soil_Type_18', 'Soil_Type_19', 'Soil_Type_20', 'Soil_Type_21', 'Soil_Type_22', 'Soil_Type_23', 'Soil_Type_24', 'Soil_Type_25', 'Soil_Type_26', 'Soil_Type_27', 'Soil_Type_28', 'Soil_Type_29', 'Soil_Type_30', 'Soil_Type_31', 'Soil_Type_32', 'Soil_Type_33', 'Soil_Type_34', 'Soil_Type_35', 'Soil_Type_36', 'Soil_Type_37', 'Soil_Type_38', 'Soil_Type_39'], ddof=0, stats=None)}\n"
     ]
    },
    {
     "name": "stdout",
     "output_type": "stream",
     "text": [
      "Trial XGBoostTrainer_4544b_00003 completed. Last result: train-mlogloss=0.559286,train-merror=0.197125,should_checkpoint=True\n",
      "Trial XGBoostTrainer_4544b_00006 reported train-mlogloss=1.07 with parameters={'params': {'max_depth': 2}, 'preprocessor': StandardScaler(columns=['Wilderness_Area_0', 'Wilderness_Area_1', 'Wilderness_Area_2', 'Wilderness_Area_3'], ddof=0, stats=None)}.\n",
      "Trial XGBoostTrainer_4544b_00005 reported train-mlogloss=1.07 with parameters={'params': {'max_depth': 2}, 'preprocessor': StandardScaler(columns=['Soil_Type_0', 'Soil_Type_1', 'Soil_Type_2', 'Soil_Type_3', 'Soil_Type_4', 'Soil_Type_5', 'Soil_Type_6', 'Soil_Type_7', 'Soil_Type_8', 'Soil_Type_9', 'Soil_Type_10', 'Soil_Type_11', 'Soil_Type_12', 'Soil_Type_13', 'Soil_Type_14', 'Soil_Type_15', 'Soil_Type_16', 'Soil_Type_17', 'Soil_Type_18', 'Soil_Type_19', 'Soil_Type_20', 'Soil_Type_21', 'Soil_Type_22', 'Soil_Type_23', 'Soil_Type_24', 'Soil_Type_25', 'Soil_Type_26', 'Soil_Type_27', 'Soil_Type_28', 'Soil_Type_29', 'Soil_Type_30', 'Soil_Type_31', 'Soil_Type_32', 'Soil_Type_33', 'Soil_Type_34', 'Soil_Type_35', 'Soil_Type_36', 'Soil_Type_37', 'Soil_Type_38', 'Soil_Type_39'], ddof=0, stats=None)}.\n",
      "Trial XGBoostTrainer_4544b_00007 reported train-mlogloss=1.47 with parameters={'params': {'max_depth': 6}, 'preprocessor': StandardScaler(columns=['Soil_Type_0', 'Soil_Type_1', 'Soil_Type_2', 'Soil_Type_3', 'Soil_Type_4', 'Soil_Type_5', 'Soil_Type_6', 'Soil_Type_7', 'Soil_Type_8', 'Soil_Type_9', 'Soil_Type_10', 'Soil_Type_11', 'Soil_Type_12', 'Soil_Type_13', 'Soil_Type_14', 'Soil_Type_15', 'Soil_Type_16', 'Soil_Type_17', 'Soil_Type_18', 'Soil_Type_19', 'Soil_Type_20', 'Soil_Type_21', 'Soil_Type_22', 'Soil_Type_23', 'Soil_Type_24', 'Soil_Type_25', 'Soil_Type_26', 'Soil_Type_27', 'Soil_Type_28', 'Soil_Type_29', 'Soil_Type_30', 'Soil_Type_31', 'Soil_Type_32', 'Soil_Type_33', 'Soil_Type_34', 'Soil_Type_35', 'Soil_Type_36', 'Soil_Type_37', 'Soil_Type_38', 'Soil_Type_39'], ddof=0, stats=None)}.\n"
     ]
    },
    {
     "name": "stderr",
     "output_type": "stream",
     "text": [
      "\u001B[2m\u001B[36m(GBDTTrainable pid=57679)\u001B[0m 2022-05-09 17:28:47,099\tINFO main.py:1113 -- Training in progress (30 seconds since last restart).\n",
      "\u001B[2m\u001B[36m(GBDTTrainable pid=57695)\u001B[0m 2022-05-09 17:28:47,089\tINFO main.py:1113 -- Training in progress (31 seconds since last restart).\n"
     ]
    },
    {
     "name": "stdout",
     "output_type": "stream",
     "text": [
      "Trial XGBoostTrainer_4544b_00006 reported train-mlogloss=0.93 with parameters={'params': {'max_depth': 2}, 'preprocessor': StandardScaler(columns=['Wilderness_Area_0', 'Wilderness_Area_1', 'Wilderness_Area_2', 'Wilderness_Area_3'], ddof=0, stats=None)}.\n",
      "Trial XGBoostTrainer_4544b_00005 reported train-mlogloss=0.93 with parameters={'params': {'max_depth': 2}, 'preprocessor': StandardScaler(columns=['Soil_Type_0', 'Soil_Type_1', 'Soil_Type_2', 'Soil_Type_3', 'Soil_Type_4', 'Soil_Type_5', 'Soil_Type_6', 'Soil_Type_7', 'Soil_Type_8', 'Soil_Type_9', 'Soil_Type_10', 'Soil_Type_11', 'Soil_Type_12', 'Soil_Type_13', 'Soil_Type_14', 'Soil_Type_15', 'Soil_Type_16', 'Soil_Type_17', 'Soil_Type_18', 'Soil_Type_19', 'Soil_Type_20', 'Soil_Type_21', 'Soil_Type_22', 'Soil_Type_23', 'Soil_Type_24', 'Soil_Type_25', 'Soil_Type_26', 'Soil_Type_27', 'Soil_Type_28', 'Soil_Type_29', 'Soil_Type_30', 'Soil_Type_31', 'Soil_Type_32', 'Soil_Type_33', 'Soil_Type_34', 'Soil_Type_35', 'Soil_Type_36', 'Soil_Type_37', 'Soil_Type_38', 'Soil_Type_39'], ddof=0, stats=None)}.\n",
      "Trial XGBoostTrainer_4544b_00007 reported train-mlogloss=1.20 with parameters={'params': {'max_depth': 6}, 'preprocessor': StandardScaler(columns=['Soil_Type_0', 'Soil_Type_1', 'Soil_Type_2', 'Soil_Type_3', 'Soil_Type_4', 'Soil_Type_5', 'Soil_Type_6', 'Soil_Type_7', 'Soil_Type_8', 'Soil_Type_9', 'Soil_Type_10', 'Soil_Type_11', 'Soil_Type_12', 'Soil_Type_13', 'Soil_Type_14', 'Soil_Type_15', 'Soil_Type_16', 'Soil_Type_17', 'Soil_Type_18', 'Soil_Type_19', 'Soil_Type_20', 'Soil_Type_21', 'Soil_Type_22', 'Soil_Type_23', 'Soil_Type_24', 'Soil_Type_25', 'Soil_Type_26', 'Soil_Type_27', 'Soil_Type_28', 'Soil_Type_29', 'Soil_Type_30', 'Soil_Type_31', 'Soil_Type_32', 'Soil_Type_33', 'Soil_Type_34', 'Soil_Type_35', 'Soil_Type_36', 'Soil_Type_37', 'Soil_Type_38', 'Soil_Type_39'], ddof=0, stats=None)}.\n",
      "Trial XGBoostTrainer_4544b_00006 reported train-mlogloss=0.85 with parameters={'params': {'max_depth': 2}, 'preprocessor': StandardScaler(columns=['Wilderness_Area_0', 'Wilderness_Area_1', 'Wilderness_Area_2', 'Wilderness_Area_3'], ddof=0, stats=None)}.\n",
      "Trial XGBoostTrainer_4544b_00005 reported train-mlogloss=0.85 with parameters={'params': {'max_depth': 2}, 'preprocessor': StandardScaler(columns=['Soil_Type_0', 'Soil_Type_1', 'Soil_Type_2', 'Soil_Type_3', 'Soil_Type_4', 'Soil_Type_5', 'Soil_Type_6', 'Soil_Type_7', 'Soil_Type_8', 'Soil_Type_9', 'Soil_Type_10', 'Soil_Type_11', 'Soil_Type_12', 'Soil_Type_13', 'Soil_Type_14', 'Soil_Type_15', 'Soil_Type_16', 'Soil_Type_17', 'Soil_Type_18', 'Soil_Type_19', 'Soil_Type_20', 'Soil_Type_21', 'Soil_Type_22', 'Soil_Type_23', 'Soil_Type_24', 'Soil_Type_25', 'Soil_Type_26', 'Soil_Type_27', 'Soil_Type_28', 'Soil_Type_29', 'Soil_Type_30', 'Soil_Type_31', 'Soil_Type_32', 'Soil_Type_33', 'Soil_Type_34', 'Soil_Type_35', 'Soil_Type_36', 'Soil_Type_37', 'Soil_Type_38', 'Soil_Type_39'], ddof=0, stats=None)}.\n",
      "Trial XGBoostTrainer_4544b_00007 reported train-mlogloss=1.03 with parameters={'params': {'max_depth': 6}, 'preprocessor': StandardScaler(columns=['Soil_Type_0', 'Soil_Type_1', 'Soil_Type_2', 'Soil_Type_3', 'Soil_Type_4', 'Soil_Type_5', 'Soil_Type_6', 'Soil_Type_7', 'Soil_Type_8', 'Soil_Type_9', 'Soil_Type_10', 'Soil_Type_11', 'Soil_Type_12', 'Soil_Type_13', 'Soil_Type_14', 'Soil_Type_15', 'Soil_Type_16', 'Soil_Type_17', 'Soil_Type_18', 'Soil_Type_19', 'Soil_Type_20', 'Soil_Type_21', 'Soil_Type_22', 'Soil_Type_23', 'Soil_Type_24', 'Soil_Type_25', 'Soil_Type_26', 'Soil_Type_27', 'Soil_Type_28', 'Soil_Type_29', 'Soil_Type_30', 'Soil_Type_31', 'Soil_Type_32', 'Soil_Type_33', 'Soil_Type_34', 'Soil_Type_35', 'Soil_Type_36', 'Soil_Type_37', 'Soil_Type_38', 'Soil_Type_39'], ddof=0, stats=None)}.\n"
     ]
    },
    {
     "name": "stderr",
     "output_type": "stream",
     "text": [
      "\u001B[2m\u001B[36m(GBDTTrainable pid=57698)\u001B[0m 2022-05-09 17:29:00,800\tINFO main.py:1113 -- Training in progress (31 seconds since last restart).\n"
     ]
    },
    {
     "name": "stdout",
     "output_type": "stream",
     "text": [
      "Trial XGBoostTrainer_4544b_00006 reported train-mlogloss=0.79 with parameters={'params': {'max_depth': 2}, 'preprocessor': StandardScaler(columns=['Wilderness_Area_0', 'Wilderness_Area_1', 'Wilderness_Area_2', 'Wilderness_Area_3'], ddof=0, stats=None)}.\n"
     ]
    },
    {
     "name": "stderr",
     "output_type": "stream",
     "text": [
      "\u001B[2m\u001B[36m(GBDTTrainable pid=57695)\u001B[0m 2022-05-09 17:29:03,202\tINFO main.py:1526 -- [RayXGBoost] Finished XGBoost training on training data with total N=581,012 in 55.24 seconds (46.81 pure XGBoost training time).\n",
      "\u001B[2m\u001B[36m(GBDTTrainable pid=57679)\u001B[0m 2022-05-09 17:29:03,487\tINFO main.py:1526 -- [RayXGBoost] Finished XGBoost training on training data with total N=581,012 in 57.84 seconds (46.67 pure XGBoost training time).\n",
      "2022-05-09 17:29:03,521\tINFO logger.py:730 -- Removed the following hyperparameter values when logging to tensorboard: {'preprocessor': StandardScaler(columns=['Soil_Type_0', 'Soil_Type_1', 'Soil_Type_2', 'Soil_Type_3', 'Soil_Type_4', 'Soil_Type_5', 'Soil_Type_6', 'Soil_Type_7', 'Soil_Type_8', 'Soil_Type_9', 'Soil_Type_10', 'Soil_Type_11', 'Soil_Type_12', 'Soil_Type_13', 'Soil_Type_14', 'Soil_Type_15', 'Soil_Type_16', 'Soil_Type_17', 'Soil_Type_18', 'Soil_Type_19', 'Soil_Type_20', 'Soil_Type_21', 'Soil_Type_22', 'Soil_Type_23', 'Soil_Type_24', 'Soil_Type_25', 'Soil_Type_26', 'Soil_Type_27', 'Soil_Type_28', 'Soil_Type_29', 'Soil_Type_30', 'Soil_Type_31', 'Soil_Type_32', 'Soil_Type_33', 'Soil_Type_34', 'Soil_Type_35', 'Soil_Type_36', 'Soil_Type_37', 'Soil_Type_38', 'Soil_Type_39'], ddof=0, stats=None)}\n",
      "2022-05-09 17:29:03,538\tINFO logger.py:730 -- Removed the following hyperparameter values when logging to tensorboard: {'preprocessor': StandardScaler(columns=['Wilderness_Area_0', 'Wilderness_Area_1', 'Wilderness_Area_2', 'Wilderness_Area_3'], ddof=0, stats=None)}\n"
     ]
    },
    {
     "name": "stdout",
     "output_type": "stream",
     "text": [
      "Trial XGBoostTrainer_4544b_00005 reported train-mlogloss=0.79 with parameters={'params': {'max_depth': 2}, 'preprocessor': StandardScaler(columns=['Soil_Type_0', 'Soil_Type_1', 'Soil_Type_2', 'Soil_Type_3', 'Soil_Type_4', 'Soil_Type_5', 'Soil_Type_6', 'Soil_Type_7', 'Soil_Type_8', 'Soil_Type_9', 'Soil_Type_10', 'Soil_Type_11', 'Soil_Type_12', 'Soil_Type_13', 'Soil_Type_14', 'Soil_Type_15', 'Soil_Type_16', 'Soil_Type_17', 'Soil_Type_18', 'Soil_Type_19', 'Soil_Type_20', 'Soil_Type_21', 'Soil_Type_22', 'Soil_Type_23', 'Soil_Type_24', 'Soil_Type_25', 'Soil_Type_26', 'Soil_Type_27', 'Soil_Type_28', 'Soil_Type_29', 'Soil_Type_30', 'Soil_Type_31', 'Soil_Type_32', 'Soil_Type_33', 'Soil_Type_34', 'Soil_Type_35', 'Soil_Type_36', 'Soil_Type_37', 'Soil_Type_38', 'Soil_Type_39'], ddof=0, stats=None)}.\n",
      "Trial XGBoostTrainer_4544b_00005 completed. Last result: train-mlogloss=0.79498,train-merror=0.311035,should_checkpoint=True\n",
      "Trial XGBoostTrainer_4544b_00006 completed. Last result: train-mlogloss=0.79498,train-merror=0.311035,should_checkpoint=True\n",
      "Trial XGBoostTrainer_4544b_00007 reported train-mlogloss=0.91 with parameters={'params': {'max_depth': 6}, 'preprocessor': StandardScaler(columns=['Soil_Type_0', 'Soil_Type_1', 'Soil_Type_2', 'Soil_Type_3', 'Soil_Type_4', 'Soil_Type_5', 'Soil_Type_6', 'Soil_Type_7', 'Soil_Type_8', 'Soil_Type_9', 'Soil_Type_10', 'Soil_Type_11', 'Soil_Type_12', 'Soil_Type_13', 'Soil_Type_14', 'Soil_Type_15', 'Soil_Type_16', 'Soil_Type_17', 'Soil_Type_18', 'Soil_Type_19', 'Soil_Type_20', 'Soil_Type_21', 'Soil_Type_22', 'Soil_Type_23', 'Soil_Type_24', 'Soil_Type_25', 'Soil_Type_26', 'Soil_Type_27', 'Soil_Type_28', 'Soil_Type_29', 'Soil_Type_30', 'Soil_Type_31', 'Soil_Type_32', 'Soil_Type_33', 'Soil_Type_34', 'Soil_Type_35', 'Soil_Type_36', 'Soil_Type_37', 'Soil_Type_38', 'Soil_Type_39'], ddof=0, stats=None)}.\n",
      "Trial XGBoostTrainer_4544b_00007 reported train-mlogloss=0.82 with parameters={'params': {'max_depth': 6}, 'preprocessor': StandardScaler(columns=['Soil_Type_0', 'Soil_Type_1', 'Soil_Type_2', 'Soil_Type_3', 'Soil_Type_4', 'Soil_Type_5', 'Soil_Type_6', 'Soil_Type_7', 'Soil_Type_8', 'Soil_Type_9', 'Soil_Type_10', 'Soil_Type_11', 'Soil_Type_12', 'Soil_Type_13', 'Soil_Type_14', 'Soil_Type_15', 'Soil_Type_16', 'Soil_Type_17', 'Soil_Type_18', 'Soil_Type_19', 'Soil_Type_20', 'Soil_Type_21', 'Soil_Type_22', 'Soil_Type_23', 'Soil_Type_24', 'Soil_Type_25', 'Soil_Type_26', 'Soil_Type_27', 'Soil_Type_28', 'Soil_Type_29', 'Soil_Type_30', 'Soil_Type_31', 'Soil_Type_32', 'Soil_Type_33', 'Soil_Type_34', 'Soil_Type_35', 'Soil_Type_36', 'Soil_Type_37', 'Soil_Type_38', 'Soil_Type_39'], ddof=0, stats=None)}.\n",
      "Trial XGBoostTrainer_4544b_00007 reported train-mlogloss=0.76 with parameters={'params': {'max_depth': 6}, 'preprocessor': StandardScaler(columns=['Soil_Type_0', 'Soil_Type_1', 'Soil_Type_2', 'Soil_Type_3', 'Soil_Type_4', 'Soil_Type_5', 'Soil_Type_6', 'Soil_Type_7', 'Soil_Type_8', 'Soil_Type_9', 'Soil_Type_10', 'Soil_Type_11', 'Soil_Type_12', 'Soil_Type_13', 'Soil_Type_14', 'Soil_Type_15', 'Soil_Type_16', 'Soil_Type_17', 'Soil_Type_18', 'Soil_Type_19', 'Soil_Type_20', 'Soil_Type_21', 'Soil_Type_22', 'Soil_Type_23', 'Soil_Type_24', 'Soil_Type_25', 'Soil_Type_26', 'Soil_Type_27', 'Soil_Type_28', 'Soil_Type_29', 'Soil_Type_30', 'Soil_Type_31', 'Soil_Type_32', 'Soil_Type_33', 'Soil_Type_34', 'Soil_Type_35', 'Soil_Type_36', 'Soil_Type_37', 'Soil_Type_38', 'Soil_Type_39'], ddof=0, stats=None)}.\n",
      "Trial XGBoostTrainer_4544b_00007 reported train-mlogloss=0.71 with parameters={'params': {'max_depth': 6}, 'preprocessor': StandardScaler(columns=['Soil_Type_0', 'Soil_Type_1', 'Soil_Type_2', 'Soil_Type_3', 'Soil_Type_4', 'Soil_Type_5', 'Soil_Type_6', 'Soil_Type_7', 'Soil_Type_8', 'Soil_Type_9', 'Soil_Type_10', 'Soil_Type_11', 'Soil_Type_12', 'Soil_Type_13', 'Soil_Type_14', 'Soil_Type_15', 'Soil_Type_16', 'Soil_Type_17', 'Soil_Type_18', 'Soil_Type_19', 'Soil_Type_20', 'Soil_Type_21', 'Soil_Type_22', 'Soil_Type_23', 'Soil_Type_24', 'Soil_Type_25', 'Soil_Type_26', 'Soil_Type_27', 'Soil_Type_28', 'Soil_Type_29', 'Soil_Type_30', 'Soil_Type_31', 'Soil_Type_32', 'Soil_Type_33', 'Soil_Type_34', 'Soil_Type_35', 'Soil_Type_36', 'Soil_Type_37', 'Soil_Type_38', 'Soil_Type_39'], ddof=0, stats=None)}.\n",
      "Trial XGBoostTrainer_4544b_00007 reported train-mlogloss=0.67 with parameters={'params': {'max_depth': 6}, 'preprocessor': StandardScaler(columns=['Soil_Type_0', 'Soil_Type_1', 'Soil_Type_2', 'Soil_Type_3', 'Soil_Type_4', 'Soil_Type_5', 'Soil_Type_6', 'Soil_Type_7', 'Soil_Type_8', 'Soil_Type_9', 'Soil_Type_10', 'Soil_Type_11', 'Soil_Type_12', 'Soil_Type_13', 'Soil_Type_14', 'Soil_Type_15', 'Soil_Type_16', 'Soil_Type_17', 'Soil_Type_18', 'Soil_Type_19', 'Soil_Type_20', 'Soil_Type_21', 'Soil_Type_22', 'Soil_Type_23', 'Soil_Type_24', 'Soil_Type_25', 'Soil_Type_26', 'Soil_Type_27', 'Soil_Type_28', 'Soil_Type_29', 'Soil_Type_30', 'Soil_Type_31', 'Soil_Type_32', 'Soil_Type_33', 'Soil_Type_34', 'Soil_Type_35', 'Soil_Type_36', 'Soil_Type_37', 'Soil_Type_38', 'Soil_Type_39'], ddof=0, stats=None)}.\n"
     ]
    },
    {
     "name": "stderr",
     "output_type": "stream",
     "text": [
      "\u001B[2m\u001B[36m(GBDTTrainable pid=57698)\u001B[0m 2022-05-09 17:29:31,184\tINFO main.py:1113 -- Training in progress (61 seconds since last restart).\n"
     ]
    },
    {
     "name": "stdout",
     "output_type": "stream",
     "text": [
      "Trial XGBoostTrainer_4544b_00007 reported train-mlogloss=0.63 with parameters={'params': {'max_depth': 6}, 'preprocessor': StandardScaler(columns=['Soil_Type_0', 'Soil_Type_1', 'Soil_Type_2', 'Soil_Type_3', 'Soil_Type_4', 'Soil_Type_5', 'Soil_Type_6', 'Soil_Type_7', 'Soil_Type_8', 'Soil_Type_9', 'Soil_Type_10', 'Soil_Type_11', 'Soil_Type_12', 'Soil_Type_13', 'Soil_Type_14', 'Soil_Type_15', 'Soil_Type_16', 'Soil_Type_17', 'Soil_Type_18', 'Soil_Type_19', 'Soil_Type_20', 'Soil_Type_21', 'Soil_Type_22', 'Soil_Type_23', 'Soil_Type_24', 'Soil_Type_25', 'Soil_Type_26', 'Soil_Type_27', 'Soil_Type_28', 'Soil_Type_29', 'Soil_Type_30', 'Soil_Type_31', 'Soil_Type_32', 'Soil_Type_33', 'Soil_Type_34', 'Soil_Type_35', 'Soil_Type_36', 'Soil_Type_37', 'Soil_Type_38', 'Soil_Type_39'], ddof=0, stats=None)}.\n",
      "Trial XGBoostTrainer_4544b_00007 reported train-mlogloss=0.61 with parameters={'params': {'max_depth': 6}, 'preprocessor': StandardScaler(columns=['Soil_Type_0', 'Soil_Type_1', 'Soil_Type_2', 'Soil_Type_3', 'Soil_Type_4', 'Soil_Type_5', 'Soil_Type_6', 'Soil_Type_7', 'Soil_Type_8', 'Soil_Type_9', 'Soil_Type_10', 'Soil_Type_11', 'Soil_Type_12', 'Soil_Type_13', 'Soil_Type_14', 'Soil_Type_15', 'Soil_Type_16', 'Soil_Type_17', 'Soil_Type_18', 'Soil_Type_19', 'Soil_Type_20', 'Soil_Type_21', 'Soil_Type_22', 'Soil_Type_23', 'Soil_Type_24', 'Soil_Type_25', 'Soil_Type_26', 'Soil_Type_27', 'Soil_Type_28', 'Soil_Type_29', 'Soil_Type_30', 'Soil_Type_31', 'Soil_Type_32', 'Soil_Type_33', 'Soil_Type_34', 'Soil_Type_35', 'Soil_Type_36', 'Soil_Type_37', 'Soil_Type_38', 'Soil_Type_39'], ddof=0, stats=None)}.\n"
     ]
    },
    {
     "name": "stderr",
     "output_type": "stream",
     "text": [
      "\u001B[2m\u001B[36m(GBDTTrainable pid=57698)\u001B[0m 2022-05-09 17:29:40,706\tINFO main.py:1526 -- [RayXGBoost] Finished XGBoost training on training data with total N=581,012 in 84.95 seconds (70.52 pure XGBoost training time).\n",
      "2022-05-09 17:29:41,178\tINFO logger.py:730 -- Removed the following hyperparameter values when logging to tensorboard: {'preprocessor': StandardScaler(columns=['Soil_Type_0', 'Soil_Type_1', 'Soil_Type_2', 'Soil_Type_3', 'Soil_Type_4', 'Soil_Type_5', 'Soil_Type_6', 'Soil_Type_7', 'Soil_Type_8', 'Soil_Type_9', 'Soil_Type_10', 'Soil_Type_11', 'Soil_Type_12', 'Soil_Type_13', 'Soil_Type_14', 'Soil_Type_15', 'Soil_Type_16', 'Soil_Type_17', 'Soil_Type_18', 'Soil_Type_19', 'Soil_Type_20', 'Soil_Type_21', 'Soil_Type_22', 'Soil_Type_23', 'Soil_Type_24', 'Soil_Type_25', 'Soil_Type_26', 'Soil_Type_27', 'Soil_Type_28', 'Soil_Type_29', 'Soil_Type_30', 'Soil_Type_31', 'Soil_Type_32', 'Soil_Type_33', 'Soil_Type_34', 'Soil_Type_35', 'Soil_Type_36', 'Soil_Type_37', 'Soil_Type_38', 'Soil_Type_39'], ddof=0, stats=None)}\n"
     ]
    },
    {
     "name": "stdout",
     "output_type": "stream",
     "text": [
      "Trial XGBoostTrainer_4544b_00007 completed. Last result: train-mlogloss=0.607805,train-merror=0.220687,should_checkpoint=True\n"
     ]
    },
    {
     "name": "stderr",
     "output_type": "stream",
     "text": [
      "2022-05-09 17:29:41,405\tINFO tune.py:753 -- Total run time: 246.90 seconds (245.40 seconds for the tuning loop).\n"
     ]
    }
   ],
   "source": [
    "results = tuner.fit()"
   ]
  },
  {
   "cell_type": "markdown",
   "id": "2c7c444e",
   "metadata": {},
   "source": [
    "Now that we obtained the results, we can analyze them. For instance, we can fetch the best observed result according to the configured `metric` and `mode` and print it:"
   ]
  },
  {
   "cell_type": "code",
   "execution_count": 8,
   "id": "4f4e5187",
   "metadata": {},
   "outputs": [
    {
     "name": "stdout",
     "output_type": "stream",
     "text": [
      "Best result error rate 0.197125\n"
     ]
    }
   ],
   "source": [
    "# This will fetch the best result according to the `metric` and `mode` specified\n",
    "# in the `TuneConfig` above:\n",
    "\n",
    "best_result = results.get_best_result()\n",
    "\n",
    "print(\"Best result error rate\", best_result.metrics[\"train-merror\"])"
   ]
  },
  {
   "cell_type": "markdown",
   "id": "53d71b08",
   "metadata": {},
   "source": [
    "For more sophisticated analysis, we can get a pandas dataframe with all trial results:"
   ]
  },
  {
   "cell_type": "code",
   "execution_count": 9,
   "id": "50e76e91",
   "metadata": {},
   "outputs": [
    {
     "name": "stdout",
     "output_type": "stream",
     "text": [
      "Index(['train-mlogloss', 'train-merror', 'time_this_iter_s',\n",
      "       'should_checkpoint', 'done', 'timesteps_total', 'episodes_total',\n",
      "       'training_iteration', 'trial_id', 'experiment_id', 'date', 'timestamp',\n",
      "       'time_total_s', 'pid', 'hostname', 'node_ip', 'time_since_restore',\n",
      "       'timesteps_since_restore', 'iterations_since_restore', 'warmup_time',\n",
      "       'config/params', 'config/preprocessor', 'logdir'],\n",
      "      dtype='object')\n"
     ]
    }
   ],
   "source": [
    "df = results.get_dataframe()\n",
    "print(df.columns)"
   ]
  },
  {
   "cell_type": "markdown",
   "id": "b8a05668",
   "metadata": {},
   "source": [
    "As an example, let's group the results per preprocessor and fetch the minimal obtained values:"
   ]
  },
  {
   "cell_type": "code",
   "execution_count": 10,
   "id": "94b017b4",
   "metadata": {},
   "outputs": [
    {
     "name": "stdout",
     "output_type": "stream",
     "text": [
      "Preprocessor 1 minimum log loss: 0.559286\n",
      "Preprocessor 2 minimum log loss: 0.559286\n",
      "Preprocessor 1 minimum error: 0.197125\n",
      "Preprocessor 2 minimum error: 0.197125\n"
     ]
    },
    {
     "name": "stderr",
     "output_type": "stream",
     "text": [
      "FutureWarning: Dropping invalid columns in DataFrameGroupBy.min is deprecated. In a future version, a TypeError will be raised. Before calling .min, select only columns which should be valid for the function.\n"
     ]
    }
   ],
   "source": [
    "groups = df.groupby(\"config/preprocessor\")\n",
    "mins = groups.min()\n",
    "\n",
    "print(\"Preprocessor 1 minimum log loss:\", mins.loc[str(prep_v1)][\"train-mlogloss\"])\n",
    "print(\"Preprocessor 2 minimum log loss:\", mins.loc[str(prep_v2)][\"train-mlogloss\"])\n",
    "\n",
    "print(\"Preprocessor 1 minimum error:\", mins.loc[str(prep_v1)][\"train-merror\"])\n",
    "print(\"Preprocessor 2 minimum error:\", mins.loc[str(prep_v2)][\"train-merror\"])"
   ]
  },
  {
   "cell_type": "markdown",
   "id": "2f478e4c",
   "metadata": {},
   "source": [
    "The `results.get_dataframe()` returns the last reported results per trial. If you want to obtain the best _ever_ observed results, you can pass the `filter_metric` and `filter_mode` arguments to `results.get_dataframe()`. In our example, we'll filter the minimum _ever_ observed `train-merror` for each trial:"
   ]
  },
  {
   "cell_type": "code",
   "execution_count": 11,
   "id": "afa83cf6",
   "metadata": {},
   "outputs": [
    {
     "data": {
      "text/plain": [
       "0    0.197125\n",
       "1    0.279679\n",
       "2    0.262468\n",
       "3    0.197125\n",
       "4    0.310307\n",
       "5    0.310307\n",
       "6    0.310307\n",
       "7    0.220687\n",
       "Name: train-merror, dtype: float64"
      ]
     },
     "execution_count": 11,
     "metadata": {},
     "output_type": "execute_result"
    }
   ],
   "source": [
    "df_min_error = results.get_dataframe(filter_metric=\"train-merror\", filter_mode=\"min\")\n",
    "df_min_error[\"train-merror\"]"
   ]
  },
  {
   "cell_type": "markdown",
   "id": "47236b0a",
   "metadata": {},
   "source": [
    "And that's how you analyze your hyperparameter tuning results. If you would like to have access to more analytics, please feel free to file a feature request e.g. [as a Github issue](https://github.com/ray-project/ray/issues) or on our [Discuss platform](https://discuss.ray.io/)!"
   ]
  }
 ],
 "metadata": {
  "kernelspec": {
   "display_name": "Python 3 (ipykernel)",
   "language": "python",
   "name": "python3"
  },
  "language_info": {
   "codemirror_mode": {
    "name": "ipython",
    "version": 3
   },
   "file_extension": ".py",
   "mimetype": "text/x-python",
   "name": "python",
   "nbconvert_exporter": "python",
   "pygments_lexer": "ipython3",
   "version": "3.7.7"
  }
 },
 "nbformat": 4,
 "nbformat_minor": 5
}