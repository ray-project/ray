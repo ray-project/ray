{
 "cells": [
  {
   "cell_type": "markdown",
   "metadata": {
    "id": "TsniIjjg2Pym"
   },
   "source": [
    "*This example is adapted from Continual AI Avalanche quick start https://avalanche.continualai.org/*"
   ]
  },
  {
   "cell_type": "markdown",
   "metadata": {
    "id": "1VsUrzVm1W-h"
   },
   "source": [
    "# Incremental Learning with Ray AIR\n",
    "\n",
    "In this example, we show how to use Ray AIR to incrementally train a simple image classification PyTorch model\n",
    "on a stream of incoming tasks.\n",
    "\n",
    "Each task is a random permutation of the MNIST Dataset, which is a common benchmark\n",
    "used for continual training. After training on all the\n",
    "tasks, the model is expected to be able to make predictions on data from any task.\n",
    "\n",
    "In this example, we use just a naive finetuning strategy, where the model is trained\n",
    "on each task, without any special methods to prevent [catastrophic forgetting](\n",
    "https://en.wikipedia.org/wiki/Catastrophic_interference). Model performance is\n",
    "expected to be poor.\n",
    "\n",
    "More precisely, this example showcases domain incremental training, in which during\n",
    "prediction/testing\n",
    "time, the model is asked to predict on data from tasks trained on so far with the\n",
    "task ID not provided. This is opposed to task incremental training, where the task ID is\n",
    "provided during prediction/testing time.\n",
    "\n",
    "For more information on the 3 different categories for incremental/continual\n",
    "learning, please see [\"Three scenarios for continual learning\" by van de Ven and Tolias](https://arxiv.org/pdf/1904.07734.pdf)"
   ]
  },
  {
   "cell_type": "markdown",
   "metadata": {
    "id": "Q3oGiuqYfj9_"
   },
   "source": [
    "This example will cover the following:\n",
    "1. Loading a PyTorch Dataset to Ray Data\n",
    "2. Create an `Iterator[ray.data.Dataset]` abstraction to represent a stream of data to train on for incremental training.\n",
    "3. Implement a custom Ray AIR preprocessor to preprocess the dataset.\n",
    "4. Incrementally train a model using data parallel training.\n",
    "5. Use our trained model to perform batch prediction on test data.\n",
    "6. Incrementally deploying our trained model with Ray Serve and performing online prediction queries."
   ]
  },
  {
   "cell_type": "markdown",
   "metadata": {
    "id": "z52Y8O4q1bIk"
   },
   "source": [
    "# Step 1: Installations and Initializing Ray\n",
    "\n",
    "To get started, let's first install the necessary packages: Ray AIR, torch, and torchvision. Uncomment the below lines and run the cell to install the necessary packages."
   ]
  },
  {
   "cell_type": "code",
   "execution_count": 1,
   "metadata": {
    "colab": {
     "base_uri": "https://localhost:8080/"
    },
    "id": "kWr6BRMk1Y1j",
    "outputId": "dad49a31-a602-4e44-b5fe-932de603925e"
   },
   "outputs": [],
   "source": [
    "# !pip install -q \"ray[air]\"\n",
    "# !pip install -q torch\n",
    "# !pip install -q torchvision"
   ]
  },
  {
   "cell_type": "markdown",
   "metadata": {
    "id": "RpD4STX3g1dq"
   },
   "source": [
    "Then, let's initialize Ray! We can just import and call `ray.init()`. If you are running on a Ray cluster, then you can do `ray.init(\"auto\")` to connect to the cluster instead of initiailzing a new local Ray instance."
   ]
  },
  {
   "cell_type": "code",
   "execution_count": 2,
   "metadata": {
    "colab": {
     "base_uri": "https://localhost:8080/"
    },
    "id": "72fEFqL4T7iA",
    "outputId": "9cae25f2-c712-4baa-f66b-337049e1b565"
   },
   "outputs": [
    {
     "name": "stderr",
     "output_type": "stream",
     "text": [
      "2022-09-23 16:31:18,554\tINFO worker.py:1509 -- Started a local Ray instance. View the dashboard at \u001b[1m\u001b[32m127.0.0.1:8265 \u001b[39m\u001b[22m\n"
     ]
    },
    {
     "data": {
      "text/html": [
       "<div>\n",
       "    <div style=\"margin-left: 50px;display: flex;flex-direction: row;align-items: center\">\n",
       "        <h3 style=\"color: var(--jp-ui-font-color0)\">Ray</h3>\n",
       "        <svg version=\"1.1\" id=\"ray\" width=\"3em\" viewBox=\"0 0 144.5 144.6\" style=\"margin-left: 3em;margin-right: 3em\">\n",
       "            <g id=\"layer-1\">\n",
       "                <path fill=\"#00a2e9\" class=\"st0\" d=\"M97.3,77.2c-3.8-1.1-6.2,0.9-8.3,5.1c-3.5,6.8-9.9,9.9-17.4,9.6S58,88.1,54.8,81.2c-1.4-3-3-4-6.3-4.1\n",
       "                    c-5.6-0.1-9.9,0.1-13.1,6.4c-3.8,7.6-13.6,10.2-21.8,7.6C5.2,88.4-0.4,80.5,0,71.7c0.1-8.4,5.7-15.8,13.8-18.2\n",
       "                    c8.4-2.6,17.5,0.7,22.3,8c1.3,1.9,1.3,5.2,3.6,5.6c3.9,0.6,8,0.2,12,0.2c1.8,0,1.9-1.6,2.4-2.8c3.5-7.8,9.7-11.8,18-11.9\n",
       "                    c8.2-0.1,14.4,3.9,17.8,11.4c1.3,2.8,2.9,3.6,5.7,3.3c1-0.1,2,0.1,3,0c2.8-0.5,6.4,1.7,8.1-2.7s-2.3-5.5-4.1-7.5\n",
       "                    c-5.1-5.7-10.9-10.8-16.1-16.3C84,38,81.9,37.1,78,38.3C66.7,42,56.2,35.7,53,24.1C50.3,14,57.3,2.8,67.7,0.5\n",
       "                    C78.4-2,89,4.7,91.5,15.3c0.1,0.3,0.1,0.5,0.2,0.8c0.7,3.4,0.7,6.9-0.8,9.8c-1.7,3.2-0.8,5,1.5,7.2c6.7,6.5,13.3,13,19.8,19.7\n",
       "                    c1.8,1.8,3,2.1,5.5,1.2c9.1-3.4,17.9-0.6,23.4,7c4.8,6.9,4.6,16.1-0.4,22.9c-5.4,7.2-14.2,9.9-23.1,6.5c-2.3-0.9-3.5-0.6-5.1,1.1\n",
       "                    c-6.7,6.9-13.6,13.7-20.5,20.4c-1.8,1.8-2.5,3.2-1.4,5.9c3.5,8.7,0.3,18.6-7.7,23.6c-7.9,5-18.2,3.8-24.8-2.9\n",
       "                    c-6.4-6.4-7.4-16.2-2.5-24.3c4.9-7.8,14.5-11,23.1-7.8c3,1.1,4.7,0.5,6.9-1.7C91.7,98.4,98,92.3,104.2,86c1.6-1.6,4.1-2.7,2.6-6.2\n",
       "                    c-1.4-3.3-3.8-2.5-6.2-2.6C99.8,77.2,98.9,77.2,97.3,77.2z M72.1,29.7c5.5,0.1,9.9-4.3,10-9.8c0-0.1,0-0.2,0-0.3\n",
       "                    C81.8,14,77,9.8,71.5,10.2c-5,0.3-9,4.2-9.3,9.2c-0.2,5.5,4,10.1,9.5,10.3C71.8,29.7,72,29.7,72.1,29.7z M72.3,62.3\n",
       "                    c-5.4-0.1-9.9,4.2-10.1,9.7c0,0.2,0,0.3,0,0.5c0.2,5.4,4.5,9.7,9.9,10c5.1,0.1,9.9-4.7,10.1-9.8c0.2-5.5-4-10-9.5-10.3\n",
       "                    C72.6,62.3,72.4,62.3,72.3,62.3z M115,72.5c0.1,5.4,4.5,9.7,9.8,9.9c5.6-0.2,10-4.8,10-10.4c-0.2-5.4-4.6-9.7-10-9.7\n",
       "                    c-5.3-0.1-9.8,4.2-9.9,9.5C115,72.1,115,72.3,115,72.5z M19.5,62.3c-5.4,0.1-9.8,4.4-10,9.8c-0.1,5.1,5.2,10.4,10.2,10.3\n",
       "                    c5.6-0.2,10-4.9,9.8-10.5c-0.1-5.4-4.5-9.7-9.9-9.6C19.6,62.3,19.5,62.3,19.5,62.3z M71.8,134.6c5.9,0.2,10.3-3.9,10.4-9.6\n",
       "                    c0.5-5.5-3.6-10.4-9.1-10.8c-5.5-0.5-10.4,3.6-10.8,9.1c0,0.5,0,0.9,0,1.4c-0.2,5.3,4,9.8,9.3,10\n",
       "                    C71.6,134.6,71.7,134.6,71.8,134.6z\"/>\n",
       "            </g>\n",
       "        </svg>\n",
       "        <table>\n",
       "            <tr>\n",
       "                <td style=\"text-align: left\"><b>Python version:</b></td>\n",
       "                <td style=\"text-align: left\"><b>3.10.6</b></td>\n",
       "            </tr>\n",
       "            <tr>\n",
       "                <td style=\"text-align: left\"><b>Ray version:</b></td>\n",
       "                <td style=\"text-align: left\"><b> 3.0.0.dev0</b></td>\n",
       "            </tr>\n",
       "            <tr>\n",
       "    <td style=\"text-align: left\"><b>Dashboard:</b></td>\n",
       "    <td style=\"text-align: left\"><b><a href=\"http://127.0.0.1:8265\" target=\"_blank\">http://127.0.0.1:8265</a></b></td>\n",
       "</tr>\n",
       "\n",
       "        </table>\n",
       "    </div>\n",
       "</div>\n"
      ],
      "text/plain": [
       "RayContext(dashboard_url='127.0.0.1:8265', python_version='3.10.6', ray_version='3.0.0.dev0', ray_commit='{{RAY_COMMIT_SHA}}', address_info={'node_ip_address': '10.109.175.190', 'raylet_ip_address': '10.109.175.190', 'redis_address': None, 'object_store_address': '/tmp/ray/session_2022-09-23_16-31-16_736743_855752/sockets/plasma_store', 'raylet_socket_name': '/tmp/ray/session_2022-09-23_16-31-16_736743_855752/sockets/raylet', 'webui_url': '127.0.0.1:8265', 'session_dir': '/tmp/ray/session_2022-09-23_16-31-16_736743_855752', 'metrics_export_port': 59668, 'gcs_address': '10.109.175.190:64318', 'address': '10.109.175.190:64318', 'dashboard_agent_listen_port': 52365, 'node_id': '610d4158d56aeda61abd25d5751611d23ba1aa97eddb34d2ee4e6020'})"
      ]
     },
     "execution_count": 2,
     "metadata": {},
     "output_type": "execute_result"
    }
   ],
   "source": [
    "import ray\n",
    "ray.init()\n",
    "# If runnning on a cluster, use the below line instead.\n",
    "# ray.init(\"auto\")"
   ]
  },
  {
   "cell_type": "markdown",
   "metadata": {
    "id": "AedcxD_FClQL"
   },
   "source": [
    "# Step 2: Define our PyTorch Model\n",
    "\n",
    "Now that we have the necessary installations, let's define our PyTorch model. For this example to classify MNIST images, we will use a simple multi-layer perceptron."
   ]
  },
  {
   "cell_type": "code",
   "execution_count": 3,
   "metadata": {
    "id": "3TVkSmFFCHhI"
   },
   "outputs": [
    {
     "name": "stderr",
     "output_type": "stream",
     "text": [
      "/home/pdmurray/.pyenv/versions/mambaforge/envs/ray/lib/python3.10/site-packages/tqdm/auto.py:22: TqdmWarning: IProgress not found. Please update jupyter and ipywidgets. See https://ipywidgets.readthedocs.io/en/stable/user_install.html\n",
      "  from .autonotebook import tqdm as notebook_tqdm\n"
     ]
    }
   ],
   "source": [
    "import torch.nn as nn\n",
    "\n",
    "class SimpleMLP(nn.Module):\n",
    "    def __init__(self, num_classes=10, input_size=28 * 28):\n",
    "        super(SimpleMLP, self).__init__()\n",
    "\n",
    "        self.features = nn.Sequential(\n",
    "          nn.Linear(input_size, 512),\n",
    "          nn.ReLU(inplace=True),\n",
    "          nn.Dropout(),\n",
    "        )\n",
    "        self.classifier = nn.Linear(512, num_classes)\n",
    "        self._input_size = input_size\n",
    "\n",
    "    def forward(self, x):\n",
    "        x = x.contiguous()\n",
    "        x = x.view(-1, self._input_size)\n",
    "        x = self.features(x)\n",
    "        x = self.classifier(x)\n",
    "        return x"
   ]
  },
  {
   "cell_type": "markdown",
   "metadata": {
    "id": "L2N1U22VC_N9"
   },
   "source": [
    "# Step 3: Create the Stream of tasks\n",
    "\n",
    "We can now create a stream of tasks (where each task contains a dataset to train on). For this example, we will create an artificial stream of tasks consisting of\n",
    "permuted variations of MNIST, which is a classic benchmark in continual learning\n",
    "research.\n",
    "\n",
    "For real-world scenarios, this step is not necessary as fresh data will already be\n",
    "arriving as a stream of tasks. It does not need to be artificially created."
   ]
  },
  {
   "cell_type": "markdown",
   "metadata": {
    "id": "3SVSrkqrDJuc"
   },
   "source": [
    "## 3a: Load MNIST Dataset to a Dataset\n",
    "\n",
    "Let's first define a simple function that will return the original MNIST Dataset as a distributed Dataset. Ray Data is the standard way to load and exchange data in Ray libraries and applications, read more about the library [here](data)!\n",
    "\n",
    "The function in the below code snippet does the following:\n",
    "1. Downloads the MNIST Dataset from torchvision in-memory\n",
    "2. Loads the in-memory Torch Dataset into a Dataset\n",
    "3. Converts the Dataset into Numpy format. Instead of the Dataset iterating over tuples, it will have 2 columns: \"image\" & \"label\". \n",
    "This will allow us to apply built-in preprocessors to the Dataset and allow Datasets to be used with Ray AIR Predictors.\n",
    "\n",
    "For this example, since we are just working with MNIST dataset, which is small, we use the {py:class}`~ray.data.datasource.from_torch` which just loads the full MNIST dataset into memory.\n",
    "\n",
    "For loading larger datasets in a parallel fashion, you should use [Dataset's additional read APIs](input-output) to load data from parquet, csv, image files, and more!"
   ]
  },
  {
   "cell_type": "code",
   "execution_count": 4,
   "metadata": {
    "id": "0XKwJKrNCxg4"
   },
   "outputs": [],
   "source": [
    "import pandas as pd\n",
    "\n",
    "import torchvision\n",
    "from torchvision.transforms import RandomCrop\n",
    "\n",
    "import ray\n",
    "\n",
    "\n",
    "def get_mnist_dataset(train: bool = True) -> ray.data.Dataset:\n",
    "    \"\"\"Returns MNIST Dataset as a ray.data.Dataset.\n",
    "    \n",
    "    Args:\n",
    "        train: Whether to return the train dataset or test dataset.\n",
    "    \"\"\"\n",
    "    if train:\n",
    "        # Only perform random cropping on the Train dataset.\n",
    "        transform = RandomCrop(28, padding=4)\n",
    "    else:\n",
    "        transform = None\n",
    "    \n",
    "    mnist_dataset = torchvision.datasets.MNIST(\"./data\", download=True, train=train, transform=transform)\n",
    "    mnist_dataset = ray.data.from_torch(mnist_dataset)\n",
    "    \n",
    "    def convert_batch_to_numpy(batch):\n",
    "        images = np.array([np.array(item[0]) for item in batch[\"item\"]])\n",
    "        labels = np.array([item[1] for item in batch[\"item\"]])\n",
    "\n",
    "        return {\"image\": images, \"label\": labels}\n",
    "\n",
    "    mnist_dataset = mnist_dataset.map_batches(convert_batch_to_numpy).materialize()\n",
    "    return mnist_dataset"
   ]
  },
  {
   "cell_type": "markdown",
   "metadata": {
    "id": "vqrfgfl9YnVe"
   },
   "source": [
    "## 3b: Create our Stream abstraction\n",
    "\n",
    "Now we can create our \"stream\" abstraction. This abstraction provides two\n",
    "methods (`generate_train_stream` and `generate_test_stream`) that each returns an Iterator\n",
    "over Ray Data. Each item in this iterator contains a unique permutation of\n",
    "MNIST, and is one task that we want to train on.\n",
    "\n",
    "In this example, \"the stream of tasks\" is contrived since all the data for all tasks exist already in an offline setting. For true online continual learning, you would want to implement a custom dataset iterator that reads from some stream datasource to produce new tasks. The only abstraction that's needed is `Iterator[ray.data.Dataset]`.\n",
    "\n",
    "Note that the test dataset stream has the same permutations that are used for the training dataset stream. In general for continual learning, it is expected that the data distribution of the test/prediction data follows what the model was trained on. If you notice that the distribution of new prediction queries is changing compared to the distribution of the training data, then you should probably trigger training of a new task."
   ]
  },
  {
   "cell_type": "code",
   "execution_count": 5,
   "metadata": {
    "id": "f2EagMWCN3he"
   },
   "outputs": [],
   "source": [
    "from typing import Dict, Iterator, List\n",
    "import random\n",
    "import numpy as np\n",
    "\n",
    "from ray.data import ActorPoolStrategy\n",
    "\n",
    "\n",
    "class PermutedMNISTStream:\n",
    "    \"\"\"Generates streams of permuted MNIST Datasets.\n",
    "    \n",
    "    Example:\n",
    "        \n",
    "        permuted_mnist = PermutedMNISTStream(n_tasks=3)\n",
    "        train_stream = permuted_mnist.generate_train_stream()\n",
    "        \n",
    "        # Iterate through the train_stream\n",
    "        for train_dataset in train_stream:\n",
    "            ...\n",
    "    \n",
    "    Args:\n",
    "        n_tasks: The number of tasks to generate.\n",
    "    \"\"\"\n",
    "\n",
    "    def __init__(self, n_tasks: int = 3):\n",
    "        self.n_tasks = n_tasks\n",
    "        self.permutations = [\n",
    "            np.random.permutation(28 * 28) for _ in range(self.n_tasks)\n",
    "        ]\n",
    "\n",
    "        self.train_mnist_dataset = get_mnist_dataset(train=True)\n",
    "        self.test_mnist_dataset = get_mnist_dataset(train=False)\n",
    "\n",
    "    def random_permute_dataset(\n",
    "        self, dataset: ray.data.Dataset, permutation: np.ndarray\n",
    "    ):\n",
    "        \"\"\"Randomly permutes the pixels for each image in the dataset.\"\"\"\n",
    "\n",
    "        class PixelsPermutation(object):\n",
    "            def __call__(self, batch):\n",
    "                batch[\"image\"] = batch[\"image\"].map(lambda image: image.reshape(-1)[permutation].reshape(28, 28))\n",
    "                return batch\n",
    "\n",
    "        return dataset.map_batches(PixelsPermutation, compute=ActorPoolStrategy(), batch_format=\"pandas\")\n",
    "\n",
    "    def generate_train_stream(self) -> Iterator[ray.data.Dataset]:\n",
    "        for permutation in self.permutations:\n",
    "            permuted_mnist_dataset = self.random_permute_dataset(\n",
    "                self.train_mnist_dataset, permutation\n",
    "            )\n",
    "            yield permuted_mnist_dataset\n",
    "\n",
    "    def generate_test_stream(self) -> Iterator[ray.data.Dataset]:\n",
    "        for permutation in self.permutations:\n",
    "            mnist_dataset = get_mnist_dataset(train=False)\n",
    "            permuted_mnist_dataset = self.random_permute_dataset(\n",
    "                self.test_mnist_dataset, permutation\n",
    "            )\n",
    "            yield permuted_mnist_dataset\n",
    "\n",
    "    def generate_test_samples(self, num_samples: int = 10) -> List[np.ndarray]:\n",
    "        \"\"\"Generates num_samples permuted MNIST images.\"\"\"\n",
    "        random_permutation = random.choice(self.permutations)\n",
    "        return list(self.random_permute_dataset(\n",
    "            self.test_mnist_dataset.random_shuffle().limit(num_samples),\n",
    "            random_permutation,\n",
    "        ).to_pandas()[\"image\"].to_numpy())\n",
    "\n"
   ]
  },
  {
   "cell_type": "markdown",
   "metadata": {
    "id": "HDGHgtb699kd"
   },
   "source": [
    "# Step 4: Define the logic for Training and Inference/Prediction\n",
    "\n",
    "Now that we can get an Iterator over Ray Data, we can incrementally train our model in a data parallel fashion via Ray Train, while incrementally deploying our model via Ray Serve. Let's define some helper functions to allow us to do this!\n",
    "\n",
    "If you are not familiar with data parallel training, it is a form of distributed training strategies, where we have multiple model replicas, and each replica trains on a different batch of data. After each batch, the gradients are synchronized across the replicas. This effecitively allows us to train on more data in a shorter amount of time."
   ]
  },
  {
   "attachments": {},
   "cell_type": "markdown",
   "metadata": {
    "id": "SBWxP1sP-G-o"
   },
   "source": [
    "## 4a: Define our training logic for each Data Parallel worker\n",
    "\n",
    "The first thing we need to do is to define the training loop that will be run on each training worker. \n",
    "\n",
    "The training loop takes in a `config` Dict as an argument that we can use to pass in any configurations for training.\n",
    "\n",
    "This is just standard PyTorch training, with the difference being that we can leverage [Ray Train's utility functions](train-pytorch-integration) and [Ray AIR Sesssion](air-session-ref):\n",
    "- `ray.train.torch.prepare_model(...)`: This will prepare the model for distributed training by wrapping it in either PyTorch `DistributedDataParallel` or `FullyShardedDataParallel` and moving it to the correct accelerator device.\n",
    "- `ray.air.session.get_dataset_shard(...)`: This will get the Dataset shard for this particular Data Parallel worker.\n",
    "- `ray.air.session.report({}, checkpoint=...)`: This will tell Ray Train to persist the provided `Checkpoint` object.\n",
    "- `ray.air.session.get_checkpoint()`: Returns a checkpoint to resume from. This is useful for either fault tolerance purposes, or for our purposes, to continue training the same model on a new incoming dataset."
   ]
  },
  {
   "cell_type": "code",
   "execution_count": 6,
   "metadata": {
    "id": "Y9IRDMec-GZ9"
   },
   "outputs": [],
   "source": [
    "from ray import train\n",
    "from ray.air import session, Checkpoint\n",
    "\n",
    "from torch.optim import SGD\n",
    "from torch.nn import CrossEntropyLoss\n",
    "\n",
    "def train_loop_per_worker(config: dict):\n",
    "    num_epochs = config[\"num_epochs\"]\n",
    "    learning_rate = config[\"learning_rate\"]\n",
    "    momentum = config[\"momentum\"]\n",
    "    batch_size = config[\"batch_size\"]\n",
    "\n",
    "    model = SimpleMLP(num_classes=10)\n",
    "\n",
    "    # Load model from checkpoint if there is a checkpoint to load from.\n",
    "    checkpoint_to_load = session.get_checkpoint()\n",
    "    if checkpoint_to_load:\n",
    "        state_dict_to_resume_from = checkpoint_to_load.to_dict()[\"model\"]\n",
    "        model.load_state_dict(state_dict=state_dict_to_resume_from)\n",
    "\n",
    "    model = train.torch.prepare_model(model)\n",
    "\n",
    "    optimizer = SGD(model.parameters(), lr=learning_rate, momentum=momentum)\n",
    "    criterion = CrossEntropyLoss()\n",
    "\n",
    "    # Get the Dataset shard for this data parallel worker, and convert it to a PyTorch Dataset.\n",
    "    dataset_shard = session.get_dataset_shard(\"train\").iter_torch_batches(\n",
    "        batch_size=batch_size,\n",
    "    )\n",
    "\n",
    "    for epoch_idx in range(num_epochs):\n",
    "        running_loss = 0\n",
    "        for iteration, batch in enumerate(dataset_shard):\n",
    "            optimizer.zero_grad()\n",
    "            train_mb_x, train_mb_y = batch[\"image\"], batch[\"label\"]\n",
    "            train_mb_x = train_mb_x.to(train.torch.get_device())\n",
    "            train_mb_y = train_mb_y.to(train.torch.get_device())\n",
    "\n",
    "            # Forward\n",
    "            logits = model(train_mb_x)\n",
    "            # Loss\n",
    "            loss = criterion(logits, train_mb_y)\n",
    "            # Backward\n",
    "            loss.backward()\n",
    "            # Update\n",
    "            optimizer.step()\n",
    "\n",
    "            running_loss += loss.item()\n",
    "            if session.get_world_rank() == 0 and iteration % 500 == 0:\n",
    "                print(f\"loss: {loss.item():>7f}, epoch: {epoch_idx}, iteration: {iteration}\")\n",
    "\n",
    "        # Checkpoint model after every epoch.\n",
    "        state_dict = model.state_dict()\n",
    "        checkpoint = Checkpoint.from_dict(dict(model=state_dict))\n",
    "        session.report({\"loss\": running_loss}, checkpoint=checkpoint)"
   ]
  },
  {
   "cell_type": "markdown",
   "metadata": {
    "id": "9HUciluylZbX"
   },
   "source": [
    "## 4b: Define our Preprocessor\n",
    "\n",
    "Next, we define our `Preprocessor` to preprocess our data before training and prediction. Our preprocessor will normalize the MNIST Images by the mean and standard deviation of the MNIST training dataset. This is a common operation to do on MNIST to improve training: https://discuss.pytorch.org/t/normalization-in-the-mnist-example/457"
   ]
  },
  {
   "cell_type": "code",
   "execution_count": 7,
   "metadata": {
    "id": "yHzQZTlAlY-9"
   },
   "outputs": [],
   "source": [
    "from typing import Dict\n",
    "import numpy as np\n",
    "\n",
    "import torch\n",
    "from torchvision import transforms\n",
    "\n",
    "from ray.data.preprocessors import TorchVisionPreprocessor\n",
    "\n",
    "\n",
    "transform = transforms.Compose([\n",
    "    transforms.ToTensor(),\n",
    "    transforms.Normalize((0.1307,), (0.3081,))\n",
    "])\n",
    "mnist_normalize_preprocessor = TorchVisionPreprocessor(columns=[\"image\"], transform=transform)"
   ]
  },
  {
   "cell_type": "markdown",
   "metadata": {
    "id": "Uto3v90Hagni"
   },
   "source": [
    "## 4c: Define logic for Batch/Offline Prediction.\n",
    "\n",
    "After training on each task, we want to use our trained model to do batch (i.e. offline) inference on a test dataset. \n",
    "\n",
    "To do this, we leverage the built-in `ray.air.BatchPredictor`. We define a `batch_predict` function that will take in a Checkpoint and a Test Dataset and outputs the accuracy our model achieves on the test dataset."
   ]
  },
  {
   "cell_type": "code",
   "execution_count": 8,
   "metadata": {
    "id": "DM2lFHzFa6uI"
   },
   "outputs": [],
   "source": [
    "from ray.train.batch_predictor import BatchPredictor\n",
    "from ray.train.torch import TorchPredictor\n",
    "\n",
    "def batch_predict(checkpoint: ray.air.Checkpoint, test_dataset: ray.data.Dataset) -> float:\n",
    "  \"\"\"Perform batch prediction on the provided test dataset, and return accuracy results.\"\"\"\n",
    "\n",
    "  batch_predictor = BatchPredictor.from_checkpoint(checkpoint, predictor_cls=TorchPredictor, model=SimpleMLP(num_classes=10))\n",
    "  model_output = batch_predictor.predict(\n",
    "            data=test_dataset, feature_columns=[\"image\"], keep_columns=[\"label\"]\n",
    "        )\n",
    "  \n",
    "  # Postprocess model outputs.\n",
    "  # Convert logits outputted from model into actual class predictions.\n",
    "  def convert_logits_to_classes(df):\n",
    "     best_class = df[\"predictions\"].map(lambda x: np.array(x).argmax())\n",
    "     df[\"predictions\"] = best_class\n",
    "     return df\n",
    "    \n",
    "  prediction_results = model_output.map_batches(convert_logits_to_classes, batch_format=\"pandas\")\n",
    "  \n",
    "  # Then, for each prediction output, see if it matches with the ground truth\n",
    "  # label.\n",
    "  def calculate_prediction_scores(df):\n",
    "      return pd.DataFrame({\"correct\": df[\"predictions\"] == df[\"label\"]})\n",
    "\n",
    "  correct_dataset = prediction_results.map_batches(\n",
    "      calculate_prediction_scores, batch_format=\"pandas\"\n",
    "  )\n",
    "\n",
    "  return correct_dataset.sum(on=\"correct\") / correct_dataset.count()"
   ]
  },
  {
   "cell_type": "markdown",
   "metadata": {
    "id": "GWiTtsmVbIZP"
   },
   "source": [
    "## 4d: Define logic for Deploying and Querying our model\n",
    "\n",
    "In addition to batch inference, we also want to deploy our model so that we can submit live queries to it for online inference. We use Ray Serve's `PredictorDeployment` utility to deploy our trained model. \n",
    "\n",
    "Once we deploy the model, we can send HTTP requests to our deployment."
   ]
  },
  {
   "cell_type": "code",
   "execution_count": 9,
   "metadata": {
    "id": "ZC3JCWz7bhR-"
   },
   "outputs": [],
   "source": [
    "from typing import List\n",
    "import requests\n",
    "from requests import Response\n",
    "import numpy as np\n",
    "\n",
    "from ray.serve.http_adapters import json_to_ndarray\n",
    "\n",
    "\n",
    "def deploy_model(checkpoint: ray.air.Checkpoint) -> str:\n",
    "    \"\"\"Deploys the model from the provided Checkpoint and returns the URL for the endpoint of the model deployment.\"\"\"\n",
    "    serve.run(\n",
    "        PredictorDeployment.options(\n",
    "            name=\"mnist_model\",\n",
    "            route_prefix=\"/mnist_predict\",\n",
    "            num_replicas=2,\n",
    "        ).bind(\n",
    "            http_adapter=json_to_ndarray,\n",
    "            predictor_cls=TorchPredictor,\n",
    "            checkpoint=latest_checkpoint,\n",
    "            model=SimpleMLP(num_classes=10),\n",
    "        )\n",
    "    )\n",
    "\n",
    "    return \"http://localhost:8000/mnist_predict\"\n",
    "\n",
    "# Function that queries our deployed model\n",
    "def query_deployment(test_samples: List[np.ndarray], endpoint_uri: str) -> List[Response]:\n",
    "    \"\"\"Given a set of test samples, queries the model deployment at the provided endpoint and returns the results.\"\"\"\n",
    "    results = []\n",
    "    # Convert to Python List since Numpy arrays are not Json serializable.\n",
    "    for sample in test_samples:\n",
    "        results.append(requests.post(endpoint_uri, json={\"array\": sample.tolist(), \"dtype\": \"float32\"}))\n",
    "    return results"
   ]
  },
  {
   "cell_type": "markdown",
   "metadata": {
    "id": "-NQDj0rFVUX3"
   },
   "source": [
    "# Step 5: Putting it all together\n",
    "\n",
    "Once we have defined our training logic and our preprocessor, we can put everything together!\n",
    "\n",
    "For each dataset in our stream, we do the following:\n",
    "1. Train on the dataset in Data Parallel fashion. We create a `TorchTrainer`, specify the config for the training loop we defined above, the dataset to train on, and how much we want to scale. `TorchTrainer` also accepts a `checkpoint` arg to continue training from a previously saved checkpoint.\n",
    "2. Get the saved checkpoint from the training run.\n",
    "3. Test our trained model on a test set containing test data from all the tasks trained on so far.\n",
    "3. After training on each task, we deploy our model so we can query it for predictions.\n",
    "\n",
    "In this example, the training and test data for each task is well-defined beforehand by the benchmark. For real-world scenarios, this probably will not be the case. It is very likely that the prediction requests after training on one task will become the training data for the next task. \n"
   ]
  },
  {
   "cell_type": "code",
   "execution_count": 10,
   "metadata": {
    "colab": {
     "base_uri": "https://localhost:8080/",
     "height": 1000
    },
    "id": "I_OrfQTqNYRk",
    "outputId": "a89da8b8-1acf-4796-cc88-9ee889a32123"
   },
   "outputs": [
    {
     "name": "stderr",
     "output_type": "stream",
     "text": [
      "Read->Map_Batches: 100%|████████████████████████████████████████████████████████████████████████████████████████████████████████████████████████████████████████████████████████████████████████████████████████████████████████████████████████████████████████████████████████████████████████████████████████████████████████████████████████████████████████████████████████████████████████████████| 1/1 [00:03<00:00,  3.42s/it]\n",
      "Read->Map_Batches: 100%|████████████████████████████████████████████████████████████████████████████████████████████████████████████████████████████████████████████████████████████████████████████████████████████████████████████████████████████████████████████████████████████████████████████████████████████████████████████████████████████████████████████████████████████████████████████████| 1/1 [00:00<00:00,  5.27it/s]\n",
      "Map Progress (1 actors 1 pending): 100%|████████████████████████████████████████████████████████████████████████████████████████████████████████████████████████████████████████████████████████████████████████████████████████████████████████████████████████████████████████████████████████████████████████████████████████████████████████████████████████████████████████████████████████████████| 1/1 [00:00<00:00,  1.40it/s]\n",
      "Read->Map_Batches: 100%|████████████████████████████████████████████████████████████████████████████████████████████████████████████████████████████████████████████████████████████████████████████████████████████████████████████████████████████████████████████████████████████████████████████████████████████████████████████████████████████████████████████████████████████████████████████████| 1/1 [00:00<00:00,  4.17it/s]\n",
      "Map Progress (1 actors 1 pending): 100%|████████████████████████████████████████████████████████████████████████████████████████████████████████████████████████████████████████████████████████████████████████████████████████████████████████████████████████████████████████████████████████████████████████████████████████████████████████████████████████████████████████████████████████████████| 1/1 [00:00<00:00,  1.78it/s]"
     ]
    },
    {
     "name": "stdout",
     "output_type": "stream",
     "text": [
      "Starting training for task: 0\n"
     ]
    },
    {
     "name": "stderr",
     "output_type": "stream",
     "text": [
      "\n"
     ]
    },
    {
     "data": {
      "text/html": [
       "<div class=\"tuneStatus\">\n",
       "  <div style=\"display: flex;flex-direction: row\">\n",
       "    <div style=\"display: flex;flex-direction: column;\">\n",
       "      <h3>Tune Status</h3>\n",
       "      <table>\n",
       "<tbody>\n",
       "<tr><td>Current time:</td><td>2022-09-23 16:31:51</td></tr>\n",
       "<tr><td>Running for: </td><td>00:00:20.79        </td></tr>\n",
       "<tr><td>Memory:      </td><td>17.1/62.7 GiB      </td></tr>\n",
       "</tbody>\n",
       "</table>\n",
       "    </div>\n",
       "    <div class=\"vDivider\"></div>\n",
       "    <div class=\"systemInfo\">\n",
       "      <h3>System Info</h3>\n",
       "      Using FIFO scheduling algorithm.<br>Resources requested: 0/24 CPUs, 0/0 GPUs, 0.0/32.53 GiB heap, 0.0/16.26 GiB objects\n",
       "    </div>\n",
       "    \n",
       "  </div>\n",
       "  <div class=\"hDivider\"></div>\n",
       "  <div class=\"trialStatus\">\n",
       "    <h3>Trial Status</h3>\n",
       "    <table>\n",
       "<thead>\n",
       "<tr><th>Trial name              </th><th>status    </th><th>loc                  </th><th style=\"text-align: right;\">  iter</th><th style=\"text-align: right;\">  total time (s)</th><th style=\"text-align: right;\">  loss</th><th style=\"text-align: right;\">  _timestamp</th><th style=\"text-align: right;\">  _time_this_iter_s</th></tr>\n",
       "</thead>\n",
       "<tbody>\n",
       "<tr><td>TorchTrainer_da157_00000</td><td>TERMINATED</td><td>10.109.175.190:856770</td><td style=\"text-align: right;\">     4</td><td style=\"text-align: right;\">         17.0121</td><td style=\"text-align: right;\">     0</td><td style=\"text-align: right;\">  1663975908</td><td style=\"text-align: right;\">          0.0839479</td></tr>\n",
       "</tbody>\n",
       "</table>\n",
       "  </div>\n",
       "</div>\n",
       "<style>\n",
       ".tuneStatus {\n",
       "  color: var(--jp-ui-font-color1);\n",
       "}\n",
       ".tuneStatus .systemInfo {\n",
       "  display: flex;\n",
       "  flex-direction: column;\n",
       "}\n",
       ".tuneStatus td {\n",
       "  white-space: nowrap;\n",
       "}\n",
       ".tuneStatus .trialStatus {\n",
       "  display: flex;\n",
       "  flex-direction: column;\n",
       "}\n",
       ".tuneStatus h3 {\n",
       "  font-weight: bold;\n",
       "}\n",
       ".tuneStatus .hDivider {\n",
       "  border-bottom-width: var(--jp-border-width);\n",
       "  border-bottom-color: var(--jp-border-color0);\n",
       "  border-bottom-style: solid;\n",
       "}\n",
       ".tuneStatus .vDivider {\n",
       "  border-left-width: var(--jp-border-width);\n",
       "  border-left-color: var(--jp-border-color0);\n",
       "  border-left-style: solid;\n",
       "  margin: 0.5em 1em 0.5em 1em;\n",
       "}\n",
       "</style>\n"
      ],
      "text/plain": [
       "<IPython.core.display.HTML object>"
      ]
     },
     "metadata": {},
     "output_type": "display_data"
    },
    {
     "name": "stderr",
     "output_type": "stream",
     "text": [
      "\u001b[2m\u001b[36m(RayTrainWorker pid=856836)\u001b[0m 2022-09-23 16:31:37,847\tINFO config.py:71 -- Setting up process group for: env:// [rank=0, world_size=1]\n",
      "\u001b[2m\u001b[36m(RayTrainWorker pid=856836)\u001b[0m 2022-09-23 16:31:38,047\tINFO train_loop_utils.py:354 -- Moving model to device: cuda:0\n"
     ]
    },
    {
     "name": "stdout",
     "output_type": "stream",
     "text": [
      "\u001b[2m\u001b[36m(RayTrainWorker pid=856836)\u001b[0m loss: 2.436360, epoch: 0, iteration: 0\n",
      "\u001b[2m\u001b[36m(RayTrainWorker pid=856836)\u001b[0m loss: 1.608793, epoch: 0, iteration: 500\n",
      "\u001b[2m\u001b[36m(RayTrainWorker pid=856836)\u001b[0m loss: 1.285775, epoch: 0, iteration: 1000\n",
      "\u001b[2m\u001b[36m(RayTrainWorker pid=856836)\u001b[0m loss: 0.785092, epoch: 0, iteration: 1500\n"
     ]
    },
    {
     "data": {
      "text/html": [
       "<div class=\"trialProgress\">\n",
       "  <h3>Trial Progress</h3>\n",
       "  <table>\n",
       "<thead>\n",
       "<tr><th>Trial name              </th><th style=\"text-align: right;\">  _time_this_iter_s</th><th style=\"text-align: right;\">  _timestamp</th><th style=\"text-align: right;\">  _training_iteration</th><th>date               </th><th>done  </th><th>episodes_total  </th><th>experiment_id                   </th><th style=\"text-align: right;\">  experiment_tag</th><th>hostname  </th><th style=\"text-align: right;\">  iterations_since_restore</th><th style=\"text-align: right;\">  loss</th><th>node_ip       </th><th style=\"text-align: right;\">   pid</th><th>should_checkpoint  </th><th style=\"text-align: right;\">  time_since_restore</th><th style=\"text-align: right;\">  time_this_iter_s</th><th style=\"text-align: right;\">  time_total_s</th><th style=\"text-align: right;\">  timestamp</th><th style=\"text-align: right;\">  timesteps_since_restore</th><th>timesteps_total  </th><th style=\"text-align: right;\">  training_iteration</th><th>trial_id   </th><th style=\"text-align: right;\">  warmup_time</th></tr>\n",
       "</thead>\n",
       "<tbody>\n",
       "<tr><td>TorchTrainer_da157_00000</td><td style=\"text-align: right;\">          0.0839479</td><td style=\"text-align: right;\">  1663975908</td><td style=\"text-align: right;\">                    4</td><td>2022-09-23_16-31-49</td><td>True  </td><td>                </td><td>96c794a64d6f43d79b87130a76d21f1f</td><td style=\"text-align: right;\">               0</td><td>corvus    </td><td style=\"text-align: right;\">                         4</td><td style=\"text-align: right;\">     0</td><td>10.109.175.190</td><td style=\"text-align: right;\">856770</td><td>True               </td><td style=\"text-align: right;\">             17.0121</td><td style=\"text-align: right;\">           0.11111</td><td style=\"text-align: right;\">       17.0121</td><td style=\"text-align: right;\"> 1663975909</td><td style=\"text-align: right;\">                        0</td><td>                 </td><td style=\"text-align: right;\">                   4</td><td>da157_00000</td><td style=\"text-align: right;\">   0.00297165</td></tr>\n",
       "</tbody>\n",
       "</table>\n",
       "</div>\n",
       "<style>\n",
       ".trialProgress {\n",
       "  display: flex;\n",
       "  flex-direction: column;\n",
       "  color: var(--jp-ui-font-color1);\n",
       "}\n",
       ".trialProgress h3 {\n",
       "  font-weight: bold;\n",
       "}\n",
       ".trialProgress td {\n",
       "  white-space: nowrap;\n",
       "}\n",
       "</style>\n"
      ],
      "text/plain": [
       "<IPython.core.display.HTML object>"
      ]
     },
     "metadata": {},
     "output_type": "display_data"
    },
    {
     "name": "stderr",
     "output_type": "stream",
     "text": [
      "2022-09-23 16:31:51,231\tINFO tune.py:762 -- Total run time: 20.91 seconds (20.79 seconds for the tuning loop).\n",
      "Map_Batches:   0%|                                                                                                                                                                                                                                                                                                                                                                                              | 0/1 [00:00<?, ?it/s]\u001b[2m\u001b[36m(BlockWorker pid=857028)\u001b[0m 2022-09-23 16:31:52,652\tWARNING torch_predictor.py:53 -- You have `use_gpu` as False but there are 1 GPUs detected on host where prediction will only use CPU. Please consider explicitly setting `TorchPredictor(use_gpu=True)` or `batch_predictor.predict(ds, num_gpus_per_worker=1)` to enable GPU prediction.\n",
      "Map Progress (1 actors 1 pending): 100%|████████████████████████████████████████████████████████████████████████████████████████████████████████████████████████████████████████████████████████████████████████████████████████████████████████████████████████████████████████████████████████████████████████████████████████████████████████████████████████████████████████████████████████████████| 1/1 [00:02<00:00,  2.17s/it]\n",
      "Map_Batches: 100%|██████████████████████████████████████████████████████████████████████████████████████████████████████████████████████████████████████████████████████████████████████████████████████████████████████████████████████████████████████████████████████████████████████████████████████████████████████████████████████████████████████████████████████████████████████████████████████| 1/1 [00:00<00:00, 40.09it/s]\n",
      "Map_Batches: 100%|█████████████████████████████████████████████████████████████████████████████████████████████████████████████████████████████████████████████████████████████████████████████████████████████████████████████████████████████████████████████████████████████████████████████████████████████████████████████████████████████████████████████████████████████████████████████████████| 1/1 [00:00<00:00, 116.17it/s]\n",
      "Shuffle Map: 100%|█████████████████████████████████████████████████████████████████████████████████████████████████████████████████████████████████████████████████████████████████████████████████████████████████████████████████████████████████████████████████████████████████████████████████████████████████████████████████████████████████████████████████████████████████████████████████████| 1/1 [00:00<00:00, 141.72it/s]\n",
      "Shuffle Reduce: 100%|██████████████████████████████████████████████████████████████████████████████████████████████████████████████████████████████████████████████████████████████████████████████████████████████████████████████████████████████████████████████████████████████████████████████████████████████████████████████████████████████████████████████████████████████████████████████████| 1/1 [00:00<00:00, 220.51it/s]\n"
     ]
    },
    {
     "name": "stdout",
     "output_type": "stream",
     "text": [
      "Accuracy for task 1: 0.8678\n"
     ]
    },
    {
     "name": "stderr",
     "output_type": "stream",
     "text": [
      "Shuffle Map: 100%|██████████████████████████████████████████████████████████████████████████████████████████████████████████████████████████████████████████████████████████████████████████████████████████████████████████████████████████████████████████████████████████████████████████████████████████████████████████████████████████████████████████████████████████████████████████████████████| 1/1 [00:00<00:00, 58.32it/s]\n",
      "Shuffle Reduce: 100%|███████████████████████████████████████████████████████████████████████████████████████████████████████████████████████████████████████████████████████████████████████████████████████████████████████████████████████████████████████████████████████████████████████████████████████████████████████████████████████████████████████████████████████████████████████████████████| 1/1 [00:00<00:00, 79.30it/s]\n",
      "Map Progress (1 actors 1 pending):   0%|                                                                                                                                                                                                                                                                                                                                                                        | 0/1 [00:00<?, ?it/s]\u001b[2m\u001b[36m(BlockWorker pid=857062)\u001b[0m 2022-09-23 16:31:54,055\tWARNING torch_predictor.py:53 -- You have `use_gpu` as False but there are 1 GPUs detected on host where prediction will only use CPU. Please consider explicitly setting `TorchPredictor(use_gpu=True)` or `batch_predictor.predict(ds, num_gpus_per_worker=1)` to enable GPU prediction.\n",
      "Map Progress (1 actors 1 pending): 100%|████████████████████████████████████████████████████████████████████████████████████████████████████████████████████████████████████████████████████████████████████████████████████████████████████████████████████████████████████████████████████████████████████████████████████████████████████████████████████████████████████████████████████████████████| 1/1 [00:00<00:00,  1.77it/s]\n",
      "\u001b[2m\u001b[36m(ServeController pid=857134)\u001b[0m INFO 2022-09-23 16:31:54,643 controller 857134 http_state.py:129 - Starting HTTP proxy with name 'SERVE_CONTROLLER_ACTOR:SERVE_PROXY_ACTOR-610d4158d56aeda61abd25d5751611d23ba1aa97eddb34d2ee4e6020' on node '610d4158d56aeda61abd25d5751611d23ba1aa97eddb34d2ee4e6020' listening on '127.0.0.1:8000'\n",
      "\u001b[2m\u001b[36m(HTTPProxyActor pid=857184)\u001b[0m INFO:     Started server process [857184]\n",
      "\u001b[2m\u001b[36m(ServeController pid=857134)\u001b[0m INFO 2022-09-23 16:31:55,258 controller 857134 deployment_state.py:1277 - Adding 2 replicas to deployment 'mnist_model'.\n",
      "\u001b[2m\u001b[36m(ServeReplica:mnist_model pid=857227)\u001b[0m 2022-09-23 16:31:56,857\tWARNING torch_predictor.py:53 -- You have `use_gpu` as False but there are 1 GPUs detected on host where prediction will only use CPU. Please consider explicitly setting `TorchPredictor(use_gpu=True)` or `batch_predictor.predict(ds, num_gpus_per_worker=1)` to enable GPU prediction.\n",
      "\u001b[2m\u001b[36m(ServeReplica:mnist_model pid=857234)\u001b[0m 2022-09-23 16:31:56,871\tWARNING torch_predictor.py:53 -- You have `use_gpu` as False but there are 1 GPUs detected on host where prediction will only use CPU. Please consider explicitly setting `TorchPredictor(use_gpu=True)` or `batch_predictor.predict(ds, num_gpus_per_worker=1)` to enable GPU prediction.\n",
      "\u001b[2m\u001b[36m(HTTPProxyActor pid=857184)\u001b[0m INFO 2022-09-23 16:31:57,276 http_proxy 10.109.175.190 http_proxy.py:315 - POST /mnist_predict 307 3.3ms\n",
      "\u001b[2m\u001b[36m(ServeReplica:mnist_model pid=857227)\u001b[0m INFO 2022-09-23 16:31:57,275 mnist_model mnist_model#QckEDj replica.py:505 - HANDLE __call__ OK 0.2ms\n",
      "\u001b[2m\u001b[36m(HTTPProxyActor pid=857184)\u001b[0m INFO 2022-09-23 16:32:02,313 http_proxy 10.109.175.190 http_proxy.py:315 - POST /mnist_predict 200 5035.8ms\n",
      "\u001b[2m\u001b[36m(HTTPProxyActor pid=857184)\u001b[0m INFO 2022-09-23 16:32:02,360 http_proxy 10.109.175.190 http_proxy.py:315 - POST /mnist_predict 307 2.7ms\n",
      "\u001b[2m\u001b[36m(ServeReplica:mnist_model pid=857227)\u001b[0m INFO 2022-09-23 16:32:02,359 mnist_model mnist_model#QckEDj replica.py:505 - HANDLE __call__ OK 0.2ms\n",
      "\u001b[2m\u001b[36m(ServeReplica:mnist_model pid=857234)\u001b[0m INFO 2022-09-23 16:32:02,312 mnist_model mnist_model#PEPxlw replica.py:505 - HANDLE __call__ OK 5031.9ms\n",
      "\u001b[2m\u001b[36m(HTTPProxyActor pid=857184)\u001b[0m INFO 2022-09-23 16:32:07,340 http_proxy 10.109.175.190 http_proxy.py:315 - POST /mnist_predict 200 4978.8ms\n",
      "\u001b[2m\u001b[36m(ServeReplica:mnist_model pid=857234)\u001b[0m INFO 2022-09-23 16:32:07,339 mnist_model mnist_model#PEPxlw replica.py:505 - HANDLE __call__ OK 4975.8ms\n",
      "\u001b[2m\u001b[36m(HTTPProxyActor pid=857184)\u001b[0m INFO 2022-09-23 16:32:07,391 http_proxy 10.109.175.190 http_proxy.py:315 - POST /mnist_predict 307 3.8ms\n",
      "\u001b[2m\u001b[36m(ServeReplica:mnist_model pid=857227)\u001b[0m INFO 2022-09-23 16:32:07,390 mnist_model mnist_model#QckEDj replica.py:505 - HANDLE __call__ OK 0.2ms\n",
      "\u001b[2m\u001b[36m(HTTPProxyActor pid=857184)\u001b[0m INFO 2022-09-23 16:32:12,367 http_proxy 10.109.175.190 http_proxy.py:315 - POST /mnist_predict 200 4974.3ms\n",
      "\u001b[2m\u001b[36m(ServeReplica:mnist_model pid=857234)\u001b[0m INFO 2022-09-23 16:32:12,364 mnist_model mnist_model#PEPxlw replica.py:505 - HANDLE __call__ OK 4970.9ms\n",
      "\u001b[2m\u001b[36m(HTTPProxyActor pid=857184)\u001b[0m INFO 2022-09-23 16:32:12,414 http_proxy 10.109.175.190 http_proxy.py:315 - POST /mnist_predict 307 3.4ms\n",
      "\u001b[2m\u001b[36m(ServeReplica:mnist_model pid=857227)\u001b[0m INFO 2022-09-23 16:32:12,413 mnist_model mnist_model#QckEDj replica.py:505 - HANDLE __call__ OK 0.3ms\n",
      "\u001b[2m\u001b[36m(HTTPProxyActor pid=857184)\u001b[0m INFO 2022-09-23 16:32:17,394 http_proxy 10.109.175.190 http_proxy.py:315 - POST /mnist_predict 200 4977.8ms\n",
      "\u001b[2m\u001b[36m(HTTPProxyActor pid=857184)\u001b[0m INFO 2022-09-23 16:32:17,444 http_proxy 10.109.175.190 http_proxy.py:315 - POST /mnist_predict 307 4.6ms\n",
      "\u001b[2m\u001b[36m(ServeReplica:mnist_model pid=857227)\u001b[0m INFO 2022-09-23 16:32:17,443 mnist_model mnist_model#QckEDj replica.py:505 - HANDLE __call__ OK 0.2ms\n",
      "\u001b[2m\u001b[36m(ServeReplica:mnist_model pid=857234)\u001b[0m INFO 2022-09-23 16:32:17,392 mnist_model mnist_model#PEPxlw replica.py:505 - HANDLE __call__ OK 4973.3ms\n",
      "\u001b[2m\u001b[36m(HTTPProxyActor pid=857184)\u001b[0m INFO 2022-09-23 16:32:22,419 http_proxy 10.109.175.190 http_proxy.py:315 - POST /mnist_predict 200 4972.7ms\n",
      "\u001b[2m\u001b[36m(HTTPProxyActor pid=857184)\u001b[0m INFO 2022-09-23 16:32:22,471 http_proxy 10.109.175.190 http_proxy.py:315 - POST /mnist_predict 307 4.0ms\n",
      "\u001b[2m\u001b[36m(ServeReplica:mnist_model pid=857227)\u001b[0m INFO 2022-09-23 16:32:22,470 mnist_model mnist_model#QckEDj replica.py:505 - HANDLE __call__ OK 0.4ms\n",
      "\u001b[2m\u001b[36m(ServeReplica:mnist_model pid=857234)\u001b[0m INFO 2022-09-23 16:32:22,417 mnist_model mnist_model#PEPxlw replica.py:505 - HANDLE __call__ OK 4969.1ms\n",
      "\u001b[2m\u001b[36m(HTTPProxyActor pid=857184)\u001b[0m INFO 2022-09-23 16:32:27,440 http_proxy 10.109.175.190 http_proxy.py:315 - POST /mnist_predict 200 4966.7ms\n",
      "\u001b[2m\u001b[36m(ServeReplica:mnist_model pid=857234)\u001b[0m INFO 2022-09-23 16:32:27,439 mnist_model mnist_model#PEPxlw replica.py:505 - HANDLE __call__ OK 4963.6ms\n",
      "\u001b[2m\u001b[36m(HTTPProxyActor pid=857184)\u001b[0m INFO 2022-09-23 16:32:27,490 http_proxy 10.109.175.190 http_proxy.py:315 - POST /mnist_predict 307 3.0ms\n",
      "\u001b[2m\u001b[36m(ServeReplica:mnist_model pid=857227)\u001b[0m INFO 2022-09-23 16:32:27,489 mnist_model mnist_model#QckEDj replica.py:505 - HANDLE __call__ OK 0.3ms\n",
      "\u001b[2m\u001b[36m(HTTPProxyActor pid=857184)\u001b[0m INFO 2022-09-23 16:32:32,469 http_proxy 10.109.175.190 http_proxy.py:315 - POST /mnist_predict 200 4977.7ms\n",
      "\u001b[2m\u001b[36m(HTTPProxyActor pid=857184)\u001b[0m INFO 2022-09-23 16:32:32,520 http_proxy 10.109.175.190 http_proxy.py:315 - POST /mnist_predict 307 3.2ms\n",
      "\u001b[2m\u001b[36m(ServeReplica:mnist_model pid=857227)\u001b[0m INFO 2022-09-23 16:32:32,519 mnist_model mnist_model#QckEDj replica.py:505 - HANDLE __call__ OK 0.2ms\n",
      "\u001b[2m\u001b[36m(ServeReplica:mnist_model pid=857234)\u001b[0m INFO 2022-09-23 16:32:32,467 mnist_model mnist_model#PEPxlw replica.py:505 - HANDLE __call__ OK 4974.2ms\n",
      "\u001b[2m\u001b[36m(HTTPProxyActor pid=857184)\u001b[0m INFO 2022-09-23 16:32:37,496 http_proxy 10.109.175.190 http_proxy.py:315 - POST /mnist_predict 200 4974.4ms\n",
      "\u001b[2m\u001b[36m(ServeReplica:mnist_model pid=857234)\u001b[0m INFO 2022-09-23 16:32:37,495 mnist_model mnist_model#PEPxlw replica.py:505 - HANDLE __call__ OK 4971.3ms\n",
      "\u001b[2m\u001b[36m(HTTPProxyActor pid=857184)\u001b[0m INFO 2022-09-23 16:32:37,544 http_proxy 10.109.175.190 http_proxy.py:315 - POST /mnist_predict 307 3.2ms\n",
      "\u001b[2m\u001b[36m(ServeReplica:mnist_model pid=857227)\u001b[0m INFO 2022-09-23 16:32:37,543 mnist_model mnist_model#QckEDj replica.py:505 - HANDLE __call__ OK 0.2ms\n",
      "\u001b[2m\u001b[36m(HTTPProxyActor pid=857184)\u001b[0m INFO 2022-09-23 16:32:42,522 http_proxy 10.109.175.190 http_proxy.py:315 - POST /mnist_predict 200 4975.8ms\n",
      "\u001b[2m\u001b[36m(HTTPProxyActor pid=857184)\u001b[0m INFO 2022-09-23 16:32:42,570 http_proxy 10.109.175.190 http_proxy.py:315 - POST /mnist_predict 307 2.8ms\n",
      "\u001b[2m\u001b[36m(ServeReplica:mnist_model pid=857234)\u001b[0m INFO 2022-09-23 16:32:42,520 mnist_model mnist_model#PEPxlw replica.py:505 - HANDLE __call__ OK 4972.9ms\n",
      "\u001b[2m\u001b[36m(ServeReplica:mnist_model pid=857234)\u001b[0m INFO 2022-09-23 16:32:42,569 mnist_model mnist_model#PEPxlw replica.py:505 - HANDLE __call__ OK 0.2ms\n",
      "Map_Batches:   0%|                                                                                                                                                                                                                                                                                                                                                                                              | 0/1 [00:00<?, ?it/s]\u001b[2m\u001b[36m(HTTPProxyActor pid=857184)\u001b[0m INFO 2022-09-23 16:32:47,614 http_proxy 10.109.175.190 http_proxy.py:315 - POST /mnist_predict 200 5042.0ms\n",
      "\u001b[2m\u001b[36m(ServeReplica:mnist_model pid=857227)\u001b[0m INFO 2022-09-23 16:32:47,612 mnist_model mnist_model#QckEDj replica.py:505 - HANDLE __call__ OK 5039.0ms\n",
      "Map Progress (1 actors 1 pending): 100%|████████████████████████████████████████████████████████████████████████████████████████████████████████████████████████████████████████████████████████████████████████████████████████████████████████████████████████████████████████████████████████████████████████████████████████████████████████████████████████████████████████████████████████████████| 1/1 [00:00<00:00,  1.34it/s]\n",
      "Read->Map_Batches: 100%|████████████████████████████████████████████████████████████████████████████████████████████████████████████████████████████████████████████████████████████████████████████████████████████████████████████████████████████████████████████████████████████████████████████████████████████████████████████████████████████████████████████████████████████████████████████████| 1/1 [00:00<00:00,  4.26it/s]\n",
      "Map Progress (1 actors 1 pending): 100%|████████████████████████████████████████████████████████████████████████████████████████████████████████████████████████████████████████████████████████████████████████████████████████████████████████████████████████████████████████████████████████████████████████████████████████████████████████████████████████████████████████████████████████████████| 1/1 [00:00<00:00,  1.72it/s]"
     ]
    },
    {
     "name": "stdout",
     "output_type": "stream",
     "text": [
      "Starting training for task: 1\n"
     ]
    },
    {
     "name": "stderr",
     "output_type": "stream",
     "text": [
      "\n"
     ]
    },
    {
     "data": {
      "text/html": [
       "<div class=\"tuneStatus\">\n",
       "  <div style=\"display: flex;flex-direction: row\">\n",
       "    <div style=\"display: flex;flex-direction: column;\">\n",
       "      <h3>Tune Status</h3>\n",
       "      <table>\n",
       "<tbody>\n",
       "<tr><td>Current time:</td><td>2022-09-23 16:33:08</td></tr>\n",
       "<tr><td>Running for: </td><td>00:00:19.49        </td></tr>\n",
       "<tr><td>Memory:      </td><td>18.2/62.7 GiB      </td></tr>\n",
       "</tbody>\n",
       "</table>\n",
       "    </div>\n",
       "    <div class=\"vDivider\"></div>\n",
       "    <div class=\"systemInfo\">\n",
       "      <h3>System Info</h3>\n",
       "      Using FIFO scheduling algorithm.<br>Resources requested: 0/24 CPUs, 0/0 GPUs, 0.0/32.53 GiB heap, 0.0/16.26 GiB objects\n",
       "    </div>\n",
       "    \n",
       "  </div>\n",
       "  <div class=\"hDivider\"></div>\n",
       "  <div class=\"trialStatus\">\n",
       "    <h3>Trial Status</h3>\n",
       "    <table>\n",
       "<thead>\n",
       "<tr><th>Trial name              </th><th>status    </th><th>loc                  </th><th style=\"text-align: right;\">  iter</th><th style=\"text-align: right;\">  total time (s)</th><th style=\"text-align: right;\">  loss</th><th style=\"text-align: right;\">  _timestamp</th><th style=\"text-align: right;\">  _time_this_iter_s</th></tr>\n",
       "</thead>\n",
       "<tbody>\n",
       "<tr><td>TorchTrainer_09424_00000</td><td>TERMINATED</td><td>10.109.175.190:857781</td><td style=\"text-align: right;\">     4</td><td style=\"text-align: right;\">         15.3611</td><td style=\"text-align: right;\">     0</td><td style=\"text-align: right;\">  1663975986</td><td style=\"text-align: right;\">          0.0699804</td></tr>\n",
       "</tbody>\n",
       "</table>\n",
       "  </div>\n",
       "</div>\n",
       "<style>\n",
       ".tuneStatus {\n",
       "  color: var(--jp-ui-font-color1);\n",
       "}\n",
       ".tuneStatus .systemInfo {\n",
       "  display: flex;\n",
       "  flex-direction: column;\n",
       "}\n",
       ".tuneStatus td {\n",
       "  white-space: nowrap;\n",
       "}\n",
       ".tuneStatus .trialStatus {\n",
       "  display: flex;\n",
       "  flex-direction: column;\n",
       "}\n",
       ".tuneStatus h3 {\n",
       "  font-weight: bold;\n",
       "}\n",
       ".tuneStatus .hDivider {\n",
       "  border-bottom-width: var(--jp-border-width);\n",
       "  border-bottom-color: var(--jp-border-color0);\n",
       "  border-bottom-style: solid;\n",
       "}\n",
       ".tuneStatus .vDivider {\n",
       "  border-left-width: var(--jp-border-width);\n",
       "  border-left-color: var(--jp-border-color0);\n",
       "  border-left-style: solid;\n",
       "  margin: 0.5em 1em 0.5em 1em;\n",
       "}\n",
       "</style>\n"
      ],
      "text/plain": [
       "<IPython.core.display.HTML object>"
      ]
     },
     "metadata": {},
     "output_type": "display_data"
    },
    {
     "name": "stderr",
     "output_type": "stream",
     "text": [
      "\u001b[2m\u001b[36m(RayTrainWorker pid=857818)\u001b[0m 2022-09-23 16:32:55,672\tINFO config.py:71 -- Setting up process group for: env:// [rank=0, world_size=1]\n",
      "\u001b[2m\u001b[36m(RayTrainWorker pid=857818)\u001b[0m 2022-09-23 16:32:55,954\tINFO train_loop_utils.py:354 -- Moving model to device: cuda:0\n"
     ]
    },
    {
     "name": "stdout",
     "output_type": "stream",
     "text": [
      "\u001b[2m\u001b[36m(RayTrainWorker pid=857818)\u001b[0m loss: 2.457292, epoch: 0, iteration: 0\n",
      "\u001b[2m\u001b[36m(RayTrainWorker pid=857818)\u001b[0m loss: 1.339169, epoch: 0, iteration: 500\n",
      "\u001b[2m\u001b[36m(RayTrainWorker pid=857818)\u001b[0m loss: 1.032746, epoch: 0, iteration: 1000\n",
      "\u001b[2m\u001b[36m(RayTrainWorker pid=857818)\u001b[0m loss: 0.707931, epoch: 0, iteration: 1500\n"
     ]
    },
    {
     "data": {
      "text/html": [
       "<div class=\"trialProgress\">\n",
       "  <h3>Trial Progress</h3>\n",
       "  <table>\n",
       "<thead>\n",
       "<tr><th>Trial name              </th><th style=\"text-align: right;\">  _time_this_iter_s</th><th style=\"text-align: right;\">  _timestamp</th><th style=\"text-align: right;\">  _training_iteration</th><th>date               </th><th>done  </th><th>episodes_total  </th><th>experiment_id                   </th><th style=\"text-align: right;\">  experiment_tag</th><th>hostname  </th><th style=\"text-align: right;\">  iterations_since_restore</th><th style=\"text-align: right;\">  loss</th><th>node_ip       </th><th style=\"text-align: right;\">   pid</th><th>should_checkpoint  </th><th style=\"text-align: right;\">  time_since_restore</th><th style=\"text-align: right;\">  time_this_iter_s</th><th style=\"text-align: right;\">  time_total_s</th><th style=\"text-align: right;\">  timestamp</th><th style=\"text-align: right;\">  timesteps_since_restore</th><th>timesteps_total  </th><th style=\"text-align: right;\">  training_iteration</th><th style=\"text-align: right;\">   trial_id</th><th style=\"text-align: right;\">  warmup_time</th></tr>\n",
       "</thead>\n",
       "<tbody>\n",
       "<tr><td>TorchTrainer_09424_00000</td><td style=\"text-align: right;\">          0.0699804</td><td style=\"text-align: right;\">  1663975986</td><td style=\"text-align: right;\">                    4</td><td>2022-09-23_16-33-06</td><td>True  </td><td>                </td><td>77c9c5f109fa4a47b459b0afadf3ba33</td><td style=\"text-align: right;\">               0</td><td>corvus    </td><td style=\"text-align: right;\">                         4</td><td style=\"text-align: right;\">     0</td><td>10.109.175.190</td><td style=\"text-align: right;\">857781</td><td>True               </td><td style=\"text-align: right;\">             15.3611</td><td style=\"text-align: right;\">         0.0725608</td><td style=\"text-align: right;\">       15.3611</td><td style=\"text-align: right;\"> 1663975986</td><td style=\"text-align: right;\">                        0</td><td>                 </td><td style=\"text-align: right;\">                   4</td><td style=\"text-align: right;\">09424_00000</td><td style=\"text-align: right;\">   0.00418878</td></tr>\n",
       "</tbody>\n",
       "</table>\n",
       "</div>\n",
       "<style>\n",
       ".trialProgress {\n",
       "  display: flex;\n",
       "  flex-direction: column;\n",
       "  color: var(--jp-ui-font-color1);\n",
       "}\n",
       ".trialProgress h3 {\n",
       "  font-weight: bold;\n",
       "}\n",
       ".trialProgress td {\n",
       "  white-space: nowrap;\n",
       "}\n",
       "</style>\n"
      ],
      "text/plain": [
       "<IPython.core.display.HTML object>"
      ]
     },
     "metadata": {},
     "output_type": "display_data"
    },
    {
     "name": "stderr",
     "output_type": "stream",
     "text": [
      "2022-09-23 16:33:09,072\tINFO tune.py:762 -- Total run time: 19.62 seconds (19.49 seconds for the tuning loop).\n",
      "Map Progress (1 actors 1 pending):   0%|                                                                                                                                                                                                                                                                                                                                                                        | 0/2 [00:01<?, ?it/s]\u001b[2m\u001b[36m(BlockWorker pid=857874)\u001b[0m 2022-09-23 16:33:10,528\tWARNING torch_predictor.py:53 -- You have `use_gpu` as False but there are 1 GPUs detected on host where prediction will only use CPU. Please consider explicitly setting `TorchPredictor(use_gpu=True)` or `batch_predictor.predict(ds, num_gpus_per_worker=1)` to enable GPU prediction.\n",
      "Map Progress (2 actors 1 pending):  50%|████████████████████████████████████████████████████████████████████████████████████████████████████████████████████████████████████████████████████████████████████████████████                                                                                                                                                                                | 1/2 [00:02<00:02,  2.23s/it]\u001b[2m\u001b[36m(BlockWorker pid=857902)\u001b[0m 2022-09-23 16:33:11,882\tWARNING torch_predictor.py:53 -- You have `use_gpu` as False but there are 1 GPUs detected on host where prediction will only use CPU. Please consider explicitly setting `TorchPredictor(use_gpu=True)` or `batch_predictor.predict(ds, num_gpus_per_worker=1)` to enable GPU prediction.\n",
      "Map Progress (2 actors 1 pending): 100%|████████████████████████████████████████████████████████████████████████████████████████████████████████████████████████████████████████████████████████████████████████████████████████████████████████████████████████████████████████████████████████████████████████████████████████████████████████████████████████████████████████████████████████████████| 2/2 [00:03<00:00,  1.53s/it]\n",
      "Map_Batches: 100%|██████████████████████████████████████████████████████████████████████████████████████████████████████████████████████████████████████████████████████████████████████████████████████████████████████████████████████████████████████████████████████████████████████████████████████████████████████████████████████████████████████████████████████████████████████████████████████| 2/2 [00:00<00:00,  7.46it/s]\n",
      "Map_Batches: 100%|█████████████████████████████████████████████████████████████████████████████████████████████████████████████████████████████████████████████████████████████████████████████████████████████████████████████████████████████████████████████████████████████████████████████████████████████████████████████████████████████████████████████████████████████████████████████████████| 2/2 [00:00<00:00, 125.99it/s]\n",
      "Shuffle Map: 100%|█████████████████████████████████████████████████████████████████████████████████████████████████████████████████████████████████████████████████████████████████████████████████████████████████████████████████████████████████████████████████████████████████████████████████████████████████████████████████████████████████████████████████████████████████████████████████████| 2/2 [00:00<00:00, 269.85it/s]\n",
      "Shuffle Reduce: 100%|██████████████████████████████████████████████████████████████████████████████████████████████████████████████████████████████████████████████████████████████████████████████████████████████████████████████████████████████████████████████████████████████████████████████████████████████████████████████████████████████████████████████████████████████████████████████████| 1/1 [00:00<00:00, 261.75it/s]\n"
     ]
    },
    {
     "name": "stdout",
     "output_type": "stream",
     "text": [
      "Accuracy for task 2: 0.86465\n"
     ]
    },
    {
     "name": "stderr",
     "output_type": "stream",
     "text": [
      "Shuffle Map: 100%|██████████████████████████████████████████████████████████████████████████████████████████████████████████████████████████████████████████████████████████████████████████████████████████████████████████████████████████████████████████████████████████████████████████████████████████████████████████████████████████████████████████████████████████████████████████████████████| 1/1 [00:00<00:00, 97.22it/s]\n",
      "Shuffle Reduce: 100%|███████████████████████████████████████████████████████████████████████████████████████████████████████████████████████████████████████████████████████████████████████████████████████████████████████████████████████████████████████████████████████████████████████████████████████████████████████████████████████████████████████████████████████████████████████████████████| 1/1 [00:00<00:00, 96.18it/s]\n",
      "Map Progress (1 actors 1 pending): 100%|████████████████████████████████████████████████████████████████████████████████████████████████████████████████████████████████████████████████████████████████████████████████████████████████████████████████████████████████████████████████████████████████████████████████████████████████████████████████████████████████████████████████████████████████| 1/1 [00:00<00:00,  1.83it/s]\n",
      "\u001b[2m\u001b[36m(ServeController pid=857134)\u001b[0m INFO 2022-09-23 16:33:13,164 controller 857134 deployment_state.py:1234 - Stopping 1 replicas of deployment 'mnist_model' with outdated versions.\n",
      "\u001b[2m\u001b[36m(BlockWorker pid=857930)\u001b[0m 2022-09-23 16:33:13,290\tWARNING torch_predictor.py:53 -- You have `use_gpu` as False but there are 1 GPUs detected on host where prediction will only use CPU. Please consider explicitly setting `TorchPredictor(use_gpu=True)` or `batch_predictor.predict(ds, num_gpus_per_worker=1)` to enable GPU prediction.\n",
      "\u001b[2m\u001b[36m(ServeController pid=857134)\u001b[0m INFO 2022-09-23 16:33:15,301 controller 857134 deployment_state.py:1277 - Adding 1 replica to deployment 'mnist_model'.\n",
      "\u001b[2m\u001b[36m(ServeReplica:mnist_model pid=858036)\u001b[0m 2022-09-23 16:33:16,792\tWARNING torch_predictor.py:53 -- You have `use_gpu` as False but there are 1 GPUs detected on host where prediction will only use CPU. Please consider explicitly setting `TorchPredictor(use_gpu=True)` or `batch_predictor.predict(ds, num_gpus_per_worker=1)` to enable GPU prediction.\n",
      "\u001b[2m\u001b[36m(ServeController pid=857134)\u001b[0m INFO 2022-09-23 16:33:16,946 controller 857134 deployment_state.py:1234 - Stopping 1 replicas of deployment 'mnist_model' with outdated versions.\n",
      "\u001b[2m\u001b[36m(ServeController pid=857134)\u001b[0m INFO 2022-09-23 16:33:19,087 controller 857134 deployment_state.py:1277 - Adding 1 replica to deployment 'mnist_model'.\n",
      "\u001b[2m\u001b[36m(ServeReplica:mnist_model pid=858081)\u001b[0m 2022-09-23 16:33:20,575\tWARNING torch_predictor.py:53 -- You have `use_gpu` as False but there are 1 GPUs detected on host where prediction will only use CPU. Please consider explicitly setting `TorchPredictor(use_gpu=True)` or `batch_predictor.predict(ds, num_gpus_per_worker=1)` to enable GPU prediction.\n",
      "\u001b[2m\u001b[36m(HTTPProxyActor pid=857184)\u001b[0m INFO 2022-09-23 16:33:21,138 http_proxy 10.109.175.190 http_proxy.py:315 - POST /mnist_predict 307 4.4ms\n",
      "\u001b[2m\u001b[36m(ServeReplica:mnist_model pid=858036)\u001b[0m INFO 2022-09-23 16:33:21,137 mnist_model mnist_model#JcKoby replica.py:505 - HANDLE __call__ OK 0.3ms\n",
      "\u001b[2m\u001b[36m(HTTPProxyActor pid=857184)\u001b[0m INFO 2022-09-23 16:33:26,162 http_proxy 10.109.175.190 http_proxy.py:315 - POST /mnist_predict 200 5021.8ms\n",
      "\u001b[2m\u001b[36m(HTTPProxyActor pid=857184)\u001b[0m INFO 2022-09-23 16:33:26,210 http_proxy 10.109.175.190 http_proxy.py:315 - POST /mnist_predict 307 2.8ms\n",
      "\u001b[2m\u001b[36m(ServeReplica:mnist_model pid=858036)\u001b[0m INFO 2022-09-23 16:33:26,209 mnist_model mnist_model#JcKoby replica.py:505 - HANDLE __call__ OK 0.3ms\n",
      "\u001b[2m\u001b[36m(ServeReplica:mnist_model pid=858081)\u001b[0m INFO 2022-09-23 16:33:26,160 mnist_model mnist_model#BpvmYM replica.py:505 - HANDLE __call__ OK 5017.8ms\n",
      "\u001b[2m\u001b[36m(HTTPProxyActor pid=857184)\u001b[0m INFO 2022-09-23 16:33:31,190 http_proxy 10.109.175.190 http_proxy.py:315 - POST /mnist_predict 200 4979.0ms\n",
      "\u001b[2m\u001b[36m(HTTPProxyActor pid=857184)\u001b[0m INFO 2022-09-23 16:33:31,237 http_proxy 10.109.175.190 http_proxy.py:315 - POST /mnist_predict 307 3.2ms\n",
      "\u001b[2m\u001b[36m(ServeReplica:mnist_model pid=858036)\u001b[0m INFO 2022-09-23 16:33:31,236 mnist_model mnist_model#JcKoby replica.py:505 - HANDLE __call__ OK 0.3ms\n",
      "\u001b[2m\u001b[36m(ServeReplica:mnist_model pid=858081)\u001b[0m INFO 2022-09-23 16:33:31,189 mnist_model mnist_model#BpvmYM replica.py:505 - HANDLE __call__ OK 4975.9ms\n",
      "\u001b[2m\u001b[36m(HTTPProxyActor pid=857184)\u001b[0m INFO 2022-09-23 16:33:36,219 http_proxy 10.109.175.190 http_proxy.py:315 - POST /mnist_predict 200 4980.6ms\n",
      "\u001b[2m\u001b[36m(ServeReplica:mnist_model pid=858081)\u001b[0m INFO 2022-09-23 16:33:36,218 mnist_model mnist_model#BpvmYM replica.py:505 - HANDLE __call__ OK 4977.7ms\n",
      "\u001b[2m\u001b[36m(HTTPProxyActor pid=857184)\u001b[0m INFO 2022-09-23 16:33:36,266 http_proxy 10.109.175.190 http_proxy.py:315 - POST /mnist_predict 307 2.6ms\n",
      "\u001b[2m\u001b[36m(ServeReplica:mnist_model pid=858036)\u001b[0m INFO 2022-09-23 16:33:36,265 mnist_model mnist_model#JcKoby replica.py:505 - HANDLE __call__ OK 0.2ms\n",
      "\u001b[2m\u001b[36m(HTTPProxyActor pid=857184)\u001b[0m INFO 2022-09-23 16:33:41,246 http_proxy 10.109.175.190 http_proxy.py:315 - POST /mnist_predict 200 4979.9ms\n",
      "\u001b[2m\u001b[36m(ServeReplica:mnist_model pid=858081)\u001b[0m INFO 2022-09-23 16:33:41,245 mnist_model mnist_model#BpvmYM replica.py:505 - HANDLE __call__ OK 4977.0ms\n",
      "\u001b[2m\u001b[36m(HTTPProxyActor pid=857184)\u001b[0m INFO 2022-09-23 16:33:41,293 http_proxy 10.109.175.190 http_proxy.py:315 - POST /mnist_predict 307 3.1ms\n",
      "\u001b[2m\u001b[36m(ServeReplica:mnist_model pid=858036)\u001b[0m INFO 2022-09-23 16:33:41,292 mnist_model mnist_model#JcKoby replica.py:505 - HANDLE __call__ OK 0.3ms\n",
      "\u001b[2m\u001b[36m(HTTPProxyActor pid=857184)\u001b[0m INFO 2022-09-23 16:33:46,274 http_proxy 10.109.175.190 http_proxy.py:315 - POST /mnist_predict 200 4979.4ms\n",
      "\u001b[2m\u001b[36m(HTTPProxyActor pid=857184)\u001b[0m INFO 2022-09-23 16:33:46,320 http_proxy 10.109.175.190 http_proxy.py:315 - POST /mnist_predict 307 3.1ms\n",
      "\u001b[2m\u001b[36m(ServeReplica:mnist_model pid=858036)\u001b[0m INFO 2022-09-23 16:33:46,319 mnist_model mnist_model#JcKoby replica.py:505 - HANDLE __call__ OK 0.3ms\n",
      "\u001b[2m\u001b[36m(ServeReplica:mnist_model pid=858081)\u001b[0m INFO 2022-09-23 16:33:46,272 mnist_model mnist_model#BpvmYM replica.py:505 - HANDLE __call__ OK 4976.2ms\n",
      "\u001b[2m\u001b[36m(HTTPProxyActor pid=857184)\u001b[0m INFO 2022-09-23 16:33:51,292 http_proxy 10.109.175.190 http_proxy.py:315 - POST /mnist_predict 200 4970.2ms\n",
      "\u001b[2m\u001b[36m(HTTPProxyActor pid=857184)\u001b[0m INFO 2022-09-23 16:33:51,340 http_proxy 10.109.175.190 http_proxy.py:315 - POST /mnist_predict 307 3.2ms\n",
      "\u001b[2m\u001b[36m(ServeReplica:mnist_model pid=858036)\u001b[0m INFO 2022-09-23 16:33:51,339 mnist_model mnist_model#JcKoby replica.py:505 - HANDLE __call__ OK 0.3ms\n",
      "\u001b[2m\u001b[36m(ServeReplica:mnist_model pid=858081)\u001b[0m INFO 2022-09-23 16:33:51,290 mnist_model mnist_model#BpvmYM replica.py:505 - HANDLE __call__ OK 4966.7ms\n",
      "\u001b[2m\u001b[36m(HTTPProxyActor pid=857184)\u001b[0m INFO 2022-09-23 16:33:56,315 http_proxy 10.109.175.190 http_proxy.py:315 - POST /mnist_predict 200 4973.0ms\n",
      "\u001b[2m\u001b[36m(HTTPProxyActor pid=857184)\u001b[0m INFO 2022-09-23 16:33:56,364 http_proxy 10.109.175.190 http_proxy.py:315 - POST /mnist_predict 307 3.0ms\n",
      "\u001b[2m\u001b[36m(ServeReplica:mnist_model pid=858036)\u001b[0m INFO 2022-09-23 16:33:56,363 mnist_model mnist_model#JcKoby replica.py:505 - HANDLE __call__ OK 0.3ms\n",
      "\u001b[2m\u001b[36m(ServeReplica:mnist_model pid=858081)\u001b[0m INFO 2022-09-23 16:33:56,314 mnist_model mnist_model#BpvmYM replica.py:505 - HANDLE __call__ OK 4969.9ms\n",
      "\u001b[2m\u001b[36m(HTTPProxyActor pid=857184)\u001b[0m INFO 2022-09-23 16:34:01,344 http_proxy 10.109.175.190 http_proxy.py:315 - POST /mnist_predict 200 4978.3ms\n",
      "\u001b[2m\u001b[36m(ServeReplica:mnist_model pid=858081)\u001b[0m INFO 2022-09-23 16:34:01,342 mnist_model mnist_model#BpvmYM replica.py:505 - HANDLE __call__ OK 4975.1ms\n",
      "\u001b[2m\u001b[36m(HTTPProxyActor pid=857184)\u001b[0m INFO 2022-09-23 16:34:01,390 http_proxy 10.109.175.190 http_proxy.py:315 - POST /mnist_predict 307 3.2ms\n",
      "\u001b[2m\u001b[36m(ServeReplica:mnist_model pid=858036)\u001b[0m INFO 2022-09-23 16:34:01,389 mnist_model mnist_model#JcKoby replica.py:505 - HANDLE __call__ OK 0.3ms\n",
      "\u001b[2m\u001b[36m(HTTPProxyActor pid=857184)\u001b[0m INFO 2022-09-23 16:34:06,367 http_proxy 10.109.175.190 http_proxy.py:315 - POST /mnist_predict 200 4975.1ms\n",
      "\u001b[2m\u001b[36m(ServeReplica:mnist_model pid=858081)\u001b[0m INFO 2022-09-23 16:34:06,366 mnist_model mnist_model#BpvmYM replica.py:505 - HANDLE __call__ OK 4972.3ms\n",
      "\u001b[2m\u001b[36m(HTTPProxyActor pid=857184)\u001b[0m INFO 2022-09-23 16:34:06,413 http_proxy 10.109.175.190 http_proxy.py:315 - POST /mnist_predict 307 3.0ms\n",
      "\u001b[2m\u001b[36m(ServeReplica:mnist_model pid=858036)\u001b[0m INFO 2022-09-23 16:34:06,412 mnist_model mnist_model#JcKoby replica.py:505 - HANDLE __call__ OK 0.3ms\n",
      "Map_Batches:   0%|                                                                                                                                                                                                                                                                                                                                                                                              | 0/1 [00:00<?, ?it/s]\u001b[2m\u001b[36m(HTTPProxyActor pid=857184)\u001b[0m INFO 2022-09-23 16:34:11,392 http_proxy 10.109.175.190 http_proxy.py:315 - POST /mnist_predict 200 4977.5ms\n",
      "\u001b[2m\u001b[36m(ServeReplica:mnist_model pid=858081)\u001b[0m INFO 2022-09-23 16:34:11,391 mnist_model mnist_model#BpvmYM replica.py:505 - HANDLE __call__ OK 4975.0ms\n",
      "Map Progress (1 actors 1 pending): 100%|████████████████████████████████████████████████████████████████████████████████████████████████████████████████████████████████████████████████████████████████████████████████████████████████████████████████████████████████████████████████████████████████████████████████████████████████████████████████████████████████████████████████████████████████| 1/1 [00:00<00:00,  1.37it/s]\n",
      "Read->Map_Batches: 100%|████████████████████████████████████████████████████████████████████████████████████████████████████████████████████████████████████████████████████████████████████████████████████████████████████████████████████████████████████████████████████████████████████████████████████████████████████████████████████████████████████████████████████████████████████████████████| 1/1 [00:00<00:00,  5.31it/s]\n",
      "Map Progress (1 actors 1 pending): 100%|████████████████████████████████████████████████████████████████████████████████████████████████████████████████████████████████████████████████████████████████████████████████████████████████████████████████████████████████████████████████████████████████████████████████████████████████████████████████████████████████████████████████████████████████| 1/1 [00:00<00:00,  1.76it/s]"
     ]
    },
    {
     "name": "stdout",
     "output_type": "stream",
     "text": [
      "Starting training for task: 2\n"
     ]
    },
    {
     "name": "stderr",
     "output_type": "stream",
     "text": [
      "\n"
     ]
    },
    {
     "data": {
      "text/html": [
       "<div class=\"tuneStatus\">\n",
       "  <div style=\"display: flex;flex-direction: row\">\n",
       "    <div style=\"display: flex;flex-direction: column;\">\n",
       "      <h3>Tune Status</h3>\n",
       "      <table>\n",
       "<tbody>\n",
       "<tr><td>Current time:</td><td>2022-09-23 16:34:33</td></tr>\n",
       "<tr><td>Running for: </td><td>00:00:19.45        </td></tr>\n",
       "<tr><td>Memory:      </td><td>18.4/62.7 GiB      </td></tr>\n",
       "</tbody>\n",
       "</table>\n",
       "    </div>\n",
       "    <div class=\"vDivider\"></div>\n",
       "    <div class=\"systemInfo\">\n",
       "      <h3>System Info</h3>\n",
       "      Using FIFO scheduling algorithm.<br>Resources requested: 0/24 CPUs, 0/0 GPUs, 0.0/32.53 GiB heap, 0.0/16.26 GiB objects\n",
       "    </div>\n",
       "    \n",
       "  </div>\n",
       "  <div class=\"hDivider\"></div>\n",
       "  <div class=\"trialStatus\">\n",
       "    <h3>Trial Status</h3>\n",
       "    <table>\n",
       "<thead>\n",
       "<tr><th>Trial name              </th><th>status    </th><th>loc                  </th><th style=\"text-align: right;\">  iter</th><th style=\"text-align: right;\">  total time (s)</th><th style=\"text-align: right;\">  loss</th><th style=\"text-align: right;\">  _timestamp</th><th style=\"text-align: right;\">  _time_this_iter_s</th></tr>\n",
       "</thead>\n",
       "<tbody>\n",
       "<tr><td>TorchTrainer_3b7e3_00000</td><td>TERMINATED</td><td>10.109.175.190:858536</td><td style=\"text-align: right;\">     4</td><td style=\"text-align: right;\">         15.3994</td><td style=\"text-align: right;\">     0</td><td style=\"text-align: right;\">  1663976070</td><td style=\"text-align: right;\">          0.0710998</td></tr>\n",
       "</tbody>\n",
       "</table>\n",
       "  </div>\n",
       "</div>\n",
       "<style>\n",
       ".tuneStatus {\n",
       "  color: var(--jp-ui-font-color1);\n",
       "}\n",
       ".tuneStatus .systemInfo {\n",
       "  display: flex;\n",
       "  flex-direction: column;\n",
       "}\n",
       ".tuneStatus td {\n",
       "  white-space: nowrap;\n",
       "}\n",
       ".tuneStatus .trialStatus {\n",
       "  display: flex;\n",
       "  flex-direction: column;\n",
       "}\n",
       ".tuneStatus h3 {\n",
       "  font-weight: bold;\n",
       "}\n",
       ".tuneStatus .hDivider {\n",
       "  border-bottom-width: var(--jp-border-width);\n",
       "  border-bottom-color: var(--jp-border-color0);\n",
       "  border-bottom-style: solid;\n",
       "}\n",
       ".tuneStatus .vDivider {\n",
       "  border-left-width: var(--jp-border-width);\n",
       "  border-left-color: var(--jp-border-color0);\n",
       "  border-left-style: solid;\n",
       "  margin: 0.5em 1em 0.5em 1em;\n",
       "}\n",
       "</style>\n"
      ],
      "text/plain": [
       "<IPython.core.display.HTML object>"
      ]
     },
     "metadata": {},
     "output_type": "display_data"
    },
    {
     "name": "stderr",
     "output_type": "stream",
     "text": [
      "\u001b[2m\u001b[36m(RayTrainWorker pid=858579)\u001b[0m 2022-09-23 16:34:19,902\tINFO config.py:71 -- Setting up process group for: env:// [rank=0, world_size=1]\n",
      "\u001b[2m\u001b[36m(RayTrainWorker pid=858579)\u001b[0m 2022-09-23 16:34:20,191\tINFO train_loop_utils.py:354 -- Moving model to device: cuda:0\n"
     ]
    },
    {
     "name": "stdout",
     "output_type": "stream",
     "text": [
      "\u001b[2m\u001b[36m(RayTrainWorker pid=858579)\u001b[0m loss: 2.515887, epoch: 0, iteration: 0\n",
      "\u001b[2m\u001b[36m(RayTrainWorker pid=858579)\u001b[0m loss: 1.260738, epoch: 0, iteration: 500\n",
      "\u001b[2m\u001b[36m(RayTrainWorker pid=858579)\u001b[0m loss: 0.892560, epoch: 0, iteration: 1000\n",
      "\u001b[2m\u001b[36m(RayTrainWorker pid=858579)\u001b[0m loss: 0.497198, epoch: 0, iteration: 1500\n"
     ]
    },
    {
     "data": {
      "text/html": [
       "<div class=\"trialProgress\">\n",
       "  <h3>Trial Progress</h3>\n",
       "  <table>\n",
       "<thead>\n",
       "<tr><th>Trial name              </th><th style=\"text-align: right;\">  _time_this_iter_s</th><th style=\"text-align: right;\">  _timestamp</th><th style=\"text-align: right;\">  _training_iteration</th><th>date               </th><th>done  </th><th>episodes_total  </th><th>experiment_id                   </th><th style=\"text-align: right;\">  experiment_tag</th><th>hostname  </th><th style=\"text-align: right;\">  iterations_since_restore</th><th style=\"text-align: right;\">  loss</th><th>node_ip       </th><th style=\"text-align: right;\">   pid</th><th>should_checkpoint  </th><th style=\"text-align: right;\">  time_since_restore</th><th style=\"text-align: right;\">  time_this_iter_s</th><th style=\"text-align: right;\">  time_total_s</th><th style=\"text-align: right;\">  timestamp</th><th style=\"text-align: right;\">  timesteps_since_restore</th><th>timesteps_total  </th><th style=\"text-align: right;\">  training_iteration</th><th>trial_id   </th><th style=\"text-align: right;\">  warmup_time</th></tr>\n",
       "</thead>\n",
       "<tbody>\n",
       "<tr><td>TorchTrainer_3b7e3_00000</td><td style=\"text-align: right;\">          0.0710998</td><td style=\"text-align: right;\">  1663976070</td><td style=\"text-align: right;\">                    4</td><td>2022-09-23_16-34-30</td><td>True  </td><td>                </td><td>c9312be01e964b958b931d1796623509</td><td style=\"text-align: right;\">               0</td><td>corvus    </td><td style=\"text-align: right;\">                         4</td><td style=\"text-align: right;\">     0</td><td>10.109.175.190</td><td style=\"text-align: right;\">858536</td><td>True               </td><td style=\"text-align: right;\">             15.3994</td><td style=\"text-align: right;\">         0.0705044</td><td style=\"text-align: right;\">       15.3994</td><td style=\"text-align: right;\"> 1663976070</td><td style=\"text-align: right;\">                        0</td><td>                 </td><td style=\"text-align: right;\">                   4</td><td>3b7e3_00000</td><td style=\"text-align: right;\">   0.00414133</td></tr>\n",
       "</tbody>\n",
       "</table>\n",
       "</div>\n",
       "<style>\n",
       ".trialProgress {\n",
       "  display: flex;\n",
       "  flex-direction: column;\n",
       "  color: var(--jp-ui-font-color1);\n",
       "}\n",
       ".trialProgress h3 {\n",
       "  font-weight: bold;\n",
       "}\n",
       ".trialProgress td {\n",
       "  white-space: nowrap;\n",
       "}\n",
       "</style>\n"
      ],
      "text/plain": [
       "<IPython.core.display.HTML object>"
      ]
     },
     "metadata": {},
     "output_type": "display_data"
    },
    {
     "name": "stderr",
     "output_type": "stream",
     "text": [
      "2022-09-23 16:34:33,315\tINFO tune.py:762 -- Total run time: 19.59 seconds (19.45 seconds for the tuning loop).\n",
      "Map Progress (1 actors 1 pending):   0%|                                                                                                                                                                                                                                                                                                                                                                        | 0/3 [00:01<?, ?it/s]\u001b[2m\u001b[36m(BlockWorker pid=858662)\u001b[0m 2022-09-23 16:34:34,737\tWARNING torch_predictor.py:53 -- You have `use_gpu` as False but there are 1 GPUs detected on host where prediction will only use CPU. Please consider explicitly setting `TorchPredictor(use_gpu=True)` or `batch_predictor.predict(ds, num_gpus_per_worker=1)` to enable GPU prediction.\n",
      "Map Progress (2 actors 1 pending):  33%|█████████████████████████████████████████████████████████████████████████████████████████████████████████████████████▎                                                                                                                                                                                                                                          | 1/3 [00:02<00:04,  2.18s/it]\u001b[2m\u001b[36m(BlockWorker pid=858688)\u001b[0m 2022-09-23 16:34:36,116\tWARNING torch_predictor.py:53 -- You have `use_gpu` as False but there are 1 GPUs detected on host where prediction will only use CPU. Please consider explicitly setting `TorchPredictor(use_gpu=True)` or `batch_predictor.predict(ds, num_gpus_per_worker=1)` to enable GPU prediction.\n",
      "Map Progress (2 actors 1 pending): 100%|████████████████████████████████████████████████████████████████████████████████████████████████████████████████████████████████████████████████████████████████████████████████████████████████████████████████████████████████████████████████████████████████████████████████████████████████████████████████████████████████████████████████████████████████| 3/3 [00:03<00:00,  1.25s/it]\n",
      "Map_Batches: 100%|██████████████████████████████████████████████████████████████████████████████████████████████████████████████████████████████████████████████████████████████████████████████████████████████████████████████████████████████████████████████████████████████████████████████████████████████████████████████████████████████████████████████████████████████████████████████████████| 3/3 [00:00<00:00, 10.84it/s]\n",
      "Map_Batches: 100%|█████████████████████████████████████████████████████████████████████████████████████████████████████████████████████████████████████████████████████████████████████████████████████████████████████████████████████████████████████████████████████████████████████████████████████████████████████████████████████████████████████████████████████████████████████████████████████| 3/3 [00:00<00:00, 165.80it/s]\n",
      "Shuffle Map: 100%|█████████████████████████████████████████████████████████████████████████████████████████████████████████████████████████████████████████████████████████████████████████████████████████████████████████████████████████████████████████████████████████████████████████████████████████████████████████████████████████████████████████████████████████████████████████████████████| 3/3 [00:00<00:00, 350.61it/s]\n",
      "Shuffle Reduce: 100%|██████████████████████████████████████████████████████████████████████████████████████████████████████████████████████████████████████████████████████████████████████████████████████████████████████████████████████████████████████████████████████████████████████████████████████████████████████████████████████████████████████████████████████████████████████████████████| 1/1 [00:00<00:00, 186.97it/s]\n"
     ]
    },
    {
     "name": "stdout",
     "output_type": "stream",
     "text": [
      "Accuracy for task 3: 0.8439\n"
     ]
    },
    {
     "name": "stderr",
     "output_type": "stream",
     "text": [
      "Shuffle Map: 100%|█████████████████████████████████████████████████████████████████████████████████████████████████████████████████████████████████████████████████████████████████████████████████████████████████████████████████████████████████████████████████████████████████████████████████████████████████████████████████████████████████████████████████████████████████████████████████████| 1/1 [00:00<00:00, 114.31it/s]\n",
      "Shuffle Reduce: 100%|██████████████████████████████████████████████████████████████████████████████████████████████████████████████████████████████████████████████████████████████████████████████████████████████████████████████████████████████████████████████████████████████████████████████████████████████████████████████████████████████████████████████████████████████████████████████████| 1/1 [00:00<00:00, 102.29it/s]\n",
      "Map_Batches:   0%|                                                                                                                                                                                                                                                                                                                                                                                              | 0/1 [00:00<?, ?it/s]\u001b[2m\u001b[36m(BlockWorker pid=858715)\u001b[0m 2022-09-23 16:34:37,520\tWARNING torch_predictor.py:53 -- You have `use_gpu` as False but there are 1 GPUs detected on host where prediction will only use CPU. Please consider explicitly setting `TorchPredictor(use_gpu=True)` or `batch_predictor.predict(ds, num_gpus_per_worker=1)` to enable GPU prediction.\n",
      "Map Progress (1 actors 1 pending): 100%|████████████████████████████████████████████████████████████████████████████████████████████████████████████████████████████████████████████████████████████████████████████████████████████████████████████████████████████████████████████████████████████████████████████████████████████████████████████████████████████████████████████████████████████████| 1/1 [00:00<00:00,  1.83it/s]\n",
      "\u001b[2m\u001b[36m(ServeController pid=857134)\u001b[0m INFO 2022-09-23 16:34:38,052 controller 857134 deployment_state.py:1234 - Stopping 1 replicas of deployment 'mnist_model' with outdated versions.\n",
      "\u001b[2m\u001b[36m(ServeController pid=857134)\u001b[0m INFO 2022-09-23 16:34:40,199 controller 857134 deployment_state.py:1277 - Adding 1 replica to deployment 'mnist_model'.\n",
      "\u001b[2m\u001b[36m(ServeReplica:mnist_model pid=858821)\u001b[0m 2022-09-23 16:34:41,756\tWARNING torch_predictor.py:53 -- You have `use_gpu` as False but there are 1 GPUs detected on host where prediction will only use CPU. Please consider explicitly setting `TorchPredictor(use_gpu=True)` or `batch_predictor.predict(ds, num_gpus_per_worker=1)` to enable GPU prediction.\n",
      "\u001b[2m\u001b[36m(ServeController pid=857134)\u001b[0m INFO 2022-09-23 16:34:41,943 controller 857134 deployment_state.py:1234 - Stopping 1 replicas of deployment 'mnist_model' with outdated versions.\n",
      "\u001b[2m\u001b[36m(ServeController pid=857134)\u001b[0m INFO 2022-09-23 16:34:44,087 controller 857134 deployment_state.py:1277 - Adding 1 replica to deployment 'mnist_model'.\n",
      "\u001b[2m\u001b[36m(ServeReplica:mnist_model pid=858865)\u001b[0m 2022-09-23 16:34:45,635\tWARNING torch_predictor.py:53 -- You have `use_gpu` as False but there are 1 GPUs detected on host where prediction will only use CPU. Please consider explicitly setting `TorchPredictor(use_gpu=True)` or `batch_predictor.predict(ds, num_gpus_per_worker=1)` to enable GPU prediction.\n",
      "\u001b[2m\u001b[36m(HTTPProxyActor pid=857184)\u001b[0m INFO 2022-09-23 16:34:46,091 http_proxy 10.109.175.190 http_proxy.py:315 - POST /mnist_predict 307 3.5ms\n",
      "\u001b[2m\u001b[36m(ServeReplica:mnist_model pid=858821)\u001b[0m INFO 2022-09-23 16:34:46,091 mnist_model mnist_model#moUXYX replica.py:505 - HANDLE __call__ OK 0.3ms\n",
      "\u001b[2m\u001b[36m(HTTPProxyActor pid=857184)\u001b[0m INFO 2022-09-23 16:34:51,133 http_proxy 10.109.175.190 http_proxy.py:315 - POST /mnist_predict 200 5039.8ms\n",
      "\u001b[2m\u001b[36m(HTTPProxyActor pid=857184)\u001b[0m INFO 2022-09-23 16:34:51,181 http_proxy 10.109.175.190 http_proxy.py:315 - POST /mnist_predict 307 3.3ms\n",
      "\u001b[2m\u001b[36m(ServeReplica:mnist_model pid=858821)\u001b[0m INFO 2022-09-23 16:34:51,180 mnist_model mnist_model#moUXYX replica.py:505 - HANDLE __call__ OK 0.2ms\n",
      "\u001b[2m\u001b[36m(ServeReplica:mnist_model pid=858865)\u001b[0m INFO 2022-09-23 16:34:51,131 mnist_model mnist_model#UYagxG replica.py:505 - HANDLE __call__ OK 5035.4ms\n",
      "\u001b[2m\u001b[36m(HTTPProxyActor pid=857184)\u001b[0m INFO 2022-09-23 16:34:56,160 http_proxy 10.109.175.190 http_proxy.py:315 - POST /mnist_predict 200 4977.5ms\n",
      "\u001b[2m\u001b[36m(HTTPProxyActor pid=857184)\u001b[0m INFO 2022-09-23 16:34:56,207 http_proxy 10.109.175.190 http_proxy.py:315 - POST /mnist_predict 307 2.8ms\n",
      "\u001b[2m\u001b[36m(ServeReplica:mnist_model pid=858821)\u001b[0m INFO 2022-09-23 16:34:56,206 mnist_model mnist_model#moUXYX replica.py:505 - HANDLE __call__ OK 0.2ms\n",
      "\u001b[2m\u001b[36m(ServeReplica:mnist_model pid=858865)\u001b[0m INFO 2022-09-23 16:34:56,158 mnist_model mnist_model#UYagxG replica.py:505 - HANDLE __call__ OK 4974.3ms\n",
      "\u001b[2m\u001b[36m(HTTPProxyActor pid=857184)\u001b[0m INFO 2022-09-23 16:35:01,188 http_proxy 10.109.175.190 http_proxy.py:315 - POST /mnist_predict 200 4979.3ms\n",
      "\u001b[2m\u001b[36m(ServeReplica:mnist_model pid=858865)\u001b[0m INFO 2022-09-23 16:35:01,186 mnist_model mnist_model#UYagxG replica.py:505 - HANDLE __call__ OK 4976.3ms\n",
      "\u001b[2m\u001b[36m(HTTPProxyActor pid=857184)\u001b[0m INFO 2022-09-23 16:35:01,237 http_proxy 10.109.175.190 http_proxy.py:315 - POST /mnist_predict 307 2.9ms\n",
      "\u001b[2m\u001b[36m(ServeReplica:mnist_model pid=858821)\u001b[0m INFO 2022-09-23 16:35:01,236 mnist_model mnist_model#moUXYX replica.py:505 - HANDLE __call__ OK 0.3ms\n",
      "\u001b[2m\u001b[36m(HTTPProxyActor pid=857184)\u001b[0m INFO 2022-09-23 16:35:06,210 http_proxy 10.109.175.190 http_proxy.py:315 - POST /mnist_predict 200 4970.7ms\n",
      "\u001b[2m\u001b[36m(ServeReplica:mnist_model pid=858865)\u001b[0m INFO 2022-09-23 16:35:06,208 mnist_model mnist_model#UYagxG replica.py:505 - HANDLE __call__ OK 4967.5ms\n",
      "\u001b[2m\u001b[36m(HTTPProxyActor pid=857184)\u001b[0m INFO 2022-09-23 16:35:06,257 http_proxy 10.109.175.190 http_proxy.py:315 - POST /mnist_predict 307 3.0ms\n",
      "\u001b[2m\u001b[36m(ServeReplica:mnist_model pid=858821)\u001b[0m INFO 2022-09-23 16:35:06,256 mnist_model mnist_model#moUXYX replica.py:505 - HANDLE __call__ OK 0.3ms\n",
      "\u001b[2m\u001b[36m(HTTPProxyActor pid=857184)\u001b[0m INFO 2022-09-23 16:35:11,236 http_proxy 10.109.175.190 http_proxy.py:315 - POST /mnist_predict 200 4978.0ms\n",
      "\u001b[2m\u001b[36m(HTTPProxyActor pid=857184)\u001b[0m INFO 2022-09-23 16:35:11,291 http_proxy 10.109.175.190 http_proxy.py:315 - POST /mnist_predict 307 10.3ms\n",
      "\u001b[2m\u001b[36m(ServeReplica:mnist_model pid=858821)\u001b[0m INFO 2022-09-23 16:35:11,283 mnist_model mnist_model#moUXYX replica.py:505 - HANDLE __call__ OK 0.5ms\n",
      "\u001b[2m\u001b[36m(ServeReplica:mnist_model pid=858865)\u001b[0m INFO 2022-09-23 16:35:11,235 mnist_model mnist_model#UYagxG replica.py:505 - HANDLE __call__ OK 4974.9ms\n",
      "\u001b[2m\u001b[36m(HTTPProxyActor pid=857184)\u001b[0m INFO 2022-09-23 16:35:16,259 http_proxy 10.109.175.190 http_proxy.py:315 - POST /mnist_predict 200 4966.0ms\n",
      "\u001b[2m\u001b[36m(HTTPProxyActor pid=857184)\u001b[0m INFO 2022-09-23 16:35:16,307 http_proxy 10.109.175.190 http_proxy.py:315 - POST /mnist_predict 307 3.0ms\n",
      "\u001b[2m\u001b[36m(ServeReplica:mnist_model pid=858821)\u001b[0m INFO 2022-09-23 16:35:16,306 mnist_model mnist_model#moUXYX replica.py:505 - HANDLE __call__ OK 0.2ms\n",
      "\u001b[2m\u001b[36m(ServeReplica:mnist_model pid=858865)\u001b[0m INFO 2022-09-23 16:35:16,258 mnist_model mnist_model#UYagxG replica.py:505 - HANDLE __call__ OK 4962.2ms\n",
      "\u001b[2m\u001b[36m(HTTPProxyActor pid=857184)\u001b[0m INFO 2022-09-23 16:35:21,284 http_proxy 10.109.175.190 http_proxy.py:315 - POST /mnist_predict 200 4975.8ms\n",
      "\u001b[2m\u001b[36m(HTTPProxyActor pid=857184)\u001b[0m INFO 2022-09-23 16:35:21,330 http_proxy 10.109.175.190 http_proxy.py:315 - POST /mnist_predict 307 2.9ms\n",
      "\u001b[2m\u001b[36m(ServeReplica:mnist_model pid=858821)\u001b[0m INFO 2022-09-23 16:35:21,329 mnist_model mnist_model#moUXYX replica.py:505 - HANDLE __call__ OK 0.3ms\n",
      "\u001b[2m\u001b[36m(ServeReplica:mnist_model pid=858865)\u001b[0m INFO 2022-09-23 16:35:21,283 mnist_model mnist_model#UYagxG replica.py:505 - HANDLE __call__ OK 4972.7ms\n",
      "\u001b[2m\u001b[36m(HTTPProxyActor pid=857184)\u001b[0m INFO 2022-09-23 16:35:26,312 http_proxy 10.109.175.190 http_proxy.py:315 - POST /mnist_predict 200 4980.6ms\n",
      "\u001b[2m\u001b[36m(ServeReplica:mnist_model pid=858865)\u001b[0m INFO 2022-09-23 16:35:26,311 mnist_model mnist_model#UYagxG replica.py:505 - HANDLE __call__ OK 4977.5ms\n",
      "\u001b[2m\u001b[36m(HTTPProxyActor pid=857184)\u001b[0m INFO 2022-09-23 16:35:26,363 http_proxy 10.109.175.190 http_proxy.py:315 - POST /mnist_predict 307 2.9ms\n",
      "\u001b[2m\u001b[36m(ServeReplica:mnist_model pid=858821)\u001b[0m INFO 2022-09-23 16:35:26,362 mnist_model mnist_model#moUXYX replica.py:505 - HANDLE __call__ OK 0.2ms\n",
      "\u001b[2m\u001b[36m(HTTPProxyActor pid=857184)\u001b[0m INFO 2022-09-23 16:35:31,337 http_proxy 10.109.175.190 http_proxy.py:315 - POST /mnist_predict 200 4971.5ms\n",
      "\u001b[2m\u001b[36m(HTTPProxyActor pid=857184)\u001b[0m INFO 2022-09-23 16:35:31,383 http_proxy 10.109.175.190 http_proxy.py:315 - POST /mnist_predict 307 3.0ms\n",
      "\u001b[2m\u001b[36m(ServeReplica:mnist_model pid=858821)\u001b[0m INFO 2022-09-23 16:35:31,382 mnist_model mnist_model#moUXYX replica.py:505 - HANDLE __call__ OK 0.3ms\n",
      "\u001b[2m\u001b[36m(ServeReplica:mnist_model pid=858865)\u001b[0m INFO 2022-09-23 16:35:31,335 mnist_model mnist_model#UYagxG replica.py:505 - HANDLE __call__ OK 4968.3ms\n",
      "\u001b[2m\u001b[36m(HTTPProxyActor pid=857184)\u001b[0m INFO 2022-09-23 16:35:36,366 http_proxy 10.109.175.190 http_proxy.py:315 - POST /mnist_predict 200 4981.2ms\n",
      "\u001b[2m\u001b[36m(ServeReplica:mnist_model pid=858865)\u001b[0m INFO 2022-09-23 16:35:36,364 mnist_model mnist_model#UYagxG replica.py:505 - HANDLE __call__ OK 4977.9ms\n",
      "\u001b[2m\u001b[36m(ServeController pid=857134)\u001b[0m INFO 2022-09-23 16:35:36,511 controller 857134 deployment_state.py:1303 - Removing 2 replicas from deployment 'mnist_model'.\n"
     ]
    }
   ],
   "source": [
    "from ray.train.torch import TorchTrainer\n",
    "from ray.air.config import ScalingConfig\n",
    "from ray.train.torch import TorchPredictor\n",
    "from ray import serve\n",
    "from ray.serve import PredictorDeployment\n",
    "from ray.serve.http_adapters import json_to_ndarray\n",
    "\n",
    "# The number of tasks (i.e. datasets in our stream) that we want to use for this example.\n",
    "n_tasks = 3\n",
    "\n",
    "# Number of epochs to train each task for.\n",
    "num_epochs = 4\n",
    "# Batch size.\n",
    "batch_size = 32\n",
    "# Optimizer args.\n",
    "learning_rate = 0.001\n",
    "momentum = 0.9\n",
    "\n",
    "# Number of data parallel workers to use for training.\n",
    "num_workers = 1\n",
    "# Whether to use GPU or not.\n",
    "use_gpu = ray.available_resources().get(\"GPU\", 0) > 0\n",
    "\n",
    "permuted_mnist = PermutedMNISTStream(n_tasks=n_tasks)\n",
    "train_stream = permuted_mnist.generate_train_stream()\n",
    "test_stream = permuted_mnist.generate_test_stream()\n",
    "\n",
    "latest_checkpoint = None\n",
    "\n",
    "accuracy_for_all_tasks = []\n",
    "task_idx = 0\n",
    "all_test_datasets_seen_so_far = []\n",
    "for train_dataset, test_dataset in zip(train_stream, test_stream):\n",
    "  print(f\"Starting training for task: {task_idx}\")\n",
    "  task_idx += 1\n",
    "\n",
    "  # *********Training*****************\n",
    "\n",
    "  trainer = TorchTrainer(\n",
    "          train_loop_per_worker=train_loop_per_worker,\n",
    "          train_loop_config={\n",
    "              \"num_epochs\": num_epochs,\n",
    "              \"learning_rate\": learning_rate,\n",
    "              \"momentum\": momentum,\n",
    "              \"batch_size\": batch_size,\n",
    "          },\n",
    "          # Have to specify trainer_resources as 0 so that the example works on Colab. \n",
    "          scaling_config=ScalingConfig(num_workers=num_workers, use_gpu=use_gpu, trainer_resources={\"CPU\": 0}),\n",
    "          datasets={\"train\": train_dataset},\n",
    "          preprocessor=mnist_normalize_preprocessor,\n",
    "          resume_from_checkpoint=latest_checkpoint,\n",
    "      )\n",
    "  result = trainer.fit()\n",
    "  latest_checkpoint = result.checkpoint\n",
    "\n",
    "  # **************Batch Prediction**************************\n",
    "\n",
    "  # We can do batch prediction on the test data for the tasks seen so far.\n",
    "  # TODO: Fix type signature in Ray Data\n",
    "  # TODO: Fix dataset.union when used with empty list.\n",
    "  if len(all_test_datasets_seen_so_far) > 0:\n",
    "    full_test_dataset = test_dataset.union(*all_test_datasets_seen_so_far)\n",
    "  else:\n",
    "    full_test_dataset = test_dataset\n",
    "\n",
    "  all_test_datasets_seen_so_far.append(test_dataset)\n",
    "\n",
    "  accuracy_for_this_task = batch_predict(latest_checkpoint, full_test_dataset)\n",
    "  print(f\"Accuracy for task {task_idx}: {accuracy_for_this_task}\")\n",
    "  accuracy_for_all_tasks.append(accuracy_for_this_task)\n",
    "\n",
    "  # *************Model Deployment & Online Inference***************************\n",
    "  \n",
    "  # We can also deploy our model to do online inference with Ray Serve.\n",
    "  # Start Ray Serve.\n",
    "  test_samples = permuted_mnist.generate_test_samples()\n",
    "  endpoint_uri = deploy_model(latest_checkpoint)\n",
    "  online_inference_results = query_deployment(test_samples, endpoint_uri)\n",
    "\n",
    "  if ray.available_resources().get(\"CPU\", 0) < num_workers+1:\n",
    "    # If there are no more CPUs left, then shutdown the Serve replicas so we can continue training on the next task.\n",
    "    serve.shutdown()\n",
    "\n",
    "  \n",
    "serve.shutdown()"
   ]
  },
  {
   "cell_type": "markdown",
   "metadata": {
    "id": "ORWpRkPjcPbD"
   },
   "source": [
    "Now that we have finished all of our training, let's see the accuracy of our model after training on each task. \n",
    "\n",
    "We should see the accuracy decrease over time. This is to be expected since we are using just a naive fine-tuning strategy so our model is prone to catastrophic forgetting.\n",
    "\n",
    "As we increase the number of tasks, the model performance on all the tasks trained on so far should decrease."
   ]
  },
  {
   "cell_type": "code",
   "execution_count": 11,
   "metadata": {
    "colab": {
     "base_uri": "https://localhost:8080/"
    },
    "id": "thpeB0KGmr99",
    "outputId": "59fdbb6d-eaf4-4c2a-d350-5ff6b48e96a3"
   },
   "outputs": [
    {
     "data": {
      "text/plain": [
       "[0.8678, 0.86465, 0.8439]"
      ]
     },
     "execution_count": 11,
     "metadata": {},
     "output_type": "execute_result"
    }
   ],
   "source": [
    "accuracy_for_all_tasks"
   ]
  },
  {
   "cell_type": "markdown",
   "metadata": {
    "id": "xLLAvsTk8LoV"
   },
   "source": [
    "# [Optional] Step 6: Compare against full training.\n",
    "\n",
    "We have now incrementally trained our simple multi-layer perceptron. Let's compare the incrementally trained model via fine tuning against a model that is trained on all the tasks up front.\n",
    "\n",
    "Since we are using a naive fine-tuning strategy, we should expect that our incrementally trained model will perform worse than the one that is fully trained! However, there's various other strategies that have been developed and are actively being researched to improve accuracy for incremental training. And overall, incremental/continual learning allows you to train in many real world settings where the entire dataset is not available up front, but new data is arriving at a relatively high rate."
   ]
  },
  {
   "cell_type": "markdown",
   "metadata": {
    "id": "RNHsEVBHc0p2"
   },
   "source": [
    "Let's first combine all of our datasets for each task into a single, unified dataset"
   ]
  },
  {
   "cell_type": "code",
   "execution_count": 12,
   "metadata": {
    "colab": {
     "base_uri": "https://localhost:8080/"
    },
    "id": "pU2fVH068lfF",
    "outputId": "fd6a3b56-dda1-4fa6-cebd-d0ee8784e698"
   },
   "outputs": [
    {
     "name": "stderr",
     "output_type": "stream",
     "text": [
      "Map Progress (1 actors 1 pending): 100%|████████████████████████████████████████████████████████████████████████████████████████████████████████████████████████████████████████████████████████████████████████████████████████████████████████████████████████████████████████████████████████████████████████████████████████████████████████████████████████████████████████████████████████████████| 1/1 [00:00<00:00,  1.37it/s]\n",
      "Map Progress (1 actors 1 pending): 100%|████████████████████████████████████████████████████████████████████████████████████████████████████████████████████████████████████████████████████████████████████████████████████████████████████████████████████████████████████████████████████████████████████████████████████████████████████████████████████████████████████████████████████████████████| 1/1 [00:00<00:00,  1.37it/s]\n",
      "Map Progress (1 actors 1 pending): 100%|████████████████████████████████████████████████████████████████████████████████████████████████████████████████████████████████████████████████████████████████████████████████████████████████████████████████████████████████████████████████████████████████████████████████████████████████████████████████████████████████████████████████████████████████| 1/1 [00:00<00:00,  1.40it/s]\n",
      "Shuffle Map: 100%|██████████████████████████████████████████████████████████████████████████████████████████████████████████████████████████████████████████████████████████████████████████████████████████████████████████████████████████████████████████████████████████████████████████████████████████████████████████████████████████████████████████████████████████████████████████████████████| 3/3 [00:00<00:00, 40.34it/s]\n",
      "Shuffle Reduce: 100%|███████████████████████████████████████████████████████████████████████████████████████████████████████████████████████████████████████████████████████████████████████████████████████████████████████████████████████████████████████████████████████████████████████████████████████████████████████████████████████████████████████████████████████████████████████████████████| 3/3 [00:00<00:00, 28.99it/s]\n"
     ]
    }
   ],
   "source": [
    "train_stream = permuted_mnist.generate_train_stream()\n",
    "\n",
    "# Collect all datasets in the stream into a single dataset.\n",
    "all_training_datasets = []\n",
    "for train_dataset in train_stream:\n",
    "  all_training_datasets.append(train_dataset)\n",
    "combined_training_dataset = all_training_datasets[0].union(*all_training_datasets[1:])\n",
    "\n",
    "\n",
    "combined_training_dataset = combined_training_dataset.random_shuffle()"
   ]
  },
  {
   "cell_type": "markdown",
   "metadata": {
    "id": "tJ6Oqdgvc5dn"
   },
   "source": [
    "Then, we train a new model on the unified dataset using the same configurations as before."
   ]
  },
  {
   "cell_type": "code",
   "execution_count": 13,
   "metadata": {
    "colab": {
     "base_uri": "https://localhost:8080/",
     "height": 1000
    },
    "id": "PmH9c0-z9KME",
    "outputId": "653b4dfc-ed47-4307-fa84-e4c4ea3ec354"
   },
   "outputs": [
    {
     "data": {
      "text/html": [
       "<div class=\"tuneStatus\">\n",
       "  <div style=\"display: flex;flex-direction: row\">\n",
       "    <div style=\"display: flex;flex-direction: column;\">\n",
       "      <h3>Tune Status</h3>\n",
       "      <table>\n",
       "<tbody>\n",
       "<tr><td>Current time:</td><td>2022-09-23 16:37:13</td></tr>\n",
       "<tr><td>Running for: </td><td>00:00:25.97        </td></tr>\n",
       "<tr><td>Memory:      </td><td>19.4/62.7 GiB      </td></tr>\n",
       "</tbody>\n",
       "</table>\n",
       "    </div>\n",
       "    <div class=\"vDivider\"></div>\n",
       "    <div class=\"systemInfo\">\n",
       "      <h3>System Info</h3>\n",
       "      Using FIFO scheduling algorithm.<br>Resources requested: 0/24 CPUs, 0/0 GPUs, 0.0/32.53 GiB heap, 0.0/16.26 GiB objects\n",
       "    </div>\n",
       "    \n",
       "  </div>\n",
       "  <div class=\"hDivider\"></div>\n",
       "  <div class=\"trialStatus\">\n",
       "    <h3>Trial Status</h3>\n",
       "    <table>\n",
       "<thead>\n",
       "<tr><th>Trial name              </th><th>status    </th><th>loc                  </th><th style=\"text-align: right;\">  iter</th><th style=\"text-align: right;\">  total time (s)</th><th style=\"text-align: right;\">  loss</th><th style=\"text-align: right;\">  _timestamp</th><th style=\"text-align: right;\">  _time_this_iter_s</th></tr>\n",
       "</thead>\n",
       "<tbody>\n",
       "<tr><td>TorchTrainer_971af_00000</td><td>TERMINATED</td><td>10.109.175.190:860035</td><td style=\"text-align: right;\">     4</td><td style=\"text-align: right;\">         22.1282</td><td style=\"text-align: right;\">     0</td><td style=\"text-align: right;\">  1663976231</td><td style=\"text-align: right;\">          0.0924587</td></tr>\n",
       "</tbody>\n",
       "</table>\n",
       "  </div>\n",
       "</div>\n",
       "<style>\n",
       ".tuneStatus {\n",
       "  color: var(--jp-ui-font-color1);\n",
       "}\n",
       ".tuneStatus .systemInfo {\n",
       "  display: flex;\n",
       "  flex-direction: column;\n",
       "}\n",
       ".tuneStatus td {\n",
       "  white-space: nowrap;\n",
       "}\n",
       ".tuneStatus .trialStatus {\n",
       "  display: flex;\n",
       "  flex-direction: column;\n",
       "}\n",
       ".tuneStatus h3 {\n",
       "  font-weight: bold;\n",
       "}\n",
       ".tuneStatus .hDivider {\n",
       "  border-bottom-width: var(--jp-border-width);\n",
       "  border-bottom-color: var(--jp-border-color0);\n",
       "  border-bottom-style: solid;\n",
       "}\n",
       ".tuneStatus .vDivider {\n",
       "  border-left-width: var(--jp-border-width);\n",
       "  border-left-color: var(--jp-border-color0);\n",
       "  border-left-style: solid;\n",
       "  margin: 0.5em 1em 0.5em 1em;\n",
       "}\n",
       "</style>\n"
      ],
      "text/plain": [
       "<IPython.core.display.HTML object>"
      ]
     },
     "metadata": {},
     "output_type": "display_data"
    },
    {
     "name": "stderr",
     "output_type": "stream",
     "text": [
      "\u001b[2m\u001b[36m(RayTrainWorker pid=860154)\u001b[0m 2022-09-23 16:36:55,188\tINFO config.py:71 -- Setting up process group for: env:// [rank=0, world_size=1]\n",
      "\u001b[2m\u001b[36m(RayTrainWorker pid=860154)\u001b[0m 2022-09-23 16:36:55,399\tINFO train_loop_utils.py:354 -- Moving model to device: cuda:0\n"
     ]
    },
    {
     "name": "stdout",
     "output_type": "stream",
     "text": [
      "\u001b[2m\u001b[36m(RayTrainWorker pid=860154)\u001b[0m loss: 2.301066, epoch: 0, iteration: 0\n",
      "\u001b[2m\u001b[36m(RayTrainWorker pid=860154)\u001b[0m loss: 1.869080, epoch: 0, iteration: 500\n",
      "\u001b[2m\u001b[36m(RayTrainWorker pid=860154)\u001b[0m loss: 1.489264, epoch: 0, iteration: 1000\n",
      "\u001b[2m\u001b[36m(RayTrainWorker pid=860154)\u001b[0m loss: 1.646756, epoch: 0, iteration: 1500\n",
      "\u001b[2m\u001b[36m(RayTrainWorker pid=860154)\u001b[0m loss: 1.582330, epoch: 0, iteration: 2000\n",
      "\u001b[2m\u001b[36m(RayTrainWorker pid=860154)\u001b[0m loss: 1.246018, epoch: 0, iteration: 2500\n",
      "\u001b[2m\u001b[36m(RayTrainWorker pid=860154)\u001b[0m loss: 1.035204, epoch: 0, iteration: 3000\n",
      "\u001b[2m\u001b[36m(RayTrainWorker pid=860154)\u001b[0m loss: 0.872962, epoch: 0, iteration: 3500\n",
      "\u001b[2m\u001b[36m(RayTrainWorker pid=860154)\u001b[0m loss: 1.138829, epoch: 0, iteration: 4000\n",
      "\u001b[2m\u001b[36m(RayTrainWorker pid=860154)\u001b[0m loss: 0.753354, epoch: 0, iteration: 4500\n",
      "\u001b[2m\u001b[36m(RayTrainWorker pid=860154)\u001b[0m loss: 0.991935, epoch: 0, iteration: 5000\n",
      "\u001b[2m\u001b[36m(RayTrainWorker pid=860154)\u001b[0m loss: 0.928292, epoch: 0, iteration: 5500\n"
     ]
    },
    {
     "data": {
      "text/html": [
       "<div class=\"trialProgress\">\n",
       "  <h3>Trial Progress</h3>\n",
       "  <table>\n",
       "<thead>\n",
       "<tr><th>Trial name              </th><th style=\"text-align: right;\">  _time_this_iter_s</th><th style=\"text-align: right;\">  _timestamp</th><th style=\"text-align: right;\">  _training_iteration</th><th>date               </th><th>done  </th><th>episodes_total  </th><th>experiment_id                   </th><th style=\"text-align: right;\">  experiment_tag</th><th>hostname  </th><th style=\"text-align: right;\">  iterations_since_restore</th><th style=\"text-align: right;\">  loss</th><th>node_ip       </th><th style=\"text-align: right;\">   pid</th><th>should_checkpoint  </th><th style=\"text-align: right;\">  time_since_restore</th><th style=\"text-align: right;\">  time_this_iter_s</th><th style=\"text-align: right;\">  time_total_s</th><th style=\"text-align: right;\">  timestamp</th><th style=\"text-align: right;\">  timesteps_since_restore</th><th>timesteps_total  </th><th style=\"text-align: right;\">  training_iteration</th><th>trial_id   </th><th style=\"text-align: right;\">  warmup_time</th></tr>\n",
       "</thead>\n",
       "<tbody>\n",
       "<tr><td>TorchTrainer_971af_00000</td><td style=\"text-align: right;\">          0.0924587</td><td style=\"text-align: right;\">  1663976231</td><td style=\"text-align: right;\">                    4</td><td>2022-09-23_16-37-11</td><td>True  </td><td>                </td><td>26d685b2612a4752b7d062d1ebfb89f0</td><td style=\"text-align: right;\">               0</td><td>corvus    </td><td style=\"text-align: right;\">                         4</td><td style=\"text-align: right;\">     0</td><td>10.109.175.190</td><td style=\"text-align: right;\">860035</td><td>True               </td><td style=\"text-align: right;\">             22.1282</td><td style=\"text-align: right;\">         0.0941384</td><td style=\"text-align: right;\">       22.1282</td><td style=\"text-align: right;\"> 1663976231</td><td style=\"text-align: right;\">                        0</td><td>                 </td><td style=\"text-align: right;\">                   4</td><td>971af_00000</td><td style=\"text-align: right;\">    0.0034101</td></tr>\n",
       "</tbody>\n",
       "</table>\n",
       "</div>\n",
       "<style>\n",
       ".trialProgress {\n",
       "  display: flex;\n",
       "  flex-direction: column;\n",
       "  color: var(--jp-ui-font-color1);\n",
       "}\n",
       ".trialProgress h3 {\n",
       "  font-weight: bold;\n",
       "}\n",
       ".trialProgress td {\n",
       "  white-space: nowrap;\n",
       "}\n",
       "</style>\n"
      ],
      "text/plain": [
       "<IPython.core.display.HTML object>"
      ]
     },
     "metadata": {},
     "output_type": "display_data"
    },
    {
     "name": "stderr",
     "output_type": "stream",
     "text": [
      "2022-09-23 16:37:13,525\tINFO tune.py:762 -- Total run time: 26.08 seconds (25.96 seconds for the tuning loop).\n"
     ]
    }
   ],
   "source": [
    "# Now we do training with the same configurations as before\n",
    "trainer = TorchTrainer(\n",
    "            train_loop_per_worker=train_loop_per_worker,\n",
    "            train_loop_config={\n",
    "                \"num_epochs\": num_epochs,\n",
    "                \"learning_rate\": learning_rate,\n",
    "                \"momentum\": momentum,\n",
    "                \"batch_size\": batch_size,\n",
    "            },\n",
    "            # Have to specify trainer_resources as 0 so that the example works on Colab. \n",
    "            scaling_config=ScalingConfig(num_workers=num_workers, use_gpu=use_gpu, trainer_resources={\"CPU\": 0}),\n",
    "            datasets={\"train\": combined_training_dataset},\n",
    "            preprocessor=mnist_normalize_preprocessor,\n",
    "        )\n",
    "result = trainer.fit()\n",
    "full_training_checkpoint = result.checkpoint"
   ]
  },
  {
   "cell_type": "markdown",
   "metadata": {
    "id": "jLaOcmBddRqB"
   },
   "source": [
    "Then, let's test model that was trained on all the tasks up front."
   ]
  },
  {
   "cell_type": "code",
   "execution_count": 14,
   "metadata": {
    "colab": {
     "base_uri": "https://localhost:8080/"
    },
    "id": "WC7zV_Cw9TAi",
    "outputId": "12a86f2b-be90-47b6-e252-25e3199689f9"
   },
   "outputs": [
    {
     "name": "stderr",
     "output_type": "stream",
     "text": [
      "Map Progress (1 actors 1 pending):   0%|                                                                                                                                                                                                                                                                                                                                                                        | 0/3 [00:01<?, ?it/s]\u001b[2m\u001b[36m(BlockWorker pid=860261)\u001b[0m 2022-09-23 16:37:15,152\tWARNING torch_predictor.py:53 -- You have `use_gpu` as False but there are 1 GPUs detected on host where prediction will only use CPU. Please consider explicitly setting `TorchPredictor(use_gpu=True)` or `batch_predictor.predict(ds, num_gpus_per_worker=1)` to enable GPU prediction.\n",
      "Map Progress (2 actors 1 pending):  33%|█████████████████████████████████████████████████████████████████████████████████████████████████████████████████████▎                                                                                                                                                                                                                                          | 1/3 [00:03<00:04,  2.45s/it]\u001b[2m\u001b[36m(BlockWorker pid=860289)\u001b[0m 2022-09-23 16:37:16,696\tWARNING torch_predictor.py:53 -- You have `use_gpu` as False but there are 1 GPUs detected on host where prediction will only use CPU. Please consider explicitly setting `TorchPredictor(use_gpu=True)` or `batch_predictor.predict(ds, num_gpus_per_worker=1)` to enable GPU prediction.\n",
      "Map Progress (2 actors 1 pending): 100%|████████████████████████████████████████████████████████████████████████████████████████████████████████████████████████████████████████████████████████████████████████████████████████████████████████████████████████████████████████████████████████████████████████████████████████████████████████████████████████████████████████████████████████████████| 3/3 [00:04<00:00,  1.37s/it]\n",
      "Map_Batches: 100%|██████████████████████████████████████████████████████████████████████████████████████████████████████████████████████████████████████████████████████████████████████████████████████████████████████████████████████████████████████████████████████████████████████████████████████████████████████████████████████████████████████████████████████████████████████████████████████| 3/3 [00:00<00:00, 74.29it/s]\n",
      "Map_Batches: 100%|█████████████████████████████████████████████████████████████████████████████████████████████████████████████████████████████████████████████████████████████████████████████████████████████████████████████████████████████████████████████████████████████████████████████████████████████████████████████████████████████████████████████████████████████████████████████████████| 3/3 [00:00<00:00, 134.64it/s]\n",
      "Shuffle Map: 100%|█████████████████████████████████████████████████████████████████████████████████████████████████████████████████████████████████████████████████████████████████████████████████████████████████████████████████████████████████████████████████████████████████████████████████████████████████████████████████████████████████████████████████████████████████████████████████████| 3/3 [00:00<00:00, 304.26it/s]\n",
      "Shuffle Reduce: 100%|██████████████████████████████████████████████████████████████████████████████████████████████████████████████████████████████████████████████████████████████████████████████████████████████████████████████████████████████████████████████████████████████████████████████████████████████████████████████████████████████████████████████████████████████████████████████████| 1/1 [00:00<00:00, 108.41it/s]\n"
     ]
    }
   ],
   "source": [
    "# Then, we used the fully trained model and do batch prediction on the entire test set.\n",
    "\n",
    "# `full_test_dataset` should already contain the combined test datasets.\n",
    "fully_trained_accuracy = batch_predict(full_training_checkpoint, full_test_dataset)"
   ]
  },
  {
   "cell_type": "markdown",
   "metadata": {
    "id": "Pn5LJ4CUdZgI"
   },
   "source": [
    "Finally, let's compare the accuracies between the incrementally trained model and the fully trained model. We should see that the fully trained model performs better."
   ]
  },
  {
   "cell_type": "code",
   "execution_count": 15,
   "metadata": {
    "colab": {
     "base_uri": "https://localhost:8080/"
    },
    "id": "UFhRf_8e-vgA",
    "outputId": "056ff06f-ff87-4f3a-d740-4cc556bde3dd"
   },
   "outputs": [
    {
     "name": "stdout",
     "output_type": "stream",
     "text": [
      "Fully trained model accuracy:  0.8888666666666667\n",
      "Incrementally trained model accuracy:  0.8439\n"
     ]
    },
    {
     "name": "stderr",
     "output_type": "stream",
     "text": [
      "\u001b[2m\u001b[36m(BlockWorker pid=860324)\u001b[0m 2022-09-23 16:37:18,256\tWARNING torch_predictor.py:53 -- You have `use_gpu` as False but there are 1 GPUs detected on host where prediction will only use CPU. Please consider explicitly setting `TorchPredictor(use_gpu=True)` or `batch_predictor.predict(ds, num_gpus_per_worker=1)` to enable GPU prediction.\n"
     ]
    }
   ],
   "source": [
    "print(\"Fully trained model accuracy: \", fully_trained_accuracy)\n",
    "print(\"Incrementally trained model accuracy: \", accuracy_for_all_tasks[-1])"
   ]
  },
  {
   "cell_type": "markdown",
   "metadata": {
    "id": "FuqKePrYe-Fz"
   },
   "source": [
    "# Next Steps\n",
    "\n",
    "Once you've completed this notebook, you should be set to play around with scalable incremental training using Ray, either by trying more fancy algorithms for incremental learning other than naive fine-tuning, or attempting to scale out to larger datasets!\n",
    "\n",
    "If you run into any issues, or have any feature requests, please file an issue on the [Ray Github](https://github.com/ray-project/ray/issues).\n",
    "\n",
    "\n"
   ]
  }
 ],
 "metadata": {
  "accelerator": "GPU",
  "colab": {
   "collapsed_sections": [],
   "name": "ray_air_incremental_learning (1).ipynb",
   "provenance": []
  },
  "kernelspec": {
   "display_name": "ray_dev_py38",
   "language": "python",
   "name": "python3"
  },
  "language_info": {
   "codemirror_mode": {
    "name": "ipython",
    "version": 3
   },
   "file_extension": ".py",
   "mimetype": "text/x-python",
   "name": "python",
   "nbconvert_exporter": "python",
   "pygments_lexer": "ipython3",
   "version": "3.8.13 | packaged by conda-forge | (default, Mar 25 2022, 06:05:16) \n[Clang 12.0.1 ]"
  },
  "vscode": {
   "interpreter": {
    "hash": "265d195fda5292fe8f69c6e37c435a5634a1ed3b6799724e66a975f68fa21517"
   }
  }
 },
 "nbformat": 4,
 "nbformat_minor": 4
}
