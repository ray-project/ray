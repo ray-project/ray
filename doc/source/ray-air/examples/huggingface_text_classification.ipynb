{
 "cells": [
  {
   "cell_type": "markdown",
   "metadata": {},
   "source": [
    "(train_transformers_accelerate_example)=\n",
    "\n",
    "# Fine-tune a 🤗 Transformers model"
   ]
  },
  {
   "cell_type": "markdown",
   "metadata": {
    "id": "VaFMt6AIhYbK"
   },
   "source": [
    "This notebook is based on [an official 🤗 notebook - \"How to fine-tune a model on text classification\"](https://github.com/huggingface/notebooks/blob/6ca682955173cc9d36ffa431ddda505a048cbe80/examples/text_classification.ipynb). The main aim of this notebook is to show the process of conversion from vanilla 🤗 to Ray Train without changing the training logic unless necessary.\n",
    "\n",
    "In this notebook, we will:\n",
    "1. [Set up Ray](#setup)\n",
    "2. [Load the dataset](#load)\n",
    "3. [Preprocess the dataset with Ray Data](#preprocess)\n",
    "4. [Run the training with Ray Train](#train)\n",
    "5. [Optionally, share the model with the community](#share)"
   ]
  },
  {
   "cell_type": "markdown",
   "metadata": {
    "id": "sQbdfyWQhYbO"
   },
   "source": [
    "Uncomment and run the following line in order to install all the necessary dependencies (this notebook is being tested with `transformers==4.19.1`):"
   ]
  },
  {
   "cell_type": "code",
   "execution_count": 1,
   "metadata": {
    "id": "YajFzmkthYbO"
   },
   "outputs": [],
   "source": [
    "#! pip install \"datasets\" \"transformers>=4.19.0\" \"torch>=1.10.0\" \"mlflow\""
   ]
  },
  {
   "cell_type": "markdown",
   "metadata": {
    "id": "pvSRaEHChYbP"
   },
   "source": [
    "## Set up Ray <a name=\"setup\"></a>"
   ]
  },
  {
   "cell_type": "markdown",
   "metadata": {
    "id": "LRdL3kWBhYbQ"
   },
   "source": [
    "We will use `ray.init()` to initialize a local cluster. By default, this cluster will be comprised of only the machine you are running this notebook on. You can also run this notebook on an Anyscale cluster."
   ]
  },
  {
   "cell_type": "code",
   "execution_count": null,
   "metadata": {
    "colab": {
     "base_uri": "https://localhost:8080/"
    },
    "id": "MOsHUjgdIrIW",
    "outputId": "e527bdbb-2f28-4142-cca0-762e0566cbcd",
    "tags": []
   },
   "outputs": [],
   "source": [
    "from pprint import pprint\n",
    "import ray\n",
    "\n",
    "ray.init()"
   ]
  },
  {
   "cell_type": "markdown",
   "metadata": {
    "id": "oJiSdWy2hYbR"
   },
   "source": [
    "We can check the resources our cluster is composed of. If you are running this notebook on your local machine or Google Colab, you should see the number of CPU cores and GPUs available on the said machine."
   ]
  },
  {
   "cell_type": "code",
   "execution_count": 3,
   "metadata": {
    "colab": {
     "base_uri": "https://localhost:8080/"
    },
    "id": "KlMz0dt9hYbS",
    "outputId": "2d485449-ee69-4334-fcba-47e0ceb63078",
    "tags": []
   },
   "outputs": [
    {
     "name": "stdout",
     "output_type": "stream",
     "text": [
      "{'CPU': 64.0,\n",
      " 'GPU': 4.0,\n",
      " 'accelerator_type:None': 4.0,\n",
      " 'memory': 274877906944.0,\n",
      " 'node:10.0.19.101': 1.0,\n",
      " 'node:10.0.24.75': 1.0,\n",
      " 'node:10.0.42.45': 1.0,\n",
      " 'node:10.0.9.214': 1.0,\n",
      " 'node:__internal_head__': 1.0,\n",
      " 'object_store_memory': 77016771377.0}\n"
     ]
    }
   ],
   "source": [
    "pprint(ray.cluster_resources())"
   ]
  },
  {
   "cell_type": "markdown",
   "metadata": {
    "id": "uS6oeJELhYbS"
   },
   "source": [
    "In this notebook, we will see how to fine-tune a [🤗 Transformers](https://github.com/huggingface/transformers) model for one of the text classification task of the [GLUE Benchmark](https://gluebenchmark.com/). We will be running the training using Ray Train.\n",
    "\n",
    "You can change those two variables to control whether the training (which we will get to later) uses CPUs or GPUs, and how many workers should be spawned. Each worker will claim one CPU or GPU. Make sure not to request more resources than the resources present!\n",
    "\n",
    "By default, we will run the training with one GPU worker."
   ]
  },
  {
   "cell_type": "code",
   "execution_count": 4,
   "metadata": {
    "id": "gAbhv9OqhYbT",
    "tags": []
   },
   "outputs": [],
   "source": [
    "use_gpu = True  # set this to False to run on CPUs\n",
    "num_workers = 1  # set this to number of GPUs/CPUs you want to use"
   ]
  },
  {
   "cell_type": "markdown",
   "metadata": {
    "id": "rEJBSTyZIrIb"
   },
   "source": [
    "## Fine-tuning a model on a text classification task"
   ]
  },
  {
   "cell_type": "markdown",
   "metadata": {
    "id": "kTCFado4IrIc"
   },
   "source": [
    "The GLUE Benchmark is a group of nine classification tasks on sentences or pairs of sentences. If you would like to learn more, refer to the [original notebook](https://github.com/huggingface/notebooks/blob/6ca682955173cc9d36ffa431ddda505a048cbe80/examples/text_classification.ipynb).\n",
    "\n",
    "Each task is named by its acronym, with `mnli-mm` standing for the mismatched version of MNLI (so same training set as `mnli` but different validation and test sets):"
   ]
  },
  {
   "cell_type": "code",
   "execution_count": 5,
   "metadata": {
    "id": "YZbiBDuGIrId",
    "tags": []
   },
   "outputs": [],
   "source": [
    "GLUE_TASKS = [\"cola\", \"mnli\", \"mnli-mm\", \"mrpc\", \"qnli\", \"qqp\", \"rte\", \"sst2\", \"stsb\", \"wnli\"]"
   ]
  },
  {
   "cell_type": "markdown",
   "metadata": {
    "id": "4RRkXuteIrIh"
   },
   "source": [
    "This notebook is built to run on any of the tasks in the list above, with any model checkpoint from the [Model Hub](https://huggingface.co/models) as long as that model has a version with a classification head. Depending on your model and the GPU you are using, you might need to adjust the batch size to avoid out-of-memory errors. Set those three parameters, then the rest of the notebook should run smoothly:"
   ]
  },
  {
   "cell_type": "code",
   "execution_count": 6,
   "metadata": {
    "id": "zVvslsfMIrIh",
    "tags": []
   },
   "outputs": [],
   "source": [
    "task = \"cola\"\n",
    "model_checkpoint = \"distilbert-base-uncased\"\n",
    "batch_size = 16"
   ]
  },
  {
   "cell_type": "markdown",
   "metadata": {
    "id": "whPRbBNbIrIl"
   },
   "source": [
    "### Loading the dataset <a name=\"load\"></a>"
   ]
  },
  {
   "cell_type": "markdown",
   "metadata": {
    "id": "W7QYTpxXIrIl"
   },
   "source": [
    "We will use the [🤗 Datasets](https://github.com/huggingface/datasets) library to download the data and get the metric we need to use for evaluation (to compare our model to the benchmark). This can be easily done with the functions `load_dataset` and `load_metric`.\n",
    "\n",
    "Apart from `mnli-mm` being a special code, we can directly pass our task name to those functions.\n",
    "\n",
    "As Ray AIR doesn't provide integrations for 🤗 Datasets yet, we will simply run the normal 🤗 Datasets code to load the dataset from the Hub."
   ]
  },
  {
   "cell_type": "code",
   "execution_count": 7,
   "metadata": {
    "colab": {
     "base_uri": "https://localhost:8080/",
     "height": 200
    },
    "id": "MwhAeEOuhYbV",
    "outputId": "3aff8c73-d6eb-4784-890a-a419403b5bda",
    "tags": []
   },
   "outputs": [
    {
     "name": "stderr",
     "output_type": "stream",
     "text": [
      "Reusing dataset glue (/home/ray/.cache/huggingface/datasets/glue/cola/1.0.0/dacbe3125aa31d7f70367a07a8a9e72a5a0bfeb5fc42e75c9db75b96da6053ad)\n"
     ]
    },
    {
     "data": {
      "application/vnd.jupyter.widget-view+json": {
       "model_id": "906a25c5d5864a928b5b889a6cd3ac4b",
       "version_major": 2,
       "version_minor": 0
      },
      "text/plain": [
       "  0%|          | 0/3 [00:00<?, ?it/s]"
      ]
     },
     "metadata": {},
     "output_type": "display_data"
    }
   ],
   "source": [
    "from datasets import load_dataset\n",
    "\n",
    "actual_task = \"mnli\" if task == \"mnli-mm\" else task\n",
    "datasets = load_dataset(\"glue\", actual_task)"
   ]
  },
  {
   "cell_type": "markdown",
   "metadata": {
    "id": "RzfPtOMoIrIu"
   },
   "source": [
    "The `dataset` object itself is [`DatasetDict`](https://huggingface.co/docs/datasets/package_reference/main_classes.html#datasetdict), which contains one key for the training, validation, and test set (with more keys for the mismatched validation and test set in the special case of `mnli`)."
   ]
  },
  {
   "cell_type": "markdown",
   "metadata": {
    "id": "_TOee7nohYbW"
   },
   "source": [
    "We will also need the metric. In order to avoid serialization errors, we will load the metric inside the training workers later. Therefore, now we will just define the function we will use."
   ]
  },
  {
   "cell_type": "code",
   "execution_count": 8,
   "metadata": {
    "id": "FNE583uBhYbW",
    "tags": []
   },
   "outputs": [],
   "source": [
    "from datasets import load_metric\n",
    "\n",
    "def load_metric_fn():\n",
    "    return load_metric('glue', actual_task)"
   ]
  },
  {
   "cell_type": "markdown",
   "metadata": {
    "id": "lnjDIuQ3IrI-"
   },
   "source": [
    "The metric is an instance of [`datasets.Metric`](https://huggingface.co/docs/datasets/package_reference/main_classes.html#datasets.Metric)."
   ]
  },
  {
   "cell_type": "markdown",
   "metadata": {
    "id": "n9qywopnIrJH"
   },
   "source": [
    "### Preprocessing the data with Ray Data <a name=\"preprocess\"></a>"
   ]
  },
  {
   "cell_type": "markdown",
   "metadata": {
    "id": "YVx71GdAIrJH"
   },
   "source": [
    "Before we can feed those texts to our model, we need to preprocess them. This is done by a 🤗 Transformers' `Tokenizer`, which will (as the name indicates) tokenize the inputs (including converting the tokens to their corresponding IDs in the pretrained vocabulary) and put it in a format the model expects, as well as generate the other inputs that model requires.\n",
    "\n",
    "To do all of this, we instantiate our tokenizer with the `AutoTokenizer.from_pretrained` method, which will ensure that:\n",
    "\n",
    "- we get a tokenizer that corresponds to the model architecture we want to use,\n",
    "- we download the vocabulary used when pretraining this specific checkpoint."
   ]
  },
  {
   "cell_type": "code",
   "execution_count": 9,
   "metadata": {
    "colab": {
     "base_uri": "https://localhost:8080/",
     "height": 145
    },
    "id": "eXNLu_-nIrJI",
    "outputId": "f545a7a5-f341-4315-cd89-9942a657aa31",
    "tags": []
   },
   "outputs": [],
   "source": [
    "from transformers import AutoTokenizer\n",
    "\n",
    "tokenizer = AutoTokenizer.from_pretrained(model_checkpoint, use_fast=True)"
   ]
  },
  {
   "cell_type": "markdown",
   "metadata": {
    "id": "Vl6IidfdIrJK"
   },
   "source": [
    "We pass along `use_fast=True` to the call above to use one of the fast tokenizers (backed by Rust) from the 🤗 Tokenizers library. Those fast tokenizers are available for almost all models, but if you got an error with the previous call, remove that argument."
   ]
  },
  {
   "cell_type": "markdown",
   "metadata": {
    "id": "qo_0B1M2IrJM"
   },
   "source": [
    "To preprocess our dataset, we will thus need the names of the columns containing the sentence(s). The following dictionary keeps track of the correspondence task to column names:"
   ]
  },
  {
   "cell_type": "code",
   "execution_count": 10,
   "metadata": {
    "id": "fyGdtK9oIrJM",
    "tags": []
   },
   "outputs": [],
   "source": [
    "task_to_keys = {\n",
    "    \"cola\": (\"sentence\", None),\n",
    "    \"mnli\": (\"premise\", \"hypothesis\"),\n",
    "    \"mnli-mm\": (\"premise\", \"hypothesis\"),\n",
    "    \"mrpc\": (\"sentence1\", \"sentence2\"),\n",
    "    \"qnli\": (\"question\", \"sentence\"),\n",
    "    \"qqp\": (\"question1\", \"question2\"),\n",
    "    \"rte\": (\"sentence1\", \"sentence2\"),\n",
    "    \"sst2\": (\"sentence\", None),\n",
    "    \"stsb\": (\"sentence1\", \"sentence2\"),\n",
    "    \"wnli\": (\"sentence1\", \"sentence2\"),\n",
    "}"
   ]
  },
  {
   "cell_type": "markdown",
   "metadata": {
    "id": "256fOuzjhYbY"
   },
   "source": [
    "Instead of using 🤗 Dataset objects directly, we will convert them to [Ray Data](data). Both are backed by Arrow tables, so the conversion is straightforward. We will use the built-in {meth}`~ray.data.from_huggingface` function."
   ]
  },
  {
   "cell_type": "code",
   "execution_count": 11,
   "metadata": {
    "tags": []
   },
   "outputs": [
    {
     "data": {
      "text/plain": [
       "{'train': MaterializedDataset(\n",
       "    num_blocks=1,\n",
       "    num_rows=8551,\n",
       "    schema={sentence: string, label: int64, idx: int32}\n",
       " ),\n",
       " 'validation': MaterializedDataset(\n",
       "    num_blocks=1,\n",
       "    num_rows=1043,\n",
       "    schema={sentence: string, label: int64, idx: int32}\n",
       " ),\n",
       " 'test': MaterializedDataset(\n",
       "    num_blocks=1,\n",
       "    num_rows=1063,\n",
       "    schema={sentence: string, label: int64, idx: int32}\n",
       " )}"
      ]
     },
     "execution_count": 11,
     "metadata": {},
     "output_type": "execute_result"
    }
   ],
   "source": [
    "import ray.data\n",
    "\n",
    "ray_datasets = {\n",
    "    \"train\": ray.data.from_huggingface(datasets[\"train\"]),\n",
    "    \"validation\": ray.data.from_huggingface(datasets[\"validation\"]),\n",
    "    \"test\": ray.data.from_huggingface(datasets[\"test\"]),\n",
    "}\n",
    "ray_datasets"
   ]
  },
  {
   "cell_type": "markdown",
   "metadata": {
    "id": "2C0hcmp9IrJQ"
   },
   "source": [
    "We can then write the function that will preprocess our samples. We just feed them to the `tokenizer` with the argument `truncation=True`. This will ensure that an input longer than what the model selected can handle will be truncated to the maximum length accepted by the model.\n",
    "\n",
    "We use `map_batches` which will map the function to the datasets in a distributed fashion."
   ]
  },
  {
   "cell_type": "code",
   "execution_count": 12,
   "metadata": {
    "id": "vc0BSBLIIrJQ",
    "tags": []
   },
   "outputs": [],
   "source": [
    "import numpy as np\n",
    "from typing import Dict\n",
    "\n",
    "\n",
    "def preprocess_function(examples: Dict[str, np.array]):\n",
    "    # if we only have one column, we are inferring.\n",
    "    # no need to tokenize in that case. \n",
    "    if len(examples) == 1:\n",
    "        return examples\n",
    "    \n",
    "    return_dict = {}\n",
    "    return_dict[\"labels\"] = examples[\"label\"]\n",
    "\n",
    "    sentence1_key, sentence2_key = task_to_keys[task]\n",
    "    if sentence2_key is None:\n",
    "        ret = tokenizer(list(examples[sentence1_key]), truncation=True, padding=\"max_length\", return_tensors=\"np\")\n",
    "    else:\n",
    "        ret = tokenizer(list(examples[sentence1_key]), list(examples[sentence2_key]), truncation=True, padding=\"max_length\", return_tensors=\"np\")\n",
    "    return_dict.update(ret)\n",
    "    return return_dict\n",
    "\n",
    "for split, dataset in ray_datasets.items():\n",
    "    ray_datasets[split] = dataset.map_batches(preprocess_function, batch_format=\"numpy\")"
   ]
  },
  {
   "cell_type": "code",
   "execution_count": 13,
   "metadata": {
    "tags": []
   },
   "outputs": [
    {
     "name": "stderr",
     "output_type": "stream",
     "text": [
      "2023-09-05 16:09:50,547\tINFO streaming_executor.py:93 -- Executing DAG InputDataBuffer[Input] -> TaskPoolMapOperator[MapBatches(preprocess_function)]\n",
      "2023-09-05 16:09:50,548\tINFO streaming_executor.py:94 -- Execution config: ExecutionOptions(resource_limits=ExecutionResources(cpu=None, gpu=None, object_store_memory=None), locality_with_output=False, preserve_order=False, actor_locality_enabled=True, verbose_progress=False)\n",
      "2023-09-05 16:09:50,549\tINFO streaming_executor.py:96 -- Tip: For detailed progress reporting, run `ray.data.DataContext.get_current().execution_options.verbose_progress = True`\n"
     ]
    },
    {
     "data": {
      "application/vnd.jupyter.widget-view+json": {
       "model_id": "",
       "version_major": 2,
       "version_minor": 0
      },
      "text/plain": [
       "Running 0:   0%|          | 0/1 [00:00<?, ?it/s]"
      ]
     },
     "metadata": {},
     "output_type": "display_data"
    },
    {
     "name": "stdout",
     "output_type": "stream",
     "text": [
      "{'labels': array([1, 1, 1]), 'input_ids': array([[ 101, 2256, 2814, ...,    0,    0,    0],\n",
      "       [ 101, 2028, 2062, ...,    0,    0,    0],\n",
      "       [ 101, 2028, 2062, ...,    0,    0,    0]]), 'attention_mask': array([[1, 1, 1, ..., 0, 0, 0],\n",
      "       [1, 1, 1, ..., 0, 0, 0],\n",
      "       [1, 1, 1, ..., 0, 0, 0]])}\n"
     ]
    }
   ],
   "source": [
    "for batch in ray_datasets[\"train\"].iter_batches(batch_size=3):\n",
    "    print(batch)\n",
    "    break"
   ]
  },
  {
   "cell_type": "markdown",
   "metadata": {
    "id": "545PP3o8IrJV"
   },
   "source": [
    "### Fine-tuning the model with Ray Train <a name=\"train\"></a>"
   ]
  },
  {
   "cell_type": "markdown",
   "metadata": {
    "id": "FBiW8UpKIrJW"
   },
   "source": [
    "Now that our data is ready, we can download the pretrained model and fine-tune it.\n",
    "\n",
    "Since all our tasks are about sentence classification, we use the `AutoModelForSequenceClassification` class.\n",
    "\n",
    "We will not go into details about each specific component of the training (see the [original notebook](https://github.com/huggingface/notebooks/blob/6ca682955173cc9d36ffa431ddda505a048cbe80/examples/text_classification.ipynb) for that). The tokenizer is the same as we have used to encoded the dataset before.\n",
    "\n",
    "The main difference when using the Ray Train is that we need to define our our training logics a function (`train_func`). That function will be passed to the {class}`~ray.train.torch.TorchTrainer` and will run on every Ray worker. The training will then proceed by the means of PyTorch DDP.\n",
    "\n",
    "Make sure that you initialize the model, metric, and tokenizer inside that function. Otherwise, you may run into serialization errors.\n",
    "\n",
    "Furthermore, `push_to_hub=True` is not yet supported. Ray will, however, checkpoint the model at every epoch, allowing you to push it to hub manually. We will do that after the training."
   ]
  },
  {
   "cell_type": "code",
   "execution_count": 14,
   "metadata": {
    "id": "TlqNaB8jIrJW",
    "tags": []
   },
   "outputs": [
    {
     "name": "stderr",
     "output_type": "stream",
     "text": [
      "2023-09-05 16:09:54.649811: I tensorflow/core/platform/cpu_feature_guard.cc:193] This TensorFlow binary is optimized with oneAPI Deep Neural Network Library (oneDNN) to use the following CPU instructions in performance-critical operations:  AVX2 AVX512F AVX512_VNNI FMA\n",
      "To enable them in other operations, rebuild TensorFlow with the appropriate compiler flags.\n",
      "2023-09-05 16:09:54.796019: I tensorflow/core/util/port.cc:104] oneDNN custom operations are on. You may see slightly different numerical results due to floating-point round-off errors from different computation orders. To turn them off, set the environment variable `TF_ENABLE_ONEDNN_OPTS=0`.\n",
      "2023-09-05 16:09:55.553285: W tensorflow/compiler/xla/stream_executor/platform/default/dso_loader.cc:64] Could not load dynamic library 'libnvinfer.so.7'; dlerror: libnvinfer.so.7: cannot open shared object file: No such file or directory; LD_LIBRARY_PATH: /usr/local/nvidia/lib:/usr/local/nvidia/lib64\n",
      "2023-09-05 16:09:55.553361: W tensorflow/compiler/xla/stream_executor/platform/default/dso_loader.cc:64] Could not load dynamic library 'libnvinfer_plugin.so.7'; dlerror: libnvinfer_plugin.so.7: cannot open shared object file: No such file or directory; LD_LIBRARY_PATH: /usr/local/nvidia/lib:/usr/local/nvidia/lib64\n",
      "2023-09-05 16:09:55.553367: W tensorflow/compiler/tf2tensorrt/utils/py_utils.cc:38] TF-TRT Warning: Cannot dlopen some TensorRT libraries. If you would like to use Nvidia GPU with TensorRT, please make sure the missing libraries mentioned above are installed properly.\n",
      "comet_ml is installed but `COMET_API_KEY` is not set.\n",
      "2023-09-05 16:09:58,555\tINFO streaming_executor.py:93 -- Executing DAG InputDataBuffer[Input] -> TaskPoolMapOperator[MapBatches(preprocess_function)]\n",
      "2023-09-05 16:09:58,556\tINFO streaming_executor.py:94 -- Execution config: ExecutionOptions(resource_limits=ExecutionResources(cpu=None, gpu=None, object_store_memory=None), locality_with_output=False, preserve_order=False, actor_locality_enabled=True, verbose_progress=False)\n",
      "2023-09-05 16:09:58,557\tINFO streaming_executor.py:96 -- Tip: For detailed progress reporting, run `ray.data.DataContext.get_current().execution_options.verbose_progress = True`\n"
     ]
    },
    {
     "data": {
      "application/vnd.jupyter.widget-view+json": {
       "model_id": "",
       "version_major": 2,
       "version_minor": 0
      },
      "text/plain": [
       "Running 0:   0%|          | 0/1 [00:00<?, ?it/s]"
      ]
     },
     "metadata": {},
     "output_type": "display_data"
    }
   ],
   "source": [
    "from transformers import AutoModelForSequenceClassification, TrainingArguments, Trainer\n",
    "import numpy as np\n",
    "import torch\n",
    "import ray.train\n",
    "\n",
    "from ray.train.huggingface.transformers import prepare_trainer, RayTrainReportCallback\n",
    "\n",
    "num_labels = 3 if task.startswith(\"mnli\") else 1 if task==\"stsb\" else 2\n",
    "metric_name = \"pearson\" if task == \"stsb\" else \"matthews_correlation\" if task == \"cola\" else \"accuracy\"\n",
    "model_name = model_checkpoint.split(\"/\")[-1]\n",
    "validation_key = \"validation_mismatched\" if task == \"mnli-mm\" else \"validation_matched\" if task == \"mnli\" else \"validation\"\n",
    "name = f\"{model_name}-finetuned-{task}\"\n",
    "\n",
    "# Calculate the maximum steps per epoch based on the number of rows in the training dataset.\n",
    "# Make sure to scale by the total number of training workers and the per device batch size.\n",
    "max_steps_per_epoch = ray_datasets[\"train\"].count() // batch_size\n",
    "\n",
    "def train_func(config):\n",
    "    print(f\"Is CUDA available: {torch.cuda.is_available()}\")\n",
    "    metric = load_metric_fn()\n",
    "    tokenizer = AutoTokenizer.from_pretrained(model_checkpoint, use_fast=True)\n",
    "    model = AutoModelForSequenceClassification.from_pretrained(model_checkpoint, num_labels=num_labels)\n",
    "\n",
    "    train_ds = ray.train.get_dataset_shard(\"train\")\n",
    "    eval_ds = ray.train.get_dataset_shard(\"eval\")\n",
    "    \n",
    "    batch_size_per_worker = batch_size // num_workers\n",
    "\n",
    "    train_ds_iterable = train_ds.iter_torch_batches(batch_size=batch_size_per_worker)\n",
    "    eval_ds_iterable = eval_ds.iter_torch_batches(batch_size=batch_size_per_worker)\n",
    "\n",
    "    print(\"max_steps_per_epoch: \", max_steps_per_epoch)\n",
    "    \n",
    "    args = TrainingArguments(\n",
    "        name,\n",
    "        evaluation_strategy=\"epoch\",\n",
    "        save_strategy=\"epoch\",\n",
    "        logging_strategy=\"epoch\",\n",
    "        per_device_train_batch_size=batch_size_per_worker,\n",
    "        per_device_eval_batch_size=batch_size_per_worker,\n",
    "        learning_rate=config.get(\"learning_rate\", 2e-5),\n",
    "        num_train_epochs=config.get(\"epochs\", 2),\n",
    "        weight_decay=config.get(\"weight_decay\", 0.01),\n",
    "        push_to_hub=False,\n",
    "        max_steps=max_steps_per_epoch * config.get(\"epochs\", 2),\n",
    "        # disable_tqdm=True,  # declutter the output a little\n",
    "        no_cuda=not use_gpu,  # you need to explicitly set no_cuda if you want CPUs\n",
    "        report_to=\"none\",\n",
    "    )\n",
    "\n",
    "    def compute_metrics(eval_pred):\n",
    "        predictions, labels = eval_pred\n",
    "        if task != \"stsb\":\n",
    "            predictions = np.argmax(predictions, axis=1)\n",
    "        else:\n",
    "            predictions = predictions[:, 0]\n",
    "        return metric.compute(predictions=predictions, references=labels)\n",
    "\n",
    "    trainer = Trainer(\n",
    "        model,\n",
    "        args,\n",
    "        train_dataset=train_ds_iterable,\n",
    "        eval_dataset=eval_ds_iterable,\n",
    "        tokenizer=tokenizer,\n",
    "        compute_metrics=compute_metrics\n",
    "    )\n",
    "\n",
    "    trainer.add_callback(RayTrainReportCallback())\n",
    "\n",
    "    trainer = prepare_trainer(trainer)\n",
    "\n",
    "    print(\"Starting training\")\n",
    "    trainer.train()"
   ]
  },
  {
   "cell_type": "markdown",
   "metadata": {
    "id": "CdzABDVcIrJg"
   },
   "source": [
    "With our `train_func` complete, we can now instantiate the {class}`~ray.train.torch.TorchTrainer`. Aside from the function, we set the `scaling_config`, controlling the amount of workers and resources used, and the `datasets` we will use for training and evaluation."
   ]
  },
  {
   "cell_type": "code",
   "execution_count": 15,
   "metadata": {
    "id": "RElw7OgLhYba",
    "tags": []
   },
   "outputs": [],
   "source": [
    "from ray.train.torch import TorchTrainer\n",
    "from ray.train import RunConfig, ScalingConfig, CheckpointConfig\n",
    "\n",
    "trainer = TorchTrainer(\n",
    "    train_func,\n",
    "    scaling_config=ScalingConfig(num_workers=num_workers, use_gpu=use_gpu),\n",
    "    datasets={\n",
    "        \"train\": ray_datasets[\"train\"],\n",
    "        \"eval\": ray_datasets[\"validation\"],\n",
    "    },\n",
    "    run_config=RunConfig(\n",
    "        storage_path=\"/mnt/cluster_storage/ray_results\",\n",
    "        checkpoint_config=CheckpointConfig(\n",
    "            num_to_keep=1,\n",
    "            checkpoint_score_attribute=\"eval_loss\",\n",
    "            checkpoint_score_order=\"min\",\n",
    "        ),\n",
    "    ),\n",
    ")\n"
   ]
  },
  {
   "cell_type": "markdown",
   "metadata": {
    "id": "XvS136zKhYba"
   },
   "source": [
    "Finally, we call the `fit` method to start training with Ray AIR. We will save the `Result` object to a variable so we can access metrics and checkpoints."
   ]
  },
  {
   "cell_type": "code",
   "execution_count": 16,
   "metadata": {
    "colab": {
     "base_uri": "https://localhost:8080/",
     "height": 1000
    },
    "id": "uNx5pyRlIrJh",
    "outputId": "8496fe4f-f1c3-48ad-a6d3-b16a65716135",
    "tags": []
   },
   "outputs": [
    {
     "data": {
      "text/html": [
       "<div class=\"tuneStatus\">\n",
       "  <div style=\"display: flex;flex-direction: row\">\n",
       "    <div style=\"display: flex;flex-direction: column;\">\n",
       "      <h3>Tune Status</h3>\n",
       "      <table>\n",
       "<tbody>\n",
       "<tr><td>Current time:</td><td>2023-09-05 16:24:00</td></tr>\n",
       "<tr><td>Running for: </td><td>00:13:59.23        </td></tr>\n",
       "<tr><td>Memory:      </td><td>7.8/62.0 GiB       </td></tr>\n",
       "</tbody>\n",
       "</table>\n",
       "    </div>\n",
       "    <div class=\"vDivider\"></div>\n",
       "    <div class=\"systemInfo\">\n",
       "      <h3>System Info</h3>\n",
       "      Using FIFO scheduling algorithm.<br>Logical resource usage: 1.0/64 CPUs, 1.0/4 GPUs (0.0/4.0 accelerator_type:None)\n",
       "    </div>\n",
       "    \n",
       "  </div>\n",
       "  <div class=\"hDivider\"></div>\n",
       "  <div class=\"trialStatus\">\n",
       "    <h3>Trial Status</h3>\n",
       "    <table>\n",
       "<thead>\n",
       "<tr><th>Trial name              </th><th>status    </th><th>loc             </th><th style=\"text-align: right;\">  iter</th><th style=\"text-align: right;\">  total time (s)</th><th style=\"text-align: right;\">  loss</th><th style=\"text-align: right;\">  learning_rate</th><th style=\"text-align: right;\">  epoch</th></tr>\n",
       "</thead>\n",
       "<tbody>\n",
       "<tr><td>TorchTrainer_56f64_00000</td><td>TERMINATED</td><td>10.0.24.75:15827</td><td style=\"text-align: right;\">     2</td><td style=\"text-align: right;\">         829.904</td><td style=\"text-align: right;\">0.3826</td><td style=\"text-align: right;\">              0</td><td style=\"text-align: right;\">    1.5</td></tr>\n",
       "</tbody>\n",
       "</table>\n",
       "  </div>\n",
       "</div>\n",
       "<style>\n",
       ".tuneStatus {\n",
       "  color: var(--jp-ui-font-color1);\n",
       "}\n",
       ".tuneStatus .systemInfo {\n",
       "  display: flex;\n",
       "  flex-direction: column;\n",
       "}\n",
       ".tuneStatus td {\n",
       "  white-space: nowrap;\n",
       "}\n",
       ".tuneStatus .trialStatus {\n",
       "  display: flex;\n",
       "  flex-direction: column;\n",
       "}\n",
       ".tuneStatus h3 {\n",
       "  font-weight: bold;\n",
       "}\n",
       ".tuneStatus .hDivider {\n",
       "  border-bottom-width: var(--jp-border-width);\n",
       "  border-bottom-color: var(--jp-border-color0);\n",
       "  border-bottom-style: solid;\n",
       "}\n",
       ".tuneStatus .vDivider {\n",
       "  border-left-width: var(--jp-border-width);\n",
       "  border-left-color: var(--jp-border-color0);\n",
       "  border-left-style: solid;\n",
       "  margin: 0.5em 1em 0.5em 1em;\n",
       "}\n",
       "</style>\n"
      ],
      "text/plain": [
       "<IPython.core.display.HTML object>"
      ]
     },
     "metadata": {},
     "output_type": "display_data"
    },
    {
     "name": "stderr",
     "output_type": "stream",
     "text": [
      "\u001b[2m\u001b[36m(TrainTrainable pid=15827, ip=10.0.24.75)\u001b[0m 2023-09-05 16:10:05.373103: I tensorflow/core/platform/cpu_feature_guard.cc:193] This TensorFlow binary is optimized with oneAPI Deep Neural Network Library (oneDNN) to use the following CPU instructions in performance-critical operations:  AVX2 AVX512F AVX512_VNNI FMA\n",
      "\u001b[2m\u001b[36m(TrainTrainable pid=15827, ip=10.0.24.75)\u001b[0m To enable them in other operations, rebuild TensorFlow with the appropriate compiler flags.\n",
      "\u001b[2m\u001b[36m(TrainTrainable pid=15827, ip=10.0.24.75)\u001b[0m 2023-09-05 16:10:05.542473: I tensorflow/core/util/port.cc:104] oneDNN custom operations are on. You may see slightly different numerical results due to floating-point round-off errors from different computation orders. To turn them off, set the environment variable `TF_ENABLE_ONEDNN_OPTS=0`.\n",
      "\u001b[2m\u001b[36m(TrainTrainable pid=15827, ip=10.0.24.75)\u001b[0m 2023-09-05 16:10:06.355419: W tensorflow/compiler/xla/stream_executor/platform/default/dso_loader.cc:64] Could not load dynamic library 'libnvinfer.so.7'; dlerror: libnvinfer.so.7: cannot open shared object file: No such file or directory; LD_LIBRARY_PATH: /usr/local/nvidia/lib:/usr/local/nvidia/lib64\n",
      "\u001b[2m\u001b[36m(TrainTrainable pid=15827, ip=10.0.24.75)\u001b[0m 2023-09-05 16:10:06.355504: W tensorflow/compiler/xla/stream_executor/platform/default/dso_loader.cc:64] Could not load dynamic library 'libnvinfer_plugin.so.7'; dlerror: libnvinfer_plugin.so.7: cannot open shared object file: No such file or directory; LD_LIBRARY_PATH: /usr/local/nvidia/lib:/usr/local/nvidia/lib64\n",
      "\u001b[2m\u001b[36m(TrainTrainable pid=15827, ip=10.0.24.75)\u001b[0m 2023-09-05 16:10:06.355511: W tensorflow/compiler/tf2tensorrt/utils/py_utils.cc:38] TF-TRT Warning: Cannot dlopen some TensorRT libraries. If you would like to use Nvidia GPU with TensorRT, please make sure the missing libraries mentioned above are installed properly.\n",
      "\u001b[2m\u001b[36m(TrainTrainable pid=15827, ip=10.0.24.75)\u001b[0m comet_ml is installed but `COMET_API_KEY` is not set.\n",
      "\u001b[2m\u001b[36m(TorchTrainer pid=15827, ip=10.0.24.75)\u001b[0m Starting distributed worker processes: ['15887 (10.0.24.75)']\n",
      "\u001b[2m\u001b[36m(RayTrainWorker pid=15887, ip=10.0.24.75)\u001b[0m Setting up process group for: env:// [rank=0, world_size=1]\n",
      "\u001b[2m\u001b[36m(RayTrainWorker pid=15887, ip=10.0.24.75)\u001b[0m 2023-09-05 16:10:13.089298: I tensorflow/core/platform/cpu_feature_guard.cc:193] This TensorFlow binary is optimized with oneAPI Deep Neural Network Library (oneDNN) to use the following CPU instructions in performance-critical operations:  AVX2 AVX512F AVX512_VNNI FMA\n",
      "\u001b[2m\u001b[36m(RayTrainWorker pid=15887, ip=10.0.24.75)\u001b[0m To enable them in other operations, rebuild TensorFlow with the appropriate compiler flags.\n",
      "\u001b[2m\u001b[36m(RayTrainWorker pid=15887, ip=10.0.24.75)\u001b[0m 2023-09-05 16:10:13.267359: I tensorflow/core/util/port.cc:104] oneDNN custom operations are on. You may see slightly different numerical results due to floating-point round-off errors from different computation orders. To turn them off, set the environment variable `TF_ENABLE_ONEDNN_OPTS=0`.\n",
      "\u001b[2m\u001b[36m(RayTrainWorker pid=15887, ip=10.0.24.75)\u001b[0m 2023-09-05 16:10:14.207848: W tensorflow/compiler/xla/stream_executor/platform/default/dso_loader.cc:64] Could not load dynamic library 'libnvinfer.so.7'; dlerror: libnvinfer.so.7: cannot open shared object file: No such file or directory; LD_LIBRARY_PATH: /usr/local/nvidia/lib:/usr/local/nvidia/lib64\n",
      "\u001b[2m\u001b[36m(RayTrainWorker pid=15887, ip=10.0.24.75)\u001b[0m 2023-09-05 16:10:14.207932: W tensorflow/compiler/xla/stream_executor/platform/default/dso_loader.cc:64] Could not load dynamic library 'libnvinfer_plugin.so.7'; dlerror: libnvinfer_plugin.so.7: cannot open shared object file: No such file or directory; LD_LIBRARY_PATH: /usr/local/nvidia/lib:/usr/local/nvidia/lib64\n",
      "\u001b[2m\u001b[36m(RayTrainWorker pid=15887, ip=10.0.24.75)\u001b[0m 2023-09-05 16:10:14.207940: W tensorflow/compiler/tf2tensorrt/utils/py_utils.cc:38] TF-TRT Warning: Cannot dlopen some TensorRT libraries. If you would like to use Nvidia GPU with TensorRT, please make sure the missing libraries mentioned above are installed properly.\n",
      "\u001b[2m\u001b[36m(SplitCoordinator pid=15937, ip=10.0.24.75)\u001b[0m Auto configuring locality_with_output=['5aee0b1a098d74ee6df8a92da8e188e116fecac5160742dadbb7507b']\n",
      "\u001b[2m\u001b[36m(RayTrainWorker pid=15887, ip=10.0.24.75)\u001b[0m comet_ml is installed but `COMET_API_KEY` is not set.\n"
     ]
    },
    {
     "name": "stdout",
     "output_type": "stream",
     "text": [
      "\u001b[2m\u001b[36m(RayTrainWorker pid=15887, ip=10.0.24.75)\u001b[0m Is CUDA available: True\n",
      "\u001b[2m\u001b[36m(RayTrainWorker pid=15887, ip=10.0.24.75)\u001b[0m max_steps_per_epoch:  534\n"
     ]
    },
    {
     "name": "stderr",
     "output_type": "stream",
     "text": [
      "\u001b[2m\u001b[36m(RayTrainWorker pid=15887, ip=10.0.24.75)\u001b[0m Some weights of the model checkpoint at distilbert-base-uncased were not used when initializing DistilBertForSequenceClassification: ['vocab_projector.weight', 'vocab_transform.weight', 'vocab_layer_norm.bias', 'vocab_transform.bias', 'vocab_layer_norm.weight', 'vocab_projector.bias']\n",
      "\u001b[2m\u001b[36m(RayTrainWorker pid=15887, ip=10.0.24.75)\u001b[0m - This IS expected if you are initializing DistilBertForSequenceClassification from the checkpoint of a model trained on another task or with another architecture (e.g. initializing a BertForSequenceClassification model from a BertForPreTraining model).\n",
      "\u001b[2m\u001b[36m(RayTrainWorker pid=15887, ip=10.0.24.75)\u001b[0m - This IS NOT expected if you are initializing DistilBertForSequenceClassification from the checkpoint of a model that you expect to be exactly identical (initializing a BertForSequenceClassification model from a BertForSequenceClassification model).\n",
      "\u001b[2m\u001b[36m(RayTrainWorker pid=15887, ip=10.0.24.75)\u001b[0m Some weights of DistilBertForSequenceClassification were not initialized from the model checkpoint at distilbert-base-uncased and are newly initialized: ['classifier.bias', 'classifier.weight', 'pre_classifier.bias', 'pre_classifier.weight']\n",
      "\u001b[2m\u001b[36m(RayTrainWorker pid=15887, ip=10.0.24.75)\u001b[0m You should probably TRAIN this model on a down-stream task to be able to use it for predictions and inference.\n",
      "\u001b[2m\u001b[36m(SplitCoordinator pid=15938, ip=10.0.24.75)\u001b[0m Auto configuring locality_with_output=['5aee0b1a098d74ee6df8a92da8e188e116fecac5160742dadbb7507b']\n"
     ]
    },
    {
     "name": "stdout",
     "output_type": "stream",
     "text": [
      "\u001b[2m\u001b[36m(RayTrainWorker pid=15887, ip=10.0.24.75)\u001b[0m Starting training\n"
     ]
    },
    {
     "name": "stderr",
     "output_type": "stream",
     "text": [
      "\u001b[2m\u001b[36m(RayTrainWorker pid=15887, ip=10.0.24.75)\u001b[0m max_steps is given, it will override any value given in num_train_epochs\n",
      "\u001b[2m\u001b[36m(RayTrainWorker pid=15887, ip=10.0.24.75)\u001b[0m /home/ray/anaconda3/lib/python3.9/site-packages/transformers/optimization.py:306: FutureWarning: This implementation of AdamW is deprecated and will be removed in a future version. Use the PyTorch implementation torch.optim.AdamW instead, or set `no_deprecation_warning=True` to disable this warning\n",
      "\u001b[2m\u001b[36m(RayTrainWorker pid=15887, ip=10.0.24.75)\u001b[0m   warnings.warn(\n",
      "\u001b[2m\u001b[36m(RayTrainWorker pid=15887, ip=10.0.24.75)\u001b[0m ***** Running training *****\n",
      "\u001b[2m\u001b[36m(RayTrainWorker pid=15887, ip=10.0.24.75)\u001b[0m   Num examples = 17088\n",
      "\u001b[2m\u001b[36m(RayTrainWorker pid=15887, ip=10.0.24.75)\u001b[0m   Num Epochs = 9223372036854775807\n",
      "\u001b[2m\u001b[36m(RayTrainWorker pid=15887, ip=10.0.24.75)\u001b[0m   Instantaneous batch size per device = 16\n",
      "\u001b[2m\u001b[36m(RayTrainWorker pid=15887, ip=10.0.24.75)\u001b[0m   Total train batch size (w. parallel, distributed & accumulation) = 16\n",
      "\u001b[2m\u001b[36m(RayTrainWorker pid=15887, ip=10.0.24.75)\u001b[0m   Gradient Accumulation steps = 1\n",
      "\u001b[2m\u001b[36m(RayTrainWorker pid=15887, ip=10.0.24.75)\u001b[0m   Total optimization steps = 1068\n",
      "  0%|          | 0/1068 [00:00<?, ?it/s]0.0.24.75)\u001b[0m \n"
     ]
    },
    {
     "data": {
      "application/vnd.jupyter.widget-view+json": {
       "model_id": "",
       "version_major": 2,
       "version_minor": 0
      },
      "text/plain": [
       "(pid=15937, ip=10.0.24.75) Running 0:   0%|          | 0/1 [00:00<?, ?it/s]"
      ]
     },
     "metadata": {},
     "output_type": "display_data"
    },
    {
     "name": "stderr",
     "output_type": "stream",
     "text": [
      "\u001b[2m\u001b[36m(SplitCoordinator pid=15937, ip=10.0.24.75)\u001b[0m Executing DAG InputDataBuffer[Input] -> TaskPoolMapOperator[MapBatches(preprocess_function)] -> OutputSplitter[split(1, equal=True)]\n",
      "\u001b[2m\u001b[36m(SplitCoordinator pid=15937, ip=10.0.24.75)\u001b[0m Execution config: ExecutionOptions(resource_limits=ExecutionResources(cpu=None, gpu=None, object_store_memory=None), locality_with_output=['5aee0b1a098d74ee6df8a92da8e188e116fecac5160742dadbb7507b'], preserve_order=False, actor_locality_enabled=True, verbose_progress=False)\n",
      "\u001b[2m\u001b[36m(SplitCoordinator pid=15937, ip=10.0.24.75)\u001b[0m Tip: For detailed progress reporting, run `ray.data.DataContext.get_current().execution_options.verbose_progress = True`\n",
      "\u001b[2m\u001b[36m(RayTrainWorker pid=15887, ip=10.0.24.75)\u001b[0m [W reducer.cpp:1300] Warning: find_unused_parameters=True was specified in DDP constructor, but did not find any unused parameters in the forward pass. This flag results in an extra traversal of the autograd graph every iteration,  which can adversely affect performance. If your model indeed never has any unused parameters in the forward pass, consider turning this flag off. Note that this warning may be a false positive if your model has flow control causing later iterations to have unused parameters. (function operator())\n",
      "  0%|          | 1/1068 [00:03<1:04:48,  3.64s/it]\u001b[0m \n",
      "  0%|          | 2/1068 [00:04<33:29,  1.89s/it]  \u001b[0m \n",
      "  0%|          | 3/1068 [00:04<23:44,  1.34s/it]5)\u001b[0m \n",
      "  0%|          | 4/1068 [00:05<19:04,  1.08s/it]5)\u001b[0m \n",
      "  0%|          | 5/1068 [00:06<16:30,  1.07it/s]5)\u001b[0m \n",
      "  1%|          | 6/1068 [00:07<14:59,  1.18it/s]5)\u001b[0m \n",
      "  1%|          | 7/1068 [00:07<14:00,  1.26it/s]5)\u001b[0m \n",
      "  1%|          | 8/1068 [00:08<13:21,  1.32it/s]5)\u001b[0m \n",
      "  1%|          | 9/1068 [00:09<12:58,  1.36it/s]5)\u001b[0m \n",
      "  1%|          | 10/1068 [00:09<12:40,  1.39it/s])\u001b[0m \n",
      "  1%|          | 11/1068 [00:10<12:24,  1.42it/s])\u001b[0m \n",
      "  1%|          | 12/1068 [00:11<12:17,  1.43it/s])\u001b[0m \n",
      "  1%|          | 13/1068 [00:11<12:09,  1.45it/s])\u001b[0m \n",
      "  1%|▏         | 14/1068 [00:12<12:04,  1.45it/s])\u001b[0m \n",
      "  1%|▏         | 15/1068 [00:13<12:01,  1.46it/s])\u001b[0m \n",
      "  1%|▏         | 16/1068 [00:13<12:00,  1.46it/s])\u001b[0m \n",
      "  2%|▏         | 17/1068 [00:14<11:59,  1.46it/s])\u001b[0m \n",
      "  2%|▏         | 18/1068 [00:15<11:58,  1.46it/s])\u001b[0m \n",
      "  2%|▏         | 19/1068 [00:15<11:58,  1.46it/s])\u001b[0m \n",
      "  2%|▏         | 20/1068 [00:16<11:57,  1.46it/s])\u001b[0m \n",
      "  2%|▏         | 21/1068 [00:17<11:56,  1.46it/s])\u001b[0m \n",
      "  2%|▏         | 22/1068 [00:17<11:56,  1.46it/s])\u001b[0m \n",
      "  2%|▏         | 23/1068 [00:18<11:55,  1.46it/s])\u001b[0m \n",
      "  2%|▏         | 24/1068 [00:19<11:55,  1.46it/s])\u001b[0m \n",
      "  2%|▏         | 25/1068 [00:19<11:54,  1.46it/s])\u001b[0m \n",
      "  2%|▏         | 26/1068 [00:20<11:54,  1.46it/s])\u001b[0m \n",
      "  3%|▎         | 27/1068 [00:21<11:53,  1.46it/s])\u001b[0m \n",
      "  3%|▎         | 28/1068 [00:22<11:55,  1.45it/s])\u001b[0m \n",
      "  3%|▎         | 29/1068 [00:22<11:53,  1.46it/s])\u001b[0m \n",
      "  3%|▎         | 30/1068 [00:23<11:54,  1.45it/s])\u001b[0m \n",
      "  3%|▎         | 31/1068 [00:24<11:56,  1.45it/s])\u001b[0m \n",
      "  3%|▎         | 32/1068 [00:24<11:53,  1.45it/s])\u001b[0m \n",
      "  3%|▎         | 33/1068 [00:25<11:54,  1.45it/s])\u001b[0m \n",
      "  3%|▎         | 34/1068 [00:26<11:51,  1.45it/s])\u001b[0m \n",
      "  3%|▎         | 35/1068 [00:26<11:50,  1.45it/s])\u001b[0m \n",
      "  3%|▎         | 36/1068 [00:27<11:49,  1.45it/s])\u001b[0m \n",
      "  3%|▎         | 37/1068 [00:28<11:49,  1.45it/s])\u001b[0m \n",
      "  4%|▎         | 38/1068 [00:28<11:49,  1.45it/s])\u001b[0m \n",
      "  4%|▎         | 39/1068 [00:29<11:49,  1.45it/s])\u001b[0m \n",
      "  4%|▎         | 40/1068 [00:30<11:48,  1.45it/s])\u001b[0m \n",
      "  4%|▍         | 41/1068 [00:31<11:48,  1.45it/s])\u001b[0m \n",
      "  4%|▍         | 42/1068 [00:31<11:47,  1.45it/s])\u001b[0m \n",
      "  4%|▍         | 43/1068 [00:32<11:47,  1.45it/s])\u001b[0m \n",
      "  4%|▍         | 44/1068 [00:33<11:46,  1.45it/s])\u001b[0m \n",
      "  4%|▍         | 45/1068 [00:33<11:47,  1.45it/s])\u001b[0m \n",
      "  4%|▍         | 46/1068 [00:34<11:45,  1.45it/s])\u001b[0m \n",
      "  4%|▍         | 47/1068 [00:35<11:46,  1.44it/s])\u001b[0m \n",
      "  4%|▍         | 48/1068 [00:35<11:46,  1.44it/s])\u001b[0m \n",
      "  5%|▍         | 49/1068 [00:36<11:46,  1.44it/s])\u001b[0m \n",
      "  5%|▍         | 50/1068 [00:37<11:46,  1.44it/s])\u001b[0m \n",
      "  5%|▍         | 51/1068 [00:37<11:46,  1.44it/s])\u001b[0m \n",
      "  5%|▍         | 52/1068 [00:38<11:46,  1.44it/s])\u001b[0m \n",
      "  5%|▍         | 53/1068 [00:39<11:46,  1.44it/s])\u001b[0m \n",
      "  5%|▌         | 54/1068 [00:40<11:45,  1.44it/s])\u001b[0m \n",
      "  5%|▌         | 55/1068 [00:40<11:45,  1.44it/s])\u001b[0m \n",
      "  5%|▌         | 56/1068 [00:41<11:47,  1.43it/s])\u001b[0m \n",
      "  5%|▌         | 57/1068 [00:42<11:46,  1.43it/s])\u001b[0m \n",
      "  5%|▌         | 58/1068 [00:42<11:44,  1.43it/s])\u001b[0m \n",
      "  6%|▌         | 59/1068 [00:43<11:44,  1.43it/s])\u001b[0m \n",
      "  6%|▌         | 60/1068 [00:44<11:44,  1.43it/s])\u001b[0m \n",
      "  6%|▌         | 61/1068 [00:44<11:44,  1.43it/s])\u001b[0m \n",
      "  6%|▌         | 62/1068 [00:45<11:44,  1.43it/s])\u001b[0m \n",
      "  6%|▌         | 63/1068 [00:46<11:44,  1.43it/s])\u001b[0m \n",
      "  6%|▌         | 64/1068 [00:47<11:43,  1.43it/s])\u001b[0m \n",
      "  6%|▌         | 65/1068 [00:47<11:43,  1.42it/s])\u001b[0m \n",
      "  6%|▌         | 66/1068 [00:48<11:43,  1.42it/s])\u001b[0m \n",
      "  6%|▋         | 67/1068 [00:49<11:42,  1.42it/s])\u001b[0m \n",
      "  6%|▋         | 68/1068 [00:49<11:42,  1.42it/s])\u001b[0m \n",
      "  6%|▋         | 69/1068 [00:50<11:42,  1.42it/s])\u001b[0m \n",
      "  7%|▋         | 70/1068 [00:51<11:42,  1.42it/s])\u001b[0m \n",
      "  7%|▋         | 71/1068 [00:51<11:41,  1.42it/s])\u001b[0m \n",
      "  7%|▋         | 72/1068 [00:52<11:40,  1.42it/s])\u001b[0m \n",
      "  7%|▋         | 73/1068 [00:53<11:40,  1.42it/s])\u001b[0m \n",
      "  7%|▋         | 74/1068 [00:54<11:40,  1.42it/s])\u001b[0m \n",
      "  7%|▋         | 75/1068 [00:54<11:40,  1.42it/s])\u001b[0m \n",
      "  7%|▋         | 76/1068 [00:55<11:40,  1.42it/s])\u001b[0m \n",
      "  7%|▋         | 77/1068 [00:56<11:40,  1.41it/s])\u001b[0m \n",
      "  7%|▋         | 78/1068 [00:56<11:39,  1.42it/s])\u001b[0m \n",
      "  7%|▋         | 79/1068 [00:57<11:40,  1.41it/s])\u001b[0m \n",
      "  7%|▋         | 80/1068 [00:58<11:37,  1.42it/s])\u001b[0m \n",
      "  8%|▊         | 81/1068 [00:59<11:36,  1.42it/s])\u001b[0m \n",
      "  8%|▊         | 82/1068 [00:59<11:37,  1.41it/s])\u001b[0m \n",
      "  8%|▊         | 83/1068 [01:00<11:36,  1.41it/s])\u001b[0m \n",
      "  8%|▊         | 84/1068 [01:01<11:37,  1.41it/s])\u001b[0m \n",
      "  8%|▊         | 85/1068 [01:01<11:37,  1.41it/s])\u001b[0m \n",
      "  8%|▊         | 86/1068 [01:02<11:36,  1.41it/s])\u001b[0m \n",
      "  8%|▊         | 87/1068 [01:03<11:36,  1.41it/s])\u001b[0m \n",
      "  8%|▊         | 88/1068 [01:03<11:36,  1.41it/s])\u001b[0m \n",
      "  8%|▊         | 89/1068 [01:04<11:35,  1.41it/s])\u001b[0m \n",
      "  8%|▊         | 90/1068 [01:05<11:35,  1.41it/s])\u001b[0m \n",
      "  9%|▊         | 91/1068 [01:06<11:35,  1.40it/s])\u001b[0m \n",
      "  9%|▊         | 92/1068 [01:06<11:35,  1.40it/s])\u001b[0m \n",
      "  9%|▊         | 93/1068 [01:07<11:34,  1.40it/s])\u001b[0m \n",
      "  9%|▉         | 94/1068 [01:08<11:35,  1.40it/s])\u001b[0m \n",
      "  9%|▉         | 95/1068 [01:08<11:34,  1.40it/s])\u001b[0m \n",
      "  9%|▉         | 96/1068 [01:09<11:33,  1.40it/s])\u001b[0m \n",
      "  9%|▉         | 97/1068 [01:10<11:33,  1.40it/s])\u001b[0m \n",
      "  9%|▉         | 98/1068 [01:11<11:33,  1.40it/s])\u001b[0m \n",
      "  9%|▉         | 99/1068 [01:11<11:32,  1.40it/s])\u001b[0m \n",
      "  9%|▉         | 100/1068 [01:12<11:33,  1.39it/s]\u001b[0m \n",
      "  9%|▉         | 101/1068 [01:13<11:32,  1.40it/s]\u001b[0m \n",
      " 10%|▉         | 102/1068 [01:14<11:33,  1.39it/s]\u001b[0m \n",
      " 10%|▉         | 103/1068 [01:14<11:31,  1.40it/s]\u001b[0m \n",
      " 10%|▉         | 104/1068 [01:15<11:30,  1.40it/s]\u001b[0m \n",
      " 10%|▉         | 105/1068 [01:16<11:30,  1.39it/s]\u001b[0m \n",
      " 10%|▉         | 106/1068 [01:16<11:28,  1.40it/s]\u001b[0m \n",
      " 10%|█         | 107/1068 [01:17<11:30,  1.39it/s]\u001b[0m \n",
      " 10%|█         | 108/1068 [01:18<11:29,  1.39it/s]\u001b[0m \n"
     ]
    },
    {
     "name": "stdout",
     "output_type": "stream",
     "text": [
      "\u001b[2m\u001b[1m\u001b[36m(autoscaler +1m53s)\u001b[0m Tip: use `ray status` to view detailed cluster status. To disable these messages, set RAY_SCHEDULER_EVENTS=0.\n",
      "\u001b[2m\u001b[1m\u001b[36m(autoscaler +1m53s)\u001b[0m [workspace snapshot] New snapshot created successfully (size: 168.76 KB).\n"
     ]
    },
    {
     "name": "stderr",
     "output_type": "stream",
     "text": [
      " 10%|█         | 109/1068 [01:19<11:28,  1.39it/s]\u001b[0m \n",
      " 10%|█         | 110/1068 [01:19<11:27,  1.39it/s]\u001b[0m \n",
      " 10%|█         | 111/1068 [01:20<11:28,  1.39it/s]\u001b[0m \n",
      " 10%|█         | 112/1068 [01:21<11:26,  1.39it/s]\u001b[0m \n",
      " 11%|█         | 113/1068 [01:21<11:27,  1.39it/s]\u001b[0m \n",
      " 11%|█         | 114/1068 [01:22<11:25,  1.39it/s]\u001b[0m \n",
      " 11%|█         | 115/1068 [01:23<11:25,  1.39it/s]\u001b[0m \n",
      " 11%|█         | 116/1068 [01:24<11:23,  1.39it/s]\u001b[0m \n",
      " 11%|█         | 117/1068 [01:24<11:24,  1.39it/s]\u001b[0m \n",
      " 11%|█         | 118/1068 [01:25<11:23,  1.39it/s]\u001b[0m \n",
      " 11%|█         | 119/1068 [01:26<11:22,  1.39it/s]\u001b[0m \n",
      " 11%|█         | 120/1068 [01:26<11:21,  1.39it/s]\u001b[0m \n",
      " 11%|█▏        | 121/1068 [01:27<11:21,  1.39it/s]\u001b[0m \n",
      " 11%|█▏        | 122/1068 [01:28<11:20,  1.39it/s]\u001b[0m \n",
      " 12%|█▏        | 123/1068 [01:29<11:18,  1.39it/s]\u001b[0m \n",
      " 12%|█▏        | 124/1068 [01:29<11:18,  1.39it/s]\u001b[0m \n",
      " 12%|█▏        | 125/1068 [01:30<11:17,  1.39it/s]\u001b[0m \n",
      " 12%|█▏        | 126/1068 [01:31<11:15,  1.39it/s]\u001b[0m \n",
      " 12%|█▏        | 127/1068 [01:31<11:15,  1.39it/s]\u001b[0m \n",
      " 12%|█▏        | 128/1068 [01:32<11:14,  1.39it/s]\u001b[0m \n",
      " 12%|█▏        | 129/1068 [01:33<11:12,  1.40it/s]\u001b[0m \n",
      " 12%|█▏        | 130/1068 [01:34<11:13,  1.39it/s]\u001b[0m \n",
      " 12%|█▏        | 131/1068 [01:34<11:12,  1.39it/s]\u001b[0m \n",
      " 12%|█▏        | 132/1068 [01:35<11:11,  1.39it/s]\u001b[0m \n",
      " 12%|█▏        | 133/1068 [01:36<11:11,  1.39it/s]\u001b[0m \n",
      " 13%|█▎        | 134/1068 [01:36<11:10,  1.39it/s]\u001b[0m \n",
      " 13%|█▎        | 135/1068 [01:37<11:10,  1.39it/s]\u001b[0m \n",
      " 13%|█▎        | 136/1068 [01:38<11:10,  1.39it/s]\u001b[0m \n",
      " 13%|█▎        | 137/1068 [01:39<11:07,  1.39it/s]\u001b[0m \n",
      " 13%|█▎        | 138/1068 [01:39<11:07,  1.39it/s]\u001b[0m \n",
      " 13%|█▎        | 139/1068 [01:40<11:07,  1.39it/s]\u001b[0m \n",
      " 13%|█▎        | 140/1068 [01:41<11:07,  1.39it/s]\u001b[0m \n",
      " 13%|█▎        | 141/1068 [01:42<11:06,  1.39it/s]\u001b[0m \n",
      " 13%|█▎        | 142/1068 [01:42<11:05,  1.39it/s]\u001b[0m \n",
      " 13%|█▎        | 143/1068 [01:43<11:04,  1.39it/s]\u001b[0m \n",
      " 13%|█▎        | 144/1068 [01:44<11:05,  1.39it/s]\u001b[0m \n",
      " 14%|█▎        | 145/1068 [01:44<11:04,  1.39it/s]\u001b[0m \n",
      " 14%|█▎        | 146/1068 [01:45<11:05,  1.39it/s]\u001b[0m \n",
      " 14%|█▍        | 147/1068 [01:46<11:04,  1.39it/s]\u001b[0m \n",
      " 14%|█▍        | 148/1068 [01:47<11:03,  1.39it/s]\u001b[0m \n",
      " 14%|█▍        | 149/1068 [01:47<11:02,  1.39it/s]\u001b[0m \n",
      " 14%|█▍        | 150/1068 [01:48<11:01,  1.39it/s]\u001b[0m \n",
      " 14%|█▍        | 151/1068 [01:49<11:02,  1.38it/s]\u001b[0m \n",
      " 14%|█▍        | 152/1068 [01:49<11:01,  1.38it/s]\u001b[0m \n",
      " 14%|█▍        | 153/1068 [01:50<11:00,  1.39it/s]\u001b[0m \n",
      " 14%|█▍        | 154/1068 [01:51<11:00,  1.38it/s]\u001b[0m \n",
      " 15%|█▍        | 155/1068 [01:52<11:01,  1.38it/s]\u001b[0m \n",
      " 15%|█▍        | 156/1068 [01:52<11:00,  1.38it/s]\u001b[0m \n",
      " 15%|█▍        | 157/1068 [01:53<10:59,  1.38it/s]\u001b[0m \n",
      " 15%|█▍        | 158/1068 [01:54<10:58,  1.38it/s]\u001b[0m \n",
      " 15%|█▍        | 159/1068 [01:55<10:58,  1.38it/s]\u001b[0m \n",
      " 15%|█▍        | 160/1068 [01:55<10:58,  1.38it/s]\u001b[0m \n",
      " 15%|█▌        | 161/1068 [01:56<10:58,  1.38it/s]\u001b[0m \n",
      " 15%|█▌        | 162/1068 [01:57<10:56,  1.38it/s]\u001b[0m \n",
      " 15%|█▌        | 163/1068 [01:57<10:55,  1.38it/s]\u001b[0m \n",
      " 15%|█▌        | 164/1068 [01:58<10:55,  1.38it/s]\u001b[0m \n",
      " 15%|█▌        | 165/1068 [01:59<10:55,  1.38it/s]\u001b[0m \n",
      " 16%|█▌        | 166/1068 [02:00<10:55,  1.38it/s]\u001b[0m \n",
      " 16%|█▌        | 167/1068 [02:00<10:55,  1.37it/s]\u001b[0m \n",
      " 16%|█▌        | 168/1068 [02:01<10:55,  1.37it/s]\u001b[0m \n",
      " 16%|█▌        | 169/1068 [02:02<10:55,  1.37it/s]\u001b[0m \n",
      " 16%|█▌        | 170/1068 [02:03<10:53,  1.37it/s]\u001b[0m \n",
      " 16%|█▌        | 171/1068 [02:03<10:53,  1.37it/s]\u001b[0m \n",
      " 16%|█▌        | 172/1068 [02:04<10:52,  1.37it/s]\u001b[0m \n",
      " 16%|█▌        | 173/1068 [02:05<10:52,  1.37it/s]\u001b[0m \n",
      " 16%|█▋        | 174/1068 [02:05<10:51,  1.37it/s]\u001b[0m \n",
      " 16%|█▋        | 175/1068 [02:06<10:51,  1.37it/s]\u001b[0m \n",
      " 16%|█▋        | 176/1068 [02:07<10:50,  1.37it/s]\u001b[0m \n",
      " 17%|█▋        | 177/1068 [02:08<10:49,  1.37it/s]\u001b[0m \n",
      " 17%|█▋        | 178/1068 [02:08<10:48,  1.37it/s]\u001b[0m \n",
      " 17%|█▋        | 179/1068 [02:09<10:48,  1.37it/s]\u001b[0m \n",
      " 17%|█▋        | 180/1068 [02:10<10:47,  1.37it/s]\u001b[0m \n",
      " 17%|█▋        | 181/1068 [02:11<10:46,  1.37it/s]\u001b[0m \n",
      " 17%|█▋        | 182/1068 [02:11<10:46,  1.37it/s]\u001b[0m \n",
      " 17%|█▋        | 183/1068 [02:12<10:45,  1.37it/s]\u001b[0m \n",
      " 17%|█▋        | 184/1068 [02:13<10:45,  1.37it/s]\u001b[0m \n",
      " 17%|█▋        | 185/1068 [02:13<10:44,  1.37it/s]\u001b[0m \n",
      " 17%|█▋        | 186/1068 [02:14<10:43,  1.37it/s]\u001b[0m \n",
      " 18%|█▊        | 187/1068 [02:15<10:42,  1.37it/s]\u001b[0m \n",
      " 18%|█▊        | 188/1068 [02:16<10:42,  1.37it/s]\u001b[0m \n",
      " 18%|█▊        | 189/1068 [02:16<10:41,  1.37it/s]\u001b[0m \n",
      " 18%|█▊        | 190/1068 [02:17<10:40,  1.37it/s]\u001b[0m \n",
      " 18%|█▊        | 191/1068 [02:18<10:40,  1.37it/s]\u001b[0m \n",
      " 18%|█▊        | 192/1068 [02:19<10:40,  1.37it/s]\u001b[0m \n",
      " 18%|█▊        | 193/1068 [02:19<10:39,  1.37it/s]\u001b[0m \n",
      " 18%|█▊        | 194/1068 [02:20<10:39,  1.37it/s]\u001b[0m \n",
      " 18%|█▊        | 195/1068 [02:21<10:38,  1.37it/s]\u001b[0m \n",
      " 18%|█▊        | 196/1068 [02:22<10:37,  1.37it/s]\u001b[0m \n",
      " 18%|█▊        | 197/1068 [02:22<10:37,  1.37it/s]\u001b[0m \n",
      " 19%|█▊        | 198/1068 [02:23<10:37,  1.37it/s]\u001b[0m \n",
      " 19%|█▊        | 199/1068 [02:24<10:38,  1.36it/s]\u001b[0m \n",
      " 19%|█▊        | 200/1068 [02:24<10:36,  1.36it/s]\u001b[0m \n",
      " 19%|█▉        | 201/1068 [02:25<10:36,  1.36it/s]\u001b[0m \n",
      " 19%|█▉        | 202/1068 [02:26<10:35,  1.36it/s]\u001b[0m \n",
      " 19%|█▉        | 203/1068 [02:27<10:34,  1.36it/s]\u001b[0m \n",
      " 19%|█▉        | 204/1068 [02:27<10:34,  1.36it/s]\u001b[0m \n",
      " 19%|█▉        | 205/1068 [02:28<10:32,  1.36it/s]\u001b[0m \n",
      " 19%|█▉        | 206/1068 [02:29<10:32,  1.36it/s]\u001b[0m \n",
      " 19%|█▉        | 207/1068 [02:30<10:32,  1.36it/s]\u001b[0m \n",
      " 19%|█▉        | 208/1068 [02:30<10:32,  1.36it/s]\u001b[0m \n",
      " 20%|█▉        | 209/1068 [02:31<10:32,  1.36it/s]\u001b[0m \n",
      " 20%|█▉        | 210/1068 [02:32<10:31,  1.36it/s]\u001b[0m \n",
      " 20%|█▉        | 211/1068 [02:33<10:28,  1.36it/s]\u001b[0m \n",
      " 20%|█▉        | 212/1068 [02:33<10:28,  1.36it/s]\u001b[0m \n",
      " 20%|█▉        | 213/1068 [02:34<10:28,  1.36it/s]\u001b[0m \n",
      " 20%|██        | 214/1068 [02:35<10:26,  1.36it/s]\u001b[0m \n",
      " 20%|██        | 215/1068 [02:35<10:26,  1.36it/s]\u001b[0m \n",
      " 20%|██        | 216/1068 [02:36<10:26,  1.36it/s]\u001b[0m \n",
      " 20%|██        | 217/1068 [02:37<10:25,  1.36it/s]\u001b[0m \n",
      " 20%|██        | 218/1068 [02:38<10:24,  1.36it/s]\u001b[0m \n",
      " 21%|██        | 219/1068 [02:38<10:22,  1.36it/s]\u001b[0m \n",
      " 21%|██        | 220/1068 [02:39<10:21,  1.36it/s]\u001b[0m \n",
      " 21%|██        | 221/1068 [02:40<10:20,  1.36it/s]\u001b[0m \n",
      " 21%|██        | 222/1068 [02:41<10:19,  1.37it/s]\u001b[0m \n",
      " 21%|██        | 223/1068 [02:41<10:19,  1.36it/s]\u001b[0m \n",
      " 21%|██        | 224/1068 [02:42<10:18,  1.37it/s]\u001b[0m \n",
      " 21%|██        | 225/1068 [02:43<10:16,  1.37it/s]\u001b[0m \n",
      " 21%|██        | 226/1068 [02:44<10:16,  1.37it/s]\u001b[0m \n",
      " 21%|██▏       | 227/1068 [02:44<10:15,  1.37it/s]\u001b[0m \n",
      " 21%|██▏       | 228/1068 [02:45<10:14,  1.37it/s]\u001b[0m \n",
      " 21%|██▏       | 229/1068 [02:46<10:13,  1.37it/s]\u001b[0m \n",
      " 22%|██▏       | 230/1068 [02:46<10:13,  1.37it/s]\u001b[0m \n",
      " 22%|██▏       | 231/1068 [02:47<10:12,  1.37it/s]\u001b[0m \n",
      " 22%|██▏       | 232/1068 [02:48<10:11,  1.37it/s]\u001b[0m \n",
      " 22%|██▏       | 233/1068 [02:49<10:11,  1.37it/s]\u001b[0m \n",
      " 22%|██▏       | 234/1068 [02:49<10:09,  1.37it/s]\u001b[0m \n",
      " 22%|██▏       | 235/1068 [02:50<10:08,  1.37it/s]\u001b[0m \n",
      " 22%|██▏       | 236/1068 [02:51<10:07,  1.37it/s]\u001b[0m \n",
      " 22%|██▏       | 237/1068 [02:52<10:07,  1.37it/s]\u001b[0m \n",
      " 22%|██▏       | 238/1068 [02:52<10:05,  1.37it/s]\u001b[0m \n",
      " 22%|██▏       | 239/1068 [02:53<10:05,  1.37it/s]\u001b[0m \n",
      " 22%|██▏       | 240/1068 [02:54<10:04,  1.37it/s]\u001b[0m \n",
      " 23%|██▎       | 241/1068 [02:54<10:03,  1.37it/s]\u001b[0m \n",
      " 23%|██▎       | 242/1068 [02:55<10:02,  1.37it/s]\u001b[0m \n",
      " 23%|██▎       | 243/1068 [02:56<10:02,  1.37it/s]\u001b[0m \n",
      " 23%|██▎       | 244/1068 [02:57<10:01,  1.37it/s]\u001b[0m \n",
      " 23%|██▎       | 245/1068 [02:57<09:59,  1.37it/s]\u001b[0m \n",
      " 23%|██▎       | 246/1068 [02:58<09:59,  1.37it/s]\u001b[0m \n",
      " 23%|██▎       | 247/1068 [02:59<09:58,  1.37it/s]\u001b[0m \n",
      " 23%|██▎       | 248/1068 [03:00<09:57,  1.37it/s]\u001b[0m \n",
      " 23%|██▎       | 249/1068 [03:00<09:57,  1.37it/s]\u001b[0m \n",
      " 23%|██▎       | 250/1068 [03:01<09:56,  1.37it/s]\u001b[0m \n",
      " 24%|██▎       | 251/1068 [03:02<09:55,  1.37it/s]\u001b[0m \n",
      " 24%|██▎       | 252/1068 [03:02<09:55,  1.37it/s]\u001b[0m \n",
      " 24%|██▎       | 253/1068 [03:03<09:55,  1.37it/s]\u001b[0m \n",
      " 24%|██▍       | 254/1068 [03:04<09:52,  1.37it/s]\u001b[0m \n",
      " 24%|██▍       | 255/1068 [03:05<09:51,  1.37it/s]\u001b[0m \n",
      " 24%|██▍       | 256/1068 [03:05<09:51,  1.37it/s]\u001b[0m \n",
      " 24%|██▍       | 257/1068 [03:06<09:50,  1.37it/s]\u001b[0m \n",
      " 24%|██▍       | 258/1068 [03:07<09:50,  1.37it/s]\u001b[0m \n",
      " 24%|██▍       | 259/1068 [03:08<09:49,  1.37it/s]\u001b[0m \n",
      " 24%|██▍       | 260/1068 [03:08<09:49,  1.37it/s]\u001b[0m \n",
      " 24%|██▍       | 261/1068 [03:09<09:47,  1.37it/s]\u001b[0m \n",
      " 25%|██▍       | 262/1068 [03:10<09:47,  1.37it/s]\u001b[0m \n",
      " 25%|██▍       | 263/1068 [03:11<09:46,  1.37it/s]\u001b[0m \n",
      " 25%|██▍       | 264/1068 [03:11<09:45,  1.37it/s]\u001b[0m \n",
      " 25%|██▍       | 265/1068 [03:12<09:45,  1.37it/s]\u001b[0m \n",
      " 25%|██▍       | 266/1068 [03:13<09:44,  1.37it/s]\u001b[0m \n",
      " 25%|██▌       | 267/1068 [03:13<09:43,  1.37it/s]\u001b[0m \n",
      " 25%|██▌       | 268/1068 [03:14<09:43,  1.37it/s]\u001b[0m \n",
      " 25%|██▌       | 269/1068 [03:15<09:42,  1.37it/s]\u001b[0m \n",
      " 25%|██▌       | 270/1068 [03:16<09:41,  1.37it/s]\u001b[0m \n",
      " 25%|██▌       | 271/1068 [03:16<09:40,  1.37it/s]\u001b[0m \n",
      " 25%|██▌       | 272/1068 [03:17<09:39,  1.37it/s]\u001b[0m \n",
      " 26%|██▌       | 273/1068 [03:18<09:38,  1.37it/s]\u001b[0m \n",
      " 26%|██▌       | 274/1068 [03:19<09:37,  1.37it/s]\u001b[0m \n",
      " 26%|██▌       | 275/1068 [03:19<09:38,  1.37it/s]\u001b[0m \n",
      " 26%|██▌       | 276/1068 [03:20<09:37,  1.37it/s]\u001b[0m \n",
      " 26%|██▌       | 277/1068 [03:21<09:36,  1.37it/s]\u001b[0m \n",
      " 26%|██▌       | 278/1068 [03:21<09:35,  1.37it/s]\u001b[0m \n",
      " 26%|██▌       | 279/1068 [03:22<09:35,  1.37it/s]\u001b[0m \n",
      " 26%|██▌       | 280/1068 [03:23<09:33,  1.37it/s]\u001b[0m \n",
      " 26%|██▋       | 281/1068 [03:24<09:33,  1.37it/s]\u001b[0m \n",
      " 26%|██▋       | 282/1068 [03:24<09:32,  1.37it/s]\u001b[0m \n",
      " 26%|██▋       | 283/1068 [03:25<09:32,  1.37it/s]\u001b[0m \n",
      " 27%|██▋       | 284/1068 [03:26<09:31,  1.37it/s]\u001b[0m \n",
      " 27%|██▋       | 285/1068 [03:27<09:30,  1.37it/s]\u001b[0m \n",
      " 27%|██▋       | 286/1068 [03:27<09:30,  1.37it/s]\u001b[0m \n",
      " 27%|██▋       | 287/1068 [03:28<09:29,  1.37it/s]\u001b[0m \n",
      " 27%|██▋       | 288/1068 [03:29<09:28,  1.37it/s]\u001b[0m \n",
      " 27%|██▋       | 289/1068 [03:29<09:28,  1.37it/s]\u001b[0m \n",
      " 27%|██▋       | 290/1068 [03:30<09:27,  1.37it/s]\u001b[0m \n",
      " 27%|██▋       | 291/1068 [03:31<09:26,  1.37it/s]\u001b[0m \n",
      " 27%|██▋       | 292/1068 [03:32<09:25,  1.37it/s]\u001b[0m \n",
      " 27%|██▋       | 293/1068 [03:32<09:25,  1.37it/s]\u001b[0m \n",
      " 28%|██▊       | 294/1068 [03:33<09:24,  1.37it/s]\u001b[0m \n",
      " 28%|██▊       | 295/1068 [03:34<09:23,  1.37it/s]\u001b[0m \n",
      " 28%|██▊       | 296/1068 [03:35<09:22,  1.37it/s]\u001b[0m \n",
      " 28%|██▊       | 297/1068 [03:35<09:22,  1.37it/s]\u001b[0m \n",
      " 28%|██▊       | 298/1068 [03:36<09:21,  1.37it/s]\u001b[0m \n",
      " 28%|██▊       | 299/1068 [03:37<09:21,  1.37it/s]\u001b[0m \n",
      " 28%|██▊       | 300/1068 [03:37<09:19,  1.37it/s]\u001b[0m \n",
      " 28%|██▊       | 301/1068 [03:38<09:20,  1.37it/s]\u001b[0m \n",
      " 28%|██▊       | 302/1068 [03:39<09:18,  1.37it/s]\u001b[0m \n",
      " 28%|██▊       | 303/1068 [03:40<09:17,  1.37it/s]\u001b[0m \n",
      " 28%|██▊       | 304/1068 [03:40<09:16,  1.37it/s]\u001b[0m \n",
      " 29%|██▊       | 305/1068 [03:41<09:15,  1.37it/s]\u001b[0m \n",
      " 29%|██▊       | 306/1068 [03:42<09:15,  1.37it/s]\u001b[0m \n",
      " 29%|██▊       | 307/1068 [03:43<09:14,  1.37it/s]\u001b[0m \n",
      " 29%|██▉       | 308/1068 [03:43<09:13,  1.37it/s]\u001b[0m \n",
      " 29%|██▉       | 309/1068 [03:44<09:13,  1.37it/s]\u001b[0m \n",
      " 29%|██▉       | 310/1068 [03:45<09:12,  1.37it/s]\u001b[0m \n",
      " 29%|██▉       | 311/1068 [03:46<09:12,  1.37it/s]\u001b[0m \n",
      " 29%|██▉       | 312/1068 [03:46<09:11,  1.37it/s]\u001b[0m \n",
      " 29%|██▉       | 313/1068 [03:47<09:10,  1.37it/s]\u001b[0m \n",
      " 29%|██▉       | 314/1068 [03:48<09:09,  1.37it/s]\u001b[0m \n",
      " 29%|██▉       | 315/1068 [03:48<09:09,  1.37it/s]\u001b[0m \n",
      " 30%|██▉       | 316/1068 [03:49<09:08,  1.37it/s]\u001b[0m \n",
      " 30%|██▉       | 317/1068 [03:50<09:07,  1.37it/s]\u001b[0m \n",
      " 30%|██▉       | 318/1068 [03:51<09:07,  1.37it/s]\u001b[0m \n",
      " 30%|██▉       | 319/1068 [03:51<09:06,  1.37it/s]\u001b[0m \n",
      " 30%|██▉       | 320/1068 [03:52<09:06,  1.37it/s]\u001b[0m \n",
      " 30%|███       | 321/1068 [03:53<09:05,  1.37it/s]\u001b[0m \n",
      " 30%|███       | 322/1068 [03:54<09:04,  1.37it/s]\u001b[0m \n",
      " 30%|███       | 323/1068 [03:54<09:04,  1.37it/s]\u001b[0m \n",
      " 30%|███       | 324/1068 [03:55<09:03,  1.37it/s]\u001b[0m \n",
      " 30%|███       | 325/1068 [03:56<09:02,  1.37it/s]\u001b[0m \n",
      " 31%|███       | 326/1068 [03:56<09:01,  1.37it/s]\u001b[0m \n",
      " 31%|███       | 327/1068 [03:57<09:00,  1.37it/s]\u001b[0m \n",
      " 31%|███       | 328/1068 [03:58<09:00,  1.37it/s]\u001b[0m \n",
      " 31%|███       | 329/1068 [03:59<08:58,  1.37it/s]\u001b[0m \n",
      " 31%|███       | 330/1068 [03:59<08:58,  1.37it/s]\u001b[0m \n",
      " 31%|███       | 331/1068 [04:00<08:58,  1.37it/s]\u001b[0m \n",
      " 31%|███       | 332/1068 [04:01<08:57,  1.37it/s]\u001b[0m \n",
      " 31%|███       | 333/1068 [04:02<08:56,  1.37it/s]\u001b[0m \n",
      " 31%|███▏      | 334/1068 [04:02<08:55,  1.37it/s]\u001b[0m \n",
      " 31%|███▏      | 335/1068 [04:03<08:54,  1.37it/s]\u001b[0m \n",
      " 31%|███▏      | 336/1068 [04:04<08:53,  1.37it/s]\u001b[0m \n",
      " 32%|███▏      | 337/1068 [04:04<08:53,  1.37it/s]\u001b[0m \n",
      " 32%|███▏      | 338/1068 [04:05<08:52,  1.37it/s]\u001b[0m \n",
      " 32%|███▏      | 339/1068 [04:06<08:51,  1.37it/s]\u001b[0m \n",
      " 32%|███▏      | 340/1068 [04:07<08:50,  1.37it/s]\u001b[0m \n",
      " 32%|███▏      | 341/1068 [04:07<08:50,  1.37it/s]\u001b[0m \n",
      " 32%|███▏      | 342/1068 [04:08<08:48,  1.37it/s]\u001b[0m \n",
      " 32%|███▏      | 343/1068 [04:09<08:48,  1.37it/s]\u001b[0m \n",
      " 32%|███▏      | 344/1068 [04:10<08:47,  1.37it/s]\u001b[0m \n",
      " 32%|███▏      | 345/1068 [04:10<08:47,  1.37it/s]\u001b[0m \n",
      " 32%|███▏      | 346/1068 [04:11<08:46,  1.37it/s]\u001b[0m \n",
      " 32%|███▏      | 347/1068 [04:12<08:45,  1.37it/s]\u001b[0m \n",
      " 33%|███▎      | 348/1068 [04:12<08:44,  1.37it/s]\u001b[0m \n",
      " 33%|███▎      | 349/1068 [04:13<08:44,  1.37it/s]\u001b[0m \n",
      " 33%|███▎      | 350/1068 [04:14<08:43,  1.37it/s]\u001b[0m \n",
      " 33%|███▎      | 351/1068 [04:15<08:42,  1.37it/s]\u001b[0m \n",
      " 33%|███▎      | 352/1068 [04:15<08:42,  1.37it/s]\u001b[0m \n",
      " 33%|███▎      | 353/1068 [04:16<08:40,  1.37it/s]\u001b[0m \n",
      " 33%|███▎      | 354/1068 [04:17<08:40,  1.37it/s]\u001b[0m \n",
      " 33%|███▎      | 355/1068 [04:18<08:39,  1.37it/s]\u001b[0m \n",
      " 33%|███▎      | 356/1068 [04:18<08:38,  1.37it/s]\u001b[0m \n",
      " 33%|███▎      | 357/1068 [04:19<08:37,  1.37it/s]\u001b[0m \n",
      " 34%|███▎      | 358/1068 [04:20<08:37,  1.37it/s]\u001b[0m \n",
      " 34%|███▎      | 359/1068 [04:21<08:37,  1.37it/s]\u001b[0m \n",
      " 34%|███▎      | 360/1068 [04:21<08:36,  1.37it/s]\u001b[0m \n",
      " 34%|███▍      | 361/1068 [04:22<08:35,  1.37it/s]\u001b[0m \n",
      " 34%|███▍      | 362/1068 [04:23<08:34,  1.37it/s]\u001b[0m \n",
      " 34%|███▍      | 363/1068 [04:23<08:33,  1.37it/s]\u001b[0m \n",
      " 34%|███▍      | 364/1068 [04:24<08:33,  1.37it/s]\u001b[0m \n",
      " 34%|███▍      | 365/1068 [04:25<08:32,  1.37it/s]\u001b[0m \n",
      " 34%|███▍      | 366/1068 [04:26<08:31,  1.37it/s]\u001b[0m \n",
      " 34%|███▍      | 367/1068 [04:26<08:30,  1.37it/s]\u001b[0m \n",
      " 34%|███▍      | 368/1068 [04:27<08:29,  1.37it/s]\u001b[0m \n",
      " 35%|███▍      | 369/1068 [04:28<08:29,  1.37it/s]\u001b[0m \n",
      " 35%|███▍      | 370/1068 [04:29<08:29,  1.37it/s]\u001b[0m \n",
      " 35%|███▍      | 371/1068 [04:29<08:28,  1.37it/s]\u001b[0m \n",
      " 35%|███▍      | 372/1068 [04:30<08:27,  1.37it/s]\u001b[0m \n",
      " 35%|███▍      | 373/1068 [04:31<08:26,  1.37it/s]\u001b[0m \n",
      " 35%|███▌      | 374/1068 [04:31<08:26,  1.37it/s]\u001b[0m \n",
      " 35%|███▌      | 375/1068 [04:32<08:25,  1.37it/s]\u001b[0m \n",
      " 35%|███▌      | 376/1068 [04:33<08:24,  1.37it/s]\u001b[0m \n",
      " 35%|███▌      | 377/1068 [04:34<08:23,  1.37it/s]\u001b[0m \n",
      " 35%|███▌      | 378/1068 [04:34<08:23,  1.37it/s]\u001b[0m \n",
      " 35%|███▌      | 379/1068 [04:35<08:22,  1.37it/s]\u001b[0m \n",
      " 36%|███▌      | 380/1068 [04:36<08:21,  1.37it/s]\u001b[0m \n",
      " 36%|███▌      | 381/1068 [04:37<08:20,  1.37it/s]\u001b[0m \n",
      " 36%|███▌      | 382/1068 [04:37<08:19,  1.37it/s]\u001b[0m \n",
      " 36%|███▌      | 383/1068 [04:38<08:19,  1.37it/s]\u001b[0m \n",
      " 36%|███▌      | 384/1068 [04:39<08:18,  1.37it/s]\u001b[0m \n",
      " 36%|███▌      | 385/1068 [04:39<08:17,  1.37it/s]\u001b[0m \n",
      " 36%|███▌      | 386/1068 [04:40<08:17,  1.37it/s]\u001b[0m \n",
      " 36%|███▌      | 387/1068 [04:41<08:16,  1.37it/s]\u001b[0m \n",
      " 36%|███▋      | 388/1068 [04:42<08:15,  1.37it/s]\u001b[0m \n",
      " 36%|███▋      | 389/1068 [04:42<08:14,  1.37it/s]\u001b[0m \n",
      " 37%|███▋      | 390/1068 [04:43<08:14,  1.37it/s]\u001b[0m \n",
      " 37%|███▋      | 391/1068 [04:44<08:13,  1.37it/s]\u001b[0m \n",
      " 37%|███▋      | 392/1068 [04:45<08:12,  1.37it/s]\u001b[0m \n",
      " 37%|███▋      | 393/1068 [04:45<08:11,  1.37it/s]\u001b[0m \n",
      " 37%|███▋      | 394/1068 [04:46<08:11,  1.37it/s]\u001b[0m \n",
      " 37%|███▋      | 395/1068 [04:47<08:10,  1.37it/s]\u001b[0m \n",
      " 37%|███▋      | 396/1068 [04:47<08:10,  1.37it/s]\u001b[0m \n",
      " 37%|███▋      | 397/1068 [04:48<08:09,  1.37it/s]\u001b[0m \n",
      " 37%|███▋      | 398/1068 [04:49<08:08,  1.37it/s]\u001b[0m \n",
      " 37%|███▋      | 399/1068 [04:50<08:07,  1.37it/s]\u001b[0m \n",
      " 37%|███▋      | 400/1068 [04:50<08:07,  1.37it/s]\u001b[0m \n",
      " 38%|███▊      | 401/1068 [04:51<08:06,  1.37it/s]\u001b[0m \n",
      " 38%|███▊      | 402/1068 [04:52<08:05,  1.37it/s]\u001b[0m \n",
      " 38%|███▊      | 403/1068 [04:53<08:04,  1.37it/s]\u001b[0m \n",
      " 38%|███▊      | 404/1068 [04:53<08:04,  1.37it/s]\u001b[0m \n",
      " 38%|███▊      | 405/1068 [04:54<08:03,  1.37it/s]\u001b[0m \n",
      " 38%|███▊      | 406/1068 [04:55<08:02,  1.37it/s]\u001b[0m \n",
      " 38%|███▊      | 407/1068 [04:56<08:01,  1.37it/s]\u001b[0m \n",
      " 38%|███▊      | 408/1068 [04:56<08:01,  1.37it/s]\u001b[0m \n",
      " 38%|███▊      | 409/1068 [04:57<07:59,  1.37it/s]\u001b[0m \n",
      " 38%|███▊      | 410/1068 [04:58<07:59,  1.37it/s]\u001b[0m \n",
      " 38%|███▊      | 411/1068 [04:58<07:58,  1.37it/s]\u001b[0m \n",
      " 39%|███▊      | 412/1068 [04:59<07:57,  1.37it/s]\u001b[0m \n",
      " 39%|███▊      | 413/1068 [05:00<07:56,  1.37it/s]\u001b[0m \n",
      " 39%|███▉      | 414/1068 [05:01<07:55,  1.38it/s]\u001b[0m \n",
      " 39%|███▉      | 415/1068 [05:01<07:54,  1.37it/s]\u001b[0m \n",
      " 39%|███▉      | 416/1068 [05:02<07:54,  1.37it/s]\u001b[0m \n",
      " 39%|███▉      | 417/1068 [05:03<07:53,  1.37it/s]\u001b[0m \n",
      " 39%|███▉      | 418/1068 [05:04<07:53,  1.37it/s]\u001b[0m \n",
      " 39%|███▉      | 419/1068 [05:04<07:52,  1.37it/s]\u001b[0m \n",
      " 39%|███▉      | 420/1068 [05:05<07:51,  1.37it/s]\u001b[0m \n",
      " 39%|███▉      | 421/1068 [05:06<07:51,  1.37it/s]\u001b[0m \n",
      " 40%|███▉      | 422/1068 [05:06<07:49,  1.38it/s]\u001b[0m \n",
      " 40%|███▉      | 423/1068 [05:07<07:47,  1.38it/s]\u001b[0m \n",
      " 40%|███▉      | 424/1068 [05:08<07:47,  1.38it/s]\u001b[0m \n",
      " 40%|███▉      | 425/1068 [05:09<07:47,  1.38it/s]\u001b[0m \n",
      " 40%|███▉      | 426/1068 [05:09<07:47,  1.37it/s]\u001b[0m \n",
      " 40%|███▉      | 427/1068 [05:10<07:46,  1.37it/s]\u001b[0m \n",
      " 40%|████      | 428/1068 [05:11<07:46,  1.37it/s]\u001b[0m \n",
      " 40%|████      | 429/1068 [05:12<07:45,  1.37it/s]\u001b[0m \n",
      " 40%|████      | 430/1068 [05:12<07:44,  1.37it/s]\u001b[0m \n",
      " 40%|████      | 431/1068 [05:13<07:44,  1.37it/s]\u001b[0m \n",
      " 40%|████      | 432/1068 [05:14<07:43,  1.37it/s]\u001b[0m \n",
      " 41%|████      | 433/1068 [05:14<07:42,  1.37it/s]\u001b[0m \n",
      " 41%|████      | 434/1068 [05:15<07:42,  1.37it/s]\u001b[0m \n",
      " 41%|████      | 435/1068 [05:16<07:41,  1.37it/s]\u001b[0m \n",
      " 41%|████      | 436/1068 [05:17<07:40,  1.37it/s]\u001b[0m \n",
      " 41%|████      | 437/1068 [05:17<07:39,  1.37it/s]\u001b[0m \n",
      " 41%|████      | 438/1068 [05:18<07:39,  1.37it/s]\u001b[0m \n",
      " 41%|████      | 439/1068 [05:19<07:38,  1.37it/s]\u001b[0m \n",
      " 41%|████      | 440/1068 [05:20<07:37,  1.37it/s]\u001b[0m \n",
      " 41%|████▏     | 441/1068 [05:20<07:36,  1.37it/s]\u001b[0m \n",
      " 41%|████▏     | 442/1068 [05:21<07:35,  1.37it/s]\u001b[0m \n",
      " 41%|████▏     | 443/1068 [05:22<07:34,  1.37it/s]\u001b[0m \n",
      " 42%|████▏     | 444/1068 [05:22<07:33,  1.38it/s]\u001b[0m \n",
      " 42%|████▏     | 445/1068 [05:23<07:32,  1.38it/s]\u001b[0m \n",
      " 42%|████▏     | 446/1068 [05:24<07:31,  1.38it/s]\u001b[0m \n",
      " 42%|████▏     | 447/1068 [05:25<07:31,  1.38it/s]\u001b[0m \n",
      " 42%|████▏     | 448/1068 [05:25<07:30,  1.37it/s]\u001b[0m \n",
      " 42%|████▏     | 449/1068 [05:26<07:30,  1.37it/s]\u001b[0m \n",
      " 42%|████▏     | 450/1068 [05:27<07:29,  1.37it/s]\u001b[0m \n",
      " 42%|████▏     | 451/1068 [05:28<07:29,  1.37it/s]\u001b[0m \n",
      " 42%|████▏     | 452/1068 [05:28<07:28,  1.37it/s]\u001b[0m \n",
      " 42%|████▏     | 453/1068 [05:29<07:27,  1.37it/s]\u001b[0m \n",
      " 43%|████▎     | 454/1068 [05:30<07:27,  1.37it/s]\u001b[0m \n",
      " 43%|████▎     | 455/1068 [05:30<07:26,  1.37it/s]\u001b[0m \n",
      " 43%|████▎     | 456/1068 [05:31<07:25,  1.37it/s]\u001b[0m \n",
      " 43%|████▎     | 457/1068 [05:32<07:25,  1.37it/s]\u001b[0m \n",
      " 43%|████▎     | 458/1068 [05:33<07:24,  1.37it/s]\u001b[0m \n",
      " 43%|████▎     | 459/1068 [05:33<07:23,  1.37it/s]\u001b[0m \n",
      " 43%|████▎     | 460/1068 [05:34<07:21,  1.38it/s]\u001b[0m \n",
      " 43%|████▎     | 461/1068 [05:35<07:21,  1.38it/s]\u001b[0m \n",
      " 43%|████▎     | 462/1068 [05:36<07:19,  1.38it/s]\u001b[0m \n",
      " 43%|████▎     | 463/1068 [05:36<07:18,  1.38it/s]\u001b[0m \n",
      " 43%|████▎     | 464/1068 [05:37<07:18,  1.38it/s]\u001b[0m \n",
      " 44%|████▎     | 465/1068 [05:38<07:18,  1.38it/s]\u001b[0m \n",
      " 44%|████▎     | 466/1068 [05:38<07:17,  1.38it/s]\u001b[0m \n",
      " 44%|████▎     | 467/1068 [05:39<07:16,  1.38it/s]\u001b[0m \n",
      " 44%|████▍     | 468/1068 [05:40<07:15,  1.38it/s]\u001b[0m \n",
      " 44%|████▍     | 469/1068 [05:41<07:13,  1.38it/s]\u001b[0m \n",
      " 44%|████▍     | 470/1068 [05:41<07:14,  1.38it/s]\u001b[0m \n",
      " 44%|████▍     | 471/1068 [05:42<07:13,  1.38it/s]\u001b[0m \n",
      " 44%|████▍     | 472/1068 [05:43<07:13,  1.38it/s]\u001b[0m \n",
      " 44%|████▍     | 473/1068 [05:44<07:12,  1.37it/s]\u001b[0m \n",
      " 44%|████▍     | 474/1068 [05:44<07:12,  1.37it/s]\u001b[0m \n",
      " 44%|████▍     | 475/1068 [05:45<07:12,  1.37it/s]\u001b[0m \n",
      " 45%|████▍     | 476/1068 [05:46<07:10,  1.37it/s]\u001b[0m \n",
      " 45%|████▍     | 477/1068 [05:46<07:10,  1.37it/s]\u001b[0m \n",
      " 45%|████▍     | 478/1068 [05:47<07:09,  1.37it/s]\u001b[0m \n",
      " 45%|████▍     | 479/1068 [05:48<07:07,  1.38it/s]\u001b[0m \n",
      " 45%|████▍     | 480/1068 [05:49<07:05,  1.38it/s]\u001b[0m \n",
      " 45%|████▌     | 481/1068 [05:49<07:06,  1.38it/s]\u001b[0m \n",
      " 45%|████▌     | 482/1068 [05:50<07:05,  1.38it/s]\u001b[0m \n",
      " 45%|████▌     | 483/1068 [05:51<07:04,  1.38it/s]\u001b[0m \n",
      " 45%|████▌     | 484/1068 [05:52<07:04,  1.38it/s]\u001b[0m \n",
      " 45%|████▌     | 485/1068 [05:52<07:03,  1.38it/s]\u001b[0m \n",
      " 46%|████▌     | 486/1068 [05:53<07:01,  1.38it/s]\u001b[0m \n",
      " 46%|████▌     | 487/1068 [05:54<07:00,  1.38it/s]\u001b[0m \n",
      " 46%|████▌     | 488/1068 [05:54<07:01,  1.38it/s]\u001b[0m \n",
      " 46%|████▌     | 489/1068 [05:55<07:00,  1.38it/s]\u001b[0m \n",
      " 46%|████▌     | 490/1068 [05:56<07:00,  1.38it/s]\u001b[0m \n",
      " 46%|████▌     | 491/1068 [05:57<06:59,  1.37it/s]\u001b[0m \n",
      " 46%|████▌     | 492/1068 [05:57<06:59,  1.37it/s]\u001b[0m \n",
      " 46%|████▌     | 493/1068 [05:58<06:58,  1.37it/s]\u001b[0m \n",
      " 46%|████▋     | 494/1068 [05:59<06:56,  1.38it/s]\u001b[0m \n",
      " 46%|████▋     | 495/1068 [06:00<06:56,  1.38it/s]\u001b[0m \n",
      " 46%|████▋     | 496/1068 [06:00<06:54,  1.38it/s]\u001b[0m \n",
      " 47%|████▋     | 497/1068 [06:01<06:54,  1.38it/s]\u001b[0m \n",
      " 47%|████▋     | 498/1068 [06:02<06:54,  1.38it/s]\u001b[0m \n",
      " 47%|████▋     | 499/1068 [06:02<06:53,  1.38it/s]\u001b[0m \n",
      " 47%|████▋     | 500/1068 [06:03<06:52,  1.38it/s]\u001b[0m \n",
      " 47%|████▋     | 501/1068 [06:04<06:51,  1.38it/s]\u001b[0m \n",
      " 47%|████▋     | 502/1068 [06:05<06:50,  1.38it/s]\u001b[0m \n",
      " 47%|████▋     | 503/1068 [06:05<06:50,  1.38it/s]\u001b[0m \n",
      " 47%|████▋     | 504/1068 [06:06<06:49,  1.38it/s]\u001b[0m \n",
      " 47%|████▋     | 505/1068 [06:07<06:48,  1.38it/s]\u001b[0m \n",
      " 47%|████▋     | 506/1068 [06:07<06:47,  1.38it/s]\u001b[0m \n",
      " 47%|████▋     | 507/1068 [06:08<06:47,  1.38it/s]\u001b[0m \n",
      " 48%|████▊     | 508/1068 [06:09<06:46,  1.38it/s]\u001b[0m \n",
      " 48%|████▊     | 509/1068 [06:10<06:46,  1.38it/s]\u001b[0m \n",
      " 48%|████▊     | 510/1068 [06:10<06:44,  1.38it/s]\u001b[0m \n",
      " 48%|████▊     | 511/1068 [06:11<06:43,  1.38it/s]\u001b[0m \n",
      " 48%|████▊     | 512/1068 [06:12<06:43,  1.38it/s]\u001b[0m \n",
      " 48%|████▊     | 513/1068 [06:13<06:43,  1.38it/s]\u001b[0m \n",
      " 48%|████▊     | 514/1068 [06:13<06:42,  1.38it/s]\u001b[0m \n",
      " 48%|████▊     | 515/1068 [06:14<06:41,  1.38it/s]\u001b[0m \n",
      " 48%|████▊     | 516/1068 [06:15<06:40,  1.38it/s]\u001b[0m \n",
      " 48%|████▊     | 517/1068 [06:15<06:39,  1.38it/s]\u001b[0m \n",
      " 49%|████▊     | 518/1068 [06:16<06:39,  1.38it/s]\u001b[0m \n",
      " 49%|████▊     | 519/1068 [06:17<06:39,  1.38it/s]\u001b[0m \n",
      " 49%|████▊     | 520/1068 [06:18<07:10,  1.27it/s]\u001b[0m \n"
     ]
    },
    {
     "name": "stdout",
     "output_type": "stream",
     "text": [
      "\u001b[2m\u001b[1m\u001b[36m(autoscaler +6m53s)\u001b[0m [workspace snapshot] New snapshot created successfully (size: 194.25 KB).\n"
     ]
    },
    {
     "name": "stderr",
     "output_type": "stream",
     "text": [
      " 49%|████▉     | 521/1068 [06:19<06:58,  1.31it/s]\u001b[0m \n",
      " 49%|████▉     | 522/1068 [06:19<06:53,  1.32it/s]\u001b[0m \n",
      " 49%|████▉     | 523/1068 [06:20<06:47,  1.34it/s]\u001b[0m \n",
      " 49%|████▉     | 524/1068 [06:21<06:42,  1.35it/s]\u001b[0m \n",
      " 49%|████▉     | 525/1068 [06:21<06:39,  1.36it/s]\u001b[0m \n",
      " 49%|████▉     | 526/1068 [06:22<06:36,  1.37it/s]\u001b[0m \n",
      " 49%|████▉     | 527/1068 [06:23<06:34,  1.37it/s]\u001b[0m \n",
      " 49%|████▉     | 528/1068 [06:24<06:33,  1.37it/s]\u001b[0m \n",
      " 50%|████▉     | 529/1068 [06:24<06:32,  1.37it/s]\u001b[0m \n",
      " 50%|████▉     | 530/1068 [06:25<06:31,  1.37it/s]\u001b[0m \n",
      " 50%|████▉     | 531/1068 [06:26<06:30,  1.37it/s]\u001b[0m \n",
      " 50%|████▉     | 532/1068 [06:27<06:29,  1.38it/s]\u001b[0m \n",
      " 50%|████▉     | 533/1068 [06:27<06:28,  1.38it/s]\u001b[0m \n",
      " 50%|█████     | 534/1068 [06:28<06:27,  1.38it/s]\u001b[0m \n"
     ]
    },
    {
     "name": "stdout",
     "output_type": "stream",
     "text": [
      "\u001b[2m\u001b[36m(RayTrainWorker pid=15887, ip=10.0.24.75)\u001b[0m {'loss': 0.5402, 'learning_rate': 9.9812734082397e-06, 'epoch': 0.5}\n"
     ]
    },
    {
     "name": "stderr",
     "output_type": "stream",
     "text": [
      " 50%|█████     | 535/1068 [06:28<05:24,  1.64it/s]***** Running Evaluation *****\n",
      "\u001b[2m\u001b[36m(RayTrainWorker pid=15887, ip=10.0.24.75)\u001b[0m   Num examples: Unknown\n",
      "\u001b[2m\u001b[36m(RayTrainWorker pid=15887, ip=10.0.24.75)\u001b[0m   Batch size = 16\n",
      "\u001b[2m\u001b[36m(SplitCoordinator pid=15938, ip=10.0.24.75)\u001b[0m Executing DAG InputDataBuffer[Input] -> TaskPoolMapOperator[MapBatches(preprocess_function)] -> OutputSplitter[split(1, equal=True)]\n",
      "\u001b[2m\u001b[36m(SplitCoordinator pid=15938, ip=10.0.24.75)\u001b[0m Execution config: ExecutionOptions(resource_limits=ExecutionResources(cpu=None, gpu=None, object_store_memory=None), locality_with_output=['5aee0b1a098d74ee6df8a92da8e188e116fecac5160742dadbb7507b'], preserve_order=False, actor_locality_enabled=True, verbose_progress=False)\n",
      "\u001b[2m\u001b[36m(SplitCoordinator pid=15938, ip=10.0.24.75)\u001b[0m Tip: For detailed progress reporting, run `ray.data.DataContext.get_current().execution_options.verbose_progress = True`\n"
     ]
    },
    {
     "data": {
      "application/vnd.jupyter.widget-view+json": {
       "model_id": "",
       "version_major": 2,
       "version_minor": 0
      },
      "text/plain": [
       "(pid=15938, ip=10.0.24.75) Running 0:   0%|          | 0/1 [00:00<?, ?it/s]"
      ]
     },
     "metadata": {},
     "output_type": "display_data"
    },
    {
     "name": "stdout",
     "output_type": "stream",
     "text": [
      "\u001b[2m\u001b[36m(RayTrainWorker pid=15887, ip=10.0.24.75)\u001b[0m {'eval_loss': 0.5167202353477478, 'eval_matthews_correlation': 0.40649809839684037, 'eval_runtime': 17.7492, 'eval_samples_per_second': 58.763, 'eval_steps_per_second': 3.718, 'epoch': 0.5}\n"
     ]
    },
    {
     "name": "stderr",
     "output_type": "stream",
     "text": [
      " 50%|█████     | 535/1068 [06:46<05:24,  1.64it/s]Saving model checkpoint to distilbert-base-uncased-finetuned-cola/checkpoint-535\n",
      "\u001b[2m\u001b[36m(RayTrainWorker pid=15887, ip=10.0.24.75)\u001b[0m Configuration saved in distilbert-base-uncased-finetuned-cola/checkpoint-535/config.json\n",
      "\u001b[2m\u001b[36m(RayTrainWorker pid=15887, ip=10.0.24.75)\u001b[0m Model weights saved in distilbert-base-uncased-finetuned-cola/checkpoint-535/pytorch_model.bin\n",
      "\u001b[2m\u001b[36m(RayTrainWorker pid=15887, ip=10.0.24.75)\u001b[0m tokenizer config file saved in distilbert-base-uncased-finetuned-cola/checkpoint-535/tokenizer_config.json\n",
      "\u001b[2m\u001b[36m(RayTrainWorker pid=15887, ip=10.0.24.75)\u001b[0m Special tokens file saved in distilbert-base-uncased-finetuned-cola/checkpoint-535/special_tokens_map.json\n",
      "\u001b[2m\u001b[36m(RayTrainWorker pid=15887, ip=10.0.24.75)\u001b[0m Checkpoint successfully created at: Checkpoint(filesystem=local, path=/mnt/cluster_storage/ray_results/TorchTrainer_2023-09-05_16-10-01/TorchTrainer_56f64_00000_0_2023-09-05_16-10-01/checkpoint_000000)\n"
     ]
    },
    {
     "data": {
      "application/vnd.jupyter.widget-view+json": {
       "model_id": "",
       "version_major": 2,
       "version_minor": 0
      },
      "text/plain": [
       "(pid=15937, ip=10.0.24.75) Running 0:   0%|          | 0/1 [00:00<?, ?it/s]"
      ]
     },
     "metadata": {},
     "output_type": "display_data"
    },
    {
     "name": "stderr",
     "output_type": "stream",
     "text": [
      "\u001b[2m\u001b[36m(SplitCoordinator pid=15937, ip=10.0.24.75)\u001b[0m Executing DAG InputDataBuffer[Input] -> TaskPoolMapOperator[MapBatches(preprocess_function)] -> OutputSplitter[split(1, equal=True)]\n",
      "\u001b[2m\u001b[36m(SplitCoordinator pid=15937, ip=10.0.24.75)\u001b[0m Execution config: ExecutionOptions(resource_limits=ExecutionResources(cpu=None, gpu=None, object_store_memory=None), locality_with_output=['5aee0b1a098d74ee6df8a92da8e188e116fecac5160742dadbb7507b'], preserve_order=False, actor_locality_enabled=True, verbose_progress=False)\n",
      "\u001b[2m\u001b[36m(SplitCoordinator pid=15937, ip=10.0.24.75)\u001b[0m Tip: For detailed progress reporting, run `ray.data.DataContext.get_current().execution_options.verbose_progress = True`\n",
      " 50%|█████     | 536/1068 [06:54<1:11:36,  8.08s/it]0m \n",
      " 50%|█████     | 537/1068 [06:55<51:54,  5.87s/it]  0m \n",
      " 50%|█████     | 538/1068 [06:55<38:09,  4.32s/it]\u001b[0m \n",
      " 50%|█████     | 539/1068 [06:56<28:33,  3.24s/it]\u001b[0m \n",
      " 51%|█████     | 540/1068 [06:57<21:50,  2.48s/it]\u001b[0m \n",
      " 51%|█████     | 541/1068 [06:57<17:08,  1.95s/it]\u001b[0m \n",
      " 51%|█████     | 542/1068 [06:58<13:52,  1.58s/it]\u001b[0m \n",
      " 51%|█████     | 543/1068 [06:59<11:34,  1.32s/it]\u001b[0m \n",
      " 51%|█████     | 544/1068 [07:00<09:57,  1.14s/it]\u001b[0m \n",
      " 51%|█████     | 545/1068 [07:00<08:50,  1.01s/it]\u001b[0m \n",
      " 51%|█████     | 546/1068 [07:01<08:02,  1.08it/s]\u001b[0m \n",
      " 51%|█████     | 547/1068 [07:02<07:29,  1.16it/s]\u001b[0m \n",
      " 51%|█████▏    | 548/1068 [07:02<07:06,  1.22it/s]\u001b[0m \n",
      " 51%|█████▏    | 549/1068 [07:03<06:51,  1.26it/s]\u001b[0m \n",
      " 51%|█████▏    | 550/1068 [07:04<06:38,  1.30it/s]\u001b[0m \n",
      " 52%|█████▏    | 551/1068 [07:05<06:30,  1.32it/s]\u001b[0m \n",
      " 52%|█████▏    | 552/1068 [07:05<06:24,  1.34it/s]\u001b[0m \n",
      " 52%|█████▏    | 553/1068 [07:06<06:19,  1.36it/s]\u001b[0m \n",
      " 52%|█████▏    | 554/1068 [07:07<06:17,  1.36it/s]\u001b[0m \n",
      " 52%|█████▏    | 555/1068 [07:08<06:14,  1.37it/s]\u001b[0m \n",
      " 52%|█████▏    | 556/1068 [07:08<06:12,  1.37it/s]\u001b[0m \n",
      " 52%|█████▏    | 557/1068 [07:09<06:11,  1.38it/s]\u001b[0m \n",
      " 52%|█████▏    | 558/1068 [07:10<06:09,  1.38it/s]\u001b[0m \n",
      " 52%|█████▏    | 559/1068 [07:10<06:08,  1.38it/s]\u001b[0m \n",
      " 52%|█████▏    | 560/1068 [07:11<06:07,  1.38it/s]\u001b[0m \n",
      " 53%|█████▎    | 561/1068 [07:12<06:07,  1.38it/s]\u001b[0m \n",
      " 53%|█████▎    | 562/1068 [07:13<06:06,  1.38it/s]\u001b[0m \n",
      " 53%|█████▎    | 563/1068 [07:13<06:05,  1.38it/s]\u001b[0m \n",
      " 53%|█████▎    | 564/1068 [07:14<06:05,  1.38it/s]\u001b[0m \n",
      " 53%|█████▎    | 565/1068 [07:15<06:04,  1.38it/s]\u001b[0m \n",
      " 53%|█████▎    | 566/1068 [07:15<06:03,  1.38it/s]\u001b[0m \n",
      " 53%|█████▎    | 567/1068 [07:16<06:03,  1.38it/s]\u001b[0m \n",
      " 53%|█████▎    | 568/1068 [07:17<06:02,  1.38it/s]\u001b[0m \n",
      " 53%|█████▎    | 569/1068 [07:18<06:02,  1.38it/s]\u001b[0m \n",
      " 53%|█████▎    | 570/1068 [07:18<06:02,  1.38it/s]\u001b[0m \n",
      " 53%|█████▎    | 571/1068 [07:19<06:02,  1.37it/s]\u001b[0m \n",
      " 54%|█████▎    | 572/1068 [07:20<06:01,  1.37it/s]\u001b[0m \n",
      " 54%|█████▎    | 573/1068 [07:21<06:00,  1.37it/s]\u001b[0m \n",
      " 54%|█████▎    | 574/1068 [07:21<06:00,  1.37it/s]\u001b[0m \n",
      " 54%|█████▍    | 575/1068 [07:22<05:59,  1.37it/s]\u001b[0m \n",
      " 54%|█████▍    | 576/1068 [07:23<05:59,  1.37it/s]\u001b[0m \n",
      " 54%|█████▍    | 577/1068 [07:23<05:58,  1.37it/s]\u001b[0m \n",
      " 54%|█████▍    | 578/1068 [07:24<05:57,  1.37it/s]\u001b[0m \n",
      " 54%|█████▍    | 579/1068 [07:25<05:56,  1.37it/s]\u001b[0m \n",
      " 54%|█████▍    | 580/1068 [07:26<05:56,  1.37it/s]\u001b[0m \n",
      " 54%|█████▍    | 581/1068 [07:26<05:55,  1.37it/s]\u001b[0m \n",
      " 54%|█████▍    | 582/1068 [07:27<05:54,  1.37it/s]\u001b[0m \n",
      " 55%|█████▍    | 583/1068 [07:28<05:53,  1.37it/s]\u001b[0m \n",
      " 55%|█████▍    | 584/1068 [07:29<05:53,  1.37it/s]\u001b[0m \n",
      " 55%|█████▍    | 585/1068 [07:29<05:52,  1.37it/s]\u001b[0m \n",
      " 55%|█████▍    | 586/1068 [07:30<05:52,  1.37it/s]\u001b[0m \n",
      " 55%|█████▍    | 587/1068 [07:31<05:51,  1.37it/s]\u001b[0m \n",
      " 55%|█████▌    | 588/1068 [07:32<05:50,  1.37it/s]\u001b[0m \n",
      " 55%|█████▌    | 589/1068 [07:32<05:50,  1.37it/s]\u001b[0m \n",
      " 55%|█████▌    | 590/1068 [07:33<05:50,  1.37it/s]\u001b[0m \n",
      " 55%|█████▌    | 591/1068 [07:34<05:49,  1.36it/s]\u001b[0m \n",
      " 55%|█████▌    | 592/1068 [07:34<05:49,  1.36it/s]\u001b[0m \n",
      " 56%|█████▌    | 593/1068 [07:35<05:48,  1.36it/s]\u001b[0m \n",
      " 56%|█████▌    | 594/1068 [07:36<05:48,  1.36it/s]\u001b[0m \n",
      " 56%|█████▌    | 595/1068 [07:37<05:47,  1.36it/s]\u001b[0m \n",
      " 56%|█████▌    | 596/1068 [07:37<05:46,  1.36it/s]\u001b[0m \n",
      " 56%|█████▌    | 597/1068 [07:38<05:45,  1.36it/s]\u001b[0m \n",
      " 56%|█████▌    | 598/1068 [07:39<05:45,  1.36it/s]\u001b[0m \n",
      " 56%|█████▌    | 599/1068 [07:40<05:45,  1.36it/s]\u001b[0m \n",
      " 56%|█████▌    | 600/1068 [07:40<05:44,  1.36it/s]\u001b[0m \n",
      " 56%|█████▋    | 601/1068 [07:41<05:43,  1.36it/s]\u001b[0m \n",
      " 56%|█████▋    | 602/1068 [07:42<05:43,  1.36it/s]\u001b[0m \n",
      " 56%|█████▋    | 603/1068 [07:43<05:41,  1.36it/s]\u001b[0m \n",
      " 57%|█████▋    | 604/1068 [07:43<05:41,  1.36it/s]\u001b[0m \n",
      " 57%|█████▋    | 605/1068 [07:44<05:40,  1.36it/s]\u001b[0m \n",
      " 57%|█████▋    | 606/1068 [07:45<05:39,  1.36it/s]\u001b[0m \n",
      " 57%|█████▋    | 607/1068 [07:45<05:38,  1.36it/s]\u001b[0m \n",
      " 57%|█████▋    | 608/1068 [07:46<05:38,  1.36it/s]\u001b[0m \n",
      " 57%|█████▋    | 609/1068 [07:47<05:37,  1.36it/s]\u001b[0m \n",
      " 57%|█████▋    | 610/1068 [07:48<05:35,  1.36it/s]\u001b[0m \n",
      " 57%|█████▋    | 611/1068 [07:48<05:35,  1.36it/s]\u001b[0m \n",
      " 57%|█████▋    | 612/1068 [07:49<05:35,  1.36it/s]\u001b[0m \n",
      " 57%|█████▋    | 613/1068 [07:50<05:34,  1.36it/s]\u001b[0m \n",
      " 57%|█████▋    | 614/1068 [07:51<05:33,  1.36it/s]\u001b[0m \n",
      " 58%|█████▊    | 615/1068 [07:51<05:32,  1.36it/s]\u001b[0m \n",
      " 58%|█████▊    | 616/1068 [07:52<05:32,  1.36it/s]\u001b[0m \n",
      " 58%|█████▊    | 617/1068 [07:53<05:31,  1.36it/s]\u001b[0m \n",
      " 58%|█████▊    | 618/1068 [07:54<05:30,  1.36it/s]\u001b[0m \n",
      " 58%|█████▊    | 619/1068 [07:54<05:30,  1.36it/s]\u001b[0m \n",
      " 58%|█████▊    | 620/1068 [07:55<05:29,  1.36it/s]\u001b[0m \n",
      " 58%|█████▊    | 621/1068 [07:56<05:28,  1.36it/s]\u001b[0m \n",
      " 58%|█████▊    | 622/1068 [07:57<05:28,  1.36it/s]\u001b[0m \n",
      " 58%|█████▊    | 623/1068 [07:57<05:27,  1.36it/s]\u001b[0m \n",
      " 58%|█████▊    | 624/1068 [07:58<05:27,  1.36it/s]\u001b[0m \n",
      " 59%|█████▊    | 625/1068 [07:59<05:26,  1.36it/s]\u001b[0m \n",
      " 59%|█████▊    | 626/1068 [07:59<05:25,  1.36it/s]\u001b[0m \n",
      " 59%|█████▊    | 627/1068 [08:00<05:25,  1.36it/s]\u001b[0m \n",
      " 59%|█████▉    | 628/1068 [08:01<05:24,  1.36it/s]\u001b[0m \n",
      " 59%|█████▉    | 629/1068 [08:02<05:23,  1.36it/s]\u001b[0m \n",
      " 59%|█████▉    | 630/1068 [08:02<05:22,  1.36it/s]\u001b[0m \n",
      " 59%|█████▉    | 631/1068 [08:03<05:21,  1.36it/s]\u001b[0m \n",
      " 59%|█████▉    | 632/1068 [08:04<05:20,  1.36it/s]\u001b[0m \n",
      " 59%|█████▉    | 633/1068 [08:05<05:19,  1.36it/s]\u001b[0m \n",
      " 59%|█████▉    | 634/1068 [08:05<05:19,  1.36it/s]\u001b[0m \n",
      " 59%|█████▉    | 635/1068 [08:06<05:18,  1.36it/s]\u001b[0m \n",
      " 60%|█████▉    | 636/1068 [08:07<05:16,  1.36it/s]\u001b[0m \n",
      " 60%|█████▉    | 637/1068 [08:08<05:16,  1.36it/s]\u001b[0m \n",
      " 60%|█████▉    | 638/1068 [08:08<05:16,  1.36it/s]\u001b[0m \n",
      " 60%|█████▉    | 639/1068 [08:09<05:14,  1.36it/s]\u001b[0m \n",
      " 60%|█████▉    | 640/1068 [08:10<05:13,  1.37it/s]\u001b[0m \n",
      " 60%|██████    | 641/1068 [08:10<05:12,  1.37it/s]\u001b[0m \n",
      " 60%|██████    | 642/1068 [08:11<05:12,  1.36it/s]\u001b[0m \n",
      " 60%|██████    | 643/1068 [08:12<05:11,  1.36it/s]\u001b[0m \n",
      " 60%|██████    | 644/1068 [08:13<05:11,  1.36it/s]\u001b[0m \n",
      " 60%|██████    | 645/1068 [08:13<05:10,  1.36it/s]\u001b[0m \n",
      " 60%|██████    | 646/1068 [08:14<05:09,  1.37it/s]\u001b[0m \n",
      " 61%|██████    | 647/1068 [08:15<05:09,  1.36it/s]\u001b[0m \n",
      " 61%|██████    | 648/1068 [08:16<05:08,  1.36it/s]\u001b[0m \n",
      " 61%|██████    | 649/1068 [08:16<05:07,  1.36it/s]\u001b[0m \n",
      " 61%|██████    | 650/1068 [08:17<05:06,  1.37it/s]\u001b[0m \n",
      " 61%|██████    | 651/1068 [08:18<05:05,  1.36it/s]\u001b[0m \n",
      " 61%|██████    | 652/1068 [08:19<05:04,  1.36it/s]\u001b[0m \n",
      " 61%|██████    | 653/1068 [08:19<05:04,  1.36it/s]\u001b[0m \n",
      " 61%|██████    | 654/1068 [08:20<05:03,  1.36it/s]\u001b[0m \n",
      " 61%|██████▏   | 655/1068 [08:21<05:02,  1.37it/s]\u001b[0m \n",
      " 61%|██████▏   | 656/1068 [08:21<05:01,  1.37it/s]\u001b[0m \n",
      " 62%|██████▏   | 657/1068 [08:22<05:00,  1.37it/s]\u001b[0m \n",
      " 62%|██████▏   | 658/1068 [08:23<05:00,  1.36it/s]\u001b[0m \n",
      " 62%|██████▏   | 659/1068 [08:24<04:59,  1.36it/s]\u001b[0m \n",
      " 62%|██████▏   | 660/1068 [08:24<04:58,  1.36it/s]\u001b[0m \n",
      " 62%|██████▏   | 661/1068 [08:25<04:58,  1.36it/s]\u001b[0m \n",
      " 62%|██████▏   | 662/1068 [08:26<04:57,  1.37it/s]\u001b[0m \n",
      " 62%|██████▏   | 663/1068 [08:27<04:56,  1.37it/s]\u001b[0m \n",
      " 62%|██████▏   | 664/1068 [08:27<04:55,  1.37it/s]\u001b[0m \n",
      " 62%|██████▏   | 665/1068 [08:28<04:54,  1.37it/s]\u001b[0m \n",
      " 62%|██████▏   | 666/1068 [08:29<04:54,  1.37it/s]\u001b[0m \n",
      " 62%|██████▏   | 667/1068 [08:30<04:53,  1.37it/s]\u001b[0m \n",
      " 63%|██████▎   | 668/1068 [08:30<04:52,  1.37it/s]\u001b[0m \n",
      " 63%|██████▎   | 669/1068 [08:31<04:51,  1.37it/s]\u001b[0m \n",
      " 63%|██████▎   | 670/1068 [08:32<04:50,  1.37it/s]\u001b[0m \n",
      " 63%|██████▎   | 671/1068 [08:32<04:50,  1.37it/s]\u001b[0m \n",
      " 63%|██████▎   | 672/1068 [08:33<04:49,  1.37it/s]\u001b[0m \n",
      " 63%|██████▎   | 673/1068 [08:34<04:48,  1.37it/s]\u001b[0m \n",
      " 63%|██████▎   | 674/1068 [08:35<04:47,  1.37it/s]\u001b[0m \n",
      " 63%|██████▎   | 675/1068 [08:35<04:47,  1.37it/s]\u001b[0m \n",
      " 63%|██████▎   | 676/1068 [08:36<04:46,  1.37it/s]\u001b[0m \n",
      " 63%|██████▎   | 677/1068 [08:37<04:46,  1.37it/s]\u001b[0m \n",
      " 63%|██████▎   | 678/1068 [08:38<04:45,  1.37it/s]\u001b[0m \n",
      " 64%|██████▎   | 679/1068 [08:38<04:44,  1.37it/s]\u001b[0m \n",
      " 64%|██████▎   | 680/1068 [08:39<04:43,  1.37it/s]\u001b[0m \n",
      " 64%|██████▍   | 681/1068 [08:40<04:42,  1.37it/s]\u001b[0m \n",
      " 64%|██████▍   | 682/1068 [08:40<04:42,  1.37it/s]\u001b[0m \n",
      " 64%|██████▍   | 683/1068 [08:41<04:41,  1.37it/s]\u001b[0m \n",
      " 64%|██████▍   | 684/1068 [08:42<04:41,  1.36it/s]\u001b[0m \n",
      " 64%|██████▍   | 685/1068 [08:43<04:40,  1.37it/s]\u001b[0m \n",
      " 64%|██████▍   | 686/1068 [08:43<04:39,  1.37it/s]\u001b[0m \n",
      " 64%|██████▍   | 687/1068 [08:44<04:38,  1.37it/s]\u001b[0m \n",
      " 64%|██████▍   | 688/1068 [08:45<04:37,  1.37it/s]\u001b[0m \n",
      " 65%|██████▍   | 689/1068 [08:46<04:37,  1.37it/s]\u001b[0m \n",
      " 65%|██████▍   | 690/1068 [08:46<04:36,  1.37it/s]\u001b[0m \n",
      " 65%|██████▍   | 691/1068 [08:47<04:36,  1.37it/s]\u001b[0m \n",
      " 65%|██████▍   | 692/1068 [08:48<04:35,  1.37it/s]\u001b[0m \n",
      " 65%|██████▍   | 693/1068 [08:49<04:34,  1.37it/s]\u001b[0m \n",
      " 65%|██████▍   | 694/1068 [08:49<04:33,  1.37it/s]\u001b[0m \n",
      " 65%|██████▌   | 695/1068 [08:50<04:32,  1.37it/s]\u001b[0m \n",
      " 65%|██████▌   | 696/1068 [08:51<04:32,  1.37it/s]\u001b[0m \n",
      " 65%|██████▌   | 697/1068 [08:51<04:31,  1.37it/s]\u001b[0m \n",
      " 65%|██████▌   | 698/1068 [08:52<04:30,  1.37it/s]\u001b[0m \n",
      " 65%|██████▌   | 699/1068 [08:53<04:29,  1.37it/s]\u001b[0m \n",
      " 66%|██████▌   | 700/1068 [08:54<04:28,  1.37it/s]\u001b[0m \n",
      " 66%|██████▌   | 701/1068 [08:54<04:27,  1.37it/s]\u001b[0m \n",
      " 66%|██████▌   | 702/1068 [08:55<04:26,  1.37it/s]\u001b[0m \n",
      " 66%|██████▌   | 703/1068 [08:56<04:26,  1.37it/s]\u001b[0m \n",
      " 66%|██████▌   | 704/1068 [08:57<04:25,  1.37it/s]\u001b[0m \n",
      " 66%|██████▌   | 705/1068 [08:57<04:24,  1.37it/s]\u001b[0m \n",
      " 66%|██████▌   | 706/1068 [08:58<04:23,  1.37it/s]\u001b[0m \n",
      " 66%|██████▌   | 707/1068 [08:59<04:23,  1.37it/s]\u001b[0m \n",
      " 66%|██████▋   | 708/1068 [08:59<04:23,  1.37it/s]\u001b[0m \n",
      " 66%|██████▋   | 709/1068 [09:00<04:22,  1.37it/s]\u001b[0m \n",
      " 66%|██████▋   | 710/1068 [09:01<04:22,  1.37it/s]\u001b[0m \n",
      " 67%|██████▋   | 711/1068 [09:02<04:21,  1.37it/s]\u001b[0m \n",
      " 67%|██████▋   | 712/1068 [09:02<04:20,  1.37it/s]\u001b[0m \n",
      " 67%|██████▋   | 713/1068 [09:03<04:19,  1.37it/s]\u001b[0m \n",
      " 67%|██████▋   | 714/1068 [09:04<04:18,  1.37it/s]\u001b[0m \n",
      " 67%|██████▋   | 715/1068 [09:05<04:17,  1.37it/s]\u001b[0m \n",
      " 67%|██████▋   | 716/1068 [09:05<04:17,  1.37it/s]\u001b[0m \n",
      " 67%|██████▋   | 717/1068 [09:06<04:16,  1.37it/s]\u001b[0m \n",
      " 67%|██████▋   | 718/1068 [09:07<04:15,  1.37it/s]\u001b[0m \n",
      " 67%|██████▋   | 719/1068 [09:08<04:15,  1.37it/s]\u001b[0m \n",
      " 67%|██████▋   | 720/1068 [09:08<04:14,  1.37it/s]\u001b[0m \n",
      " 68%|██████▊   | 721/1068 [09:09<04:13,  1.37it/s]\u001b[0m \n",
      " 68%|██████▊   | 722/1068 [09:10<04:13,  1.37it/s]\u001b[0m \n",
      " 68%|██████▊   | 723/1068 [09:10<04:12,  1.37it/s]\u001b[0m \n",
      " 68%|██████▊   | 724/1068 [09:11<04:11,  1.37it/s]\u001b[0m \n",
      " 68%|██████▊   | 725/1068 [09:12<04:10,  1.37it/s]\u001b[0m \n",
      " 68%|██████▊   | 726/1068 [09:13<04:09,  1.37it/s]\u001b[0m \n",
      " 68%|██████▊   | 727/1068 [09:13<04:09,  1.37it/s]\u001b[0m \n",
      " 68%|██████▊   | 728/1068 [09:14<04:08,  1.37it/s]\u001b[0m \n",
      " 68%|██████▊   | 729/1068 [09:15<04:08,  1.37it/s]\u001b[0m \n",
      " 68%|██████▊   | 730/1068 [09:16<04:07,  1.37it/s]\u001b[0m \n",
      " 68%|██████▊   | 731/1068 [09:16<04:06,  1.37it/s]\u001b[0m \n",
      " 69%|██████▊   | 732/1068 [09:17<04:05,  1.37it/s]\u001b[0m \n",
      " 69%|██████▊   | 733/1068 [09:18<04:04,  1.37it/s]\u001b[0m \n",
      " 69%|██████▊   | 734/1068 [09:18<04:03,  1.37it/s]\u001b[0m \n",
      " 69%|██████▉   | 735/1068 [09:19<04:02,  1.37it/s]\u001b[0m \n",
      " 69%|██████▉   | 736/1068 [09:20<04:02,  1.37it/s]\u001b[0m \n",
      " 69%|██████▉   | 737/1068 [09:21<04:01,  1.37it/s]\u001b[0m \n",
      " 69%|██████▉   | 738/1068 [09:21<04:00,  1.37it/s]\u001b[0m \n",
      " 69%|██████▉   | 739/1068 [09:22<04:00,  1.37it/s]\u001b[0m \n",
      " 69%|██████▉   | 740/1068 [09:23<03:59,  1.37it/s]\u001b[0m \n",
      " 69%|██████▉   | 741/1068 [09:24<03:58,  1.37it/s]\u001b[0m \n",
      " 69%|██████▉   | 742/1068 [09:24<03:58,  1.37it/s]\u001b[0m \n",
      " 70%|██████▉   | 743/1068 [09:25<03:57,  1.37it/s]\u001b[0m \n",
      " 70%|██████▉   | 744/1068 [09:26<03:56,  1.37it/s]\u001b[0m \n",
      " 70%|██████▉   | 745/1068 [09:27<03:56,  1.37it/s]\u001b[0m \n",
      " 70%|██████▉   | 746/1068 [09:27<03:55,  1.37it/s]\u001b[0m \n",
      " 70%|██████▉   | 747/1068 [09:28<03:54,  1.37it/s]\u001b[0m \n",
      " 70%|███████   | 748/1068 [09:29<03:53,  1.37it/s]\u001b[0m \n",
      " 70%|███████   | 749/1068 [09:29<03:52,  1.37it/s]\u001b[0m \n",
      " 70%|███████   | 750/1068 [09:30<03:52,  1.37it/s]\u001b[0m \n",
      " 70%|███████   | 751/1068 [09:31<03:51,  1.37it/s]\u001b[0m \n",
      " 70%|███████   | 752/1068 [09:32<03:50,  1.37it/s]\u001b[0m \n",
      " 71%|███████   | 753/1068 [09:32<03:50,  1.37it/s]\u001b[0m \n",
      " 71%|███████   | 754/1068 [09:33<03:49,  1.37it/s]\u001b[0m \n",
      " 71%|███████   | 755/1068 [09:34<03:48,  1.37it/s]\u001b[0m \n",
      " 71%|███████   | 756/1068 [09:35<03:47,  1.37it/s]\u001b[0m \n",
      " 71%|███████   | 757/1068 [09:35<03:46,  1.37it/s]\u001b[0m \n",
      " 71%|███████   | 758/1068 [09:36<03:45,  1.37it/s]\u001b[0m \n",
      " 71%|███████   | 759/1068 [09:37<03:44,  1.37it/s]\u001b[0m \n",
      " 71%|███████   | 760/1068 [09:37<03:44,  1.37it/s]\u001b[0m \n",
      " 71%|███████▏  | 761/1068 [09:38<03:43,  1.37it/s]\u001b[0m \n",
      " 71%|███████▏  | 762/1068 [09:39<03:43,  1.37it/s]\u001b[0m \n",
      " 71%|███████▏  | 763/1068 [09:40<03:42,  1.37it/s]\u001b[0m \n",
      " 72%|███████▏  | 764/1068 [09:40<03:41,  1.37it/s]\u001b[0m \n",
      " 72%|███████▏  | 765/1068 [09:41<03:40,  1.37it/s]\u001b[0m \n",
      " 72%|███████▏  | 766/1068 [09:42<03:40,  1.37it/s]\u001b[0m \n",
      " 72%|███████▏  | 767/1068 [09:43<03:39,  1.37it/s]\u001b[0m \n",
      " 72%|███████▏  | 768/1068 [09:43<03:39,  1.37it/s]\u001b[0m \n",
      " 72%|███████▏  | 769/1068 [09:44<03:38,  1.37it/s]\u001b[0m \n",
      " 72%|███████▏  | 770/1068 [09:45<03:37,  1.37it/s]\u001b[0m \n",
      " 72%|███████▏  | 771/1068 [09:46<03:36,  1.37it/s]\u001b[0m \n",
      " 72%|███████▏  | 772/1068 [09:46<03:36,  1.37it/s]\u001b[0m \n",
      " 72%|███████▏  | 773/1068 [09:47<03:35,  1.37it/s]\u001b[0m \n",
      " 72%|███████▏  | 774/1068 [09:48<03:34,  1.37it/s]\u001b[0m \n",
      " 73%|███████▎  | 775/1068 [09:48<03:33,  1.37it/s]\u001b[0m \n",
      " 73%|███████▎  | 776/1068 [09:49<03:32,  1.37it/s]\u001b[0m \n",
      " 73%|███████▎  | 777/1068 [09:50<03:32,  1.37it/s]\u001b[0m \n",
      " 73%|███████▎  | 778/1068 [09:51<03:31,  1.37it/s]\u001b[0m \n",
      " 73%|███████▎  | 779/1068 [09:51<03:30,  1.37it/s]\u001b[0m \n",
      " 73%|███████▎  | 780/1068 [09:52<03:30,  1.37it/s]\u001b[0m \n",
      " 73%|███████▎  | 781/1068 [09:53<03:29,  1.37it/s]\u001b[0m \n",
      " 73%|███████▎  | 782/1068 [09:54<03:29,  1.37it/s]\u001b[0m \n",
      " 73%|███████▎  | 783/1068 [09:54<03:28,  1.37it/s]\u001b[0m \n",
      " 73%|███████▎  | 784/1068 [09:55<03:27,  1.37it/s]\u001b[0m \n",
      " 74%|███████▎  | 785/1068 [09:56<03:26,  1.37it/s]\u001b[0m \n",
      " 74%|███████▎  | 786/1068 [09:56<03:25,  1.37it/s]\u001b[0m \n",
      " 74%|███████▎  | 787/1068 [09:57<03:25,  1.37it/s]\u001b[0m \n",
      " 74%|███████▍  | 788/1068 [09:58<03:23,  1.37it/s]\u001b[0m \n",
      " 74%|███████▍  | 789/1068 [09:59<03:23,  1.37it/s]\u001b[0m \n",
      " 74%|███████▍  | 790/1068 [09:59<03:22,  1.37it/s]\u001b[0m \n",
      " 74%|███████▍  | 791/1068 [10:00<03:22,  1.37it/s]\u001b[0m \n",
      " 74%|███████▍  | 792/1068 [10:01<03:21,  1.37it/s]\u001b[0m \n",
      " 74%|███████▍  | 793/1068 [10:02<03:21,  1.37it/s]\u001b[0m \n",
      " 74%|███████▍  | 794/1068 [10:02<03:20,  1.37it/s]\u001b[0m \n",
      " 74%|███████▍  | 795/1068 [10:03<03:19,  1.37it/s]\u001b[0m \n",
      " 75%|███████▍  | 796/1068 [10:04<03:18,  1.37it/s]\u001b[0m \n",
      " 75%|███████▍  | 797/1068 [10:04<03:17,  1.37it/s]\u001b[0m \n",
      " 75%|███████▍  | 798/1068 [10:05<03:17,  1.37it/s]\u001b[0m \n",
      " 75%|███████▍  | 799/1068 [10:06<03:16,  1.37it/s]\u001b[0m \n",
      " 75%|███████▍  | 800/1068 [10:07<03:15,  1.37it/s]\u001b[0m \n",
      " 75%|███████▌  | 801/1068 [10:07<03:15,  1.37it/s]\u001b[0m \n",
      " 75%|███████▌  | 802/1068 [10:08<03:14,  1.37it/s]\u001b[0m \n",
      " 75%|███████▌  | 803/1068 [10:09<03:13,  1.37it/s]\u001b[0m \n",
      " 75%|███████▌  | 804/1068 [10:10<03:12,  1.37it/s]\u001b[0m \n",
      " 75%|███████▌  | 805/1068 [10:10<03:12,  1.37it/s]\u001b[0m \n",
      " 75%|███████▌  | 806/1068 [10:11<03:11,  1.37it/s]\u001b[0m \n",
      " 76%|███████▌  | 807/1068 [10:12<03:10,  1.37it/s]\u001b[0m \n",
      " 76%|███████▌  | 808/1068 [10:13<03:10,  1.37it/s]\u001b[0m \n",
      " 76%|███████▌  | 809/1068 [10:13<03:09,  1.37it/s]\u001b[0m \n",
      " 76%|███████▌  | 810/1068 [10:14<03:08,  1.37it/s]\u001b[0m \n",
      " 76%|███████▌  | 811/1068 [10:15<03:07,  1.37it/s]\u001b[0m \n",
      " 76%|███████▌  | 812/1068 [10:15<03:06,  1.37it/s]\u001b[0m \n",
      " 76%|███████▌  | 813/1068 [10:16<03:06,  1.37it/s]\u001b[0m \n",
      " 76%|███████▌  | 814/1068 [10:17<03:05,  1.37it/s]\u001b[0m \n",
      " 76%|███████▋  | 815/1068 [10:18<03:04,  1.37it/s]\u001b[0m \n",
      " 76%|███████▋  | 816/1068 [10:18<03:03,  1.37it/s]\u001b[0m \n",
      " 76%|███████▋  | 817/1068 [10:19<03:03,  1.37it/s]\u001b[0m \n",
      " 77%|███████▋  | 818/1068 [10:20<03:02,  1.37it/s]\u001b[0m \n",
      " 77%|███████▋  | 819/1068 [10:21<03:01,  1.37it/s]\u001b[0m \n",
      " 77%|███████▋  | 820/1068 [10:21<03:00,  1.37it/s]\u001b[0m \n",
      " 77%|███████▋  | 821/1068 [10:22<03:00,  1.37it/s]\u001b[0m \n",
      " 77%|███████▋  | 822/1068 [10:23<02:59,  1.37it/s]\u001b[0m \n",
      " 77%|███████▋  | 823/1068 [10:23<02:59,  1.37it/s]\u001b[0m \n",
      " 77%|███████▋  | 824/1068 [10:24<02:58,  1.37it/s]\u001b[0m \n",
      " 77%|███████▋  | 825/1068 [10:25<02:57,  1.37it/s]\u001b[0m \n",
      " 77%|███████▋  | 826/1068 [10:26<02:56,  1.37it/s]\u001b[0m \n",
      " 77%|███████▋  | 827/1068 [10:26<02:55,  1.37it/s]\u001b[0m \n",
      " 78%|███████▊  | 828/1068 [10:27<02:55,  1.37it/s]\u001b[0m \n",
      " 78%|███████▊  | 829/1068 [10:28<02:54,  1.37it/s]\u001b[0m \n",
      " 78%|███████▊  | 830/1068 [10:29<02:53,  1.37it/s]\u001b[0m \n",
      " 78%|███████▊  | 831/1068 [10:29<02:52,  1.37it/s]\u001b[0m \n",
      " 78%|███████▊  | 832/1068 [10:30<02:52,  1.37it/s]\u001b[0m \n",
      " 78%|███████▊  | 833/1068 [10:31<02:51,  1.37it/s]\u001b[0m \n",
      " 78%|███████▊  | 834/1068 [10:32<02:50,  1.37it/s]\u001b[0m \n",
      " 78%|███████▊  | 835/1068 [10:32<02:49,  1.37it/s]\u001b[0m \n",
      " 78%|███████▊  | 836/1068 [10:33<02:49,  1.37it/s]\u001b[0m \n",
      " 78%|███████▊  | 837/1068 [10:34<02:48,  1.37it/s]\u001b[0m \n",
      " 78%|███████▊  | 838/1068 [10:34<02:47,  1.37it/s]\u001b[0m \n",
      " 79%|███████▊  | 839/1068 [10:35<02:47,  1.37it/s]\u001b[0m \n",
      " 79%|███████▊  | 840/1068 [10:36<02:46,  1.37it/s]\u001b[0m \n",
      " 79%|███████▊  | 841/1068 [10:37<02:45,  1.37it/s]\u001b[0m \n",
      " 79%|███████▉  | 842/1068 [10:37<02:44,  1.37it/s]\u001b[0m \n",
      " 79%|███████▉  | 843/1068 [10:38<02:44,  1.37it/s]\u001b[0m \n",
      " 79%|███████▉  | 844/1068 [10:39<02:43,  1.37it/s]\u001b[0m \n",
      " 79%|███████▉  | 845/1068 [10:40<02:42,  1.37it/s]\u001b[0m \n",
      " 79%|███████▉  | 846/1068 [10:40<02:41,  1.37it/s]\u001b[0m \n",
      " 79%|███████▉  | 847/1068 [10:41<02:41,  1.37it/s]\u001b[0m \n",
      " 79%|███████▉  | 848/1068 [10:42<02:40,  1.37it/s]\u001b[0m \n",
      " 79%|███████▉  | 849/1068 [10:42<02:39,  1.37it/s]\u001b[0m \n",
      " 80%|███████▉  | 850/1068 [10:43<02:39,  1.37it/s]\u001b[0m \n",
      " 80%|███████▉  | 851/1068 [10:44<02:38,  1.37it/s]\u001b[0m \n",
      " 80%|███████▉  | 852/1068 [10:45<02:37,  1.37it/s]\u001b[0m \n",
      " 80%|███████▉  | 853/1068 [10:45<02:36,  1.37it/s]\u001b[0m \n",
      " 80%|███████▉  | 854/1068 [10:46<02:36,  1.37it/s]\u001b[0m \n",
      " 80%|████████  | 855/1068 [10:47<02:35,  1.37it/s]\u001b[0m \n",
      " 80%|████████  | 856/1068 [10:48<02:34,  1.37it/s]\u001b[0m \n",
      " 80%|████████  | 857/1068 [10:48<02:33,  1.37it/s]\u001b[0m \n",
      " 80%|████████  | 858/1068 [10:49<02:33,  1.37it/s]\u001b[0m \n",
      " 80%|████████  | 859/1068 [10:50<02:32,  1.37it/s]\u001b[0m \n",
      " 81%|████████  | 860/1068 [10:50<02:31,  1.37it/s]\u001b[0m \n",
      " 81%|████████  | 861/1068 [10:51<02:30,  1.37it/s]\u001b[0m \n",
      " 81%|████████  | 862/1068 [10:52<02:30,  1.37it/s]\u001b[0m \n",
      " 81%|████████  | 863/1068 [10:53<02:29,  1.37it/s]\u001b[0m \n",
      " 81%|████████  | 864/1068 [10:53<02:28,  1.37it/s]\u001b[0m \n",
      " 81%|████████  | 865/1068 [10:54<02:27,  1.37it/s]\u001b[0m \n",
      " 81%|████████  | 866/1068 [10:55<02:27,  1.37it/s]\u001b[0m \n",
      " 81%|████████  | 867/1068 [10:56<02:26,  1.37it/s]\u001b[0m \n",
      " 81%|████████▏ | 868/1068 [10:56<02:25,  1.37it/s]\u001b[0m \n",
      " 81%|████████▏ | 869/1068 [10:57<02:24,  1.37it/s]\u001b[0m \n",
      " 81%|████████▏ | 870/1068 [10:58<02:24,  1.37it/s]\u001b[0m \n",
      " 82%|████████▏ | 871/1068 [10:59<02:23,  1.37it/s]\u001b[0m \n",
      " 82%|████████▏ | 872/1068 [10:59<02:22,  1.37it/s]\u001b[0m \n",
      " 82%|████████▏ | 873/1068 [11:00<02:22,  1.37it/s]\u001b[0m \n",
      " 82%|████████▏ | 874/1068 [11:01<02:21,  1.37it/s]\u001b[0m \n",
      " 82%|████████▏ | 875/1068 [11:01<02:20,  1.37it/s]\u001b[0m \n",
      " 82%|████████▏ | 876/1068 [11:02<02:19,  1.37it/s]\u001b[0m \n",
      " 82%|████████▏ | 877/1068 [11:03<02:19,  1.37it/s]\u001b[0m \n",
      " 82%|████████▏ | 878/1068 [11:04<02:18,  1.37it/s]\u001b[0m \n",
      " 82%|████████▏ | 879/1068 [11:04<02:17,  1.37it/s]\u001b[0m \n",
      " 82%|████████▏ | 880/1068 [11:05<02:17,  1.37it/s]\u001b[0m \n",
      " 82%|████████▏ | 881/1068 [11:06<02:16,  1.37it/s]\u001b[0m \n",
      " 83%|████████▎ | 882/1068 [11:07<02:15,  1.37it/s]\u001b[0m \n",
      " 83%|████████▎ | 883/1068 [11:07<02:14,  1.37it/s]\u001b[0m \n",
      " 83%|████████▎ | 884/1068 [11:08<02:14,  1.37it/s]\u001b[0m \n",
      " 83%|████████▎ | 885/1068 [11:09<02:13,  1.37it/s]\u001b[0m \n",
      " 83%|████████▎ | 886/1068 [11:09<02:12,  1.37it/s]\u001b[0m \n",
      " 83%|████████▎ | 887/1068 [11:10<02:11,  1.37it/s]\u001b[0m \n",
      " 83%|████████▎ | 888/1068 [11:11<02:11,  1.37it/s]\u001b[0m \n",
      " 83%|████████▎ | 889/1068 [11:12<02:10,  1.37it/s]\u001b[0m \n",
      " 83%|████████▎ | 890/1068 [11:12<02:09,  1.37it/s]\u001b[0m \n",
      " 83%|████████▎ | 891/1068 [11:13<02:08,  1.37it/s]\u001b[0m \n",
      " 84%|████████▎ | 892/1068 [11:14<02:08,  1.37it/s]\u001b[0m \n",
      " 84%|████████▎ | 893/1068 [11:15<02:07,  1.37it/s]\u001b[0m \n",
      " 84%|████████▎ | 894/1068 [11:15<02:06,  1.37it/s]\u001b[0m \n",
      " 84%|████████▍ | 895/1068 [11:16<02:06,  1.37it/s]\u001b[0m \n",
      " 84%|████████▍ | 896/1068 [11:17<02:05,  1.37it/s]\u001b[0m \n",
      " 84%|████████▍ | 897/1068 [11:17<02:04,  1.37it/s]\u001b[0m \n",
      " 84%|████████▍ | 898/1068 [11:18<02:03,  1.37it/s]\u001b[0m \n",
      " 84%|████████▍ | 899/1068 [11:19<02:03,  1.37it/s]\u001b[0m \n",
      " 84%|████████▍ | 900/1068 [11:20<02:02,  1.37it/s]\u001b[0m \n",
      " 84%|████████▍ | 901/1068 [11:20<02:01,  1.37it/s]\u001b[0m \n",
      " 84%|████████▍ | 902/1068 [11:21<02:01,  1.37it/s]\u001b[0m \n"
     ]
    },
    {
     "name": "stdout",
     "output_type": "stream",
     "text": [
      "\u001b[2m\u001b[1m\u001b[36m(autoscaler +11m56s)\u001b[0m [workspace snapshot] New snapshot created successfully (size: 237.58 KB).\n"
     ]
    },
    {
     "name": "stderr",
     "output_type": "stream",
     "text": [
      " 85%|████████▍ | 903/1068 [11:22<02:00,  1.37it/s]\u001b[0m \n",
      " 85%|████████▍ | 904/1068 [11:23<01:59,  1.37it/s]\u001b[0m \n",
      " 85%|████████▍ | 905/1068 [11:23<01:58,  1.37it/s]\u001b[0m \n",
      " 85%|████████▍ | 906/1068 [11:24<01:58,  1.37it/s]\u001b[0m \n",
      " 85%|████████▍ | 907/1068 [11:25<01:57,  1.37it/s]\u001b[0m \n",
      " 85%|████████▌ | 908/1068 [11:25<01:56,  1.37it/s]\u001b[0m \n",
      " 85%|████████▌ | 909/1068 [11:26<01:55,  1.37it/s]\u001b[0m \n",
      " 85%|████████▌ | 910/1068 [11:27<01:55,  1.37it/s]\u001b[0m \n",
      " 85%|████████▌ | 911/1068 [11:28<01:54,  1.37it/s]\u001b[0m \n",
      " 85%|████████▌ | 912/1068 [11:28<01:53,  1.37it/s]\u001b[0m \n",
      " 85%|████████▌ | 913/1068 [11:29<01:53,  1.37it/s]\u001b[0m \n",
      " 86%|████████▌ | 914/1068 [11:30<01:52,  1.37it/s]\u001b[0m \n",
      " 86%|████████▌ | 915/1068 [11:31<01:51,  1.37it/s]\u001b[0m \n",
      " 86%|████████▌ | 916/1068 [11:31<01:50,  1.37it/s]\u001b[0m \n",
      " 86%|████████▌ | 917/1068 [11:32<01:49,  1.37it/s]\u001b[0m \n",
      " 86%|████████▌ | 918/1068 [11:33<01:49,  1.37it/s]\u001b[0m \n",
      " 86%|████████▌ | 919/1068 [11:33<01:48,  1.37it/s]\u001b[0m \n",
      " 86%|████████▌ | 920/1068 [11:34<01:47,  1.37it/s]\u001b[0m \n",
      " 86%|████████▌ | 921/1068 [11:35<01:47,  1.37it/s]\u001b[0m \n",
      " 86%|████████▋ | 922/1068 [11:36<01:46,  1.37it/s]\u001b[0m \n",
      " 86%|████████▋ | 923/1068 [11:36<01:45,  1.37it/s]\u001b[0m \n",
      " 87%|████████▋ | 924/1068 [11:37<01:45,  1.37it/s]\u001b[0m \n",
      " 87%|████████▋ | 925/1068 [11:38<01:44,  1.37it/s]\u001b[0m \n",
      " 87%|████████▋ | 926/1068 [11:39<01:43,  1.37it/s]\u001b[0m \n",
      " 87%|████████▋ | 927/1068 [11:39<01:42,  1.37it/s]\u001b[0m \n",
      " 87%|████████▋ | 928/1068 [11:40<01:42,  1.37it/s]\u001b[0m \n",
      " 87%|████████▋ | 929/1068 [11:41<01:41,  1.37it/s]\u001b[0m \n",
      " 87%|████████▋ | 930/1068 [11:42<01:40,  1.37it/s]\u001b[0m \n",
      " 87%|████████▋ | 931/1068 [11:42<01:39,  1.37it/s]\u001b[0m \n",
      " 87%|████████▋ | 932/1068 [11:43<01:39,  1.37it/s]\u001b[0m \n",
      " 87%|████████▋ | 933/1068 [11:44<01:38,  1.37it/s]\u001b[0m \n",
      " 87%|████████▋ | 934/1068 [11:44<01:37,  1.37it/s]\u001b[0m \n",
      " 88%|████████▊ | 935/1068 [11:45<01:37,  1.37it/s]\u001b[0m \n",
      " 88%|████████▊ | 936/1068 [11:46<01:36,  1.37it/s]\u001b[0m \n",
      " 88%|████████▊ | 937/1068 [11:47<01:35,  1.37it/s]\u001b[0m \n",
      " 88%|████████▊ | 938/1068 [11:47<01:34,  1.37it/s]\u001b[0m \n",
      " 88%|████████▊ | 939/1068 [11:48<01:34,  1.37it/s]\u001b[0m \n",
      " 88%|████████▊ | 940/1068 [11:49<01:33,  1.37it/s]\u001b[0m \n",
      " 88%|████████▊ | 941/1068 [11:50<01:32,  1.38it/s]\u001b[0m \n",
      " 88%|████████▊ | 942/1068 [11:50<01:31,  1.38it/s]\u001b[0m \n",
      " 88%|████████▊ | 943/1068 [11:51<01:30,  1.39it/s]\u001b[0m \n",
      " 88%|████████▊ | 944/1068 [11:52<01:29,  1.39it/s]\u001b[0m \n",
      " 88%|████████▊ | 945/1068 [11:52<01:28,  1.40it/s]\u001b[0m \n",
      " 89%|████████▊ | 946/1068 [11:53<01:27,  1.40it/s]\u001b[0m \n",
      " 89%|████████▊ | 947/1068 [11:54<01:26,  1.40it/s]\u001b[0m \n",
      " 89%|████████▉ | 948/1068 [11:55<01:25,  1.40it/s]\u001b[0m \n",
      " 89%|████████▉ | 949/1068 [11:55<01:24,  1.41it/s]\u001b[0m \n",
      " 89%|████████▉ | 950/1068 [11:56<01:23,  1.41it/s]\u001b[0m \n",
      " 89%|████████▉ | 951/1068 [11:57<01:22,  1.42it/s]\u001b[0m \n",
      " 89%|████████▉ | 952/1068 [11:57<01:21,  1.42it/s]\u001b[0m \n",
      " 89%|████████▉ | 953/1068 [11:58<01:20,  1.42it/s]\u001b[0m \n",
      " 89%|████████▉ | 954/1068 [11:59<01:20,  1.42it/s]\u001b[0m \n",
      " 89%|████████▉ | 955/1068 [11:59<01:19,  1.42it/s]\u001b[0m \n",
      " 90%|████████▉ | 956/1068 [12:00<01:18,  1.43it/s]\u001b[0m \n",
      " 90%|████████▉ | 957/1068 [12:01<01:17,  1.43it/s]\u001b[0m \n",
      " 90%|████████▉ | 958/1068 [12:02<01:16,  1.43it/s]\u001b[0m \n",
      " 90%|████████▉ | 959/1068 [12:02<01:16,  1.43it/s]\u001b[0m \n",
      " 90%|████████▉ | 960/1068 [12:03<01:15,  1.43it/s]\u001b[0m \n",
      " 90%|████████▉ | 961/1068 [12:04<01:14,  1.43it/s]\u001b[0m \n",
      " 90%|█████████ | 962/1068 [12:04<01:13,  1.44it/s]\u001b[0m \n",
      " 90%|█████████ | 963/1068 [12:05<01:12,  1.44it/s]\u001b[0m \n",
      " 90%|█████████ | 964/1068 [12:06<01:12,  1.44it/s]\u001b[0m \n",
      " 90%|█████████ | 965/1068 [12:06<01:11,  1.45it/s]\u001b[0m \n",
      " 90%|█████████ | 966/1068 [12:07<01:10,  1.45it/s]\u001b[0m \n",
      " 91%|█████████ | 967/1068 [12:08<01:09,  1.45it/s]\u001b[0m \n",
      " 91%|█████████ | 968/1068 [12:08<01:08,  1.45it/s]\u001b[0m \n",
      " 91%|█████████ | 969/1068 [12:09<01:08,  1.46it/s]\u001b[0m \n",
      " 91%|█████████ | 970/1068 [12:10<01:07,  1.45it/s]\u001b[0m \n",
      " 91%|█████████ | 971/1068 [12:10<01:06,  1.45it/s]\u001b[0m \n",
      " 91%|█████████ | 972/1068 [12:11<01:05,  1.46it/s]\u001b[0m \n",
      " 91%|█████████ | 973/1068 [12:12<01:05,  1.46it/s]\u001b[0m \n",
      " 91%|█████████ | 974/1068 [12:13<01:04,  1.46it/s]\u001b[0m \n",
      " 91%|█████████▏| 975/1068 [12:13<01:03,  1.46it/s]\u001b[0m \n",
      " 91%|█████████▏| 976/1068 [12:14<01:02,  1.46it/s]\u001b[0m \n",
      " 91%|█████████▏| 977/1068 [12:15<01:02,  1.47it/s]\u001b[0m \n",
      " 92%|█████████▏| 978/1068 [12:15<01:01,  1.47it/s]\u001b[0m \n",
      " 92%|█████████▏| 979/1068 [12:16<01:00,  1.46it/s]\u001b[0m \n",
      " 92%|█████████▏| 980/1068 [12:17<00:59,  1.47it/s]\u001b[0m \n",
      " 92%|█████████▏| 981/1068 [12:17<00:59,  1.47it/s]\u001b[0m \n",
      " 92%|█████████▏| 982/1068 [12:18<00:58,  1.47it/s]\u001b[0m \n",
      " 92%|█████████▏| 983/1068 [12:19<00:57,  1.47it/s]\u001b[0m \n",
      " 92%|█████████▏| 984/1068 [12:19<00:57,  1.47it/s]\u001b[0m \n",
      " 92%|█████████▏| 985/1068 [12:20<00:56,  1.47it/s]\u001b[0m \n",
      " 92%|█████████▏| 986/1068 [12:21<00:55,  1.47it/s]\u001b[0m \n",
      " 92%|█████████▏| 987/1068 [12:21<00:54,  1.47it/s]\u001b[0m \n",
      " 93%|█████████▎| 988/1068 [12:22<00:54,  1.48it/s]\u001b[0m \n",
      " 93%|█████████▎| 989/1068 [12:23<00:53,  1.48it/s]\u001b[0m \n",
      " 93%|█████████▎| 990/1068 [12:23<00:52,  1.48it/s]\u001b[0m \n",
      " 93%|█████████▎| 991/1068 [12:24<00:52,  1.48it/s]\u001b[0m \n",
      " 93%|█████████▎| 992/1068 [12:25<00:51,  1.48it/s]\u001b[0m \n",
      " 93%|█████████▎| 993/1068 [12:25<00:50,  1.48it/s]\u001b[0m \n",
      " 93%|█████████▎| 994/1068 [12:26<00:50,  1.48it/s]\u001b[0m \n",
      " 93%|█████████▎| 995/1068 [12:27<00:49,  1.48it/s]\u001b[0m \n",
      " 93%|█████████▎| 996/1068 [12:27<00:48,  1.47it/s]\u001b[0m \n",
      " 93%|█████████▎| 997/1068 [12:28<00:48,  1.48it/s]\u001b[0m \n",
      " 93%|█████████▎| 998/1068 [12:29<00:47,  1.48it/s]\u001b[0m \n",
      " 94%|█████████▎| 999/1068 [12:30<00:46,  1.48it/s]\u001b[0m \n",
      " 94%|█████████▎| 1000/1068 [12:30<00:46,  1.48it/s][0m \n",
      " 94%|█████████▎| 1001/1068 [12:31<00:45,  1.48it/s][0m \n",
      " 94%|█████████▍| 1002/1068 [12:32<00:44,  1.48it/s][0m \n",
      " 94%|█████████▍| 1003/1068 [12:32<00:43,  1.48it/s][0m \n",
      " 94%|█████████▍| 1004/1068 [12:33<00:43,  1.48it/s][0m \n",
      " 94%|█████████▍| 1005/1068 [12:34<00:42,  1.48it/s][0m \n",
      " 94%|█████████▍| 1006/1068 [12:34<00:41,  1.48it/s][0m \n",
      " 94%|█████████▍| 1007/1068 [12:35<00:41,  1.48it/s][0m \n",
      " 94%|█████████▍| 1008/1068 [12:36<00:40,  1.48it/s][0m \n",
      " 94%|█████████▍| 1009/1068 [12:36<00:39,  1.49it/s][0m \n",
      " 95%|█████████▍| 1010/1068 [12:37<00:39,  1.48it/s][0m \n",
      " 95%|█████████▍| 1011/1068 [12:38<00:38,  1.49it/s][0m \n",
      " 95%|█████████▍| 1012/1068 [12:38<00:37,  1.49it/s][0m \n",
      " 95%|█████████▍| 1013/1068 [12:39<00:37,  1.48it/s][0m \n",
      " 95%|█████████▍| 1014/1068 [12:40<00:36,  1.48it/s][0m \n",
      " 95%|█████████▌| 1015/1068 [12:40<00:35,  1.49it/s][0m \n",
      " 95%|█████████▌| 1016/1068 [12:41<00:34,  1.49it/s][0m \n",
      " 95%|█████████▌| 1017/1068 [12:42<00:34,  1.49it/s][0m \n",
      " 95%|█████████▌| 1018/1068 [12:42<00:33,  1.49it/s][0m \n",
      " 95%|█████████▌| 1019/1068 [12:43<00:32,  1.49it/s][0m \n",
      " 96%|█████████▌| 1020/1068 [12:44<00:32,  1.49it/s][0m \n",
      " 96%|█████████▌| 1021/1068 [12:44<00:31,  1.49it/s][0m \n",
      " 96%|█████████▌| 1022/1068 [12:45<00:30,  1.49it/s][0m \n",
      " 96%|█████████▌| 1023/1068 [12:46<00:30,  1.49it/s][0m \n",
      " 96%|█████████▌| 1024/1068 [12:46<00:29,  1.49it/s][0m \n",
      " 96%|█████████▌| 1025/1068 [12:47<00:28,  1.49it/s][0m \n",
      " 96%|█████████▌| 1026/1068 [12:48<00:28,  1.49it/s][0m \n",
      " 96%|█████████▌| 1027/1068 [12:48<00:27,  1.50it/s][0m \n",
      " 96%|█████████▋| 1028/1068 [12:49<00:26,  1.49it/s][0m \n",
      " 96%|█████████▋| 1029/1068 [12:50<00:26,  1.49it/s][0m \n",
      " 96%|█████████▋| 1030/1068 [12:50<00:25,  1.49it/s][0m \n",
      " 97%|█████████▋| 1031/1068 [12:51<00:24,  1.49it/s][0m \n",
      " 97%|█████████▋| 1032/1068 [12:52<00:24,  1.49it/s][0m \n",
      " 97%|█████████▋| 1033/1068 [12:52<00:23,  1.49it/s][0m \n",
      " 97%|█████████▋| 1034/1068 [12:53<00:22,  1.49it/s][0m \n",
      " 97%|█████████▋| 1035/1068 [12:54<00:22,  1.49it/s][0m \n",
      " 97%|█████████▋| 1036/1068 [12:54<00:21,  1.49it/s][0m \n",
      " 97%|█████████▋| 1037/1068 [12:55<00:20,  1.49it/s][0m \n",
      " 97%|█████████▋| 1038/1068 [12:56<00:20,  1.49it/s][0m \n",
      " 97%|█████████▋| 1039/1068 [12:56<00:19,  1.49it/s][0m \n",
      " 97%|█████████▋| 1040/1068 [12:57<00:18,  1.49it/s][0m \n",
      " 97%|█████████▋| 1041/1068 [12:58<00:18,  1.49it/s][0m \n",
      " 98%|█████████▊| 1042/1068 [12:58<00:17,  1.49it/s][0m \n",
      " 98%|█████████▊| 1043/1068 [12:59<00:16,  1.50it/s][0m \n",
      " 98%|█████████▊| 1044/1068 [13:00<00:16,  1.50it/s][0m \n",
      " 98%|█████████▊| 1045/1068 [13:00<00:15,  1.49it/s][0m \n",
      " 98%|█████████▊| 1046/1068 [13:01<00:14,  1.49it/s][0m \n",
      " 98%|█████████▊| 1047/1068 [13:02<00:14,  1.49it/s][0m \n",
      " 98%|█████████▊| 1048/1068 [13:02<00:13,  1.49it/s][0m \n",
      " 98%|█████████▊| 1049/1068 [13:03<00:12,  1.50it/s][0m \n",
      " 98%|█████████▊| 1050/1068 [13:04<00:12,  1.50it/s][0m \n",
      " 98%|█████████▊| 1051/1068 [13:04<00:11,  1.50it/s][0m \n",
      " 99%|█████████▊| 1052/1068 [13:05<00:10,  1.50it/s][0m \n",
      " 99%|█████████▊| 1053/1068 [13:06<00:10,  1.50it/s][0m \n",
      " 99%|█████████▊| 1054/1068 [13:06<00:09,  1.50it/s][0m \n",
      " 99%|█████████▉| 1055/1068 [13:07<00:08,  1.50it/s][0m \n",
      " 99%|█████████▉| 1056/1068 [13:08<00:08,  1.50it/s][0m \n",
      " 99%|█████████▉| 1057/1068 [13:08<00:07,  1.50it/s][0m \n",
      " 99%|█████████▉| 1058/1068 [13:09<00:06,  1.50it/s][0m \n",
      " 99%|█████████▉| 1059/1068 [13:10<00:06,  1.50it/s][0m \n",
      " 99%|█████████▉| 1060/1068 [13:10<00:05,  1.50it/s][0m \n",
      " 99%|█████████▉| 1061/1068 [13:11<00:04,  1.50it/s][0m \n",
      " 99%|█████████▉| 1062/1068 [13:12<00:04,  1.50it/s][0m \n",
      "100%|█████████▉| 1063/1068 [13:12<00:03,  1.50it/s][0m \n",
      "100%|█████████▉| 1064/1068 [13:13<00:02,  1.50it/s][0m \n",
      "100%|█████████▉| 1065/1068 [13:14<00:02,  1.50it/s][0m \n",
      "100%|█████████▉| 1066/1068 [13:14<00:01,  1.50it/s][0m \n",
      "100%|█████████▉| 1067/1068 [13:15<00:00,  1.50it/s][0m \n"
     ]
    },
    {
     "name": "stdout",
     "output_type": "stream",
     "text": [
      "\u001b[2m\u001b[36m(RayTrainWorker pid=15887, ip=10.0.24.75)\u001b[0m {'loss': 0.3826, 'learning_rate': 0.0, 'epoch': 1.5}\n"
     ]
    },
    {
     "name": "stderr",
     "output_type": "stream",
     "text": [
      "100%|██████████| 1068/1068 [13:16<00:00,  1.50it/s]***** Running Evaluation *****\n",
      "\u001b[2m\u001b[36m(RayTrainWorker pid=15887, ip=10.0.24.75)\u001b[0m   Num examples: Unknown\n",
      "\u001b[2m\u001b[36m(RayTrainWorker pid=15887, ip=10.0.24.75)\u001b[0m   Batch size = 16\n",
      "\u001b[2m\u001b[36m(SplitCoordinator pid=15938, ip=10.0.24.75)\u001b[0m Executing DAG InputDataBuffer[Input] -> TaskPoolMapOperator[MapBatches(preprocess_function)] -> OutputSplitter[split(1, equal=True)]\n",
      "\u001b[2m\u001b[36m(SplitCoordinator pid=15938, ip=10.0.24.75)\u001b[0m Execution config: ExecutionOptions(resource_limits=ExecutionResources(cpu=None, gpu=None, object_store_memory=None), locality_with_output=['5aee0b1a098d74ee6df8a92da8e188e116fecac5160742dadbb7507b'], preserve_order=False, actor_locality_enabled=True, verbose_progress=False)\n",
      "\u001b[2m\u001b[36m(SplitCoordinator pid=15938, ip=10.0.24.75)\u001b[0m Tip: For detailed progress reporting, run `ray.data.DataContext.get_current().execution_options.verbose_progress = True`\n"
     ]
    },
    {
     "data": {
      "application/vnd.jupyter.widget-view+json": {
       "model_id": "",
       "version_major": 2,
       "version_minor": 0
      },
      "text/plain": [
       "(pid=15938, ip=10.0.24.75) Running 0:   0%|          | 0/1 [00:00<?, ?it/s]"
      ]
     },
     "metadata": {},
     "output_type": "display_data"
    },
    {
     "name": "stdout",
     "output_type": "stream",
     "text": [
      "\u001b[2m\u001b[36m(RayTrainWorker pid=15887, ip=10.0.24.75)\u001b[0m {'eval_loss': 0.5601133108139038, 'eval_matthews_correlation': 0.4373748188096333, 'eval_runtime': 15.9315, 'eval_samples_per_second': 65.468, 'eval_steps_per_second': 4.143, 'epoch': 1.5}\n"
     ]
    },
    {
     "name": "stderr",
     "output_type": "stream",
     "text": [
      "100%|██████████| 1068/1068 [13:32<00:00,  1.50it/s]Saving model checkpoint to distilbert-base-uncased-finetuned-cola/checkpoint-1068\n",
      "\u001b[2m\u001b[36m(RayTrainWorker pid=15887, ip=10.0.24.75)\u001b[0m Configuration saved in distilbert-base-uncased-finetuned-cola/checkpoint-1068/config.json\n",
      "\u001b[2m\u001b[36m(RayTrainWorker pid=15887, ip=10.0.24.75)\u001b[0m Model weights saved in distilbert-base-uncased-finetuned-cola/checkpoint-1068/pytorch_model.bin\n",
      "\u001b[2m\u001b[36m(RayTrainWorker pid=15887, ip=10.0.24.75)\u001b[0m tokenizer config file saved in distilbert-base-uncased-finetuned-cola/checkpoint-1068/tokenizer_config.json\n",
      "\u001b[2m\u001b[36m(RayTrainWorker pid=15887, ip=10.0.24.75)\u001b[0m Special tokens file saved in distilbert-base-uncased-finetuned-cola/checkpoint-1068/special_tokens_map.json\n"
     ]
    },
    {
     "name": "stdout",
     "output_type": "stream",
     "text": [
      "\u001b[2m\u001b[36m(RayTrainWorker pid=15887, ip=10.0.24.75)\u001b[0m {'train_runtime': 818.7099, 'train_samples_per_second': 20.872, 'train_steps_per_second': 1.304, 'train_loss': 0.46155189485585646, 'epoch': 1.5}\n"
     ]
    },
    {
     "name": "stderr",
     "output_type": "stream",
     "text": [
      "\u001b[2m\u001b[36m(RayTrainWorker pid=15887, ip=10.0.24.75)\u001b[0m Checkpoint successfully created at: Checkpoint(filesystem=local, path=/mnt/cluster_storage/ray_results/TorchTrainer_2023-09-05_16-10-01/TorchTrainer_56f64_00000_0_2023-09-05_16-10-01/checkpoint_000001)\n",
      "\u001b[2m\u001b[36m(RayTrainWorker pid=15887, ip=10.0.24.75)\u001b[0m \n",
      "\u001b[2m\u001b[36m(RayTrainWorker pid=15887, ip=10.0.24.75)\u001b[0m \n",
      "\u001b[2m\u001b[36m(RayTrainWorker pid=15887, ip=10.0.24.75)\u001b[0m Training completed. Do not forget to share your model on huggingface.co/models =)\n",
      "\u001b[2m\u001b[36m(RayTrainWorker pid=15887, ip=10.0.24.75)\u001b[0m \n",
      "\u001b[2m\u001b[36m(RayTrainWorker pid=15887, ip=10.0.24.75)\u001b[0m \n",
      "100%|██████████| 1068/1068 [13:38<00:00,  1.30it/s][0m \n",
      "2023-09-05 16:24:00,646\tWARNING experiment_state.py:371 -- Experiment checkpoint syncing has been triggered multiple times in the last 30.0 seconds. A sync will be triggered whenever a trial has checkpointed more than `num_to_keep` times since last sync or if 300 seconds have passed since last sync. If you have set `num_to_keep` in your `CheckpointConfig`, consider increasing the checkpoint frequency or keeping more checkpoints. You can supress this warning by changing the `TUNE_WARN_EXCESSIVE_EXPERIMENT_CHECKPOINT_SYNC_THRESHOLD_S` environment variable.\n",
      "2023-09-05 16:24:00,650\tINFO tune.py:1154 -- Total run time: 839.61 seconds (839.19 seconds for the tuning loop).\n"
     ]
    }
   ],
   "source": [
    "result = trainer.fit()"
   ]
  },
  {
   "cell_type": "markdown",
   "metadata": {
    "id": "4cnWqUWmhYba"
   },
   "source": [
    "You can use the returned `Result` object to access metrics and the Ray Train `Checkpoint` associated with the last iteration."
   ]
  },
  {
   "cell_type": "code",
   "execution_count": 17,
   "metadata": {
    "colab": {
     "base_uri": "https://localhost:8080/"
    },
    "id": "AMN5qjUwhYba",
    "outputId": "7b754c36-c58b-4ff4-d7a8-63ec9764bd0c"
   },
   "outputs": [
    {
     "data": {
      "text/plain": [
       "Result(\n",
       "  metrics={'loss': 0.3826, 'learning_rate': 0.0, 'epoch': 1.5, 'step': 1068, 'eval_loss': 0.5601133108139038, 'eval_matthews_correlation': 0.4373748188096333, 'eval_runtime': 15.9315, 'eval_samples_per_second': 65.468, 'eval_steps_per_second': 4.143},\n",
       "  path='/mnt/cluster_storage/ray_results/TorchTrainer_2023-09-05_16-10-01/TorchTrainer_56f64_00000_0_2023-09-05_16-10-01',\n",
       "  filesystem='local',\n",
       "  checkpoint=Checkpoint(filesystem=local, path=/mnt/cluster_storage/ray_results/TorchTrainer_2023-09-05_16-10-01/TorchTrainer_56f64_00000_0_2023-09-05_16-10-01/checkpoint_000001)\n",
       ")"
      ]
     },
     "execution_count": 17,
     "metadata": {},
     "output_type": "execute_result"
    }
   ],
   "source": [
    "result"
   ]
  },
  {
   "cell_type": "markdown",
   "metadata": {},
   "source": [
    "### Tune hyperparameters with Ray Tune <a name=\"predict\"></a>"
   ]
  },
  {
   "cell_type": "markdown",
   "metadata": {},
   "source": [
    "If we would like to tune any hyperparameters of the model, we can do so by simply passing our `TorchTrainer` into a `Tuner` and defining the search space.\n",
    "\n",
    "We can also take advantage of the advanced search algorithms and schedulers provided by Ray Tune. In this example, we will use an `ASHAScheduler` to aggresively terminate underperforming trials."
   ]
  },
  {
   "cell_type": "code",
   "execution_count": 25,
   "metadata": {},
   "outputs": [
    {
     "name": "stderr",
     "output_type": "stream",
     "text": [
      "2023-09-05 16:35:56,242\tINFO tuner_internal.py:508 -- A `RunConfig` was passed to both the `Tuner` and the `TorchTrainer`. The run config passed to the `Tuner` is the one that will be used.\n"
     ]
    }
   ],
   "source": [
    "from ray import tune\n",
    "from ray.tune import Tuner\n",
    "from ray.tune.schedulers.async_hyperband import ASHAScheduler\n",
    "\n",
    "tune_epochs = 4\n",
    "tuner = Tuner(\n",
    "    trainer,\n",
    "    param_space={\n",
    "        \"train_loop_config\": {\n",
    "            \"learning_rate\": tune.grid_search([2e-5, 2e-4, 2e-3, 2e-2]),\n",
    "            \"epochs\": tune_epochs,\n",
    "        }\n",
    "    },\n",
    "    tune_config=tune.TuneConfig(\n",
    "        metric=\"eval_loss\",\n",
    "        mode=\"min\",\n",
    "        num_samples=1,\n",
    "        scheduler=ASHAScheduler(\n",
    "            max_t=tune_epochs,\n",
    "        )\n",
    "    ),\n",
    "    run_config=RunConfig(\n",
    "        name=\"tune_transformers\",\n",
    "        storage_path=\"/mnt/cluster_storage/ray_results\",\n",
    "        checkpoint_config=CheckpointConfig(num_to_keep=1, checkpoint_score_attribute=\"eval_loss\", checkpoint_score_order=\"min\")\n",
    "    ),\n",
    ")"
   ]
  },
  {
   "cell_type": "code",
   "execution_count": 26,
   "metadata": {},
   "outputs": [
    {
     "data": {
      "text/html": [
       "<div class=\"tuneStatus\">\n",
       "  <div style=\"display: flex;flex-direction: row\">\n",
       "    <div style=\"display: flex;flex-direction: column;\">\n",
       "      <h3>Tune Status</h3>\n",
       "      <table>\n",
       "<tbody>\n",
       "<tr><td>Current time:</td><td>2023-09-05 17:02:17</td></tr>\n",
       "<tr><td>Running for: </td><td>00:26:13.42        </td></tr>\n",
       "<tr><td>Memory:      </td><td>8.7/62.0 GiB       </td></tr>\n",
       "</tbody>\n",
       "</table>\n",
       "    </div>\n",
       "    <div class=\"vDivider\"></div>\n",
       "    <div class=\"systemInfo\">\n",
       "      <h3>System Info</h3>\n",
       "      Using AsyncHyperBand: num_stopped=4<br>Bracket: Iter 4.000: -0.7526667714118958 | Iter 1.000: -0.5908832103013992<br>Logical resource usage: 1.0/64 CPUs, 1.0/4 GPUs (0.0/4.0 accelerator_type:None)\n",
       "    </div>\n",
       "    \n",
       "  </div>\n",
       "  <div class=\"hDivider\"></div>\n",
       "  <div class=\"trialStatus\">\n",
       "    <h3>Trial Status</h3>\n",
       "    <table>\n",
       "<thead>\n",
       "<tr><th>Trial name              </th><th>status    </th><th>loc              </th><th style=\"text-align: right;\">       train_loop_config/le\n",
       "arning_rate</th><th style=\"text-align: right;\">  iter</th><th style=\"text-align: right;\">  total time (s)</th><th style=\"text-align: right;\">  loss</th><th style=\"text-align: right;\">  learning_rate</th><th style=\"text-align: right;\">  epoch</th></tr>\n",
       "</thead>\n",
       "<tbody>\n",
       "<tr><td>TorchTrainer_fac06_00000</td><td>TERMINATED</td><td>10.0.19.101:55234</td><td style=\"text-align: right;\">2e-05 </td><td style=\"text-align: right;\">     4</td><td style=\"text-align: right;\">        1537.99 </td><td style=\"text-align: right;\">0.1941</td><td style=\"text-align: right;\">    0          </td><td style=\"text-align: right;\">   3.25</td></tr>\n",
       "<tr><td>TorchTrainer_fac06_00001</td><td>TERMINATED</td><td>10.0.9.214:21972 </td><td style=\"text-align: right;\">0.0002</td><td style=\"text-align: right;\">     1</td><td style=\"text-align: right;\">         400.381</td><td style=\"text-align: right;\">0.6217</td><td style=\"text-align: right;\">    0.000149906</td><td style=\"text-align: right;\">   0.25</td></tr>\n",
       "<tr><td>TorchTrainer_fac06_00002</td><td>TERMINATED</td><td>10.0.42.45:21888 </td><td style=\"text-align: right;\">0.002 </td><td style=\"text-align: right;\">     1</td><td style=\"text-align: right;\">         391.176</td><td style=\"text-align: right;\">0.6488</td><td style=\"text-align: right;\">    0.00149906 </td><td style=\"text-align: right;\">   0.25</td></tr>\n",
       "<tr><td>TorchTrainer_fac06_00003</td><td>TERMINATED</td><td>10.0.24.75:22226 </td><td style=\"text-align: right;\">0.02  </td><td style=\"text-align: right;\">     1</td><td style=\"text-align: right;\">         402.832</td><td style=\"text-align: right;\">1.165 </td><td style=\"text-align: right;\">    0.0149906  </td><td style=\"text-align: right;\">   0.25</td></tr>\n",
       "</tbody>\n",
       "</table>\n",
       "  </div>\n",
       "</div>\n",
       "<style>\n",
       ".tuneStatus {\n",
       "  color: var(--jp-ui-font-color1);\n",
       "}\n",
       ".tuneStatus .systemInfo {\n",
       "  display: flex;\n",
       "  flex-direction: column;\n",
       "}\n",
       ".tuneStatus td {\n",
       "  white-space: nowrap;\n",
       "}\n",
       ".tuneStatus .trialStatus {\n",
       "  display: flex;\n",
       "  flex-direction: column;\n",
       "}\n",
       ".tuneStatus h3 {\n",
       "  font-weight: bold;\n",
       "}\n",
       ".tuneStatus .hDivider {\n",
       "  border-bottom-width: var(--jp-border-width);\n",
       "  border-bottom-color: var(--jp-border-color0);\n",
       "  border-bottom-style: solid;\n",
       "}\n",
       ".tuneStatus .vDivider {\n",
       "  border-left-width: var(--jp-border-width);\n",
       "  border-left-color: var(--jp-border-color0);\n",
       "  border-left-style: solid;\n",
       "  margin: 0.5em 1em 0.5em 1em;\n",
       "}\n",
       "</style>\n"
      ],
      "text/plain": [
       "<IPython.core.display.HTML object>"
      ]
     },
     "metadata": {},
     "output_type": "display_data"
    },
    {
     "name": "stderr",
     "output_type": "stream",
     "text": [
      "\u001b[2m\u001b[36m(TrainTrainable pid=21888, ip=10.0.42.45)\u001b[0m 2023-09-05 16:36:07.866977: I tensorflow/core/platform/cpu_feature_guard.cc:193] This TensorFlow binary is optimized with oneAPI Deep Neural Network Library (oneDNN) to use the following CPU instructions in performance-critical operations:  AVX2 AVX512F AVX512_VNNI FMA\n",
      "\u001b[2m\u001b[36m(TrainTrainable pid=21888, ip=10.0.42.45)\u001b[0m To enable them in other operations, rebuild TensorFlow with the appropriate compiler flags.\n",
      "\u001b[2m\u001b[36m(TrainTrainable pid=21888, ip=10.0.42.45)\u001b[0m 2023-09-05 16:36:08.011580: I tensorflow/core/util/port.cc:104] oneDNN custom operations are on. You may see slightly different numerical results due to floating-point round-off errors from different computation orders. To turn them off, set the environment variable `TF_ENABLE_ONEDNN_OPTS=0`.\n",
      "\u001b[2m\u001b[36m(TrainTrainable pid=21888, ip=10.0.42.45)\u001b[0m 2023-09-05 16:36:08.735652: W tensorflow/compiler/xla/stream_executor/platform/default/dso_loader.cc:64] Could not load dynamic library 'libnvinfer.so.7'; dlerror: libnvinfer.so.7: cannot open shared object file: No such file or directory; LD_LIBRARY_PATH: /usr/local/nvidia/lib:/usr/local/nvidia/lib64\n",
      "\u001b[2m\u001b[36m(TrainTrainable pid=21888, ip=10.0.42.45)\u001b[0m 2023-09-05 16:36:08.735732: W tensorflow/compiler/xla/stream_executor/platform/default/dso_loader.cc:64] Could not load dynamic library 'libnvinfer_plugin.so.7'; dlerror: libnvinfer_plugin.so.7: cannot open shared object file: No such file or directory; LD_LIBRARY_PATH: /usr/local/nvidia/lib:/usr/local/nvidia/lib64\n",
      "\u001b[2m\u001b[36m(TrainTrainable pid=21888, ip=10.0.42.45)\u001b[0m 2023-09-05 16:36:08.735739: W tensorflow/compiler/tf2tensorrt/utils/py_utils.cc:38] TF-TRT Warning: Cannot dlopen some TensorRT libraries. If you would like to use Nvidia GPU with TensorRT, please make sure the missing libraries mentioned above are installed properly.\n",
      "\u001b[2m\u001b[36m(TrainTrainable pid=21888, ip=10.0.42.45)\u001b[0m comet_ml is installed but `COMET_API_KEY` is not set.\n",
      "\u001b[2m\u001b[36m(TorchTrainer pid=21888, ip=10.0.42.45)\u001b[0m Starting distributed worker processes: ['21951 (10.0.42.45)']\n",
      "\u001b[2m\u001b[36m(TrainTrainable pid=22226, ip=10.0.24.75)\u001b[0m 2023-09-05 16:36:08.271572: I tensorflow/core/platform/cpu_feature_guard.cc:193] This TensorFlow binary is optimized with oneAPI Deep Neural Network Library (oneDNN) to use the following CPU instructions in performance-critical operations:  AVX2 AVX512F AVX512_VNNI FMA\u001b[32m [repeated 3x across cluster]\u001b[0m\n",
      "\u001b[2m\u001b[36m(TrainTrainable pid=22226, ip=10.0.24.75)\u001b[0m To enable them in other operations, rebuild TensorFlow with the appropriate compiler flags.\u001b[32m [repeated 3x across cluster]\u001b[0m\n",
      "\u001b[2m\u001b[36m(TrainTrainable pid=22226, ip=10.0.24.75)\u001b[0m 2023-09-05 16:36:08.439846: I tensorflow/core/util/port.cc:104] oneDNN custom operations are on. You may see slightly different numerical results due to floating-point round-off errors from different computation orders. To turn them off, set the environment variable `TF_ENABLE_ONEDNN_OPTS=0`.\u001b[32m [repeated 3x across cluster]\u001b[0m\n",
      "\u001b[2m\u001b[36m(TrainTrainable pid=22226, ip=10.0.24.75)\u001b[0m 2023-09-05 16:36:09.253218: W tensorflow/compiler/xla/stream_executor/platform/default/dso_loader.cc:64] Could not load dynamic library 'libnvinfer_plugin.so.7'; dlerror: libnvinfer_plugin.so.7: cannot open shared object file: No such file or directory; LD_LIBRARY_PATH: /usr/local/nvidia/lib:/usr/local/nvidia/lib64\u001b[32m [repeated 6x across cluster]\u001b[0m\n",
      "\u001b[2m\u001b[36m(TrainTrainable pid=22226, ip=10.0.24.75)\u001b[0m 2023-09-05 16:36:09.253225: W tensorflow/compiler/tf2tensorrt/utils/py_utils.cc:38] TF-TRT Warning: Cannot dlopen some TensorRT libraries. If you would like to use Nvidia GPU with TensorRT, please make sure the missing libraries mentioned above are installed properly.\u001b[32m [repeated 3x across cluster]\u001b[0m\n",
      "\u001b[2m\u001b[36m(RayTrainWorker pid=21951, ip=10.0.42.45)\u001b[0m Setting up process group for: env:// [rank=0, world_size=1]\n",
      "\u001b[2m\u001b[36m(TrainTrainable pid=22226, ip=10.0.24.75)\u001b[0m comet_ml is installed but `COMET_API_KEY` is not set.\u001b[32m [repeated 3x across cluster]\u001b[0m\n",
      "\u001b[2m\u001b[36m(SplitCoordinator pid=21995, ip=10.0.42.45)\u001b[0m Auto configuring locality_with_output=['28a51d1ed2d5d043099f7db6967c0090ba951b26d14a1a8b74a07da0']\n",
      "\u001b[2m\u001b[36m(TorchTrainer pid=22226, ip=10.0.24.75)\u001b[0m Starting distributed worker processes: ['22291 (10.0.24.75)']\u001b[32m [repeated 3x across cluster]\u001b[0m\n",
      "\u001b[2m\u001b[36m(RayTrainWorker pid=22291, ip=10.0.24.75)\u001b[0m 2023-09-05 16:36:15.978052: I tensorflow/core/platform/cpu_feature_guard.cc:193] This TensorFlow binary is optimized with oneAPI Deep Neural Network Library (oneDNN) to use the following CPU instructions in performance-critical operations:  AVX2 AVX512F AVX512_VNNI FMA\u001b[32m [repeated 4x across cluster]\u001b[0m\n",
      "\u001b[2m\u001b[36m(RayTrainWorker pid=22291, ip=10.0.24.75)\u001b[0m To enable them in other operations, rebuild TensorFlow with the appropriate compiler flags.\u001b[32m [repeated 4x across cluster]\u001b[0m\n",
      "\u001b[2m\u001b[36m(RayTrainWorker pid=22291, ip=10.0.24.75)\u001b[0m 2023-09-05 16:36:16.147798: I tensorflow/core/util/port.cc:104] oneDNN custom operations are on. You may see slightly different numerical results due to floating-point round-off errors from different computation orders. To turn them off, set the environment variable `TF_ENABLE_ONEDNN_OPTS=0`.\u001b[32m [repeated 4x across cluster]\u001b[0m\n"
     ]
    },
    {
     "name": "stdout",
     "output_type": "stream",
     "text": [
      "\u001b[2m\u001b[36m(RayTrainWorker pid=21951, ip=10.0.42.45)\u001b[0m Is CUDA available: True\n"
     ]
    },
    {
     "name": "stderr",
     "output_type": "stream",
     "text": [
      "\u001b[2m\u001b[36m(RayTrainWorker pid=21951, ip=10.0.42.45)\u001b[0m Some weights of the model checkpoint at distilbert-base-uncased were not used when initializing DistilBertForSequenceClassification: ['vocab_transform.bias', 'vocab_projector.weight', 'vocab_layer_norm.weight', 'vocab_layer_norm.bias', 'vocab_transform.weight', 'vocab_projector.bias']\n",
      "\u001b[2m\u001b[36m(RayTrainWorker pid=21951, ip=10.0.42.45)\u001b[0m - This IS expected if you are initializing DistilBertForSequenceClassification from the checkpoint of a model trained on another task or with another architecture (e.g. initializing a BertForSequenceClassification model from a BertForPreTraining model).\n",
      "\u001b[2m\u001b[36m(RayTrainWorker pid=21951, ip=10.0.42.45)\u001b[0m - This IS NOT expected if you are initializing DistilBertForSequenceClassification from the checkpoint of a model that you expect to be exactly identical (initializing a BertForSequenceClassification model from a BertForSequenceClassification model).\n",
      "\u001b[2m\u001b[36m(RayTrainWorker pid=21951, ip=10.0.42.45)\u001b[0m Some weights of DistilBertForSequenceClassification were not initialized from the model checkpoint at distilbert-base-uncased and are newly initialized: ['pre_classifier.bias', 'pre_classifier.weight', 'classifier.weight', 'classifier.bias']\n",
      "\u001b[2m\u001b[36m(RayTrainWorker pid=21951, ip=10.0.42.45)\u001b[0m You should probably TRAIN this model on a down-stream task to be able to use it for predictions and inference.\n",
      "\u001b[2m\u001b[36m(RayTrainWorker pid=22291, ip=10.0.24.75)\u001b[0m 2023-09-05 16:36:17.095428: W tensorflow/compiler/xla/stream_executor/platform/default/dso_loader.cc:64] Could not load dynamic library 'libnvinfer_plugin.so.7'; dlerror: libnvinfer_plugin.so.7: cannot open shared object file: No such file or directory; LD_LIBRARY_PATH: /usr/local/nvidia/lib:/usr/local/nvidia/lib64\u001b[32m [repeated 8x across cluster]\u001b[0m\n",
      "\u001b[2m\u001b[36m(RayTrainWorker pid=22291, ip=10.0.24.75)\u001b[0m 2023-09-05 16:36:17.095435: W tensorflow/compiler/tf2tensorrt/utils/py_utils.cc:38] TF-TRT Warning: Cannot dlopen some TensorRT libraries. If you would like to use Nvidia GPU with TensorRT, please make sure the missing libraries mentioned above are installed properly.\u001b[32m [repeated 4x across cluster]\u001b[0m\n",
      "\u001b[2m\u001b[36m(RayTrainWorker pid=22291, ip=10.0.24.75)\u001b[0m Setting up process group for: env:// [rank=0, world_size=1]\u001b[32m [repeated 3x across cluster]\u001b[0m\n",
      "\u001b[2m\u001b[36m(RayTrainWorker pid=22291, ip=10.0.24.75)\u001b[0m comet_ml is installed but `COMET_API_KEY` is not set.\u001b[32m [repeated 4x across cluster]\u001b[0m\n",
      "\u001b[2m\u001b[36m(SplitCoordinator pid=22338, ip=10.0.24.75)\u001b[0m Auto configuring locality_with_output=['5aee0b1a098d74ee6df8a92da8e188e116fecac5160742dadbb7507b']\u001b[32m [repeated 7x across cluster]\u001b[0m\n"
     ]
    },
    {
     "name": "stdout",
     "output_type": "stream",
     "text": [
      "\u001b[2m\u001b[36m(RayTrainWorker pid=21951, ip=10.0.42.45)\u001b[0m max_steps_per_epoch:  534\n"
     ]
    },
    {
     "name": "stderr",
     "output_type": "stream",
     "text": [
      "\u001b[2m\u001b[36m(RayTrainWorker pid=21951, ip=10.0.42.45)\u001b[0m max_steps is given, it will override any value given in num_train_epochs\n",
      "\u001b[2m\u001b[36m(RayTrainWorker pid=21951, ip=10.0.42.45)\u001b[0m /home/ray/anaconda3/lib/python3.9/site-packages/transformers/optimization.py:306: FutureWarning: This implementation of AdamW is deprecated and will be removed in a future version. Use the PyTorch implementation torch.optim.AdamW instead, or set `no_deprecation_warning=True` to disable this warning\n",
      "\u001b[2m\u001b[36m(RayTrainWorker pid=21951, ip=10.0.42.45)\u001b[0m   warnings.warn(\n"
     ]
    },
    {
     "name": "stdout",
     "output_type": "stream",
     "text": [
      "\u001b[2m\u001b[36m(RayTrainWorker pid=21951, ip=10.0.42.45)\u001b[0m Starting training\n"
     ]
    },
    {
     "name": "stderr",
     "output_type": "stream",
     "text": [
      "\u001b[2m\u001b[36m(RayTrainWorker pid=21951, ip=10.0.42.45)\u001b[0m ***** Running training *****\n",
      "\u001b[2m\u001b[36m(RayTrainWorker pid=21951, ip=10.0.42.45)\u001b[0m   Num examples = 34176\n",
      "\u001b[2m\u001b[36m(RayTrainWorker pid=21951, ip=10.0.42.45)\u001b[0m   Num Epochs = 9223372036854775807\n",
      "\u001b[2m\u001b[36m(RayTrainWorker pid=21951, ip=10.0.42.45)\u001b[0m   Instantaneous batch size per device = 16\n",
      "\u001b[2m\u001b[36m(RayTrainWorker pid=21951, ip=10.0.42.45)\u001b[0m   Total train batch size (w. parallel, distributed & accumulation) = 16\n",
      "\u001b[2m\u001b[36m(RayTrainWorker pid=21951, ip=10.0.42.45)\u001b[0m   Gradient Accumulation steps = 1\n",
      "\u001b[2m\u001b[36m(RayTrainWorker pid=21951, ip=10.0.42.45)\u001b[0m   Total optimization steps = 2136\n",
      "  0%|          | 0/2136 [00:00<?, ?it/s]0.0.42.45)\u001b[0m \n",
      "\u001b[2m\u001b[36m(SplitCoordinator pid=21995, ip=10.0.42.45)\u001b[0m Executing DAG InputDataBuffer[Input] -> TaskPoolMapOperator[MapBatches(preprocess_function)] -> OutputSplitter[split(1, equal=True)]\n",
      "\u001b[2m\u001b[36m(SplitCoordinator pid=21995, ip=10.0.42.45)\u001b[0m Execution config: ExecutionOptions(resource_limits=ExecutionResources(cpu=None, gpu=None, object_store_memory=None), locality_with_output=['28a51d1ed2d5d043099f7db6967c0090ba951b26d14a1a8b74a07da0'], preserve_order=False, actor_locality_enabled=True, verbose_progress=False)\n",
      "\u001b[2m\u001b[36m(SplitCoordinator pid=21995, ip=10.0.42.45)\u001b[0m Tip: For detailed progress reporting, run `ray.data.DataContext.get_current().execution_options.verbose_progress = True`\n"
     ]
    },
    {
     "data": {
      "application/vnd.jupyter.widget-view+json": {
       "model_id": "",
       "version_major": 2,
       "version_minor": 0
      },
      "text/plain": [
       "(pid=21995, ip=10.0.42.45) Running 0:   0%|          | 0/1 [00:00<?, ?it/s]"
      ]
     },
     "metadata": {},
     "output_type": "display_data"
    },
    {
     "name": "stderr",
     "output_type": "stream",
     "text": [
      "\u001b[2m\u001b[36m(RayTrainWorker pid=55340)\u001b[0m Some weights of the model checkpoint at distilbert-base-uncased were not used when initializing DistilBertForSequenceClassification: ['vocab_layer_norm.weight', 'vocab_layer_norm.bias', 'vocab_transform.weight', 'vocab_transform.bias', 'vocab_projector.weight', 'vocab_projector.bias']\n",
      "\u001b[2m\u001b[36m(RayTrainWorker pid=55340)\u001b[0m Some weights of DistilBertForSequenceClassification were not initialized from the model checkpoint at distilbert-base-uncased and are newly initialized: ['classifier.weight', 'pre_classifier.weight', 'classifier.bias', 'pre_classifier.bias']\n"
     ]
    },
    {
     "data": {
      "application/vnd.jupyter.widget-view+json": {
       "model_id": "",
       "version_major": 2,
       "version_minor": 0
      },
      "text/plain": [
       "(pid=55407) Running 0:   0%|          | 0/1 [00:00<?, ?it/s]"
      ]
     },
     "metadata": {},
     "output_type": "display_data"
    },
    {
     "name": "stderr",
     "output_type": "stream",
     "text": [
      "\u001b[2m\u001b[36m(RayTrainWorker pid=22035, ip=10.0.9.214)\u001b[0m Some weights of the model checkpoint at distilbert-base-uncased were not used when initializing DistilBertForSequenceClassification: ['vocab_projector.bias', 'vocab_layer_norm.weight', 'vocab_transform.weight', 'vocab_projector.weight', 'vocab_layer_norm.bias', 'vocab_transform.bias']\n",
      "\u001b[2m\u001b[36m(RayTrainWorker pid=22291, ip=10.0.24.75)\u001b[0m Some weights of the model checkpoint at distilbert-base-uncased were not used when initializing DistilBertForSequenceClassification: ['vocab_transform.weight', 'vocab_transform.bias', 'vocab_projector.bias', 'vocab_layer_norm.bias', 'vocab_projector.weight', 'vocab_layer_norm.weight']\n",
      "\u001b[2m\u001b[36m(RayTrainWorker pid=22291, ip=10.0.24.75)\u001b[0m Some weights of DistilBertForSequenceClassification were not initialized from the model checkpoint at distilbert-base-uncased and are newly initialized: ['pre_classifier.weight', 'pre_classifier.bias', 'classifier.bias', 'classifier.weight']\n",
      "\u001b[2m\u001b[36m(RayTrainWorker pid=21951, ip=10.0.42.45)\u001b[0m [W reducer.cpp:1300] Warning: find_unused_parameters=True was specified in DDP constructor, but did not find any unused parameters in the forward pass. This flag results in an extra traversal of the autograd graph every iteration,  which can adversely affect performance. If your model indeed never has any unused parameters in the forward pass, consider turning this flag off. Note that this warning may be a false positive if your model has flow control causing later iterations to have unused parameters. (function operator())\n"
     ]
    },
    {
     "data": {
      "application/vnd.jupyter.widget-view+json": {
       "model_id": "",
       "version_major": 2,
       "version_minor": 0
      },
      "text/plain": [
       "(pid=22082, ip=10.0.9.214) Running 0:   0%|          | 0/1 [00:00<?, ?it/s]"
      ]
     },
     "metadata": {},
     "output_type": "display_data"
    },
    {
     "name": "stderr",
     "output_type": "stream",
     "text": [
      "  0%|          | 1/2136 [00:01<1:03:45,  1.79s/it]\u001b[0m \n"
     ]
    },
    {
     "data": {
      "application/vnd.jupyter.widget-view+json": {
       "model_id": "",
       "version_major": 2,
       "version_minor": 0
      },
      "text/plain": [
       "(pid=22338, ip=10.0.24.75) Running 0:   0%|          | 0/1 [00:00<?, ?it/s]"
      ]
     },
     "metadata": {},
     "output_type": "display_data"
    },
    {
     "name": "stdout",
     "output_type": "stream",
     "text": [
      "\u001b[2m\u001b[36m(RayTrainWorker pid=22291, ip=10.0.24.75)\u001b[0m Is CUDA available: True\u001b[32m [repeated 3x across cluster]\u001b[0m\n"
     ]
    },
    {
     "name": "stderr",
     "output_type": "stream",
     "text": [
      "\u001b[2m\u001b[36m(RayTrainWorker pid=22291, ip=10.0.24.75)\u001b[0m - This IS expected if you are initializing DistilBertForSequenceClassification from the checkpoint of a model trained on another task or with another architecture (e.g. initializing a BertForSequenceClassification model from a BertForPreTraining model).\u001b[32m [repeated 3x across cluster]\u001b[0m\n",
      "\u001b[2m\u001b[36m(RayTrainWorker pid=22291, ip=10.0.24.75)\u001b[0m - This IS NOT expected if you are initializing DistilBertForSequenceClassification from the checkpoint of a model that you expect to be exactly identical (initializing a BertForSequenceClassification model from a BertForSequenceClassification model).\u001b[32m [repeated 3x across cluster]\u001b[0m\n",
      "\u001b[2m\u001b[36m(RayTrainWorker pid=22291, ip=10.0.24.75)\u001b[0m You should probably TRAIN this model on a down-stream task to be able to use it for predictions and inference.\u001b[32m [repeated 3x across cluster]\u001b[0m\n",
      "\u001b[2m\u001b[36m(RayTrainWorker pid=22291, ip=10.0.24.75)\u001b[0m max_steps is given, it will override any value given in num_train_epochs\u001b[32m [repeated 3x across cluster]\u001b[0m\n",
      "\u001b[2m\u001b[36m(RayTrainWorker pid=22291, ip=10.0.24.75)\u001b[0m /home/ray/anaconda3/lib/python3.9/site-packages/transformers/optimization.py:306: FutureWarning: This implementation of AdamW is deprecated and will be removed in a future version. Use the PyTorch implementation torch.optim.AdamW instead, or set `no_deprecation_warning=True` to disable this warning\u001b[32m [repeated 3x across cluster]\u001b[0m\n",
      "\u001b[2m\u001b[36m(RayTrainWorker pid=22291, ip=10.0.24.75)\u001b[0m   warnings.warn(\u001b[32m [repeated 3x across cluster]\u001b[0m\n",
      "\u001b[2m\u001b[36m(RayTrainWorker pid=22291, ip=10.0.24.75)\u001b[0m ***** Running training *****\u001b[32m [repeated 3x across cluster]\u001b[0m\n",
      "\u001b[2m\u001b[36m(RayTrainWorker pid=22291, ip=10.0.24.75)\u001b[0m   Num examples = 34176\u001b[32m [repeated 3x across cluster]\u001b[0m\n",
      "\u001b[2m\u001b[36m(RayTrainWorker pid=22291, ip=10.0.24.75)\u001b[0m   Num Epochs = 9223372036854775807\u001b[32m [repeated 3x across cluster]\u001b[0m\n",
      "\u001b[2m\u001b[36m(RayTrainWorker pid=22291, ip=10.0.24.75)\u001b[0m   Instantaneous batch size per device = 16\u001b[32m [repeated 3x across cluster]\u001b[0m\n",
      "\u001b[2m\u001b[36m(RayTrainWorker pid=22291, ip=10.0.24.75)\u001b[0m   Total train batch size (w. parallel, distributed & accumulation) = 16\u001b[32m [repeated 3x across cluster]\u001b[0m\n",
      "\u001b[2m\u001b[36m(RayTrainWorker pid=22291, ip=10.0.24.75)\u001b[0m   Gradient Accumulation steps = 1\u001b[32m [repeated 3x across cluster]\u001b[0m\n",
      "\u001b[2m\u001b[36m(RayTrainWorker pid=22291, ip=10.0.24.75)\u001b[0m   Total optimization steps = 2136\u001b[32m [repeated 3x across cluster]\u001b[0m\n",
      "  0%|          | 0/2136 [00:00<?, ?it/s]\u001b[32m [repeated 3x across cluster]\u001b[0m\n",
      "\u001b[2m\u001b[36m(SplitCoordinator pid=22338, ip=10.0.24.75)\u001b[0m Executing DAG InputDataBuffer[Input] -> TaskPoolMapOperator[MapBatches(preprocess_function)] -> OutputSplitter[split(1, equal=True)]\u001b[32m [repeated 3x across cluster]\u001b[0m\n",
      "\u001b[2m\u001b[36m(SplitCoordinator pid=22338, ip=10.0.24.75)\u001b[0m Execution config: ExecutionOptions(resource_limits=ExecutionResources(cpu=None, gpu=None, object_store_memory=None), locality_with_output=['5aee0b1a098d74ee6df8a92da8e188e116fecac5160742dadbb7507b'], preserve_order=False, actor_locality_enabled=True, verbose_progress=False)\u001b[32m [repeated 3x across cluster]\u001b[0m\n",
      "\u001b[2m\u001b[36m(SplitCoordinator pid=22338, ip=10.0.24.75)\u001b[0m Tip: For detailed progress reporting, run `ray.data.DataContext.get_current().execution_options.verbose_progress = True`\u001b[32m [repeated 3x across cluster]\u001b[0m\n",
      "\u001b[2m\u001b[36m(RayTrainWorker pid=22035, ip=10.0.9.214)\u001b[0m Some weights of DistilBertForSequenceClassification were not initialized from the model checkpoint at distilbert-base-uncased and are newly initialized: ['classifier.weight', 'pre_classifier.weight', 'classifier.bias', 'pre_classifier.bias']\n",
      "\u001b[2m\u001b[36m(RayTrainWorker pid=22291, ip=10.0.24.75)\u001b[0m [W reducer.cpp:1300] Warning: find_unused_parameters=True was specified in DDP constructor, but did not find any unused parameters in the forward pass. This flag results in an extra traversal of the autograd graph every iteration,  which can adversely affect performance. If your model indeed never has any unused parameters in the forward pass, consider turning this flag off. Note that this warning may be a false positive if your model has flow control causing later iterations to have unused parameters. (function operator())\u001b[32m [repeated 3x across cluster]\u001b[0m\n",
      "  0%|          | 6/2136 [00:05<25:08,  1.41it/s]\u001b[32m [repeated 27x across cluster]\u001b[0m\n",
      "  1%|          | 17/2136 [00:11<22:15,  1.59it/s]\u001b[32m [repeated 31x across cluster]\u001b[0m\n",
      "  1%|          | 24/2136 [00:16<22:22,  1.57it/s]\u001b[32m [repeated 33x across cluster]\u001b[0m\n"
     ]
    },
    {
     "name": "stdout",
     "output_type": "stream",
     "text": [
      "\u001b[2m\u001b[1m\u001b[36m(autoscaler +26m55s)\u001b[0m [workspace snapshot] New snapshot created successfully (size: 351.82 KB).\n"
     ]
    },
    {
     "name": "stderr",
     "output_type": "stream",
     "text": [
      "  1%|▏         | 32/2136 [00:21<22:31,  1.56it/s]\u001b[32m [repeated 32x across cluster]\u001b[0m\n",
      "  2%|▏         | 40/2136 [00:26<22:21,  1.56it/s]\u001b[32m [repeated 32x across cluster]\u001b[0m\n",
      "  2%|▏         | 48/2136 [00:31<22:16,  1.56it/s]\u001b[32m [repeated 32x across cluster]\u001b[0m\n",
      "  3%|▎         | 56/2136 [00:37<22:17,  1.56it/s]\u001b[32m [repeated 32x across cluster]\u001b[0m\n",
      "  3%|▎         | 62/2136 [00:41<22:25,  1.54it/s]\u001b[32m [repeated 30x across cluster]\u001b[0m\n",
      "  3%|▎         | 74/2136 [00:47<21:50,  1.57it/s]\u001b[32m [repeated 32x across cluster]\u001b[0m\n",
      "  4%|▍         | 82/2136 [00:52<21:48,  1.57it/s]\u001b[32m [repeated 32x across cluster]\u001b[0m\n",
      "  4%|▍         | 90/2136 [00:57<21:48,  1.56it/s]\u001b[32m [repeated 32x across cluster]\u001b[0m\n",
      "  5%|▍         | 98/2136 [01:03<21:42,  1.56it/s]\u001b[32m [repeated 31x across cluster]\u001b[0m\n",
      "  5%|▍         | 106/2136 [01:08<21:37,  1.56it/s]\u001b[32m [repeated 31x across cluster]\u001b[0m\n",
      "  5%|▌         | 111/2136 [01:12<21:53,  1.54it/s]\u001b[32m [repeated 31x across cluster]\u001b[0m\n",
      "  5%|▌         | 115/2136 [01:16<22:18,  1.51it/s]\u001b[32m [repeated 31x across cluster]\u001b[0m\n",
      "  6%|▌         | 124/2136 [01:22<22:26,  1.49it/s]\u001b[32m [repeated 31x across cluster]\u001b[0m\n",
      "  6%|▋         | 135/2136 [01:28<21:37,  1.54it/s]\u001b[32m [repeated 32x across cluster]\u001b[0m\n",
      "  7%|▋         | 143/2136 [01:33<21:31,  1.54it/s]\u001b[32m [repeated 32x across cluster]\u001b[0m\n",
      "  7%|▋         | 147/2136 [01:37<22:28,  1.48it/s]\u001b[32m [repeated 30x across cluster]\u001b[0m\n",
      "  8%|▊         | 162/2136 [01:44<21:18,  1.54it/s]\u001b[32m [repeated 32x across cluster]\u001b[0m\n",
      "  8%|▊         | 170/2136 [01:49<21:13,  1.54it/s]\u001b[32m [repeated 32x across cluster]\u001b[0m\n",
      "  8%|▊         | 170/2136 [01:53<22:23,  1.46it/s]\u001b[32m [repeated 30x across cluster]\u001b[0m\n",
      "  9%|▊         | 186/2136 [01:59<21:03,  1.54it/s]\u001b[32m [repeated 32x across cluster]\u001b[0m\n",
      "  9%|▊         | 184/2136 [02:03<22:18,  1.46it/s]\u001b[32m [repeated 30x across cluster]\u001b[0m\n",
      "  9%|▉         | 202/2136 [02:10<20:54,  1.54it/s]\u001b[32m [repeated 32x across cluster]\u001b[0m\n",
      "  9%|▉         | 199/2136 [02:13<22:13,  1.45it/s]\u001b[32m [repeated 30x across cluster]\u001b[0m\n",
      " 10%|█         | 218/2136 [02:20<20:44,  1.54it/s]\u001b[32m [repeated 32x across cluster]\u001b[0m\n",
      " 10%|█         | 214/2136 [02:23<22:12,  1.44it/s]\u001b[32m [repeated 30x across cluster]\u001b[0m\n",
      " 11%|█         | 230/2136 [02:30<20:54,  1.52it/s]\u001b[32m [repeated 31x across cluster]\u001b[0m\n",
      " 11%|█         | 238/2136 [02:35<20:50,  1.52it/s]\u001b[32m [repeated 30x across cluster]\u001b[0m\n",
      " 11%|█         | 236/2136 [02:39<22:00,  1.44it/s]\u001b[32m [repeated 30x across cluster]\u001b[0m\n",
      " 12%|█▏        | 253/2136 [02:45<20:46,  1.51it/s]\u001b[32m [repeated 30x across cluster]\u001b[0m\n",
      " 12%|█▏        | 261/2136 [02:50<20:44,  1.51it/s]\u001b[32m [repeated 30x across cluster]\u001b[0m\n",
      " 12%|█▏        | 258/2136 [02:54<21:53,  1.43it/s]\u001b[32m [repeated 30x across cluster]\u001b[0m\n",
      " 13%|█▎        | 280/2136 [03:01<20:33,  1.50it/s]\u001b[32m [repeated 30x across cluster]\u001b[0m\n",
      " 13%|█▎        | 284/2136 [03:05<20:38,  1.49it/s]\u001b[32m [repeated 30x across cluster]\u001b[0m\n",
      " 13%|█▎        | 280/2136 [03:09<21:46,  1.42it/s]\u001b[32m [repeated 30x across cluster]\u001b[0m\n",
      " 13%|█▎        | 288/2136 [03:15<21:36,  1.43it/s]\u001b[32m [repeated 31x across cluster]\u001b[0m\n",
      " 14%|█▍        | 307/2136 [03:21<20:34,  1.48it/s]\u001b[32m [repeated 29x across cluster]\u001b[0m\n",
      " 14%|█▍        | 303/2136 [03:25<21:20,  1.43it/s]\u001b[32m [repeated 30x across cluster]\u001b[0m\n",
      " 14%|█▍        | 309/2136 [03:30<21:35,  1.41it/s]\u001b[32m [repeated 31x across cluster]\u001b[0m\n",
      " 16%|█▌        | 334/2136 [03:37<20:35,  1.46it/s]\u001b[32m [repeated 29x across cluster]\u001b[0m\n",
      " 15%|█▌        | 324/2136 [03:41<21:22,  1.41it/s]\u001b[32m [repeated 31x across cluster]\u001b[0m\n",
      " 16%|█▌        | 345/2136 [03:47<20:24,  1.46it/s]\u001b[32m [repeated 29x across cluster]\u001b[0m\n",
      " 17%|█▋        | 356/2136 [03:52<20:40,  1.43it/s]\u001b[32m [repeated 29x across cluster]\u001b[0m\n",
      " 16%|█▌        | 347/2136 [03:56<20:43,  1.44it/s]\u001b[32m [repeated 29x across cluster]\u001b[0m\n",
      " 17%|█▋        | 367/2136 [04:02<20:15,  1.46it/s]\u001b[32m [repeated 29x across cluster]\u001b[0m\n",
      " 17%|█▋        | 360/2136 [04:06<20:53,  1.42it/s]\u001b[32m [repeated 29x across cluster]\u001b[0m\n",
      " 18%|█▊        | 385/2136 [04:13<20:32,  1.42it/s]\u001b[32m [repeated 31x across cluster]\u001b[0m\n",
      " 18%|█▊        | 390/2136 [04:18<19:30,  1.49it/s]\u001b[32m [repeated 29x across cluster]\u001b[0m\n",
      " 18%|█▊        | 384/2136 [04:22<20:15,  1.44it/s]\u001b[32m [repeated 29x across cluster]\u001b[0m\n",
      " 19%|█▉        | 407/2136 [04:28<20:34,  1.40it/s]\u001b[32m [repeated 31x across cluster]\u001b[0m\n",
      " 19%|█▊        | 399/2136 [04:32<20:06,  1.44it/s]\u001b[32m [repeated 30x across cluster]\u001b[0m\n",
      " 20%|█▉        | 421/2136 [04:38<18:43,  1.53it/s]\u001b[32m [repeated 29x across cluster]\u001b[0m\n",
      " 19%|█▉        | 411/2136 [04:42<20:17,  1.42it/s]\u001b[32m [repeated 29x across cluster]\u001b[0m\n",
      " 20%|█▉        | 421/2136 [04:48<19:53,  1.44it/s]\u001b[32m [repeated 30x across cluster]\u001b[0m\n",
      " 21%|██        | 443/2136 [04:54<20:07,  1.40it/s]\u001b[32m [repeated 30x across cluster]\u001b[0m\n",
      " 20%|██        | 436/2136 [04:58<19:41,  1.44it/s]\u001b[32m [repeated 31x across cluster]\u001b[0m\n",
      " 22%|██▏       | 461/2136 [05:04<18:04,  1.54it/s]\u001b[32m [repeated 30x across cluster]\u001b[0m\n",
      " 21%|██        | 448/2136 [05:08<19:51,  1.42it/s]\u001b[32m [repeated 29x across cluster]\u001b[0m\n",
      " 22%|██▏       | 477/2136 [05:14<17:54,  1.54it/s]\u001b[32m [repeated 32x across cluster]\u001b[0m\n"
     ]
    },
    {
     "name": "stdout",
     "output_type": "stream",
     "text": [
      "\u001b[2m\u001b[1m\u001b[36m(autoscaler +31m55s)\u001b[0m [workspace snapshot] New snapshot created successfully (size: 301.79 KB).\n"
     ]
    },
    {
     "name": "stderr",
     "output_type": "stream",
     "text": [
      " 23%|██▎       | 485/2136 [05:20<17:49,  1.54it/s]\u001b[32m [repeated 29x across cluster]\u001b[0m\n",
      " 23%|██▎       | 487/2136 [05:25<19:23,  1.42it/s]\u001b[32m [repeated 30x across cluster]\u001b[0m\n",
      " 23%|██▎       | 501/2136 [05:30<17:38,  1.54it/s]\u001b[32m [repeated 31x across cluster]\u001b[0m\n",
      " 24%|██▍       | 509/2136 [05:35<17:33,  1.54it/s]\u001b[32m [repeated 30x across cluster]\u001b[0m\n",
      " 24%|██▍       | 509/2136 [05:41<19:01,  1.43it/s]\u001b[32m [repeated 29x across cluster]\u001b[0m\n",
      " 24%|██▎       | 503/2136 [05:45<18:52,  1.44it/s]\u001b[32m [repeated 31x across cluster]\u001b[0m\n",
      " 25%|██▍       | 533/2136 [05:51<17:20,  1.54it/s]\u001b[32m [repeated 30x across cluster]\u001b[0m\n"
     ]
    },
    {
     "name": "stdout",
     "output_type": "stream",
     "text": [
      "\u001b[2m\u001b[36m(RayTrainWorker pid=55340)\u001b[0m {'loss': 0.5428, 'learning_rate': 1.4990636704119851e-05, 'epoch': 0.25}\n",
      "\u001b[2m\u001b[36m(RayTrainWorker pid=22291, ip=10.0.24.75)\u001b[0m max_steps_per_epoch:  534\u001b[32m [repeated 3x across cluster]\u001b[0m\n",
      "\u001b[2m\u001b[36m(RayTrainWorker pid=22291, ip=10.0.24.75)\u001b[0m Starting training\u001b[32m [repeated 3x across cluster]\u001b[0m\n"
     ]
    },
    {
     "name": "stderr",
     "output_type": "stream",
     "text": [
      " 25%|██▌       | 535/2136 [05:52<14:34,  1.83it/s]***** Running Evaluation *****\n",
      "\u001b[2m\u001b[36m(RayTrainWorker pid=55340)\u001b[0m   Num examples: Unknown\n",
      "\u001b[2m\u001b[36m(RayTrainWorker pid=55340)\u001b[0m   Batch size = 16\n"
     ]
    },
    {
     "data": {
      "application/vnd.jupyter.widget-view+json": {
       "model_id": "",
       "version_major": 2,
       "version_minor": 0
      },
      "text/plain": [
       "(pid=55408) Running 0:   0%|          | 0/1 [00:00<?, ?it/s]"
      ]
     },
     "metadata": {},
     "output_type": "display_data"
    },
    {
     "name": "stderr",
     "output_type": "stream",
     "text": [
      "\u001b[2m\u001b[36m(SplitCoordinator pid=55408)\u001b[0m Executing DAG InputDataBuffer[Input] -> TaskPoolMapOperator[MapBatches(preprocess_function)] -> OutputSplitter[split(1, equal=True)]\n",
      "\u001b[2m\u001b[36m(SplitCoordinator pid=55408)\u001b[0m Execution config: ExecutionOptions(resource_limits=ExecutionResources(cpu=None, gpu=None, object_store_memory=None), locality_with_output=['d18a14d46721e86f86679bc8635753b27b5c4e17470461fc2a2fc741'], preserve_order=False, actor_locality_enabled=True, verbose_progress=False)\n",
      "\u001b[2m\u001b[36m(SplitCoordinator pid=55408)\u001b[0m Tip: For detailed progress reporting, run `ray.data.DataContext.get_current().execution_options.verbose_progress = True`\n",
      " 24%|██▍       | 514/2136 [05:55<19:03,  1.42it/s]\u001b[32m [repeated 25x across cluster]\u001b[0m\n"
     ]
    },
    {
     "name": "stdout",
     "output_type": "stream",
     "text": [
      "\u001b[2m\u001b[36m(RayTrainWorker pid=21951, ip=10.0.42.45)\u001b[0m {'loss': 0.6488, 'learning_rate': 0.0014990636704119852, 'epoch': 0.25}\n"
     ]
    },
    {
     "name": "stderr",
     "output_type": "stream",
     "text": [
      " 25%|██▌       | 535/2136 [05:59<15:45,  1.69it/s]***** Running Evaluation *****\n",
      "\u001b[2m\u001b[36m(RayTrainWorker pid=21951, ip=10.0.42.45)\u001b[0m   Num examples: Unknown\n",
      "\u001b[2m\u001b[36m(RayTrainWorker pid=21951, ip=10.0.42.45)\u001b[0m   Batch size = 16\n",
      "\u001b[2m\u001b[36m(SplitCoordinator pid=21996, ip=10.0.42.45)\u001b[0m Executing DAG InputDataBuffer[Input] -> TaskPoolMapOperator[MapBatches(preprocess_function)] -> OutputSplitter[split(1, equal=True)]\n",
      "\u001b[2m\u001b[36m(SplitCoordinator pid=21996, ip=10.0.42.45)\u001b[0m Execution config: ExecutionOptions(resource_limits=ExecutionResources(cpu=None, gpu=None, object_store_memory=None), locality_with_output=['28a51d1ed2d5d043099f7db6967c0090ba951b26d14a1a8b74a07da0'], preserve_order=False, actor_locality_enabled=True, verbose_progress=False)\n",
      "\u001b[2m\u001b[36m(SplitCoordinator pid=21996, ip=10.0.42.45)\u001b[0m Tip: For detailed progress reporting, run `ray.data.DataContext.get_current().execution_options.verbose_progress = True`\n"
     ]
    },
    {
     "data": {
      "application/vnd.jupyter.widget-view+json": {
       "model_id": "",
       "version_major": 2,
       "version_minor": 0
      },
      "text/plain": [
       "(pid=21996, ip=10.0.42.45) Running 0:   0%|          | 0/1 [00:00<?, ?it/s]"
      ]
     },
     "metadata": {},
     "output_type": "display_data"
    },
    {
     "name": "stderr",
     "output_type": "stream",
     "text": [
      " 25%|██▍       | 526/2136 [06:01<18:38,  1.44it/s]\u001b[32m [repeated 18x across cluster]\u001b[0m\n",
      " 25%|██▍       | 529/2136 [06:05<18:53,  1.42it/s]\u001b[32m [repeated 15x across cluster]\u001b[0m\n",
      " 25%|██▌       | 535/2136 [06:07<14:34,  1.83it/s]Saving model checkpoint to distilbert-base-uncased-finetuned-cola/checkpoint-535\n",
      "\u001b[2m\u001b[36m(RayTrainWorker pid=55340)\u001b[0m Configuration saved in distilbert-base-uncased-finetuned-cola/checkpoint-535/config.json\n"
     ]
    },
    {
     "name": "stdout",
     "output_type": "stream",
     "text": [
      "\u001b[2m\u001b[36m(RayTrainWorker pid=55340)\u001b[0m {'eval_loss': 0.5093920230865479, 'eval_matthews_correlation': 0.3945310342011491, 'eval_runtime': 15.1752, 'eval_samples_per_second': 68.731, 'eval_steps_per_second': 4.349, 'epoch': 0.25}\n",
      "\u001b[2m\u001b[36m(RayTrainWorker pid=22035, ip=10.0.9.214)\u001b[0m {'loss': 0.6217, 'learning_rate': 0.0001499063670411985, 'epoch': 0.25}\n"
     ]
    },
    {
     "name": "stderr",
     "output_type": "stream",
     "text": [
      " 25%|██▌       | 535/2136 [06:06<15:33,  1.71it/s]***** Running Evaluation *****\n",
      "\u001b[2m\u001b[36m(RayTrainWorker pid=22035, ip=10.0.9.214)\u001b[0m   Num examples: Unknown\n",
      "\u001b[2m\u001b[36m(RayTrainWorker pid=22035, ip=10.0.9.214)\u001b[0m   Batch size = 16\n",
      "\u001b[2m\u001b[36m(SplitCoordinator pid=22083, ip=10.0.9.214)\u001b[0m Executing DAG InputDataBuffer[Input] -> TaskPoolMapOperator[MapBatches(preprocess_function)] -> OutputSplitter[split(1, equal=True)]\n",
      "\u001b[2m\u001b[36m(SplitCoordinator pid=22083, ip=10.0.9.214)\u001b[0m Execution config: ExecutionOptions(resource_limits=ExecutionResources(cpu=None, gpu=None, object_store_memory=None), locality_with_output=['045a49b457285380c7d8fae0cf544c1151019793d4d27776f0ebe029'], preserve_order=False, actor_locality_enabled=True, verbose_progress=False)\n",
      "\u001b[2m\u001b[36m(SplitCoordinator pid=22083, ip=10.0.9.214)\u001b[0m Tip: For detailed progress reporting, run `ray.data.DataContext.get_current().execution_options.verbose_progress = True`\n"
     ]
    },
    {
     "data": {
      "application/vnd.jupyter.widget-view+json": {
       "model_id": "",
       "version_major": 2,
       "version_minor": 0
      },
      "text/plain": [
       "(pid=22083, ip=10.0.9.214) Running 0:   0%|          | 0/1 [00:00<?, ?it/s]"
      ]
     },
     "metadata": {},
     "output_type": "display_data"
    },
    {
     "name": "stderr",
     "output_type": "stream",
     "text": [
      "\u001b[2m\u001b[36m(RayTrainWorker pid=55340)\u001b[0m Model weights saved in distilbert-base-uncased-finetuned-cola/checkpoint-535/pytorch_model.bin\n",
      "\u001b[2m\u001b[36m(RayTrainWorker pid=55340)\u001b[0m tokenizer config file saved in distilbert-base-uncased-finetuned-cola/checkpoint-535/tokenizer_config.json\n",
      "\u001b[2m\u001b[36m(RayTrainWorker pid=55340)\u001b[0m Special tokens file saved in distilbert-base-uncased-finetuned-cola/checkpoint-535/special_tokens_map.json\n"
     ]
    },
    {
     "data": {
      "application/vnd.jupyter.widget-view+json": {
       "model_id": "",
       "version_major": 2,
       "version_minor": 0
      },
      "text/plain": [
       "(pid=22339, ip=10.0.24.75) Running 0:   0%|          | 0/1 [00:00<?, ?it/s]"
      ]
     },
     "metadata": {},
     "output_type": "display_data"
    },
    {
     "name": "stderr",
     "output_type": "stream",
     "text": [
      "\u001b[2m\u001b[36m(RayTrainWorker pid=55340)\u001b[0m Checkpoint successfully created at: Checkpoint(filesystem=local, path=/mnt/cluster_storage/ray_results/tune_transformers/TorchTrainer_fac06_00000_0_learning_rate=0.0000_2023-09-05_16-36-04/checkpoint_000000)\n",
      " 25%|██▌       | 534/2136 [06:09<18:49,  1.42it/s]\u001b[32m [repeated 6x across cluster]\u001b[0m\n",
      " 25%|██▌       | 535/2136 [06:09<15:50,  1.68it/s]***** Running Evaluation *****\n",
      "\u001b[2m\u001b[36m(RayTrainWorker pid=22291, ip=10.0.24.75)\u001b[0m   Num examples: Unknown\n",
      "\u001b[2m\u001b[36m(RayTrainWorker pid=22291, ip=10.0.24.75)\u001b[0m   Batch size = 16\n",
      "\u001b[2m\u001b[36m(SplitCoordinator pid=22339, ip=10.0.24.75)\u001b[0m Executing DAG InputDataBuffer[Input] -> TaskPoolMapOperator[MapBatches(preprocess_function)] -> OutputSplitter[split(1, equal=True)]\n",
      "\u001b[2m\u001b[36m(SplitCoordinator pid=22339, ip=10.0.24.75)\u001b[0m Execution config: ExecutionOptions(resource_limits=ExecutionResources(cpu=None, gpu=None, object_store_memory=None), locality_with_output=['5aee0b1a098d74ee6df8a92da8e188e116fecac5160742dadbb7507b'], preserve_order=False, actor_locality_enabled=True, verbose_progress=False)\n",
      "\u001b[2m\u001b[36m(SplitCoordinator pid=22339, ip=10.0.24.75)\u001b[0m Tip: For detailed progress reporting, run `ray.data.DataContext.get_current().execution_options.verbose_progress = True`\n"
     ]
    },
    {
     "data": {
      "application/vnd.jupyter.widget-view+json": {
       "model_id": "",
       "version_major": 2,
       "version_minor": 0
      },
      "text/plain": [
       "(pid=55407) Running 0:   0%|          | 0/1 [00:00<?, ?it/s]"
      ]
     },
     "metadata": {},
     "output_type": "display_data"
    },
    {
     "name": "stderr",
     "output_type": "stream",
     "text": [
      "\u001b[2m\u001b[36m(SplitCoordinator pid=55407)\u001b[0m Executing DAG InputDataBuffer[Input] -> TaskPoolMapOperator[MapBatches(preprocess_function)] -> OutputSplitter[split(1, equal=True)]\n",
      "\u001b[2m\u001b[36m(SplitCoordinator pid=55407)\u001b[0m Execution config: ExecutionOptions(resource_limits=ExecutionResources(cpu=None, gpu=None, object_store_memory=None), locality_with_output=['d18a14d46721e86f86679bc8635753b27b5c4e17470461fc2a2fc741'], preserve_order=False, actor_locality_enabled=True, verbose_progress=False)\n",
      "\u001b[2m\u001b[36m(SplitCoordinator pid=55407)\u001b[0m Tip: For detailed progress reporting, run `ray.data.DataContext.get_current().execution_options.verbose_progress = True`\n"
     ]
    },
    {
     "name": "stdout",
     "output_type": "stream",
     "text": [
      "\u001b[2m\u001b[36m(RayTrainWorker pid=22291, ip=10.0.24.75)\u001b[0m {'loss': 1.165, 'learning_rate': 0.01499063670411985, 'epoch': 0.25}\n"
     ]
    },
    {
     "name": "stderr",
     "output_type": "stream",
     "text": [
      " 25%|██▌       | 535/2136 [06:15<15:45,  1.69it/s]Saving model checkpoint to distilbert-base-uncased-finetuned-cola/checkpoint-535\n",
      "\u001b[2m\u001b[36m(RayTrainWorker pid=21951, ip=10.0.42.45)\u001b[0m Configuration saved in distilbert-base-uncased-finetuned-cola/checkpoint-535/config.json\n"
     ]
    },
    {
     "name": "stdout",
     "output_type": "stream",
     "text": [
      "\u001b[2m\u001b[36m(RayTrainWorker pid=21951, ip=10.0.42.45)\u001b[0m {'eval_loss': 0.6183559894561768, 'eval_matthews_correlation': 0.0, 'eval_runtime': 16.0909, 'eval_samples_per_second': 64.819, 'eval_steps_per_second': 4.102, 'epoch': 0.25}\n"
     ]
    },
    {
     "name": "stderr",
     "output_type": "stream",
     "text": [
      "\u001b[2m\u001b[36m(RayTrainWorker pid=21951, ip=10.0.42.45)\u001b[0m Model weights saved in distilbert-base-uncased-finetuned-cola/checkpoint-535/pytorch_model.bin\n",
      "\u001b[2m\u001b[36m(RayTrainWorker pid=21951, ip=10.0.42.45)\u001b[0m tokenizer config file saved in distilbert-base-uncased-finetuned-cola/checkpoint-535/tokenizer_config.json\n",
      "\u001b[2m\u001b[36m(RayTrainWorker pid=21951, ip=10.0.42.45)\u001b[0m Special tokens file saved in distilbert-base-uncased-finetuned-cola/checkpoint-535/special_tokens_map.json\n",
      " 25%|██▌       | 542/2136 [06:18<37:20,  1.41s/it]\u001b[32m [repeated 7x across cluster]\u001b[0m\n",
      "\u001b[2m\u001b[36m(RayTrainWorker pid=21951, ip=10.0.42.45)\u001b[0m Checkpoint successfully created at: Checkpoint(filesystem=local, path=/mnt/cluster_storage/ray_results/tune_transformers/TorchTrainer_fac06_00002_2_learning_rate=0.0020_2023-09-05_16-36-04/checkpoint_000000)\n",
      "2023-09-05 16:42:42,681\tWARNING experiment_state.py:371 -- Experiment checkpoint syncing has been triggered multiple times in the last 30.0 seconds. A sync will be triggered whenever a trial has checkpointed more than `num_to_keep` times since last sync or if 300 seconds have passed since last sync. If you have set `num_to_keep` in your `CheckpointConfig`, consider increasing the checkpoint frequency or keeping more checkpoints. You can supress this warning by changing the `TUNE_WARN_EXCESSIVE_EXPERIMENT_CHECKPOINT_SYNC_THRESHOLD_S` environment variable.\n",
      " 26%|██▌       | 550/2136 [06:23<18:16,  1.45it/s]\u001b[32m [repeated 8x across cluster]\u001b[0m\n"
     ]
    },
    {
     "name": "stdout",
     "output_type": "stream",
     "text": [
      "\u001b[2m\u001b[36m(RayTrainWorker pid=22035, ip=10.0.9.214)\u001b[0m {'eval_loss': 0.6180469393730164, 'eval_matthews_correlation': 0.0, 'eval_runtime': 16.3166, 'eval_samples_per_second': 63.922, 'eval_steps_per_second': 4.045, 'epoch': 0.25}\n"
     ]
    },
    {
     "name": "stderr",
     "output_type": "stream",
     "text": [
      " 25%|██▌       | 535/2136 [06:23<15:33,  1.71it/s]Saving model checkpoint to distilbert-base-uncased-finetuned-cola/checkpoint-535\n",
      "\u001b[2m\u001b[36m(RayTrainWorker pid=22035, ip=10.0.9.214)\u001b[0m Configuration saved in distilbert-base-uncased-finetuned-cola/checkpoint-535/config.json\n",
      "\u001b[2m\u001b[36m(RayTrainWorker pid=22035, ip=10.0.9.214)\u001b[0m Model weights saved in distilbert-base-uncased-finetuned-cola/checkpoint-535/pytorch_model.bin\n",
      "\u001b[2m\u001b[36m(RayTrainWorker pid=22035, ip=10.0.9.214)\u001b[0m tokenizer config file saved in distilbert-base-uncased-finetuned-cola/checkpoint-535/tokenizer_config.json\n",
      "\u001b[2m\u001b[36m(RayTrainWorker pid=22035, ip=10.0.9.214)\u001b[0m Special tokens file saved in distilbert-base-uncased-finetuned-cola/checkpoint-535/special_tokens_map.json\n"
     ]
    },
    {
     "name": "stdout",
     "output_type": "stream",
     "text": [
      "\u001b[2m\u001b[36m(RayTrainWorker pid=22291, ip=10.0.24.75)\u001b[0m {'eval_loss': 0.6182646155357361, 'eval_matthews_correlation': 0.0, 'eval_runtime': 16.2647, 'eval_samples_per_second': 64.127, 'eval_steps_per_second': 4.058, 'epoch': 0.25}\n"
     ]
    },
    {
     "name": "stderr",
     "output_type": "stream",
     "text": [
      " 26%|██▌       | 558/2136 [06:28<17:06,  1.54it/s]\u001b[32m [repeated 8x across cluster]\u001b[0m\n",
      " 25%|██▌       | 535/2136 [06:25<15:50,  1.68it/s]Saving model checkpoint to distilbert-base-uncased-finetuned-cola/checkpoint-535\n",
      "\u001b[2m\u001b[36m(RayTrainWorker pid=22291, ip=10.0.24.75)\u001b[0m Configuration saved in distilbert-base-uncased-finetuned-cola/checkpoint-535/config.json\n",
      "2023-09-05 16:42:52,392\tWARNING experiment_state.py:371 -- Experiment checkpoint syncing has been triggered multiple times in the last 30.0 seconds. A sync will be triggered whenever a trial has checkpointed more than `num_to_keep` times since last sync or if 300 seconds have passed since last sync. If you have set `num_to_keep` in your `CheckpointConfig`, consider increasing the checkpoint frequency or keeping more checkpoints. You can supress this warning by changing the `TUNE_WARN_EXCESSIVE_EXPERIMENT_CHECKPOINT_SYNC_THRESHOLD_S` environment variable.\n",
      "\u001b[2m\u001b[36m(RayTrainWorker pid=22035, ip=10.0.9.214)\u001b[0m Checkpoint successfully created at: Checkpoint(filesystem=local, path=/mnt/cluster_storage/ray_results/tune_transformers/TorchTrainer_fac06_00001_1_learning_rate=0.0002_2023-09-05_16-36-04/checkpoint_000000)\n",
      "\u001b[2m\u001b[36m(RayTrainWorker pid=22291, ip=10.0.24.75)\u001b[0m Model weights saved in distilbert-base-uncased-finetuned-cola/checkpoint-535/pytorch_model.bin\n",
      "\u001b[2m\u001b[36m(RayTrainWorker pid=22291, ip=10.0.24.75)\u001b[0m tokenizer config file saved in distilbert-base-uncased-finetuned-cola/checkpoint-535/tokenizer_config.json\n",
      "\u001b[2m\u001b[36m(RayTrainWorker pid=22291, ip=10.0.24.75)\u001b[0m Special tokens file saved in distilbert-base-uncased-finetuned-cola/checkpoint-535/special_tokens_map.json\n",
      " 26%|██▋       | 566/2136 [06:33<16:57,  1.54it/s]\u001b[32m [repeated 8x across cluster]\u001b[0m\n",
      "2023-09-05 16:42:56,488\tWARNING experiment_state.py:371 -- Experiment checkpoint syncing has been triggered multiple times in the last 30.0 seconds. A sync will be triggered whenever a trial has checkpointed more than `num_to_keep` times since last sync or if 300 seconds have passed since last sync. If you have set `num_to_keep` in your `CheckpointConfig`, consider increasing the checkpoint frequency or keeping more checkpoints. You can supress this warning by changing the `TUNE_WARN_EXCESSIVE_EXPERIMENT_CHECKPOINT_SYNC_THRESHOLD_S` environment variable.\n",
      "\u001b[2m\u001b[36m(RayTrainWorker pid=22291, ip=10.0.24.75)\u001b[0m Checkpoint successfully created at: Checkpoint(filesystem=local, path=/mnt/cluster_storage/ray_results/tune_transformers/TorchTrainer_fac06_00003_3_learning_rate=0.0200_2023-09-05_16-36-04/checkpoint_000000)\n",
      " 27%|██▋       | 574/2136 [06:39<16:52,  1.54it/s]\u001b[32m [repeated 8x across cluster]\u001b[0m\n",
      " 27%|██▋       | 582/2136 [06:44<16:46,  1.54it/s]\u001b[32m [repeated 8x across cluster]\u001b[0m\n",
      " 28%|██▊       | 590/2136 [06:49<16:42,  1.54it/s]\u001b[32m [repeated 8x across cluster]\u001b[0m\n",
      " 28%|██▊       | 598/2136 [06:54<16:37,  1.54it/s]\u001b[32m [repeated 8x across cluster]\u001b[0m\n",
      " 28%|██▊       | 606/2136 [06:59<16:33,  1.54it/s]\u001b[32m [repeated 8x across cluster]\u001b[0m\n",
      " 29%|██▊       | 614/2136 [07:05<16:28,  1.54it/s]\u001b[32m [repeated 8x across cluster]\u001b[0m\n",
      " 29%|██▉       | 622/2136 [07:10<16:22,  1.54it/s]\u001b[32m [repeated 8x across cluster]\u001b[0m\n",
      " 29%|██▉       | 630/2136 [07:15<16:22,  1.53it/s]\u001b[32m [repeated 8x across cluster]\u001b[0m\n",
      " 30%|██▉       | 638/2136 [07:20<16:17,  1.53it/s]\u001b[32m [repeated 8x across cluster]\u001b[0m\n",
      " 30%|███       | 646/2136 [07:25<16:17,  1.52it/s]\u001b[32m [repeated 8x across cluster]\u001b[0m\n",
      " 31%|███       | 654/2136 [07:31<16:10,  1.53it/s]\u001b[32m [repeated 8x across cluster]\u001b[0m\n",
      " 31%|███       | 662/2136 [07:36<16:07,  1.52it/s]\u001b[32m [repeated 8x across cluster]\u001b[0m\n",
      " 31%|███▏      | 670/2136 [07:41<16:01,  1.52it/s]\u001b[32m [repeated 8x across cluster]\u001b[0m\n",
      " 32%|███▏      | 678/2136 [07:46<15:57,  1.52it/s]\u001b[32m [repeated 8x across cluster]\u001b[0m\n",
      " 32%|███▏      | 686/2136 [07:52<15:55,  1.52it/s]\u001b[32m [repeated 8x across cluster]\u001b[0m\n",
      " 32%|███▏      | 694/2136 [07:57<15:49,  1.52it/s]\u001b[32m [repeated 8x across cluster]\u001b[0m\n",
      " 33%|███▎      | 702/2136 [08:02<15:44,  1.52it/s]\u001b[32m [repeated 8x across cluster]\u001b[0m\n",
      " 33%|███▎      | 710/2136 [08:08<15:44,  1.51it/s]\u001b[32m [repeated 8x across cluster]\u001b[0m\n",
      " 34%|███▎      | 718/2136 [08:13<15:40,  1.51it/s]\u001b[32m [repeated 8x across cluster]\u001b[0m\n",
      " 34%|███▍      | 726/2136 [08:18<15:39,  1.50it/s]\u001b[32m [repeated 8x across cluster]\u001b[0m\n",
      " 34%|███▍      | 734/2136 [08:23<15:35,  1.50it/s]\u001b[32m [repeated 8x across cluster]\u001b[0m\n",
      " 35%|███▍      | 742/2136 [08:29<15:38,  1.49it/s]\u001b[32m [repeated 8x across cluster]\u001b[0m\n",
      " 35%|███▌      | 750/2136 [08:34<15:31,  1.49it/s]\u001b[32m [repeated 8x across cluster]\u001b[0m\n",
      " 35%|███▌      | 758/2136 [08:40<15:27,  1.49it/s]\u001b[32m [repeated 8x across cluster]\u001b[0m\n",
      " 36%|███▌      | 766/2136 [08:45<15:24,  1.48it/s]\u001b[32m [repeated 8x across cluster]\u001b[0m\n",
      " 36%|███▌      | 774/2136 [08:50<15:21,  1.48it/s]\u001b[32m [repeated 8x across cluster]\u001b[0m\n",
      " 37%|███▋      | 782/2136 [08:56<15:18,  1.47it/s]\u001b[32m [repeated 8x across cluster]\u001b[0m\n",
      " 37%|███▋      | 790/2136 [09:01<15:14,  1.47it/s]\u001b[32m [repeated 8x across cluster]\u001b[0m\n",
      " 37%|███▋      | 798/2136 [09:07<15:11,  1.47it/s]\u001b[32m [repeated 8x across cluster]\u001b[0m\n",
      " 38%|███▊      | 806/2136 [09:12<15:09,  1.46it/s]\u001b[32m [repeated 8x across cluster]\u001b[0m\n",
      " 38%|███▊      | 814/2136 [09:18<15:05,  1.46it/s]\u001b[32m [repeated 8x across cluster]\u001b[0m\n",
      " 38%|███▊      | 822/2136 [09:23<15:00,  1.46it/s]\u001b[32m [repeated 8x across cluster]\u001b[0m\n",
      " 39%|███▉      | 830/2136 [09:29<14:57,  1.45it/s]\u001b[32m [repeated 8x across cluster]\u001b[0m\n",
      " 39%|███▉      | 838/2136 [09:34<14:52,  1.45it/s]\u001b[32m [repeated 8x across cluster]\u001b[0m\n",
      " 40%|███▉      | 846/2136 [09:40<14:49,  1.45it/s]\u001b[32m [repeated 8x across cluster]\u001b[0m\n",
      " 40%|███▉      | 854/2136 [09:45<14:42,  1.45it/s]\u001b[32m [repeated 8x across cluster]\u001b[0m\n",
      " 40%|████      | 862/2136 [09:51<14:37,  1.45it/s]\u001b[32m [repeated 8x across cluster]\u001b[0m\n",
      " 41%|████      | 870/2136 [09:56<14:32,  1.45it/s]\u001b[32m [repeated 8x across cluster]\u001b[0m\n",
      " 41%|████      | 878/2136 [10:02<14:30,  1.45it/s]\u001b[32m [repeated 8x across cluster]\u001b[0m\n",
      " 41%|████▏     | 886/2136 [10:07<14:24,  1.45it/s]\u001b[32m [repeated 8x across cluster]\u001b[0m\n",
      " 42%|████▏     | 894/2136 [10:13<14:19,  1.44it/s]\u001b[32m [repeated 8x across cluster]\u001b[0m\n",
      " 42%|████▏     | 902/2136 [10:18<14:15,  1.44it/s]\u001b[32m [repeated 8x across cluster]\u001b[0m\n"
     ]
    },
    {
     "name": "stdout",
     "output_type": "stream",
     "text": [
      "\u001b[2m\u001b[1m\u001b[36m(autoscaler +36m56s)\u001b[0m [workspace snapshot] New snapshot created successfully (size: 327.28 KB).\n"
     ]
    },
    {
     "name": "stderr",
     "output_type": "stream",
     "text": [
      " 43%|████▎     | 910/2136 [10:24<14:10,  1.44it/s]\u001b[32m [repeated 8x across cluster]\u001b[0m\n",
      " 43%|████▎     | 918/2136 [10:29<14:06,  1.44it/s]\u001b[32m [repeated 8x across cluster]\u001b[0m\n",
      " 43%|████▎     | 926/2136 [10:35<14:01,  1.44it/s]\u001b[32m [repeated 8x across cluster]\u001b[0m\n",
      " 44%|████▎     | 934/2136 [10:41<13:57,  1.44it/s]\u001b[32m [repeated 8x across cluster]\u001b[0m\n",
      " 44%|████▍     | 942/2136 [10:46<13:53,  1.43it/s]\u001b[32m [repeated 8x across cluster]\u001b[0m\n",
      " 44%|████▍     | 950/2136 [10:52<13:49,  1.43it/s]\u001b[32m [repeated 8x across cluster]\u001b[0m\n",
      " 45%|████▍     | 958/2136 [10:57<13:43,  1.43it/s]\u001b[32m [repeated 8x across cluster]\u001b[0m\n",
      " 45%|████▌     | 966/2136 [11:03<13:37,  1.43it/s]\u001b[32m [repeated 8x across cluster]\u001b[0m\n",
      " 46%|████▌     | 974/2136 [11:09<13:31,  1.43it/s]\u001b[32m [repeated 8x across cluster]\u001b[0m\n",
      " 46%|████▌     | 982/2136 [11:14<13:29,  1.43it/s]\u001b[32m [repeated 8x across cluster]\u001b[0m\n",
      " 46%|████▋     | 990/2136 [11:20<13:20,  1.43it/s]\u001b[32m [repeated 8x across cluster]\u001b[0m\n",
      " 47%|████▋     | 998/2136 [11:25<13:13,  1.43it/s]\u001b[32m [repeated 8x across cluster]\u001b[0m\n",
      " 47%|████▋     | 1006/2136 [11:31<13:06,  1.44it/s]\u001b[32m [repeated 8x across cluster]\u001b[0m\n",
      " 47%|████▋     | 1014/2136 [11:36<13:00,  1.44it/s]\u001b[32m [repeated 8x across cluster]\u001b[0m\n",
      " 48%|████▊     | 1022/2136 [11:42<12:54,  1.44it/s]\u001b[32m [repeated 8x across cluster]\u001b[0m\n",
      " 48%|████▊     | 1030/2136 [11:48<12:48,  1.44it/s]\u001b[32m [repeated 8x across cluster]\u001b[0m\n",
      " 49%|████▊     | 1038/2136 [11:53<12:40,  1.44it/s]\u001b[32m [repeated 8x across cluster]\u001b[0m\n",
      " 49%|████▉     | 1046/2136 [11:59<12:36,  1.44it/s]\u001b[32m [repeated 8x across cluster]\u001b[0m\n",
      " 49%|████▉     | 1054/2136 [12:04<12:29,  1.44it/s]\u001b[32m [repeated 8x across cluster]\u001b[0m\n",
      " 50%|████▉     | 1062/2136 [12:10<12:22,  1.45it/s]\u001b[32m [repeated 8x across cluster]\u001b[0m\n"
     ]
    },
    {
     "name": "stdout",
     "output_type": "stream",
     "text": [
      "\u001b[2m\u001b[36m(RayTrainWorker pid=55340)\u001b[0m {'loss': 0.3729, 'learning_rate': 9.9812734082397e-06, 'epoch': 1.25}\n"
     ]
    },
    {
     "name": "stderr",
     "output_type": "stream",
     "text": [
      " 50%|█████     | 1070/2136 [12:15<10:20,  1.72it/s]***** Running Evaluation *****\n",
      "\u001b[2m\u001b[36m(RayTrainWorker pid=55340)\u001b[0m   Num examples: Unknown\n",
      "\u001b[2m\u001b[36m(RayTrainWorker pid=55340)\u001b[0m   Batch size = 16\n",
      " 50%|█████     | 1069/2136 [12:15<12:17,  1.45it/s]\u001b[32m [repeated 7x across cluster]\u001b[0m\n"
     ]
    },
    {
     "data": {
      "application/vnd.jupyter.widget-view+json": {
       "model_id": "",
       "version_major": 2,
       "version_minor": 0
      },
      "text/plain": [
       "(pid=55408) Running 0:   0%|          | 0/1 [00:00<?, ?it/s]"
      ]
     },
     "metadata": {},
     "output_type": "display_data"
    },
    {
     "name": "stderr",
     "output_type": "stream",
     "text": [
      "\u001b[2m\u001b[36m(SplitCoordinator pid=55408)\u001b[0m Executing DAG InputDataBuffer[Input] -> TaskPoolMapOperator[MapBatches(preprocess_function)] -> OutputSplitter[split(1, equal=True)]\n",
      "\u001b[2m\u001b[36m(SplitCoordinator pid=55408)\u001b[0m Execution config: ExecutionOptions(resource_limits=ExecutionResources(cpu=None, gpu=None, object_store_memory=None), locality_with_output=['d18a14d46721e86f86679bc8635753b27b5c4e17470461fc2a2fc741'], preserve_order=False, actor_locality_enabled=True, verbose_progress=False)\n",
      "\u001b[2m\u001b[36m(SplitCoordinator pid=55408)\u001b[0m Tip: For detailed progress reporting, run `ray.data.DataContext.get_current().execution_options.verbose_progress = True`\n",
      " 50%|█████     | 1070/2136 [12:31<10:20,  1.72it/s]Saving model checkpoint to distilbert-base-uncased-finetuned-cola/checkpoint-1070\n",
      "\u001b[2m\u001b[36m(RayTrainWorker pid=55340)\u001b[0m Configuration saved in distilbert-base-uncased-finetuned-cola/checkpoint-1070/config.json\n"
     ]
    },
    {
     "name": "stdout",
     "output_type": "stream",
     "text": [
      "\u001b[2m\u001b[36m(RayTrainWorker pid=55340)\u001b[0m {'eval_loss': 0.5405573844909668, 'eval_matthews_correlation': 0.4801193217859798, 'eval_runtime': 16.2513, 'eval_samples_per_second': 64.18, 'eval_steps_per_second': 4.061, 'epoch': 1.25}\n"
     ]
    },
    {
     "name": "stderr",
     "output_type": "stream",
     "text": [
      "\u001b[2m\u001b[36m(RayTrainWorker pid=55340)\u001b[0m Model weights saved in distilbert-base-uncased-finetuned-cola/checkpoint-1070/pytorch_model.bin\n",
      "\u001b[2m\u001b[36m(RayTrainWorker pid=55340)\u001b[0m tokenizer config file saved in distilbert-base-uncased-finetuned-cola/checkpoint-1070/tokenizer_config.json\n",
      "\u001b[2m\u001b[36m(RayTrainWorker pid=55340)\u001b[0m Special tokens file saved in distilbert-base-uncased-finetuned-cola/checkpoint-1070/special_tokens_map.json\n",
      "\u001b[2m\u001b[36m(RayTrainWorker pid=55340)\u001b[0m Checkpoint successfully created at: Checkpoint(filesystem=local, path=/mnt/cluster_storage/ray_results/tune_transformers/TorchTrainer_fac06_00000_0_learning_rate=0.0000_2023-09-05_16-36-04/checkpoint_000001)\n",
      "\u001b[2m\u001b[36m(SplitCoordinator pid=55407)\u001b[0m Executing DAG InputDataBuffer[Input] -> TaskPoolMapOperator[MapBatches(preprocess_function)] -> OutputSplitter[split(1, equal=True)]\n",
      "\u001b[2m\u001b[36m(SplitCoordinator pid=55407)\u001b[0m Execution config: ExecutionOptions(resource_limits=ExecutionResources(cpu=None, gpu=None, object_store_memory=None), locality_with_output=['d18a14d46721e86f86679bc8635753b27b5c4e17470461fc2a2fc741'], preserve_order=False, actor_locality_enabled=True, verbose_progress=False)\n",
      "\u001b[2m\u001b[36m(SplitCoordinator pid=55407)\u001b[0m Tip: For detailed progress reporting, run `ray.data.DataContext.get_current().execution_options.verbose_progress = True`\n"
     ]
    },
    {
     "data": {
      "application/vnd.jupyter.widget-view+json": {
       "model_id": "6d6e7b6139694ed2ad4f7bc0e8914737",
       "version_major": 2,
       "version_minor": 0
      },
      "text/plain": [
       "(pid=55407) Running 0:   0%|          | 0/1 [00:00<?, ?it/s]"
      ]
     },
     "metadata": {},
     "output_type": "display_data"
    },
    {
     "name": "stderr",
     "output_type": "stream",
     "text": [
      " 50%|█████     | 1071/2136 [12:38<2:11:12,  7.39s/it]\n",
      " 50%|█████     | 1072/2136 [12:39<1:35:23,  5.38s/it]\n",
      " 50%|█████     | 1073/2136 [12:40<1:10:21,  3.97s/it]\n",
      " 50%|█████     | 1074/2136 [12:40<52:50,  2.98s/it]  \n",
      " 50%|█████     | 1075/2136 [12:41<40:35,  2.30s/it]\n",
      " 50%|█████     | 1076/2136 [12:42<32:01,  1.81s/it]\n",
      " 50%|█████     | 1077/2136 [12:42<26:02,  1.48s/it]\n",
      " 50%|█████     | 1078/2136 [12:43<21:51,  1.24s/it]\n",
      " 51%|█████     | 1079/2136 [12:44<18:54,  1.07s/it]\n",
      " 51%|█████     | 1080/2136 [12:44<16:51,  1.04it/s]\n",
      " 51%|█████     | 1081/2136 [12:45<15:25,  1.14it/s]\n",
      " 51%|█████     | 1082/2136 [12:46<14:23,  1.22it/s]\n",
      " 51%|█████     | 1083/2136 [12:46<13:41,  1.28it/s]\n",
      " 51%|█████     | 1084/2136 [12:47<13:10,  1.33it/s]\n",
      " 51%|█████     | 1085/2136 [12:48<12:49,  1.37it/s]\n",
      " 51%|█████     | 1086/2136 [12:48<12:34,  1.39it/s]\n",
      " 51%|█████     | 1087/2136 [12:49<12:24,  1.41it/s]\n",
      " 51%|█████     | 1088/2136 [12:50<12:16,  1.42it/s]\n",
      " 51%|█████     | 1089/2136 [12:51<12:12,  1.43it/s]\n",
      " 51%|█████     | 1090/2136 [12:51<12:07,  1.44it/s]\n",
      " 51%|█████     | 1091/2136 [12:52<12:04,  1.44it/s]\n",
      " 51%|█████     | 1092/2136 [12:53<12:01,  1.45it/s]\n",
      " 51%|█████     | 1093/2136 [12:53<12:00,  1.45it/s]\n",
      " 51%|█████     | 1094/2136 [12:54<11:58,  1.45it/s]\n",
      " 51%|█████▏    | 1095/2136 [12:55<11:57,  1.45it/s]\n",
      " 51%|█████▏    | 1096/2136 [12:55<11:56,  1.45it/s]\n",
      " 51%|█████▏    | 1097/2136 [12:56<11:55,  1.45it/s]\n",
      " 51%|█████▏    | 1098/2136 [12:57<11:54,  1.45it/s]\n",
      " 51%|█████▏    | 1099/2136 [12:57<11:54,  1.45it/s]\n",
      " 51%|█████▏    | 1100/2136 [12:58<11:53,  1.45it/s]\n",
      " 52%|█████▏    | 1101/2136 [12:59<11:53,  1.45it/s]\n",
      " 52%|█████▏    | 1102/2136 [13:00<11:52,  1.45it/s]\n",
      " 52%|█████▏    | 1103/2136 [13:00<11:51,  1.45it/s]\n",
      " 52%|█████▏    | 1104/2136 [13:01<11:50,  1.45it/s]\n",
      " 52%|█████▏    | 1105/2136 [13:02<11:50,  1.45it/s]\n",
      " 52%|█████▏    | 1106/2136 [13:02<11:49,  1.45it/s]\n",
      " 52%|█████▏    | 1107/2136 [13:03<11:49,  1.45it/s]\n",
      " 52%|█████▏    | 1108/2136 [13:04<11:48,  1.45it/s]\n",
      " 52%|█████▏    | 1109/2136 [13:04<11:48,  1.45it/s]\n",
      " 52%|█████▏    | 1110/2136 [13:05<11:47,  1.45it/s]\n",
      " 52%|█████▏    | 1111/2136 [13:06<11:47,  1.45it/s]\n",
      " 52%|█████▏    | 1112/2136 [13:06<11:47,  1.45it/s]\n",
      " 52%|█████▏    | 1113/2136 [13:07<11:47,  1.45it/s]\n",
      " 52%|█████▏    | 1114/2136 [13:08<11:46,  1.45it/s]\n",
      " 52%|█████▏    | 1115/2136 [13:08<11:45,  1.45it/s]\n",
      " 52%|█████▏    | 1116/2136 [13:09<11:44,  1.45it/s]\n",
      " 52%|█████▏    | 1117/2136 [13:10<11:43,  1.45it/s]\n",
      " 52%|█████▏    | 1118/2136 [13:11<11:43,  1.45it/s]\n",
      " 52%|█████▏    | 1119/2136 [13:11<11:43,  1.45it/s]\n",
      " 52%|█████▏    | 1120/2136 [13:12<11:42,  1.45it/s]\n",
      " 52%|█████▏    | 1121/2136 [13:13<11:41,  1.45it/s]\n",
      " 53%|█████▎    | 1122/2136 [13:13<11:40,  1.45it/s]\n",
      " 53%|█████▎    | 1123/2136 [13:14<11:40,  1.45it/s]\n",
      " 53%|█████▎    | 1124/2136 [13:15<11:39,  1.45it/s]\n",
      " 53%|█████▎    | 1125/2136 [13:15<11:40,  1.44it/s]\n",
      " 53%|█████▎    | 1126/2136 [13:16<11:39,  1.44it/s]\n",
      " 53%|█████▎    | 1127/2136 [13:17<11:38,  1.44it/s]\n",
      " 53%|█████▎    | 1128/2136 [13:17<11:38,  1.44it/s]\n",
      " 53%|█████▎    | 1129/2136 [13:18<11:38,  1.44it/s]\n",
      " 53%|█████▎    | 1130/2136 [13:19<11:37,  1.44it/s]\n",
      " 53%|█████▎    | 1131/2136 [13:20<11:37,  1.44it/s]\n",
      " 53%|█████▎    | 1132/2136 [13:20<11:37,  1.44it/s]\n",
      " 53%|█████▎    | 1133/2136 [13:21<11:35,  1.44it/s]\n",
      " 53%|█████▎    | 1134/2136 [13:22<11:35,  1.44it/s]\n",
      " 53%|█████▎    | 1135/2136 [13:22<11:35,  1.44it/s]\n",
      " 53%|█████▎    | 1136/2136 [13:23<11:34,  1.44it/s]\n",
      " 53%|█████▎    | 1137/2136 [13:24<11:33,  1.44it/s]\n",
      " 53%|█████▎    | 1138/2136 [13:24<11:32,  1.44it/s]\n",
      " 53%|█████▎    | 1139/2136 [13:25<11:33,  1.44it/s]\n",
      " 53%|█████▎    | 1140/2136 [13:26<11:31,  1.44it/s]\n",
      " 53%|█████▎    | 1141/2136 [13:27<11:32,  1.44it/s]\n",
      " 53%|█████▎    | 1142/2136 [13:27<11:30,  1.44it/s]\n",
      " 54%|█████▎    | 1143/2136 [13:28<11:30,  1.44it/s]\n",
      " 54%|█████▎    | 1144/2136 [13:29<11:30,  1.44it/s]\n",
      " 54%|█████▎    | 1145/2136 [13:29<11:29,  1.44it/s]\n",
      " 54%|█████▎    | 1146/2136 [13:30<11:28,  1.44it/s]\n",
      " 54%|█████▎    | 1147/2136 [13:31<11:28,  1.44it/s]\n",
      " 54%|█████▎    | 1148/2136 [13:31<11:26,  1.44it/s]\n",
      " 54%|█████▍    | 1149/2136 [13:32<11:25,  1.44it/s]\n",
      " 54%|█████▍    | 1150/2136 [13:33<11:25,  1.44it/s]\n",
      " 54%|█████▍    | 1151/2136 [13:33<11:24,  1.44it/s]\n",
      " 54%|█████▍    | 1152/2136 [13:34<11:24,  1.44it/s]\n",
      " 54%|█████▍    | 1153/2136 [13:35<11:24,  1.44it/s]\n",
      " 54%|█████▍    | 1154/2136 [13:36<11:23,  1.44it/s]\n",
      " 54%|█████▍    | 1155/2136 [13:36<11:23,  1.44it/s]\n",
      " 54%|█████▍    | 1156/2136 [13:37<11:23,  1.43it/s]\n",
      " 54%|█████▍    | 1157/2136 [13:38<11:21,  1.44it/s]\n",
      " 54%|█████▍    | 1158/2136 [13:38<11:22,  1.43it/s]\n",
      " 54%|█████▍    | 1159/2136 [13:39<11:20,  1.44it/s]\n",
      " 54%|█████▍    | 1160/2136 [13:40<11:21,  1.43it/s]\n",
      " 54%|█████▍    | 1161/2136 [13:40<11:19,  1.43it/s]\n",
      " 54%|█████▍    | 1162/2136 [13:41<11:19,  1.43it/s]\n",
      " 54%|█████▍    | 1163/2136 [13:42<11:19,  1.43it/s]\n",
      " 54%|█████▍    | 1164/2136 [13:43<11:18,  1.43it/s]\n",
      " 55%|█████▍    | 1165/2136 [13:43<11:18,  1.43it/s]\n",
      " 55%|█████▍    | 1166/2136 [13:44<11:17,  1.43it/s]\n",
      " 55%|█████▍    | 1167/2136 [13:45<11:16,  1.43it/s]\n",
      " 55%|█████▍    | 1168/2136 [13:45<11:15,  1.43it/s]\n",
      " 55%|█████▍    | 1169/2136 [13:46<11:15,  1.43it/s]\n",
      " 55%|█████▍    | 1170/2136 [13:47<11:14,  1.43it/s]\n",
      " 55%|█████▍    | 1171/2136 [13:47<11:13,  1.43it/s]\n",
      " 55%|█████▍    | 1172/2136 [13:48<11:13,  1.43it/s]\n",
      " 55%|█████▍    | 1173/2136 [13:49<11:12,  1.43it/s]\n",
      " 55%|█████▍    | 1174/2136 [13:50<11:12,  1.43it/s]\n",
      " 55%|█████▌    | 1175/2136 [13:50<11:13,  1.43it/s]\n",
      " 55%|█████▌    | 1176/2136 [13:51<11:10,  1.43it/s]\n",
      " 55%|█████▌    | 1177/2136 [13:52<11:10,  1.43it/s]\n",
      " 55%|█████▌    | 1178/2136 [13:52<11:09,  1.43it/s]\n",
      " 55%|█████▌    | 1179/2136 [13:53<11:09,  1.43it/s]\n",
      " 55%|█████▌    | 1180/2136 [13:54<11:09,  1.43it/s]\n",
      " 55%|█████▌    | 1181/2136 [13:54<11:09,  1.43it/s]\n",
      " 55%|█████▌    | 1182/2136 [13:55<11:07,  1.43it/s]\n",
      " 55%|█████▌    | 1183/2136 [13:56<11:08,  1.43it/s]\n",
      " 55%|█████▌    | 1184/2136 [13:57<11:05,  1.43it/s]\n",
      " 55%|█████▌    | 1185/2136 [13:57<11:05,  1.43it/s]\n",
      " 56%|█████▌    | 1186/2136 [13:58<11:04,  1.43it/s]\n",
      " 56%|█████▌    | 1187/2136 [13:59<11:04,  1.43it/s]\n",
      " 56%|█████▌    | 1188/2136 [13:59<11:04,  1.43it/s]\n",
      " 56%|█████▌    | 1189/2136 [14:00<11:02,  1.43it/s]\n",
      " 56%|█████▌    | 1190/2136 [14:01<11:02,  1.43it/s]\n",
      " 56%|█████▌    | 1191/2136 [14:01<11:00,  1.43it/s]\n",
      " 56%|█████▌    | 1192/2136 [14:02<11:00,  1.43it/s]\n",
      " 56%|█████▌    | 1193/2136 [14:03<11:00,  1.43it/s]\n",
      " 56%|█████▌    | 1194/2136 [14:04<10:58,  1.43it/s]\n",
      " 56%|█████▌    | 1195/2136 [14:04<10:59,  1.43it/s]\n",
      " 56%|█████▌    | 1196/2136 [14:05<10:57,  1.43it/s]\n",
      " 56%|█████▌    | 1197/2136 [14:06<10:58,  1.43it/s]\n",
      " 56%|█████▌    | 1198/2136 [14:06<10:56,  1.43it/s]\n",
      " 56%|█████▌    | 1199/2136 [14:07<10:56,  1.43it/s]\n",
      " 56%|█████▌    | 1200/2136 [14:08<10:56,  1.43it/s]\n",
      " 56%|█████▌    | 1201/2136 [14:08<10:54,  1.43it/s]\n",
      " 56%|█████▋    | 1202/2136 [14:09<10:54,  1.43it/s]\n",
      " 56%|█████▋    | 1203/2136 [14:10<10:53,  1.43it/s]\n",
      " 56%|█████▋    | 1204/2136 [14:11<10:52,  1.43it/s]\n",
      " 56%|█████▋    | 1205/2136 [14:11<10:52,  1.43it/s]\n",
      " 56%|█████▋    | 1206/2136 [14:12<10:50,  1.43it/s]\n",
      " 57%|█████▋    | 1207/2136 [14:13<10:50,  1.43it/s]\n",
      " 57%|█████▋    | 1208/2136 [14:13<10:48,  1.43it/s]\n",
      " 57%|█████▋    | 1209/2136 [14:14<10:48,  1.43it/s]\n",
      " 57%|█████▋    | 1210/2136 [14:15<10:46,  1.43it/s]\n",
      " 57%|█████▋    | 1211/2136 [14:15<10:46,  1.43it/s]\n",
      " 57%|█████▋    | 1212/2136 [14:16<10:46,  1.43it/s]\n",
      " 57%|█████▋    | 1213/2136 [14:17<10:44,  1.43it/s]\n",
      " 57%|█████▋    | 1214/2136 [14:18<10:45,  1.43it/s]\n",
      " 57%|█████▋    | 1215/2136 [14:18<10:44,  1.43it/s]\n",
      " 57%|█████▋    | 1216/2136 [14:19<10:44,  1.43it/s]\n",
      " 57%|█████▋    | 1217/2136 [14:20<10:42,  1.43it/s]\n",
      " 57%|█████▋    | 1218/2136 [14:20<10:42,  1.43it/s]\n",
      " 57%|█████▋    | 1219/2136 [14:21<10:41,  1.43it/s]\n",
      " 57%|█████▋    | 1220/2136 [14:22<10:40,  1.43it/s]\n",
      " 57%|█████▋    | 1221/2136 [14:22<10:38,  1.43it/s]\n",
      " 57%|█████▋    | 1222/2136 [14:23<10:39,  1.43it/s]\n",
      " 57%|█████▋    | 1223/2136 [14:24<10:37,  1.43it/s]\n",
      " 57%|█████▋    | 1224/2136 [14:24<10:38,  1.43it/s]\n",
      " 57%|█████▋    | 1225/2136 [14:25<10:35,  1.43it/s]\n",
      " 57%|█████▋    | 1226/2136 [14:26<10:36,  1.43it/s]\n",
      " 57%|█████▋    | 1227/2136 [14:27<10:35,  1.43it/s]\n",
      " 57%|█████▋    | 1228/2136 [14:27<10:34,  1.43it/s]\n",
      " 58%|█████▊    | 1229/2136 [14:28<10:33,  1.43it/s]\n",
      " 58%|█████▊    | 1230/2136 [14:29<10:33,  1.43it/s]\n",
      " 58%|█████▊    | 1231/2136 [14:29<10:32,  1.43it/s]\n",
      " 58%|█████▊    | 1232/2136 [14:30<10:32,  1.43it/s]\n",
      " 58%|█████▊    | 1233/2136 [14:31<10:30,  1.43it/s]\n",
      " 58%|█████▊    | 1234/2136 [14:31<10:30,  1.43it/s]\n",
      " 58%|█████▊    | 1235/2136 [14:32<10:30,  1.43it/s]\n",
      " 58%|█████▊    | 1236/2136 [14:33<10:28,  1.43it/s]\n",
      " 58%|█████▊    | 1237/2136 [14:34<10:28,  1.43it/s]\n",
      " 58%|█████▊    | 1238/2136 [14:34<10:27,  1.43it/s]\n",
      " 58%|█████▊    | 1239/2136 [14:35<10:27,  1.43it/s]\n",
      " 58%|█████▊    | 1240/2136 [14:36<10:26,  1.43it/s]\n",
      " 58%|█████▊    | 1241/2136 [14:36<10:24,  1.43it/s]\n",
      " 58%|█████▊    | 1242/2136 [14:37<10:25,  1.43it/s]\n",
      " 58%|█████▊    | 1243/2136 [14:38<10:22,  1.43it/s]\n",
      " 58%|█████▊    | 1244/2136 [14:38<10:23,  1.43it/s]\n",
      " 58%|█████▊    | 1245/2136 [14:39<10:22,  1.43it/s]\n",
      " 58%|█████▊    | 1246/2136 [14:40<10:23,  1.43it/s]\n",
      " 58%|█████▊    | 1247/2136 [14:41<10:21,  1.43it/s]\n",
      " 58%|█████▊    | 1248/2136 [14:41<10:20,  1.43it/s]\n",
      " 58%|█████▊    | 1249/2136 [14:42<10:19,  1.43it/s]\n",
      " 59%|█████▊    | 1250/2136 [14:43<10:19,  1.43it/s]\n",
      " 59%|█████▊    | 1251/2136 [14:43<10:18,  1.43it/s]\n",
      " 59%|█████▊    | 1252/2136 [14:44<10:17,  1.43it/s]\n",
      " 59%|█████▊    | 1253/2136 [14:45<10:17,  1.43it/s]\n",
      " 59%|█████▊    | 1254/2136 [14:45<10:16,  1.43it/s]\n",
      " 59%|█████▉    | 1255/2136 [14:46<10:16,  1.43it/s]\n",
      " 59%|█████▉    | 1256/2136 [14:47<10:15,  1.43it/s]\n",
      " 59%|█████▉    | 1257/2136 [14:48<10:14,  1.43it/s]\n",
      " 59%|█████▉    | 1258/2136 [14:48<10:14,  1.43it/s]\n",
      " 59%|█████▉    | 1259/2136 [14:49<10:12,  1.43it/s]\n",
      " 59%|█████▉    | 1260/2136 [14:50<10:13,  1.43it/s]\n",
      " 59%|█████▉    | 1261/2136 [14:50<10:11,  1.43it/s]\n",
      " 59%|█████▉    | 1262/2136 [14:51<10:11,  1.43it/s]\n",
      " 59%|█████▉    | 1263/2136 [14:52<10:10,  1.43it/s]\n",
      " 59%|█████▉    | 1264/2136 [14:52<10:10,  1.43it/s]\n",
      " 59%|█████▉    | 1265/2136 [14:53<10:09,  1.43it/s]\n",
      " 59%|█████▉    | 1266/2136 [14:54<10:10,  1.42it/s]\n",
      " 59%|█████▉    | 1267/2136 [14:55<10:07,  1.43it/s]\n",
      " 59%|█████▉    | 1268/2136 [14:55<10:06,  1.43it/s]\n",
      " 59%|█████▉    | 1269/2136 [14:56<10:05,  1.43it/s]\n",
      " 59%|█████▉    | 1270/2136 [14:57<10:07,  1.43it/s]\n",
      " 60%|█████▉    | 1271/2136 [14:57<10:03,  1.43it/s]\n",
      " 60%|█████▉    | 1272/2136 [14:58<10:04,  1.43it/s]\n",
      " 60%|█████▉    | 1273/2136 [14:59<10:02,  1.43it/s]\n",
      " 60%|█████▉    | 1274/2136 [14:59<10:02,  1.43it/s]\n",
      " 60%|█████▉    | 1275/2136 [15:00<10:01,  1.43it/s]\n",
      " 60%|█████▉    | 1276/2136 [15:01<10:02,  1.43it/s]\n",
      " 60%|█████▉    | 1277/2136 [15:02<10:02,  1.43it/s]\n",
      " 60%|█████▉    | 1278/2136 [15:02<09:59,  1.43it/s]\n",
      " 60%|█████▉    | 1279/2136 [15:03<10:00,  1.43it/s]\n",
      " 60%|█████▉    | 1280/2136 [15:04<09:58,  1.43it/s]\n",
      " 60%|█████▉    | 1281/2136 [15:04<09:58,  1.43it/s]\n",
      " 60%|██████    | 1282/2136 [15:05<09:56,  1.43it/s]\n",
      " 60%|██████    | 1283/2136 [15:06<09:56,  1.43it/s]\n",
      " 60%|██████    | 1284/2136 [15:06<09:55,  1.43it/s]\n",
      " 60%|██████    | 1285/2136 [15:07<09:54,  1.43it/s]\n",
      " 60%|██████    | 1286/2136 [15:08<09:53,  1.43it/s]\n",
      " 60%|██████    | 1287/2136 [15:09<09:53,  1.43it/s]\n",
      " 60%|██████    | 1288/2136 [15:09<09:52,  1.43it/s]\n",
      " 60%|██████    | 1289/2136 [15:10<09:51,  1.43it/s]\n",
      " 60%|██████    | 1290/2136 [15:11<09:51,  1.43it/s]\n",
      " 60%|██████    | 1291/2136 [15:11<09:50,  1.43it/s]\n",
      " 60%|██████    | 1292/2136 [15:12<09:49,  1.43it/s]\n",
      " 61%|██████    | 1293/2136 [15:13<09:49,  1.43it/s]\n",
      " 61%|██████    | 1294/2136 [15:13<09:48,  1.43it/s]\n",
      " 61%|██████    | 1295/2136 [15:14<09:48,  1.43it/s]\n",
      " 61%|██████    | 1296/2136 [15:15<09:47,  1.43it/s]\n",
      " 61%|██████    | 1297/2136 [15:16<09:46,  1.43it/s]\n",
      " 61%|██████    | 1298/2136 [15:16<09:46,  1.43it/s]\n",
      " 61%|██████    | 1299/2136 [15:17<09:45,  1.43it/s]\n",
      " 61%|██████    | 1300/2136 [15:18<09:45,  1.43it/s]\n",
      " 61%|██████    | 1301/2136 [15:18<09:43,  1.43it/s]\n",
      " 61%|██████    | 1302/2136 [15:19<09:43,  1.43it/s]\n",
      " 61%|██████    | 1303/2136 [15:20<09:42,  1.43it/s]\n",
      " 61%|██████    | 1304/2136 [15:20<09:42,  1.43it/s]\n"
     ]
    },
    {
     "name": "stdout",
     "output_type": "stream",
     "text": [
      "\u001b[2m\u001b[1m\u001b[36m(autoscaler +41m57s)\u001b[0m [workspace snapshot] New snapshot created successfully (size: 339.99 KB).\n"
     ]
    },
    {
     "name": "stderr",
     "output_type": "stream",
     "text": [
      " 61%|██████    | 1305/2136 [15:21<09:41,  1.43it/s]\n",
      " 61%|██████    | 1306/2136 [15:22<09:40,  1.43it/s]\n",
      " 61%|██████    | 1307/2136 [15:23<09:40,  1.43it/s]\n",
      " 61%|██████    | 1308/2136 [15:23<09:40,  1.43it/s]\n",
      " 61%|██████▏   | 1309/2136 [15:24<09:39,  1.43it/s]\n",
      " 61%|██████▏   | 1310/2136 [15:25<09:38,  1.43it/s]\n",
      " 61%|██████▏   | 1311/2136 [15:25<09:36,  1.43it/s]\n",
      " 61%|██████▏   | 1312/2136 [15:26<09:37,  1.43it/s]\n",
      " 61%|██████▏   | 1313/2136 [15:27<09:35,  1.43it/s]\n",
      " 62%|██████▏   | 1314/2136 [15:27<09:35,  1.43it/s]\n",
      " 62%|██████▏   | 1315/2136 [15:28<09:33,  1.43it/s]\n",
      " 62%|██████▏   | 1316/2136 [15:29<09:33,  1.43it/s]\n",
      " 62%|██████▏   | 1317/2136 [15:30<09:33,  1.43it/s]\n",
      " 62%|██████▏   | 1318/2136 [15:30<09:32,  1.43it/s]\n",
      " 62%|██████▏   | 1319/2136 [15:31<09:32,  1.43it/s]\n",
      " 62%|██████▏   | 1320/2136 [15:32<09:30,  1.43it/s]\n",
      " 62%|██████▏   | 1321/2136 [15:32<09:30,  1.43it/s]\n",
      " 62%|██████▏   | 1322/2136 [15:33<09:29,  1.43it/s]\n",
      " 62%|██████▏   | 1323/2136 [15:34<09:28,  1.43it/s]\n",
      " 62%|██████▏   | 1324/2136 [15:34<09:27,  1.43it/s]\n",
      " 62%|██████▏   | 1325/2136 [15:35<09:27,  1.43it/s]\n",
      " 62%|██████▏   | 1326/2136 [15:36<09:26,  1.43it/s]\n",
      " 62%|██████▏   | 1327/2136 [15:37<09:25,  1.43it/s]\n",
      " 62%|██████▏   | 1328/2136 [15:37<09:25,  1.43it/s]\n",
      " 62%|██████▏   | 1329/2136 [15:38<09:24,  1.43it/s]\n",
      " 62%|██████▏   | 1330/2136 [15:39<09:24,  1.43it/s]\n",
      " 62%|██████▏   | 1331/2136 [15:39<09:23,  1.43it/s]\n",
      " 62%|██████▏   | 1332/2136 [15:40<09:23,  1.43it/s]\n",
      " 62%|██████▏   | 1333/2136 [15:41<09:22,  1.43it/s]\n",
      " 62%|██████▏   | 1334/2136 [15:41<09:21,  1.43it/s]\n",
      " 62%|██████▎   | 1335/2136 [15:42<09:21,  1.43it/s]\n",
      " 63%|██████▎   | 1336/2136 [15:43<09:19,  1.43it/s]\n",
      " 63%|██████▎   | 1337/2136 [15:44<09:19,  1.43it/s]\n",
      " 63%|██████▎   | 1338/2136 [15:44<09:19,  1.43it/s]\n",
      " 63%|██████▎   | 1339/2136 [15:45<09:18,  1.43it/s]\n",
      " 63%|██████▎   | 1340/2136 [15:46<09:17,  1.43it/s]\n",
      " 63%|██████▎   | 1341/2136 [15:46<09:16,  1.43it/s]\n",
      " 63%|██████▎   | 1342/2136 [15:47<09:15,  1.43it/s]\n",
      " 63%|██████▎   | 1343/2136 [15:48<09:15,  1.43it/s]\n",
      " 63%|██████▎   | 1344/2136 [15:48<09:13,  1.43it/s]\n",
      " 63%|██████▎   | 1345/2136 [15:49<09:13,  1.43it/s]\n",
      " 63%|██████▎   | 1346/2136 [15:50<09:12,  1.43it/s]\n",
      " 63%|██████▎   | 1347/2136 [15:51<09:12,  1.43it/s]\n",
      " 63%|██████▎   | 1348/2136 [15:51<09:11,  1.43it/s]\n",
      " 63%|██████▎   | 1349/2136 [15:52<09:11,  1.43it/s]\n",
      " 63%|██████▎   | 1350/2136 [15:53<09:09,  1.43it/s]\n",
      " 63%|██████▎   | 1351/2136 [15:53<09:10,  1.43it/s]\n",
      " 63%|██████▎   | 1352/2136 [15:54<09:08,  1.43it/s]\n",
      " 63%|██████▎   | 1353/2136 [15:55<09:08,  1.43it/s]\n",
      " 63%|██████▎   | 1354/2136 [15:55<09:06,  1.43it/s]\n",
      " 63%|██████▎   | 1355/2136 [15:56<09:06,  1.43it/s]\n",
      " 63%|██████▎   | 1356/2136 [15:57<09:05,  1.43it/s]\n",
      " 64%|██████▎   | 1357/2136 [15:58<09:04,  1.43it/s]\n",
      " 64%|██████▎   | 1358/2136 [15:58<09:04,  1.43it/s]\n",
      " 64%|██████▎   | 1359/2136 [15:59<09:03,  1.43it/s]\n",
      " 64%|██████▎   | 1360/2136 [16:00<09:02,  1.43it/s]\n",
      " 64%|██████▎   | 1361/2136 [16:00<09:02,  1.43it/s]\n",
      " 64%|██████▍   | 1362/2136 [16:01<09:01,  1.43it/s]\n",
      " 64%|██████▍   | 1363/2136 [16:02<09:00,  1.43it/s]\n",
      " 64%|██████▍   | 1364/2136 [16:02<09:00,  1.43it/s]\n",
      " 64%|██████▍   | 1365/2136 [16:03<08:59,  1.43it/s]\n",
      " 64%|██████▍   | 1366/2136 [16:04<08:58,  1.43it/s]\n",
      " 64%|██████▍   | 1367/2136 [16:05<08:57,  1.43it/s]\n",
      " 64%|██████▍   | 1368/2136 [16:05<08:56,  1.43it/s]\n",
      " 64%|██████▍   | 1369/2136 [16:06<08:56,  1.43it/s]\n",
      " 64%|██████▍   | 1370/2136 [16:07<08:55,  1.43it/s]\n",
      " 64%|██████▍   | 1371/2136 [16:07<08:54,  1.43it/s]\n",
      " 64%|██████▍   | 1372/2136 [16:08<08:54,  1.43it/s]\n",
      " 64%|██████▍   | 1373/2136 [16:09<08:53,  1.43it/s]\n",
      " 64%|██████▍   | 1374/2136 [16:09<08:52,  1.43it/s]\n",
      " 64%|██████▍   | 1375/2136 [16:10<08:51,  1.43it/s]\n",
      " 64%|██████▍   | 1376/2136 [16:11<08:51,  1.43it/s]\n",
      " 64%|██████▍   | 1377/2136 [16:12<08:50,  1.43it/s]\n",
      " 65%|██████▍   | 1378/2136 [16:12<08:51,  1.43it/s]\n",
      " 65%|██████▍   | 1379/2136 [16:13<08:50,  1.43it/s]\n",
      " 65%|██████▍   | 1380/2136 [16:14<08:49,  1.43it/s]\n",
      " 65%|██████▍   | 1381/2136 [16:14<08:49,  1.43it/s]\n",
      " 65%|██████▍   | 1382/2136 [16:15<08:47,  1.43it/s]\n",
      " 65%|██████▍   | 1383/2136 [16:16<08:47,  1.43it/s]\n",
      " 65%|██████▍   | 1384/2136 [16:16<08:46,  1.43it/s]\n",
      " 65%|██████▍   | 1385/2136 [16:17<08:45,  1.43it/s]\n",
      " 65%|██████▍   | 1386/2136 [16:18<08:45,  1.43it/s]\n",
      " 65%|██████▍   | 1387/2136 [16:19<08:44,  1.43it/s]\n",
      " 65%|██████▍   | 1388/2136 [16:19<08:44,  1.43it/s]\n",
      " 65%|██████▌   | 1389/2136 [16:20<08:42,  1.43it/s]\n",
      " 65%|██████▌   | 1390/2136 [16:21<08:42,  1.43it/s]\n",
      " 65%|██████▌   | 1391/2136 [16:21<08:42,  1.43it/s]\n",
      " 65%|██████▌   | 1392/2136 [16:22<08:40,  1.43it/s]\n",
      " 65%|██████▌   | 1393/2136 [16:23<08:40,  1.43it/s]\n",
      " 65%|██████▌   | 1394/2136 [16:23<08:39,  1.43it/s]\n",
      " 65%|██████▌   | 1395/2136 [16:24<08:38,  1.43it/s]\n",
      " 65%|██████▌   | 1396/2136 [16:25<08:37,  1.43it/s]\n",
      " 65%|██████▌   | 1397/2136 [16:26<08:36,  1.43it/s]\n",
      " 65%|██████▌   | 1398/2136 [16:26<08:36,  1.43it/s]\n",
      " 65%|██████▌   | 1399/2136 [16:27<08:34,  1.43it/s]\n",
      " 66%|██████▌   | 1400/2136 [16:28<08:34,  1.43it/s]\n",
      " 66%|██████▌   | 1401/2136 [16:28<08:33,  1.43it/s]\n",
      " 66%|██████▌   | 1402/2136 [16:29<08:33,  1.43it/s]\n",
      " 66%|██████▌   | 1403/2136 [16:30<08:32,  1.43it/s]\n",
      " 66%|██████▌   | 1404/2136 [16:30<08:31,  1.43it/s]\n",
      " 66%|██████▌   | 1405/2136 [16:31<08:29,  1.43it/s]\n",
      " 66%|██████▌   | 1406/2136 [16:32<08:29,  1.43it/s]\n",
      " 66%|██████▌   | 1407/2136 [16:33<08:28,  1.43it/s]\n",
      " 66%|██████▌   | 1408/2136 [16:33<08:28,  1.43it/s]\n",
      " 66%|██████▌   | 1409/2136 [16:34<08:27,  1.43it/s]\n",
      " 66%|██████▌   | 1410/2136 [16:35<08:27,  1.43it/s]\n",
      " 66%|██████▌   | 1411/2136 [16:35<08:25,  1.43it/s]\n",
      " 66%|██████▌   | 1412/2136 [16:36<08:26,  1.43it/s]\n",
      " 66%|██████▌   | 1413/2136 [16:37<08:24,  1.43it/s]\n",
      " 66%|██████▌   | 1414/2136 [16:37<08:24,  1.43it/s]\n",
      " 66%|██████▌   | 1415/2136 [16:38<08:23,  1.43it/s]\n",
      " 66%|██████▋   | 1416/2136 [16:39<08:23,  1.43it/s]\n",
      " 66%|██████▋   | 1417/2136 [16:39<08:21,  1.43it/s]\n",
      " 66%|██████▋   | 1418/2136 [16:40<08:21,  1.43it/s]\n",
      " 66%|██████▋   | 1419/2136 [16:41<08:20,  1.43it/s]\n",
      " 66%|██████▋   | 1420/2136 [16:42<08:20,  1.43it/s]\n",
      " 67%|██████▋   | 1421/2136 [16:42<08:18,  1.43it/s]\n",
      " 67%|██████▋   | 1422/2136 [16:43<08:19,  1.43it/s]\n",
      " 67%|██████▋   | 1423/2136 [16:44<08:17,  1.43it/s]\n",
      " 67%|██████▋   | 1424/2136 [16:44<08:17,  1.43it/s]\n",
      " 67%|██████▋   | 1425/2136 [16:45<08:16,  1.43it/s]\n",
      " 67%|██████▋   | 1426/2136 [16:46<08:16,  1.43it/s]\n",
      " 67%|██████▋   | 1427/2136 [16:46<08:14,  1.43it/s]\n",
      " 67%|██████▋   | 1428/2136 [16:47<08:14,  1.43it/s]\n",
      " 67%|██████▋   | 1429/2136 [16:48<08:13,  1.43it/s]\n",
      " 67%|██████▋   | 1430/2136 [16:49<08:13,  1.43it/s]\n",
      " 67%|██████▋   | 1431/2136 [16:49<08:12,  1.43it/s]\n",
      " 67%|██████▋   | 1432/2136 [16:50<08:12,  1.43it/s]\n",
      " 67%|██████▋   | 1433/2136 [16:51<08:10,  1.43it/s]\n",
      " 67%|██████▋   | 1434/2136 [16:51<08:10,  1.43it/s]\n",
      " 67%|██████▋   | 1435/2136 [16:52<08:09,  1.43it/s]\n",
      " 67%|██████▋   | 1436/2136 [16:53<08:08,  1.43it/s]\n",
      " 67%|██████▋   | 1437/2136 [16:53<08:07,  1.43it/s]\n",
      " 67%|██████▋   | 1438/2136 [16:54<08:07,  1.43it/s]\n",
      " 67%|██████▋   | 1439/2136 [16:55<08:06,  1.43it/s]\n",
      " 67%|██████▋   | 1440/2136 [16:56<08:05,  1.43it/s]\n",
      " 67%|██████▋   | 1441/2136 [16:56<08:04,  1.43it/s]\n",
      " 68%|██████▊   | 1442/2136 [16:57<08:03,  1.43it/s]\n",
      " 68%|██████▊   | 1443/2136 [16:58<08:03,  1.43it/s]\n",
      " 68%|██████▊   | 1444/2136 [16:58<08:02,  1.44it/s]\n",
      " 68%|██████▊   | 1445/2136 [16:59<08:00,  1.44it/s]\n",
      " 68%|██████▊   | 1446/2136 [17:00<08:01,  1.43it/s]\n",
      " 68%|██████▊   | 1447/2136 [17:00<08:00,  1.43it/s]\n",
      " 68%|██████▊   | 1448/2136 [17:01<07:59,  1.43it/s]\n",
      " 68%|██████▊   | 1449/2136 [17:02<07:58,  1.44it/s]\n",
      " 68%|██████▊   | 1450/2136 [17:03<07:58,  1.43it/s]\n",
      " 68%|██████▊   | 1451/2136 [17:03<07:58,  1.43it/s]\n",
      " 68%|██████▊   | 1452/2136 [17:04<07:56,  1.43it/s]\n",
      " 68%|██████▊   | 1453/2136 [17:05<07:56,  1.43it/s]\n",
      " 68%|██████▊   | 1454/2136 [17:05<07:55,  1.43it/s]\n",
      " 68%|██████▊   | 1455/2136 [17:06<07:54,  1.44it/s]\n",
      " 68%|██████▊   | 1456/2136 [17:07<07:54,  1.43it/s]\n",
      " 68%|██████▊   | 1457/2136 [17:07<07:53,  1.43it/s]\n",
      " 68%|██████▊   | 1458/2136 [17:08<07:53,  1.43it/s]\n",
      " 68%|██████▊   | 1459/2136 [17:09<07:53,  1.43it/s]\n",
      " 68%|██████▊   | 1460/2136 [17:10<07:51,  1.43it/s]\n",
      " 68%|██████▊   | 1461/2136 [17:10<07:50,  1.43it/s]\n",
      " 68%|██████▊   | 1462/2136 [17:11<07:49,  1.44it/s]\n",
      " 68%|██████▊   | 1463/2136 [17:12<07:50,  1.43it/s]\n",
      " 69%|██████▊   | 1464/2136 [17:12<07:48,  1.43it/s]\n",
      " 69%|██████▊   | 1465/2136 [17:13<07:48,  1.43it/s]\n",
      " 69%|██████▊   | 1466/2136 [17:14<07:47,  1.43it/s]\n",
      " 69%|██████▊   | 1467/2136 [17:14<07:46,  1.43it/s]\n",
      " 69%|██████▊   | 1468/2136 [17:15<07:46,  1.43it/s]\n",
      " 69%|██████▉   | 1469/2136 [17:16<07:44,  1.43it/s]\n",
      " 69%|██████▉   | 1470/2136 [17:16<07:44,  1.43it/s]\n",
      " 69%|██████▉   | 1471/2136 [17:17<07:43,  1.43it/s]\n",
      " 69%|██████▉   | 1472/2136 [17:18<07:43,  1.43it/s]\n",
      " 69%|██████▉   | 1473/2136 [17:19<07:42,  1.43it/s]\n",
      " 69%|██████▉   | 1474/2136 [17:19<07:41,  1.43it/s]\n",
      " 69%|██████▉   | 1475/2136 [17:20<07:41,  1.43it/s]\n",
      " 69%|██████▉   | 1476/2136 [17:21<07:40,  1.43it/s]\n",
      " 69%|██████▉   | 1477/2136 [17:21<07:40,  1.43it/s]\n",
      " 69%|██████▉   | 1478/2136 [17:22<07:38,  1.43it/s]\n",
      " 69%|██████▉   | 1479/2136 [17:23<07:38,  1.43it/s]\n",
      " 69%|██████▉   | 1480/2136 [17:23<07:37,  1.43it/s]\n",
      " 69%|██████▉   | 1481/2136 [17:24<07:36,  1.43it/s]\n",
      " 69%|██████▉   | 1482/2136 [17:25<07:35,  1.43it/s]\n",
      " 69%|██████▉   | 1483/2136 [17:26<07:35,  1.44it/s]\n",
      " 69%|██████▉   | 1484/2136 [17:26<07:34,  1.43it/s]\n",
      " 70%|██████▉   | 1485/2136 [17:27<07:33,  1.43it/s]\n",
      " 70%|██████▉   | 1486/2136 [17:28<07:33,  1.43it/s]\n",
      " 70%|██████▉   | 1487/2136 [17:28<07:32,  1.43it/s]\n",
      " 70%|██████▉   | 1488/2136 [17:29<07:31,  1.43it/s]\n",
      " 70%|██████▉   | 1489/2136 [17:30<07:30,  1.44it/s]\n",
      " 70%|██████▉   | 1490/2136 [17:30<07:30,  1.44it/s]\n",
      " 70%|██████▉   | 1491/2136 [17:31<07:29,  1.43it/s]\n",
      " 70%|██████▉   | 1492/2136 [17:32<07:28,  1.43it/s]\n",
      " 70%|██████▉   | 1493/2136 [17:33<07:28,  1.43it/s]\n",
      " 70%|██████▉   | 1494/2136 [17:33<07:27,  1.43it/s]\n",
      " 70%|██████▉   | 1495/2136 [17:34<07:27,  1.43it/s]\n",
      " 70%|███████   | 1496/2136 [17:35<07:26,  1.43it/s]\n",
      " 70%|███████   | 1497/2136 [17:35<07:25,  1.43it/s]\n",
      " 70%|███████   | 1498/2136 [17:36<07:24,  1.43it/s]\n",
      " 70%|███████   | 1499/2136 [17:37<07:23,  1.44it/s]\n",
      " 70%|███████   | 1500/2136 [17:37<07:23,  1.43it/s]\n",
      " 70%|███████   | 1501/2136 [17:38<07:22,  1.44it/s]\n",
      " 70%|███████   | 1502/2136 [17:39<07:22,  1.43it/s]\n",
      " 70%|███████   | 1503/2136 [17:39<07:20,  1.44it/s]\n",
      " 70%|███████   | 1504/2136 [17:40<07:20,  1.43it/s]\n",
      " 70%|███████   | 1505/2136 [17:41<07:19,  1.44it/s]\n",
      " 71%|███████   | 1506/2136 [17:42<07:18,  1.44it/s]\n",
      " 71%|███████   | 1507/2136 [17:42<07:18,  1.43it/s]\n",
      " 71%|███████   | 1508/2136 [17:43<07:17,  1.44it/s]\n",
      " 71%|███████   | 1509/2136 [17:44<07:17,  1.43it/s]\n",
      " 71%|███████   | 1510/2136 [17:44<07:16,  1.43it/s]\n",
      " 71%|███████   | 1511/2136 [17:45<07:16,  1.43it/s]\n",
      " 71%|███████   | 1512/2136 [17:46<07:14,  1.44it/s]\n",
      " 71%|███████   | 1513/2136 [17:46<07:14,  1.43it/s]\n",
      " 71%|███████   | 1514/2136 [17:47<07:13,  1.43it/s]\n",
      " 71%|███████   | 1515/2136 [17:48<07:12,  1.44it/s]\n",
      " 71%|███████   | 1516/2136 [17:49<07:12,  1.43it/s]\n",
      " 71%|███████   | 1517/2136 [17:49<07:11,  1.43it/s]\n",
      " 71%|███████   | 1518/2136 [17:50<07:11,  1.43it/s]\n",
      " 71%|███████   | 1519/2136 [17:51<07:10,  1.43it/s]\n",
      " 71%|███████   | 1520/2136 [17:51<07:10,  1.43it/s]\n",
      " 71%|███████   | 1521/2136 [17:52<07:09,  1.43it/s]\n",
      " 71%|███████▏  | 1522/2136 [17:53<07:09,  1.43it/s]\n",
      " 71%|███████▏  | 1523/2136 [17:53<07:07,  1.43it/s]\n",
      " 71%|███████▏  | 1524/2136 [17:54<07:07,  1.43it/s]\n",
      " 71%|███████▏  | 1525/2136 [17:55<07:05,  1.44it/s]\n",
      " 71%|███████▏  | 1526/2136 [17:56<07:05,  1.44it/s]\n",
      " 71%|███████▏  | 1527/2136 [17:56<07:04,  1.43it/s]\n",
      " 72%|███████▏  | 1528/2136 [17:57<07:03,  1.44it/s]\n",
      " 72%|███████▏  | 1529/2136 [17:58<07:02,  1.44it/s]\n",
      " 72%|███████▏  | 1530/2136 [17:58<07:01,  1.44it/s]\n",
      " 72%|███████▏  | 1531/2136 [17:59<07:00,  1.44it/s]\n",
      " 72%|███████▏  | 1532/2136 [18:00<07:00,  1.44it/s]\n",
      " 72%|███████▏  | 1533/2136 [18:00<06:59,  1.44it/s]\n",
      " 72%|███████▏  | 1534/2136 [18:01<06:58,  1.44it/s]\n",
      " 72%|███████▏  | 1535/2136 [18:02<06:58,  1.44it/s]\n",
      " 72%|███████▏  | 1536/2136 [18:02<06:57,  1.44it/s]\n",
      " 72%|███████▏  | 1537/2136 [18:03<06:57,  1.44it/s]\n",
      " 72%|███████▏  | 1538/2136 [18:04<06:56,  1.44it/s]\n",
      " 72%|███████▏  | 1539/2136 [18:05<06:55,  1.44it/s]\n",
      " 72%|███████▏  | 1540/2136 [18:05<06:55,  1.44it/s]\n",
      " 72%|███████▏  | 1541/2136 [18:06<06:54,  1.43it/s]\n",
      " 72%|███████▏  | 1542/2136 [18:07<06:52,  1.44it/s]\n",
      " 72%|███████▏  | 1543/2136 [18:07<06:52,  1.44it/s]\n",
      " 72%|███████▏  | 1544/2136 [18:08<06:51,  1.44it/s]\n",
      " 72%|███████▏  | 1545/2136 [18:09<06:50,  1.44it/s]\n",
      " 72%|███████▏  | 1546/2136 [18:09<06:50,  1.44it/s]\n",
      " 72%|███████▏  | 1547/2136 [18:10<06:49,  1.44it/s]\n",
      " 72%|███████▏  | 1548/2136 [18:11<06:48,  1.44it/s]\n",
      " 73%|███████▎  | 1549/2136 [18:12<06:48,  1.44it/s]\n",
      " 73%|███████▎  | 1550/2136 [18:12<06:48,  1.44it/s]\n",
      " 73%|███████▎  | 1551/2136 [18:13<06:47,  1.44it/s]\n",
      " 73%|███████▎  | 1552/2136 [18:14<06:46,  1.44it/s]\n",
      " 73%|███████▎  | 1553/2136 [18:14<06:45,  1.44it/s]\n",
      " 73%|███████▎  | 1554/2136 [18:15<06:45,  1.43it/s]\n",
      " 73%|███████▎  | 1555/2136 [18:16<06:44,  1.44it/s]\n",
      " 73%|███████▎  | 1556/2136 [18:16<06:43,  1.44it/s]\n",
      " 73%|███████▎  | 1557/2136 [18:17<06:42,  1.44it/s]\n",
      " 73%|███████▎  | 1558/2136 [18:18<06:42,  1.44it/s]\n",
      " 73%|███████▎  | 1559/2136 [18:18<06:41,  1.44it/s]\n",
      " 73%|███████▎  | 1560/2136 [18:19<06:40,  1.44it/s]\n",
      " 73%|███████▎  | 1561/2136 [18:20<06:40,  1.44it/s]\n",
      " 73%|███████▎  | 1562/2136 [18:21<06:39,  1.44it/s]\n",
      " 73%|███████▎  | 1563/2136 [18:21<06:38,  1.44it/s]\n",
      " 73%|███████▎  | 1564/2136 [18:22<06:38,  1.44it/s]\n",
      " 73%|███████▎  | 1565/2136 [18:23<06:37,  1.44it/s]\n",
      " 73%|███████▎  | 1566/2136 [18:23<06:36,  1.44it/s]\n",
      " 73%|███████▎  | 1567/2136 [18:24<06:34,  1.44it/s]\n",
      " 73%|███████▎  | 1568/2136 [18:25<06:33,  1.44it/s]\n",
      " 73%|███████▎  | 1569/2136 [18:25<06:32,  1.44it/s]\n",
      " 74%|███████▎  | 1570/2136 [18:26<06:31,  1.45it/s]\n",
      " 74%|███████▎  | 1571/2136 [18:27<06:30,  1.45it/s]\n",
      " 74%|███████▎  | 1572/2136 [18:28<06:28,  1.45it/s]\n",
      " 74%|███████▎  | 1573/2136 [18:28<06:27,  1.45it/s]\n",
      " 74%|███████▎  | 1574/2136 [18:29<06:25,  1.46it/s]\n",
      " 74%|███████▎  | 1575/2136 [18:30<06:23,  1.46it/s]\n",
      " 74%|███████▍  | 1576/2136 [18:30<06:22,  1.47it/s]\n",
      " 74%|███████▍  | 1577/2136 [18:31<06:20,  1.47it/s]\n",
      " 74%|███████▍  | 1578/2136 [18:32<06:19,  1.47it/s]\n",
      " 74%|███████▍  | 1579/2136 [18:32<06:18,  1.47it/s]\n",
      " 74%|███████▍  | 1580/2136 [18:33<06:17,  1.47it/s]\n",
      " 74%|███████▍  | 1581/2136 [18:34<06:15,  1.48it/s]\n",
      " 74%|███████▍  | 1582/2136 [18:34<06:14,  1.48it/s]\n",
      " 74%|███████▍  | 1583/2136 [18:35<06:13,  1.48it/s]\n",
      " 74%|███████▍  | 1584/2136 [18:36<06:12,  1.48it/s]\n",
      " 74%|███████▍  | 1585/2136 [18:36<06:11,  1.48it/s]\n",
      " 74%|███████▍  | 1586/2136 [18:37<06:10,  1.49it/s]\n",
      " 74%|███████▍  | 1587/2136 [18:38<06:09,  1.49it/s]\n",
      " 74%|███████▍  | 1588/2136 [18:38<06:07,  1.49it/s]\n",
      " 74%|███████▍  | 1589/2136 [18:39<06:06,  1.49it/s]\n",
      " 74%|███████▍  | 1590/2136 [18:40<06:05,  1.49it/s]\n",
      " 74%|███████▍  | 1591/2136 [18:40<06:04,  1.49it/s]\n",
      " 75%|███████▍  | 1592/2136 [18:41<06:03,  1.50it/s]\n",
      " 75%|███████▍  | 1593/2136 [18:42<06:03,  1.50it/s]\n",
      " 75%|███████▍  | 1594/2136 [18:42<06:02,  1.50it/s]\n",
      " 75%|███████▍  | 1595/2136 [18:43<06:00,  1.50it/s]\n",
      " 75%|███████▍  | 1596/2136 [18:44<05:59,  1.50it/s]\n",
      " 75%|███████▍  | 1597/2136 [18:44<05:59,  1.50it/s]\n",
      " 75%|███████▍  | 1598/2136 [18:45<05:58,  1.50it/s]\n",
      " 75%|███████▍  | 1599/2136 [18:46<05:58,  1.50it/s]\n",
      " 75%|███████▍  | 1600/2136 [18:46<05:56,  1.50it/s]\n",
      " 75%|███████▍  | 1601/2136 [18:47<05:54,  1.51it/s]\n",
      " 75%|███████▌  | 1602/2136 [18:48<05:53,  1.51it/s]\n",
      " 75%|███████▌  | 1603/2136 [18:48<05:53,  1.51it/s]\n",
      " 75%|███████▌  | 1604/2136 [18:49<05:52,  1.51it/s]\n"
     ]
    },
    {
     "name": "stdout",
     "output_type": "stream",
     "text": [
      "\u001b[2m\u001b[36m(RayTrainWorker pid=55340)\u001b[0m {'loss': 0.2565, 'learning_rate': 4.971910112359551e-06, 'epoch': 2.25}\n"
     ]
    },
    {
     "name": "stderr",
     "output_type": "stream",
     "text": [
      " 75%|███████▌  | 1605/2136 [18:49<04:55,  1.80it/s]***** Running Evaluation *****\n",
      "\u001b[2m\u001b[36m(RayTrainWorker pid=55340)\u001b[0m   Num examples: Unknown\n",
      "\u001b[2m\u001b[36m(RayTrainWorker pid=55340)\u001b[0m   Batch size = 16\n"
     ]
    },
    {
     "data": {
      "application/vnd.jupyter.widget-view+json": {
       "model_id": "f47f72dfd2434530a4d4e1e193e10312",
       "version_major": 2,
       "version_minor": 0
      },
      "text/plain": [
       "(pid=55408) Running 0:   0%|          | 0/1 [00:00<?, ?it/s]"
      ]
     },
     "metadata": {},
     "output_type": "display_data"
    },
    {
     "name": "stderr",
     "output_type": "stream",
     "text": [
      "\u001b[2m\u001b[36m(SplitCoordinator pid=55408)\u001b[0m Executing DAG InputDataBuffer[Input] -> TaskPoolMapOperator[MapBatches(preprocess_function)] -> OutputSplitter[split(1, equal=True)]\n",
      "\u001b[2m\u001b[36m(SplitCoordinator pid=55408)\u001b[0m Execution config: ExecutionOptions(resource_limits=ExecutionResources(cpu=None, gpu=None, object_store_memory=None), locality_with_output=['d18a14d46721e86f86679bc8635753b27b5c4e17470461fc2a2fc741'], preserve_order=False, actor_locality_enabled=True, verbose_progress=False)\n",
      "\u001b[2m\u001b[36m(SplitCoordinator pid=55408)\u001b[0m Tip: For detailed progress reporting, run `ray.data.DataContext.get_current().execution_options.verbose_progress = True`\n",
      " 75%|███████▌  | 1605/2136 [19:05<04:55,  1.80it/s]Saving model checkpoint to distilbert-base-uncased-finetuned-cola/checkpoint-1605\n",
      "\u001b[2m\u001b[36m(RayTrainWorker pid=55340)\u001b[0m Configuration saved in distilbert-base-uncased-finetuned-cola/checkpoint-1605/config.json\n"
     ]
    },
    {
     "name": "stdout",
     "output_type": "stream",
     "text": [
      "\u001b[2m\u001b[36m(RayTrainWorker pid=55340)\u001b[0m {'eval_loss': 0.6462501287460327, 'eval_matthews_correlation': 0.5410039366652665, 'eval_runtime': 15.4093, 'eval_samples_per_second': 67.686, 'eval_steps_per_second': 4.283, 'epoch': 2.25}\n"
     ]
    },
    {
     "name": "stderr",
     "output_type": "stream",
     "text": [
      "\u001b[2m\u001b[36m(RayTrainWorker pid=55340)\u001b[0m Model weights saved in distilbert-base-uncased-finetuned-cola/checkpoint-1605/pytorch_model.bin\n",
      "\u001b[2m\u001b[36m(RayTrainWorker pid=55340)\u001b[0m tokenizer config file saved in distilbert-base-uncased-finetuned-cola/checkpoint-1605/tokenizer_config.json\n",
      "\u001b[2m\u001b[36m(RayTrainWorker pid=55340)\u001b[0m Special tokens file saved in distilbert-base-uncased-finetuned-cola/checkpoint-1605/special_tokens_map.json\n",
      "\u001b[2m\u001b[36m(RayTrainWorker pid=55340)\u001b[0m Checkpoint successfully created at: Checkpoint(filesystem=local, path=/mnt/cluster_storage/ray_results/tune_transformers/TorchTrainer_fac06_00000_0_learning_rate=0.0000_2023-09-05_16-36-04/checkpoint_000002)\n"
     ]
    },
    {
     "data": {
      "application/vnd.jupyter.widget-view+json": {
       "model_id": "3fe1614b757c4fe69188b1b96c5bc4b6",
       "version_major": 2,
       "version_minor": 0
      },
      "text/plain": [
       "(pid=55407) Running 0:   0%|          | 0/1 [00:00<?, ?it/s]"
      ]
     },
     "metadata": {},
     "output_type": "display_data"
    },
    {
     "name": "stderr",
     "output_type": "stream",
     "text": [
      "\u001b[2m\u001b[36m(SplitCoordinator pid=55407)\u001b[0m Executing DAG InputDataBuffer[Input] -> TaskPoolMapOperator[MapBatches(preprocess_function)] -> OutputSplitter[split(1, equal=True)]\n",
      "\u001b[2m\u001b[36m(SplitCoordinator pid=55407)\u001b[0m Execution config: ExecutionOptions(resource_limits=ExecutionResources(cpu=None, gpu=None, object_store_memory=None), locality_with_output=['d18a14d46721e86f86679bc8635753b27b5c4e17470461fc2a2fc741'], preserve_order=False, actor_locality_enabled=True, verbose_progress=False)\n",
      "\u001b[2m\u001b[36m(SplitCoordinator pid=55407)\u001b[0m Tip: For detailed progress reporting, run `ray.data.DataContext.get_current().execution_options.verbose_progress = True`\n",
      " 75%|███████▌  | 1606/2136 [19:12<1:02:59,  7.13s/it]\n",
      " 75%|███████▌  | 1607/2136 [19:12<45:43,  5.19s/it]  \n",
      " 75%|███████▌  | 1608/2136 [19:13<33:39,  3.82s/it]\n",
      " 75%|███████▌  | 1609/2136 [19:14<25:13,  2.87s/it]\n",
      " 75%|███████▌  | 1610/2136 [19:14<19:19,  2.20s/it]\n",
      " 75%|███████▌  | 1611/2136 [19:15<15:12,  1.74s/it]\n",
      " 75%|███████▌  | 1612/2136 [19:16<12:19,  1.41s/it]\n",
      " 76%|███████▌  | 1613/2136 [19:16<10:18,  1.18s/it]\n",
      " 76%|███████▌  | 1614/2136 [19:17<08:53,  1.02s/it]\n",
      " 76%|███████▌  | 1615/2136 [19:18<07:54,  1.10it/s]\n",
      " 76%|███████▌  | 1616/2136 [19:18<07:12,  1.20it/s]\n",
      " 76%|███████▌  | 1617/2136 [19:19<06:43,  1.29it/s]\n",
      " 76%|███████▌  | 1618/2136 [19:20<06:22,  1.35it/s]\n",
      " 76%|███████▌  | 1619/2136 [19:20<06:07,  1.41it/s]\n",
      " 76%|███████▌  | 1620/2136 [19:21<05:57,  1.44it/s]\n",
      " 76%|███████▌  | 1621/2136 [19:21<05:49,  1.47it/s]\n",
      " 76%|███████▌  | 1622/2136 [19:22<05:44,  1.49it/s]\n",
      " 76%|███████▌  | 1623/2136 [19:23<05:40,  1.51it/s]\n",
      " 76%|███████▌  | 1624/2136 [19:23<05:37,  1.52it/s]\n",
      " 76%|███████▌  | 1625/2136 [19:24<05:35,  1.52it/s]\n",
      " 76%|███████▌  | 1626/2136 [19:25<05:33,  1.53it/s]\n",
      " 76%|███████▌  | 1627/2136 [19:25<05:31,  1.53it/s]\n",
      " 76%|███████▌  | 1628/2136 [19:26<05:30,  1.54it/s]\n",
      " 76%|███████▋  | 1629/2136 [19:27<05:29,  1.54it/s]\n",
      " 76%|███████▋  | 1630/2136 [19:27<05:28,  1.54it/s]\n",
      " 76%|███████▋  | 1631/2136 [19:28<05:28,  1.54it/s]\n",
      " 76%|███████▋  | 1632/2136 [19:29<05:27,  1.54it/s]\n",
      " 76%|███████▋  | 1633/2136 [19:29<05:26,  1.54it/s]\n",
      " 76%|███████▋  | 1634/2136 [19:30<05:25,  1.54it/s]\n",
      " 77%|███████▋  | 1635/2136 [19:31<05:24,  1.54it/s]\n",
      " 77%|███████▋  | 1636/2136 [19:31<05:24,  1.54it/s]\n",
      " 77%|███████▋  | 1637/2136 [19:32<05:23,  1.54it/s]\n",
      " 77%|███████▋  | 1638/2136 [19:32<05:22,  1.54it/s]\n",
      " 77%|███████▋  | 1639/2136 [19:33<05:22,  1.54it/s]\n",
      " 77%|███████▋  | 1640/2136 [19:34<05:21,  1.54it/s]\n",
      " 77%|███████▋  | 1641/2136 [19:34<05:20,  1.54it/s]\n",
      " 77%|███████▋  | 1642/2136 [19:35<05:19,  1.54it/s]\n",
      " 77%|███████▋  | 1643/2136 [19:36<05:19,  1.54it/s]\n",
      " 77%|███████▋  | 1644/2136 [19:36<05:18,  1.54it/s]\n",
      " 77%|███████▋  | 1645/2136 [19:37<05:18,  1.54it/s]\n",
      " 77%|███████▋  | 1646/2136 [19:38<05:17,  1.54it/s]\n",
      " 77%|███████▋  | 1647/2136 [19:38<05:16,  1.54it/s]\n",
      " 77%|███████▋  | 1648/2136 [19:39<05:16,  1.54it/s]\n",
      " 77%|███████▋  | 1649/2136 [19:40<05:15,  1.54it/s]\n",
      " 77%|███████▋  | 1650/2136 [19:40<05:14,  1.54it/s]\n",
      " 77%|███████▋  | 1651/2136 [19:41<05:14,  1.54it/s]\n",
      " 77%|███████▋  | 1652/2136 [19:42<05:13,  1.54it/s]\n",
      " 77%|███████▋  | 1653/2136 [19:42<05:12,  1.54it/s]\n",
      " 77%|███████▋  | 1654/2136 [19:43<05:12,  1.54it/s]\n",
      " 77%|███████▋  | 1655/2136 [19:44<05:12,  1.54it/s]\n",
      " 78%|███████▊  | 1656/2136 [19:44<05:10,  1.54it/s]\n",
      " 78%|███████▊  | 1657/2136 [19:45<05:10,  1.54it/s]\n",
      " 78%|███████▊  | 1658/2136 [19:45<05:09,  1.54it/s]\n",
      " 78%|███████▊  | 1659/2136 [19:46<05:09,  1.54it/s]\n",
      " 78%|███████▊  | 1660/2136 [19:47<05:08,  1.54it/s]\n",
      " 78%|███████▊  | 1661/2136 [19:47<05:07,  1.54it/s]\n",
      " 78%|███████▊  | 1662/2136 [19:48<05:07,  1.54it/s]\n",
      " 78%|███████▊  | 1663/2136 [19:49<05:06,  1.54it/s]\n",
      " 78%|███████▊  | 1664/2136 [19:49<05:05,  1.54it/s]\n",
      " 78%|███████▊  | 1665/2136 [19:50<05:05,  1.54it/s]\n",
      " 78%|███████▊  | 1666/2136 [19:51<05:04,  1.54it/s]\n",
      " 78%|███████▊  | 1667/2136 [19:51<05:03,  1.54it/s]\n",
      " 78%|███████▊  | 1668/2136 [19:52<05:03,  1.54it/s]\n",
      " 78%|███████▊  | 1669/2136 [19:53<05:02,  1.54it/s]\n",
      " 78%|███████▊  | 1670/2136 [19:53<05:01,  1.54it/s]\n",
      " 78%|███████▊  | 1671/2136 [19:54<05:01,  1.54it/s]\n",
      " 78%|███████▊  | 1672/2136 [19:55<05:00,  1.54it/s]\n",
      " 78%|███████▊  | 1673/2136 [19:55<04:59,  1.54it/s]\n",
      " 78%|███████▊  | 1674/2136 [19:56<04:59,  1.54it/s]\n",
      " 78%|███████▊  | 1675/2136 [19:56<04:58,  1.54it/s]\n",
      " 78%|███████▊  | 1676/2136 [19:57<04:57,  1.54it/s]\n",
      " 79%|███████▊  | 1677/2136 [19:58<04:57,  1.54it/s]\n",
      " 79%|███████▊  | 1678/2136 [19:58<04:56,  1.54it/s]\n",
      " 79%|███████▊  | 1679/2136 [19:59<04:56,  1.54it/s]\n",
      " 79%|███████▊  | 1680/2136 [20:00<04:55,  1.54it/s]\n",
      " 79%|███████▊  | 1681/2136 [20:00<04:54,  1.54it/s]\n",
      " 79%|███████▊  | 1682/2136 [20:01<04:54,  1.54it/s]\n",
      " 79%|███████▉  | 1683/2136 [20:02<04:53,  1.54it/s]\n",
      " 79%|███████▉  | 1684/2136 [20:02<04:52,  1.54it/s]\n",
      " 79%|███████▉  | 1685/2136 [20:03<04:52,  1.54it/s]\n",
      " 79%|███████▉  | 1686/2136 [20:04<04:51,  1.54it/s]\n",
      " 79%|███████▉  | 1687/2136 [20:04<04:50,  1.54it/s]\n",
      " 79%|███████▉  | 1688/2136 [20:05<04:50,  1.54it/s]\n",
      " 79%|███████▉  | 1689/2136 [20:06<04:49,  1.54it/s]\n",
      " 79%|███████▉  | 1690/2136 [20:06<04:48,  1.54it/s]\n",
      " 79%|███████▉  | 1691/2136 [20:07<04:48,  1.54it/s]\n",
      " 79%|███████▉  | 1692/2136 [20:07<04:47,  1.54it/s]\n",
      " 79%|███████▉  | 1693/2136 [20:08<04:46,  1.54it/s]\n",
      " 79%|███████▉  | 1694/2136 [20:09<04:46,  1.54it/s]\n",
      " 79%|███████▉  | 1695/2136 [20:09<04:45,  1.54it/s]\n",
      " 79%|███████▉  | 1696/2136 [20:10<04:45,  1.54it/s]\n",
      " 79%|███████▉  | 1697/2136 [20:11<04:44,  1.54it/s]\n",
      " 79%|███████▉  | 1698/2136 [20:11<04:43,  1.54it/s]\n",
      " 80%|███████▉  | 1699/2136 [20:12<04:43,  1.54it/s]\n",
      " 80%|███████▉  | 1700/2136 [20:13<04:42,  1.54it/s]\n",
      " 80%|███████▉  | 1701/2136 [20:13<04:41,  1.54it/s]\n",
      " 80%|███████▉  | 1702/2136 [20:14<04:41,  1.54it/s]\n",
      " 80%|███████▉  | 1703/2136 [20:15<04:40,  1.54it/s]\n",
      " 80%|███████▉  | 1704/2136 [20:15<04:39,  1.54it/s]\n",
      " 80%|███████▉  | 1705/2136 [20:16<04:39,  1.54it/s]\n",
      " 80%|███████▉  | 1706/2136 [20:17<05:15,  1.36it/s]\n",
      " 80%|███████▉  | 1707/2136 [20:17<05:03,  1.41it/s]\n",
      " 80%|███████▉  | 1708/2136 [20:18<04:55,  1.45it/s]\n",
      " 80%|████████  | 1709/2136 [20:19<04:49,  1.48it/s]\n",
      " 80%|████████  | 1710/2136 [20:19<04:44,  1.49it/s]\n",
      " 80%|████████  | 1711/2136 [20:20<04:41,  1.51it/s]\n",
      " 80%|████████  | 1712/2136 [20:21<04:39,  1.52it/s]\n"
     ]
    },
    {
     "name": "stdout",
     "output_type": "stream",
     "text": [
      "\u001b[2m\u001b[1m\u001b[36m(autoscaler +46m57s)\u001b[0m [workspace snapshot] New snapshot created successfully (size: 381.44 KB).\n"
     ]
    },
    {
     "name": "stderr",
     "output_type": "stream",
     "text": [
      " 80%|████████  | 1713/2136 [20:21<04:37,  1.52it/s]\n",
      " 80%|████████  | 1714/2136 [20:22<04:35,  1.53it/s]\n",
      " 80%|████████  | 1715/2136 [20:23<04:34,  1.53it/s]\n",
      " 80%|████████  | 1716/2136 [20:23<04:33,  1.54it/s]\n",
      " 80%|████████  | 1717/2136 [20:24<04:32,  1.54it/s]\n",
      " 80%|████████  | 1718/2136 [20:25<04:31,  1.54it/s]\n",
      " 80%|████████  | 1719/2136 [20:25<04:30,  1.54it/s]\n",
      " 81%|████████  | 1720/2136 [20:26<04:30,  1.54it/s]\n",
      " 81%|████████  | 1721/2136 [20:27<04:29,  1.54it/s]\n",
      " 81%|████████  | 1722/2136 [20:27<04:28,  1.54it/s]\n",
      " 81%|████████  | 1723/2136 [20:28<04:28,  1.54it/s]\n",
      " 81%|████████  | 1724/2136 [20:29<04:27,  1.54it/s]\n",
      " 81%|████████  | 1725/2136 [20:29<04:26,  1.54it/s]\n",
      " 81%|████████  | 1726/2136 [20:30<04:26,  1.54it/s]\n",
      " 81%|████████  | 1727/2136 [20:30<04:25,  1.54it/s]\n",
      " 81%|████████  | 1728/2136 [20:31<04:24,  1.54it/s]\n",
      " 81%|████████  | 1729/2136 [20:32<04:24,  1.54it/s]\n",
      " 81%|████████  | 1730/2136 [20:32<04:23,  1.54it/s]\n",
      " 81%|████████  | 1731/2136 [20:33<04:22,  1.54it/s]\n",
      " 81%|████████  | 1732/2136 [20:34<04:22,  1.54it/s]\n",
      " 81%|████████  | 1733/2136 [20:34<04:21,  1.54it/s]\n",
      " 81%|████████  | 1734/2136 [20:35<04:21,  1.54it/s]\n",
      " 81%|████████  | 1735/2136 [20:36<04:20,  1.54it/s]\n",
      " 81%|████████▏ | 1736/2136 [20:36<04:19,  1.54it/s]\n",
      " 81%|████████▏ | 1737/2136 [20:37<04:19,  1.54it/s]\n",
      " 81%|████████▏ | 1738/2136 [20:38<04:18,  1.54it/s]\n",
      " 81%|████████▏ | 1739/2136 [20:38<04:17,  1.54it/s]\n",
      " 81%|████████▏ | 1740/2136 [20:39<04:16,  1.54it/s]\n",
      " 82%|████████▏ | 1741/2136 [20:40<04:16,  1.54it/s]\n",
      " 82%|████████▏ | 1742/2136 [20:40<04:15,  1.54it/s]\n",
      " 82%|████████▏ | 1743/2136 [20:41<04:14,  1.54it/s]\n",
      " 82%|████████▏ | 1744/2136 [20:41<04:14,  1.54it/s]\n",
      " 82%|████████▏ | 1745/2136 [20:42<04:13,  1.54it/s]\n",
      " 82%|████████▏ | 1746/2136 [20:43<04:12,  1.54it/s]\n",
      " 82%|████████▏ | 1747/2136 [20:43<04:12,  1.54it/s]\n",
      " 82%|████████▏ | 1748/2136 [20:44<04:11,  1.54it/s]\n",
      " 82%|████████▏ | 1749/2136 [20:45<04:10,  1.54it/s]\n",
      " 82%|████████▏ | 1750/2136 [20:45<04:10,  1.54it/s]\n",
      " 82%|████████▏ | 1751/2136 [20:46<04:09,  1.54it/s]\n",
      " 82%|████████▏ | 1752/2136 [20:47<04:08,  1.54it/s]\n",
      " 82%|████████▏ | 1753/2136 [20:47<04:08,  1.54it/s]\n",
      " 82%|████████▏ | 1754/2136 [20:48<04:07,  1.54it/s]\n",
      " 82%|████████▏ | 1755/2136 [20:49<04:06,  1.54it/s]\n",
      " 82%|████████▏ | 1756/2136 [20:49<04:06,  1.54it/s]\n",
      " 82%|████████▏ | 1757/2136 [20:50<04:05,  1.54it/s]\n",
      " 82%|████████▏ | 1758/2136 [20:51<04:04,  1.54it/s]\n",
      " 82%|████████▏ | 1759/2136 [20:51<04:04,  1.54it/s]\n",
      " 82%|████████▏ | 1760/2136 [20:52<04:03,  1.54it/s]\n",
      " 82%|████████▏ | 1761/2136 [20:52<04:02,  1.54it/s]\n",
      " 82%|████████▏ | 1762/2136 [20:53<04:02,  1.54it/s]\n",
      " 83%|████████▎ | 1763/2136 [20:54<04:01,  1.54it/s]\n",
      " 83%|████████▎ | 1764/2136 [20:54<04:01,  1.54it/s]\n",
      " 83%|████████▎ | 1765/2136 [20:55<04:00,  1.54it/s]\n",
      " 83%|████████▎ | 1766/2136 [20:56<03:59,  1.54it/s]\n",
      " 83%|████████▎ | 1767/2136 [20:56<03:59,  1.54it/s]\n",
      " 83%|████████▎ | 1768/2136 [20:57<03:58,  1.54it/s]\n",
      " 83%|████████▎ | 1769/2136 [20:58<03:57,  1.54it/s]\n",
      " 83%|████████▎ | 1770/2136 [20:58<03:57,  1.54it/s]\n",
      " 83%|████████▎ | 1771/2136 [20:59<03:56,  1.54it/s]\n",
      " 83%|████████▎ | 1772/2136 [21:00<03:55,  1.54it/s]\n",
      " 83%|████████▎ | 1773/2136 [21:00<03:55,  1.54it/s]\n",
      " 83%|████████▎ | 1774/2136 [21:01<03:54,  1.54it/s]\n",
      " 83%|████████▎ | 1775/2136 [21:02<03:53,  1.54it/s]\n",
      " 83%|████████▎ | 1776/2136 [21:02<03:53,  1.54it/s]\n",
      " 83%|████████▎ | 1777/2136 [21:03<03:52,  1.54it/s]\n",
      " 83%|████████▎ | 1778/2136 [21:04<03:51,  1.54it/s]\n",
      " 83%|████████▎ | 1779/2136 [21:04<03:51,  1.54it/s]\n",
      " 83%|████████▎ | 1780/2136 [21:05<03:50,  1.54it/s]\n",
      " 83%|████████▎ | 1781/2136 [21:05<03:50,  1.54it/s]\n",
      " 83%|████████▎ | 1782/2136 [21:06<03:49,  1.54it/s]\n",
      " 83%|████████▎ | 1783/2136 [21:07<03:48,  1.54it/s]\n",
      " 84%|████████▎ | 1784/2136 [21:07<03:48,  1.54it/s]\n",
      " 84%|████████▎ | 1785/2136 [21:08<03:47,  1.54it/s]\n",
      " 84%|████████▎ | 1786/2136 [21:09<03:47,  1.54it/s]\n",
      " 84%|████████▎ | 1787/2136 [21:09<03:46,  1.54it/s]\n",
      " 84%|████████▎ | 1788/2136 [21:10<03:45,  1.54it/s]\n",
      " 84%|████████▍ | 1789/2136 [21:11<03:44,  1.54it/s]\n",
      " 84%|████████▍ | 1790/2136 [21:11<03:44,  1.54it/s]\n",
      " 84%|████████▍ | 1791/2136 [21:12<03:43,  1.54it/s]\n",
      " 84%|████████▍ | 1792/2136 [21:13<03:43,  1.54it/s]\n",
      " 84%|████████▍ | 1793/2136 [21:13<03:42,  1.54it/s]\n",
      " 84%|████████▍ | 1794/2136 [21:14<03:41,  1.54it/s]\n",
      " 84%|████████▍ | 1795/2136 [21:15<03:42,  1.54it/s]\n",
      " 84%|████████▍ | 1796/2136 [21:15<03:41,  1.54it/s]\n",
      " 84%|████████▍ | 1797/2136 [21:16<03:40,  1.54it/s]\n",
      " 84%|████████▍ | 1798/2136 [21:16<03:39,  1.54it/s]\n",
      " 84%|████████▍ | 1799/2136 [21:17<03:38,  1.54it/s]\n",
      " 84%|████████▍ | 1800/2136 [21:18<03:38,  1.54it/s]\n",
      " 84%|████████▍ | 1801/2136 [21:18<03:37,  1.54it/s]\n",
      " 84%|████████▍ | 1802/2136 [21:19<03:36,  1.54it/s]\n",
      " 84%|████████▍ | 1803/2136 [21:20<03:36,  1.54it/s]\n",
      " 84%|████████▍ | 1804/2136 [21:20<03:36,  1.54it/s]\n",
      " 85%|████████▍ | 1805/2136 [21:21<03:35,  1.53it/s]\n",
      " 85%|████████▍ | 1806/2136 [21:22<03:34,  1.53it/s]\n",
      " 85%|████████▍ | 1807/2136 [21:22<03:33,  1.54it/s]\n",
      " 85%|████████▍ | 1808/2136 [21:23<03:33,  1.54it/s]\n",
      " 85%|████████▍ | 1809/2136 [21:24<03:32,  1.54it/s]\n",
      " 85%|████████▍ | 1810/2136 [21:24<03:31,  1.54it/s]\n",
      " 85%|████████▍ | 1811/2136 [21:25<03:31,  1.53it/s]\n",
      " 85%|████████▍ | 1812/2136 [21:26<03:31,  1.53it/s]\n",
      " 85%|████████▍ | 1813/2136 [21:26<03:30,  1.53it/s]\n",
      " 85%|████████▍ | 1814/2136 [21:27<03:30,  1.53it/s]\n",
      " 85%|████████▍ | 1815/2136 [21:28<03:30,  1.53it/s]\n",
      " 85%|████████▌ | 1816/2136 [21:28<03:28,  1.53it/s]\n",
      " 85%|████████▌ | 1817/2136 [21:29<03:28,  1.53it/s]\n",
      " 85%|████████▌ | 1818/2136 [21:30<03:27,  1.53it/s]\n",
      " 85%|████████▌ | 1819/2136 [21:30<03:27,  1.53it/s]\n",
      " 85%|████████▌ | 1820/2136 [21:31<03:26,  1.53it/s]\n",
      " 85%|████████▌ | 1821/2136 [21:31<03:25,  1.53it/s]\n",
      " 85%|████████▌ | 1822/2136 [21:32<03:25,  1.53it/s]\n",
      " 85%|████████▌ | 1823/2136 [21:33<03:24,  1.53it/s]\n",
      " 85%|████████▌ | 1824/2136 [21:33<03:23,  1.53it/s]\n",
      " 85%|████████▌ | 1825/2136 [21:34<03:22,  1.53it/s]\n",
      " 85%|████████▌ | 1826/2136 [21:35<03:22,  1.53it/s]\n",
      " 86%|████████▌ | 1827/2136 [21:35<03:22,  1.53it/s]\n",
      " 86%|████████▌ | 1828/2136 [21:36<03:21,  1.53it/s]\n",
      " 86%|████████▌ | 1829/2136 [21:37<03:20,  1.53it/s]\n",
      " 86%|████████▌ | 1830/2136 [21:37<03:20,  1.52it/s]\n",
      " 86%|████████▌ | 1831/2136 [21:38<03:19,  1.53it/s]\n",
      " 86%|████████▌ | 1832/2136 [21:39<03:18,  1.53it/s]\n",
      " 86%|████████▌ | 1833/2136 [21:39<03:18,  1.53it/s]\n",
      " 86%|████████▌ | 1834/2136 [21:40<03:17,  1.53it/s]\n",
      " 86%|████████▌ | 1835/2136 [21:41<03:17,  1.53it/s]\n",
      " 86%|████████▌ | 1836/2136 [21:41<03:16,  1.52it/s]\n",
      " 86%|████████▌ | 1837/2136 [21:42<03:15,  1.53it/s]\n",
      " 86%|████████▌ | 1838/2136 [21:43<03:15,  1.53it/s]\n",
      " 86%|████████▌ | 1839/2136 [21:43<03:14,  1.53it/s]\n",
      " 86%|████████▌ | 1840/2136 [21:44<03:14,  1.52it/s]\n",
      " 86%|████████▌ | 1841/2136 [21:45<03:13,  1.52it/s]\n",
      " 86%|████████▌ | 1842/2136 [21:45<03:13,  1.52it/s]\n",
      " 86%|████████▋ | 1843/2136 [21:46<03:12,  1.52it/s]\n",
      " 86%|████████▋ | 1844/2136 [21:47<03:11,  1.52it/s]\n",
      " 86%|████████▋ | 1845/2136 [21:47<03:11,  1.52it/s]\n",
      " 86%|████████▋ | 1846/2136 [21:48<03:10,  1.52it/s]\n",
      " 86%|████████▋ | 1847/2136 [21:49<03:09,  1.52it/s]\n",
      " 87%|████████▋ | 1848/2136 [21:49<03:09,  1.52it/s]\n",
      " 87%|████████▋ | 1849/2136 [21:50<03:08,  1.52it/s]\n",
      " 87%|████████▋ | 1850/2136 [21:51<03:08,  1.52it/s]\n",
      " 87%|████████▋ | 1851/2136 [21:51<03:07,  1.52it/s]\n",
      " 87%|████████▋ | 1852/2136 [21:52<03:06,  1.52it/s]\n",
      " 87%|████████▋ | 1853/2136 [21:52<03:06,  1.52it/s]\n",
      " 87%|████████▋ | 1854/2136 [21:53<03:05,  1.52it/s]\n",
      " 87%|████████▋ | 1855/2136 [21:54<03:04,  1.52it/s]\n",
      " 87%|████████▋ | 1856/2136 [21:54<03:04,  1.52it/s]\n",
      " 87%|████████▋ | 1857/2136 [21:55<03:03,  1.52it/s]\n",
      " 87%|████████▋ | 1858/2136 [21:56<03:02,  1.52it/s]\n",
      " 87%|████████▋ | 1859/2136 [21:56<03:02,  1.52it/s]\n",
      " 87%|████████▋ | 1860/2136 [21:57<03:01,  1.52it/s]\n",
      " 87%|████████▋ | 1861/2136 [21:58<03:00,  1.52it/s]\n",
      " 87%|████████▋ | 1862/2136 [21:58<03:00,  1.52it/s]\n",
      " 87%|████████▋ | 1863/2136 [21:59<02:59,  1.52it/s]\n",
      " 87%|████████▋ | 1864/2136 [22:00<02:59,  1.52it/s]\n",
      " 87%|████████▋ | 1865/2136 [22:00<02:58,  1.52it/s]\n",
      " 87%|████████▋ | 1866/2136 [22:01<02:56,  1.53it/s]\n",
      " 87%|████████▋ | 1867/2136 [22:02<02:56,  1.52it/s]\n",
      " 87%|████████▋ | 1868/2136 [22:02<02:56,  1.52it/s]\n",
      " 88%|████████▊ | 1869/2136 [22:03<02:55,  1.52it/s]\n",
      " 88%|████████▊ | 1870/2136 [22:04<02:55,  1.52it/s]\n",
      " 88%|████████▊ | 1871/2136 [22:04<02:54,  1.52it/s]\n",
      " 88%|████████▊ | 1872/2136 [22:05<02:54,  1.52it/s]\n",
      " 88%|████████▊ | 1873/2136 [22:06<02:53,  1.52it/s]\n",
      " 88%|████████▊ | 1874/2136 [22:06<02:52,  1.52it/s]\n",
      " 88%|████████▊ | 1875/2136 [22:07<02:52,  1.52it/s]\n",
      " 88%|████████▊ | 1876/2136 [22:08<02:51,  1.51it/s]\n",
      " 88%|████████▊ | 1877/2136 [22:08<02:51,  1.51it/s]\n",
      " 88%|████████▊ | 1878/2136 [22:09<02:50,  1.51it/s]\n",
      " 88%|████████▊ | 1879/2136 [22:10<02:49,  1.51it/s]\n",
      " 88%|████████▊ | 1880/2136 [22:10<02:49,  1.51it/s]\n",
      " 88%|████████▊ | 1881/2136 [22:11<02:48,  1.51it/s]\n",
      " 88%|████████▊ | 1882/2136 [22:12<02:47,  1.51it/s]\n",
      " 88%|████████▊ | 1883/2136 [22:12<02:47,  1.51it/s]\n",
      " 88%|████████▊ | 1884/2136 [22:13<02:46,  1.51it/s]\n",
      " 88%|████████▊ | 1885/2136 [22:14<02:45,  1.51it/s]\n",
      " 88%|████████▊ | 1886/2136 [22:14<02:45,  1.51it/s]\n",
      " 88%|████████▊ | 1887/2136 [22:15<02:44,  1.51it/s]\n",
      " 88%|████████▊ | 1888/2136 [22:16<02:44,  1.51it/s]\n",
      " 88%|████████▊ | 1889/2136 [22:16<02:43,  1.51it/s]\n",
      " 88%|████████▊ | 1890/2136 [22:17<02:43,  1.51it/s]\n",
      " 89%|████████▊ | 1891/2136 [22:18<02:42,  1.51it/s]\n",
      " 89%|████████▊ | 1892/2136 [22:18<02:41,  1.51it/s]\n",
      " 89%|████████▊ | 1893/2136 [22:19<02:41,  1.51it/s]\n",
      " 89%|████████▊ | 1894/2136 [22:20<02:40,  1.51it/s]\n",
      " 89%|████████▊ | 1895/2136 [22:20<02:39,  1.51it/s]\n",
      " 89%|████████▉ | 1896/2136 [22:21<02:39,  1.51it/s]\n",
      " 89%|████████▉ | 1897/2136 [22:22<02:38,  1.51it/s]\n",
      " 89%|████████▉ | 1898/2136 [22:22<02:38,  1.50it/s]\n",
      " 89%|████████▉ | 1899/2136 [22:23<02:37,  1.50it/s]\n",
      " 89%|████████▉ | 1900/2136 [22:24<02:36,  1.50it/s]\n",
      " 89%|████████▉ | 1901/2136 [22:24<02:36,  1.50it/s]\n",
      " 89%|████████▉ | 1902/2136 [22:25<02:35,  1.50it/s]\n",
      " 89%|████████▉ | 1903/2136 [22:26<02:34,  1.50it/s]\n",
      " 89%|████████▉ | 1904/2136 [22:26<02:34,  1.50it/s]\n",
      " 89%|████████▉ | 1905/2136 [22:27<02:33,  1.50it/s]\n",
      " 89%|████████▉ | 1906/2136 [22:28<02:33,  1.50it/s]\n",
      " 89%|████████▉ | 1907/2136 [22:28<02:32,  1.50it/s]\n",
      " 89%|████████▉ | 1908/2136 [22:29<02:32,  1.50it/s]\n",
      " 89%|████████▉ | 1909/2136 [22:30<02:31,  1.50it/s]\n",
      " 89%|████████▉ | 1910/2136 [22:30<02:30,  1.50it/s]\n",
      " 89%|████████▉ | 1911/2136 [22:31<02:30,  1.50it/s]\n",
      " 90%|████████▉ | 1912/2136 [22:32<02:29,  1.50it/s]\n",
      " 90%|████████▉ | 1913/2136 [22:32<02:29,  1.49it/s]\n",
      " 90%|████████▉ | 1914/2136 [22:33<02:28,  1.49it/s]\n",
      " 90%|████████▉ | 1915/2136 [22:34<02:27,  1.49it/s]\n",
      " 90%|████████▉ | 1916/2136 [22:34<02:27,  1.49it/s]\n",
      " 90%|████████▉ | 1917/2136 [22:35<02:26,  1.49it/s]\n",
      " 90%|████████▉ | 1918/2136 [22:36<02:25,  1.49it/s]\n",
      " 90%|████████▉ | 1919/2136 [22:36<02:25,  1.49it/s]\n",
      " 90%|████████▉ | 1920/2136 [22:37<02:24,  1.49it/s]\n",
      " 90%|████████▉ | 1921/2136 [22:38<02:23,  1.49it/s]\n",
      " 90%|████████▉ | 1922/2136 [22:38<02:23,  1.49it/s]\n",
      " 90%|█████████ | 1923/2136 [22:39<02:22,  1.49it/s]\n",
      " 90%|█████████ | 1924/2136 [22:40<02:21,  1.49it/s]\n",
      " 90%|█████████ | 1925/2136 [22:40<02:21,  1.49it/s]\n",
      " 90%|█████████ | 1926/2136 [22:41<02:20,  1.49it/s]\n",
      " 90%|█████████ | 1927/2136 [22:42<02:19,  1.49it/s]\n",
      " 90%|█████████ | 1928/2136 [22:42<02:19,  1.49it/s]\n",
      " 90%|█████████ | 1929/2136 [22:43<02:18,  1.49it/s]\n",
      " 90%|█████████ | 1930/2136 [22:44<02:18,  1.49it/s]\n",
      " 90%|█████████ | 1931/2136 [22:44<02:18,  1.48it/s]\n",
      " 90%|█████████ | 1932/2136 [22:45<02:17,  1.49it/s]\n",
      " 90%|█████████ | 1933/2136 [22:46<02:16,  1.49it/s]\n",
      " 91%|█████████ | 1934/2136 [22:46<02:15,  1.49it/s]\n",
      " 91%|█████████ | 1935/2136 [22:47<02:15,  1.49it/s]\n",
      " 91%|█████████ | 1936/2136 [22:48<02:14,  1.49it/s]\n",
      " 91%|█████████ | 1937/2136 [22:48<02:13,  1.49it/s]\n",
      " 91%|█████████ | 1938/2136 [22:49<02:13,  1.49it/s]\n",
      " 91%|█████████ | 1939/2136 [22:50<02:12,  1.49it/s]\n",
      " 91%|█████████ | 1940/2136 [22:50<02:11,  1.49it/s]\n",
      " 91%|█████████ | 1941/2136 [22:51<02:10,  1.49it/s]\n",
      " 91%|█████████ | 1942/2136 [22:52<02:10,  1.49it/s]\n",
      " 91%|█████████ | 1943/2136 [22:52<02:09,  1.49it/s]\n",
      " 91%|█████████ | 1944/2136 [22:53<02:09,  1.48it/s]\n",
      " 91%|█████████ | 1945/2136 [22:54<02:08,  1.48it/s]\n",
      " 91%|█████████ | 1946/2136 [22:54<02:08,  1.48it/s]\n",
      " 91%|█████████ | 1947/2136 [22:55<02:07,  1.48it/s]\n",
      " 91%|█████████ | 1948/2136 [22:56<02:06,  1.48it/s]\n",
      " 91%|█████████ | 1949/2136 [22:56<02:06,  1.48it/s]\n",
      " 91%|█████████▏| 1950/2136 [22:57<02:05,  1.48it/s]\n",
      " 91%|█████████▏| 1951/2136 [22:58<02:04,  1.48it/s]\n",
      " 91%|█████████▏| 1952/2136 [22:58<02:04,  1.48it/s]\n",
      " 91%|█████████▏| 1953/2136 [22:59<02:03,  1.48it/s]\n",
      " 91%|█████████▏| 1954/2136 [23:00<02:02,  1.48it/s]\n",
      " 92%|█████████▏| 1955/2136 [23:00<02:02,  1.48it/s]\n",
      " 92%|█████████▏| 1956/2136 [23:01<02:01,  1.48it/s]\n",
      " 92%|█████████▏| 1957/2136 [23:02<02:00,  1.48it/s]\n",
      " 92%|█████████▏| 1958/2136 [23:02<02:00,  1.48it/s]\n",
      " 92%|█████████▏| 1959/2136 [23:03<01:59,  1.48it/s]\n",
      " 92%|█████████▏| 1960/2136 [23:04<01:59,  1.48it/s]\n",
      " 92%|█████████▏| 1961/2136 [23:05<01:58,  1.48it/s]\n",
      " 92%|█████████▏| 1962/2136 [23:05<01:57,  1.48it/s]\n",
      " 92%|█████████▏| 1963/2136 [23:06<01:57,  1.48it/s]\n",
      " 92%|█████████▏| 1964/2136 [23:07<01:56,  1.48it/s]\n",
      " 92%|█████████▏| 1965/2136 [23:07<01:55,  1.48it/s]\n",
      " 92%|█████████▏| 1966/2136 [23:08<01:55,  1.47it/s]\n",
      " 92%|█████████▏| 1967/2136 [23:09<01:54,  1.47it/s]\n",
      " 92%|█████████▏| 1968/2136 [23:09<01:54,  1.47it/s]\n",
      " 92%|█████████▏| 1969/2136 [23:10<01:53,  1.47it/s]\n",
      " 92%|█████████▏| 1970/2136 [23:11<01:52,  1.47it/s]\n",
      " 92%|█████████▏| 1971/2136 [23:11<01:51,  1.47it/s]\n",
      " 92%|█████████▏| 1972/2136 [23:12<01:51,  1.47it/s]\n",
      " 92%|█████████▏| 1973/2136 [23:13<01:50,  1.47it/s]\n",
      " 92%|█████████▏| 1974/2136 [23:13<01:50,  1.47it/s]\n",
      " 92%|█████████▏| 1975/2136 [23:14<01:49,  1.47it/s]\n",
      " 93%|█████████▎| 1976/2136 [23:15<01:48,  1.47it/s]\n",
      " 93%|█████████▎| 1977/2136 [23:15<01:48,  1.47it/s]\n",
      " 93%|█████████▎| 1978/2136 [23:16<01:47,  1.47it/s]\n",
      " 93%|█████████▎| 1979/2136 [23:17<01:46,  1.47it/s]\n",
      " 93%|█████████▎| 1980/2136 [23:17<01:46,  1.47it/s]\n",
      " 93%|█████████▎| 1981/2136 [23:18<01:45,  1.47it/s]\n",
      " 93%|█████████▎| 1982/2136 [23:19<01:44,  1.47it/s]\n",
      " 93%|█████████▎| 1983/2136 [23:19<01:44,  1.47it/s]\n",
      " 93%|█████████▎| 1984/2136 [23:20<01:43,  1.47it/s]\n",
      " 93%|█████████▎| 1985/2136 [23:21<01:42,  1.47it/s]\n",
      " 93%|█████████▎| 1986/2136 [23:22<01:42,  1.46it/s]\n",
      " 93%|█████████▎| 1987/2136 [23:22<01:41,  1.47it/s]\n",
      " 93%|█████████▎| 1988/2136 [23:23<01:40,  1.47it/s]\n",
      " 93%|█████████▎| 1989/2136 [23:24<01:40,  1.46it/s]\n",
      " 93%|█████████▎| 1990/2136 [23:24<01:39,  1.46it/s]\n",
      " 93%|█████████▎| 1991/2136 [23:25<01:39,  1.46it/s]\n",
      " 93%|█████████▎| 1992/2136 [23:26<01:38,  1.46it/s]\n",
      " 93%|█████████▎| 1993/2136 [23:26<01:37,  1.46it/s]\n",
      " 93%|█████████▎| 1994/2136 [23:27<01:37,  1.46it/s]\n",
      " 93%|█████████▎| 1995/2136 [23:28<01:36,  1.46it/s]\n",
      " 93%|█████████▎| 1996/2136 [23:28<01:35,  1.46it/s]\n",
      " 93%|█████████▎| 1997/2136 [23:29<01:35,  1.46it/s]\n",
      " 94%|█████████▎| 1998/2136 [23:30<01:34,  1.46it/s]\n",
      " 94%|█████████▎| 1999/2136 [23:30<01:33,  1.46it/s]\n",
      " 94%|█████████▎| 2000/2136 [23:31<01:33,  1.46it/s]\n",
      " 94%|█████████▎| 2001/2136 [23:32<01:32,  1.46it/s]\n",
      " 94%|█████████▎| 2002/2136 [23:32<01:31,  1.46it/s]\n",
      " 94%|█████████▍| 2003/2136 [23:33<01:31,  1.46it/s]\n",
      " 94%|█████████▍| 2004/2136 [23:34<01:30,  1.46it/s]\n",
      " 94%|█████████▍| 2005/2136 [23:35<01:29,  1.46it/s]\n",
      " 94%|█████████▍| 2006/2136 [23:35<01:29,  1.46it/s]\n",
      " 94%|█████████▍| 2007/2136 [23:36<01:28,  1.46it/s]\n",
      " 94%|█████████▍| 2008/2136 [23:37<01:27,  1.46it/s]\n",
      " 94%|█████████▍| 2009/2136 [23:37<01:27,  1.46it/s]\n",
      " 94%|█████████▍| 2010/2136 [23:38<01:26,  1.46it/s]\n",
      " 94%|█████████▍| 2011/2136 [23:39<01:25,  1.45it/s]\n",
      " 94%|█████████▍| 2012/2136 [23:39<01:25,  1.45it/s]\n",
      " 94%|█████████▍| 2013/2136 [23:40<01:24,  1.45it/s]\n",
      " 94%|█████████▍| 2014/2136 [23:41<01:24,  1.45it/s]\n",
      " 94%|█████████▍| 2015/2136 [23:41<01:23,  1.45it/s]\n",
      " 94%|█████████▍| 2016/2136 [23:42<01:22,  1.45it/s]\n",
      " 94%|█████████▍| 2017/2136 [23:43<01:21,  1.45it/s]\n",
      " 94%|█████████▍| 2018/2136 [23:43<01:21,  1.45it/s]\n",
      " 95%|█████████▍| 2019/2136 [23:44<01:20,  1.45it/s]\n",
      " 95%|█████████▍| 2020/2136 [23:45<01:19,  1.45it/s]\n",
      " 95%|█████████▍| 2021/2136 [23:46<01:19,  1.45it/s]\n",
      " 95%|█████████▍| 2022/2136 [23:46<01:18,  1.45it/s]\n",
      " 95%|█████████▍| 2023/2136 [23:47<01:17,  1.45it/s]\n",
      " 95%|█████████▍| 2024/2136 [23:48<01:17,  1.45it/s]\n",
      " 95%|█████████▍| 2025/2136 [23:48<01:16,  1.45it/s]\n",
      " 95%|█████████▍| 2026/2136 [23:49<01:15,  1.45it/s]\n",
      " 95%|█████████▍| 2027/2136 [23:50<01:15,  1.45it/s]\n",
      " 95%|█████████▍| 2028/2136 [23:50<01:14,  1.45it/s]\n",
      " 95%|█████████▍| 2029/2136 [23:51<01:13,  1.45it/s]\n",
      " 95%|█████████▌| 2030/2136 [23:52<01:13,  1.45it/s]\n",
      " 95%|█████████▌| 2031/2136 [23:52<01:12,  1.45it/s]\n",
      " 95%|█████████▌| 2032/2136 [23:53<01:11,  1.45it/s]\n",
      " 95%|█████████▌| 2033/2136 [23:54<01:10,  1.45it/s]\n",
      " 95%|█████████▌| 2034/2136 [23:54<01:10,  1.45it/s]\n",
      " 95%|█████████▌| 2035/2136 [23:55<01:09,  1.45it/s]\n",
      " 95%|█████████▌| 2036/2136 [23:56<01:08,  1.45it/s]\n",
      " 95%|█████████▌| 2037/2136 [23:57<01:08,  1.45it/s]\n",
      " 95%|█████████▌| 2038/2136 [23:57<01:07,  1.45it/s]\n",
      " 95%|█████████▌| 2039/2136 [23:58<01:06,  1.45it/s]\n",
      " 96%|█████████▌| 2040/2136 [23:59<01:06,  1.45it/s]\n",
      " 96%|█████████▌| 2041/2136 [23:59<01:05,  1.45it/s]\n",
      " 96%|█████████▌| 2042/2136 [24:00<01:04,  1.45it/s]\n",
      " 96%|█████████▌| 2043/2136 [24:01<01:04,  1.45it/s]\n",
      " 96%|█████████▌| 2044/2136 [24:01<01:03,  1.45it/s]\n",
      " 96%|█████████▌| 2045/2136 [24:02<01:02,  1.45it/s]\n",
      " 96%|█████████▌| 2046/2136 [24:03<01:02,  1.45it/s]\n",
      " 96%|█████████▌| 2047/2136 [24:03<01:01,  1.45it/s]\n",
      " 96%|█████████▌| 2048/2136 [24:04<01:00,  1.45it/s]\n",
      " 96%|█████████▌| 2049/2136 [24:05<01:00,  1.45it/s]\n",
      " 96%|█████████▌| 2050/2136 [24:06<00:59,  1.45it/s]\n",
      " 96%|█████████▌| 2051/2136 [24:06<00:58,  1.45it/s]\n",
      " 96%|█████████▌| 2052/2136 [24:07<00:57,  1.45it/s]\n",
      " 96%|█████████▌| 2053/2136 [24:08<00:57,  1.45it/s]\n",
      " 96%|█████████▌| 2054/2136 [24:08<00:56,  1.45it/s]\n",
      " 96%|█████████▌| 2055/2136 [24:09<00:55,  1.45it/s]\n",
      " 96%|█████████▋| 2056/2136 [24:10<00:55,  1.45it/s]\n",
      " 96%|█████████▋| 2057/2136 [24:10<00:54,  1.45it/s]\n",
      " 96%|█████████▋| 2058/2136 [24:11<00:53,  1.45it/s]\n",
      " 96%|█████████▋| 2059/2136 [24:12<00:53,  1.45it/s]\n",
      " 96%|█████████▋| 2060/2136 [24:12<00:52,  1.45it/s]\n",
      " 96%|█████████▋| 2061/2136 [24:13<00:51,  1.45it/s]\n",
      " 97%|█████████▋| 2062/2136 [24:14<00:51,  1.45it/s]\n",
      " 97%|█████████▋| 2063/2136 [24:15<00:50,  1.45it/s]\n",
      " 97%|█████████▋| 2064/2136 [24:15<00:49,  1.45it/s]\n",
      " 97%|█████████▋| 2065/2136 [24:16<00:49,  1.45it/s]\n",
      " 97%|█████████▋| 2066/2136 [24:17<00:48,  1.45it/s]\n",
      " 97%|█████████▋| 2067/2136 [24:17<00:47,  1.45it/s]\n",
      " 97%|█████████▋| 2068/2136 [24:18<00:46,  1.45it/s]\n",
      " 97%|█████████▋| 2069/2136 [24:19<00:46,  1.45it/s]\n",
      " 97%|█████████▋| 2070/2136 [24:19<00:45,  1.45it/s]\n",
      " 97%|█████████▋| 2071/2136 [24:20<00:44,  1.45it/s]\n",
      " 97%|█████████▋| 2072/2136 [24:21<00:44,  1.45it/s]\n",
      " 97%|█████████▋| 2073/2136 [24:21<00:43,  1.45it/s]\n",
      " 97%|█████████▋| 2074/2136 [24:22<00:42,  1.45it/s]\n",
      " 97%|█████████▋| 2075/2136 [24:23<00:42,  1.44it/s]\n",
      " 97%|█████████▋| 2076/2136 [24:24<00:41,  1.45it/s]\n",
      " 97%|█████████▋| 2077/2136 [24:24<00:40,  1.44it/s]\n",
      " 97%|█████████▋| 2078/2136 [24:25<00:40,  1.44it/s]\n",
      " 97%|█████████▋| 2079/2136 [24:26<00:39,  1.44it/s]\n",
      " 97%|█████████▋| 2080/2136 [24:26<00:38,  1.45it/s]\n",
      " 97%|█████████▋| 2081/2136 [24:27<00:38,  1.45it/s]\n",
      " 97%|█████████▋| 2082/2136 [24:28<00:37,  1.44it/s]\n",
      " 98%|█████████▊| 2083/2136 [24:28<00:36,  1.44it/s]\n",
      " 98%|█████████▊| 2084/2136 [24:29<00:36,  1.44it/s]\n",
      " 98%|█████████▊| 2085/2136 [24:30<00:35,  1.44it/s]\n",
      " 98%|█████████▊| 2086/2136 [24:30<00:34,  1.44it/s]\n",
      " 98%|█████████▊| 2087/2136 [24:31<00:33,  1.44it/s]\n",
      " 98%|█████████▊| 2088/2136 [24:32<00:33,  1.44it/s]\n",
      " 98%|█████████▊| 2089/2136 [24:33<00:32,  1.44it/s]\n",
      " 98%|█████████▊| 2090/2136 [24:33<00:31,  1.44it/s]\n",
      " 98%|█████████▊| 2091/2136 [24:34<00:31,  1.44it/s]\n",
      " 98%|█████████▊| 2092/2136 [24:35<00:30,  1.44it/s]\n",
      " 98%|█████████▊| 2093/2136 [24:35<00:29,  1.44it/s]\n",
      " 98%|█████████▊| 2094/2136 [24:36<00:29,  1.44it/s]\n",
      " 98%|█████████▊| 2095/2136 [24:37<00:28,  1.44it/s]\n",
      " 98%|█████████▊| 2096/2136 [24:37<00:27,  1.44it/s]\n",
      " 98%|█████████▊| 2097/2136 [24:38<00:27,  1.44it/s]\n",
      " 98%|█████████▊| 2098/2136 [24:39<00:26,  1.44it/s]\n",
      " 98%|█████████▊| 2099/2136 [24:39<00:25,  1.44it/s]\n",
      " 98%|█████████▊| 2100/2136 [24:40<00:24,  1.44it/s]\n",
      " 98%|█████████▊| 2101/2136 [24:41<00:24,  1.44it/s]\n",
      " 98%|█████████▊| 2102/2136 [24:42<00:23,  1.44it/s]\n",
      " 98%|█████████▊| 2103/2136 [24:42<00:22,  1.44it/s]\n",
      " 99%|█████████▊| 2104/2136 [24:43<00:22,  1.44it/s]\n",
      " 99%|█████████▊| 2105/2136 [24:44<00:21,  1.44it/s]\n",
      " 99%|█████████▊| 2106/2136 [24:44<00:20,  1.44it/s]\n",
      " 99%|█████████▊| 2107/2136 [24:45<00:20,  1.44it/s]\n",
      " 99%|█████████▊| 2108/2136 [24:46<00:19,  1.44it/s]\n",
      " 99%|█████████▊| 2109/2136 [24:46<00:18,  1.44it/s]\n",
      " 99%|█████████▉| 2110/2136 [24:47<00:18,  1.44it/s]\n",
      " 99%|█████████▉| 2111/2136 [24:48<00:17,  1.44it/s]\n",
      " 99%|█████████▉| 2112/2136 [24:48<00:16,  1.44it/s]\n",
      " 99%|█████████▉| 2113/2136 [24:49<00:15,  1.44it/s]\n",
      " 99%|█████████▉| 2114/2136 [24:50<00:15,  1.44it/s]\n",
      " 99%|█████████▉| 2115/2136 [24:51<00:14,  1.44it/s]\n",
      " 99%|█████████▉| 2116/2136 [24:51<00:13,  1.44it/s]\n",
      " 99%|█████████▉| 2117/2136 [24:52<00:13,  1.44it/s]\n",
      " 99%|█████████▉| 2118/2136 [24:53<00:12,  1.44it/s]\n",
      " 99%|█████████▉| 2119/2136 [24:53<00:11,  1.44it/s]\n",
      " 99%|█████████▉| 2120/2136 [24:54<00:11,  1.44it/s]\n",
      " 99%|█████████▉| 2121/2136 [24:55<00:10,  1.44it/s]\n",
      " 99%|█████████▉| 2122/2136 [24:55<00:09,  1.44it/s]\n",
      " 99%|█████████▉| 2123/2136 [24:56<00:09,  1.44it/s]\n",
      " 99%|█████████▉| 2124/2136 [24:57<00:08,  1.44it/s]\n",
      " 99%|█████████▉| 2125/2136 [24:58<00:07,  1.44it/s]\n",
      "100%|█████████▉| 2126/2136 [24:58<00:06,  1.44it/s]\n",
      "100%|█████████▉| 2127/2136 [24:59<00:06,  1.43it/s]\n",
      "100%|█████████▉| 2128/2136 [25:00<00:05,  1.44it/s]\n",
      "100%|█████████▉| 2129/2136 [25:00<00:04,  1.44it/s]\n",
      "100%|█████████▉| 2130/2136 [25:01<00:04,  1.43it/s]\n",
      "100%|█████████▉| 2131/2136 [25:02<00:03,  1.44it/s]\n",
      "100%|█████████▉| 2132/2136 [25:02<00:02,  1.44it/s]\n",
      "100%|█████████▉| 2133/2136 [25:03<00:02,  1.43it/s]\n",
      "100%|█████████▉| 2134/2136 [25:04<00:01,  1.44it/s]\n",
      "100%|█████████▉| 2135/2136 [25:04<00:00,  1.43it/s]\n"
     ]
    },
    {
     "name": "stdout",
     "output_type": "stream",
     "text": [
      "\u001b[2m\u001b[36m(RayTrainWorker pid=55340)\u001b[0m {'loss': 0.1941, 'learning_rate': 0.0, 'epoch': 3.25}\n"
     ]
    },
    {
     "name": "stderr",
     "output_type": "stream",
     "text": [
      "100%|██████████| 2136/2136 [25:05<00:00,  1.44it/s]***** Running Evaluation *****\n",
      "\u001b[2m\u001b[36m(RayTrainWorker pid=55340)\u001b[0m   Num examples: Unknown\n",
      "\u001b[2m\u001b[36m(RayTrainWorker pid=55340)\u001b[0m   Batch size = 16\n"
     ]
    },
    {
     "data": {
      "application/vnd.jupyter.widget-view+json": {
       "model_id": "b54e3e4865854304a56f38755fef07fa",
       "version_major": 2,
       "version_minor": 0
      },
      "text/plain": [
       "(pid=55408) Running 0:   0%|          | 0/1 [00:00<?, ?it/s]"
      ]
     },
     "metadata": {},
     "output_type": "display_data"
    },
    {
     "name": "stderr",
     "output_type": "stream",
     "text": [
      "\u001b[2m\u001b[36m(SplitCoordinator pid=55408)\u001b[0m Executing DAG InputDataBuffer[Input] -> TaskPoolMapOperator[MapBatches(preprocess_function)] -> OutputSplitter[split(1, equal=True)]\n",
      "\u001b[2m\u001b[36m(SplitCoordinator pid=55408)\u001b[0m Execution config: ExecutionOptions(resource_limits=ExecutionResources(cpu=None, gpu=None, object_store_memory=None), locality_with_output=['d18a14d46721e86f86679bc8635753b27b5c4e17470461fc2a2fc741'], preserve_order=False, actor_locality_enabled=True, verbose_progress=False)\n",
      "\u001b[2m\u001b[36m(SplitCoordinator pid=55408)\u001b[0m Tip: For detailed progress reporting, run `ray.data.DataContext.get_current().execution_options.verbose_progress = True`\n",
      "100%|██████████| 2136/2136 [25:22<00:00,  1.44it/s]Saving model checkpoint to distilbert-base-uncased-finetuned-cola/checkpoint-2136\n",
      "\u001b[2m\u001b[36m(RayTrainWorker pid=55340)\u001b[0m Configuration saved in distilbert-base-uncased-finetuned-cola/checkpoint-2136/config.json\n"
     ]
    },
    {
     "name": "stdout",
     "output_type": "stream",
     "text": [
      "\u001b[2m\u001b[36m(RayTrainWorker pid=55340)\u001b[0m {'eval_loss': 0.7526667714118958, 'eval_matthews_correlation': 0.5396512550123742, 'eval_runtime': 16.5097, 'eval_samples_per_second': 63.175, 'eval_steps_per_second': 3.998, 'epoch': 3.25}\n"
     ]
    },
    {
     "name": "stderr",
     "output_type": "stream",
     "text": [
      "\u001b[2m\u001b[36m(RayTrainWorker pid=55340)\u001b[0m Model weights saved in distilbert-base-uncased-finetuned-cola/checkpoint-2136/pytorch_model.bin\n",
      "\u001b[2m\u001b[36m(RayTrainWorker pid=55340)\u001b[0m tokenizer config file saved in distilbert-base-uncased-finetuned-cola/checkpoint-2136/tokenizer_config.json\n",
      "\u001b[2m\u001b[36m(RayTrainWorker pid=55340)\u001b[0m Special tokens file saved in distilbert-base-uncased-finetuned-cola/checkpoint-2136/special_tokens_map.json\n"
     ]
    },
    {
     "name": "stdout",
     "output_type": "stream",
     "text": [
      "\u001b[2m\u001b[1m\u001b[36m(autoscaler +52m2s)\u001b[0m [workspace snapshot] New snapshot created successfully (size: 407.01 KB).\n"
     ]
    },
    {
     "name": "stderr",
     "output_type": "stream",
     "text": [
      "\u001b[2m\u001b[36m(RayTrainWorker pid=55340)\u001b[0m Checkpoint successfully created at: Checkpoint(filesystem=local, path=/mnt/cluster_storage/ray_results/tune_transformers/TorchTrainer_fac06_00000_0_learning_rate=0.0000_2023-09-05_16-36-04/checkpoint_000003)\n",
      "\u001b[2m\u001b[36m(RayTrainWorker pid=55340)\u001b[0m \n",
      "\u001b[2m\u001b[36m(RayTrainWorker pid=55340)\u001b[0m \n",
      "\u001b[2m\u001b[36m(RayTrainWorker pid=55340)\u001b[0m Training completed. Do not forget to share your model on huggingface.co/models =)\n",
      "\u001b[2m\u001b[36m(RayTrainWorker pid=55340)\u001b[0m \n",
      "\u001b[2m\u001b[36m(RayTrainWorker pid=55340)\u001b[0m \n",
      "100%|██████████| 2136/2136 [25:27<00:00,  1.40it/s]\n",
      "2023-09-05 17:01:50,009\tWARNING experiment_state.py:371 -- Experiment checkpoint syncing has been triggered multiple times in the last 30.0 seconds. A sync will be triggered whenever a trial has checkpointed more than `num_to_keep` times since last sync or if 300 seconds have passed since last sync. If you have set `num_to_keep` in your `CheckpointConfig`, consider increasing the checkpoint frequency or keeping more checkpoints. You can supress this warning by changing the `TUNE_WARN_EXCESSIVE_EXPERIMENT_CHECKPOINT_SYNC_THRESHOLD_S` environment variable.\n"
     ]
    },
    {
     "name": "stdout",
     "output_type": "stream",
     "text": [
      "\u001b[2m\u001b[36m(RayTrainWorker pid=55340)\u001b[0m {'train_runtime': 1527.6333, 'train_samples_per_second': 22.372, 'train_steps_per_second': 1.398, 'train_loss': 0.34186658252044566, 'epoch': 3.25}\n"
     ]
    },
    {
     "name": "stderr",
     "output_type": "stream",
     "text": [
      "2023-09-05 17:02:04,184\tWARNING experiment_state.py:311 -- The previous sync of the experiment directory to the cloud failed with the error: /home/ray/ray_results/tune_transformers/.tmp_experiment_state_9f3ca371-db4b-45ac-ba16-df266ce6163f\n",
      "Syncing will be retried.\n",
      "2023-09-05 17:02:17,769\tWARNING experiment_state.py:371 -- Experiment checkpoint syncing has been triggered multiple times in the last 30.0 seconds. A sync will be triggered whenever a trial has checkpointed more than `num_to_keep` times since last sync or if 300 seconds have passed since last sync. If you have set `num_to_keep` in your `CheckpointConfig`, consider increasing the checkpoint frequency or keeping more checkpoints. You can supress this warning by changing the `TUNE_WARN_EXCESSIVE_EXPERIMENT_CHECKPOINT_SYNC_THRESHOLD_S` environment variable.\n",
      "2023-09-05 17:02:17,774\tINFO tune.py:1154 -- Total run time: 1573.45 seconds (1545.66 seconds for the tuning loop).\n"
     ]
    }
   ],
   "source": [
    "tune_results = tuner.fit()"
   ]
  },
  {
   "cell_type": "markdown",
   "metadata": {},
   "source": [
    "We can view the results of the tuning run as a dataframe, and obtain the best result."
   ]
  },
  {
   "cell_type": "code",
   "execution_count": 27,
   "metadata": {},
   "outputs": [
    {
     "data": {
      "text/html": [
       "<div>\n",
       "<style scoped>\n",
       "    .dataframe tbody tr th:only-of-type {\n",
       "        vertical-align: middle;\n",
       "    }\n",
       "\n",
       "    .dataframe tbody tr th {\n",
       "        vertical-align: top;\n",
       "    }\n",
       "\n",
       "    .dataframe thead th {\n",
       "        text-align: right;\n",
       "    }\n",
       "</style>\n",
       "<table border=\"1\" class=\"dataframe\">\n",
       "  <thead>\n",
       "    <tr style=\"text-align: right;\">\n",
       "      <th></th>\n",
       "      <th>loss</th>\n",
       "      <th>learning_rate</th>\n",
       "      <th>epoch</th>\n",
       "      <th>step</th>\n",
       "      <th>eval_loss</th>\n",
       "      <th>eval_matthews_correlation</th>\n",
       "      <th>eval_runtime</th>\n",
       "      <th>eval_samples_per_second</th>\n",
       "      <th>eval_steps_per_second</th>\n",
       "      <th>timestamp</th>\n",
       "      <th>...</th>\n",
       "      <th>time_total_s</th>\n",
       "      <th>pid</th>\n",
       "      <th>hostname</th>\n",
       "      <th>node_ip</th>\n",
       "      <th>time_since_restore</th>\n",
       "      <th>iterations_since_restore</th>\n",
       "      <th>checkpoint_dir_name</th>\n",
       "      <th>config/train_loop_config/learning_rate</th>\n",
       "      <th>config/train_loop_config/epochs</th>\n",
       "      <th>logdir</th>\n",
       "    </tr>\n",
       "  </thead>\n",
       "  <tbody>\n",
       "    <tr>\n",
       "      <th>1</th>\n",
       "      <td>0.6217</td>\n",
       "      <td>0.000150</td>\n",
       "      <td>0.25</td>\n",
       "      <td>535</td>\n",
       "      <td>0.618047</td>\n",
       "      <td>0.000000</td>\n",
       "      <td>16.3166</td>\n",
       "      <td>63.922</td>\n",
       "      <td>4.045</td>\n",
       "      <td>1693957372</td>\n",
       "      <td>...</td>\n",
       "      <td>400.380528</td>\n",
       "      <td>21972</td>\n",
       "      <td>ip-10-0-9-214</td>\n",
       "      <td>10.0.9.214</td>\n",
       "      <td>400.380528</td>\n",
       "      <td>1</td>\n",
       "      <td>checkpoint_000000</td>\n",
       "      <td>0.00020</td>\n",
       "      <td>4</td>\n",
       "      <td>fac06_00001</td>\n",
       "    </tr>\n",
       "    <tr>\n",
       "      <th>3</th>\n",
       "      <td>1.1650</td>\n",
       "      <td>0.014991</td>\n",
       "      <td>0.25</td>\n",
       "      <td>535</td>\n",
       "      <td>0.618265</td>\n",
       "      <td>0.000000</td>\n",
       "      <td>16.2647</td>\n",
       "      <td>64.127</td>\n",
       "      <td>4.058</td>\n",
       "      <td>1693957375</td>\n",
       "      <td>...</td>\n",
       "      <td>402.832207</td>\n",
       "      <td>22226</td>\n",
       "      <td>ip-10-0-24-75</td>\n",
       "      <td>10.0.24.75</td>\n",
       "      <td>402.832207</td>\n",
       "      <td>1</td>\n",
       "      <td>checkpoint_000000</td>\n",
       "      <td>0.02000</td>\n",
       "      <td>4</td>\n",
       "      <td>fac06_00003</td>\n",
       "    </tr>\n",
       "    <tr>\n",
       "      <th>2</th>\n",
       "      <td>0.6488</td>\n",
       "      <td>0.001499</td>\n",
       "      <td>0.25</td>\n",
       "      <td>535</td>\n",
       "      <td>0.618356</td>\n",
       "      <td>0.000000</td>\n",
       "      <td>16.0909</td>\n",
       "      <td>64.819</td>\n",
       "      <td>4.102</td>\n",
       "      <td>1693957362</td>\n",
       "      <td>...</td>\n",
       "      <td>391.176487</td>\n",
       "      <td>21888</td>\n",
       "      <td>ip-10-0-42-45</td>\n",
       "      <td>10.0.42.45</td>\n",
       "      <td>391.176487</td>\n",
       "      <td>1</td>\n",
       "      <td>checkpoint_000000</td>\n",
       "      <td>0.00200</td>\n",
       "      <td>4</td>\n",
       "      <td>fac06_00002</td>\n",
       "    </tr>\n",
       "    <tr>\n",
       "      <th>0</th>\n",
       "      <td>0.1941</td>\n",
       "      <td>0.000000</td>\n",
       "      <td>3.25</td>\n",
       "      <td>2136</td>\n",
       "      <td>0.752667</td>\n",
       "      <td>0.539651</td>\n",
       "      <td>16.5097</td>\n",
       "      <td>63.175</td>\n",
       "      <td>3.998</td>\n",
       "      <td>1693958509</td>\n",
       "      <td>...</td>\n",
       "      <td>1537.989638</td>\n",
       "      <td>55234</td>\n",
       "      <td>ip-10-0-19-101</td>\n",
       "      <td>10.0.19.101</td>\n",
       "      <td>1537.989638</td>\n",
       "      <td>4</td>\n",
       "      <td>checkpoint_000003</td>\n",
       "      <td>0.00002</td>\n",
       "      <td>4</td>\n",
       "      <td>fac06_00000</td>\n",
       "    </tr>\n",
       "  </tbody>\n",
       "</table>\n",
       "<p>4 rows × 26 columns</p>\n",
       "</div>"
      ],
      "text/plain": [
       "     loss  learning_rate  epoch  step  eval_loss  eval_matthews_correlation  \\\n",
       "1  0.6217       0.000150   0.25   535   0.618047                   0.000000   \n",
       "3  1.1650       0.014991   0.25   535   0.618265                   0.000000   \n",
       "2  0.6488       0.001499   0.25   535   0.618356                   0.000000   \n",
       "0  0.1941       0.000000   3.25  2136   0.752667                   0.539651   \n",
       "\n",
       "   eval_runtime  eval_samples_per_second  eval_steps_per_second   timestamp  \\\n",
       "1       16.3166                   63.922                  4.045  1693957372   \n",
       "3       16.2647                   64.127                  4.058  1693957375   \n",
       "2       16.0909                   64.819                  4.102  1693957362   \n",
       "0       16.5097                   63.175                  3.998  1693958509   \n",
       "\n",
       "   ...  time_total_s    pid        hostname      node_ip time_since_restore  \\\n",
       "1  ...    400.380528  21972   ip-10-0-9-214   10.0.9.214         400.380528   \n",
       "3  ...    402.832207  22226   ip-10-0-24-75   10.0.24.75         402.832207   \n",
       "2  ...    391.176487  21888   ip-10-0-42-45   10.0.42.45         391.176487   \n",
       "0  ...   1537.989638  55234  ip-10-0-19-101  10.0.19.101        1537.989638   \n",
       "\n",
       "   iterations_since_restore  checkpoint_dir_name  \\\n",
       "1                         1    checkpoint_000000   \n",
       "3                         1    checkpoint_000000   \n",
       "2                         1    checkpoint_000000   \n",
       "0                         4    checkpoint_000003   \n",
       "\n",
       "   config/train_loop_config/learning_rate config/train_loop_config/epochs  \\\n",
       "1                                 0.00020                               4   \n",
       "3                                 0.02000                               4   \n",
       "2                                 0.00200                               4   \n",
       "0                                 0.00002                               4   \n",
       "\n",
       "        logdir  \n",
       "1  fac06_00001  \n",
       "3  fac06_00003  \n",
       "2  fac06_00002  \n",
       "0  fac06_00000  \n",
       "\n",
       "[4 rows x 26 columns]"
      ]
     },
     "execution_count": 27,
     "metadata": {},
     "output_type": "execute_result"
    }
   ],
   "source": [
    "tune_results.get_dataframe().sort_values(\"eval_loss\")"
   ]
  },
  {
   "cell_type": "code",
   "execution_count": 28,
   "metadata": {},
   "outputs": [],
   "source": [
    "best_result = tune_results.get_best_result()"
   ]
  },
  {
   "cell_type": "markdown",
   "metadata": {},
   "source": [
    "### Share the model <a name=\"share\"></a>"
   ]
  },
  {
   "cell_type": "markdown",
   "metadata": {
    "id": "mS8PId_NhYbb"
   },
   "source": [
    "To be able to share your model with the community, there are a few more steps to follow.\n",
    "\n",
    "We have conducted the training on the Ray cluster, but share the model from the local enviroment - this will allow us to easily authenticate.\n",
    "\n",
    "First you have to store your authentication token from the Hugging Face website (sign up [here](https://huggingface.co/join) if you haven't already!) then execute the following cell and input your username and password:"
   ]
  },
  {
   "cell_type": "code",
   "execution_count": null,
   "metadata": {
    "id": "2LClXkN8hYbb",
    "tags": [
     "remove-cell-ci"
    ]
   },
   "outputs": [],
   "source": [
    "from huggingface_hub import notebook_login\n",
    "\n",
    "notebook_login()"
   ]
  },
  {
   "cell_type": "markdown",
   "metadata": {
    "id": "SybKUDryhYbb"
   },
   "source": [
    "Then you need to install Git-LFS. Uncomment the following instructions:"
   ]
  },
  {
   "cell_type": "code",
   "execution_count": 23,
   "metadata": {
    "id": "_wF6aT-0hYbb",
    "tags": [
     "remove-cell-ci"
    ]
   },
   "outputs": [],
   "source": [
    "# !apt install git-lfs"
   ]
  },
  {
   "cell_type": "markdown",
   "metadata": {
    "id": "5fr6E0e8hYbb"
   },
   "source": [
    "Now, load the model and tokenizer locally, and recreate the 🤗 Transformers `Trainer`:"
   ]
  },
  {
   "cell_type": "code",
   "execution_count": null,
   "metadata": {
    "id": "cjH2A8m6hYbc",
    "tags": [
     "remove-cell-ci"
    ]
   },
   "outputs": [],
   "source": [
    "from ray.train.huggingface import LegacyTransformersCheckpoint\n",
    "\n",
    "checkpoint = LegacyTransformersCheckpoint.from_checkpoint(result.checkpoint)\n",
    "hf_trainer = checkpoint.get_model(model=AutoModelForSequenceClassification)"
   ]
  },
  {
   "cell_type": "markdown",
   "metadata": {
    "id": "tgV2xKfFhYbc"
   },
   "source": [
    "You can now upload the result of the training to the Hub, just execute this instruction:"
   ]
  },
  {
   "cell_type": "code",
   "execution_count": null,
   "metadata": {
    "id": "XSkfJe3nhYbc",
    "tags": [
     "remove-cell-ci"
    ]
   },
   "outputs": [],
   "source": [
    "hf_trainer.push_to_hub()"
   ]
  },
  {
   "cell_type": "markdown",
   "metadata": {
    "id": "UL-Boc4dhYbc"
   },
   "source": [
    "You can now share this model with all your friends, family, favorite pets: they can all load it with the identifier `\"your-username/the-name-you-picked\"` so for instance:\n",
    "\n",
    "```python\n",
    "from transformers import AutoModelForSequenceClassification\n",
    "\n",
    "model = AutoModelForSequenceClassification.from_pretrained(\"sgugger/my-awesome-model\")\n",
    "```"
   ]
  },
  {
   "cell_type": "markdown",
   "metadata": {},
   "source": [
    "## Next steps\n",
    "\n",
    "- {ref}`End-to-end: Offline Batch Inference <batch_inference_home>`"
   ]
  }
 ],
 "metadata": {
  "accelerator": "GPU",
  "colab": {
   "collapsed_sections": [],
   "name": "huggingface_text_classification.ipynb",
   "provenance": []
  },
  "kernelspec": {
   "display_name": "Python 3 (ipykernel)",
   "language": "python",
   "name": "python3"
  },
  "language_info": {
   "codemirror_mode": {
    "name": "ipython",
    "version": 3
   },
   "file_extension": ".py",
   "mimetype": "text/x-python",
   "name": "python",
   "nbconvert_exporter": "python",
   "pygments_lexer": "ipython3",
   "version": "3.9.15"
  },
  "orphan": true,
  "vscode": {
   "interpreter": {
    "hash": "31f2aee4e71d21fbe5cf8b01ff0e069b9275f58929596ceb00d14d90e3e16cd6"
   }
  }
 },
 "nbformat": 4,
 "nbformat_minor": 4
}
