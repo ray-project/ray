{
 "cells": [
  {
   "cell_type": "markdown",
   "id": "57fe8246",
   "metadata": {},
   "source": [
    "# Offline reinforcement learning with Ray AIR\n",
    "In this example, we'll train a reinforcement learning agent using offline training.\n",
    "\n",
    "Offline training means that the data from the environment (and the actions performed by the agent) have been stored on disk. In contrast, online training samples experiences live by interacting with the environment."
   ]
  },
  {
   "cell_type": "markdown",
   "id": "edc8d8ac",
   "metadata": {},
   "source": [
    "Let's start with installing our dependencies:"
   ]
  },
  {
   "cell_type": "code",
   "execution_count": 1,
   "id": "0ef2e884",
   "metadata": {},
   "outputs": [],
   "source": [
    "# !pip install -qU \"ray[rllib]\" gymnasium"
   ]
  },
  {
   "cell_type": "markdown",
   "id": "503b1b55",
   "metadata": {},
   "source": [
    "Now we can run some imports:"
   ]
  },
  {
   "cell_type": "code",
   "execution_count": 2,
   "id": "db0a45ff",
   "metadata": {},
   "outputs": [],
   "source": [
    "import argparse\n",
    "import gymnasium as gym\n",
    "import os\n",
    "\n",
    "import numpy as np\n",
    "import ray\n",
    "from ray.air import Checkpoint\n",
    "from ray.air.config import RunConfig\n",
    "from ray.train.rl.rl_predictor import RLPredictor\n",
    "from ray.train.rl.rl_trainer import RLTrainer\n",
    "from ray.air.config import ScalingConfig\n",
    "from ray.air.result import Result\n",
    "from ray.rllib.algorithms.bc import BC\n",
    "from ray.tune.tuner import Tuner"
   ]
  },
  {
   "cell_type": "markdown",
   "id": "184fe936",
   "metadata": {},
   "source": [
    "We will be training on offline data - this means we have full agent trajectories stored somewhere on disk and want to train on these past experiences.\n",
    "\n",
    "Usually this data could come from external systems, or a database of historical data. But for this example, we'll generate some offline data ourselves and store it using RLlibs `output_config`."
   ]
  },
  {
   "cell_type": "code",
   "execution_count": 3,
   "id": "5aeed761",
   "metadata": {},
   "outputs": [],
   "source": [
    "def generate_offline_data(path: str):\n",
    "    print(f\"Generating offline data for training at {path}\")\n",
    "    trainer = RLTrainer(\n",
    "        algorithm=\"PPO\",\n",
    "        run_config=RunConfig(stop={\"timesteps_total\": 5000}),\n",
    "        config={\n",
    "            \"env\": \"CartPole-v1\",\n",
    "            \"output\": \"dataset\",\n",
    "            \"output_config\": {\n",
    "                \"format\": \"json\",\n",
    "                \"path\": path,\n",
    "                \"max_num_samples_per_file\": 1,\n",
    "            },\n",
    "            \"batch_mode\": \"complete_episodes\",\n",
    "        },\n",
    "    )\n",
    "    trainer.fit()"
   ]
  },
  {
   "cell_type": "markdown",
   "id": "8bca906c",
   "metadata": {},
   "source": [
    "Here we define the training function. It will create an `RLTrainer` using the `PPO` algorithm and kick off training on the `CartPole-v1` environment. It will use the offline data provided in `path` for this."
   ]
  },
  {
   "cell_type": "code",
   "execution_count": 4,
   "id": "f5071ce0",
   "metadata": {},
   "outputs": [],
   "source": [
    "def train_rl_bc_offline(path: str, num_workers: int, use_gpu: bool = False) -> Result:\n",
    "    print(\"Starting offline training\")\n",
    "    dataset = ray.data.read_json(\n",
    "        path, parallelism=num_workers, ray_remote_args={\"num_cpus\": 1}\n",
    "    )\n",
    "\n",
    "    trainer = RLTrainer(\n",
    "        run_config=RunConfig(stop={\"training_iteration\": 5}),\n",
    "        scaling_config=ScalingConfig(num_workers=num_workers, use_gpu=use_gpu),\n",
    "        datasets={\"train\": dataset},\n",
    "        algorithm=BC,\n",
    "        config={\n",
    "            \"env\": \"CartPole-v1\",\n",
    "            \"framework\": \"tf\",\n",
    "            \"evaluation_num_workers\": 1,\n",
    "            \"evaluation_interval\": 1,\n",
    "            \"evaluation_config\": {\"input\": \"sampler\"},\n",
    "        },\n",
    "    )\n",
    "\n",
    "    # Todo (krfricke/xwjiang): Enable checkpoint config in RunConfig\n",
    "    # result = trainer.fit()\n",
    "    tuner = Tuner(\n",
    "        trainer,\n",
    "        _tuner_kwargs={\"checkpoint_at_end\": True},\n",
    "    )\n",
    "    result = tuner.fit()[0]\n",
    "    return result"
   ]
  },
  {
   "cell_type": "markdown",
   "id": "d935cdee",
   "metadata": {},
   "source": [
    "Once we trained our RL policy, we want to evaluate it on a fresh environment. For this, we will also define a utility function:"
   ]
  },
  {
   "cell_type": "code",
   "execution_count": 5,
   "id": "2628f3b0",
   "metadata": {},
   "outputs": [],
   "source": [
    "def evaluate_using_checkpoint(checkpoint: Checkpoint, num_episodes) -> list:\n",
    "    predictor = RLPredictor.from_checkpoint(checkpoint)\n",
    "\n",
    "    env = gym.make(\"CartPole-v1\")\n",
    "\n",
    "    rewards = []\n",
    "    for i in range(num_episodes):\n",
    "        obs, _ = env.reset()\n",
    "        reward = 0.0\n",
    "        terminated = truncated = False\n",
    "        while not terminated and not truncated:\n",
    "            action = predictor.predict(np.array([obs]))\n",
    "            obs, r, terminated, truncated, _ = env.step(action[0])\n",
    "            reward += r\n",
    "        rewards.append(reward)\n",
    "\n",
    "    return rewards"
   ]
  },
  {
   "cell_type": "markdown",
   "id": "84f4bebe",
   "metadata": {},
   "source": [
    "Let's put it all together. First, we initialize Ray and create the offline data:"
   ]
  },
  {
   "cell_type": "code",
   "execution_count": 6,
   "id": "cae1337e",
   "metadata": {},
   "outputs": [
    {
     "name": "stderr",
     "output_type": "stream",
     "text": [
      "2022-09-26 18:22:15,032\tINFO worker.py:1509 -- Started a local Ray instance. View the dashboard at \u001b[1m\u001b[32m127.0.0.1:8265 \u001b[39m\u001b[22m\n"
     ]
    },
    {
     "name": "stdout",
     "output_type": "stream",
     "text": [
      "Generating offline data for training at /tmp/out\n"
     ]
    },
    {
     "data": {
      "text/html": [
       "<div class=\"tuneStatus\">\n",
       "  <div style=\"display: flex;flex-direction: row\">\n",
       "    <div style=\"display: flex;flex-direction: column;\">\n",
       "      <h3>Tune Status</h3>\n",
       "      <table>\n",
       "<tbody>\n",
       "<tr><td>Current time:</td><td>2022-09-26 18:22:31</td></tr>\n",
       "<tr><td>Running for: </td><td>00:00:15.61        </td></tr>\n",
       "<tr><td>Memory:      </td><td>10.4/62.7 GiB      </td></tr>\n",
       "</tbody>\n",
       "</table>\n",
       "    </div>\n",
       "    <div class=\"vDivider\"></div>\n",
       "    <div class=\"systemInfo\">\n",
       "      <h3>System Info</h3>\n",
       "      Using FIFO scheduling algorithm.<br>Resources requested: 0/8 CPUs, 0/0 GPUs, 0.0/33.26 GiB heap, 0.0/16.63 GiB objects\n",
       "    </div>\n",
       "    \n",
       "  </div>\n",
       "  <div class=\"hDivider\"></div>\n",
       "  <div class=\"trialStatus\">\n",
       "    <h3>Trial Status</h3>\n",
       "    <table>\n",
       "<thead>\n",
       "<tr><th>Trial name        </th><th>status    </th><th>loc                  </th><th style=\"text-align: right;\">  iter</th><th style=\"text-align: right;\">  total time (s)</th><th style=\"text-align: right;\">  ts</th><th style=\"text-align: right;\">  reward</th><th style=\"text-align: right;\">  num_recreated_worker\n",
       "s</th><th style=\"text-align: right;\">  episode_reward_max</th><th style=\"text-align: right;\">  episode_reward_min</th></tr>\n",
       "</thead>\n",
       "<tbody>\n",
       "<tr><td>AIRPPO_d229c_00000</td><td>TERMINATED</td><td>192.168.1.241:3893828</td><td style=\"text-align: right;\">     2</td><td style=\"text-align: right;\">         8.77525</td><td style=\"text-align: right;\">8528</td><td style=\"text-align: right;\">   45.76</td><td style=\"text-align: right;\">0</td><td style=\"text-align: right;\">                 137</td><td style=\"text-align: right;\">                  10</td></tr>\n",
       "</tbody>\n",
       "</table>\n",
       "  </div>\n",
       "</div>\n",
       "<style>\n",
       ".tuneStatus {\n",
       "  color: var(--jp-ui-font-color1);\n",
       "}\n",
       ".tuneStatus .systemInfo {\n",
       "  display: flex;\n",
       "  flex-direction: column;\n",
       "}\n",
       ".tuneStatus td {\n",
       "  white-space: nowrap;\n",
       "}\n",
       ".tuneStatus .trialStatus {\n",
       "  display: flex;\n",
       "  flex-direction: column;\n",
       "}\n",
       ".tuneStatus h3 {\n",
       "  font-weight: bold;\n",
       "}\n",
       ".tuneStatus .hDivider {\n",
       "  border-bottom-width: var(--jp-border-width);\n",
       "  border-bottom-color: var(--jp-border-color0);\n",
       "  border-bottom-style: solid;\n",
       "}\n",
       ".tuneStatus .vDivider {\n",
       "  border-left-width: var(--jp-border-width);\n",
       "  border-left-color: var(--jp-border-color0);\n",
       "  border-left-style: solid;\n",
       "  margin: 0.5em 1em 0.5em 1em;\n",
       "}\n",
       "</style>\n"
      ],
      "text/plain": [
       "<IPython.core.display.HTML object>"
      ]
     },
     "metadata": {},
     "output_type": "display_data"
    },
    {
     "name": "stderr",
     "output_type": "stream",
     "text": [
      "\u001b[2m\u001b[36m(AIRPPO pid=3893828)\u001b[0m 2022-09-26 18:22:18,476\tINFO algorithm.py:2104 -- Your framework setting is 'tf', meaning you are using static-graph mode. Set framework='tf2' to enable eager execution with tf2.x. You may also then want to set eager_tracing=True in order to reach similar execution speed as with static-graph mode.\n",
      "\u001b[2m\u001b[36m(AIRPPO pid=3893828)\u001b[0m 2022-09-26 18:22:18,476\tINFO ppo.py:379 -- In multi-agent mode, policies will be optimized sequentially by the multi-GPU optimizer. Consider setting simple_optimizer=True if this doesn't work for you.\n",
      "\u001b[2m\u001b[36m(AIRPPO pid=3893828)\u001b[0m 2022-09-26 18:22:18,477\tINFO algorithm.py:356 -- Current log_level is WARN. For more information, set 'log_level': 'INFO' / 'DEBUG' or use the -v and -vv flags.\n",
      "\u001b[2m\u001b[36m(RolloutWorker pid=3893857)\u001b[0m 2022-09-26 18:22:21,261\tWARNING env.py:159 -- Your env reset() method appears to take 'seed' or 'return_info' arguments. Note that these are not yet supported in RLlib. Seeding will take place using 'env.seed()' and the info dict will not be returned from reset.\n",
      "\u001b[2m\u001b[36m(AIRPPO pid=3893828)\u001b[0m 2022-09-26 18:22:22,261\tWARNING util.py:66 -- Install gputil for GPU system monitoring.\n",
      "Repartition:   0%|          | 0/1 [00:00<?, ?it/s]\n",
      "Repartition:   0%|          | 0/1 [00:00<?, ?it/s]\n",
      "Repartition: 100%|██████████| 1/1 [00:00<00:00,  1.34it/s]\n",
      "Write Progress:   0%|          | 0/1 [00:00<?, ?it/s]\n",
      "Repartition: 100%|██████████| 1/1 [00:00<00:00,  1.34it/s]\n",
      "Write Progress: 100%|██████████| 1/1 [00:00<00:00, 175.38it/s]\n",
      "Write Progress: 100%|██████████| 1/1 [00:00<00:00,  1.33it/s]\n",
      "Repartition: 100%|██████████| 1/1 [00:00<00:00, 232.05it/s]\n",
      "Write Progress: 100%|██████████| 1/1 [00:00<00:00, 288.70it/s]\n",
      "Repartition: 100%|██████████| 1/1 [00:00<00:00, 265.45it/s]\n",
      "Write Progress: 100%|██████████| 1/1 [00:00<00:00, 295.96it/s]\n",
      "Repartition: 100%|██████████| 1/1 [00:00<00:00, 381.47it/s]\n",
      "Write Progress: 100%|██████████| 1/1 [00:00<00:00, 273.05it/s]\n",
      "Repartition: 100%|██████████| 1/1 [00:00<00:00, 240.86it/s]\n",
      "Write Progress: 100%|██████████| 1/1 [00:00<00:00, 222.25it/s]\n",
      "Repartition:   0%|          | 0/1 [00:00<?, ?it/s]\n",
      "Repartition: 100%|██████████| 1/1 [00:00<00:00, 219.46it/s]\n",
      "Write Progress: 100%|██████████| 1/1 [00:00<00:00, 152.97it/s]\n",
      "Repartition: 100%|██████████| 1/1 [00:00<00:00, 237.54it/s]\n",
      "Write Progress: 100%|██████████| 1/1 [00:00<00:00, 229.13it/s]\n",
      "Repartition: 100%|██████████| 1/1 [00:00<00:00, 283.36it/s]\n",
      "Write Progress: 100%|██████████| 1/1 [00:00<00:00, 351.08it/s]\n",
      "Repartition: 100%|██████████| 1/1 [00:00<00:00, 302.44it/s]\n",
      "Write Progress: 100%|██████████| 1/1 [00:00<00:00, 217.21it/s]\n",
      "Repartition: 100%|██████████| 1/1 [00:00<00:00, 226.01it/s]\n",
      "Write Progress: 100%|██████████| 1/1 [00:00<00:00, 335.54it/s]\n",
      "Repartition: 100%|██████████| 1/1 [00:00<00:00, 206.81it/s]\n",
      "Write Progress: 100%|██████████| 1/1 [00:00<00:00, 397.15it/s]\n",
      "Repartition: 100%|██████████| 1/1 [00:00<00:00, 287.34it/s]\n",
      "Write Progress: 100%|██████████| 1/1 [00:00<00:00, 245.70it/s]\n",
      "Repartition: 100%|██████████| 1/1 [00:00<00:00, 224.11it/s]\n",
      "Write Progress: 100%|██████████| 1/1 [00:00<00:00, 174.41it/s]\n",
      "Repartition: 100%|██████████| 1/1 [00:00<00:00, 376.54it/s]\n",
      "Write Progress: 100%|██████████| 1/1 [00:00<00:00, 231.93it/s]\n",
      "Repartition: 100%|██████████| 1/1 [00:00<00:00, 325.49it/s]\n",
      "Write Progress: 100%|██████████| 1/1 [00:00<00:00, 280.89it/s]\n",
      "Repartition: 100%|██████████| 1/1 [00:00<00:00, 206.81it/s]\n",
      "Write Progress: 100%|██████████| 1/1 [00:00<00:00, 263.11it/s]\n",
      "Repartition: 100%|██████████| 1/1 [00:00<00:00, 236.59it/s]\n",
      "Write Progress: 100%|██████████| 1/1 [00:00<00:00, 320.96it/s]\n",
      "Repartition: 100%|██████████| 1/1 [00:00<00:00, 372.13it/s]\n",
      "Write Progress: 100%|██████████| 1/1 [00:00<00:00, 293.16it/s]\n",
      "Repartition: 100%|██████████| 1/1 [00:00<00:00, 318.30it/s]\n",
      "Write Progress: 100%|██████████| 1/1 [00:00<00:00, 225.89it/s]\n"
     ]
    },
    {
     "data": {
      "text/html": [
       "<div class=\"trialProgress\">\n",
       "  <h3>Trial Progress</h3>\n",
       "  <table>\n",
       "<thead>\n",
       "<tr><th>Trial name        </th><th style=\"text-align: right;\">  agent_timesteps_total</th><th>counters                                                                                                                        </th><th>custom_metrics  </th><th>date               </th><th>done  </th><th style=\"text-align: right;\">  episode_len_mean</th><th>episode_media  </th><th style=\"text-align: right;\">  episode_reward_max</th><th style=\"text-align: right;\">  episode_reward_mean</th><th style=\"text-align: right;\">  episode_reward_min</th><th style=\"text-align: right;\">  episodes_this_iter</th><th style=\"text-align: right;\">  episodes_total</th><th>experiment_id                   </th><th>hostname  </th><th>info                                                                                                                                                                                                                                                                                                                                                                                                                                                                                                    </th><th style=\"text-align: right;\">  iterations_since_restore</th><th>node_ip      </th><th style=\"text-align: right;\">  num_agent_steps_sampled</th><th style=\"text-align: right;\">  num_agent_steps_trained</th><th style=\"text-align: right;\">  num_env_steps_sampled</th><th style=\"text-align: right;\">  num_env_steps_sampled_this_iter</th><th style=\"text-align: right;\">  num_env_steps_trained</th><th style=\"text-align: right;\">  num_env_steps_trained_this_iter</th><th style=\"text-align: right;\">  num_faulty_episodes</th><th style=\"text-align: right;\">  num_healthy_workers</th><th style=\"text-align: right;\">  num_recreated_workers</th><th style=\"text-align: right;\">  num_steps_trained_this_iter</th><th>perf                                                 </th><th style=\"text-align: right;\">    pid</th><th>policy_reward_max  </th><th>policy_reward_mean  </th><th>policy_reward_min  </th><th>sampler_perf                                                                                                                                                                                                        </th><th>sampler_results                                                                                                                                                                                                                                                                                                                                                                                                                                                                                                                                                                                                                                                                                                                                                                                                                                                                                                                                                                                                                                                                                                                                                                                                                                                                                                                                                                                                                                                                                                                                                                                                                                     </th><th style=\"text-align: right;\">  time_since_restore</th><th style=\"text-align: right;\">  time_this_iter_s</th><th style=\"text-align: right;\">  time_total_s</th><th>timers                                                                                                                                                                                 </th><th style=\"text-align: right;\">  timestamp</th><th style=\"text-align: right;\">  timesteps_since_restore</th><th style=\"text-align: right;\">  timesteps_total</th><th style=\"text-align: right;\">  training_iteration</th><th>trial_id   </th><th style=\"text-align: right;\">  warmup_time</th></tr>\n",
       "</thead>\n",
       "<tbody>\n",
       "<tr><td>AIRPPO_d229c_00000</td><td style=\"text-align: right;\">                   8528</td><td>{&#x27;num_env_steps_sampled&#x27;: 8528, &#x27;num_env_steps_trained&#x27;: 8528, &#x27;num_agent_steps_sampled&#x27;: 8528, &#x27;num_agent_steps_trained&#x27;: 8528}</td><td>{}              </td><td>2022-09-26_18-22-31</td><td>True  </td><td style=\"text-align: right;\">             45.76</td><td>{}             </td><td style=\"text-align: right;\">                 137</td><td style=\"text-align: right;\">                45.76</td><td style=\"text-align: right;\">                  10</td><td style=\"text-align: right;\">                  84</td><td style=\"text-align: right;\">             284</td><td>eadfde34443046629ed77655da6915c9</td><td>corvus    </td><td>{&#x27;learner&#x27;: {&#x27;default_policy&#x27;: {&#x27;learner_stats&#x27;: {&#x27;cur_kl_coeff&#x27;: 0.30000001192092896, &#x27;cur_lr&#x27;: 4.999999873689376e-05, &#x27;total_loss&#x27;: 9.522293, &#x27;policy_loss&#x27;: -0.03154374, &#x27;vf_loss&#x27;: 9.54884, &#x27;vf_explained_var&#x27;: -0.011132962, &#x27;kl&#x27;: 0.016653905, &#x27;entropy&#x27;: 0.6111665, &#x27;entropy_coeff&#x27;: 0.0, &#x27;model&#x27;: {}}, &#x27;custom_metrics&#x27;: {}, &#x27;num_agent_steps_trained&#x27;: 128.0}}, &#x27;num_env_steps_sampled&#x27;: 8528, &#x27;num_env_steps_trained&#x27;: 8528, &#x27;num_agent_steps_sampled&#x27;: 8528, &#x27;num_agent_steps_trained&#x27;: 8528}</td><td style=\"text-align: right;\">                         2</td><td>192.168.1.241</td><td style=\"text-align: right;\">                     8528</td><td style=\"text-align: right;\">                     8528</td><td style=\"text-align: right;\">                   8528</td><td style=\"text-align: right;\">                             4238</td><td style=\"text-align: right;\">                   8528</td><td style=\"text-align: right;\">                             4238</td><td style=\"text-align: right;\">                    0</td><td style=\"text-align: right;\">                    2</td><td style=\"text-align: right;\">                      0</td><td style=\"text-align: right;\">                         4238</td><td>{&#x27;cpu_util_percent&#x27;: 16.94, &#x27;ram_util_percent&#x27;: 16.5}</td><td style=\"text-align: right;\">3893828</td><td>{}                 </td><td>{}                  </td><td>{}                 </td><td>{&#x27;mean_raw_obs_processing_ms&#x27;: 0.2064514408664396, &#x27;mean_inference_ms&#x27;: 0.31645616264795123, &#x27;mean_action_processing_ms&#x27;: 0.032597069914330125, &#x27;mean_env_wait_ms&#x27;: 0.027492389739157415, &#x27;mean_env_render_ms&#x27;: 0.0}</td><td>{&#x27;episode_reward_max&#x27;: 137.0, &#x27;episode_reward_min&#x27;: 10.0, &#x27;episode_reward_mean&#x27;: 45.76, &#x27;episode_len_mean&#x27;: 45.76, &#x27;episode_media&#x27;: {}, &#x27;episodes_this_iter&#x27;: 84, &#x27;policy_reward_min&#x27;: {}, &#x27;policy_reward_max&#x27;: {}, &#x27;policy_reward_mean&#x27;: {}, &#x27;custom_metrics&#x27;: {}, &#x27;hist_stats&#x27;: {&#x27;episode_reward&#x27;: [22.0, 17.0, 27.0, 14.0, 13.0, 10.0, 16.0, 12.0, 25.0, 29.0, 22.0, 27.0, 18.0, 26.0, 35.0, 25.0, 41.0, 23.0, 69.0, 56.0, 53.0, 30.0, 120.0, 40.0, 38.0, 86.0, 10.0, 19.0, 137.0, 43.0, 72.0, 119.0, 21.0, 53.0, 45.0, 36.0, 14.0, 35.0, 69.0, 100.0, 118.0, 48.0, 12.0, 21.0, 12.0, 30.0, 59.0, 34.0, 72.0, 63.0, 50.0, 42.0, 32.0, 28.0, 44.0, 59.0, 19.0, 86.0, 32.0, 69.0, 47.0, 62.0, 73.0, 13.0, 72.0, 36.0, 12.0, 49.0, 17.0, 117.0, 19.0, 13.0, 24.0, 12.0, 17.0, 23.0, 49.0, 22.0, 86.0, 79.0, 92.0, 21.0, 101.0, 30.0, 12.0, 62.0, 80.0, 32.0, 18.0, 95.0, 18.0, 35.0, 80.0, 69.0, 72.0, 116.0, 67.0, 83.0, 35.0, 19.0], &#x27;episode_lengths&#x27;: [22, 17, 27, 14, 13, 10, 16, 12, 25, 29, 22, 27, 18, 26, 35, 25, 41, 23, 69, 56, 53, 30, 120, 40, 38, 86, 10, 19, 137, 43, 72, 119, 21, 53, 45, 36, 14, 35, 69, 100, 118, 48, 12, 21, 12, 30, 59, 34, 72, 63, 50, 42, 32, 28, 44, 59, 19, 86, 32, 69, 47, 62, 73, 13, 72, 36, 12, 49, 17, 117, 19, 13, 24, 12, 17, 23, 49, 22, 86, 79, 92, 21, 101, 30, 12, 62, 80, 32, 18, 95, 18, 35, 80, 69, 72, 116, 67, 83, 35, 19]}, &#x27;sampler_perf&#x27;: {&#x27;mean_raw_obs_processing_ms&#x27;: 0.2064514408664396, &#x27;mean_inference_ms&#x27;: 0.31645616264795123, &#x27;mean_action_processing_ms&#x27;: 0.032597069914330125, &#x27;mean_env_wait_ms&#x27;: 0.027492389739157415, &#x27;mean_env_render_ms&#x27;: 0.0}, &#x27;num_faulty_episodes&#x27;: 0}</td><td style=\"text-align: right;\">             8.77525</td><td style=\"text-align: right;\">           3.47446</td><td style=\"text-align: right;\">       8.77525</td><td>{&#x27;training_iteration_time_ms&#x27;: 4384.142, &#x27;load_time_ms&#x27;: 0.287, &#x27;load_throughput&#x27;: 14835762.966, &#x27;learn_time_ms&#x27;: 2129.317, &#x27;learn_throughput&#x27;: 2002.52, &#x27;synch_weights_time_ms&#x27;: 1.33}</td><td style=\"text-align: right;\"> 1664241751</td><td style=\"text-align: right;\">                        0</td><td style=\"text-align: right;\">             8528</td><td style=\"text-align: right;\">                   2</td><td>d229c_00000</td><td style=\"text-align: right;\">      3.78836</td></tr>\n",
       "</tbody>\n",
       "</table>\n",
       "</div>\n",
       "<style>\n",
       ".trialProgress {\n",
       "  display: flex;\n",
       "  flex-direction: column;\n",
       "  color: var(--jp-ui-font-color1);\n",
       "}\n",
       ".trialProgress h3 {\n",
       "  font-weight: bold;\n",
       "}\n",
       ".trialProgress td {\n",
       "  white-space: nowrap;\n",
       "}\n",
       "</style>\n"
      ],
      "text/plain": [
       "<IPython.core.display.HTML object>"
      ]
     },
     "metadata": {},
     "output_type": "display_data"
    },
    {
     "name": "stderr",
     "output_type": "stream",
     "text": [
      "Repartition: 100%|██████████| 1/1 [00:00<00:00, 227.44it/s]\n",
      "Write Progress: 100%|██████████| 1/1 [00:00<00:00, 221.02it/s]\n",
      "Repartition: 100%|██████████| 1/1 [00:00<00:00, 221.55it/s]\n",
      "Write Progress: 100%|██████████| 1/1 [00:00<00:00, 241.52it/s]\n",
      "Repartition: 100%|██████████| 1/1 [00:00<00:00, 267.02it/s]\n",
      "Write Progress: 100%|██████████| 1/1 [00:00<00:00, 299.79it/s]\n",
      "Repartition: 100%|██████████| 1/1 [00:00<00:00, 353.41it/s]\n",
      "Write Progress: 100%|██████████| 1/1 [00:00<00:00, 339.84it/s]\n",
      "Repartition: 100%|██████████| 1/1 [00:00<00:00, 218.85it/s]\n",
      "Write Progress: 100%|██████████| 1/1 [00:00<00:00, 277.73it/s]\n",
      "Repartition: 100%|██████████| 1/1 [00:00<00:00, 252.29it/s]\n",
      "Write Progress: 100%|██████████| 1/1 [00:00<00:00, 233.57it/s]\n",
      "Repartition: 100%|██████████| 1/1 [00:00<00:00, 291.35it/s]\n",
      "Write Progress: 100%|██████████| 1/1 [00:00<00:00, 345.12it/s]\n",
      "Repartition: 100%|██████████| 1/1 [00:00<00:00, 230.60it/s]\n",
      "Write Progress: 100%|██████████| 1/1 [00:00<00:00, 331.38it/s]\n",
      "Repartition: 100%|██████████| 1/1 [00:00<00:00, 246.51it/s]\n",
      "Write Progress: 100%|██████████| 1/1 [00:00<00:00, 239.32it/s]\n",
      "Repartition: 100%|██████████| 1/1 [00:00<00:00, 265.46it/s]\n",
      "Write Progress: 100%|██████████| 1/1 [00:00<00:00, 228.80it/s]\n",
      "Repartition: 100%|██████████| 1/1 [00:00<00:00, 256.47it/s]\n",
      "Write Progress: 100%|██████████| 1/1 [00:00<00:00, 294.52it/s]\n",
      "Repartition: 100%|██████████| 1/1 [00:00<00:00, 343.40it/s]\n",
      "Write Progress: 100%|██████████| 1/1 [00:00<00:00, 227.59it/s]\n",
      "Repartition: 100%|██████████| 1/1 [00:00<00:00, 243.35it/s]\n",
      "Write Progress: 100%|██████████| 1/1 [00:00<00:00, 226.79it/s]\n",
      "Repartition: 100%|██████████| 1/1 [00:00<00:00, 227.47it/s]\n",
      "Write Progress: 100%|██████████| 1/1 [00:00<00:00, 219.45it/s]\n",
      "Repartition:   0%|          | 0/1 [00:00<?, ?it/s]\n",
      "Repartition: 100%|██████████| 1/1 [00:00<00:00, 253.25it/s]\n",
      "Write Progress: 100%|██████████| 1/1 [00:00<00:00, 240.10it/s]\n",
      "Repartition: 100%|██████████| 1/1 [00:00<00:00, 236.03it/s]\n",
      "Write Progress: 100%|██████████| 1/1 [00:00<00:00, 220.66it/s]\n",
      "Repartition: 100%|██████████| 1/1 [00:00<00:00, 222.38it/s]\n",
      "Write Progress: 100%|██████████| 1/1 [00:00<00:00, 224.67it/s]\n",
      "Repartition: 100%|██████████| 1/1 [00:00<00:00, 327.73it/s]\n",
      "Write Progress: 100%|██████████| 1/1 [00:00<00:00, 233.71it/s]\n",
      "2022-09-26 18:22:31,518\tINFO tune.py:762 -- Total run time: 16.00 seconds (15.59 seconds for the tuning loop).\n"
     ]
    }
   ],
   "source": [
    "ray.init(num_cpus=8)\n",
    "\n",
    "path = \"/tmp/out\"\n",
    "generate_offline_data(path)"
   ]
  },
  {
   "cell_type": "markdown",
   "id": "c7534d5c",
   "metadata": {},
   "source": [
    "Then, we run training:"
   ]
  },
  {
   "cell_type": "code",
   "execution_count": 7,
   "id": "f7aa671e",
   "metadata": {},
   "outputs": [
    {
     "name": "stdout",
     "output_type": "stream",
     "text": [
      "Starting offline training\n"
     ]
    },
    {
     "data": {
      "text/html": [
       "<div class=\"tuneStatus\">\n",
       "  <div style=\"display: flex;flex-direction: row\">\n",
       "    <div style=\"display: flex;flex-direction: column;\">\n",
       "      <h3>Tune Status</h3>\n",
       "      <table>\n",
       "<tbody>\n",
       "<tr><td>Current time:</td><td>2022-09-26 18:22:55</td></tr>\n",
       "<tr><td>Running for: </td><td>00:00:10.97        </td></tr>\n",
       "<tr><td>Memory:      </td><td>10.9/62.7 GiB      </td></tr>\n",
       "</tbody>\n",
       "</table>\n",
       "    </div>\n",
       "    <div class=\"vDivider\"></div>\n",
       "    <div class=\"systemInfo\">\n",
       "      <h3>System Info</h3>\n",
       "      Using FIFO scheduling algorithm.<br>Resources requested: 0/8 CPUs, 0/0 GPUs, 0.0/33.26 GiB heap, 0.0/16.63 GiB objects\n",
       "    </div>\n",
       "    \n",
       "  </div>\n",
       "  <div class=\"hDivider\"></div>\n",
       "  <div class=\"trialStatus\">\n",
       "    <h3>Trial Status</h3>\n",
       "    <table>\n",
       "<thead>\n",
       "<tr><th>Trial name       </th><th>status    </th><th>loc                  </th><th style=\"text-align: right;\">  iter</th><th style=\"text-align: right;\">  total time (s)</th><th style=\"text-align: right;\">   ts</th><th style=\"text-align: right;\">  reward</th><th style=\"text-align: right;\">  num_recreated_worker\n",
       "s</th><th style=\"text-align: right;\">  episode_reward_max</th><th style=\"text-align: right;\">  episode_reward_min</th></tr>\n",
       "</thead>\n",
       "<tbody>\n",
       "<tr><td>AIRBC_e3afc_00000</td><td>TERMINATED</td><td>192.168.1.241:3894380</td><td style=\"text-align: right;\">     5</td><td style=\"text-align: right;\">        0.996612</td><td style=\"text-align: right;\">11084</td><td style=\"text-align: right;\">     nan</td><td style=\"text-align: right;\">0</td><td style=\"text-align: right;\">                 nan</td><td style=\"text-align: right;\">                 nan</td></tr>\n",
       "</tbody>\n",
       "</table>\n",
       "  </div>\n",
       "</div>\n",
       "<style>\n",
       ".tuneStatus {\n",
       "  color: var(--jp-ui-font-color1);\n",
       "}\n",
       ".tuneStatus .systemInfo {\n",
       "  display: flex;\n",
       "  flex-direction: column;\n",
       "}\n",
       ".tuneStatus td {\n",
       "  white-space: nowrap;\n",
       "}\n",
       ".tuneStatus .trialStatus {\n",
       "  display: flex;\n",
       "  flex-direction: column;\n",
       "}\n",
       ".tuneStatus h3 {\n",
       "  font-weight: bold;\n",
       "}\n",
       ".tuneStatus .hDivider {\n",
       "  border-bottom-width: var(--jp-border-width);\n",
       "  border-bottom-color: var(--jp-border-color0);\n",
       "  border-bottom-style: solid;\n",
       "}\n",
       ".tuneStatus .vDivider {\n",
       "  border-left-width: var(--jp-border-width);\n",
       "  border-left-color: var(--jp-border-color0);\n",
       "  border-left-style: solid;\n",
       "  margin: 0.5em 1em 0.5em 1em;\n",
       "}\n",
       "</style>\n"
      ],
      "text/plain": [
       "<IPython.core.display.HTML object>"
      ]
     },
     "metadata": {},
     "output_type": "display_data"
    },
    {
     "name": "stderr",
     "output_type": "stream",
     "text": [
      "\u001b[2m\u001b[36m(AIRBC pid=3894380)\u001b[0m 2022-09-26 18:22:47,815\tINFO algorithm.py:2104 -- Your framework setting is 'tf', meaning you are using static-graph mode. Set framework='tf2' to enable eager execution with tf2.x. You may also then want to set eager_tracing=True in order to reach similar execution speed as with static-graph mode.\n",
      "\u001b[2m\u001b[36m(AIRBC pid=3894380)\u001b[0m 2022-09-26 18:22:47,816\tINFO algorithm.py:356 -- Current log_level is WARN. For more information, set 'log_level': 'INFO' / 'DEBUG' or use the -v and -vv flags.\n",
      "Read:   0%|          | 0/2 [00:00<?, ?it/s]\n",
      "Read:  50%|█████     | 1/2 [00:00<00:00,  3.37it/s]\n",
      "Read: 100%|██████████| 2/2 [00:00<00:00,  5.58it/s]\n",
      "Repartition:   0%|          | 0/2 [00:00<?, ?it/s]\n",
      "Repartition: 100%|██████████| 2/2 [00:00<00:00, 14.03it/s]\n",
      "\u001b[2m\u001b[36m(RolloutWorker pid=3894910)\u001b[0m 2022-09-26 18:22:51,123\tWARNING env.py:159 -- Your env reset() method appears to take 'seed' or 'return_info' arguments. Note that these are not yet supported in RLlib. Seeding will take place using 'env.seed()' and the info dict will not be returned from reset.\n"
     ]
    },
    {
     "name": "stdout",
     "output_type": "stream",
     "text": [
      "\u001b[2m\u001b[36m(RolloutWorker pid=3894910)\u001b[0m DatasetReader 1 has 239, samples.\n",
      "\u001b[2m\u001b[36m(RolloutWorker pid=3894911)\u001b[0m DatasetReader 2 has 239, samples.\n"
     ]
    },
    {
     "name": "stderr",
     "output_type": "stream",
     "text": [
      "\u001b[2m\u001b[36m(AIRBC pid=3894380)\u001b[0m 2022-09-26 18:22:51,756\tWARNING deprecation.py:47 -- DeprecationWarning: `simple_optimizer` has been deprecated. This will raise an error in the future!\n",
      "\u001b[2m\u001b[36m(RolloutWorker pid=3895021)\u001b[0m 2022-09-26 18:22:54,479\tWARNING env.py:159 -- Your env reset() method appears to take 'seed' or 'return_info' arguments. Note that these are not yet supported in RLlib. Seeding will take place using 'env.seed()' and the info dict will not be returned from reset.\n",
      "\u001b[2m\u001b[36m(AIRBC pid=3894380)\u001b[0m 2022-09-26 18:22:54,735\tWARNING util.py:66 -- Install gputil for GPU system monitoring.\n"
     ]
    },
    {
     "data": {
      "text/html": [
       "<div class=\"trialProgress\">\n",
       "  <h3>Trial Progress</h3>\n",
       "  <table>\n",
       "<thead>\n",
       "<tr><th>Trial name       </th><th style=\"text-align: right;\">  agent_timesteps_total</th><th>counters                                                                                                                            </th><th>custom_metrics  </th><th>date               </th><th>done  </th><th style=\"text-align: right;\">  episode_len_mean</th><th>episode_media  </th><th style=\"text-align: right;\">  episode_reward_max</th><th style=\"text-align: right;\">  episode_reward_mean</th><th style=\"text-align: right;\">  episode_reward_min</th><th style=\"text-align: right;\">  episodes_this_iter</th><th style=\"text-align: right;\">  episodes_total</th><th>evaluation                                                                                                                                                                                                                                                                                                                                                                                                                                                                                                                                                                                                                                                                                                                                                                                                                                                    </th><th>experiment_id                   </th><th>hostname  </th><th>info                                                                                                                                                                                                                                                                                                               </th><th style=\"text-align: right;\">  iterations_since_restore</th><th>node_ip      </th><th style=\"text-align: right;\">  num_agent_steps_sampled</th><th style=\"text-align: right;\">  num_agent_steps_trained</th><th style=\"text-align: right;\">  num_env_steps_sampled</th><th style=\"text-align: right;\">  num_env_steps_sampled_this_iter</th><th style=\"text-align: right;\">  num_env_steps_trained</th><th style=\"text-align: right;\">  num_env_steps_trained_this_iter</th><th style=\"text-align: right;\">  num_faulty_episodes</th><th style=\"text-align: right;\">  num_healthy_workers</th><th style=\"text-align: right;\">  num_recreated_workers</th><th style=\"text-align: right;\">  num_steps_trained_this_iter</th><th>perf  </th><th style=\"text-align: right;\">    pid</th><th>policy_reward_max  </th><th>policy_reward_mean  </th><th>policy_reward_min  </th><th>sampler_perf  </th><th>sampler_results                                                                                                                                                                                                                                                                                                                                                       </th><th style=\"text-align: right;\">  time_since_restore</th><th style=\"text-align: right;\">  time_this_iter_s</th><th style=\"text-align: right;\">  time_total_s</th><th>timers                                                                                                                                                                                                        </th><th style=\"text-align: right;\">  timestamp</th><th style=\"text-align: right;\">  timesteps_since_restore</th><th style=\"text-align: right;\">  timesteps_total</th><th style=\"text-align: right;\">  training_iteration</th><th>trial_id   </th><th style=\"text-align: right;\">  warmup_time</th></tr>\n",
       "</thead>\n",
       "<tbody>\n",
       "<tr><td>AIRBC_e3afc_00000</td><td style=\"text-align: right;\">                  11084</td><td>{&#x27;num_env_steps_sampled&#x27;: 11084, &#x27;num_env_steps_trained&#x27;: 11084, &#x27;num_agent_steps_sampled&#x27;: 11084, &#x27;num_agent_steps_trained&#x27;: 11084}</td><td>{}              </td><td>2022-09-26_18-22-55</td><td>True  </td><td style=\"text-align: right;\">               nan</td><td>{}             </td><td style=\"text-align: right;\">                 nan</td><td style=\"text-align: right;\">                  nan</td><td style=\"text-align: right;\">                 nan</td><td style=\"text-align: right;\">                   0</td><td style=\"text-align: right;\">               0</td><td>{&#x27;episode_reward_max&#x27;: 24.0, &#x27;episode_reward_min&#x27;: 10.0, &#x27;episode_reward_mean&#x27;: 16.9, &#x27;episode_len_mean&#x27;: 16.9, &#x27;episode_media&#x27;: {}, &#x27;episodes_this_iter&#x27;: 10, &#x27;policy_reward_min&#x27;: {}, &#x27;policy_reward_max&#x27;: {}, &#x27;policy_reward_mean&#x27;: {}, &#x27;custom_metrics&#x27;: {}, &#x27;hist_stats&#x27;: {&#x27;episode_reward&#x27;: [22.0, 12.0, 10.0, 21.0, 24.0, 19.0, 15.0, 17.0, 17.0, 12.0], &#x27;episode_lengths&#x27;: [22, 12, 10, 21, 24, 19, 15, 17, 17, 12]}, &#x27;sampler_perf&#x27;: {&#x27;mean_raw_obs_processing_ms&#x27;: 0.1389556124250126, &#x27;mean_inference_ms&#x27;: 0.3053837110354277, &#x27;mean_action_processing_ms&#x27;: 0.031036834474401493, &#x27;mean_env_wait_ms&#x27;: 0.0260694335622386, &#x27;mean_env_render_ms&#x27;: 0.0}, &#x27;num_faulty_episodes&#x27;: 0, &#x27;num_agent_steps_sampled_this_iter&#x27;: 169, &#x27;num_env_steps_sampled_this_iter&#x27;: 169, &#x27;timesteps_this_iter&#x27;: 169, &#x27;num_healthy_workers&#x27;: 1, &#x27;num_recreated_workers&#x27;: 0}</td><td>21b4e50f0a544d479bf6794c0eedc65a</td><td>corvus    </td><td>{&#x27;learner&#x27;: {&#x27;default_policy&#x27;: {&#x27;learner_stats&#x27;: {&#x27;policy_loss&#x27;: 0.69113123, &#x27;total_loss&#x27;: 0.69113123, &#x27;model&#x27;: {}}, &#x27;custom_metrics&#x27;: {}, &#x27;num_agent_steps_trained&#x27;: 2000.0}}, &#x27;num_env_steps_sampled&#x27;: 11084, &#x27;num_env_steps_trained&#x27;: 11084, &#x27;num_agent_steps_sampled&#x27;: 11084, &#x27;num_agent_steps_trained&#x27;: 11084}</td><td style=\"text-align: right;\">                         5</td><td>192.168.1.241</td><td style=\"text-align: right;\">                    11084</td><td style=\"text-align: right;\">                    11084</td><td style=\"text-align: right;\">                  11084</td><td style=\"text-align: right;\">                             2270</td><td style=\"text-align: right;\">                  11084</td><td style=\"text-align: right;\">                             2270</td><td style=\"text-align: right;\">                    0</td><td style=\"text-align: right;\">                    2</td><td style=\"text-align: right;\">                      0</td><td style=\"text-align: right;\">                         2270</td><td>{}    </td><td style=\"text-align: right;\">3894380</td><td>{}                 </td><td>{}                  </td><td>{}                 </td><td>{}            </td><td>{&#x27;episode_reward_max&#x27;: nan, &#x27;episode_reward_min&#x27;: nan, &#x27;episode_reward_mean&#x27;: nan, &#x27;episode_len_mean&#x27;: nan, &#x27;episode_media&#x27;: {}, &#x27;episodes_this_iter&#x27;: 0, &#x27;policy_reward_min&#x27;: {}, &#x27;policy_reward_max&#x27;: {}, &#x27;policy_reward_mean&#x27;: {}, &#x27;custom_metrics&#x27;: {}, &#x27;hist_stats&#x27;: {&#x27;episode_reward&#x27;: [], &#x27;episode_lengths&#x27;: []}, &#x27;sampler_perf&#x27;: {}, &#x27;num_faulty_episodes&#x27;: 0}</td><td style=\"text-align: right;\">            0.996612</td><td style=\"text-align: right;\">          0.116935</td><td style=\"text-align: right;\">      0.996612</td><td>{&#x27;training_iteration_time_ms&#x27;: 55.867, &#x27;sample_time_ms&#x27;: 32.326, &#x27;load_time_ms&#x27;: 0.227, &#x27;load_throughput&#x27;: 9744218.306, &#x27;learn_time_ms&#x27;: 21.78, &#x27;learn_throughput&#x27;: 101779.38, &#x27;synch_weights_time_ms&#x27;: 1.468}</td><td style=\"text-align: right;\"> 1664241775</td><td style=\"text-align: right;\">                        0</td><td style=\"text-align: right;\">            11084</td><td style=\"text-align: right;\">                   5</td><td>e3afc_00000</td><td style=\"text-align: right;\">      6.92411</td></tr>\n",
       "</tbody>\n",
       "</table>\n",
       "</div>\n",
       "<style>\n",
       ".trialProgress {\n",
       "  display: flex;\n",
       "  flex-direction: column;\n",
       "  color: var(--jp-ui-font-color1);\n",
       "}\n",
       ".trialProgress h3 {\n",
       "  font-weight: bold;\n",
       "}\n",
       ".trialProgress td {\n",
       "  white-space: nowrap;\n",
       "}\n",
       "</style>\n"
      ],
      "text/plain": [
       "<IPython.core.display.HTML object>"
      ]
     },
     "metadata": {},
     "output_type": "display_data"
    },
    {
     "name": "stderr",
     "output_type": "stream",
     "text": [
      "2022-09-26 18:22:56,255\tINFO tune.py:762 -- Total run time: 11.35 seconds (10.95 seconds for the tuning loop).\n"
     ]
    }
   ],
   "source": [
    "result = train_rl_bc_offline(path=path, num_workers=2, use_gpu=False)"
   ]
  },
  {
   "cell_type": "markdown",
   "id": "71d7f318",
   "metadata": {},
   "source": [
    "And then, using the obtained checkpoint, we evaluate the policy on a fresh environment:"
   ]
  },
  {
   "cell_type": "code",
   "execution_count": 8,
   "id": "53e412cc",
   "metadata": {},
   "outputs": [
    {
     "name": "stderr",
     "output_type": "stream",
     "text": [
      "2022-09-26 18:23:01,591\tINFO algorithm.py:2104 -- Your framework setting is 'tf', meaning you are using static-graph mode. Set framework='tf2' to enable eager execution with tf2.x. You may also then want to set eager_tracing=True in order to reach similar execution speed as with static-graph mode.\n",
      "2022-09-26 18:23:01,591\tWARNING deprecation.py:47 -- DeprecationWarning: `simple_optimizer` has been deprecated. This will raise an error in the future!\n",
      "2022-09-26 18:23:01,593\tINFO algorithm.py:356 -- Current log_level is WARN. For more information, set 'log_level': 'INFO' / 'DEBUG' or use the -v and -vv flags.\n",
      "Read: 100%|█████████████████████████████████████████████████████████████████████████████████████████████████████████████████████████████████████████████████████████████████████████████████████████████████████████████████████████████████████████████████████████████████████████████████████████████████████████████████████████████████████████████████████████████████████████████████████████████| 2/2 [00:00<00:00,  2.54it/s]\n",
      "Repartition: 100%|██████████████████████████████████████████████████████████████████████████████████████████████████████████████████████████████████████████████████████████████████████████████████████████████████████████████████████████████████████████████████████████████████████████████████████████████████████████████████████████████████████████████████████████████████████████████████████| 2/2 [00:00<00:00, 10.71it/s]\n",
      "\u001b[2m\u001b[36m(RolloutWorker pid=3895623)\u001b[0m 2022-09-26 18:23:05,106\tWARNING env.py:159 -- Your env reset() method appears to take 'seed' or 'return_info' arguments. Note that these are not yet supported in RLlib. Seeding will take place using 'env.seed()' and the info dict will not be returned from reset.\n"
     ]
    },
    {
     "name": "stdout",
     "output_type": "stream",
     "text": [
      "\u001b[2m\u001b[36m(RolloutWorker pid=3895623)\u001b[0m DatasetReader 1 has 239, samples.\n",
      "\u001b[2m\u001b[36m(RolloutWorker pid=3895624)\u001b[0m DatasetReader 2 has 239, samples.\n"
     ]
    },
    {
     "name": "stderr",
     "output_type": "stream",
     "text": [
      "2022-09-26 18:23:05,788\tWARNING deprecation.py:47 -- DeprecationWarning: `simple_optimizer` has been deprecated. This will raise an error in the future!\n",
      "\u001b[2m\u001b[36m(RolloutWorker pid=3895732)\u001b[0m 2022-09-26 18:23:08,264\tWARNING env.py:159 -- Your env reset() method appears to take 'seed' or 'return_info' arguments. Note that these are not yet supported in RLlib. Seeding will take place using 'env.seed()' and the info dict will not be returned from reset.\n",
      "2022-09-26 18:23:08,520\tWARNING util.py:66 -- Install gputil for GPU system monitoring.\n",
      "2022-09-26 18:23:08,568\tINFO trainable.py:690 -- Restored on 192.168.1.241 from checkpoint: /home/pdmurray/ray_results/AIRBC_2022-09-26_18-22-44/AIRBC_e3afc_00000_0_2022-09-26_18-22-45/checkpoint_000005\n",
      "2022-09-26 18:23:08,569\tINFO trainable.py:699 -- Current state after restoring: {'_iteration': 5, '_timesteps_total': None, '_time_total': 0.9966120719909668, '_episodes_total': 0}\n"
     ]
    },
    {
     "name": "stdout",
     "output_type": "stream",
     "text": [
      "Average reward over 3 episodes: 23.666666666666668\n"
     ]
    }
   ],
   "source": [
    "num_eval_episodes = 3\n",
    "\n",
    "rewards = evaluate_using_checkpoint(result.checkpoint, num_episodes=num_eval_episodes)\n",
    "print(f\"Average reward over {num_eval_episodes} episodes: \" f\"{np.mean(rewards)}\")"
   ]
  }
 ],
 "metadata": {
  "jupytext": {
   "cell_metadata_filter": "-all",
   "main_language": "python",
   "notebook_metadata_filter": "-all"
  },
  "kernelspec": {
   "display_name": "Python 3 (ipykernel)",
   "language": "python",
   "name": "python3"
  },
  "language_info": {
   "codemirror_mode": {
    "name": "ipython",
    "version": 3
   },
   "file_extension": ".py",
   "mimetype": "text/x-python",
   "name": "python",
   "nbconvert_exporter": "python",
   "pygments_lexer": "ipython3",
   "version": "3.10.6"
  }
 },
 "nbformat": 4,
 "nbformat_minor": 5
}
