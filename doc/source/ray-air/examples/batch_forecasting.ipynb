{
 "cells": [
  {
   "cell_type": "markdown",
   "id": "16a0b509",
   "metadata": {},
   "source": [
    "# Parallel demand forecasting at scale using Ray Tune"
   ]
  },
  {
   "cell_type": "markdown",
   "id": "74d5d891",
   "metadata": {},
   "source": [
    "**Batch training and tuning** are common tasks in machine learning use-cases. They require training simple models, on data batches, typcially corresponding to different locations, products, etc. Batch training can take less time to process all the data at once, but only if those batches can run in parallel!\n",
    "\n",
    "This notebook showcases how to conduct batch forecasting with [Prophet](https://github.com/facebook/prophet) and [ARIMA](https://github.com/Nixtla/statsforecast). **Prophet** is a popular open-source library developed by Facebook and designed for automatic forecasting of univariate time series data. **ARIMA** is an older, well-known algorithm for forecasting univariate time series at less fine-grained detail than Prophet.\n",
    "\n",
    "![Batch training diagram](../../data/examples/images/batch-training.svg)\n",
    "\n",
    "For the data, we will use the [NYC Taxi dataset](https://www1.nyc.gov/site/tlc/about/tlc-trip-record-data.page). This popular tabular dataset contains historical taxi pickups by timestamp and location in NYC.\n",
    "\n",
    "For the training, we will train a separate forecasting model to predict #pickups at each location in NYC at daily level for the next 28 days. Specifically, we will use the `pickup_location_id` column in the dataset to group the dataset into data batches. Then we will conduct an experiment for each location, to find the best either Prophet or ARIMA model, per location."
   ]
  },
  {
   "cell_type": "markdown",
   "id": "82c2a39a",
   "metadata": {
    "tags": []
   },
   "source": [
    "# Contents\n",
    "\n",
    "In this this tutorial, you will learn how to:\n",
    " 1. [Define how to load and prepare Parquet data](#prepare_data2)\n",
    " 2. [Define a Trainable (callable) function](#define_trainable2)\n",
    " 3. [Run batch training and inference with Ray Tune](#run_tune_search2)\n",
    " 4. [Load a model from checkpoint](#load_checkpoint2)\n",
    " 5. [Create a forecast from model restored from checkpoint](#create_prediction2)\n"
   ]
  },
  {
   "cell_type": "markdown",
   "id": "a8033e35",
   "metadata": {},
   "source": [
    "# Walkthrough\n",
    "\n",
    "```{tip}\n",
    "Prerequisite for this notebook: Read the [Key Concepts](tune-60-seconds) page for Ray Tune.\n",
    "```\n",
    "\n",
    "First, let's make sure we have all Python packages we need installed."
   ]
  },
  {
   "cell_type": "code",
   "execution_count": 1,
   "id": "c6df3441",
   "metadata": {
    "collapsed": false,
    "jupyter": {
     "outputs_hidden": false
    }
   },
   "outputs": [],
   "source": [
    "!pip install -q \"ray[air]\" scikit-learn prophet statsmodels statsforecast"
   ]
  },
  {
   "cell_type": "markdown",
   "id": "649ba4c9",
   "metadata": {},
   "source": [
    "Next, let's import a few required libraries, including open-source [Ray](https://github.com/ray-project/ray) itself!"
   ]
  },
  {
   "cell_type": "code",
   "execution_count": 2,
   "id": "42669159",
   "metadata": {},
   "outputs": [
    {
     "name": "stdout",
     "output_type": "stream",
     "text": [
      "Number of CPUs in this system: 64\n",
      "numpy: 1.24.3\n",
      "scipy: 1.9.1\n",
      "pyarrow: 11.0.0\n"
     ]
    }
   ],
   "source": [
    "import os\n",
    "\n",
    "num_cpu = os.cpu_count()\n",
    "\n",
    "print(f\"Number of CPUs in this system: {num_cpu}\")\n",
    "from typing import Tuple, List, Union, Optional, Callable\n",
    "from datetime import datetime, timedelta\n",
    "import time\n",
    "import pandas as pd\n",
    "import numpy as np\n",
    "\n",
    "print(f\"numpy: {np.__version__}\")\n",
    "import matplotlib.pyplot as plt\n",
    "\n",
    "%matplotlib inline\n",
    "import scipy\n",
    "\n",
    "print(f\"scipy: {scipy.__version__}\")\n",
    "import pyarrow\n",
    "import pyarrow.parquet as pq\n",
    "import pyarrow.dataset as pds\n",
    "\n",
    "print(f\"pyarrow: {pyarrow.__version__}\")"
   ]
  },
  {
   "cell_type": "code",
   "execution_count": 3,
   "id": "46adc58f",
   "metadata": {},
   "outputs": [
    {
     "name": "stderr",
     "output_type": "stream",
     "text": [
      "2023-05-17 14:24:46,542\tINFO worker.py:1380 -- Using address localhost:9031 set in the environment variable RAY_ADDRESS\n",
      "find: ‘.git’: No such file or directory\n",
      "2023-05-17 14:24:47,257\tINFO worker.py:1498 -- Connecting to existing Ray cluster at address: 172.31.213.59:9031...\n",
      "2023-05-17 14:24:47,273\tINFO worker.py:1673 -- Connected to Ray cluster. View the dashboard at https://console.anyscale.com/api/v2/sessions/ses_jgkdnu2723aleytwqqhebr12vs/services?redirect_to=dashboard \n",
      "2023-05-17 14:24:47,296\tINFO packaging.py:347 -- Pushing file package 'gcs://_ray_pkg_e219f8b9b77b196e3d63ced7d9917421.zip' (5.45MiB) to Ray cluster...\n",
      "2023-05-17 14:24:47,314\tINFO packaging.py:360 -- Successfully pushed file package 'gcs://_ray_pkg_e219f8b9b77b196e3d63ced7d9917421.zip'.\n"
     ]
    },
    {
     "data": {
      "application/vnd.jupyter.widget-view+json": {
       "model_id": "c81e13720e464342820f14b3883476b0",
       "version_major": 2,
       "version_minor": 0
      },
      "text/html": [
       "<div class=\"lm-Widget p-Widget lm-Panel p-Panel jp-Cell-outputWrapper\">\n",
       "    <div style=\"margin-left: 50px;display: flex;flex-direction: row;align-items: center\">\n",
       "        <div class=\"jp-RenderedHTMLCommon\" style=\"display: flex; flex-direction: row;\">\n",
       "  <svg viewBox=\"0 0 567 224\" fill=\"none\" xmlns=\"http://www.w3.org/2000/svg\" style=\"height: 3em;\">\n",
       "    <g clip-path=\"url(#clip0_4338_178347)\">\n",
       "        <path d=\"M341.29 165.561H355.29L330.13 129.051C345.63 123.991 354.21 112.051 354.21 94.2307C354.21 71.3707 338.72 58.1807 311.88 58.1807H271V165.561H283.27V131.661H311.8C314.25 131.661 316.71 131.501 319.01 131.351L341.25 165.561H341.29ZM283.29 119.851V70.0007H311.82C331.3 70.0007 342.34 78.2907 342.34 94.5507C342.34 111.271 331.34 119.861 311.82 119.861L283.29 119.851ZM451.4 138.411L463.4 165.561H476.74L428.74 58.1807H416L367.83 165.561H380.83L392.83 138.411H451.4ZM446.19 126.601H398L422 72.1407L446.24 126.601H446.19ZM526.11 128.741L566.91 58.1807H554.35L519.99 114.181L485.17 58.1807H472.44L514.01 129.181V165.541H526.13V128.741H526.11Z\" fill=\"var(--jp-ui-font-color0)\"/>\n",
       "        <path d=\"M82.35 104.44C84.0187 97.8827 87.8248 92.0678 93.1671 87.9146C98.5094 83.7614 105.083 81.5067 111.85 81.5067C118.617 81.5067 125.191 83.7614 130.533 87.9146C135.875 92.0678 139.681 97.8827 141.35 104.44H163.75C164.476 101.562 165.622 98.8057 167.15 96.2605L127.45 56.5605C121.071 60.3522 113.526 61.6823 106.235 60.3005C98.9443 58.9187 92.4094 54.9203 87.8602 49.0574C83.3109 43.1946 81.0609 35.8714 81.5332 28.4656C82.0056 21.0599 85.1679 14.0819 90.4252 8.8446C95.6824 3.60726 102.672 0.471508 110.08 0.0272655C117.487 -0.416977 124.802 1.86091 130.647 6.4324C136.493 11.0039 140.467 17.5539 141.821 24.8501C143.175 32.1463 141.816 39.6859 138 46.0505L177.69 85.7505C182.31 82.9877 187.58 81.4995 192.962 81.4375C198.345 81.3755 203.648 82.742 208.33 85.3976C213.012 88.0532 216.907 91.9029 219.616 96.5544C222.326 101.206 223.753 106.492 223.753 111.875C223.753 117.258 222.326 122.545 219.616 127.197C216.907 131.848 213.012 135.698 208.33 138.353C203.648 141.009 198.345 142.375 192.962 142.313C187.58 142.251 182.31 140.763 177.69 138L138 177.7C141.808 184.071 143.155 191.614 141.79 198.91C140.424 206.205 136.44 212.75 130.585 217.313C124.731 221.875 117.412 224.141 110.004 223.683C102.596 223.226 95.6103 220.077 90.3621 214.828C85.1139 209.58 81.9647 202.595 81.5072 195.187C81.0497 187.779 83.3154 180.459 87.878 174.605C92.4405 168.751 98.9853 164.766 106.281 163.401C113.576 162.035 121.119 163.383 127.49 167.19L167.19 127.49C165.664 124.941 164.518 122.182 163.79 119.3H141.39C139.721 125.858 135.915 131.673 130.573 135.826C125.231 139.98 118.657 142.234 111.89 142.234C105.123 142.234 98.5494 139.98 93.2071 135.826C87.8648 131.673 84.0587 125.858 82.39 119.3H60C58.1878 126.495 53.8086 132.78 47.6863 136.971C41.5641 141.163 34.1211 142.972 26.7579 142.059C19.3947 141.146 12.6191 137.574 7.70605 132.014C2.79302 126.454 0.0813599 119.29 0.0813599 111.87C0.0813599 104.451 2.79302 97.2871 7.70605 91.7272C12.6191 86.1673 19.3947 82.5947 26.7579 81.6817C34.1211 80.7686 41.5641 82.5781 47.6863 86.7696C53.8086 90.9611 58.1878 97.2456 60 104.44H82.35ZM100.86 204.32C103.407 206.868 106.759 208.453 110.345 208.806C113.93 209.159 117.527 208.258 120.522 206.256C123.517 204.254 125.725 201.276 126.771 197.828C127.816 194.38 127.633 190.677 126.253 187.349C124.874 184.021 122.383 181.274 119.205 179.577C116.027 177.88 112.359 177.337 108.826 178.042C105.293 178.746 102.113 180.654 99.8291 183.44C97.5451 186.226 96.2979 189.718 96.3 193.32C96.2985 195.364 96.7006 197.388 97.4831 199.275C98.2656 201.163 99.4132 202.877 100.86 204.32ZM204.32 122.88C206.868 120.333 208.453 116.981 208.806 113.396C209.159 109.811 208.258 106.214 206.256 103.219C204.254 100.223 201.275 98.0151 197.827 96.97C194.38 95.9249 190.676 96.1077 187.348 97.4873C184.02 98.8669 181.274 101.358 179.577 104.536C177.879 107.714 177.337 111.382 178.041 114.915C178.746 118.448 180.653 121.627 183.439 123.911C186.226 126.195 189.717 127.443 193.32 127.44C195.364 127.443 197.388 127.042 199.275 126.259C201.163 125.476 202.878 124.328 204.32 122.88ZM122.88 19.4205C120.333 16.8729 116.981 15.2876 113.395 14.9347C109.81 14.5817 106.213 15.483 103.218 17.4849C100.223 19.4868 98.0146 22.4654 96.9696 25.9131C95.9245 29.3608 96.1073 33.0642 97.4869 36.3922C98.8665 39.7202 101.358 42.4668 104.535 44.1639C107.713 45.861 111.381 46.4036 114.914 45.6992C118.447 44.9949 121.627 43.0871 123.911 40.301C126.195 37.515 127.442 34.0231 127.44 30.4205C127.44 28.3772 127.038 26.3539 126.255 24.4664C125.473 22.5788 124.326 20.8642 122.88 19.4205ZM19.42 100.86C16.8725 103.408 15.2872 106.76 14.9342 110.345C14.5813 113.93 15.4826 117.527 17.4844 120.522C19.4863 123.518 22.4649 125.726 25.9127 126.771C29.3604 127.816 33.0638 127.633 36.3918 126.254C39.7198 124.874 42.4664 122.383 44.1635 119.205C45.8606 116.027 46.4032 112.359 45.6988 108.826C44.9944 105.293 43.0866 102.114 40.3006 99.8296C37.5145 97.5455 34.0227 96.2983 30.42 96.3005C26.2938 96.3018 22.337 97.9421 19.42 100.86ZM100.86 100.86C98.3125 103.408 96.7272 106.76 96.3742 110.345C96.0213 113.93 96.9226 117.527 98.9244 120.522C100.926 123.518 103.905 125.726 107.353 126.771C110.8 127.816 114.504 127.633 117.832 126.254C121.16 124.874 123.906 122.383 125.604 119.205C127.301 116.027 127.843 112.359 127.139 108.826C126.434 105.293 124.527 102.114 121.741 99.8296C118.955 97.5455 115.463 96.2983 111.86 96.3005C109.817 96.299 107.793 96.701 105.905 97.4835C104.018 98.2661 102.303 99.4136 100.86 100.86Z\" fill=\"#00AEEF\"/>\n",
       "    </g>\n",
       "    <defs>\n",
       "        <clipPath id=\"clip0_4338_178347\">\n",
       "            <rect width=\"566.93\" height=\"223.75\" fill=\"white\"/>\n",
       "        </clipPath>\n",
       "    </defs>\n",
       "  </svg>\n",
       "</div>\n",
       "\n",
       "        <table class=\"jp-RenderedHTMLCommon\" style=\"border-collapse: collapse;color: var(--jp-ui-font-color1);font-size: var(--jp-ui-font-size1);\">\n",
       "    <tr>\n",
       "        <td style=\"text-align: left\"><b>Python version:</b></td>\n",
       "        <td style=\"text-align: left\"><b>3.8.13</b></td>\n",
       "    </tr>\n",
       "    <tr>\n",
       "        <td style=\"text-align: left\"><b>Ray version:</b></td>\n",
       "        <td style=\"text-align: left\"><b>3.0.0.dev0</b></td>\n",
       "    </tr>\n",
       "    <tr>\n",
       "    <td style=\"text-align: left\"><b>Dashboard:</b></td>\n",
       "    <td style=\"text-align: left\"><b><a href=\"http://console.anyscale.com/api/v2/sessions/ses_jgkdnu2723aleytwqqhebr12vs/services?redirect_to=dashboard\" target=\"_blank\">http://console.anyscale.com/api/v2/sessions/ses_jgkdnu2723aleytwqqhebr12vs/services?redirect_to=dashboard</a></b></td>\n",
       "</tr>\n",
       "\n",
       "</table>\n",
       "\n",
       "    </div>\n",
       "</div>\n"
      ],
      "text/plain": [
       "RayContext(dashboard_url='console.anyscale.com/api/v2/sessions/ses_jgkdnu2723aleytwqqhebr12vs/services?redirect_to=dashboard', python_version='3.8.13', ray_version='3.0.0.dev0', ray_commit='9cd509723494eb861c77a989cfa880ec384d31c6', protocol_version=None)"
      ]
     },
     "execution_count": 3,
     "metadata": {},
     "output_type": "execute_result"
    }
   ],
   "source": [
    "import ray\n",
    "\n",
    "if ray.is_initialized():\n",
    "    ray.shutdown()\n",
    "ray.init()"
   ]
  },
  {
   "cell_type": "code",
   "execution_count": 4,
   "id": "130cc1bd",
   "metadata": {},
   "outputs": [
    {
     "name": "stdout",
     "output_type": "stream",
     "text": [
      "{'memory': 319463062119.0, 'object_store_memory': 141198455193.0, 'CPU': 64.0, 'node:172.31.213.59': 1.0, 'accelerator_type:V100': 1.0, 'GPU': 8.0}\n"
     ]
    }
   ],
   "source": [
    "print(ray.cluster_resources())"
   ]
  },
  {
   "cell_type": "code",
   "execution_count": 5,
   "id": "89928c80",
   "metadata": {},
   "outputs": [
    {
     "name": "stdout",
     "output_type": "stream",
     "text": [
      "prophet: 1.1.3\n",
      "statsforecast: 1.5.0\n"
     ]
    }
   ],
   "source": [
    "# Import forecasting libraries.\n",
    "import prophet\n",
    "from prophet import Prophet\n",
    "\n",
    "print(f\"prophet: {prophet.__version__}\")\n",
    "\n",
    "import statsforecast\n",
    "from statsforecast import StatsForecast\n",
    "from statsforecast.models import AutoARIMA\n",
    "\n",
    "print(f\"statsforecast: {statsforecast.__version__}\")\n",
    "\n",
    "# Import ray libraries.\n",
    "from ray import air, tune, serve\n",
    "from ray.air import session, ScalingConfig\n",
    "from ray.air.checkpoint import Checkpoint\n",
    "\n",
    "RAY_IGNORE_UNHANDLED_ERRORS = 1"
   ]
  },
  {
   "cell_type": "code",
   "execution_count": 6,
   "id": "7559a0a7",
   "metadata": {},
   "outputs": [],
   "source": [
    "# For benchmarking purposes, we can print the times of various operations.\n",
    "# In order to reduce clutter in the output, this is set to False by default.\n",
    "PRINT_TIMES = False\n",
    "\n",
    "\n",
    "def print_time(msg: str):\n",
    "    if PRINT_TIMES:\n",
    "        print(msg)\n",
    "\n",
    "\n",
    "# To speed things up, we’ll only use a small subset of the full dataset consisting of two last months of 2019.\n",
    "# You can choose to use the full dataset for 2018-2019 by setting the SMOKE_TEST variable to False.\n",
    "SMOKE_TEST = True"
   ]
  },
  {
   "cell_type": "markdown",
   "id": "e6e47315",
   "metadata": {
    "tags": []
   },
   "source": [
    "## Define how to load and prepare Parquet data <a class=\"anchor\" id=\"prepare_data2\"></a>"
   ]
  },
  {
   "cell_type": "markdown",
   "id": "b8d29ea0",
   "metadata": {},
   "source": [
    "First, we need to load some data. Since the NYC Taxi dataset is fairly large, we will filter files first into a PyArrow dataset. And then in the next cell after, we will filter the data on read into a PyArrow table and convert that to a pandas dataframe.\n",
    "\n",
    "```{tip}\n",
    "Use PyArrow dataset and table for reading or writing large parquet files, since its native multithreaded C++ adapter is faster than pandas read_parquet, even using engine=pyarrow.\n",
    "```"
   ]
  },
  {
   "cell_type": "code",
   "execution_count": 7,
   "id": "eb48598a",
   "metadata": {},
   "outputs": [
    {
     "name": "stdout",
     "output_type": "stream",
     "text": [
      "NYC Taxi using 2 file(s)!\n",
      "s3_files: ['s3://anonymous@air-example-data/ursa-labs-taxi-data/by_year/2019/05/data.parquet/359c21b3e28f40328e68cf66f7ba40e2_000000.parquet', 's3://anonymous@air-example-data/ursa-labs-taxi-data/by_year/2019/06/data.parquet/ab5b9d2b8cc94be19346e260b543ec35_000000.parquet']\n",
      "Locations: [141, 229, 173]\n"
     ]
    }
   ],
   "source": [
    "# Define some global variables.\n",
    "TARGET = \"y\"\n",
    "FORECAST_LENGTH = 28\n",
    "MAX_DATE = datetime(2019, 6, 30)\n",
    "s3_partitions = pds.dataset(\n",
    "    \"s3://anonymous@air-example-data/ursa-labs-taxi-data/by_year/\",\n",
    "    partitioning=[\"year\", \"month\"],\n",
    ")\n",
    "s3_files = [f\"s3://anonymous@{file}\" for file in s3_partitions.files]\n",
    "\n",
    "# Obtain all location IDs\n",
    "all_location_ids = (\n",
    "    pq.read_table(s3_files[0], columns=[\"pickup_location_id\"])[\"pickup_location_id\"]\n",
    "    .unique()\n",
    "    .to_pylist()\n",
    ")\n",
    "# drop [264, 265, 199]\n",
    "all_location_ids.remove(264)\n",
    "all_location_ids.remove(265)\n",
    "all_location_ids.remove(199)\n",
    "\n",
    "# Use smoke testing or not.\n",
    "starting_idx = -2 if SMOKE_TEST else 0\n",
    "# TODO: drop location 199 to test error-handling before final git checkin\n",
    "sample_locations = [141, 229, 173] if SMOKE_TEST else all_location_ids\n",
    "\n",
    "# Display what data will be used.\n",
    "s3_files = s3_files[starting_idx:]\n",
    "print(f\"NYC Taxi using {len(s3_files)} file(s)!\")\n",
    "print(f\"s3_files: {s3_files}\")\n",
    "print(f\"Locations: {sample_locations}\")"
   ]
  },
  {
   "cell_type": "code",
   "execution_count": 8,
   "id": "736fcb5b",
   "metadata": {},
   "outputs": [],
   "source": [
    "############\n",
    "# STEP 1.  Define Python functions to\n",
    "#          a) read and prepare a segment of data, and\n",
    "############\n",
    "\n",
    "# Function to read a pyarrow.Table object using pyarrow parquet\n",
    "def read_data(file: str, sample_id: np.int32) -> pd.DataFrame:\n",
    "\n",
    "    # parse out min expected date\n",
    "    part_zero = \"s3://anonymous@air-example-data/ursa-labs-taxi-data/by_year/\"\n",
    "    split_text = file.split(part_zero)[1]\n",
    "    min_year = split_text.split(\"/\")[0]\n",
    "    min_month = split_text.split(\"/\")[1]\n",
    "    string_date = min_year + \"-\" + min_month + \"-\" + \"01\" + \" 00:00:00\"\n",
    "    min_date = datetime.strptime(string_date, \"%Y-%m-%d %H:%M:%S\")\n",
    "\n",
    "    df = pq.read_table(\n",
    "        file,\n",
    "        filters=[\n",
    "            (\"pickup_at\", \">\", min_date),\n",
    "            (\"pickup_at\", \"<=\", MAX_DATE),\n",
    "            (\"passenger_count\", \">\", 0),\n",
    "            (\"trip_distance\", \">\", 0),\n",
    "            (\"fare_amount\", \">\", 0),\n",
    "            (\"pickup_location_id\", \"not in\", [264, 265]),\n",
    "            (\"dropoff_location_id\", \"not in\", [264, 265]),\n",
    "            (\"pickup_location_id\", \"=\", sample_id),\n",
    "        ],\n",
    "        columns=[\n",
    "            \"pickup_at\",\n",
    "            \"dropoff_at\",\n",
    "            \"pickup_location_id\",\n",
    "            \"dropoff_location_id\",\n",
    "            \"passenger_count\",\n",
    "            \"trip_distance\",\n",
    "            \"fare_amount\",\n",
    "        ],\n",
    "    ).to_pandas()\n",
    "    return df\n",
    "\n",
    "\n",
    "# Function to transform a pandas dataframe\n",
    "def transform_df(input_df: pd.DataFrame) -> pd.DataFrame:\n",
    "    df = input_df.copy()\n",
    "\n",
    "    # calculate trip_duration\n",
    "    df[\"trip_duration\"] = (df[\"dropoff_at\"] - df[\"pickup_at\"]).dt.seconds\n",
    "    # filter trip_durations > 1 minute and less than 24 hours\n",
    "    df = df[df[\"trip_duration\"] > 60]\n",
    "    df = df[df[\"trip_duration\"] < 24 * 60 * 60]\n",
    "\n",
    "    # Prophet requires timstamp is 'ds' and target_value name is 'y'\n",
    "    # Prophet requires at least 2 data points per timestamp\n",
    "    # StatsForecast requires location name is 'unique_id'\n",
    "\n",
    "    # add year_month_day and concat into a unique column to use as groupby key\n",
    "    df[\"ds\"] = df[\"pickup_at\"].dt.to_period(\"D\").dt.to_timestamp()\n",
    "    df[\"loc_year_month_day\"] = (\n",
    "        df[\"pickup_location_id\"].astype(str)\n",
    "        + \"_\"\n",
    "        + df[\"pickup_at\"].dt.year.astype(str)\n",
    "        + \"_\"\n",
    "        + df[\"pickup_at\"].dt.month.astype(str)\n",
    "        + \"_\"\n",
    "        + df[\"pickup_at\"].dt.day.astype(str)\n",
    "    )\n",
    "    # add target_value quantity for groupby count later\n",
    "    df[\"y\"] = 1\n",
    "    # rename pickup_location_id to unique_id\n",
    "    df.rename(columns={\"pickup_location_id\": \"unique_id\"}, inplace=True)\n",
    "    # keep only necessary columns\n",
    "    df = df[[\"loc_year_month_day\", \"unique_id\", \"ds\", \"y\"]].copy()\n",
    "\n",
    "    # groupby aggregregate\n",
    "    g = df.groupby(\"loc_year_month_day\").agg({\"unique_id\": min, \"ds\": min, \"y\": sum})\n",
    "    # having num rows in group > 2\n",
    "    g.dropna(inplace=True)\n",
    "    g = g[g[\"y\"] > 2].copy()\n",
    "\n",
    "    # Drop groupby variable since we do not need it anymore\n",
    "    g.reset_index(inplace=True)\n",
    "    g.drop([\"loc_year_month_day\"], axis=1, inplace=True)\n",
    "\n",
    "    return g\n",
    "\n",
    "\n",
    "def prepare_data(sample_location_id: np.int32) -> pd.DataFrame:\n",
    "\n",
    "    # Load data.\n",
    "    df_list = [read_data(f, sample_location_id) for f in s3_files]\n",
    "    df_raw = pd.concat(df_list, ignore_index=True)\n",
    "    # Abort Tune to avoid Tune Error if df has too few rows\n",
    "    if df_raw.shape[0] < FORECAST_LENGTH:\n",
    "        print_time(f\"Location {sample_location_id} has only {df_raw.shape[0]} rows\")\n",
    "        session.report(dict(error=None))\n",
    "        return None\n",
    "\n",
    "    # Transform data.\n",
    "    df = transform_df(df_raw)\n",
    "    # Abort Tune to avoid Tune Error if df has too few rows\n",
    "    if df.shape[0] < FORECAST_LENGTH:\n",
    "        print_time(f\"Location {sample_location_id} has only {df.shape[0]} rows\")\n",
    "        session.report(dict(error=None))\n",
    "        return None\n",
    "    else:\n",
    "        df.sort_values(by=\"ds\", inplace=True)\n",
    "\n",
    "    return df"
   ]
  },
  {
   "cell_type": "markdown",
   "id": "d2358421",
   "metadata": {},
   "source": [
    "## Define a Trainable (callable) function <a class=\"anchor\" id=\"define_trainable2\"></a>"
   ]
  },
  {
   "cell_type": "markdown",
   "id": "94eb28a7",
   "metadata": {},
   "source": [
    "Next, we define a trainable function, called `train_model()`, in order to train and evaluate a model on a data partition. This function will be called *in parallel for every permutation* in the Tune search space! \n",
    "\n",
    "Inside this trainable function:\n",
    "- 📖 The input must include a `config` argument. \n",
    "- 📈 Inside the function, the tuning metric (a model's loss or error) must be calculated and reported using `session.report()`.\n",
    "- ✔️ Optionally [checkpoint](air-checkpoints-doc) (save) the model for fault tolerance and easy deployment later.\n",
    "\n",
    "```{tip}\n",
    "Ray Tune has two ways of [defining a trainable](tune_60_seconds_trainables), namely the Function API and the Class API. Both are valid ways of defining a trainable, but *the Function API is generally recommended*.\n",
    "```"
   ]
  },
  {
   "cell_type": "code",
   "execution_count": 9,
   "id": "e044119a",
   "metadata": {},
   "outputs": [],
   "source": [
    "############\n",
    "# STEP 1.  Define Python functions to\n",
    "#          b) train and evaluate a model on a segment of data.\n",
    "############\n",
    "\n",
    "\n",
    "def evaluate_model_prophet(\n",
    "    model: \"prophet.forecaster.Prophet\",\n",
    ") -> Tuple[float, pd.DataFrame]:\n",
    "\n",
    "    # Inference model using FORECAST_LENGTH.\n",
    "    future_dates = model.make_future_dataframe(periods=FORECAST_LENGTH, freq=\"D\")\n",
    "    future = model.predict(future_dates)\n",
    "\n",
    "    # Calculate mean absolute forecast error.\n",
    "    temp = future.copy()\n",
    "    temp[\"forecast_error\"] = np.abs(temp[\"yhat\"] - temp[\"trend\"])\n",
    "    error = np.mean(temp[\"forecast_error\"])\n",
    "\n",
    "    return error, future\n",
    "\n",
    "\n",
    "def evaluate_model_statsforecast(\n",
    "    model: \"statsforecast.models.AutoARIMA\", test_df: pd.DataFrame\n",
    ") -> Tuple[float, pd.DataFrame]:\n",
    "\n",
    "    # Inference model using test data.\n",
    "    forecast = model.forecast(FORECAST_LENGTH + 1).reset_index()\n",
    "    forecast.set_index([\"ds\"], inplace=True)\n",
    "    test_df.set_index(\"ds\", inplace=True)\n",
    "    future = pd.concat([test_df, forecast[[\"AutoARIMA\"]]], axis=1)\n",
    "    future.dropna(inplace=True)\n",
    "    future.columns = [\"unique_id\", \"trend\", \"yhat\"]\n",
    "\n",
    "    # Calculate mean absolute forecast error.\n",
    "    temp = future.copy()\n",
    "    temp[\"forecast_error\"] = np.abs(temp[\"yhat\"] - temp[\"trend\"])\n",
    "    error = np.mean(temp[\"forecast_error\"])\n",
    "\n",
    "    return error, future\n",
    "\n",
    "\n",
    "# 2. Define a custom train function\n",
    "def train_model(config: dict) -> None:\n",
    "\n",
    "    # Get Tune parameters\n",
    "    sample_location_id = config[\"params\"][\"location\"]\n",
    "    model_type = config[\"params\"][\"algorithm\"]\n",
    "\n",
    "    # Define Prophet model with 75% confidence interval\n",
    "    if model_type == \"prophet_additive\":\n",
    "        model = Prophet(interval_width=0.75, seasonality_mode=\"additive\")\n",
    "    elif model_type == \"prophet_multiplicative\":\n",
    "        model = Prophet(interval_width=0.75, seasonality_mode=\"multiplicative\")\n",
    "\n",
    "    # Define ARIMA model with daily frequency which implies seasonality = 7\n",
    "    elif model_type == \"arima\":\n",
    "        model = [AutoARIMA(season_length=7, approximation=True)]\n",
    "\n",
    "    # Read and transform data.\n",
    "    df = prepare_data(sample_location_id)\n",
    "\n",
    "    # Train model.\n",
    "    if model_type == \"arima\":\n",
    "\n",
    "        try:\n",
    "            # split data into train, test.\n",
    "            train_end = df.ds.max() - timedelta(days=FORECAST_LENGTH + 1)\n",
    "            train_df = df.loc[(df.ds <= train_end), :].copy()\n",
    "            test_df = df.iloc[-FORECAST_LENGTH:, :].copy()\n",
    "\n",
    "            # fit AutoARIMA.\n",
    "            model = StatsForecast(df=train_df, models=model, freq=\"D\")\n",
    "\n",
    "            # Inference model and evaluate error.\n",
    "            error, future = evaluate_model_statsforecast(model, test_df)\n",
    "        except:\n",
    "            print(f\"ARIMA error processing location: {sample_location_id}\")\n",
    "\n",
    "    else:  # model type is Prophet\n",
    "        try:\n",
    "            # fit Prophet.\n",
    "            model = model.fit(df[[\"ds\", \"y\"]])\n",
    "\n",
    "            # Inference model and evaluate error.\n",
    "            error, future = evaluate_model_prophet(model)\n",
    "        except:\n",
    "            print(f\"Prophet error processing location: {sample_location_id}\")\n",
    "\n",
    "    # Define a model checkpoint using AIR API.\n",
    "    # https://docs.ray.io/en/latest/tune/tutorials/tune-checkpoints.html\n",
    "    checkpoint = ray.air.checkpoint.Checkpoint.from_dict(\n",
    "        {\n",
    "            \"model\": model,\n",
    "            \"forecast_df\": future,\n",
    "            \"location_id\": sample_location_id,\n",
    "        }\n",
    "    )\n",
    "\n",
    "    # Save checkpoint and report back metrics, using ray.air.session.report()\n",
    "    # The metrics you specify here will appear in Tune summary table.\n",
    "    # They will also be recorded in Tune results under `metrics`.\n",
    "    metrics = dict(error=error)\n",
    "    session.report(metrics, checkpoint=checkpoint)"
   ]
  },
  {
   "cell_type": "markdown",
   "id": "139008ea",
   "metadata": {},
   "source": [
    "## Run batch training on Ray Tune <a class=\"anchor\" id=\"run_tune_search2\"></a>"
   ]
  },
  {
   "cell_type": "markdown",
   "id": "100f5e98",
   "metadata": {},
   "source": [
    "**Recall what we are doing, high level, is training several different models per pickup location.** We are using Ray Tune so we can *run all these trials in parallel* on a Ray cluster. At the end, we will inspect the results of the experiment and deploy only the best model per pickup location.\n",
    "\n",
    "**Step 1. Define Python functions to read and prepare a segment of data and train and evaluate one or many models per segment of data**.  We already did this, above.\n",
    "\n",
    "**Step 2. Scaling**:\n",
    "Below, we specify training resources in a `ray.air.ScalingConfig` object inside the Tune search space.  For more information about configuring resource allocations, see [A Guide To Parallelism and Resources](tune-parallelism). \n",
    "\n",
    "**Step 3. Search Space**:\n",
    "Below, we define our [Tune search space](tune-key-concepts-search-spaces), which consists of:\n",
    "- Different algorithms, either:\n",
    "  - Prophet with [multiplicative or additive](https://facebook.github.io/prophet/docs/multiplicative_seasonality.html) seasonal effects \n",
    "  - [AutoARIMA](https://github.com/Nixtla/statsforecast).\n",
    "- NYC taxi pick-up locations.\n",
    "- Scaling config\n",
    "\n",
    "**Step 4. Search Algorithm or Strategy**:\n",
    "Below, our Tune jobs will be defined using a search space and simple grid search. \n",
    "> The typical use case for Tune search spaces is for hyperparameter tuning. In our case, we are defining the Tune search space in order to run distributed tuning jobs automatically.  Each training job will use a different data partition (taxi pickup location), different algorithm, and the compute resources we defined in the Scaling config.\n",
    "\n",
    "**Step 5. Now we are ready to kick off a Ray Tune experiment!** \n",
    "- Define a `tuner` object.\n",
    "- Put the training function `train_model()` inside the `tuner` object.\n",
    "- Run the experiment using `tuner.fit()`.\n",
    "\n",
    "💡 After you run the cell below, right-click on it and choose \"Enable Scrolling for Outputs\"! This will make it easier to view, since tuning output can be very long!\n",
    "\n",
    "**Setting SMOKE_TEST=False, running on Anyscale: 771 models, using 18 NYC Taxi S3 files dating from 2018/01 to 2019/06 (split into partitions approx 1GiB each), were simultaneously trained on a 7-node AWS cluster of m5.4xlarges, within 40 minutes.**"
   ]
  },
  {
   "cell_type": "code",
   "execution_count": 10,
   "id": "3ef7c6d6",
   "metadata": {
    "scrolled": true,
    "tags": []
   },
   "outputs": [
    {
     "data": {
      "text/html": [
       "<div class=\"tuneStatus\">\n",
       "  <div style=\"display: flex;flex-direction: row\">\n",
       "    <div style=\"display: flex;flex-direction: column;\">\n",
       "      <h3>Tune Status</h3>\n",
       "      <table>\n",
       "<tbody>\n",
       "<tr><td>Current time:</td><td>2023-05-17 14:25:23</td></tr>\n",
       "<tr><td>Running for: </td><td>00:00:29.24        </td></tr>\n",
       "<tr><td>Memory:      </td><td>10.1/480.3 GiB     </td></tr>\n",
       "</tbody>\n",
       "</table>\n",
       "    </div>\n",
       "    <div class=\"vDivider\"></div>\n",
       "    <div class=\"systemInfo\">\n",
       "      <h3>System Info</h3>\n",
       "      Using FIFO scheduling algorithm.<br>Logical resource usage: 1.0/64 CPUs, 0/8 GPUs (0.0/1.0 accelerator_type:V100)\n",
       "    </div>\n",
       "    \n",
       "  </div>\n",
       "  <div class=\"hDivider\"></div>\n",
       "  <div class=\"trialStatus\">\n",
       "    <h3>Trial Status</h3>\n",
       "    <table>\n",
       "<thead>\n",
       "<tr><th>Trial name             </th><th>status    </th><th>loc                </th><th>params/algorithm    </th><th style=\"text-align: right;\">  params/location</th><th style=\"text-align: right;\">  iter</th><th style=\"text-align: right;\">  total time (s)</th><th style=\"text-align: right;\">    error</th></tr>\n",
       "</thead>\n",
       "<tbody>\n",
       "<tr><td>train_model_42de5_00000</td><td>TERMINATED</td><td>172.31.213.59:14115</td><td>prophet_additive    </td><td style=\"text-align: right;\">              141</td><td style=\"text-align: right;\">     1</td><td style=\"text-align: right;\">         5.73623</td><td style=\"text-align: right;\">502.849  </td></tr>\n",
       "<tr><td>train_model_42de5_00001</td><td>TERMINATED</td><td>172.31.213.59:14116</td><td>prophet_multipl_43f0</td><td style=\"text-align: right;\">              141</td><td style=\"text-align: right;\">     1</td><td style=\"text-align: right;\">         5.94609</td><td style=\"text-align: right;\">483.067  </td></tr>\n",
       "<tr><td>train_model_42de5_00002</td><td>TERMINATED</td><td>172.31.213.59:14117</td><td>arima               </td><td style=\"text-align: right;\">              141</td><td style=\"text-align: right;\">     1</td><td style=\"text-align: right;\">        21.574  </td><td style=\"text-align: right;\">342.35   </td></tr>\n",
       "<tr><td>train_model_42de5_00003</td><td>TERMINATED</td><td>172.31.213.59:14118</td><td>prophet_additive    </td><td style=\"text-align: right;\">              229</td><td style=\"text-align: right;\">     1</td><td style=\"text-align: right;\">         5.54851</td><td style=\"text-align: right;\">539.389  </td></tr>\n",
       "<tr><td>train_model_42de5_00004</td><td>TERMINATED</td><td>172.31.213.59:14119</td><td>prophet_multipl_43f0</td><td style=\"text-align: right;\">              229</td><td style=\"text-align: right;\">     1</td><td style=\"text-align: right;\">         5.4158 </td><td style=\"text-align: right;\">529.743  </td></tr>\n",
       "<tr><td>train_model_42de5_00005</td><td>TERMINATED</td><td>172.31.213.59:14122</td><td>arima               </td><td style=\"text-align: right;\">              229</td><td style=\"text-align: right;\">     1</td><td style=\"text-align: right;\">        20.862  </td><td style=\"text-align: right;\">480.844  </td></tr>\n",
       "<tr><td>train_model_42de5_00006</td><td>TERMINATED</td><td>172.31.213.59:14120</td><td>prophet_additive    </td><td style=\"text-align: right;\">              173</td><td style=\"text-align: right;\">     1</td><td style=\"text-align: right;\">         4.70871</td><td style=\"text-align: right;\">  2.55585</td></tr>\n",
       "<tr><td>train_model_42de5_00007</td><td>TERMINATED</td><td>172.31.213.59:14121</td><td>prophet_multipl_43f0</td><td style=\"text-align: right;\">              173</td><td style=\"text-align: right;\">     1</td><td style=\"text-align: right;\">         4.64482</td><td style=\"text-align: right;\">  2.52897</td></tr>\n",
       "<tr><td>train_model_42de5_00008</td><td>TERMINATED</td><td>172.31.213.59:14123</td><td>arima               </td><td style=\"text-align: right;\">              173</td><td style=\"text-align: right;\">     1</td><td style=\"text-align: right;\">        21.2637 </td><td style=\"text-align: right;\">  2.81589</td></tr>\n",
       "</tbody>\n",
       "</table>\n",
       "  </div>\n",
       "</div>\n",
       "<style>\n",
       ".tuneStatus {\n",
       "  color: var(--jp-ui-font-color1);\n",
       "}\n",
       ".tuneStatus .systemInfo {\n",
       "  display: flex;\n",
       "  flex-direction: column;\n",
       "}\n",
       ".tuneStatus td {\n",
       "  white-space: nowrap;\n",
       "}\n",
       ".tuneStatus .trialStatus {\n",
       "  display: flex;\n",
       "  flex-direction: column;\n",
       "}\n",
       ".tuneStatus h3 {\n",
       "  font-weight: bold;\n",
       "}\n",
       ".tuneStatus .hDivider {\n",
       "  border-bottom-width: var(--jp-border-width);\n",
       "  border-bottom-color: var(--jp-border-color0);\n",
       "  border-bottom-style: solid;\n",
       "}\n",
       ".tuneStatus .vDivider {\n",
       "  border-left-width: var(--jp-border-width);\n",
       "  border-left-color: var(--jp-border-color0);\n",
       "  border-left-style: solid;\n",
       "  margin: 0.5em 1em 0.5em 1em;\n",
       "}\n",
       "</style>\n"
      ],
      "text/plain": [
       "<IPython.core.display.HTML object>"
      ]
     },
     "metadata": {},
     "output_type": "display_data"
    },
    {
     "name": "stderr",
     "output_type": "stream",
     "text": [
      "(train_model pid=14121) 14:25:05 - cmdstanpy - INFO - Chain [1] start processing\n",
      "(train_model pid=14121) 14:25:06 - cmdstanpy - INFO - Chain [1] done processing\n"
     ]
    },
    {
     "data": {
      "text/html": [
       "<div class=\"trialProgress\">\n",
       "  <h3>Trial Progress</h3>\n",
       "  <table>\n",
       "<thead>\n",
       "<tr><th>Trial name             </th><th>date               </th><th>done  </th><th style=\"text-align: right;\">    error</th><th>experiment_tag                                 </th><th>hostname        </th><th style=\"text-align: right;\">  iterations_since_restore</th><th>node_ip      </th><th style=\"text-align: right;\">  pid</th><th>should_checkpoint  </th><th style=\"text-align: right;\">  time_since_restore</th><th style=\"text-align: right;\">  time_this_iter_s</th><th style=\"text-align: right;\">  time_total_s</th><th style=\"text-align: right;\">  timestamp</th><th style=\"text-align: right;\">  training_iteration</th><th>trial_id   </th></tr>\n",
       "</thead>\n",
       "<tbody>\n",
       "<tr><td>train_model_42de5_00000</td><td>2023-05-17_14-25-07</td><td>True  </td><td style=\"text-align: right;\">502.849  </td><td>0_algorithm=prophet_additive,location=141      </td><td>ip-172-31-213-59</td><td style=\"text-align: right;\">                         1</td><td>172.31.213.59</td><td style=\"text-align: right;\">14115</td><td>True               </td><td style=\"text-align: right;\">             5.73623</td><td style=\"text-align: right;\">           5.73623</td><td style=\"text-align: right;\">       5.73623</td><td style=\"text-align: right;\"> 1684358707</td><td style=\"text-align: right;\">                   1</td><td>42de5_00000</td></tr>\n",
       "<tr><td>train_model_42de5_00001</td><td>2023-05-17_14-25-07</td><td>True  </td><td style=\"text-align: right;\">483.067  </td><td>1_algorithm=prophet_multiplicative,location=141</td><td>ip-172-31-213-59</td><td style=\"text-align: right;\">                         1</td><td>172.31.213.59</td><td style=\"text-align: right;\">14116</td><td>True               </td><td style=\"text-align: right;\">             5.94609</td><td style=\"text-align: right;\">           5.94609</td><td style=\"text-align: right;\">       5.94609</td><td style=\"text-align: right;\"> 1684358707</td><td style=\"text-align: right;\">                   1</td><td>42de5_00001</td></tr>\n",
       "<tr><td>train_model_42de5_00002</td><td>2023-05-17_14-25-23</td><td>True  </td><td style=\"text-align: right;\">342.35   </td><td>2_algorithm=arima,location=141                 </td><td>ip-172-31-213-59</td><td style=\"text-align: right;\">                         1</td><td>172.31.213.59</td><td style=\"text-align: right;\">14117</td><td>True               </td><td style=\"text-align: right;\">            21.574  </td><td style=\"text-align: right;\">          21.574  </td><td style=\"text-align: right;\">      21.574  </td><td style=\"text-align: right;\"> 1684358723</td><td style=\"text-align: right;\">                   1</td><td>42de5_00002</td></tr>\n",
       "<tr><td>train_model_42de5_00003</td><td>2023-05-17_14-25-07</td><td>True  </td><td style=\"text-align: right;\">539.389  </td><td>3_algorithm=prophet_additive,location=229      </td><td>ip-172-31-213-59</td><td style=\"text-align: right;\">                         1</td><td>172.31.213.59</td><td style=\"text-align: right;\">14118</td><td>True               </td><td style=\"text-align: right;\">             5.54851</td><td style=\"text-align: right;\">           5.54851</td><td style=\"text-align: right;\">       5.54851</td><td style=\"text-align: right;\"> 1684358707</td><td style=\"text-align: right;\">                   1</td><td>42de5_00003</td></tr>\n",
       "<tr><td>train_model_42de5_00004</td><td>2023-05-17_14-25-07</td><td>True  </td><td style=\"text-align: right;\">529.743  </td><td>4_algorithm=prophet_multiplicative,location=229</td><td>ip-172-31-213-59</td><td style=\"text-align: right;\">                         1</td><td>172.31.213.59</td><td style=\"text-align: right;\">14119</td><td>True               </td><td style=\"text-align: right;\">             5.4158 </td><td style=\"text-align: right;\">           5.4158 </td><td style=\"text-align: right;\">       5.4158 </td><td style=\"text-align: right;\"> 1684358707</td><td style=\"text-align: right;\">                   1</td><td>42de5_00004</td></tr>\n",
       "<tr><td>train_model_42de5_00005</td><td>2023-05-17_14-25-22</td><td>True  </td><td style=\"text-align: right;\">480.844  </td><td>5_algorithm=arima,location=229                 </td><td>ip-172-31-213-59</td><td style=\"text-align: right;\">                         1</td><td>172.31.213.59</td><td style=\"text-align: right;\">14122</td><td>True               </td><td style=\"text-align: right;\">            20.862  </td><td style=\"text-align: right;\">          20.862  </td><td style=\"text-align: right;\">      20.862  </td><td style=\"text-align: right;\"> 1684358722</td><td style=\"text-align: right;\">                   1</td><td>42de5_00005</td></tr>\n",
       "<tr><td>train_model_42de5_00006</td><td>2023-05-17_14-25-06</td><td>True  </td><td style=\"text-align: right;\">  2.55585</td><td>6_algorithm=prophet_additive,location=173      </td><td>ip-172-31-213-59</td><td style=\"text-align: right;\">                         1</td><td>172.31.213.59</td><td style=\"text-align: right;\">14120</td><td>True               </td><td style=\"text-align: right;\">             4.70871</td><td style=\"text-align: right;\">           4.70871</td><td style=\"text-align: right;\">       4.70871</td><td style=\"text-align: right;\"> 1684358706</td><td style=\"text-align: right;\">                   1</td><td>42de5_00006</td></tr>\n",
       "<tr><td>train_model_42de5_00007</td><td>2023-05-17_14-25-06</td><td>True  </td><td style=\"text-align: right;\">  2.52897</td><td>7_algorithm=prophet_multiplicative,location=173</td><td>ip-172-31-213-59</td><td style=\"text-align: right;\">                         1</td><td>172.31.213.59</td><td style=\"text-align: right;\">14121</td><td>True               </td><td style=\"text-align: right;\">             4.64482</td><td style=\"text-align: right;\">           4.64482</td><td style=\"text-align: right;\">       4.64482</td><td style=\"text-align: right;\"> 1684358706</td><td style=\"text-align: right;\">                   1</td><td>42de5_00007</td></tr>\n",
       "<tr><td>train_model_42de5_00008</td><td>2023-05-17_14-25-22</td><td>True  </td><td style=\"text-align: right;\">  2.81589</td><td>8_algorithm=arima,location=173                 </td><td>ip-172-31-213-59</td><td style=\"text-align: right;\">                         1</td><td>172.31.213.59</td><td style=\"text-align: right;\">14123</td><td>True               </td><td style=\"text-align: right;\">            21.2637 </td><td style=\"text-align: right;\">          21.2637 </td><td style=\"text-align: right;\">      21.2637 </td><td style=\"text-align: right;\"> 1684358722</td><td style=\"text-align: right;\">                   1</td><td>42de5_00008</td></tr>\n",
       "</tbody>\n",
       "</table>\n",
       "</div>\n",
       "<style>\n",
       ".trialProgress {\n",
       "  display: flex;\n",
       "  flex-direction: column;\n",
       "  color: var(--jp-ui-font-color1);\n",
       "}\n",
       ".trialProgress h3 {\n",
       "  font-weight: bold;\n",
       "}\n",
       ".trialProgress td {\n",
       "  white-space: nowrap;\n",
       "}\n",
       "</style>\n"
      ],
      "text/plain": [
       "<IPython.core.display.HTML object>"
      ]
     },
     "metadata": {},
     "output_type": "display_data"
    },
    {
     "name": "stderr",
     "output_type": "stream",
     "text": [
      "2023-05-17 14:25:23,079\tINFO tune.py:1100 -- Total run time: 30.71 seconds (29.24 seconds for the tuning loop).\n"
     ]
    },
    {
     "name": "stdout",
     "output_type": "stream",
     "text": [
      "Total number of models: 9\n",
      "TOTAL TIME TAKEN: 0.51 minutes\n"
     ]
    }
   ],
   "source": [
    "############\n",
    "# STEP 2. Customize distributed compute scaling.\n",
    "############\n",
    "num_training_workers = min(num_cpu - 2, 32)\n",
    "scaling_config = ScalingConfig(\n",
    "    # Number of distributed workers.\n",
    "    num_workers=num_training_workers,\n",
    "    # Turn on/off GPU.\n",
    "    use_gpu=False,\n",
    "    # Specify resources used for trainer.\n",
    "    trainer_resources={\"CPU\": 1},\n",
    "    # Try to schedule workers on different nodes.\n",
    "    placement_strategy=\"SPREAD\",\n",
    ")\n",
    "\n",
    "############\n",
    "# STEP 3. Define a search space dict of all config parameters.\n",
    "############\n",
    "SEARCH_SPACE = {\n",
    "    \"scaling_config\": scaling_config,\n",
    "    \"params\": {\n",
    "        \"algorithm\": tune.grid_search(\n",
    "            [\"prophet_additive\", \"prophet_multiplicative\", \"arima\"]\n",
    "        ),\n",
    "        \"location\": tune.grid_search(sample_locations),\n",
    "    },\n",
    "}\n",
    "\n",
    "# Optional STEP 4. Specify the hyperparameter tuning search strategy.\n",
    "\n",
    "############\n",
    "# STEP 5. Run the experiment with Ray AIR APIs.\n",
    "# https://docs.ray.io/en/latest/ray-air/examples/huggingface_text_classification.html\n",
    "############\n",
    "start = time.time()\n",
    "\n",
    "# Define a tuner object.\n",
    "tuner = tune.Tuner(\n",
    "    train_model,\n",
    "    param_space=SEARCH_SPACE,\n",
    "    tune_config=tune.TuneConfig(\n",
    "        metric=\"error\",\n",
    "        mode=\"min\",\n",
    "    ),\n",
    "    run_config=air.RunConfig(\n",
    "        # Redirect logs to relative path instead of default ~/ray_results/.\n",
    "        storage_path=\"my_Tune_logs\",\n",
    "        # Specify name to make logs easier to find in log path.\n",
    "        name=\"ptf_nyc\",\n",
    "    ),\n",
    ")\n",
    "\n",
    "# Fit the tuner object.\n",
    "results = tuner.fit()\n",
    "\n",
    "total_time_taken = time.time() - start\n",
    "print(f\"Total number of models: {len(results)}\")\n",
    "print(f\"TOTAL TIME TAKEN: {total_time_taken/60:.2f} minutes\")\n",
    "\n",
    "# Total number of models: 771\n",
    "# TOTAL TIME TAKEN: 44.64 minutes"
   ]
  },
  {
   "cell_type": "markdown",
   "id": "0cafe75d",
   "metadata": {},
   "source": [
    "## Load a model from checkpoint  <a class=\"anchor\" id=\"load_checkpoint2\"></a>\n",
    "\n",
    "- After the Tune experiment has finished, we can assemble the Tune {doc}`ResultGrid </tune/examples/tune_analyze_results>` object into a pandas dataframe.\n",
    "\n",
    "- Next, we'll sort the pandas dataframe by pickuplocation and error, and keep only the best model with minimum error per pickup location."
   ]
  },
  {
   "cell_type": "code",
   "execution_count": 11,
   "id": "5ceeb770",
   "metadata": {},
   "outputs": [
    {
     "data": {
      "text/html": [
       "<div>\n",
       "<style scoped>\n",
       "    .dataframe tbody tr th:only-of-type {\n",
       "        vertical-align: middle;\n",
       "    }\n",
       "\n",
       "    .dataframe tbody tr th {\n",
       "        vertical-align: top;\n",
       "    }\n",
       "\n",
       "    .dataframe thead th {\n",
       "        text-align: right;\n",
       "    }\n",
       "</style>\n",
       "<table border=\"1\" class=\"dataframe\">\n",
       "  <thead>\n",
       "    <tr style=\"text-align: right;\">\n",
       "      <th></th>\n",
       "      <th>location_id</th>\n",
       "      <th>error</th>\n",
       "      <th>algorithm</th>\n",
       "      <th>checkpoint</th>\n",
       "    </tr>\n",
       "  </thead>\n",
       "  <tbody>\n",
       "    <tr>\n",
       "      <th>0</th>\n",
       "      <td>141</td>\n",
       "      <td>502.848601</td>\n",
       "      <td>prophet_additive</td>\n",
       "      <td>Checkpoint(local_path=/home/ray/default/doc/so...</td>\n",
       "    </tr>\n",
       "    <tr>\n",
       "      <th>1</th>\n",
       "      <td>141</td>\n",
       "      <td>483.067259</td>\n",
       "      <td>prophet_multiplicative</td>\n",
       "      <td>Checkpoint(local_path=/home/ray/default/doc/so...</td>\n",
       "    </tr>\n",
       "    <tr>\n",
       "      <th>2</th>\n",
       "      <td>141</td>\n",
       "      <td>342.350202</td>\n",
       "      <td>arima</td>\n",
       "      <td>Checkpoint(local_path=/home/ray/default/doc/so...</td>\n",
       "    </tr>\n",
       "    <tr>\n",
       "      <th>3</th>\n",
       "      <td>229</td>\n",
       "      <td>539.389339</td>\n",
       "      <td>prophet_additive</td>\n",
       "      <td>Checkpoint(local_path=/home/ray/default/doc/so...</td>\n",
       "    </tr>\n",
       "    <tr>\n",
       "      <th>4</th>\n",
       "      <td>229</td>\n",
       "      <td>529.743081</td>\n",
       "      <td>prophet_multiplicative</td>\n",
       "      <td>Checkpoint(local_path=/home/ray/default/doc/so...</td>\n",
       "    </tr>\n",
       "    <tr>\n",
       "      <th>5</th>\n",
       "      <td>229</td>\n",
       "      <td>480.844291</td>\n",
       "      <td>arima</td>\n",
       "      <td>Checkpoint(local_path=/home/ray/default/doc/so...</td>\n",
       "    </tr>\n",
       "    <tr>\n",
       "      <th>6</th>\n",
       "      <td>173</td>\n",
       "      <td>2.555847</td>\n",
       "      <td>prophet_additive</td>\n",
       "      <td>Checkpoint(local_path=/home/ray/default/doc/so...</td>\n",
       "    </tr>\n",
       "    <tr>\n",
       "      <th>7</th>\n",
       "      <td>173</td>\n",
       "      <td>2.528968</td>\n",
       "      <td>prophet_multiplicative</td>\n",
       "      <td>Checkpoint(local_path=/home/ray/default/doc/so...</td>\n",
       "    </tr>\n",
       "  </tbody>\n",
       "</table>\n",
       "</div>"
      ],
      "text/plain": [
       "   location_id       error               algorithm  \\\n",
       "0          141  502.848601        prophet_additive   \n",
       "1          141  483.067259  prophet_multiplicative   \n",
       "2          141  342.350202                   arima   \n",
       "3          229  539.389339        prophet_additive   \n",
       "4          229  529.743081  prophet_multiplicative   \n",
       "5          229  480.844291                   arima   \n",
       "6          173    2.555847        prophet_additive   \n",
       "7          173    2.528968  prophet_multiplicative   \n",
       "\n",
       "                                          checkpoint  \n",
       "0  Checkpoint(local_path=/home/ray/default/doc/so...  \n",
       "1  Checkpoint(local_path=/home/ray/default/doc/so...  \n",
       "2  Checkpoint(local_path=/home/ray/default/doc/so...  \n",
       "3  Checkpoint(local_path=/home/ray/default/doc/so...  \n",
       "4  Checkpoint(local_path=/home/ray/default/doc/so...  \n",
       "5  Checkpoint(local_path=/home/ray/default/doc/so...  \n",
       "6  Checkpoint(local_path=/home/ray/default/doc/so...  \n",
       "7  Checkpoint(local_path=/home/ray/default/doc/so...  "
      ]
     },
     "execution_count": 11,
     "metadata": {},
     "output_type": "execute_result"
    }
   ],
   "source": [
    "# get a list of training loss errors\n",
    "errors = [i.metrics.get(\"error\", 10000.0) for i in results]\n",
    "\n",
    "# get a list of checkpoints\n",
    "checkpoints = [i.checkpoint for i in results]\n",
    "\n",
    "# get a list of locations\n",
    "locations = [i.config[\"params\"][\"location\"] for i in results]\n",
    "\n",
    "# get a list of model params\n",
    "algorithm = [i.config[\"params\"][\"algorithm\"] for i in results]\n",
    "\n",
    "# Assemble a pandas dataframe from Tune results\n",
    "results_df = pd.DataFrame(\n",
    "    zip(locations, errors, algorithm, checkpoints),\n",
    "    columns=[\"location_id\", \"error\", \"algorithm\", \"checkpoint\"],\n",
    ")\n",
    "results_df.head(8)"
   ]
  },
  {
   "cell_type": "code",
   "execution_count": 12,
   "id": "d0191ff0",
   "metadata": {},
   "outputs": [
    {
     "data": {
      "text/html": [
       "<div>\n",
       "<style scoped>\n",
       "    .dataframe tbody tr th:only-of-type {\n",
       "        vertical-align: middle;\n",
       "    }\n",
       "\n",
       "    .dataframe tbody tr th {\n",
       "        vertical-align: top;\n",
       "    }\n",
       "\n",
       "    .dataframe thead th {\n",
       "        text-align: right;\n",
       "    }\n",
       "</style>\n",
       "<table border=\"1\" class=\"dataframe\">\n",
       "  <thead>\n",
       "    <tr style=\"text-align: right;\">\n",
       "      <th></th>\n",
       "      <th>error</th>\n",
       "      <th>algorithm</th>\n",
       "      <th>checkpoint</th>\n",
       "    </tr>\n",
       "    <tr>\n",
       "      <th>location_id</th>\n",
       "      <th></th>\n",
       "      <th></th>\n",
       "      <th></th>\n",
       "    </tr>\n",
       "  </thead>\n",
       "  <tbody>\n",
       "    <tr>\n",
       "      <th>173</th>\n",
       "      <td>2.528968</td>\n",
       "      <td>prophet_multiplicative</td>\n",
       "      <td>Checkpoint(local_path=/home/ray/default/doc/so...</td>\n",
       "    </tr>\n",
       "    <tr>\n",
       "      <th>141</th>\n",
       "      <td>342.350202</td>\n",
       "      <td>arima</td>\n",
       "      <td>Checkpoint(local_path=/home/ray/default/doc/so...</td>\n",
       "    </tr>\n",
       "    <tr>\n",
       "      <th>229</th>\n",
       "      <td>480.844291</td>\n",
       "      <td>arima</td>\n",
       "      <td>Checkpoint(local_path=/home/ray/default/doc/so...</td>\n",
       "    </tr>\n",
       "  </tbody>\n",
       "</table>\n",
       "</div>"
      ],
      "text/plain": [
       "                  error               algorithm  \\\n",
       "location_id                                       \n",
       "173            2.528968  prophet_multiplicative   \n",
       "141          342.350202                   arima   \n",
       "229          480.844291                   arima   \n",
       "\n",
       "                                                    checkpoint  \n",
       "location_id                                                     \n",
       "173          Checkpoint(local_path=/home/ray/default/doc/so...  \n",
       "141          Checkpoint(local_path=/home/ray/default/doc/so...  \n",
       "229          Checkpoint(local_path=/home/ray/default/doc/so...  "
      ]
     },
     "execution_count": 12,
     "metadata": {},
     "output_type": "execute_result"
    }
   ],
   "source": [
    "# Keep only 1 model per location_id with minimum error\n",
    "final_df = results_df.copy()\n",
    "final_df = final_df.loc[(final_df.error > 0), :]\n",
    "final_df = final_df.loc[final_df.groupby(\"location_id\")[\"error\"].idxmin()]\n",
    "final_df.sort_values(by=[\"error\"], inplace=True)\n",
    "final_df.set_index(\"location_id\", inplace=True, drop=True)\n",
    "final_df"
   ]
  },
  {
   "cell_type": "code",
   "execution_count": 13,
   "id": "f4aa9e5d",
   "metadata": {},
   "outputs": [
    {
     "data": {
      "text/plain": [
       "algorithm             \n",
       "arima                     0.666667\n",
       "prophet_multiplicative    0.333333\n",
       "dtype: float64"
      ]
     },
     "execution_count": 13,
     "metadata": {},
     "output_type": "execute_result"
    }
   ],
   "source": [
    "final_df[[\"algorithm\"]].value_counts(normalize=True)"
   ]
  },
  {
   "cell_type": "markdown",
   "id": "aec846be",
   "metadata": {},
   "source": [
    "## Create a forecast from model restored from checkpoint <a class=\"anchor\" id=\"create_prediction2\"></a>\n"
   ]
  },
  {
   "cell_type": "markdown",
   "id": "a23cf01e",
   "metadata": {},
   "source": [
    "Finally, we will restore the best and worst models from checkpoint, generate predictions, and inspect the forecasts. \n",
    "\n",
    "Prophet includes a convenient plot library which displays actual data along with backtest predictions and confidence intervals and future forecasts. With ARIMA, you have to create a prediciton manually.\n",
    "\n",
    "- We will easily obtain AIR Checkpoint objects from the Tune results. \n",
    "- We will restore a Prophet or ARIMA model directly from checkpoint, and demonstrate it can be used for prediction.\n",
    "\n",
    "```{tip}\n",
    "[Ray AIR Predictors](air-predictors) make batch inference easy since they have internal logic to parallelize the inference.\n",
    "```\n"
   ]
  },
  {
   "cell_type": "code",
   "execution_count": 14,
   "id": "0c194870",
   "metadata": {},
   "outputs": [
    {
     "name": "stdout",
     "output_type": "stream",
     "text": [
      "checkpoint type:: <class 'ray.air.checkpoint.Checkpoint'>\n",
      "location 173, algorithm prophet_multiplicative, best error 2.528968219366575\n"
     ]
    },
    {
     "data": {
      "image/png": "[encoded data removed]",
      "text/plain": [
       "<Figure size 1000x600 with 1 Axes>"
      ]
     },
     "metadata": {},
     "output_type": "display_data"
    }
   ],
   "source": [
    "# Get the pickup location for the best model\n",
    "if SMOKE_TEST:\n",
    "    sample_location_id = final_df.index[0]\n",
    "else:\n",
    "    sample_location_id = final_df.index[120]\n",
    "\n",
    "# Get the algorithm used\n",
    "sample_algorithm = final_df.loc[[sample_location_id]].algorithm.values[0]\n",
    "\n",
    "# Get a checkpoint directly from the pandas dataframe of Tune results\n",
    "checkpoint = final_df.checkpoint[sample_location_id]\n",
    "print(f\"checkpoint type:: {type(checkpoint)}\")\n",
    "\n",
    "# Restore a model from checkpoint\n",
    "sample_model = checkpoint.to_dict()[\"model\"]\n",
    "\n",
    "# Prophet .fit() performs inference + prediction.\n",
    "# Arima train only performs inference; prediction is an extra step.\n",
    "if sample_algorithm == \"arima\":\n",
    "    prediction = (\n",
    "        sample_model.forecast(2 * (FORECAST_LENGTH + 1)).reset_index().set_index(\"ds\")\n",
    "    )\n",
    "    prediction[\"trend\"] = None\n",
    "    prediction.rename(columns={\"AutoARIMA\": \"yhat\"}, inplace=True)\n",
    "    prediction = prediction.tail(FORECAST_LENGTH + 1)\n",
    "\n",
    "# Restore already-created predictions from model training and eval\n",
    "forecast_df = checkpoint.to_dict()[\"forecast_df\"]\n",
    "\n",
    "# Print pickup location ID, algorithm used, and model validation error.\n",
    "sample_error = final_df.loc[[sample_location_id]].error.values[0]\n",
    "print(\n",
    "    f\"location {sample_location_id}, algorithm {sample_algorithm}, best error {sample_error}\"\n",
    ")\n",
    "\n",
    "# Plot forecast prediction using best model for this pickup location ID.\n",
    "# If prophet model, use prophet built-in plot\n",
    "if sample_algorithm == \"arima\":\n",
    "    forecast_df[[\"trend\", \"yhat\"]].plot()\n",
    "else:\n",
    "    plot1 = sample_model.plot(forecast_df)"
   ]
  },
  {
   "cell_type": "code",
   "execution_count": 15,
   "id": "a3638844",
   "metadata": {},
   "outputs": [
    {
     "name": "stdout",
     "output_type": "stream",
     "text": [
      "checkpoint type:: <class 'ray.air.checkpoint.Checkpoint'>\n"
     ]
    },
    {
     "name": "stderr",
     "output_type": "stream",
     "text": [
      "<__array_function__ internals>:200: RuntimeWarning: invalid value encountered in cast\n",
      "/home/ray/anaconda3/lib/python3.8/site-packages/statsforecast/arima.py:914: UserWarning: possible convergence problem: minimize gave code 1]\n",
      "  warnings.warn(\n",
      "/home/ray/anaconda3/lib/python3.8/site-packages/statsforecast/arima.py:914: UserWarning: possible convergence problem: minimize gave code 2]\n",
      "  warnings.warn(\n",
      "/home/ray/anaconda3/lib/python3.8/site-packages/statsforecast/arima.py:914: UserWarning: possible convergence problem: minimize gave code 2]\n",
      "  warnings.warn(\n",
      "/home/ray/anaconda3/lib/python3.8/site-packages/statsforecast/arima.py:914: UserWarning: possible convergence problem: minimize gave code 2]\n",
      "  warnings.warn(\n",
      "/home/ray/anaconda3/lib/python3.8/site-packages/statsforecast/arima.py:914: UserWarning: possible convergence problem: minimize gave code 2]\n",
      "  warnings.warn(\n",
      "/home/ray/anaconda3/lib/python3.8/site-packages/statsforecast/arima.py:914: UserWarning: possible convergence problem: minimize gave code 2]\n",
      "  warnings.warn(\n",
      "/home/ray/anaconda3/lib/python3.8/site-packages/statsforecast/arima.py:914: UserWarning: possible convergence problem: minimize gave code 2]\n",
      "  warnings.warn(\n"
     ]
    },
    {
     "name": "stdout",
     "output_type": "stream",
     "text": [
      "location 141, algorithm arima, best error 342.35020228794644\n"
     ]
    },
    {
     "data": {
      "image/png": "[encoded data removed]",
      "text/plain": [
       "<Figure size 640x480 with 1 Axes>"
      ]
     },
     "metadata": {},
     "output_type": "display_data"
    }
   ],
   "source": [
    "# Get the pickup location for the worst model\n",
    "sample_location_id = final_df.index[len(final_df) - 2]\n",
    "\n",
    "# Get the algorithm used\n",
    "sample_algorithm = final_df.loc[[sample_location_id]].algorithm.values[0]\n",
    "\n",
    "# Get a checkpoint directly from the pandas dataframe of Tune results\n",
    "checkpoint = final_df.checkpoint[sample_location_id]\n",
    "print(f\"checkpoint type:: {type(checkpoint)}\")\n",
    "\n",
    "# Restore a model from checkpoint\n",
    "sample_model = checkpoint.to_dict()[\"model\"]\n",
    "\n",
    "# Prophet .fit() performs inference + prediction.\n",
    "# Arima train only performs inference; prediction is an extra step.\n",
    "if sample_algorithm == \"arima\":\n",
    "    prediction = (\n",
    "        sample_model.forecast(2 * (FORECAST_LENGTH + 1)).reset_index().set_index(\"ds\")\n",
    "    )\n",
    "    prediction[\"trend\"] = None\n",
    "    prediction.rename(columns={\"AutoARIMA\": \"yhat\"}, inplace=True)\n",
    "    prediction = prediction.tail(FORECAST_LENGTH + 1)\n",
    "\n",
    "# Restore already-created inferences from model training and eval\n",
    "forecast_df = checkpoint.to_dict()[\"forecast_df\"]\n",
    "\n",
    "# Append the prediction to the inferences\n",
    "forecast_df = pd.concat([forecast_df, prediction])\n",
    "\n",
    "# Print pickup location ID, algorithm used, and model validation error.\n",
    "sample_error = final_df.loc[[sample_location_id]].error.values[0]\n",
    "print(\n",
    "    f\"location {sample_location_id}, algorithm {sample_algorithm}, best error {sample_error}\"\n",
    ")\n",
    "\n",
    "# Plot forecast prediction using best model for this pickup location ID.\n",
    "if sample_algorithm == \"arima\":\n",
    "    forecast_df[[\"trend\", \"yhat\"]].plot()\n",
    "else:\n",
    "    plot1 = sample_model.plot(forecast_df)"
   ]
  },
  {
   "cell_type": "code",
   "execution_count": null,
   "id": "8ffaf781",
   "metadata": {},
   "outputs": [],
   "source": []
  }
 ],
 "metadata": {
  "kernelspec": {
   "display_name": "Python 3 (ipykernel)",
   "language": "python",
   "name": "python3"
  },
  "language_info": {
   "codemirror_mode": {
    "name": "ipython",
    "version": 3
   },
   "file_extension": ".py",
   "mimetype": "text/x-python",
   "name": "python",
   "nbconvert_exporter": "python",
   "pygments_lexer": "ipython3",
   "version": "3.8.13"
  }
 },
 "nbformat": 4,
 "nbformat_minor": 5
}
