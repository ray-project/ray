{
 "cells": [
  {
   "cell_type": "markdown",
   "metadata": {
    "id": "VaFMt6AIhYbK"
   },
   "source": [
    "This notebook is adapted from \"components keras\" [tutorial](https://www.tensorflow.org/tfx/tutorials/tfx/components_keras).\n",
    "The goal is to predict whether a trip may generate a big tip.\n",
    "\n",
    "In this example, we showcase how to convert a tfx pipeline to [Ray AIR](https://docs.ray.io/en/latest/ray-air/getting-started.html), covering\n",
    "every step from data ingestion to pushing a model to serving.\n",
    "\n",
    "1. Read a CSV file into ray dataset.\n",
    "2. Process the dataset by chaining a variety of off-the-shelf preprocessors.\n",
    "3. Train the model using distributed tensorflow with few lines of code.\n",
    "4. Serve the model that will apply the same preprocessing to the incoming requests.\n",
    "\n",
    "Note, ``ray.ml.checkpoint.Checkpoint`` serves as the bridge between step 3 and step 4.\n",
    "By capturing both model and preprocessing steps in a way compatible with Ray Serve, this\n",
    "abstraction makes sure ml workload can transition seamlessly between training and\n",
    "serving."
   ]
  },
  {
   "cell_type": "markdown",
   "metadata": {
    "id": "sQbdfyWQhYbO"
   },
   "source": [
    "Uncomment and run the following line in order to install all the necessary dependencies:"
   ]
  },
  {
   "cell_type": "code",
   "execution_count": 1,
   "metadata": {
    "colab": {
     "base_uri": "https://localhost:8080/"
    },
    "id": "YajFzmkthYbO",
    "outputId": "b6dd3a4f-8435-4202-9322-827222de4509"
   },
   "outputs": [],
   "source": [
    "# ! pip install \"tensorflow>=2.8.0\" \"ray[tune, data, serve]>=1.12.1\"\n",
    "# ! ray install-nightly\n",
    "# ! pip install fastapi"
   ]
  },
  {
   "cell_type": "markdown",
   "metadata": {
    "id": "pvSRaEHChYbP"
   },
   "source": [
    "# Set up Ray"
   ]
  },
  {
   "cell_type": "markdown",
   "metadata": {
    "id": "LRdL3kWBhYbQ"
   },
   "source": [
    "We will use `ray.init()` to initialize a local cluster. By default, this cluster will be compromised of only the machine you are running this notebook on. You can also run this notebook on an Anyscale cluster."
   ]
  },
  {
   "cell_type": "code",
   "execution_count": 2,
   "metadata": {
    "colab": {
     "base_uri": "https://localhost:8080/"
    },
    "id": "MOsHUjgdIrIW",
    "outputId": "7bb04994-71ba-40b9-e9af-fc02720d55c0"
   },
   "outputs": [
    {
     "data": {
      "text/plain": [
       "RayContext(dashboard_url='127.0.0.1:8265', python_version='3.7.7', ray_version='2.0.0.dev0', ray_commit='5c96e7223b468fed6b6db763c837728c721f78cd', address_info={'node_ip_address': '172.31.80.125', 'raylet_ip_address': '172.31.80.125', 'redis_address': None, 'object_store_address': '/tmp/ray/session_2022-05-17_20-53-28_756452_181/sockets/plasma_store', 'raylet_socket_name': '/tmp/ray/session_2022-05-17_20-53-28_756452_181/sockets/raylet', 'webui_url': '127.0.0.1:8265', 'session_dir': '/tmp/ray/session_2022-05-17_20-53-28_756452_181', 'metrics_export_port': 64821, 'gcs_address': '172.31.80.125:9031', 'address': '172.31.80.125:9031', 'node_id': '387b01b554f692bdb9ad031355d085f9381e5cf1dd22bbb1a9a7469e'})"
      ]
     },
     "execution_count": 2,
     "metadata": {},
     "output_type": "execute_result"
    }
   ],
   "source": [
    "from pprint import pprint\n",
    "import ray\n",
    "\n",
    "ray.init()"
   ]
  },
  {
   "cell_type": "markdown",
   "metadata": {
    "id": "oJiSdWy2hYbR"
   },
   "source": [
    "We can check the resources our cluster is composed of. If you are running this notebook on your local machine or Google Colab, you should see the number of CPU cores and GPUs available on the said machine."
   ]
  },
  {
   "cell_type": "code",
   "execution_count": 3,
   "metadata": {
    "colab": {
     "base_uri": "https://localhost:8080/"
    },
    "id": "KlMz0dt9hYbS",
    "outputId": "d3163e99-2d04-49b6-a08f-2afdc2d986b9"
   },
   "outputs": [
    {
     "name": "stdout",
     "output_type": "stream",
     "text": [
      "{'CPU': 8.0,\n",
      " 'CPU_group_0_67c86083f1dc83ce596e707e262302000000': 1.0,\n",
      " 'CPU_group_67c86083f1dc83ce596e707e262302000000': 1.0,\n",
      " 'bundle_group_0_67c86083f1dc83ce596e707e262302000000': 1000.0,\n",
      " 'bundle_group_67c86083f1dc83ce596e707e262302000000': 1000.0,\n",
      " 'memory': 19439608628.0,\n",
      " 'node:172.31.80.125': 1.0,\n",
      " 'object_store_memory': 9719804313.0}\n"
     ]
    }
   ],
   "source": [
    "pprint(ray.cluster_resources())"
   ]
  },
  {
   "cell_type": "markdown",
   "metadata": {
    "id": "jAgvLbhT8nB0"
   },
   "source": [
    "# Getting the data"
   ]
  },
  {
   "cell_type": "markdown",
   "metadata": {
    "id": "IXQb4--97_Cf"
   },
   "source": [
    "Let's start with defining a helper function to get the data to work with. Some columns are dropped for simplicity."
   ]
  },
  {
   "cell_type": "code",
   "execution_count": 4,
   "metadata": {
    "id": "gAbhv9OqhYbT"
   },
   "outputs": [],
   "source": [
    "import pandas as pd\n",
    "\n",
    "def get_data() -> pd.DataFrame:\n",
    "    \"\"\"Fetch the taxi fare data to work on.\"\"\"\n",
    "    _data = pd.read_csv(\n",
    "        \"https://raw.githubusercontent.com/tensorflow/tfx/master/\"\n",
    "        \"tfx/examples/chicago_taxi_pipeline/data/simple/data.csv\"\n",
    "    )\n",
    "    _data[\"is_big_tip\"] = _data[\"tips\"] / _data[\"fare\"] > 0.2\n",
    "    # We drop some columns here for the sake of simplicity.\n",
    "    return _data.drop(\n",
    "        [\n",
    "            \"tips\",\n",
    "            \"fare\",\n",
    "            \"dropoff_latitude\",\n",
    "            \"dropoff_longitude\",\n",
    "            \"pickup_latitude\",\n",
    "            \"pickup_longitude\",\n",
    "            \"pickup_census_tract\",\n",
    "        ],\n",
    "        axis=1,\n",
    "    )"
   ]
  },
  {
   "cell_type": "code",
   "execution_count": 5,
   "metadata": {
    "id": "FbeYf1aF8ISK"
   },
   "outputs": [],
   "source": [
    "data = get_data()"
   ]
  },
  {
   "cell_type": "markdown",
   "metadata": {
    "id": "1WALC3kT8WgL"
   },
   "source": [
    "Now let's take a look at the data. Notice that some values are missing. This is exactly where preprocessing comes into the picture. We will come back to this in the preprocessing session below."
   ]
  },
  {
   "cell_type": "code",
   "execution_count": 6,
   "metadata": {
    "colab": {
     "base_uri": "https://localhost:8080/",
     "height": 0
    },
    "id": "8tugpr5S8gPq",
    "outputId": "5398291d-c14b-4b66-a9d6-2b4634e0585e"
   },
   "outputs": [
    {
     "data": {
      "text/html": [
       "<div>\n",
       "<style scoped>\n",
       "    .dataframe tbody tr th:only-of-type {\n",
       "        vertical-align: middle;\n",
       "    }\n",
       "\n",
       "    .dataframe tbody tr th {\n",
       "        vertical-align: top;\n",
       "    }\n",
       "\n",
       "    .dataframe thead th {\n",
       "        text-align: right;\n",
       "    }\n",
       "</style>\n",
       "<table border=\"1\" class=\"dataframe\">\n",
       "  <thead>\n",
       "    <tr style=\"text-align: right;\">\n",
       "      <th></th>\n",
       "      <th>pickup_community_area</th>\n",
       "      <th>trip_start_month</th>\n",
       "      <th>trip_start_hour</th>\n",
       "      <th>trip_start_day</th>\n",
       "      <th>trip_start_timestamp</th>\n",
       "      <th>trip_miles</th>\n",
       "      <th>dropoff_census_tract</th>\n",
       "      <th>payment_type</th>\n",
       "      <th>company</th>\n",
       "      <th>trip_seconds</th>\n",
       "      <th>dropoff_community_area</th>\n",
       "      <th>is_big_tip</th>\n",
       "    </tr>\n",
       "  </thead>\n",
       "  <tbody>\n",
       "    <tr>\n",
       "      <th>0</th>\n",
       "      <td>NaN</td>\n",
       "      <td>5</td>\n",
       "      <td>19</td>\n",
       "      <td>6</td>\n",
       "      <td>1400269500</td>\n",
       "      <td>0.0</td>\n",
       "      <td>NaN</td>\n",
       "      <td>Credit Card</td>\n",
       "      <td>Chicago Elite Cab Corp. (Chicago Carriag</td>\n",
       "      <td>0.0</td>\n",
       "      <td>NaN</td>\n",
       "      <td>False</td>\n",
       "    </tr>\n",
       "    <tr>\n",
       "      <th>1</th>\n",
       "      <td>NaN</td>\n",
       "      <td>3</td>\n",
       "      <td>19</td>\n",
       "      <td>5</td>\n",
       "      <td>1362683700</td>\n",
       "      <td>0.0</td>\n",
       "      <td>NaN</td>\n",
       "      <td>Unknown</td>\n",
       "      <td>Chicago Elite Cab Corp.</td>\n",
       "      <td>300.0</td>\n",
       "      <td>NaN</td>\n",
       "      <td>False</td>\n",
       "    </tr>\n",
       "    <tr>\n",
       "      <th>2</th>\n",
       "      <td>60.0</td>\n",
       "      <td>10</td>\n",
       "      <td>2</td>\n",
       "      <td>3</td>\n",
       "      <td>1380593700</td>\n",
       "      <td>12.6</td>\n",
       "      <td>NaN</td>\n",
       "      <td>Cash</td>\n",
       "      <td>Taxi Affiliation Services</td>\n",
       "      <td>1380.0</td>\n",
       "      <td>NaN</td>\n",
       "      <td>False</td>\n",
       "    </tr>\n",
       "    <tr>\n",
       "      <th>3</th>\n",
       "      <td>10.0</td>\n",
       "      <td>10</td>\n",
       "      <td>1</td>\n",
       "      <td>2</td>\n",
       "      <td>1382319000</td>\n",
       "      <td>0.0</td>\n",
       "      <td>NaN</td>\n",
       "      <td>Cash</td>\n",
       "      <td>Taxi Affiliation Services</td>\n",
       "      <td>180.0</td>\n",
       "      <td>NaN</td>\n",
       "      <td>False</td>\n",
       "    </tr>\n",
       "    <tr>\n",
       "      <th>4</th>\n",
       "      <td>14.0</td>\n",
       "      <td>5</td>\n",
       "      <td>7</td>\n",
       "      <td>5</td>\n",
       "      <td>1369897200</td>\n",
       "      <td>0.0</td>\n",
       "      <td>NaN</td>\n",
       "      <td>Cash</td>\n",
       "      <td>Dispatch Taxi Affiliation</td>\n",
       "      <td>1080.0</td>\n",
       "      <td>NaN</td>\n",
       "      <td>False</td>\n",
       "    </tr>\n",
       "  </tbody>\n",
       "</table>\n",
       "</div>"
      ],
      "text/plain": [
       "   pickup_community_area  trip_start_month  trip_start_hour  trip_start_day  \\\n",
       "0                    NaN                 5               19               6   \n",
       "1                    NaN                 3               19               5   \n",
       "2                   60.0                10                2               3   \n",
       "3                   10.0                10                1               2   \n",
       "4                   14.0                 5                7               5   \n",
       "\n",
       "   trip_start_timestamp  trip_miles  dropoff_census_tract payment_type  \\\n",
       "0            1400269500         0.0                   NaN  Credit Card   \n",
       "1            1362683700         0.0                   NaN      Unknown   \n",
       "2            1380593700        12.6                   NaN         Cash   \n",
       "3            1382319000         0.0                   NaN         Cash   \n",
       "4            1369897200         0.0                   NaN         Cash   \n",
       "\n",
       "                                    company  trip_seconds  \\\n",
       "0  Chicago Elite Cab Corp. (Chicago Carriag           0.0   \n",
       "1                   Chicago Elite Cab Corp.         300.0   \n",
       "2                 Taxi Affiliation Services        1380.0   \n",
       "3                 Taxi Affiliation Services         180.0   \n",
       "4                 Dispatch Taxi Affiliation        1080.0   \n",
       "\n",
       "   dropoff_community_area  is_big_tip  \n",
       "0                     NaN       False  \n",
       "1                     NaN       False  \n",
       "2                     NaN       False  \n",
       "3                     NaN       False  \n",
       "4                     NaN       False  "
      ]
     },
     "execution_count": 6,
     "metadata": {},
     "output_type": "execute_result"
    }
   ],
   "source": [
    "data.head(5)"
   ]
  },
  {
   "cell_type": "markdown",
   "metadata": {
    "id": "xzNQKJMA9YV-"
   },
   "source": [
    "We continue to split the data into training and test data.\n",
    "For the test data, we separate out the features to run serving on as well as labels to compare serving results with."
   ]
  },
  {
   "cell_type": "code",
   "execution_count": 7,
   "metadata": {
    "id": "YSLvrBMC9aRv"
   },
   "outputs": [],
   "source": [
    "import numpy as np\n",
    "from sklearn.model_selection import train_test_split\n",
    "from typing import Tuple\n",
    "\n",
    "\n",
    "def split_data(data: pd.DataFrame) -> Tuple[ray.data.Dataset, pd.DataFrame, np.array]:\n",
    "    \"\"\"Split the data in a stratified way.\n",
    "\n",
    "    Returns:\n",
    "        A tuple containing train dataset, test data and test label.\n",
    "    \"\"\"\n",
    "    train_data, test_data = train_test_split(\n",
    "        data, stratify=data[[\"is_big_tip\"]], random_state=1113\n",
    "    )\n",
    "    _train_ds = ray.data.from_pandas(train_data)\n",
    "    _test_label = test_data[\"is_big_tip\"].values\n",
    "    _test_df = test_data.drop([\"is_big_tip\"], axis=1)\n",
    "    return _train_ds, _test_df, _test_label\n",
    "\n",
    "train_ds, test_df, test_label = split_data(data)"
   ]
  },
  {
   "cell_type": "code",
   "execution_count": 8,
   "metadata": {
    "colab": {
     "base_uri": "https://localhost:8080/"
    },
    "id": "xfhRl7eO981w",
    "outputId": "6b079564-f2fe-45b3-c6d8-81fcd90f017d"
   },
   "outputs": [
    {
     "name": "stdout",
     "output_type": "stream",
     "text": [
      "There are 11251 samples for training and 3751 samples for testing.\n"
     ]
    }
   ],
   "source": [
    "print(f\"There are {train_ds.count()} samples for training and {test_df.shape[0]} samples for testing.\")"
   ]
  },
  {
   "cell_type": "markdown",
   "metadata": {
    "id": "N7tiwqdP-zVS"
   },
   "source": [
    "# Preprocessing"
   ]
  },
  {
   "cell_type": "markdown",
   "metadata": {
    "id": "4RRkXuteIrIh"
   },
   "source": [
    "Let's focus on preprocessing first.\n",
    "Usually input data needs to go through some preprocessing before being\n",
    "fed into model. It is a good idea to package preprocessing logic into\n",
    "a modularized component so that the same logic can be applied to both\n",
    "training data as well as data for online serving or offline batch prediction.\n",
    "\n",
    "In AIR, this component is `ray.ml.preprocessor.Preprocessor`.\n",
    "It is constructed in a way that allows easy composition.\n",
    "\n",
    "Now let's construct a chained preprocessor composed of simple preprocessors, including\n",
    "1. Imputer for filling missing features;\n",
    "2. OneHotEncoder for encoding categorical features;\n",
    "3. BatchMapper where arbitrary udf can be applied to batches of records;\n",
    "and so on. Take a look at `ray.ml.preprocessor.Preprocessor` for more details.\n",
    "The output of the preprocessing step goes into model for training."
   ]
  },
  {
   "cell_type": "code",
   "execution_count": 9,
   "metadata": {
    "id": "zVvslsfMIrIh"
   },
   "outputs": [],
   "source": [
    "from ray.ml.preprocessors import (\n",
    "    BatchMapper,\n",
    "    Chain,\n",
    "    OneHotEncoder,\n",
    "    SimpleImputer,\n",
    ")\n",
    "\n",
    "def get_preprocessor():\n",
    "    \"\"\"Construct a chain of preprocessors.\"\"\"\n",
    "    imputer1 = SimpleImputer(\n",
    "        [\"dropoff_census_tract\"], strategy=\"constant\", fill_value=17031839100\n",
    "    )\n",
    "    imputer2 = SimpleImputer(\n",
    "        [\"pickup_community_area\", \"dropoff_community_area\"],\n",
    "        strategy=\"constant\",\n",
    "        fill_value=8,\n",
    "    )\n",
    "    imputer3 = SimpleImputer([\"payment_type\"], strategy=\"constant\", fill_value=\"Cash\")\n",
    "    imputer4 = SimpleImputer(\n",
    "        [\"company\"], strategy=\"constant\", fill_value=\"Taxi Affiliation Services\"\n",
    "    )\n",
    "    imputer5 = SimpleImputer(\n",
    "        [\"trip_start_timestamp\", \"trip_miles\", \"trip_seconds\"], strategy=\"mean\"\n",
    "    )\n",
    "\n",
    "    ohe = OneHotEncoder(\n",
    "        columns=[\n",
    "            \"trip_start_hour\",\n",
    "            \"trip_start_day\",\n",
    "            \"trip_start_month\",\n",
    "            \"dropoff_census_tract\",\n",
    "            \"pickup_community_area\",\n",
    "            \"dropoff_community_area\",\n",
    "            \"payment_type\",\n",
    "            \"company\",\n",
    "        ],\n",
    "        limit={\n",
    "            \"dropoff_census_tract\": 25,\n",
    "            \"pickup_community_area\": 20,\n",
    "            \"dropoff_community_area\": 20,\n",
    "            \"payment_type\": 2,\n",
    "            \"company\": 7,\n",
    "        },\n",
    "    )\n",
    "\n",
    "    def fn(df):\n",
    "        df[\"trip_start_year\"] = pd.to_datetime(df[\"trip_start_timestamp\"], unit=\"s\").dt.year\n",
    "        return df\n",
    "\n",
    "    chained_pp = Chain(\n",
    "        imputer1,\n",
    "        imputer2,\n",
    "        imputer3,\n",
    "        imputer4,\n",
    "        imputer5,\n",
    "        ohe,\n",
    "        BatchMapper(fn),\n",
    "        BatchMapper(lambda x: x.drop([\"trip_start_timestamp\"], axis=1)),\n",
    "    )\n",
    "    return chained_pp\n"
   ]
  },
  {
   "cell_type": "markdown",
   "metadata": {
    "id": "V2BIiegi_brE"
   },
   "source": [
    "Now let's define some constants for clarity."
   ]
  },
  {
   "cell_type": "code",
   "execution_count": 10,
   "metadata": {
    "id": "ejGVU-uN_dVP"
   },
   "outputs": [],
   "source": [
    "# Note that `INPUT_SIZE` here is corresponding to the output dimension\n",
    "# of the previously defined processing steps.\n",
    "# This is used to specify the input shape of Keras model as well as\n",
    "# when converting from training data from `ray.data.Dataset` to `tf.Tensor`.\n",
    "INPUT_SIZE = 120\n",
    "# The training batch size. Based on `NUM_WORKERS`, each worker\n",
    "# will get its own share of this batch size. For example, if\n",
    "# `NUM_WORKERS = 2`, each worker will work on 4 samples per batch.\n",
    "BATCH_SIZE = 8\n",
    "# Number of epoch. Adjust it based on how quickly you want the run to be.\n",
    "EPOCH = 1\n",
    "# Number of training workers.\n",
    "NUM_WORKERS = 2"
   ]
  },
  {
   "cell_type": "markdown",
   "metadata": {
    "id": "whPRbBNbIrIl"
   },
   "source": [
    "# Training"
   ]
  },
  {
   "cell_type": "markdown",
   "metadata": {
    "id": "W7QYTpxXIrIl"
   },
   "source": [
    "Let's starting with defining a simple Keras model for the classification task."
   ]
  },
  {
   "cell_type": "code",
   "execution_count": 11,
   "metadata": {
    "id": "MwhAeEOuhYbV"
   },
   "outputs": [],
   "source": [
    "import tensorflow as tf\n",
    "\n",
    "def build_model():\n",
    "    model = tf.keras.models.Sequential()\n",
    "    model.add(tf.keras.Input(shape=(INPUT_SIZE,)))\n",
    "    model.add(tf.keras.layers.Dense(50, activation=\"relu\"))\n",
    "    model.add(tf.keras.layers.Dense(1, activation=\"sigmoid\"))\n",
    "    return model"
   ]
  },
  {
   "cell_type": "markdown",
   "metadata": {
    "id": "UVVji2YKADrh"
   },
   "source": [
    "Now let's define the training loop. This code will be run on each training\n",
    "worker in a distributed fashion."
   ]
  },
  {
   "cell_type": "code",
   "execution_count": 12,
   "metadata": {
    "id": "U5pdjIzoAGRd"
   },
   "outputs": [],
   "source": [
    "from ray import train\n",
    "from ray.train.tensorflow import prepare_dataset_shard\n",
    "\n",
    "def train_loop_per_worker():\n",
    "    dataset_shard = train.get_dataset_shard(\"train\")\n",
    "\n",
    "    strategy = tf.distribute.experimental.MultiWorkerMirroredStrategy()\n",
    "    with strategy.scope():\n",
    "        model = build_model()\n",
    "        model.compile(\n",
    "            loss=\"binary_crossentropy\",\n",
    "            optimizer=\"adam\",\n",
    "            metrics=[\"accuracy\"],\n",
    "        )\n",
    "\n",
    "    for epoch in range(EPOCH):\n",
    "        # This will make sure that the training workers will get their own\n",
    "        # share of batch to work on.\n",
    "        # See `ray.train.tensorflow.prepare_dataset_shard` for more information.\n",
    "        tf_dataset = prepare_dataset_shard(\n",
    "            dataset_shard.to_tf(\n",
    "                label_column=\"is_big_tip\",\n",
    "                output_signature=(\n",
    "                    tf.TensorSpec(shape=(BATCH_SIZE, INPUT_SIZE), dtype=tf.float32),\n",
    "                    tf.TensorSpec(shape=(BATCH_SIZE,), dtype=tf.int64),\n",
    "                ),\n",
    "                batch_size=BATCH_SIZE,\n",
    "                drop_last=True,\n",
    "            )\n",
    "        )\n",
    "\n",
    "        model.fit(tf_dataset)\n",
    "        # This saves checkpoint in a way that can be used by Ray Serve coherently.\n",
    "        train.save_checkpoint(epoch=epoch, model=model.get_weights())"
   ]
  },
  {
   "cell_type": "markdown",
   "metadata": {
    "id": "RzfPtOMoIrIu"
   },
   "source": [
    "Now let's define a trainer that takes in the training loop,\n",
    "the training dataset as well the preprocessor that we just defined.\n",
    "\n",
    "And run it!\n",
    "\n",
    "Notice that you can tune how long you want the run to be by changing ``EPOCH``."
   ]
  },
  {
   "cell_type": "code",
   "execution_count": 13,
   "metadata": {
    "id": "fzpWK7nuTJmN"
   },
   "outputs": [
    {
     "name": "stderr",
     "output_type": "stream",
     "text": [
      "E0517 21:19:02.244123215    6495 fork_posix.cc:76]           Other threads are currently calling into gRPC, skipping fork() handlers\n"
     ]
    },
    {
     "data": {
      "text/html": [
       "== Status ==<br>Current time: 2022-05-17 21:19:31 (running for 00:00:28.52)<br>Memory usage on this node: 4.3/30.6 GiB<br>Using FIFO scheduling algorithm.<br>Resources requested: 0/8 CPUs, 0/0 GPUs, 0.0/18.1 GiB heap, 0.0/9.05 GiB objects<br>Result logdir: /home/ray/ray_results/TensorflowTrainer_2022-05-17_21-19-02<br>Number of trials: 1/1 (1 TERMINATED)<br><table>\n",
       "<thead>\n",
       "<tr><th>Trial name                   </th><th>status    </th><th>loc               </th></tr>\n",
       "</thead>\n",
       "<tbody>\n",
       "<tr><td>TensorflowTrainer_a5bfe_00000</td><td>TERMINATED</td><td>172.31.80.125:6628</td></tr>\n",
       "</tbody>\n",
       "</table><br><br>"
      ],
      "text/plain": [
       "<IPython.core.display.HTML object>"
      ]
     },
     "metadata": {},
     "output_type": "display_data"
    },
    {
     "name": "stderr",
     "output_type": "stream",
     "text": [
      "\u001b[2m\u001b[36m(BaseWorkerMixin pid=6748)\u001b[0m WARNING:tensorflow:From /tmp/ipykernel_6495/1074861422.py:7: _CollectiveAllReduceStrategyExperimental.__init__ (from tensorflow.python.distribute.collective_all_reduce_strategy) is deprecated and will be removed in a future version.\n",
      "\u001b[2m\u001b[36m(BaseWorkerMixin pid=6748)\u001b[0m Instructions for updating:\n",
      "\u001b[2m\u001b[36m(BaseWorkerMixin pid=6748)\u001b[0m use distribute.MultiWorkerMirroredStrategy instead\n",
      "\u001b[2m\u001b[36m(BaseWorkerMixin pid=6748)\u001b[0m 2022-05-17 21:19:14.652171: W tensorflow/stream_executor/platform/default/dso_loader.cc:64] Could not load dynamic library 'libcuda.so.1'; dlerror: libcuda.so.1: cannot open shared object file: No such file or directory; LD_LIBRARY_PATH: /usr/local/nvidia/lib:/usr/local/nvidia/lib64\n",
      "\u001b[2m\u001b[36m(BaseWorkerMixin pid=6748)\u001b[0m 2022-05-17 21:19:14.652210: W tensorflow/stream_executor/cuda/cuda_driver.cc:269] failed call to cuInit: UNKNOWN ERROR (303)\n",
      "\u001b[2m\u001b[36m(BaseWorkerMixin pid=6749)\u001b[0m WARNING:tensorflow:From /tmp/ipykernel_6495/1074861422.py:7: _CollectiveAllReduceStrategyExperimental.__init__ (from tensorflow.python.distribute.collective_all_reduce_strategy) is deprecated and will be removed in a future version.\n",
      "\u001b[2m\u001b[36m(BaseWorkerMixin pid=6749)\u001b[0m Instructions for updating:\n",
      "\u001b[2m\u001b[36m(BaseWorkerMixin pid=6749)\u001b[0m use distribute.MultiWorkerMirroredStrategy instead\n",
      "\u001b[2m\u001b[36m(BaseWorkerMixin pid=6749)\u001b[0m 2022-05-17 21:19:14.652324: W tensorflow/stream_executor/platform/default/dso_loader.cc:64] Could not load dynamic library 'libcuda.so.1'; dlerror: libcuda.so.1: cannot open shared object file: No such file or directory; LD_LIBRARY_PATH: /usr/local/nvidia/lib:/usr/local/nvidia/lib64\n",
      "\u001b[2m\u001b[36m(BaseWorkerMixin pid=6749)\u001b[0m 2022-05-17 21:19:14.652362: W tensorflow/stream_executor/cuda/cuda_driver.cc:269] failed call to cuInit: UNKNOWN ERROR (303)\n",
      "\u001b[2m\u001b[36m(BaseWorkerMixin pid=6748)\u001b[0m 2022-05-17 21:19:15.014114: W tensorflow/core/framework/dataset.cc:768] Input of GeneratorDatasetOp::Dataset will not be optimized because the dataset does not implement the AsGraphDefInternal() method needed to apply optimizations.\n",
      "\u001b[2m\u001b[36m(BaseWorkerMixin pid=6749)\u001b[0m 2022-05-17 21:19:14.996944: W tensorflow/core/framework/dataset.cc:768] Input of GeneratorDatasetOp::Dataset will not be optimized because the dataset does not implement the AsGraphDefInternal() method needed to apply optimizations.\n"
     ]
    },
    {
     "name": "stdout",
     "output_type": "stream",
     "text": [
      "      7/Unknown - 3s 9ms/step - loss: 31.4913 - accuracy: 0.7679\n",
      "      6/Unknown - 3s 10ms/step - loss: 36.7398 - accuracy: 0.7292\n",
      "     18/Unknown - 3s 9ms/step - loss: 20.7746 - accuracy: 0.7361 \n",
      "     18/Unknown - 3s 9ms/step - loss: 20.7746 - accuracy: 0.7361 \n",
      "     30/Unknown - 3s 9ms/step - loss: 20.1022 - accuracy: 0.7125\n",
      "     30/Unknown - 3s 9ms/step - loss: 20.1022 - accuracy: 0.7125\n",
      "     41/Unknown - 3s 9ms/step - loss: 15.9702 - accuracy: 0.6829 \n",
      "     41/Unknown - 3s 9ms/step - loss: 15.9702 - accuracy: 0.6829 \n",
      "     51/Unknown - 3s 10ms/step - loss: 13.1416 - accuracy: 0.6912\n",
      "     51/Unknown - 3s 10ms/step - loss: 13.1416 - accuracy: 0.6912\n",
      "     61/Unknown - 3s 10ms/step - loss: 11.2825 - accuracy: 0.6967\n",
      "     62/Unknown - 3s 10ms/step - loss: 11.1298 - accuracy: 0.6915\n",
      "     73/Unknown - 3s 10ms/step - loss: 9.9122 - accuracy: 0.6798 \n",
      "     73/Unknown - 3s 10ms/step - loss: 9.9122 - accuracy: 0.6798 \n",
      "     87/Unknown - 4s 10ms/step - loss: 8.7285 - accuracy: 0.6897\n",
      "     87/Unknown - 4s 10ms/step - loss: 8.7285 - accuracy: 0.6897\n",
      "     94/Unknown - 4s 9ms/step - loss: 8.1746 - accuracy: 0.6769 \n",
      "     94/Unknown - 4s 9ms/step - loss: 8.1746 - accuracy: 0.6769 \n",
      "    107/Unknown - 4s 9ms/step - loss: 7.3905 - accuracy: 0.6752\n",
      "    107/Unknown - 4s 9ms/step - loss: 7.3905 - accuracy: 0.6752\n",
      "    121/Unknown - 4s 9ms/step - loss: 6.6575 - accuracy: 0.6942\n",
      "    120/Unknown - 4s 9ms/step - loss: 6.6733 - accuracy: 0.6927\n",
      "    132/Unknown - 4s 9ms/step - loss: 6.2047 - accuracy: 0.6960\n",
      "    132/Unknown - 4s 9ms/step - loss: 6.2047 - accuracy: 0.6960\n",
      "    144/Unknown - 4s 9ms/step - loss: 5.8325 - accuracy: 0.6910\n",
      "    144/Unknown - 4s 9ms/step - loss: 5.8325 - accuracy: 0.6910\n",
      "    155/Unknown - 4s 9ms/step - loss: 5.4943 - accuracy: 0.6911\n",
      "    156/Unknown - 4s 9ms/step - loss: 5.4657 - accuracy: 0.6915\n",
      "    166/Unknown - 4s 9ms/step - loss: 5.2206 - accuracy: 0.6920\n",
      "    161/Unknown - 4s 9ms/step - loss: 5.3204 - accuracy: 0.6910\n",
      "    167/Unknown - 4s 9ms/step - loss: 5.1917 - accuracy: 0.6924\n",
      "    178/Unknown - 4s 9ms/step - loss: 4.9252 - accuracy: 0.6896\n",
      "    173/Unknown - 4s 9ms/step - loss: 5.0406 - accuracy: 0.6922\n",
      "    191/Unknown - 5s 9ms/step - loss: 4.6763 - accuracy: 0.6963\n",
      "    185/Unknown - 5s 9ms/step - loss: 4.7851 - accuracy: 0.6926\n",
      "    198/Unknown - 5s 9ms/step - loss: 4.5408 - accuracy: 0.6926\n",
      "    199/Unknown - 5s 9ms/step - loss: 4.5207 - accuracy: 0.6935\n",
      "    204/Unknown - 5s 9ms/step - loss: 4.4376 - accuracy: 0.6924\n",
      "    211/Unknown - 5s 9ms/step - loss: 4.3157 - accuracy: 0.6931\n",
      "    211/Unknown - 5s 9ms/step - loss: 4.3157 - accuracy: 0.6931\n",
      "    223/Unknown - 5s 9ms/step - loss: 4.1851 - accuracy: 0.6923\n",
      "    223/Unknown - 5s 9ms/step - loss: 4.1851 - accuracy: 0.6923\n",
      "    237/Unknown - 5s 9ms/step - loss: 4.0213 - accuracy: 0.6994\n",
      "    236/Unknown - 5s 9ms/step - loss: 4.0328 - accuracy: 0.6992\n",
      "    250/Unknown - 5s 9ms/step - loss: 3.8982 - accuracy: 0.6970\n",
      "    249/Unknown - 5s 9ms/step - loss: 3.9081 - accuracy: 0.6963\n",
      "    257/Unknown - 5s 9ms/step - loss: 3.8262 - accuracy: 0.6965\n",
      "    256/Unknown - 5s 9ms/step - loss: 3.8399 - accuracy: 0.6958\n",
      "    258/Unknown - 5s 10ms/step - loss: 3.8145 - accuracy: 0.6972\n",
      "    258/Unknown - 5s 10ms/step - loss: 3.8145 - accuracy: 0.6972\n",
      "    271/Unknown - 5s 10ms/step - loss: 3.6951 - accuracy: 0.6997\n",
      "    270/Unknown - 5s 10ms/step - loss: 3.7019 - accuracy: 0.6995\n",
      "    285/Unknown - 5s 9ms/step - loss: 3.6309 - accuracy: 0.6965 \n",
      "    284/Unknown - 5s 9ms/step - loss: 3.6271 - accuracy: 0.6967 \n",
      "    297/Unknown - 6s 9ms/step - loss: 3.5553 - accuracy: 0.6982\n",
      "    296/Unknown - 6s 9ms/step - loss: 3.5614 - accuracy: 0.6981\n",
      "    303/Unknown - 6s 9ms/step - loss: 3.5194 - accuracy: 0.7001\n",
      "    308/Unknown - 6s 9ms/step - loss: 3.5097 - accuracy: 0.6981\n",
      "    314/Unknown - 6s 9ms/step - loss: 3.4563 - accuracy: 0.7002\n",
      "    314/Unknown - 6s 9ms/step - loss: 3.4563 - accuracy: 0.7002\n",
      "    326/Unknown - 6s 9ms/step - loss: 3.4284 - accuracy: 0.7017\n",
      "    326/Unknown - 6s 9ms/step - loss: 3.4284 - accuracy: 0.7017\n",
      "    338/Unknown - 6s 9ms/step - loss: 3.3660 - accuracy: 0.7019\n",
      "    338/Unknown - 6s 9ms/step - loss: 3.3660 - accuracy: 0.7019\n",
      "    351/Unknown - 6s 9ms/step - loss: 3.2754 - accuracy: 0.7037\n",
      "    351/Unknown - 6s 9ms/step - loss: 3.2754 - accuracy: 0.7037\n",
      "    364/Unknown - 6s 9ms/step - loss: 3.1932 - accuracy: 0.7060\n",
      "    364/Unknown - 6s 9ms/step - loss: 3.1932 - accuracy: 0.7060\n",
      "    377/Unknown - 6s 9ms/step - loss: 3.1343 - accuracy: 0.7042\n",
      "    377/Unknown - 6s 9ms/step - loss: 3.1343 - accuracy: 0.7042\n",
      "    391/Unknown - 6s 9ms/step - loss: 3.0635 - accuracy: 0.7043\n",
      "    391/Unknown - 6s 9ms/step - loss: 3.0635 - accuracy: 0.7043\n",
      "    404/Unknown - 6s 9ms/step - loss: 3.2541 - accuracy: 0.7045\n",
      "    404/Unknown - 7s 9ms/step - loss: 3.2541 - accuracy: 0.7045\n",
      "    418/Unknown - 7s 9ms/step - loss: 3.2863 - accuracy: 0.7028\n",
      "    417/Unknown - 7s 9ms/step - loss: 3.2937 - accuracy: 0.7020\n",
      "    432/Unknown - 7s 9ms/step - loss: 3.2005 - accuracy: 0.7054\n",
      "    431/Unknown - 7s 9ms/step - loss: 3.2060 - accuracy: 0.7059\n",
      "    439/Unknown - 7s 9ms/step - loss: 3.1797 - accuracy: 0.7050\n",
      "    444/Unknown - 7s 9ms/step - loss: 3.1561 - accuracy: 0.7058\n",
      "    445/Unknown - 7s 9ms/step - loss: 3.1522 - accuracy: 0.7056\n",
      "    450/Unknown - 7s 9ms/step - loss: 3.1339 - accuracy: 0.7028\n",
      "    456/Unknown - 7s 9ms/step - loss: 3.1131 - accuracy: 0.7031\n",
      "    463/Unknown - 7s 9ms/step - loss: 3.0776 - accuracy: 0.7019\n",
      "    462/Unknown - 7s 9ms/step - loss: 3.0826 - accuracy: 0.7024\n",
      "    474/Unknown - 7s 9ms/step - loss: 3.0130 - accuracy: 0.7054\n",
      "    474/Unknown - 7s 9ms/step - loss: 3.0130 - accuracy: 0.7054\n",
      "    486/Unknown - 7s 9ms/step - loss: 2.9498 - accuracy: 0.7068\n",
      "    486/Unknown - 7s 9ms/step - loss: 2.9498 - accuracy: 0.7068\n",
      "    497/Unknown - 7s 9ms/step - loss: 2.8966 - accuracy: 0.7085\n",
      "    497/Unknown - 7s 9ms/step - loss: 2.8966 - accuracy: 0.7085\n",
      "    510/Unknown - 7s 9ms/step - loss: 2.8411 - accuracy: 0.7113\n",
      "    510/Unknown - 7s 9ms/step - loss: 2.8411 - accuracy: 0.7113\n",
      "    521/Unknown - 8s 9ms/step - loss: 2.8001 - accuracy: 0.7097\n",
      "    522/Unknown - 8s 9ms/step - loss: 2.7995 - accuracy: 0.7095\n",
      "    534/Unknown - 8s 9ms/step - loss: 2.7498 - accuracy: 0.7125\n",
      "    535/Unknown - 8s 9ms/step - loss: 2.7457 - accuracy: 0.7126\n",
      "    548/Unknown - 8s 9ms/step - loss: 2.6888 - accuracy: 0.7169\n",
      "    549/Unknown - 8s 9ms/step - loss: 2.6842 - accuracy: 0.7172\n",
      "    561/Unknown - 8s 9ms/step - loss: 2.6379 - accuracy: 0.7188\n",
      "    556/Unknown - 8s 9ms/step - loss: 2.6573 - accuracy: 0.7183\n",
      "    563/Unknown - 8s 9ms/step - loss: 2.6298 - accuracy: 0.7191\n",
      "    575/Unknown - 8s 9ms/step - loss: 2.5868 - accuracy: 0.7224\n",
      "    570/Unknown - 8s 9ms/step - loss: 2.6059 - accuracy: 0.7211\n",
      "    588/Unknown - 8s 9ms/step - loss: 2.5459 - accuracy: 0.7232\n",
      "    583/Unknown - 8s 9ms/step - loss: 2.5646 - accuracy: 0.7221\n",
      "    594/Unknown - 8s 9ms/step - loss: 2.5257 - accuracy: 0.7237\n",
      "    595/Unknown - 8s 9ms/step - loss: 2.5225 - accuracy: 0.7239\n",
      "    601/Unknown - 8s 9ms/step - loss: 2.5054 - accuracy: 0.7225\n",
      "    602/Unknown - 8s 9ms/step - loss: 2.5020 - accuracy: 0.7226\n",
      "    608/Unknown - 8s 9ms/step - loss: 2.4850 - accuracy: 0.7229\n",
      "    608/Unknown - 8s 9ms/step - loss: 2.4850 - accuracy: 0.7229\n",
      "    621/Unknown - 8s 9ms/step - loss: 2.4419 - accuracy: 0.7248\n",
      "    621/Unknown - 9s 9ms/step - loss: 2.4419 - accuracy: 0.7248\n",
      "    632/Unknown - 9s 9ms/step - loss: 2.4121 - accuracy: 0.7243\n",
      "    632/Unknown - 9s 9ms/step - loss: 2.4121 - accuracy: 0.7243\n",
      "    638/Unknown - 9s 9ms/step - loss: 2.4088 - accuracy: 0.7249\n",
      "    638/Unknown - 9s 9ms/step - loss: 2.4088 - accuracy: 0.7249\n",
      "    650/Unknown - 9s 9ms/step - loss: 2.3937 - accuracy: 0.7262\n",
      "    650/Unknown - 9s 9ms/step - loss: 2.3937 - accuracy: 0.7262\n",
      "    662/Unknown - 9s 9ms/step - loss: 2.3970 - accuracy: 0.7256\n",
      "    662/Unknown - 9s 9ms/step - loss: 2.3970 - accuracy: 0.7256\n",
      "    673/Unknown - 9s 9ms/step - loss: 2.3874 - accuracy: 0.7251\n",
      "    674/Unknown - 9s 9ms/step - loss: 2.3898 - accuracy: 0.7246\n",
      "    685/Unknown - 9s 9ms/step - loss: 2.3760 - accuracy: 0.7232\n",
      "    686/Unknown - 9s 9ms/step - loss: 2.3726 - accuracy: 0.7236\n",
      "    697/Unknown - 9s 9ms/step - loss: 2.3464 - accuracy: 0.7244\n",
      "    699/Unknown - 9s 9ms/step - loss: 2.3409 - accuracy: 0.7246\n",
      "    710/Unknown - 9s 9ms/step - loss: 2.3113 - accuracy: 0.7245\n",
      "    712/Unknown - 9s 9ms/step - loss: 2.3083 - accuracy: 0.7237\n",
      "    722/Unknown - 9s 9ms/step - loss: 2.2886 - accuracy: 0.7242\n",
      "    719/Unknown - 9s 9ms/step - loss: 2.2954 - accuracy: 0.7243\n",
      "    736/Unknown - 10s 9ms/step - loss: 2.2659 - accuracy: 0.7262\n",
      "    732/Unknown - 10s 9ms/step - loss: 2.2760 - accuracy: 0.7254\n",
      "    750/Unknown - 10s 9ms/step - loss: 2.2316 - accuracy: 0.7277\n",
      "    745/Unknown - 10s 9ms/step - loss: 2.2443 - accuracy: 0.7265\n",
      "    762/Unknown - 10s 9ms/step - loss: 2.2045 - accuracy: 0.7288\n",
      "    759/Unknown - 10s 9ms/step - loss: 2.2112 - accuracy: 0.7283\n",
      "    768/Unknown - 10s 9ms/step - loss: 2.1898 - accuracy: 0.7301\n",
      "    771/Unknown - 10s 9ms/step - loss: 2.1827 - accuracy: 0.7305\n",
      "    782/Unknown - 10s 9ms/step - loss: 2.1627 - accuracy: 0.7313\n",
      "    785/Unknown - 10s 9ms/step - loss: 2.1578 - accuracy: 0.7306\n",
      "    795/Unknown - 10s 9ms/step - loss: 2.1417 - accuracy: 0.7313\n",
      "    798/Unknown - 10s 9ms/step - loss: 2.1351 - accuracy: 0.7310\n",
      "    806/Unknown - 10s 9ms/step - loss: 2.1201 - accuracy: 0.7311\n",
      "    808/Unknown - 10s 9ms/step - loss: 2.1158 - accuracy: 0.7314\n",
      "    816/Unknown - 10s 9ms/step - loss: 2.0991 - accuracy: 0.7321\n",
      "    818/Unknown - 10s 9ms/step - loss: 2.0957 - accuracy: 0.7317\n",
      "    827/Unknown - 10s 9ms/step - loss: 2.0859 - accuracy: 0.7322\n",
      "    824/Unknown - 10s 9ms/step - loss: 2.0874 - accuracy: 0.7319\n",
      "    839/Unknown - 10s 9ms/step - loss: 2.0716 - accuracy: 0.7314\n",
      "    836/Unknown - 10s 9ms/step - loss: 2.0751 - accuracy: 0.7313\n",
      "    850/Unknown - 11s 9ms/step - loss: 2.0533 - accuracy: 0.7312\n",
      "    848/Unknown - 11s 9ms/step - loss: 2.0572 - accuracy: 0.7310\n",
      "    863/Unknown - 11s 9ms/step - loss: 2.0313 - accuracy: 0.7326\n",
      "    860/Unknown - 11s 9ms/step - loss: 2.0334 - accuracy: 0.7328\n",
      "    875/Unknown - 11s 9ms/step - loss: 2.0141 - accuracy: 0.7334\n",
      "    872/Unknown - 11s 9ms/step - loss: 2.0182 - accuracy: 0.7335\n",
      "    887/Unknown - 11s 9ms/step - loss: 1.9990 - accuracy: 0.7339\n",
      "    884/Unknown - 11s 9ms/step - loss: 2.0026 - accuracy: 0.7336\n",
      "    899/Unknown - 11s 9ms/step - loss: 1.9830 - accuracy: 0.7339\n",
      "    897/Unknown - 11s 9ms/step - loss: 1.9859 - accuracy: 0.7340\n",
      "    906/Unknown - 11s 9ms/step - loss: 1.9710 - accuracy: 0.7345\n",
      "    911/Unknown - 11s 9ms/step - loss: 1.9625 - accuracy: 0.7349\n",
      "    919/Unknown - 11s 9ms/step - loss: 1.9510 - accuracy: 0.7348\n",
      "    924/Unknown - 11s 9ms/step - loss: 1.9457 - accuracy: 0.7351\n",
      "    933/Unknown - 11s 9ms/step - loss: 1.9351 - accuracy: 0.7349\n",
      "    931/Unknown - 11s 9ms/step - loss: 1.9369 - accuracy: 0.7346\n",
      "    938/Unknown - 11s 9ms/step - loss: 1.9319 - accuracy: 0.7352\n",
      "    946/Unknown - 11s 9ms/step - loss: 1.9245 - accuracy: 0.7348\n",
      "    945/Unknown - 11s 9ms/step - loss: 1.9257 - accuracy: 0.7347\n",
      "    960/Unknown - 11s 9ms/step - loss: 1.9101 - accuracy: 0.7355\n",
      "    959/Unknown - 11s 9ms/step - loss: 1.9104 - accuracy: 0.7354\n",
      "    973/Unknown - 12s 9ms/step - loss: 1.8972 - accuracy: 0.7348\n",
      "    972/Unknown - 12s 9ms/step - loss: 1.8983 - accuracy: 0.7355\n",
      "    987/Unknown - 12s 9ms/step - loss: 1.8813 - accuracy: 0.7343\n",
      "    986/Unknown - 12s 9ms/step - loss: 1.8827 - accuracy: 0.7345\n",
      "    998/Unknown - 12s 9ms/step - loss: 1.8686 - accuracy: 0.7342\n",
      "    998/Unknown - 12s 9ms/step - loss: 1.8686 - accuracy: 0.7342\n",
      "   1010/Unknown - 12s 9ms/step - loss: 1.8566 - accuracy: 0.7348\n",
      "   1010/Unknown - 12s 9ms/step - loss: 1.8566 - accuracy: 0.7348\n",
      "   1022/Unknown - 12s 9ms/step - loss: 1.8425 - accuracy: 0.7348\n",
      "   1022/Unknown - 12s 9ms/step - loss: 1.8425 - accuracy: 0.7348\n",
      "   1028/Unknown - 12s 9ms/step - loss: 1.8351 - accuracy: 0.7348\n",
      "   1028/Unknown - 12s 9ms/step - loss: 1.8351 - accuracy: 0.7348\n",
      "   1034/Unknown - 12s 9ms/step - loss: 1.8266 - accuracy: 0.7356\n",
      "   1034/Unknown - 12s 9ms/step - loss: 1.8266 - accuracy: 0.7356\n",
      "   1040/Unknown - 12s 9ms/step - loss: 1.8192 - accuracy: 0.7355\n",
      "   1040/Unknown - 12s 9ms/step - loss: 1.8192 - accuracy: 0.7355\n",
      "   1052/Unknown - 12s 9ms/step - loss: 1.8019 - accuracy: 0.7375\n",
      "   1053/Unknown - 12s 9ms/step - loss: 1.8003 - accuracy: 0.7378\n",
      "   1066/Unknown - 13s 9ms/step - loss: 1.7816 - accuracy: 0.7390\n",
      "   1067/Unknown - 13s 9ms/step - loss: 1.7804 - accuracy: 0.7390\n",
      "   1079/Unknown - 13s 9ms/step - loss: 1.7654 - accuracy: 0.7397\n",
      "   1080/Unknown - 13s 9ms/step - loss: 1.7665 - accuracy: 0.7396\n",
      "   1092/Unknown - 13s 9ms/step - loss: 1.7609 - accuracy: 0.7397\n",
      "   1093/Unknown - 13s 9ms/step - loss: 1.7611 - accuracy: 0.7397\n",
      "   1105/Unknown - 13s 9ms/step - loss: 1.7598 - accuracy: 0.7388\n",
      "   1099/Unknown - 13s 9ms/step - loss: 1.7628 - accuracy: 0.7386\n",
      "   1111/Unknown - 13s 9ms/step - loss: 1.7527 - accuracy: 0.7392\n",
      "   1113/Unknown - 13s 9ms/step - loss: 1.7499 - accuracy: 0.7394\n",
      "   1125/Unknown - 13s 9ms/step - loss: 1.7351 - accuracy: 0.7399\n",
      "   1126/Unknown - 13s 9ms/step - loss: 1.7339 - accuracy: 0.7400\n",
      "   1139/Unknown - 13s 9ms/step - loss: 1.7188 - accuracy: 0.7407\n",
      "   1139/Unknown - 13s 9ms/step - loss: 1.7188 - accuracy: 0.7407\n",
      "   1151/Unknown - 13s 9ms/step - loss: 1.7046 - accuracy: 0.7421\n",
      "   1151/Unknown - 13s 9ms/step - loss: 1.7046 - accuracy: 0.7421\n",
      "   1163/Unknown - 13s 9ms/step - loss: 1.6921 - accuracy: 0.7426\n",
      "   1163/Unknown - 13s 9ms/step - loss: 1.6921 - accuracy: 0.7426\n",
      "   1175/Unknown - 13s 9ms/step - loss: 1.6879 - accuracy: 0.7428\n",
      "   1175/Unknown - 13s 9ms/step - loss: 1.6879 - accuracy: 0.7428\n",
      "   1186/Unknown - 14s 9ms/step - loss: 1.6917 - accuracy: 0.7425\n",
      "   1186/Unknown - 14s 9ms/step - loss: 1.6917 - accuracy: 0.7425\n",
      "   1198/Unknown - 14s 9ms/step - loss: 1.6887 - accuracy: 0.7423\n",
      "   1198/Unknown - 14s 9ms/step - loss: 1.6887 - accuracy: 0.7423\n",
      "   1211/Unknown - 14s 9ms/step - loss: 1.6834 - accuracy: 0.7428\n",
      "   1210/Unknown - 14s 9ms/step - loss: 1.6841 - accuracy: 0.7427\n",
      "   1225/Unknown - 14s 9ms/step - loss: 1.6798 - accuracy: 0.7423\n",
      "   1224/Unknown - 14s 9ms/step - loss: 1.6803 - accuracy: 0.7423\n",
      "   1232/Unknown - 14s 9ms/step - loss: 1.6736 - accuracy: 0.7423\n",
      "   1238/Unknown - 14s 9ms/step - loss: 1.6685 - accuracy: 0.7427\n",
      "   1246/Unknown - 14s 9ms/step - loss: 1.6701 - accuracy: 0.7424\n",
      "   1245/Unknown - 14s 9ms/step - loss: 1.6710 - accuracy: 0.7423\n",
      "   1260/Unknown - 14s 9ms/step - loss: 1.6558 - accuracy: 0.7435\n",
      "   1259/Unknown - 14s 9ms/step - loss: 1.6566 - accuracy: 0.7433\n",
      "   1273/Unknown - 14s 9ms/step - loss: 1.6471 - accuracy: 0.7439\n",
      "   1271/Unknown - 14s 9ms/step - loss: 1.6461 - accuracy: 0.7438\n",
      "   1287/Unknown - 14s 9ms/step - loss: 1.6439 - accuracy: 0.7436\n",
      "   1284/Unknown - 14s 9ms/step - loss: 1.6462 - accuracy: 0.7434\n",
      "   1301/Unknown - 15s 9ms/step - loss: 1.6348 - accuracy: 0.7440\n",
      "   1298/Unknown - 15s 9ms/step - loss: 1.6360 - accuracy: 0.7443\n",
      "   1314/Unknown - 15s 9ms/step - loss: 1.6255 - accuracy: 0.7449\n",
      "   1311/Unknown - 15s 9ms/step - loss: 1.6279 - accuracy: 0.7448\n",
      "   1327/Unknown - 15s 9ms/step - loss: 1.6143 - accuracy: 0.7450\n",
      "   1325/Unknown - 15s 9ms/step - loss: 1.6156 - accuracy: 0.7450\n",
      "   1339/Unknown - 15s 9ms/step - loss: 1.6053 - accuracy: 0.7461\n",
      "   1338/Unknown - 15s 9ms/step - loss: 1.6056 - accuracy: 0.7460\n",
      "   1345/Unknown - 15s 9ms/step - loss: 1.7310 - accuracy: 0.7464\n",
      "   1344/Unknown - 15s 9ms/step - loss: 1.6042 - accuracy: 0.7465\n",
      "   1355/Unknown - 15s 9ms/step - loss: 1.7329 - accuracy: 0.7460\n",
      "   1355/Unknown - 15s 9ms/step - loss: 1.7329 - accuracy: 0.7460\n",
      "   1367/Unknown - 15s 9ms/step - loss: 1.7931 - accuracy: 0.7454\n",
      "   1367/Unknown - 15s 9ms/step - loss: 1.7931 - accuracy: 0.7454\n",
      "   1378/Unknown - 15s 9ms/step - loss: 1.8006 - accuracy: 0.7451\n",
      "   1378/Unknown - 15s 9ms/step - loss: 1.8006 - accuracy: 0.7451\n",
      "   1384/Unknown - 15s 9ms/step - loss: 1.8110 - accuracy: 0.7452\n",
      "   1384/Unknown - 15s 9ms/step - loss: 1.8110 - accuracy: 0.7452\n",
      "   1390/Unknown - 15s 9ms/step - loss: 1.8139 - accuracy: 0.7454\n",
      "   1390/Unknown - 15s 9ms/step - loss: 1.8139 - accuracy: 0.7454\n",
      "   1404/Unknown - 16s 9ms/step - loss: 1.8288 - accuracy: 0.7449\n",
      "   1403/Unknown - 16s 9ms/step - loss: 1.8299 - accuracy: 0.7448\n",
      "1406/1406 [==============================] - 16s 9ms/step - loss: 1.8268 - accuracy: 0.7451\n",
      "1406/1406 [==============================] - 16s 9ms/step - loss: 1.8268 - accuracy: 0.7451\n"
     ]
    },
    {
     "name": "stderr",
     "output_type": "stream",
     "text": [
      "2022-05-17 21:19:31,907\tERROR checkpoint_manager.py:193 -- Result dict has no key: training_iteration. checkpoint_score_attr must be set to a key of the result dict. Valid keys are ['trial_id', 'experiment_id', 'date', 'timestamp', 'pid', 'hostname', 'node_ip', 'config', 'done']\n"
     ]
    },
    {
     "name": "stdout",
     "output_type": "stream",
     "text": [
      "Trial TensorflowTrainer_a5bfe_00000 completed. Last result: \n"
     ]
    },
    {
     "name": "stderr",
     "output_type": "stream",
     "text": [
      "2022-05-17 21:19:32,019\tINFO tune.py:753 -- Total run time: 29.79 seconds (28.51 seconds for the tuning loop).\n"
     ]
    }
   ],
   "source": [
    "from ray.ml.train.integrations.tensorflow import TensorflowTrainer\n",
    "\n",
    "trainer = TensorflowTrainer(\n",
    "    train_loop_per_worker=train_loop_per_worker,\n",
    "    scaling_config={\"num_workers\": NUM_WORKERS},\n",
    "    datasets={\"train\": train_ds},\n",
    "    preprocessor=get_preprocessor(),\n",
    ")\n",
    "result = trainer.fit()"
   ]
  },
  {
   "cell_type": "markdown",
   "metadata": {
    "id": "Nb0HkOV2R4uL"
   },
   "source": [
    "# Moving on to Serve"
   ]
  },
  {
   "cell_type": "markdown",
   "metadata": {
    "id": "OlzjlW8QR_q6"
   },
   "source": [
    "Ray Serve serves the trained model through constructs of `ray.serve.model_wrappers.ModelWrapper` and `ray.serve.model_wrappers.ModelWrapperDeployment`. These constructs wrap a `ray.ml.checkpoint.Checkpoint` into an endpoint that can readily serve http requests.\n",
    "\n",
    "This removes the boilerplate code and minimizes the effort to bring your model to production!\n",
    "\n",
    "Generally speaking the http request can either send in json or data.\n",
    "Upon receiving this payload, Ray Serve would need some \"adapter\" to convert the request payload into some shape or form that can be accepted as input to the preprocessing steps. In this case, we send in a json request and converts it to a pandas DataFrame through `dataframe_adapter`, defined below."
   ]
  },
  {
   "cell_type": "code",
   "execution_count": 14,
   "metadata": {
    "id": "BBbcMwc9Rz66"
   },
   "outputs": [],
   "source": [
    "from fastapi import Request\n",
    "\n",
    "async def dataframe_adapter(request: Request):\n",
    "    \"\"\"Serve HTTP Adapter that reads JSON and converts to pandas DataFrame.\"\"\"\n",
    "    content = await request.json()\n",
    "    return pd.DataFrame.from_dict(content)"
   ]
  },
  {
   "cell_type": "markdown",
   "metadata": {
    "id": "SOnl90IuRywD"
   },
   "source": [
    "Now let's wrap everything in a serve endpoint that exposes a URL to where requests can be sent to."
   ]
  },
  {
   "cell_type": "code",
   "execution_count": null,
   "metadata": {
    "id": "ujmwT8ZhScq1"
   },
   "outputs": [
    {
     "name": "stderr",
     "output_type": "stream",
     "text": [
      "2022-05-17 21:19:33,136\tINFO worker.py:863 -- Using address localhost:9031 set in the environment variable RAY_ADDRESS\n",
      "2022-05-17 21:19:33,137\tINFO worker.py:965 -- Connecting to existing Ray cluster at address: 172.31.80.125:9031\n"
     ]
    }
   ],
   "source": [
    "from ray import serve\n",
    "from ray.ml.checkpoint import Checkpoint\n",
    "from ray.ml.predictors.integrations.tensorflow import TensorflowPredictor\n",
    "from ray.serve.model_wrappers import ModelWrapperDeployment\n",
    "\n",
    "\n",
    "def serve_model(checkpoint: Checkpoint, model_definition, adapter, name=\"Model\") -> str:\n",
    "    \"\"\"Expose a serve endpoint.\n",
    "\n",
    "    Returns:\n",
    "        serve URL.\n",
    "    \"\"\"\n",
    "    serve.start(detached=True)\n",
    "    deployment = ModelWrapperDeployment.options(name=name)\n",
    "    deployment.deploy(\n",
    "        TensorflowPredictor,\n",
    "        checkpoint,\n",
    "        # This is due to a current limitation on Serve that's\n",
    "        # being addressed.\n",
    "        # TODO(xwjiang): Change to True.\n",
    "        batching_params=False,\n",
    "        model_definition=model_definition,\n",
    "        http_adapter=adapter,\n",
    "    )\n",
    "    return deployment.url\n",
    "\n",
    "# Generally speaking, training and serving are done in totally different ray clusters.\n",
    "# To simulate that, let's shutdown the old ray cluster in preparation for serving.\n",
    "ray.shutdown()\n",
    "\n",
    "endpoint_uri = serve_model(result.checkpoint, build_model, dataframe_adapter)"
   ]
  },
  {
   "cell_type": "markdown",
   "metadata": {
    "id": "rzHSwa2bSyee"
   },
   "source": [
    "Let's write a helper function to send requests to this endpoint and compare the results with labels."
   ]
  },
  {
   "cell_type": "code",
   "execution_count": null,
   "metadata": {
    "id": "E9m80HDmSz66"
   },
   "outputs": [],
   "source": [
    "import requests\n",
    "\n",
    "NUM_SERVE_REQUESTS = 100\n",
    "\n",
    "def send_requests(df: pd.DataFrame, label: np.array):\n",
    "    for i in range(NUM_SERVE_REQUESTS):\n",
    "        one_row = df.iloc[[i]].to_dict()\n",
    "        serve_result = requests.post(endpoint_uri, json=one_row).json()\n",
    "        print(\n",
    "            f\"request[{i}] prediction: {serve_result['predictions']['0']} \"\n",
    "            f\"- label: {str(label[i])}\"\n",
    "        )"
   ]
  },
  {
   "cell_type": "code",
   "execution_count": null,
   "metadata": {
    "id": "GFPwKc5JTgnI"
   },
   "outputs": [],
   "source": [
    "send_requests(test_df, test_label)"
   ]
  }
 ],
 "metadata": {
  "accelerator": "GPU",
  "colab": {
   "collapsed_sections": [
    "jAgvLbhT8nB0"
   ],
   "name": "tfx.ipynb",
   "provenance": []
  },
  "interpreter": {
   "hash": "3c0d54d489a08ae47a06eae2fd00ff032d6cddb527c382959b7b2575f6a8167f"
  },
  "kernelspec": {
   "display_name": "Python 3 (ipykernel)",
   "language": "python",
   "name": "python3"
  },
  "language_info": {
   "codemirror_mode": {
    "name": "ipython",
    "version": 3
   },
   "file_extension": ".py",
   "mimetype": "text/x-python",
   "name": "python",
   "nbconvert_exporter": "python",
   "pygments_lexer": "ipython3",
   "version": "3.7.7"
  }
 },
 "nbformat": 4,
 "nbformat_minor": 4
}

