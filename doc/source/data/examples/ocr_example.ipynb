{
 "cells": [
  {
   "cell_type": "code",
   "execution_count": 24,
   "id": "15acfd57",
   "metadata": {
    "tags": [
     "remove-cell"
    ]
   },
   "outputs": [],
   "source": [
    "# flake8: noqa\n",
    "import warnings\n",
    "import os\n",
    "\n",
    "# Suppress noisy requests warnings.\n",
    "warnings.filterwarnings(\"ignore\")\n",
    "os.environ[\"PYTHONWARNINGS\"] = \"ignore\""
   ]
  },
  {
   "cell_type": "markdown",
   "id": "f712b3a1",
   "metadata": {},
   "source": [
    "# Extracting Information from Documents using Ray Datasets\n",
    "\n",
    "In this example, we will show you how to run optical character recognition (OCR) on a set of documents and analyze the resulting text with the natural language processing library spaCy. To make it more interesting, we will run the analysis on the [LightShot](https://www.kaggle.com/datasets/datasnaek/lightshot) dataset. It is a large publicly available OCR dataset with a wide variety of different documents, all of them screen shots of various forms. It is easy to replace that dataset with your own data and adapt the example to your own use cases!\n",
    "\n",
    "## Overview\n",
    "\n",
    "This tutorial will cover:\n",
    " - Creating a Ray Dataset that represents the images in the dataset\n",
    " - Running the computationally expensive OCR process on each image in the dataset in parallel\n",
    " - Filtering out images that actually contain text\n",
    " - Performing various NLP operations on the text\n",
    "\n",
    "## Walkthrough\n",
    "\n",
    "Let's start by preparing the dependencies and downloading the dataset. You can download the dataset at [LightShot](https://www.kaggle.com/datasets/datasnaek/lightshot). Install the OCR software `tesseract` and extract the `archive.zip` file with the following commands:"
   ]
  },
  {
   "cell_type": "code",
   "execution_count": null,
   "id": "4906af06",
   "metadata": {},
   "outputs": [],
   "source": [
    "!sudo apt-get install tesseract-ocr\n",
    "%pip install pytesseract\n",
    "!sudo apt-get install -y unzip unrar\n",
    "!unzip archive.zip\n",
    "!unrar x LightShot13k.rar ~/LightShot13k/"
   ]
  },
  {
   "cell_type": "markdown",
   "id": "14ae8fce",
   "metadata": {},
   "source": [
    "Let's now import Ray and initialize a local Ray cluster. If you want to run OCR at a very large scale, you should run this workload on a multi-node cluster."
   ]
  },
  {
   "cell_type": "code",
   "execution_count": 1,
   "id": "0495514d",
   "metadata": {
    "scrolled": true
   },
   "outputs": [
    {
     "name": "stderr",
     "output_type": "stream",
     "text": [
      "2022-06-20 13:29:54,153\tINFO packaging.py:323 -- Pushing file package 'gcs://_ray_pkg_6e55412652e4563957625efaa4c5f526.zip' (71.00MiB) to Ray cluster...\n",
      "2022-06-20 13:29:54,951\tINFO packaging.py:332 -- Successfully pushed file package 'gcs://_ray_pkg_6e55412652e4563957625efaa4c5f526.zip'.\n"
     ]
    },
    {
     "data": {
      "text/plain": [
       "RayContext(dashboard_url='127.0.0.1:8265', python_version='3.8.5', ray_version='3.0.0.dev0', ray_commit='736c7b13c4dcfb3f1b748124184e293ffab14bf8', address_info={'node_ip_address': '172.31.87.92', 'raylet_ip_address': '172.31.87.92', 'redis_address': None, 'object_store_address': '/tmp/ray/session_2022-06-20_13-19-15_484107_157/sockets/plasma_store', 'raylet_socket_name': '/tmp/ray/session_2022-06-20_13-19-15_484107_157/sockets/raylet', 'webui_url': '127.0.0.1:8265', 'session_dir': '/tmp/ray/session_2022-06-20_13-19-15_484107_157', 'metrics_export_port': 63693, 'gcs_address': '172.31.87.92:9031', 'address': '172.31.87.92:9031', 'node_id': '0f5b31d3795dc5b8fbe66daf22f92515c0c4a99309c9c32e1b0c7860'})"
      ]
     },
     "execution_count": 1,
     "metadata": {},
     "output_type": "execute_result"
    }
   ],
   "source": [
    "# Import ray and initialize a local Ray cluster.\n",
    "import ray\n",
    "ray.init()"
   ]
  },
  {
   "cell_type": "markdown",
   "id": "bed3ec58",
   "metadata": {},
   "source": [
    "### Running the OCR software on the data\n",
    "\n",
    "We first create a list `files` of absolute paths of the file names and then convert it into a Ray Dataset with the `ray.data.from_items` function. We can now run the `.map` function on this dataset of file names to run the actual OCR process on each file and convert the screen shots into text. Note that we only store the paths of the filenames and the OCR'ed text in the dataset to keep the size of the dataset manageble. If you have large binary blobs like images or videos, it can be beneficial to store them outside of the dataset and store only the extracted information in the dataset."
   ]
  },
  {
   "cell_type": "code",
   "execution_count": null,
   "id": "05979440",
   "metadata": {
    "tags": [
     "remove-output"
    ]
   },
   "outputs": [],
   "source": [
    "import os\n",
    "from glob import glob\n",
    "import pytesseract\n",
    "\n",
    "files = glob(os.path.expanduser(\"~/LightShot13k/LightShot13k/*\"))\n",
    "ds = ray.data.from_items(files)\n",
    "\n",
    "def perform_ocr(path):\n",
    "    return {\"path\": path, \"text\": pytesseract.image_to_string(path)}\n",
    "\n",
    "results = ds.map(perform_ocr)"
   ]
  },
  {
   "cell_type": "markdown",
   "id": "6adeaf0b",
   "metadata": {},
   "source": [
    "Let us have a look at some of the data points with the `take` function."
   ]
  },
  {
   "cell_type": "code",
   "execution_count": 22,
   "id": "15fdbf06",
   "metadata": {},
   "outputs": [
    {
     "name": "stderr",
     "output_type": "stream",
     "text": [
      "2022-06-20 13:47:43,292\tINFO packaging.py:323 -- Pushing file package 'gcs://_ray_pkg_87e304282a9906dcafa5ea9e85e906f9.zip' (71.00MiB) to Ray cluster...\n",
      "2022-06-20 13:47:44,083\tINFO packaging.py:332 -- Successfully pushed file package 'gcs://_ray_pkg_87e304282a9906dcafa5ea9e85e906f9.zip'.\n",
      "Metadata Fetch Progress:   0%|          | 0/33 [00:00<?, ?it/s]\n",
      "Metadata Fetch Progress:   0%|          | 0/33 [00:00<?, ?it/s]\n",
      "Metadata Fetch Progress:   0%|          | 0/33 [00:00<?, ?it/s]\n",
      "Metadata Fetch Progress:   0%|          | 0/33 [00:00<?, ?it/s]\n",
      "Metadata Fetch Progress:   0%|          | 0/33 [00:00<?, ?it/s]\n",
      "Metadata Fetch Progress:   0%|          | 0/33 [00:00<?, ?it/s]\n",
      "Metadata Fetch Progress:   0%|          | 0/33 [00:00<?, ?it/s]\n",
      "Metadata Fetch Progress:   0%|          | 0/33 [00:00<?, ?it/s]\n",
      "Metadata Fetch Progress:   0%|          | 0/33 [00:00<?, ?it/s]\n",
      "Metadata Fetch Progress:   0%|          | 0/33 [00:01<?, ?it/s]\n",
      "Metadata Fetch Progress:   0%|          | 0/33 [00:01<?, ?it/s]\n",
      "Metadata Fetch Progress:   0%|          | 0/33 [00:01<?, ?it/s]\n",
      "Metadata Fetch Progress:   0%|          | 0/33 [00:01<?, ?it/s]\n",
      "Metadata Fetch Progress:   0%|          | 0/33 [00:01<?, ?it/s]\n",
      "Metadata Fetch Progress:   0%|          | 0/33 [00:01<?, ?it/s]\n",
      "Metadata Fetch Progress:   0%|          | 0/33 [00:01<?, ?it/s]\n",
      "Metadata Fetch Progress:   0%|          | 0/33 [00:01<?, ?it/s]\n",
      "Metadata Fetch Progress:   0%|          | 0/33 [00:01<?, ?it/s]\n",
      "Metadata Fetch Progress:   0%|          | 0/33 [00:01<?, ?it/s]\n",
      "Metadata Fetch Progress:   0%|          | 0/33 [00:02<?, ?it/s]\n",
      "Metadata Fetch Progress:   0%|          | 0/33 [00:02<?, ?it/s]\n",
      "Metadata Fetch Progress:   0%|          | 0/33 [00:02<?, ?it/s]\n",
      "Metadata Fetch Progress:   0%|          | 0/33 [00:02<?, ?it/s]\n",
      "Metadata Fetch Progress:   0%|          | 0/33 [00:02<?, ?it/s]\n",
      "Metadata Fetch Progress:   0%|          | 0/33 [00:02<?, ?it/s]\n",
      "Metadata Fetch Progress:   9%|▉         | 3/33 [00:02<00:01, 27.95it/s]\n",
      "Metadata Fetch Progress:  70%|██████▉   | 23/33 [00:02<00:00, 123.02it/s]\n",
      "Metadata Fetch Progress: 100%|██████████| 33/33 [00:03<00:00, 10.89it/s] \n"
     ]
    }
   ],
   "source": [
    "import ray\n",
    "ray.init()\n",
    "results = ray.data.read_parquet(\"/mnt/shared_storage/pcmoritz/LightShot13k_output/\")"
   ]
  },
  {
   "cell_type": "markdown",
   "id": "c8a306a9",
   "metadata": {},
   "source": [
    "### Process the extracted text data with spaCy\n",
    "\n",
    "This is the part where the fun begins. Depending on your task there will be different needs for post processing, for example:\n",
    "- If you are scanning books or articles you might want to separate the text out into sections and paragraphs.\n",
    "- If you are scanning forms, receipts or checks, you might want to extract the different items listed, as well as extra information for those items like the price, or the total amount listed on the receipt or check.\n",
    "- If you are scanning legal documents, you might want to extract information like the type of document, who is mentioned in the document and more semantic information about what the document claims.\n",
    "- If you are scanning medical records, you might want to extract the patient name and the treatment history.\n",
    "\n",
    "In our specific example, let's try to determine all the documents in the LightShot dataset that are chat protocols and extract named entities in those documents. We will extract this data with spaCy. Let's first make sure the libraries are installed:"
   ]
  },
  {
   "cell_type": "code",
   "execution_count": null,
   "id": "3e7fad2f",
   "metadata": {},
   "outputs": [],
   "source": [
    "!pip install spacy\n",
    "!python -m spacy download en_core_web_sm\n",
    "!pip install spacy_langdetect"
   ]
  },
  {
   "cell_type": "markdown",
   "id": "9650e261",
   "metadata": {},
   "source": [
    "This is some code to determine the language of a piece of text:"
   ]
  },
  {
   "cell_type": "code",
   "execution_count": 19,
   "id": "79b41cfa",
   "metadata": {},
   "outputs": [
    {
     "data": {
      "text/plain": [
       "{'language': 'en', 'score': 0.9999965581999258}"
      ]
     },
     "execution_count": 19,
     "metadata": {},
     "output_type": "execute_result"
    }
   ],
   "source": [
    "import spacy\n",
    "from spacy.language import Language\n",
    "from spacy_langdetect import LanguageDetector\n",
    "\n",
    "nlp = spacy.load('en_core_web_sm')\n",
    "\n",
    "@Language.factory(\"language_detector\")\n",
    "def get_lang_detector(nlp, name):\n",
    "    return LanguageDetector()\n",
    "\n",
    "nlp.add_pipe('language_detector', last=True)\n",
    "nlp(\"This is an English sentence. Ray rocks!\")._.language"
   ]
  },
  {
   "cell_type": "markdown",
   "id": "0c124b47",
   "metadata": {},
   "source": [
    "It gives both the language and a confidence score for that language.\n",
    "\n",
    "In order to run the code on the dataset, we have to use Ray Dataset's built in support for actors since the `nlp` object is not serializable and we want to avoid having to recreate it for each individual sentence:"
   ]
  },
  {
   "cell_type": "code",
   "execution_count": 25,
   "id": "5871928f",
   "metadata": {},
   "outputs": [
    {
     "name": "stderr",
     "output_type": "stream",
     "text": [
      "Map:   0%|          | 0/1 [00:00<?, ?it/s](pid=6597) 2022-06-20 13:48:17.654922: W tensorflow/stream_executor/platform/default/dso_loader.cc:64] Could not load dynamic library 'libcudart.so.11.0'; dlerror: libcudart.so.11.0: cannot open shared object file: No such file or directory\n",
      "(pid=6597) 2022-06-20 13:48:17.654973: I tensorflow/stream_executor/cuda/cudart_stub.cc:29] Ignore above cudart dlerror if you do not have a GPU set up on your machine.\n",
      "Map Progress (1 actors 1 pending): 100%|██████████| 1/1 [00:05<00:00,  5.52s/it]\n"
     ]
    },
    {
     "data": {
      "text/plain": [
       "Dataset(num_blocks=1, num_rows=10, schema={language: string, score: double})"
      ]
     },
     "execution_count": 25,
     "metadata": {},
     "output_type": "execute_result"
    },
    {
     "name": "stderr",
     "output_type": "stream",
     "text": [
      "(pid=6639) 2022-06-20 13:48:21.950568: W tensorflow/stream_executor/platform/default/dso_loader.cc:64] Could not load dynamic library 'libcudart.so.11.0'; dlerror: libcudart.so.11.0: cannot open shared object file: No such file or directory\n",
      "(pid=6639) 2022-06-20 13:48:21.950614: I tensorflow/stream_executor/cuda/cudart_stub.cc:29] Ignore above cudart dlerror if you do not have a GPU set up on your machine.\n"
     ]
    }
   ],
   "source": [
    "import spacy\n",
    "from spacy.language import Language\n",
    "from spacy_langdetect import LanguageDetector\n",
    "\n",
    "class SpacyBatchInference:\n",
    "    def __init__(self):\n",
    "        self.nlp = spacy.load('en_core_web_sm')\n",
    "        @Language.factory(\"language_detector\")\n",
    "\n",
    "        def get_lang_detector(nlp, name):\n",
    "           return LanguageDetector()\n",
    "\n",
    "        self.nlp.add_pipe('language_detector', last=True)\n",
    "\n",
    "    def __call__(self, row):\n",
    "        doc = self.nlp(row[\"value\"])\n",
    "        return doc._.language\n",
    "\n",
    "results.limit(10).map(SpacyBatchInference, compute=\"actors\")"
   ]
  },
  {
   "cell_type": "markdown",
   "id": "6a9bb56c",
   "metadata": {},
   "source": [
    "We can now get language statistics over the whole dataset:"
   ]
  },
  {
   "cell_type": "code",
   "execution_count": 26,
   "id": "b3fe237a",
   "metadata": {
    "scrolled": true
   },
   "outputs": [
    {
     "name": "stderr",
     "output_type": "stream",
     "text": [
      "Read->Map:   0%|          | 0/200 [00:00<?, ?it/s](pid=6812) 2022-06-20 13:49:10.979206: W tensorflow/stream_executor/platform/default/dso_loader.cc:64] Could not load dynamic library 'libcudart.so.11.0'; dlerror: libcudart.so.11.0: cannot open shared object file: No such file or directory\n",
      "(pid=6812) 2022-06-20 13:49:10.979262: I tensorflow/stream_executor/cuda/cudart_stub.cc:29] Ignore above cudart dlerror if you do not have a GPU set up on your machine.\n",
      "Map Progress (1 actors 1 pending):   0%|          | 1/200 [00:05<19:49,  5.98s/it](pid=6854) 2022-06-20 13:49:15.131031: W tensorflow/stream_executor/platform/default/dso_loader.cc:64] Could not load dynamic library 'libcudart.so.11.0'; dlerror: libcudart.so.11.0: cannot open shared object file: No such file or directory\n",
      "(pid=6854) 2022-06-20 13:49:15.131083: I tensorflow/stream_executor/cuda/cudart_stub.cc:29] Ignore above cudart dlerror if you do not have a GPU set up on your machine.\n",
      "Map Progress (2 actors 1 pending):   2%|▏         | 3/200 [00:09<09:00,  2.74s/it](pid=6913) 2022-06-20 13:49:19.693141: W tensorflow/stream_executor/platform/default/dso_loader.cc:64] Could not load dynamic library 'libcudart.so.11.0'; dlerror: libcudart.so.11.0: cannot open shared object file: No such file or directory\n",
      "(pid=6913) 2022-06-20 13:49:19.693186: I tensorflow/stream_executor/cuda/cudart_stub.cc:29] Ignore above cudart dlerror if you do not have a GPU set up on your machine.\n",
      "Map Progress (3 actors 1 pending):   4%|▍         | 9/200 [00:15<03:12,  1.01s/it](pid=6962) 2022-06-20 13:49:24.553740: W tensorflow/stream_executor/platform/default/dso_loader.cc:64] Could not load dynamic library 'libcudart.so.11.0'; dlerror: libcudart.so.11.0: cannot open shared object file: No such file or directory\n",
      "(pid=6962) 2022-06-20 13:49:24.553788: I tensorflow/stream_executor/cuda/cudart_stub.cc:29] Ignore above cudart dlerror if you do not have a GPU set up on your machine.\n",
      "Map Progress (4 actors 1 pending):   8%|▊         | 16/200 [00:20<02:38,  1.16it/s](pid=7006) 2022-06-20 13:49:29.719069: W tensorflow/stream_executor/platform/default/dso_loader.cc:64] Could not load dynamic library 'libcudart.so.11.0'; dlerror: libcudart.so.11.0: cannot open shared object file: No such file or directory\n",
      "(pid=7006) 2022-06-20 13:49:29.719120: I tensorflow/stream_executor/cuda/cudart_stub.cc:29] Ignore above cudart dlerror if you do not have a GPU set up on your machine.\n",
      "Map Progress (5 actors 2 pending):  12%|█▎        | 25/200 [00:26<02:17,  1.27it/s](pid=7052) 2022-06-20 13:49:35.503511: W tensorflow/stream_executor/platform/default/dso_loader.cc:64] Could not load dynamic library 'libcudart.so.11.0'; dlerror: libcudart.so.11.0: cannot open shared object file: No such file or directory\n",
      "(pid=7052) 2022-06-20 13:49:35.503637: I tensorflow/stream_executor/cuda/cudart_stub.cc:29] Ignore above cudart dlerror if you do not have a GPU set up on your machine.\n",
      "(pid=7053) 2022-06-20 13:49:35.546425: W tensorflow/stream_executor/platform/default/dso_loader.cc:64] Could not load dynamic library 'libcudart.so.11.0'; dlerror: libcudart.so.11.0: cannot open shared object file: No such file or directory\n",
      "(pid=7053) 2022-06-20 13:49:35.546484: I tensorflow/stream_executor/cuda/cudart_stub.cc:29] Ignore above cudart dlerror if you do not have a GPU set up on your machine.\n",
      "Map Progress (7 actors 2 pending):  18%|█▊        | 37/200 [00:32<01:11,  2.28it/s](pid=7131) 2022-06-20 13:49:43.126745: W tensorflow/stream_executor/platform/default/dso_loader.cc:64] Could not load dynamic library 'libcudart.so.11.0'; dlerror: libcudart.so.11.0: cannot open shared object file: No such file or directory\n",
      "(pid=7131) 2022-06-20 13:49:43.127074: I tensorflow/stream_executor/cuda/cudart_stub.cc:29] Ignore above cudart dlerror if you do not have a GPU set up on your machine.\n",
      "(pid=7127) 2022-06-20 13:49:43.275817: W tensorflow/stream_executor/platform/default/dso_loader.cc:64] Could not load dynamic library 'libcudart.so.11.0'; dlerror: libcudart.so.11.0: cannot open shared object file: No such file or directory\n",
      "(pid=7127) 2022-06-20 13:49:43.275934: I tensorflow/stream_executor/cuda/cudart_stub.cc:29] Ignore above cudart dlerror if you do not have a GPU set up on your machine.\n",
      "Map Progress (9 actors 3 pending):  26%|██▌       | 51/200 [00:42<01:42,  1.46it/s](pid=7216) 2022-06-20 13:49:51.977430: W tensorflow/stream_executor/platform/default/dso_loader.cc:64] Could not load dynamic library 'libcudart.so.11.0'; dlerror: libcudart.so.11.0: cannot open shared object file: No such file or directory\n",
      "(pid=7216) 2022-06-20 13:49:51.977578: I tensorflow/stream_executor/cuda/cudart_stub.cc:29] Ignore above cudart dlerror if you do not have a GPU set up on your machine.\n",
      "(pid=7209) 2022-06-20 13:49:52.285361: W tensorflow/stream_executor/platform/default/dso_loader.cc:64] Could not load dynamic library 'libcudart.so.11.0'; dlerror: libcudart.so.11.0: cannot open shared object file: No such file or directory\n",
      "(pid=7209) 2022-06-20 13:49:52.285431: I tensorflow/stream_executor/cuda/cudart_stub.cc:29] Ignore above cudart dlerror if you do not have a GPU set up on your machine.\n",
      "Map Progress (9 actors 3 pending):  26%|██▌       | 52/200 [00:43<02:23,  1.03it/s](pid=7215) 2022-06-20 13:49:52.942141: W tensorflow/stream_executor/platform/default/dso_loader.cc:64] Could not load dynamic library 'libcudart.so.11.0'; dlerror: libcudart.so.11.0: cannot open shared object file: No such file or directory\n",
      "(pid=7215) 2022-06-20 13:49:52.942200: I tensorflow/stream_executor/cuda/cudart_stub.cc:29] Ignore above cudart dlerror if you do not have a GPU set up on your machine.\n",
      "Map Progress (12 actors 3 pending):  35%|███▌      | 70/200 [00:54<02:00,  1.08it/s](pid=7322) 2022-06-20 13:50:03.536953: W tensorflow/stream_executor/platform/default/dso_loader.cc:64] Could not load dynamic library 'libcudart.so.11.0'; dlerror: libcudart.so.11.0: cannot open shared object file: No such file or directory\n",
      "(pid=7322) 2022-06-20 13:50:03.537085: I tensorflow/stream_executor/cuda/cudart_stub.cc:29] Ignore above cudart dlerror if you do not have a GPU set up on your machine.\n",
      "(pid=7333) 2022-06-20 13:50:03.952814: W tensorflow/stream_executor/platform/default/dso_loader.cc:64] Could not load dynamic library 'libcudart.so.11.0'; dlerror: libcudart.so.11.0: cannot open shared object file: No such file or directory\n",
      "(pid=7333) 2022-06-20 13:50:03.957085: I tensorflow/stream_executor/cuda/cudart_stub.cc:29] Ignore above cudart dlerror if you do not have a GPU set up on your machine.\n",
      "Map Progress (12 actors 3 pending):  36%|███▌      | 72/200 [00:56<01:58,  1.08it/s](pid=7391) 2022-06-20 13:50:05.810683: W tensorflow/stream_executor/platform/default/dso_loader.cc:64] Could not load dynamic library 'libcudart.so.11.0'; dlerror: libcudart.so.11.0: cannot open shared object file: No such file or directory\n",
      "(pid=7391) 2022-06-20 13:50:05.810786: I tensorflow/stream_executor/cuda/cudart_stub.cc:29] Ignore above cudart dlerror if you do not have a GPU set up on your machine.\n",
      "Map Progress (15 actors 4 pending):  46%|████▌     | 91/200 [01:06<00:54,  2.01it/s](pid=7446) 2022-06-20 13:50:16.032103: W tensorflow/stream_executor/platform/default/dso_loader.cc:64] Could not load dynamic library 'libcudart.so.11.0'; dlerror: libcudart.so.11.0: cannot open shared object file: No such file or directory\n",
      "(pid=7446) 2022-06-20 13:50:16.032156: I tensorflow/stream_executor/cuda/cudart_stub.cc:29] Ignore above cudart dlerror if you do not have a GPU set up on your machine.\n",
      "(pid=7445) 2022-06-20 13:50:16.499410: W tensorflow/stream_executor/platform/default/dso_loader.cc:64] Could not load dynamic library 'libcudart.so.11.0'; dlerror: libcudart.so.11.0: cannot open shared object file: No such file or directory\n",
      "(pid=7445) 2022-06-20 13:50:16.499540: I tensorflow/stream_executor/cuda/cudart_stub.cc:29] Ignore above cudart dlerror if you do not have a GPU set up on your machine.\n",
      "Map Progress (15 actors 4 pending):  48%|████▊     | 95/200 [01:09<00:47,  2.23it/s](pid=7512) 2022-06-20 13:50:18.979377: W tensorflow/stream_executor/platform/default/dso_loader.cc:64] Could not load dynamic library 'libcudart.so.11.0'; dlerror: libcudart.so.11.0: cannot open shared object file: No such file or directory\n",
      "(pid=7512) 2022-06-20 13:50:18.979426: I tensorflow/stream_executor/cuda/cudart_stub.cc:29] Ignore above cudart dlerror if you do not have a GPU set up on your machine.\n",
      "Map Progress (15 actors 4 pending):  49%|████▉     | 98/200 [01:12<01:10,  1.45it/s](pid=7549) 2022-06-20 13:50:23.092805: W tensorflow/stream_executor/platform/default/dso_loader.cc:64] Could not load dynamic library 'libcudart.so.11.0'; dlerror: libcudart.so.11.0: cannot open shared object file: No such file or directory\n",
      "(pid=7549) 2022-06-20 13:50:23.101379: I tensorflow/stream_executor/cuda/cudart_stub.cc:29] Ignore above cudart dlerror if you do not have a GPU set up on your machine.\n",
      "Map Progress (16 actors 4 pending):  53%|█████▎    | 106/200 [01:17<00:52,  1.81it/s]2022-06-20 13:50:26,175\tWARNING worker.py:1625 -- WARNING: 32 PYTHON worker processes have been started on node: 0f5b31d3795dc5b8fbe66daf22f92515c0c4a99309c9c32e1b0c7860 with address: 172.31.87.92. This could be a result of using a large number of actors, or due to tasks blocked in ray.get() calls (see https://github.com/ray-project/ray/issues/3644 for some discussion of workarounds).\n",
      "Map Progress (18 actors 5 pending):  58%|█████▊    | 116/200 [01:25<01:27,  1.05s/it](pid=7627) 2022-06-20 13:50:34.233741: W tensorflow/stream_executor/platform/default/dso_loader.cc:64] Could not load dynamic library 'libcudart.so.11.0'; dlerror: libcudart.so.11.0: cannot open shared object file: No such file or directory\n",
      "(pid=7627) 2022-06-20 13:50:34.240106: I tensorflow/stream_executor/cuda/cudart_stub.cc:29] Ignore above cudart dlerror if you do not have a GPU set up on your machine.\n",
      "(pid=7611) 2022-06-20 13:50:34.371725: W tensorflow/stream_executor/platform/default/dso_loader.cc:64] Could not load dynamic library 'libcudart.so.11.0'; dlerror: libcudart.so.11.0: cannot open shared object file: No such file or directory\n",
      "(pid=7611) 2022-06-20 13:50:34.377091: I tensorflow/stream_executor/cuda/cudart_stub.cc:29] Ignore above cudart dlerror if you do not have a GPU set up on your machine.\n",
      "Map Progress (18 actors 5 pending):  58%|█████▊    | 117/200 [01:25<01:08,  1.21it/s](pid=7628) 2022-06-20 13:50:34.452129: W tensorflow/stream_executor/platform/default/dso_loader.cc:64] Could not load dynamic library 'libcudart.so.11.0'; dlerror: libcudart.so.11.0: cannot open shared object file: No such file or directory\n",
      "(pid=7628) 2022-06-20 13:50:34.454735: I tensorflow/stream_executor/cuda/cudart_stub.cc:29] Ignore above cudart dlerror if you do not have a GPU set up on your machine.\n",
      "Map Progress (18 actors 5 pending):  62%|██████▏   | 123/200 [01:27<00:37,  2.04it/s](pid=7664) 2022-06-20 13:50:36.942077: W tensorflow/stream_executor/platform/default/dso_loader.cc:64] Could not load dynamic library 'libcudart.so.11.0'; dlerror: libcudart.so.11.0: cannot open shared object file: No such file or directory\n",
      "(pid=7664) 2022-06-20 13:50:36.942220: I tensorflow/stream_executor/cuda/cudart_stub.cc:29] Ignore above cudart dlerror if you do not have a GPU set up on your machine.\n",
      "Map Progress (19 actors 5 pending):  62%|██████▎   | 125/200 [01:28<00:35,  2.13it/s]2022-06-20 13:50:37,892\tWARNING worker.py:1625 -- WARNING: 40 PYTHON worker processes have been started on node: 0f5b31d3795dc5b8fbe66daf22f92515c0c4a99309c9c32e1b0c7860 with address: 172.31.87.92. This could be a result of using a large number of actors, or due to tasks blocked in ray.get() calls (see https://github.com/ray-project/ray/issues/3644 for some discussion of workarounds).\n",
      "Map Progress (19 actors 5 pending):  66%|██████▌   | 131/200 [01:33<00:50,  1.38it/s](pid=7768) 2022-06-20 13:50:44.024569: W tensorflow/stream_executor/platform/default/dso_loader.cc:64] Could not load dynamic library 'libcudart.so.11.0'; dlerror: libcudart.so.11.0: cannot open shared object file: No such file or directory\n",
      "(pid=7768) 2022-06-20 13:50:44.037458: I tensorflow/stream_executor/cuda/cudart_stub.cc:29] Ignore above cudart dlerror if you do not have a GPU set up on your machine.\n",
      "Map Progress (23 actors 6 pending):  73%|███████▎  | 146/200 [01:43<00:42,  1.26it/s]2022-06-20 13:50:52,805\tWARNING worker.py:1625 -- WARNING: 50 PYTHON worker processes have been started on node: 0f5b31d3795dc5b8fbe66daf22f92515c0c4a99309c9c32e1b0c7860 with address: 172.31.87.92. This could be a result of using a large number of actors, or due to tasks blocked in ray.get() calls (see https://github.com/ray-project/ray/issues/3644 for some discussion of workarounds).\n",
      "Map Progress (23 actors 6 pending):  75%|███████▌  | 150/200 [01:47<00:35,  1.43it/s](pid=7826) 2022-06-20 13:50:56.231858: W tensorflow/stream_executor/platform/default/dso_loader.cc:64] Could not load dynamic library 'libcudart.so.11.0'; dlerror: libcudart.so.11.0: cannot open shared object file: No such file or directory\n",
      "(pid=7826) 2022-06-20 13:50:56.231928: I tensorflow/stream_executor/cuda/cudart_stub.cc:29] Ignore above cudart dlerror if you do not have a GPU set up on your machine.\n",
      "Map Progress (23 actors 6 pending):  76%|███████▌  | 151/200 [01:47<00:32,  1.52it/s](pid=7868) 2022-06-20 13:50:57.003075: W tensorflow/stream_executor/platform/default/dso_loader.cc:64] Could not load dynamic library 'libcudart.so.11.0'; dlerror: libcudart.so.11.0: cannot open shared object file: No such file or directory\n",
      "(pid=7868) 2022-06-20 13:50:57.003140: I tensorflow/stream_executor/cuda/cudart_stub.cc:29] Ignore above cudart dlerror if you do not have a GPU set up on your machine.\n",
      "Map Progress (23 actors 6 pending):  76%|███████▌  | 152/200 [01:48<00:29,  1.60it/s](pid=7837) 2022-06-20 13:50:57.375722: W tensorflow/stream_executor/platform/default/dso_loader.cc:64] Could not load dynamic library 'libcudart.so.11.0'; dlerror: libcudart.so.11.0: cannot open shared object file: No such file or directory\n",
      "(pid=7837) 2022-06-20 13:50:57.375797: I tensorflow/stream_executor/cuda/cudart_stub.cc:29] Ignore above cudart dlerror if you do not have a GPU set up on your machine.\n",
      "(pid=7836) 2022-06-20 13:50:57.612289: W tensorflow/stream_executor/platform/default/dso_loader.cc:64] Could not load dynamic library 'libcudart.so.11.0'; dlerror: libcudart.so.11.0: cannot open shared object file: No such file or directory\n",
      "(pid=7836) 2022-06-20 13:50:57.636665: I tensorflow/stream_executor/cuda/cudart_stub.cc:29] Ignore above cudart dlerror if you do not have a GPU set up on your machine.\n",
      "Map Progress (24 actors 6 pending):  80%|███████▉  | 159/200 [01:52<00:37,  1.11it/s](pid=7961) 2022-06-20 13:51:01.868678: W tensorflow/stream_executor/platform/default/dso_loader.cc:64] Could not load dynamic library 'libcudart.so.11.0'; dlerror: libcudart.so.11.0: cannot open shared object file: No such file or directory\n",
      "(pid=7961) 2022-06-20 13:51:01.873093: I tensorflow/stream_executor/cuda/cudart_stub.cc:29] Ignore above cudart dlerror if you do not have a GPU set up on your machine.\n",
      "Map Progress (24 actors 6 pending):  84%|████████▍ | 168/200 [01:58<00:18,  1.69it/s](pid=8013) 2022-06-20 13:51:08.312010: W tensorflow/stream_executor/platform/default/dso_loader.cc:64] Could not load dynamic library 'libcudart.so.11.0'; dlerror: libcudart.so.11.0: cannot open shared object file: No such file or directory\n",
      "(pid=8013) 2022-06-20 13:51:08.312072: I tensorflow/stream_executor/cuda/cudart_stub.cc:29] Ignore above cudart dlerror if you do not have a GPU set up on your machine.\n",
      "Map Progress (29 actors 8 pending):  93%|█████████▎| 186/200 [02:09<00:12,  1.16it/s]2022-06-20 13:51:18,704\tWARNING worker.py:1625 -- WARNING: 64 PYTHON worker processes have been started on node: 0f5b31d3795dc5b8fbe66daf22f92515c0c4a99309c9c32e1b0c7860 with address: 172.31.87.92. This could be a result of using a large number of actors, or due to tasks blocked in ray.get() calls (see https://github.com/ray-project/ray/issues/3644 for some discussion of workarounds).\n",
      "(pid=8081) 2022-06-20 13:51:18.710015: W tensorflow/stream_executor/platform/default/dso_loader.cc:64] Could not load dynamic library 'libcudart.so.11.0'; dlerror: libcudart.so.11.0: cannot open shared object file: No such file or directory\n",
      "(pid=8081) 2022-06-20 13:51:18.710073: I tensorflow/stream_executor/cuda/cudart_stub.cc:29] Ignore above cudart dlerror if you do not have a GPU set up on your machine.\n",
      "(pid=8082) 2022-06-20 13:51:18.831969: W tensorflow/stream_executor/platform/default/dso_loader.cc:64] Could not load dynamic library 'libcudart.so.11.0'; dlerror: libcudart.so.11.0: cannot open shared object file: No such file or directory\n",
      "(pid=8082) 2022-06-20 13:51:18.832028: I tensorflow/stream_executor/cuda/cudart_stub.cc:29] Ignore above cudart dlerror if you do not have a GPU set up on your machine.\n",
      "Map Progress (29 actors 8 pending):  94%|█████████▎| 187/200 [02:09<00:09,  1.42it/s](pid=8089) 2022-06-20 13:51:19.058756: W tensorflow/stream_executor/platform/default/dso_loader.cc:64] Could not load dynamic library 'libcudart.so.11.0'; dlerror: libcudart.so.11.0: cannot open shared object file: No such file or directory\n",
      "(pid=8089) 2022-06-20 13:51:19.065094: I tensorflow/stream_executor/cuda/cudart_stub.cc:29] Ignore above cudart dlerror if you do not have a GPU set up on your machine.\n",
      "Map Progress (29 actors 8 pending):  94%|█████████▍| 188/200 [02:10<00:07,  1.54it/s](pid=8091) 2022-06-20 13:51:19.501935: W tensorflow/stream_executor/platform/default/dso_loader.cc:64] Could not load dynamic library 'libcudart.so.11.0'; dlerror: libcudart.so.11.0: cannot open shared object file: No such file or directory\n",
      "(pid=8091) 2022-06-20 13:51:19.502056: I tensorflow/stream_executor/cuda/cudart_stub.cc:29] Ignore above cudart dlerror if you do not have a GPU set up on your machine.\n",
      "Map Progress (29 actors 8 pending):  96%|█████████▌| 191/200 [02:11<00:04,  2.23it/s](pid=8092) 2022-06-20 13:51:20.892312: W tensorflow/stream_executor/platform/default/dso_loader.cc:64] Could not load dynamic library 'libcudart.so.11.0'; dlerror: libcudart.so.11.0: cannot open shared object file: No such file or directory\n",
      "(pid=8092) 2022-06-20 13:51:20.892361: I tensorflow/stream_executor/cuda/cudart_stub.cc:29] Ignore above cudart dlerror if you do not have a GPU set up on your machine.\n",
      "Map Progress (29 actors 8 pending):  98%|█████████▊| 197/200 [02:13<00:01,  2.84it/s](pid=8241) 2022-06-20 13:51:23.312203: W tensorflow/stream_executor/platform/default/dso_loader.cc:64] Could not load dynamic library 'libcudart.so.11.0'; dlerror: libcudart.so.11.0: cannot open shared object file: No such file or directory\n",
      "(pid=8241) 2022-06-20 13:51:23.312267: I tensorflow/stream_executor/cuda/cudart_stub.cc:29] Ignore above cudart dlerror if you do not have a GPU set up on your machine.\n",
      "Map Progress (30 actors 8 pending):  98%|█████████▊| 197/200 [02:14<00:01,  2.84it/s](pid=8240) 2022-06-20 13:51:23.470987: W tensorflow/stream_executor/platform/default/dso_loader.cc:64] Could not load dynamic library 'libcudart.so.11.0'; dlerror: libcudart.so.11.0: cannot open shared object file: No such file or directory\n",
      "(pid=8240) 2022-06-20 13:51:23.471031: I tensorflow/stream_executor/cuda/cudart_stub.cc:29] Ignore above cudart dlerror if you do not have a GPU set up on your machine.\n",
      "Map Progress (32 actors 8 pending): 100%|██████████| 200/200 [02:17<00:00,  1.46it/s]\n",
      "Sort Sample:   0%|          | 0/200 [00:02<?, ?it/s](pid=8313) 2022-06-20 13:51:29.016821: W tensorflow/stream_executor/platform/default/dso_loader.cc:64] Could not load dynamic library 'libcudart.so.11.0'; dlerror: libcudart.so.11.0: cannot open shared object file: No such file or directory\n",
      "(pid=8313) 2022-06-20 13:51:29.017915: I tensorflow/stream_executor/cuda/cudart_stub.cc:29] Ignore above cudart dlerror if you do not have a GPU set up on your machine.\n",
      "Sort Sample: 100%|██████████| 200/200 [00:04<00:00, 48.58it/s] \n",
      "Shuffle Map:   0%|          | 0/200 [00:00<?, ?it/s](pid=8351) 2022-06-20 13:51:30.871543: W tensorflow/stream_executor/platform/default/dso_loader.cc:64] Could not load dynamic library 'libcudart.so.11.0'; dlerror: libcudart.so.11.0: cannot open shared object file: No such file or directory\n",
      "(pid=8351) 2022-06-20 13:51:30.871594: I tensorflow/stream_executor/cuda/cudart_stub.cc:29] Ignore above cudart dlerror if you do not have a GPU set up on your machine.\n",
      "(pid=8349) 2022-06-20 13:51:30.984220: W tensorflow/stream_executor/platform/default/dso_loader.cc:64] Could not load dynamic library 'libcudart.so.11.0'; dlerror: libcudart.so.11.0: cannot open shared object file: No such file or directory\n",
      "(pid=8349) 2022-06-20 13:51:30.989064: I tensorflow/stream_executor/cuda/cudart_stub.cc:29] Ignore above cudart dlerror if you do not have a GPU set up on your machine.\n",
      "Shuffle Map: 100%|██████████| 200/200 [00:02<00:00, 80.23it/s]\n",
      "Shuffle Reduce: 100%|██████████| 200/200 [00:01<00:00, 193.08it/s]\n"
     ]
    },
    {
     "name": "stdout",
     "output_type": "stream",
     "text": [
      "{'language': 'UNKNOWN', 'count()': 2815}\n",
      "{'language': 'af', 'count()': 109}\n",
      "{'language': 'ca', 'count()': 268}\n",
      "{'language': 'cs', 'count()': 13}\n",
      "{'language': 'cy', 'count()': 80}\n",
      "{'language': 'da', 'count()': 33}\n",
      "{'language': 'de', 'count()': 281}\n",
      "{'language': 'en', 'count()': 5640}\n",
      "{'language': 'es', 'count()': 453}\n",
      "{'language': 'et', 'count()': 82}\n",
      "{'language': 'fi', 'count()': 32}\n",
      "{'language': 'fr', 'count()': 168}\n",
      "{'language': 'hr', 'count()': 143}\n",
      "{'language': 'hu', 'count()': 57}\n",
      "{'language': 'id', 'count()': 128}\n",
      "{'language': 'it', 'count()': 139}\n",
      "{'language': 'lt', 'count()': 17}\n",
      "{'language': 'lv', 'count()': 12}\n",
      "{'language': 'nl', 'count()': 982}\n",
      "{'language': 'no', 'count()': 56}\n"
     ]
    }
   ],
   "source": [
    "results.map(SpacyBatchInference, compute=\"actors\").groupby(\"language\").count().show()"
   ]
  }
 ],
 "metadata": {
  "celltoolbar": "Tags",
  "kernelspec": {
   "display_name": "Python 3",
   "language": "python",
   "name": "python3"
  },
  "language_info": {
   "codemirror_mode": {
    "name": "ipython",
    "version": 3
   },
   "file_extension": ".py",
   "mimetype": "text/x-python",
   "name": "python",
   "nbconvert_exporter": "python",
   "pygments_lexer": "ipython3",
   "version": "3.7.4"
  }
 },
 "nbformat": 4,
 "nbformat_minor": 5
}
