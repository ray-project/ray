{
 "cells": [
  {
   "cell_type": "code",
   "execution_count": null,
   "id": "49fe2185",
   "metadata": {
    "tags": [
     "remove-cell"
    ]
   },
   "outputs": [],
   "source": [
    "# flake8: noqa\n",
    "import warnings\n",
    "import os\n",
    "\n",
    "# Suppress noisy requests warnings.\n",
    "warnings.filterwarnings(\"ignore\")\n",
    "os.environ[\"PYTHONWARNINGS\"] = \"ignore\""
   ]
  },
  {
   "attachments": {},
   "cell_type": "markdown",
   "id": "2a344178",
   "metadata": {},
   "source": [
    "# Scaling OCR using Ray Data\n",
    "\n",
    "In this example, we will show you how to run optical character recognition (OCR) on a set of documents and analyze the resulting text with the natural language processing library [spaCy](https://spacy.io/). Running OCR on a large dataset is very computationally expensive, so using Ray for distributed processing can really speed up the analysis. Ray Data makes it easy to compose the different steps of the pipeline, namely the OCR and the natural language processing. Ray Data' actor support also allows us to be more efficient by sharing the spaCy NLP context between several datapoints.\n",
    "\n",
    "To make it more interesting, we will run the analysis on the [LightShot](https://www.kaggle.com/datasets/datasnaek/lightshot) dataset. It is a large publicly available OCR dataset with a wide variety of different documents, all of them screenshots of various forms. It is easy to replace that dataset with your own data and adapt the example to your own use cases!\n",
    "\n",
    "## Overview\n",
    "\n",
    "This tutorial will cover:\n",
    " - Creating a Dataset that represents the images in the dataset\n",
    " - Running the computationally expensive OCR process on each image in the dataset in parallel\n",
    " - Filtering the dataset by keeping only images that contain text\n",
    " - Performing various NLP operations on the text\n",
    "\n",
    "## Walkthrough\n",
    "\n",
    "Let's start by preparing the dependencies and downloading the dataset. First we install the OCR software `tesseract` and its Python client:\n",
    "\n",
    "``````{tab-set}\n",
    "\n",
    "````{tab-item} macOS\n",
    "```\n",
    "brew install tesseract\n",
    "pip install pytesseract\n",
    "```\n",
    "````\n",
    "\n",
    "````{tab-item} linux\n",
    "```\n",
    "sudo apt-get install tesseract-ocr\n",
    "pip install pytesseract\n",
    "```\n",
    "````\n",
    "\n",
    "``````\n",
    "\n",
    "By default, the following example will run on a tiny dataset we provide. If you want to run it on the full dataset, we recommend to run it on a cluster since processing all the images with tesseract takes a lot of time.\n",
    "\n",
    "````{note}\n",
    "If you want to run the example on the full [LightShot](https://www.kaggle.com/datasets/datasnaek/lightshot) dataset, you need to download the dataset and extract it. You can extract the dataset by first running `unzip archive.zip` and then `unrar x LightShot13k.rar .` and then you can upload the dataset to S3 with `aws s3 cp LightShot13k/ s3://<bucket>/<folder> --recursive`.\n",
    "````\n",
    "\n",
    "\n",
    "Let's now import Ray and initialize a local Ray cluster. If you want to run OCR at a very large scale, you should run this workload on a multi-node cluster.\n",
    "\n",
    "```python\n",
    "# Import ray and initialize a local Ray cluster.\n",
    "import ray\n",
    "ray.init()\n",
    "```\n",
    "\n",
    "### Running the OCR software on the data\n",
    "\n",
    "We can now use the {meth}`ray.data.read_binary_files <ray.data.read_binary_files>` function to read all the images from S3. We set the `include_paths=True` option to create a dataset of the S3 paths and image contents. We then run the {meth}`ds.map <ray.data.Dataset.map>` function on this dataset to execute the actual OCR process on each file and convert the screen shots into text. This creates a tabular dataset with columns `path` and `text`.\n",
    "\n",
    "````{note}\n",
    "If you want to load the data from a private bucket, you have to run\n",
    "```python\n",
    "import pyarrow.fs\n",
    "\n",
    "ds = ray.data.read_binary_files(\"s3://<bucket>/<folder>\",\n",
    "    include_paths=True,\n",
    "    filesystem=pyarrow.fs.S3FileSystem(\n",
    "        access_key=\"...\",\n",
    "        secret_key=\"...\",\n",
    "        session_token=\"...\"))\n",
    "```\n",
    "````\n",
    "\n",
    "```python\n",
    "from io import BytesIO\n",
    "from PIL import Image\n",
    "import pytesseract\n",
    "\n",
    "def perform_ocr(data):\n",
    "    path, img = data\n",
    "    return {\n",
    "        \"path\": path,\n",
    "        \"text\": pytesseract.image_to_string(Image.open(BytesIO(img)))\n",
    "    }\n",
    "\n",
    "ds = ray.data.read_binary_files(\n",
    "    \"s3://anonymous@air-example-data/ocr_tiny_dataset\",\n",
    "    include_paths=True)\n",
    "\n",
    "results = ds.map(perform_ocr)\n",
    "```\n",
    "\n",
    "Let us have a look at some of the data points with the {meth}`take <ray.data.Dataset.take>` function."
   ]
  },
  {
   "cell_type": "code",
   "execution_count": null,
   "id": "45aa1983",
   "metadata": {},
   "outputs": [],
   "source": [
    "results.take(10)"
   ]
  },
  {
   "cell_type": "markdown",
   "id": "36741417",
   "metadata": {},
   "source": [
    "### Saving and loading the result of the OCR run\n",
    "\n",
    "````{note}\n",
    "Saving the dataset is optional, you can also continue with the in-memory data without persisting it to storage.\n",
    "````\n",
    "\n",
    "We can save the result of running tesseract on the dataset on disk so we can read it out later if we want to re-run the NLP analysis without needing to re-run the OCR (which is very expensive on the whole dataset). This can be done with the {meth}`write_parquet <ray.data.Dataset.write_parquet>` function:\n",
    "\n",
    "```python\n",
    "import os\n",
    "results.write_parquet(os.path.expanduser(\"~/LightShot13k_results\"))\n",
    "```\n",
    "\n",
    "You can later reload the data with the {meth}`read_parquet <ray.data.read_parquet>` function:"
   ]
  },
  {
   "cell_type": "code",
   "execution_count": null,
   "id": "c8d419fa",
   "metadata": {},
   "outputs": [],
   "source": [
    "results = ray.data.read_parquet(os.path.expanduser(\"~/LightShot13k_results\"))"
   ]
  },
  {
   "cell_type": "markdown",
   "id": "decffa3c",
   "metadata": {},
   "source": [
    "### Process the extracted text data with spaCy\n",
    "\n",
    "This is the part where the fun begins. Depending on your task there will be different needs for post processing, for example:\n",
    "- If you are scanning books or articles you might want to separate the text out into sections and paragraphs.\n",
    "- If you are scanning forms, receipts or checks, you might want to extract the different items listed, as well as extra information for those items like the price, or the total amount listed on the receipt or check.\n",
    "- If you are scanning legal documents, you might want to extract information like the type of document, who is mentioned in the document and more semantic information about what the document claims.\n",
    "- If you are scanning medical records, you might want to extract the patient name and the treatment history.\n",
    "\n",
    "In our specific example, let's try to determine all the documents in the LightShot dataset that are chat protocols and extract named entities in those documents. We will extract this data with spaCy. Let's first make sure the libraries are installed:"
   ]
  },
  {
   "cell_type": "code",
   "execution_count": null,
   "id": "1604b02f",
   "metadata": {},
   "outputs": [],
   "source": [
    "!pip install \"spacy>=3\"\n",
    "!python -m spacy download en_core_web_sm\n",
    "!pip install spacy_langdetect"
   ]
  },
  {
   "cell_type": "markdown",
   "id": "fc96fb8b",
   "metadata": {},
   "source": [
    "This is some code to determine the language of a piece of text:"
   ]
  },
  {
   "cell_type": "code",
   "execution_count": null,
   "id": "3374fc47",
   "metadata": {},
   "outputs": [],
   "source": [
    "import spacy\n",
    "from spacy.language import Language\n",
    "from spacy_langdetect import LanguageDetector\n",
    "\n",
    "nlp = spacy.load('en_core_web_sm')\n",
    "\n",
    "@Language.factory(\"language_detector\")\n",
    "def get_lang_detector(nlp, name):\n",
    "    return LanguageDetector()\n",
    "\n",
    "nlp.add_pipe('language_detector', last=True)\n",
    "nlp(\"This is an English sentence. Ray rocks!\")._.language"
   ]
  },
  {
   "cell_type": "markdown",
   "id": "05d218ee",
   "metadata": {},
   "source": [
    "It gives both the language and a confidence score for that language.\n",
    "\n",
    "In order to run the code on the dataset, we should use Ray Data' built in support for actors since the `nlp` object is not serializable and we want to avoid having to recreate it for each individual sentence. We also batch the computation with the {meth}`map_batches <ray.data.Dataset.map_batches>` function to ensure spaCy can use more efficient vectorized operations where available:"
   ]
  },
  {
   "cell_type": "code",
   "execution_count": null,
   "id": "30648ced",
   "metadata": {},
   "outputs": [],
   "source": [
    "import spacy\n",
    "from spacy.language import Language\n",
    "from spacy_langdetect import LanguageDetector\n",
    "\n",
    "class SpacyBatchInference:\n",
    "    def __init__(self):\n",
    "        self.nlp = spacy.load('en_core_web_sm')\n",
    "\n",
    "        @Language.factory(\"language_detector\")\n",
    "        def get_lang_detector(nlp, name):\n",
    "           return LanguageDetector()\n",
    "\n",
    "        self.nlp.add_pipe('language_detector', last=True)\n",
    "\n",
    "    def __call__(self, df):\n",
    "        docs = list(self.nlp.pipe(list(df[\"text\"])))\n",
    "        df[\"language\"] = [doc._.language[\"language\"] for doc in docs]\n",
    "        df[\"score\"] = [doc._.language[\"score\"] for doc in docs]\n",
    "        return df\n",
    "\n",
    "results.limit(10).map_batches(SpacyBatchInference, compute=ray.data.ActorPoolStrategy())"
   ]
  },
  {
   "cell_type": "markdown",
   "id": "490bca7c",
   "metadata": {},
   "source": [
    "We can now get language statistics over the whole dataset:"
   ]
  },
  {
   "cell_type": "code",
   "execution_count": null,
   "id": "346ac322",
   "metadata": {},
   "outputs": [],
   "source": [
    "languages = results.map_batches(SpacyBatchInference, compute=ray.data.ActorPoolStrategy())\n",
    "languages.groupby(\"language\").count().show()"
   ]
  },
  {
   "cell_type": "markdown",
   "id": "c9453342",
   "metadata": {},
   "source": [
    "````{note}\n",
    "On the full LightShot dataset, you would get the following:\n",
    "```text\n",
    "{'language': 'UNKNOWN', 'count()': 2815}\n",
    "{'language': 'af', 'count()': 109}\n",
    "{'language': 'ca', 'count()': 268}\n",
    "{'language': 'cs', 'count()': 13}\n",
    "{'language': 'cy', 'count()': 80}\n",
    "{'language': 'da', 'count()': 33}\n",
    "{'language': 'de', 'count()': 281}\n",
    "{'language': 'en', 'count()': 5640}\n",
    "{'language': 'es', 'count()': 453}\n",
    "{'language': 'et', 'count()': 82}\n",
    "{'language': 'fi', 'count()': 32}\n",
    "{'language': 'fr', 'count()': 168}\n",
    "{'language': 'hr', 'count()': 143}\n",
    "{'language': 'hu', 'count()': 57}\n",
    "{'language': 'id', 'count()': 128}\n",
    "{'language': 'it', 'count()': 139}\n",
    "{'language': 'lt', 'count()': 17}\n",
    "{'language': 'lv', 'count()': 12}\n",
    "{'language': 'nl', 'count()': 982}\n",
    "{'language': 'no', 'count()': 56}\n",
    "```\n",
    "````\n",
    "\n",
    "\n",
    "We can now filter to include only the English documents and also sort them according to their score.\n",
    "\n",
    "```python\n",
    "languages.filter(lambda row: row[\"language\"] == \"en\").sort(\"score\", descending=True).take(1000)\n",
    "```\n",
    "\n",
    "If you are interested in this example and want to extend it, you can do the following for the full dataset:\n",
    "- go throught these results in order\n",
    "- create labels on whether the text is a chat conversation and then train a model like [Huggingface Transformers](https://huggingface.co/docs/transformers/) on the data.\n",
    "\n",
    "Contributions that extend the example in this direction with a PR are welcome!"
   ]
  },
  {
   "cell_type": "markdown",
   "id": "582546c8",
   "metadata": {},
   "source": []
  }
 ],
 "metadata": {
  "kernelspec": {
   "display_name": "Python 3",
   "language": "python",
   "name": "python3"
  }
 },
 "nbformat": 4,
 "nbformat_minor": 5
}
