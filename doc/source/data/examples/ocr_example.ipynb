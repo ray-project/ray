{
 "cells": [
  {
   "cell_type": "code",
   "execution_count": 1,
   "id": "009084d7",
   "metadata": {
    "tags": [
     "remove-cell"
    ]
   },
   "outputs": [],
   "source": [
    "# flake8: noqa\n",
    "import warnings\n",
    "import os\n",
    "\n",
    "# Suppress noisy requests warnings.\n",
    "warnings.filterwarnings(\"ignore\")\n",
    "os.environ[\"PYTHONWARNINGS\"] = \"ignore\""
   ]
  },
  {
   "cell_type": "markdown",
   "id": "78f185e0",
   "metadata": {},
   "source": [
    "# Scaling OCR using Ray Datasets\n",
    "\n",
    "In this example, we will show you how to run optical character recognition (OCR) on a set of documents and analyze the resulting text with the natural language processing library [spaCy](https://spacy.io/). Running OCR on a large dataset is very computationally expensive, so using Ray for distributed processing can really speed up the processing. Ray Datasets makes it easy to compose the different steps of the pipeline, namely the OCR and the natural language processing.\n",
    "\n",
    "To make it more interesting, we will run the analysis on the [LightShot](https://www.kaggle.com/datasets/datasnaek/lightshot) dataset. It is a large publicly available OCR dataset with a wide variety of different documents, all of them screen shots of various forms. It is easy to replace that dataset with your own data and adapt the example to your own use cases!\n",
    "\n",
    "## Overview\n",
    "\n",
    "This tutorial will cover:\n",
    " - Creating a Ray Dataset that represents the images in the dataset\n",
    " - Running the computationally expensive OCR process on each image in the dataset in parallel\n",
    " - Filtering out images that actually contain text\n",
    " - Performing various NLP operations on the text\n",
    "\n",
    "## Walkthrough\n",
    "\n",
    "Let's start by preparing the dependencies and downloading the dataset. First we install the OCR software `tesseract` and its Python client:\n",
    "\n",
    "````{tabbed} macOS\n",
    "```\n",
    "brew install tesseract\n",
    "pip install pytesseract\n",
    "```\n",
    "````\n",
    "\n",
    "````{tabbed} linux\n",
    "```\n",
    "sudo apt-get install tesseract-ocr\n",
    "pip install pytesseract\n",
    "```\n",
    "````\n",
    "\n",
    "By default, the following example will run on a tiny dataset we provide. If you want to run it on the full dataset, we recommend to run it on a cluster since processing all the images with tesseract takes a lot of time.\n",
    "\n",
    "````{note}\n",
    "If you want to run the example on the full [LightShot](https://www.kaggle.com/datasets/datasnaek/lightshot) dataset, you need to download the dataset and extract it. You can extract the dataset by first running `unzip archive.zip` and then `unrar x LightShot13k.rar <target>`.\n",
    "````"
   ]
  },
  {
   "cell_type": "markdown",
   "id": "14b5fc33",
   "metadata": {},
   "source": [
    "Let's now import Ray and initialize a local Ray cluster. If you want to run OCR at a very large scale, you should run this workload on a multi-node cluster."
   ]
  },
  {
   "cell_type": "code",
   "execution_count": 2,
   "id": "360ee311",
   "metadata": {
    "scrolled": true
   },
   "outputs": [
    {
     "name": "stderr",
     "output_type": "stream",
     "text": [
      "2022-06-21 18:14:02,451\tINFO services.py:1476 -- View the Ray dashboard at \u001b[1m\u001b[32mhttp://127.0.0.1:8265\u001b[39m\u001b[22m\n"
     ]
    }
   ],
   "source": [
    "# Import ray and initialize a local Ray cluster.\n",
    "import ray\n",
    "ray.init()\n",
    "\n",
    "# Download the tiny version of the dataset.\n",
    "import os\n",
    "import urllib.request\n",
    "\n",
    "tiny_dataset = [\n",
    "    \"https://upload.wikimedia.org/wikipedia/commons/2/27/QEMU_6.2_screenshot_%28cropped%29.png\",\n",
    "    \"https://upload.wikimedia.org/wikipedia/commons/c/ce/GNOME_Screenshot_3.32.png\",\n",
    "    \"https://upload.wikimedia.org/wikipedia/commons/f/f3/Miranda_IM_0.6.8_customized.png\",\n",
    "]\n",
    "\n",
    "OCR_DATA = \"/tmp/ocr_data/\"\n",
    "\n",
    "for i, url in enumerate(tiny_dataset):\n",
    "    os.makedirs(OCR_DATA, exist_ok=True)\n",
    "    urllib.request.urlretrieve(url, OCR_DATA + str(i) + \".png\")"
   ]
  },
  {
   "cell_type": "markdown",
   "id": "7148ed27",
   "metadata": {},
   "source": [
    "### Running the OCR software on the data\n",
    "\n",
    "We first create a list `files` of absolute paths of the file names and then convert it into a Ray Dataset with the `ray.data.from_items` function. We can now run the `.map` function on this dataset of file names to run the actual OCR process on each file and convert the screen shots into text. Note that we only store the paths of the filenames and the OCR'ed text in the dataset to keep the size of the dataset manageble. If you have large binary blobs like images or videos, it can be beneficial to store them outside of the dataset and store only the extracted information in the dataset."
   ]
  },
  {
   "cell_type": "code",
   "execution_count": 3,
   "id": "4ac63aaa",
   "metadata": {
    "tags": [
     "remove-output"
    ]
   },
   "outputs": [
    {
     "name": "stderr",
     "output_type": "stream",
     "text": [
      "2022-06-21 18:14:12,151\tWARNING dataset.py:3391 -- The `map`, `flat_map`, and `filter` operations are unvectorized and can be very slow. Consider using `.map_batches()` instead.\n",
      "Map: 100%|██████████| 3/3 [00:01<00:00,  2.40it/s]\n"
     ]
    }
   ],
   "source": [
    "import os\n",
    "from glob import glob\n",
    "import pytesseract\n",
    "\n",
    "files = glob(OCR_DATA + \"*\")\n",
    "ds = ray.data.from_items(files)\n",
    "\n",
    "def perform_ocr(path):\n",
    "    return {\"path\": path, \"text\": pytesseract.image_to_string(path)}\n",
    "\n",
    "results = ds.map(perform_ocr)"
   ]
  },
  {
   "cell_type": "markdown",
   "id": "db627bd4",
   "metadata": {},
   "source": [
    "Let us have a look at some of the data points with the `take` function."
   ]
  },
  {
   "cell_type": "code",
   "execution_count": 4,
   "id": "6082b936",
   "metadata": {},
   "outputs": [
    {
     "data": {
      "text/plain": [
       "[ArrowRow({'path': '/tmp/ocr_data/2.png',\n",
       "           'text': '© Viktor (Online) : Message Session\\n\\n“etto| © Whter | steno\\n\\nremus\\ntet? Fiviha\\n\\n17: dokonca to vie aj video @\\nViktor\\n\\n1818. 55 samozrejme\\n\\nremus\\n\\n‘e138: hmm\\n\\ntere: a skusal si to uz?\\n\\nViktor\\n\\na:18: €€\\n\\n1818: len moj brat to skusal\\nremus\\n\\nWA\\n\\nOG8hO38\\n\\nseettsgmailcom [0]\\nonline\\n\\n@ Heenan a\\n\\nOnline\\n\\nsero\\nBEE:..... 0088\\n@ ore\\n\\naway\\n\\nTue\\nhn\\n\\n& Wee\\n\\nYep, Tm here\\n\\n'}),\n",
       " ArrowRow({'path': '/tmp/ocr_data/1.png',\n",
       "           'text': 'Take Screenshot\\n\\n© Grab the whole screen\\nGrab the current window\\n\\n|_| eeeeeeter\\n\\nGrab after a delay of 0 +. seconds\\n\\nEffects\\nInclude pointer\\n¥ Include the window border\\n\\nApply effect: None Sa\\n'}),\n",
       " ArrowRow({'path': '/tmp/ocr_data/0.png',\n",
       "           'text': 'File Edit View Bookmarks\\n\\n[i New Tab [If] split view ~\\n\\n43044 kousekip\\n\\nPlugins\\n\\nkousekip:ako-kaede-mirai(htop)\\n\\nkousekip:ako-kaede-mirai(qemu-system-x86)\\n\\nSettings\\n\\nHelp\\n\\nkousekip:ako-kaede-miral(htop) — Konsole vax\\n\\nFl Paste Q Find\\n\\nEMU vax\\n\\nMachine View\\n\\nApplications Places System @)C) Fri Feb 18, 13:56\\n\\nTerminal\\n\\nroot root\\nroot sys\\nroot sys\\nroot sys\\nroot sys\\nroot sys\\nroot root\\nroot sys\\nroot bin\\nroot root\\nroot sys\\nroot root\\nroot sys\\nroot sys\\nroot root\\nroot root\\nroot root\\nroot sys\\nroot root\\nroot sys\\nroot sys\\n2 root —sys\\nkousekip@ako-kaede-mirai-sun:~$ If\\n\\nbin -> ./usr/bin\\nboot\\ndev\\ndevices\\netc\\nexport\\nhome\\nkernel\\nlib\\nmedia\\nmnt\\n\\nnet\\nopt\\nplatform\\nproc\\nroot\\nrpool\\nsbin\\nsystem\\n‘tmp\\nusr\\nvar\\n\\n@kousekip\\nidesktop\\n\\n©\\n\\n©\\n\\nBUNwnSunennh SnuNaeon\\n\\n(Documents\\nDownloads\\nGaMusic\\n\\n5\\n\\nBitrash\\nDevices\\n(Floppy Drive\\nNetwork\\n\\n@ Browse Netw...\\n\\n9\\n9\\n6\\n4\\n9\\n\\n53\\n5\\n6\\n4\\n9\\n10\\n0\\n6\\n18\\n7\\n\\nfovey\\\\aliarel(elare)\\n\\n'})]"
      ]
     },
     "execution_count": 4,
     "metadata": {},
     "output_type": "execute_result"
    }
   ],
   "source": [
    "results.take(10)"
   ]
  },
  {
   "cell_type": "markdown",
   "id": "8fb538dd",
   "metadata": {},
   "source": [
    "### Process the extracted text data with spaCy\n",
    "\n",
    "This is the part where the fun begins. Depending on your task there will be different needs for post processing, for example:\n",
    "- If you are scanning books or articles you might want to separate the text out into sections and paragraphs.\n",
    "- If you are scanning forms, receipts or checks, you might want to extract the different items listed, as well as extra information for those items like the price, or the total amount listed on the receipt or check.\n",
    "- If you are scanning legal documents, you might want to extract information like the type of document, who is mentioned in the document and more semantic information about what the document claims.\n",
    "- If you are scanning medical records, you might want to extract the patient name and the treatment history.\n",
    "\n",
    "In our specific example, let's try to determine all the documents in the LightShot dataset that are chat protocols and extract named entities in those documents. We will extract this data with spaCy. Let's first make sure the libraries are installed:"
   ]
  },
  {
   "cell_type": "code",
   "execution_count": null,
   "id": "d8ff6d32",
   "metadata": {},
   "outputs": [],
   "source": [
    "!pip install \"spacy>=3\"\n",
    "!python -m spacy download en_core_web_sm\n",
    "!pip install spacy_langdetect"
   ]
  },
  {
   "cell_type": "markdown",
   "id": "47137516",
   "metadata": {},
   "source": [
    "This is some code to determine the language of a piece of text:"
   ]
  },
  {
   "cell_type": "code",
   "execution_count": 5,
   "id": "d96cc002",
   "metadata": {},
   "outputs": [
    {
     "data": {
      "text/plain": [
       "{'language': 'en', 'score': 0.9999974450049829}"
      ]
     },
     "execution_count": 5,
     "metadata": {},
     "output_type": "execute_result"
    }
   ],
   "source": [
    "import spacy\n",
    "from spacy.language import Language\n",
    "from spacy_langdetect import LanguageDetector\n",
    "\n",
    "nlp = spacy.load('en_core_web_sm')\n",
    "\n",
    "@Language.factory(\"language_detector\")\n",
    "def get_lang_detector(nlp, name):\n",
    "    return LanguageDetector()\n",
    "\n",
    "nlp.add_pipe('language_detector', last=True)\n",
    "nlp(\"This is an English sentence. Ray rocks!\")._.language"
   ]
  },
  {
   "cell_type": "markdown",
   "id": "fdeee30b",
   "metadata": {},
   "source": [
    "It gives both the language and a confidence score for that language.\n",
    "\n",
    "In order to run the code on the dataset, we should use Ray Datasets' built in support for actors since the `nlp` object is not serializable and we want to avoid having to recreate it for each individual sentence:"
   ]
  },
  {
   "cell_type": "code",
   "execution_count": 7,
   "id": "9e60623f",
   "metadata": {},
   "outputs": [
    {
     "name": "stderr",
     "output_type": "stream",
     "text": [
      "Map Progress (1 actors 1 pending): 100%|██████████| 3/3 [00:07<00:00,  2.40s/it]\n"
     ]
    },
    {
     "data": {
      "text/plain": [
       "Dataset(num_blocks=3, num_rows=3, schema={path: string, text: string, language: string, score: double})"
      ]
     },
     "execution_count": 7,
     "metadata": {},
     "output_type": "execute_result"
    }
   ],
   "source": [
    "import spacy\n",
    "from spacy.language import Language\n",
    "from spacy_langdetect import LanguageDetector\n",
    "\n",
    "class SpacyBatchInference:\n",
    "    def __init__(self):\n",
    "        self.nlp = spacy.load('en_core_web_sm')\n",
    "\n",
    "        @Language.factory(\"language_detector\")\n",
    "        def get_lang_detector(nlp, name):\n",
    "           return LanguageDetector()\n",
    "\n",
    "        self.nlp.add_pipe('language_detector', last=True)\n",
    "\n",
    "    def __call__(self, row):\n",
    "        row = dict(row)\n",
    "        doc = self.nlp(row[\"text\"])\n",
    "        row[\"language\"] = doc._.language[\"language\"]\n",
    "        row[\"score\"] = doc._.language[\"score\"]\n",
    "        return row\n",
    "\n",
    "results.limit(10).map(SpacyBatchInference, compute=\"actors\")"
   ]
  },
  {
   "cell_type": "markdown",
   "id": "282fb66a",
   "metadata": {},
   "source": [
    "We can now get language statistics over the whole dataset:"
   ]
  },
  {
   "cell_type": "code",
   "execution_count": 8,
   "id": "70778f40",
   "metadata": {
    "scrolled": true
   },
   "outputs": [
    {
     "name": "stderr",
     "output_type": "stream",
     "text": [
      "Map Progress (1 actors 1 pending): 100%|██████████| 3/3 [00:05<00:00,  1.72s/it]\n",
      "Sort Sample: 100%|██████████| 3/3 [00:00<00:00, 257.45it/s]\n",
      "Shuffle Map: 100%|██████████| 3/3 [00:00<00:00, 211.76it/s]\n",
      "Shuffle Reduce: 100%|██████████| 3/3 [00:00<00:00, 407.50it/s]"
     ]
    },
    {
     "name": "stdout",
     "output_type": "stream",
     "text": [
      "{'language': 'af', 'count()': 1}\n",
      "{'language': 'en', 'count()': 2}\n"
     ]
    }
   ],
   "source": [
    "languages = results.map(SpacyBatchInference, compute=\"actors\")\n",
    "languages.groupby(\"language\").count().show()"
   ]
  },
  {
   "cell_type": "markdown",
   "id": "ffffc146",
   "metadata": {},
   "source": [
    "````{note}\n",
    "On the full LightShot dataset, you would get the following:\n",
    "```text\n",
    "{'language': 'UNKNOWN', 'count()': 2815}\n",
    "{'language': 'af', 'count()': 109}\n",
    "{'language': 'ca', 'count()': 268}\n",
    "{'language': 'cs', 'count()': 13}\n",
    "{'language': 'cy', 'count()': 80}\n",
    "{'language': 'da', 'count()': 33}\n",
    "{'language': 'de', 'count()': 281}\n",
    "{'language': 'en', 'count()': 5640}\n",
    "{'language': 'es', 'count()': 453}\n",
    "{'language': 'et', 'count()': 82}\n",
    "{'language': 'fi', 'count()': 32}\n",
    "{'language': 'fr', 'count()': 168}\n",
    "{'language': 'hr', 'count()': 143}\n",
    "{'language': 'hu', 'count()': 57}\n",
    "{'language': 'id', 'count()': 128}\n",
    "{'language': 'it', 'count()': 139}\n",
    "{'language': 'lt', 'count()': 17}\n",
    "{'language': 'lv', 'count()': 12}\n",
    "{'language': 'nl', 'count()': 982}\n",
    "{'language': 'no', 'count()': 56}\n",
    "```\n",
    "````"
   ]
  },
  {
   "cell_type": "markdown",
   "id": "524a2171",
   "metadata": {},
   "source": [
    "We can now filter to include only the English documents and also sort them according to their score."
   ]
  },
  {
   "cell_type": "code",
   "execution_count": 11,
   "id": "476df841",
   "metadata": {},
   "outputs": [
    {
     "name": "stderr",
     "output_type": "stream",
     "text": [
      "Filter: 100%|██████████| 3/3 [00:00<00:00, 568.28it/s]\n",
      "Sort Sample: 100%|██████████| 3/3 [00:00<00:00, 1765.03it/s]\n",
      "Shuffle Map: 100%|██████████| 3/3 [00:00<00:00, 581.06it/s]\n",
      "Shuffle Reduce: 100%|██████████| 3/3 [00:00<00:00, 673.71it/s]\n"
     ]
    },
    {
     "data": {
      "text/plain": [
       "[ArrowRow({'path': '/tmp/ocr_data/1.png',\n",
       "           'text': 'Take Screenshot\\n\\n© Grab the whole screen\\nGrab the current window\\n\\n|_| eeeeeeter\\n\\nGrab after a delay of 0 +. seconds\\n\\nEffects\\nInclude pointer\\n¥ Include the window border\\n\\nApply effect: None Sa\\n',\n",
       "           'language': 'en',\n",
       "           'score': 0.999997372590989}),\n",
       " ArrowRow({'path': '/tmp/ocr_data/2.png',\n",
       "           'text': '© Viktor (Online) : Message Session\\n\\n“etto| © Whter | steno\\n\\nremus\\ntet? Fiviha\\n\\n17: dokonca to vie aj video @\\nViktor\\n\\n1818. 55 samozrejme\\n\\nremus\\n\\n‘e138: hmm\\n\\ntere: a skusal si to uz?\\n\\nViktor\\n\\na:18: €€\\n\\n1818: len moj brat to skusal\\nremus\\n\\nWA\\n\\nOG8hO38\\n\\nseettsgmailcom [0]\\nonline\\n\\n@ Heenan a\\n\\nOnline\\n\\nsero\\nBEE:..... 0088\\n@ ore\\n\\naway\\n\\nTue\\nhn\\n\\n& Wee\\n\\nYep, Tm here\\n\\n',\n",
       "           'language': 'en',\n",
       "           'score': 0.7142816263267835})]"
      ]
     },
     "execution_count": 11,
     "metadata": {},
     "output_type": "execute_result"
    }
   ],
   "source": [
    "languages.filter(lambda row: row[\"language\"] == \"en\").sort(\"score\", descending=True).take(1000)"
   ]
  },
  {
   "cell_type": "markdown",
   "id": "3b62d8d0",
   "metadata": {},
   "source": [
    "If you are interested in this example and want to extend it, you can do the following for the full dataset:\n",
    "- go throught these results in order\n",
    "- create labels on whether the text is a chat conversation and then train a model like [Huggingface Transformers](https://huggingface.co/docs/transformers/) on the data.\n",
    "\n",
    "Contributions that extend the example in this direction with a PR are welcome!"
   ]
  }
 ],
 "metadata": {
  "celltoolbar": "Tags",
  "kernelspec": {
   "display_name": "Python 3",
   "language": "python",
   "name": "python3"
  },
  "language_info": {
   "codemirror_mode": {
    "name": "ipython",
    "version": 3
   },
   "file_extension": ".py",
   "mimetype": "text/x-python",
   "name": "python",
   "nbconvert_exporter": "python",
   "pygments_lexer": "ipython3",
   "version": "3.7.4"
  }
 },
 "nbformat": 4,
 "nbformat_minor": 5
}
